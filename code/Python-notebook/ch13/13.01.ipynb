{
 "cells": [
  {
   "cell_type": "markdown",
   "metadata": {},
   "source": [
    "## 13.1 主成分分析"
   ]
  },
  {
   "cell_type": "code",
   "execution_count": null,
   "metadata": {},
   "outputs": [],
   "source": [
    "import numpy as np\n",
    "import pandas as pd\n",
    "from pca import pca\n",
    "from scipy.stats import zscore\n",
    "\n",
    "my_data = pd.DataFrame(\n",
    "    {'language': [  0,  20,  20,  25,  22,  17],\n",
    "     'english':  [  0,  20,  40,  20,  24,  18],\n",
    "     'math':     [100,  20,   5,  30,  17,  25],\n",
    "     'science':  [  0,  20,   5,  25,  16,  23],\n",
    "     'society':  [  0,  20,  30,   0,  21,  17]},\n",
    "    index=       ['A', 'B', 'C', 'D', 'E', 'F'])\n",
    "my_model = pca(n_components=5)\n",
    "my_result = my_model.fit_transform(my_data) # 主成分分析の実行"
   ]
  },
  {
   "cell_type": "code",
   "execution_count": null,
   "metadata": {},
   "outputs": [],
   "source": [
    "my_result['PC'] # 主成分スコア\n",
    "#>          PC1        PC2 ...\n",
    "#> A  74.907282   7.010808 ...\n",
    "#> B -13.818842  -2.753459 ...\n",
    "#> C -33.714034  18.417290 ...\n",
    "#> D  -1.730630 -17.876372 ...\n",
    "#> E -17.837474   1.064998 ...\n",
    "#> F  -7.806303  -5.863266 ..."
   ]
  },
  {
   "cell_type": "code",
   "execution_count": null,
   "metadata": {},
   "outputs": [],
   "source": [
    "my_model.biplot(legend=False)"
   ]
  },
  {
   "cell_type": "code",
   "execution_count": null,
   "metadata": {},
   "outputs": [],
   "source": [
    "my_result['loadings']\n",
    "#>      language   english      math   science   society\n",
    "#> PC1 -0.207498 -0.304360  0.887261 -0.130198 -0.245204\n",
    "#> PC2 -0.279463  0.325052  0.097643 -0.702667  0.559435\n",
    "#> PC3  0.306117  0.615799  0.056345 -0.338446 -0.639815\n",
    "#> PC4  0.764943 -0.471697 -0.007655 -0.418045  0.132455\n",
    "#> PC5 -0.447214 -0.447214 -0.447214 -0.447214 -0.447214"
   ]
  },
  {
   "cell_type": "code",
   "execution_count": null,
   "metadata": {},
   "outputs": [],
   "source": [
    "my_result['explained_var']\n",
    "#> array([0.88848331, 0.97962854, 0.99858005, 1.        , 1.        ])"
   ]
  },
  {
   "cell_type": "markdown",
   "metadata": {},
   "source": [
    "### 13.1.1 標準化＋主成分分析"
   ]
  },
  {
   "cell_type": "code",
   "execution_count": null,
   "metadata": {},
   "outputs": [],
   "source": [
    "tmp = zscore(my_data, ddof=1) # 標準化\n",
    "my_result = my_model.fit_transform(\n",
    "    tmp)\n",
    "my_result['PC'] # 主成分スコア\n",
    "#>           PC1       PC2 ...\n",
    "#> 1.0  3.673722  0.568850 ...\n",
    "#> 1.0 -0.652879 -0.246926 ...\n",
    "#> 1.0 -1.568294  1.742598 ...\n",
    "#> 1.0 -0.250504 -1.640039 ...\n",
    "#> 1.0 -0.886186  0.110493 ...\n",
    "#> 1.0 -0.315858 -0.534976 ..."
   ]
  },
  {
   "cell_type": "markdown",
   "metadata": {},
   "source": [
    "### 13.1.2 補足：行列計算による再現"
   ]
  },
  {
   "cell_type": "code",
   "execution_count": null,
   "metadata": {},
   "outputs": [],
   "source": [
    "tmp = my_data - my_data.mean()\n",
    "Z  = np.matrix(tmp)                       # 標準化しない場合\n",
    "#Z = np.matrix(tmp / my_data.std(ddof=1)) # √不偏分散で標準化する場合\n",
    "#Z = np.matrix(tmp / my_data.std(ddof=0)) # pca(normalize=True)に合わせる場合\n",
    "\n",
    "n = len(my_data)\n",
    "S = np.cov(Z, rowvar=0, ddof=0) # 分散共分散行列\n",
    "#S = Z.T @ Z / n                # （同じ結果）\n",
    "vals, vecs = np.linalg.eig(S)   # 固有値と固有ベクトル\n",
    "idx = np.argsort(vals)[::-1]         # 固有値の大きい順の番号\n",
    "vals, vecs = vals[idx], vecs[:, idx] # 固有値の大きい順での並べ替え\n",
    "Z @ vecs                        # 主成分スコア（結果は割愛）\n",
    "vals.cumsum() / vals.sum()      # 累積寄与率\n",
    "#> array([0.88848331, 0.97962854, 0.99858005, 1.        , 1.        ])"
   ]
  },
  {
   "cell_type": "code",
   "execution_count": null,
   "metadata": {},
   "outputs": [],
   "source": [
    "U, d, V =  np.linalg.svd(Z, full_matrices=False)     # 特異値分解\n",
    "W = np.diag(d)\n",
    "\n",
    "[np.isclose(Z, U @ W @ V).all(),                     # 確認1\n",
    " np.isclose(U.T @ U, np.identity(U.shape[1])).all(), # 確認2\n",
    " np.isclose(V @ V.T, np.identity(V.shape[0])).all()] # 確認3\n",
    "#> [True, True, True]\n",
    "\n",
    "U @ W                # 主成分スコア（結果は割愛）\n",
    "\n",
    "e = d ** 2 / n       # 分散共分散行列の固有値\n",
    "e.cumsum() / e.sum() # 累積寄与率\n",
    "#> array([0.88848331, 0.97962854, 0.99858005, 1.        , 1.        ])"
   ]
  }
 ],
 "nbformat": 4,
 "nbformat_minor": 5,
 "metadata": {
  "kernelspec": {
   "name": "python3",
   "display_name": "Python 3"
  }
 }
}
