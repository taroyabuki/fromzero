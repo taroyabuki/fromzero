{
 "cells": [
  {
   "cell_type": "markdown",
   "metadata": {},
   "source": [
    "# 12"
   ]
  },
  {
   "cell_type": "code",
   "execution_count": null,
   "metadata": {},
   "outputs": [],
   "source": [
    "# Google Colaboratoryの環境設定\n",
    "!pip install pmdarima prophet | tail -n 1"
   ]
  },
  {
   "cell_type": "markdown",
   "metadata": {},
   "source": [
    "## 12.1 日時と日時の列\n",
    "\n",
    "### 12.1.1 日時"
   ]
  },
  {
   "cell_type": "code",
   "execution_count": null,
   "metadata": {},
   "outputs": [],
   "source": [
    "import pandas as pd\n",
    "pd.to_datetime('2020-01-01')\n",
    "#> Timestamp('2020-01-01 00:00:00')"
   ]
  },
  {
   "cell_type": "markdown",
   "metadata": {},
   "source": [
    "### 12.1.2 等間隔の日時"
   ]
  },
  {
   "cell_type": "code",
   "execution_count": null,
   "metadata": {},
   "outputs": [],
   "source": [
    "pd.date_range(start='2021-01-01', end='2023-01-01', freq='1A')\n",
    "#> DatetimeIndex(['2021-12-31', '2022-12-31'],\n",
    "#>               dtype='datetime64[ns]', freq='A-DEC')\n",
    "\n",
    "pd.date_range(start='2021-01-01', end='2023-01-01', freq='1AS')\n",
    "#> DatetimeIndex(['2021-01-01', '2022-01-01', '2023-01-01'],\n",
    "#>               dtype='datetime64[ns]', freq='AS-JAN')\n",
    "\n",
    "pd.date_range(start='2021-01-01', end='2021-03-01', freq='2M')\n",
    "#> DatetimeIndex(['2021-01-31'], dtype='datetime64[ns]', freq='2M')\n",
    "\n",
    "pd.date_range(start='2021-01-01', end='2021-03-01', freq='2MS')\n",
    "#> DatetimeIndex(['2021-01-01', '2021-03-01'],\n",
    "#>               dtype='datetime64[ns]', freq='2MS')\n",
    "\n",
    "pd.date_range(start='2021-01-01', end='2021-01-03', freq='1D')\n",
    "#> DatetimeIndex(['2021-01-01', '2021-01-02', '2021-01-03'],\n",
    "#>               dtype='datetime64[ns]', freq='D')\n",
    "\n",
    "pd.date_range(start='2021-01-01 00:00:00', end='2021-01-01 03:00:00', freq='2H')\n",
    "#> DatetimeIndex(['2021-01-01 00:00:00', '2021-01-01 02:00:00'],\n",
    "#>               dtype='datetime64[ns]', freq='2H')"
   ]
  },
  {
   "cell_type": "markdown",
   "metadata": {},
   "source": [
    "## 12.2 時系列データの予測\n",
    "\n",
    "### 12.2.1 データの準備"
   ]
  },
  {
   "cell_type": "code",
   "execution_count": null,
   "metadata": {},
   "outputs": [],
   "source": [
    "import matplotlib.pyplot as plt\n",
    "import pandas as pd\n",
    "from pmdarima.datasets import airpassengers\n",
    "from sklearn.metrics import mean_squared_error\n",
    "\n",
    "my_data = airpassengers.load_airpassengers()"
   ]
  },
  {
   "cell_type": "code",
   "execution_count": null,
   "metadata": {},
   "outputs": [],
   "source": [
    "n = len(my_data) # データ数（144）\n",
    "k = 108          # 訓練データ数"
   ]
  },
  {
   "cell_type": "code",
   "execution_count": null,
   "metadata": {},
   "outputs": [],
   "source": [
    "my_ds = pd.date_range(\n",
    "    start='1949/01/01',\n",
    "    end='1960/12/01',\n",
    "    freq='MS')\n",
    "my_df = pd.DataFrame({\n",
    "    'ds': my_ds,\n",
    "    'x': range(n),\n",
    "    'y': my_data},\n",
    "    index=my_ds)\n",
    "my_df.head()\n",
    "#>                    ds  x      y\n",
    "#> 1949-01-01 1949-01-01  0  112.0\n",
    "#> 1949-02-01 1949-02-01  1  118.0\n",
    "#> 1949-03-01 1949-03-01  2  132.0\n",
    "#> 1949-04-01 1949-04-01  3  129.0\n",
    "#> 1949-05-01 1949-05-01  4  121.0"
   ]
  },
  {
   "cell_type": "code",
   "execution_count": null,
   "metadata": {},
   "outputs": [],
   "source": [
    "my_train = my_df[        :k]\n",
    "my_test  = my_df[-(n - k): ]\n",
    "y = my_test.y"
   ]
  },
  {
   "cell_type": "code",
   "execution_count": null,
   "metadata": {},
   "outputs": [],
   "source": [
    "plt.plot(my_train.y, label='train')\n",
    "plt.plot(my_test.y,  label='test')\n",
    "plt.legend()"
   ]
  },
  {
   "cell_type": "markdown",
   "metadata": {},
   "source": [
    "### 12.2.2 線形回帰分析による時系列予測"
   ]
  },
  {
   "cell_type": "code",
   "execution_count": null,
   "metadata": {},
   "outputs": [],
   "source": [
    "from sklearn.linear_model import LinearRegression\n",
    "\n",
    "my_lm_model = LinearRegression()\n",
    "my_lm_model.fit(my_train[['x']], my_train.y)\n",
    "\n",
    "X = my_test[['x']]\n",
    "y_ = my_lm_model.predict(X)\n",
    "mean_squared_error(y, y_)**0.5 # RMSE（テスト）\n",
    "#> 70.63707081783771"
   ]
  },
  {
   "cell_type": "code",
   "execution_count": null,
   "metadata": {},
   "outputs": [],
   "source": [
    "y_ = my_lm_model.predict(my_df[['x']])\n",
    "tmp = pd.DataFrame(y_,\n",
    "                   index=my_df.index)\n",
    "plt.plot(my_train.y, label='train')\n",
    "plt.plot(my_test.y,  label='test')\n",
    "plt.plot(tmp, label='model')\n",
    "plt.legend()"
   ]
  },
  {
   "cell_type": "markdown",
   "metadata": {},
   "source": [
    "### 12.2.3 SARIMAによる時系列予測\n",
    "\n",
    "#### 12.2.3.1 モデルの構築"
   ]
  },
  {
   "cell_type": "code",
   "execution_count": null,
   "metadata": {},
   "outputs": [],
   "source": [
    "import pmdarima as pm\n",
    "my_arima_model = pm.auto_arima(my_train.y, m=12, trace=True)\n",
    "#> （省略）\n",
    "#> Best model:  ARIMA(1,1,0)(0,1,0)[12]\n",
    "#> Total fit time: 0.838 seconds"
   ]
  },
  {
   "cell_type": "markdown",
   "metadata": {},
   "source": [
    "#### 12.2.3.2 予測"
   ]
  },
  {
   "cell_type": "code",
   "execution_count": null,
   "metadata": {},
   "outputs": [],
   "source": [
    "y_, my_ci = my_arima_model.predict(len(my_test),         # 期間はテストデータと同じ．\n",
    "                                   alpha=0.05,           # 有意水準（デフォルト）\n",
    "                                   return_conf_int=True) # 信頼区間を求める．\n",
    "tmp = pd.DataFrame({'y': y_,\n",
    "                    'Lo': my_ci[:, 0],\n",
    "                    'Hi': my_ci[:, 1]},\n",
    "                   index=my_test.index)\n",
    "tmp.head()\n",
    "#>                      y          Lo          Hi\n",
    "#> 1958-01-01  345.964471  327.088699  364.840243\n",
    "#> 1958-02-01  331.731920  308.036230  355.427610\n",
    "#> 1958-03-01  386.787992  358.515741  415.060244\n",
    "#> 1958-04-01  378.774472  346.695454  410.853490\n",
    "#> 1958-05-01  385.777732  350.270765  421.284700"
   ]
  },
  {
   "cell_type": "code",
   "execution_count": null,
   "metadata": {},
   "outputs": [],
   "source": [
    "mean_squared_error(y, y_)**0.5\n",
    "#> 22.132236727738697"
   ]
  },
  {
   "cell_type": "code",
   "execution_count": null,
   "metadata": {},
   "outputs": [],
   "source": [
    "plt.plot(my_train.y, label='train')\n",
    "plt.plot(my_test.y,  label='test')\n",
    "plt.plot(tmp.y,      label='model')\n",
    "plt.fill_between(tmp.index,\n",
    "                 tmp.Lo,\n",
    "                 tmp.Hi,\n",
    "                 alpha=0.25) # 不透明度\n",
    "plt.legend(loc='upper left')"
   ]
  },
  {
   "cell_type": "markdown",
   "metadata": {},
   "source": [
    "### 12.2.4 Prophetによる時系列予測"
   ]
  },
  {
   "cell_type": "code",
   "execution_count": null,
   "metadata": {},
   "outputs": [],
   "source": [
    "try: from fbprophet import Prophet\n",
    "except ImportError: from prophet import Prophet\n",
    "my_prophet_model = Prophet(seasonality_mode='multiplicative')\n",
    "my_prophet_model.fit(my_train)"
   ]
  },
  {
   "cell_type": "code",
   "execution_count": null,
   "metadata": {},
   "outputs": [],
   "source": [
    "tmp = my_prophet_model.predict(my_test)\n",
    "tmp[['ds', 'yhat', 'yhat_lower', 'yhat_upper']].head()\n",
    "#>           ds        yhat  yhat_lower  yhat_upper\n",
    "#> 0 1958-01-01  359.239305  350.910898  368.464588\n",
    "#> 1 1958-02-01  350.690546  341.748862  359.964881\n",
    "#> 2 1958-03-01  407.188556  398.483316  415.463759\n",
    "#> 3 1958-04-01  398.481739  389.244105  406.742333\n",
    "#> 4 1958-05-01  402.595604  393.721421  411.331761"
   ]
  },
  {
   "cell_type": "code",
   "execution_count": null,
   "metadata": {},
   "outputs": [],
   "source": [
    "y_ = tmp.yhat\n",
    "mean_squared_error(y, y_)**0.5\n",
    "#> 33.795549086036466"
   ]
  },
  {
   "cell_type": "code",
   "execution_count": null,
   "metadata": {},
   "outputs": [],
   "source": [
    "# my_prophet_model.plot(tmp) # 予測結果のみでよい場合\n",
    "\n",
    "fig = my_prophet_model.plot(tmp)\n",
    "fig.axes[0].plot(my_train.ds, my_train.y)\n",
    "fig.axes[0].plot(my_test.ds, my_test.y, color='red')"
   ]
  }
 ],
 "nbformat": 4,
 "nbformat_minor": 5,
 "metadata": {
  "kernelspec": {
   "name": "python3",
   "display_name": "Python 3"
  }
 }
}
