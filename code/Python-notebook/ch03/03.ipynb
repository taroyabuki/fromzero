{
 "cells": [
  {
   "cell_type": "markdown",
   "metadata": {},
   "source": [
    "# 03\n",
    "\n",
    "## 3.1 入門\n",
    "\n",
    "### 3.1.1 数値"
   ]
  },
  {
   "cell_type": "code",
   "execution_count": null,
   "metadata": {},
   "outputs": [],
   "source": [
    "0x10\n",
    "#> 16"
   ]
  },
  {
   "cell_type": "code",
   "execution_count": null,
   "metadata": {},
   "outputs": [],
   "source": [
    "1.23e5\n",
    "#> 123000.0"
   ]
  },
  {
   "cell_type": "code",
   "execution_count": null,
   "metadata": {},
   "outputs": [],
   "source": [
    "2 * 3\n",
    "#> 6"
   ]
  },
  {
   "cell_type": "code",
   "execution_count": null,
   "metadata": {},
   "outputs": [],
   "source": [
    "10 / 3\n",
    "#> 0.3333333333333333"
   ]
  },
  {
   "cell_type": "code",
   "execution_count": null,
   "metadata": {},
   "outputs": [],
   "source": [
    "10 // 3 # 商\n",
    "#> 3\n",
    "\n",
    "10 % 3  # 余り\n",
    "#> 1"
   ]
  },
  {
   "cell_type": "markdown",
   "metadata": {},
   "source": [
    "### 3.1.2 変数"
   ]
  },
  {
   "cell_type": "code",
   "execution_count": null,
   "metadata": {},
   "outputs": [],
   "source": [
    "x = 2\n",
    "y = 3\n",
    "x * y\n",
    "#> 6\n",
    "\n",
    "x, y = 20, 30 # まとめて名付け\n",
    "x * y\n",
    "#> 600"
   ]
  },
  {
   "cell_type": "code",
   "execution_count": null,
   "metadata": {},
   "outputs": [],
   "source": [
    "x = 1 + 1\n",
    "# この段階では結果は表示されない\n",
    "\n",
    "x # 変数名を評価する．\n",
    "#> 2"
   ]
  },
  {
   "cell_type": "markdown",
   "metadata": {},
   "source": [
    "### 3.1.3 文字列"
   ]
  },
  {
   "cell_type": "code",
   "execution_count": null,
   "metadata": {},
   "outputs": [],
   "source": [
    "my_s = 'abcde'"
   ]
  },
  {
   "cell_type": "code",
   "execution_count": null,
   "metadata": {},
   "outputs": [],
   "source": [
    "len(my_s)\n",
    "#> 5"
   ]
  },
  {
   "cell_type": "code",
   "execution_count": null,
   "metadata": {},
   "outputs": [],
   "source": [
    "'This is' ' a' ' pen.'\n",
    "# あるいは\n",
    "'This is ' + 'a' + ' pen.'\n",
    "#> 'This is a pen.'"
   ]
  },
  {
   "cell_type": "code",
   "execution_count": null,
   "metadata": {},
   "outputs": [],
   "source": [
    "my_s[1:4]\n",
    "#> 'bcd'"
   ]
  },
  {
   "cell_type": "code",
   "execution_count": null,
   "metadata": {},
   "outputs": [],
   "source": [
    "tmp = \"{} is {}.\"\n",
    "tmp.format('This', 'a pen')\n",
    "#> 'This is a pen.'"
   ]
  },
  {
   "cell_type": "markdown",
   "metadata": {},
   "source": [
    "### 3.1.4 論理値"
   ]
  },
  {
   "cell_type": "code",
   "execution_count": null,
   "metadata": {},
   "outputs": [],
   "source": [
    "1 <= 2\n",
    "#> True\n",
    "\n",
    "1 < 0\n",
    "#> False"
   ]
  },
  {
   "cell_type": "code",
   "execution_count": null,
   "metadata": {},
   "outputs": [],
   "source": [
    "0.1 + 0.1 + 0.1 == 0.3\n",
    "#> False\n",
    "\n",
    "import math\n",
    "math.isclose(0.1 + 0.1 + 0.1, 0.3)\n",
    "#> True"
   ]
  },
  {
   "cell_type": "code",
   "execution_count": null,
   "metadata": {},
   "outputs": [],
   "source": [
    "True and False # 論理積（かつ）\n",
    "#> False\n",
    "\n",
    "True or False  # 論理和（または）\n",
    "#> True\n",
    "\n",
    "not True       # 否定（でない）\n",
    "#> False"
   ]
  },
  {
   "cell_type": "markdown",
   "metadata": {},
   "source": [
    "#### 3.1.4.1 条件演算子"
   ]
  },
  {
   "cell_type": "code",
   "execution_count": null,
   "metadata": {},
   "outputs": [],
   "source": [
    "0 if 3 < 5 else 10\n",
    "#> 0"
   ]
  },
  {
   "cell_type": "markdown",
   "metadata": {},
   "source": [
    "### 3.1.5 作業ディレクトリ"
   ]
  },
  {
   "cell_type": "code",
   "execution_count": null,
   "metadata": {},
   "outputs": [],
   "source": [
    "import os\n",
    "os.getcwd()\n",
    "#> '/home/jovyan/work'"
   ]
  },
  {
   "cell_type": "code",
   "execution_count": null,
   "metadata": {},
   "outputs": [],
   "source": [
    "os.chdir('..')\n",
    "os.getcwd()\n",
    "#> '/home/jovyan'"
   ]
  },
  {
   "cell_type": "markdown",
   "metadata": {},
   "source": [
    "## 3.2 関数\n",
    "\n",
    "### 3.2.1 関数の利用"
   ]
  },
  {
   "cell_type": "code",
   "execution_count": null,
   "metadata": {},
   "outputs": [],
   "source": [
    "import math\n",
    "math.sqrt(4)\n",
    "#> 2.0"
   ]
  },
  {
   "cell_type": "code",
   "execution_count": null,
   "metadata": {},
   "outputs": [],
   "source": [
    "math.log(100, 10)\n",
    "#> 2.0"
   ]
  },
  {
   "cell_type": "code",
   "execution_count": null,
   "metadata": {},
   "outputs": [],
   "source": [
    "math.log(100)         # 自然対数\n",
    "# あるいは\n",
    "math.log(100, math.e) # 省略しない場合\n",
    "\n",
    "#> 4.605170185988092"
   ]
  },
  {
   "cell_type": "code",
   "execution_count": null,
   "metadata": {},
   "outputs": [],
   "source": [
    "math.log10(100) # 常用対数\n",
    "#> 2.0\n",
    "\n",
    "math.log2(1024) # 底が2の対数\n",
    "#> 10.0"
   ]
  },
  {
   "cell_type": "markdown",
   "metadata": {},
   "source": [
    "#### 3.2.1.1 パイプ（Rのみ）\n",
    "\n",
    "### 3.2.2 関数の定義"
   ]
  },
  {
   "cell_type": "code",
   "execution_count": null,
   "metadata": {},
   "outputs": [],
   "source": [
    "def f(a, b):\n",
    "    return a - b"
   ]
  },
  {
   "cell_type": "code",
   "execution_count": null,
   "metadata": {},
   "outputs": [],
   "source": [
    "f(3, 5)\n",
    "#> -2"
   ]
  },
  {
   "cell_type": "markdown",
   "metadata": {},
   "source": [
    "#### 3.2.2.1 デフォルト引数"
   ]
  },
  {
   "cell_type": "code",
   "execution_count": null,
   "metadata": {},
   "outputs": [],
   "source": [
    "def f(a, b=5):\n",
    "    return a - b\n",
    "\n",
    "f(3) # f(3, 5)と同じこと\n",
    "#> -2"
   ]
  },
  {
   "cell_type": "markdown",
   "metadata": {},
   "source": [
    "#### 3.2.2.2 無名関数"
   ]
  },
  {
   "cell_type": "code",
   "execution_count": null,
   "metadata": {},
   "outputs": [],
   "source": [
    "(lambda a, b: a - b)(3, 5)\n",
    "#> -2"
   ]
  },
  {
   "cell_type": "markdown",
   "metadata": {},
   "source": [
    "## 3.3 コレクション\n",
    "\n",
    "### 3.3.1 1次元データ"
   ]
  },
  {
   "cell_type": "code",
   "execution_count": null,
   "metadata": {},
   "outputs": [],
   "source": [
    "x = ['foo', 'bar', 'baz']"
   ]
  },
  {
   "cell_type": "code",
   "execution_count": null,
   "metadata": {},
   "outputs": [],
   "source": [
    "len(x)\n",
    "#> 3"
   ]
  },
  {
   "cell_type": "code",
   "execution_count": null,
   "metadata": {},
   "outputs": [],
   "source": [
    "x[1]\n",
    "#> 'bar'"
   ]
  },
  {
   "cell_type": "code",
   "execution_count": null,
   "metadata": {},
   "outputs": [],
   "source": [
    "x[1] = 'BAR'\n",
    "x # 結果の確認\n",
    "#> ['foo', 'BAR', 'baz']\n",
    "\n",
    "x[1] = 'bar' # 元に戻す．"
   ]
  },
  {
   "cell_type": "code",
   "execution_count": null,
   "metadata": {},
   "outputs": [],
   "source": [
    "x[-2]\n",
    "#> 'bar'"
   ]
  },
  {
   "cell_type": "code",
   "execution_count": null,
   "metadata": {},
   "outputs": [],
   "source": [
    "x + ['qux']\n",
    "#> ['foo', 'bar', 'baz', 'qux']"
   ]
  },
  {
   "cell_type": "code",
   "execution_count": null,
   "metadata": {},
   "outputs": [],
   "source": [
    "x = x + ['qux']\n",
    "# あるいは\n",
    "#x.append('qux')\n",
    "\n",
    "x # 結果の確認\n",
    "#> ['foo', 'bar', 'baz', 'qux']"
   ]
  },
  {
   "cell_type": "markdown",
   "metadata": {},
   "source": [
    "#### 3.3.1.1 等間隔の数値からなる1次元データ"
   ]
  },
  {
   "cell_type": "code",
   "execution_count": null,
   "metadata": {},
   "outputs": [],
   "source": [
    "list(range(5))\n",
    "#> [0, 1, 2, 3, 4]"
   ]
  },
  {
   "cell_type": "code",
   "execution_count": null,
   "metadata": {},
   "outputs": [],
   "source": [
    "list(range(0, 11, 2))\n",
    "#> [0, 2, 4, 6, 8, 10]"
   ]
  },
  {
   "cell_type": "code",
   "execution_count": null,
   "metadata": {},
   "outputs": [],
   "source": [
    "import numpy as np\n",
    "np.arange(0, 1.1, 0.5)\n",
    "#> array([0. , 0.5, 1. ])"
   ]
  },
  {
   "cell_type": "code",
   "execution_count": null,
   "metadata": {},
   "outputs": [],
   "source": [
    "np.linspace(0, 100, 5)\n",
    "#> array([ 0., 25., 50., 75., 100.])"
   ]
  },
  {
   "cell_type": "code",
   "execution_count": null,
   "metadata": {},
   "outputs": [],
   "source": [
    "[10] * 5\n",
    "#> [10, 10, 10, 10, 10]"
   ]
  },
  {
   "cell_type": "markdown",
   "metadata": {},
   "source": [
    "#### 3.3.1.2 ファクタ（Rのみ）\n",
    "\n",
    "### 3.3.2 数値計算やデータ解析用の1次元データ"
   ]
  },
  {
   "cell_type": "code",
   "execution_count": null,
   "metadata": {},
   "outputs": [],
   "source": [
    "import numpy as np\n",
    "x = np.array([2, 3, 5, 7])\n",
    "\n",
    "x + 10 # 加算\n",
    "#> array([12, 13, 15, 17])\n",
    "\n",
    "x * 10 # 乗算\n",
    "#> array([20, 30, 50, 70])"
   ]
  },
  {
   "cell_type": "code",
   "execution_count": null,
   "metadata": {},
   "outputs": [],
   "source": [
    "x = [2, 3]\n",
    "np.sin(x)\n",
    "#> array([0.90929743, 0.14112001])"
   ]
  },
  {
   "cell_type": "code",
   "execution_count": null,
   "metadata": {},
   "outputs": [],
   "source": [
    "x = np.array([2,  3,   5,    7])\n",
    "y = np.array([1, 10, 100, 1000])\n",
    "x + y\n",
    "#> array([   3,   13,  105, 1007])\n",
    "\n",
    "x * y\n",
    "#> array([   2,   30,  500, 7000])"
   ]
  },
  {
   "cell_type": "code",
   "execution_count": null,
   "metadata": {},
   "outputs": [],
   "source": [
    "np.dot(x, y)\n",
    "# あるいは\n",
    "x @ y\n",
    "\n",
    "#> 7532"
   ]
  },
  {
   "cell_type": "code",
   "execution_count": null,
   "metadata": {},
   "outputs": [],
   "source": [
    "x = np.array([True, False])\n",
    "y = np.array([True, True])\n",
    "x & y\n",
    "#> array([ True, False])"
   ]
  },
  {
   "cell_type": "markdown",
   "metadata": {},
   "source": [
    "#### 3.3.2.1 1次元データ同士の比較"
   ]
  },
  {
   "cell_type": "code",
   "execution_count": null,
   "metadata": {},
   "outputs": [],
   "source": [
    "u = np.array([1, 2, 3])\n",
    "v = np.array([1, 2, 3])\n",
    "w = np.array([1, 2, 4])\n",
    "\n",
    "all(u == v) # 全体の比較\n",
    "#> True\n",
    "\n",
    "all(u == w) # 全体の比較\n",
    "#> False\n",
    "\n",
    "u == v      # 要素ごとの比較\n",
    "#> array([ True,  True,  True])\n",
    "\n",
    "u == w      # 要素ごとの比較\n",
    "#> array([ True,  True, False])"
   ]
  },
  {
   "cell_type": "code",
   "execution_count": null,
   "metadata": {},
   "outputs": [],
   "source": [
    "(u == w).sum()  # 同じ要素の数\n",
    "#> 2\n",
    "\n",
    "(u == w).mean() # 同じ要素の割合\n",
    "#> [1] 0.6666667"
   ]
  },
  {
   "cell_type": "markdown",
   "metadata": {},
   "source": [
    "### 3.3.3 複数種類のデータをひとまとめにする"
   ]
  },
  {
   "cell_type": "code",
   "execution_count": null,
   "metadata": {},
   "outputs": [],
   "source": [
    "x = [1, \"two\"]"
   ]
  },
  {
   "cell_type": "code",
   "execution_count": null,
   "metadata": {},
   "outputs": [],
   "source": [
    "x[1]\n",
    "#> 'two'"
   ]
  },
  {
   "cell_type": "markdown",
   "metadata": {},
   "source": [
    "### 3.3.4 文字列と値のペアのコレクション"
   ]
  },
  {
   "cell_type": "code",
   "execution_count": null,
   "metadata": {},
   "outputs": [],
   "source": [
    "x = {'apple' : 'りんご',\n",
    "     'orange': 'みかん'}"
   ]
  },
  {
   "cell_type": "code",
   "execution_count": null,
   "metadata": {},
   "outputs": [],
   "source": [
    "x['grape'] = 'ぶどう'"
   ]
  },
  {
   "cell_type": "code",
   "execution_count": null,
   "metadata": {},
   "outputs": [],
   "source": [
    "x['apple']\n",
    "# あるいは\n",
    "tmp = 'apple'\n",
    "x[tmp]\n",
    "\n",
    "#> 'りんご'"
   ]
  },
  {
   "cell_type": "markdown",
   "metadata": {},
   "source": [
    "### 3.3.5 補足：コピーと参照"
   ]
  },
  {
   "cell_type": "code",
   "execution_count": null,
   "metadata": {},
   "outputs": [],
   "source": [
    "x = ['foo', 'bar', 'baz']\n",
    "y = x\n",
    "y[1] = 'BAR' # yを更新する．\n",
    "y\n",
    "#> ['foo', 'BAR', 'baz']\n",
    "\n",
    "x            # xも変わる．\n",
    "#> ['foo', 'BAR', 'baz']"
   ]
  },
  {
   "cell_type": "code",
   "execution_count": null,
   "metadata": {},
   "outputs": [],
   "source": [
    "x = ['foo', 'bar', 'baz']\n",
    "y = x.copy()             # 「y = x」とせずに，コピーする．\n",
    "x == y, x is y\n",
    "#> (True, False)         # xとyは，等価（内容は同じ）だが同一ではない．\n",
    "\n",
    "y[1] = 'BAR'             # yを更新しても，\n",
    "x\n",
    "#> ['foo', 'bar', 'baz'] # xは変化しない．"
   ]
  },
  {
   "cell_type": "markdown",
   "metadata": {},
   "source": [
    "## 3.4 データフレーム\n",
    "\n",
    "### 3.4.1 データフレームの作成"
   ]
  },
  {
   "cell_type": "code",
   "execution_count": null,
   "metadata": {},
   "outputs": [],
   "source": [
    "import pandas as pd"
   ]
  },
  {
   "cell_type": "markdown",
   "metadata": {},
   "source": [
    "#### 3.4.1.1 データを列ごとに記述する方法"
   ]
  },
  {
   "cell_type": "code",
   "execution_count": null,
   "metadata": {},
   "outputs": [],
   "source": [
    "my_df = pd.DataFrame({\n",
    "    'name':    ['A', 'B', 'C', 'D'],\n",
    "    'english': [ 60,  90,  70,  90],\n",
    "    'math':    [ 70,  80,  90, 100],\n",
    "    'gender':  ['f', 'm', 'm', 'f']})"
   ]
  },
  {
   "cell_type": "markdown",
   "metadata": {},
   "source": [
    "#### 3.4.1.2 データを見た目のとおりに記述する方法"
   ]
  },
  {
   "cell_type": "code",
   "execution_count": null,
   "metadata": {},
   "outputs": [],
   "source": [
    "my_df = pd.DataFrame([\n",
    "    ['A', 60,  70, 'f'],\n",
    "    ['B', 90,  80, 'm'],\n",
    "    ['C', 70,  90, 'm'],\n",
    "    ['D', 90, 100, 'f']],\n",
    "    columns=['name', 'english',\n",
    "             'math', 'gender'])"
   ]
  },
  {
   "cell_type": "code",
   "execution_count": null,
   "metadata": {},
   "outputs": [],
   "source": [
    "my_df.head()\n",
    "# 結果は割愛"
   ]
  },
  {
   "cell_type": "markdown",
   "metadata": {},
   "source": [
    "#### 3.4.1.3 データフレームのサイズ"
   ]
  },
  {
   "cell_type": "code",
   "execution_count": null,
   "metadata": {},
   "outputs": [],
   "source": [
    "r, c = my_df.shape # 行数と列数\n",
    "r, c\n",
    "#> (4, 4)\n",
    "\n",
    "r # 行数（len(my_df)も可）\n",
    "#> 4\n",
    "\n",
    "c # 列数\n",
    "#> 4"
   ]
  },
  {
   "cell_type": "markdown",
   "metadata": {},
   "source": [
    "#### 3.4.1.4 組合せ"
   ]
  },
  {
   "cell_type": "code",
   "execution_count": null,
   "metadata": {},
   "outputs": [],
   "source": [
    "from itertools import product\n",
    "my_df2 = pd.DataFrame(\n",
    "    product([1, 2, 3],\n",
    "            [10, 100]),\n",
    "    columns=['X', 'Y'])\n",
    "my_df2\n",
    "#>    X    Y\n",
    "#> 0  1   10\n",
    "#> 1  1  100\n",
    "#> 2  2   10\n",
    "#> 3  2  100\n",
    "#> 4  3   10\n",
    "#> 5  3  100"
   ]
  },
  {
   "cell_type": "markdown",
   "metadata": {},
   "source": [
    "#### 3.4.1.5 列と行の名前"
   ]
  },
  {
   "cell_type": "code",
   "execution_count": null,
   "metadata": {},
   "outputs": [],
   "source": [
    "my_df2.columns\n",
    "#> Index(['X', 'Y'], dtype='object')"
   ]
  },
  {
   "cell_type": "code",
   "execution_count": null,
   "metadata": {},
   "outputs": [],
   "source": [
    "my_df2.columns = ['P', 'Q']\n",
    "my_df2\n",
    "#>    P    Q\n",
    "#> 0  1   10\n",
    "#> 1  1  100\n",
    "# 以下省略"
   ]
  },
  {
   "cell_type": "code",
   "execution_count": null,
   "metadata": {},
   "outputs": [],
   "source": [
    "list(my_df.index)\n",
    "#> [0, 1, 2, 3]"
   ]
  },
  {
   "cell_type": "code",
   "execution_count": null,
   "metadata": {},
   "outputs": [],
   "source": [
    "my_df2.index = [\n",
    "    'a', 'b', 'c', 'd', 'e', 'f']\n",
    "my_df2\n",
    "#>    P    Q\n",
    "#> a  1   10\n",
    "#> b  1  100\n",
    "#> c  2   10\n",
    "# 以下省略"
   ]
  },
  {
   "cell_type": "code",
   "execution_count": null,
   "metadata": {},
   "outputs": [],
   "source": [
    "my_df3 = pd.DataFrame({\n",
    "    'english': [ 60,  90,  70,  90],\n",
    "    'math':    [ 70,  80,  90, 100],\n",
    "    'gender':  ['f', 'm', 'm', 'f']},\n",
    "    index=     ['A', 'B', 'C', 'D'])\n",
    "my_df3\n",
    "#>    english  math gender\n",
    "#> A       60    70      f\n",
    "#> B       90    80      m\n",
    "#> C       70    90      m\n",
    "#> D       90   100      f"
   ]
  },
  {
   "cell_type": "markdown",
   "metadata": {},
   "source": [
    "### 3.4.2 データの追加\n",
    "\n",
    "#### 3.4.2.1 行の追加（データフレームの結合）"
   ]
  },
  {
   "cell_type": "code",
   "execution_count": null,
   "metadata": {},
   "outputs": [],
   "source": [
    "tmp = pd.DataFrame({\n",
    "    'name'   : ['E'],\n",
    "    'english': [80],\n",
    "    'math'   : [80],\n",
    "    'gender' : ['m']})\n",
    "my_df2 = my_df.append(tmp)"
   ]
  },
  {
   "cell_type": "markdown",
   "metadata": {},
   "source": [
    "#### 3.4.2.2 列の追加"
   ]
  },
  {
   "cell_type": "code",
   "execution_count": null,
   "metadata": {},
   "outputs": [],
   "source": [
    "my_df2 = my_df.assign(id=[1, 2, 3, 4])"
   ]
  },
  {
   "cell_type": "code",
   "execution_count": null,
   "metadata": {},
   "outputs": [],
   "source": [
    "my_df3 = my_df.copy()       # コピー\n",
    "my_df3['id'] = [1, 2, 3, 4] # 更新\n",
    "my_df3 # 結果の確認（割愛）"
   ]
  },
  {
   "cell_type": "markdown",
   "metadata": {},
   "source": [
    "### 3.4.3 データの取り出し\n",
    "\n",
    "#### 3.4.3.1 観測値の取り出し"
   ]
  },
  {
   "cell_type": "code",
   "execution_count": null,
   "metadata": {},
   "outputs": [],
   "source": [
    "my_df.iloc[0, 1]\n",
    "#> 60"
   ]
  },
  {
   "cell_type": "markdown",
   "metadata": {},
   "source": [
    "#### 3.4.3.2 1列の取り出し（結果は1次元データ）"
   ]
  },
  {
   "cell_type": "code",
   "execution_count": null,
   "metadata": {},
   "outputs": [],
   "source": [
    "x = my_df.iloc[:, 1]\n",
    "# あるいは\n",
    "x = my_df['english']\n",
    "# あるいは\n",
    "x = my_df.english\n",
    "# あるいは\n",
    "tmp = 'english'\n",
    "x = my_df[tmp]\n",
    "\n",
    "x # 結果の確認（割愛）"
   ]
  },
  {
   "cell_type": "markdown",
   "metadata": {},
   "source": [
    "#### 3.4.3.3 複数列の取り出し（結果はデータフレーム）"
   ]
  },
  {
   "cell_type": "code",
   "execution_count": null,
   "metadata": {},
   "outputs": [],
   "source": [
    "x = my_df[['name', 'math']]\n",
    "# あるいは\n",
    "x = my_df.loc[:, ['name', 'math']]"
   ]
  },
  {
   "cell_type": "code",
   "execution_count": null,
   "metadata": {},
   "outputs": [],
   "source": [
    "x = my_df.take([0, 2], axis=1)\n",
    "# あるいは\n",
    "x = my_df.iloc[:, [0, 2]]"
   ]
  },
  {
   "cell_type": "code",
   "execution_count": null,
   "metadata": {},
   "outputs": [],
   "source": [
    "x = my_df.drop(\n",
    "    columns=['english', 'gender'])\n",
    "# あるいは\n",
    "x = my_df.drop(\n",
    "    columns=my_df.columns[[1, 3]])"
   ]
  },
  {
   "cell_type": "markdown",
   "metadata": {},
   "source": [
    "#### 3.4.3.4 複数行の取り出し（結果はデータフレーム）"
   ]
  },
  {
   "cell_type": "code",
   "execution_count": null,
   "metadata": {},
   "outputs": [],
   "source": [
    "x = my_df.take([0, 2])\n",
    "# あるいは\n",
    "x = my_df.iloc[[0, 2], :]"
   ]
  },
  {
   "cell_type": "code",
   "execution_count": null,
   "metadata": {},
   "outputs": [],
   "source": [
    "x = my_df.drop([1, 3])"
   ]
  },
  {
   "cell_type": "markdown",
   "metadata": {},
   "source": [
    "#### 3.4.3.5 検索"
   ]
  },
  {
   "cell_type": "code",
   "execution_count": null,
   "metadata": {},
   "outputs": [],
   "source": [
    "x = my_df[my_df['gender'] == 'm']\n",
    "# あるいは\n",
    "x = my_df.query('gender == \"m\"')"
   ]
  },
  {
   "cell_type": "code",
   "execution_count": null,
   "metadata": {},
   "outputs": [],
   "source": [
    "x = my_df[(my_df['english'] > 80) & (my_df['gender'] == \"m\")]\n",
    "# あるいは\n",
    "x = my_df.query('english > 80 and gender == \"m\"')"
   ]
  },
  {
   "cell_type": "code",
   "execution_count": null,
   "metadata": {},
   "outputs": [],
   "source": [
    "x = my_df[my_df['english'] == my_df['english'].max()]\n",
    "# あるいは\n",
    "tmp = my_df['english'].max()\n",
    "x = my_df.query('english == @tmp')"
   ]
  },
  {
   "cell_type": "code",
   "execution_count": null,
   "metadata": {},
   "outputs": [],
   "source": [
    "my_df2 = my_df.copy() # コピー\n",
    "my_df2.loc[my_df['gender'] == 'm', 'gender'] = 'M'"
   ]
  },
  {
   "cell_type": "code",
   "execution_count": null,
   "metadata": {},
   "outputs": [],
   "source": [
    "my_df2\n",
    "#>   name  english  math gender\n",
    "#> 0    A       60    70      f\n",
    "#> 1    B       90    80      M\n",
    "#> 2    C       70    90      M\n",
    "#> 3    D       90   100      f"
   ]
  },
  {
   "cell_type": "markdown",
   "metadata": {},
   "source": [
    "#### 3.4.3.6 並べ替え"
   ]
  },
  {
   "cell_type": "code",
   "execution_count": null,
   "metadata": {},
   "outputs": [],
   "source": [
    "x = my_df.sort_values('english')"
   ]
  },
  {
   "cell_type": "code",
   "execution_count": null,
   "metadata": {},
   "outputs": [],
   "source": [
    "x = my_df.sort_values('english',\n",
    "    ascending=False)"
   ]
  },
  {
   "cell_type": "markdown",
   "metadata": {},
   "source": [
    "### 3.4.4 補足：行列\n",
    "\n",
    "#### 3.4.4.1 行列の生成"
   ]
  },
  {
   "cell_type": "code",
   "execution_count": null,
   "metadata": {},
   "outputs": [],
   "source": [
    "import numpy as np\n",
    "x = [2, 3, 5, 7, 11, 13, 17, 19, 23,\n",
    "     29, 31, 37]\n",
    "A = np.array(x).reshape(3, 4)\n",
    "A\n",
    "#> array([[ 2,  3,  5,  7],\n",
    "#>        [11, 13, 17, 19],\n",
    "#>        [23, 29, 31, 37]])"
   ]
  },
  {
   "cell_type": "markdown",
   "metadata": {},
   "source": [
    "#### 3.4.4.2 データフレームと行列"
   ]
  },
  {
   "cell_type": "code",
   "execution_count": null,
   "metadata": {},
   "outputs": [],
   "source": [
    "A = my_df.iloc[:, [1, 2]].values\n",
    "A\n",
    "#> array([[ 60,  70],\n",
    "#>        [ 90,  80],\n",
    "#>        [ 70,  90],\n",
    "#>        [ 90, 100]])"
   ]
  },
  {
   "cell_type": "code",
   "execution_count": null,
   "metadata": {},
   "outputs": [],
   "source": [
    "pd.DataFrame(A)\n",
    "#>     0    1\n",
    "#> 0  60   70\n",
    "#> 1  90   80\n",
    "#> 2  70   90\n",
    "#> 3  90  100"
   ]
  },
  {
   "cell_type": "markdown",
   "metadata": {},
   "source": [
    "#### 3.4.4.3 行列の変形"
   ]
  },
  {
   "cell_type": "code",
   "execution_count": null,
   "metadata": {},
   "outputs": [],
   "source": [
    "A.T\n",
    "#> array([[ 60,  90,  70,  90],\n",
    "#>        [ 70,  80,  90, 100]])"
   ]
  },
  {
   "cell_type": "markdown",
   "metadata": {},
   "source": [
    "#### 3.4.4.4 行列の積"
   ]
  },
  {
   "cell_type": "code",
   "execution_count": null,
   "metadata": {},
   "outputs": [],
   "source": [
    "A.T @ A\n",
    "#> array([[24700, 26700],\n",
    "#>        [26700, 29400]])"
   ]
  },
  {
   "cell_type": "markdown",
   "metadata": {},
   "source": [
    "### 3.4.5 縦型と横型"
   ]
  },
  {
   "cell_type": "code",
   "execution_count": null,
   "metadata": {},
   "outputs": [],
   "source": [
    "my_df = pd.DataFrame({\n",
    "    'day': [25, 26, 27],\n",
    "    'min': [20, 21, 15],\n",
    "    'max': [24, 27, 21]})"
   ]
  },
  {
   "cell_type": "code",
   "execution_count": null,
   "metadata": {},
   "outputs": [],
   "source": [
    "my_longer = my_df.melt(id_vars='day')\n",
    "my_longer\n",
    "#>    day variable  value\n",
    "#> 0   25      min     20\n",
    "#> 1   26      min     21\n",
    "#> 2   27      min     15\n",
    "#> 3   25      max     24\n",
    "#> 4   26      max     27\n",
    "#> 5   27      max     21"
   ]
  },
  {
   "cell_type": "code",
   "execution_count": null,
   "metadata": {},
   "outputs": [],
   "source": [
    "my_wider = my_longer.pivot(\n",
    "    index='day',\n",
    "    columns='variable',\n",
    "    values='value')\n",
    "my_wider\n",
    "#> variable  max  min\n",
    "#> day\n",
    "#> 25         24   20\n",
    "#> 26         27   21\n",
    "#> 27         21   15"
   ]
  },
  {
   "cell_type": "code",
   "execution_count": null,
   "metadata": {},
   "outputs": [],
   "source": [
    "my_wider.plot(\n",
    "    style='o-',\n",
    "    xticks=my_wider.index, # x軸目盛り\n",
    "    ylabel='temperature')  # y軸ラベル"
   ]
  },
  {
   "cell_type": "markdown",
   "metadata": {},
   "source": [
    "## 3.5 1次元データの（非）類似度\n",
    "\n",
    "### 3.5.1 ユークリッド距離"
   ]
  },
  {
   "cell_type": "code",
   "execution_count": null,
   "metadata": {},
   "outputs": [],
   "source": [
    "import numpy as np\n",
    "from scipy.spatial import distance\n",
    "from scipy.stats import pearsonr\n",
    "\n",
    "A = np.array([3,   4,  5])\n",
    "B = np.array([3,   4, 29])\n",
    "C = np.array([9, -18,  8])\n",
    "\n",
    "distance.euclidean(A, B)\n",
    "#> 24.0\n",
    "\n",
    "distance.euclidean(A, C)\n",
    "#> 23.0"
   ]
  },
  {
   "cell_type": "markdown",
   "metadata": {},
   "source": [
    "### 3.5.2 マンハッタン距離"
   ]
  },
  {
   "cell_type": "code",
   "execution_count": null,
   "metadata": {},
   "outputs": [],
   "source": [
    "distance.cityblock(A, B)\n",
    "#> 24\n",
    "\n",
    "distance.cityblock(A, C)\n",
    "#> 31"
   ]
  },
  {
   "cell_type": "markdown",
   "metadata": {},
   "source": [
    "### 3.5.3 コサイン類似度"
   ]
  },
  {
   "cell_type": "code",
   "execution_count": null,
   "metadata": {},
   "outputs": [],
   "source": [
    "1 - distance.cosine(A, B)\n",
    "#> 0.8169678632647616\n",
    "\n",
    "1 - distance.cosine(A, C)\n",
    "#> -0.032651157422416865"
   ]
  },
  {
   "cell_type": "markdown",
   "metadata": {},
   "source": [
    "### 3.5.4 相関係数"
   ]
  },
  {
   "cell_type": "code",
   "execution_count": null,
   "metadata": {},
   "outputs": [],
   "source": [
    "1 - distance.correlation(A, B)\n",
    "# あるいは\n",
    "pearsonr(A, B)[0]\n",
    "#> 0.8824975032927698\n",
    "\n",
    "1 - distance.correlation(A, C)\n",
    "# あるいは\n",
    "pearsonr(A, C)[0]\n",
    "#> -0.032662766723200676"
   ]
  },
  {
   "cell_type": "markdown",
   "metadata": {},
   "source": [
    "#### 3.5.4.1 データフレームを使う方法"
   ]
  },
  {
   "cell_type": "code",
   "execution_count": null,
   "metadata": {},
   "outputs": [],
   "source": [
    "# 小数点以下は3桁表示\n",
    "np.set_printoptions(precision=3)\n",
    "import pandas as pd\n",
    "\n",
    "my_df = pd.DataFrame({\n",
    "    'x': [3,  3,   9],\n",
    "    'y': [4,  4, -18],\n",
    "    'z': [5, 29,   8]},\n",
    "    index=['A', 'B', 'C'])\n",
    "\n",
    "# ユークリッド距離\n",
    "distance.cdist(my_df, my_df,\n",
    "               metric='euclidean')\n",
    "#> array([[ 0., 24., 23.],\n",
    "#>        [24.,  0., 31.],\n",
    "#>        [23., 31.,  0.]])\n",
    "\n",
    "# マンハッタン距離\n",
    "distance.cdist(my_df, my_df,\n",
    "               metric='cityblock')\n",
    "#> array([[ 0., 24., 31.],\n",
    "#>        [24.,  0., 49.],\n",
    "#>        [31., 49.,  0.]])\n",
    "\n",
    "# コサイン類似度\n",
    "1 - distance.cdist(my_df, my_df,\n",
    "    metric='cosine')\n",
    "#> array([[ 1.   ,  0.817, -0.033],\n",
    "#>        [ 0.817,  1.   ,  0.293],\n",
    "#>        [-0.033,  0.293,  1.   ]])\n",
    "\n",
    "# 相関係数\n",
    "1 - distance.cdist(my_df, my_df,\n",
    "    metric='correlation')\n",
    "#> array([[ 1.   ,  0.882, -0.033],\n",
    "#>        [ 0.882,  1.   ,  0.441],\n",
    "#>        [-0.033,  0.441,  1.   ]])"
   ]
  },
  {
   "cell_type": "markdown",
   "metadata": {},
   "source": [
    "## 3.6 Rのパッケージ，Pythonのモジュール\n",
    "\n",
    "### 3.6.1 Rのパッケージ\n",
    "\n",
    "### 3.6.2 Pythonのモジュール"
   ]
  },
  {
   "cell_type": "code",
   "execution_count": null,
   "metadata": {},
   "outputs": [],
   "source": [
    "import math\n",
    "import numpy as np\n",
    "import pandas as pd"
   ]
  },
  {
   "cell_type": "code",
   "execution_count": null,
   "metadata": {},
   "outputs": [],
   "source": [
    "import numpy\n",
    "numpy.array([1, 2, 3, 4])"
   ]
  },
  {
   "cell_type": "code",
   "execution_count": null,
   "metadata": {},
   "outputs": [],
   "source": [
    "import numpy as np\n",
    "np.array([1, 2, 3, 4])"
   ]
  },
  {
   "cell_type": "code",
   "execution_count": null,
   "metadata": {},
   "outputs": [],
   "source": [
    "from numpy import array\n",
    "array([1, 2, 3, 4])"
   ]
  },
  {
   "cell_type": "code",
   "execution_count": null,
   "metadata": {},
   "outputs": [],
   "source": [
    "from numpy import *\n",
    "array([1, 2, 3, 4])"
   ]
  },
  {
   "cell_type": "markdown",
   "metadata": {},
   "source": [
    "## 3.7 反復処理"
   ]
  },
  {
   "cell_type": "code",
   "execution_count": null,
   "metadata": {},
   "outputs": [],
   "source": [
    "import numpy as np\n",
    "import pandas as pd"
   ]
  },
  {
   "cell_type": "markdown",
   "metadata": {},
   "source": [
    "### 3.7.1 指定した回数→1次元データ"
   ]
  },
  {
   "cell_type": "code",
   "execution_count": null,
   "metadata": {},
   "outputs": [],
   "source": [
    "def f1(x):\n",
    "    tmp = np.random.random(x)\n",
    "    return np.mean(tmp)\n",
    "\n",
    "f1(10)                # 動作確認\n",
    "#> 0.5427033207230424 # 結果の例"
   ]
  },
  {
   "cell_type": "code",
   "execution_count": null,
   "metadata": {},
   "outputs": [],
   "source": [
    "[f1(10) for i in range(3)]\n",
    "#> [0.4864425069985622,\n",
    "#>  0.4290935578857099,\n",
    "#>  0.535206509631883]"
   ]
  },
  {
   "cell_type": "code",
   "execution_count": null,
   "metadata": {},
   "outputs": [],
   "source": [
    "[f1(10)] * 3\n",
    "#> [0.43725641184595576,\n",
    "#>  0.43725641184595576,\n",
    "#>  0.43725641184595576]"
   ]
  },
  {
   "cell_type": "markdown",
   "metadata": {},
   "source": [
    "### 3.7.2 1次元データ→1次元データ"
   ]
  },
  {
   "cell_type": "code",
   "execution_count": null,
   "metadata": {},
   "outputs": [],
   "source": [
    "v = [5, 10, 100]\n",
    "[f1(x) for x in v] # 方法1\n",
    "#> [0.454, 0.419, 0.552]\n",
    "\n",
    "# あるいは\n",
    "\n",
    "v = pd.Series([5, 10, 100])\n",
    "v.apply(f1)        # 方法2\n",
    "#> 0    0.394206\n",
    "#> 1    0.503949\n",
    "#> 2    0.532698\n",
    "#> dtype: float64"
   ]
  },
  {
   "cell_type": "code",
   "execution_count": null,
   "metadata": {},
   "outputs": [],
   "source": [
    "pd.Series([10] * 3).apply(f1)\n",
    "# 結果は割愛"
   ]
  },
  {
   "cell_type": "markdown",
   "metadata": {},
   "source": [
    "### 3.7.3 1次元データ→データフレーム"
   ]
  },
  {
   "cell_type": "code",
   "execution_count": null,
   "metadata": {},
   "outputs": [],
   "source": [
    "def f2(n):\n",
    "    tmp = np.random.random(n)\n",
    "    return pd.Series([\n",
    "        n,\n",
    "        tmp.mean(),\n",
    "        tmp.std(ddof=1)],\n",
    "        index=['x', 'p', 'q'])\n",
    "\n",
    "f2(10) # 動作確認\n",
    "#> x    10.000000\n",
    "#> p     0.405898 （平均の例）\n",
    "#> q     0.317374 （標準偏差の例）\n",
    "#> dtype: float64"
   ]
  },
  {
   "cell_type": "code",
   "execution_count": null,
   "metadata": {},
   "outputs": [],
   "source": [
    "v = pd.Series([5, 10, 100])\n",
    "v.apply(f2)\n",
    "#>        x         p         q\n",
    "#> 0    5.0  0.507798  0.207970\n",
    "#> 1   10.0  0.687198  0.264427\n",
    "#> 2  100.0  0.487872  0.280743"
   ]
  },
  {
   "cell_type": "markdown",
   "metadata": {},
   "source": [
    "### 3.7.4 データフレーム→データフレーム"
   ]
  },
  {
   "cell_type": "code",
   "execution_count": null,
   "metadata": {},
   "outputs": [],
   "source": [
    "def f3(x, y):\n",
    "    tmp = np.random.random(x) * y\n",
    "    return pd.Series([\n",
    "        x,\n",
    "        y,\n",
    "        tmp.mean(),\n",
    "        tmp.std(ddof=1)],\n",
    "        index=['x', 'y', 'p', 'q'])\n",
    "\n",
    "f3(10, 6) # 動作確認\n",
    "#> x    10.000000\n",
    "#> y     6.000000\n",
    "#> p     2.136413 （平均の例）\n",
    "#> q     1.798755 （標準偏差の例）\n",
    "#> dtype: float64"
   ]
  },
  {
   "cell_type": "code",
   "execution_count": null,
   "metadata": {},
   "outputs": [],
   "source": [
    "my_df = pd.DataFrame({\n",
    "    'x': [5, 10, 100,  5, 10, 100],\n",
    "    'y': [6,  6,   6, 12, 12,  12]})\n",
    "\n",
    "my_df.apply(\n",
    "  lambda row: f3(row['x'], row['y']),\n",
    "  axis=1)\n",
    "# あるいは\n",
    "my_df.apply(lambda row:\n",
    "            f3(*row), axis=1)\n",
    "\n",
    "#>        x     y    p    q\n",
    "#> 0   5.00  6.00 3.37 1.96\n",
    "#> 1  10.00  6.00 1.92 0.95\n",
    "#> 2 100.00  6.00 2.90 1.73\n",
    "#> 3   5.00 12.00 6.82 3.00\n",
    "#> 4  10.00 12.00 7.05 2.42\n",
    "#> 5 100.00 12.00 5.90 3.54"
   ]
  },
  {
   "cell_type": "markdown",
   "metadata": {},
   "source": [
    "### 3.7.5 補足：反復処理の並列化"
   ]
  },
  {
   "cell_type": "code",
   "execution_count": null,
   "metadata": {},
   "outputs": [],
   "source": [
    "from pandarallel import pandarallel\n",
    "pandarallel.initialize() # 準備\n",
    "\n",
    "v = pd.Series([5, 10, 100])\n",
    "v.parallel_apply(f1)\n",
    "# 結果は割愛"
   ]
  },
  {
   "cell_type": "markdown",
   "metadata": {},
   "source": [
    "## 3.8 その他\n",
    "\n",
    "### 3.8.1 よく遭遇するエラーとその対処方法\n",
    "\n",
    "### 3.8.2 変数や関数についての調査"
   ]
  },
  {
   "cell_type": "code",
   "execution_count": null,
   "metadata": {},
   "outputs": [],
   "source": [
    "x = 123\n",
    "type(x)\n",
    "#> int"
   ]
  },
  {
   "cell_type": "code",
   "execution_count": null,
   "metadata": {},
   "outputs": [],
   "source": [
    "%whos\n",
    "#> Variable   Type      Data/Info\n",
    "#> ------------------------------\n",
    "#> x          int       123"
   ]
  },
  {
   "cell_type": "code",
   "execution_count": null,
   "metadata": {},
   "outputs": [],
   "source": [
    "import math\n",
    "?math.log\n",
    "# あるいは\n",
    "help(math.log)"
   ]
  },
  {
   "cell_type": "markdown",
   "metadata": {},
   "source": [
    "### 3.8.3 RのNA，Pythonのnan"
   ]
  },
  {
   "cell_type": "code",
   "execution_count": null,
   "metadata": {},
   "outputs": [],
   "source": [
    "import numpy as np\n",
    "v = [1, np.nan, 3]\n",
    "v\n",
    "#> [1, nan, 3]"
   ]
  },
  {
   "cell_type": "code",
   "execution_count": null,
   "metadata": {},
   "outputs": [],
   "source": [
    "np.isnan(v[1])\n",
    "#> True\n",
    "\n",
    "v[1] == np.nan # 誤り\n",
    "#> False"
   ]
  }
 ],
 "nbformat": 4,
 "nbformat_minor": 5,
 "metadata": {
  "kernelspec": {
   "name": "python3",
   "display_name": "Python 3"
  }
 }
}
