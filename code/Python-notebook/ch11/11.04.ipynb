{
 "cells": [
  {
   "cell_type": "markdown",
   "metadata": {},
   "source": [
    "## 11.4 AutoML\n",
    "\n",
    "### 11.4.1 H2Oの起動と停止"
   ]
  },
  {
   "cell_type": "code",
   "execution_count": null,
   "metadata": {},
   "outputs": [],
   "source": [
    "import h2o\n",
    "import pandas as pd\n",
    "import tensorflow as tf\n",
    "from h2o.automl import H2OAutoML\n",
    "from random import sample\n",
    "\n",
    "h2o.init()\n",
    "h2o.no_progress()\n",
    "# h2o.cluster().shutdown() # 停止"
   ]
  },
  {
   "cell_type": "markdown",
   "metadata": {},
   "source": [
    "### 11.4.2 H2Oのデータフレーム"
   ]
  },
  {
   "cell_type": "code",
   "execution_count": null,
   "metadata": {},
   "outputs": [],
   "source": [
    "my_url = ('https://raw.githubusercontent.com/taroyabuki'\n",
    "          '/fromzero/master/data/wine.csv')\n",
    "my_data = pd.read_csv(my_url)\n",
    "my_frame = h2o.H2OFrame(my_data) # 通常のデータフレームをH2OFrameに変換する．\n",
    "# あるいは\n",
    "my_frame = h2o.import_file(my_url, header=1) # データを読み込む．"
   ]
  },
  {
   "cell_type": "code",
   "execution_count": null,
   "metadata": {},
   "outputs": [],
   "source": [
    "my_frame.head(5)\n",
    "#>   LPRICE2    WRAIN    DEGREES  ...\n",
    "#> ---------  -------  ---------  ...\n",
    "#>  -0.99868      600    17.1167  ...\n",
    "#>  -0.4544       690    16.7333  ...\n",
    "#>  -0.80796      502    17.15    ...\n",
    "#>  -1.50926      420    16.1333  ...\n",
    "#>  -1.71655      582    16.4167  ...\n",
    "\n",
    "# 通常のデータフレームに戻す．\n",
    "h2o.as_list(my_frame).head()\n",
    "# 結果は割愛（見た目は同じ）"
   ]
  },
  {
   "cell_type": "markdown",
   "metadata": {},
   "source": [
    "### 11.4.3 AutoMLによる回帰"
   ]
  },
  {
   "cell_type": "code",
   "execution_count": null,
   "metadata": {},
   "outputs": [],
   "source": [
    "my_model = H2OAutoML(\n",
    "    max_runtime_secs=60)\n",
    "my_model.train(\n",
    "    y='LPRICE2',\n",
    "    training_frame=my_frame)"
   ]
  },
  {
   "cell_type": "code",
   "execution_count": null,
   "metadata": {},
   "outputs": [],
   "source": [
    "my_model.leaderboard['rmse'].min()\n",
    "#> 0.2704643402377778"
   ]
  },
  {
   "cell_type": "code",
   "execution_count": null,
   "metadata": {},
   "outputs": [],
   "source": [
    "tmp = h2o.as_list(\n",
    "    my_model.predict(my_frame))\n",
    "\n",
    "pd.DataFrame({\n",
    "    'y': my_data['LPRICE2'],\n",
    "    'y_': tmp['predict']}\n",
    ").plot('y', 'y_', kind='scatter')"
   ]
  },
  {
   "cell_type": "markdown",
   "metadata": {},
   "source": [
    "### 11.4.4 AutoMLによる分類"
   ]
  },
  {
   "cell_type": "code",
   "execution_count": null,
   "metadata": {},
   "outputs": [],
   "source": [
    "(x_train, y_train), (x_test, y_test) = tf.keras.datasets.mnist.load_data()\n",
    "my_index = sample(range(60000), 6000)\n",
    "x_train = x_train[my_index, :, :]\n",
    "y_train = y_train[my_index]"
   ]
  },
  {
   "cell_type": "code",
   "execution_count": null,
   "metadata": {},
   "outputs": [],
   "source": [
    "tmp = pd.DataFrame(\n",
    "    x_train.reshape(-1, 28 * 28))\n",
    "y = 'y'\n",
    "tmp[y] = y_train\n",
    "my_train = h2o.H2OFrame(tmp)\n",
    "my_train[y] = my_train[y].asfactor()\n",
    "\n",
    "tmp = pd.DataFrame(\n",
    "    x_test.reshape(-1, 28 * 28))\n",
    "my_test = h2o.H2OFrame(tmp)"
   ]
  },
  {
   "cell_type": "code",
   "execution_count": null,
   "metadata": {},
   "outputs": [],
   "source": [
    "my_model = H2OAutoML(\n",
    "    max_runtime_secs=120)\n",
    "my_model.train(\n",
    "    y=y,\n",
    "    training_frame=my_train)"
   ]
  },
  {
   "cell_type": "code",
   "execution_count": null,
   "metadata": {},
   "outputs": [],
   "source": [
    "my_model.leaderboard[\n",
    "    'mean_per_class_error'].min()\n",
    "#> 0.06803754348177862"
   ]
  },
  {
   "cell_type": "code",
   "execution_count": null,
   "metadata": {},
   "outputs": [],
   "source": [
    "tmp = h2o.as_list(\n",
    "    my_model.predict(my_test))\n",
    "y_ = tmp.predict\n",
    "\n",
    "(y_ == y_test).mean()\n",
    "#> 0.938"
   ]
  }
 ],
 "nbformat": 4,
 "nbformat_minor": 5,
 "metadata": {
  "kernelspec": {
   "name": "python3",
   "display_name": "Python 3"
  }
 }
}
