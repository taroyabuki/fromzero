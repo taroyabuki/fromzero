{
 "cells": [
  {
   "cell_type": "markdown",
   "metadata": {},
   "source": [
    "## 3.3 コレクション\n",
    "\n",
    "### 3.3.1 1次元データ"
   ]
  },
  {
   "cell_type": "code",
   "execution_count": null,
   "metadata": {},
   "outputs": [],
   "source": [
    "x <- c(\"foo\", \"bar\", \"baz\")"
   ]
  },
  {
   "cell_type": "code",
   "execution_count": null,
   "metadata": {},
   "outputs": [],
   "source": [
    "length(x)\n",
    "#> [1] 3"
   ]
  },
  {
   "cell_type": "code",
   "execution_count": null,
   "metadata": {},
   "outputs": [],
   "source": [
    "x[2]\n",
    "#> [1] \"bar\""
   ]
  },
  {
   "cell_type": "code",
   "execution_count": null,
   "metadata": {},
   "outputs": [],
   "source": [
    "x[2] <- \"BAR\"\n",
    "x # 結果の確認\n",
    "#> [1] \"foo\" \"BAR\" \"baz\"\n",
    "\n",
    "x[2] <- \"bar\" # 元に戻す．"
   ]
  },
  {
   "cell_type": "code",
   "execution_count": null,
   "metadata": {},
   "outputs": [],
   "source": [
    "x[-2]\n",
    "#> [1] \"foo\" \"baz\""
   ]
  },
  {
   "cell_type": "code",
   "execution_count": null,
   "metadata": {},
   "outputs": [],
   "source": [
    "c(x, \"qux\")\n",
    "#> [1] \"foo\" \"bar\" \"baz\" \"qux\""
   ]
  },
  {
   "cell_type": "code",
   "execution_count": null,
   "metadata": {},
   "outputs": [],
   "source": [
    "x <- c(x, \"qux\")\n",
    "x # 結果の確認\n",
    "#> [1] \"foo\" \"bar\" \"baz\" \"qux\""
   ]
  },
  {
   "cell_type": "markdown",
   "metadata": {},
   "source": [
    "#### 3.3.1.1 等間隔の数値からなる1次元データ"
   ]
  },
  {
   "cell_type": "code",
   "execution_count": null,
   "metadata": {},
   "outputs": [],
   "source": [
    "1:5\n",
    "#> [1] 1 2 3 4 5"
   ]
  },
  {
   "cell_type": "code",
   "execution_count": null,
   "metadata": {},
   "outputs": [],
   "source": [
    "seq(from = 0, to = 10, by = 2)\n",
    "#> [1]  0  2  4  6  8 10"
   ]
  },
  {
   "cell_type": "code",
   "execution_count": null,
   "metadata": {},
   "outputs": [],
   "source": [
    "seq(from = 0, to = 1, by = 0.5)\n",
    "#> [1] 0.0 0.5 1.0"
   ]
  },
  {
   "cell_type": "code",
   "execution_count": null,
   "metadata": {},
   "outputs": [],
   "source": [
    "seq(from = 0, to = 100, length.out = 5)\n",
    "#> [1]   0  25  50  75 100"
   ]
  },
  {
   "cell_type": "code",
   "execution_count": null,
   "metadata": {},
   "outputs": [],
   "source": [
    "rep(x = 10, times = 5)\n",
    "#> [1] 10 10 10 10 10"
   ]
  },
  {
   "cell_type": "markdown",
   "metadata": {},
   "source": [
    "#### 3.3.1.2 ファクタ（Rのみ）"
   ]
  },
  {
   "cell_type": "code",
   "execution_count": null,
   "metadata": {},
   "outputs": [],
   "source": [
    "tmp <- c(\"グー\", \"パー\", \"グー\", \"パー\")\n",
    "x <- factor(tmp, levels = c(\"グー\", \"チョキ\", \"パー\"))\n",
    "x\n",
    "#> [1] グー パー グー パー\n",
    "#> Levels: グー チョキ パー"
   ]
  },
  {
   "cell_type": "markdown",
   "metadata": {},
   "source": [
    "### 3.3.2 数値計算やデータ解析用の1次元データ"
   ]
  },
  {
   "cell_type": "code",
   "execution_count": null,
   "metadata": {},
   "outputs": [],
   "source": [
    "x <- c(2, 3, 5, 7)\n",
    "\n",
    "x + 10 # 加算\n",
    "#> [1] 12 13 15 17\n",
    "\n",
    "x * 10 # 乗算\n",
    "#> [1] 20 30 50 70"
   ]
  },
  {
   "cell_type": "code",
   "execution_count": null,
   "metadata": {},
   "outputs": [],
   "source": [
    "x <- c(2, 3)\n",
    "sin(x)\n",
    "#> [1] 0.9092974 0.1411200"
   ]
  },
  {
   "cell_type": "code",
   "execution_count": null,
   "metadata": {},
   "outputs": [],
   "source": [
    "x <- c(2,  3,   5,    7)\n",
    "y <- c(1, 10, 100, 1000)\n",
    "x + y\n",
    "#> [1]    3   13  105 1007\n",
    "\n",
    "x * y\n",
    "#> [1]    2   30  500 7000"
   ]
  },
  {
   "cell_type": "code",
   "execution_count": null,
   "metadata": {},
   "outputs": [],
   "source": [
    "sum(x * y)\n",
    "#> [1] 7532"
   ]
  },
  {
   "cell_type": "code",
   "execution_count": null,
   "metadata": {},
   "outputs": [],
   "source": [
    "x <- c(TRUE, FALSE)\n",
    "y <- c(TRUE, TRUE)\n",
    "x & y\n",
    "#> [1]  TRUE FALSE"
   ]
  },
  {
   "cell_type": "markdown",
   "metadata": {},
   "source": [
    "#### 3.3.2.1 1次元データ同士の比較"
   ]
  },
  {
   "cell_type": "code",
   "execution_count": null,
   "metadata": {},
   "outputs": [],
   "source": [
    "u <- c(1, 2, 3)\n",
    "v <- c(1, 2, 3)\n",
    "w <- c(1, 2, 4)\n",
    "\n",
    "identical(u, v) # 全体の比較\n",
    "#> [1] TRUE\n",
    "\n",
    "identical(u, w) # 全体の比較\n",
    "#> [1] FALSE\n",
    "\n",
    "u == v          # 要素ごとの比較\n",
    "#> [1] TRUE TRUE TRUE\n",
    "\n",
    "u == w          # 要素ごとの比較\n",
    "#> [1]  TRUE  TRUE FALSE"
   ]
  },
  {
   "cell_type": "code",
   "execution_count": null,
   "metadata": {},
   "outputs": [],
   "source": [
    "sum(u == w)  # 同じ要素の数\n",
    "#> [1] 2\n",
    "\n",
    "mean(u == w) # 同じ要素の割合\n",
    "#> [1] 0.6666667"
   ]
  },
  {
   "cell_type": "markdown",
   "metadata": {},
   "source": [
    "### 3.3.3 複数種類のデータをひとまとめにする"
   ]
  },
  {
   "cell_type": "code",
   "execution_count": null,
   "metadata": {},
   "outputs": [],
   "source": [
    "x <- list(1, \"two\")"
   ]
  },
  {
   "cell_type": "code",
   "execution_count": null,
   "metadata": {},
   "outputs": [],
   "source": [
    "x[[2]]\n",
    "#> [1] \"two\""
   ]
  },
  {
   "cell_type": "markdown",
   "metadata": {},
   "source": [
    "### 3.3.4 文字列と値のペアのコレクション"
   ]
  },
  {
   "cell_type": "code",
   "execution_count": null,
   "metadata": {},
   "outputs": [],
   "source": [
    "x <- list(\"apple\"  = \"りんご\",\n",
    "          \"orange\" = \"みかん\")"
   ]
  },
  {
   "cell_type": "code",
   "execution_count": null,
   "metadata": {},
   "outputs": [],
   "source": [
    "x[[\"grape\"]] <- \"ぶどう\""
   ]
  },
  {
   "cell_type": "code",
   "execution_count": null,
   "metadata": {},
   "outputs": [],
   "source": [
    "x$apple\n",
    "# あるいは\n",
    "x$\"apple\"\n",
    "# あるいは\n",
    "x[[\"apple\"]]\n",
    "# あるいは\n",
    "tmp <- \"apple\"\n",
    "x[[tmp]]\n",
    "\n",
    "#> [1] \"りんご\""
   ]
  },
  {
   "cell_type": "markdown",
   "metadata": {},
   "source": [
    "### 3.3.5 補足：コピーと参照"
   ]
  },
  {
   "cell_type": "code",
   "execution_count": null,
   "metadata": {},
   "outputs": [],
   "source": [
    "x <- c(\"foo\", \"bar\", \"baz\")\n",
    "y <- x\n",
    "y[2] <- \"BAR\" # yを更新する．\n",
    "y\n",
    "#> [1] \"foo\" \"BAR\" \"baz\"\n",
    "\n",
    "x             # xは変わらない．\n",
    "#> [1] \"foo\" \"bar\" \"baz\""
   ]
  }
 ],
 "nbformat": 4,
 "nbformat_minor": 5,
 "metadata": {
  "kernelspec": {
   "name": "ir",
   "display_name": "R"
  }
 }
}
