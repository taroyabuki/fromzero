{
 "cells": [
  {
   "cell_type": "markdown",
   "metadata": {},
   "source": [
    "## 3.1 入門\n",
    "\n",
    "### 3.1.1 数値"
   ]
  },
  {
   "cell_type": "code",
   "execution_count": null,
   "metadata": {},
   "outputs": [],
   "source": [
    "0x10\n",
    "#> [1] 16"
   ]
  },
  {
   "cell_type": "code",
   "execution_count": null,
   "metadata": {},
   "outputs": [],
   "source": [
    "1.23e5\n",
    "#> [1] 123000"
   ]
  },
  {
   "cell_type": "code",
   "execution_count": null,
   "metadata": {},
   "outputs": [],
   "source": [
    "2 * 3\n",
    "#> [1] 6"
   ]
  },
  {
   "cell_type": "code",
   "execution_count": null,
   "metadata": {},
   "outputs": [],
   "source": [
    "10 / 3\n",
    "#> [1] 0.3333333"
   ]
  },
  {
   "cell_type": "code",
   "execution_count": null,
   "metadata": {},
   "outputs": [],
   "source": [
    "10 %/% 3 # 商\n",
    "#> [1] 3\n",
    "\n",
    "10 %% 3  # 余り\n",
    "#> [1] 1"
   ]
  },
  {
   "cell_type": "markdown",
   "metadata": {},
   "source": [
    "### 3.1.2 変数"
   ]
  },
  {
   "cell_type": "code",
   "execution_count": null,
   "metadata": {},
   "outputs": [],
   "source": [
    "x <- 2\n",
    "y <- 3\n",
    "x * y\n",
    "#> [1] 6\n",
    "\n",
    "library(keras)\n",
    "c(x, y) %<-% c(20, 30) # まとめて名付け\n",
    "x * y\n",
    "#> [1] 600"
   ]
  },
  {
   "cell_type": "code",
   "execution_count": null,
   "metadata": {},
   "outputs": [],
   "source": [
    "x <- 1 + 1\n",
    "# この段階では結果は表示されない\n",
    "\n",
    "x # 変数名を評価する．\n",
    "#> [1] 2"
   ]
  },
  {
   "cell_type": "markdown",
   "metadata": {},
   "source": [
    "### 3.1.3 文字列"
   ]
  },
  {
   "cell_type": "code",
   "execution_count": null,
   "metadata": {},
   "outputs": [],
   "source": [
    "my_s <- \"abcde\""
   ]
  },
  {
   "cell_type": "code",
   "execution_count": null,
   "metadata": {},
   "outputs": [],
   "source": [
    "nchar(my_s)\n",
    "#> [1] 5"
   ]
  },
  {
   "cell_type": "code",
   "execution_count": null,
   "metadata": {},
   "outputs": [],
   "source": [
    "library(tidyverse)\n",
    "str_c(\"This is \", \"a\", \" pen.\")\n",
    "#> [1] \"This is a pen.\""
   ]
  },
  {
   "cell_type": "code",
   "execution_count": null,
   "metadata": {},
   "outputs": [],
   "source": [
    "substr(x = my_s, start = 2, stop = 4)\n",
    "#> [1] \"bcd\""
   ]
  },
  {
   "cell_type": "code",
   "execution_count": null,
   "metadata": {},
   "outputs": [],
   "source": [
    "tmp <- \"%s is %s.\"\n",
    "sprintf(tmp, \"This\", \"a pen\")\n",
    "#> [1] \"This is a pen.\""
   ]
  },
  {
   "cell_type": "markdown",
   "metadata": {},
   "source": [
    "### 3.1.4 論理値"
   ]
  },
  {
   "cell_type": "code",
   "execution_count": null,
   "metadata": {},
   "outputs": [],
   "source": [
    "1 <= 2\n",
    "#> [1] TRUE\n",
    "\n",
    "1 < 0\n",
    "#> [1] FALSE"
   ]
  },
  {
   "cell_type": "code",
   "execution_count": null,
   "metadata": {},
   "outputs": [],
   "source": [
    "0.1 + 0.1 + 0.1 == 0.3\n",
    "#> [1] FALSE\n",
    "\n",
    "all.equal(0.1 + 0.1 + 0.1, 0.3)\n",
    "#> [1] TRUE"
   ]
  },
  {
   "cell_type": "code",
   "execution_count": null,
   "metadata": {},
   "outputs": [],
   "source": [
    "TRUE & FALSE # 論理積（かつ）\n",
    "#> [1] FALSE\n",
    "\n",
    "TRUE | FALSE # 論理和（または）\n",
    "#> [1] TRUE\n",
    "\n",
    "!TRUE        # 否定（でない）\n",
    "#> [1] FALSE"
   ]
  },
  {
   "cell_type": "markdown",
   "metadata": {},
   "source": [
    "#### 3.1.4.1 条件演算子"
   ]
  },
  {
   "cell_type": "code",
   "execution_count": null,
   "metadata": {},
   "outputs": [],
   "source": [
    "ifelse(3 < 5, 0, 10)\n",
    "#> 0"
   ]
  },
  {
   "cell_type": "markdown",
   "metadata": {},
   "source": [
    "### 3.1.5 作業ディレクトリ"
   ]
  },
  {
   "cell_type": "code",
   "execution_count": null,
   "metadata": {},
   "outputs": [],
   "source": [
    "getwd()\n",
    "#> '/home/jovyan/work'"
   ]
  },
  {
   "cell_type": "code",
   "execution_count": null,
   "metadata": {},
   "outputs": [],
   "source": [
    "setwd(\"..\")\n",
    "getwd()\n",
    "#> '/home/jovyan'"
   ]
  }
 ],
 "nbformat": 4,
 "nbformat_minor": 5,
 "metadata": {
  "kernelspec": {
   "name": "ir",
   "display_name": "R"
  }
 }
}
