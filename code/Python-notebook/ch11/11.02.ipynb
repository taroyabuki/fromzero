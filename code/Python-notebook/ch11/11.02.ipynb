{
 "cells": [
  {
   "cell_type": "markdown",
   "metadata": {},
   "source": [
    "## 11.2 Kerasによる分類"
   ]
  },
  {
   "cell_type": "code",
   "execution_count": null,
   "metadata": {},
   "outputs": [],
   "source": [
    "import numpy as np\n",
    "import pandas as pd\n",
    "import statsmodels.api as sm\n",
    "from keras import callbacks, layers, losses, models\n",
    "from sklearn.preprocessing import StandardScaler, LabelEncoder\n",
    "from sklearn.utils import shuffle\n",
    "\n",
    "tmp = sm.datasets.get_rdataset('iris', 'datasets').data\n",
    "my_data = shuffle(tmp)"
   ]
  },
  {
   "cell_type": "code",
   "execution_count": null,
   "metadata": {},
   "outputs": [],
   "source": [
    "my_scaler = StandardScaler()\n",
    "X = my_scaler.fit_transform(\n",
    "    my_data.drop(columns=['Species']))\n",
    "my_enc = LabelEncoder()\n",
    "y = my_enc.fit_transform(\n",
    "    my_data['Species'])"
   ]
  },
  {
   "cell_type": "code",
   "execution_count": null,
   "metadata": {},
   "outputs": [],
   "source": [
    "my_model = models.Sequential()\n",
    "my_model.add(layers.Dense(units=3, activation='relu', input_shape=[4]))\n",
    "my_model.add(layers.Dense(units=3, activation='softmax'))"
   ]
  },
  {
   "cell_type": "code",
   "execution_count": null,
   "metadata": {},
   "outputs": [],
   "source": [
    "my_model.compile(loss='sparse_categorical_crossentropy',\n",
    "                 optimizer='rmsprop',\n",
    "                 metrics=['accuracy'])"
   ]
  },
  {
   "cell_type": "code",
   "execution_count": null,
   "metadata": {},
   "outputs": [],
   "source": [
    "my_cb = callbacks.EarlyStopping(\n",
    "    patience=20,\n",
    "    restore_best_weights=True)\n",
    "\n",
    "my_history = my_model.fit(\n",
    "    x=X,\n",
    "    y=y,\n",
    "    validation_split=0.25,\n",
    "    batch_size=10,\n",
    "    epochs=500,\n",
    "    callbacks=[my_cb],\n",
    "    verbose=0)\n",
    "\n",
    "tmp = pd.DataFrame(my_history.history)\n",
    "tmp.plot(xlabel='epoch')"
   ]
  },
  {
   "cell_type": "code",
   "execution_count": null,
   "metadata": {},
   "outputs": [],
   "source": [
    "tmp.iloc[-1, ]\n",
    "#> loss            0.067497\n",
    "#> accuracy        0.973214\n",
    "#> val_loss        0.143529\n",
    "#> val_accuracy    0.921053"
   ]
  },
  {
   "cell_type": "code",
   "execution_count": null,
   "metadata": {},
   "outputs": [],
   "source": [
    "tmp = my_model.predict(X)\n",
    "y_ = np.argmax(tmp, axis=-1)\n",
    "(y_ == y).mean()\n",
    "#> 0.96"
   ]
  },
  {
   "cell_type": "markdown",
   "metadata": {},
   "source": [
    "### 11.2.1 交差エントロピー"
   ]
  },
  {
   "cell_type": "code",
   "execution_count": null,
   "metadata": {},
   "outputs": [],
   "source": [
    "-np.log([0.8, 0.7, 0.3, 0.8]).mean()\n",
    "#> 0.5017337127232719\n",
    "\n",
    "-np.log([0.7, 0.6, 0.2, 0.7]).mean()\n",
    "#> 0.708403356019389"
   ]
  },
  {
   "cell_type": "code",
   "execution_count": null,
   "metadata": {},
   "outputs": [],
   "source": [
    "y = [2, 1, 0, 1]\n",
    "y_1 = [[0.1, 0.1, 0.8],\n",
    "       [0.1, 0.7, 0.2],\n",
    "       [0.3, 0.4, 0.3],\n",
    "       [0.1, 0.8, 0.1]]\n",
    "y_2 = [[0.1, 0.2, 0.7],\n",
    "       [0.2, 0.6, 0.2],\n",
    "       [0.2, 0.5, 0.3],\n",
    "       [0.2, 0.7, 0.1]]"
   ]
  },
  {
   "cell_type": "code",
   "execution_count": null,
   "metadata": {},
   "outputs": [],
   "source": [
    "[losses.sparse_categorical_crossentropy(y_true=y, y_pred=y_1).numpy().mean(),\n",
    " losses.sparse_categorical_crossentropy(y_true=y, y_pred=y_2).numpy().mean()]\n",
    "#> [0.5017337, 0.70840335]"
   ]
  }
 ],
 "nbformat": 4,
 "nbformat_minor": 5,
 "metadata": {
  "kernelspec": {
   "name": "python3",
   "display_name": "Python 3"
  }
 }
}
