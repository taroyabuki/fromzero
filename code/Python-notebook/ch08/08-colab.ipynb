{
 "cells": [
  {
   "cell_type": "markdown",
   "metadata": {},
   "source": [
    "# 08"
   ]
  },
  {
   "cell_type": "code",
   "execution_count": null,
   "metadata": {},
   "outputs": [],
   "source": [
    "# Google Colaboratoryの環境設定\n",
    "!pip install -U scikit-learn | tail -n 1"
   ]
  },
  {
   "cell_type": "markdown",
   "metadata": {},
   "source": [
    "## 8.1 ブドウの生育条件とワインの価格"
   ]
  },
  {
   "cell_type": "code",
   "execution_count": null,
   "metadata": {},
   "outputs": [],
   "source": [
    "import pandas as pd\n",
    "my_url = 'http://www.liquidasset.com/winedata.html'\n",
    "tmp = pd.read_table(my_url, skiprows=62, nrows=38, sep='\\\\s+', na_values='.')\n",
    "tmp.describe()\n",
    "#>              OBS         VINT    LPRICE2       WRAIN    DEGREES ...\n",
    "#> count  38.000000    38.000000  27.000000   38.000000  37.000000 ...\n",
    "#> mean   19.500000  1970.500000  -1.451765  605.000000  16.522973 ...\n",
    "# 以下省略"
   ]
  },
  {
   "cell_type": "code",
   "execution_count": null,
   "metadata": {},
   "outputs": [],
   "source": [
    "my_data = tmp.iloc[:, 2:].dropna()\n",
    "my_data.head()\n",
    "#>    LPRICE2  WRAIN  DEGREES ...\n",
    "#> 0 -0.99868    600  17.1167 ...\n",
    "#> 1 -0.45440    690  16.7333 ...\n",
    "#> 3 -0.80796    502  17.1500 ...\n",
    "#> 5 -1.50926    420  16.1333 ...\n",
    "#> 6 -1.71655    582  16.4167 ..."
   ]
  },
  {
   "cell_type": "code",
   "execution_count": null,
   "metadata": {},
   "outputs": [],
   "source": [
    "my_data.shape\n",
    "#> (27, 5)"
   ]
  },
  {
   "cell_type": "code",
   "execution_count": null,
   "metadata": {},
   "outputs": [],
   "source": [
    "my_data.to_csv('wine.csv',\n",
    "               index=False)"
   ]
  },
  {
   "cell_type": "code",
   "execution_count": null,
   "metadata": {},
   "outputs": [],
   "source": [
    "#my_data = pd.read_csv('wine.csv') # 作ったファイルを使う場合\n",
    "my_url = ('https://raw.githubusercontent.com/taroyabuki'\n",
    "          '/fromzero/master/data/wine.csv')\n",
    "my_data = pd.read_csv(my_url)"
   ]
  },
  {
   "cell_type": "markdown",
   "metadata": {},
   "source": [
    "## 8.2 重回帰分析"
   ]
  },
  {
   "cell_type": "code",
   "execution_count": null,
   "metadata": {},
   "outputs": [],
   "source": [
    "import numpy as np\n",
    "import pandas as pd\n",
    "from sklearn.linear_model import LinearRegression\n",
    "from sklearn.metrics import mean_squared_error\n",
    "from sklearn.model_selection import cross_val_score, LeaveOneOut\n",
    "\n",
    "my_url = ('https://raw.githubusercontent.com/taroyabuki'\n",
    "          '/fromzero/master/data/wine.csv')\n",
    "my_data = pd.read_csv(my_url)\n",
    "X, y = my_data.drop(columns=['LPRICE2']), my_data['LPRICE2']\n",
    "\n",
    "my_model = LinearRegression().fit(X, y)"
   ]
  },
  {
   "cell_type": "code",
   "execution_count": null,
   "metadata": {},
   "outputs": [],
   "source": [
    "my_model.intercept_\n",
    "#> -12.145333576510417\n",
    "\n",
    "pd.Series(my_model.coef_,\n",
    "          index=X.columns)\n",
    "#> WRAIN      0.001167\n",
    "#> DEGREES    0.616392\n",
    "#> HRAIN     -0.003861\n",
    "#> TIME_SV    0.023847\n",
    "#> dtype: float64"
   ]
  },
  {
   "cell_type": "code",
   "execution_count": null,
   "metadata": {},
   "outputs": [],
   "source": [
    "my_test = [[500, 17, 120, 2]]\n",
    "my_model.predict(my_test)\n",
    "#> array([-1.49884253])"
   ]
  },
  {
   "cell_type": "code",
   "execution_count": null,
   "metadata": {},
   "outputs": [],
   "source": [
    "y_ = my_model.predict(X)\n",
    "\n",
    "mean_squared_error(y_, y)**0.5\n",
    "#> 0.2586166620130621 # RMSE（訓練）\n",
    "\n",
    "my_model.score(X, y)\n",
    "#> 0.8275277990052154 # 決定係数1\n",
    "\n",
    "np.corrcoef(y, y_)[0, 1]**2\n",
    "#> 0.8275277990052158 # 決定係数6"
   ]
  },
  {
   "cell_type": "code",
   "execution_count": null,
   "metadata": {},
   "outputs": [],
   "source": [
    "my_scores = cross_val_score(my_model, X, y,\n",
    "                            cv=LeaveOneOut(),\n",
    "                            scoring='neg_mean_squared_error')\n",
    "(-my_scores.mean())**0.5\n",
    "#> 0.32300426518411957 # RMSE（検証）"
   ]
  },
  {
   "cell_type": "markdown",
   "metadata": {},
   "source": [
    "### 8.2.1 補足：行列計算による再現"
   ]
  },
  {
   "cell_type": "code",
   "execution_count": null,
   "metadata": {},
   "outputs": [],
   "source": [
    "import numpy as np\n",
    "M = np.matrix(X.assign(b0=1))\n",
    "b = np.linalg.pinv(M) @ y\n",
    "pd.Series(b,\n",
    "    index=list(X.columns) + ['b0'])\n",
    "#> WRAIN       0.001167\n",
    "#> DEGREES     0.616392\n",
    "#> HRAIN      -0.003861\n",
    "#> TIME_SV     0.023847\n",
    "#> b0        -12.145334\n",
    "#> dtype: float64"
   ]
  },
  {
   "cell_type": "markdown",
   "metadata": {},
   "source": [
    "## 8.3 標準化"
   ]
  },
  {
   "cell_type": "code",
   "execution_count": null,
   "metadata": {},
   "outputs": [],
   "source": [
    "import pandas as pd\n",
    "from sklearn.linear_model import LinearRegression\n",
    "from sklearn.pipeline import Pipeline\n",
    "from sklearn.preprocessing import StandardScaler\n",
    "my_url = ('https://raw.githubusercontent.com/taroyabuki'\n",
    "          '/fromzero/master/data/wine.csv')\n",
    "my_data = pd.read_csv(my_url)\n",
    "X, y = my_data.drop(columns=['LPRICE2']), my_data['LPRICE2']\n",
    "\n",
    "# StandardScalerで標準化した結果をデータフレームに戻してから描画する．\n",
    "pd.DataFrame(StandardScaler().fit_transform(X), columns=X.columns\n",
    "            ).boxplot(showmeans=True)"
   ]
  },
  {
   "cell_type": "code",
   "execution_count": null,
   "metadata": {},
   "outputs": [],
   "source": [
    "my_pipeline = Pipeline([\n",
    "    ('sc', StandardScaler()),\n",
    "    ('lr', LinearRegression())])\n",
    "my_pipeline.fit(X, y)"
   ]
  },
  {
   "cell_type": "code",
   "execution_count": null,
   "metadata": {},
   "outputs": [],
   "source": [
    "# 線形回帰の部分だけを取り出す．\n",
    "my_lr = my_pipeline.named_steps.lr\n",
    "my_lr.intercept_\n",
    "#> -1.4517651851851847\n",
    "\n",
    "pd.Series(my_lr.coef_,\n",
    "          index=X.columns)\n",
    "#> WRAIN      0.147741\n",
    "#> DEGREES    0.398724\n",
    "#> HRAIN     -0.276802\n",
    "#> TIME_SV    0.192979\n",
    "#> dtype: float64"
   ]
  },
  {
   "cell_type": "code",
   "execution_count": null,
   "metadata": {},
   "outputs": [],
   "source": [
    "my_test = [[500, 17, 120, 2]]\n",
    "my_pipeline.predict(my_test)\n",
    "#> array([-1.49884253])"
   ]
  },
  {
   "cell_type": "markdown",
   "metadata": {},
   "source": [
    "## 8.4 入力変数の数とモデルの良さ"
   ]
  },
  {
   "cell_type": "code",
   "execution_count": null,
   "metadata": {},
   "outputs": [],
   "source": [
    "import pandas as pd\n",
    "from sklearn.linear_model import LinearRegression\n",
    "from sklearn.metrics import mean_squared_error\n",
    "from sklearn.model_selection import cross_val_score, LeaveOneOut\n",
    "\n",
    "my_url = ('https://raw.githubusercontent.com/taroyabuki'\n",
    "          '/fromzero/master/data/wine.csv')\n",
    "my_data = pd.read_csv(my_url)\n",
    "\n",
    "n = len(my_data)\n",
    "my_data2 = my_data.assign(v1=[i % 2 for i in range(n)],\n",
    "                          v2=[i % 3 for i in range(n)])\n",
    "my_data2.head()\n",
    "#>    LPRICE2  WRAIN  DEGREES  HRAIN  TIME_SV  v1  v2\n",
    "#> 0 -0.99868    600  17.1167    160       31   0   0\n",
    "#> 1 -0.45440    690  16.7333     80       30   1   1\n",
    "#> 2 -0.80796    502  17.1500    130       28   0   2\n",
    "#> 3 -1.50926    420  16.1333    110       26   1   0\n",
    "#> 4 -1.71655    582  16.4167    187       25   0   1"
   ]
  },
  {
   "cell_type": "code",
   "execution_count": null,
   "metadata": {},
   "outputs": [],
   "source": [
    "X, y = my_data2.drop(columns=['LPRICE2']), my_data2['LPRICE2']\n",
    "my_model2 = LinearRegression().fit(X, y)\n",
    "\n",
    "y_ = my_model2.predict(X)\n",
    "mean_squared_error(y_, y)**0.5\n",
    "#> 0.2562120047505748 # RMSE（訓練）\n",
    "\n",
    "my_scores = cross_val_score(my_model2, X, y,\n",
    "                            cv=LeaveOneOut(),\n",
    "                            scoring='neg_mean_squared_error')\n",
    "(-my_scores.mean())**0.5\n",
    "#> 0.3569918035928941 # RMSE（検証）"
   ]
  },
  {
   "cell_type": "markdown",
   "metadata": {},
   "source": [
    "## 8.5 変数選択"
   ]
  },
  {
   "cell_type": "code",
   "execution_count": null,
   "metadata": {},
   "outputs": [],
   "source": [
    "import pandas as pd\n",
    "from sklearn.feature_selection import SequentialFeatureSelector\n",
    "from sklearn.linear_model import LinearRegression\n",
    "from sklearn.model_selection import GridSearchCV, LeaveOneOut\n",
    "from sklearn.pipeline import Pipeline\n",
    "\n",
    "my_url = ('https://raw.githubusercontent.com/taroyabuki'\n",
    "          '/fromzero/master/data/wine.csv')\n",
    "my_data = pd.read_csv(my_url)\n",
    "\n",
    "n = len(my_data)\n",
    "my_data2 = my_data.assign(v1=[i % 2 for i in range(n)],\n",
    "                          v2=[i % 3 for i in range(n)])\n",
    "X, y = my_data2.drop(columns=['LPRICE2']), my_data2['LPRICE2']"
   ]
  },
  {
   "cell_type": "code",
   "execution_count": null,
   "metadata": {},
   "outputs": [],
   "source": [
    "my_sfs = SequentialFeatureSelector(\n",
    "    estimator=LinearRegression(),\n",
    "    direction='forward', # 変数増加法\n",
    "    cv=LeaveOneOut(),\n",
    "    scoring='neg_mean_squared_error')\n",
    "\n",
    "my_pipeline = Pipeline([         # 変数選択の後で再訓練を行うようにする．\n",
    "    ('sfs', my_sfs),             # 変数選択\n",
    "    ('lr', LinearRegression())]) # 回帰分析\n",
    "\n",
    "my_params = {'sfs__n_features_to_select': range(1, 6)} # 選択する変数の上限\n",
    "my_search = GridSearchCV(estimator=my_pipeline,\n",
    "                         param_grid=my_params,\n",
    "                         cv=LeaveOneOut(),\n",
    "                         scoring='neg_mean_squared_error',\n",
    "                         n_jobs=-1).fit(X, y)\n",
    "my_model = my_search.best_estimator_ # 最良のパラメータで再訓練したモデル\n",
    "my_search.best_estimator_.named_steps.sfs.get_support()\n",
    "#> array([ True,  True,  True,  True, False, False])"
   ]
  },
  {
   "cell_type": "markdown",
   "metadata": {},
   "source": [
    "## 8.6 補足：正則化"
   ]
  },
  {
   "cell_type": "code",
   "execution_count": null,
   "metadata": {},
   "outputs": [],
   "source": [
    "import numpy as np\n",
    "import pandas as pd\n",
    "import warnings\n",
    "from sklearn.exceptions import ConvergenceWarning\n",
    "from sklearn.linear_model import ElasticNet, enet_path\n",
    "from sklearn.model_selection import GridSearchCV, LeaveOneOut\n",
    "from sklearn.pipeline import Pipeline\n",
    "from sklearn.preprocessing import StandardScaler\n",
    "from scipy.stats import zscore\n",
    "warnings.simplefilter('ignore', ConvergenceWarning) # これ以降，警告を表示しない．\n",
    "\n",
    "my_url = ('https://raw.githubusercontent.com/taroyabuki'\n",
    "          '/fromzero/master/data/wine.csv')\n",
    "my_data = pd.read_csv(my_url)\n",
    "X, y = my_data.drop(columns=['LPRICE2']), my_data['LPRICE2']"
   ]
  },
  {
   "cell_type": "markdown",
   "metadata": {},
   "source": [
    "### 8.6.1 正則化の実践"
   ]
  },
  {
   "cell_type": "code",
   "execution_count": null,
   "metadata": {},
   "outputs": [],
   "source": [
    "A = 2\n",
    "B = 0.1\n",
    "\n",
    "my_pipeline = Pipeline([\n",
    "    ('sc', StandardScaler()),\n",
    "    ('enet', ElasticNet(\n",
    "        alpha=A,\n",
    "        l1_ratio=B))])\n",
    "my_pipeline.fit(X, y)"
   ]
  },
  {
   "cell_type": "code",
   "execution_count": null,
   "metadata": {},
   "outputs": [],
   "source": [
    "my_enet = my_pipeline.named_steps.enet\n",
    "my_enet.intercept_\n",
    "#> -1.4517651851851852\n",
    "\n",
    "pd.Series(my_enet.coef_,\n",
    "          index=X.columns)\n",
    "#> WRAIN      0.000000\n",
    "#> DEGREES    0.074101\n",
    "#> HRAIN     -0.041159\n",
    "#> TIME_SV    0.024027\n",
    "#> dtype: float64"
   ]
  },
  {
   "cell_type": "code",
   "execution_count": null,
   "metadata": {},
   "outputs": [],
   "source": [
    "my_test = pd.DataFrame(\n",
    "    [[500, 17, 120, 2]])\n",
    "my_pipeline.predict(my_test)\n",
    "#> array([-1.41981616])"
   ]
  },
  {
   "cell_type": "markdown",
   "metadata": {},
   "source": [
    "### 8.6.2 ペナルティの強さと係数の関係"
   ]
  },
  {
   "cell_type": "code",
   "execution_count": null,
   "metadata": {},
   "outputs": [],
   "source": [
    "As = np.e**np.arange(2, -5.5, -0.1)\n",
    "B = 0.1\n",
    "\n",
    "_, my_path, _ = enet_path(\n",
    "    zscore(X), zscore(y),\n",
    "    alphas=As,\n",
    "    l1_ratio=B)\n",
    "\n",
    "pd.DataFrame(\n",
    "    my_path.T,\n",
    "    columns=X.columns,\n",
    "    index=np.log(As)\n",
    ").plot(\n",
    "    xlabel='log A ( = log alpha)',\n",
    "    ylabel='Coefficients')"
   ]
  },
  {
   "cell_type": "markdown",
   "metadata": {},
   "source": [
    "### 8.6.3 パラメータの決定"
   ]
  },
  {
   "cell_type": "code",
   "execution_count": null,
   "metadata": {},
   "outputs": [],
   "source": [
    "As = np.linspace(0, 0.1, 21)\n",
    "Bs = np.linspace(0, 0.1,  6)\n",
    "\n",
    "my_pipeline = Pipeline([('sc', StandardScaler()),\n",
    "                        ('enet', ElasticNet())])\n",
    "my_search = GridSearchCV(\n",
    "    estimator=my_pipeline,\n",
    "    param_grid={'enet__alpha': As, 'enet__l1_ratio': Bs},\n",
    "    cv=LeaveOneOut(),\n",
    "    scoring='neg_mean_squared_error',\n",
    "    n_jobs=-1).fit(X, y)\n",
    "my_model = my_search.best_estimator_ # 最良モデル\n",
    "\n",
    "my_search.best_params_               # 最良パラメータ\n",
    "#> {'enet__alpha': 0.075, 'enet__l1_ratio': 0.0}"
   ]
  },
  {
   "cell_type": "code",
   "execution_count": null,
   "metadata": {},
   "outputs": [],
   "source": [
    "tmp = my_search.cv_results_                # チューニングの詳細\n",
    "my_scores = (-tmp['mean_test_score'])**0.5 # RMSE\n",
    "\n",
    "my_results = pd.DataFrame(tmp['params']).assign(RMSE=my_scores).pivot(\n",
    "    index='enet__alpha',\n",
    "    columns='enet__l1_ratio',\n",
    "    values='RMSE')\n",
    "\n",
    "my_results.plot(style='o-', xlabel='A ( = alpha)', ylabel='RMSE').legend(\n",
    "    title='B ( = l1_ratio)')"
   ]
  },
  {
   "cell_type": "code",
   "execution_count": null,
   "metadata": {},
   "outputs": [],
   "source": [
    "(-my_search.best_score_)**0.5\n",
    "#> 0.31945619679509646"
   ]
  },
  {
   "cell_type": "markdown",
   "metadata": {},
   "source": [
    "### 8.6.4 補足：RとPythonで結果を同じにする方法\n",
    "\n",
    "## 8.7 ニューラルネットワーク\n",
    "\n",
    "### 8.7.1 ニューラルネットワークとは何か"
   ]
  },
  {
   "cell_type": "code",
   "execution_count": null,
   "metadata": {},
   "outputs": [],
   "source": [
    "import matplotlib.pyplot as plt\n",
    "import numpy as np\n",
    "x = np.linspace(-6, 6, 100)\n",
    "y = 1 / (1 + np.exp(-x))\n",
    "plt.plot(x, y)"
   ]
  },
  {
   "cell_type": "markdown",
   "metadata": {},
   "source": [
    "### 8.7.2 ニューラルネットワークの訓練"
   ]
  },
  {
   "cell_type": "code",
   "execution_count": null,
   "metadata": {},
   "outputs": [],
   "source": [
    "import pandas as pd\n",
    "import warnings\n",
    "from sklearn.exceptions import ConvergenceWarning\n",
    "from sklearn.neural_network import MLPRegressor\n",
    "from sklearn.model_selection import cross_val_score, GridSearchCV, LeaveOneOut\n",
    "from sklearn.pipeline import Pipeline\n",
    "from sklearn.preprocessing import StandardScaler\n",
    "\n",
    "my_url = ('https://raw.githubusercontent.com/taroyabuki'\n",
    "          '/fromzero/master/data/wine.csv')\n",
    "my_data = pd.read_csv(my_url)\n",
    "X, y = my_data.drop(columns=['LPRICE2']), my_data['LPRICE2']"
   ]
  },
  {
   "cell_type": "code",
   "execution_count": null,
   "metadata": {},
   "outputs": [],
   "source": [
    "warnings.simplefilter(\"ignore\", ConvergenceWarning)  # これ以降，警告を表示しない．\n",
    "my_pipeline = Pipeline([('sc', StandardScaler()),    # 標準化\n",
    "                        ('mlp', MLPRegressor())])    # ニューラルネットワーク\n",
    "my_pipeline.fit(X, y)                                # 訓練\n",
    "\n",
    "my_scores = cross_val_score(my_pipeline, X, y, cv=LeaveOneOut(),\n",
    "                            scoring='neg_mean_squared_error')\n",
    "warnings.simplefilter(\"default\", ConvergenceWarning) # これ以降，警告を表示する．"
   ]
  },
  {
   "cell_type": "code",
   "execution_count": null,
   "metadata": {},
   "outputs": [],
   "source": [
    "(-my_scores.mean())**0.5\n",
    "#> 0.41735891601426384"
   ]
  },
  {
   "cell_type": "markdown",
   "metadata": {},
   "source": [
    "### 8.7.3 ニューラルネットワークのチューニング"
   ]
  },
  {
   "cell_type": "code",
   "execution_count": null,
   "metadata": {},
   "outputs": [],
   "source": [
    "my_pipeline = Pipeline([\n",
    "    ('sc', StandardScaler()),\n",
    "    ('mlp', MLPRegressor(tol=1e-5,         # 改善したと見なす基準\n",
    "                         max_iter=5000))]) # 改善しなくなるまでの反復数\n",
    "my_layers = (1, 3, 5,                                         # 隠れ層1層の場合\n",
    "             (1, 1), (3, 1), (5, 1), (1, 2), (3, 2), (5, 2))  # 隠れ層2層の場合\n",
    "my_params = {'mlp__hidden_layer_sizes': my_layers}\n",
    "my_search = GridSearchCV(estimator=my_pipeline,\n",
    "                         param_grid=my_params,\n",
    "                         cv=LeaveOneOut(),\n",
    "                         scoring='neg_mean_squared_error',\n",
    "                         n_jobs=-1).fit(X, y)\n",
    "my_model = my_search.best_estimator_ # 最良モデル\n",
    "\n",
    "my_search.best_params_               # 最良パラメータ\n",
    "#> {'mlp__hidden_layer_sizes': 5}"
   ]
  },
  {
   "cell_type": "code",
   "execution_count": null,
   "metadata": {},
   "outputs": [],
   "source": [
    "(-my_search.best_score_)**0.5\n",
    "#> 0.3759690731968538"
   ]
  }
 ],
 "nbformat": 4,
 "nbformat_minor": 5,
 "metadata": {
  "kernelspec": {
   "name": "python3",
   "display_name": "Python 3"
  }
 }
}
