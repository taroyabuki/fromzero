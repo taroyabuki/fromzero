{
 "cells": [
  {
   "cell_type": "markdown",
   "metadata": {},
   "source": [
    "## 7.4 当てはまりの良さの指標\n",
    "\n",
    "### 7.4.1 RMSE"
   ]
  },
  {
   "cell_type": "code",
   "execution_count": null,
   "metadata": {},
   "outputs": [],
   "source": [
    "library(caret)\n",
    "library(tidyverse)\n",
    "my_data <- cars\n",
    "my_model <- train(form = dist ~ speed, data = my_data, method = \"lm\")\n",
    "\n",
    "y  <- my_data$dist\n",
    "y_ <- my_model %>% predict(my_data)\n",
    "my_data$y_ <- y_"
   ]
  },
  {
   "cell_type": "code",
   "execution_count": null,
   "metadata": {},
   "outputs": [],
   "source": [
    "my_data$residual <- y - y_\n",
    "head(my_data)\n",
    "#>   speed dist        y_  residual\n",
    "#> 1     4    2 -1.849460  3.849460\n",
    "#> 2     4   10 -1.849460 11.849460\n",
    "#> 3     7    4  9.947766 -5.947766\n",
    "#> 4     7   22  9.947766 12.052234\n",
    "#> 5     8   16 13.880175  2.119825\n",
    "#> 6     9   10 17.812584 -7.812584"
   ]
  },
  {
   "cell_type": "code",
   "execution_count": null,
   "metadata": {},
   "outputs": [],
   "source": [
    "my_data %>%\n",
    "  ggplot(aes(x = speed, y = dist)) +\n",
    "  geom_point() +\n",
    "  geom_line(aes(x = speed, y = y_)) +\n",
    "  geom_linerange(mapping = aes(ymin = y_, ymax = dist), linetype = \"dotted\")"
   ]
  },
  {
   "cell_type": "code",
   "execution_count": null,
   "metadata": {},
   "outputs": [],
   "source": [
    "RMSE(y_, y)\n",
    "# あるいは\n",
    "mean((my_data$residual^2))**0.5\n",
    "\n",
    "#> [1] 15.06886"
   ]
  },
  {
   "cell_type": "markdown",
   "metadata": {},
   "source": [
    "### 7.4.2 決定係数"
   ]
  },
  {
   "cell_type": "code",
   "execution_count": null,
   "metadata": {},
   "outputs": [],
   "source": [
    "R2(pred = y_, obs = y,\n",
    "   form = \"traditional\")\n",
    "#> [1] 0.6510794"
   ]
  },
  {
   "cell_type": "code",
   "execution_count": null,
   "metadata": {},
   "outputs": [],
   "source": [
    "R2(pred = y_, obs = y,\n",
    "   form = \"corr\")\n",
    "# あるいは\n",
    "summary(my_model$finalModel)$r.squared\n",
    "#> [1] 0.6510794"
   ]
  },
  {
   "cell_type": "code",
   "execution_count": null,
   "metadata": {},
   "outputs": [],
   "source": [
    "my_test <- my_data[1:3, ]\n",
    "y  <- my_test$dist\n",
    "y_ <- my_model %>% predict(my_test)\n",
    "\n",
    "R2(pred = y_, obs = y,\n",
    "   form = \"traditional\")\n",
    "#> [1] -4.498191  # 決定係数1\n",
    "\n",
    "R2(pred = y_, obs = y,\n",
    "   form = \"corr\")\n",
    "#> [1] 0.07692308 # 決定係数6"
   ]
  },
  {
   "cell_type": "markdown",
   "metadata": {},
   "source": [
    "### 7.4.3 当てはまりの良さの指標の問題点"
   ]
  },
  {
   "cell_type": "code",
   "execution_count": null,
   "metadata": {},
   "outputs": [],
   "source": [
    "library(caret)\n",
    "library(tidyverse)\n",
    "my_data <- cars\n",
    "my_idx <- c(2, 11, 27, 34, 39, 44)\n",
    "my_sample <- my_data[my_idx, ]"
   ]
  },
  {
   "cell_type": "code",
   "execution_count": null,
   "metadata": {},
   "outputs": [],
   "source": [
    "options(warn = -1) # これ以降，警告を表示しない．\n",
    "my_model <- train(form = dist ~ poly(speed, degree = 5, raw = TRUE),\n",
    "                  data = my_sample,\n",
    "                  method = \"lm\")\n",
    "options(warn = 0)  # これ以降，警告を表示する．\n",
    "\n",
    "y  <- my_sample$dist\n",
    "y_ <- my_model %>% predict(my_sample)"
   ]
  },
  {
   "cell_type": "code",
   "execution_count": null,
   "metadata": {},
   "outputs": [],
   "source": [
    "RMSE(y_, y)\n",
    "#> [1] 1.042275e-10 # RMSE\n",
    "\n",
    "R2(pred = y_, obs = y,\n",
    "   form = \"traditional\")\n",
    "#> [1] 1 # 決定係数1\n",
    "\n",
    "R2(pred = y_, obs = y,\n",
    "   form = \"corr\")\n",
    "#> [1] 1 # 決定係数6"
   ]
  },
  {
   "cell_type": "code",
   "execution_count": null,
   "metadata": {},
   "outputs": [],
   "source": [
    "f <- function(x) { my_model %>% predict(data.frame(speed = x)) }\n",
    "\n",
    "my_data %>%\n",
    "  ggplot(aes(x = speed, y = dist, color = \"data\")) +\n",
    "  geom_point() +\n",
    "  geom_point(data = my_sample, mapping = aes(color = \"sample\")) +\n",
    "  stat_function(fun = f, mapping = aes(color = \"model\")) +\n",
    "  coord_cartesian(ylim = c(0, 120))"
   ]
  }
 ],
 "nbformat": 4,
 "nbformat_minor": 5,
 "metadata": {
  "kernelspec": {
   "name": "ir",
   "display_name": "R"
  }
 }
}
