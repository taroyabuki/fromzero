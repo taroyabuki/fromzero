{
 "cells": [
  {
   "cell_type": "markdown",
   "metadata": {},
   "source": [
    "## 7.2 データの確認"
   ]
  },
  {
   "cell_type": "code",
   "execution_count": null,
   "metadata": {},
   "outputs": [],
   "source": [
    "library(caret)\n",
    "library(tidyverse)\n",
    "my_data <- cars"
   ]
  },
  {
   "cell_type": "code",
   "execution_count": null,
   "metadata": {},
   "outputs": [],
   "source": [
    "dim(my_data)\n",
    "#> [1] 50  2"
   ]
  },
  {
   "cell_type": "code",
   "execution_count": null,
   "metadata": {},
   "outputs": [],
   "source": [
    "head(my_data)\n",
    "#>   speed dist\n",
    "#> 1     4    2\n",
    "#> 2     4   10\n",
    "#> 3     7    4\n",
    "#> 4     7   22\n",
    "#> 5     8   16\n",
    "#> 6     9   10"
   ]
  },
  {
   "cell_type": "code",
   "execution_count": null,
   "metadata": {},
   "outputs": [],
   "source": [
    "options(digits = 3)\n",
    "pastecs::stat.desc(my_data)\n",
    "#>                speed    dist\n",
    "#> nbr.val       50.000   50.00\n",
    "#> nbr.null       0.000    0.00\n",
    "#> nbr.na         0.000    0.00\n",
    "#> min            4.000    2.00\n",
    "#> max           25.000  120.00\n",
    "#> range         21.000  118.00\n",
    "#> sum          770.000 2149.00\n",
    "#> median        15.000   36.00\n",
    "#> mean          15.400   42.98\n",
    "#> SE.mean        0.748    3.64\n",
    "#> CI.mean.0.95   1.503    7.32\n",
    "#> var           27.959  664.06\n",
    "#> std.dev        5.288   25.77\n",
    "#> coef.var       0.343    0.60"
   ]
  },
  {
   "cell_type": "code",
   "execution_count": null,
   "metadata": {},
   "outputs": [],
   "source": [
    "my_data %>%\n",
    "  ggplot(aes(x = speed, y = dist)) +\n",
    "  geom_point()"
   ]
  }
 ],
 "nbformat": 4,
 "nbformat_minor": 5,
 "metadata": {
  "kernelspec": {
   "name": "ir",
   "display_name": "R"
  }
 }
}
