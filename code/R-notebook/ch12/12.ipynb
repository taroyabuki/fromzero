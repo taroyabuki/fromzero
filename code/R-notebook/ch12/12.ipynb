{
 "cells": [
  {
   "cell_type": "markdown",
   "metadata": {},
   "source": [
    "# 12\n",
    "\n",
    "## 12.1 日時と日時の列\n",
    "\n",
    "### 12.1.1 日時"
   ]
  },
  {
   "cell_type": "code",
   "execution_count": null,
   "metadata": {},
   "outputs": [],
   "source": [
    "as.POSIXct(\"2021-01-01\")\n",
    "#> [1] \"2021-01-01 JST\""
   ]
  },
  {
   "cell_type": "markdown",
   "metadata": {},
   "source": [
    "### 12.1.2 等間隔の日時"
   ]
  },
  {
   "cell_type": "code",
   "execution_count": null,
   "metadata": {},
   "outputs": [],
   "source": [
    "library(tsibble)\n",
    "\n",
    "seq(from = 2021, to = 2023, by = 1)\n",
    "#> [1] 2021 2022 2023\n",
    "\n",
    "seq(from = yearmonth(\"202101\"), to = yearmonth(\"202103\"), by = 2)\n",
    "#> <yearmonth[2]>\n",
    "#> [1] \"2021 1\" \"2021 3\"\n",
    "\n",
    "seq(from = as.POSIXct(\"2021-01-01\"), to = as.POSIXct(\"2021-01-03\"), by = \"1 day\")\n",
    "#> [1] \"2021-01-01 JST\" \"2021-01-02 JST\" \"2021-01-03 JST\"\n",
    "\n",
    "seq(from = as.POSIXct(\"2021-01-01 00:00:00\"),\n",
    "    to   = as.POSIXct(\"2021-01-01 03:00:00\"), by = \"2 hour\")\n",
    "#> [1] \"2021-01-01 00:00:00 JST\" \"2021-01-01 02:00:00 JST\""
   ]
  },
  {
   "cell_type": "markdown",
   "metadata": {},
   "source": [
    "## 12.2 時系列データの予測\n",
    "\n",
    "### 12.2.1 データの準備"
   ]
  },
  {
   "cell_type": "code",
   "execution_count": null,
   "metadata": {},
   "outputs": [],
   "source": [
    "my_data <- as.vector(AirPassengers)"
   ]
  },
  {
   "cell_type": "code",
   "execution_count": null,
   "metadata": {},
   "outputs": [],
   "source": [
    "n <- length(my_data) # データ数（144）\n",
    "k <- 108             # 訓練データ数"
   ]
  },
  {
   "cell_type": "code",
   "execution_count": null,
   "metadata": {},
   "outputs": [],
   "source": [
    "library(tidyverse)\n",
    "library(tsibble)\n",
    "\n",
    "my_ds <- seq(\n",
    "  from = yearmonth(\"1949/01\"),\n",
    "  to   = yearmonth(\"1960/12\"),\n",
    "  by   = 1)\n",
    "my_label <- rep(\n",
    "  c(\"train\", \"test\"),\n",
    "  c(k, n - k))\n",
    "my_df <- tsibble(\n",
    "  ds    = my_ds,\n",
    "  x     = 0:(n - 1),\n",
    "  y     = my_data,\n",
    "  label = my_label,\n",
    "  index = ds) # 日時の列の指定\n",
    "\n",
    "head(my_df)\n",
    "#> # A tsibble: 6 x 4 [1M]\n",
    "#>       ds     x     y label\n",
    "#>    <mth> <int> <dbl> <chr>\n",
    "#> 1 1949 1     0   112 train\n",
    "#> 2 1949 2     1   118 train\n",
    "#> 3 1949 3     2   132 train\n",
    "#> 4 1949 4     3   129 train\n",
    "#> 5 1949 5     4   121 train\n",
    "#> 6 1949 6     5   135 train"
   ]
  },
  {
   "cell_type": "code",
   "execution_count": null,
   "metadata": {},
   "outputs": [],
   "source": [
    "my_train <- my_df[  1:k , ]\n",
    "my_test  <- my_df[-(1:k), ]\n",
    "y <- my_test$y"
   ]
  },
  {
   "cell_type": "code",
   "execution_count": null,
   "metadata": {},
   "outputs": [],
   "source": [
    "my_plot <- my_df %>%\n",
    "  ggplot(aes(x = ds,\n",
    "             y = y,\n",
    "             color = label)) +\n",
    "  geom_line()\n",
    "my_plot"
   ]
  },
  {
   "cell_type": "markdown",
   "metadata": {},
   "source": [
    "### 12.2.2 線形回帰分析による時系列予測"
   ]
  },
  {
   "cell_type": "code",
   "execution_count": null,
   "metadata": {},
   "outputs": [],
   "source": [
    "library(caret)\n",
    "my_lm_model <- train(form = y ~ x, data = my_train, method = \"lm\")\n",
    "y_ <- my_lm_model %>% predict(my_test)\n",
    "caret::RMSE(y, y_) # RMSE（テスト）\n",
    "#> [1] 70.63707"
   ]
  },
  {
   "cell_type": "code",
   "execution_count": null,
   "metadata": {},
   "outputs": [],
   "source": [
    "y_ <- my_lm_model %>% predict(my_df)\n",
    "tmp <- my_df %>%\n",
    "  mutate(y = y_, label = \"model\")\n",
    "my_plot + geom_line(data = tmp)"
   ]
  },
  {
   "cell_type": "markdown",
   "metadata": {},
   "source": [
    "### 12.2.3 SARIMAによる時系列予測\n",
    "\n",
    "#### 12.2.3.1 モデルの構築"
   ]
  },
  {
   "cell_type": "code",
   "execution_count": null,
   "metadata": {},
   "outputs": [],
   "source": [
    "library(fable)\n",
    "my_arima_model <- my_train %>% model(ARIMA(y))\n",
    "my_arima_model\n",
    "#> # A mable: 1 x 1\n",
    "#>                  `ARIMA(y)`\n",
    "#>                     <model>\n",
    "#> 1 <ARIMA(1,1,0)(0,1,0)[12]>"
   ]
  },
  {
   "cell_type": "markdown",
   "metadata": {},
   "source": [
    "#### 12.2.3.2 予測"
   ]
  },
  {
   "cell_type": "code",
   "execution_count": null,
   "metadata": {},
   "outputs": [],
   "source": [
    "tmp <- my_arima_model %>% forecast(h = \"3 years\")\n",
    "head(tmp)\n",
    "#> # A fable: 6 x 4 [1M]\n",
    "#> # Key:     .model [1]\n",
    "#> .model       ds           y .mean\n",
    "#> <chr>     <mth>      <dist> <dbl>\n",
    "#> 1 ARIMA(y) 1958 1  N(346, 94)  346.\n",
    "#> 2 ARIMA(y) 1958 2 N(332, 148)  332.\n",
    "#> 3 ARIMA(y) 1958 3 N(387, 210)  387.\n",
    "#> 4 ARIMA(y) 1958 4 N(379, 271)  379.\n",
    "#> 5 ARIMA(y) 1958 5 N(386, 332)  386.\n",
    "#> 6 ARIMA(y) 1958 6 N(453, 393)  453."
   ]
  },
  {
   "cell_type": "code",
   "execution_count": null,
   "metadata": {},
   "outputs": [],
   "source": [
    "y_ <- tmp$.mean\n",
    "caret::RMSE(y_, y)\n",
    "#> [1] 22.13223"
   ]
  },
  {
   "cell_type": "code",
   "execution_count": null,
   "metadata": {},
   "outputs": [],
   "source": [
    "# 予測結果のみでよい場合\n",
    "#tmp %>% autoplot\n",
    "\n",
    "tmp %>% autoplot +\n",
    "  geom_line(data = my_df,\n",
    "            aes(x = ds,\n",
    "                y = y,\n",
    "                color = label))"
   ]
  },
  {
   "cell_type": "markdown",
   "metadata": {},
   "source": [
    "### 12.2.4 Prophetによる時系列予測"
   ]
  },
  {
   "cell_type": "code",
   "execution_count": null,
   "metadata": {},
   "outputs": [],
   "source": [
    "library(prophet)\n",
    "my_prophet_model <- my_train %>%\n",
    "  prophet(seasonality.mode = \"multiplicative\")"
   ]
  },
  {
   "cell_type": "code",
   "execution_count": null,
   "metadata": {},
   "outputs": [],
   "source": [
    "tmp <- my_prophet_model %>% predict(my_test)\n",
    "head(tmp[, c(\"ds\", \"yhat\", \"yhat_lower\", \"yhat_upper\")])\n",
    "#> # A tibble: 6 x 4\n",
    "#>   ds                   yhat yhat_lower yhat_upper\n",
    "#>   <dttm>              <dbl>      <dbl>      <dbl>\n",
    "#> 1 1958-01-01 00:00:00  359.       350.       368.\n",
    "#> 2 1958-02-01 00:00:00  350.       342.       360.\n",
    "#> 3 1958-03-01 00:00:00  407.       398.       416.\n",
    "#> 4 1958-04-01 00:00:00  398.       389.       407.\n",
    "#> 5 1958-05-01 00:00:00  402.       393.       411.\n",
    "#> 6 1958-06-01 00:00:00  459.       450.       469."
   ]
  },
  {
   "cell_type": "code",
   "execution_count": null,
   "metadata": {},
   "outputs": [],
   "source": [
    "y_ <- tmp$yhat\n",
    "caret::RMSE(y_, y)\n",
    "#> [1] 33.68719"
   ]
  },
  {
   "cell_type": "code",
   "execution_count": null,
   "metadata": {},
   "outputs": [],
   "source": [
    "# my_prophet_model %>% plot(tmp) # 予測結果のみでよい場合\n",
    "\n",
    "my_prophet_model %>% plot(tmp) +\n",
    "  geom_line(data = my_train, aes(x = as.POSIXct(ds))) +\n",
    "  geom_line(data = my_test,  aes(x = as.POSIXct(ds)), color = \"red\")"
   ]
  }
 ],
 "nbformat": 4,
 "nbformat_minor": 5,
 "metadata": {
  "kernelspec": {
   "name": "ir",
   "display_name": "R"
  }
 }
}
