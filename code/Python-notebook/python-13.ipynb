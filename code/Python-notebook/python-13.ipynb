{
  "cells": [
    {
      "id": "f1be5a50",
      "cell_type": "markdown",
      "source": "[\u8fbb\u771f\u543e\u30fb\u77e2\u5439\u592a\u6717\u300e\u30bc\u30ed\u304b\u3089\u306f\u3058\u3081\u308b\u30c7\u30fc\u30bf\u30b5\u30a4\u30a8\u30f3\u30b9\u5165\u9580\u300f\uff08\u8b1b\u8ac7\u793e,\u00a02021\uff09](https://github.com/taroyabuki/fromzero)",
      "metadata": {}
    },
    {
      "cell_type": "code",
      "execution_count": null,
      "metadata": {},
      "outputs": [],
      "source": [
        "# Google Colaboratory\u306e\u74b0\u5883\u8a2d\u5b9a\n",
        "import os\n",
        "if 'COLAB_GPU' in os.environ:\n",
        "  !python -m pip install pca | tail -n 1"
      ],
      "id": "cac80f3d-9600-4b74-ab5a-737dd4540b77"
    },
    {
      "id": "987e9039",
      "cell_type": "markdown",
      "source": "## 13.1 \u4e3b\u6210\u5206\u5206\u6790",
      "metadata": {}
    },
    {
      "cell_type": "code",
      "execution_count": null,
      "metadata": {},
      "outputs": [],
      "source": [
        "import numpy as np\n",
        "import pandas as pd\n",
        "from pca import pca\n",
        "from scipy.stats import zscore\n",
        "\n",
        "my_data = pd.DataFrame(\n",
        "    {'language': [  0,  20,  20,  25,  22,  17],\n",
        "     'english':  [  0,  20,  40,  20,  24,  18],\n",
        "     'math':     [100,  20,   5,  30,  17,  25],\n",
        "     'science':  [  0,  20,   5,  25,  16,  23],\n",
        "     'society':  [  0,  20,  30,   0,  21,  17]},\n",
        "    index=       ['A', 'B', 'C', 'D', 'E', 'F'])\n",
        "my_model = pca(n_components=5)\n",
        "my_result = my_model.fit_transform(my_data) # \u4e3b\u6210\u5206\u5206\u6790\u306e\u5b9f\u884c"
      ],
      "id": "062d8a21-9d83-4e7c-8af3-01c6d1ad33af"
    },
    {
      "cell_type": "code",
      "execution_count": null,
      "metadata": {},
      "outputs": [],
      "source": [
        "my_result['PC'] # \u4e3b\u6210\u5206\u30b9\u30b3\u30a2"
      ],
      "id": "e7c1cba9-d8be-4f28-9469-16e32f24ef34"
    },
    {
      "cell_type": "code",
      "execution_count": null,
      "metadata": {},
      "outputs": [],
      "source": [
        "my_model.biplot(legend=False)"
      ],
      "id": "6f6fd275-dae5-4660-bbcb-92963d275c55"
    },
    {
      "cell_type": "code",
      "execution_count": null,
      "metadata": {},
      "outputs": [],
      "source": [
        "my_result['loadings']"
      ],
      "id": "afb9e0f0-d21a-462c-b3e8-414beb363fcf"
    },
    {
      "cell_type": "code",
      "execution_count": null,
      "metadata": {},
      "outputs": [],
      "source": [
        "my_result['explained_var']"
      ],
      "id": "63d1d313-ff14-4b02-b5b9-1bf3410195a3"
    },
    {
      "cell_type": "code",
      "execution_count": null,
      "metadata": {},
      "outputs": [],
      "source": [
        "tmp = zscore(my_data, ddof=1) # \u6a19\u6e96\u5316\n",
        "my_result = my_model.fit_transform(\n",
        "    tmp)\n",
        "my_result['PC'] # \u4e3b\u6210\u5206\u30b9\u30b3\u30a2"
      ],
      "id": "342e9c05-84d6-4437-839d-bc9d6c2240a4"
    },
    {
      "cell_type": "code",
      "execution_count": null,
      "metadata": {},
      "outputs": [],
      "source": [
        "tmp = my_data - my_data.mean()\n",
        "Z  = np.matrix(tmp)                       # \u6a19\u6e96\u5316\u3057\u306a\u3044\u5834\u5408\n",
        "#Z = np.matrix(tmp / my_data.std(ddof=1)) # \u221a\u4e0d\u504f\u5206\u6563\u3067\u6a19\u6e96\u5316\u3059\u308b\u5834\u5408\n",
        "#Z = np.matrix(tmp / my_data.std(ddof=0)) # pca(normalize=True)\u306b\u5408\u308f\u305b\u308b\u5834\u5408\n",
        "\n",
        "n = len(my_data)\n",
        "S = np.cov(Z, rowvar=0, ddof=0)      # \u5206\u6563\u5171\u5206\u6563\u884c\u5217\n",
        "#S = Z.T @ Z / n                     # \uff08\u540c\u3058\u7d50\u679c\uff09\n",
        "vals, vecs = np.linalg.eig(S)        # \u56fa\u6709\u5024\u3068\u56fa\u6709\u30d9\u30af\u30c8\u30eb\n",
        "idx = np.argsort(-vals)              # \u56fa\u6709\u5024\u306e\u5927\u304d\u3044\u9806\u306e\u756a\u53f7\n",
        "vals, vecs = vals[idx], vecs[:, idx] # \u56fa\u6709\u5024\u306e\u5927\u304d\u3044\u9806\u3067\u306e\u4e26\u3079\u66ff\u3048\n",
        "Z @ vecs                             # \u4e3b\u6210\u5206\u30b9\u30b3\u30a2\uff08\u7d50\u679c\u306f\u5272\u611b\uff09\n",
        "vals.cumsum() / vals.sum()           # \u7d2f\u7a4d\u5bc4\u4e0e\u7387"
      ],
      "id": "c06504ad-cda5-478c-89f6-cd6a984d59f5"
    },
    {
      "cell_type": "code",
      "execution_count": null,
      "metadata": {},
      "outputs": [],
      "source": [
        "U, d, V =  np.linalg.svd(Z, full_matrices=False)     # \u7279\u7570\u5024\u5206\u89e3\n",
        "W = np.diag(d)\n",
        "\n",
        "[np.isclose(Z, U @ W @ V).all(),                     # \u78ba\u8a8d1\n",
        " np.isclose(U.T @ U, np.identity(U.shape[1])).all(), # \u78ba\u8a8d2\n",
        " np.isclose(V @ V.T, np.identity(V.shape[0])).all()] # \u78ba\u8a8d3\n",
        "\n",
        "U @ W                # \u4e3b\u6210\u5206\u30b9\u30b3\u30a2\uff08\u7d50\u679c\u306f\u5272\u611b\uff09\n",
        "\n",
        "e = d ** 2 / n       # \u5206\u6563\u5171\u5206\u6563\u884c\u5217\u306e\u56fa\u6709\u5024\n",
        "e.cumsum() / e.sum() # \u7d2f\u7a4d\u5bc4\u4e0e\u7387"
      ],
      "id": "22d95c2f-ff54-41b6-8261-c1ea6b698f27"
    },
    {
      "id": "944d8461",
      "cell_type": "markdown",
      "source": "## 13.2 \u30af\u30e9\u30b9\u30bf\u5206\u6790",
      "metadata": {}
    },
    {
      "cell_type": "code",
      "execution_count": null,
      "metadata": {},
      "outputs": [],
      "source": [
        "import pandas as pd\n",
        "from scipy.cluster import hierarchy\n",
        "\n",
        "my_data = pd.DataFrame(\n",
        "    {'x': [  0, -16,  10,  10],\n",
        "     'y': [  0,   0,  10, -15]},\n",
        "    index=['A', 'B', 'C', 'D'])\n",
        "\n",
        "my_result = hierarchy.linkage(\n",
        "    my_data,\n",
        "    metric='euclidean', # \u7701\u7565\u53ef\n",
        "    method='complete')"
      ],
      "id": "208feab5-aa7b-4fba-abac-84311627d4e1"
    },
    {
      "cell_type": "code",
      "execution_count": null,
      "metadata": {},
      "outputs": [],
      "source": [
        "hierarchy.dendrogram(my_result,\n",
        "    labels=my_data.index)"
      ],
      "id": "87c311fa-0d95-4689-b5d5-66c944449e59"
    },
    {
      "cell_type": "code",
      "execution_count": null,
      "metadata": {},
      "outputs": [],
      "source": [
        "hierarchy.cut_tree(my_result, 3)\n",
        "\n",
        "# \u88dc\u8db3\uff08\u898b\u3084\u3059\u304f\u3059\u308b\uff09\n",
        "my_data.assign(cluster=\n",
        "  hierarchy.cut_tree(my_result, 3))"
      ],
      "id": "2b47cee2-4989-4322-92d5-10dba95e6d9b"
    },
    {
      "cell_type": "code",
      "execution_count": null,
      "metadata": {},
      "outputs": [],
      "source": [
        "import pandas as pd\n",
        "import seaborn as sns\n",
        "\n",
        "my_data = pd.DataFrame(\n",
        "    {'language': [  0,  20,  20,  25,  22,  17],\n",
        "     'english':  [  0,  20,  40,  20,  24,  18],\n",
        "     'math':     [100,  20,   5,  30,  17,  25],\n",
        "     'science':  [  0,  20,   5,  25,  16,  23],\n",
        "     'society':  [  0,  20,  30,   0,  21,  17]},\n",
        "    index=       ['A', 'B', 'C', 'D', 'E', 'F'])\n",
        "\n",
        "sns.clustermap(my_data, z_score=1) # \u5217\u3054\u3068\u306e\u6a19\u6e96\u5316"
      ],
      "id": "67f5ca9a-ba60-479e-81c1-96104f5594bc"
    },
    {
      "cell_type": "code",
      "execution_count": null,
      "metadata": {},
      "outputs": [],
      "source": [
        "import pandas as pd\n",
        "from sklearn.cluster import KMeans\n",
        "\n",
        "my_data = pd.DataFrame(\n",
        "    {'x': [  0, -16,  10,  10],\n",
        "     'y': [  0,   0,  10, -15]},\n",
        "    index=['A', 'B', 'C', 'D'])\n",
        "\n",
        "my_result = KMeans(\n",
        "    n_clusters=3).fit(my_data)"
      ],
      "id": "e23a5bd5-baea-43bc-a39e-b09123e12144"
    },
    {
      "cell_type": "code",
      "execution_count": null,
      "metadata": {},
      "outputs": [],
      "source": [
        "my_result.labels_\n",
        "\n",
        "# \u88dc\u8db3\uff08\u898b\u3084\u3059\u304f\u3059\u308b\uff09\n",
        "my_data.assign(\n",
        "  cluster=my_result.labels_)"
      ],
      "id": "71cee380-51d6-4b93-aac4-5e764f310b03"
    },
    {
      "cell_type": "code",
      "execution_count": null,
      "metadata": {},
      "outputs": [],
      "source": [
        "import pandas as pd\n",
        "import statsmodels.api as sm\n",
        "from sklearn.cluster import KMeans\n",
        "\n",
        "iris = sm.datasets.get_rdataset('iris', 'datasets').data\n",
        "my_data = iris.iloc[:, 0:4]\n",
        "\n",
        "k = range(1, 11)\n",
        "my_df = pd.DataFrame({\n",
        "    'k': k,\n",
        "    'inertia': [KMeans(k).fit(my_data).inertia_ for k in range(1, 11)]})\n",
        "my_df.plot(x='k', style='o-', legend=False)"
      ],
      "id": "a7207edf-217d-458d-9d4c-8581d2351aa2"
    },
    {
      "cell_type": "code",
      "execution_count": null,
      "metadata": {},
      "outputs": [],
      "source": [
        "import seaborn as sns\n",
        "import statsmodels.api as sm\n",
        "from pca import pca\n",
        "from scipy.cluster import hierarchy\n",
        "from scipy.stats import zscore\n",
        "from sklearn.cluster import KMeans\n",
        "\n",
        "iris = sm.datasets.get_rdataset('iris', 'datasets').data\n",
        "my_data = zscore(iris.iloc[:, 0:4])\n",
        "\n",
        "my_model = pca() # \u4e3b\u6210\u5206\u5206\u6790\n",
        "my_result = my_model.fit_transform(my_data)['PC']\n",
        "my_result['Species'] = list(iris.Species)\n",
        "\n",
        "# \u975e\u968e\u5c64\u7684\u30af\u30e9\u30b9\u30bf\u5206\u6790\u306e\u5834\u5408\n",
        "my_result['cluster'] = KMeans(n_clusters=3).fit(my_data).labels_\n",
        "\n",
        "# \u968e\u5c64\u7684\u30af\u30e9\u30b9\u30bf\u5206\u6790\u306e\u5834\u5408\n",
        "#my_result['cluster'] = hierarchy.cut_tree(\n",
        "#    hierarchy.linkage(my_data, method='complete'), 3)[:,0]\n",
        "\n",
        "sns.scatterplot(x='PC1', y='PC2', data=my_result, legend=False,\n",
        "                hue='cluster',   # \u8272\u3067\u30af\u30e9\u30b9\u30bf\u3092\u8868\u73fe\u3059\u308b\uff0e\n",
        "                style='Species', # \u5f62\u3067\u54c1\u7a2e\u3092\u8868\u73fe\u3059\u308b\uff0e\n",
        "                palette='bright')"
      ],
      "id": "8cb8b3d6-2ceb-42bb-b452-414416eb3ea2"
    }
  ],
  "nbformat": 4,
  "nbformat_minor": 5,
  "metadata": {
    "kernelspec": {
      "name": "python3",
      "display_name": "Python 3"
    }
  }
}