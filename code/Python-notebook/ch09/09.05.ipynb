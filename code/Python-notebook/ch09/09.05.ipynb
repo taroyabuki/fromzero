{
 "cells": [
  {
   "cell_type": "markdown",
   "metadata": {},
   "source": [
    "## 9.5 欠損のあるデータでの学習\n",
    "\n",
    "### 9.5.1 欠損のあるデータの準備"
   ]
  },
  {
   "cell_type": "code",
   "execution_count": null,
   "metadata": {},
   "outputs": [],
   "source": [
    "import numpy as np\n",
    "import statsmodels.api as sm\n",
    "import warnings\n",
    "import xgboost\n",
    "from sklearn import tree\n",
    "from sklearn.impute import SimpleImputer\n",
    "from sklearn.model_selection import cross_val_score, LeaveOneOut\n",
    "from sklearn.pipeline import Pipeline\n",
    "\n",
    "my_data = sm.datasets.get_rdataset('iris', 'datasets').data\n",
    "\n",
    "n = len(my_data)\n",
    "my_data['Petal.Length'] = [np.nan if i % 10 == 0 else\n",
    "                           my_data['Petal.Length'][i] for i in range(n)]\n",
    "my_data['Petal.Width']  = [np.nan if i % 10 == 1 else\n",
    "                           my_data['Petal.Width'][i]  for i in range(n)]\n",
    "\n",
    "my_data.describe() # countの値が135の変数に，150-135=15個の欠損がある．\n",
    "#>        Sepal.Length  Sepal.Width  Petal.Length  Petal.Width\n",
    "#> count    150.000000   150.000000    135.000000   135.000000\n",
    "#> mean       5.843333     3.057333      3.751852     1.197037\n",
    "# 以下省略\n",
    "\n",
    "X, y = my_data.iloc[:, 0:4], my_data.Species"
   ]
  },
  {
   "cell_type": "markdown",
   "metadata": {},
   "source": [
    "### 9.5.2 方針1：欠損を埋めて学習する．"
   ]
  },
  {
   "cell_type": "code",
   "execution_count": null,
   "metadata": {},
   "outputs": [],
   "source": [
    "my_pipeline = Pipeline([\n",
    "    ('imputer', SimpleImputer(strategy='median')), # 欠損を中央値で埋める．\n",
    "    ('tree', tree.DecisionTreeClassifier(random_state=0))])\n",
    "my_scores = cross_val_score(my_pipeline, X, y, cv=LeaveOneOut(), n_jobs=-1)\n",
    "my_scores.mean()\n",
    "#> 0.9333333333333333"
   ]
  },
  {
   "cell_type": "markdown",
   "metadata": {},
   "source": [
    "### 9.5.3 方針2：欠損があっても使える手法で学習する．"
   ]
  },
  {
   "cell_type": "code",
   "execution_count": null,
   "metadata": {},
   "outputs": [],
   "source": [
    "warnings.simplefilter('ignore')  # これ以降，警告を表示しない．\n",
    "my_scores = cross_val_score(\n",
    "    xgboost.XGBClassifier(eval_metric='mlogloss'), X, y, cv=5)\n",
    "warnings.simplefilter('default') # これ以降，警告を表示する．\n",
    "\n",
    "my_scores.mean()\n",
    "#> 0.9666666666666668"
   ]
  }
 ],
 "nbformat": 4,
 "nbformat_minor": 5,
 "metadata": {
  "kernelspec": {
   "name": "python3",
   "display_name": "Python 3"
  }
 }
}
