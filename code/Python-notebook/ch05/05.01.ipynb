{
 "cells": [
  {
   "cell_type": "markdown",
   "metadata": {},
   "source": [
    "## 5.1 データの読み込み\n",
    "\n",
    "### 5.1.1 CSV"
   ]
  },
  {
   "cell_type": "code",
   "execution_count": null,
   "metadata": {},
   "outputs": [],
   "source": [
    "!wget https://raw.githubusercontent.com/taroyabuki/fromzero/master/data/exam.csv"
   ]
  },
  {
   "cell_type": "markdown",
   "metadata": {},
   "source": [
    "#### 5.1.1.1 CSVの読み込み"
   ]
  },
  {
   "cell_type": "code",
   "execution_count": null,
   "metadata": {},
   "outputs": [],
   "source": [
    "import pandas as pd\n",
    "my_df = pd.read_csv('exam.csv')\n",
    "my_df\n",
    "#>   name  english  math gender\n",
    "#> 0    A       60    70      f\n",
    "#> 1    B       90    80      m\n",
    "#> 2    C       70    90      m\n",
    "#> 3    D       90   100      f"
   ]
  },
  {
   "cell_type": "code",
   "execution_count": null,
   "metadata": {},
   "outputs": [],
   "source": [
    "my_url = ('https://raw.githubusercontent.com/taroyabuki'\n",
    "          '/fromzero/master/data/exam.csv')\n",
    "my_df = pd.read_csv(my_url)"
   ]
  },
  {
   "cell_type": "code",
   "execution_count": null,
   "metadata": {},
   "outputs": [],
   "source": [
    "my_df2 = pd.read_csv('exam.csv',\n",
    "    index_col='name')\n",
    "my_df2\n",
    "#>       english  math gender\n",
    "#> name\n",
    "#> A          60    70      f\n",
    "#> B          90    80      m\n",
    "#> C          70    90      m\n",
    "#> D          90   100      f"
   ]
  },
  {
   "cell_type": "markdown",
   "metadata": {},
   "source": [
    "#### 5.1.1.2 CSVファイルへの書き出し"
   ]
  },
  {
   "cell_type": "code",
   "execution_count": null,
   "metadata": {},
   "outputs": [],
   "source": [
    "my_df.to_csv('exam2.csv', index=False)"
   ]
  },
  {
   "cell_type": "code",
   "execution_count": null,
   "metadata": {},
   "outputs": [],
   "source": [
    "my_df2.to_csv('exam3.csv')"
   ]
  },
  {
   "cell_type": "markdown",
   "metadata": {},
   "source": [
    "### 5.1.2 文字コード"
   ]
  },
  {
   "cell_type": "code",
   "execution_count": null,
   "metadata": {},
   "outputs": [],
   "source": [
    "my_df = pd.read_csv('exam.csv',\n",
    "    encoding='UTF-8')"
   ]
  },
  {
   "cell_type": "code",
   "execution_count": null,
   "metadata": {},
   "outputs": [],
   "source": [
    "my_df.to_csv('exam2.csv', index=False, encoding='UTF-8')"
   ]
  },
  {
   "cell_type": "markdown",
   "metadata": {},
   "source": [
    "### 5.1.3 ウェブ上の表"
   ]
  },
  {
   "cell_type": "code",
   "execution_count": null,
   "metadata": {},
   "outputs": [],
   "source": [
    "my_url = 'https://github.com/taroyabuki/fromzero/blob/master/data/exam.csv'\n",
    "my_tables = pd.read_html(my_url)"
   ]
  },
  {
   "cell_type": "code",
   "execution_count": null,
   "metadata": {},
   "outputs": [],
   "source": [
    "my_tables\n",
    "#> [   Unnamed: 0 name  english ...\n",
    "#>  0         NaN    A       60 ...\n",
    "#>  1         NaN    B       90 ...\n",
    "#>  2         NaN    C       70 ...\n",
    "#>  3         NaN    D       90 ...]"
   ]
  },
  {
   "cell_type": "code",
   "execution_count": null,
   "metadata": {},
   "outputs": [],
   "source": [
    "my_tables[0]\n",
    "#>    Unnamed: 0 name  english ...\n",
    "#> 0         NaN    A       60 ...\n",
    "#> 1         NaN    B       90 ...\n",
    "#> 2         NaN    C       70 ...\n",
    "#> 3         NaN    D       90 ..."
   ]
  },
  {
   "cell_type": "code",
   "execution_count": null,
   "metadata": {},
   "outputs": [],
   "source": [
    "# 1列目以降を取り出す．\n",
    "my_data = my_tables[0].iloc[:, 1:]\n",
    "my_data\n",
    "#>   name  english  math gender\n",
    "#> 0    A       60    70      f\n",
    "#> 1    B       90    80      m\n",
    "#> 2    C       70    90      m\n",
    "#> 3    D       90   100      f"
   ]
  },
  {
   "cell_type": "markdown",
   "metadata": {},
   "source": [
    "### 5.1.4 JSONとXML\n",
    "\n",
    "#### 5.1.4.1 JSONデータの読み込み"
   ]
  },
  {
   "cell_type": "code",
   "execution_count": null,
   "metadata": {},
   "outputs": [],
   "source": [
    "my_url = ('https://raw.githubusercontent.com/taroyabuki'\n",
    "          '/fromzero/master/data/exam.json')\n",
    "my_data = pd.read_json(my_url)\n",
    "#my_data = pd.read_json('exam.json') # （ファイルを使う場合）\n",
    "my_data\n",
    "#>   name  english  math gender\n",
    "#> 0    A       60    70      f\n",
    "#> 1    B       90    80      m\n",
    "#> 2    C       70    90      m\n",
    "#> 3    D       90   100      f"
   ]
  },
  {
   "cell_type": "markdown",
   "metadata": {},
   "source": [
    "#### 5.1.4.2 XMLデータの読み込み"
   ]
  },
  {
   "cell_type": "code",
   "execution_count": null,
   "metadata": {},
   "outputs": [],
   "source": [
    "import xml.etree.ElementTree as ET\n",
    "from urllib.request import urlopen\n",
    "\n",
    "my_url = ('https://raw.githubusercontent.com/taroyabuki'\n",
    "          '/fromzero/master/data/exam.xml')\n",
    "with urlopen(my_url) as f:\n",
    "    my_tree = ET.parse(f)       # XMLデータの読み込み\n",
    "\n",
    "#my_tree = ET.parse('exam.xml') # （ファイルを使う場合）\n",
    "my_ns = '{https://www.example.net/ns/1.0}' # 名前空間"
   ]
  },
  {
   "cell_type": "code",
   "execution_count": null,
   "metadata": {},
   "outputs": [],
   "source": [
    "my_records = my_tree.findall(f'.//{my_ns}record')"
   ]
  },
  {
   "cell_type": "code",
   "execution_count": null,
   "metadata": {},
   "outputs": [],
   "source": [
    "def f(record):\n",
    "    my_dic1 = record.attrib # 属性を取り出す．\n",
    "    # 子要素の名前と内容のペアを辞書にする．\n",
    "    my_dic2 = {child.tag.replace(my_ns, ''): child.text for child in list(record)}\n",
    "    return {**my_dic1, **my_dic2} # 辞書を結合する．"
   ]
  },
  {
   "cell_type": "code",
   "execution_count": null,
   "metadata": {},
   "outputs": [],
   "source": [
    "my_data = pd.DataFrame([f(record) for record in my_records])\n",
    "my_data['english'] = pd.to_numeric(my_data['english'])\n",
    "my_data['math']    = pd.to_numeric(my_data['math'])\n",
    "my_data\n",
    "#>    english  math gender name\n",
    "#> 0       60    70      f    A\n",
    "#> 1       90    80      m    B\n",
    "#> 2       70    90      m    C\n",
    "#> 3       90   100      f    D"
   ]
  }
 ],
 "nbformat": 4,
 "nbformat_minor": 5,
 "metadata": {
  "kernelspec": {
   "name": "python3",
   "display_name": "Python 3"
  }
 }
}
