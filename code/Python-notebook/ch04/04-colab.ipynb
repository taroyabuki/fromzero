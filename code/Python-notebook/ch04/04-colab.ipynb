{
 "cells": [
  {
   "cell_type": "markdown",
   "metadata": {},
   "source": [
    "# 04\n",
    "\n",
    "## 4.1 記述統計\n",
    "\n",
    "### 4.1.1 平均・分散・標準偏差"
   ]
  },
  {
   "cell_type": "code",
   "execution_count": null,
   "metadata": {},
   "outputs": [],
   "source": [
    "import numpy as np\n",
    "import pandas as pd\n",
    "\n",
    "x = [165, 170, 175, 180, 185]\n",
    "np.mean(x) # リストの場合\n",
    "#> 175.0\n",
    "\n",
    "x = np.array( # アレイ\n",
    "    [165, 170, 175, 180, 185])\n",
    "x.mean() # np.mean(x)も可\n",
    "#> 175.0\n",
    "\n",
    "x = pd.Series( # シリーズ\n",
    "    [165, 170, 175, 180, 185])\n",
    "x.mean() # np.mean(x)も可\n",
    "#> 175.0"
   ]
  },
  {
   "cell_type": "code",
   "execution_count": null,
   "metadata": {},
   "outputs": [],
   "source": [
    "n = len(x) # サンプルサイズ\n",
    "sum(x) / n\n",
    "#> 175.0"
   ]
  },
  {
   "cell_type": "code",
   "execution_count": null,
   "metadata": {},
   "outputs": [],
   "source": [
    "y = [173, 174, 175, 176, 177]\n",
    "np.mean(y)\n",
    "#> 175.0"
   ]
  },
  {
   "cell_type": "code",
   "execution_count": null,
   "metadata": {},
   "outputs": [],
   "source": [
    "np.var(x, ddof=1) # xの分散\n",
    "#> 62.5\n",
    "\n",
    "np.var(y, ddof=1) # yの分散\n",
    "#> 2.5"
   ]
  },
  {
   "cell_type": "code",
   "execution_count": null,
   "metadata": {},
   "outputs": [],
   "source": [
    "sum((x - np.mean(x))**2) / (n - 1)\n",
    "#> 62.5"
   ]
  },
  {
   "cell_type": "code",
   "execution_count": null,
   "metadata": {},
   "outputs": [],
   "source": [
    "np.std(x, ddof=1) # xの標準偏差\n",
    "#> 7.905694150420948\n",
    "\n",
    "np.std(y, ddof=1) # yの標準偏差\n",
    "#> 1.5811388300841898"
   ]
  },
  {
   "cell_type": "code",
   "execution_count": null,
   "metadata": {},
   "outputs": [],
   "source": [
    "np.var(x, ddof=1)**0.5 # xの標準偏差\n",
    "#> 7.905694150420948"
   ]
  },
  {
   "cell_type": "code",
   "execution_count": null,
   "metadata": {},
   "outputs": [],
   "source": [
    "s = pd.Series(x)\n",
    "s.describe()\n",
    "#> count      5.000000 （データ数）\n",
    "#> mean     175.000000 （平均）\n",
    "#> std        7.905694 （標準偏差）\n",
    "#> min      165.000000 （最小値）\n",
    "#> 25%      170.000000 （第1四分位数）\n",
    "#> 50%      175.000000 （中央値）\n",
    "#> 75%      180.000000 （第3四分位数）\n",
    "#> max      185.000000 （最大値）\n",
    "#> dtype: float64"
   ]
  },
  {
   "cell_type": "code",
   "execution_count": null,
   "metadata": {},
   "outputs": [],
   "source": [
    "# s.describe()で計算済み"
   ]
  },
  {
   "cell_type": "markdown",
   "metadata": {},
   "source": [
    "#### 4.1.1.1 不偏分散とその非負の平方根"
   ]
  },
  {
   "cell_type": "code",
   "execution_count": null,
   "metadata": {},
   "outputs": [],
   "source": [
    "x = [165, 170, 175, 180, 185]\n",
    "\n",
    "np.var(x, ddof=1) # 不偏分散\n",
    "#> 62.5\n",
    "\n",
    "np.var(x, ddof=0) # 標本分散\n",
    "#> 50.0"
   ]
  },
  {
   "cell_type": "code",
   "execution_count": null,
   "metadata": {},
   "outputs": [],
   "source": [
    "np.std(x, ddof=1) # √不偏分散\n",
    "#> 7.905694150420949\n",
    "\n",
    "np.std(x, ddof=0) # √標本分散\n",
    "#> 7.0710678118654755"
   ]
  },
  {
   "cell_type": "code",
   "execution_count": null,
   "metadata": {},
   "outputs": [],
   "source": [
    "np.std(x, ddof=1) / len(x)**0.5\n",
    "#> 3.5355339059327373"
   ]
  },
  {
   "cell_type": "markdown",
   "metadata": {},
   "source": [
    "### 4.1.2 データフレームの統計処理"
   ]
  },
  {
   "cell_type": "code",
   "execution_count": null,
   "metadata": {},
   "outputs": [],
   "source": [
    "import numpy as np\n",
    "import pandas as pd\n",
    "\n",
    "my_df = pd.DataFrame({\n",
    "    'name':    ['A', 'B', 'C', 'D'],\n",
    "    'english': [ 60,  90,  70,  90],\n",
    "    'math':    [ 70,  80,  90, 100],\n",
    "    'gender':  ['f', 'm', 'm', 'f']})"
   ]
  },
  {
   "cell_type": "markdown",
   "metadata": {},
   "source": [
    "#### 4.1.2.1 列ごとの集計"
   ]
  },
  {
   "cell_type": "code",
   "execution_count": null,
   "metadata": {},
   "outputs": [],
   "source": [
    "my_df['english'].var(ddof=1)\n",
    "# あるいは\n",
    "np.var(my_df['english'], ddof=1)\n",
    "\n",
    "#> 225.0"
   ]
  },
  {
   "cell_type": "code",
   "execution_count": null,
   "metadata": {},
   "outputs": [],
   "source": [
    "my_df.var()\n",
    "# あるいは\n",
    "my_df.apply('var')\n",
    "# あるいは\n",
    "my_df.iloc[:, [1, 2]].apply(\n",
    "    lambda x: np.var(x, ddof=1))\n",
    "\n",
    "#> english    225.000000\n",
    "#> math       166.666667\n",
    "#> dtype: float64"
   ]
  },
  {
   "cell_type": "code",
   "execution_count": null,
   "metadata": {},
   "outputs": [],
   "source": [
    "my_df.describe()\n",
    "#>        english        math\n",
    "#> count      4.0    4.000000\n",
    "#> mean      77.5   85.000000\n",
    "#> std       15.0   12.909944\n",
    "#> min       60.0   70.000000\n",
    "#> 25%       67.5   77.500000\n",
    "#> 50%       80.0   85.000000\n",
    "#> 75%       90.0   92.500000\n",
    "#> max       90.0  100.000000"
   ]
  },
  {
   "cell_type": "markdown",
   "metadata": {},
   "source": [
    "#### 4.1.2.2 分割表とグループごとの集計"
   ]
  },
  {
   "cell_type": "code",
   "execution_count": null,
   "metadata": {},
   "outputs": [],
   "source": [
    "from collections import Counter\n",
    "Counter(my_df.gender)\n",
    "#> Counter({'f': 2, 'm': 2})\n",
    "\n",
    "# あるいは\n",
    "\n",
    "my_df.groupby('gender').apply(len)\n",
    "#> gender\n",
    "#> f    2\n",
    "#> m    2\n",
    "#> dtype: int64"
   ]
  },
  {
   "cell_type": "code",
   "execution_count": null,
   "metadata": {},
   "outputs": [],
   "source": [
    "my_df2 = my_df.assign(\n",
    "    excel=my_df.math >= 80)\n",
    "pd.crosstab(my_df2.gender,\n",
    "            my_df2.excel)\n",
    "#> excel   False  True\n",
    "#> gender\n",
    "#> f           1      1\n",
    "#> m           0      2"
   ]
  },
  {
   "cell_type": "code",
   "execution_count": null,
   "metadata": {},
   "outputs": [],
   "source": [
    "my_df.groupby('gender').mean()\n",
    "# あるいは\n",
    "my_df.groupby('gender').agg('mean')\n",
    "# あるいは\n",
    "my_df.groupby('gender').agg(np.mean)\n",
    "\n",
    "#>         english  math\n",
    "#> gender\n",
    "#> f          75.0  85.0\n",
    "#> m          80.0  85.0"
   ]
  },
  {
   "cell_type": "markdown",
   "metadata": {},
   "source": [
    "## 4.2 データの可視化"
   ]
  },
  {
   "cell_type": "code",
   "execution_count": null,
   "metadata": {},
   "outputs": [],
   "source": [
    "import numpy as np\n",
    "import pandas as pd\n",
    "import statsmodels.api as sm\n",
    "iris = sm.datasets.get_rdataset('iris', 'datasets').data\n",
    "iris.head()\n",
    "#>    Sepal.Length  Sepal.Width  Petal.Length  Petal.Width Species\n",
    "#> 0           5.1          3.5           1.4          0.2  setosa\n",
    "#> 1           4.9          3.0           1.4          0.2  setosa\n",
    "#> 2           4.7          3.2           1.3          0.2  setosa\n",
    "#> 3           4.6          3.1           1.5          0.2  setosa\n",
    "#> 4           5.0          3.6           1.4          0.2  setosa"
   ]
  },
  {
   "cell_type": "markdown",
   "metadata": {},
   "source": [
    "### 4.2.1 ヒストグラム"
   ]
  },
  {
   "cell_type": "code",
   "execution_count": null,
   "metadata": {},
   "outputs": [],
   "source": [
    "iris.hist('Sepal.Length')"
   ]
  },
  {
   "cell_type": "code",
   "execution_count": null,
   "metadata": {},
   "outputs": [],
   "source": [
    "my_df = pd.DataFrame(\n",
    "    {'x': [10, 20, 30]})\n",
    "my_df.hist('x', bins=2) # 階級数は2"
   ]
  },
  {
   "cell_type": "code",
   "execution_count": null,
   "metadata": {},
   "outputs": [],
   "source": [
    "x = iris['Sepal.Length']\n",
    "tmp = np.linspace(min(x), max(x), 10)\n",
    "iris.hist('Sepal.Length',\n",
    "          bins=tmp.round(2))"
   ]
  },
  {
   "cell_type": "markdown",
   "metadata": {},
   "source": [
    "### 4.2.2 散布図"
   ]
  },
  {
   "cell_type": "code",
   "execution_count": null,
   "metadata": {},
   "outputs": [],
   "source": [
    "iris.plot('Sepal.Length',\n",
    "          'Sepal.Width',\n",
    "          kind='scatter')"
   ]
  },
  {
   "cell_type": "markdown",
   "metadata": {},
   "source": [
    "### 4.2.3 箱ひげ図"
   ]
  },
  {
   "cell_type": "code",
   "execution_count": null,
   "metadata": {},
   "outputs": [],
   "source": [
    "iris.boxplot()"
   ]
  },
  {
   "cell_type": "markdown",
   "metadata": {},
   "source": [
    "### 4.2.4 棒グラフとエラーバー"
   ]
  },
  {
   "cell_type": "code",
   "execution_count": null,
   "metadata": {},
   "outputs": [],
   "source": [
    "pd.options.display.float_format = (\n",
    "    '{:.2f}'.format)\n",
    "my_df = (iris.describe().transpose()\n",
    "    [['mean', 'std']])\n",
    "my_df['se'] = (my_df['std'] /\n",
    "               len(iris)**0.5)\n",
    "my_df\n",
    "#>               mean  std   se\n",
    "#> Sepal.Length  5.84 0.83 0.07\n",
    "#> Sepal.Width   3.06 0.44 0.04\n",
    "#> Petal.Length  3.76 1.77 0.14\n",
    "#> Petal.Width   1.20 0.76 0.06"
   ]
  },
  {
   "cell_type": "code",
   "execution_count": null,
   "metadata": {},
   "outputs": [],
   "source": [
    "my_df.plot(y='mean', kind='bar', yerr='se', capsize=10)"
   ]
  },
  {
   "cell_type": "code",
   "execution_count": null,
   "metadata": {},
   "outputs": [],
   "source": [
    "my_group = iris.groupby('Species')                    # 品種ごとに，\n",
    "my_df = my_group.agg('mean')                          # 各変数の，平均と\n",
    "my_se = my_group.agg(lambda x: x.std() / len(x)**0.5) # 標準誤差を求める．\n",
    "my_se\n",
    "#>             Sepal.Length  Sepal.Width  Petal.Length  Petal.Width\n",
    "#> Species\n",
    "#> setosa              0.05         0.05          0.02         0.01\n",
    "#> versicolor          0.07         0.04          0.07         0.03\n",
    "#> virginica           0.09         0.05          0.08         0.04"
   ]
  },
  {
   "cell_type": "code",
   "execution_count": null,
   "metadata": {},
   "outputs": [],
   "source": [
    "my_group.agg('mean').plot(kind='bar', yerr=my_se, capsize=5)"
   ]
  },
  {
   "cell_type": "markdown",
   "metadata": {},
   "source": [
    "### 4.2.5 モザイクプロット"
   ]
  },
  {
   "cell_type": "code",
   "execution_count": null,
   "metadata": {},
   "outputs": [],
   "source": [
    "from statsmodels.graphics.mosaicplot \\\n",
    "    import mosaic\n",
    "\n",
    "my_df = pd.DataFrame({\n",
    "    'Species': iris.Species,\n",
    "    'w_Sepal': iris['Sepal.Width'] > 3})\n",
    "\n",
    "my_table = pd.crosstab( # 分割表\n",
    "    my_df['Species'],\n",
    "    my_df['w_Sepal'])\n",
    "my_table\n",
    "#> w_Sepal     False  True\n",
    "#> Species\n",
    "#> setosa          8     42\n",
    "#> versicolor     42      8\n",
    "#> virginica      33     17\n",
    "\n",
    "mosaic(my_df,\n",
    "       index=['Species', 'w_Sepal'])"
   ]
  },
  {
   "cell_type": "code",
   "execution_count": null,
   "metadata": {},
   "outputs": [],
   "source": [
    "my_table.columns = [str(x) for x in my_table.columns]\n",
    "my_table.index   = [str(x) for x in my_table.index]\n",
    "mosaic(my_df, index=['Species', 'w_Sepal'], labelizer=lambda k: my_table.loc[k])"
   ]
  },
  {
   "cell_type": "markdown",
   "metadata": {},
   "source": [
    "### 4.2.6 関数のグラフ"
   ]
  },
  {
   "cell_type": "code",
   "execution_count": null,
   "metadata": {},
   "outputs": [],
   "source": [
    "import matplotlib.pyplot as plt\n",
    "import numpy as np\n",
    "\n",
    "x = np.linspace(-2, 2, 100)\n",
    "y = x**3 - x\n",
    "plt.plot(x, y)"
   ]
  },
  {
   "cell_type": "markdown",
   "metadata": {},
   "source": [
    "### 4.2.7 ggplot2 (R)\n",
    "\n",
    "## 4.3 乱数"
   ]
  },
  {
   "cell_type": "code",
   "execution_count": null,
   "metadata": {},
   "outputs": [],
   "source": [
    "import matplotlib.pyplot as plt\n",
    "import numpy as np\n",
    "rng = np.random.default_rng()"
   ]
  },
  {
   "cell_type": "markdown",
   "metadata": {},
   "source": [
    "### 4.3.1 一様乱数（離散）"
   ]
  },
  {
   "cell_type": "code",
   "execution_count": null,
   "metadata": {},
   "outputs": [],
   "source": [
    "x = np.random.choice(\n",
    "    a=range(1, 7), # 1から6\n",
    "    size=10000,    # 乱数の数\n",
    "    replace=True)  # 重複あり\n",
    "# あるいは\n",
    "x = np.random.randint(\n",
    "# あるいは\n",
    "#x = rng.integers(\n",
    "    low=1,      # 最小\n",
    "    high=7,     # 最大+1\n",
    "    size=10000) # 乱数の数\n",
    "\n",
    "plt.hist(x, bins=6) # ヒストグラム"
   ]
  },
  {
   "cell_type": "markdown",
   "metadata": {},
   "source": [
    "### 4.3.2 一様乱数（連続）"
   ]
  },
  {
   "cell_type": "code",
   "execution_count": null,
   "metadata": {},
   "outputs": [],
   "source": [
    "x = np.random.random(size=1000)\n",
    "# あるいは\n",
    "x = rng.random(size=10000)\n",
    "# あるいは\n",
    "x = np.random.uniform(\n",
    "    low=0,     # 最小\n",
    "    high=1,    # 最大\n",
    "    size=1000) # 乱数の数\n",
    "plt.hist(x)"
   ]
  },
  {
   "cell_type": "code",
   "execution_count": null,
   "metadata": {},
   "outputs": [],
   "source": [
    "tmp = np.random.uniform(\n",
    "    low=1,     # 最小\n",
    "    high=7,    # 最大 + 1\n",
    "    size=1000) # 乱数の数\n",
    "x = [int(k) for k in tmp]\n",
    "plt.hist(x, bins=6) # 結果は割愛"
   ]
  },
  {
   "cell_type": "markdown",
   "metadata": {},
   "source": [
    "### 4.3.3 二項乱数"
   ]
  },
  {
   "cell_type": "code",
   "execution_count": null,
   "metadata": {},
   "outputs": [],
   "source": [
    "n = 100\n",
    "p = 0.5\n",
    "r = 10000\n",
    "x = np.random.binomial(\n",
    "# あるいは\n",
    "#x = rng.binomial(\n",
    "    n=n,    # 試行回数\n",
    "    p=p,    # 確率\n",
    "    size=r) # 乱数の数\n",
    "plt.hist(x, bins=max(x) - min(x))"
   ]
  },
  {
   "cell_type": "markdown",
   "metadata": {},
   "source": [
    "### 4.3.4 正規乱数"
   ]
  },
  {
   "cell_type": "code",
   "execution_count": null,
   "metadata": {},
   "outputs": [],
   "source": [
    "r = 10000\n",
    "x = np.random.normal(\n",
    "# あるいは\n",
    "#x = rng.normal(\n",
    "    loc=50,  # 平均\n",
    "    scale=5, # 標準偏差\n",
    "    size=r)  # 乱数の数\n",
    "plt.hist(x, bins=40)"
   ]
  },
  {
   "cell_type": "markdown",
   "metadata": {},
   "source": [
    "#### 4.3.4.1 補足：不偏性の具体例"
   ]
  },
  {
   "cell_type": "code",
   "execution_count": null,
   "metadata": {},
   "outputs": [],
   "source": [
    "import numpy as np\n",
    "import pandas as pd\n",
    "\n",
    "def f(k):\n",
    "    n = 10000\n",
    "    tmp = [g(np.random.normal(size=k, scale=3)) for _ in range(n)]\n",
    "    return pd.Series([k,\n",
    "                      np.mean(tmp),                  # 平均\n",
    "                      np.std(tmp, ddof=1) / n**0.5], # 標準誤差\n",
    "                     index=['k', 'mean', 'se'])"
   ]
  },
  {
   "cell_type": "code",
   "execution_count": null,
   "metadata": {},
   "outputs": [],
   "source": [
    "def g(x):\n",
    "    return np.var(x, ddof=1)\n",
    "pd.Series([10, 20, 30]).apply(f)\n",
    "#>       k      mean        se\n",
    "#> 0  10.0  9.025140  0.042690\n",
    "#> 1  20.0  9.022280  0.029525\n",
    "#> 2  30.0  8.983166  0.023584"
   ]
  },
  {
   "cell_type": "code",
   "execution_count": null,
   "metadata": {},
   "outputs": [],
   "source": [
    "def g(x):\n",
    "    return np.std(x, ddof=1)\n",
    "pd.Series([10, 20, 30]).apply(f)\n",
    "#>       k      mean        se\n",
    "#> 0  10.0  2.923114  0.006983\n",
    "#> 1  20.0  2.961450  0.004811\n",
    "#> 2  30.0  2.968328  0.003977"
   ]
  },
  {
   "cell_type": "code",
   "execution_count": null,
   "metadata": {},
   "outputs": [],
   "source": [
    "from math import gamma\n",
    "\n",
    "def g(x):\n",
    "    n = len(x)\n",
    "    return (np.std(x, ddof=1) *\n",
    "            (np.sqrt((n - 1) / 2) *\n",
    "             gamma((n - 1) / 2) /\n",
    "             gamma(n / 2)))\n",
    "pd.Series([10, 20, 30]).apply(f)\n",
    "#>       k      mean        se\n",
    "#> 0  10.0  3.005788  0.007121\n",
    "#> 1  20.0  3.001857  0.004894\n",
    "#> 2  30.0  2.995965  0.003925"
   ]
  },
  {
   "cell_type": "markdown",
   "metadata": {},
   "source": [
    "## 4.4 統計的推測\n",
    "\n",
    "### 4.4.1 検定"
   ]
  },
  {
   "cell_type": "code",
   "execution_count": null,
   "metadata": {},
   "outputs": [],
   "source": [
    "from statsmodels.stats.proportion import binom_test, proportion_confint\n",
    "\n",
    "binom_test(count=2,                 # 当たった回数\n",
    "           nobs=15,                 # くじを引いた回数\n",
    "           prop=4 / 10,             # 当たる確率（仮説）\n",
    "           alternative='two-sided') # 両側検定（デフォルト）\n",
    "                                    # 左片側検定なら'smaller'\n",
    "                                    # 右片側検定なら'larger'\n",
    "#> 0.03646166155263999"
   ]
  },
  {
   "cell_type": "markdown",
   "metadata": {},
   "source": [
    "#### 4.4.1.1 補足：p値とは何か"
   ]
  },
  {
   "cell_type": "code",
   "execution_count": null,
   "metadata": {},
   "outputs": [],
   "source": [
    "import numpy as np\n",
    "import pandas as pd\n",
    "from scipy import stats\n",
    "\n",
    "t = 4 / 10                        # 当たる確率\n",
    "n = 15                            # くじを引いた回数\n",
    "x = np.array(range(0, n + 1))     # 当たった回数\n",
    "my_pr  = stats.binom.pmf(x, n, t) # x回当たる確率\n",
    "my_pr2 = stats.binom.pmf(2, n, t) # 2回当たる確率\n",
    "\n",
    "my_data = pd.DataFrame({'x': x, 'y1': my_pr, 'y2': my_pr})\n",
    "my_data.loc[my_pr >  my_pr2, 'y1'] = np.nan # 当たる確率が，2回当たる確率超過\n",
    "my_data.loc[my_pr <= my_pr2, 'y2'] = np.nan # 当たる確率が，2回当たる確率以下\n",
    "ax = my_data.plot(x='x', style='o', ylabel='probability',\n",
    "                  legend=False)         # 凡例を表示しない．\n",
    "ax.hlines(y=my_pr2, xmin=0, xmax=15)    # 水平線\n",
    "ax.vlines(x=x,      ymin=0, ymax=my_pr) # 垂直線"
   ]
  },
  {
   "cell_type": "markdown",
   "metadata": {},
   "source": [
    "### 4.4.2 推定"
   ]
  },
  {
   "cell_type": "code",
   "execution_count": null,
   "metadata": {},
   "outputs": [],
   "source": [
    "a = 0.05\n",
    "proportion_confint(\n",
    "    count=2, # 当たった回数\n",
    "    nobs=15, # くじを引いた回数\n",
    "    alpha=a, # 有意水準（省略可）\n",
    "    method='binom_test')\n",
    "#> (0.024225732468536626,\n",
    "#>  0.3967139842509865)"
   ]
  },
  {
   "cell_type": "code",
   "execution_count": null,
   "metadata": {},
   "outputs": [],
   "source": [
    "a = 0.05 # 有意水準\n",
    "tmp = np.linspace(0, 1, 100)\n",
    "\n",
    "my_df = pd.DataFrame({\n",
    "    't': tmp,                                                  # 当たる確率\n",
    "    'q': a,                                                    # 水平線\n",
    "    'p': [binom_test(count=2, nobs=15, prop=t) for t in tmp]}) # p値\n",
    "\n",
    "my_df.plot(x='t', legend=None, xlabel=r'$\\theta$', ylabel=r'p-value')"
   ]
  },
  {
   "cell_type": "markdown",
   "metadata": {},
   "source": [
    "### 4.4.3 平均の差の検定と推定（t検定）"
   ]
  },
  {
   "cell_type": "code",
   "execution_count": null,
   "metadata": {},
   "outputs": [],
   "source": [
    "from statsmodels.stats.weightstats import CompareMeans, DescrStatsW\n",
    "\n",
    "X = [32.1, 26.2, 27.5, 31.8, 32.1, 31.2, 30.1, 32.4, 32.3, 29.9,\n",
    "     29.6, 26.6, 31.2, 30.9, 29.3]\n",
    "Y = [35.4, 34.6, 31.1, 32.4, 33.3, 34.7, 35.3, 34.3, 32.1, 28.3,\n",
    "     33.3, 30.5, 32.6, 33.3, 32.2]\n",
    "\n",
    "a = 0.05          # 有意水準（デフォルト） = 1 - 信頼係数\n",
    "alt = 'two-sided' # 両側検定（デフォルト）\n",
    "                  # 左片側検定なら'smaller'\n",
    "                  # 右片側検定なら'larger'\n",
    "\n",
    "d = DescrStatsW(np.array(X) - np.array(Y)) # 対標本の場合\n",
    "d.ttest_mean(alternative=alt)[1]           # p値\n",
    "#> 0.0006415571512322235\n",
    "\n",
    "d.tconfint_mean(alpha=a, alternative=alt) # 信頼区間\n",
    "#> (-3.9955246743198867, -1.3644753256801117)"
   ]
  },
  {
   "cell_type": "code",
   "execution_count": null,
   "metadata": {},
   "outputs": [],
   "source": [
    "c = CompareMeans(DescrStatsW(X), DescrStatsW(Y)) # 対標本でない場合\n",
    "\n",
    "ve = 'pooled' # 等分散を仮定する（デフォルト）．仮定しないなら'unequal'．\n",
    "c.ttest_ind(alternative=alt, usevar=ve)[1] # p値\n",
    "#> 0.000978530937238609\n",
    "\n",
    "c.tconfint_diff(alpha=a, alternative=alt, usevar=ve) # 信頼区間\n",
    "#> (-4.170905570517185, -1.1890944294828283)"
   ]
  },
  {
   "cell_type": "markdown",
   "metadata": {},
   "source": [
    "### 4.4.4 独立性の検定（カイ2乗検定）"
   ]
  },
  {
   "cell_type": "code",
   "execution_count": null,
   "metadata": {},
   "outputs": [],
   "source": [
    "import pandas as pd\n",
    "my_url = ('https://raw.githubusercontent.com/taroyabuki'\n",
    "          '/fromzero/master/data/smoker.csv')\n",
    "my_data = pd.read_csv(my_url)"
   ]
  },
  {
   "cell_type": "code",
   "execution_count": null,
   "metadata": {},
   "outputs": [],
   "source": [
    "my_data.head()\n",
    "#>   alive smoker\n",
    "#> 0   Yes     No\n",
    "#> 1   Yes     No\n",
    "#> 2   Yes     No\n",
    "#> 3   Yes     No\n",
    "#> 4   Yes     No"
   ]
  },
  {
   "cell_type": "code",
   "execution_count": null,
   "metadata": {},
   "outputs": [],
   "source": [
    "my_table = pd.crosstab(\n",
    "    my_data['alive'],\n",
    "    my_data['smoker'])\n",
    "my_table\n",
    "#> smoker   No  Yes\n",
    "#> alive\n",
    "#> No      117   54\n",
    "#> Yes     950  348"
   ]
  },
  {
   "cell_type": "code",
   "execution_count": null,
   "metadata": {},
   "outputs": [],
   "source": [
    "from scipy.stats import chi2_contingency\n",
    "chi2_contingency(my_table, correction=False)[1]\n",
    "#> 0.18860725715300422"
   ]
  },
  {
   "cell_type": "markdown",
   "metadata": {},
   "source": [
    "### 4.4.5 ブートストラップ\n",
    "\n",
    "#### 4.4.5.1 15回引いて2回当たったくじ"
   ]
  },
  {
   "cell_type": "code",
   "execution_count": null,
   "metadata": {},
   "outputs": [],
   "source": [
    "X = [0] * 13 + [1] * 2 # 手順1\n",
    "X\n",
    "#> [0, 0, 0, 0, 0, 0, 0, 0, 0, 0, 0, 0, 0, 1, 1]\n",
    "\n",
    "tmp = np.random.choice(X, 15, replace=True) # 手順2\n",
    "tmp\n",
    "#> array([0, 0, 0, 0, 0, 0, 0, 1, 0, 0, 0, 0, 1, 0, 0])\n",
    "\n",
    "sum(tmp) # 手順3\n",
    "#> 2\n",
    "\n",
    "n = 10**5\n",
    "result = [sum(np.random.choice(X, len(X), replace=True)) for _ in range(n)] # 手順4"
   ]
  },
  {
   "cell_type": "code",
   "execution_count": null,
   "metadata": {},
   "outputs": [],
   "source": [
    "import matplotlib.pyplot as plt\n",
    "plt.hist(result, bins=range(0, 16))"
   ]
  },
  {
   "cell_type": "code",
   "execution_count": null,
   "metadata": {},
   "outputs": [],
   "source": [
    "np.quantile(result, [0.025, 0.975])\n",
    "#> array([0., 5.])"
   ]
  }
 ],
 "nbformat": 4,
 "nbformat_minor": 5,
 "metadata": {
  "kernelspec": {
   "name": "python3",
   "display_name": "Python 3"
  }
 }
}
