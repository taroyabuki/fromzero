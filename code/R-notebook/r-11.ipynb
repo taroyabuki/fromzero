{
  "cells": [
    {
      "id": "5baa17a5",
      "cell_type": "markdown",
      "source": "[\u8fbb\u771f\u543e\u30fb\u77e2\u5439\u592a\u6717\u300e\u30bc\u30ed\u304b\u3089\u306f\u3058\u3081\u308b\u30c7\u30fc\u30bf\u30b5\u30a4\u30a8\u30f3\u30b9\u5165\u9580\u300f\uff08\u8b1b\u8ac7\u793e,\u00a02021\uff09](https://github.com/taroyabuki/fromzero)",
      "metadata": {}
    },
    {
      "cell_type": "code",
      "execution_count": null,
      "metadata": {},
      "outputs": [],
      "source": [
        "# Google Colaboratory\u306e\u74b0\u5883\u8a2d\u5b9a\n",
        "if (file.exists(\"/content\")) {\n",
        "  options(Ncpus = parallel::detectCores())\n",
        "  installed_packages <- rownames(installed.packages())\n",
        "  packages_to_install <- c(\"h2o\", \"keras\")\n",
        "  install.packages(setdiff(packages_to_install, installed_packages))\n",
        "}"
      ],
      "id": "da219d14-1c8e-4f4c-b0d8-0eafc0779fef"
    },
    {
      "id": "8da96981",
      "cell_type": "markdown",
      "source": "## 11.1 Keras\u306b\u3088\u308b\u56de\u5e30",
      "metadata": {}
    },
    {
      "cell_type": "code",
      "execution_count": null,
      "metadata": {},
      "outputs": [],
      "source": [
        "library(keras)\n",
        "library(tidyverse)\n",
        "my_url <- str_c(\"https://raw.githubusercontent.com/taroyabuki\",\n",
        "                \"/fromzero/master/data/wine.csv\")\n",
        "tmp <- read_csv(my_url)"
      ],
      "id": "d3a07388-a282-4c57-906b-b47b10f2a002"
    },
    {
      "cell_type": "code",
      "execution_count": null,
      "metadata": {},
      "outputs": [],
      "source": [
        "my_data <- tmp[sample(nrow(tmp)), ]"
      ],
      "id": "2af767ad-fd90-40e1-9621-d62a347aba27"
    },
    {
      "cell_type": "code",
      "execution_count": null,
      "metadata": {},
      "outputs": [],
      "source": [
        "X <- my_data %>%\n",
        "  select(-LPRICE2) %>% scale\n",
        "y <- my_data$LPRICE2"
      ],
      "id": "8b11871d-95cc-461d-9c12-4ebbbc0b07c8"
    },
    {
      "cell_type": "code",
      "execution_count": null,
      "metadata": {},
      "outputs": [],
      "source": [
        "curve(activation_relu(x), -3, 3)"
      ],
      "id": "fbd6637f-0adc-4fdb-83af-d2198bf8bd8d"
    },
    {
      "cell_type": "code",
      "execution_count": null,
      "metadata": {},
      "outputs": [],
      "source": [
        "my_model <- keras_model_sequential() %>%\n",
        "  layer_dense(units = 3, activation = \"relu\", input_shape = c(4)) %>%\n",
        "  layer_dense(units = 1)\n",
        "\n",
        "summary(my_model) # \u30cd\u30c3\u30c8\u30ef\u30fc\u30af\u306e\u6982\u8981\n",
        "# \u5272\u611b\uff08Python\u306e\u7d50\u679c\u3092\u53c2\u7167\uff09"
      ],
      "id": "7619ff4c-93cb-45ea-8627-4cf0321dd946"
    },
    {
      "cell_type": "code",
      "execution_count": null,
      "metadata": {},
      "outputs": [],
      "source": [
        "my_model %>% compile(\n",
        "  loss = \"mse\",\n",
        "  optimizer = \"rmsprop\")"
      ],
      "id": "c1d9ccdf-e633-4dc2-8d89-7a242f32080d"
    },
    {
      "cell_type": "code",
      "execution_count": null,
      "metadata": {},
      "outputs": [],
      "source": [
        "my_cb <- callback_early_stopping(\n",
        "  patience = 20,\n",
        "  restore_best_weights = TRUE)"
      ],
      "id": "f11d43d3-900d-40cd-9b69-321740d0b447"
    },
    {
      "cell_type": "code",
      "execution_count": null,
      "metadata": {},
      "outputs": [],
      "source": [
        "my_history <- my_model %>% fit(\n",
        "    x = X,\n",
        "    y = y,\n",
        "    validation_split = 0.25,\n",
        "    batch_size = 10,\n",
        "    epochs = 500,\n",
        "    callbacks = list(my_cb),\n",
        "    verbose = 0)"
      ],
      "id": "bf3919c3-9b64-4f60-9183-c2d648e94b74"
    },
    {
      "cell_type": "code",
      "execution_count": null,
      "metadata": {},
      "outputs": [],
      "source": [
        "plot(my_history)"
      ],
      "id": "d18e8ffa-f973-40d0-89e7-582a20020a4d"
    },
    {
      "cell_type": "code",
      "execution_count": null,
      "metadata": {},
      "outputs": [],
      "source": [
        "my_history"
      ],
      "id": "8290c4a9-62a2-4871-a559-b7079d8680c7"
    },
    {
      "cell_type": "code",
      "execution_count": null,
      "metadata": {},
      "outputs": [],
      "source": [
        "y_ <- my_model %>% predict(X)\n",
        "mean((y_ - y)^2)**0.5"
      ],
      "id": "cb8fb5b6-854a-4b4e-895f-2c52371b9657"
    },
    {
      "id": "8ffec1e8",
      "cell_type": "markdown",
      "source": "## 11.2 Keras\u306b\u3088\u308b\u5206\u985e",
      "metadata": {}
    },
    {
      "cell_type": "code",
      "execution_count": null,
      "metadata": {},
      "outputs": [],
      "source": [
        "library(keras)\n",
        "library(tidyverse)\n",
        "my_data <- iris[sample(nrow(iris)), ]"
      ],
      "id": "30d0a550-120b-4360-9ccf-087605593cc3"
    },
    {
      "cell_type": "code",
      "execution_count": null,
      "metadata": {},
      "outputs": [],
      "source": [
        "X <- my_data %>%\n",
        "  select(-Species) %>% scale\n",
        "y <- as.integer(my_data$Species) - 1"
      ],
      "id": "ab7b55a6-4e69-4418-868f-6cca75f7ac81"
    },
    {
      "cell_type": "code",
      "execution_count": null,
      "metadata": {},
      "outputs": [],
      "source": [
        "my_model <- keras_model_sequential() %>%\n",
        "  layer_dense(units = 3, activation = \"relu\", input_shape = c(4)) %>%\n",
        "  layer_dense(units = 3, activation = \"softmax\")"
      ],
      "id": "ab2d2e04-c0b7-4948-bf58-eaa77e601fa3"
    },
    {
      "cell_type": "code",
      "execution_count": null,
      "metadata": {},
      "outputs": [],
      "source": [
        "my_model %>% compile(loss = \"sparse_categorical_crossentropy\",\n",
        "                     optimizer = \"rmsprop\",\n",
        "                     metrics = c(\"accuracy\"))"
      ],
      "id": "c91aa7ec-f9d3-4731-be72-7e02ada8958a"
    },
    {
      "cell_type": "code",
      "execution_count": null,
      "metadata": {},
      "outputs": [],
      "source": [
        "my_cb <- callback_early_stopping(\n",
        "  patience = 20,\n",
        "  restore_best_weights = TRUE)\n",
        "\n",
        "my_history <- my_model %>%\n",
        "  fit(x = X,\n",
        "    y = y,\n",
        "    validation_split = 0.25,\n",
        "    batch_size = 10,\n",
        "    epochs = 500,\n",
        "    callbacks = list(my_cb),\n",
        "    verbose = 0)\n",
        "\n",
        "plot(my_history)"
      ],
      "id": "155c6607-99e4-4916-8768-50285f52f5e7"
    },
    {
      "cell_type": "code",
      "execution_count": null,
      "metadata": {},
      "outputs": [],
      "source": [
        "my_history"
      ],
      "id": "fcbd40ad-258e-4c95-a39a-b51c0b40bcdf"
    },
    {
      "cell_type": "code",
      "execution_count": null,
      "metadata": {},
      "outputs": [],
      "source": [
        "tmp <- my_model %>% predict(X)\n",
        "y_ <- apply(tmp, 1, which.max) - 1\n",
        "mean(y_ == y)"
      ],
      "id": "1f3b920c-e580-465e-bc31-d6c71d7107d9"
    },
    {
      "cell_type": "code",
      "execution_count": null,
      "metadata": {},
      "outputs": [],
      "source": [
        "-mean(log(c(0.8, 0.7, 0.3, 0.8)))\n",
        "\n",
        "-mean(log(c(0.7, 0.6, 0.2, 0.7)))"
      ],
      "id": "0caf0701-e80b-4f72-b2a1-6a08d1dfae1b"
    },
    {
      "cell_type": "code",
      "execution_count": null,
      "metadata": {},
      "outputs": [],
      "source": [
        "y <- c(2, 1, 0, 1)\n",
        "y_1 <- list(c(0.1, 0.1, 0.8),\n",
        "            c(0.1, 0.7, 0.2),\n",
        "            c(0.3, 0.4, 0.3),\n",
        "            c(0.1, 0.8, 0.1))\n",
        "y_2 <- list(c(0.1, 0.2, 0.7),\n",
        "            c(0.2, 0.6, 0.2),\n",
        "            c(0.2, 0.5, 0.3),\n",
        "            c(0.2, 0.7, 0.1))"
      ],
      "id": "c9718504-52df-4006-b659-753740c858c6"
    },
    {
      "cell_type": "code",
      "execution_count": null,
      "metadata": {},
      "outputs": [],
      "source": [
        "c(mean(as.array(loss_sparse_categorical_crossentropy(y_true = y, y_pred = y_1))),\n",
        "  mean(as.array(loss_sparse_categorical_crossentropy(y_true = y, y_pred = y_2))))"
      ],
      "id": "2e50554a-9f64-4238-ab77-836da71f8558"
    },
    {
      "id": "18df10b6",
      "cell_type": "markdown",
      "source": "## 11.3 MNIST\uff1a\u624b\u66f8\u304d\u6570\u5b57\u306e\u5206\u985e",
      "metadata": {}
    },
    {
      "cell_type": "code",
      "execution_count": null,
      "metadata": {},
      "outputs": [],
      "source": [
        "library(keras)\n",
        "library(tidyverse)\n",
        "keras::`%<-%`(c(c(x_train, y_train), c(x_test, y_test)), dataset_mnist())"
      ],
      "id": "bb7d5c4e-3572-417f-8a44-b0c3b0b95a35"
    },
    {
      "cell_type": "code",
      "execution_count": null,
      "metadata": {},
      "outputs": [],
      "source": [
        "dim(x_train)"
      ],
      "id": "311d99fc-fd32-43f8-9dbd-5629979655fa"
    },
    {
      "cell_type": "code",
      "execution_count": null,
      "metadata": {},
      "outputs": [],
      "source": [
        "x_train[5, , ]"
      ],
      "id": "ab4e89e6-f69a-4645-9178-66c9d98e99b4"
    },
    {
      "cell_type": "code",
      "execution_count": null,
      "metadata": {},
      "outputs": [],
      "source": [
        "plot(as.raster(x = x_train[5, , ],\n",
        "               max = max(x_train)))"
      ],
      "id": "a1f96f76-1101-4e0f-917c-d775245e44b4"
    },
    {
      "cell_type": "code",
      "execution_count": null,
      "metadata": {},
      "outputs": [],
      "source": [
        "head(y_train)"
      ],
      "id": "1faa2393-22cf-423f-8bce-96603db47b6c"
    },
    {
      "cell_type": "code",
      "execution_count": null,
      "metadata": {},
      "outputs": [],
      "source": [
        "c(min(x_train), max(x_train))"
      ],
      "id": "0bcde022-8a63-43e8-ab95-c25f845585be"
    },
    {
      "cell_type": "code",
      "execution_count": null,
      "metadata": {},
      "outputs": [],
      "source": [
        "x_train <- x_train / 255\n",
        "x_test  <- x_test  / 255"
      ],
      "id": "1094cf72-9dcc-49d8-8f4a-6e64d2589866"
    },
    {
      "cell_type": "code",
      "execution_count": null,
      "metadata": {},
      "outputs": [],
      "source": [
        "my_index <- sample(1:60000, 6000)\n",
        "x_train <- x_train[my_index, , ]\n",
        "y_train <- y_train[my_index]"
      ],
      "id": "67a07357-e145-4829-851f-98624341d987"
    },
    {
      "cell_type": "code",
      "execution_count": null,
      "metadata": {},
      "outputs": [],
      "source": [
        "my_model <- keras_model_sequential() %>%\n",
        "  layer_flatten(input_shape = c(28, 28)) %>%\n",
        "  layer_dense(units = 256, activation = \"relu\") %>%\n",
        "  layer_dense(units = 10, activation = \"softmax\")\n",
        "summary(my_model)\n",
        "# \u5272\u611b\uff08Python\u306e\u7d50\u679c\u3092\u53c2\u7167\uff09\n",
        "\n",
        "my_model %>% compile(loss = \"sparse_categorical_crossentropy\",\n",
        "                     optimizer = \"rmsprop\",\n",
        "                     metrics = c(\"accuracy\"))\n",
        "\n",
        "my_cb <- callback_early_stopping(patience = 5,\n",
        "                                 restore_best_weights = TRUE)"
      ],
      "id": "24446c06-27c8-4d6c-9430-e5f3e3a53932"
    },
    {
      "cell_type": "code",
      "execution_count": null,
      "metadata": {},
      "outputs": [],
      "source": [
        "my_history <- my_model %>%\n",
        "  fit(x = x_train,\n",
        "      y = y_train,\n",
        "      validation_split = 0.2,\n",
        "      batch_size = 128,\n",
        "      epochs = 20,\n",
        "      callbacks = list(my_cb),\n",
        "      verbose = 0)\n",
        "\n",
        "plot(my_history)"
      ],
      "id": "1d8765ec-8988-472a-9796-a539b9c77899"
    },
    {
      "cell_type": "code",
      "execution_count": null,
      "metadata": {},
      "outputs": [],
      "source": [
        "tmp <- my_model %>% predict(x_test)\n",
        "y_ <- apply(tmp, 1, which.max) - 1\n",
        "table(y_, y_test)"
      ],
      "id": "02828376-db58-4b96-89e6-ae8d30a77fc2"
    },
    {
      "cell_type": "code",
      "execution_count": null,
      "metadata": {},
      "outputs": [],
      "source": [],
      "id": "23b5a62b-83af-4096-999c-fadee5ef90cc"
    },
    {
      "cell_type": "code",
      "execution_count": null,
      "metadata": {},
      "outputs": [],
      "source": [
        "mean(y_ == y_test)"
      ],
      "id": "39c5053c-2937-4212-b4ab-c3b96076bc80"
    },
    {
      "cell_type": "code",
      "execution_count": null,
      "metadata": {},
      "outputs": [],
      "source": [
        "my_model %>%\n",
        "  evaluate(x = x_test, y = y_test)"
      ],
      "id": "2d96966e-200e-43cc-90ab-764c81a27ef2"
    },
    {
      "cell_type": "code",
      "execution_count": null,
      "metadata": {},
      "outputs": [],
      "source": [
        "x_train2d <- x_train %>% array_reshape(c(-1, 28, 28, 1))\n",
        "x_test2d  <- x_test  %>% array_reshape(c(-1, 28, 28, 1))"
      ],
      "id": "b8284d3d-e73a-4781-ace3-f46dbc587e3c"
    },
    {
      "cell_type": "code",
      "execution_count": null,
      "metadata": {},
      "outputs": [],
      "source": [
        "my_model <- keras_model_sequential() %>%\n",
        "  layer_conv_2d(filters = 32, kernel_size = 3,  # \u7573\u307f\u8fbc\u307f\u5c64\n",
        "                activation = \"relu\",\n",
        "                input_shape = c(28, 28, 1)) %>%\n",
        "  layer_max_pooling_2d(pool_size = 2) %>%       # \u30d7\u30fc\u30ea\u30f3\u30b0\u5c64\n",
        "  layer_flatten() %>%\n",
        "  layer_dense(units = 128, activation = \"relu\") %>%\n",
        "  layer_dense(units = 10, activation = \"softmax\")\n",
        "\n",
        "summary(my_model)\n",
        "# \u5272\u611b\uff08Python \u306e\u7d50\u679c\u3092\u53c2\u7167\uff09\n",
        "\n",
        "my_model %>% compile(loss = \"sparse_categorical_crossentropy\",\n",
        "                     optimizer = \"rmsprop\",\n",
        "                     metrics = c(\"accuracy\"))\n",
        "\n",
        "my_cb <- callback_early_stopping(patience = 5,\n",
        "                                 restore_best_weights = TRUE)"
      ],
      "id": "e44598a9-a7d7-49f5-af9c-c6eabaf042fb"
    },
    {
      "cell_type": "code",
      "execution_count": null,
      "metadata": {},
      "outputs": [],
      "source": [
        "my_history <- my_model %>%\n",
        "  fit(x = x_train2d,\n",
        "      y = y_train,\n",
        "      validation_split = 0.2,\n",
        "      batch_size = 128,\n",
        "      epochs = 20,\n",
        "      callbacks = list(my_cb),\n",
        "      verbose = 0)\n",
        "\n",
        "plot(my_history)"
      ],
      "id": "dd640e4b-ac3f-40f3-8a2e-e507aca2f4cb"
    },
    {
      "cell_type": "code",
      "execution_count": null,
      "metadata": {},
      "outputs": [],
      "source": [
        "my_model %>%\n",
        "  evaluate(x = x_test2d, y = y_test)"
      ],
      "id": "a427c67b-7df0-4da0-ac68-f67a2721b4d7"
    },
    {
      "cell_type": "code",
      "execution_count": null,
      "metadata": {},
      "outputs": [],
      "source": [
        "my_model <- keras_model_sequential() %>%\n",
        "  layer_conv_2d(filters = 20, kernel_size = 5, activation = \"relu\",\n",
        "                input_shape = c(28, 28, 1)) %>%\n",
        "  layer_max_pooling_2d(pool_size = 2, strides = 2) %>%\n",
        "  layer_conv_2d(filters = 50, kernel_size = 5, activation = \"relu\") %>%\n",
        "  layer_max_pooling_2d(pool_size = 2, strides = 2) %>%\n",
        "  layer_dropout(rate = 0.25) %>%\n",
        "  layer_flatten() %>%\n",
        "  layer_dense(units = 500, activation = \"relu\") %>%\n",
        "  layer_dropout(rate = 0.5) %>%\n",
        "  layer_dense(units = 10, activation = \"softmax\")\n",
        "\n",
        "my_model %>% compile(\n",
        "  loss = \"sparse_categorical_crossentropy\",\n",
        "  optimizer = \"rmsprop\",\n",
        "  metrics = c(\"accuracy\"))\n",
        "\n",
        "my_cb <- callback_early_stopping(patience = 5,\n",
        "                                 restore_best_weights = TRUE)"
      ],
      "id": "582ae7c3-94ed-468b-a987-d0e7f53a9e99"
    },
    {
      "cell_type": "code",
      "execution_count": null,
      "metadata": {},
      "outputs": [],
      "source": [
        "my_history <- my_model %>%\n",
        "  fit(x = x_train2d,\n",
        "      y = y_train,\n",
        "      validation_split = 0.2,\n",
        "      batch_size = 128,\n",
        "      epochs = 20,\n",
        "      callbacks = list(my_cb),\n",
        "      verbose = 0)\n",
        "\n",
        "plot(my_history)"
      ],
      "id": "7cc2ec11-6bba-4173-a5fd-30fb418c58ae"
    },
    {
      "cell_type": "code",
      "execution_count": null,
      "metadata": {},
      "outputs": [],
      "source": [
        "my_model %>%\n",
        "  evaluate(x = x_test2d, y = y_test)"
      ],
      "id": "b1de224f-fac0-4609-a619-16b33687fc62"
    },
    {
      "cell_type": "code",
      "execution_count": null,
      "metadata": {},
      "outputs": [],
      "source": [
        "y_prob <- my_model %>% predict(x_test2d) # \u30ab\u30c6\u30b4\u30ea\u306b\u5c5e\u3059\u308b\u78ba\u7387\n",
        "\n",
        "my_result <- data.frame(\n",
        "  y_prob = apply(y_prob, 1, max),           # \u78ba\u7387\u306e\u6700\u5927\u5024\n",
        "  y_     = apply(y_prob, 1, which.max) - 1, # \u4e88\u6e2c\u30ab\u30c6\u30b4\u30ea\n",
        "  y      = y_test,                          # \u6b63\u89e3\n",
        "  id     = seq_len(length(y_test))) %>%     # \u756a\u53f7\n",
        "  filter(y_ != y) %>%                       # \u4e88\u6e2c\u304c\u306f\u305a\u308c\u305f\u3082\u306e\u3092\u6b8b\u3059\n",
        "  arrange(desc(y_prob))                     # \u78ba\u7387\u306e\u5927\u304d\u3044\u9806\u306b\u4e26\u3073\u66ff\u3048\u308b"
      ],
      "id": "b11ef795-e857-4526-b57f-64e306cb1785"
    },
    {
      "cell_type": "code",
      "execution_count": null,
      "metadata": {},
      "outputs": [],
      "source": [
        "head(my_result)"
      ],
      "id": "4e4f6996-2e8f-4202-b753-4507bd09349a"
    },
    {
      "cell_type": "code",
      "execution_count": null,
      "metadata": {},
      "outputs": [],
      "source": [
        "tmp <- my_result[1:5, ]$id\n",
        "my_labels <- sprintf(\"%s (%s)\",\n",
        "  my_result[1:5, ]$y, tmp)\n",
        "my_fig <- expand.grid(\n",
        "  label = my_labels,\n",
        "  y = 28:1,\n",
        "  x = 1:28)\n",
        "my_fig$z <- as.vector(\n",
        "  x_test[tmp, , ])\n",
        "\n",
        "my_fig %>% ggplot(\n",
        "  aes(x = x, y = y, fill = z)) +\n",
        "  geom_raster() +\n",
        "  coord_fixed() +\n",
        "  theme_void() +\n",
        "  theme(legend.position = \"none\") +\n",
        "  facet_grid(. ~ label)"
      ],
      "id": "386e1e97-556c-493a-b5c3-f70ee58326ba"
    },
    {
      "id": "408d59f5",
      "cell_type": "markdown",
      "source": "## 11.4 AutoML",
      "metadata": {}
    },
    {
      "cell_type": "code",
      "execution_count": null,
      "metadata": {},
      "outputs": [],
      "source": [
        "library(h2o)\n",
        "library(keras)\n",
        "library(tidyverse)\n",
        "\n",
        "h2o.init()\n",
        "h2o.no_progress()\n",
        "# h2o.shutdown(prompt = FALSE) # \u505c\u6b62"
      ],
      "id": "c1e1dd2d-684c-4e86-abbb-a31c07784300"
    },
    {
      "cell_type": "code",
      "execution_count": null,
      "metadata": {},
      "outputs": [],
      "source": [
        "my_url <- str_c(\"https://raw.githubusercontent.com/taroyabuki\",\n",
        "                \"/fromzero/master/data/wine.csv\")\n",
        "my_data <- read_csv(my_url)\n",
        "my_frame <- as.h2o(my_data) # \u901a\u5e38\u306e\u30c7\u30fc\u30bf\u30d5\u30ec\u30fc\u30e0\u3092H2OFrame\u306b\u5909\u63db\u3059\u308b\uff0e\n",
        "# \u3042\u308b\u3044\u306f\n",
        "my_frame <- h2o.importFile(my_url, header = TRUE) # \u30c7\u30fc\u30bf\u3092\u8aad\u307f\u8fbc\u3080\uff0e"
      ],
      "id": "ecd111da-127b-4c8d-9e90-f9c091468867"
    },
    {
      "cell_type": "code",
      "execution_count": null,
      "metadata": {},
      "outputs": [],
      "source": [
        "my_frame\n",
        "\n",
        "# \u901a\u5e38\u306e\u30c7\u30fc\u30bf\u30d5\u30ec\u30fc\u30e0\u306b\u623b\u3059\uff0e\n",
        "my_frame %>% as.data.frame %>% head\n",
        "# \u7d50\u679c\u306f\u5272\u611b\uff08\u898b\u305f\u76ee\u306f\u540c\u3058\uff09"
      ],
      "id": "8db594c5-5aa1-4196-b763-fd628f1f61ba"
    },
    {
      "cell_type": "code",
      "execution_count": null,
      "metadata": {},
      "outputs": [],
      "source": [
        "my_model <- h2o.automl(\n",
        "    y = \"LPRICE2\",\n",
        "    training_frame = my_frame,\n",
        "    max_runtime_secs = 60)"
      ],
      "id": "2255d94c-9ae3-48b3-9757-2a1c00493ef6"
    },
    {
      "cell_type": "code",
      "execution_count": null,
      "metadata": {},
      "outputs": [],
      "source": [
        "min(my_model@leaderboard$rmse)"
      ],
      "id": "1fc1163e-77c2-4ae1-8f28-7da9ded46f62"
    },
    {
      "cell_type": "code",
      "execution_count": null,
      "metadata": {},
      "outputs": [],
      "source": [
        "tmp <- my_model %>%\n",
        "  predict(my_frame) %>%\n",
        "  as.data.frame\n",
        "y_ <- tmp$predict\n",
        "y  <- my_data$LPRICE2\n",
        "\n",
        "plot(y, y_)"
      ],
      "id": "19a260f7-87ea-4580-99a9-99f5af227a4b"
    },
    {
      "cell_type": "code",
      "execution_count": null,
      "metadata": {},
      "outputs": [],
      "source": [
        "keras::`%<-%`(c(c(x_train, y_train), c(x_test, y_test)), dataset_mnist())\n",
        "my_index <- sample(1:60000, 6000)\n",
        "x_train <- x_train[my_index, , ]\n",
        "y_train <- y_train[my_index]"
      ],
      "id": "e935eec8-efc9-4fee-9098-b67cb7e25bd6"
    },
    {
      "cell_type": "code",
      "execution_count": null,
      "metadata": {},
      "outputs": [],
      "source": [
        "tmp <- x_train %>%\n",
        "  array_reshape(c(-1, 28 * 28)) %>%\n",
        "  as.data.frame\n",
        "tmp$y <- as.factor(y_train)\n",
        "my_train <- as.h2o(tmp)\n",
        "\n",
        "tmp <- x_test %>%\n",
        "  array_reshape(c(-1, 28 * 28)) %>%\n",
        "  as.data.frame\n",
        "my_test <- as.h2o(tmp)"
      ],
      "id": "575412c1-d66d-4dde-9ebf-3db515b34e1f"
    },
    {
      "cell_type": "code",
      "execution_count": null,
      "metadata": {},
      "outputs": [],
      "source": [
        "my_model <- h2o.automl(\n",
        "    y = \"y\",\n",
        "    training_frame = my_train,\n",
        "    max_runtime_secs = 120)"
      ],
      "id": "28218f9b-6cf3-488d-9632-c31bda062ac0"
    },
    {
      "cell_type": "code",
      "execution_count": null,
      "metadata": {},
      "outputs": [],
      "source": [
        "min(my_model@leaderboard$\n",
        "    mean_per_class_error)"
      ],
      "id": "8899da7a-c62d-467c-bd33-824838539c60"
    },
    {
      "cell_type": "code",
      "execution_count": null,
      "metadata": {},
      "outputs": [],
      "source": [
        "tmp <- my_model %>%\n",
        "  predict(my_test) %>% as.data.frame\n",
        "y_ <- tmp$predict\n",
        "\n",
        "mean(y_ == y_test)"
      ],
      "id": "34b0c5c1-da33-4355-b0d9-332a3a82f009"
    }
  ],
  "nbformat": 4,
  "nbformat_minor": 5,
  "metadata": {
    "kernelspec": {
      "name": "ir",
      "display_name": "R"
    }
  }
}