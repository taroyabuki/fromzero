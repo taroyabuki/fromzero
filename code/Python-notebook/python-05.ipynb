{
  "cells": [
    {
      "id": "6e3350aa",
      "cell_type": "markdown",
      "source": "[\u8fbb\u771f\u543e\u30fb\u77e2\u5439\u592a\u6717\u300e\u30bc\u30ed\u304b\u3089\u306f\u3058\u3081\u308b\u30c7\u30fc\u30bf\u30b5\u30a4\u30a8\u30f3\u30b9\u5165\u9580\u300f\uff08\u8b1b\u8ac7\u793e,\u00a02021\uff09](https://github.com/taroyabuki/fromzero)\n\n\n",
      "metadata": {}
    },
    {
      "id": "e505f0a4",
      "cell_type": "markdown",
      "source": "## 5.1 \u30c7\u30fc\u30bf\u306e\u8aad\u307f\u8fbc\u307f",
      "metadata": {}
    },
    {
      "cell_type": "code",
      "execution_count": null,
      "metadata": {},
      "outputs": [],
      "source": [
        "!wget https://raw.githubusercontent.com/taroyabuki/fromzero/master/data/exam.csv"
      ],
      "id": "c556ed41-a048-4268-9427-341957b0a233"
    },
    {
      "cell_type": "code",
      "execution_count": null,
      "metadata": {},
      "outputs": [],
      "source": [
        "import pandas as pd\n",
        "my_df = pd.read_csv('exam.csv')\n",
        "my_df"
      ],
      "id": "f0de49d6-ca1d-4057-8a36-a151fe56ed89"
    },
    {
      "cell_type": "code",
      "execution_count": null,
      "metadata": {},
      "outputs": [],
      "source": [
        "my_url = ('https://raw.githubusercontent.com/taroyabuki'\n",
        "          '/fromzero/master/data/exam.csv')\n",
        "my_df = pd.read_csv(my_url)"
      ],
      "id": "5c68ab84-96c6-45bb-b34c-cad0e9152569"
    },
    {
      "cell_type": "code",
      "execution_count": null,
      "metadata": {},
      "outputs": [],
      "source": [
        "my_df2 = pd.read_csv('exam.csv',\n",
        "    index_col='name')\n",
        "my_df2"
      ],
      "id": "8a4eefdc-b03f-4258-9e10-62787632dd19"
    },
    {
      "cell_type": "code",
      "execution_count": null,
      "metadata": {},
      "outputs": [],
      "source": [
        "my_df.to_csv('exam2.csv', index=False)"
      ],
      "id": "4f496308-d226-4ea8-88b8-3465e0b5e0aa"
    },
    {
      "cell_type": "code",
      "execution_count": null,
      "metadata": {},
      "outputs": [],
      "source": [
        "my_df2.to_csv('exam3.csv')"
      ],
      "id": "d064ce06-e23b-4afa-9cd2-b9e051166aed"
    },
    {
      "cell_type": "code",
      "execution_count": null,
      "metadata": {},
      "outputs": [],
      "source": [
        "my_df = pd.read_csv('exam.csv',\n",
        "    encoding='UTF-8')"
      ],
      "id": "7411d9b3-caa5-464b-bbc0-7c10e74fde3e"
    },
    {
      "cell_type": "code",
      "execution_count": null,
      "metadata": {},
      "outputs": [],
      "source": [
        "my_df.to_csv('exam2.csv', index=False, encoding='UTF-8')"
      ],
      "id": "50c95471-eae9-4461-8e85-6b8b5df5b9a7"
    },
    {
      "cell_type": "code",
      "execution_count": null,
      "metadata": {},
      "outputs": [],
      "source": [
        "my_url = 'https://taroyabuki.github.io/fromzero/exam.html'\n",
        "my_tables = pd.read_html(my_url)"
      ],
      "id": "5f6b19b9-8cc9-4b50-86bd-a75b904f0b6b"
    },
    {
      "cell_type": "code",
      "execution_count": null,
      "metadata": {},
      "outputs": [],
      "source": [
        "my_tables"
      ],
      "id": "557652bd-0b97-4e49-a42e-65f7f9ff62fe"
    },
    {
      "cell_type": "code",
      "execution_count": null,
      "metadata": {},
      "outputs": [],
      "source": [
        "my_tables[0]"
      ],
      "id": "9520f8cc-67b9-45d5-a0e9-fac4079be052"
    },
    {
      "cell_type": "code",
      "execution_count": null,
      "metadata": {},
      "outputs": [],
      "source": [
        "# 1\u5217\u76ee\u4ee5\u964d\u3092\u53d6\u308a\u51fa\u3059\uff0e\n",
        "my_data = my_tables[0].iloc[:, 1:]\n",
        "my_data"
      ],
      "id": "916d8cb1-4056-4c35-b92b-3654c49ede3f"
    },
    {
      "cell_type": "code",
      "execution_count": null,
      "metadata": {},
      "outputs": [],
      "source": [
        "my_url = ('https://raw.githubusercontent.com/taroyabuki'\n",
        "          '/fromzero/master/data/exam.json')\n",
        "my_data = pd.read_json(my_url)\n",
        "#my_data = pd.read_json('exam.json') # \uff08\u30d5\u30a1\u30a4\u30eb\u3092\u4f7f\u3046\u5834\u5408\uff09\n",
        "my_data"
      ],
      "id": "44a8eed4-2ece-403d-ab74-2aa75547e25a"
    },
    {
      "cell_type": "code",
      "execution_count": null,
      "metadata": {},
      "outputs": [],
      "source": [
        "import xml.etree.ElementTree as ET\n",
        "from urllib.request import urlopen\n",
        "\n",
        "my_url = ('https://raw.githubusercontent.com/taroyabuki'\n",
        "          '/fromzero/master/data/exam.xml')\n",
        "with urlopen(my_url) as f:\n",
        "    my_tree = ET.parse(f)       # XML\u30c7\u30fc\u30bf\u306e\u8aad\u307f\u8fbc\u307f\n",
        "\n",
        "#my_tree = ET.parse('exam.xml') # \uff08\u30d5\u30a1\u30a4\u30eb\u3092\u4f7f\u3046\u5834\u5408\uff09\n",
        "my_ns = '{https://www.example.net/ns/1.0}' # \u540d\u524d\u7a7a\u9593"
      ],
      "id": "74426c3f-af69-44a3-ae93-652d0889f957"
    },
    {
      "cell_type": "code",
      "execution_count": null,
      "metadata": {},
      "outputs": [],
      "source": [
        "my_records = my_tree.findall(f'.//{my_ns}record')"
      ],
      "id": "339a54ca-bed3-4e7c-8d53-ca2a78b404c7"
    },
    {
      "cell_type": "code",
      "execution_count": null,
      "metadata": {},
      "outputs": [],
      "source": [
        "def f(record):\n",
        "    my_dic1 = record.attrib # \u5c5e\u6027\u3092\u53d6\u308a\u51fa\u3059\uff0e\n",
        "    # \u5b50\u8981\u7d20\u306e\u540d\u524d\u3068\u5185\u5bb9\u306e\u30da\u30a2\u3092\u8f9e\u66f8\u306b\u3059\u308b\uff0e\n",
        "    my_dic2 = {child.tag.replace(my_ns, ''): child.text for child in list(record)}\n",
        "    return {**my_dic1, **my_dic2} # \u8f9e\u66f8\u3092\u7d50\u5408\u3059\u308b\uff0e"
      ],
      "id": "5e102690-fd34-4f56-ad87-1beb0f6d47ea"
    },
    {
      "cell_type": "code",
      "execution_count": null,
      "metadata": {},
      "outputs": [],
      "source": [
        "my_data = pd.DataFrame([f(record) for record in my_records])\n",
        "my_data['english'] = pd.to_numeric(my_data['english'])\n",
        "my_data['math']    = pd.to_numeric(my_data['math'])\n",
        "my_data"
      ],
      "id": "abda4029-f581-4380-a57d-b010d6395838"
    },
    {
      "id": "f083057c",
      "cell_type": "markdown",
      "source": "## 5.2 \u30c7\u30fc\u30bf\u306e\u5909\u63db",
      "metadata": {}
    },
    {
      "cell_type": "code",
      "execution_count": null,
      "metadata": {},
      "outputs": [],
      "source": [
        "import numpy as np\n",
        "from scipy.stats import zscore\n",
        "\n",
        "x1 = [1, 2, 3]\n",
        "\n",
        "z1 = ((x1 - np.mean(x1)) /\n",
        "      np.std(x1, ddof=1))\n",
        "# \u3042\u308b\u3044\u306f\n",
        "z1 = zscore(x1, ddof=1)\n",
        "\n",
        "z1"
      ],
      "id": "dee44c8b-2524-46f5-ad8c-80b4c8c6f115"
    },
    {
      "cell_type": "code",
      "execution_count": null,
      "metadata": {},
      "outputs": [],
      "source": [
        "z1.mean(), np.std(z1, ddof=1)"
      ],
      "id": "f3ba4193-3c81-41f6-a4ab-6962deea5dc6"
    },
    {
      "cell_type": "code",
      "execution_count": null,
      "metadata": {},
      "outputs": [],
      "source": [
        "z1 * np.std(x1, ddof=1) + np.mean(x1)"
      ],
      "id": "4e890f51-9074-46d7-a446-cbff9cbe0f20"
    },
    {
      "cell_type": "code",
      "execution_count": null,
      "metadata": {},
      "outputs": [],
      "source": [
        "x2 = [1, 3, 5]\n",
        "z2 = ((x2 - np.mean(x1)) /\n",
        "      np.std(x1, ddof=1))\n",
        "z2.mean(), np.std(z2, ddof=1)"
      ],
      "id": "5e9ae29a-05de-4e63-ad78-0f771a99dc2e"
    },
    {
      "cell_type": "code",
      "execution_count": null,
      "metadata": {},
      "outputs": [],
      "source": [
        "import pandas as pd\n",
        "from sklearn.preprocessing import (\n",
        "    OneHotEncoder)\n",
        "\n",
        "my_df = pd.DataFrame({\n",
        "    'id':    [ 1 ,  2 ,  3 ],\n",
        "    'class': ['A', 'B', 'C']})\n",
        "\n",
        "my_enc = OneHotEncoder()\n",
        "tmp = my_enc.fit_transform(\n",
        "    my_df[['class']]).toarray()\n",
        "my_names = my_enc.get_feature_names() \\\n",
        "if hasattr(my_enc, 'get_feature_names') \\\n",
        "else my_enc.get_feature_names_out()\n",
        "pd.DataFrame(tmp, columns=my_names)"
      ],
      "id": "c47cedf2-fcdf-4a44-adda-e3059d48fad1"
    },
    {
      "cell_type": "code",
      "execution_count": null,
      "metadata": {},
      "outputs": [],
      "source": [
        "my_df2 = pd.DataFrame({\n",
        "    'id':    [ 4 ,  5,   6 ],\n",
        "    'class': ['B', 'C', 'B']})\n",
        "tmp = my_enc.transform(\n",
        "    my_df2[['class']]).toarray()\n",
        "pd.DataFrame(tmp, columns=my_names)"
      ],
      "id": "826a0bc5-cacf-41a1-b20e-f5dc61560da7"
    },
    {
      "cell_type": "code",
      "execution_count": null,
      "metadata": {},
      "outputs": [],
      "source": [
        "my_enc = OneHotEncoder(drop='first')\n",
        "\n",
        "tmp = my_enc.fit_transform(\n",
        "    my_df[['class']]).toarray()\n",
        "my_names = my_enc.get_feature_names() \\\n",
        "if hasattr(my_enc, 'get_feature_names') \\\n",
        "else my_enc.get_feature_names_out()\n",
        "pd.DataFrame(tmp, columns=my_names)\n",
        "\n",
        "tmp = my_enc.transform(\n",
        "    my_df2[['class']]).toarray()\n",
        "pd.DataFrame(tmp, columns=my_names)"
      ],
      "id": "bed83373-fe9d-447e-bdd6-8ee518261f39"
    }
  ],
  "nbformat": 4,
  "nbformat_minor": 5,
  "metadata": {
    "kernelspec": {
      "name": "python3",
      "display_name": "Python 3"
    }
  }
}