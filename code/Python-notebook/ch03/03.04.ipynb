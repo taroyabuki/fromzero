{
 "cells": [
  {
   "cell_type": "markdown",
   "metadata": {},
   "source": [
    "## 3.4 データフレーム\n",
    "\n",
    "### 3.4.1 データフレームの作成"
   ]
  },
  {
   "cell_type": "code",
   "execution_count": null,
   "metadata": {},
   "outputs": [],
   "source": [
    "import pandas as pd"
   ]
  },
  {
   "cell_type": "markdown",
   "metadata": {},
   "source": [
    "#### 3.4.1.1 データを列ごとに記述する方法"
   ]
  },
  {
   "cell_type": "code",
   "execution_count": null,
   "metadata": {},
   "outputs": [],
   "source": [
    "my_df = pd.DataFrame({\n",
    "    'name':    ['A', 'B', 'C', 'D'],\n",
    "    'english': [ 60,  90,  70,  90],\n",
    "    'math':    [ 70,  80,  90, 100],\n",
    "    'gender':  ['f', 'm', 'm', 'f']})"
   ]
  },
  {
   "cell_type": "markdown",
   "metadata": {},
   "source": [
    "#### 3.4.1.2 データを見た目のとおりに記述する方法"
   ]
  },
  {
   "cell_type": "code",
   "execution_count": null,
   "metadata": {},
   "outputs": [],
   "source": [
    "my_df = pd.DataFrame([\n",
    "    ['A', 60,  70, 'f'],\n",
    "    ['B', 90,  80, 'm'],\n",
    "    ['C', 70,  90, 'm'],\n",
    "    ['D', 90, 100, 'f']],\n",
    "    columns=['name', 'english',\n",
    "             'math', 'gender'])"
   ]
  },
  {
   "cell_type": "code",
   "execution_count": null,
   "metadata": {},
   "outputs": [],
   "source": [
    "my_df.head()\n",
    "# 結果は割愛"
   ]
  },
  {
   "cell_type": "markdown",
   "metadata": {},
   "source": [
    "#### 3.4.1.3 データフレームのサイズ"
   ]
  },
  {
   "cell_type": "code",
   "execution_count": null,
   "metadata": {},
   "outputs": [],
   "source": [
    "r, c = my_df.shape # 行数と列数\n",
    "r, c\n",
    "#> (4, 4)\n",
    "\n",
    "r # 行数（len(my_df)も可）\n",
    "#> 4\n",
    "\n",
    "c # 列数\n",
    "#> 4"
   ]
  },
  {
   "cell_type": "markdown",
   "metadata": {},
   "source": [
    "#### 3.4.1.4 組合せ"
   ]
  },
  {
   "cell_type": "code",
   "execution_count": null,
   "metadata": {},
   "outputs": [],
   "source": [
    "from itertools import product\n",
    "my_df2 = pd.DataFrame(\n",
    "    product([1, 2, 3],\n",
    "            [10, 100]),\n",
    "    columns=['X', 'Y'])\n",
    "my_df2\n",
    "#>    X    Y\n",
    "#> 0  1   10\n",
    "#> 1  1  100\n",
    "#> 2  2   10\n",
    "#> 3  2  100\n",
    "#> 4  3   10\n",
    "#> 5  3  100"
   ]
  },
  {
   "cell_type": "markdown",
   "metadata": {},
   "source": [
    "#### 3.4.1.5 列と行の名前"
   ]
  },
  {
   "cell_type": "code",
   "execution_count": null,
   "metadata": {},
   "outputs": [],
   "source": [
    "my_df2.columns\n",
    "#> Index(['X', 'Y'], dtype='object')"
   ]
  },
  {
   "cell_type": "code",
   "execution_count": null,
   "metadata": {},
   "outputs": [],
   "source": [
    "my_df2.columns = ['P', 'Q']\n",
    "my_df2\n",
    "#>    P    Q\n",
    "#> 0  1   10\n",
    "#> 1  1  100\n",
    "# 以下省略"
   ]
  },
  {
   "cell_type": "code",
   "execution_count": null,
   "metadata": {},
   "outputs": [],
   "source": [
    "list(my_df.index)\n",
    "#> [0, 1, 2, 3]"
   ]
  },
  {
   "cell_type": "code",
   "execution_count": null,
   "metadata": {},
   "outputs": [],
   "source": [
    "my_df2.index = [\n",
    "    'a', 'b', 'c', 'd', 'e', 'f']\n",
    "my_df2\n",
    "#>    P    Q\n",
    "#> a  1   10\n",
    "#> b  1  100\n",
    "#> c  2   10\n",
    "# 以下省略"
   ]
  },
  {
   "cell_type": "code",
   "execution_count": null,
   "metadata": {},
   "outputs": [],
   "source": [
    "my_df3 = pd.DataFrame({\n",
    "    'english': [ 60,  90,  70,  90],\n",
    "    'math':    [ 70,  80,  90, 100],\n",
    "    'gender':  ['f', 'm', 'm', 'f']},\n",
    "    index=     ['A', 'B', 'C', 'D'])\n",
    "my_df3\n",
    "#>    english  math gender\n",
    "#> A       60    70      f\n",
    "#> B       90    80      m\n",
    "#> C       70    90      m\n",
    "#> D       90   100      f"
   ]
  },
  {
   "cell_type": "markdown",
   "metadata": {},
   "source": [
    "### 3.4.2 データの追加\n",
    "\n",
    "#### 3.4.2.1 行の追加（データフレームの結合）"
   ]
  },
  {
   "cell_type": "code",
   "execution_count": null,
   "metadata": {},
   "outputs": [],
   "source": [
    "tmp = pd.DataFrame({\n",
    "    'name'   : ['E'],\n",
    "    'english': [80],\n",
    "    'math'   : [80],\n",
    "    'gender' : ['m']})\n",
    "my_df2 = my_df.append(tmp)"
   ]
  },
  {
   "cell_type": "markdown",
   "metadata": {},
   "source": [
    "#### 3.4.2.2 列の追加"
   ]
  },
  {
   "cell_type": "code",
   "execution_count": null,
   "metadata": {},
   "outputs": [],
   "source": [
    "my_df2 = my_df.assign(id=[1, 2, 3, 4])"
   ]
  },
  {
   "cell_type": "code",
   "execution_count": null,
   "metadata": {},
   "outputs": [],
   "source": [
    "my_df3 = my_df.copy()       # コピー\n",
    "my_df3['id'] = [1, 2, 3, 4] # 更新\n",
    "my_df3 # 結果の確認（割愛）"
   ]
  },
  {
   "cell_type": "markdown",
   "metadata": {},
   "source": [
    "### 3.4.3 データの取り出し\n",
    "\n",
    "#### 3.4.3.1 観測値の取り出し"
   ]
  },
  {
   "cell_type": "code",
   "execution_count": null,
   "metadata": {},
   "outputs": [],
   "source": [
    "my_df.iloc[0, 1]\n",
    "#> 60"
   ]
  },
  {
   "cell_type": "markdown",
   "metadata": {},
   "source": [
    "#### 3.4.3.2 1列の取り出し（結果は1次元データ）"
   ]
  },
  {
   "cell_type": "code",
   "execution_count": null,
   "metadata": {},
   "outputs": [],
   "source": [
    "x = my_df.iloc[:, 1]\n",
    "# あるいは\n",
    "x = my_df['english']\n",
    "# あるいは\n",
    "x = my_df.english\n",
    "# あるいは\n",
    "tmp = 'english'\n",
    "x = my_df[tmp]\n",
    "\n",
    "x # 結果の確認（割愛）"
   ]
  },
  {
   "cell_type": "markdown",
   "metadata": {},
   "source": [
    "#### 3.4.3.3 複数列の取り出し（結果はデータフレーム）"
   ]
  },
  {
   "cell_type": "code",
   "execution_count": null,
   "metadata": {},
   "outputs": [],
   "source": [
    "x = my_df[['name', 'math']]\n",
    "# あるいは\n",
    "x = my_df.loc[:, ['name', 'math']]"
   ]
  },
  {
   "cell_type": "code",
   "execution_count": null,
   "metadata": {},
   "outputs": [],
   "source": [
    "x = my_df.take([0, 2], axis=1)\n",
    "# あるいは\n",
    "x = my_df.iloc[:, [0, 2]]"
   ]
  },
  {
   "cell_type": "code",
   "execution_count": null,
   "metadata": {},
   "outputs": [],
   "source": [
    "x = my_df.drop(\n",
    "    columns=['english', 'gender'])\n",
    "# あるいは\n",
    "x = my_df.drop(\n",
    "    columns=my_df.columns[[1, 3]])"
   ]
  },
  {
   "cell_type": "markdown",
   "metadata": {},
   "source": [
    "#### 3.4.3.4 複数行の取り出し（結果はデータフレーム）"
   ]
  },
  {
   "cell_type": "code",
   "execution_count": null,
   "metadata": {},
   "outputs": [],
   "source": [
    "x = my_df.take([0, 2])\n",
    "# あるいは\n",
    "x = my_df.iloc[[0, 2], :]"
   ]
  },
  {
   "cell_type": "code",
   "execution_count": null,
   "metadata": {},
   "outputs": [],
   "source": [
    "x = my_df.drop([1, 3])"
   ]
  },
  {
   "cell_type": "markdown",
   "metadata": {},
   "source": [
    "#### 3.4.3.5 検索"
   ]
  },
  {
   "cell_type": "code",
   "execution_count": null,
   "metadata": {},
   "outputs": [],
   "source": [
    "x = my_df[my_df['gender'] == 'm']\n",
    "# あるいは\n",
    "x = my_df.query('gender == \"m\"')"
   ]
  },
  {
   "cell_type": "code",
   "execution_count": null,
   "metadata": {},
   "outputs": [],
   "source": [
    "x = my_df[(my_df['english'] > 80) & (my_df['gender'] == \"m\")]\n",
    "# あるいは\n",
    "x = my_df.query('english > 80 and gender == \"m\"')"
   ]
  },
  {
   "cell_type": "code",
   "execution_count": null,
   "metadata": {},
   "outputs": [],
   "source": [
    "x = my_df[my_df['english'] == my_df['english'].max()]\n",
    "# あるいは\n",
    "tmp = my_df['english'].max()\n",
    "x = my_df.query('english == @tmp')"
   ]
  },
  {
   "cell_type": "code",
   "execution_count": null,
   "metadata": {},
   "outputs": [],
   "source": [
    "my_df2 = my_df.copy() # コピー\n",
    "my_df2.loc[my_df['gender'] == 'm', 'gender'] = 'M'"
   ]
  },
  {
   "cell_type": "code",
   "execution_count": null,
   "metadata": {},
   "outputs": [],
   "source": [
    "my_df2\n",
    "#>   name  english  math gender\n",
    "#> 0    A       60    70      f\n",
    "#> 1    B       90    80      M\n",
    "#> 2    C       70    90      M\n",
    "#> 3    D       90   100      f"
   ]
  },
  {
   "cell_type": "markdown",
   "metadata": {},
   "source": [
    "#### 3.4.3.6 並べ替え"
   ]
  },
  {
   "cell_type": "code",
   "execution_count": null,
   "metadata": {},
   "outputs": [],
   "source": [
    "x = my_df.sort_values('english')"
   ]
  },
  {
   "cell_type": "code",
   "execution_count": null,
   "metadata": {},
   "outputs": [],
   "source": [
    "x = my_df.sort_values('english',\n",
    "    ascending=False)"
   ]
  },
  {
   "cell_type": "markdown",
   "metadata": {},
   "source": [
    "### 3.4.4 補足：行列\n",
    "\n",
    "#### 3.4.4.1 行列の生成"
   ]
  },
  {
   "cell_type": "code",
   "execution_count": null,
   "metadata": {},
   "outputs": [],
   "source": [
    "import numpy as np\n",
    "x = [2, 3, 5, 7, 11, 13, 17, 19, 23,\n",
    "     29, 31, 37]\n",
    "A = np.array(x).reshape(3, 4)\n",
    "A\n",
    "#> array([[ 2,  3,  5,  7],\n",
    "#>        [11, 13, 17, 19],\n",
    "#>        [23, 29, 31, 37]])"
   ]
  },
  {
   "cell_type": "markdown",
   "metadata": {},
   "source": [
    "#### 3.4.4.2 データフレームと行列"
   ]
  },
  {
   "cell_type": "code",
   "execution_count": null,
   "metadata": {},
   "outputs": [],
   "source": [
    "A = my_df.iloc[:, [1, 2]].values\n",
    "A\n",
    "#> array([[ 60,  70],\n",
    "#>        [ 90,  80],\n",
    "#>        [ 70,  90],\n",
    "#>        [ 90, 100]])"
   ]
  },
  {
   "cell_type": "code",
   "execution_count": null,
   "metadata": {},
   "outputs": [],
   "source": [
    "pd.DataFrame(A)\n",
    "#>     0    1\n",
    "#> 0  60   70\n",
    "#> 1  90   80\n",
    "#> 2  70   90\n",
    "#> 3  90  100"
   ]
  },
  {
   "cell_type": "markdown",
   "metadata": {},
   "source": [
    "#### 3.4.4.3 行列の変形"
   ]
  },
  {
   "cell_type": "code",
   "execution_count": null,
   "metadata": {},
   "outputs": [],
   "source": [
    "A.T\n",
    "#> array([[ 60,  90,  70,  90],\n",
    "#>        [ 70,  80,  90, 100]])"
   ]
  },
  {
   "cell_type": "markdown",
   "metadata": {},
   "source": [
    "#### 3.4.4.4 行列の積"
   ]
  },
  {
   "cell_type": "code",
   "execution_count": null,
   "metadata": {},
   "outputs": [],
   "source": [
    "A.T @ A\n",
    "#> array([[24700, 26700],\n",
    "#>        [26700, 29400]])"
   ]
  },
  {
   "cell_type": "markdown",
   "metadata": {},
   "source": [
    "### 3.4.5 縦型と横型"
   ]
  },
  {
   "cell_type": "code",
   "execution_count": null,
   "metadata": {},
   "outputs": [],
   "source": [
    "my_df = pd.DataFrame({\n",
    "    'day': [25, 26, 27],\n",
    "    'min': [20, 21, 15],\n",
    "    'max': [24, 27, 21]})"
   ]
  },
  {
   "cell_type": "code",
   "execution_count": null,
   "metadata": {},
   "outputs": [],
   "source": [
    "my_longer = my_df.melt(id_vars='day')\n",
    "my_longer\n",
    "#>    day variable  value\n",
    "#> 0   25      min     20\n",
    "#> 1   26      min     21\n",
    "#> 2   27      min     15\n",
    "#> 3   25      max     24\n",
    "#> 4   26      max     27\n",
    "#> 5   27      max     21"
   ]
  },
  {
   "cell_type": "code",
   "execution_count": null,
   "metadata": {},
   "outputs": [],
   "source": [
    "my_wider = my_longer.pivot(\n",
    "    index='day',\n",
    "    columns='variable',\n",
    "    values='value')\n",
    "my_wider\n",
    "#> variable  max  min\n",
    "#> day\n",
    "#> 25         24   20\n",
    "#> 26         27   21\n",
    "#> 27         21   15"
   ]
  },
  {
   "cell_type": "code",
   "execution_count": null,
   "metadata": {},
   "outputs": [],
   "source": [
    "my_wider.plot(\n",
    "    style='o-',\n",
    "    xticks=my_wider.index, # x軸目盛り\n",
    "    ylabel='temperature')  # y軸ラベル"
   ]
  }
 ],
 "nbformat": 4,
 "nbformat_minor": 5,
 "metadata": {
  "kernelspec": {
   "name": "python3",
   "display_name": "Python 3"
  }
 }
}
