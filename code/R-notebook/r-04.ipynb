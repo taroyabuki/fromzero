{
  "cells": [
    {
      "id": "9e4e196f",
      "cell_type": "markdown",
      "source": "[\u8fbb\u771f\u543e\u30fb\u77e2\u5439\u592a\u6717\u300e\u30bc\u30ed\u304b\u3089\u306f\u3058\u3081\u308b\u30c7\u30fc\u30bf\u30b5\u30a4\u30a8\u30f3\u30b9\u5165\u9580\u300f\uff08\u8b1b\u8ac7\u793e,\u00a02021\uff09](https://github.com/taroyabuki/fromzero)",
      "metadata": {}
    },
    {
      "cell_type": "code",
      "execution_count": null,
      "metadata": {},
      "outputs": [],
      "source": [
        "# Google Colaboratory\u306e\u74b0\u5883\u8a2d\u5b9a\n",
        "if (file.exists(\"/content\")) {\n",
        "  options(Ncpus = parallel::detectCores())\n",
        "  installed_packages <- rownames(installed.packages())\n",
        "  packages_to_install <- c(\"exactci\", \"ggmosaic\", \"pastecs\", \"psych\", \"vcd\")\n",
        "  install.packages(setdiff(packages_to_install, installed_packages))\n",
        "}"
      ],
      "id": "8aa81606-d61a-4c5a-a8d7-5e05b6ae9312"
    },
    {
      "id": "181e0d4d",
      "cell_type": "markdown",
      "source": "## 4.1 \u8a18\u8ff0\u7d71\u8a08",
      "metadata": {}
    },
    {
      "cell_type": "code",
      "execution_count": null,
      "metadata": {},
      "outputs": [],
      "source": [
        "x <- c(165, 170, 175, 180, 185)\n",
        "mean(x) # \u5e73\u5747"
      ],
      "id": "8cfb310f-5fe7-43db-bfde-f6fb30e69dbf"
    },
    {
      "cell_type": "code",
      "execution_count": null,
      "metadata": {},
      "outputs": [],
      "source": [
        "n <- length(x) # \u30b5\u30f3\u30d7\u30eb\u30b5\u30a4\u30ba\n",
        "sum(x) / n"
      ],
      "id": "91a48247-f919-4c96-b370-f4089ea041d5"
    },
    {
      "cell_type": "code",
      "execution_count": null,
      "metadata": {},
      "outputs": [],
      "source": [
        "y <- c(173, 174, 175, 176, 177)\n",
        "mean(y)"
      ],
      "id": "2e492765-8a05-43d2-b38b-87587e116479"
    },
    {
      "cell_type": "code",
      "execution_count": null,
      "metadata": {},
      "outputs": [],
      "source": [
        "var(x) # x\u306e\u5206\u6563\n",
        "\n",
        "var(y) # y\u306e\u5206\u6563"
      ],
      "id": "034a8720-20c8-406e-a5ae-6799481c89af"
    },
    {
      "cell_type": "code",
      "execution_count": null,
      "metadata": {},
      "outputs": [],
      "source": [
        "sum((x - mean(x))^2) / (n - 1)"
      ],
      "id": "018ac0c9-ea56-42a2-9d19-d234196a85f6"
    },
    {
      "cell_type": "code",
      "execution_count": null,
      "metadata": {},
      "outputs": [],
      "source": [
        "sd(x) # x\u306e\u6a19\u6e96\u504f\u5dee\n",
        "\n",
        "sd(y) # y\u306e\u6a19\u6e96\u504f\u5dee"
      ],
      "id": "258853e8-e73d-4eee-9bf5-4090f8d38f79"
    },
    {
      "cell_type": "code",
      "execution_count": null,
      "metadata": {},
      "outputs": [],
      "source": [
        "var(x)**0.5 # x\u306e\u6a19\u6e96\u504f\u5dee"
      ],
      "id": "7a2d36d5-0782-4280-a8a6-16f38f720cb8"
    },
    {
      "cell_type": "code",
      "execution_count": null,
      "metadata": {},
      "outputs": [],
      "source": [
        "psych::describe(x)\n",
        "\n",
        "# \u3042\u308b\u3044\u306f\n",
        "\n",
        "pastecs::stat.desc(x)"
      ],
      "id": "6ff49b38-213f-41f6-9ff2-1d098de86e4b"
    },
    {
      "cell_type": "code",
      "execution_count": null,
      "metadata": {},
      "outputs": [],
      "source": [
        "quantile(x)"
      ],
      "id": "da36cdce-5eb9-4a2a-9481-7bbb2dd31f06"
    },
    {
      "cell_type": "code",
      "execution_count": null,
      "metadata": {},
      "outputs": [],
      "source": [
        "x <- c(165, 170, 175, 180, 185)\n",
        "\n",
        "var(x)                # \u4e0d\u504f\u5206\u6563\n",
        "\n",
        "mean((x - mean(x))^2) # \u6a19\u672c\u5206\u6563\n",
        "# \u3042\u308b\u3044\u306f\n",
        "n <- length(x)\n",
        "var(x) * (n - 1) / n  # \u6a19\u672c\u5206\u6563"
      ],
      "id": "036b7dc2-5547-49a0-91e0-a72dae4c32fd"
    },
    {
      "cell_type": "code",
      "execution_count": null,
      "metadata": {},
      "outputs": [],
      "source": [
        "sd(x)                     # \u221a\u4e0d\u504f\u5206\u6563\n",
        "\n",
        "mean((x - mean(x))^2)^0.5 # \u221a\u6a19\u672c\u5206\u6563\n",
        "# \u3042\u308b\u3044\u306f\n",
        "sd(x) * sqrt((n - 1) / n) # \u221a\u6a19\u672c\u5206\u6563"
      ],
      "id": "b902a47d-6596-4e09-b10a-e76c5dcf8d43"
    },
    {
      "cell_type": "code",
      "execution_count": null,
      "metadata": {},
      "outputs": [],
      "source": [
        "sd(x) / length(x)**0.5"
      ],
      "id": "50017e8c-24ff-4dfa-a4a6-75ae690c5caa"
    },
    {
      "cell_type": "code",
      "execution_count": null,
      "metadata": {},
      "outputs": [],
      "source": [
        "library(tidyverse)\n",
        "\n",
        "my_df <- data.frame(\n",
        "  name    = c(\"A\", \"B\", \"C\", \"D\"),\n",
        "  english = c( 60,  90,  70,  90),\n",
        "  math    = c( 70,  80,  90, 100),\n",
        "  gender  = c(\"f\", \"m\", \"m\", \"f\"))"
      ],
      "id": "c1a7e551-aa52-4c50-894b-bc47164e7431"
    },
    {
      "cell_type": "code",
      "execution_count": null,
      "metadata": {},
      "outputs": [],
      "source": [
        "var(my_df$english)"
      ],
      "id": "1344fe38-edbb-4fac-b810-39648242e75f"
    },
    {
      "cell_type": "code",
      "execution_count": null,
      "metadata": {},
      "outputs": [],
      "source": [
        "# \u7d50\u679c\u306f\u30d9\u30af\u30bf\n",
        "my_df[, c(2, 3)] %>% sapply(var)\n",
        "\n",
        "# \u7d50\u679c\u306f\u30ea\u30b9\u30c8\n",
        "my_df[, c(2, 3)] %>% lapply(var)\n",
        "\n",
        "# \u7d50\u679c\u306f\u30c7\u30fc\u30bf\u30d5\u30ec\u30fc\u30e0\n",
        "my_df[, c(2, 3)] %>% # 2, 3\u5217\u76ee\n",
        "  summarize(across(  # \u306e\n",
        "    everything(),    # \u5168\u3066\u306e\n",
        "    var))            # \u4e0d\u504f\u5206\u6563\n",
        "# \u3042\u308b\u3044\u306f\n",
        "my_df %>%              # \u30c7\u30fc\u30bf\u30d5\u30ec\u30fc\u30e0\n",
        "  summarize(across(    # \u306e\n",
        "    where(is.numeric), # \u6570\u5024\u306e\u5217\u306e\n",
        "    var))              # \u4e0d\u504f\u5206\u6563\n",
        "# \u3042\u308b\u3044\u306f\n",
        "my_df %>%              # \u30c7\u30fc\u30bf\u30d5\u30ec\u30fc\u30e0\n",
        "  summarize(across(    # \u306e\n",
        "    where(is.numeric), # \u6570\u5024\u306e\u5217\u306e\n",
        "    function(x) { var(x) })) # \u4e0d\u504f\u5206\u6563\n"
      ],
      "id": "e06dd962-7658-4e86-a2ff-eefb8844d99d"
    },
    {
      "cell_type": "code",
      "execution_count": null,
      "metadata": {},
      "outputs": [],
      "source": [
        "psych::describe(my_df)\n",
        "\n",
        "# \u3042\u308b\u3044\u306f\n",
        "\n",
        "pastecs::stat.desc(my_df)\n",
        "# \u4ee5\u4e0b\u7701\u7565"
      ],
      "id": "44178bcb-50d4-456e-9976-02683a468eff"
    },
    {
      "cell_type": "code",
      "execution_count": null,
      "metadata": {},
      "outputs": [],
      "source": [
        "table(my_df$gender)\n"
      ],
      "id": "25c95201-3513-4f1f-9e54-0a8f1eeedcc9"
    },
    {
      "cell_type": "code",
      "execution_count": null,
      "metadata": {},
      "outputs": [],
      "source": [
        "my_df2 <- data.frame(\n",
        "  gender = my_df$gender,\n",
        "  excel = my_df$math >= 80)\n",
        "table(my_df2)\n"
      ],
      "id": "052718a6-fabc-466a-8f59-1f8516758bcb"
    },
    {
      "cell_type": "code",
      "execution_count": null,
      "metadata": {},
      "outputs": [],
      "source": [
        "my_df %>% group_by(gender) %>%\n",
        "  summarize(across(\n",
        "    where(is.numeric), mean),\n",
        "    .groups = \"drop\") # \u30b0\u30eb\u30fc\u30d7\u5316\u89e3\u9664\n"
      ],
      "id": "dc879202-16cf-4879-acd0-5d3347667fe3"
    },
    {
      "id": "7b6594fb",
      "cell_type": "markdown",
      "source": "## 4.2 \u30c7\u30fc\u30bf\u306e\u53ef\u8996\u5316",
      "metadata": {}
    },
    {
      "cell_type": "code",
      "execution_count": null,
      "metadata": {},
      "outputs": [],
      "source": [
        "head(iris)"
      ],
      "id": "0399d8ac-418a-46ad-aca4-761edb2d8182"
    },
    {
      "cell_type": "code",
      "execution_count": null,
      "metadata": {},
      "outputs": [],
      "source": [
        "hist(iris$Sepal.Length)"
      ],
      "id": "ec743fc7-1018-4d23-952f-29564102aa68"
    },
    {
      "cell_type": "code",
      "execution_count": null,
      "metadata": {},
      "outputs": [],
      "source": [
        "x <- c(10, 20, 30)\n",
        "hist(x, breaks = 2) # \u968e\u7d1a\u6570\u306f2"
      ],
      "id": "48d99619-1268-4b70-99f6-db8d921cf4de"
    },
    {
      "cell_type": "code",
      "execution_count": null,
      "metadata": {},
      "outputs": [],
      "source": [
        "x <- iris$Sepal.Length\n",
        "tmp <- seq(min(x), max(x),\n",
        "           length.out = 10)\n",
        "hist(x, breaks = tmp, right = FALSE)"
      ],
      "id": "d98a6fd8-896d-41cf-a5b4-730abd52530f"
    },
    {
      "cell_type": "code",
      "execution_count": null,
      "metadata": {},
      "outputs": [],
      "source": [
        "plot(iris$Sepal.Length,\n",
        "     iris$Sepal.Width)"
      ],
      "id": "43b8d302-ae31-41a2-85a8-94959f3ac391"
    },
    {
      "cell_type": "code",
      "execution_count": null,
      "metadata": {},
      "outputs": [],
      "source": [
        "boxplot(iris[, -5])"
      ],
      "id": "9ff21820-5607-4175-a9f8-d81b04efa5b2"
    },
    {
      "cell_type": "code",
      "execution_count": null,
      "metadata": {},
      "outputs": [],
      "source": [
        "library(tidyverse)\n",
        "my_df <- psych::describe(iris[, -5])\n",
        "my_df %>% select(mean, sd, se)"
      ],
      "id": "c0701302-fe77-4ab6-8271-9f91c84b16e4"
    },
    {
      "cell_type": "code",
      "execution_count": null,
      "metadata": {},
      "outputs": [],
      "source": [
        "tmp <- rownames(my_df)\n",
        "my_df %>% ggplot(aes(x = factor(tmp, levels = tmp), y = mean)) +\n",
        "  geom_col() +\n",
        "  geom_errorbar(aes(ymin = mean - se, ymax = mean + se)) +\n",
        "  xlab(NULL)"
      ],
      "id": "45e5827c-ae2b-4708-aad5-3bb4f3d5fe5c"
    },
    {
      "cell_type": "code",
      "execution_count": null,
      "metadata": {},
      "outputs": [],
      "source": [
        "my_group <- iris %>% group_by(Species)       # \u54c1\u7a2e\u3054\u3068\u306b\uff0c\n",
        "\n",
        "my_df <- my_group %>%                        # \u5404\u5909\u6570\u306e\uff0c\u5e73\u5747\u3068\n",
        "  summarize(across(everything(), mean)) %>%\n",
        "  pivot_longer(-Species)\n",
        "\n",
        "tmp <- my_group %>%                          # \u6a19\u6e96\u8aa4\u5dee\u3092\u6c42\u3081\u308b\uff0e\n",
        "  summarize(across(everything(), ~ sd(.) / length(.)**0.5)) %>%\n",
        "  pivot_longer(-Species)\n",
        "\n",
        "my_df$se <- tmp$value\n",
        "head(my_df)"
      ],
      "id": "d9db061b-1c07-48e8-be5a-a601e6c6fe7a"
    },
    {
      "cell_type": "code",
      "execution_count": null,
      "metadata": {},
      "outputs": [],
      "source": [
        "my_df %>%\n",
        "  ggplot(aes(x = Species, y = value, fill = name)) +\n",
        "  geom_col(position = \"dodge\") +\n",
        "  geom_errorbar(aes(ymin = value - se, ymax = value + se), position = \"dodge\")"
      ],
      "id": "a7054521-7036-466f-8349-4ed737aa86e9"
    },
    {
      "cell_type": "code",
      "execution_count": null,
      "metadata": {},
      "outputs": [],
      "source": [
        "# \u5404\u5909\u6570\u306e\u5e73\u5747\n",
        "iris %>% pivot_longer(-Species) %>%\n",
        "  ggplot(aes(x = name, y = value)) +\n",
        "  geom_bar(stat = \"summary\", fun = mean) +\n",
        "  stat_summary(geom = \"errorbar\", fun.data = mean_se) +\n",
        "  xlab(NULL)\n",
        "\n",
        "# \u5404\u5909\u6570\u306e\u5e73\u5747\uff08\u54c1\u7a2e\u3054\u3068\uff09\n",
        "iris %>% pivot_longer(-Species) %>%\n",
        "  ggplot(aes(x = Species, y = value, fill = name)) +\n",
        "  geom_bar(stat = \"summary\", fun = mean, position = \"dodge\") +\n",
        "  stat_summary(geom = \"errorbar\", fun.data = mean_se, position = \"dodge\")"
      ],
      "id": "0dad91d3-05c3-4130-9770-02333340151d"
    },
    {
      "cell_type": "code",
      "execution_count": null,
      "metadata": {},
      "outputs": [],
      "source": [
        "my_df <- data.frame(\n",
        "  Species = iris$Species,\n",
        "  w_Sepal = iris$Sepal.Width > 3)\n",
        "table(my_df) # \u5206\u5272\u8868\n",
        "\n",
        "mosaicplot(\n",
        "  formula = ~ Species + w_Sepal,\n",
        "  data = my_df)"
      ],
      "id": "663bb934-0116-4621-8d68-62b8b485138a"
    },
    {
      "cell_type": "code",
      "execution_count": null,
      "metadata": {},
      "outputs": [],
      "source": [
        "library(vcd)\n",
        "vcd::mosaic(formula = ~w_Sepal + Species, data = my_df,\n",
        "            labeling = labeling_values)"
      ],
      "id": "80a097b0-77d7-46a7-9c66-4b8dad9c2702"
    },
    {
      "cell_type": "code",
      "execution_count": null,
      "metadata": {},
      "outputs": [],
      "source": [
        "curve(x^3 - x, -2, 2)"
      ],
      "id": "e8c4ffc9-5f52-4854-b05b-8d6abea6fd07"
    },
    {
      "cell_type": "code",
      "execution_count": null,
      "metadata": {},
      "outputs": [],
      "source": [
        "x <- iris$Sepal.Length\n",
        "tmp <- seq(min(x), max(x),\n",
        "           length.out = 10)\n",
        "iris %>%\n",
        "  ggplot(aes(x = Sepal.Length)) +\n",
        "  geom_histogram(breaks = tmp,\n",
        "                 closed = \"left\")"
      ],
      "id": "511b5af4-9474-4316-a8ca-d419bf00e86a"
    },
    {
      "cell_type": "code",
      "execution_count": null,
      "metadata": {},
      "outputs": [],
      "source": [
        "iris %>%\n",
        "  ggplot(aes(x = Sepal.Length,\n",
        "             y = Sepal.Width)) +\n",
        "  geom_point()"
      ],
      "id": "dfc3551f-6fae-41b5-9bb6-831f5c165e92"
    },
    {
      "cell_type": "code",
      "execution_count": null,
      "metadata": {},
      "outputs": [],
      "source": [
        "iris %>%\n",
        "  pivot_longer(-Species) %>%\n",
        "  ggplot(aes(\n",
        "    x = factor(name,\n",
        "               levels = names(iris)),\n",
        "    y = value)) +\n",
        "  geom_boxplot() +\n",
        "  xlab(NULL)"
      ],
      "id": "39aa7e3b-5765-481c-b342-8c867433a78f"
    },
    {
      "cell_type": "code",
      "execution_count": null,
      "metadata": {},
      "outputs": [],
      "source": [
        "library(ggmosaic)\n",
        "my_df <- data.frame(\n",
        "  Species = iris$Species,\n",
        "  w_Sepal = iris$Sepal.Width > 3)\n",
        "my_df %>%\n",
        "  ggplot() +\n",
        "  geom_mosaic(\n",
        "    aes(x = product(w_Sepal, Species)))"
      ],
      "id": "d04a41d2-8f61-46b2-b471-74e24dafe106"
    },
    {
      "cell_type": "code",
      "execution_count": null,
      "metadata": {},
      "outputs": [],
      "source": [
        "f <- function(x) { x^3 - x }\n",
        "data.frame(x = c(-2, 2)) %>%\n",
        "  ggplot(aes(x = x)) +\n",
        "  stat_function(fun = f)"
      ],
      "id": "eac451d0-099f-41ab-9f36-9884197e7841"
    },
    {
      "id": "3e4b66d0",
      "cell_type": "markdown",
      "source": "## 4.3 \u4e71\u6570",
      "metadata": {}
    },
    {
      "cell_type": "code",
      "execution_count": null,
      "metadata": {},
      "outputs": [],
      "source": [
        "x <- sample(x = 1:6,        # \u7bc4\u56f2\n",
        "            size = 10000,   # \u4e71\u6570\u306e\u6570\n",
        "            replace = TRUE) # \u91cd\u8907\u3042\u308a\n",
        "hist(x, breaks = 0:6) # \u30d2\u30b9\u30c8\u30b0\u30e9\u30e0"
      ],
      "id": "f662f448-4ecb-4bba-834b-0ccad64be275"
    },
    {
      "cell_type": "code",
      "execution_count": null,
      "metadata": {},
      "outputs": [],
      "source": [
        "x <- runif(min = 0,  # \u6700\u5c0f\n",
        "           max = 1,  # \u6700\u5927\n",
        "           n = 1000) # \u4e71\u6570\u306e\u6570\n",
        "hist(x)"
      ],
      "id": "ff929395-72f2-4161-8c16-ec1057d787e4"
    },
    {
      "cell_type": "code",
      "execution_count": null,
      "metadata": {},
      "outputs": [],
      "source": [
        "x <- as.integer(      # \u6574\u6570\u306b\u5909\u63db\n",
        "  runif(min = 1,      # \u6700\u5c0f\n",
        "        max = 7,      # \u6700\u5927 + 1\n",
        "        n = 1000))    # \u4e71\u6570\u306e\u6570\n",
        "hist(x, breaks = 0:6) # \u7d50\u679c\u306f\u5272\u611b"
      ],
      "id": "aeafb5bb-c54d-40d6-a53c-295b268f9580"
    },
    {
      "cell_type": "code",
      "execution_count": null,
      "metadata": {},
      "outputs": [],
      "source": [
        "n <- 100\n",
        "p <- 0.5\n",
        "r <- 10000\n",
        "x <- rbinom(size = n, # \u8a66\u884c\u56de\u6570\n",
        "            prob = p, # \u78ba\u7387\n",
        "            n = r)    # \u4e71\u6570\u306e\u6570\n",
        "hist(x, breaks = max(x) - min(x))"
      ],
      "id": "bf81dcc9-6d78-4c71-9748-c9c36d971b02"
    },
    {
      "cell_type": "code",
      "execution_count": null,
      "metadata": {},
      "outputs": [],
      "source": [
        "r <- 10000\n",
        "x <- rnorm(mean = 50, # \u5e73\u5747\n",
        "           sd = 5,    # \u6a19\u6e96\u504f\u5dee\n",
        "           n = r)     # \u4e71\u6570\u306e\u6570\n",
        "hist(x, breaks = 40)"
      ],
      "id": "61c612a3-0f5c-400c-8173-43c323977d24"
    },
    {
      "cell_type": "code",
      "execution_count": null,
      "metadata": {},
      "outputs": [],
      "source": [
        "library(tidyverse)\n",
        "\n",
        "f <- function(k) {\n",
        "  n <- 10000\n",
        "  tmp <- replicate(n = n, expr = g(rnorm(n =  k, sd = 3)))\n",
        "  list(k = k,\n",
        "       mean = mean(tmp),       # \u5e73\u5747\n",
        "       se = sd(tmp) / sqrt(n)) # \u6a19\u6e96\u8aa4\u5dee\n",
        "}"
      ],
      "id": "db0953de-b1d0-4320-b52a-f4f4887bf3f4"
    },
    {
      "cell_type": "code",
      "execution_count": null,
      "metadata": {},
      "outputs": [],
      "source": [
        "g <- var\n",
        "c(10, 20, 30) %>% map_dfr(f)"
      ],
      "id": "95015b40-3539-4236-9bba-96167c5fbba1"
    },
    {
      "cell_type": "code",
      "execution_count": null,
      "metadata": {},
      "outputs": [],
      "source": [
        "g <- sd\n",
        "c(5, 10, 15, 20) %>% map_dfr(f)"
      ],
      "id": "9581f476-e169-4835-982a-8d5528a791bc"
    },
    {
      "cell_type": "code",
      "execution_count": null,
      "metadata": {},
      "outputs": [],
      "source": [
        "g <- function(x) {\n",
        "  n <- length(x)\n",
        "  sd(x) *\n",
        "    sqrt((n - 1) / 2) *\n",
        "    gamma((n - 1) / 2) /\n",
        "    gamma(n / 2)\n",
        "}\n",
        "c(10, 20, 30) %>% map_dfr(f)"
      ],
      "id": "a77f0a49-4b06-4937-b9ce-774aa8f66dd8"
    },
    {
      "id": "11af3431",
      "cell_type": "markdown",
      "source": "## 4.4 \u7d71\u8a08\u7684\u63a8\u6e2c",
      "metadata": {}
    },
    {
      "cell_type": "code",
      "execution_count": null,
      "metadata": {},
      "outputs": [],
      "source": [
        "library(exactci)\n",
        "library(tidyverse)\n",
        "\n",
        "a <- 0.05                              # \u6709\u610f\u6c34\u6e96\n",
        "binom.exact(x = 2,                     # \u5f53\u305f\u3063\u305f\u56de\u6570\n",
        "            n = 15,                    # \u304f\u3058\u3092\u5f15\u3044\u305f\u56de\u6570\n",
        "            p = 4 / 10,                # \u5f53\u305f\u308b\u78ba\u7387\uff08\u4eee\u8aac\uff09\n",
        "            plot = TRUE,               # p\u5024\u306e\u63cf\u753b\uff08\u7d50\u679c\u306f\u6b21\u9805\u306b\u63b2\u8f09\uff09\n",
        "            conf.level = 1 - a,        # \u4fe1\u983c\u4fc2\u6570\uff08\u30c7\u30d5\u30a9\u30eb\u30c8\uff09\n",
        "            tsmethod = \"minlike\",      # p\u5024\u306e\u5b9a\u7fa9\n",
        "            alternative = \"two.sided\") # \u4e21\u5074\u691c\u5b9a\uff08\u30c7\u30d5\u30a9\u30eb\u30c8\uff09\n",
        "                                       # \u5de6\u7247\u5074\u691c\u5b9a\u306a\u3089'less'\n",
        "                                       # \u53f3\u7247\u5074\u691c\u5b9a\u306a\u3089'greater'\n"
      ],
      "id": "595e6a2a-87c9-4d4d-a371-e3efd57129ca"
    },
    {
      "cell_type": "code",
      "execution_count": null,
      "metadata": {},
      "outputs": [],
      "source": [
        "t <- 4 / 10               # \u5f53\u305f\u308b\u78ba\u7387\n",
        "n <- 15                   # \u304f\u3058\u3092\u5f15\u3044\u305f\u56de\u6570\n",
        "x <- 0:n                  # \u5f53\u305f\u3063\u305f\u56de\u6570\n",
        "my_pr  <- dbinom(x, n, t) # x\u56de\u5f53\u305f\u308b\u78ba\u7387\n",
        "my_pr2 <- dbinom(2, n, t) # 2\u56de\u5f53\u305f\u308b\u78ba\u7387\n",
        "\n",
        "my_data <- data.frame(x = x,\n",
        "                      probability = my_pr,\n",
        "                      color = my_pr <= my_pr2) # \u5f53\u305f\u308b\u78ba\u7387\u304c\uff0c2\u56de\u5f53\u305f\u308b\u78ba\u7387\u4ee5\u4e0b\n",
        "\n",
        "my_data %>% ggplot(aes(x = x, y = probability, color = color)) +\n",
        "  geom_point(size = 3) +\n",
        "  geom_linerange(aes(ymin = 0, ymax = probability), ) + # \u5782\u76f4\u7dda\n",
        "  geom_hline(yintercept = my_pr2) +                     # \u6c34\u5e73\u7dda\n",
        "  theme(legend.position = \"none\")                       # \u51e1\u4f8b\u3092\u8868\u793a\u3057\u306a\u3044\uff0e"
      ],
      "id": "e8b89709-788d-4195-b2c3-b15d190235bb"
    },
    {
      "cell_type": "code",
      "execution_count": null,
      "metadata": {},
      "outputs": [],
      "source": [
        "# \u524d\u9805\u306e\u7d50\u679c\uff08\u518d\u63b2\uff09"
      ],
      "id": "fd5f8172-136a-4519-9a98-36e49b0fb8d9"
    },
    {
      "cell_type": "code",
      "execution_count": null,
      "metadata": {},
      "outputs": [],
      "source": [
        "# \u524d\u9805\u5192\u982d\u306e\u30b3\u30fc\u30c9"
      ],
      "id": "1049be5c-7d39-4e70-b323-8f8e91a353f5"
    },
    {
      "cell_type": "code",
      "execution_count": null,
      "metadata": {},
      "outputs": [],
      "source": [
        "X <- c(32.1, 26.2, 27.5, 31.8, 32.1, 31.2, 30.1, 32.4, 32.3, 29.9,\n",
        "       29.6, 26.6, 31.2, 30.9, 29.3)\n",
        "Y <- c(35.4, 34.6, 31.1, 32.4, 33.3, 34.7, 35.3, 34.3, 32.1, 28.3,\n",
        "       33.3, 30.5, 32.6, 33.3, 32.2)\n",
        "\n",
        "t.test(x = X, y = Y,\n",
        "       conf.level = 0.95,         # \u4fe1\u983c\u4fc2\u6570\uff08\u30c7\u30d5\u30a9\u30eb\u30c8\uff09\n",
        "       paired = TRUE,             # \u5bfe\u6a19\u672c\u3067\u3042\u308b\uff0e\n",
        "       alternative = \"two.sided\") # \u4e21\u5074\u691c\u5b9a\uff08\u30c7\u30d5\u30a9\u30eb\u30c8\uff09\n",
        "                                  # \u5de6\u7247\u5074\u691c\u5b9a\u306a\u3089'less'\n",
        "                                  # \u53f3\u7247\u5074\u691c\u5b9a\u306a\u3089'greater'\n"
      ],
      "id": "1f14822b-7574-487b-87f3-96ea3475bdfe"
    },
    {
      "cell_type": "code",
      "execution_count": null,
      "metadata": {},
      "outputs": [],
      "source": [
        "t.test(x = X, y = Y,\n",
        "       paired = FALSE,   # \u5bfe\u6a19\u672c\u3067\u306f\u306a\u3044\uff08\u30c7\u30d5\u30a9\u30eb\u30c8\uff09\uff0e\n",
        "       var.equal = TRUE, # \u7b49\u5206\u6563\u3092\u4eee\u5b9a\u3059\u308b\uff0e\u4eee\u5b9a\u3057\u306a\u3044\u306a\u3089FALSE\uff08\u30c7\u30d5\u30a9\u30eb\u30c8\uff09\uff0e\n",
        "       alternative = \"two.sided\",\n",
        "       conf.level = 0.95)\n"
      ],
      "id": "473812d3-6494-47ae-a622-454842e14439"
    },
    {
      "cell_type": "code",
      "execution_count": null,
      "metadata": {},
      "outputs": [],
      "source": [
        "my_url <- str_c(\"https://raw.githubusercontent.com/taroyabuki\",\n",
        "                \"/fromzero/master/data/smoker.csv\")\n",
        "my_data <- read_csv(my_url)"
      ],
      "id": "1662c925-1ec3-4e07-af09-cdb0d664c496"
    },
    {
      "cell_type": "code",
      "execution_count": null,
      "metadata": {},
      "outputs": [],
      "source": [
        "head(my_data)"
      ],
      "id": "ecd5ac3f-fc07-4caa-a230-2bb2b385dc2f"
    },
    {
      "cell_type": "code",
      "execution_count": null,
      "metadata": {},
      "outputs": [],
      "source": [
        "my_table <- table(my_data)\n",
        "my_table"
      ],
      "id": "5c3de95c-93aa-4394-a5a2-1bbe295b6122"
    },
    {
      "cell_type": "code",
      "execution_count": null,
      "metadata": {},
      "outputs": [],
      "source": [
        "chisq.test(my_table, correct = FALSE)\n"
      ],
      "id": "2b1e1964-d670-4041-87a8-b25eff4ecb01"
    },
    {
      "cell_type": "code",
      "execution_count": null,
      "metadata": {},
      "outputs": [],
      "source": [
        "X <- rep(0:1, c(13, 2)) # \u624b\u98061\n",
        "X\n",
        "\n",
        "tmp <- sample(X, size = length(X), replace = TRUE) # \u624b\u98062\n",
        "tmp\n",
        "\n",
        "sum(tmp) # \u624b\u98063\n",
        "\n",
        "n <- 10^5\n",
        "result <- replicate(n, sum(sample(X, size = length(X), replace = TRUE))) # \u624b\u98064"
      ],
      "id": "eb9639fd-1bc9-410d-b84a-a0dd1e26445e"
    },
    {
      "cell_type": "code",
      "execution_count": null,
      "metadata": {},
      "outputs": [],
      "source": [
        "hist(x = result, breaks = 0:15,\n",
        "     right = FALSE)"
      ],
      "id": "593b6a72-aad0-46c0-8a03-a8255cfa481c"
    },
    {
      "cell_type": "code",
      "execution_count": null,
      "metadata": {},
      "outputs": [],
      "source": [
        "quantile(result, c(0.025, 0.975))"
      ],
      "id": "2ff7f8d7-4e45-47f4-b6e5-1dc8d8e9e144"
    }
  ],
  "nbformat": 4,
  "nbformat_minor": 5,
  "metadata": {
    "kernelspec": {
      "name": "ir",
      "display_name": "R"
    }
  }
}