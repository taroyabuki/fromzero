{
 "cells": [
  {
   "cell_type": "markdown",
   "metadata": {},
   "source": [
    "## 8.1 ブドウの生育条件とワインの価格"
   ]
  },
  {
   "cell_type": "code",
   "execution_count": null,
   "metadata": {},
   "outputs": [],
   "source": [
    "import pandas as pd\n",
    "my_url = 'http://www.liquidasset.com/winedata.html'\n",
    "tmp = pd.read_table(my_url, skiprows=62, nrows=38, sep='\\\\s+', na_values='.')\n",
    "tmp.describe()\n",
    "#>              OBS         VINT    LPRICE2       WRAIN    DEGREES ...\n",
    "#> count  38.000000    38.000000  27.000000   38.000000  37.000000 ...\n",
    "#> mean   19.500000  1970.500000  -1.451765  605.000000  16.522973 ...\n",
    "# 以下省略"
   ]
  },
  {
   "cell_type": "code",
   "execution_count": null,
   "metadata": {},
   "outputs": [],
   "source": [
    "my_data = tmp.iloc[:, 2:].dropna()\n",
    "my_data.head()\n",
    "#>    LPRICE2  WRAIN  DEGREES ...\n",
    "#> 0 -0.99868    600  17.1167 ...\n",
    "#> 1 -0.45440    690  16.7333 ...\n",
    "#> 3 -0.80796    502  17.1500 ...\n",
    "#> 5 -1.50926    420  16.1333 ...\n",
    "#> 6 -1.71655    582  16.4167 ..."
   ]
  },
  {
   "cell_type": "code",
   "execution_count": null,
   "metadata": {},
   "outputs": [],
   "source": [
    "my_data.shape\n",
    "#> (27, 5)"
   ]
  },
  {
   "cell_type": "code",
   "execution_count": null,
   "metadata": {},
   "outputs": [],
   "source": [
    "my_data.to_csv('wine.csv',\n",
    "               index=False)"
   ]
  },
  {
   "cell_type": "code",
   "execution_count": null,
   "metadata": {},
   "outputs": [],
   "source": [
    "#my_data = pd.read_csv('wine.csv') # 作ったファイルを使う場合\n",
    "my_url = ('https://raw.githubusercontent.com/taroyabuki'\n",
    "          '/fromzero/master/data/wine.csv')\n",
    "my_data = pd.read_csv(my_url)"
   ]
  }
 ],
 "nbformat": 4,
 "nbformat_minor": 5,
 "metadata": {
  "kernelspec": {
   "name": "python3",
   "display_name": "Python 3"
  }
 }
}
