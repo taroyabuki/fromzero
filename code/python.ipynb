{
  "cells": [
    {
      "id": "16337230",
      "cell_type": "markdown",
      "source": [
        "[辻真吾・矢吹太朗『ゼロからはじめるデータサイエンス入門』（講談社, 2021）](https://github.com/taroyabuki/fromzero)"
      ],
      "metadata": {
        "id": "16337230"
      }
    },
    {
      "cell_type": "code",
      "execution_count": null,
      "metadata": {
        "id": "5ee939a4-2e41-45e4-b129-68ae6e15bce9"
      },
      "outputs": [],
      "source": [
        "# Google Colaboratoryの環境設定\n",
        "import os\n",
        "if 'COLAB_GPU' in os.environ:\n",
        "  !python -m pip install h2o pandarallel pca pmdarima prophet | tail -n 1"
      ],
      "id": "5ee939a4-2e41-45e4-b129-68ae6e15bce9"
    },
    {
      "cell_type": "code",
      "execution_count": null,
      "metadata": {
        "id": "a048ab7b-5eb3-4d57-bfa4-2a604d84b103"
      },
      "outputs": [],
      "source": [
        "# これはPythonのコードの例です．\n",
        "1 + 1"
      ],
      "id": "a048ab7b-5eb3-4d57-bfa4-2a604d84b103"
    },
    {
      "id": "c7a68b71",
      "cell_type": "markdown",
      "source": [
        "# 1 コンピュータとネットワーク\n",
        "\n",
        "\n"
      ],
      "metadata": {
        "id": "c7a68b71"
      }
    },
    {
      "id": "22f4f730",
      "cell_type": "markdown",
      "source": [
        "## 1.1 コンピュータの基本操作\n",
        "\n",
        "\n"
      ],
      "metadata": {
        "id": "22f4f730"
      }
    },
    {
      "id": "9a06d989",
      "cell_type": "markdown",
      "source": [
        "## 1.2 ネットワークの仕組み\n",
        "\n",
        "\n"
      ],
      "metadata": {
        "id": "9a06d989"
      }
    },
    {
      "id": "47fc0153",
      "cell_type": "markdown",
      "source": [
        "# 2 データサイエンスのための環境\n",
        "\n",
        "\n"
      ],
      "metadata": {
        "id": "47fc0153"
      }
    },
    {
      "id": "a8e20168",
      "cell_type": "markdown",
      "source": [
        "## 2.1 実行環境の選択\n",
        "\n",
        "\n"
      ],
      "metadata": {
        "id": "a8e20168"
      }
    },
    {
      "id": "56e32826",
      "cell_type": "markdown",
      "source": [
        "## 2.2 クラウド\n",
        "\n",
        "\n"
      ],
      "metadata": {
        "id": "56e32826"
      }
    },
    {
      "id": "79f7e7ee",
      "cell_type": "markdown",
      "source": [
        "## 2.3 Docker\n",
        "\n",
        "\n"
      ],
      "metadata": {
        "id": "79f7e7ee"
      }
    },
    {
      "id": "1473de81",
      "cell_type": "markdown",
      "source": [
        "## 2.4 ターミナルの使い方\n",
        "\n",
        "\n"
      ],
      "metadata": {
        "id": "1473de81"
      }
    },
    {
      "id": "cc705fc7",
      "cell_type": "markdown",
      "source": [
        "## 2.5 RとPython\n",
        "\n",
        "\n"
      ],
      "metadata": {
        "id": "cc705fc7"
      }
    },
    {
      "id": "4dbee399",
      "cell_type": "markdown",
      "source": [
        "## 2.6 サンプルコードの利用"
      ],
      "metadata": {
        "id": "4dbee399"
      }
    },
    {
      "cell_type": "code",
      "execution_count": null,
      "metadata": {
        "id": "34675382-5212-453b-8985-4a26ed5f2141"
      },
      "outputs": [],
      "source": [
        "1 + 1\n",
        "# 2 # これは表示されない．\n",
        "\n",
        "print(1 + 2)\n",
        "# 3 # 表示される．\n",
        "\n",
        "1 + 3\n",
        "# 4 # 表示される．"
      ],
      "id": "34675382-5212-453b-8985-4a26ed5f2141"
    },
    {
      "id": "579931a2",
      "cell_type": "markdown",
      "source": [
        "# 3 RとPython\n",
        "\n",
        "\n"
      ],
      "metadata": {
        "id": "579931a2"
      }
    },
    {
      "id": "f3f71fad",
      "cell_type": "markdown",
      "source": [
        "## 3.1 入門"
      ],
      "metadata": {
        "id": "f3f71fad"
      }
    },
    {
      "cell_type": "code",
      "execution_count": null,
      "metadata": {
        "id": "0bf10589-16ae-49e8-8e5b-5842251c29b3"
      },
      "outputs": [],
      "source": [
        "0x10"
      ],
      "id": "0bf10589-16ae-49e8-8e5b-5842251c29b3"
    },
    {
      "cell_type": "code",
      "execution_count": null,
      "metadata": {
        "id": "13c637cf-f420-4bda-9332-23fef9d565ef"
      },
      "outputs": [],
      "source": [
        "1.23e5"
      ],
      "id": "13c637cf-f420-4bda-9332-23fef9d565ef"
    },
    {
      "cell_type": "code",
      "execution_count": null,
      "metadata": {
        "id": "c37df4bf-ceb7-40cd-8b9f-0ab7c65dd0a5"
      },
      "outputs": [],
      "source": [
        "2 * 3"
      ],
      "id": "c37df4bf-ceb7-40cd-8b9f-0ab7c65dd0a5"
    },
    {
      "cell_type": "code",
      "execution_count": null,
      "metadata": {
        "id": "655c6302-b1dd-417d-96dd-251a3e085fc1"
      },
      "outputs": [],
      "source": [
        "10 / 3"
      ],
      "id": "655c6302-b1dd-417d-96dd-251a3e085fc1"
    },
    {
      "cell_type": "code",
      "execution_count": null,
      "metadata": {
        "id": "8c9d52e8-5a27-4ea2-b8e8-12af3908a2a4"
      },
      "outputs": [],
      "source": [
        "10 // 3 # 商\n",
        "\n",
        "10 % 3  # 余り"
      ],
      "id": "8c9d52e8-5a27-4ea2-b8e8-12af3908a2a4"
    },
    {
      "cell_type": "code",
      "execution_count": null,
      "metadata": {
        "id": "a3cbf64b-a6a9-4e5e-828e-96fd669f318a"
      },
      "outputs": [],
      "source": [
        "x = 2\n",
        "y = 3\n",
        "x * y\n",
        "\n",
        "x, y = 20, 30 # まとめて名付け\n",
        "x * y"
      ],
      "id": "a3cbf64b-a6a9-4e5e-828e-96fd669f318a"
    },
    {
      "cell_type": "code",
      "execution_count": null,
      "metadata": {
        "id": "51f3a0a7-e419-4787-9a5a-9bdf0aea1ae7"
      },
      "outputs": [],
      "source": [
        "x = 1 + 1\n",
        "# この段階では結果は表示されない\n",
        "\n",
        "x # 変数名を評価する．"
      ],
      "id": "51f3a0a7-e419-4787-9a5a-9bdf0aea1ae7"
    },
    {
      "cell_type": "code",
      "execution_count": null,
      "metadata": {
        "id": "79d34d7c-fa0c-4b7f-8b91-0571a7131778"
      },
      "outputs": [],
      "source": [
        "my_s = 'abcde'"
      ],
      "id": "79d34d7c-fa0c-4b7f-8b91-0571a7131778"
    },
    {
      "cell_type": "code",
      "execution_count": null,
      "metadata": {
        "id": "24133c05-705e-470a-95d7-a2d42ead6cbd"
      },
      "outputs": [],
      "source": [
        "len(my_s)"
      ],
      "id": "24133c05-705e-470a-95d7-a2d42ead6cbd"
    },
    {
      "cell_type": "code",
      "execution_count": null,
      "metadata": {
        "id": "51c7a75f-15e1-4ccd-833a-4f690f525d10"
      },
      "outputs": [],
      "source": [
        "'This is' ' a' ' pen.'\n",
        "# あるいは\n",
        "'This is ' + 'a' + ' pen.'"
      ],
      "id": "51c7a75f-15e1-4ccd-833a-4f690f525d10"
    },
    {
      "cell_type": "code",
      "execution_count": null,
      "metadata": {
        "id": "d8c7dd60-0f7b-46f9-9511-6e9ec82bd8ce"
      },
      "outputs": [],
      "source": [
        "my_s[1:4]"
      ],
      "id": "d8c7dd60-0f7b-46f9-9511-6e9ec82bd8ce"
    },
    {
      "cell_type": "code",
      "execution_count": null,
      "metadata": {
        "id": "ae6356fa-ae00-4986-aa1f-4e0349c82439"
      },
      "outputs": [],
      "source": [
        "tmp = \"{} is {}.\"\n",
        "tmp.format('This', 'a pen')"
      ],
      "id": "ae6356fa-ae00-4986-aa1f-4e0349c82439"
    },
    {
      "cell_type": "code",
      "execution_count": null,
      "metadata": {
        "id": "71aac99a-82bb-4f7d-8223-a46ba03ed9f3"
      },
      "outputs": [],
      "source": [
        "1 <= 2\n",
        "\n",
        "1 < 0"
      ],
      "id": "71aac99a-82bb-4f7d-8223-a46ba03ed9f3"
    },
    {
      "cell_type": "code",
      "execution_count": null,
      "metadata": {
        "id": "df604bae-3001-4753-ae41-044a355efc28"
      },
      "outputs": [],
      "source": [
        "0.1 + 0.1 + 0.1 == 0.3\n",
        "\n",
        "import math\n",
        "math.isclose(0.1 + 0.1 + 0.1, 0.3)"
      ],
      "id": "df604bae-3001-4753-ae41-044a355efc28"
    },
    {
      "cell_type": "code",
      "execution_count": null,
      "metadata": {
        "id": "5e4e58e1-8e7a-465f-a31d-ef9458a4736a"
      },
      "outputs": [],
      "source": [
        "True and False # 論理積（かつ）\n",
        "\n",
        "True or False  # 論理和（または）\n",
        "\n",
        "not True       # 否定（でない）"
      ],
      "id": "5e4e58e1-8e7a-465f-a31d-ef9458a4736a"
    },
    {
      "cell_type": "code",
      "execution_count": null,
      "metadata": {
        "id": "cc5d4d8a-f594-4103-b813-cde55e49c8b5"
      },
      "outputs": [],
      "source": [
        "0 if 3 < 5 else 10"
      ],
      "id": "cc5d4d8a-f594-4103-b813-cde55e49c8b5"
    },
    {
      "cell_type": "code",
      "execution_count": null,
      "metadata": {
        "id": "da924452-44d2-4a6c-898a-2076e50fc3af"
      },
      "outputs": [],
      "source": [
        "import os\n",
        "os.getcwd()"
      ],
      "id": "da924452-44d2-4a6c-898a-2076e50fc3af"
    },
    {
      "cell_type": "code",
      "execution_count": null,
      "metadata": {
        "id": "34fb5380-77f1-47c3-a707-58477a651f6b"
      },
      "outputs": [],
      "source": [
        "os.chdir('..')\n",
        "os.getcwd()"
      ],
      "id": "34fb5380-77f1-47c3-a707-58477a651f6b"
    },
    {
      "id": "ca79e5ae",
      "cell_type": "markdown",
      "source": [
        "## 3.2 関数"
      ],
      "metadata": {
        "id": "ca79e5ae"
      }
    },
    {
      "cell_type": "code",
      "execution_count": null,
      "metadata": {
        "id": "1e2770aa-5cfd-465b-81a9-4fc5f4468090"
      },
      "outputs": [],
      "source": [
        "import math\n",
        "math.sqrt(4)"
      ],
      "id": "1e2770aa-5cfd-465b-81a9-4fc5f4468090"
    },
    {
      "cell_type": "code",
      "execution_count": null,
      "metadata": {
        "id": "3b9a7a78-fca5-459e-b670-16eef4c70760"
      },
      "outputs": [],
      "source": [
        "math.log(100, 10)"
      ],
      "id": "3b9a7a78-fca5-459e-b670-16eef4c70760"
    },
    {
      "cell_type": "code",
      "execution_count": null,
      "metadata": {
        "id": "e810530e-1cb8-4262-888b-eea33d6b46d0"
      },
      "outputs": [],
      "source": [
        "math.log(100)         # 自然対数\n",
        "# あるいは\n",
        "math.log(100, math.e) # 省略しない場合\n"
      ],
      "id": "e810530e-1cb8-4262-888b-eea33d6b46d0"
    },
    {
      "cell_type": "code",
      "execution_count": null,
      "metadata": {
        "id": "319d64b6-e55d-4e9a-8156-9eb1e5901c5d"
      },
      "outputs": [],
      "source": [
        "math.log10(100) # 常用対数\n",
        "\n",
        "math.log2(1024) # 底が2の対数"
      ],
      "id": "319d64b6-e55d-4e9a-8156-9eb1e5901c5d"
    },
    {
      "cell_type": "code",
      "execution_count": null,
      "metadata": {
        "id": "75a9db8a-647f-49b9-82a2-4d7e4eea0395"
      },
      "outputs": [],
      "source": [
        "def f(a, b):\n",
        "    return a - b"
      ],
      "id": "75a9db8a-647f-49b9-82a2-4d7e4eea0395"
    },
    {
      "cell_type": "code",
      "execution_count": null,
      "metadata": {
        "id": "8f8d1b96-b309-48f1-85a7-c28a5caa3871"
      },
      "outputs": [],
      "source": [
        "f(3, 5)"
      ],
      "id": "8f8d1b96-b309-48f1-85a7-c28a5caa3871"
    },
    {
      "cell_type": "code",
      "execution_count": null,
      "metadata": {
        "id": "888a9cbe-e482-477e-852c-ed0781d1126b"
      },
      "outputs": [],
      "source": [
        "def f(a, b=5):\n",
        "    return a - b\n",
        "\n",
        "f(3) # f(3, 5)と同じこと"
      ],
      "id": "888a9cbe-e482-477e-852c-ed0781d1126b"
    },
    {
      "cell_type": "code",
      "execution_count": null,
      "metadata": {
        "id": "8ee293ec-7125-4c52-979a-7fc2d5e035e5"
      },
      "outputs": [],
      "source": [
        "(lambda a, b: a - b)(3, 5)"
      ],
      "id": "8ee293ec-7125-4c52-979a-7fc2d5e035e5"
    },
    {
      "id": "a29ab86b",
      "cell_type": "markdown",
      "source": [
        "## 3.3 コレクション"
      ],
      "metadata": {
        "id": "a29ab86b"
      }
    },
    {
      "cell_type": "code",
      "execution_count": null,
      "metadata": {
        "id": "9f863418-0c62-433b-a5c8-2676664379b5"
      },
      "outputs": [],
      "source": [
        "x = ['foo', 'bar', 'baz']"
      ],
      "id": "9f863418-0c62-433b-a5c8-2676664379b5"
    },
    {
      "cell_type": "code",
      "execution_count": null,
      "metadata": {
        "id": "6d3a9f4c-3794-486e-8b35-0455ea1605c5"
      },
      "outputs": [],
      "source": [
        "len(x)"
      ],
      "id": "6d3a9f4c-3794-486e-8b35-0455ea1605c5"
    },
    {
      "cell_type": "code",
      "execution_count": null,
      "metadata": {
        "id": "4462c4c4-86ea-4450-a6a0-ff4600c73969"
      },
      "outputs": [],
      "source": [
        "x[1]"
      ],
      "id": "4462c4c4-86ea-4450-a6a0-ff4600c73969"
    },
    {
      "cell_type": "code",
      "execution_count": null,
      "metadata": {
        "id": "374d0e15-6a97-4519-9a40-afed90abfeb5"
      },
      "outputs": [],
      "source": [
        "x[1] = 'BAR'\n",
        "x # 結果の確認\n",
        "\n",
        "x[1] = 'bar' # 元に戻す．"
      ],
      "id": "374d0e15-6a97-4519-9a40-afed90abfeb5"
    },
    {
      "cell_type": "code",
      "execution_count": null,
      "metadata": {
        "id": "ecd4c244-9943-43a6-8815-68dcb7b1d5ab"
      },
      "outputs": [],
      "source": [
        "x[-2]"
      ],
      "id": "ecd4c244-9943-43a6-8815-68dcb7b1d5ab"
    },
    {
      "cell_type": "code",
      "execution_count": null,
      "metadata": {
        "id": "87563d35-cc13-4aa6-838d-7d272c9ef8b4"
      },
      "outputs": [],
      "source": [
        "x + ['qux']"
      ],
      "id": "87563d35-cc13-4aa6-838d-7d272c9ef8b4"
    },
    {
      "cell_type": "code",
      "execution_count": null,
      "metadata": {
        "id": "989556cc-565d-4222-a1a1-71e5bf1dfaa5"
      },
      "outputs": [],
      "source": [
        "x = x + ['qux']\n",
        "# あるいは\n",
        "#x.append('qux')\n",
        "\n",
        "x # 結果の確認"
      ],
      "id": "989556cc-565d-4222-a1a1-71e5bf1dfaa5"
    },
    {
      "cell_type": "code",
      "execution_count": null,
      "metadata": {
        "id": "3e9ec18b-8d0f-4ca3-8143-7c0029104b26"
      },
      "outputs": [],
      "source": [
        "list(range(5))"
      ],
      "id": "3e9ec18b-8d0f-4ca3-8143-7c0029104b26"
    },
    {
      "cell_type": "code",
      "execution_count": null,
      "metadata": {
        "id": "ca01dd4d-6f1b-4e9f-bf1b-61c5ad25fe5e"
      },
      "outputs": [],
      "source": [
        "list(range(0, 11, 2))"
      ],
      "id": "ca01dd4d-6f1b-4e9f-bf1b-61c5ad25fe5e"
    },
    {
      "cell_type": "code",
      "execution_count": null,
      "metadata": {
        "id": "4d8779e5-642f-45e5-a6b5-64e5493f7c24"
      },
      "outputs": [],
      "source": [
        "import numpy as np\n",
        "np.arange(0, 1.1, 0.5)"
      ],
      "id": "4d8779e5-642f-45e5-a6b5-64e5493f7c24"
    },
    {
      "cell_type": "code",
      "execution_count": null,
      "metadata": {
        "id": "d08114fa-1ece-4567-b165-2cf03a9e028e"
      },
      "outputs": [],
      "source": [
        "np.linspace(0, 100, 5)"
      ],
      "id": "d08114fa-1ece-4567-b165-2cf03a9e028e"
    },
    {
      "cell_type": "code",
      "execution_count": null,
      "metadata": {
        "id": "8fe4bcf9-287f-4866-8842-50596e1ea8fd"
      },
      "outputs": [],
      "source": [
        "[10] * 5"
      ],
      "id": "8fe4bcf9-287f-4866-8842-50596e1ea8fd"
    },
    {
      "cell_type": "code",
      "execution_count": null,
      "metadata": {
        "id": "37d325d2-6b48-4474-83c2-c3fc526747d9"
      },
      "outputs": [],
      "source": [
        "import numpy as np\n",
        "x = np.array([2, 3, 5, 7])\n",
        "\n",
        "x + 10 # 加算\n",
        "\n",
        "x * 10 # 乗算"
      ],
      "id": "37d325d2-6b48-4474-83c2-c3fc526747d9"
    },
    {
      "cell_type": "code",
      "execution_count": null,
      "metadata": {
        "id": "8fdf6032-1b25-4ffd-bc13-efb7be0320eb"
      },
      "outputs": [],
      "source": [
        "x = [2, 3]\n",
        "np.sin(x)"
      ],
      "id": "8fdf6032-1b25-4ffd-bc13-efb7be0320eb"
    },
    {
      "cell_type": "code",
      "execution_count": null,
      "metadata": {
        "id": "67d55d6e-4ef7-4516-b131-e3bc2303e56a"
      },
      "outputs": [],
      "source": [
        "x = np.array([2,  3,   5,    7])\n",
        "y = np.array([1, 10, 100, 1000])\n",
        "x + y\n",
        "\n",
        "x * y"
      ],
      "id": "67d55d6e-4ef7-4516-b131-e3bc2303e56a"
    },
    {
      "cell_type": "code",
      "execution_count": null,
      "metadata": {
        "id": "5f708f16-4422-4bc0-a2f8-3436633b1f58"
      },
      "outputs": [],
      "source": [
        "np.dot(x, y)\n",
        "# あるいは\n",
        "x @ y\n"
      ],
      "id": "5f708f16-4422-4bc0-a2f8-3436633b1f58"
    },
    {
      "cell_type": "code",
      "execution_count": null,
      "metadata": {
        "id": "0cc3055c-746c-4eef-a32e-a5fe805fea1b"
      },
      "outputs": [],
      "source": [
        "x = np.array([True, False])\n",
        "y = np.array([True, True])\n",
        "x & y"
      ],
      "id": "0cc3055c-746c-4eef-a32e-a5fe805fea1b"
    },
    {
      "cell_type": "code",
      "execution_count": null,
      "metadata": {
        "id": "65f6193f-836e-4e55-979f-cf453e4e4dc6"
      },
      "outputs": [],
      "source": [
        "u = np.array([1, 2, 3])\n",
        "v = np.array([1, 2, 3])\n",
        "w = np.array([1, 2, 4])\n",
        "\n",
        "all(u == v) # 全体の比較\n",
        "\n",
        "all(u == w) # 全体の比較\n",
        "\n",
        "u == v      # 要素ごとの比較\n",
        "\n",
        "u == w      # 要素ごとの比較"
      ],
      "id": "65f6193f-836e-4e55-979f-cf453e4e4dc6"
    },
    {
      "cell_type": "code",
      "execution_count": null,
      "metadata": {
        "id": "f8557951-c190-46b0-8cc7-fcc3f57c4ce5"
      },
      "outputs": [],
      "source": [
        "(u == w).sum()  # 同じ要素の数\n",
        "\n",
        "(u == w).mean() # 同じ要素の割合"
      ],
      "id": "f8557951-c190-46b0-8cc7-fcc3f57c4ce5"
    },
    {
      "cell_type": "code",
      "execution_count": null,
      "metadata": {
        "id": "c22986ed-7c07-4e70-949f-90b371950488"
      },
      "outputs": [],
      "source": [
        "x = [1, \"two\"]"
      ],
      "id": "c22986ed-7c07-4e70-949f-90b371950488"
    },
    {
      "cell_type": "code",
      "execution_count": null,
      "metadata": {
        "id": "2eedf34f-8d2c-4f11-9f43-595151f05165"
      },
      "outputs": [],
      "source": [
        "x[1]"
      ],
      "id": "2eedf34f-8d2c-4f11-9f43-595151f05165"
    },
    {
      "cell_type": "code",
      "execution_count": null,
      "metadata": {
        "id": "eea7bb26-6e6d-4e2b-a425-8389292faa65"
      },
      "outputs": [],
      "source": [
        "x = {'apple' : 'りんご',\n",
        "     'orange': 'みかん'}"
      ],
      "id": "eea7bb26-6e6d-4e2b-a425-8389292faa65"
    },
    {
      "cell_type": "code",
      "execution_count": null,
      "metadata": {
        "id": "b977665e-98f9-4a02-9a43-2458352dc042"
      },
      "outputs": [],
      "source": [
        "x['grape'] = 'ぶどう'"
      ],
      "id": "b977665e-98f9-4a02-9a43-2458352dc042"
    },
    {
      "cell_type": "code",
      "execution_count": null,
      "metadata": {
        "id": "355d5ec5-5748-4047-99a2-443c21836184"
      },
      "outputs": [],
      "source": [
        "x['apple']\n",
        "# あるいは\n",
        "tmp = 'apple'\n",
        "x[tmp]\n"
      ],
      "id": "355d5ec5-5748-4047-99a2-443c21836184"
    },
    {
      "cell_type": "code",
      "execution_count": null,
      "metadata": {
        "id": "e1be4654-f71c-48a6-836a-3065cce545fe"
      },
      "outputs": [],
      "source": [
        "x = ['foo', 'bar', 'baz']\n",
        "y = x\n",
        "y[1] = 'BAR' # yを更新する．\n",
        "y\n",
        "\n",
        "x            # xも変わる．"
      ],
      "id": "e1be4654-f71c-48a6-836a-3065cce545fe"
    },
    {
      "cell_type": "code",
      "execution_count": null,
      "metadata": {
        "id": "3da09475-bccb-41cd-b965-e184e74d9b53"
      },
      "outputs": [],
      "source": [
        "x = ['foo', 'bar', 'baz']\n",
        "y = x.copy()             # 「y = x」とせずに，コピーする．\n",
        "x == y, x is y\n",
        "\n",
        "y[1] = 'BAR'             # yを更新しても，\n",
        "x"
      ],
      "id": "3da09475-bccb-41cd-b965-e184e74d9b53"
    },
    {
      "id": "e8e29fab",
      "cell_type": "markdown",
      "source": [
        "## 3.4 データフレーム"
      ],
      "metadata": {
        "id": "e8e29fab"
      }
    },
    {
      "cell_type": "code",
      "execution_count": null,
      "metadata": {
        "id": "629e8f00-6276-4c91-b354-e1173926ca9d"
      },
      "outputs": [],
      "source": [
        "import pandas as pd"
      ],
      "id": "629e8f00-6276-4c91-b354-e1173926ca9d"
    },
    {
      "cell_type": "code",
      "execution_count": null,
      "metadata": {
        "id": "023cf7bb-182a-448b-8d5d-527e559a2e05"
      },
      "outputs": [],
      "source": [
        "my_df = pd.DataFrame({\n",
        "    'name':    ['A', 'B', 'C', 'D'],\n",
        "    'english': [ 60,  90,  70,  90],\n",
        "    'math':    [ 70,  80,  90, 100],\n",
        "    'gender':  ['f', 'm', 'm', 'f']})"
      ],
      "id": "023cf7bb-182a-448b-8d5d-527e559a2e05"
    },
    {
      "cell_type": "code",
      "execution_count": null,
      "metadata": {
        "id": "921ed4fc-6af3-4d08-940f-755bb95a6ce6"
      },
      "outputs": [],
      "source": [
        "my_df = pd.DataFrame([\n",
        "    ['A', 60,  70, 'f'],\n",
        "    ['B', 90,  80, 'm'],\n",
        "    ['C', 70,  90, 'm'],\n",
        "    ['D', 90, 100, 'f']],\n",
        "    columns=['name', 'english',\n",
        "             'math', 'gender'])"
      ],
      "id": "921ed4fc-6af3-4d08-940f-755bb95a6ce6"
    },
    {
      "cell_type": "code",
      "execution_count": null,
      "metadata": {
        "id": "cd27c9cf-1b2f-4aa1-96b0-b7202826c09f"
      },
      "outputs": [],
      "source": [
        "my_df.head()\n",
        "# 結果は割愛"
      ],
      "id": "cd27c9cf-1b2f-4aa1-96b0-b7202826c09f"
    },
    {
      "cell_type": "code",
      "execution_count": null,
      "metadata": {
        "id": "e7bc37e5-82d7-40b6-aaf6-73bc70948a06"
      },
      "outputs": [],
      "source": [
        "r, c = my_df.shape # 行数と列数\n",
        "r, c\n",
        "\n",
        "r # 行数（len(my_df)も可）\n",
        "\n",
        "c # 列数"
      ],
      "id": "e7bc37e5-82d7-40b6-aaf6-73bc70948a06"
    },
    {
      "cell_type": "code",
      "execution_count": null,
      "metadata": {
        "id": "48b33ac8-8ffc-4a47-a115-84dad37c5f8b"
      },
      "outputs": [],
      "source": [
        "from itertools import product\n",
        "my_df2 = pd.DataFrame(\n",
        "    product([1, 2, 3],\n",
        "            [10, 100]),\n",
        "    columns=['X', 'Y'])\n",
        "my_df2"
      ],
      "id": "48b33ac8-8ffc-4a47-a115-84dad37c5f8b"
    },
    {
      "cell_type": "code",
      "execution_count": null,
      "metadata": {
        "id": "49ad339f-c98c-4b58-b5a0-759abf08dc64"
      },
      "outputs": [],
      "source": [
        "my_df2.columns"
      ],
      "id": "49ad339f-c98c-4b58-b5a0-759abf08dc64"
    },
    {
      "cell_type": "code",
      "execution_count": null,
      "metadata": {
        "id": "faafdc5d-7029-460b-9095-2b60fcfa7abb"
      },
      "outputs": [],
      "source": [
        "my_df2.columns = ['P', 'Q']\n",
        "my_df2\n",
        "# 以下省略"
      ],
      "id": "faafdc5d-7029-460b-9095-2b60fcfa7abb"
    },
    {
      "cell_type": "code",
      "execution_count": null,
      "metadata": {
        "id": "3dffb810-eca3-4613-8888-3b016cad903d"
      },
      "outputs": [],
      "source": [
        "list(my_df.index)"
      ],
      "id": "3dffb810-eca3-4613-8888-3b016cad903d"
    },
    {
      "cell_type": "code",
      "execution_count": null,
      "metadata": {
        "id": "3ae0e56a-acd5-4ba6-ac59-914b6e24d2c2"
      },
      "outputs": [],
      "source": [
        "my_df2.index = [\n",
        "    'a', 'b', 'c', 'd', 'e', 'f']\n",
        "my_df2\n",
        "# 以下省略"
      ],
      "id": "3ae0e56a-acd5-4ba6-ac59-914b6e24d2c2"
    },
    {
      "cell_type": "code",
      "execution_count": null,
      "metadata": {
        "id": "0c1cf44f-6188-4370-9849-68424e551a58"
      },
      "outputs": [],
      "source": [
        "my_df3 = pd.DataFrame({\n",
        "    'english': [ 60,  90,  70,  90],\n",
        "    'math':    [ 70,  80,  90, 100],\n",
        "    'gender':  ['f', 'm', 'm', 'f']},\n",
        "    index=     ['A', 'B', 'C', 'D'])\n",
        "my_df3"
      ],
      "id": "0c1cf44f-6188-4370-9849-68424e551a58"
    },
    {
      "cell_type": "code",
      "execution_count": null,
      "metadata": {
        "id": "5f8feb16-a13a-4849-b98e-4062f442f7de"
      },
      "outputs": [],
      "source": [
        "tmp = pd.DataFrame({\n",
        "    'name'   : ['E'],\n",
        "    'english': [80],\n",
        "    'math'   : [80],\n",
        "    'gender' : ['m']})\n",
        "my_df2 = my_df.append(tmp)"
      ],
      "id": "5f8feb16-a13a-4849-b98e-4062f442f7de"
    },
    {
      "cell_type": "code",
      "execution_count": null,
      "metadata": {
        "id": "241fe832-ca8d-4959-be22-896e97300397"
      },
      "outputs": [],
      "source": [
        "my_df2 = my_df.assign(id=[1, 2, 3, 4])"
      ],
      "id": "241fe832-ca8d-4959-be22-896e97300397"
    },
    {
      "cell_type": "code",
      "execution_count": null,
      "metadata": {
        "id": "1743f049-1a15-4e88-9749-05c477703bef"
      },
      "outputs": [],
      "source": [
        "my_df3 = my_df.copy()       # コピー\n",
        "my_df3['id'] = [1, 2, 3, 4] # 更新\n",
        "my_df3 # 結果の確認（割愛）"
      ],
      "id": "1743f049-1a15-4e88-9749-05c477703bef"
    },
    {
      "cell_type": "code",
      "execution_count": null,
      "metadata": {
        "id": "6ac7dcff-b7b2-429b-94d7-faa827aec542"
      },
      "outputs": [],
      "source": [
        "my_df.iloc[0, 1]"
      ],
      "id": "6ac7dcff-b7b2-429b-94d7-faa827aec542"
    },
    {
      "cell_type": "code",
      "execution_count": null,
      "metadata": {
        "id": "47a1c2a1-0a98-446e-8391-b87d28d3c32d"
      },
      "outputs": [],
      "source": [
        "x = my_df.iloc[:, 1]\n",
        "# あるいは\n",
        "x = my_df['english']\n",
        "# あるいは\n",
        "x = my_df.english\n",
        "# あるいは\n",
        "tmp = 'english'\n",
        "x = my_df[tmp]\n",
        "\n",
        "x # 結果の確認（割愛）"
      ],
      "id": "47a1c2a1-0a98-446e-8391-b87d28d3c32d"
    },
    {
      "cell_type": "code",
      "execution_count": null,
      "metadata": {
        "id": "111e9e8e-fd68-4e74-998a-9de1718ef0a3"
      },
      "outputs": [],
      "source": [
        "x = my_df[['name', 'math']]\n",
        "# あるいは\n",
        "x = my_df.loc[:, ['name', 'math']]"
      ],
      "id": "111e9e8e-fd68-4e74-998a-9de1718ef0a3"
    },
    {
      "cell_type": "code",
      "execution_count": null,
      "metadata": {
        "id": "10809bd9-7dd7-4720-bf00-281d185280ca"
      },
      "outputs": [],
      "source": [
        "x = my_df.take([0, 2], axis=1)\n",
        "# あるいは\n",
        "x = my_df.iloc[:, [0, 2]]"
      ],
      "id": "10809bd9-7dd7-4720-bf00-281d185280ca"
    },
    {
      "cell_type": "code",
      "execution_count": null,
      "metadata": {
        "id": "a7c9777e-53c0-4224-b2f5-837bc18251b0"
      },
      "outputs": [],
      "source": [
        "x = my_df.drop(\n",
        "    columns=['english', 'gender'])\n",
        "# あるいは\n",
        "x = my_df.drop(\n",
        "    columns=my_df.columns[[1, 3]])"
      ],
      "id": "a7c9777e-53c0-4224-b2f5-837bc18251b0"
    },
    {
      "cell_type": "code",
      "execution_count": null,
      "metadata": {
        "id": "0fb0250e-8a80-40ef-ad50-19cb871b75b9"
      },
      "outputs": [],
      "source": [
        "x = my_df.take([0, 2])\n",
        "# あるいは\n",
        "x = my_df.iloc[[0, 2], :]"
      ],
      "id": "0fb0250e-8a80-40ef-ad50-19cb871b75b9"
    },
    {
      "cell_type": "code",
      "execution_count": null,
      "metadata": {
        "id": "587d6783-0da7-40e2-8762-7a734bf0cc4d"
      },
      "outputs": [],
      "source": [
        "x = my_df.drop([1, 3])"
      ],
      "id": "587d6783-0da7-40e2-8762-7a734bf0cc4d"
    },
    {
      "cell_type": "code",
      "execution_count": null,
      "metadata": {
        "id": "70554620-74e1-4794-a4dc-f9eda5e34ec9"
      },
      "outputs": [],
      "source": [
        "x = my_df[my_df['gender'] == 'm']\n",
        "# あるいは\n",
        "x = my_df.query('gender == \"m\"')"
      ],
      "id": "70554620-74e1-4794-a4dc-f9eda5e34ec9"
    },
    {
      "cell_type": "code",
      "execution_count": null,
      "metadata": {
        "id": "2b384841-7111-46f7-8438-0f26b947f213"
      },
      "outputs": [],
      "source": [
        "x = my_df[(my_df['english'] > 80) & (my_df['gender'] == \"m\")]\n",
        "# あるいは\n",
        "x = my_df.query('english > 80 and gender == \"m\"')"
      ],
      "id": "2b384841-7111-46f7-8438-0f26b947f213"
    },
    {
      "cell_type": "code",
      "execution_count": null,
      "metadata": {
        "id": "5d9eb4a5-fb9e-4038-bc6c-fb01844b173f"
      },
      "outputs": [],
      "source": [
        "x = my_df[my_df['english'] == my_df['english'].max()]\n",
        "# あるいは\n",
        "tmp = my_df['english'].max()\n",
        "x = my_df.query('english == @tmp')"
      ],
      "id": "5d9eb4a5-fb9e-4038-bc6c-fb01844b173f"
    },
    {
      "cell_type": "code",
      "execution_count": null,
      "metadata": {
        "id": "a1707ce0-a088-4f49-8543-cb2c6a457444"
      },
      "outputs": [],
      "source": [
        "my_df2 = my_df.copy() # コピー\n",
        "my_df2.loc[my_df['gender'] == 'm', 'gender'] = 'M'"
      ],
      "id": "a1707ce0-a088-4f49-8543-cb2c6a457444"
    },
    {
      "cell_type": "code",
      "execution_count": null,
      "metadata": {
        "id": "c957872f-5b1a-45fa-8ded-c06a3341ab53"
      },
      "outputs": [],
      "source": [
        "my_df2"
      ],
      "id": "c957872f-5b1a-45fa-8ded-c06a3341ab53"
    },
    {
      "cell_type": "code",
      "execution_count": null,
      "metadata": {
        "id": "4ec93d07-5baf-46ca-aff3-bf8b58aad2ce"
      },
      "outputs": [],
      "source": [
        "x = my_df.sort_values('english')"
      ],
      "id": "4ec93d07-5baf-46ca-aff3-bf8b58aad2ce"
    },
    {
      "cell_type": "code",
      "execution_count": null,
      "metadata": {
        "id": "306e496c-dfb8-42ad-aaa8-8d340457473e"
      },
      "outputs": [],
      "source": [
        "x = my_df.sort_values('english',\n",
        "    ascending=False)"
      ],
      "id": "306e496c-dfb8-42ad-aaa8-8d340457473e"
    },
    {
      "cell_type": "code",
      "execution_count": null,
      "metadata": {
        "id": "1dcf05d5-9aa8-47eb-aa9f-f4d446d337e7"
      },
      "outputs": [],
      "source": [
        "import numpy as np\n",
        "x = [2, 3, 5, 7, 11, 13, 17, 19, 23,\n",
        "     29, 31, 37]\n",
        "A = np.array(x).reshape(3, 4)\n",
        "A"
      ],
      "id": "1dcf05d5-9aa8-47eb-aa9f-f4d446d337e7"
    },
    {
      "cell_type": "code",
      "execution_count": null,
      "metadata": {
        "id": "af3f33b6-26d9-4643-bc47-4c0d65f2c9eb"
      },
      "outputs": [],
      "source": [
        "A = my_df.iloc[:, [1, 2]].values\n",
        "A"
      ],
      "id": "af3f33b6-26d9-4643-bc47-4c0d65f2c9eb"
    },
    {
      "cell_type": "code",
      "execution_count": null,
      "metadata": {
        "id": "27cb2107-86cc-4bf5-91f4-68e1a1f2e41a"
      },
      "outputs": [],
      "source": [
        "pd.DataFrame(A)"
      ],
      "id": "27cb2107-86cc-4bf5-91f4-68e1a1f2e41a"
    },
    {
      "cell_type": "code",
      "execution_count": null,
      "metadata": {
        "id": "35fa4a62-8ae7-4aa5-9d0c-70cc11cf63cd"
      },
      "outputs": [],
      "source": [
        "A.T"
      ],
      "id": "35fa4a62-8ae7-4aa5-9d0c-70cc11cf63cd"
    },
    {
      "cell_type": "code",
      "execution_count": null,
      "metadata": {
        "id": "2c678524-49a6-4102-939d-4906784b4f7c"
      },
      "outputs": [],
      "source": [
        "A.T @ A"
      ],
      "id": "2c678524-49a6-4102-939d-4906784b4f7c"
    },
    {
      "cell_type": "code",
      "execution_count": null,
      "metadata": {
        "id": "f7675a91-4556-4167-8480-654ccc7888ec"
      },
      "outputs": [],
      "source": [
        "my_df = pd.DataFrame({\n",
        "    'day': [25, 26, 27],\n",
        "    'min': [20, 21, 15],\n",
        "    'max': [24, 27, 21]})"
      ],
      "id": "f7675a91-4556-4167-8480-654ccc7888ec"
    },
    {
      "cell_type": "code",
      "execution_count": null,
      "metadata": {
        "id": "14c8cb70-c4d1-4602-9c42-6d73d1fb3536"
      },
      "outputs": [],
      "source": [
        "my_longer = my_df.melt(id_vars='day')\n",
        "my_longer"
      ],
      "id": "14c8cb70-c4d1-4602-9c42-6d73d1fb3536"
    },
    {
      "cell_type": "code",
      "execution_count": null,
      "metadata": {
        "id": "e099a44e-5ace-4b7e-a84f-d9328ae15636"
      },
      "outputs": [],
      "source": [
        "my_wider = my_longer.pivot(\n",
        "    index='day',\n",
        "    columns='variable',\n",
        "    values='value')\n",
        "my_wider"
      ],
      "id": "e099a44e-5ace-4b7e-a84f-d9328ae15636"
    },
    {
      "cell_type": "code",
      "execution_count": null,
      "metadata": {
        "id": "306c4828-f7a2-4374-b6b4-a4798ef4aef4"
      },
      "outputs": [],
      "source": [
        "my_wider.plot(\n",
        "    style='o-',\n",
        "    xticks=my_wider.index, # x軸目盛り\n",
        "    ylabel='temperature')  # y軸ラベル"
      ],
      "id": "306c4828-f7a2-4374-b6b4-a4798ef4aef4"
    },
    {
      "id": "bb8324ac",
      "cell_type": "markdown",
      "source": [
        "## 3.5 1次元データの（非）類似度"
      ],
      "metadata": {
        "id": "bb8324ac"
      }
    },
    {
      "cell_type": "code",
      "execution_count": null,
      "metadata": {
        "id": "c5290fa2-8928-40ac-acfb-8de39fee8519"
      },
      "outputs": [],
      "source": [
        "import numpy as np\n",
        "from scipy.spatial import distance\n",
        "from scipy.stats import pearsonr\n",
        "\n",
        "A = np.array([3,   4,  5])\n",
        "B = np.array([3,   4, 29])\n",
        "C = np.array([9, -18,  8])\n",
        "\n",
        "distance.euclidean(A, B)\n",
        "\n",
        "distance.euclidean(A, C)"
      ],
      "id": "c5290fa2-8928-40ac-acfb-8de39fee8519"
    },
    {
      "cell_type": "code",
      "execution_count": null,
      "metadata": {
        "id": "79267ff6-4526-42c9-8480-cd3f06ef5ae2"
      },
      "outputs": [],
      "source": [
        "distance.cityblock(A, B)\n",
        "\n",
        "distance.cityblock(A, C)"
      ],
      "id": "79267ff6-4526-42c9-8480-cd3f06ef5ae2"
    },
    {
      "cell_type": "code",
      "execution_count": null,
      "metadata": {
        "id": "4679fbd1-9c41-4b67-8ebd-52267c53f3d5"
      },
      "outputs": [],
      "source": [
        "1 - distance.cosine(A, B)\n",
        "\n",
        "1 - distance.cosine(A, C)"
      ],
      "id": "4679fbd1-9c41-4b67-8ebd-52267c53f3d5"
    },
    {
      "cell_type": "code",
      "execution_count": null,
      "metadata": {
        "id": "1d240d01-5fcd-4be2-8dab-2637fe46cfbe"
      },
      "outputs": [],
      "source": [
        "1 - distance.correlation(A, B)\n",
        "# あるいは\n",
        "pearsonr(A, B)[0]\n",
        "\n",
        "1 - distance.correlation(A, C)\n",
        "# あるいは\n",
        "pearsonr(A, C)[0]"
      ],
      "id": "1d240d01-5fcd-4be2-8dab-2637fe46cfbe"
    },
    {
      "cell_type": "code",
      "execution_count": null,
      "metadata": {
        "id": "b9cbb0e0-2092-47a3-940f-4e15daf0f7a5"
      },
      "outputs": [],
      "source": [
        "# 小数点以下は3桁表示\n",
        "np.set_printoptions(precision=3)\n",
        "import pandas as pd\n",
        "\n",
        "my_df = pd.DataFrame({\n",
        "    'x': [3,  3,   9],\n",
        "    'y': [4,  4, -18],\n",
        "    'z': [5, 29,   8]},\n",
        "    index=['A', 'B', 'C'])\n",
        "\n",
        "# ユークリッド距離\n",
        "distance.cdist(my_df, my_df,\n",
        "               metric='euclidean')\n",
        "\n",
        "# マンハッタン距離\n",
        "distance.cdist(my_df, my_df,\n",
        "               metric='cityblock')\n",
        "\n",
        "# コサイン類似度\n",
        "1 - distance.cdist(my_df, my_df,\n",
        "    metric='cosine')\n",
        "\n",
        "# 相関係数\n",
        "1 - distance.cdist(my_df, my_df,\n",
        "    metric='correlation')"
      ],
      "id": "b9cbb0e0-2092-47a3-940f-4e15daf0f7a5"
    },
    {
      "id": "bfe0caf4",
      "cell_type": "markdown",
      "source": [
        "## 3.6 Rのパッケージ，Pythonのモジュール"
      ],
      "metadata": {
        "id": "bfe0caf4"
      }
    },
    {
      "cell_type": "code",
      "execution_count": null,
      "metadata": {
        "id": "b7ecbb97-8d9b-411c-9877-9fd54262b7b4"
      },
      "outputs": [],
      "source": [
        "import math\n",
        "import numpy as np\n",
        "import pandas as pd"
      ],
      "id": "b7ecbb97-8d9b-411c-9877-9fd54262b7b4"
    },
    {
      "cell_type": "code",
      "execution_count": null,
      "metadata": {
        "id": "9202d0b8-87ce-4510-8378-14fa2701f4ad"
      },
      "outputs": [],
      "source": [
        "import numpy\n",
        "numpy.array([1, 2, 3, 4])"
      ],
      "id": "9202d0b8-87ce-4510-8378-14fa2701f4ad"
    },
    {
      "cell_type": "code",
      "execution_count": null,
      "metadata": {
        "id": "a4a0bc41-b31a-46f3-af3d-927e97193f8b"
      },
      "outputs": [],
      "source": [
        "import numpy as np\n",
        "np.array([1, 2, 3, 4])"
      ],
      "id": "a4a0bc41-b31a-46f3-af3d-927e97193f8b"
    },
    {
      "cell_type": "code",
      "execution_count": null,
      "metadata": {
        "id": "f533b96b-3c04-4bd6-86e7-4e5200a369cc"
      },
      "outputs": [],
      "source": [
        "from numpy import array\n",
        "array([1, 2, 3, 4])"
      ],
      "id": "f533b96b-3c04-4bd6-86e7-4e5200a369cc"
    },
    {
      "cell_type": "code",
      "execution_count": null,
      "metadata": {
        "id": "70e08b25-b149-4d03-b819-260b2839714f"
      },
      "outputs": [],
      "source": [
        "from numpy import *\n",
        "array([1, 2, 3, 4])"
      ],
      "id": "70e08b25-b149-4d03-b819-260b2839714f"
    },
    {
      "id": "b3ff66b5",
      "cell_type": "markdown",
      "source": [
        "## 3.7 反復処理"
      ],
      "metadata": {
        "id": "b3ff66b5"
      }
    },
    {
      "cell_type": "code",
      "execution_count": null,
      "metadata": {
        "id": "c50ca467-9030-437e-be6c-0afa1faf8ea8"
      },
      "outputs": [],
      "source": [
        "import numpy as np\n",
        "import pandas as pd"
      ],
      "id": "c50ca467-9030-437e-be6c-0afa1faf8ea8"
    },
    {
      "cell_type": "code",
      "execution_count": null,
      "metadata": {
        "id": "515f8cf3-305a-426a-a600-781430885d16"
      },
      "outputs": [],
      "source": [
        "def f1(x):\n",
        "    tmp = np.random.random(x)\n",
        "    return np.mean(tmp)\n",
        "\n",
        "f1(10)                # 動作確認"
      ],
      "id": "515f8cf3-305a-426a-a600-781430885d16"
    },
    {
      "cell_type": "code",
      "execution_count": null,
      "metadata": {
        "id": "0987751d-659b-4ce0-8be5-cfe786ee56da"
      },
      "outputs": [],
      "source": [
        "[f1(10) for i in range(3)]"
      ],
      "id": "0987751d-659b-4ce0-8be5-cfe786ee56da"
    },
    {
      "cell_type": "code",
      "execution_count": null,
      "metadata": {
        "id": "2308c704-4337-479f-ad00-3431fd4e0a58"
      },
      "outputs": [],
      "source": [
        "[f1(10)] * 3"
      ],
      "id": "2308c704-4337-479f-ad00-3431fd4e0a58"
    },
    {
      "cell_type": "code",
      "execution_count": null,
      "metadata": {
        "id": "aea4e589-7c91-41ee-b779-fb5b7945c564"
      },
      "outputs": [],
      "source": [
        "v = [5, 10, 100]\n",
        "[f1(x) for x in v] # 方法1\n",
        "\n",
        "# あるいは\n",
        "\n",
        "v = pd.Series([5, 10, 100])\n",
        "v.apply(f1)        # 方法2"
      ],
      "id": "aea4e589-7c91-41ee-b779-fb5b7945c564"
    },
    {
      "cell_type": "code",
      "execution_count": null,
      "metadata": {
        "id": "8755f597-b8a9-4828-924a-ec9c35413df9"
      },
      "outputs": [],
      "source": [
        "pd.Series([10] * 3).apply(f1)\n",
        "# 結果は割愛"
      ],
      "id": "8755f597-b8a9-4828-924a-ec9c35413df9"
    },
    {
      "cell_type": "code",
      "execution_count": null,
      "metadata": {
        "id": "78f186ec-6446-4fa1-b776-6a90221ce234"
      },
      "outputs": [],
      "source": [
        "def f2(n):\n",
        "    tmp = np.random.random(n)\n",
        "    return pd.Series([\n",
        "        n,\n",
        "        tmp.mean(),\n",
        "        tmp.std(ddof=1)],\n",
        "        index=['x', 'p', 'q'])\n",
        "\n",
        "f2(10) # 動作確認"
      ],
      "id": "78f186ec-6446-4fa1-b776-6a90221ce234"
    },
    {
      "cell_type": "code",
      "execution_count": null,
      "metadata": {
        "id": "8186fe1c-8155-4dff-ad45-0592a2c5e4f3"
      },
      "outputs": [],
      "source": [
        "v = pd.Series([5, 10, 100])\n",
        "v.apply(f2)"
      ],
      "id": "8186fe1c-8155-4dff-ad45-0592a2c5e4f3"
    },
    {
      "cell_type": "code",
      "execution_count": null,
      "metadata": {
        "id": "690571f8-c650-4198-8c3d-4dcdc95ab651"
      },
      "outputs": [],
      "source": [
        "def f3(x, y):\n",
        "    tmp = np.random.random(x) * y\n",
        "    return pd.Series([\n",
        "        x,\n",
        "        y,\n",
        "        tmp.mean(),\n",
        "        tmp.std(ddof=1)],\n",
        "        index=['x', 'y', 'p', 'q'])\n",
        "\n",
        "f3(10, 6) # 動作確認"
      ],
      "id": "690571f8-c650-4198-8c3d-4dcdc95ab651"
    },
    {
      "cell_type": "code",
      "execution_count": null,
      "metadata": {
        "id": "2fd84e64-4757-49d6-b370-3c5c36868111"
      },
      "outputs": [],
      "source": [
        "my_df = pd.DataFrame({\n",
        "    'x': [5, 10, 100,  5, 10, 100],\n",
        "    'y': [6,  6,   6, 12, 12,  12]})\n",
        "\n",
        "my_df.apply(\n",
        "  lambda row: f3(row['x'], row['y']),\n",
        "  axis=1)\n",
        "# あるいは\n",
        "my_df.apply(lambda row:\n",
        "            f3(*row), axis=1)\n"
      ],
      "id": "2fd84e64-4757-49d6-b370-3c5c36868111"
    },
    {
      "cell_type": "code",
      "execution_count": null,
      "metadata": {
        "id": "a22f90a1-8cd9-409b-8795-889e00cb5e53"
      },
      "outputs": [],
      "source": [
        "from pandarallel import pandarallel\n",
        "pandarallel.initialize() # 準備\n",
        "\n",
        "v = pd.Series([5, 10, 100])\n",
        "v.parallel_apply(f1)\n",
        "# 結果は割愛"
      ],
      "id": "a22f90a1-8cd9-409b-8795-889e00cb5e53"
    },
    {
      "id": "9fe53a75",
      "cell_type": "markdown",
      "source": [
        "## 3.8 その他"
      ],
      "metadata": {
        "id": "9fe53a75"
      }
    },
    {
      "cell_type": "code",
      "execution_count": null,
      "metadata": {
        "id": "356b12af-7665-482e-8349-6340d8602a08"
      },
      "outputs": [],
      "source": [
        "x = 123\n",
        "type(x)"
      ],
      "id": "356b12af-7665-482e-8349-6340d8602a08"
    },
    {
      "cell_type": "code",
      "execution_count": null,
      "metadata": {
        "id": "29ed354d-7a6a-4cb7-a984-6e516722f0da"
      },
      "outputs": [],
      "source": [
        "%whos"
      ],
      "id": "29ed354d-7a6a-4cb7-a984-6e516722f0da"
    },
    {
      "cell_type": "code",
      "execution_count": null,
      "metadata": {
        "id": "18eebbcc-cad3-4ea1-bdac-4a7592363090"
      },
      "outputs": [],
      "source": [
        "import math\n",
        "?math.log\n",
        "# あるいは\n",
        "help(math.log)"
      ],
      "id": "18eebbcc-cad3-4ea1-bdac-4a7592363090"
    },
    {
      "cell_type": "code",
      "execution_count": null,
      "metadata": {
        "id": "05ab78a1-d1e3-4865-b26e-1ad72a9ed440"
      },
      "outputs": [],
      "source": [
        "import numpy as np\n",
        "v = [1, np.nan, 3]\n",
        "v"
      ],
      "id": "05ab78a1-d1e3-4865-b26e-1ad72a9ed440"
    },
    {
      "cell_type": "code",
      "execution_count": null,
      "metadata": {
        "id": "76e7fc35-4f0b-4269-b7d3-83958b60a46e"
      },
      "outputs": [],
      "source": [
        "np.isnan(v[1])\n",
        "\n",
        "v[1] == np.nan # 誤り"
      ],
      "id": "76e7fc35-4f0b-4269-b7d3-83958b60a46e"
    },
    {
      "id": "23bb62f4",
      "cell_type": "markdown",
      "source": [
        "# 4 統計入門\n",
        "\n",
        "\n"
      ],
      "metadata": {
        "id": "23bb62f4"
      }
    },
    {
      "id": "7ac70ebe",
      "cell_type": "markdown",
      "source": [
        "## 4.1 記述統計"
      ],
      "metadata": {
        "id": "7ac70ebe"
      }
    },
    {
      "cell_type": "code",
      "execution_count": null,
      "metadata": {
        "id": "e683a285-233d-4090-97a2-550e0055aa24"
      },
      "outputs": [],
      "source": [
        "import numpy as np\n",
        "import pandas as pd\n",
        "\n",
        "x = [165, 170, 175, 180, 185]\n",
        "np.mean(x) # リストの場合\n",
        "\n",
        "x = np.array( # アレイ\n",
        "    [165, 170, 175, 180, 185])\n",
        "x.mean() # np.mean(x)も可\n",
        "\n",
        "x = pd.Series( # シリーズ\n",
        "    [165, 170, 175, 180, 185])\n",
        "x.mean() # np.mean(x)も可"
      ],
      "id": "e683a285-233d-4090-97a2-550e0055aa24"
    },
    {
      "cell_type": "code",
      "execution_count": null,
      "metadata": {
        "id": "eeeae555-c54c-4dcb-a2d1-a3821e9b03ef"
      },
      "outputs": [],
      "source": [
        "n = len(x) # サンプルサイズ\n",
        "sum(x) / n"
      ],
      "id": "eeeae555-c54c-4dcb-a2d1-a3821e9b03ef"
    },
    {
      "cell_type": "code",
      "execution_count": null,
      "metadata": {
        "id": "55c2e6fa-3bd3-44c7-a813-d4e4e0ec865c"
      },
      "outputs": [],
      "source": [
        "y = [173, 174, 175, 176, 177]\n",
        "np.mean(y)"
      ],
      "id": "55c2e6fa-3bd3-44c7-a813-d4e4e0ec865c"
    },
    {
      "cell_type": "code",
      "execution_count": null,
      "metadata": {
        "id": "a3f2e477-7628-4050-b8b6-e149461e4b4b"
      },
      "outputs": [],
      "source": [
        "np.var(x, ddof=1) # xの分散\n",
        "\n",
        "np.var(y, ddof=1) # yの分散"
      ],
      "id": "a3f2e477-7628-4050-b8b6-e149461e4b4b"
    },
    {
      "cell_type": "code",
      "execution_count": null,
      "metadata": {
        "id": "489a9af6-284d-4088-8658-b66c252a4408"
      },
      "outputs": [],
      "source": [
        "sum((x - np.mean(x))**2) / (n - 1)"
      ],
      "id": "489a9af6-284d-4088-8658-b66c252a4408"
    },
    {
      "cell_type": "code",
      "execution_count": null,
      "metadata": {
        "id": "762a26c5-32bf-4f5c-9683-e08640e5e950"
      },
      "outputs": [],
      "source": [
        "np.std(x, ddof=1) # xの標準偏差\n",
        "\n",
        "np.std(y, ddof=1) # yの標準偏差"
      ],
      "id": "762a26c5-32bf-4f5c-9683-e08640e5e950"
    },
    {
      "cell_type": "code",
      "execution_count": null,
      "metadata": {
        "id": "c6ddfd29-1a8b-4608-a131-fabb1e4a38ac"
      },
      "outputs": [],
      "source": [
        "np.var(x, ddof=1)**0.5 # xの標準偏差"
      ],
      "id": "c6ddfd29-1a8b-4608-a131-fabb1e4a38ac"
    },
    {
      "cell_type": "code",
      "execution_count": null,
      "metadata": {
        "id": "cd33b991-91f4-4e53-bc83-1120693f032e"
      },
      "outputs": [],
      "source": [
        "s = pd.Series(x)\n",
        "s.describe()"
      ],
      "id": "cd33b991-91f4-4e53-bc83-1120693f032e"
    },
    {
      "cell_type": "code",
      "execution_count": null,
      "metadata": {
        "id": "03c6fb50-5eaa-4941-b69b-cd7647a08ad1"
      },
      "outputs": [],
      "source": [
        "# s.describe()で計算済み"
      ],
      "id": "03c6fb50-5eaa-4941-b69b-cd7647a08ad1"
    },
    {
      "cell_type": "code",
      "execution_count": null,
      "metadata": {
        "id": "0b11948e-36b3-46f8-a180-f182913d3bbc"
      },
      "outputs": [],
      "source": [
        "x = [165, 170, 175, 180, 185]\n",
        "\n",
        "np.var(x, ddof=1) # 不偏分散\n",
        "\n",
        "np.var(x, ddof=0) # 標本分散"
      ],
      "id": "0b11948e-36b3-46f8-a180-f182913d3bbc"
    },
    {
      "cell_type": "code",
      "execution_count": null,
      "metadata": {
        "id": "6f6beff8-47c2-424e-9b4e-10037ed5122e"
      },
      "outputs": [],
      "source": [
        "np.std(x, ddof=1) # √不偏分散\n",
        "\n",
        "np.std(x, ddof=0) # √標本分散"
      ],
      "id": "6f6beff8-47c2-424e-9b4e-10037ed5122e"
    },
    {
      "cell_type": "code",
      "execution_count": null,
      "metadata": {
        "id": "aefe842d-9e11-4696-b39d-9fdabcb2f349"
      },
      "outputs": [],
      "source": [
        "np.std(x, ddof=1) / len(x)**0.5"
      ],
      "id": "aefe842d-9e11-4696-b39d-9fdabcb2f349"
    },
    {
      "cell_type": "code",
      "execution_count": null,
      "metadata": {
        "id": "c657cf71-0efc-49e1-b340-6f80b40cd87a"
      },
      "outputs": [],
      "source": [
        "import numpy as np\n",
        "import pandas as pd\n",
        "\n",
        "my_df = pd.DataFrame({\n",
        "    'name':    ['A', 'B', 'C', 'D'],\n",
        "    'english': [ 60,  90,  70,  90],\n",
        "    'math':    [ 70,  80,  90, 100],\n",
        "    'gender':  ['f', 'm', 'm', 'f']})"
      ],
      "id": "c657cf71-0efc-49e1-b340-6f80b40cd87a"
    },
    {
      "cell_type": "code",
      "execution_count": null,
      "metadata": {
        "id": "da92e4e7-1eaf-4742-93d4-2a7209f10537"
      },
      "outputs": [],
      "source": [
        "my_df['english'].var(ddof=1)\n",
        "# あるいは\n",
        "np.var(my_df['english'], ddof=1)\n"
      ],
      "id": "da92e4e7-1eaf-4742-93d4-2a7209f10537"
    },
    {
      "cell_type": "code",
      "execution_count": null,
      "metadata": {
        "id": "4b22c197-c1bc-49a1-afae-802cf0baf911"
      },
      "outputs": [],
      "source": [
        "my_df.var()\n",
        "# あるいは\n",
        "my_df.apply('var')\n",
        "# あるいは\n",
        "my_df.iloc[:, [1, 2]].apply(\n",
        "    lambda x: np.var(x, ddof=1))\n"
      ],
      "id": "4b22c197-c1bc-49a1-afae-802cf0baf911"
    },
    {
      "cell_type": "code",
      "execution_count": null,
      "metadata": {
        "id": "8699e7db-2c03-4f61-befa-d984a5d31a7f"
      },
      "outputs": [],
      "source": [
        "my_df.describe()"
      ],
      "id": "8699e7db-2c03-4f61-befa-d984a5d31a7f"
    },
    {
      "cell_type": "code",
      "execution_count": null,
      "metadata": {
        "id": "846045fb-45f7-487b-ab17-061be3568050"
      },
      "outputs": [],
      "source": [
        "from collections import Counter\n",
        "Counter(my_df.gender)\n",
        "\n",
        "# あるいは\n",
        "\n",
        "my_df.groupby('gender').apply(len)"
      ],
      "id": "846045fb-45f7-487b-ab17-061be3568050"
    },
    {
      "cell_type": "code",
      "execution_count": null,
      "metadata": {
        "id": "b8fda4ff-4c8d-459d-aade-69fc462be113"
      },
      "outputs": [],
      "source": [
        "my_df2 = my_df.assign(\n",
        "    excel=my_df.math >= 80)\n",
        "pd.crosstab(my_df2.gender,\n",
        "            my_df2.excel)"
      ],
      "id": "b8fda4ff-4c8d-459d-aade-69fc462be113"
    },
    {
      "cell_type": "code",
      "execution_count": null,
      "metadata": {
        "id": "864e153b-c5bd-4e2a-9c9e-e131b23bb78b"
      },
      "outputs": [],
      "source": [
        "my_df.groupby('gender').mean()\n",
        "# あるいは\n",
        "my_df.groupby('gender').agg('mean')\n",
        "# あるいは\n",
        "my_df.groupby('gender').agg(np.mean)\n"
      ],
      "id": "864e153b-c5bd-4e2a-9c9e-e131b23bb78b"
    },
    {
      "id": "204a99f5",
      "cell_type": "markdown",
      "source": [
        "## 4.2 データの可視化"
      ],
      "metadata": {
        "id": "204a99f5"
      }
    },
    {
      "cell_type": "code",
      "execution_count": null,
      "metadata": {
        "id": "fbdd56ea-fdda-445e-87d4-8eb0e3d9a4a4"
      },
      "outputs": [],
      "source": [
        "import numpy as np\n",
        "import pandas as pd\n",
        "import statsmodels.api as sm\n",
        "iris = sm.datasets.get_rdataset('iris', 'datasets').data\n",
        "iris.head()"
      ],
      "id": "fbdd56ea-fdda-445e-87d4-8eb0e3d9a4a4"
    },
    {
      "cell_type": "code",
      "execution_count": null,
      "metadata": {
        "id": "2cbe181b-0cfa-4870-9cec-aa4c5d443f85"
      },
      "outputs": [],
      "source": [
        "iris.hist('Sepal.Length')"
      ],
      "id": "2cbe181b-0cfa-4870-9cec-aa4c5d443f85"
    },
    {
      "cell_type": "code",
      "execution_count": null,
      "metadata": {
        "id": "10ad72a0-3039-4de0-bef7-18fc1fd6a82d"
      },
      "outputs": [],
      "source": [
        "my_df = pd.DataFrame(\n",
        "    {'x': [10, 20, 30]})\n",
        "my_df.hist('x', bins=2) # 階級数は2"
      ],
      "id": "10ad72a0-3039-4de0-bef7-18fc1fd6a82d"
    },
    {
      "cell_type": "code",
      "execution_count": null,
      "metadata": {
        "id": "e84ea76e-0414-4672-9dcb-e7437984169c"
      },
      "outputs": [],
      "source": [
        "x = iris['Sepal.Length']\n",
        "tmp = np.linspace(min(x), max(x), 10)\n",
        "iris.hist('Sepal.Length',\n",
        "          bins=tmp.round(2))"
      ],
      "id": "e84ea76e-0414-4672-9dcb-e7437984169c"
    },
    {
      "cell_type": "code",
      "execution_count": null,
      "metadata": {
        "id": "901bd463-d4af-4639-a9f5-9a445f4e2d04"
      },
      "outputs": [],
      "source": [
        "iris.plot('Sepal.Length',\n",
        "          'Sepal.Width',\n",
        "          kind='scatter')"
      ],
      "id": "901bd463-d4af-4639-a9f5-9a445f4e2d04"
    },
    {
      "cell_type": "code",
      "execution_count": null,
      "metadata": {
        "id": "0f8be688-6d35-43f3-8fdb-7154f3d8fddb"
      },
      "outputs": [],
      "source": [
        "iris.boxplot()"
      ],
      "id": "0f8be688-6d35-43f3-8fdb-7154f3d8fddb"
    },
    {
      "cell_type": "code",
      "execution_count": null,
      "metadata": {
        "id": "566fc4c7-9d0c-4ee7-84bb-12b8217f9117"
      },
      "outputs": [],
      "source": [
        "pd.options.display.float_format = (\n",
        "    '{:.2f}'.format)\n",
        "my_df = (iris.describe().transpose()\n",
        "    [['mean', 'std']])\n",
        "my_df['se'] = (my_df['std'] /\n",
        "               len(iris)**0.5)\n",
        "my_df"
      ],
      "id": "566fc4c7-9d0c-4ee7-84bb-12b8217f9117"
    },
    {
      "cell_type": "code",
      "execution_count": null,
      "metadata": {
        "id": "98dc1ad8-ec4c-42ea-bc6c-12d2b7ef71c5"
      },
      "outputs": [],
      "source": [
        "my_df.plot(y='mean', kind='bar', yerr='se', capsize=10)"
      ],
      "id": "98dc1ad8-ec4c-42ea-bc6c-12d2b7ef71c5"
    },
    {
      "cell_type": "code",
      "execution_count": null,
      "metadata": {
        "id": "e227f961-6982-4e29-b4bf-1044382f8cce"
      },
      "outputs": [],
      "source": [
        "my_group = iris.groupby('Species')                    # 品種ごとに，\n",
        "my_df = my_group.agg('mean')                          # 各変数の，平均と\n",
        "my_se = my_group.agg(lambda x: x.std() / len(x)**0.5) # 標準誤差を求める．\n",
        "my_se"
      ],
      "id": "e227f961-6982-4e29-b4bf-1044382f8cce"
    },
    {
      "cell_type": "code",
      "execution_count": null,
      "metadata": {
        "id": "e6dce130-fba7-4302-8580-f98d676ff5c5"
      },
      "outputs": [],
      "source": [
        "my_group.agg('mean').plot(kind='bar', yerr=my_se, capsize=5)"
      ],
      "id": "e6dce130-fba7-4302-8580-f98d676ff5c5"
    },
    {
      "cell_type": "code",
      "execution_count": null,
      "metadata": {
        "id": "6925f060-4927-43ac-a0dc-318726789b76"
      },
      "outputs": [],
      "source": [
        "from statsmodels.graphics.mosaicplot \\\n",
        "    import mosaic\n",
        "\n",
        "my_df = pd.DataFrame({\n",
        "    'Species': iris.Species,\n",
        "    'w_Sepal': iris['Sepal.Width'] > 3})\n",
        "\n",
        "my_table = pd.crosstab( # 分割表\n",
        "    my_df['Species'],\n",
        "    my_df['w_Sepal'])\n",
        "my_table\n",
        "\n",
        "mosaic(my_df,\n",
        "       index=['Species', 'w_Sepal'])"
      ],
      "id": "6925f060-4927-43ac-a0dc-318726789b76"
    },
    {
      "cell_type": "code",
      "execution_count": null,
      "metadata": {
        "id": "0301cc43-fb45-47ed-9d20-fe2406732a8d"
      },
      "outputs": [],
      "source": [
        "my_table.columns = [str(x) for x in my_table.columns]\n",
        "my_table.index   = [str(x) for x in my_table.index]\n",
        "mosaic(my_df, index=['Species', 'w_Sepal'], labelizer=lambda k: my_table.loc[k])"
      ],
      "id": "0301cc43-fb45-47ed-9d20-fe2406732a8d"
    },
    {
      "cell_type": "code",
      "execution_count": null,
      "metadata": {
        "id": "e3774260-6973-4955-a673-174810c27e58"
      },
      "outputs": [],
      "source": [
        "import matplotlib.pyplot as plt\n",
        "import numpy as np\n",
        "\n",
        "x = np.linspace(-2, 2, 100)\n",
        "y = x**3 - x\n",
        "plt.plot(x, y)"
      ],
      "id": "e3774260-6973-4955-a673-174810c27e58"
    },
    {
      "id": "00936a57",
      "cell_type": "markdown",
      "source": [
        "## 4.3 乱数"
      ],
      "metadata": {
        "id": "00936a57"
      }
    },
    {
      "cell_type": "code",
      "execution_count": null,
      "metadata": {
        "id": "656db8ee-42ff-474b-a97a-3a58eeebc61c"
      },
      "outputs": [],
      "source": [
        "import matplotlib.pyplot as plt\n",
        "import numpy as np\n",
        "rng = np.random.default_rng()"
      ],
      "id": "656db8ee-42ff-474b-a97a-3a58eeebc61c"
    },
    {
      "cell_type": "code",
      "execution_count": null,
      "metadata": {
        "id": "7e71a866-1038-4732-bcc7-76fb7cca5411"
      },
      "outputs": [],
      "source": [
        "x = np.random.choice(\n",
        "    a=range(1, 7), # 1から6\n",
        "    size=10000,    # 乱数の数\n",
        "    replace=True)  # 重複あり\n",
        "# あるいは\n",
        "x = np.random.randint(\n",
        "# あるいは\n",
        "#x = rng.integers(\n",
        "    low=1,      # 最小\n",
        "    high=7,     # 最大+1\n",
        "    size=10000) # 乱数の数\n",
        "\n",
        "plt.hist(x, bins=6) # ヒストグラム"
      ],
      "id": "7e71a866-1038-4732-bcc7-76fb7cca5411"
    },
    {
      "cell_type": "code",
      "execution_count": null,
      "metadata": {
        "id": "bc8b047b-ab3c-4335-a18c-5664c348195f"
      },
      "outputs": [],
      "source": [
        "x = np.random.random(size=1000)\n",
        "# あるいは\n",
        "x = rng.random(size=10000)\n",
        "# あるいは\n",
        "x = np.random.uniform(\n",
        "    low=0,     # 最小\n",
        "    high=1,    # 最大\n",
        "    size=1000) # 乱数の数\n",
        "plt.hist(x)"
      ],
      "id": "bc8b047b-ab3c-4335-a18c-5664c348195f"
    },
    {
      "cell_type": "code",
      "execution_count": null,
      "metadata": {
        "id": "98c7c05e-5381-4aab-b4f2-b2df51a7ca90"
      },
      "outputs": [],
      "source": [
        "tmp = np.random.uniform(\n",
        "    low=1,     # 最小\n",
        "    high=7,    # 最大 + 1\n",
        "    size=1000) # 乱数の数\n",
        "x = [int(k) for k in tmp]\n",
        "plt.hist(x, bins=6) # 結果は割愛"
      ],
      "id": "98c7c05e-5381-4aab-b4f2-b2df51a7ca90"
    },
    {
      "cell_type": "code",
      "execution_count": null,
      "metadata": {
        "id": "3932e20e-f6ba-478a-9c0a-8e6ae1655ab7"
      },
      "outputs": [],
      "source": [
        "n = 100\n",
        "p = 0.5\n",
        "r = 10000\n",
        "x = np.random.binomial(\n",
        "# あるいは\n",
        "#x = rng.binomial(\n",
        "    n=n,    # 試行回数\n",
        "    p=p,    # 確率\n",
        "    size=r) # 乱数の数\n",
        "plt.hist(x, bins=max(x) - min(x))"
      ],
      "id": "3932e20e-f6ba-478a-9c0a-8e6ae1655ab7"
    },
    {
      "cell_type": "code",
      "execution_count": null,
      "metadata": {
        "id": "a7e2032a-5035-430e-9b3c-a4029468372c"
      },
      "outputs": [],
      "source": [
        "r = 10000\n",
        "x = np.random.normal(\n",
        "# あるいは\n",
        "#x = rng.normal(\n",
        "    loc=50,  # 平均\n",
        "    scale=5, # 標準偏差\n",
        "    size=r)  # 乱数の数\n",
        "plt.hist(x, bins=40)"
      ],
      "id": "a7e2032a-5035-430e-9b3c-a4029468372c"
    },
    {
      "cell_type": "code",
      "execution_count": null,
      "metadata": {
        "id": "428bc722-f07e-4571-9caa-94bae1097881"
      },
      "outputs": [],
      "source": [
        "import numpy as np\n",
        "import pandas as pd\n",
        "\n",
        "def f(k):\n",
        "    n = 10000\n",
        "    tmp = [g(np.random.normal(size=k, scale=3)) for _ in range(n)]\n",
        "    return pd.Series([k,\n",
        "                      np.mean(tmp),                  # 平均\n",
        "                      np.std(tmp, ddof=1) / n**0.5], # 標準誤差\n",
        "                     index=['k', 'mean', 'se'])"
      ],
      "id": "428bc722-f07e-4571-9caa-94bae1097881"
    },
    {
      "cell_type": "code",
      "execution_count": null,
      "metadata": {
        "id": "473704e6-d6c1-46eb-b96c-eced0ef1259b"
      },
      "outputs": [],
      "source": [
        "def g(x):\n",
        "    return np.var(x, ddof=1)\n",
        "pd.Series([10, 20, 30]).apply(f)"
      ],
      "id": "473704e6-d6c1-46eb-b96c-eced0ef1259b"
    },
    {
      "cell_type": "code",
      "execution_count": null,
      "metadata": {
        "id": "4214ed2e-0bf0-4cdd-8dda-28211871f0ce"
      },
      "outputs": [],
      "source": [
        "def g(x):\n",
        "    return np.std(x, ddof=1)\n",
        "pd.Series([10, 20, 30]).apply(f)"
      ],
      "id": "4214ed2e-0bf0-4cdd-8dda-28211871f0ce"
    },
    {
      "cell_type": "code",
      "execution_count": null,
      "metadata": {
        "id": "f18adc4b-8e25-493a-af44-5da737178908"
      },
      "outputs": [],
      "source": [
        "from math import gamma\n",
        "\n",
        "def g(x):\n",
        "    n = len(x)\n",
        "    return (np.std(x, ddof=1) *\n",
        "            (np.sqrt((n - 1) / 2) *\n",
        "             gamma((n - 1) / 2) /\n",
        "             gamma(n / 2)))\n",
        "pd.Series([10, 20, 30]).apply(f)"
      ],
      "id": "f18adc4b-8e25-493a-af44-5da737178908"
    },
    {
      "id": "cd64bf25",
      "cell_type": "markdown",
      "source": [
        "## 4.4 統計的推測"
      ],
      "metadata": {
        "id": "cd64bf25"
      }
    },
    {
      "cell_type": "code",
      "execution_count": null,
      "metadata": {
        "id": "a6fb5f7f-db84-499b-b93c-b84e2bacb4a2"
      },
      "outputs": [],
      "source": [
        "from statsmodels.stats.proportion import binom_test, proportion_confint\n",
        "\n",
        "binom_test(count=2,                 # 当たった回数\n",
        "           nobs=15,                 # くじを引いた回数\n",
        "           prop=4 / 10,             # 当たる確率（仮説）\n",
        "           alternative='two-sided') # 両側検定（デフォルト）\n",
        "                                    # 左片側検定なら'smaller'\n",
        "                                    # 右片側検定なら'larger'"
      ],
      "id": "a6fb5f7f-db84-499b-b93c-b84e2bacb4a2"
    },
    {
      "cell_type": "code",
      "execution_count": null,
      "metadata": {
        "id": "9b8a33e4-36a1-45f1-bfb0-eab8eb346a1e"
      },
      "outputs": [],
      "source": [
        "import numpy as np\n",
        "import pandas as pd\n",
        "from scipy import stats\n",
        "\n",
        "t = 4 / 10                        # 当たる確率\n",
        "n = 15                            # くじを引いた回数\n",
        "x = np.array(range(0, n + 1))     # 当たった回数\n",
        "my_pr  = stats.binom.pmf(x, n, t) # x回当たる確率\n",
        "my_pr2 = stats.binom.pmf(2, n, t) # 2回当たる確率\n",
        "\n",
        "my_data = pd.DataFrame({'x': x, 'y1': my_pr, 'y2': my_pr})\n",
        "my_data.loc[my_pr >  my_pr2, 'y1'] = np.nan # 当たる確率が，2回当たる確率超過\n",
        "my_data.loc[my_pr <= my_pr2, 'y2'] = np.nan # 当たる確率が，2回当たる確率以下\n",
        "ax = my_data.plot(x='x', style='o', ylabel='probability',\n",
        "                  legend=False)         # 凡例を表示しない．\n",
        "ax.hlines(y=my_pr2, xmin=0, xmax=15)    # 水平線\n",
        "ax.vlines(x=x,      ymin=0, ymax=my_pr) # 垂直線"
      ],
      "id": "9b8a33e4-36a1-45f1-bfb0-eab8eb346a1e"
    },
    {
      "cell_type": "code",
      "execution_count": null,
      "metadata": {
        "id": "e39088b0-52bf-451a-86ef-e1029486c04f"
      },
      "outputs": [],
      "source": [
        "a = 0.05\n",
        "proportion_confint(\n",
        "    count=2, # 当たった回数\n",
        "    nobs=15, # くじを引いた回数\n",
        "    alpha=a, # 有意水準（省略可）\n",
        "    method='binom_test')"
      ],
      "id": "e39088b0-52bf-451a-86ef-e1029486c04f"
    },
    {
      "cell_type": "code",
      "execution_count": null,
      "metadata": {
        "id": "301083a5-3142-4fb6-91bf-2d94e76de0a0"
      },
      "outputs": [],
      "source": [
        "a = 0.05 # 有意水準\n",
        "tmp = np.linspace(0, 1, 100)\n",
        "\n",
        "my_df = pd.DataFrame({\n",
        "    't': tmp,                                                  # 当たる確率\n",
        "    'q': a,                                                    # 水平線\n",
        "    'p': [binom_test(count=2, nobs=15, prop=t) for t in tmp]}) # p値\n",
        "\n",
        "my_df.plot(x='t', legend=None, xlabel=r'$\\theta$', ylabel=r'p-value')"
      ],
      "id": "301083a5-3142-4fb6-91bf-2d94e76de0a0"
    },
    {
      "cell_type": "code",
      "execution_count": null,
      "metadata": {
        "id": "c8d83329-5ab7-46cd-a450-dbba34a66f2f"
      },
      "outputs": [],
      "source": [
        "from statsmodels.stats.weightstats import CompareMeans, DescrStatsW\n",
        "\n",
        "X = [32.1, 26.2, 27.5, 31.8, 32.1, 31.2, 30.1, 32.4, 32.3, 29.9,\n",
        "     29.6, 26.6, 31.2, 30.9, 29.3]\n",
        "Y = [35.4, 34.6, 31.1, 32.4, 33.3, 34.7, 35.3, 34.3, 32.1, 28.3,\n",
        "     33.3, 30.5, 32.6, 33.3, 32.2]\n",
        "\n",
        "a = 0.05          # 有意水準（デフォルト） = 1 - 信頼係数\n",
        "alt = 'two-sided' # 両側検定（デフォルト）\n",
        "                  # 左片側検定なら'smaller'\n",
        "                  # 右片側検定なら'larger'\n",
        "\n",
        "d = DescrStatsW(np.array(X) - np.array(Y)) # 対標本の場合\n",
        "d.ttest_mean(alternative=alt)[1]           # p値\n",
        "\n",
        "d.tconfint_mean(alpha=a, alternative=alt) # 信頼区間"
      ],
      "id": "c8d83329-5ab7-46cd-a450-dbba34a66f2f"
    },
    {
      "cell_type": "code",
      "execution_count": null,
      "metadata": {
        "id": "0fb2f99c-9953-4401-91c5-06d387bea878"
      },
      "outputs": [],
      "source": [
        "c = CompareMeans(DescrStatsW(X), DescrStatsW(Y)) # 対標本でない場合\n",
        "\n",
        "ve = 'pooled' # 等分散を仮定する（デフォルト）．仮定しないなら'unequal'．\n",
        "c.ttest_ind(alternative=alt, usevar=ve)[1] # p値\n",
        "\n",
        "c.tconfint_diff(alpha=a, alternative=alt, usevar=ve) # 信頼区間"
      ],
      "id": "0fb2f99c-9953-4401-91c5-06d387bea878"
    },
    {
      "cell_type": "code",
      "execution_count": null,
      "metadata": {
        "id": "d9bb6fc6-4048-4a8f-9fdf-7ba16286fc6a"
      },
      "outputs": [],
      "source": [
        "import pandas as pd\n",
        "my_url = ('https://raw.githubusercontent.com/taroyabuki'\n",
        "          '/fromzero/master/data/smoker.csv')\n",
        "my_data = pd.read_csv(my_url)"
      ],
      "id": "d9bb6fc6-4048-4a8f-9fdf-7ba16286fc6a"
    },
    {
      "cell_type": "code",
      "execution_count": null,
      "metadata": {
        "id": "5a130ec1-3b40-4086-aeaf-05ebeeb49cba"
      },
      "outputs": [],
      "source": [
        "my_data.head()"
      ],
      "id": "5a130ec1-3b40-4086-aeaf-05ebeeb49cba"
    },
    {
      "cell_type": "code",
      "execution_count": null,
      "metadata": {
        "id": "fc4df58d-16d5-414e-ba05-99669468228f"
      },
      "outputs": [],
      "source": [
        "my_table = pd.crosstab(\n",
        "    my_data['alive'],\n",
        "    my_data['smoker'])\n",
        "my_table"
      ],
      "id": "fc4df58d-16d5-414e-ba05-99669468228f"
    },
    {
      "cell_type": "code",
      "execution_count": null,
      "metadata": {
        "id": "80541681-eb0a-44a9-98f2-7c15827e43c2"
      },
      "outputs": [],
      "source": [
        "from scipy.stats import chi2_contingency\n",
        "chi2_contingency(my_table, correction=False)[1]"
      ],
      "id": "80541681-eb0a-44a9-98f2-7c15827e43c2"
    },
    {
      "cell_type": "code",
      "execution_count": null,
      "metadata": {
        "id": "07c637d1-d37c-40b4-adb4-ce8c99ea403f"
      },
      "outputs": [],
      "source": [
        "X = [0] * 13 + [1] * 2 # 手順1\n",
        "X\n",
        "\n",
        "tmp = np.random.choice(X, 15, replace=True) # 手順2\n",
        "tmp\n",
        "\n",
        "sum(tmp) # 手順3\n",
        "\n",
        "n = 10**5\n",
        "result = [sum(np.random.choice(X, len(X), replace=True)) for _ in range(n)] # 手順4"
      ],
      "id": "07c637d1-d37c-40b4-adb4-ce8c99ea403f"
    },
    {
      "cell_type": "code",
      "execution_count": null,
      "metadata": {
        "id": "07c4b25d-be66-47be-8707-a8a067ee48de"
      },
      "outputs": [],
      "source": [
        "import matplotlib.pyplot as plt\n",
        "plt.hist(result, bins=range(0, 16))"
      ],
      "id": "07c4b25d-be66-47be-8707-a8a067ee48de"
    },
    {
      "cell_type": "code",
      "execution_count": null,
      "metadata": {
        "id": "d27e3b68-dbee-49ee-b9ca-7e30c7e7fb86"
      },
      "outputs": [],
      "source": [
        "np.quantile(result, [0.025, 0.975])"
      ],
      "id": "d27e3b68-dbee-49ee-b9ca-7e30c7e7fb86"
    },
    {
      "id": "0bde3276",
      "cell_type": "markdown",
      "source": [
        "# 5 前処理\n",
        "\n",
        "\n"
      ],
      "metadata": {
        "id": "0bde3276"
      }
    },
    {
      "id": "86d2dd3d",
      "cell_type": "markdown",
      "source": [
        "## 5.1 データの読み込み"
      ],
      "metadata": {
        "id": "86d2dd3d"
      }
    },
    {
      "cell_type": "code",
      "execution_count": null,
      "metadata": {
        "id": "9f6c1d22-ad24-46f9-b10a-5cbaa5e9a681"
      },
      "outputs": [],
      "source": [
        "!wget https://raw.githubusercontent.com/taroyabuki/fromzero/master/data/exam.csv"
      ],
      "id": "9f6c1d22-ad24-46f9-b10a-5cbaa5e9a681"
    },
    {
      "cell_type": "code",
      "execution_count": null,
      "metadata": {
        "id": "bef0b14e-7b7a-4b29-bb4f-deb437f4d541"
      },
      "outputs": [],
      "source": [
        "import pandas as pd\n",
        "my_df = pd.read_csv('exam.csv')\n",
        "my_df"
      ],
      "id": "bef0b14e-7b7a-4b29-bb4f-deb437f4d541"
    },
    {
      "cell_type": "code",
      "execution_count": null,
      "metadata": {
        "id": "05b67b3d-4740-4708-831c-e0fd2529eccb"
      },
      "outputs": [],
      "source": [
        "my_url = ('https://raw.githubusercontent.com/taroyabuki'\n",
        "          '/fromzero/master/data/exam.csv')\n",
        "my_df = pd.read_csv(my_url)"
      ],
      "id": "05b67b3d-4740-4708-831c-e0fd2529eccb"
    },
    {
      "cell_type": "code",
      "execution_count": null,
      "metadata": {
        "id": "f777d813-962c-451a-9dda-753dffb94e8c"
      },
      "outputs": [],
      "source": [
        "my_df2 = pd.read_csv('exam.csv',\n",
        "    index_col='name')\n",
        "my_df2"
      ],
      "id": "f777d813-962c-451a-9dda-753dffb94e8c"
    },
    {
      "cell_type": "code",
      "execution_count": null,
      "metadata": {
        "id": "57e6244e-94d1-43d7-ba7e-bb761a47b5b7"
      },
      "outputs": [],
      "source": [
        "my_df.to_csv('exam2.csv', index=False)"
      ],
      "id": "57e6244e-94d1-43d7-ba7e-bb761a47b5b7"
    },
    {
      "cell_type": "code",
      "execution_count": null,
      "metadata": {
        "id": "f90128f6-7954-455e-868c-e2c7f895d901"
      },
      "outputs": [],
      "source": [
        "my_df2.to_csv('exam3.csv')"
      ],
      "id": "f90128f6-7954-455e-868c-e2c7f895d901"
    },
    {
      "cell_type": "code",
      "execution_count": null,
      "metadata": {
        "id": "a5ee017f-e347-4d20-b18d-cb5e3b9a764d"
      },
      "outputs": [],
      "source": [
        "my_df = pd.read_csv('exam.csv',\n",
        "    encoding='UTF-8')"
      ],
      "id": "a5ee017f-e347-4d20-b18d-cb5e3b9a764d"
    },
    {
      "cell_type": "code",
      "execution_count": null,
      "metadata": {
        "id": "98e76196-fcd6-4923-8c38-3d0f510a3a46"
      },
      "outputs": [],
      "source": [
        "my_df.to_csv('exam2.csv', index=False, encoding='UTF-8')"
      ],
      "id": "98e76196-fcd6-4923-8c38-3d0f510a3a46"
    },
    {
      "cell_type": "code",
      "execution_count": null,
      "metadata": {
        "id": "d7ab6549-d959-43d1-b50a-10ad00560da1"
      },
      "outputs": [],
      "source": [
        "my_url = 'https://taroyabuki.github.io/fromzero/exam.html'\n",
        "my_tables = pd.read_html(my_url)"
      ],
      "id": "d7ab6549-d959-43d1-b50a-10ad00560da1"
    },
    {
      "cell_type": "code",
      "execution_count": null,
      "metadata": {
        "id": "24e116ad-3f6f-418a-8ec3-136930bb90ae"
      },
      "outputs": [],
      "source": [
        "my_tables"
      ],
      "id": "24e116ad-3f6f-418a-8ec3-136930bb90ae"
    },
    {
      "cell_type": "code",
      "execution_count": null,
      "metadata": {
        "id": "854fb648-6e04-4669-bbb6-6cb95f4a63c7"
      },
      "outputs": [],
      "source": [
        "my_tables[0]"
      ],
      "id": "854fb648-6e04-4669-bbb6-6cb95f4a63c7"
    },
    {
      "cell_type": "code",
      "execution_count": null,
      "metadata": {
        "id": "4454deb5-7d1c-4508-be3b-662e6e82ad98"
      },
      "outputs": [],
      "source": [
        "# 1列目以降を取り出す．\n",
        "my_data = my_tables[0].iloc[:, 1:]\n",
        "my_data"
      ],
      "id": "4454deb5-7d1c-4508-be3b-662e6e82ad98"
    },
    {
      "cell_type": "code",
      "execution_count": null,
      "metadata": {
        "id": "86df38b5-3eb3-4257-95cf-c2f43a4b4126"
      },
      "outputs": [],
      "source": [
        "my_url = ('https://raw.githubusercontent.com/taroyabuki'\n",
        "          '/fromzero/master/data/exam.json')\n",
        "my_data = pd.read_json(my_url)\n",
        "#my_data = pd.read_json('exam.json') # （ファイルを使う場合）\n",
        "my_data"
      ],
      "id": "86df38b5-3eb3-4257-95cf-c2f43a4b4126"
    },
    {
      "cell_type": "code",
      "execution_count": null,
      "metadata": {
        "id": "75e7fa56-2159-4a68-abf2-b7963b68e9ec"
      },
      "outputs": [],
      "source": [
        "import xml.etree.ElementTree as ET\n",
        "from urllib.request import urlopen\n",
        "\n",
        "my_url = ('https://raw.githubusercontent.com/taroyabuki'\n",
        "          '/fromzero/master/data/exam.xml')\n",
        "with urlopen(my_url) as f:\n",
        "    my_tree = ET.parse(f)       # XMLデータの読み込み\n",
        "\n",
        "#my_tree = ET.parse('exam.xml') # （ファイルを使う場合）\n",
        "my_ns = '{https://www.example.net/ns/1.0}' # 名前空間"
      ],
      "id": "75e7fa56-2159-4a68-abf2-b7963b68e9ec"
    },
    {
      "cell_type": "code",
      "execution_count": null,
      "metadata": {
        "id": "4c3c0f8e-cb8f-45eb-966b-9702d46d7544"
      },
      "outputs": [],
      "source": [
        "my_records = my_tree.findall(f'.//{my_ns}record')"
      ],
      "id": "4c3c0f8e-cb8f-45eb-966b-9702d46d7544"
    },
    {
      "cell_type": "code",
      "execution_count": null,
      "metadata": {
        "id": "7e7f2af7-c806-4367-ac98-94c01a4e963a"
      },
      "outputs": [],
      "source": [
        "def f(record):\n",
        "    my_dic1 = record.attrib # 属性を取り出す．\n",
        "    # 子要素の名前と内容のペアを辞書にする．\n",
        "    my_dic2 = {child.tag.replace(my_ns, ''): child.text for child in list(record)}\n",
        "    return {**my_dic1, **my_dic2} # 辞書を結合する．"
      ],
      "id": "7e7f2af7-c806-4367-ac98-94c01a4e963a"
    },
    {
      "cell_type": "code",
      "execution_count": null,
      "metadata": {
        "id": "1d4b15d7-9ee0-49f8-b38c-d7d9095de4d7"
      },
      "outputs": [],
      "source": [
        "my_data = pd.DataFrame([f(record) for record in my_records])\n",
        "my_data['english'] = pd.to_numeric(my_data['english'])\n",
        "my_data['math']    = pd.to_numeric(my_data['math'])\n",
        "my_data"
      ],
      "id": "1d4b15d7-9ee0-49f8-b38c-d7d9095de4d7"
    },
    {
      "id": "96d030f0",
      "cell_type": "markdown",
      "source": [
        "## 5.2 データの変換"
      ],
      "metadata": {
        "id": "96d030f0"
      }
    },
    {
      "cell_type": "code",
      "execution_count": null,
      "metadata": {
        "id": "b2895406-f45b-4ae8-a004-95c509bc1511"
      },
      "outputs": [],
      "source": [
        "import numpy as np\n",
        "from scipy.stats import zscore\n",
        "\n",
        "x1 = [1, 2, 3]\n",
        "\n",
        "z1 = ((x1 - np.mean(x1)) /\n",
        "      np.std(x1, ddof=1))\n",
        "# あるいは\n",
        "z1 = zscore(x1, ddof=1)\n",
        "\n",
        "z1"
      ],
      "id": "b2895406-f45b-4ae8-a004-95c509bc1511"
    },
    {
      "cell_type": "code",
      "execution_count": null,
      "metadata": {
        "id": "b25f32a6-9b01-4149-889e-fb60ee31b769"
      },
      "outputs": [],
      "source": [
        "z1.mean(), np.std(z1, ddof=1)"
      ],
      "id": "b25f32a6-9b01-4149-889e-fb60ee31b769"
    },
    {
      "cell_type": "code",
      "execution_count": null,
      "metadata": {
        "id": "456dafaa-868e-491c-aad1-384560556ded"
      },
      "outputs": [],
      "source": [
        "z1 * np.std(x1, ddof=1) + np.mean(x1)"
      ],
      "id": "456dafaa-868e-491c-aad1-384560556ded"
    },
    {
      "cell_type": "code",
      "execution_count": null,
      "metadata": {
        "id": "53d19726-88e9-4e94-83b6-ffafb58cbd38"
      },
      "outputs": [],
      "source": [
        "x2 = [1, 3, 5]\n",
        "z2 = ((x2 - np.mean(x1)) /\n",
        "      np.std(x1, ddof=1))\n",
        "z2.mean(), np.std(z2, ddof=1)"
      ],
      "id": "53d19726-88e9-4e94-83b6-ffafb58cbd38"
    },
    {
      "cell_type": "code",
      "execution_count": null,
      "metadata": {
        "id": "c7cdb2b8-e1a9-46de-b5a9-8d31dc41ea4d"
      },
      "outputs": [],
      "source": [
        "import pandas as pd\n",
        "from sklearn.preprocessing import (\n",
        "    OneHotEncoder)\n",
        "\n",
        "my_df = pd.DataFrame({\n",
        "    'id':    [ 1 ,  2 ,  3 ],\n",
        "    'class': ['A', 'B', 'C']})\n",
        "\n",
        "my_enc = OneHotEncoder()\n",
        "tmp = my_enc.fit_transform(\n",
        "    my_df[['class']]).toarray()\n",
        "my_names = my_enc.get_feature_names() \\\n",
        "if hasattr(my_enc, 'get_feature_names') \\\n",
        "else my_enc.get_feature_names_out()\n",
        "pd.DataFrame(tmp, columns=my_names)"
      ],
      "id": "c7cdb2b8-e1a9-46de-b5a9-8d31dc41ea4d"
    },
    {
      "cell_type": "code",
      "execution_count": null,
      "metadata": {
        "id": "97979e81-945d-4ee9-8fc2-6d170693b261"
      },
      "outputs": [],
      "source": [
        "my_df2 = pd.DataFrame({\n",
        "    'id':    [ 4 ,  5,   6 ],\n",
        "    'class': ['B', 'C', 'B']})\n",
        "tmp = my_enc.transform(\n",
        "    my_df2[['class']]).toarray()\n",
        "pd.DataFrame(tmp, columns=my_names)"
      ],
      "id": "97979e81-945d-4ee9-8fc2-6d170693b261"
    },
    {
      "cell_type": "code",
      "execution_count": null,
      "metadata": {
        "id": "55832db9-ac8d-4c21-85ae-cd907eb62d7d"
      },
      "outputs": [],
      "source": [
        "my_enc = OneHotEncoder(drop='first')\n",
        "\n",
        "tmp = my_enc.fit_transform(\n",
        "    my_df[['class']]).toarray()\n",
        "my_names = my_enc.get_feature_names() \\\n",
        "if hasattr(my_enc, 'get_feature_names') \\\n",
        "else my_enc.get_feature_names_out()\n",
        "pd.DataFrame(tmp, columns=my_names)\n",
        "\n",
        "tmp = my_enc.transform(\n",
        "    my_df2[['class']]).toarray()\n",
        "pd.DataFrame(tmp, columns=my_names)"
      ],
      "id": "55832db9-ac8d-4c21-85ae-cd907eb62d7d"
    },
    {
      "id": "cad16bf0",
      "cell_type": "markdown",
      "source": [
        "# 6 機械学習の目的・データ・手法\n",
        "\n",
        "\n"
      ],
      "metadata": {
        "id": "cad16bf0"
      }
    },
    {
      "id": "c46424fa",
      "cell_type": "markdown",
      "source": [
        "## 6.1 機械学習の目的（本書の場合）\n",
        "\n",
        "\n"
      ],
      "metadata": {
        "id": "c46424fa"
      }
    },
    {
      "id": "e576c8aa",
      "cell_type": "markdown",
      "source": [
        "## 6.2 機械学習のためのデータ"
      ],
      "metadata": {
        "id": "e576c8aa"
      }
    },
    {
      "cell_type": "code",
      "execution_count": null,
      "metadata": {
        "id": "52f022e0-84d4-4ac8-8f70-a981a90fb266"
      },
      "outputs": [],
      "source": [
        "import statsmodels.api as sm\n",
        "iris = sm.datasets.get_rdataset('iris', 'datasets').data\n",
        "iris.head()\n",
        "# 以下省略"
      ],
      "id": "52f022e0-84d4-4ac8-8f70-a981a90fb266"
    },
    {
      "cell_type": "code",
      "execution_count": null,
      "metadata": {
        "id": "b08e6081-942b-4876-be85-59a84cf407f2"
      },
      "outputs": [],
      "source": [
        "import seaborn as sns\n",
        "iris = sns.load_dataset('iris')\n",
        "iris.head()\n",
        "# 以下省略"
      ],
      "id": "b08e6081-942b-4876-be85-59a84cf407f2"
    },
    {
      "cell_type": "code",
      "execution_count": null,
      "metadata": {
        "id": "109e498c-8b2b-4c0f-9719-40456473e4dd"
      },
      "outputs": [],
      "source": [
        "import pandas as pd\n",
        "from sklearn.datasets import load_iris\n",
        "tmp = load_iris()\n",
        "iris = pd.DataFrame(tmp.data, columns=tmp.feature_names)\n",
        "iris['target'] = tmp.target_names[tmp.target]\n",
        "iris.head()\n",
        "# 以下省略"
      ],
      "id": "109e498c-8b2b-4c0f-9719-40456473e4dd"
    },
    {
      "id": "b7cdfb97",
      "cell_type": "markdown",
      "source": [
        "## 6.3 機械学習のための手法\n",
        "\n",
        "\n"
      ],
      "metadata": {
        "id": "b7cdfb97"
      }
    },
    {
      "id": "934afd1d",
      "cell_type": "markdown",
      "source": [
        "# 7 回帰1（単回帰）\n",
        "\n",
        "\n"
      ],
      "metadata": {
        "id": "934afd1d"
      }
    },
    {
      "id": "926058b9",
      "cell_type": "markdown",
      "source": [
        "## 7.1 自動車の停止距離\n",
        "\n",
        "\n"
      ],
      "metadata": {
        "id": "926058b9"
      }
    },
    {
      "id": "ee19d6c5",
      "cell_type": "markdown",
      "source": [
        "## 7.2 データの確認"
      ],
      "metadata": {
        "id": "ee19d6c5"
      }
    },
    {
      "cell_type": "code",
      "execution_count": null,
      "metadata": {
        "id": "74d9eb3b-d614-4d9f-a239-76232afaf746"
      },
      "outputs": [],
      "source": [
        "import statsmodels.api as sm\n",
        "my_data = sm.datasets.get_rdataset('cars', 'datasets').data"
      ],
      "id": "74d9eb3b-d614-4d9f-a239-76232afaf746"
    },
    {
      "cell_type": "code",
      "execution_count": null,
      "metadata": {
        "id": "74f1be35-15b1-481c-8d9a-f84dab192e2d"
      },
      "outputs": [],
      "source": [
        "my_data.shape"
      ],
      "id": "74f1be35-15b1-481c-8d9a-f84dab192e2d"
    },
    {
      "cell_type": "code",
      "execution_count": null,
      "metadata": {
        "id": "5d420e6b-e342-45ce-a64b-215281af2e6c"
      },
      "outputs": [],
      "source": [
        "my_data.head()"
      ],
      "id": "5d420e6b-e342-45ce-a64b-215281af2e6c"
    },
    {
      "cell_type": "code",
      "execution_count": null,
      "metadata": {
        "id": "5890bdb1-844f-4eb5-86a1-893efb086dda"
      },
      "outputs": [],
      "source": [
        "my_data.describe()"
      ],
      "id": "5890bdb1-844f-4eb5-86a1-893efb086dda"
    },
    {
      "cell_type": "code",
      "execution_count": null,
      "metadata": {
        "id": "58272058-25c0-4684-b103-e2a00749f124"
      },
      "outputs": [],
      "source": [
        "my_data.plot(x='speed', style='o')"
      ],
      "id": "58272058-25c0-4684-b103-e2a00749f124"
    },
    {
      "id": "5e5c1b43",
      "cell_type": "markdown",
      "source": [
        "## 7.3 回帰分析"
      ],
      "metadata": {
        "id": "5e5c1b43"
      }
    },
    {
      "cell_type": "code",
      "execution_count": null,
      "metadata": {
        "id": "9fa784a1-6b67-497e-9aa0-62db90e2000c"
      },
      "outputs": [],
      "source": [
        "import seaborn as sns\n",
        "import statsmodels.api as sm\n",
        "\n",
        "my_data = sm.datasets.get_rdataset('cars', 'datasets').data\n",
        "ax = sns.regplot(x='speed', y='dist', data=my_data)\n",
        "ax.vlines(x=21.5, ymin=-5, ymax=67,   linestyles='dotted')\n",
        "ax.hlines(y=67,   xmin=4,  xmax=21.5, linestyles='dotted')\n",
        "ax.set_xlim(4, 25)\n",
        "ax.set_ylim(-5, 125)"
      ],
      "id": "9fa784a1-6b67-497e-9aa0-62db90e2000c"
    },
    {
      "cell_type": "code",
      "execution_count": null,
      "metadata": {
        "id": "20d3be51-46d7-4765-86b9-f477b7f4e4af"
      },
      "outputs": [],
      "source": [
        "import statsmodels.api as sm\n",
        "my_data = sm.datasets.get_rdataset('cars', 'datasets').data\n",
        "X, y = my_data[['speed']], my_data['dist']"
      ],
      "id": "20d3be51-46d7-4765-86b9-f477b7f4e4af"
    },
    {
      "cell_type": "code",
      "execution_count": null,
      "metadata": {
        "id": "28cdac95-6a7b-47fe-a9a3-b8f7bb126b50"
      },
      "outputs": [],
      "source": [
        "# モデルの指定\n",
        "from sklearn.linear_model import LinearRegression\n",
        "my_model = LinearRegression()\n",
        "\n",
        "# 訓練（モデルをデータにフィットさせる．）\n",
        "my_model.fit(X, y)\n",
        "\n",
        "# まとめて実行してもよい．\n",
        "# my_model = LinearRegression().fit(X, y)"
      ],
      "id": "28cdac95-6a7b-47fe-a9a3-b8f7bb126b50"
    },
    {
      "cell_type": "code",
      "execution_count": null,
      "metadata": {
        "id": "3e8bd1f8-6f3d-4834-ac0e-3549e46656a9"
      },
      "outputs": [],
      "source": [
        "my_model.intercept_, my_model.coef_"
      ],
      "id": "3e8bd1f8-6f3d-4834-ac0e-3549e46656a9"
    },
    {
      "cell_type": "code",
      "execution_count": null,
      "metadata": {
        "id": "c3c4b5e0-45c6-4293-a88a-ace594bc0bb1"
      },
      "outputs": [],
      "source": [
        "tmp = [[21.5]]\n",
        "my_model.predict(tmp)"
      ],
      "id": "c3c4b5e0-45c6-4293-a88a-ace594bc0bb1"
    },
    {
      "cell_type": "code",
      "execution_count": null,
      "metadata": {
        "id": "8ea1d5b3-0502-4d98-a841-93243ce50f71"
      },
      "outputs": [],
      "source": [
        "import numpy as np\n",
        "import pandas as pd\n",
        "\n",
        "tmp = pd.DataFrame({'speed': np.linspace(min(my_data.speed),\n",
        "                                         max(my_data.speed),\n",
        "                                         100)})\n",
        "tmp['model'] = my_model.predict(tmp)"
      ],
      "id": "8ea1d5b3-0502-4d98-a841-93243ce50f71"
    },
    {
      "cell_type": "code",
      "execution_count": null,
      "metadata": {
        "id": "99273635-3d54-4e61-85ca-05cec2faa3fc"
      },
      "outputs": [],
      "source": [
        "pd.concat([my_data, tmp]).plot(\n",
        "    x='speed', style=['o', '-'])"
      ],
      "id": "99273635-3d54-4e61-85ca-05cec2faa3fc"
    },
    {
      "id": "d9ab5d61",
      "cell_type": "markdown",
      "source": [
        "## 7.4 当てはまりの良さの指標"
      ],
      "metadata": {
        "id": "d9ab5d61"
      }
    },
    {
      "cell_type": "code",
      "execution_count": null,
      "metadata": {
        "id": "d873fae7-d93d-43db-a4f2-9bff0f0845f0"
      },
      "outputs": [],
      "source": [
        "import pandas as pd\n",
        "import statsmodels.api as sm\n",
        "from sklearn.linear_model import LinearRegression\n",
        "from sklearn.metrics import mean_squared_error, r2_score\n",
        "\n",
        "my_data = sm.datasets.get_rdataset('cars', 'datasets').data\n",
        "X, y = my_data[['speed']], my_data['dist']\n",
        "\n",
        "my_model = LinearRegression()\n",
        "my_model.fit(X, y)\n",
        "y_ = my_model.predict(X)\n",
        "my_data['y_'] = y_"
      ],
      "id": "d873fae7-d93d-43db-a4f2-9bff0f0845f0"
    },
    {
      "cell_type": "code",
      "execution_count": null,
      "metadata": {
        "id": "1752399a-a73d-48d0-9f9c-4f540fd69433"
      },
      "outputs": [],
      "source": [
        "pd.options.display.float_format = (\n",
        "    '{:.2f}'.format)\n",
        "my_data['residual'] = y - y_\n",
        "my_data.head()"
      ],
      "id": "1752399a-a73d-48d0-9f9c-4f540fd69433"
    },
    {
      "cell_type": "code",
      "execution_count": null,
      "metadata": {
        "id": "c42ec185-448a-4155-9b9c-b9338eac3008"
      },
      "outputs": [],
      "source": [
        "ax = my_data.plot(x='speed', y='dist', style='o', legend=False)\n",
        "my_data.plot(x='speed', y='y_', style='-', legend=False, ax=ax)\n",
        "ax.vlines(x=X, ymin=y, ymax=y_, linestyles='dotted')"
      ],
      "id": "c42ec185-448a-4155-9b9c-b9338eac3008"
    },
    {
      "cell_type": "code",
      "execution_count": null,
      "metadata": {
        "id": "9bca4d5a-1eb1-4eb7-ad5d-fc002b320e59"
      },
      "outputs": [],
      "source": [
        "mean_squared_error(y, y_)**0.5\n",
        "# あるいは\n",
        "(my_data['residual']**2).mean()**0.5\n"
      ],
      "id": "9bca4d5a-1eb1-4eb7-ad5d-fc002b320e59"
    },
    {
      "cell_type": "code",
      "execution_count": null,
      "metadata": {
        "id": "8e35bcaa-4021-459d-aa06-485e0ec1b6d5"
      },
      "outputs": [],
      "source": [
        "my_model.score(X, y)\n",
        "# あるいは\n",
        "r2_score(y_true=y, y_pred=y_)"
      ],
      "id": "8e35bcaa-4021-459d-aa06-485e0ec1b6d5"
    },
    {
      "cell_type": "code",
      "execution_count": null,
      "metadata": {
        "id": "baf2d723-7a9c-48f3-b231-e765a87204d1"
      },
      "outputs": [],
      "source": [
        "import numpy as np\n",
        "np.corrcoef(y, y_)[0, 1]**2"
      ],
      "id": "baf2d723-7a9c-48f3-b231-e765a87204d1"
    },
    {
      "cell_type": "code",
      "execution_count": null,
      "metadata": {
        "id": "ce989aa3-9df7-4ca4-9329-48efa2355440"
      },
      "outputs": [],
      "source": [
        "my_test = my_data[:3]\n",
        "X = my_test[['speed']]\n",
        "y = my_test['dist']\n",
        "y_ = my_model.predict(X)\n",
        "\n",
        "my_model.score(X, y)\n",
        "# あるいは\n",
        "r2_score(y_true=y, y_pred=y_)\n",
        "\n",
        "np.corrcoef(y, y_)[0, 1]**2"
      ],
      "id": "ce989aa3-9df7-4ca4-9329-48efa2355440"
    },
    {
      "cell_type": "code",
      "execution_count": null,
      "metadata": {
        "id": "bc9c61b2-f2a9-47bc-80aa-9a03a6bad7c1"
      },
      "outputs": [],
      "source": [
        "import numpy as np\n",
        "import pandas as pd\n",
        "import statsmodels.api as sm\n",
        "from sklearn.linear_model import LinearRegression\n",
        "from sklearn.preprocessing import PolynomialFeatures\n",
        "\n",
        "my_data = sm.datasets.get_rdataset('cars', 'datasets').data\n",
        "\n",
        "my_idx = [1, 10, 26, 33, 38, 43]\n",
        "my_sample = my_data.iloc[my_idx, ]\n",
        "X, y = my_sample[['speed']], my_sample['dist']"
      ],
      "id": "bc9c61b2-f2a9-47bc-80aa-9a03a6bad7c1"
    },
    {
      "cell_type": "code",
      "execution_count": null,
      "metadata": {
        "id": "893f6471-5d72-4013-9bbb-00f178d950a4"
      },
      "outputs": [],
      "source": [
        "d = 5\n",
        "X5 = PolynomialFeatures(d, include_bias=False).fit_transform(X) # Xの1乗から5乗の変数\n",
        "\n",
        "my_model = LinearRegression()\n",
        "my_model.fit(X5, y)\n",
        "y_ = my_model.predict(X5)"
      ],
      "id": "893f6471-5d72-4013-9bbb-00f178d950a4"
    },
    {
      "cell_type": "code",
      "execution_count": null,
      "metadata": {
        "id": "94e8f5c0-bc21-4a86-bd41-0fad9a941c11"
      },
      "outputs": [],
      "source": [
        "((y - y_)**2).mean()**0.5\n",
        "\n",
        "my_model.score(X5, y)\n",
        "\n",
        "np.corrcoef(y, y_)[0, 1]**2"
      ],
      "id": "94e8f5c0-bc21-4a86-bd41-0fad9a941c11"
    },
    {
      "cell_type": "code",
      "execution_count": null,
      "metadata": {
        "id": "c5396745-4759-468f-b1d6-7c025580cba6"
      },
      "outputs": [],
      "source": [
        "tmp = pd.DataFrame({'speed': np.linspace(min(my_data.speed),\n",
        "                                         max(my_data.speed),\n",
        "                                         100)})\n",
        "X5 = PolynomialFeatures(d, include_bias=False).fit_transform(tmp)\n",
        "tmp['model'] = my_model.predict(X5)\n",
        "\n",
        "my_sample = my_sample.assign(sample=y)\n",
        "my_df = pd.concat([my_data, my_sample, tmp])\n",
        "my_df.plot(x='speed', style=['o', 'o', '-'], ylim=(0, 130))"
      ],
      "id": "c5396745-4759-468f-b1d6-7c025580cba6"
    },
    {
      "id": "e98f4b64",
      "cell_type": "markdown",
      "source": [
        "## 7.5 K最近傍法"
      ],
      "metadata": {
        "id": "e98f4b64"
      }
    },
    {
      "cell_type": "code",
      "execution_count": null,
      "metadata": {
        "id": "2dd4b1f7-2e15-49fa-aa5a-5c70c0a5cb33"
      },
      "outputs": [],
      "source": [
        "# 準備\n",
        "import numpy as np\n",
        "import pandas as pd\n",
        "import statsmodels.api as sm\n",
        "from sklearn.neighbors import KNeighborsRegressor\n",
        "\n",
        "my_data = sm.datasets.get_rdataset('cars', 'datasets').data\n",
        "X, y = my_data[['speed']], my_data['dist']\n",
        "\n",
        "# 訓練\n",
        "my_model = KNeighborsRegressor()\n",
        "my_model.fit(X, y)\n",
        "\n",
        "# 可視化の準備\n",
        "tmp = pd.DataFrame({'speed': np.linspace(min(my_data.speed),\n",
        "                                         max(my_data.speed),\n",
        "                                         100)})\n",
        "tmp['model'] = my_model.predict(tmp)"
      ],
      "id": "2dd4b1f7-2e15-49fa-aa5a-5c70c0a5cb33"
    },
    {
      "cell_type": "code",
      "execution_count": null,
      "metadata": {
        "id": "dd448dfd-27c1-47b4-b443-04079f3ca85f"
      },
      "outputs": [],
      "source": [
        "pd.concat([my_data, tmp]).plot(\n",
        "    x='speed', style=['o', '-'])"
      ],
      "id": "dd448dfd-27c1-47b4-b443-04079f3ca85f"
    },
    {
      "cell_type": "code",
      "execution_count": null,
      "metadata": {
        "id": "84701f71-5bd8-4cde-97af-6832478da110"
      },
      "outputs": [],
      "source": [
        "y_ = my_model.predict(X)\n",
        "\n",
        "((y - y_)**2).mean()**0.5\n",
        "\n",
        "my_model.score(X, y)\n",
        "\n",
        "np.corrcoef(y, y_)[0, 1]**2"
      ],
      "id": "84701f71-5bd8-4cde-97af-6832478da110"
    },
    {
      "id": "aa550dcc",
      "cell_type": "markdown",
      "source": [
        "## 7.6 検証"
      ],
      "metadata": {
        "id": "aa550dcc"
      }
    },
    {
      "cell_type": "code",
      "execution_count": null,
      "metadata": {
        "id": "5909b449-c1e4-4786-9d56-a3b5de666a6e"
      },
      "outputs": [],
      "source": [
        "import statsmodels.api as sm\n",
        "from sklearn.linear_model import LinearRegression\n",
        "from sklearn.model_selection import cross_val_score\n",
        "\n",
        "# データの準備\n",
        "my_data = sm.datasets.get_rdataset('cars', 'datasets').data\n",
        "X, y = my_data[['speed']], my_data['dist']\n",
        "\n",
        "# モデルの指定\n",
        "my_model = LinearRegression()\n",
        "\n",
        "# 検証（5分割交差検証）\n",
        "my_scores = cross_val_score(my_model, X, y)\n",
        "\n",
        "# 5個の決定係数1を得る．\n",
        "my_scores\n",
        "\n",
        "# 平均を決定係数1（検証）とする．\n",
        "my_scores.mean()"
      ],
      "id": "5909b449-c1e4-4786-9d56-a3b5de666a6e"
    },
    {
      "cell_type": "code",
      "execution_count": null,
      "metadata": {
        "id": "6906c3ee-4817-4f01-a821-182b26cba038"
      },
      "outputs": [],
      "source": [
        "my_scores = cross_val_score(my_model, X, y,\n",
        "                            scoring='neg_root_mean_squared_error')\n",
        "-my_scores.mean()"
      ],
      "id": "6906c3ee-4817-4f01-a821-182b26cba038"
    },
    {
      "cell_type": "code",
      "execution_count": null,
      "metadata": {
        "id": "1b71956f-5cf5-4ef8-bbdb-ca1990849d83"
      },
      "outputs": [],
      "source": [
        "import numpy as np\n",
        "import statsmodels.api as sm\n",
        "from sklearn.linear_model import LinearRegression\n",
        "from sklearn.metrics import mean_squared_error, r2_score\n",
        "from sklearn.model_selection import cross_val_score, LeaveOneOut\n",
        "\n",
        "my_data = sm.datasets.get_rdataset('cars', 'datasets').data\n",
        "X, y = my_data[['speed']], my_data['dist']\n",
        "my_model = LinearRegression().fit(X, y)\n",
        "y_ = my_model.predict(X)"
      ],
      "id": "1b71956f-5cf5-4ef8-bbdb-ca1990849d83"
    },
    {
      "cell_type": "code",
      "execution_count": null,
      "metadata": {
        "id": "b31f320e-e61b-4ec6-a14f-622db72f3693"
      },
      "outputs": [],
      "source": [
        "# RMSE（訓練）\n",
        "mean_squared_error(y, y_)**0.5\n",
        "\n",
        "# 決定係数1（訓練）\n",
        "my_model.score(X, y)\n",
        "# あるいは\n",
        "r2_score(y_true=y, y_pred=y_)\n",
        "\n",
        "# 決定係数6（訓練）\n",
        "np.corrcoef(y, y_)[0, 1]**2"
      ],
      "id": "b31f320e-e61b-4ec6-a14f-622db72f3693"
    },
    {
      "cell_type": "code",
      "execution_count": null,
      "metadata": {
        "id": "428c77e7-2bfd-4cff-ae1c-f1d3b26948e4"
      },
      "outputs": [],
      "source": [
        "my_scores = cross_val_score(my_model, X, y,\n",
        "                            scoring='neg_root_mean_squared_error')\n",
        "-my_scores.mean()\n",
        "\n",
        "my_scores = cross_val_score(my_model, X, y, scoring='r2') # scoring='r2'は省略可\n",
        "my_scores.mean()"
      ],
      "id": "428c77e7-2bfd-4cff-ae1c-f1d3b26948e4"
    },
    {
      "cell_type": "code",
      "execution_count": null,
      "metadata": {
        "id": "595ded3b-f168-4a0e-acc9-70cda19ee695"
      },
      "outputs": [],
      "source": [
        "# 方法1\n",
        "my_scores1 = cross_val_score(my_model, X, y, cv=LeaveOneOut(),\n",
        "                             scoring='neg_mean_squared_error')\n",
        "(-my_scores1.mean())**0.5\n",
        "\n",
        "# 方法2\n",
        "my_scores2 = cross_val_score(my_model, X, y, cv=LeaveOneOut(),\n",
        "                             scoring='neg_root_mean_squared_error')\n",
        "(my_scores2**2).mean()**0.5"
      ],
      "id": "595ded3b-f168-4a0e-acc9-70cda19ee695"
    },
    {
      "cell_type": "code",
      "execution_count": null,
      "metadata": {
        "id": "c6b90457-bb45-4c3c-b7a4-f4f21d21ff30"
      },
      "outputs": [],
      "source": [
        "-my_scores2.mean()"
      ],
      "id": "c6b90457-bb45-4c3c-b7a4-f4f21d21ff30"
    },
    {
      "cell_type": "code",
      "execution_count": null,
      "metadata": {
        "id": "b291f489-8456-4106-8751-ef1cd46629e2"
      },
      "outputs": [],
      "source": [
        "import pandas as pd\n",
        "import statsmodels.api as sm\n",
        "from sklearn.linear_model import LinearRegression\n",
        "from sklearn.metrics import mean_squared_error\n",
        "from sklearn.model_selection import cross_val_score, LeaveOneOut\n",
        "from sklearn.neighbors import KNeighborsRegressor\n",
        "\n",
        "my_data = sm.datasets.get_rdataset('cars', 'datasets').data\n",
        "X, y = my_data[['speed']], my_data['dist']\n",
        "\n",
        "my_lm_scores = cross_val_score(\n",
        "    LinearRegression(),\n",
        "    X, y, cv=LeaveOneOut(), scoring='neg_mean_squared_error')\n",
        "\n",
        "my_knn_socres = cross_val_score(\n",
        "    KNeighborsRegressor(n_neighbors=5),\n",
        "    X, y, cv=LeaveOneOut(), scoring='neg_mean_squared_error')"
      ],
      "id": "b291f489-8456-4106-8751-ef1cd46629e2"
    },
    {
      "cell_type": "code",
      "execution_count": null,
      "metadata": {
        "id": "81b819bb-c96a-4f45-b52f-45d0277be471"
      },
      "outputs": [],
      "source": [
        "(-my_lm_scores.mean())**0.5\n",
        "\n",
        "(-my_knn_socres.mean())**0.5"
      ],
      "id": "81b819bb-c96a-4f45-b52f-45d0277be471"
    },
    {
      "cell_type": "code",
      "execution_count": null,
      "metadata": {
        "id": "76ce22ae-a9a8-4421-b284-b591be04cbe2"
      },
      "outputs": [],
      "source": [
        "my_df = pd.DataFrame({\n",
        "    'lm': -my_lm_scores,\n",
        "    'knn': -my_knn_socres})\n",
        "my_df.head()"
      ],
      "id": "76ce22ae-a9a8-4421-b284-b591be04cbe2"
    },
    {
      "cell_type": "code",
      "execution_count": null,
      "metadata": {
        "id": "819f7be6-e38d-4566-b8e8-573dbe05ea74"
      },
      "outputs": [],
      "source": [
        "my_df.boxplot().set_ylabel(\"$r^2$\")"
      ],
      "id": "819f7be6-e38d-4566-b8e8-573dbe05ea74"
    },
    {
      "cell_type": "code",
      "execution_count": null,
      "metadata": {
        "id": "6c51ad6b-6aca-4419-a088-eaeea258aa8d"
      },
      "outputs": [],
      "source": [
        "from statsmodels.stats.weightstats import DescrStatsW\n",
        "d = DescrStatsW(my_df.lm - my_df.knn)\n",
        "d.ttest_mean()[1] # p値\n",
        "\n",
        "d.tconfint_mean(alpha=0.05, alternative='two-sided') # 信頼区間"
      ],
      "id": "6c51ad6b-6aca-4419-a088-eaeea258aa8d"
    },
    {
      "id": "38663b01",
      "cell_type": "markdown",
      "source": [
        "## 7.7 パラメータチューニング"
      ],
      "metadata": {
        "id": "38663b01"
      }
    },
    {
      "cell_type": "code",
      "execution_count": null,
      "metadata": {
        "id": "841a1330-6e90-49d7-bf81-4f946154fc9b"
      },
      "outputs": [],
      "source": [
        "import pandas as pd\n",
        "import statsmodels.api as sm\n",
        "from sklearn.metrics import mean_squared_error\n",
        "from sklearn.model_selection import GridSearchCV, LeaveOneOut\n",
        "from sklearn.neighbors import KNeighborsRegressor\n",
        "\n",
        "my_data = sm.datasets.get_rdataset('cars', 'datasets').data\n",
        "X, y = my_data[['speed']], my_data['dist']\n",
        "\n",
        "my_params = {'n_neighbors': range(1, 16)} # 探索範囲（1以上16未満の整数）\n",
        "\n",
        "my_search = GridSearchCV(estimator=KNeighborsRegressor(),\n",
        "                         param_grid=my_params,\n",
        "                         cv=LeaveOneOut(),\n",
        "                         scoring='neg_mean_squared_error')\n",
        "my_search.fit(X, y)"
      ],
      "id": "841a1330-6e90-49d7-bf81-4f946154fc9b"
    },
    {
      "cell_type": "code",
      "execution_count": null,
      "metadata": {
        "id": "9593e0d0-172f-40ab-9a93-0ec10178995b"
      },
      "outputs": [],
      "source": [
        "tmp = my_search.cv_results_                # チューニングの詳細\n",
        "my_scores = (-tmp['mean_test_score'])**0.5 # RMSE\n",
        "my_results = pd.DataFrame(tmp['params']).assign(validation=my_scores)"
      ],
      "id": "9593e0d0-172f-40ab-9a93-0ec10178995b"
    },
    {
      "cell_type": "code",
      "execution_count": null,
      "metadata": {
        "id": "02c3d4d4-8db0-4f3c-8c36-c13ba57a6f12"
      },
      "outputs": [],
      "source": [
        "my_results.head()"
      ],
      "id": "02c3d4d4-8db0-4f3c-8c36-c13ba57a6f12"
    },
    {
      "cell_type": "code",
      "execution_count": null,
      "metadata": {
        "id": "b5d1de53-f201-46ef-8bbc-9dcb0a3cfa20"
      },
      "outputs": [],
      "source": [
        "my_results.plot(x='n_neighbors',\n",
        "                style='o-',\n",
        "                ylabel='RMSE')"
      ],
      "id": "b5d1de53-f201-46ef-8bbc-9dcb0a3cfa20"
    },
    {
      "cell_type": "code",
      "execution_count": null,
      "metadata": {
        "id": "2275073d-892c-417d-8877-449726de958b"
      },
      "outputs": [],
      "source": [
        "my_search.best_params_"
      ],
      "id": "2275073d-892c-417d-8877-449726de958b"
    },
    {
      "cell_type": "code",
      "execution_count": null,
      "metadata": {
        "id": "d00907ab-b985-4975-8192-23bea91f0da6"
      },
      "outputs": [],
      "source": [
        "(-my_search.best_score_)**0.5"
      ],
      "id": "d00907ab-b985-4975-8192-23bea91f0da6"
    },
    {
      "cell_type": "code",
      "execution_count": null,
      "metadata": {
        "id": "4bdbc094-195c-476c-a6a3-0fd3115ae1cd"
      },
      "outputs": [],
      "source": [
        "my_model = my_search.best_estimator_\n",
        "y_ = my_model.predict(X)\n",
        "mean_squared_error(y_, y)**0.5"
      ],
      "id": "4bdbc094-195c-476c-a6a3-0fd3115ae1cd"
    },
    {
      "cell_type": "code",
      "execution_count": null,
      "metadata": {
        "id": "793630e3-5ff9-4f47-b6de-ec6bc08bae62"
      },
      "outputs": [],
      "source": [
        "import pandas as pd\n",
        "import statsmodels.api as sm\n",
        "from sklearn.metrics import mean_squared_error\n",
        "from sklearn.model_selection import cross_val_score, LeaveOneOut\n",
        "from sklearn.neighbors import KNeighborsRegressor\n",
        "\n",
        "my_data = sm.datasets.get_rdataset('cars', 'datasets').data\n",
        "X, y = my_data[['speed']], my_data['dist']\n",
        "\n",
        "def my_loocv(k):\n",
        "    my_model = KNeighborsRegressor(n_neighbors=k)\n",
        "    my_scores = cross_val_score(estimator=my_model, X=X, y=y,\n",
        "                                cv=LeaveOneOut(),\n",
        "                                scoring='neg_mean_squared_error')\n",
        "    y_ = my_model.fit(X, y).predict(X)\n",
        "    return pd.Series([k,\n",
        "                      (-my_scores.mean())**0.5,        # RMSE（検証）\n",
        "                      mean_squared_error(y_, y)**0.5], # RMSE（訓練）\n",
        "                     index=['n_neighbors', 'validation', 'training'])\n",
        "\n",
        "my_results = pd.Series(range(1, 16)).apply(my_loocv)"
      ],
      "id": "793630e3-5ff9-4f47-b6de-ec6bc08bae62"
    },
    {
      "cell_type": "code",
      "execution_count": null,
      "metadata": {
        "id": "125c46fa-bb1a-4452-9bef-3b643cc69edb"
      },
      "outputs": [],
      "source": [
        "my_results.plot(x='n_neighbors',\n",
        "                style='o-',\n",
        "                ylabel='RMSE')"
      ],
      "id": "125c46fa-bb1a-4452-9bef-3b643cc69edb"
    },
    {
      "id": "0c94d9fd",
      "cell_type": "markdown",
      "source": [
        "# 8 回帰2（重回帰）\n",
        "\n",
        "\n"
      ],
      "metadata": {
        "id": "0c94d9fd"
      }
    },
    {
      "id": "997d85b9",
      "cell_type": "markdown",
      "source": [
        "## 8.1 ブドウの生育条件とワインの価格"
      ],
      "metadata": {
        "id": "997d85b9"
      }
    },
    {
      "cell_type": "code",
      "execution_count": null,
      "metadata": {
        "id": "b07b7e6a-23b7-41f0-b812-aec3e8494669"
      },
      "outputs": [],
      "source": [
        "import pandas as pd\n",
        "my_url = 'http://www.liquidasset.com/winedata.html'\n",
        "tmp = pd.read_table(my_url, skiprows=62, nrows=38, sep='\\\\s+', na_values='.')\n",
        "tmp.describe()\n",
        "# 以下省略"
      ],
      "id": "b07b7e6a-23b7-41f0-b812-aec3e8494669"
    },
    {
      "cell_type": "code",
      "execution_count": null,
      "metadata": {
        "id": "3a9a3a44-4e47-4c30-ad8f-b90e859e2e9a"
      },
      "outputs": [],
      "source": [
        "my_data = tmp.iloc[:, 2:].dropna()\n",
        "my_data.head()"
      ],
      "id": "3a9a3a44-4e47-4c30-ad8f-b90e859e2e9a"
    },
    {
      "cell_type": "code",
      "execution_count": null,
      "metadata": {
        "id": "348fbd72-f686-493d-820f-1f8d0fc78c65"
      },
      "outputs": [],
      "source": [
        "my_data.shape"
      ],
      "id": "348fbd72-f686-493d-820f-1f8d0fc78c65"
    },
    {
      "cell_type": "code",
      "execution_count": null,
      "metadata": {
        "id": "cf649a06-a28d-46a9-a80a-efab21562b21"
      },
      "outputs": [],
      "source": [
        "my_data.to_csv('wine.csv',\n",
        "               index=False)"
      ],
      "id": "cf649a06-a28d-46a9-a80a-efab21562b21"
    },
    {
      "cell_type": "code",
      "execution_count": null,
      "metadata": {
        "id": "e1329914-b25b-42be-921c-db981d2058db"
      },
      "outputs": [],
      "source": [
        "#my_data = pd.read_csv('wine.csv') # 作ったファイルを使う場合\n",
        "my_url = ('https://raw.githubusercontent.com/taroyabuki'\n",
        "          '/fromzero/master/data/wine.csv')\n",
        "my_data = pd.read_csv(my_url)"
      ],
      "id": "e1329914-b25b-42be-921c-db981d2058db"
    },
    {
      "id": "887fb8e7",
      "cell_type": "markdown",
      "source": [
        "## 8.2 重回帰分析"
      ],
      "metadata": {
        "id": "887fb8e7"
      }
    },
    {
      "cell_type": "code",
      "execution_count": null,
      "metadata": {
        "id": "a5530396-2413-4d64-9543-f9c1f4f83d9b"
      },
      "outputs": [],
      "source": [
        "import numpy as np\n",
        "import pandas as pd\n",
        "from sklearn.linear_model import LinearRegression\n",
        "from sklearn.metrics import mean_squared_error\n",
        "from sklearn.model_selection import cross_val_score, LeaveOneOut\n",
        "\n",
        "my_url = ('https://raw.githubusercontent.com/taroyabuki'\n",
        "          '/fromzero/master/data/wine.csv')\n",
        "my_data = pd.read_csv(my_url)\n",
        "X, y = my_data.drop(columns=['LPRICE2']), my_data['LPRICE2']\n",
        "\n",
        "my_model = LinearRegression().fit(X, y)"
      ],
      "id": "a5530396-2413-4d64-9543-f9c1f4f83d9b"
    },
    {
      "cell_type": "code",
      "execution_count": null,
      "metadata": {
        "id": "e11391b4-a363-4701-a589-255edcf26b63"
      },
      "outputs": [],
      "source": [
        "my_model.intercept_\n",
        "\n",
        "pd.Series(my_model.coef_,\n",
        "          index=X.columns)"
      ],
      "id": "e11391b4-a363-4701-a589-255edcf26b63"
    },
    {
      "cell_type": "code",
      "execution_count": null,
      "metadata": {
        "id": "cd69419a-12ed-41b1-8476-3fac9a3ba9b1"
      },
      "outputs": [],
      "source": [
        "my_test = [[500, 17, 120, 2]]\n",
        "my_model.predict(my_test)"
      ],
      "id": "cd69419a-12ed-41b1-8476-3fac9a3ba9b1"
    },
    {
      "cell_type": "code",
      "execution_count": null,
      "metadata": {
        "id": "55259d30-4fd1-4a14-9c99-00fe98d4ca11"
      },
      "outputs": [],
      "source": [
        "y_ = my_model.predict(X)\n",
        "\n",
        "mean_squared_error(y_, y)**0.5\n",
        "\n",
        "my_model.score(X, y)\n",
        "\n",
        "np.corrcoef(y, y_)[0, 1]**2"
      ],
      "id": "55259d30-4fd1-4a14-9c99-00fe98d4ca11"
    },
    {
      "cell_type": "code",
      "execution_count": null,
      "metadata": {
        "id": "525bb259-c09f-4d1a-a55d-72a3c54f056e"
      },
      "outputs": [],
      "source": [
        "my_scores = cross_val_score(my_model, X, y,\n",
        "                            cv=LeaveOneOut(),\n",
        "                            scoring='neg_mean_squared_error')\n",
        "(-my_scores.mean())**0.5"
      ],
      "id": "525bb259-c09f-4d1a-a55d-72a3c54f056e"
    },
    {
      "cell_type": "code",
      "execution_count": null,
      "metadata": {
        "id": "c03e83b4-ead3-49c4-a716-4ba733a6b259"
      },
      "outputs": [],
      "source": [
        "import numpy as np\n",
        "M = np.matrix(X.assign(b0=1))\n",
        "b = np.linalg.pinv(M) @ y\n",
        "pd.Series(b,\n",
        "    index=list(X.columns) + ['b0'])"
      ],
      "id": "c03e83b4-ead3-49c4-a716-4ba733a6b259"
    },
    {
      "id": "e6277cf5",
      "cell_type": "markdown",
      "source": [
        "## 8.3 標準化"
      ],
      "metadata": {
        "id": "e6277cf5"
      }
    },
    {
      "cell_type": "code",
      "execution_count": null,
      "metadata": {
        "id": "e141c57e-cf5a-4c1a-b894-43c6efb4b093"
      },
      "outputs": [],
      "source": [
        "import pandas as pd\n",
        "from sklearn.linear_model import LinearRegression\n",
        "from sklearn.pipeline import Pipeline\n",
        "from sklearn.preprocessing import StandardScaler\n",
        "my_url = ('https://raw.githubusercontent.com/taroyabuki'\n",
        "          '/fromzero/master/data/wine.csv')\n",
        "my_data = pd.read_csv(my_url)\n",
        "X, y = my_data.drop(columns=['LPRICE2']), my_data['LPRICE2']\n",
        "\n",
        "# StandardScalerで標準化した結果をデータフレームに戻してから描画する．\n",
        "pd.DataFrame(StandardScaler().fit_transform(X), columns=X.columns\n",
        "            ).boxplot(showmeans=True)"
      ],
      "id": "e141c57e-cf5a-4c1a-b894-43c6efb4b093"
    },
    {
      "cell_type": "code",
      "execution_count": null,
      "metadata": {
        "id": "7512667b-96af-474b-956c-be3dcfb8c483"
      },
      "outputs": [],
      "source": [
        "my_pipeline = Pipeline([\n",
        "    ('sc', StandardScaler()),\n",
        "    ('lr', LinearRegression())])\n",
        "my_pipeline.fit(X, y)"
      ],
      "id": "7512667b-96af-474b-956c-be3dcfb8c483"
    },
    {
      "cell_type": "code",
      "execution_count": null,
      "metadata": {
        "id": "558a52ef-e45c-4490-8877-4174813f848d"
      },
      "outputs": [],
      "source": [
        "# 線形回帰の部分だけを取り出す．\n",
        "my_lr = my_pipeline.named_steps.lr\n",
        "my_lr.intercept_\n",
        "\n",
        "pd.Series(my_lr.coef_,\n",
        "          index=X.columns)"
      ],
      "id": "558a52ef-e45c-4490-8877-4174813f848d"
    },
    {
      "cell_type": "code",
      "execution_count": null,
      "metadata": {
        "id": "ce19747f-8dd7-43b7-aeec-cc11078ea8db"
      },
      "outputs": [],
      "source": [
        "my_test = [[500, 17, 120, 2]]\n",
        "my_pipeline.predict(my_test)"
      ],
      "id": "ce19747f-8dd7-43b7-aeec-cc11078ea8db"
    },
    {
      "id": "19df4a50",
      "cell_type": "markdown",
      "source": [
        "## 8.4 入力変数の数とモデルの良さ"
      ],
      "metadata": {
        "id": "19df4a50"
      }
    },
    {
      "cell_type": "code",
      "execution_count": null,
      "metadata": {
        "id": "ebfb5c15-3171-45fd-bcee-3e5812cf8381"
      },
      "outputs": [],
      "source": [
        "import pandas as pd\n",
        "from sklearn.linear_model import LinearRegression\n",
        "from sklearn.metrics import mean_squared_error\n",
        "from sklearn.model_selection import cross_val_score, LeaveOneOut\n",
        "\n",
        "my_url = ('https://raw.githubusercontent.com/taroyabuki'\n",
        "          '/fromzero/master/data/wine.csv')\n",
        "my_data = pd.read_csv(my_url)\n",
        "\n",
        "n = len(my_data)\n",
        "my_data2 = my_data.assign(v1=[i % 2 for i in range(n)],\n",
        "                          v2=[i % 3 for i in range(n)])\n",
        "my_data2.head()"
      ],
      "id": "ebfb5c15-3171-45fd-bcee-3e5812cf8381"
    },
    {
      "cell_type": "code",
      "execution_count": null,
      "metadata": {
        "id": "0bfe12b0-e7a5-468b-baf9-2cebb90a8991"
      },
      "outputs": [],
      "source": [
        "X, y = my_data2.drop(columns=['LPRICE2']), my_data2['LPRICE2']\n",
        "my_model2 = LinearRegression().fit(X, y)\n",
        "\n",
        "y_ = my_model2.predict(X)\n",
        "mean_squared_error(y_, y)**0.5\n",
        "\n",
        "my_scores = cross_val_score(my_model2, X, y,\n",
        "                            cv=LeaveOneOut(),\n",
        "                            scoring='neg_mean_squared_error')\n",
        "(-my_scores.mean())**0.5"
      ],
      "id": "0bfe12b0-e7a5-468b-baf9-2cebb90a8991"
    },
    {
      "id": "270dc24d",
      "cell_type": "markdown",
      "source": [
        "## 8.5 変数選択"
      ],
      "metadata": {
        "id": "270dc24d"
      }
    },
    {
      "cell_type": "code",
      "execution_count": null,
      "metadata": {
        "id": "e6a3ca8a-f42b-4d7a-a0dd-3b089deea2c8"
      },
      "outputs": [],
      "source": [
        "import pandas as pd\n",
        "from sklearn.feature_selection import SequentialFeatureSelector\n",
        "from sklearn.linear_model import LinearRegression\n",
        "from sklearn.model_selection import GridSearchCV, LeaveOneOut\n",
        "from sklearn.pipeline import Pipeline\n",
        "\n",
        "my_url = ('https://raw.githubusercontent.com/taroyabuki'\n",
        "          '/fromzero/master/data/wine.csv')\n",
        "my_data = pd.read_csv(my_url)\n",
        "\n",
        "n = len(my_data)\n",
        "my_data2 = my_data.assign(v1=[i % 2 for i in range(n)],\n",
        "                          v2=[i % 3 for i in range(n)])\n",
        "X, y = my_data2.drop(columns=['LPRICE2']), my_data2['LPRICE2']"
      ],
      "id": "e6a3ca8a-f42b-4d7a-a0dd-3b089deea2c8"
    },
    {
      "cell_type": "code",
      "execution_count": null,
      "metadata": {
        "id": "a4493426-e42a-40c2-92de-6b93e459994b"
      },
      "outputs": [],
      "source": [
        "my_sfs = SequentialFeatureSelector(\n",
        "    estimator=LinearRegression(),\n",
        "    direction='forward', # 変数増加法\n",
        "    cv=LeaveOneOut(),\n",
        "    scoring='neg_mean_squared_error')\n",
        "\n",
        "my_pipeline = Pipeline([         # 変数選択の後で再訓練を行うようにする．\n",
        "    ('sfs', my_sfs),             # 変数選択\n",
        "    ('lr', LinearRegression())]) # 回帰分析\n",
        "\n",
        "my_params = {'sfs__n_features_to_select': range(1, 6)} # 選択する変数の上限\n",
        "my_search = GridSearchCV(estimator=my_pipeline,\n",
        "                         param_grid=my_params,\n",
        "                         cv=LeaveOneOut(),\n",
        "                         scoring='neg_mean_squared_error',\n",
        "                         n_jobs=-1).fit(X, y)\n",
        "my_model = my_search.best_estimator_ # 最良のパラメータで再訓練したモデル\n",
        "my_search.best_estimator_.named_steps.sfs.get_support()"
      ],
      "id": "a4493426-e42a-40c2-92de-6b93e459994b"
    },
    {
      "id": "16cf95fc",
      "cell_type": "markdown",
      "source": [
        "## 8.6 補足：正則化"
      ],
      "metadata": {
        "id": "16cf95fc"
      }
    },
    {
      "cell_type": "code",
      "execution_count": null,
      "metadata": {
        "id": "ff7f014d-b1de-4a7f-8dc5-15a124d0752f"
      },
      "outputs": [],
      "source": [
        "import numpy as np\n",
        "import pandas as pd\n",
        "import warnings\n",
        "from sklearn.exceptions import ConvergenceWarning\n",
        "from sklearn.linear_model import ElasticNet, enet_path\n",
        "from sklearn.model_selection import GridSearchCV, LeaveOneOut\n",
        "from sklearn.pipeline import Pipeline\n",
        "from sklearn.preprocessing import StandardScaler\n",
        "from scipy.stats import zscore\n",
        "warnings.simplefilter('ignore', ConvergenceWarning) # これ以降，警告を表示しない．\n",
        "\n",
        "my_url = ('https://raw.githubusercontent.com/taroyabuki'\n",
        "          '/fromzero/master/data/wine.csv')\n",
        "my_data = pd.read_csv(my_url)\n",
        "X, y = my_data.drop(columns=['LPRICE2']), my_data['LPRICE2']"
      ],
      "id": "ff7f014d-b1de-4a7f-8dc5-15a124d0752f"
    },
    {
      "cell_type": "code",
      "execution_count": null,
      "metadata": {
        "id": "ba977e55-4b56-48c8-8aff-35554978c89d"
      },
      "outputs": [],
      "source": [
        "A = 2\n",
        "B = 0.1\n",
        "\n",
        "my_pipeline = Pipeline([\n",
        "    ('sc', StandardScaler()),\n",
        "    ('enet', ElasticNet(\n",
        "        alpha=A,\n",
        "        l1_ratio=B))])\n",
        "my_pipeline.fit(X, y)"
      ],
      "id": "ba977e55-4b56-48c8-8aff-35554978c89d"
    },
    {
      "cell_type": "code",
      "execution_count": null,
      "metadata": {
        "id": "1d01f60e-2ed9-40f2-be7e-1900c05fc81e"
      },
      "outputs": [],
      "source": [
        "my_enet = my_pipeline.named_steps.enet\n",
        "my_enet.intercept_\n",
        "\n",
        "pd.Series(my_enet.coef_,\n",
        "          index=X.columns)"
      ],
      "id": "1d01f60e-2ed9-40f2-be7e-1900c05fc81e"
    },
    {
      "cell_type": "code",
      "execution_count": null,
      "metadata": {
        "id": "998df4a8-5abb-4bf0-967a-a2427e0e1e3e"
      },
      "outputs": [],
      "source": [
        "my_test = pd.DataFrame(\n",
        "    [[500, 17, 120, 2]])\n",
        "my_pipeline.predict(my_test)"
      ],
      "id": "998df4a8-5abb-4bf0-967a-a2427e0e1e3e"
    },
    {
      "cell_type": "code",
      "execution_count": null,
      "metadata": {
        "id": "0729ff60-f5ca-4040-9c40-55b16dc8251c"
      },
      "outputs": [],
      "source": [
        "As = np.e**np.arange(2, -5.5, -0.1)\n",
        "B = 0.1\n",
        "\n",
        "_, my_path, _ = enet_path(\n",
        "    zscore(X), zscore(y),\n",
        "    alphas=As,\n",
        "    l1_ratio=B)\n",
        "\n",
        "pd.DataFrame(\n",
        "    my_path.T,\n",
        "    columns=X.columns,\n",
        "    index=np.log(As)\n",
        ").plot(\n",
        "    xlabel='log A ( = log alpha)',\n",
        "    ylabel='Coefficients')"
      ],
      "id": "0729ff60-f5ca-4040-9c40-55b16dc8251c"
    },
    {
      "cell_type": "code",
      "execution_count": null,
      "metadata": {
        "id": "63261f89-8eb2-4dc7-a276-de3657b4dac2"
      },
      "outputs": [],
      "source": [
        "As = np.linspace(0, 0.1, 21)\n",
        "Bs = np.linspace(0, 0.1,  6)\n",
        "\n",
        "my_pipeline = Pipeline([('sc', StandardScaler()),\n",
        "                        ('enet', ElasticNet())])\n",
        "my_search = GridSearchCV(\n",
        "    estimator=my_pipeline,\n",
        "    param_grid={'enet__alpha': As, 'enet__l1_ratio': Bs},\n",
        "    cv=LeaveOneOut(),\n",
        "    scoring='neg_mean_squared_error',\n",
        "    n_jobs=-1).fit(X, y)\n",
        "my_model = my_search.best_estimator_ # 最良モデル\n",
        "\n",
        "my_search.best_params_               # 最良パラメータ"
      ],
      "id": "63261f89-8eb2-4dc7-a276-de3657b4dac2"
    },
    {
      "cell_type": "code",
      "execution_count": null,
      "metadata": {
        "id": "a8f2fdeb-3d25-455c-bd02-ffdc36be0680"
      },
      "outputs": [],
      "source": [
        "tmp = my_search.cv_results_                # チューニングの詳細\n",
        "my_scores = (-tmp['mean_test_score'])**0.5 # RMSE\n",
        "\n",
        "my_results = pd.DataFrame(tmp['params']).assign(RMSE=my_scores).pivot(\n",
        "    index='enet__alpha',\n",
        "    columns='enet__l1_ratio',\n",
        "    values='RMSE')\n",
        "\n",
        "my_results.plot(style='o-', xlabel='A ( = alpha)', ylabel='RMSE').legend(\n",
        "    title='B ( = l1_ratio)')"
      ],
      "id": "a8f2fdeb-3d25-455c-bd02-ffdc36be0680"
    },
    {
      "cell_type": "code",
      "execution_count": null,
      "metadata": {
        "id": "4578fe09-fd26-4b77-92ef-2e04736d5cb9"
      },
      "outputs": [],
      "source": [
        "(-my_search.best_score_)**0.5"
      ],
      "id": "4578fe09-fd26-4b77-92ef-2e04736d5cb9"
    },
    {
      "id": "dbc37572",
      "cell_type": "markdown",
      "source": [
        "## 8.7 ニューラルネットワーク"
      ],
      "metadata": {
        "id": "dbc37572"
      }
    },
    {
      "cell_type": "code",
      "execution_count": null,
      "metadata": {
        "id": "2e902577-a224-4deb-a341-e650051d332d"
      },
      "outputs": [],
      "source": [
        "import matplotlib.pyplot as plt\n",
        "import numpy as np\n",
        "x = np.linspace(-6, 6, 100)\n",
        "y = 1 / (1 + np.exp(-x))\n",
        "plt.plot(x, y)"
      ],
      "id": "2e902577-a224-4deb-a341-e650051d332d"
    },
    {
      "cell_type": "code",
      "execution_count": null,
      "metadata": {
        "id": "65c6ebd6-04b7-497c-bd61-d8aa59a98d7d"
      },
      "outputs": [],
      "source": [
        "import pandas as pd\n",
        "import warnings\n",
        "from sklearn.exceptions import ConvergenceWarning\n",
        "from sklearn.neural_network import MLPRegressor\n",
        "from sklearn.model_selection import cross_val_score, GridSearchCV, LeaveOneOut\n",
        "from sklearn.pipeline import Pipeline\n",
        "from sklearn.preprocessing import StandardScaler\n",
        "\n",
        "my_url = ('https://raw.githubusercontent.com/taroyabuki'\n",
        "          '/fromzero/master/data/wine.csv')\n",
        "my_data = pd.read_csv(my_url)\n",
        "X, y = my_data.drop(columns=['LPRICE2']), my_data['LPRICE2']"
      ],
      "id": "65c6ebd6-04b7-497c-bd61-d8aa59a98d7d"
    },
    {
      "cell_type": "code",
      "execution_count": null,
      "metadata": {
        "id": "d216225f-ef1f-47de-991e-7f4c304222b9"
      },
      "outputs": [],
      "source": [
        "warnings.simplefilter(\"ignore\", ConvergenceWarning)  # これ以降，警告を表示しない．\n",
        "my_pipeline = Pipeline([('sc', StandardScaler()),    # 標準化\n",
        "                        ('mlp', MLPRegressor())])    # ニューラルネットワーク\n",
        "my_pipeline.fit(X, y)                                # 訓練\n",
        "\n",
        "my_scores = cross_val_score(my_pipeline, X, y, cv=LeaveOneOut(),\n",
        "                            scoring='neg_mean_squared_error')\n",
        "warnings.simplefilter(\"default\", ConvergenceWarning) # これ以降，警告を表示する．"
      ],
      "id": "d216225f-ef1f-47de-991e-7f4c304222b9"
    },
    {
      "cell_type": "code",
      "execution_count": null,
      "metadata": {
        "id": "c9404f46-5174-4578-ae84-eeeb1a9b0eaa"
      },
      "outputs": [],
      "source": [
        "(-my_scores.mean())**0.5"
      ],
      "id": "c9404f46-5174-4578-ae84-eeeb1a9b0eaa"
    },
    {
      "cell_type": "code",
      "execution_count": null,
      "metadata": {
        "id": "32e5e7f9-b6aa-4575-bad9-42ce41d0879a"
      },
      "outputs": [],
      "source": [
        "my_pipeline = Pipeline([\n",
        "    ('sc', StandardScaler()),\n",
        "    ('mlp', MLPRegressor(tol=1e-5,         # 改善したと見なす基準\n",
        "                         max_iter=5000))]) # 改善しなくなるまでの反復数\n",
        "my_layers = (1, 3, 5,                                         # 隠れ層1層の場合\n",
        "             (1, 1), (3, 1), (5, 1), (1, 2), (3, 2), (5, 2))  # 隠れ層2層の場合\n",
        "my_params = {'mlp__hidden_layer_sizes': my_layers}\n",
        "my_search = GridSearchCV(estimator=my_pipeline,\n",
        "                         param_grid=my_params,\n",
        "                         cv=LeaveOneOut(),\n",
        "                         scoring='neg_mean_squared_error',\n",
        "                         n_jobs=-1).fit(X, y)\n",
        "my_model = my_search.best_estimator_ # 最良モデル\n",
        "\n",
        "my_search.best_params_               # 最良パラメータ"
      ],
      "id": "32e5e7f9-b6aa-4575-bad9-42ce41d0879a"
    },
    {
      "cell_type": "code",
      "execution_count": null,
      "metadata": {
        "id": "6c336505-e9e5-4986-a46e-149f56f8459b"
      },
      "outputs": [],
      "source": [
        "(-my_search.best_score_)**0.5"
      ],
      "id": "6c336505-e9e5-4986-a46e-149f56f8459b"
    },
    {
      "id": "5a97161f",
      "cell_type": "markdown",
      "source": [
        "# 9 分類1（多値分類）\n",
        "\n",
        "\n"
      ],
      "metadata": {
        "id": "5a97161f"
      }
    },
    {
      "id": "fe409a6c",
      "cell_type": "markdown",
      "source": [
        "## 9.1 アヤメのデータ"
      ],
      "metadata": {
        "id": "fe409a6c"
      }
    },
    {
      "cell_type": "code",
      "execution_count": null,
      "metadata": {
        "id": "30d96979-68a4-42e1-b392-baba61ca2b9c"
      },
      "outputs": [],
      "source": [
        "import statsmodels.api as sm\n",
        "my_data = sm.datasets.get_rdataset('iris', 'datasets').data\n",
        "my_data.head()"
      ],
      "id": "30d96979-68a4-42e1-b392-baba61ca2b9c"
    },
    {
      "cell_type": "code",
      "execution_count": null,
      "metadata": {
        "id": "9e2c4837-c968-4738-becd-8831411d56b2"
      },
      "outputs": [],
      "source": [
        "my_data.describe()\n",
        "# 以下省略"
      ],
      "id": "9e2c4837-c968-4738-becd-8831411d56b2"
    },
    {
      "id": "be460c89",
      "cell_type": "markdown",
      "source": [
        "## 9.2 木による分類"
      ],
      "metadata": {
        "id": "be460c89"
      }
    },
    {
      "cell_type": "code",
      "execution_count": null,
      "metadata": {
        "id": "f5e62a01-698f-4b3a-bafe-47f6ef6a21ee"
      },
      "outputs": [],
      "source": [
        "import graphviz\n",
        "import pandas as pd\n",
        "import statsmodels.api as sm\n",
        "from sklearn import tree\n",
        "\n",
        "my_data = sm.datasets.get_rdataset('iris', 'datasets').data\n",
        "X, y = my_data.iloc[:, 0:4], my_data.Species\n",
        "\n",
        "my_model = tree.DecisionTreeClassifier(max_depth=2, random_state=0)\n",
        "my_model.fit(X, y)"
      ],
      "id": "f5e62a01-698f-4b3a-bafe-47f6ef6a21ee"
    },
    {
      "cell_type": "code",
      "execution_count": null,
      "metadata": {
        "id": "479892f3-952d-436a-9118-6eb125f3b215"
      },
      "outputs": [],
      "source": [
        "my_dot = tree.export_graphviz(\n",
        "    decision_tree=my_model,\n",
        "    out_file=None,                 # ファイルに出力しない．\n",
        "    feature_names=X.columns,       # 変数名\n",
        "    class_names=my_model.classes_, # カテゴリ名\n",
        "    filled=True)                   # 色を塗る．\n",
        "graphviz.Source(my_dot)"
      ],
      "id": "479892f3-952d-436a-9118-6eb125f3b215"
    },
    {
      "cell_type": "code",
      "execution_count": null,
      "metadata": {
        "id": "5eb0b015-cb43-48fb-8cdf-7a55a8fb6ebd"
      },
      "outputs": [],
      "source": [
        "my_test = pd.DataFrame([[5.0, 3.5, 1.5, 0.5],\n",
        "                        [6.5, 3.0, 5.0, 2.0]])\n",
        "my_model.predict(my_test)"
      ],
      "id": "5eb0b015-cb43-48fb-8cdf-7a55a8fb6ebd"
    },
    {
      "cell_type": "code",
      "execution_count": null,
      "metadata": {
        "id": "0db7b624-6620-415c-8ef4-f1c441197a86"
      },
      "outputs": [],
      "source": [
        "pd.DataFrame(\n",
        "    my_model.predict_proba(my_test),\n",
        "    columns=my_model.classes_)"
      ],
      "id": "0db7b624-6620-415c-8ef4-f1c441197a86"
    },
    {
      "id": "00526638",
      "cell_type": "markdown",
      "source": [
        "## 9.3 正解率"
      ],
      "metadata": {
        "id": "00526638"
      }
    },
    {
      "cell_type": "code",
      "execution_count": null,
      "metadata": {
        "id": "860e8033-dffa-4d28-bc92-4cb7957fb816"
      },
      "outputs": [],
      "source": [
        "import graphviz\n",
        "import pandas as pd\n",
        "import statsmodels.api as sm\n",
        "from sklearn import tree\n",
        "from sklearn.metrics import confusion_matrix\n",
        "from sklearn.model_selection import cross_val_score, GridSearchCV, LeaveOneOut\n",
        "\n",
        "my_data = sm.datasets.get_rdataset('iris', 'datasets').data\n",
        "X, y = my_data.iloc[:, 0:4], my_data.Species\n",
        "\n",
        "my_model = tree.DecisionTreeClassifier(max_depth=2, random_state=0).fit(X, y)\n",
        "y_ = my_model.predict(X)\n",
        "confusion_matrix(y_true=y, y_pred=y_)"
      ],
      "id": "860e8033-dffa-4d28-bc92-4cb7957fb816"
    },
    {
      "cell_type": "code",
      "execution_count": null,
      "metadata": {
        "id": "cb9a32e8-0439-42b6-aa0b-dda95f7f3e65"
      },
      "outputs": [],
      "source": [
        "my_model.score(X, y)\n",
        "# あるいは\n",
        "y_ = my_model.predict(X)\n",
        "(y_ == y).mean()\n"
      ],
      "id": "cb9a32e8-0439-42b6-aa0b-dda95f7f3e65"
    },
    {
      "cell_type": "code",
      "execution_count": null,
      "metadata": {
        "id": "97a84df8-02e8-42fc-8b78-ae8b66c5a577"
      },
      "outputs": [],
      "source": [
        "cross_val_score(my_model, X, y, cv=LeaveOneOut()).mean()"
      ],
      "id": "97a84df8-02e8-42fc-8b78-ae8b66c5a577"
    },
    {
      "cell_type": "code",
      "execution_count": null,
      "metadata": {
        "id": "2f5cf3a1-798a-4536-b340-6da34757840f"
      },
      "outputs": [],
      "source": [
        "my_search = GridSearchCV(estimator=tree.DecisionTreeClassifier(random_state=0),\n",
        "                         param_grid={'max_depth': range(1, 11)},\n",
        "                         cv=LeaveOneOut(),\n",
        "                         n_jobs=-1).fit(X, y)\n",
        "my_search.best_params_, my_search.best_score_"
      ],
      "id": "2f5cf3a1-798a-4536-b340-6da34757840f"
    },
    {
      "cell_type": "code",
      "execution_count": null,
      "metadata": {
        "id": "f7978380-abb3-451c-9b46-11f37a3de953"
      },
      "outputs": [],
      "source": [
        "my_params = {\n",
        "    'max_depth': range(2, 6),\n",
        "    'min_samples_split': [2, 20],\n",
        "    'min_samples_leaf': range(1, 8)}\n",
        "\n",
        "my_search = GridSearchCV(\n",
        "    estimator=tree.DecisionTreeClassifier(min_impurity_decrease=0.01,\n",
        "                                          random_state=0),\n",
        "    param_grid=my_params,\n",
        "    cv=LeaveOneOut(),\n",
        "    n_jobs=-1).fit(X, y)\n",
        "my_search.best_params_, my_search.best_score_\n",
        "\n",
        "tmp = my_search.cv_results_\n",
        "my_results = pd.DataFrame(tmp['params']).assign(\n",
        "    Accuracy=tmp['mean_test_score'])\n",
        "# 正解率（検証）の最大値\n",
        "my_results[my_results.Accuracy == my_results.Accuracy.max()]"
      ],
      "id": "f7978380-abb3-451c-9b46-11f37a3de953"
    },
    {
      "cell_type": "code",
      "execution_count": null,
      "metadata": {
        "id": "7878bfde-ad16-41a0-9477-0e7948382f22"
      },
      "outputs": [],
      "source": [
        "my_model = my_search.best_estimator_\n",
        "my_dot = tree.export_graphviz(\n",
        "    decision_tree=my_model,\n",
        "    out_file=None,\n",
        "    feature_names=X.columns,\n",
        "    class_names=my_model.classes_,\n",
        "    filled=True)\n",
        "graphviz.Source(my_dot)"
      ],
      "id": "7878bfde-ad16-41a0-9477-0e7948382f22"
    },
    {
      "id": "dc7202d3",
      "cell_type": "markdown",
      "source": [
        "## 9.4 複数の木を使う方法"
      ],
      "metadata": {
        "id": "dc7202d3"
      }
    },
    {
      "cell_type": "code",
      "execution_count": null,
      "metadata": {
        "id": "ea1ccc3c-33a3-46c0-b40f-4e2fb5070b2c"
      },
      "outputs": [],
      "source": [
        "import pandas as pd\n",
        "import statsmodels.api as sm\n",
        "import warnings\n",
        "import xgboost\n",
        "from sklearn.ensemble import RandomForestClassifier\n",
        "from sklearn.model_selection import GridSearchCV, LeaveOneOut\n",
        "from sklearn.preprocessing import LabelEncoder\n",
        "\n",
        "my_data = sm.datasets.get_rdataset('iris', 'datasets').data\n",
        "X, y = my_data.iloc[:, 0:4], my_data.Species\n",
        "label_encoder = LabelEncoder(); y = label_encoder.fit_transform(y)\n",
        "\n",
        "my_search = GridSearchCV(RandomForestClassifier(),\n",
        "                         param_grid={'max_features': [2, 3, 4]},\n",
        "                         cv=LeaveOneOut(),\n",
        "                         n_jobs=-1).fit(X, y)\n",
        "my_search.best_params_\n",
        "\n",
        "my_search.cv_results_['mean_test_score']"
      ],
      "id": "ea1ccc3c-33a3-46c0-b40f-4e2fb5070b2c"
    },
    {
      "cell_type": "code",
      "execution_count": null,
      "metadata": {
        "id": "836aaf1b-9583-4f39-bf68-a6782d52f047"
      },
      "outputs": [],
      "source": [
        "warnings.simplefilter('ignore') # これ以降，警告を表示しない．\n",
        "my_search = GridSearchCV(\n",
        "    xgboost.XGBClassifier(eval_metric='mlogloss'),\n",
        "    param_grid={'n_estimators'    : [50, 100, 150],\n",
        "                'max_depth'       : [1, 2, 3],\n",
        "                'learning_rate'   : [0.3, 0.4],\n",
        "                'gamma'           : [0],\n",
        "                'colsample_bytree': [0.6, 0.8],\n",
        "                'min_child_weight': [1],\n",
        "                'subsample'       : [0.5, 0.75, 1]},\n",
        "    cv=5, # 5分割交差検証\n",
        "    n_jobs=1).fit(X, y) # n_jobs=-1ではない．\n",
        "warnings.simplefilter('default') # これ以降，警告を表示する．\n",
        "\n",
        "my_search.best_params_\n",
        "\n",
        "my_search.best_score_"
      ],
      "id": "836aaf1b-9583-4f39-bf68-a6782d52f047"
    },
    {
      "cell_type": "code",
      "execution_count": null,
      "metadata": {
        "id": "eb764db3-c51e-4c3c-882b-7c460c77c2b7"
      },
      "outputs": [],
      "source": [
        "my_model = RandomForestClassifier().fit(X, y)\n",
        "tmp = pd.Series(my_model.feature_importances_, index=X.columns)\n",
        "tmp.sort_values().plot(kind='barh')"
      ],
      "id": "eb764db3-c51e-4c3c-882b-7c460c77c2b7"
    },
    {
      "id": "2983f88d",
      "cell_type": "markdown",
      "source": [
        "## 9.5 欠損のあるデータでの学習"
      ],
      "metadata": {
        "id": "2983f88d"
      }
    },
    {
      "cell_type": "code",
      "execution_count": null,
      "metadata": {
        "id": "a479afb9-0681-405d-a8df-832f9da7ba9f"
      },
      "outputs": [],
      "source": [
        "import numpy as np\n",
        "import statsmodels.api as sm\n",
        "import warnings\n",
        "import xgboost\n",
        "from sklearn import tree\n",
        "from sklearn.impute import SimpleImputer\n",
        "from sklearn.model_selection import cross_val_score, LeaveOneOut\n",
        "from sklearn.pipeline import Pipeline\n",
        "\n",
        "my_data = sm.datasets.get_rdataset('iris', 'datasets').data\n",
        "\n",
        "n = len(my_data)\n",
        "my_data['Petal.Length'] = [np.nan if i % 10 == 0 else\n",
        "                           my_data['Petal.Length'][i] for i in range(n)]\n",
        "my_data['Petal.Width']  = [np.nan if i % 10 == 1 else\n",
        "                           my_data['Petal.Width'][i]  for i in range(n)]\n",
        "\n",
        "my_data.describe() # countの値が135の変数に，150-135=15個の欠損がある．\n",
        "# 以下省略\n",
        "\n",
        "X, y = my_data.iloc[:, 0:4], my_data.Species"
      ],
      "id": "a479afb9-0681-405d-a8df-832f9da7ba9f"
    },
    {
      "cell_type": "code",
      "execution_count": null,
      "metadata": {
        "id": "25f41f7c-e002-4f1f-b740-6ca1a734934a"
      },
      "outputs": [],
      "source": [
        "my_pipeline = Pipeline([\n",
        "    ('imputer', SimpleImputer(strategy='median')), # 欠損を中央値で埋める．\n",
        "    ('tree', tree.DecisionTreeClassifier(random_state=0))])\n",
        "my_scores = cross_val_score(my_pipeline, X, y, cv=LeaveOneOut(), n_jobs=-1)\n",
        "my_scores.mean()"
      ],
      "id": "25f41f7c-e002-4f1f-b740-6ca1a734934a"
    },
    {
      "cell_type": "code",
      "execution_count": null,
      "metadata": {
        "id": "e72f39ff-da62-4f39-9106-2e512264c94b"
      },
      "outputs": [],
      "source": [
        "from sklearn.preprocessing import LabelEncoder\n",
        "label_encoder = LabelEncoder()\n",
        "y = label_encoder.fit_transform(y)\n",
        "\n",
        "warnings.simplefilter('ignore')  # これ以降，警告を表示しない．\n",
        "my_scores = cross_val_score(\n",
        "    xgboost.XGBClassifier(eval_metric='mlogloss'), X, y, cv=5)\n",
        "warnings.simplefilter('default') # これ以降，警告を表示する．\n",
        "\n",
        "my_scores.mean()"
      ],
      "id": "e72f39ff-da62-4f39-9106-2e512264c94b"
    },
    {
      "id": "cf913693",
      "cell_type": "markdown",
      "source": [
        "## 9.6 他の分類手法"
      ],
      "metadata": {
        "id": "cf913693"
      }
    },
    {
      "cell_type": "code",
      "execution_count": null,
      "metadata": {
        "id": "de35b7fc-6218-46c7-8600-cf122143290e"
      },
      "outputs": [],
      "source": [
        "import statsmodels.api as sm\n",
        "from sklearn.model_selection import cross_val_score, LeaveOneOut\n",
        "from sklearn.neighbors import KNeighborsClassifier\n",
        "\n",
        "my_data = sm.datasets.get_rdataset('iris', 'datasets').data\n",
        "X, y = my_data.iloc[:, 0:4], my_data.Species\n",
        "\n",
        "my_scores = cross_val_score(KNeighborsClassifier(), X, y, cv=LeaveOneOut())\n",
        "my_scores.mean()"
      ],
      "id": "de35b7fc-6218-46c7-8600-cf122143290e"
    },
    {
      "cell_type": "code",
      "execution_count": null,
      "metadata": {
        "id": "29031cfb-4b67-460b-819c-c40d3d4913b4"
      },
      "outputs": [],
      "source": [
        "import statsmodels.api as sm\n",
        "from sklearn.model_selection import cross_val_score, LeaveOneOut\n",
        "from sklearn.neural_network import MLPClassifier\n",
        "from sklearn.pipeline import Pipeline\n",
        "from sklearn.preprocessing import StandardScaler\n",
        "\n",
        "my_data = sm.datasets.get_rdataset('iris', 'datasets').data\n",
        "X, y = my_data.iloc[:, 0:4], my_data.Species\n",
        "\n",
        "my_pipeline = Pipeline([('sc',  StandardScaler()),              # 標準化\n",
        "                        ('mlp', MLPClassifier(max_iter=1000))]) # ニューラルネットワーク\n",
        "my_scores = cross_val_score(my_pipeline, X, y, cv=LeaveOneOut(), n_jobs=-1)\n",
        "my_scores.mean()"
      ],
      "id": "29031cfb-4b67-460b-819c-c40d3d4913b4"
    },
    {
      "id": "e6249c28",
      "cell_type": "markdown",
      "source": [
        "# 10 分類2（2値分類）\n",
        "\n",
        "\n"
      ],
      "metadata": {
        "id": "e6249c28"
      }
    },
    {
      "id": "aa92debf",
      "cell_type": "markdown",
      "source": [
        "## 10.1 2値分類の性能指標"
      ],
      "metadata": {
        "id": "aa92debf"
      }
    },
    {
      "cell_type": "code",
      "execution_count": null,
      "metadata": {
        "id": "706b586c-f6b1-466d-9918-88d02df0d57e"
      },
      "outputs": [],
      "source": [
        "import numpy as np\n",
        "from sklearn.metrics import classification_report, confusion_matrix\n",
        "\n",
        "y       = np.array([  0,   1,   1,   0,   1,   0,    1,   0,   0,   1])\n",
        "y_score = np.array([0.7, 0.8, 0.3, 0.4, 0.9, 0.6, 0.99, 0.1, 0.2, 0.5])"
      ],
      "id": "706b586c-f6b1-466d-9918-88d02df0d57e"
    },
    {
      "cell_type": "code",
      "execution_count": null,
      "metadata": {
        "id": "84d5f59b-aa27-4de7-8902-3a49169dbc75"
      },
      "outputs": [],
      "source": [
        "y_ = np.array([1 if 0.5 <= p else 0 for p in y_score])\n",
        "y_"
      ],
      "id": "84d5f59b-aa27-4de7-8902-3a49169dbc75"
    },
    {
      "cell_type": "code",
      "execution_count": null,
      "metadata": {
        "id": "d0dfe6ce-0be4-4faf-8146-e3676fafa9ef"
      },
      "outputs": [],
      "source": [
        "confusion_matrix(y_true=y, y_pred=y_)\n",
        "\n",
        "print(classification_report(y_true=y, y_pred=y_))"
      ],
      "id": "d0dfe6ce-0be4-4faf-8146-e3676fafa9ef"
    },
    {
      "id": "847670d3",
      "cell_type": "markdown",
      "source": [
        "## 10.2 トレードオフ"
      ],
      "metadata": {
        "id": "847670d3"
      }
    },
    {
      "cell_type": "code",
      "execution_count": null,
      "metadata": {
        "id": "12c3d52a-3e0f-4e0e-91ac-24560e166995"
      },
      "outputs": [],
      "source": [
        "import numpy as np\n",
        "from sklearn.metrics import (roc_curve, RocCurveDisplay,\n",
        "    precision_recall_curve, PrecisionRecallDisplay, auc)\n",
        "\n",
        "y       = np.array([  0,   1,   1,   0,   1,   0,    1,   0,   0,   1])\n",
        "y_score = np.array([0.7, 0.8, 0.3, 0.4, 0.9, 0.6, 0.99, 0.1, 0.2, 0.5])\n",
        "y_      = np.array([1 if 0.5 <= p else 0 for p in y_score])\n",
        "\n",
        "[sum((y == 0) & (y_ == 1)) / sum(y == 0), # FPR\n",
        " sum((y == 1) & (y_ == 1)) / sum(y == 1)] # TPR"
      ],
      "id": "12c3d52a-3e0f-4e0e-91ac-24560e166995"
    },
    {
      "cell_type": "code",
      "execution_count": null,
      "metadata": {
        "id": "c2973767-bf82-4bbf-be55-4de9e0997c90"
      },
      "outputs": [],
      "source": [
        "my_fpr, my_tpr, _ = roc_curve(y_true=y,\n",
        "                              y_score=y_score,\n",
        "                              pos_label=1) # 1が陽性である．\n",
        "RocCurveDisplay(fpr=my_fpr, tpr=my_tpr).plot()"
      ],
      "id": "c2973767-bf82-4bbf-be55-4de9e0997c90"
    },
    {
      "cell_type": "code",
      "execution_count": null,
      "metadata": {
        "id": "88db5add-0484-40f5-8be2-75434c0549b0"
      },
      "outputs": [],
      "source": [
        "auc(x=my_fpr, y=my_tpr)"
      ],
      "id": "88db5add-0484-40f5-8be2-75434c0549b0"
    },
    {
      "cell_type": "code",
      "execution_count": null,
      "metadata": {
        "id": "823d1130-61dc-44d8-a8c6-e0cf0499da02"
      },
      "outputs": [],
      "source": [
        "[sum((y == 1) & (y_ == 1)) / sum(y  == 1), # Recall == TPR\n",
        " sum((y == 1) & (y_ == 1)) / sum(y_ == 1)] # Precision"
      ],
      "id": "823d1130-61dc-44d8-a8c6-e0cf0499da02"
    },
    {
      "cell_type": "code",
      "execution_count": null,
      "metadata": {
        "id": "f4293e89-f212-46a5-a663-3dc27d4e1afb"
      },
      "outputs": [],
      "source": [
        "my_precision, my_recall, _ = precision_recall_curve(y_true=y,\n",
        "                                                    probas_pred=y_score,\n",
        "                                                    pos_label=1)\n",
        "PrecisionRecallDisplay(precision=my_precision, recall=my_recall).plot()"
      ],
      "id": "f4293e89-f212-46a5-a663-3dc27d4e1afb"
    },
    {
      "cell_type": "code",
      "execution_count": null,
      "metadata": {
        "id": "c680c4cc-9bb2-4ff7-95ae-694606e6689a"
      },
      "outputs": [],
      "source": [
        "auc(x=my_recall, y=my_precision)"
      ],
      "id": "c680c4cc-9bb2-4ff7-95ae-694606e6689a"
    },
    {
      "id": "6aae7a0b",
      "cell_type": "markdown",
      "source": [
        "## 10.3 タイタニック"
      ],
      "metadata": {
        "id": "6aae7a0b"
      }
    },
    {
      "cell_type": "code",
      "execution_count": null,
      "metadata": {
        "id": "e4d3c6e8-f797-4af9-9e8b-e80cf56af197"
      },
      "outputs": [],
      "source": [
        "import graphviz\n",
        "import pandas as pd\n",
        "from sklearn import tree\n",
        "from sklearn.metrics import roc_curve, RocCurveDisplay, auc\n",
        "from sklearn.model_selection import cross_val_score, LeaveOneOut\n",
        "from sklearn.pipeline import Pipeline\n",
        "from sklearn.preprocessing import OneHotEncoder\n",
        "\n",
        "my_url = ('https://raw.githubusercontent.com/taroyabuki'\n",
        "          '/fromzero/master/data/titanic.csv')\n",
        "my_data = pd.read_csv(my_url)"
      ],
      "id": "e4d3c6e8-f797-4af9-9e8b-e80cf56af197"
    },
    {
      "cell_type": "code",
      "execution_count": null,
      "metadata": {
        "id": "1c9cf01a-9176-4400-93cf-2539e1b14db0"
      },
      "outputs": [],
      "source": [
        "my_data.head()"
      ],
      "id": "1c9cf01a-9176-4400-93cf-2539e1b14db0"
    },
    {
      "cell_type": "code",
      "execution_count": null,
      "metadata": {
        "id": "5220b41c-b411-4404-b888-42d4873b15c8"
      },
      "outputs": [],
      "source": [
        "X, y = my_data.iloc[:, 0:3], my_data.Survived\n",
        "\n",
        "my_pipeline = Pipeline([\n",
        "    ('ohe', OneHotEncoder(drop='first')),\n",
        "    ('tree', tree.DecisionTreeClassifier(max_depth=2, random_state=0,\n",
        "                                         min_impurity_decrease=0.01))])\n",
        "my_pipeline.fit(X, y)"
      ],
      "id": "5220b41c-b411-4404-b888-42d4873b15c8"
    },
    {
      "cell_type": "code",
      "execution_count": null,
      "metadata": {
        "id": "4a9794d8-013a-4f58-9fa1-45826539a7cf"
      },
      "outputs": [],
      "source": [
        "my_enc  = my_pipeline.named_steps['ohe']  # パイプラインからエンコーダを取り出す．\n",
        "my_tree = my_pipeline.named_steps['tree'] # パイプラインから木を取り出す．\n",
        "\n",
        "my_dot = tree.export_graphviz(\n",
        "    decision_tree=my_tree,\n",
        "    out_file=None,\n",
        "    feature_names=my_enc.get_feature_names() \\\n",
        "    if hasattr(my_enc, 'get_feature_names') else my_enc.get_feature_names_out(),\n",
        "    class_names=my_pipeline.classes_,\n",
        "    filled=True)\n",
        "graphviz.Source(my_dot)"
      ],
      "id": "4a9794d8-013a-4f58-9fa1-45826539a7cf"
    },
    {
      "cell_type": "code",
      "execution_count": null,
      "metadata": {
        "id": "0e79c038-040e-43a0-9d9e-f0e56362df8a"
      },
      "outputs": [],
      "source": [
        "my_scores = cross_val_score(\n",
        "    my_pipeline, X, y,\n",
        "    cv=LeaveOneOut(),\n",
        "    n_jobs=-1)\n",
        "my_scores.mean()"
      ],
      "id": "0e79c038-040e-43a0-9d9e-f0e56362df8a"
    },
    {
      "cell_type": "code",
      "execution_count": null,
      "metadata": {
        "id": "949d3c89-1493-4132-b40e-407381de6596"
      },
      "outputs": [],
      "source": [
        "tmp = pd.DataFrame(\n",
        "    my_pipeline.predict_proba(X),\n",
        "    columns=my_pipeline.classes_)\n",
        "y_score = tmp.Yes\n",
        "\n",
        "my_fpr, my_tpr, _ = roc_curve(y_true=y,\n",
        "                              y_score=y_score,\n",
        "                              pos_label='Yes')\n",
        "my_auc = auc(x=my_fpr, y=my_tpr)\n",
        "my_auc\n",
        "\n",
        "RocCurveDisplay(fpr=my_fpr, tpr=my_tpr, roc_auc=my_auc).plot()"
      ],
      "id": "949d3c89-1493-4132-b40e-407381de6596"
    },
    {
      "id": "e8f3d022",
      "cell_type": "markdown",
      "source": [
        "## 10.4 ロジスティック回帰"
      ],
      "metadata": {
        "id": "e8f3d022"
      }
    },
    {
      "cell_type": "code",
      "execution_count": null,
      "metadata": {
        "id": "d06d1e0c-2eee-4576-865e-a83ebaa284ef"
      },
      "outputs": [],
      "source": [
        "import matplotlib.pyplot as plt\n",
        "import numpy as np\n",
        "\n",
        "x = np.arange(-6, 6, 0.1)\n",
        "y = 1 / (1 + np.exp(-x))\n",
        "plt.plot(x, y)"
      ],
      "id": "d06d1e0c-2eee-4576-865e-a83ebaa284ef"
    },
    {
      "cell_type": "code",
      "execution_count": null,
      "metadata": {
        "id": "8a100359-b80d-4e01-943a-8c5b385bfe44"
      },
      "outputs": [],
      "source": [
        "import pandas as pd\n",
        "from sklearn.linear_model import LogisticRegression\n",
        "from sklearn.model_selection import cross_val_score, LeaveOneOut\n",
        "from sklearn.pipeline import Pipeline\n",
        "from sklearn.preprocessing import OneHotEncoder\n",
        "\n",
        "my_url = ('https://raw.githubusercontent.com/taroyabuki'\n",
        "          '/fromzero/master/data/titanic.csv')\n",
        "my_data = pd.read_csv(my_url)\n",
        "\n",
        "X, y = my_data.iloc[:, 0:3], my_data.Survived\n",
        "\n",
        "my_pipeline = Pipeline([('ohe', OneHotEncoder(drop='first')),\n",
        "                        ('lr', LogisticRegression(penalty='none'))])\n",
        "my_pipeline.fit(X, y)"
      ],
      "id": "8a100359-b80d-4e01-943a-8c5b385bfe44"
    },
    {
      "cell_type": "code",
      "execution_count": null,
      "metadata": {
        "id": "167f3bfa-82bb-4546-b84f-e8c82a29eb91"
      },
      "outputs": [],
      "source": [
        "my_ohe = my_pipeline.named_steps.ohe\n",
        "my_lr  = my_pipeline.named_steps.lr\n",
        "\n",
        "my_lr.intercept_[0]\n",
        "\n",
        "tmp = my_ohe.get_feature_names() \\\n",
        "if hasattr(my_ohe, 'get_feature_names') \\\n",
        "else my_ohe.get_feature_names_out()\n",
        "pd.Series(my_lr.coef_[0],\n",
        "          index=tmp)"
      ],
      "id": "167f3bfa-82bb-4546-b84f-e8c82a29eb91"
    },
    {
      "cell_type": "code",
      "execution_count": null,
      "metadata": {
        "id": "f79194e6-2f8f-487e-9f0b-4491e7525bd4"
      },
      "outputs": [],
      "source": [
        "my_scores = cross_val_score(\n",
        "    my_pipeline, X, y,\n",
        "    cv=LeaveOneOut(),\n",
        "    n_jobs=-1)\n",
        "my_scores.mean()"
      ],
      "id": "f79194e6-2f8f-487e-9f0b-4491e7525bd4"
    },
    {
      "id": "c7973f3b",
      "cell_type": "markdown",
      "source": [
        "# 11 深層学習とAutoML\n",
        "\n",
        "\n"
      ],
      "metadata": {
        "id": "c7973f3b"
      }
    },
    {
      "id": "32f05788",
      "cell_type": "markdown",
      "source": [
        "## 11.1 Kerasによる回帰"
      ],
      "metadata": {
        "id": "32f05788"
      }
    },
    {
      "cell_type": "code",
      "execution_count": null,
      "metadata": {
        "id": "a331a660-d4bf-465b-bd2d-8e1f5d6c08ca"
      },
      "outputs": [],
      "source": [
        "import matplotlib.pyplot as plt\n",
        "import numpy as np\n",
        "import pandas as pd\n",
        "from keras import activations, callbacks, layers, models\n",
        "from sklearn.preprocessing import StandardScaler\n",
        "from sklearn.utils import shuffle\n",
        "\n",
        "my_url = ('https://raw.githubusercontent.com/taroyabuki'\n",
        "          '/fromzero/master/data/wine.csv')\n",
        "tmp = pd.read_csv(my_url)"
      ],
      "id": "a331a660-d4bf-465b-bd2d-8e1f5d6c08ca"
    },
    {
      "cell_type": "code",
      "execution_count": null,
      "metadata": {
        "id": "6910715f-7967-4ee6-95c2-cf8841a8d5da"
      },
      "outputs": [],
      "source": [
        "my_data = shuffle(tmp)"
      ],
      "id": "6910715f-7967-4ee6-95c2-cf8841a8d5da"
    },
    {
      "cell_type": "code",
      "execution_count": null,
      "metadata": {
        "id": "fc9d0444-5cab-4631-a318-e75fecce5479"
      },
      "outputs": [],
      "source": [
        "my_scaler = StandardScaler()\n",
        "X = my_scaler.fit_transform(\n",
        "    my_data.drop(columns=['LPRICE2']))\n",
        "y = my_data['LPRICE2']"
      ],
      "id": "fc9d0444-5cab-4631-a318-e75fecce5479"
    },
    {
      "cell_type": "code",
      "execution_count": null,
      "metadata": {
        "id": "65a3b637-8a6b-4863-8652-1794d2149bf9"
      },
      "outputs": [],
      "source": [
        "x = np.linspace(-3, 3, 100)\n",
        "plt.plot(x, activations.relu(x))\n",
        "plt.xlabel('x')\n",
        "plt.ylabel('ReLU(x)')"
      ],
      "id": "65a3b637-8a6b-4863-8652-1794d2149bf9"
    },
    {
      "cell_type": "code",
      "execution_count": null,
      "metadata": {
        "id": "147924a0-8663-4dfc-a9ea-9078052c6352"
      },
      "outputs": [],
      "source": [
        "my_model = models.Sequential()\n",
        "my_model.add(layers.Dense(units=3, activation='relu', input_shape=[4]))\n",
        "my_model.add(layers.Dense(units=1))\n",
        "\n",
        "my_model.summary() # ネットワークの概要"
      ],
      "id": "147924a0-8663-4dfc-a9ea-9078052c6352"
    },
    {
      "cell_type": "code",
      "execution_count": null,
      "metadata": {
        "id": "e1b3129c-3e8f-4e6d-a286-e9b149f1071e"
      },
      "outputs": [],
      "source": [
        "my_model.compile(\n",
        "    loss='mse',\n",
        "    optimizer='rmsprop')"
      ],
      "id": "e1b3129c-3e8f-4e6d-a286-e9b149f1071e"
    },
    {
      "cell_type": "code",
      "execution_count": null,
      "metadata": {
        "id": "eed0108d-cdc1-473d-af84-9cc953230d3f"
      },
      "outputs": [],
      "source": [
        "my_cb = callbacks.EarlyStopping(\n",
        "    patience=20,\n",
        "    restore_best_weights=True)"
      ],
      "id": "eed0108d-cdc1-473d-af84-9cc953230d3f"
    },
    {
      "cell_type": "code",
      "execution_count": null,
      "metadata": {
        "id": "cc9c74d1-9282-4f58-9197-a84e4eb9e3f7"
      },
      "outputs": [],
      "source": [
        "my_history = my_model.fit(\n",
        "    x=X,\n",
        "    y=y,\n",
        "    validation_split=0.25,\n",
        "    batch_size=10,\n",
        "    epochs=500,\n",
        "    callbacks=[my_cb],\n",
        "    verbose=0)"
      ],
      "id": "cc9c74d1-9282-4f58-9197-a84e4eb9e3f7"
    },
    {
      "cell_type": "code",
      "execution_count": null,
      "metadata": {
        "id": "02abe9f2-7a5e-46e6-8c6f-6abd1079b369"
      },
      "outputs": [],
      "source": [
        "tmp = pd.DataFrame(my_history.history)\n",
        "tmp.plot(xlabel='epoch')"
      ],
      "id": "02abe9f2-7a5e-46e6-8c6f-6abd1079b369"
    },
    {
      "cell_type": "code",
      "execution_count": null,
      "metadata": {
        "id": "b8f65a4d-fc00-42af-8761-19763274c66e"
      },
      "outputs": [],
      "source": [
        "tmp.iloc[-1, ]"
      ],
      "id": "b8f65a4d-fc00-42af-8761-19763274c66e"
    },
    {
      "cell_type": "code",
      "execution_count": null,
      "metadata": {
        "id": "26eb8f69-c388-4171-9dd5-5a8d29394886"
      },
      "outputs": [],
      "source": [
        "y_ = my_model.predict(X)\n",
        "((y_.ravel() - y)**2).mean()"
      ],
      "id": "26eb8f69-c388-4171-9dd5-5a8d29394886"
    },
    {
      "id": "d4440338",
      "cell_type": "markdown",
      "source": [
        "## 11.2 Kerasによる分類"
      ],
      "metadata": {
        "id": "d4440338"
      }
    },
    {
      "cell_type": "code",
      "execution_count": null,
      "metadata": {
        "id": "b3ba1edc-e158-4c59-9359-0b6fbf739692"
      },
      "outputs": [],
      "source": [
        "import numpy as np\n",
        "import pandas as pd\n",
        "import statsmodels.api as sm\n",
        "from keras import callbacks, layers, losses, models\n",
        "from sklearn.preprocessing import StandardScaler, LabelEncoder\n",
        "from sklearn.utils import shuffle\n",
        "\n",
        "tmp = sm.datasets.get_rdataset('iris', 'datasets').data\n",
        "my_data = shuffle(tmp)"
      ],
      "id": "b3ba1edc-e158-4c59-9359-0b6fbf739692"
    },
    {
      "cell_type": "code",
      "execution_count": null,
      "metadata": {
        "id": "719e182f-7152-494a-845e-2c5af2e0c53f"
      },
      "outputs": [],
      "source": [
        "my_scaler = StandardScaler()\n",
        "X = my_scaler.fit_transform(\n",
        "    my_data.drop(columns=['Species']))\n",
        "my_enc = LabelEncoder()\n",
        "y = my_enc.fit_transform(\n",
        "    my_data['Species'])"
      ],
      "id": "719e182f-7152-494a-845e-2c5af2e0c53f"
    },
    {
      "cell_type": "code",
      "execution_count": null,
      "metadata": {
        "id": "624dbd23-8632-4ef5-a042-ea530285cb1e"
      },
      "outputs": [],
      "source": [
        "my_model = models.Sequential()\n",
        "my_model.add(layers.Dense(units=3, activation='relu', input_shape=[4]))\n",
        "my_model.add(layers.Dense(units=3, activation='softmax'))"
      ],
      "id": "624dbd23-8632-4ef5-a042-ea530285cb1e"
    },
    {
      "cell_type": "code",
      "execution_count": null,
      "metadata": {
        "id": "dd7e3d91-bdd4-4342-9556-fc9ee563ae30"
      },
      "outputs": [],
      "source": [
        "my_model.compile(loss='sparse_categorical_crossentropy',\n",
        "                 optimizer='rmsprop',\n",
        "                 metrics=['accuracy'])"
      ],
      "id": "dd7e3d91-bdd4-4342-9556-fc9ee563ae30"
    },
    {
      "cell_type": "code",
      "execution_count": null,
      "metadata": {
        "id": "cf9541e3-9a80-407f-b525-ed337555555e"
      },
      "outputs": [],
      "source": [
        "my_cb = callbacks.EarlyStopping(\n",
        "    patience=20,\n",
        "    restore_best_weights=True)\n",
        "\n",
        "my_history = my_model.fit(\n",
        "    x=X,\n",
        "    y=y,\n",
        "    validation_split=0.25,\n",
        "    batch_size=10,\n",
        "    epochs=500,\n",
        "    callbacks=[my_cb],\n",
        "    verbose=0)\n",
        "\n",
        "tmp = pd.DataFrame(my_history.history)\n",
        "tmp.plot(xlabel='epoch')"
      ],
      "id": "cf9541e3-9a80-407f-b525-ed337555555e"
    },
    {
      "cell_type": "code",
      "execution_count": null,
      "metadata": {
        "id": "ad28becb-b9ec-4398-a32b-2a3c1c15238a"
      },
      "outputs": [],
      "source": [
        "tmp.iloc[-1, ]"
      ],
      "id": "ad28becb-b9ec-4398-a32b-2a3c1c15238a"
    },
    {
      "cell_type": "code",
      "execution_count": null,
      "metadata": {
        "id": "abff9a3d-2dcb-4f64-b9d2-b2ed68ff5071"
      },
      "outputs": [],
      "source": [
        "tmp = my_model.predict(X)\n",
        "y_ = np.argmax(tmp, axis=-1)\n",
        "(y_ == y).mean()"
      ],
      "id": "abff9a3d-2dcb-4f64-b9d2-b2ed68ff5071"
    },
    {
      "cell_type": "code",
      "execution_count": null,
      "metadata": {
        "id": "8323e43f-fdcd-4e86-8508-482fb60466ec"
      },
      "outputs": [],
      "source": [
        "-np.log([0.8, 0.7, 0.3, 0.8]).mean()\n",
        "\n",
        "-np.log([0.7, 0.6, 0.2, 0.7]).mean()"
      ],
      "id": "8323e43f-fdcd-4e86-8508-482fb60466ec"
    },
    {
      "cell_type": "code",
      "execution_count": null,
      "metadata": {
        "id": "3eb19aac-b90e-4834-97a0-273ca6daea45"
      },
      "outputs": [],
      "source": [
        "y = [2, 1, 0, 1]\n",
        "y_1 = [[0.1, 0.1, 0.8],\n",
        "       [0.1, 0.7, 0.2],\n",
        "       [0.3, 0.4, 0.3],\n",
        "       [0.1, 0.8, 0.1]]\n",
        "y_2 = [[0.1, 0.2, 0.7],\n",
        "       [0.2, 0.6, 0.2],\n",
        "       [0.2, 0.5, 0.3],\n",
        "       [0.2, 0.7, 0.1]]"
      ],
      "id": "3eb19aac-b90e-4834-97a0-273ca6daea45"
    },
    {
      "cell_type": "code",
      "execution_count": null,
      "metadata": {
        "id": "9a45b823-162d-478c-9753-e815c8003f1a"
      },
      "outputs": [],
      "source": [
        "[losses.sparse_categorical_crossentropy(y_true=y, y_pred=y_1).numpy().mean(),\n",
        " losses.sparse_categorical_crossentropy(y_true=y, y_pred=y_2).numpy().mean()]"
      ],
      "id": "9a45b823-162d-478c-9753-e815c8003f1a"
    },
    {
      "id": "9d4da455",
      "cell_type": "markdown",
      "source": [
        "## 11.3 MNIST：手書き数字の分類"
      ],
      "metadata": {
        "id": "9d4da455"
      }
    },
    {
      "cell_type": "code",
      "execution_count": null,
      "metadata": {
        "id": "3fe0d111-d839-4aa5-902a-8f5be910ec8a"
      },
      "outputs": [],
      "source": [
        "import matplotlib.pyplot as plt\n",
        "import numpy as np\n",
        "import pandas as pd\n",
        "import tensorflow as tf\n",
        "from random import sample\n",
        "from keras import callbacks, layers, models\n",
        "from sklearn.metrics import confusion_matrix\n",
        "\n",
        "(x_train, y_train), (x_test, y_test) = tf.keras.datasets.mnist.load_data()"
      ],
      "id": "3fe0d111-d839-4aa5-902a-8f5be910ec8a"
    },
    {
      "cell_type": "code",
      "execution_count": null,
      "metadata": {
        "id": "31cc8e8c-f3d0-459d-ad2b-4c69115524b3"
      },
      "outputs": [],
      "source": [
        "x_train.shape"
      ],
      "id": "31cc8e8c-f3d0-459d-ad2b-4c69115524b3"
    },
    {
      "cell_type": "code",
      "execution_count": null,
      "metadata": {
        "id": "8a29b2c1-592b-4b02-ad97-14f0d7337945"
      },
      "outputs": [],
      "source": [
        "np.set_printoptions(linewidth=170)\n",
        "x_train[4, :, :]"
      ],
      "id": "8a29b2c1-592b-4b02-ad97-14f0d7337945"
    },
    {
      "cell_type": "code",
      "execution_count": null,
      "metadata": {
        "id": "6f3d799b-5637-44e7-86c4-54ed7b9d0e33"
      },
      "outputs": [],
      "source": [
        "plt.matshow(x_train[4, :, :])"
      ],
      "id": "6f3d799b-5637-44e7-86c4-54ed7b9d0e33"
    },
    {
      "cell_type": "code",
      "execution_count": null,
      "metadata": {
        "id": "bc9ec7ae-7b76-4457-a037-55ed4ec2b78e"
      },
      "outputs": [],
      "source": [
        "y_train"
      ],
      "id": "bc9ec7ae-7b76-4457-a037-55ed4ec2b78e"
    },
    {
      "cell_type": "code",
      "execution_count": null,
      "metadata": {
        "id": "d2c904d8-25e8-4a26-a899-84a5a59d6f5f"
      },
      "outputs": [],
      "source": [
        "x_train.min(), x_train.max()"
      ],
      "id": "d2c904d8-25e8-4a26-a899-84a5a59d6f5f"
    },
    {
      "cell_type": "code",
      "execution_count": null,
      "metadata": {
        "id": "41a53c88-5953-40b0-9e3a-55dbaed387c9"
      },
      "outputs": [],
      "source": [
        "x_train = x_train / 255\n",
        "x_test  = x_test  / 255"
      ],
      "id": "41a53c88-5953-40b0-9e3a-55dbaed387c9"
    },
    {
      "cell_type": "code",
      "execution_count": null,
      "metadata": {
        "id": "b9c76595-f0a2-413a-8c48-d7b88093d383"
      },
      "outputs": [],
      "source": [
        "my_index = sample(range(60000), 6000)\n",
        "x_train = x_train[my_index, :, :]\n",
        "y_train = y_train[my_index]"
      ],
      "id": "b9c76595-f0a2-413a-8c48-d7b88093d383"
    },
    {
      "cell_type": "code",
      "execution_count": null,
      "metadata": {
        "id": "9ac3a33e-5256-4dd5-b7fc-a1e9e4d02c96"
      },
      "outputs": [],
      "source": [
        "my_model = models.Sequential()\n",
        "my_model.add(layers.Flatten(input_shape=[28, 28]))\n",
        "my_model.add(layers.Dense(units=256, activation=\"relu\"))\n",
        "my_model.add(layers.Dense(units=10, activation=\"softmax\"))\n",
        "\n",
        "my_model.summary()\n",
        "\n",
        "my_model.compile(loss='sparse_categorical_crossentropy',\n",
        "                 optimizer='rmsprop',\n",
        "                 metrics=['accuracy'])\n",
        "\n",
        "my_cb = callbacks.EarlyStopping(patience=5, restore_best_weights=True)"
      ],
      "id": "9ac3a33e-5256-4dd5-b7fc-a1e9e4d02c96"
    },
    {
      "cell_type": "code",
      "execution_count": null,
      "metadata": {
        "id": "03741cfa-3026-4053-9bb6-32a3a7648366"
      },
      "outputs": [],
      "source": [
        "my_history = my_model.fit(\n",
        "    x=x_train,\n",
        "    y=y_train,\n",
        "    validation_split=0.2,\n",
        "    batch_size=128,\n",
        "    epochs=20,\n",
        "    callbacks=[my_cb],\n",
        "    verbose=0)\n",
        "\n",
        "tmp = pd.DataFrame(my_history.history)\n",
        "tmp.plot(xlabel='epoch', style='o-')"
      ],
      "id": "03741cfa-3026-4053-9bb6-32a3a7648366"
    },
    {
      "cell_type": "code",
      "execution_count": null,
      "metadata": {
        "id": "fd9f1377-8716-4e20-a65b-e5a304daa20a"
      },
      "outputs": [],
      "source": [
        "tmp = my_model.predict(x_test)\n",
        "y_ = np.argmax(tmp, axis=-1)\n",
        "confusion_matrix(y_true=y_test,\n",
        "                 y_pred=y_)"
      ],
      "id": "fd9f1377-8716-4e20-a65b-e5a304daa20a"
    },
    {
      "cell_type": "code",
      "execution_count": null,
      "metadata": {
        "id": "450ad061-66c7-4150-a386-8bdd76f6fd38"
      },
      "outputs": [],
      "source": [],
      "id": "450ad061-66c7-4150-a386-8bdd76f6fd38"
    },
    {
      "cell_type": "code",
      "execution_count": null,
      "metadata": {
        "id": "09851a5b-7254-4fdf-b813-23947fe80ee6"
      },
      "outputs": [],
      "source": [
        "(y_ == y_test).mean()"
      ],
      "id": "09851a5b-7254-4fdf-b813-23947fe80ee6"
    },
    {
      "cell_type": "code",
      "execution_count": null,
      "metadata": {
        "id": "c224b67f-6794-4cf4-96c9-eff83b6b72fb"
      },
      "outputs": [],
      "source": [
        "my_model.evaluate(x=x_test, y=y_test)"
      ],
      "id": "c224b67f-6794-4cf4-96c9-eff83b6b72fb"
    },
    {
      "cell_type": "code",
      "execution_count": null,
      "metadata": {
        "id": "5ed03e84-18f2-49aa-ab2d-5d9e5189e09a"
      },
      "outputs": [],
      "source": [
        "x_train2d = x_train.reshape(-1, 28, 28, 1)\n",
        "x_test2d = x_test.reshape(-1, 28, 28, 1)"
      ],
      "id": "5ed03e84-18f2-49aa-ab2d-5d9e5189e09a"
    },
    {
      "cell_type": "code",
      "execution_count": null,
      "metadata": {
        "id": "1b027a5d-d9e6-4907-b6df-e477bd10c2ea"
      },
      "outputs": [],
      "source": [
        "my_model = models.Sequential()\n",
        "my_model.add(layers.Conv2D(filters=32, kernel_size=3, # 畳み込み層\n",
        "                           activation='relu',\n",
        "                           input_shape=[28, 28, 1]))\n",
        "my_model.add(layers.MaxPooling2D(pool_size=2))        # プーリング層\n",
        "my_model.add(layers.Flatten())\n",
        "my_model.add(layers.Dense(128, activation='relu'))\n",
        "my_model.add(layers.Dense(10, activation='softmax'))\n",
        "\n",
        "my_model.summary()\n",
        "\n",
        "my_model.compile(loss='sparse_categorical_crossentropy',\n",
        "                 optimizer='rmsprop',\n",
        "                 metrics=['accuracy'])\n",
        "\n",
        "from keras.callbacks import EarlyStopping\n",
        "my_cb = EarlyStopping(patience=5,\n",
        "                      restore_best_weights=True)"
      ],
      "id": "1b027a5d-d9e6-4907-b6df-e477bd10c2ea"
    },
    {
      "cell_type": "code",
      "execution_count": null,
      "metadata": {
        "id": "6037ed8f-bcfb-4c58-a7e5-bd2424e7a0d9"
      },
      "outputs": [],
      "source": [
        "my_history = my_model.fit(\n",
        "    x=x_train2d,\n",
        "    y=y_train,\n",
        "    validation_split=0.2,\n",
        "    batch_size=128,\n",
        "    epochs=20,\n",
        "    callbacks=my_cb,\n",
        "    verbose=0)\n",
        "\n",
        "tmp = pd.DataFrame(my_history.history)\n",
        "tmp.plot(xlabel='epoch', style='o-')"
      ],
      "id": "6037ed8f-bcfb-4c58-a7e5-bd2424e7a0d9"
    },
    {
      "cell_type": "code",
      "execution_count": null,
      "metadata": {
        "id": "22726e92-a797-44c8-adb2-f44296e9b0be"
      },
      "outputs": [],
      "source": [
        "my_model.evaluate(x=x_test2d, y=y_test)"
      ],
      "id": "22726e92-a797-44c8-adb2-f44296e9b0be"
    },
    {
      "cell_type": "code",
      "execution_count": null,
      "metadata": {
        "id": "7abaa3cf-26cd-4a60-a7e2-4e06e2a9f118"
      },
      "outputs": [],
      "source": [
        "my_model = models.Sequential()\n",
        "my_model.add(layers.Conv2D(filters=20, kernel_size=5, activation='relu',\n",
        "                           input_shape=(28, 28, 1)))\n",
        "my_model.add(layers.MaxPooling2D(pool_size=2, strides=2))\n",
        "my_model.add(layers.Conv2D(filters=20, kernel_size=5, activation='relu'))\n",
        "my_model.add(layers.MaxPooling2D(pool_size=2, strides=2))\n",
        "my_model.add(layers.Dropout(rate=0.25))\n",
        "my_model.add(layers.Flatten())\n",
        "my_model.add(layers.Dense(500, activation='relu'))\n",
        "my_model.add(layers.Dropout(rate=0.5))\n",
        "my_model.add(layers.Dense(10, activation='softmax'))\n",
        "\n",
        "my_model.compile(loss='sparse_categorical_crossentropy',\n",
        "                 optimizer='rmsprop',\n",
        "                 metrics=['accuracy'])\n",
        "\n",
        "my_cb = callbacks.EarlyStopping(patience=5,\n",
        "                                restore_best_weights=True)"
      ],
      "id": "7abaa3cf-26cd-4a60-a7e2-4e06e2a9f118"
    },
    {
      "cell_type": "code",
      "execution_count": null,
      "metadata": {
        "id": "f2d7a1c4-66c3-482e-93a9-aa8a7b0058e9"
      },
      "outputs": [],
      "source": [
        "my_history = my_model.fit(\n",
        "    x=x_train2d,\n",
        "    y=y_train,\n",
        "    validation_split=0.2,\n",
        "    batch_size=128,\n",
        "    epochs=20,\n",
        "    callbacks=my_cb,\n",
        "    verbose=0)\n",
        "\n",
        "tmp = pd.DataFrame(my_history.history)\n",
        "tmp.plot(xlabel='epoch', style='o-')"
      ],
      "id": "f2d7a1c4-66c3-482e-93a9-aa8a7b0058e9"
    },
    {
      "cell_type": "code",
      "execution_count": null,
      "metadata": {
        "id": "edaaad87-73c8-4732-b0bc-cfa82646d6ba"
      },
      "outputs": [],
      "source": [
        "my_model.evaluate(x=x_test2d, y=y_test)"
      ],
      "id": "edaaad87-73c8-4732-b0bc-cfa82646d6ba"
    },
    {
      "cell_type": "code",
      "execution_count": null,
      "metadata": {
        "id": "642002f7-1fff-4b31-9957-9c127a66c297"
      },
      "outputs": [],
      "source": [
        "y_prob = my_model.predict(x_test2d)                    # カテゴリに属する確率\n",
        "\n",
        "tmp = pd.DataFrame({\n",
        "    'y_prob': np.max(y_prob, axis=1),                  # 確率の最大値\n",
        "    'y_': np.argmax(y_prob, axis=1),                   # 予測カテゴリ\n",
        "    'y': y_test,                                       # 正解\n",
        "    'id': range(len(y_test))})                         # 番号\n",
        "\n",
        "tmp = tmp[tmp.y_ != tmp.y]                             # 予測がはずれたものを残す\n",
        "my_result = tmp.sort_values('y_prob', ascending=False) # 確率の大きい順に並び替える"
      ],
      "id": "642002f7-1fff-4b31-9957-9c127a66c297"
    },
    {
      "cell_type": "code",
      "execution_count": null,
      "metadata": {
        "id": "0760d31b-979f-491c-90f8-0449810cb96c"
      },
      "outputs": [],
      "source": [
        "my_result.head()"
      ],
      "id": "0760d31b-979f-491c-90f8-0449810cb96c"
    },
    {
      "cell_type": "code",
      "execution_count": null,
      "metadata": {
        "id": "43b39498-d467-4a17-baa0-4915d186d83d"
      },
      "outputs": [],
      "source": [
        "for i in range(5):\n",
        "    plt.subplot(1, 5, i + 1)\n",
        "    ans = my_result['y'].iloc[i]\n",
        "    id = my_result['id'].iloc[i]\n",
        "    plt.title(f'{ans} ({id})')\n",
        "    plt.imshow(x_test[id])\n",
        "    plt.axis('off')"
      ],
      "id": "43b39498-d467-4a17-baa0-4915d186d83d"
    },
    {
      "id": "fd868660",
      "cell_type": "markdown",
      "source": [
        "## 11.4 AutoML"
      ],
      "metadata": {
        "id": "fd868660"
      }
    },
    {
      "cell_type": "code",
      "execution_count": null,
      "metadata": {
        "id": "7d9560c7-5a1c-4d2c-9128-b779f914afa1"
      },
      "outputs": [],
      "source": [
        "import h2o\n",
        "import pandas as pd\n",
        "import tensorflow as tf\n",
        "from h2o.automl import H2OAutoML\n",
        "from random import sample\n",
        "\n",
        "h2o.init()\n",
        "h2o.no_progress()\n",
        "# h2o.cluster().shutdown() # 停止"
      ],
      "id": "7d9560c7-5a1c-4d2c-9128-b779f914afa1"
    },
    {
      "cell_type": "code",
      "execution_count": null,
      "metadata": {
        "id": "c37cbda8-348c-492a-8a14-a21f60459a41"
      },
      "outputs": [],
      "source": [
        "my_url = ('https://raw.githubusercontent.com/taroyabuki'\n",
        "          '/fromzero/master/data/wine.csv')\n",
        "my_data = pd.read_csv(my_url)\n",
        "my_frame = h2o.H2OFrame(my_data) # 通常のデータフレームをH2OFrameに変換する．\n",
        "# あるいは\n",
        "my_frame = h2o.import_file(my_url, header=1) # データを読み込む．"
      ],
      "id": "c37cbda8-348c-492a-8a14-a21f60459a41"
    },
    {
      "cell_type": "code",
      "execution_count": null,
      "metadata": {
        "id": "9ced0e32-67ea-48d6-9d63-42fd001c6279"
      },
      "outputs": [],
      "source": [
        "my_frame.head(5)\n",
        "\n",
        "# 通常のデータフレームに戻す．\n",
        "h2o.as_list(my_frame).head()\n",
        "# 結果は割愛（見た目は同じ）"
      ],
      "id": "9ced0e32-67ea-48d6-9d63-42fd001c6279"
    },
    {
      "cell_type": "code",
      "execution_count": null,
      "metadata": {
        "id": "2ba45078-534e-4569-a991-95accd3bffb7"
      },
      "outputs": [],
      "source": [
        "my_model = H2OAutoML(\n",
        "    max_runtime_secs=60)\n",
        "my_model.train(\n",
        "    y='LPRICE2',\n",
        "    training_frame=my_frame)"
      ],
      "id": "2ba45078-534e-4569-a991-95accd3bffb7"
    },
    {
      "cell_type": "code",
      "execution_count": null,
      "metadata": {
        "id": "99aacd9e-be00-40b8-8292-710f9bcffb99"
      },
      "outputs": [],
      "source": [
        "my_model.leaderboard['rmse'].min()"
      ],
      "id": "99aacd9e-be00-40b8-8292-710f9bcffb99"
    },
    {
      "cell_type": "code",
      "execution_count": null,
      "metadata": {
        "id": "b8fef125-2200-4a33-b1f3-bf0c342bd8ed"
      },
      "outputs": [],
      "source": [
        "tmp = h2o.as_list(\n",
        "    my_model.predict(my_frame))\n",
        "\n",
        "pd.DataFrame({\n",
        "    'y': my_data['LPRICE2'],\n",
        "    'y_': tmp['predict']}\n",
        ").plot('y', 'y_', kind='scatter')"
      ],
      "id": "b8fef125-2200-4a33-b1f3-bf0c342bd8ed"
    },
    {
      "cell_type": "code",
      "execution_count": null,
      "metadata": {
        "id": "075b3ec1-30fa-46c1-bb53-2a82c08d54ee"
      },
      "outputs": [],
      "source": [
        "(x_train, y_train), (x_test, y_test) = tf.keras.datasets.mnist.load_data()\n",
        "my_index = sample(range(60000), 6000)\n",
        "x_train = x_train[my_index, :, :]\n",
        "y_train = y_train[my_index]"
      ],
      "id": "075b3ec1-30fa-46c1-bb53-2a82c08d54ee"
    },
    {
      "cell_type": "code",
      "execution_count": null,
      "metadata": {
        "id": "c9aeeeb5-5d3a-4206-a04b-4badd80205cb"
      },
      "outputs": [],
      "source": [
        "tmp = pd.DataFrame(\n",
        "    x_train.reshape(-1, 28 * 28))\n",
        "y = 'y'\n",
        "tmp[y] = y_train\n",
        "my_train = h2o.H2OFrame(tmp)\n",
        "my_train[y] = my_train[y].asfactor()\n",
        "\n",
        "tmp = pd.DataFrame(\n",
        "    x_test.reshape(-1, 28 * 28))\n",
        "my_test = h2o.H2OFrame(tmp)"
      ],
      "id": "c9aeeeb5-5d3a-4206-a04b-4badd80205cb"
    },
    {
      "cell_type": "code",
      "execution_count": null,
      "metadata": {
        "id": "4be7c133-3523-48f9-bf28-93b11d2ec6fa"
      },
      "outputs": [],
      "source": [
        "my_model = H2OAutoML(\n",
        "    max_runtime_secs=120)\n",
        "my_model.train(\n",
        "    y=y,\n",
        "    training_frame=my_train)"
      ],
      "id": "4be7c133-3523-48f9-bf28-93b11d2ec6fa"
    },
    {
      "cell_type": "code",
      "execution_count": null,
      "metadata": {
        "id": "af750bfd-c358-4ff9-8b36-53b5566f8c12"
      },
      "outputs": [],
      "source": [
        "my_model.leaderboard[\n",
        "    'mean_per_class_error'].min()"
      ],
      "id": "af750bfd-c358-4ff9-8b36-53b5566f8c12"
    },
    {
      "cell_type": "code",
      "execution_count": null,
      "metadata": {
        "id": "b9bec57b-30b7-4ff9-abb2-14bdda339e00"
      },
      "outputs": [],
      "source": [
        "tmp = h2o.as_list(\n",
        "    my_model.predict(my_test))\n",
        "y_ = tmp.predict\n",
        "\n",
        "(y_ == y_test).mean()"
      ],
      "id": "b9bec57b-30b7-4ff9-abb2-14bdda339e00"
    },
    {
      "id": "38a5e562",
      "cell_type": "markdown",
      "source": [
        "# 12 時系列予測\n",
        "\n",
        "\n"
      ],
      "metadata": {
        "id": "38a5e562"
      }
    },
    {
      "id": "ad38b231",
      "cell_type": "markdown",
      "source": [
        "## 12.1 日時と日時の列"
      ],
      "metadata": {
        "id": "ad38b231"
      }
    },
    {
      "cell_type": "code",
      "execution_count": null,
      "metadata": {
        "id": "b880fbb6-d20a-4382-9f8e-867a63001e76"
      },
      "outputs": [],
      "source": [
        "import pandas as pd\n",
        "pd.to_datetime('2020-01-01')"
      ],
      "id": "b880fbb6-d20a-4382-9f8e-867a63001e76"
    },
    {
      "cell_type": "code",
      "execution_count": null,
      "metadata": {
        "id": "7e8e991c-7460-4707-a220-af919fe723ea"
      },
      "outputs": [],
      "source": [
        "pd.date_range(start='2021-01-01', end='2023-01-01', freq='1A')\n",
        "\n",
        "pd.date_range(start='2021-01-01', end='2023-01-01', freq='1AS')\n",
        "\n",
        "pd.date_range(start='2021-01-01', end='2021-03-01', freq='2M')\n",
        "\n",
        "pd.date_range(start='2021-01-01', end='2021-03-01', freq='2MS')\n",
        "\n",
        "pd.date_range(start='2021-01-01', end='2021-01-03', freq='1D')\n",
        "\n",
        "pd.date_range(start='2021-01-01 00:00:00', end='2021-01-01 03:00:00', freq='2H')"
      ],
      "id": "7e8e991c-7460-4707-a220-af919fe723ea"
    },
    {
      "id": "e88aa058",
      "cell_type": "markdown",
      "source": [
        "## 12.2 時系列データの予測"
      ],
      "metadata": {
        "id": "e88aa058"
      }
    },
    {
      "cell_type": "code",
      "execution_count": null,
      "metadata": {
        "id": "4372a37d-c2c8-48d5-b4cd-0d60c2327d9a"
      },
      "outputs": [],
      "source": [
        "import matplotlib.pyplot as plt\n",
        "import pandas as pd\n",
        "from pmdarima.datasets import airpassengers\n",
        "from sklearn.metrics import mean_squared_error\n",
        "\n",
        "my_data = airpassengers.load_airpassengers()"
      ],
      "id": "4372a37d-c2c8-48d5-b4cd-0d60c2327d9a"
    },
    {
      "cell_type": "code",
      "execution_count": null,
      "metadata": {
        "id": "e4fb478e-d19c-444f-a0da-12af31038781"
      },
      "outputs": [],
      "source": [
        "n = len(my_data) # データ数（144）\n",
        "k = 108          # 訓練データ数"
      ],
      "id": "e4fb478e-d19c-444f-a0da-12af31038781"
    },
    {
      "cell_type": "code",
      "execution_count": null,
      "metadata": {
        "id": "e887eba8-7e4e-4e66-a7a0-f6a19bec3a6e"
      },
      "outputs": [],
      "source": [
        "my_ds = pd.date_range(\n",
        "    start='1949/01/01',\n",
        "    end='1960/12/01',\n",
        "    freq='MS')\n",
        "my_df = pd.DataFrame({\n",
        "    'ds': my_ds,\n",
        "    'x': range(n),\n",
        "    'y': my_data},\n",
        "    index=my_ds)\n",
        "my_df.head()"
      ],
      "id": "e887eba8-7e4e-4e66-a7a0-f6a19bec3a6e"
    },
    {
      "cell_type": "code",
      "execution_count": null,
      "metadata": {
        "id": "1df951aa-44ca-400f-b05c-db6f6dcc5316"
      },
      "outputs": [],
      "source": [
        "my_train = my_df[        :k]\n",
        "my_test  = my_df[-(n - k): ]\n",
        "y = my_test.y"
      ],
      "id": "1df951aa-44ca-400f-b05c-db6f6dcc5316"
    },
    {
      "cell_type": "code",
      "execution_count": null,
      "metadata": {
        "id": "d86df49e-17b4-4c30-b1e3-ff563a87bd27"
      },
      "outputs": [],
      "source": [
        "plt.plot(my_train.y, label='train')\n",
        "plt.plot(my_test.y,  label='test')\n",
        "plt.legend()"
      ],
      "id": "d86df49e-17b4-4c30-b1e3-ff563a87bd27"
    },
    {
      "cell_type": "code",
      "execution_count": null,
      "metadata": {
        "id": "70d43926-0b53-4f74-b463-e35a7689afc8"
      },
      "outputs": [],
      "source": [
        "from sklearn.linear_model import LinearRegression\n",
        "\n",
        "my_lm_model = LinearRegression()\n",
        "my_lm_model.fit(my_train[['x']], my_train.y)\n",
        "\n",
        "X = my_test[['x']]\n",
        "y_ = my_lm_model.predict(X)\n",
        "mean_squared_error(y, y_)**0.5 # RMSE（テスト）"
      ],
      "id": "70d43926-0b53-4f74-b463-e35a7689afc8"
    },
    {
      "cell_type": "code",
      "execution_count": null,
      "metadata": {
        "id": "513db242-6c5d-49d9-84a5-94701bdc528d"
      },
      "outputs": [],
      "source": [
        "y_ = my_lm_model.predict(my_df[['x']])\n",
        "tmp = pd.DataFrame(y_,\n",
        "                   index=my_df.index)\n",
        "plt.plot(my_train.y, label='train')\n",
        "plt.plot(my_test.y,  label='test')\n",
        "plt.plot(tmp, label='model')\n",
        "plt.legend()"
      ],
      "id": "513db242-6c5d-49d9-84a5-94701bdc528d"
    },
    {
      "cell_type": "code",
      "execution_count": null,
      "metadata": {
        "id": "22b8f7cd-7bd0-4e62-aa51-bdd8d346a3d5"
      },
      "outputs": [],
      "source": [
        "import pmdarima as pm\n",
        "my_arima_model = pm.auto_arima(my_train.y, m=12, trace=True)"
      ],
      "id": "22b8f7cd-7bd0-4e62-aa51-bdd8d346a3d5"
    },
    {
      "cell_type": "code",
      "execution_count": null,
      "metadata": {
        "id": "837da2f9-ea1e-4827-b30c-17ccc8b935be"
      },
      "outputs": [],
      "source": [
        "y_, my_ci = my_arima_model.predict(len(my_test),         # 期間はテストデータと同じ．\n",
        "                                   alpha=0.05,           # 有意水準（デフォルト）\n",
        "                                   return_conf_int=True) # 信頼区間を求める．\n",
        "tmp = pd.DataFrame({'y': y_,\n",
        "                    'Lo': my_ci[:, 0],\n",
        "                    'Hi': my_ci[:, 1]},\n",
        "                   index=my_test.index)\n",
        "tmp.head()"
      ],
      "id": "837da2f9-ea1e-4827-b30c-17ccc8b935be"
    },
    {
      "cell_type": "code",
      "execution_count": null,
      "metadata": {
        "id": "be8a51f9-6460-43a0-839b-d5e1bc0d534e"
      },
      "outputs": [],
      "source": [
        "mean_squared_error(y, y_)**0.5"
      ],
      "id": "be8a51f9-6460-43a0-839b-d5e1bc0d534e"
    },
    {
      "cell_type": "code",
      "execution_count": null,
      "metadata": {
        "id": "c76f90d1-f8a1-4a21-beae-0f5f066a7469"
      },
      "outputs": [],
      "source": [
        "plt.plot(my_train.y, label='train')\n",
        "plt.plot(my_test.y,  label='test')\n",
        "plt.plot(tmp.y,      label='model')\n",
        "plt.fill_between(tmp.index,\n",
        "                 tmp.Lo,\n",
        "                 tmp.Hi,\n",
        "                 alpha=0.25) # 不透明度\n",
        "plt.legend(loc='upper left')"
      ],
      "id": "c76f90d1-f8a1-4a21-beae-0f5f066a7469"
    },
    {
      "cell_type": "code",
      "execution_count": null,
      "metadata": {
        "id": "c77fe03f-b236-4522-8a89-eddd1d6774ac"
      },
      "outputs": [],
      "source": [
        "try: from fbprophet import Prophet\n",
        "except ImportError: from prophet import Prophet\n",
        "my_prophet_model = Prophet(seasonality_mode='multiplicative')\n",
        "my_prophet_model.fit(my_train)"
      ],
      "id": "c77fe03f-b236-4522-8a89-eddd1d6774ac"
    },
    {
      "cell_type": "code",
      "execution_count": null,
      "metadata": {
        "id": "9b24eca9-ba8f-4739-a961-27bd47d92947"
      },
      "outputs": [],
      "source": [
        "tmp = my_prophet_model.predict(my_test)\n",
        "tmp[['ds', 'yhat', 'yhat_lower', 'yhat_upper']].head()"
      ],
      "id": "9b24eca9-ba8f-4739-a961-27bd47d92947"
    },
    {
      "cell_type": "code",
      "execution_count": null,
      "metadata": {
        "id": "050851de-ff30-45ce-9efe-54d43fd85787"
      },
      "outputs": [],
      "source": [
        "y_ = tmp.yhat\n",
        "mean_squared_error(y, y_)**0.5"
      ],
      "id": "050851de-ff30-45ce-9efe-54d43fd85787"
    },
    {
      "cell_type": "code",
      "execution_count": null,
      "metadata": {
        "id": "ffb63bf2-b179-4e0c-96e4-f676792d9ee6"
      },
      "outputs": [],
      "source": [
        "# my_prophet_model.plot(tmp) # 予測結果のみでよい場合\n",
        "\n",
        "fig = my_prophet_model.plot(tmp)\n",
        "fig.axes[0].plot(my_train.ds, my_train.y)\n",
        "fig.axes[0].plot(my_test.ds, my_test.y, color='red')"
      ],
      "id": "ffb63bf2-b179-4e0c-96e4-f676792d9ee6"
    },
    {
      "id": "26505584",
      "cell_type": "markdown",
      "source": [
        "# 13 教師なし学習\n",
        "\n",
        "\n"
      ],
      "metadata": {
        "id": "26505584"
      }
    },
    {
      "id": "68329bc1",
      "cell_type": "markdown",
      "source": [
        "## 13.1 主成分分析"
      ],
      "metadata": {
        "id": "68329bc1"
      }
    },
    {
      "cell_type": "code",
      "execution_count": null,
      "metadata": {
        "id": "5a3e6566-c516-4ff4-af49-e7cff8dcc6bc"
      },
      "outputs": [],
      "source": [
        "import numpy as np\n",
        "import pandas as pd\n",
        "from pca import pca\n",
        "from scipy.stats import zscore\n",
        "\n",
        "my_data = pd.DataFrame(\n",
        "    {'language': [  0,  20,  20,  25,  22,  17],\n",
        "     'english':  [  0,  20,  40,  20,  24,  18],\n",
        "     'math':     [100,  20,   5,  30,  17,  25],\n",
        "     'science':  [  0,  20,   5,  25,  16,  23],\n",
        "     'society':  [  0,  20,  30,   0,  21,  17]},\n",
        "    index=       ['A', 'B', 'C', 'D', 'E', 'F'])\n",
        "my_model = pca(n_components=5)\n",
        "my_result = my_model.fit_transform(my_data) # 主成分分析の実行"
      ],
      "id": "5a3e6566-c516-4ff4-af49-e7cff8dcc6bc"
    },
    {
      "cell_type": "code",
      "execution_count": null,
      "metadata": {
        "id": "532bbb9f-726d-4732-880f-7b5bc9bef337"
      },
      "outputs": [],
      "source": [
        "my_result['PC'] # 主成分スコア"
      ],
      "id": "532bbb9f-726d-4732-880f-7b5bc9bef337"
    },
    {
      "cell_type": "code",
      "execution_count": null,
      "metadata": {
        "id": "d5e832c3-e1f3-4a98-9ac4-bdb03f45e038"
      },
      "outputs": [],
      "source": [
        "my_model.biplot(legend=False)"
      ],
      "id": "d5e832c3-e1f3-4a98-9ac4-bdb03f45e038"
    },
    {
      "cell_type": "code",
      "execution_count": null,
      "metadata": {
        "id": "12cc3df3-ac05-40e3-b8b4-28df92276ce2"
      },
      "outputs": [],
      "source": [
        "my_result['loadings']"
      ],
      "id": "12cc3df3-ac05-40e3-b8b4-28df92276ce2"
    },
    {
      "cell_type": "code",
      "execution_count": null,
      "metadata": {
        "id": "fffd2ffc-f1e6-43be-a015-e33498893293"
      },
      "outputs": [],
      "source": [
        "my_result['explained_var']"
      ],
      "id": "fffd2ffc-f1e6-43be-a015-e33498893293"
    },
    {
      "cell_type": "code",
      "execution_count": null,
      "metadata": {
        "id": "5fa6a1e7-c2c6-4c7b-9aee-e9389bb300fd"
      },
      "outputs": [],
      "source": [
        "tmp = zscore(my_data, ddof=1) # 標準化\n",
        "my_result = my_model.fit_transform(\n",
        "    tmp)\n",
        "my_result['PC'] # 主成分スコア"
      ],
      "id": "5fa6a1e7-c2c6-4c7b-9aee-e9389bb300fd"
    },
    {
      "cell_type": "code",
      "execution_count": null,
      "metadata": {
        "id": "c59cf3da-cc75-443d-9057-f289d8ad6756"
      },
      "outputs": [],
      "source": [
        "tmp = my_data - my_data.mean()\n",
        "Z  = np.matrix(tmp)                       # 標準化しない場合\n",
        "#Z = np.matrix(tmp / my_data.std(ddof=1)) # √不偏分散で標準化する場合\n",
        "#Z = np.matrix(tmp / my_data.std(ddof=0)) # pca(normalize=True)に合わせる場合\n",
        "\n",
        "n = len(my_data)\n",
        "S = np.cov(Z, rowvar=0, ddof=0)      # 分散共分散行列\n",
        "#S = Z.T @ Z / n                     # （同じ結果）\n",
        "vals, vecs = np.linalg.eig(S)        # 固有値と固有ベクトル\n",
        "idx = np.argsort(-vals)              # 固有値の大きい順の番号\n",
        "vals, vecs = vals[idx], vecs[:, idx] # 固有値の大きい順での並べ替え\n",
        "Z @ vecs                             # 主成分スコア（結果は割愛）\n",
        "vals.cumsum() / vals.sum()           # 累積寄与率"
      ],
      "id": "c59cf3da-cc75-443d-9057-f289d8ad6756"
    },
    {
      "cell_type": "code",
      "execution_count": null,
      "metadata": {
        "id": "f05348f0-f7b9-4d5c-ae78-da2f767eb8ee"
      },
      "outputs": [],
      "source": [
        "U, d, V =  np.linalg.svd(Z, full_matrices=False)     # 特異値分解\n",
        "W = np.diag(d)\n",
        "\n",
        "[np.isclose(Z, U @ W @ V).all(),                     # 確認1\n",
        " np.isclose(U.T @ U, np.identity(U.shape[1])).all(), # 確認2\n",
        " np.isclose(V @ V.T, np.identity(V.shape[0])).all()] # 確認3\n",
        "\n",
        "U @ W                # 主成分スコア（結果は割愛）\n",
        "\n",
        "e = d ** 2 / n       # 分散共分散行列の固有値\n",
        "e.cumsum() / e.sum() # 累積寄与率"
      ],
      "id": "f05348f0-f7b9-4d5c-ae78-da2f767eb8ee"
    },
    {
      "id": "23b654b1",
      "cell_type": "markdown",
      "source": [
        "## 13.2 クラスタ分析"
      ],
      "metadata": {
        "id": "23b654b1"
      }
    },
    {
      "cell_type": "code",
      "execution_count": null,
      "metadata": {
        "id": "e224104e-e1d5-4a5b-a0a9-9ffcb9d82a5d"
      },
      "outputs": [],
      "source": [
        "import pandas as pd\n",
        "from scipy.cluster import hierarchy\n",
        "\n",
        "my_data = pd.DataFrame(\n",
        "    {'x': [  0, -16,  10,  10],\n",
        "     'y': [  0,   0,  10, -15]},\n",
        "    index=['A', 'B', 'C', 'D'])\n",
        "\n",
        "my_result = hierarchy.linkage(\n",
        "    my_data,\n",
        "    metric='euclidean', # 省略可\n",
        "    method='complete')"
      ],
      "id": "e224104e-e1d5-4a5b-a0a9-9ffcb9d82a5d"
    },
    {
      "cell_type": "code",
      "execution_count": null,
      "metadata": {
        "id": "20ae91e8-ce2d-434d-8b1d-9e886c54787e"
      },
      "outputs": [],
      "source": [
        "hierarchy.dendrogram(my_result,\n",
        "    labels=my_data.index)"
      ],
      "id": "20ae91e8-ce2d-434d-8b1d-9e886c54787e"
    },
    {
      "cell_type": "code",
      "execution_count": null,
      "metadata": {
        "id": "bb8e4083-41cd-4186-a6e9-7527dc209b70"
      },
      "outputs": [],
      "source": [
        "hierarchy.cut_tree(my_result, 3)\n",
        "\n",
        "# 補足（見やすくする）\n",
        "my_data.assign(cluster=\n",
        "  hierarchy.cut_tree(my_result, 3))"
      ],
      "id": "bb8e4083-41cd-4186-a6e9-7527dc209b70"
    },
    {
      "cell_type": "code",
      "execution_count": null,
      "metadata": {
        "id": "b8a2f260-3284-41dc-81d5-1f3500ff6d9c"
      },
      "outputs": [],
      "source": [
        "import pandas as pd\n",
        "import seaborn as sns\n",
        "\n",
        "my_data = pd.DataFrame(\n",
        "    {'language': [  0,  20,  20,  25,  22,  17],\n",
        "     'english':  [  0,  20,  40,  20,  24,  18],\n",
        "     'math':     [100,  20,   5,  30,  17,  25],\n",
        "     'science':  [  0,  20,   5,  25,  16,  23],\n",
        "     'society':  [  0,  20,  30,   0,  21,  17]},\n",
        "    index=       ['A', 'B', 'C', 'D', 'E', 'F'])\n",
        "\n",
        "sns.clustermap(my_data, z_score=1) # 列ごとの標準化"
      ],
      "id": "b8a2f260-3284-41dc-81d5-1f3500ff6d9c"
    },
    {
      "cell_type": "code",
      "execution_count": null,
      "metadata": {
        "id": "c8f63785-5e82-4044-86e8-78a79078b55e"
      },
      "outputs": [],
      "source": [
        "import pandas as pd\n",
        "from sklearn.cluster import KMeans\n",
        "\n",
        "my_data = pd.DataFrame(\n",
        "    {'x': [  0, -16,  10,  10],\n",
        "     'y': [  0,   0,  10, -15]},\n",
        "    index=['A', 'B', 'C', 'D'])\n",
        "\n",
        "my_result = KMeans(\n",
        "    n_clusters=3).fit(my_data)"
      ],
      "id": "c8f63785-5e82-4044-86e8-78a79078b55e"
    },
    {
      "cell_type": "code",
      "execution_count": null,
      "metadata": {
        "id": "9aa3f1f1-f460-4091-8c44-84f42570be7c"
      },
      "outputs": [],
      "source": [
        "my_result.labels_\n",
        "\n",
        "# 補足（見やすくする）\n",
        "my_data.assign(\n",
        "  cluster=my_result.labels_)"
      ],
      "id": "9aa3f1f1-f460-4091-8c44-84f42570be7c"
    },
    {
      "cell_type": "code",
      "execution_count": null,
      "metadata": {
        "id": "20ceefed-a537-491f-85d6-5f0b4e50fe52"
      },
      "outputs": [],
      "source": [
        "import pandas as pd\n",
        "import statsmodels.api as sm\n",
        "from sklearn.cluster import KMeans\n",
        "\n",
        "iris = sm.datasets.get_rdataset('iris', 'datasets').data\n",
        "my_data = iris.iloc[:, 0:4]\n",
        "\n",
        "k = range(1, 11)\n",
        "my_df = pd.DataFrame({\n",
        "    'k': k,\n",
        "    'inertia': [KMeans(k).fit(my_data).inertia_ for k in range(1, 11)]})\n",
        "my_df.plot(x='k', style='o-', legend=False)"
      ],
      "id": "20ceefed-a537-491f-85d6-5f0b4e50fe52"
    },
    {
      "cell_type": "code",
      "execution_count": null,
      "metadata": {
        "id": "c8c99f26-acaa-4489-8082-0d990f95bf31"
      },
      "outputs": [],
      "source": [
        "import seaborn as sns\n",
        "import statsmodels.api as sm\n",
        "from pca import pca\n",
        "from scipy.cluster import hierarchy\n",
        "from scipy.stats import zscore\n",
        "from sklearn.cluster import KMeans\n",
        "\n",
        "iris = sm.datasets.get_rdataset('iris', 'datasets').data\n",
        "my_data = zscore(iris.iloc[:, 0:4])\n",
        "\n",
        "my_model = pca() # 主成分分析\n",
        "my_result = my_model.fit_transform(my_data)['PC']\n",
        "my_result['Species'] = list(iris.Species)\n",
        "\n",
        "# 非階層的クラスタ分析の場合\n",
        "my_result['cluster'] = KMeans(n_clusters=3).fit(my_data).labels_\n",
        "\n",
        "# 階層的クラスタ分析の場合\n",
        "#my_result['cluster'] = hierarchy.cut_tree(\n",
        "#    hierarchy.linkage(my_data, method='complete'), 3)[:,0]\n",
        "\n",
        "sns.scatterplot(x='PC1', y='PC2', data=my_result, legend=False,\n",
        "                hue='cluster',   # 色でクラスタを表現する．\n",
        "                style='Species', # 形で品種を表現する．\n",
        "                palette='bright')"
      ],
      "id": "c8c99f26-acaa-4489-8082-0d990f95bf31"
    }
  ],
  "nbformat": 4,
  "nbformat_minor": 5,
  "metadata": {
    "kernelspec": {
      "name": "python3",
      "display_name": "Python 3"
    },
    "colab": {
      "provenance": [],
      "toc_visible": true
    }
  }
}