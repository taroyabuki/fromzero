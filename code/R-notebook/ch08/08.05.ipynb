{
 "cells": [
  {
   "cell_type": "markdown",
   "metadata": {},
   "source": [
    "## 8.5 変数選択"
   ]
  },
  {
   "cell_type": "code",
   "execution_count": null,
   "metadata": {},
   "outputs": [],
   "source": [
    "library(caret)\n",
    "library(tidyverse)\n",
    "my_url <- str_c(\"https://raw.githubusercontent.com/taroyabuki\",\n",
    "                \"/fromzero/master/data/wine.csv\")\n",
    "my_data <- read_csv(my_url)\n",
    "n <- nrow(my_data)\n",
    "my_data2 <- my_data %>% mutate(v1 = 0:(n - 1) %% 2,\n",
    "                               v2 = 0:(n - 1) %% 3)"
   ]
  },
  {
   "cell_type": "code",
   "execution_count": null,
   "metadata": {},
   "outputs": [],
   "source": [
    "my_model <- train(form = LPRICE2 ~ .,\n",
    "                  data = my_data2,\n",
    "                  method = \"leapForward\", # 変数増加法\n",
    "                  trControl = trainControl(method = \"LOOCV\"),\n",
    "                  tuneGrid = data.frame(nvmax = 1:6)) # 選択する変数の上限\n",
    "summary(my_model$finalModel)$outmat\n",
    "#>          WRAIN DEGREES HRAIN TIME_SV v1  v2\n",
    "#> 1  ( 1 ) \" \"   \"*\"     \" \"   \" \"     \" \" \" \"\n",
    "#> 2  ( 1 ) \" \"   \"*\"     \"*\"   \" \"     \" \" \" \"\n",
    "#> 3  ( 1 ) \" \"   \"*\"     \"*\"   \"*\"     \" \" \" \"\n",
    "#> 4  ( 1 ) \"*\"   \"*\"     \"*\"   \"*\"     \" \" \" \""
   ]
  }
 ],
 "nbformat": 4,
 "nbformat_minor": 5,
 "metadata": {
  "kernelspec": {
   "name": "ir",
   "display_name": "R"
  }
 }
}
