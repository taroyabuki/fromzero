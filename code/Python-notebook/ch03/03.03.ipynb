{
 "cells": [
  {
   "cell_type": "markdown",
   "metadata": {},
   "source": [
    "## 3.3 コレクション\n",
    "\n",
    "### 3.3.1 1次元データ"
   ]
  },
  {
   "cell_type": "code",
   "execution_count": null,
   "metadata": {},
   "outputs": [],
   "source": [
    "x = ['foo', 'bar', 'baz']"
   ]
  },
  {
   "cell_type": "code",
   "execution_count": null,
   "metadata": {},
   "outputs": [],
   "source": [
    "len(x)\n",
    "#> 3"
   ]
  },
  {
   "cell_type": "code",
   "execution_count": null,
   "metadata": {},
   "outputs": [],
   "source": [
    "x[1]\n",
    "#> 'bar'"
   ]
  },
  {
   "cell_type": "code",
   "execution_count": null,
   "metadata": {},
   "outputs": [],
   "source": [
    "x[1] = 'BAR'\n",
    "x # 結果の確認\n",
    "#> ['foo', 'BAR', 'baz']\n",
    "\n",
    "x[1] = 'bar' # 元に戻す．"
   ]
  },
  {
   "cell_type": "code",
   "execution_count": null,
   "metadata": {},
   "outputs": [],
   "source": [
    "x[-2]\n",
    "#> 'bar'"
   ]
  },
  {
   "cell_type": "code",
   "execution_count": null,
   "metadata": {},
   "outputs": [],
   "source": [
    "x + ['qux']\n",
    "#> ['foo', 'bar', 'baz', 'qux']"
   ]
  },
  {
   "cell_type": "code",
   "execution_count": null,
   "metadata": {},
   "outputs": [],
   "source": [
    "x = x + ['qux']\n",
    "# あるいは\n",
    "#x.append('qux')\n",
    "\n",
    "x # 結果の確認\n",
    "#> ['foo', 'bar', 'baz', 'qux']"
   ]
  },
  {
   "cell_type": "markdown",
   "metadata": {},
   "source": [
    "#### 3.3.1.1 等間隔の数値からなる1次元データ"
   ]
  },
  {
   "cell_type": "code",
   "execution_count": null,
   "metadata": {},
   "outputs": [],
   "source": [
    "list(range(5))\n",
    "#> [0, 1, 2, 3, 4]"
   ]
  },
  {
   "cell_type": "code",
   "execution_count": null,
   "metadata": {},
   "outputs": [],
   "source": [
    "list(range(0, 11, 2))\n",
    "#> [0, 2, 4, 6, 8, 10]"
   ]
  },
  {
   "cell_type": "code",
   "execution_count": null,
   "metadata": {},
   "outputs": [],
   "source": [
    "import numpy as np\n",
    "np.arange(0, 1.1, 0.5)\n",
    "#> array([0. , 0.5, 1. ])"
   ]
  },
  {
   "cell_type": "code",
   "execution_count": null,
   "metadata": {},
   "outputs": [],
   "source": [
    "np.linspace(0, 100, 5)\n",
    "#> array([ 0., 25., 50., 75., 100.])"
   ]
  },
  {
   "cell_type": "code",
   "execution_count": null,
   "metadata": {},
   "outputs": [],
   "source": [
    "[10] * 5\n",
    "#> [10, 10, 10, 10, 10]"
   ]
  },
  {
   "cell_type": "markdown",
   "metadata": {},
   "source": [
    "#### 3.3.1.2 ファクタ（Rのみ）\n",
    "\n",
    "### 3.3.2 数値計算やデータ解析用の1次元データ"
   ]
  },
  {
   "cell_type": "code",
   "execution_count": null,
   "metadata": {},
   "outputs": [],
   "source": [
    "import numpy as np\n",
    "x = np.array([2, 3, 5, 7])\n",
    "\n",
    "x + 10 # 加算\n",
    "#> array([12, 13, 15, 17])\n",
    "\n",
    "x * 10 # 乗算\n",
    "#> array([20, 30, 50, 70])"
   ]
  },
  {
   "cell_type": "code",
   "execution_count": null,
   "metadata": {},
   "outputs": [],
   "source": [
    "x = [2, 3]\n",
    "np.sin(x)\n",
    "#> array([0.90929743, 0.14112001])"
   ]
  },
  {
   "cell_type": "code",
   "execution_count": null,
   "metadata": {},
   "outputs": [],
   "source": [
    "x = np.array([2,  3,   5,    7])\n",
    "y = np.array([1, 10, 100, 1000])\n",
    "x + y\n",
    "#> array([   3,   13,  105, 1007])\n",
    "\n",
    "x * y\n",
    "#> array([   2,   30,  500, 7000])"
   ]
  },
  {
   "cell_type": "code",
   "execution_count": null,
   "metadata": {},
   "outputs": [],
   "source": [
    "np.dot(x, y)\n",
    "# あるいは\n",
    "x @ y\n",
    "\n",
    "#> 7532"
   ]
  },
  {
   "cell_type": "code",
   "execution_count": null,
   "metadata": {},
   "outputs": [],
   "source": [
    "x = np.array([True, False])\n",
    "y = np.array([True, True])\n",
    "x & y\n",
    "#> array([ True, False])"
   ]
  },
  {
   "cell_type": "markdown",
   "metadata": {},
   "source": [
    "#### 3.3.2.1 1次元データ同士の比較"
   ]
  },
  {
   "cell_type": "code",
   "execution_count": null,
   "metadata": {},
   "outputs": [],
   "source": [
    "u = np.array([1, 2, 3])\n",
    "v = np.array([1, 2, 3])\n",
    "w = np.array([1, 2, 4])\n",
    "\n",
    "all(u == v) # 全体の比較\n",
    "#> True\n",
    "\n",
    "all(u == w) # 全体の比較\n",
    "#> False\n",
    "\n",
    "u == v      # 要素ごとの比較\n",
    "#> array([ True,  True,  True])\n",
    "\n",
    "u == w      # 要素ごとの比較\n",
    "#> array([ True,  True, False])"
   ]
  },
  {
   "cell_type": "code",
   "execution_count": null,
   "metadata": {},
   "outputs": [],
   "source": [
    "(u == w).sum()  # 同じ要素の数\n",
    "#> 2\n",
    "\n",
    "(u == w).mean() # 同じ要素の割合\n",
    "#> [1] 0.6666667"
   ]
  },
  {
   "cell_type": "markdown",
   "metadata": {},
   "source": [
    "### 3.3.3 複数種類のデータをひとまとめにする"
   ]
  },
  {
   "cell_type": "code",
   "execution_count": null,
   "metadata": {},
   "outputs": [],
   "source": [
    "x = [1, \"two\"]"
   ]
  },
  {
   "cell_type": "code",
   "execution_count": null,
   "metadata": {},
   "outputs": [],
   "source": [
    "x[1]\n",
    "#> 'two'"
   ]
  },
  {
   "cell_type": "markdown",
   "metadata": {},
   "source": [
    "### 3.3.4 文字列と値のペアのコレクション"
   ]
  },
  {
   "cell_type": "code",
   "execution_count": null,
   "metadata": {},
   "outputs": [],
   "source": [
    "x = {'apple' : 'りんご',\n",
    "     'orange': 'みかん'}"
   ]
  },
  {
   "cell_type": "code",
   "execution_count": null,
   "metadata": {},
   "outputs": [],
   "source": [
    "x['grape'] = 'ぶどう'"
   ]
  },
  {
   "cell_type": "code",
   "execution_count": null,
   "metadata": {},
   "outputs": [],
   "source": [
    "x['apple']\n",
    "# あるいは\n",
    "tmp = 'apple'\n",
    "x[tmp]\n",
    "\n",
    "#> 'りんご'"
   ]
  },
  {
   "cell_type": "markdown",
   "metadata": {},
   "source": [
    "### 3.3.5 補足：コピーと参照"
   ]
  },
  {
   "cell_type": "code",
   "execution_count": null,
   "metadata": {},
   "outputs": [],
   "source": [
    "x = ['foo', 'bar', 'baz']\n",
    "y = x\n",
    "y[1] = 'BAR' # yを更新する．\n",
    "y\n",
    "#> ['foo', 'BAR', 'baz']\n",
    "\n",
    "x            # xも変わる．\n",
    "#> ['foo', 'BAR', 'baz']"
   ]
  },
  {
   "cell_type": "code",
   "execution_count": null,
   "metadata": {},
   "outputs": [],
   "source": [
    "x = ['foo', 'bar', 'baz']\n",
    "y = x.copy()             # 「y = x」とせずに，コピーする．\n",
    "x == y, x is y\n",
    "#> (True, False)         # xとyは，等価（内容は同じ）だが同一ではない．\n",
    "\n",
    "y[1] = 'BAR'             # yを更新しても，\n",
    "x\n",
    "#> ['foo', 'bar', 'baz'] # xは変化しない．"
   ]
  }
 ],
 "nbformat": 4,
 "nbformat_minor": 5,
 "metadata": {
  "kernelspec": {
   "name": "python3",
   "display_name": "Python 3"
  }
 }
}
