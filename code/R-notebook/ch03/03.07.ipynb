{
 "cells": [
  {
   "cell_type": "markdown",
   "metadata": {},
   "source": [
    "## 3.7 反復処理"
   ]
  },
  {
   "cell_type": "code",
   "execution_count": null,
   "metadata": {},
   "outputs": [],
   "source": [
    "library(tidyverse)"
   ]
  },
  {
   "cell_type": "markdown",
   "metadata": {},
   "source": [
    "### 3.7.1 指定した回数→1次元データ"
   ]
  },
  {
   "cell_type": "code",
   "execution_count": null,
   "metadata": {},
   "outputs": [],
   "source": [
    "f1 <- function(x) {\n",
    "  tmp <- runif(x)\n",
    "  mean(tmp)\n",
    "}\n",
    "\n",
    "f1(10)           # 動作確認\n",
    "#> [1] 0.5776604 # 結果の例"
   ]
  },
  {
   "cell_type": "code",
   "execution_count": null,
   "metadata": {},
   "outputs": [],
   "source": [
    "replicate(n = 3, expr = f1(10))\n",
    "#> [1] 0.4672766 0.4712016 0.5579449"
   ]
  },
  {
   "cell_type": "code",
   "execution_count": null,
   "metadata": {},
   "outputs": [],
   "source": [
    "rep(x = f1(10), times = 3)\n",
    "#> [1] 0.481329 0.481329 0.481329"
   ]
  },
  {
   "cell_type": "markdown",
   "metadata": {},
   "source": [
    "### 3.7.2 1次元データ→1次元データ"
   ]
  },
  {
   "cell_type": "code",
   "execution_count": null,
   "metadata": {},
   "outputs": [],
   "source": [
    "v <- c(5, 10, 100)\n",
    "v %>% map_dbl(f1)\n",
    "#> [1] 0.4857329 0.5322183 0.5084124"
   ]
  },
  {
   "cell_type": "code",
   "execution_count": null,
   "metadata": {},
   "outputs": [],
   "source": [
    "rep(x = 10, times = 3) %>% map_dbl(f1)\n",
    "# 結果は割愛"
   ]
  },
  {
   "cell_type": "markdown",
   "metadata": {},
   "source": [
    "### 3.7.3 1次元データ→データフレーム"
   ]
  },
  {
   "cell_type": "code",
   "execution_count": null,
   "metadata": {},
   "outputs": [],
   "source": [
    "f2 <- function(n) {\n",
    "  tmp <- runif(n)\n",
    "  list(x = n,\n",
    "       p = mean(tmp),\n",
    "       q = sd(tmp))\n",
    "}\n",
    "\n",
    "f2(10) # 動作確認\n",
    "#> $x\n",
    "#> [1] 10\n",
    "#>\n",
    "#> $p\n",
    "#> [1] 0.6840032 （平均の例）\n",
    "#>\n",
    "#> $q\n",
    "#> [1] 0.3750788 （標準偏差の例）"
   ]
  },
  {
   "cell_type": "code",
   "execution_count": null,
   "metadata": {},
   "outputs": [],
   "source": [
    "v <- c(5, 10, 100)\n",
    "v %>% map_dfr(f2)\n",
    "#>       x     p     q\n",
    "#>   <dbl> <dbl> <dbl>\n",
    "#> 1     5 0.560 0.320\n",
    "#> 2    10 0.559 0.271\n",
    "#> 3   100 0.507 0.283"
   ]
  },
  {
   "cell_type": "markdown",
   "metadata": {},
   "source": [
    "### 3.7.4 データフレーム→データフレーム"
   ]
  },
  {
   "cell_type": "code",
   "execution_count": null,
   "metadata": {},
   "outputs": [],
   "source": [
    "f3 <- function(x, y) {\n",
    "  tmp <- runif(x, min = 1,\n",
    "                  max = y + 1) %>%\n",
    "    as.integer\n",
    "  list(x = x,\n",
    "       y = y,\n",
    "       p = mean(tmp),\n",
    "       q = sd(tmp))\n",
    "}\n",
    "\n",
    "f3(x = 10, y = 6) # 動作確認\n",
    "#> $x\n",
    "#> [1] 10\n",
    "#>\n",
    "#> $y\n",
    "#> [1] 6\n",
    "#>\n",
    "#> $p\n",
    "#> [1] 3.2 （平均の例）\n",
    "#>\n",
    "#> $q\n",
    "#> [1] 1.316561 （標準偏差の例）"
   ]
  },
  {
   "cell_type": "code",
   "execution_count": null,
   "metadata": {},
   "outputs": [],
   "source": [
    "my_df <- data.frame(\n",
    "  x = c(5, 10, 100,  5, 10, 100),\n",
    "  y = c(6,  6,   6, 12, 12,  12))\n",
    "\n",
    "my_df %>% pmap_dfr(f3)\n",
    "#>       x     y     p     q\n",
    "#>   <dbl> <dbl> <dbl> <dbl>\n",
    "#> 1     5     6  3     1.41\n",
    "#> 2    10     6  3     1.49\n",
    "#> 3   100     6  3.57  1.78\n",
    "#> 4     5    12  7.6   5.22\n",
    "#> 5    10    12  5.7   3.77\n",
    "#> 6   100    12  6.36  3.59"
   ]
  },
  {
   "cell_type": "markdown",
   "metadata": {},
   "source": [
    "### 3.7.5 補足：反復処理の並列化"
   ]
  },
  {
   "cell_type": "code",
   "execution_count": null,
   "metadata": {},
   "outputs": [],
   "source": [
    "library(furrr)\n",
    "plan(multisession) # 準備\n",
    "\n",
    "v <- c(5, 10, 100)\n",
    "v %>% future_map_dbl(f1, .options =\n",
    "  furrr_options(seed = TRUE))\n",
    "# 結果は割愛"
   ]
  }
 ],
 "nbformat": 4,
 "nbformat_minor": 5,
 "metadata": {
  "kernelspec": {
   "name": "ir",
   "display_name": "R"
  }
 }
}
