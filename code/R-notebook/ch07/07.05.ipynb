{
 "cells": [
  {
   "cell_type": "markdown",
   "metadata": {},
   "source": [
    "## 7.5 K最近傍法\n",
    "\n",
    "### 7.5.1 K最近傍法とは何か\n",
    "\n",
    "### 7.5.2 K最近傍法の実践"
   ]
  },
  {
   "cell_type": "code",
   "execution_count": null,
   "metadata": {},
   "outputs": [],
   "source": [
    "# 準備\n",
    "library(caret)\n",
    "library(tidyverse)\n",
    "my_data <- cars\n",
    "\n",
    "# 訓練\n",
    "my_model <- train(form = dist ~ speed, data = my_data, method = \"knn\")\n",
    "\n",
    "# 可視化の準備\n",
    "f <- function(x) { my_model %>% predict(data.frame(speed = x))}"
   ]
  },
  {
   "cell_type": "code",
   "execution_count": null,
   "metadata": {},
   "outputs": [],
   "source": [
    "my_data %>%\n",
    "  ggplot(aes(x = speed,\n",
    "             y = dist,\n",
    "             color = \"data\")) +\n",
    "  geom_point() +\n",
    "  stat_function(\n",
    "    fun = f,\n",
    "    mapping = aes(color = \"model\"))"
   ]
  },
  {
   "cell_type": "code",
   "execution_count": null,
   "metadata": {},
   "outputs": [],
   "source": [
    "y  <- my_data$dist\n",
    "y_ <- my_model %>% predict(my_data)\n",
    "\n",
    "RMSE(y_, y)\n",
    "#> [1] 13.96845 # RMSE\n",
    "\n",
    "R2(pred = y_, obs = y,\n",
    "   form = \"traditional\")\n",
    "#> [1] 0.7001789 # 決定係数1\n",
    "\n",
    "R2(pred = y_, obs = y,\n",
    "   form = \"corr\")\n",
    "#> [1] 0.7017314 # 決定係数6"
   ]
  }
 ],
 "nbformat": 4,
 "nbformat_minor": 5,
 "metadata": {
  "kernelspec": {
   "name": "ir",
   "display_name": "R"
  }
 }
}
