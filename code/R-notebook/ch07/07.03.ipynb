{
 "cells": [
  {
   "cell_type": "markdown",
   "metadata": {},
   "source": [
    "## 7.3 回帰分析\n",
    "\n",
    "### 7.3.1 回帰分析とは何か\n",
    "\n",
    "### 7.3.2 線形単回帰分析"
   ]
  },
  {
   "cell_type": "code",
   "execution_count": null,
   "metadata": {},
   "outputs": [],
   "source": [
    "library(tidyverse)\n",
    "\n",
    "my_data <- cars\n",
    "tmp <- data.frame(speed = 21.5, dist = 67)\n",
    "my_data %>% ggplot(aes(x = speed, y = dist)) +\n",
    "  coord_cartesian(xlim = c(4, 25), ylim = c(0, 120)) +\n",
    "  geom_point() +\n",
    "  stat_smooth(formula = y ~ x, method = \"lm\") +\n",
    "  geom_pointrange(data = tmp, aes(ymin = -9, ymax = dist),  linetype = \"dotted\") +\n",
    "  geom_pointrange(data = tmp, aes(xmin =  0, xmax = speed), linetype = \"dotted\")"
   ]
  },
  {
   "cell_type": "markdown",
   "metadata": {},
   "source": [
    "### 7.3.3 回帰分析の実践\n",
    "\n",
    "#### 7.3.3.1 データの用意"
   ]
  },
  {
   "cell_type": "code",
   "execution_count": null,
   "metadata": {},
   "outputs": [],
   "source": [
    "library(caret)\n",
    "library(tidyverse)\n",
    "my_data <- cars"
   ]
  },
  {
   "cell_type": "markdown",
   "metadata": {},
   "source": [
    "#### 7.3.3.2 訓練"
   ]
  },
  {
   "cell_type": "code",
   "execution_count": null,
   "metadata": {},
   "outputs": [],
   "source": [
    "my_model <- train(form = dist ~ speed, # モデル式（出力変数と入力変数の関係）\n",
    "                  data = my_data,      # データ\n",
    "                  method = \"lm\")       # 手法"
   ]
  },
  {
   "cell_type": "code",
   "execution_count": null,
   "metadata": {},
   "outputs": [],
   "source": [
    "coef(my_model$finalModel)\n",
    "#> (Intercept)       speed\n",
    "#> -17.579095    3.932409"
   ]
  },
  {
   "cell_type": "markdown",
   "metadata": {},
   "source": [
    "#### 7.3.3.3 予測"
   ]
  },
  {
   "cell_type": "code",
   "execution_count": null,
   "metadata": {},
   "outputs": [],
   "source": [
    "tmp <- data.frame(speed = 21.5)\n",
    "my_model %>% predict(tmp)\n",
    "#>        1\n",
    "#> 66.96769"
   ]
  },
  {
   "cell_type": "markdown",
   "metadata": {},
   "source": [
    "#### 7.3.3.4 モデルの可視化"
   ]
  },
  {
   "cell_type": "code",
   "execution_count": null,
   "metadata": {},
   "outputs": [],
   "source": [
    "f <- function(x) { my_model %>% predict(data.frame(speed = x)) }"
   ]
  },
  {
   "cell_type": "code",
   "execution_count": null,
   "metadata": {},
   "outputs": [],
   "source": [
    "my_data %>%\n",
    "  ggplot(aes(x = speed, y = dist,\n",
    "             color = \"data\")) +\n",
    "  geom_point() +\n",
    "  stat_function(\n",
    "    fun = f,\n",
    "    mapping = aes(color = \"model\"))"
   ]
  }
 ],
 "nbformat": 4,
 "nbformat_minor": 5,
 "metadata": {
  "kernelspec": {
   "name": "ir",
   "display_name": "R"
  }
 }
}
