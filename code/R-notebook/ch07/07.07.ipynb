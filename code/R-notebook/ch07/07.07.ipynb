{
 "cells": [
  {
   "cell_type": "markdown",
   "metadata": {},
   "source": [
    "## 7.7 パラメータチューニング"
   ]
  },
  {
   "cell_type": "code",
   "execution_count": null,
   "metadata": {},
   "outputs": [],
   "source": [
    "library(caret)\n",
    "library(tidyverse)\n",
    "my_data <- cars\n",
    "my_model <- train(form = dist ~ speed, data = my_data, method = \"knn\")\n",
    "my_model$results\n",
    "#>   k     RMSE  Rsquared      MAE   RMSESD RsquaredSD    MAESD\n",
    "#> 1 5 15.72114 0.6615765 12.54588 3.013243 0.11043907 2.372245\n",
    "#> 2 7 16.19047 0.6601173 12.68464 3.165330 0.09990158 2.329326\n",
    "#> 3 9 16.30276 0.6556700 12.84811 3.367423 0.09645747 2.471620"
   ]
  },
  {
   "cell_type": "code",
   "execution_count": null,
   "metadata": {},
   "outputs": [],
   "source": [
    "my_params <- expand.grid(k = 1:15)\n",
    "\n",
    "my_model <- train(form = dist ~ speed, data = my_data, method = \"knn\",\n",
    "                  tuneGrid = my_params,\n",
    "                  trControl = trainControl(method = \"LOOCV\"))"
   ]
  },
  {
   "cell_type": "code",
   "execution_count": null,
   "metadata": {},
   "outputs": [],
   "source": [
    "head(my_model$results)\n",
    "#>   k     RMSE  Rsquared      MAE\n",
    "#> 1 1 17.22299 0.5777197 13.84900\n",
    "#> 2 2 16.81462 0.5936438 13.03469\n",
    "#> 3 3 16.32874 0.6218866 12.74524\n",
    "#> 4 4 15.98970 0.6086993 12.27888\n",
    "#> 5 5 15.79924 0.6169267 11.96067\n",
    "#> 6 6 15.98720 0.6079396 12.26667"
   ]
  },
  {
   "cell_type": "code",
   "execution_count": null,
   "metadata": {},
   "outputs": [],
   "source": [
    "ggplot(my_model)"
   ]
  },
  {
   "cell_type": "code",
   "execution_count": null,
   "metadata": {},
   "outputs": [],
   "source": [
    "my_model$bestTune\n",
    "#>   k\n",
    "#> 5 5"
   ]
  },
  {
   "cell_type": "code",
   "execution_count": null,
   "metadata": {},
   "outputs": [],
   "source": [
    "my_model$results %>%\n",
    "  filter(RMSE == min(RMSE))\n",
    "#>   k     RMSE  Rsquared      MAE\n",
    "#> 1 5 15.79924 0.6169267 11.96067"
   ]
  },
  {
   "cell_type": "code",
   "execution_count": null,
   "metadata": {},
   "outputs": [],
   "source": [
    "y  <- my_data$dist\n",
    "y_ <- my_model %>% predict(my_data)\n",
    "RMSE(y_, y)\n",
    "#> [1] 13.96845"
   ]
  },
  {
   "cell_type": "markdown",
   "metadata": {},
   "source": [
    "### 7.7.1 補足：ハイパーパラメータとRMSE（訓練）"
   ]
  },
  {
   "cell_type": "code",
   "execution_count": null,
   "metadata": {},
   "outputs": [],
   "source": [
    "library(caret)\n",
    "library(tidyverse)\n",
    "my_data <- cars\n",
    "\n",
    "my_loocv <- function(k) {\n",
    "  my_model <- train(form = dist ~ speed, data = my_data, method = \"knn\",\n",
    "                    tuneGrid = data.frame(k = k),\n",
    "                    trControl = trainControl(method = \"LOOCV\"))\n",
    "  y  <- my_data$dist\n",
    "  y_ <- my_model %>% predict(my_data)\n",
    "  list(k = k,\n",
    "       training = RMSE(y_, y),             # RMSE（訓練）\n",
    "       validation = my_model$results$RMSE) # RMSE（検証）\n",
    "}\n",
    "\n",
    "my_results <- 1:15 %>% map_dfr(my_loocv)"
   ]
  },
  {
   "cell_type": "code",
   "execution_count": null,
   "metadata": {},
   "outputs": [],
   "source": [
    "my_results %>%\n",
    "  pivot_longer(-k) %>%\n",
    "  ggplot(aes(x = k, y = value,\n",
    "             color = name)) +\n",
    "  geom_line() + geom_point() +\n",
    "  xlab(\"#Neighbors\") + ylab(\"RMSE\") +\n",
    "  theme(legend.position = c(1, 0),\n",
    "        legend.justification = c(1, 0))"
   ]
  }
 ],
 "nbformat": 4,
 "nbformat_minor": 5,
 "metadata": {
  "kernelspec": {
   "name": "ir",
   "display_name": "R"
  }
 }
}
