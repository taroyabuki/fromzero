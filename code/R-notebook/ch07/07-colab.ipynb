{
 "cells": [
  {
   "cell_type": "markdown",
   "metadata": {},
   "source": [
    "# 07"
   ]
  },
  {
   "cell_type": "code",
   "execution_count": null,
   "metadata": {},
   "outputs": [],
   "source": [
    "# Google Colaboratoryの環境設定\n",
    "options(Ncpus = 2)\n",
    "install.packages(c(\"caret\", \"doParallel\", \"pastecs\"))"
   ]
  },
  {
   "cell_type": "markdown",
   "metadata": {},
   "source": [
    "## 7.1 自動車の停止距離\n",
    "\n",
    "## 7.2 データの確認"
   ]
  },
  {
   "cell_type": "code",
   "execution_count": null,
   "metadata": {},
   "outputs": [],
   "source": [
    "library(caret)\n",
    "library(tidyverse)\n",
    "my_data <- cars"
   ]
  },
  {
   "cell_type": "code",
   "execution_count": null,
   "metadata": {},
   "outputs": [],
   "source": [
    "dim(my_data)\n",
    "#> [1] 50  2"
   ]
  },
  {
   "cell_type": "code",
   "execution_count": null,
   "metadata": {},
   "outputs": [],
   "source": [
    "head(my_data)\n",
    "#>   speed dist\n",
    "#> 1     4    2\n",
    "#> 2     4   10\n",
    "#> 3     7    4\n",
    "#> 4     7   22\n",
    "#> 5     8   16\n",
    "#> 6     9   10"
   ]
  },
  {
   "cell_type": "code",
   "execution_count": null,
   "metadata": {},
   "outputs": [],
   "source": [
    "options(digits = 3)\n",
    "pastecs::stat.desc(my_data)\n",
    "#>                speed    dist\n",
    "#> nbr.val       50.000   50.00\n",
    "#> nbr.null       0.000    0.00\n",
    "#> nbr.na         0.000    0.00\n",
    "#> min            4.000    2.00\n",
    "#> max           25.000  120.00\n",
    "#> range         21.000  118.00\n",
    "#> sum          770.000 2149.00\n",
    "#> median        15.000   36.00\n",
    "#> mean          15.400   42.98\n",
    "#> SE.mean        0.748    3.64\n",
    "#> CI.mean.0.95   1.503    7.32\n",
    "#> var           27.959  664.06\n",
    "#> std.dev        5.288   25.77\n",
    "#> coef.var       0.343    0.60"
   ]
  },
  {
   "cell_type": "code",
   "execution_count": null,
   "metadata": {},
   "outputs": [],
   "source": [
    "my_data %>%\n",
    "  ggplot(aes(x = speed, y = dist)) +\n",
    "  geom_point()"
   ]
  },
  {
   "cell_type": "markdown",
   "metadata": {},
   "source": [
    "## 7.3 回帰分析\n",
    "\n",
    "### 7.3.1 回帰分析とは何か\n",
    "\n",
    "### 7.3.2 線形単回帰分析"
   ]
  },
  {
   "cell_type": "code",
   "execution_count": null,
   "metadata": {},
   "outputs": [],
   "source": [
    "library(tidyverse)\n",
    "\n",
    "my_data <- cars\n",
    "tmp <- data.frame(speed = 21.5, dist = 67)\n",
    "my_data %>% ggplot(aes(x = speed, y = dist)) +\n",
    "  coord_cartesian(xlim = c(4, 25), ylim = c(0, 120)) +\n",
    "  geom_point() +\n",
    "  stat_smooth(formula = y ~ x, method = \"lm\") +\n",
    "  geom_pointrange(data = tmp, aes(ymin = -9, ymax = dist),  linetype = \"dotted\") +\n",
    "  geom_pointrange(data = tmp, aes(xmin =  0, xmax = speed), linetype = \"dotted\")"
   ]
  },
  {
   "cell_type": "markdown",
   "metadata": {},
   "source": [
    "### 7.3.3 回帰分析の実践\n",
    "\n",
    "#### 7.3.3.1 データの用意"
   ]
  },
  {
   "cell_type": "code",
   "execution_count": null,
   "metadata": {},
   "outputs": [],
   "source": [
    "library(caret)\n",
    "library(tidyverse)\n",
    "my_data <- cars"
   ]
  },
  {
   "cell_type": "markdown",
   "metadata": {},
   "source": [
    "#### 7.3.3.2 訓練"
   ]
  },
  {
   "cell_type": "code",
   "execution_count": null,
   "metadata": {},
   "outputs": [],
   "source": [
    "my_model <- train(form = dist ~ speed, # モデル式（出力変数と入力変数の関係）\n",
    "                  data = my_data,      # データ\n",
    "                  method = \"lm\")       # 手法"
   ]
  },
  {
   "cell_type": "code",
   "execution_count": null,
   "metadata": {},
   "outputs": [],
   "source": [
    "coef(my_model$finalModel)\n",
    "#> (Intercept)       speed\n",
    "#> -17.579095    3.932409"
   ]
  },
  {
   "cell_type": "markdown",
   "metadata": {},
   "source": [
    "#### 7.3.3.3 予測"
   ]
  },
  {
   "cell_type": "code",
   "execution_count": null,
   "metadata": {},
   "outputs": [],
   "source": [
    "tmp <- data.frame(speed = 21.5)\n",
    "my_model %>% predict(tmp)\n",
    "#>        1\n",
    "#> 66.96769"
   ]
  },
  {
   "cell_type": "markdown",
   "metadata": {},
   "source": [
    "#### 7.3.3.4 モデルの可視化"
   ]
  },
  {
   "cell_type": "code",
   "execution_count": null,
   "metadata": {},
   "outputs": [],
   "source": [
    "f <- function(x) { my_model %>% predict(data.frame(speed = x)) }"
   ]
  },
  {
   "cell_type": "code",
   "execution_count": null,
   "metadata": {},
   "outputs": [],
   "source": [
    "my_data %>%\n",
    "  ggplot(aes(x = speed, y = dist,\n",
    "             color = \"data\")) +\n",
    "  geom_point() +\n",
    "  stat_function(\n",
    "    fun = f,\n",
    "    mapping = aes(color = \"model\"))"
   ]
  },
  {
   "cell_type": "markdown",
   "metadata": {},
   "source": [
    "## 7.4 当てはまりの良さの指標\n",
    "\n",
    "### 7.4.1 RMSE"
   ]
  },
  {
   "cell_type": "code",
   "execution_count": null,
   "metadata": {},
   "outputs": [],
   "source": [
    "library(caret)\n",
    "library(tidyverse)\n",
    "my_data <- cars\n",
    "my_model <- train(form = dist ~ speed, data = my_data, method = \"lm\")\n",
    "\n",
    "y  <- my_data$dist\n",
    "y_ <- my_model %>% predict(my_data)\n",
    "my_data$y_ <- y_"
   ]
  },
  {
   "cell_type": "code",
   "execution_count": null,
   "metadata": {},
   "outputs": [],
   "source": [
    "my_data$residual <- y - y_\n",
    "head(my_data)\n",
    "#>   speed dist        y_  residual\n",
    "#> 1     4    2 -1.849460  3.849460\n",
    "#> 2     4   10 -1.849460 11.849460\n",
    "#> 3     7    4  9.947766 -5.947766\n",
    "#> 4     7   22  9.947766 12.052234\n",
    "#> 5     8   16 13.880175  2.119825\n",
    "#> 6     9   10 17.812584 -7.812584"
   ]
  },
  {
   "cell_type": "code",
   "execution_count": null,
   "metadata": {},
   "outputs": [],
   "source": [
    "my_data %>%\n",
    "  ggplot(aes(x = speed, y = dist)) +\n",
    "  geom_point() +\n",
    "  geom_line(aes(x = speed, y = y_)) +\n",
    "  geom_linerange(mapping = aes(ymin = y_, ymax = dist), linetype = \"dotted\")"
   ]
  },
  {
   "cell_type": "code",
   "execution_count": null,
   "metadata": {},
   "outputs": [],
   "source": [
    "RMSE(y_, y)\n",
    "# あるいは\n",
    "mean((my_data$residual^2))**0.5\n",
    "\n",
    "#> [1] 15.06886"
   ]
  },
  {
   "cell_type": "markdown",
   "metadata": {},
   "source": [
    "### 7.4.2 決定係数"
   ]
  },
  {
   "cell_type": "code",
   "execution_count": null,
   "metadata": {},
   "outputs": [],
   "source": [
    "R2(pred = y_, obs = y,\n",
    "   form = \"traditional\")\n",
    "#> [1] 0.6510794"
   ]
  },
  {
   "cell_type": "code",
   "execution_count": null,
   "metadata": {},
   "outputs": [],
   "source": [
    "R2(pred = y_, obs = y,\n",
    "   form = \"corr\")\n",
    "# あるいは\n",
    "summary(my_model$finalModel)$r.squared\n",
    "#> [1] 0.6510794"
   ]
  },
  {
   "cell_type": "code",
   "execution_count": null,
   "metadata": {},
   "outputs": [],
   "source": [
    "my_test <- my_data[1:3, ]\n",
    "y  <- my_test$dist\n",
    "y_ <- my_model %>% predict(my_test)\n",
    "\n",
    "R2(pred = y_, obs = y,\n",
    "   form = \"traditional\")\n",
    "#> [1] -4.498191  # 決定係数1\n",
    "\n",
    "R2(pred = y_, obs = y,\n",
    "   form = \"corr\")\n",
    "#> [1] 0.07692308 # 決定係数6"
   ]
  },
  {
   "cell_type": "markdown",
   "metadata": {},
   "source": [
    "### 7.4.3 当てはまりの良さの指標の問題点"
   ]
  },
  {
   "cell_type": "code",
   "execution_count": null,
   "metadata": {},
   "outputs": [],
   "source": [
    "library(caret)\n",
    "library(tidyverse)\n",
    "my_data <- cars\n",
    "my_idx <- c(2, 11, 27, 34, 39, 44)\n",
    "my_sample <- my_data[my_idx, ]"
   ]
  },
  {
   "cell_type": "code",
   "execution_count": null,
   "metadata": {},
   "outputs": [],
   "source": [
    "options(warn = -1) # これ以降，警告を表示しない．\n",
    "my_model <- train(form = dist ~ poly(speed, degree = 5, raw = TRUE),\n",
    "                  data = my_sample,\n",
    "                  method = \"lm\")\n",
    "options(warn = 0)  # これ以降，警告を表示する．\n",
    "\n",
    "y  <- my_sample$dist\n",
    "y_ <- my_model %>% predict(my_sample)"
   ]
  },
  {
   "cell_type": "code",
   "execution_count": null,
   "metadata": {},
   "outputs": [],
   "source": [
    "RMSE(y_, y)\n",
    "#> [1] 1.042275e-10 # RMSE\n",
    "\n",
    "R2(pred = y_, obs = y,\n",
    "   form = \"traditional\")\n",
    "#> [1] 1 # 決定係数1\n",
    "\n",
    "R2(pred = y_, obs = y,\n",
    "   form = \"corr\")\n",
    "#> [1] 1 # 決定係数6"
   ]
  },
  {
   "cell_type": "code",
   "execution_count": null,
   "metadata": {},
   "outputs": [],
   "source": [
    "f <- function(x) { my_model %>% predict(data.frame(speed = x)) }\n",
    "\n",
    "my_data %>%\n",
    "  ggplot(aes(x = speed, y = dist, color = \"data\")) +\n",
    "  geom_point() +\n",
    "  geom_point(data = my_sample, mapping = aes(color = \"sample\")) +\n",
    "  stat_function(fun = f, mapping = aes(color = \"model\")) +\n",
    "  coord_cartesian(ylim = c(0, 120))"
   ]
  },
  {
   "cell_type": "markdown",
   "metadata": {},
   "source": [
    "## 7.5 K最近傍法\n",
    "\n",
    "### 7.5.1 K最近傍法とは何か\n",
    "\n",
    "### 7.5.2 K最近傍法の実践"
   ]
  },
  {
   "cell_type": "code",
   "execution_count": null,
   "metadata": {},
   "outputs": [],
   "source": [
    "# 準備\n",
    "library(caret)\n",
    "library(tidyverse)\n",
    "my_data <- cars\n",
    "\n",
    "# 訓練\n",
    "my_model <- train(form = dist ~ speed, data = my_data, method = \"knn\")\n",
    "\n",
    "# 可視化の準備\n",
    "f <- function(x) { my_model %>% predict(data.frame(speed = x))}"
   ]
  },
  {
   "cell_type": "code",
   "execution_count": null,
   "metadata": {},
   "outputs": [],
   "source": [
    "my_data %>%\n",
    "  ggplot(aes(x = speed,\n",
    "             y = dist,\n",
    "             color = \"data\")) +\n",
    "  geom_point() +\n",
    "  stat_function(\n",
    "    fun = f,\n",
    "    mapping = aes(color = \"model\"))"
   ]
  },
  {
   "cell_type": "code",
   "execution_count": null,
   "metadata": {},
   "outputs": [],
   "source": [
    "y  <- my_data$dist\n",
    "y_ <- my_model %>% predict(my_data)\n",
    "\n",
    "RMSE(y_, y)\n",
    "#> [1] 13.96845 # RMSE\n",
    "\n",
    "R2(pred = y_, obs = y,\n",
    "   form = \"traditional\")\n",
    "#> [1] 0.7001789 # 決定係数1\n",
    "\n",
    "R2(pred = y_, obs = y,\n",
    "   form = \"corr\")\n",
    "#> [1] 0.7017314 # 決定係数6"
   ]
  },
  {
   "cell_type": "markdown",
   "metadata": {},
   "source": [
    "## 7.6 検証\n",
    "\n",
    "### 7.6.1 訓練データ・検証データ・テストデータ\n",
    "\n",
    "### 7.6.2 検証とは何か\n",
    "\n",
    "### 7.6.3 検証の実践"
   ]
  },
  {
   "cell_type": "code",
   "execution_count": null,
   "metadata": {},
   "outputs": [],
   "source": [
    "library(caret)\n",
    "library(tidyverse)\n",
    "my_data <- cars\n",
    "my_model <- train(form = dist ~ speed, data = my_data, method = \"lm\")\n",
    "\n",
    "my_model$results\n",
    "#>   intercept    RMSE  Rsquared      MAE   RMSESD RsquaredSD    MAESD\n",
    "#> 1      TRUE 16.0206 0.6662176 12.14701 2.518604 0.09249158 1.920564"
   ]
  },
  {
   "cell_type": "code",
   "execution_count": null,
   "metadata": {},
   "outputs": [],
   "source": [
    "my_model <- train(form = dist ~ speed, data = my_data, method = \"lm\",\n",
    "                  trControl = trainControl(method = \"cv\", number = 5))\n",
    "my_model$results\n",
    "#>   intercept     RMSE  Rsquared      MAE  RMSESD RsquaredSD    MAESD\n",
    "#> 1      TRUE 15.06708 0.6724501 12.12448 4.75811  0.1848932 3.052435"
   ]
  },
  {
   "cell_type": "code",
   "execution_count": null,
   "metadata": {},
   "outputs": [],
   "source": [
    "my_model <- train(form = dist ~ speed, data = my_data, method = \"lm\",\n",
    "                  trControl = trainControl(method = \"LOOCV\"))\n",
    "my_model$results\n",
    "#>   intercept     RMSE  Rsquared      MAE\n",
    "#> 1      TRUE 15.69731 0.6217139 12.05918"
   ]
  },
  {
   "cell_type": "markdown",
   "metadata": {},
   "source": [
    "### 7.6.4 検証の並列化"
   ]
  },
  {
   "cell_type": "code",
   "execution_count": null,
   "metadata": {},
   "outputs": [],
   "source": [
    "library(doParallel)\n",
    "cl <- makeCluster(detectCores())\n",
    "registerDoParallel(cl)"
   ]
  },
  {
   "cell_type": "markdown",
   "metadata": {},
   "source": [
    "### 7.6.5 指標のまとめ\n",
    "\n",
    "#### 7.6.5.1 準備"
   ]
  },
  {
   "cell_type": "code",
   "execution_count": null,
   "metadata": {},
   "outputs": [],
   "source": [
    "library(caret)\n",
    "library(tidyverse)\n",
    "my_data <- cars\n",
    "my_model <- train(form = dist ~ speed, data = my_data, method = \"lm\")\n",
    "y  <- my_data$dist\n",
    "y_ <- my_model %>% predict(my_data)"
   ]
  },
  {
   "cell_type": "markdown",
   "metadata": {},
   "source": [
    "#### 7.6.5.2 当てはまりの良さの指標"
   ]
  },
  {
   "cell_type": "code",
   "execution_count": null,
   "metadata": {},
   "outputs": [],
   "source": [
    "# RMSE（訓練）\n",
    "RMSE(y_, y)\n",
    "#> [1] 15.06886\n",
    "\n",
    "# 決定係数1（訓練）\n",
    "R2(pred = y_, obs = y,\n",
    "   form = \"traditional\")\n",
    "#> [1] 0.6510794\n",
    "\n",
    "# 決定係数6（訓練）\n",
    "R2(pred = y_, obs = y,\n",
    "   form = \"corr\")\n",
    "#> [1] 0.6510794"
   ]
  },
  {
   "cell_type": "code",
   "execution_count": null,
   "metadata": {},
   "outputs": [],
   "source": [
    "postResample(pred = y_, obs = y)\n",
    "#>       RMSE   Rsquared        MAE\n",
    "#> 15.0688560  0.6510794 11.5801191"
   ]
  },
  {
   "cell_type": "markdown",
   "metadata": {},
   "source": [
    "#### 7.6.5.3 予測性能の指標（簡単に求められるもの）"
   ]
  },
  {
   "cell_type": "code",
   "execution_count": null,
   "metadata": {},
   "outputs": [],
   "source": [
    "my_model <- train(form = dist ~ speed, data = my_data, method = \"lm\")\n",
    "my_model$results\n",
    "#>   intercept     RMSE  Rsquared      MAE ...\n",
    "#> 1      TRUE 14.88504 0.6700353 11.59226 ...\n",
    "# 左から，RMSE（検証），決定係数6（検証），MAE（検証）"
   ]
  },
  {
   "cell_type": "markdown",
   "metadata": {},
   "source": [
    "#### 7.6.5.4 予測性能の指標（RとPythonで同じ結果を得る）"
   ]
  },
  {
   "cell_type": "code",
   "execution_count": null,
   "metadata": {},
   "outputs": [],
   "source": [
    "my_model <- train(form = dist ~ speed, data = my_data, method = \"lm\",\n",
    "                  trControl = trainControl(method = \"LOOCV\"))\n",
    "\n",
    "# 方法1\n",
    "my_model$results\n",
    "#>   intercept     RMSE  Rsquared      MAE\n",
    "#> 1      TRUE 15.69731 0.6217139 12.05918\n",
    "\n",
    "# 方法2\n",
    "y  <- my_model$pred$obs\n",
    "y_ <- my_model$pred$pred\n",
    "mean((y - y_)^2)**0.5\n",
    "#> [1] 15.69731"
   ]
  },
  {
   "cell_type": "code",
   "execution_count": null,
   "metadata": {},
   "outputs": [],
   "source": [
    "mean(((y - y_)^2)**0.5)\n",
    "#> [1] 12.05918"
   ]
  },
  {
   "cell_type": "markdown",
   "metadata": {},
   "source": [
    "### 7.6.6 補足：検証による手法の比較"
   ]
  },
  {
   "cell_type": "code",
   "execution_count": null,
   "metadata": {},
   "outputs": [],
   "source": [
    "library(caret)\n",
    "library(tidyverse)\n",
    "my_data <- cars\n",
    "\n",
    "my_lm_model <- train(form = dist ~ speed, data = my_data, method = \"lm\",\n",
    "                     trControl = trainControl(method = \"LOOCV\"))\n",
    "\n",
    "my_knn_model <- train(form = dist ~ speed, data = my_data, method = \"knn\",\n",
    "                      tuneGrid = data.frame(k = 5),\n",
    "                      trControl = trainControl(method = \"LOOCV\"))"
   ]
  },
  {
   "cell_type": "code",
   "execution_count": null,
   "metadata": {},
   "outputs": [],
   "source": [
    "my_lm_model$results$RMSE\n",
    "#> [1] 15.69731 # 線形回帰分析\n",
    "\n",
    "my_knn_model$results$RMSE\n",
    "#> [1] 15.79924 # K最近傍法"
   ]
  },
  {
   "cell_type": "code",
   "execution_count": null,
   "metadata": {},
   "outputs": [],
   "source": [
    "y     <- my_data$dist\n",
    "y_lm  <- my_lm_model$pred$pred\n",
    "y_knn <- my_knn_model$pred$pred\n",
    "\n",
    "my_df <- data.frame(\n",
    "  lm  = (y - y_lm)^2,\n",
    "  knn = (y - y_knn)^2)\n",
    "\n",
    "head(my_df)\n",
    "#>           lm      knn\n",
    "#> 1  18.913720 108.1600\n",
    "#> 2 179.215044   0.6400\n",
    "#> 3  41.034336 175.5625\n",
    "#> 4 168.490212  49.0000\n",
    "#> 5   5.085308   9.0000\n",
    "#> 6  67.615888 112.8906"
   ]
  },
  {
   "cell_type": "code",
   "execution_count": null,
   "metadata": {},
   "outputs": [],
   "source": [
    "boxplot(my_df, ylab = \"r^2\")"
   ]
  },
  {
   "cell_type": "code",
   "execution_count": null,
   "metadata": {},
   "outputs": [],
   "source": [
    "t.test(x = my_df$lm, y = my_df$knn,\n",
    "       conf.level = 0.95,\n",
    "       paired = TRUE,\n",
    "       alternative = \"two.sided\")\n",
    "\n",
    "#>  Paired t-test\n",
    "#>\n",
    "#> data:  my_df$lm and my_df$knn\n",
    "#> t = -0.12838, df = 49, p-value = 0.8984\n",
    "#> alternative hypothesis: true difference in means is not equal to 0\n",
    "#> 95 percent confidence interval:\n",
    "#>  -53.46930  47.04792\n",
    "#> sample estimates:\n",
    "#> mean of the differences\n",
    "#>               -3.210688"
   ]
  },
  {
   "cell_type": "markdown",
   "metadata": {},
   "source": [
    "## 7.7 パラメータチューニング"
   ]
  },
  {
   "cell_type": "code",
   "execution_count": null,
   "metadata": {},
   "outputs": [],
   "source": [
    "library(caret)\n",
    "library(tidyverse)\n",
    "my_data <- cars\n",
    "my_model <- train(form = dist ~ speed, data = my_data, method = \"knn\")\n",
    "my_model$results\n",
    "#>   k     RMSE  Rsquared      MAE   RMSESD RsquaredSD    MAESD\n",
    "#> 1 5 15.72114 0.6615765 12.54588 3.013243 0.11043907 2.372245\n",
    "#> 2 7 16.19047 0.6601173 12.68464 3.165330 0.09990158 2.329326\n",
    "#> 3 9 16.30276 0.6556700 12.84811 3.367423 0.09645747 2.471620"
   ]
  },
  {
   "cell_type": "code",
   "execution_count": null,
   "metadata": {},
   "outputs": [],
   "source": [
    "my_params <- expand.grid(k = 1:15)\n",
    "\n",
    "my_model <- train(form = dist ~ speed, data = my_data, method = \"knn\",\n",
    "                  tuneGrid = my_params,\n",
    "                  trControl = trainControl(method = \"LOOCV\"))"
   ]
  },
  {
   "cell_type": "code",
   "execution_count": null,
   "metadata": {},
   "outputs": [],
   "source": [
    "head(my_model$results)\n",
    "#>   k     RMSE  Rsquared      MAE\n",
    "#> 1 1 17.22299 0.5777197 13.84900\n",
    "#> 2 2 16.81462 0.5936438 13.03469\n",
    "#> 3 3 16.32874 0.6218866 12.74524\n",
    "#> 4 4 15.98970 0.6086993 12.27888\n",
    "#> 5 5 15.79924 0.6169267 11.96067\n",
    "#> 6 6 15.98720 0.6079396 12.26667"
   ]
  },
  {
   "cell_type": "code",
   "execution_count": null,
   "metadata": {},
   "outputs": [],
   "source": [
    "ggplot(my_model)"
   ]
  },
  {
   "cell_type": "code",
   "execution_count": null,
   "metadata": {},
   "outputs": [],
   "source": [
    "my_model$bestTune\n",
    "#>   k\n",
    "#> 5 5"
   ]
  },
  {
   "cell_type": "code",
   "execution_count": null,
   "metadata": {},
   "outputs": [],
   "source": [
    "my_model$results %>%\n",
    "  filter(RMSE == min(RMSE))\n",
    "#>   k     RMSE  Rsquared      MAE\n",
    "#> 1 5 15.79924 0.6169267 11.96067"
   ]
  },
  {
   "cell_type": "code",
   "execution_count": null,
   "metadata": {},
   "outputs": [],
   "source": [
    "y  <- my_data$dist\n",
    "y_ <- my_model %>% predict(my_data)\n",
    "RMSE(y_, y)\n",
    "#> [1] 13.96845"
   ]
  },
  {
   "cell_type": "markdown",
   "metadata": {},
   "source": [
    "### 7.7.1 補足：ハイパーパラメータとRMSE（訓練）"
   ]
  },
  {
   "cell_type": "code",
   "execution_count": null,
   "metadata": {},
   "outputs": [],
   "source": [
    "library(caret)\n",
    "library(tidyverse)\n",
    "my_data <- cars\n",
    "\n",
    "my_loocv <- function(k) {\n",
    "  my_model <- train(form = dist ~ speed, data = my_data, method = \"knn\",\n",
    "                    tuneGrid = data.frame(k = k),\n",
    "                    trControl = trainControl(method = \"LOOCV\"))\n",
    "  y  <- my_data$dist\n",
    "  y_ <- my_model %>% predict(my_data)\n",
    "  list(k = k,\n",
    "       training = RMSE(y_, y),             # RMSE（訓練）\n",
    "       validation = my_model$results$RMSE) # RMSE（検証）\n",
    "}\n",
    "\n",
    "my_results <- 1:15 %>% map_dfr(my_loocv)"
   ]
  },
  {
   "cell_type": "code",
   "execution_count": null,
   "metadata": {},
   "outputs": [],
   "source": [
    "my_results %>%\n",
    "  pivot_longer(-k) %>%\n",
    "  ggplot(aes(x = k, y = value,\n",
    "             color = name)) +\n",
    "  geom_line() + geom_point() +\n",
    "  xlab(\"#Neighbors\") + ylab(\"RMSE\") +\n",
    "  theme(legend.position = c(1, 0),\n",
    "        legend.justification = c(1, 0))"
   ]
  }
 ],
 "nbformat": 4,
 "nbformat_minor": 5,
 "metadata": {
  "kernelspec": {
   "name": "ir",
   "display_name": "R"
  }
 }
}
