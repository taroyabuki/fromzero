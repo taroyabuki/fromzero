{
  "cells": [
    {
      "id": "5f8fb03e",
      "cell_type": "markdown",
      "source": "[\u8fbb\u771f\u543e\u30fb\u77e2\u5439\u592a\u6717\u300e\u30bc\u30ed\u304b\u3089\u306f\u3058\u3081\u308b\u30c7\u30fc\u30bf\u30b5\u30a4\u30a8\u30f3\u30b9\u5165\u9580\u300f\uff08\u8b1b\u8ac7\u793e,\u00a02021\uff09](https://github.com/taroyabuki/fromzero)\n\n\n",
      "metadata": {}
    },
    {
      "id": "2a365362",
      "cell_type": "markdown",
      "source": "## 4.1 \u8a18\u8ff0\u7d71\u8a08",
      "metadata": {}
    },
    {
      "cell_type": "code",
      "execution_count": null,
      "metadata": {},
      "outputs": [],
      "source": [
        "import numpy as np\n",
        "import pandas as pd\n",
        "\n",
        "x = [165, 170, 175, 180, 185]\n",
        "np.mean(x) # \u30ea\u30b9\u30c8\u306e\u5834\u5408\n",
        "\n",
        "x = np.array( # \u30a2\u30ec\u30a4\n",
        "    [165, 170, 175, 180, 185])\n",
        "x.mean() # np.mean(x)\u3082\u53ef\n",
        "\n",
        "x = pd.Series( # \u30b7\u30ea\u30fc\u30ba\n",
        "    [165, 170, 175, 180, 185])\n",
        "x.mean() # np.mean(x)\u3082\u53ef"
      ],
      "id": "e4bbf40f-8d9a-4a91-91ae-7b7537c69bda"
    },
    {
      "cell_type": "code",
      "execution_count": null,
      "metadata": {},
      "outputs": [],
      "source": [
        "n = len(x) # \u30b5\u30f3\u30d7\u30eb\u30b5\u30a4\u30ba\n",
        "sum(x) / n"
      ],
      "id": "fa7f1f1b-e9ec-4fc4-a9a8-d87b02dbc2db"
    },
    {
      "cell_type": "code",
      "execution_count": null,
      "metadata": {},
      "outputs": [],
      "source": [
        "y = [173, 174, 175, 176, 177]\n",
        "np.mean(y)"
      ],
      "id": "ee02b38a-8968-491a-9bf0-5cc0afa3f894"
    },
    {
      "cell_type": "code",
      "execution_count": null,
      "metadata": {},
      "outputs": [],
      "source": [
        "np.var(x, ddof=1) # x\u306e\u5206\u6563\n",
        "\n",
        "np.var(y, ddof=1) # y\u306e\u5206\u6563"
      ],
      "id": "42facf81-a5bc-4525-bad0-e86315e20407"
    },
    {
      "cell_type": "code",
      "execution_count": null,
      "metadata": {},
      "outputs": [],
      "source": [
        "sum((x - np.mean(x))**2) / (n - 1)"
      ],
      "id": "ddcaaba4-488b-43ab-a045-f41c2337406b"
    },
    {
      "cell_type": "code",
      "execution_count": null,
      "metadata": {},
      "outputs": [],
      "source": [
        "np.std(x, ddof=1) # x\u306e\u6a19\u6e96\u504f\u5dee\n",
        "\n",
        "np.std(y, ddof=1) # y\u306e\u6a19\u6e96\u504f\u5dee"
      ],
      "id": "f19b39af-a211-4f38-a83f-1023a74307cb"
    },
    {
      "cell_type": "code",
      "execution_count": null,
      "metadata": {},
      "outputs": [],
      "source": [
        "np.var(x, ddof=1)**0.5 # x\u306e\u6a19\u6e96\u504f\u5dee"
      ],
      "id": "7ec60162-9206-4b2d-8e52-fce66769e65a"
    },
    {
      "cell_type": "code",
      "execution_count": null,
      "metadata": {},
      "outputs": [],
      "source": [
        "s = pd.Series(x)\n",
        "s.describe()"
      ],
      "id": "8592ef95-26fb-434e-a5b4-06c09ae17c6b"
    },
    {
      "cell_type": "code",
      "execution_count": null,
      "metadata": {},
      "outputs": [],
      "source": [
        "# s.describe()\u3067\u8a08\u7b97\u6e08\u307f"
      ],
      "id": "f9aa3ea5-145b-4d6e-b26e-a56cd18b0813"
    },
    {
      "cell_type": "code",
      "execution_count": null,
      "metadata": {},
      "outputs": [],
      "source": [
        "x = [165, 170, 175, 180, 185]\n",
        "\n",
        "np.var(x, ddof=1) # \u4e0d\u504f\u5206\u6563\n",
        "\n",
        "np.var(x, ddof=0) # \u6a19\u672c\u5206\u6563"
      ],
      "id": "906bde36-4465-453c-b33b-4d247d929a5a"
    },
    {
      "cell_type": "code",
      "execution_count": null,
      "metadata": {},
      "outputs": [],
      "source": [
        "np.std(x, ddof=1) # \u221a\u4e0d\u504f\u5206\u6563\n",
        "\n",
        "np.std(x, ddof=0) # \u221a\u6a19\u672c\u5206\u6563"
      ],
      "id": "37c95c22-d736-4412-bbbf-056f3c82b3ae"
    },
    {
      "cell_type": "code",
      "execution_count": null,
      "metadata": {},
      "outputs": [],
      "source": [
        "np.std(x, ddof=1) / len(x)**0.5"
      ],
      "id": "1f826a97-cdae-48e0-8b66-713c81a4b63a"
    },
    {
      "cell_type": "code",
      "execution_count": null,
      "metadata": {},
      "outputs": [],
      "source": [
        "import numpy as np\n",
        "import pandas as pd\n",
        "\n",
        "my_df = pd.DataFrame({\n",
        "    'name':    ['A', 'B', 'C', 'D'],\n",
        "    'english': [ 60,  90,  70,  90],\n",
        "    'math':    [ 70,  80,  90, 100],\n",
        "    'gender':  ['f', 'm', 'm', 'f']})"
      ],
      "id": "f0bf8cea-2067-4235-91ea-7f5d9aaf8e2d"
    },
    {
      "cell_type": "code",
      "execution_count": null,
      "metadata": {},
      "outputs": [],
      "source": [
        "my_df['english'].var(ddof=1)\n",
        "# \u3042\u308b\u3044\u306f\n",
        "np.var(my_df['english'], ddof=1)\n"
      ],
      "id": "18362c75-921e-45d6-a211-3617bbd0d255"
    },
    {
      "cell_type": "code",
      "execution_count": null,
      "metadata": {},
      "outputs": [],
      "source": [
        "my_df.var()\n",
        "# \u3042\u308b\u3044\u306f\n",
        "my_df.apply('var')\n",
        "# \u3042\u308b\u3044\u306f\n",
        "my_df.iloc[:, [1, 2]].apply(\n",
        "    lambda x: np.var(x, ddof=1))\n"
      ],
      "id": "2fbdd1fb-c2d3-4ade-b585-4c74d5009725"
    },
    {
      "cell_type": "code",
      "execution_count": null,
      "metadata": {},
      "outputs": [],
      "source": [
        "my_df.describe()"
      ],
      "id": "24e4ca47-7f86-4339-addd-3fec38dfdd31"
    },
    {
      "cell_type": "code",
      "execution_count": null,
      "metadata": {},
      "outputs": [],
      "source": [
        "from collections import Counter\n",
        "Counter(my_df.gender)\n",
        "\n",
        "# \u3042\u308b\u3044\u306f\n",
        "\n",
        "my_df.groupby('gender').apply(len)"
      ],
      "id": "51ed5b6b-e7ef-44e5-9ba3-f77030d7d584"
    },
    {
      "cell_type": "code",
      "execution_count": null,
      "metadata": {},
      "outputs": [],
      "source": [
        "my_df2 = my_df.assign(\n",
        "    excel=my_df.math >= 80)\n",
        "pd.crosstab(my_df2.gender,\n",
        "            my_df2.excel)"
      ],
      "id": "faa17059-e702-443a-b542-2b0859042ced"
    },
    {
      "cell_type": "code",
      "execution_count": null,
      "metadata": {},
      "outputs": [],
      "source": [
        "my_df.groupby('gender').mean()\n",
        "# \u3042\u308b\u3044\u306f\n",
        "my_df.groupby('gender').agg('mean')\n",
        "# \u3042\u308b\u3044\u306f\n",
        "my_df.groupby('gender').agg(np.mean)\n"
      ],
      "id": "7a6a8544-6a47-43bf-b4d8-f22099ef5539"
    },
    {
      "id": "5006e87e",
      "cell_type": "markdown",
      "source": "## 4.2 \u30c7\u30fc\u30bf\u306e\u53ef\u8996\u5316",
      "metadata": {}
    },
    {
      "cell_type": "code",
      "execution_count": null,
      "metadata": {},
      "outputs": [],
      "source": [
        "import numpy as np\n",
        "import pandas as pd\n",
        "import statsmodels.api as sm\n",
        "iris = sm.datasets.get_rdataset('iris', 'datasets').data\n",
        "iris.head()"
      ],
      "id": "fe204e1c-2700-45d8-aca7-c9afba652f40"
    },
    {
      "cell_type": "code",
      "execution_count": null,
      "metadata": {},
      "outputs": [],
      "source": [
        "iris.hist('Sepal.Length')"
      ],
      "id": "c491098a-91fd-4de7-b855-826ea18e873a"
    },
    {
      "cell_type": "code",
      "execution_count": null,
      "metadata": {},
      "outputs": [],
      "source": [
        "my_df = pd.DataFrame(\n",
        "    {'x': [10, 20, 30]})\n",
        "my_df.hist('x', bins=2) # \u968e\u7d1a\u6570\u306f2"
      ],
      "id": "712bf2c7-fe81-4640-8f98-520b8febb174"
    },
    {
      "cell_type": "code",
      "execution_count": null,
      "metadata": {},
      "outputs": [],
      "source": [
        "x = iris['Sepal.Length']\n",
        "tmp = np.linspace(min(x), max(x), 10)\n",
        "iris.hist('Sepal.Length',\n",
        "          bins=tmp.round(2))"
      ],
      "id": "08d1f068-391a-4bc5-b48b-15ff127b36f9"
    },
    {
      "cell_type": "code",
      "execution_count": null,
      "metadata": {},
      "outputs": [],
      "source": [
        "iris.plot('Sepal.Length',\n",
        "          'Sepal.Width',\n",
        "          kind='scatter')"
      ],
      "id": "9e0cedfd-e9a8-47aa-9f18-02943408db62"
    },
    {
      "cell_type": "code",
      "execution_count": null,
      "metadata": {},
      "outputs": [],
      "source": [
        "iris.boxplot()"
      ],
      "id": "201be043-cd48-4275-8292-1b3eb2489689"
    },
    {
      "cell_type": "code",
      "execution_count": null,
      "metadata": {},
      "outputs": [],
      "source": [
        "pd.options.display.float_format = (\n",
        "    '{:.2f}'.format)\n",
        "my_df = (iris.describe().transpose()\n",
        "    [['mean', 'std']])\n",
        "my_df['se'] = (my_df['std'] /\n",
        "               len(iris)**0.5)\n",
        "my_df"
      ],
      "id": "9b241b1a-3789-4d9b-8bfb-a5c5ee912eb0"
    },
    {
      "cell_type": "code",
      "execution_count": null,
      "metadata": {},
      "outputs": [],
      "source": [
        "my_df.plot(y='mean', kind='bar', yerr='se', capsize=10)"
      ],
      "id": "3b1a714b-273a-4d74-a8cc-f9666cbd7533"
    },
    {
      "cell_type": "code",
      "execution_count": null,
      "metadata": {},
      "outputs": [],
      "source": [
        "my_group = iris.groupby('Species')                    # \u54c1\u7a2e\u3054\u3068\u306b\uff0c\n",
        "my_df = my_group.agg('mean')                          # \u5404\u5909\u6570\u306e\uff0c\u5e73\u5747\u3068\n",
        "my_se = my_group.agg(lambda x: x.std() / len(x)**0.5) # \u6a19\u6e96\u8aa4\u5dee\u3092\u6c42\u3081\u308b\uff0e\n",
        "my_se"
      ],
      "id": "86e01a8c-69b0-4428-9cc9-9432c058887f"
    },
    {
      "cell_type": "code",
      "execution_count": null,
      "metadata": {},
      "outputs": [],
      "source": [
        "my_group.agg('mean').plot(kind='bar', yerr=my_se, capsize=5)"
      ],
      "id": "1184e616-d6c8-4682-bbfb-97ffbeab1096"
    },
    {
      "cell_type": "code",
      "execution_count": null,
      "metadata": {},
      "outputs": [],
      "source": [
        "from statsmodels.graphics.mosaicplot \\\n",
        "    import mosaic\n",
        "\n",
        "my_df = pd.DataFrame({\n",
        "    'Species': iris.Species,\n",
        "    'w_Sepal': iris['Sepal.Width'] > 3})\n",
        "\n",
        "my_table = pd.crosstab( # \u5206\u5272\u8868\n",
        "    my_df['Species'],\n",
        "    my_df['w_Sepal'])\n",
        "my_table\n",
        "\n",
        "mosaic(my_df,\n",
        "       index=['Species', 'w_Sepal'])"
      ],
      "id": "96b38ac0-4874-4df4-961f-3add3427c367"
    },
    {
      "cell_type": "code",
      "execution_count": null,
      "metadata": {},
      "outputs": [],
      "source": [
        "my_table.columns = [str(x) for x in my_table.columns]\n",
        "my_table.index   = [str(x) for x in my_table.index]\n",
        "mosaic(my_df, index=['Species', 'w_Sepal'], labelizer=lambda k: my_table.loc[k])"
      ],
      "id": "47db7fa6-cf2e-4a98-a78b-7b1ba12f4168"
    },
    {
      "cell_type": "code",
      "execution_count": null,
      "metadata": {},
      "outputs": [],
      "source": [
        "import matplotlib.pyplot as plt\n",
        "import numpy as np\n",
        "\n",
        "x = np.linspace(-2, 2, 100)\n",
        "y = x**3 - x\n",
        "plt.plot(x, y)"
      ],
      "id": "26050df6-c81b-40ec-898f-ce1f6660ab60"
    },
    {
      "id": "6eb754aa",
      "cell_type": "markdown",
      "source": "## 4.3 \u4e71\u6570",
      "metadata": {}
    },
    {
      "cell_type": "code",
      "execution_count": null,
      "metadata": {},
      "outputs": [],
      "source": [
        "import matplotlib.pyplot as plt\n",
        "import numpy as np\n",
        "rng = np.random.default_rng()"
      ],
      "id": "322768e2-b62a-4454-bdb7-b27b757f31af"
    },
    {
      "cell_type": "code",
      "execution_count": null,
      "metadata": {},
      "outputs": [],
      "source": [
        "x = np.random.choice(\n",
        "    a=range(1, 7), # 1\u304b\u30896\n",
        "    size=10000,    # \u4e71\u6570\u306e\u6570\n",
        "    replace=True)  # \u91cd\u8907\u3042\u308a\n",
        "# \u3042\u308b\u3044\u306f\n",
        "x = np.random.randint(\n",
        "# \u3042\u308b\u3044\u306f\n",
        "#x = rng.integers(\n",
        "    low=1,      # \u6700\u5c0f\n",
        "    high=7,     # \u6700\u5927+1\n",
        "    size=10000) # \u4e71\u6570\u306e\u6570\n",
        "\n",
        "plt.hist(x, bins=6) # \u30d2\u30b9\u30c8\u30b0\u30e9\u30e0"
      ],
      "id": "35784622-40e4-4853-b8e4-f0e615a4993c"
    },
    {
      "cell_type": "code",
      "execution_count": null,
      "metadata": {},
      "outputs": [],
      "source": [
        "x = np.random.random(size=1000)\n",
        "# \u3042\u308b\u3044\u306f\n",
        "x = rng.random(size=10000)\n",
        "# \u3042\u308b\u3044\u306f\n",
        "x = np.random.uniform(\n",
        "    low=0,     # \u6700\u5c0f\n",
        "    high=1,    # \u6700\u5927\n",
        "    size=1000) # \u4e71\u6570\u306e\u6570\n",
        "plt.hist(x)"
      ],
      "id": "ff07da40-3255-469e-9bdb-93d5479f14f0"
    },
    {
      "cell_type": "code",
      "execution_count": null,
      "metadata": {},
      "outputs": [],
      "source": [
        "tmp = np.random.uniform(\n",
        "    low=1,     # \u6700\u5c0f\n",
        "    high=7,    # \u6700\u5927 + 1\n",
        "    size=1000) # \u4e71\u6570\u306e\u6570\n",
        "x = [int(k) for k in tmp]\n",
        "plt.hist(x, bins=6) # \u7d50\u679c\u306f\u5272\u611b"
      ],
      "id": "c6174d84-e540-4f6d-86a4-5bf8f05fa947"
    },
    {
      "cell_type": "code",
      "execution_count": null,
      "metadata": {},
      "outputs": [],
      "source": [
        "n = 100\n",
        "p = 0.5\n",
        "r = 10000\n",
        "x = np.random.binomial(\n",
        "# \u3042\u308b\u3044\u306f\n",
        "#x = rng.binomial(\n",
        "    n=n,    # \u8a66\u884c\u56de\u6570\n",
        "    p=p,    # \u78ba\u7387\n",
        "    size=r) # \u4e71\u6570\u306e\u6570\n",
        "plt.hist(x, bins=max(x) - min(x))"
      ],
      "id": "fac1fbe9-c053-4e0e-8e06-0867694e6002"
    },
    {
      "cell_type": "code",
      "execution_count": null,
      "metadata": {},
      "outputs": [],
      "source": [
        "r = 10000\n",
        "x = np.random.normal(\n",
        "# \u3042\u308b\u3044\u306f\n",
        "#x = rng.normal(\n",
        "    loc=50,  # \u5e73\u5747\n",
        "    scale=5, # \u6a19\u6e96\u504f\u5dee\n",
        "    size=r)  # \u4e71\u6570\u306e\u6570\n",
        "plt.hist(x, bins=40)"
      ],
      "id": "9a0458e2-2df7-40de-b85a-b792b51d9716"
    },
    {
      "cell_type": "code",
      "execution_count": null,
      "metadata": {},
      "outputs": [],
      "source": [
        "import numpy as np\n",
        "import pandas as pd\n",
        "\n",
        "def f(k):\n",
        "    n = 10000\n",
        "    tmp = [g(np.random.normal(size=k, scale=3)) for _ in range(n)]\n",
        "    return pd.Series([k,\n",
        "                      np.mean(tmp),                  # \u5e73\u5747\n",
        "                      np.std(tmp, ddof=1) / n**0.5], # \u6a19\u6e96\u8aa4\u5dee\n",
        "                     index=['k', 'mean', 'se'])"
      ],
      "id": "194f5b5e-4d0c-4d2b-9aac-399b1b0ce00b"
    },
    {
      "cell_type": "code",
      "execution_count": null,
      "metadata": {},
      "outputs": [],
      "source": [
        "def g(x):\n",
        "    return np.var(x, ddof=1)\n",
        "pd.Series([10, 20, 30]).apply(f)"
      ],
      "id": "5429e689-6913-422d-bfa3-e7e5936e4f49"
    },
    {
      "cell_type": "code",
      "execution_count": null,
      "metadata": {},
      "outputs": [],
      "source": [
        "def g(x):\n",
        "    return np.std(x, ddof=1)\n",
        "pd.Series([10, 20, 30]).apply(f)"
      ],
      "id": "8d8fb82a-7356-4e6e-8438-c2055b78d362"
    },
    {
      "cell_type": "code",
      "execution_count": null,
      "metadata": {},
      "outputs": [],
      "source": [
        "from math import gamma\n",
        "\n",
        "def g(x):\n",
        "    n = len(x)\n",
        "    return (np.std(x, ddof=1) *\n",
        "            (np.sqrt((n - 1) / 2) *\n",
        "             gamma((n - 1) / 2) /\n",
        "             gamma(n / 2)))\n",
        "pd.Series([10, 20, 30]).apply(f)"
      ],
      "id": "b54f12bd-77b3-4ccd-a56c-130c6d2a2be5"
    },
    {
      "id": "5d61b645",
      "cell_type": "markdown",
      "source": "## 4.4 \u7d71\u8a08\u7684\u63a8\u6e2c",
      "metadata": {}
    },
    {
      "cell_type": "code",
      "execution_count": null,
      "metadata": {},
      "outputs": [],
      "source": [
        "from statsmodels.stats.proportion import binom_test, proportion_confint\n",
        "\n",
        "binom_test(count=2,                 # \u5f53\u305f\u3063\u305f\u56de\u6570\n",
        "           nobs=15,                 # \u304f\u3058\u3092\u5f15\u3044\u305f\u56de\u6570\n",
        "           prop=4 / 10,             # \u5f53\u305f\u308b\u78ba\u7387\uff08\u4eee\u8aac\uff09\n",
        "           alternative='two-sided') # \u4e21\u5074\u691c\u5b9a\uff08\u30c7\u30d5\u30a9\u30eb\u30c8\uff09\n",
        "                                    # \u5de6\u7247\u5074\u691c\u5b9a\u306a\u3089'smaller'\n",
        "                                    # \u53f3\u7247\u5074\u691c\u5b9a\u306a\u3089'larger'"
      ],
      "id": "1efe08a9-8f40-4dfb-a351-8c9d13e53d45"
    },
    {
      "cell_type": "code",
      "execution_count": null,
      "metadata": {},
      "outputs": [],
      "source": [
        "import numpy as np\n",
        "import pandas as pd\n",
        "from scipy import stats\n",
        "\n",
        "t = 4 / 10                        # \u5f53\u305f\u308b\u78ba\u7387\n",
        "n = 15                            # \u304f\u3058\u3092\u5f15\u3044\u305f\u56de\u6570\n",
        "x = np.array(range(0, n + 1))     # \u5f53\u305f\u3063\u305f\u56de\u6570\n",
        "my_pr  = stats.binom.pmf(x, n, t) # x\u56de\u5f53\u305f\u308b\u78ba\u7387\n",
        "my_pr2 = stats.binom.pmf(2, n, t) # 2\u56de\u5f53\u305f\u308b\u78ba\u7387\n",
        "\n",
        "my_data = pd.DataFrame({'x': x, 'y1': my_pr, 'y2': my_pr})\n",
        "my_data.loc[my_pr >  my_pr2, 'y1'] = np.nan # \u5f53\u305f\u308b\u78ba\u7387\u304c\uff0c2\u56de\u5f53\u305f\u308b\u78ba\u7387\u8d85\u904e\n",
        "my_data.loc[my_pr <= my_pr2, 'y2'] = np.nan # \u5f53\u305f\u308b\u78ba\u7387\u304c\uff0c2\u56de\u5f53\u305f\u308b\u78ba\u7387\u4ee5\u4e0b\n",
        "ax = my_data.plot(x='x', style='o', ylabel='probability',\n",
        "                  legend=False)         # \u51e1\u4f8b\u3092\u8868\u793a\u3057\u306a\u3044\uff0e\n",
        "ax.hlines(y=my_pr2, xmin=0, xmax=15)    # \u6c34\u5e73\u7dda\n",
        "ax.vlines(x=x,      ymin=0, ymax=my_pr) # \u5782\u76f4\u7dda"
      ],
      "id": "3ea64a21-8188-4463-9bdb-827e89883656"
    },
    {
      "cell_type": "code",
      "execution_count": null,
      "metadata": {},
      "outputs": [],
      "source": [
        "a = 0.05\n",
        "proportion_confint(\n",
        "    count=2, # \u5f53\u305f\u3063\u305f\u56de\u6570\n",
        "    nobs=15, # \u304f\u3058\u3092\u5f15\u3044\u305f\u56de\u6570\n",
        "    alpha=a, # \u6709\u610f\u6c34\u6e96\uff08\u7701\u7565\u53ef\uff09\n",
        "    method='binom_test')"
      ],
      "id": "79d61da5-9c38-4310-9934-55dcb29d3c21"
    },
    {
      "cell_type": "code",
      "execution_count": null,
      "metadata": {},
      "outputs": [],
      "source": [
        "a = 0.05 # \u6709\u610f\u6c34\u6e96\n",
        "tmp = np.linspace(0, 1, 100)\n",
        "\n",
        "my_df = pd.DataFrame({\n",
        "    't': tmp,                                                  # \u5f53\u305f\u308b\u78ba\u7387\n",
        "    'q': a,                                                    # \u6c34\u5e73\u7dda\n",
        "    'p': [binom_test(count=2, nobs=15, prop=t) for t in tmp]}) # p\u5024\n",
        "\n",
        "my_df.plot(x='t', legend=None, xlabel=r'$\\theta$', ylabel=r'p-value')"
      ],
      "id": "a808ccff-d85e-4ed0-866b-746ffd1a7d6a"
    },
    {
      "cell_type": "code",
      "execution_count": null,
      "metadata": {},
      "outputs": [],
      "source": [
        "from statsmodels.stats.weightstats import CompareMeans, DescrStatsW\n",
        "\n",
        "X = [32.1, 26.2, 27.5, 31.8, 32.1, 31.2, 30.1, 32.4, 32.3, 29.9,\n",
        "     29.6, 26.6, 31.2, 30.9, 29.3]\n",
        "Y = [35.4, 34.6, 31.1, 32.4, 33.3, 34.7, 35.3, 34.3, 32.1, 28.3,\n",
        "     33.3, 30.5, 32.6, 33.3, 32.2]\n",
        "\n",
        "a = 0.05          # \u6709\u610f\u6c34\u6e96\uff08\u30c7\u30d5\u30a9\u30eb\u30c8\uff09 = 1 - \u4fe1\u983c\u4fc2\u6570\n",
        "alt = 'two-sided' # \u4e21\u5074\u691c\u5b9a\uff08\u30c7\u30d5\u30a9\u30eb\u30c8\uff09\n",
        "                  # \u5de6\u7247\u5074\u691c\u5b9a\u306a\u3089'smaller'\n",
        "                  # \u53f3\u7247\u5074\u691c\u5b9a\u306a\u3089'larger'\n",
        "\n",
        "d = DescrStatsW(np.array(X) - np.array(Y)) # \u5bfe\u6a19\u672c\u306e\u5834\u5408\n",
        "d.ttest_mean(alternative=alt)[1]           # p\u5024\n",
        "\n",
        "d.tconfint_mean(alpha=a, alternative=alt) # \u4fe1\u983c\u533a\u9593"
      ],
      "id": "52fb2829-544a-4f05-b929-8c7ac1b99e6a"
    },
    {
      "cell_type": "code",
      "execution_count": null,
      "metadata": {},
      "outputs": [],
      "source": [
        "c = CompareMeans(DescrStatsW(X), DescrStatsW(Y)) # \u5bfe\u6a19\u672c\u3067\u306a\u3044\u5834\u5408\n",
        "\n",
        "ve = 'pooled' # \u7b49\u5206\u6563\u3092\u4eee\u5b9a\u3059\u308b\uff08\u30c7\u30d5\u30a9\u30eb\u30c8\uff09\uff0e\u4eee\u5b9a\u3057\u306a\u3044\u306a\u3089'unequal'\uff0e\n",
        "c.ttest_ind(alternative=alt, usevar=ve)[1] # p\u5024\n",
        "\n",
        "c.tconfint_diff(alpha=a, alternative=alt, usevar=ve) # \u4fe1\u983c\u533a\u9593"
      ],
      "id": "d32041fe-8bfc-4293-95d0-bae53bcdb4f4"
    },
    {
      "cell_type": "code",
      "execution_count": null,
      "metadata": {},
      "outputs": [],
      "source": [
        "import pandas as pd\n",
        "my_url = ('https://raw.githubusercontent.com/taroyabuki'\n",
        "          '/fromzero/master/data/smoker.csv')\n",
        "my_data = pd.read_csv(my_url)"
      ],
      "id": "e4c749fa-4f1f-4536-acb7-5f9eae7fb3e2"
    },
    {
      "cell_type": "code",
      "execution_count": null,
      "metadata": {},
      "outputs": [],
      "source": [
        "my_data.head()"
      ],
      "id": "f713abbe-f1f8-44ab-b690-fdada406fbfe"
    },
    {
      "cell_type": "code",
      "execution_count": null,
      "metadata": {},
      "outputs": [],
      "source": [
        "my_table = pd.crosstab(\n",
        "    my_data['alive'],\n",
        "    my_data['smoker'])\n",
        "my_table"
      ],
      "id": "e2606a42-fb5b-4f4a-8066-c46d4c61f017"
    },
    {
      "cell_type": "code",
      "execution_count": null,
      "metadata": {},
      "outputs": [],
      "source": [
        "from scipy.stats import chi2_contingency\n",
        "chi2_contingency(my_table, correction=False)[1]"
      ],
      "id": "ab651d70-6ce3-4623-845f-9838bcb4f398"
    },
    {
      "cell_type": "code",
      "execution_count": null,
      "metadata": {},
      "outputs": [],
      "source": [
        "X = [0] * 13 + [1] * 2 # \u624b\u98061\n",
        "X\n",
        "\n",
        "tmp = np.random.choice(X, 15, replace=True) # \u624b\u98062\n",
        "tmp\n",
        "\n",
        "sum(tmp) # \u624b\u98063\n",
        "\n",
        "n = 10**5\n",
        "result = [sum(np.random.choice(X, len(X), replace=True)) for _ in range(n)] # \u624b\u98064"
      ],
      "id": "bc659567-4de9-464a-bb10-f828600ec519"
    },
    {
      "cell_type": "code",
      "execution_count": null,
      "metadata": {},
      "outputs": [],
      "source": [
        "import matplotlib.pyplot as plt\n",
        "plt.hist(result, bins=range(0, 16))"
      ],
      "id": "763881f1-ddd4-4a7a-9980-3ca398bd1bc9"
    },
    {
      "cell_type": "code",
      "execution_count": null,
      "metadata": {},
      "outputs": [],
      "source": [
        "np.quantile(result, [0.025, 0.975])"
      ],
      "id": "3828f5eb-2419-4abb-a1bc-b5e1fe44289d"
    }
  ],
  "nbformat": 4,
  "nbformat_minor": 5,
  "metadata": {
    "kernelspec": {
      "name": "python3",
      "display_name": "Python 3"
    }
  }
}