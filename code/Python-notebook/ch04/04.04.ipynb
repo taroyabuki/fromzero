{
 "cells": [
  {
   "cell_type": "markdown",
   "metadata": {},
   "source": [
    "## 4.4 統計的推測\n",
    "\n",
    "### 4.4.1 検定"
   ]
  },
  {
   "cell_type": "code",
   "execution_count": null,
   "metadata": {},
   "outputs": [],
   "source": [
    "from statsmodels.stats.proportion import binom_test, proportion_confint\n",
    "\n",
    "binom_test(count=2,                 # 当たった回数\n",
    "           nobs=15,                 # くじを引いた回数\n",
    "           prop=4 / 10,             # 当たる確率（仮説）\n",
    "           alternative='two-sided') # 両側検定（デフォルト）\n",
    "                                    # 左片側検定なら'smaller'\n",
    "                                    # 右片側検定なら'larger'\n",
    "#> 0.03646166155263999"
   ]
  },
  {
   "cell_type": "markdown",
   "metadata": {},
   "source": [
    "#### 4.4.1.1 補足：p値とは何か"
   ]
  },
  {
   "cell_type": "code",
   "execution_count": null,
   "metadata": {},
   "outputs": [],
   "source": [
    "import numpy as np\n",
    "import pandas as pd\n",
    "from scipy import stats\n",
    "\n",
    "t = 4 / 10                        # 当たる確率\n",
    "n = 15                            # くじを引いた回数\n",
    "x = np.array(range(0, n + 1))     # 当たった回数\n",
    "my_pr  = stats.binom.pmf(x, n, t) # x回当たる確率\n",
    "my_pr2 = stats.binom.pmf(2, n, t) # 2回当たる確率\n",
    "\n",
    "my_data = pd.DataFrame({'x': x, 'y1': my_pr, 'y2': my_pr})\n",
    "my_data.loc[my_pr >  my_pr2, 'y1'] = np.nan # 当たる確率が，2回当たる確率超過\n",
    "my_data.loc[my_pr <= my_pr2, 'y2'] = np.nan # 当たる確率が，2回当たる確率以下\n",
    "ax = my_data.plot(x='x', style='o', ylabel='probability',\n",
    "                  legend=False)         # 凡例を表示しない．\n",
    "ax.hlines(y=my_pr2, xmin=0, xmax=15)    # 水平線\n",
    "ax.vlines(x=x,      ymin=0, ymax=my_pr) # 垂直線"
   ]
  },
  {
   "cell_type": "markdown",
   "metadata": {},
   "source": [
    "### 4.4.2 推定"
   ]
  },
  {
   "cell_type": "code",
   "execution_count": null,
   "metadata": {},
   "outputs": [],
   "source": [
    "a = 0.05\n",
    "proportion_confint(\n",
    "    count=2, # 当たった回数\n",
    "    nobs=15, # くじを引いた回数\n",
    "    alpha=a, # 有意水準（省略可）\n",
    "    method='binom_test')\n",
    "#> (0.024225732468536626,\n",
    "#>  0.3967139842509865)"
   ]
  },
  {
   "cell_type": "code",
   "execution_count": null,
   "metadata": {},
   "outputs": [],
   "source": [
    "a = 0.05 # 有意水準\n",
    "tmp = np.linspace(0, 1, 100)\n",
    "\n",
    "my_df = pd.DataFrame({\n",
    "    't': tmp,                                                  # 当たる確率\n",
    "    'q': a,                                                    # 水平線\n",
    "    'p': [binom_test(count=2, nobs=15, prop=t) for t in tmp]}) # p値\n",
    "\n",
    "my_df.plot(x='t', legend=None, xlabel=r'$\\theta$', ylabel=r'p-value')"
   ]
  },
  {
   "cell_type": "markdown",
   "metadata": {},
   "source": [
    "### 4.4.3 平均の差の検定と推定（t検定）"
   ]
  },
  {
   "cell_type": "code",
   "execution_count": null,
   "metadata": {},
   "outputs": [],
   "source": [
    "from statsmodels.stats.weightstats import CompareMeans, DescrStatsW\n",
    "\n",
    "X = [32.1, 26.2, 27.5, 31.8, 32.1, 31.2, 30.1, 32.4, 32.3, 29.9,\n",
    "     29.6, 26.6, 31.2, 30.9, 29.3]\n",
    "Y = [35.4, 34.6, 31.1, 32.4, 33.3, 34.7, 35.3, 34.3, 32.1, 28.3,\n",
    "     33.3, 30.5, 32.6, 33.3, 32.2]\n",
    "\n",
    "a = 0.05          # 有意水準（デフォルト） = 1 - 信頼係数\n",
    "alt = 'two-sided' # 両側検定（デフォルト）\n",
    "                  # 左片側検定なら'smaller'\n",
    "                  # 右片側検定なら'larger'\n",
    "\n",
    "d = DescrStatsW(np.array(X) - np.array(Y)) # 対標本の場合\n",
    "d.ttest_mean(alternative=alt)[1]           # p値\n",
    "#> 0.0006415571512322235\n",
    "\n",
    "d.tconfint_mean(alpha=a, alternative=alt) # 信頼区間\n",
    "#> (-3.9955246743198867, -1.3644753256801117)"
   ]
  },
  {
   "cell_type": "code",
   "execution_count": null,
   "metadata": {},
   "outputs": [],
   "source": [
    "c = CompareMeans(DescrStatsW(X), DescrStatsW(Y)) # 対標本でない場合\n",
    "\n",
    "ve = 'pooled' # 等分散を仮定する（デフォルト）．仮定しないなら'unequal'．\n",
    "c.ttest_ind(alternative=alt, usevar=ve)[1] # p値\n",
    "#> 0.000978530937238609\n",
    "\n",
    "c.tconfint_diff(alpha=a, alternative=alt, usevar=ve) # 信頼区間\n",
    "#> (-4.170905570517185, -1.1890944294828283)"
   ]
  },
  {
   "cell_type": "markdown",
   "metadata": {},
   "source": [
    "### 4.4.4 独立性の検定（カイ2乗検定）"
   ]
  },
  {
   "cell_type": "code",
   "execution_count": null,
   "metadata": {},
   "outputs": [],
   "source": [
    "import pandas as pd\n",
    "my_url = ('https://raw.githubusercontent.com/taroyabuki'\n",
    "          '/fromzero/master/data/smoker.csv')\n",
    "my_data = pd.read_csv(my_url)"
   ]
  },
  {
   "cell_type": "code",
   "execution_count": null,
   "metadata": {},
   "outputs": [],
   "source": [
    "my_data.head()\n",
    "#>   alive smoker\n",
    "#> 0   Yes     No\n",
    "#> 1   Yes     No\n",
    "#> 2   Yes     No\n",
    "#> 3   Yes     No\n",
    "#> 4   Yes     No"
   ]
  },
  {
   "cell_type": "code",
   "execution_count": null,
   "metadata": {},
   "outputs": [],
   "source": [
    "my_table = pd.crosstab(\n",
    "    my_data['alive'],\n",
    "    my_data['smoker'])\n",
    "my_table\n",
    "#> smoker   No  Yes\n",
    "#> alive\n",
    "#> No      117   54\n",
    "#> Yes     950  348"
   ]
  },
  {
   "cell_type": "code",
   "execution_count": null,
   "metadata": {},
   "outputs": [],
   "source": [
    "from scipy.stats import chi2_contingency\n",
    "chi2_contingency(my_table, correction=False)[1]\n",
    "#> 0.18860725715300422"
   ]
  },
  {
   "cell_type": "markdown",
   "metadata": {},
   "source": [
    "### 4.4.5 ブートストラップ\n",
    "\n",
    "#### 4.4.5.1 15回引いて2回当たったくじ"
   ]
  },
  {
   "cell_type": "code",
   "execution_count": null,
   "metadata": {},
   "outputs": [],
   "source": [
    "X = [0] * 13 + [1] * 2 # 手順1\n",
    "X\n",
    "#> [0, 0, 0, 0, 0, 0, 0, 0, 0, 0, 0, 0, 0, 1, 1]\n",
    "\n",
    "tmp = np.random.choice(X, 15, replace=True) # 手順2\n",
    "tmp\n",
    "#> array([0, 0, 0, 0, 0, 0, 0, 1, 0, 0, 0, 0, 1, 0, 0])\n",
    "\n",
    "sum(tmp) # 手順3\n",
    "#> 2\n",
    "\n",
    "n = 10**5\n",
    "result = [sum(np.random.choice(X, len(X), replace=True)) for _ in range(n)] # 手順4"
   ]
  },
  {
   "cell_type": "code",
   "execution_count": null,
   "metadata": {},
   "outputs": [],
   "source": [
    "import matplotlib.pyplot as plt\n",
    "plt.hist(result, bins=range(0, 16))"
   ]
  },
  {
   "cell_type": "code",
   "execution_count": null,
   "metadata": {},
   "outputs": [],
   "source": [
    "np.quantile(result, [0.025, 0.975])\n",
    "#> array([0., 5.])"
   ]
  }
 ],
 "nbformat": 4,
 "nbformat_minor": 5,
 "metadata": {
  "kernelspec": {
   "name": "python3",
   "display_name": "Python 3"
  }
 }
}
