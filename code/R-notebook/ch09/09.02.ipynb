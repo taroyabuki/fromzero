{
 "cells": [
  {
   "cell_type": "markdown",
   "metadata": {},
   "source": [
    "## 9.2 木による分類\n",
    "\n",
    "### 9.2.1 分類木の作成と利用"
   ]
  },
  {
   "cell_type": "code",
   "execution_count": null,
   "metadata": {},
   "outputs": [],
   "source": [
    "library(caret)\n",
    "library(tidyverse)\n",
    "my_data <- iris\n",
    "my_model <- train(form = Species ~ ., data = my_data, method = \"rpart\")"
   ]
  },
  {
   "cell_type": "code",
   "execution_count": null,
   "metadata": {},
   "outputs": [],
   "source": [
    "rpart.plot::rpart.plot(my_model$finalModel, extra = 1)"
   ]
  },
  {
   "cell_type": "code",
   "execution_count": null,
   "metadata": {},
   "outputs": [],
   "source": [
    "my_test <- tribble(\n",
    "~Sepal.Length, ~Sepal.Width, ~Petal.Length, ~Petal.Width,\n",
    "          5.0,          3.5,           1.5,          0.5,\n",
    "          6.5,          3.0,           5.0,          2.0)\n",
    "\n",
    "my_model %>% predict(my_test)\n",
    "#> [1] setosa    virginica\n",
    "#> Levels: setosa versicolor virginica"
   ]
  },
  {
   "cell_type": "code",
   "execution_count": null,
   "metadata": {},
   "outputs": [],
   "source": [
    "my_model %>% predict(my_test,\n",
    "                     type = \"prob\")\n",
    "#>   setosa versicolor virginica\n",
    "#> 1      1 0.00000000 0.0000000\n",
    "#> 2      0 0.02173913 0.9782609"
   ]
  }
 ],
 "nbformat": 4,
 "nbformat_minor": 5,
 "metadata": {
  "kernelspec": {
   "name": "ir",
   "display_name": "R"
  }
 }
}
