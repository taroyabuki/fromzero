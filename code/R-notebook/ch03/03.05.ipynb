{
 "cells": [
  {
   "cell_type": "markdown",
   "metadata": {},
   "source": [
    "## 3.5 1次元データの（非）類似度\n",
    "\n",
    "### 3.5.1 ユークリッド距離"
   ]
  },
  {
   "cell_type": "code",
   "execution_count": null,
   "metadata": {},
   "outputs": [],
   "source": [
    "A <- c(3,   4,  5)\n",
    "B <- c(3,   4, 29)\n",
    "C <- c(9, -18,  8)\n",
    "AB <- B - A\n",
    "AC <- C - A\n",
    "\n",
    "sum(AB^2)^0.5\n",
    "#> [1] 24\n",
    "\n",
    "sum(AC^2)^0.5\n",
    "#> [1] 23"
   ]
  },
  {
   "cell_type": "markdown",
   "metadata": {},
   "source": [
    "### 3.5.2 マンハッタン距離"
   ]
  },
  {
   "cell_type": "code",
   "execution_count": null,
   "metadata": {},
   "outputs": [],
   "source": [
    "sum(abs(AB))\n",
    "#> [1] 24\n",
    "\n",
    "sum(abs(AC))\n",
    "#> [1] 31"
   ]
  },
  {
   "cell_type": "markdown",
   "metadata": {},
   "source": [
    "### 3.5.3 コサイン類似度"
   ]
  },
  {
   "cell_type": "code",
   "execution_count": null,
   "metadata": {},
   "outputs": [],
   "source": [
    "sum(A * B) /\n",
    "  sum(A * A)^0.5 / sum(B * B)^0.5\n",
    "#> [1] 0.8169679\n",
    "\n",
    "sum(A * C) /\n",
    "  sum(A * A)^0.5 / sum(C * C)^0.5\n",
    "#> [1] -0.03265116"
   ]
  },
  {
   "cell_type": "markdown",
   "metadata": {},
   "source": [
    "### 3.5.4 相関係数"
   ]
  },
  {
   "cell_type": "code",
   "execution_count": null,
   "metadata": {},
   "outputs": [],
   "source": [
    "cor(A, B)\n",
    "#> [1] 0.8824975\n",
    "\n",
    "cor(A, C)\n",
    "#> [1] -0.03266277"
   ]
  },
  {
   "cell_type": "markdown",
   "metadata": {},
   "source": [
    "#### 3.5.4.1 データフレームを使う方法"
   ]
  },
  {
   "cell_type": "code",
   "execution_count": null,
   "metadata": {},
   "outputs": [],
   "source": [
    "library(tidyverse)\n",
    "\n",
    "\n",
    "\n",
    "my_df <- data.frame(\n",
    "  x = c(3,  3,   9),\n",
    "  y = c(4,  4, -18),\n",
    "  z = c(5, 29,   8),\n",
    "  row.names = c(\"A\", \"B\", \"C\"))\n",
    "\n",
    "# ユークリッド距離\n",
    "my_df %>% proxy::dist(\"Euclidean\")\n",
    "#>    A  B\n",
    "#> B 24\n",
    "#> C 23 31\n",
    "\n",
    "\n",
    "# マンハッタン距離\n",
    "my_df %>% proxy::dist(\"Manhattan\")\n",
    "#>    A  B\n",
    "#> B 24\n",
    "#> C 31 49\n",
    "\n",
    "\n",
    "# コサイン類似度\n",
    "my_df %>% proxy::simil(\"cosine\")\n",
    "#>             A           B\n",
    "#> B  0.81696786\n",
    "#> C -0.03265116  0.29342441\n",
    "\n",
    "\n",
    "# 相関係数\n",
    "my_df %>% proxy::simil(\"correlation\")\n",
    "#>             A           B\n",
    "#> B  0.88249750\n",
    "#> C -0.03266277  0.44124132"
   ]
  }
 ],
 "nbformat": 4,
 "nbformat_minor": 5,
 "metadata": {
  "kernelspec": {
   "name": "ir",
   "display_name": "R"
  }
 }
}
