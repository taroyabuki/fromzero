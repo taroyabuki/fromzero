{
  "cells": [
    {
      "id": "307b3ac2",
      "cell_type": "markdown",
      "source": "[\u8fbb\u771f\u543e\u30fb\u77e2\u5439\u592a\u6717\u300e\u30bc\u30ed\u304b\u3089\u306f\u3058\u3081\u308b\u30c7\u30fc\u30bf\u30b5\u30a4\u30a8\u30f3\u30b9\u5165\u9580\u300f\uff08\u8b1b\u8ac7\u793e,\u00a02021\uff09](https://github.com/taroyabuki/fromzero)",
      "metadata": {}
    },
    {
      "cell_type": "code",
      "execution_count": null,
      "metadata": {},
      "outputs": [],
      "source": [
        "# Google Colaboratory\u306e\u74b0\u5883\u8a2d\u5b9a\n",
        "import os\n",
        "if 'COLAB_GPU' in os.environ:\n",
        "  !python -m pip install pandarallel | tail -n 1"
      ],
      "id": "12c13d86-beaf-4d7b-9071-2e2e10ad153a"
    },
    {
      "id": "a77f27d4",
      "cell_type": "markdown",
      "source": "## 3.1 \u5165\u9580",
      "metadata": {}
    },
    {
      "cell_type": "code",
      "execution_count": null,
      "metadata": {},
      "outputs": [],
      "source": [
        "0x10"
      ],
      "id": "c208e28a-1622-4824-ae6e-4ddf039824e4"
    },
    {
      "cell_type": "code",
      "execution_count": null,
      "metadata": {},
      "outputs": [],
      "source": [
        "1.23e5"
      ],
      "id": "05a4c802-94cf-4d3b-88d1-69f8b7f4dd15"
    },
    {
      "cell_type": "code",
      "execution_count": null,
      "metadata": {},
      "outputs": [],
      "source": [
        "2 * 3"
      ],
      "id": "6b7d86ea-3916-46a0-92ad-564ef5163bdd"
    },
    {
      "cell_type": "code",
      "execution_count": null,
      "metadata": {},
      "outputs": [],
      "source": [
        "10 / 3"
      ],
      "id": "1f1414f4-d79e-43bb-8071-ad05da660e77"
    },
    {
      "cell_type": "code",
      "execution_count": null,
      "metadata": {},
      "outputs": [],
      "source": [
        "10 // 3 # \u5546\n",
        "\n",
        "10 % 3  # \u4f59\u308a"
      ],
      "id": "58286d3b-9ead-45fe-b434-c2417b3e6302"
    },
    {
      "cell_type": "code",
      "execution_count": null,
      "metadata": {},
      "outputs": [],
      "source": [
        "x = 2\n",
        "y = 3\n",
        "x * y\n",
        "\n",
        "x, y = 20, 30 # \u307e\u3068\u3081\u3066\u540d\u4ed8\u3051\n",
        "x * y"
      ],
      "id": "8ccc8a18-0a35-47e4-9e02-a6f4d1ca3c36"
    },
    {
      "cell_type": "code",
      "execution_count": null,
      "metadata": {},
      "outputs": [],
      "source": [
        "x = 1 + 1\n",
        "# \u3053\u306e\u6bb5\u968e\u3067\u306f\u7d50\u679c\u306f\u8868\u793a\u3055\u308c\u306a\u3044\n",
        "\n",
        "x # \u5909\u6570\u540d\u3092\u8a55\u4fa1\u3059\u308b\uff0e"
      ],
      "id": "092911f3-3585-4411-a5f3-58568a8c5942"
    },
    {
      "cell_type": "code",
      "execution_count": null,
      "metadata": {},
      "outputs": [],
      "source": [
        "my_s = 'abcde'"
      ],
      "id": "221c1889-b480-4c72-92b0-8106fa439ece"
    },
    {
      "cell_type": "code",
      "execution_count": null,
      "metadata": {},
      "outputs": [],
      "source": [
        "len(my_s)"
      ],
      "id": "4ef4931d-5bda-4540-9ae5-53ccc7495e7c"
    },
    {
      "cell_type": "code",
      "execution_count": null,
      "metadata": {},
      "outputs": [],
      "source": [
        "'This is' ' a' ' pen.'\n",
        "# \u3042\u308b\u3044\u306f\n",
        "'This is ' + 'a' + ' pen.'"
      ],
      "id": "1481daa3-0936-4af9-98a8-cc7a789df74d"
    },
    {
      "cell_type": "code",
      "execution_count": null,
      "metadata": {},
      "outputs": [],
      "source": [
        "my_s[1:4]"
      ],
      "id": "2378beaa-e2aa-4ba2-9a07-82149093de26"
    },
    {
      "cell_type": "code",
      "execution_count": null,
      "metadata": {},
      "outputs": [],
      "source": [
        "tmp = \"{} is {}.\"\n",
        "tmp.format('This', 'a pen')"
      ],
      "id": "5a7d3992-c8e6-42ce-b237-a06de0830735"
    },
    {
      "cell_type": "code",
      "execution_count": null,
      "metadata": {},
      "outputs": [],
      "source": [
        "1 <= 2\n",
        "\n",
        "1 < 0"
      ],
      "id": "9e3166a5-b4de-45f0-abd1-429339431d39"
    },
    {
      "cell_type": "code",
      "execution_count": null,
      "metadata": {},
      "outputs": [],
      "source": [
        "0.1 + 0.1 + 0.1 == 0.3\n",
        "\n",
        "import math\n",
        "math.isclose(0.1 + 0.1 + 0.1, 0.3)"
      ],
      "id": "d0726b08-7b03-4fcf-9a49-c8269056a0c5"
    },
    {
      "cell_type": "code",
      "execution_count": null,
      "metadata": {},
      "outputs": [],
      "source": [
        "True and False # \u8ad6\u7406\u7a4d\uff08\u304b\u3064\uff09\n",
        "\n",
        "True or False  # \u8ad6\u7406\u548c\uff08\u307e\u305f\u306f\uff09\n",
        "\n",
        "not True       # \u5426\u5b9a\uff08\u3067\u306a\u3044\uff09"
      ],
      "id": "b2eb210c-5e0c-4184-a368-3559cb171190"
    },
    {
      "cell_type": "code",
      "execution_count": null,
      "metadata": {},
      "outputs": [],
      "source": [
        "0 if 3 < 5 else 10"
      ],
      "id": "ba52590c-9c32-466b-bc7f-3f08efd00c91"
    },
    {
      "cell_type": "code",
      "execution_count": null,
      "metadata": {},
      "outputs": [],
      "source": [
        "import os\n",
        "os.getcwd()"
      ],
      "id": "fd70ae1a-0c73-4d52-a6d1-7b1ba6b0f71e"
    },
    {
      "cell_type": "code",
      "execution_count": null,
      "metadata": {},
      "outputs": [],
      "source": [
        "os.chdir('..')\n",
        "os.getcwd()"
      ],
      "id": "f69857ac-e146-4a0f-bc5b-f7ce341d2b20"
    },
    {
      "id": "e2159a36",
      "cell_type": "markdown",
      "source": "## 3.2 \u95a2\u6570",
      "metadata": {}
    },
    {
      "cell_type": "code",
      "execution_count": null,
      "metadata": {},
      "outputs": [],
      "source": [
        "import math\n",
        "math.sqrt(4)"
      ],
      "id": "9207c291-824b-4e10-9f15-dc6cd5ef6aad"
    },
    {
      "cell_type": "code",
      "execution_count": null,
      "metadata": {},
      "outputs": [],
      "source": [
        "math.log(100, 10)"
      ],
      "id": "7bf4ca8a-da15-46df-9064-7978bc20d2c7"
    },
    {
      "cell_type": "code",
      "execution_count": null,
      "metadata": {},
      "outputs": [],
      "source": [
        "math.log(100)         # \u81ea\u7136\u5bfe\u6570\n",
        "# \u3042\u308b\u3044\u306f\n",
        "math.log(100, math.e) # \u7701\u7565\u3057\u306a\u3044\u5834\u5408\n"
      ],
      "id": "8ec6ee04-2ed0-480f-9b65-b4ea64086399"
    },
    {
      "cell_type": "code",
      "execution_count": null,
      "metadata": {},
      "outputs": [],
      "source": [
        "math.log10(100) # \u5e38\u7528\u5bfe\u6570\n",
        "\n",
        "math.log2(1024) # \u5e95\u304c2\u306e\u5bfe\u6570"
      ],
      "id": "39d378d5-33fa-4546-ae37-3e3b8cb1b7fb"
    },
    {
      "cell_type": "code",
      "execution_count": null,
      "metadata": {},
      "outputs": [],
      "source": [
        "def f(a, b):\n",
        "    return a - b"
      ],
      "id": "547dd17f-cfcf-4955-972a-f504b717b9a2"
    },
    {
      "cell_type": "code",
      "execution_count": null,
      "metadata": {},
      "outputs": [],
      "source": [
        "f(3, 5)"
      ],
      "id": "b98fede2-24f8-4b8e-82bd-ceb4b475249c"
    },
    {
      "cell_type": "code",
      "execution_count": null,
      "metadata": {},
      "outputs": [],
      "source": [
        "def f(a, b=5):\n",
        "    return a - b\n",
        "\n",
        "f(3) # f(3, 5)\u3068\u540c\u3058\u3053\u3068"
      ],
      "id": "385a4418-cb1e-4225-9dbe-04e312d6bcfc"
    },
    {
      "cell_type": "code",
      "execution_count": null,
      "metadata": {},
      "outputs": [],
      "source": [
        "(lambda a, b: a - b)(3, 5)"
      ],
      "id": "d3fa325e-acc1-41c6-91f6-5580eb06832c"
    },
    {
      "id": "94e17129",
      "cell_type": "markdown",
      "source": "## 3.3 \u30b3\u30ec\u30af\u30b7\u30e7\u30f3",
      "metadata": {}
    },
    {
      "cell_type": "code",
      "execution_count": null,
      "metadata": {},
      "outputs": [],
      "source": [
        "x = ['foo', 'bar', 'baz']"
      ],
      "id": "35756171-f2c1-46fb-994f-41fc4eb11a1e"
    },
    {
      "cell_type": "code",
      "execution_count": null,
      "metadata": {},
      "outputs": [],
      "source": [
        "len(x)"
      ],
      "id": "eec521bb-8722-4279-92aa-b8e8983bb8aa"
    },
    {
      "cell_type": "code",
      "execution_count": null,
      "metadata": {},
      "outputs": [],
      "source": [
        "x[1]"
      ],
      "id": "853af147-ce81-406d-82a3-6609e3985e12"
    },
    {
      "cell_type": "code",
      "execution_count": null,
      "metadata": {},
      "outputs": [],
      "source": [
        "x[1] = 'BAR'\n",
        "x # \u7d50\u679c\u306e\u78ba\u8a8d\n",
        "\n",
        "x[1] = 'bar' # \u5143\u306b\u623b\u3059\uff0e"
      ],
      "id": "a0b434ed-88ca-43a8-a59b-1abbf19d7ea1"
    },
    {
      "cell_type": "code",
      "execution_count": null,
      "metadata": {},
      "outputs": [],
      "source": [
        "x[-2]"
      ],
      "id": "a4c64b57-5bb6-41da-98d8-ba41db101f17"
    },
    {
      "cell_type": "code",
      "execution_count": null,
      "metadata": {},
      "outputs": [],
      "source": [
        "x + ['qux']"
      ],
      "id": "c6bd1e4e-36b6-4630-b83c-b315a4eb8573"
    },
    {
      "cell_type": "code",
      "execution_count": null,
      "metadata": {},
      "outputs": [],
      "source": [
        "x = x + ['qux']\n",
        "# \u3042\u308b\u3044\u306f\n",
        "#x.append('qux')\n",
        "\n",
        "x # \u7d50\u679c\u306e\u78ba\u8a8d"
      ],
      "id": "969455f8-dd97-4997-bae1-1c392d68091e"
    },
    {
      "cell_type": "code",
      "execution_count": null,
      "metadata": {},
      "outputs": [],
      "source": [
        "list(range(5))"
      ],
      "id": "76c38530-4bda-4980-9aac-784175034224"
    },
    {
      "cell_type": "code",
      "execution_count": null,
      "metadata": {},
      "outputs": [],
      "source": [
        "list(range(0, 11, 2))"
      ],
      "id": "28613102-3743-4d1b-9ef6-8779c934ea2d"
    },
    {
      "cell_type": "code",
      "execution_count": null,
      "metadata": {},
      "outputs": [],
      "source": [
        "import numpy as np\n",
        "np.arange(0, 1.1, 0.5)"
      ],
      "id": "49afaef9-5776-40d9-8bad-5c457571e70a"
    },
    {
      "cell_type": "code",
      "execution_count": null,
      "metadata": {},
      "outputs": [],
      "source": [
        "np.linspace(0, 100, 5)"
      ],
      "id": "6bb94f01-c7a8-40dd-8ab9-7e4403f4bc14"
    },
    {
      "cell_type": "code",
      "execution_count": null,
      "metadata": {},
      "outputs": [],
      "source": [
        "[10] * 5"
      ],
      "id": "a4df55cd-b835-4c29-afea-9dba90f2c1f5"
    },
    {
      "cell_type": "code",
      "execution_count": null,
      "metadata": {},
      "outputs": [],
      "source": [
        "import numpy as np\n",
        "x = np.array([2, 3, 5, 7])\n",
        "\n",
        "x + 10 # \u52a0\u7b97\n",
        "\n",
        "x * 10 # \u4e57\u7b97"
      ],
      "id": "c89fe618-13de-4d01-9551-5f962c6f4fac"
    },
    {
      "cell_type": "code",
      "execution_count": null,
      "metadata": {},
      "outputs": [],
      "source": [
        "x = [2, 3]\n",
        "np.sin(x)"
      ],
      "id": "3013c289-7fd0-4f3f-8947-0b1705128004"
    },
    {
      "cell_type": "code",
      "execution_count": null,
      "metadata": {},
      "outputs": [],
      "source": [
        "x = np.array([2,  3,   5,    7])\n",
        "y = np.array([1, 10, 100, 1000])\n",
        "x + y\n",
        "\n",
        "x * y"
      ],
      "id": "6a1264be-94ce-4ad4-86f3-6012394e7090"
    },
    {
      "cell_type": "code",
      "execution_count": null,
      "metadata": {},
      "outputs": [],
      "source": [
        "np.dot(x, y)\n",
        "# \u3042\u308b\u3044\u306f\n",
        "x @ y\n"
      ],
      "id": "56fa9e0d-887e-4867-8249-786778ae3680"
    },
    {
      "cell_type": "code",
      "execution_count": null,
      "metadata": {},
      "outputs": [],
      "source": [
        "x = np.array([True, False])\n",
        "y = np.array([True, True])\n",
        "x & y"
      ],
      "id": "8f3dcff4-03dd-4811-ba50-19ac364a2609"
    },
    {
      "cell_type": "code",
      "execution_count": null,
      "metadata": {},
      "outputs": [],
      "source": [
        "u = np.array([1, 2, 3])\n",
        "v = np.array([1, 2, 3])\n",
        "w = np.array([1, 2, 4])\n",
        "\n",
        "all(u == v) # \u5168\u4f53\u306e\u6bd4\u8f03\n",
        "\n",
        "all(u == w) # \u5168\u4f53\u306e\u6bd4\u8f03\n",
        "\n",
        "u == v      # \u8981\u7d20\u3054\u3068\u306e\u6bd4\u8f03\n",
        "\n",
        "u == w      # \u8981\u7d20\u3054\u3068\u306e\u6bd4\u8f03"
      ],
      "id": "ad020d8b-b94b-4257-af6d-7cd9b15b8530"
    },
    {
      "cell_type": "code",
      "execution_count": null,
      "metadata": {},
      "outputs": [],
      "source": [
        "(u == w).sum()  # \u540c\u3058\u8981\u7d20\u306e\u6570\n",
        "\n",
        "(u == w).mean() # \u540c\u3058\u8981\u7d20\u306e\u5272\u5408"
      ],
      "id": "5490056a-e1c1-40b7-9ca7-579b760ab496"
    },
    {
      "cell_type": "code",
      "execution_count": null,
      "metadata": {},
      "outputs": [],
      "source": [
        "x = [1, \"two\"]"
      ],
      "id": "e968626f-1734-4e00-a24e-b539e1cc0511"
    },
    {
      "cell_type": "code",
      "execution_count": null,
      "metadata": {},
      "outputs": [],
      "source": [
        "x[1]"
      ],
      "id": "d41bc524-b903-48ed-bc7d-e2a8dc3afca6"
    },
    {
      "cell_type": "code",
      "execution_count": null,
      "metadata": {},
      "outputs": [],
      "source": [
        "x = {'apple' : '\u308a\u3093\u3054',\n",
        "     'orange': '\u307f\u304b\u3093'}"
      ],
      "id": "7880a3ad-0b27-422e-8998-16606238ff2c"
    },
    {
      "cell_type": "code",
      "execution_count": null,
      "metadata": {},
      "outputs": [],
      "source": [
        "x['grape'] = '\u3076\u3069\u3046'"
      ],
      "id": "bb4d3039-e7e1-4151-b0c3-2a7e2a837359"
    },
    {
      "cell_type": "code",
      "execution_count": null,
      "metadata": {},
      "outputs": [],
      "source": [
        "x['apple']\n",
        "# \u3042\u308b\u3044\u306f\n",
        "tmp = 'apple'\n",
        "x[tmp]\n"
      ],
      "id": "d26ad55c-bf8a-401c-a348-4f0264151560"
    },
    {
      "cell_type": "code",
      "execution_count": null,
      "metadata": {},
      "outputs": [],
      "source": [
        "x = ['foo', 'bar', 'baz']\n",
        "y = x\n",
        "y[1] = 'BAR' # y\u3092\u66f4\u65b0\u3059\u308b\uff0e\n",
        "y\n",
        "\n",
        "x            # x\u3082\u5909\u308f\u308b\uff0e"
      ],
      "id": "f13f968a-9c76-4bb0-94e6-59eba57c8677"
    },
    {
      "cell_type": "code",
      "execution_count": null,
      "metadata": {},
      "outputs": [],
      "source": [
        "x = ['foo', 'bar', 'baz']\n",
        "y = x.copy()             # \u300cy = x\u300d\u3068\u305b\u305a\u306b\uff0c\u30b3\u30d4\u30fc\u3059\u308b\uff0e\n",
        "x == y, x is y\n",
        "\n",
        "y[1] = 'BAR'             # y\u3092\u66f4\u65b0\u3057\u3066\u3082\uff0c\n",
        "x"
      ],
      "id": "75e8380e-a363-4ca0-b317-a013188f600c"
    },
    {
      "id": "9a33cc3f",
      "cell_type": "markdown",
      "source": "## 3.4 \u30c7\u30fc\u30bf\u30d5\u30ec\u30fc\u30e0",
      "metadata": {}
    },
    {
      "cell_type": "code",
      "execution_count": null,
      "metadata": {},
      "outputs": [],
      "source": [
        "import pandas as pd"
      ],
      "id": "c9e9116a-c19a-4335-b2a3-4a5d697603ed"
    },
    {
      "cell_type": "code",
      "execution_count": null,
      "metadata": {},
      "outputs": [],
      "source": [
        "my_df = pd.DataFrame({\n",
        "    'name':    ['A', 'B', 'C', 'D'],\n",
        "    'english': [ 60,  90,  70,  90],\n",
        "    'math':    [ 70,  80,  90, 100],\n",
        "    'gender':  ['f', 'm', 'm', 'f']})"
      ],
      "id": "5830819f-3e0f-48e9-9569-ebd6d04404a1"
    },
    {
      "cell_type": "code",
      "execution_count": null,
      "metadata": {},
      "outputs": [],
      "source": [
        "my_df = pd.DataFrame([\n",
        "    ['A', 60,  70, 'f'],\n",
        "    ['B', 90,  80, 'm'],\n",
        "    ['C', 70,  90, 'm'],\n",
        "    ['D', 90, 100, 'f']],\n",
        "    columns=['name', 'english',\n",
        "             'math', 'gender'])"
      ],
      "id": "83375d16-8403-45e3-85e2-8987cb37349c"
    },
    {
      "cell_type": "code",
      "execution_count": null,
      "metadata": {},
      "outputs": [],
      "source": [
        "my_df.head()\n",
        "# \u7d50\u679c\u306f\u5272\u611b"
      ],
      "id": "579cd332-d3dd-4520-8a0f-29a6c14c48e5"
    },
    {
      "cell_type": "code",
      "execution_count": null,
      "metadata": {},
      "outputs": [],
      "source": [
        "r, c = my_df.shape # \u884c\u6570\u3068\u5217\u6570\n",
        "r, c\n",
        "\n",
        "r # \u884c\u6570\uff08len(my_df)\u3082\u53ef\uff09\n",
        "\n",
        "c # \u5217\u6570"
      ],
      "id": "3a73f405-3c55-4421-bec7-894f7536e694"
    },
    {
      "cell_type": "code",
      "execution_count": null,
      "metadata": {},
      "outputs": [],
      "source": [
        "from itertools import product\n",
        "my_df2 = pd.DataFrame(\n",
        "    product([1, 2, 3],\n",
        "            [10, 100]),\n",
        "    columns=['X', 'Y'])\n",
        "my_df2"
      ],
      "id": "13e1db0e-964a-437e-a600-8b5205a8ce14"
    },
    {
      "cell_type": "code",
      "execution_count": null,
      "metadata": {},
      "outputs": [],
      "source": [
        "my_df2.columns"
      ],
      "id": "3535bafd-1784-4ac6-acaa-af7a946ecb7e"
    },
    {
      "cell_type": "code",
      "execution_count": null,
      "metadata": {},
      "outputs": [],
      "source": [
        "my_df2.columns = ['P', 'Q']\n",
        "my_df2\n",
        "# \u4ee5\u4e0b\u7701\u7565"
      ],
      "id": "cdf98872-b14f-449c-8f82-62aad006065e"
    },
    {
      "cell_type": "code",
      "execution_count": null,
      "metadata": {},
      "outputs": [],
      "source": [
        "list(my_df.index)"
      ],
      "id": "7be1473d-f752-4a3b-9324-658388a7d3c8"
    },
    {
      "cell_type": "code",
      "execution_count": null,
      "metadata": {},
      "outputs": [],
      "source": [
        "my_df2.index = [\n",
        "    'a', 'b', 'c', 'd', 'e', 'f']\n",
        "my_df2\n",
        "# \u4ee5\u4e0b\u7701\u7565"
      ],
      "id": "ac6dadb1-509b-4b90-9560-0d2583b988b0"
    },
    {
      "cell_type": "code",
      "execution_count": null,
      "metadata": {},
      "outputs": [],
      "source": [
        "my_df3 = pd.DataFrame({\n",
        "    'english': [ 60,  90,  70,  90],\n",
        "    'math':    [ 70,  80,  90, 100],\n",
        "    'gender':  ['f', 'm', 'm', 'f']},\n",
        "    index=     ['A', 'B', 'C', 'D'])\n",
        "my_df3"
      ],
      "id": "7f7ab5fc-8a11-4f00-b2e8-6275f74421b7"
    },
    {
      "cell_type": "code",
      "execution_count": null,
      "metadata": {},
      "outputs": [],
      "source": [
        "tmp = pd.DataFrame({\n",
        "    'name'   : ['E'],\n",
        "    'english': [80],\n",
        "    'math'   : [80],\n",
        "    'gender' : ['m']})\n",
        "my_df2 = my_df.append(tmp)"
      ],
      "id": "a421690a-8fb2-479e-8700-a8c93a898797"
    },
    {
      "cell_type": "code",
      "execution_count": null,
      "metadata": {},
      "outputs": [],
      "source": [
        "my_df2 = my_df.assign(id=[1, 2, 3, 4])"
      ],
      "id": "ad9af723-784d-4f9d-9e62-21cef5fac98d"
    },
    {
      "cell_type": "code",
      "execution_count": null,
      "metadata": {},
      "outputs": [],
      "source": [
        "my_df3 = my_df.copy()       # \u30b3\u30d4\u30fc\n",
        "my_df3['id'] = [1, 2, 3, 4] # \u66f4\u65b0\n",
        "my_df3 # \u7d50\u679c\u306e\u78ba\u8a8d\uff08\u5272\u611b\uff09"
      ],
      "id": "60185ed2-4397-4191-adba-6b160df5c052"
    },
    {
      "cell_type": "code",
      "execution_count": null,
      "metadata": {},
      "outputs": [],
      "source": [
        "my_df.iloc[0, 1]"
      ],
      "id": "1550b82a-050b-41e4-b5ab-fef1f1bbb40b"
    },
    {
      "cell_type": "code",
      "execution_count": null,
      "metadata": {},
      "outputs": [],
      "source": [
        "x = my_df.iloc[:, 1]\n",
        "# \u3042\u308b\u3044\u306f\n",
        "x = my_df['english']\n",
        "# \u3042\u308b\u3044\u306f\n",
        "x = my_df.english\n",
        "# \u3042\u308b\u3044\u306f\n",
        "tmp = 'english'\n",
        "x = my_df[tmp]\n",
        "\n",
        "x # \u7d50\u679c\u306e\u78ba\u8a8d\uff08\u5272\u611b\uff09"
      ],
      "id": "e9653c9b-bbce-4aad-870f-54c208ac3952"
    },
    {
      "cell_type": "code",
      "execution_count": null,
      "metadata": {},
      "outputs": [],
      "source": [
        "x = my_df[['name', 'math']]\n",
        "# \u3042\u308b\u3044\u306f\n",
        "x = my_df.loc[:, ['name', 'math']]"
      ],
      "id": "af05517b-646c-4131-8211-766bccc99f74"
    },
    {
      "cell_type": "code",
      "execution_count": null,
      "metadata": {},
      "outputs": [],
      "source": [
        "x = my_df.take([0, 2], axis=1)\n",
        "# \u3042\u308b\u3044\u306f\n",
        "x = my_df.iloc[:, [0, 2]]"
      ],
      "id": "4f05ba7f-c0af-4fe0-9176-e047a4df6cb4"
    },
    {
      "cell_type": "code",
      "execution_count": null,
      "metadata": {},
      "outputs": [],
      "source": [
        "x = my_df.drop(\n",
        "    columns=['english', 'gender'])\n",
        "# \u3042\u308b\u3044\u306f\n",
        "x = my_df.drop(\n",
        "    columns=my_df.columns[[1, 3]])"
      ],
      "id": "46fa5525-04ab-4b14-b878-06544c88ef44"
    },
    {
      "cell_type": "code",
      "execution_count": null,
      "metadata": {},
      "outputs": [],
      "source": [
        "x = my_df.take([0, 2])\n",
        "# \u3042\u308b\u3044\u306f\n",
        "x = my_df.iloc[[0, 2], :]"
      ],
      "id": "9475bdae-1c5a-4060-a23b-26a1a5ae1372"
    },
    {
      "cell_type": "code",
      "execution_count": null,
      "metadata": {},
      "outputs": [],
      "source": [
        "x = my_df.drop([1, 3])"
      ],
      "id": "c22f3a1b-e803-425e-a72d-3f39ec83ba74"
    },
    {
      "cell_type": "code",
      "execution_count": null,
      "metadata": {},
      "outputs": [],
      "source": [
        "x = my_df[my_df['gender'] == 'm']\n",
        "# \u3042\u308b\u3044\u306f\n",
        "x = my_df.query('gender == \"m\"')"
      ],
      "id": "751e5cdf-e874-444e-8453-f79d0a630b40"
    },
    {
      "cell_type": "code",
      "execution_count": null,
      "metadata": {},
      "outputs": [],
      "source": [
        "x = my_df[(my_df['english'] > 80) & (my_df['gender'] == \"m\")]\n",
        "# \u3042\u308b\u3044\u306f\n",
        "x = my_df.query('english > 80 and gender == \"m\"')"
      ],
      "id": "94488474-5b4e-44b5-8043-1329d4b2dda0"
    },
    {
      "cell_type": "code",
      "execution_count": null,
      "metadata": {},
      "outputs": [],
      "source": [
        "x = my_df[my_df['english'] == my_df['english'].max()]\n",
        "# \u3042\u308b\u3044\u306f\n",
        "tmp = my_df['english'].max()\n",
        "x = my_df.query('english == @tmp')"
      ],
      "id": "cee5c39e-dfcd-4ab6-a9a3-632eeb11b3c6"
    },
    {
      "cell_type": "code",
      "execution_count": null,
      "metadata": {},
      "outputs": [],
      "source": [
        "my_df2 = my_df.copy() # \u30b3\u30d4\u30fc\n",
        "my_df2.loc[my_df['gender'] == 'm', 'gender'] = 'M'"
      ],
      "id": "34bd8cf7-fef4-4919-9a7e-415c54b324c8"
    },
    {
      "cell_type": "code",
      "execution_count": null,
      "metadata": {},
      "outputs": [],
      "source": [
        "my_df2"
      ],
      "id": "2e347bf0-2a26-497f-8cf7-8c6fdc296174"
    },
    {
      "cell_type": "code",
      "execution_count": null,
      "metadata": {},
      "outputs": [],
      "source": [
        "x = my_df.sort_values('english')"
      ],
      "id": "6c6f63f5-a81b-4fa3-88df-89045957097d"
    },
    {
      "cell_type": "code",
      "execution_count": null,
      "metadata": {},
      "outputs": [],
      "source": [
        "x = my_df.sort_values('english',\n",
        "    ascending=False)"
      ],
      "id": "86bf60a1-57b8-4fc2-ad0e-e550546396c3"
    },
    {
      "cell_type": "code",
      "execution_count": null,
      "metadata": {},
      "outputs": [],
      "source": [
        "import numpy as np\n",
        "x = [2, 3, 5, 7, 11, 13, 17, 19, 23,\n",
        "     29, 31, 37]\n",
        "A = np.array(x).reshape(3, 4)\n",
        "A"
      ],
      "id": "3ace491e-a7d2-41d5-a066-6ae93d71ffff"
    },
    {
      "cell_type": "code",
      "execution_count": null,
      "metadata": {},
      "outputs": [],
      "source": [
        "A = my_df.iloc[:, [1, 2]].values\n",
        "A"
      ],
      "id": "4173caee-3eb8-4db4-991d-80679b27ef79"
    },
    {
      "cell_type": "code",
      "execution_count": null,
      "metadata": {},
      "outputs": [],
      "source": [
        "pd.DataFrame(A)"
      ],
      "id": "58f14c0e-82fb-45f3-8b2f-a2da9ac6f95b"
    },
    {
      "cell_type": "code",
      "execution_count": null,
      "metadata": {},
      "outputs": [],
      "source": [
        "A.T"
      ],
      "id": "d9813f67-1710-4d03-b2f5-6384b2b440d2"
    },
    {
      "cell_type": "code",
      "execution_count": null,
      "metadata": {},
      "outputs": [],
      "source": [
        "A.T @ A"
      ],
      "id": "1afd4290-ab5b-4d0d-9b6c-dbb3d693e105"
    },
    {
      "cell_type": "code",
      "execution_count": null,
      "metadata": {},
      "outputs": [],
      "source": [
        "my_df = pd.DataFrame({\n",
        "    'day': [25, 26, 27],\n",
        "    'min': [20, 21, 15],\n",
        "    'max': [24, 27, 21]})"
      ],
      "id": "6590c7e1-3f6a-4645-a994-13293b0e2762"
    },
    {
      "cell_type": "code",
      "execution_count": null,
      "metadata": {},
      "outputs": [],
      "source": [
        "my_longer = my_df.melt(id_vars='day')\n",
        "my_longer"
      ],
      "id": "08d07816-aa14-4823-ae07-08a8e1aa1fbc"
    },
    {
      "cell_type": "code",
      "execution_count": null,
      "metadata": {},
      "outputs": [],
      "source": [
        "my_wider = my_longer.pivot(\n",
        "    index='day',\n",
        "    columns='variable',\n",
        "    values='value')\n",
        "my_wider"
      ],
      "id": "737b592e-1941-4f3f-9ac4-583f2339fb54"
    },
    {
      "cell_type": "code",
      "execution_count": null,
      "metadata": {},
      "outputs": [],
      "source": [
        "my_wider.plot(\n",
        "    style='o-',\n",
        "    xticks=my_wider.index, # x\u8ef8\u76ee\u76db\u308a\n",
        "    ylabel='temperature')  # y\u8ef8\u30e9\u30d9\u30eb"
      ],
      "id": "e41708a8-2242-44e5-b922-07e8616a390e"
    },
    {
      "id": "faab7458",
      "cell_type": "markdown",
      "source": "## 3.5 1\u6b21\u5143\u30c7\u30fc\u30bf\u306e\uff08\u975e\uff09\u985e\u4f3c\u5ea6",
      "metadata": {}
    },
    {
      "cell_type": "code",
      "execution_count": null,
      "metadata": {},
      "outputs": [],
      "source": [
        "import numpy as np\n",
        "from scipy.spatial import distance\n",
        "from scipy.stats import pearsonr\n",
        "\n",
        "A = np.array([3,   4,  5])\n",
        "B = np.array([3,   4, 29])\n",
        "C = np.array([9, -18,  8])\n",
        "\n",
        "distance.euclidean(A, B)\n",
        "\n",
        "distance.euclidean(A, C)"
      ],
      "id": "965680ae-e01c-43d5-9780-b8149b7bd509"
    },
    {
      "cell_type": "code",
      "execution_count": null,
      "metadata": {},
      "outputs": [],
      "source": [
        "distance.cityblock(A, B)\n",
        "\n",
        "distance.cityblock(A, C)"
      ],
      "id": "334ae4dd-8886-4cfc-9bc6-5a43ccd619ac"
    },
    {
      "cell_type": "code",
      "execution_count": null,
      "metadata": {},
      "outputs": [],
      "source": [
        "1 - distance.cosine(A, B)\n",
        "\n",
        "1 - distance.cosine(A, C)"
      ],
      "id": "77c38843-bf1b-4b3c-a998-02efd1d247f7"
    },
    {
      "cell_type": "code",
      "execution_count": null,
      "metadata": {},
      "outputs": [],
      "source": [
        "1 - distance.correlation(A, B)\n",
        "# \u3042\u308b\u3044\u306f\n",
        "pearsonr(A, B)[0]\n",
        "\n",
        "1 - distance.correlation(A, C)\n",
        "# \u3042\u308b\u3044\u306f\n",
        "pearsonr(A, C)[0]"
      ],
      "id": "c48da55c-4a14-40d0-81c4-fec93e885e23"
    },
    {
      "cell_type": "code",
      "execution_count": null,
      "metadata": {},
      "outputs": [],
      "source": [
        "# \u5c0f\u6570\u70b9\u4ee5\u4e0b\u306f3\u6841\u8868\u793a\n",
        "np.set_printoptions(precision=3)\n",
        "import pandas as pd\n",
        "\n",
        "my_df = pd.DataFrame({\n",
        "    'x': [3,  3,   9],\n",
        "    'y': [4,  4, -18],\n",
        "    'z': [5, 29,   8]},\n",
        "    index=['A', 'B', 'C'])\n",
        "\n",
        "# \u30e6\u30fc\u30af\u30ea\u30c3\u30c9\u8ddd\u96e2\n",
        "distance.cdist(my_df, my_df,\n",
        "               metric='euclidean')\n",
        "\n",
        "# \u30de\u30f3\u30cf\u30c3\u30bf\u30f3\u8ddd\u96e2\n",
        "distance.cdist(my_df, my_df,\n",
        "               metric='cityblock')\n",
        "\n",
        "# \u30b3\u30b5\u30a4\u30f3\u985e\u4f3c\u5ea6\n",
        "1 - distance.cdist(my_df, my_df,\n",
        "    metric='cosine')\n",
        "\n",
        "# \u76f8\u95a2\u4fc2\u6570\n",
        "1 - distance.cdist(my_df, my_df,\n",
        "    metric='correlation')"
      ],
      "id": "eb9736f8-6098-4082-a3c3-310adc7c9488"
    },
    {
      "id": "5ea32016",
      "cell_type": "markdown",
      "source": "## 3.6 R\u306e\u30d1\u30c3\u30b1\u30fc\u30b8\uff0cPython\u306e\u30e2\u30b8\u30e5\u30fc\u30eb",
      "metadata": {}
    },
    {
      "cell_type": "code",
      "execution_count": null,
      "metadata": {},
      "outputs": [],
      "source": [
        "import math\n",
        "import numpy as np\n",
        "import pandas as pd"
      ],
      "id": "56b4f00d-8830-4862-a221-9bc13cdb8da1"
    },
    {
      "cell_type": "code",
      "execution_count": null,
      "metadata": {},
      "outputs": [],
      "source": [
        "import numpy\n",
        "numpy.array([1, 2, 3, 4])"
      ],
      "id": "433fad34-0ea8-44d9-aa42-c5a7026f2012"
    },
    {
      "cell_type": "code",
      "execution_count": null,
      "metadata": {},
      "outputs": [],
      "source": [
        "import numpy as np\n",
        "np.array([1, 2, 3, 4])"
      ],
      "id": "6c6329a6-d2b4-4eef-9927-14f709762044"
    },
    {
      "cell_type": "code",
      "execution_count": null,
      "metadata": {},
      "outputs": [],
      "source": [
        "from numpy import array\n",
        "array([1, 2, 3, 4])"
      ],
      "id": "7cd3eee6-8d6c-489d-bc0f-9e21037b0b80"
    },
    {
      "cell_type": "code",
      "execution_count": null,
      "metadata": {},
      "outputs": [],
      "source": [
        "from numpy import *\n",
        "array([1, 2, 3, 4])"
      ],
      "id": "e75f0276-226b-4af3-8d89-5da8a4a2a01e"
    },
    {
      "id": "c14a9d27",
      "cell_type": "markdown",
      "source": "## 3.7 \u53cd\u5fa9\u51e6\u7406",
      "metadata": {}
    },
    {
      "cell_type": "code",
      "execution_count": null,
      "metadata": {},
      "outputs": [],
      "source": [
        "import numpy as np\n",
        "import pandas as pd"
      ],
      "id": "673ff5f5-0e1b-4fa5-8af4-0890cd2913a4"
    },
    {
      "cell_type": "code",
      "execution_count": null,
      "metadata": {},
      "outputs": [],
      "source": [
        "def f1(x):\n",
        "    tmp = np.random.random(x)\n",
        "    return np.mean(tmp)\n",
        "\n",
        "f1(10)                # \u52d5\u4f5c\u78ba\u8a8d"
      ],
      "id": "c1280d9b-2f7b-4c35-899b-f22ebc35a9a8"
    },
    {
      "cell_type": "code",
      "execution_count": null,
      "metadata": {},
      "outputs": [],
      "source": [
        "[f1(10) for i in range(3)]"
      ],
      "id": "5c22aaba-1357-455a-87fc-cb5e06bc5734"
    },
    {
      "cell_type": "code",
      "execution_count": null,
      "metadata": {},
      "outputs": [],
      "source": [
        "[f1(10)] * 3"
      ],
      "id": "016103dc-edbb-4e76-ba34-302c13acaf12"
    },
    {
      "cell_type": "code",
      "execution_count": null,
      "metadata": {},
      "outputs": [],
      "source": [
        "v = [5, 10, 100]\n",
        "[f1(x) for x in v] # \u65b9\u6cd51\n",
        "\n",
        "# \u3042\u308b\u3044\u306f\n",
        "\n",
        "v = pd.Series([5, 10, 100])\n",
        "v.apply(f1)        # \u65b9\u6cd52"
      ],
      "id": "d648bdfa-1110-4b48-9665-c32d2fd49162"
    },
    {
      "cell_type": "code",
      "execution_count": null,
      "metadata": {},
      "outputs": [],
      "source": [
        "pd.Series([10] * 3).apply(f1)\n",
        "# \u7d50\u679c\u306f\u5272\u611b"
      ],
      "id": "481f2068-1834-4068-bbf9-0f0daedc5cca"
    },
    {
      "cell_type": "code",
      "execution_count": null,
      "metadata": {},
      "outputs": [],
      "source": [
        "def f2(n):\n",
        "    tmp = np.random.random(n)\n",
        "    return pd.Series([\n",
        "        n,\n",
        "        tmp.mean(),\n",
        "        tmp.std(ddof=1)],\n",
        "        index=['x', 'p', 'q'])\n",
        "\n",
        "f2(10) # \u52d5\u4f5c\u78ba\u8a8d"
      ],
      "id": "61024025-7438-404a-b6a6-5d936f56a592"
    },
    {
      "cell_type": "code",
      "execution_count": null,
      "metadata": {},
      "outputs": [],
      "source": [
        "v = pd.Series([5, 10, 100])\n",
        "v.apply(f2)"
      ],
      "id": "11f5dcd1-a731-411e-9d80-0d88aff771a4"
    },
    {
      "cell_type": "code",
      "execution_count": null,
      "metadata": {},
      "outputs": [],
      "source": [
        "def f3(x, y):\n",
        "    tmp = np.random.random(x) * y\n",
        "    return pd.Series([\n",
        "        x,\n",
        "        y,\n",
        "        tmp.mean(),\n",
        "        tmp.std(ddof=1)],\n",
        "        index=['x', 'y', 'p', 'q'])\n",
        "\n",
        "f3(10, 6) # \u52d5\u4f5c\u78ba\u8a8d"
      ],
      "id": "31b1b757-92c0-49fb-9093-e4a69204ae4f"
    },
    {
      "cell_type": "code",
      "execution_count": null,
      "metadata": {},
      "outputs": [],
      "source": [
        "my_df = pd.DataFrame({\n",
        "    'x': [5, 10, 100,  5, 10, 100],\n",
        "    'y': [6,  6,   6, 12, 12,  12]})\n",
        "\n",
        "my_df.apply(\n",
        "  lambda row: f3(row['x'], row['y']),\n",
        "  axis=1)\n",
        "# \u3042\u308b\u3044\u306f\n",
        "my_df.apply(lambda row:\n",
        "            f3(*row), axis=1)\n"
      ],
      "id": "4b40a344-3f30-4b00-a474-8b25a3401037"
    },
    {
      "cell_type": "code",
      "execution_count": null,
      "metadata": {},
      "outputs": [],
      "source": [
        "from pandarallel import pandarallel\n",
        "pandarallel.initialize() # \u6e96\u5099\n",
        "\n",
        "v = pd.Series([5, 10, 100])\n",
        "v.parallel_apply(f1)\n",
        "# \u7d50\u679c\u306f\u5272\u611b"
      ],
      "id": "dd68be89-03ab-4720-843b-36837931ddc2"
    },
    {
      "id": "674606c8",
      "cell_type": "markdown",
      "source": "## 3.8 \u305d\u306e\u4ed6",
      "metadata": {}
    },
    {
      "cell_type": "code",
      "execution_count": null,
      "metadata": {},
      "outputs": [],
      "source": [
        "x = 123\n",
        "type(x)"
      ],
      "id": "99fb94f9-29a8-490d-b433-cc6ea74dd222"
    },
    {
      "cell_type": "code",
      "execution_count": null,
      "metadata": {},
      "outputs": [],
      "source": [
        "%whos"
      ],
      "id": "bf8f71d0-9b12-4901-a298-5d7b8624e96e"
    },
    {
      "cell_type": "code",
      "execution_count": null,
      "metadata": {},
      "outputs": [],
      "source": [
        "import math\n",
        "?math.log\n",
        "# \u3042\u308b\u3044\u306f\n",
        "help(math.log)"
      ],
      "id": "81310f76-4a69-40d6-a95e-6cc4c9263aca"
    },
    {
      "cell_type": "code",
      "execution_count": null,
      "metadata": {},
      "outputs": [],
      "source": [
        "import numpy as np\n",
        "v = [1, np.nan, 3]\n",
        "v"
      ],
      "id": "4df83aa6-2834-489b-b684-a1eef1cce643"
    },
    {
      "cell_type": "code",
      "execution_count": null,
      "metadata": {},
      "outputs": [],
      "source": [
        "np.isnan(v[1])\n",
        "\n",
        "v[1] == np.nan # \u8aa4\u308a"
      ],
      "id": "b9c5a3c0-c677-4290-aeaf-20dd0f816470"
    }
  ],
  "nbformat": 4,
  "nbformat_minor": 5,
  "metadata": {
    "kernelspec": {
      "name": "python3",
      "display_name": "Python 3"
    }
  }
}