{
 "cells": [
  {
   "cell_type": "markdown",
   "metadata": {},
   "source": [
    "## 9.1 アヤメのデータ"
   ]
  },
  {
   "cell_type": "code",
   "execution_count": null,
   "metadata": {},
   "outputs": [],
   "source": [
    "import statsmodels.api as sm\n",
    "my_data = sm.datasets.get_rdataset('iris', 'datasets').data\n",
    "my_data.head()\n",
    "#>    Sepal.Length  Sepal.Width  Petal.Length  Petal.Width Species\n",
    "#> 0           5.1          3.5           1.4          0.2  setosa\n",
    "#> 1           4.9          3.0           1.4          0.2  setosa\n",
    "#> 2           4.7          3.2           1.3          0.2  setosa\n",
    "#> 3           4.6          3.1           1.5          0.2  setosa\n",
    "#> 4           5.0          3.6           1.4          0.2  setosa"
   ]
  },
  {
   "cell_type": "code",
   "execution_count": null,
   "metadata": {},
   "outputs": [],
   "source": [
    "my_data.describe()\n",
    "#>        Sepal.Length  Sepal.Width  Petal.Length  Petal.Width\n",
    "#> count    150.000000   150.000000    150.000000   150.000000\n",
    "#> mean       5.843333     3.057333      3.758000     1.199333\n",
    "# 以下省略"
   ]
  }
 ],
 "nbformat": 4,
 "nbformat_minor": 5,
 "metadata": {
  "kernelspec": {
   "name": "python3",
   "display_name": "Python 3"
  }
 }
}
