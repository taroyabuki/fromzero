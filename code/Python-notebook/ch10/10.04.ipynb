{
 "cells": [
  {
   "cell_type": "markdown",
   "metadata": {},
   "source": [
    "## 10.4 ロジスティック回帰"
   ]
  },
  {
   "cell_type": "code",
   "execution_count": null,
   "metadata": {},
   "outputs": [],
   "source": [
    "import matplotlib.pyplot as plt\n",
    "import numpy as np\n",
    "\n",
    "x = np.arange(-6, 6, 0.1)\n",
    "y = 1 / (1 + np.exp(-x))\n",
    "plt.plot(x, y)"
   ]
  },
  {
   "cell_type": "code",
   "execution_count": null,
   "metadata": {},
   "outputs": [],
   "source": [
    "import pandas as pd\n",
    "from sklearn.linear_model import LogisticRegression\n",
    "from sklearn.model_selection import cross_val_score, LeaveOneOut\n",
    "from sklearn.pipeline import Pipeline\n",
    "from sklearn.preprocessing import OneHotEncoder\n",
    "\n",
    "my_url = ('https://raw.githubusercontent.com/taroyabuki'\n",
    "          '/fromzero/master/data/titanic.csv')\n",
    "my_data = pd.read_csv(my_url)\n",
    "\n",
    "X, y = my_data.iloc[:, 0:3], my_data.Survived\n",
    "\n",
    "my_pipeline = Pipeline([('ohe', OneHotEncoder(drop='first')),\n",
    "                        ('lr', LogisticRegression(penalty='none'))])\n",
    "my_pipeline.fit(X, y)"
   ]
  },
  {
   "cell_type": "code",
   "execution_count": null,
   "metadata": {},
   "outputs": [],
   "source": [
    "my_ohe = my_pipeline.named_steps.ohe\n",
    "my_lr  = my_pipeline.named_steps.lr\n",
    "\n",
    "my_lr.intercept_[0]\n",
    "#> 2.043878162056783\n",
    "\n",
    "tmp = my_ohe.get_feature_names_out() if hasattr(my_ohe, 'get_feature_names_out') else my_ohe.get_feature_names()\n",
    "pd.Series(my_lr.coef_[0],\n",
    "          index=tmp)\n",
    "#> x0_2nd     -1.018069\n",
    "#> x0_3rd     -1.777746\n",
    "#> x0_Crew    -0.857708\n",
    "#> x1_Male    -2.420090\n",
    "#> x2_Child    1.061531\n",
    "#> dtype: float64"
   ]
  },
  {
   "cell_type": "code",
   "execution_count": null,
   "metadata": {},
   "outputs": [],
   "source": [
    "my_scores = cross_val_score(\n",
    "    my_pipeline, X, y,\n",
    "    cv=LeaveOneOut(),\n",
    "    n_jobs=-1)\n",
    "my_scores.mean()\n",
    "#> 0.7782825988187188"
   ]
  }
 ],
 "nbformat": 4,
 "nbformat_minor": 5,
 "metadata": {
  "kernelspec": {
   "name": "python3",
   "display_name": "Python 3"
  }
 }
}
