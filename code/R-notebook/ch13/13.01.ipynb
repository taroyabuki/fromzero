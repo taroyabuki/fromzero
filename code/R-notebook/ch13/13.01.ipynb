{
 "cells": [
  {
   "cell_type": "markdown",
   "metadata": {},
   "source": [
    "## 13.1 主成分分析"
   ]
  },
  {
   "cell_type": "code",
   "execution_count": null,
   "metadata": {},
   "outputs": [],
   "source": [
    "library(tidyverse)\n",
    "\n",
    "my_data <- data.frame(\n",
    "  language  = c(  0,  20,  20,  25,  22,  17),\n",
    "  english   = c(  0,  20,  40,  20,  24,  18),\n",
    "  math      = c(100,  20,   5,  30,  17,  25),\n",
    "  science   = c(  0,  20,   5,  25,  16,  23),\n",
    "  society   = c(  0,  20,  30,   0,  21,  17),\n",
    "  row.names = c(\"A\", \"B\", \"C\", \"D\", \"E\", \"F\"))\n",
    "my_result <- my_data %>% prcomp # 主成分分析の実行"
   ]
  },
  {
   "cell_type": "code",
   "execution_count": null,
   "metadata": {},
   "outputs": [],
   "source": [
    "my_result$x # 主成分スコア\n",
    "#>          PC1        PC2 ...\n",
    "#> A -74.907282  -7.010808 ...\n",
    "#> B  13.818842   2.753459 ...\n",
    "#> C  33.714034 -18.417290 ...\n",
    "#> D   1.730630  17.876372 ...\n",
    "#> E  17.837474  -1.064998 ...\n",
    "#> F   7.806303   5.863266 ..."
   ]
  },
  {
   "cell_type": "code",
   "execution_count": null,
   "metadata": {},
   "outputs": [],
   "source": [
    "my_result %>% ggbiplot::ggbiplot(\n",
    "  labels = row.names(my_data),\n",
    "  scale = 0)"
   ]
  },
  {
   "cell_type": "code",
   "execution_count": null,
   "metadata": {},
   "outputs": [],
   "source": [
    "my_result$rotation %>% t\n",
    "#>       language    english         math    science    society\n",
    "#> PC1  0.2074983  0.3043604 -0.887261240  0.1301984  0.2452041\n",
    "#> PC2  0.2794627 -0.3250521 -0.097642669  0.7026667 -0.5594347\n",
    "#> PC3 -0.3061175 -0.6157986 -0.056345381  0.3384462  0.6398152\n",
    "#> PC4  0.7649426 -0.4716969 -0.007654992 -0.4180454  0.1324548\n",
    "#> PC5  0.4472136  0.4472136  0.447213595  0.4472136  0.4472136"
   ]
  },
  {
   "cell_type": "code",
   "execution_count": null,
   "metadata": {},
   "outputs": [],
   "source": [
    "summary(my_result)\n",
    "#> Importance of components:\n",
    "#>                            PC1      PC2     PC3     PC4       PC5\n",
    "#> Standard deviation     38.2644 12.25566 5.58845 1.52970 1.232e-15\n",
    "#> Proportion of Variance  0.8885  0.09115 0.01895 0.00142 0.000e+00\n",
    "#> Cumulative Proportion   0.8885  0.97963 0.99858 1.00000 1.000e+00"
   ]
  },
  {
   "cell_type": "markdown",
   "metadata": {},
   "source": [
    "### 13.1.1 標準化＋主成分分析"
   ]
  },
  {
   "cell_type": "code",
   "execution_count": null,
   "metadata": {},
   "outputs": [],
   "source": [
    "my_result <- prcomp(\n",
    "  x = my_data,\n",
    "  scale = TRUE)       # 標準化\n",
    "# あるいは\n",
    "my_result <- prcomp(\n",
    "  x = scale(my_data)) # 標準化データ\n",
    "\n",
    "my_result$x # 主成分スコア\n",
    "#>          PC1        PC2 ...\n",
    "#> A -3.6737215 -0.5688501 ...\n",
    "#> B  0.6528793  0.2469258 ...\n",
    "#> C  1.5682936 -1.7425981 ...\n",
    "#> D  0.2505043  1.6400394 ...\n",
    "#> E  0.8861864 -0.1104931 ...\n",
    "#> F  0.3158579  0.5349762 ..."
   ]
  },
  {
   "cell_type": "markdown",
   "metadata": {},
   "source": [
    "### 13.1.2 補足：行列計算による再現"
   ]
  },
  {
   "cell_type": "code",
   "execution_count": null,
   "metadata": {},
   "outputs": [],
   "source": [
    "Z  <- my_data %>% scale(scale = FALSE) %>% as.matrix # 標準化しない場合\n",
    "#Z <- my_data %>% scale(scale = TRUE)  %>% as.matrix # 標準化する場合\n",
    "\n",
    "n <- nrow(my_data)\n",
    "S <- var(Z)                          # 分散共分散行列\n",
    "#S <- t(Z) %*% Z / (n - 1)           # （同じ結果）\n",
    "tmp <- eigen(S)                      # 固有値と固有ベクトル\n",
    "Z %*% tmp$vectors                    # 主成分スコア（結果は割愛）\n",
    "cumsum(tmp$values) / sum(tmp$values) # 累積寄与率\n",
    "#> [1] 0.8884833 0.9796285 0.9985801 1.0000000 1.0000000"
   ]
  },
  {
   "cell_type": "code",
   "execution_count": null,
   "metadata": {},
   "outputs": [],
   "source": [
    "udv <- svd(Z) # 特異値分解\n",
    "U <- udv$u\n",
    "d <- udv$d\n",
    "V <- udv$v\n",
    "W <- diag(d)\n",
    "\n",
    "c(all.equal(Z, U %*% W %*% t(V), check.attributes = FALSE), # 確認1\n",
    "  all.equal(t(U) %*% U, diag(dim(U)[2])),                   # 確認2\n",
    "  all.equal(t(V) %*% V, diag(dim(V)[2])))                   # 確認3\n",
    "#> [1] TRUE TRUE TRUE\n",
    "\n",
    "U %*% W            # 主成分スコア（結果は割愛）\n",
    "\n",
    "e <- d^2 / (n - 1) # 分散共分散行列の固有値\n",
    "cumsum(e) / sum(e) # 累積寄与率\n",
    "#> [1] 0.8884833 0.9796285 0.9985801 1.0000000 1.0000000"
   ]
  }
 ],
 "nbformat": 4,
 "nbformat_minor": 5,
 "metadata": {
  "kernelspec": {
   "name": "ir",
   "display_name": "R"
  }
 }
}
