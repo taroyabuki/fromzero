{
 "cells": [
  {
   "cell_type": "markdown",
   "metadata": {},
   "source": [
    "# 10\n",
    "\n",
    "## 10.1 2値分類の性能指標\n",
    "\n",
    "### 10.1.1 陽性と陰性"
   ]
  },
  {
   "cell_type": "code",
   "execution_count": null,
   "metadata": {},
   "outputs": [],
   "source": [
    "import numpy as np\n",
    "from sklearn.metrics import classification_report, confusion_matrix\n",
    "\n",
    "y       = np.array([  0,   1,   1,   0,   1,   0,    1,   0,   0,   1])\n",
    "y_score = np.array([0.7, 0.8, 0.3, 0.4, 0.9, 0.6, 0.99, 0.1, 0.2, 0.5])"
   ]
  },
  {
   "cell_type": "code",
   "execution_count": null,
   "metadata": {},
   "outputs": [],
   "source": [
    "y_ = np.array([1 if 0.5 <= p else 0 for p in y_score])\n",
    "y_\n",
    "#> array([1, 1, 0, 0, 1, 1, 1, 0, 0, 1])"
   ]
  },
  {
   "cell_type": "code",
   "execution_count": null,
   "metadata": {},
   "outputs": [],
   "source": [
    "confusion_matrix(y_true=y, y_pred=y_)\n",
    "#> array([[3, 2],\n",
    "#>        [1, 4]])\n",
    "\n",
    "print(classification_report(y_true=y, y_pred=y_))\n",
    "#>               precision    recall  f1-score   support\n",
    "#>\n",
    "#>            0       0.75      0.60      0.67         5\n",
    "#>            1       0.67      0.80      0.73         5\n",
    "#>\n",
    "#>     accuracy                           0.70        10\n",
    "#>    macro avg       0.71      0.70      0.70        10\n",
    "#> weighted avg       0.71      0.70      0.70        10"
   ]
  },
  {
   "cell_type": "markdown",
   "metadata": {},
   "source": [
    "## 10.2 トレードオフ\n",
    "\n",
    "### 10.2.1 偽陽性率と真陽性率のトレードオフ（ROC曲線）"
   ]
  },
  {
   "cell_type": "code",
   "execution_count": null,
   "metadata": {},
   "outputs": [],
   "source": [
    "import numpy as np\n",
    "from sklearn.metrics import (roc_curve, RocCurveDisplay,\n",
    "    precision_recall_curve, PrecisionRecallDisplay, auc)\n",
    "\n",
    "y       = np.array([  0,   1,   1,   0,   1,   0,    1,   0,   0,   1])\n",
    "y_score = np.array([0.7, 0.8, 0.3, 0.4, 0.9, 0.6, 0.99, 0.1, 0.2, 0.5])\n",
    "y_      = np.array([1 if 0.5 <= p else 0 for p in y_score])\n",
    "\n",
    "[sum((y == 0) & (y_ == 1)) / sum(y == 0), # FPR\n",
    " sum((y == 1) & (y_ == 1)) / sum(y == 1)] # TPR\n",
    "#> [0.4, 0.8]"
   ]
  },
  {
   "cell_type": "code",
   "execution_count": null,
   "metadata": {},
   "outputs": [],
   "source": [
    "my_fpr, my_tpr, _ = roc_curve(y_true=y,\n",
    "                              y_score=y_score,\n",
    "                              pos_label=1) # 1が陽性である．\n",
    "RocCurveDisplay(fpr=my_fpr, tpr=my_tpr).plot()"
   ]
  },
  {
   "cell_type": "code",
   "execution_count": null,
   "metadata": {},
   "outputs": [],
   "source": [
    "auc(x=my_fpr, y=my_tpr)\n",
    "#> 0.8"
   ]
  },
  {
   "cell_type": "markdown",
   "metadata": {},
   "source": [
    "### 10.2.2 再現率と精度のトレードオフ（PR曲線）"
   ]
  },
  {
   "cell_type": "code",
   "execution_count": null,
   "metadata": {},
   "outputs": [],
   "source": [
    "[sum((y == 1) & (y_ == 1)) / sum(y  == 1), # Recall == TPR\n",
    " sum((y == 1) & (y_ == 1)) / sum(y_ == 1)] # Precision\n",
    "#> [0.8, 0.6666666666666666]"
   ]
  },
  {
   "cell_type": "code",
   "execution_count": null,
   "metadata": {},
   "outputs": [],
   "source": [
    "my_precision, my_recall, _ = precision_recall_curve(y_true=y,\n",
    "                                                    probas_pred=y_score,\n",
    "                                                    pos_label=1)\n",
    "PrecisionRecallDisplay(precision=my_precision, recall=my_recall).plot()"
   ]
  },
  {
   "cell_type": "code",
   "execution_count": null,
   "metadata": {},
   "outputs": [],
   "source": [
    "auc(x=my_recall, y=my_precision)\n",
    "#> 0.8463095238095237"
   ]
  },
  {
   "cell_type": "markdown",
   "metadata": {},
   "source": [
    "## 10.3 タイタニック"
   ]
  },
  {
   "cell_type": "code",
   "execution_count": null,
   "metadata": {},
   "outputs": [],
   "source": [
    "import graphviz\n",
    "import pandas as pd\n",
    "from sklearn import tree\n",
    "from sklearn.metrics import roc_curve, RocCurveDisplay, auc\n",
    "from sklearn.model_selection import cross_val_score, LeaveOneOut\n",
    "from sklearn.pipeline import Pipeline\n",
    "from sklearn.preprocessing import OneHotEncoder\n",
    "\n",
    "my_url = ('https://raw.githubusercontent.com/taroyabuki'\n",
    "          '/fromzero/master/data/titanic.csv')\n",
    "my_data = pd.read_csv(my_url)"
   ]
  },
  {
   "cell_type": "code",
   "execution_count": null,
   "metadata": {},
   "outputs": [],
   "source": [
    "my_data.head()\n",
    "#>   Class   Sex    Age Survived\n",
    "#> 0   1st  Male  Child      Yes\n",
    "#> 1   1st  Male  Child      Yes\n",
    "#> 2   1st  Male  Child      Yes\n",
    "#> 3   1st  Male  Child      Yes\n",
    "#> 4   1st  Male  Child      Yes"
   ]
  },
  {
   "cell_type": "markdown",
   "metadata": {},
   "source": [
    "### 10.3.1 質的入力変数の扱い方\n",
    "\n",
    "### 10.3.2 決定木の訓練"
   ]
  },
  {
   "cell_type": "code",
   "execution_count": null,
   "metadata": {},
   "outputs": [],
   "source": [
    "X, y = my_data.iloc[:, 0:3], my_data.Survived\n",
    "\n",
    "my_pipeline = Pipeline([\n",
    "    ('ohe', OneHotEncoder(drop='first')),\n",
    "    ('tree', tree.DecisionTreeClassifier(max_depth=2, random_state=0,\n",
    "                                         min_impurity_decrease=0.01))])\n",
    "my_pipeline.fit(X, y)"
   ]
  },
  {
   "cell_type": "markdown",
   "metadata": {},
   "source": [
    "### 10.3.3 決定木の描画"
   ]
  },
  {
   "cell_type": "code",
   "execution_count": null,
   "metadata": {},
   "outputs": [],
   "source": [
    "my_enc  = my_pipeline.named_steps['ohe']  # パイプラインからエンコーダを取り出す．\n",
    "my_tree = my_pipeline.named_steps['tree'] # パイプラインから木を取り出す．\n",
    "\n",
    "my_dot = tree.export_graphviz(\n",
    "    decision_tree=my_tree,\n",
    "    out_file=None,\n",
    "    feature_names=my_enc.get_feature_names() \\\n",
    "    if hasattr(my_enc, 'get_feature_names') else my_enc.get_feature_names_out(),\n",
    "    class_names=my_pipeline.classes_,\n",
    "    filled=True)\n",
    "graphviz.Source(my_dot)"
   ]
  },
  {
   "cell_type": "markdown",
   "metadata": {},
   "source": [
    "### 10.3.4 決定木の評価"
   ]
  },
  {
   "cell_type": "code",
   "execution_count": null,
   "metadata": {},
   "outputs": [],
   "source": [
    "my_scores = cross_val_score(\n",
    "    my_pipeline, X, y,\n",
    "    cv=LeaveOneOut(),\n",
    "    n_jobs=-1)\n",
    "my_scores.mean()\n",
    "#> 0.7832803271240345"
   ]
  },
  {
   "cell_type": "code",
   "execution_count": null,
   "metadata": {},
   "outputs": [],
   "source": [
    "tmp = pd.DataFrame(\n",
    "    my_pipeline.predict_proba(X),\n",
    "    columns=my_pipeline.classes_)\n",
    "y_score = tmp.Yes\n",
    "\n",
    "my_fpr, my_tpr, _ = roc_curve(y_true=y,\n",
    "                              y_score=y_score,\n",
    "                              pos_label='Yes')\n",
    "my_auc = auc(x=my_fpr, y=my_tpr)\n",
    "my_auc\n",
    "#> 0.7114886868858494\n",
    "\n",
    "RocCurveDisplay(fpr=my_fpr, tpr=my_tpr, roc_auc=my_auc).plot()"
   ]
  },
  {
   "cell_type": "markdown",
   "metadata": {},
   "source": [
    "### 10.3.5 補足：質的入力変数の扱い\n",
    "\n",
    "## 10.4 ロジスティック回帰"
   ]
  },
  {
   "cell_type": "code",
   "execution_count": null,
   "metadata": {},
   "outputs": [],
   "source": [
    "import matplotlib.pyplot as plt\n",
    "import numpy as np\n",
    "\n",
    "x = np.arange(-6, 6, 0.1)\n",
    "y = 1 / (1 + np.exp(-x))\n",
    "plt.plot(x, y)"
   ]
  },
  {
   "cell_type": "code",
   "execution_count": null,
   "metadata": {},
   "outputs": [],
   "source": [
    "import pandas as pd\n",
    "from sklearn.linear_model import LogisticRegression\n",
    "from sklearn.model_selection import cross_val_score, LeaveOneOut\n",
    "from sklearn.pipeline import Pipeline\n",
    "from sklearn.preprocessing import OneHotEncoder\n",
    "\n",
    "my_url = ('https://raw.githubusercontent.com/taroyabuki'\n",
    "          '/fromzero/master/data/titanic.csv')\n",
    "my_data = pd.read_csv(my_url)\n",
    "\n",
    "X, y = my_data.iloc[:, 0:3], my_data.Survived\n",
    "\n",
    "my_pipeline = Pipeline([('ohe', OneHotEncoder(drop='first')),\n",
    "                        ('lr', LogisticRegression(penalty='none'))])\n",
    "my_pipeline.fit(X, y)"
   ]
  },
  {
   "cell_type": "code",
   "execution_count": null,
   "metadata": {},
   "outputs": [],
   "source": [
    "my_ohe = my_pipeline.named_steps.ohe\n",
    "my_lr  = my_pipeline.named_steps.lr\n",
    "\n",
    "my_lr.intercept_[0]\n",
    "#> 2.043878162056783\n",
    "\n",
    "tmp = my_ohe.get_feature_names() \\\n",
    "if hasattr(my_ohe, 'get_feature_names') \\\n",
    "else my_ohe.get_feature_names_out()\n",
    "pd.Series(my_lr.coef_[0],\n",
    "          index=tmp)\n",
    "#> x0_2nd     -1.018069\n",
    "#> x0_3rd     -1.777746\n",
    "#> x0_Crew    -0.857708\n",
    "#> x1_Male    -2.420090\n",
    "#> x2_Child    1.061531\n",
    "#> dtype: float64"
   ]
  },
  {
   "cell_type": "code",
   "execution_count": null,
   "metadata": {},
   "outputs": [],
   "source": [
    "my_scores = cross_val_score(\n",
    "    my_pipeline, X, y,\n",
    "    cv=LeaveOneOut(),\n",
    "    n_jobs=-1)\n",
    "my_scores.mean()\n",
    "#> 0.7782825988187188"
   ]
  }
 ],
 "nbformat": 4,
 "nbformat_minor": 5,
 "metadata": {
  "kernelspec": {
   "name": "python3",
   "display_name": "Python 3"
  }
 }
}
