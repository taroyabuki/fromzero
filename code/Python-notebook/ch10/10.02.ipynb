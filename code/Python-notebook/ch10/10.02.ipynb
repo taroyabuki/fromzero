{
 "cells": [
  {
   "cell_type": "markdown",
   "metadata": {},
   "source": [
    "## 10.2 トレードオフ\n",
    "\n",
    "### 10.2.1 偽陽性率と真陽性率のトレードオフ（ROC曲線）"
   ]
  },
  {
   "cell_type": "code",
   "execution_count": null,
   "metadata": {},
   "outputs": [],
   "source": [
    "import numpy as np\n",
    "from sklearn.metrics import (roc_curve, RocCurveDisplay,\n",
    "    precision_recall_curve, PrecisionRecallDisplay, auc)\n",
    "\n",
    "y       = np.array([  0,   1,   1,   0,   1,   0,    1,   0,   0,   1])\n",
    "y_score = np.array([0.7, 0.8, 0.3, 0.4, 0.9, 0.6, 0.99, 0.1, 0.2, 0.5])\n",
    "y_      = np.array([1 if 0.5 <= p else 0 for p in y_score])\n",
    "\n",
    "[sum((y == 0) & (y_ == 1)) / sum(y == 0), # FPR\n",
    " sum((y == 1) & (y_ == 1)) / sum(y == 1)] # TPR\n",
    "#> [0.4, 0.8]"
   ]
  },
  {
   "cell_type": "code",
   "execution_count": null,
   "metadata": {},
   "outputs": [],
   "source": [
    "my_fpr, my_tpr, _ = roc_curve(y_true=y,\n",
    "                              y_score=y_score,\n",
    "                              pos_label=1) # 1が陽性である．\n",
    "RocCurveDisplay(fpr=my_fpr, tpr=my_tpr).plot()"
   ]
  },
  {
   "cell_type": "code",
   "execution_count": null,
   "metadata": {},
   "outputs": [],
   "source": [
    "auc(x=my_fpr, y=my_tpr)\n",
    "#> 0.8"
   ]
  },
  {
   "cell_type": "markdown",
   "metadata": {},
   "source": [
    "### 10.2.2 再現率と精度のトレードオフ（PR曲線）"
   ]
  },
  {
   "cell_type": "code",
   "execution_count": null,
   "metadata": {},
   "outputs": [],
   "source": [
    "[sum((y == 1) & (y_ == 1)) / sum(y  == 1), # Recall == TPR\n",
    " sum((y == 1) & (y_ == 1)) / sum(y_ == 1)] # Precision\n",
    "#> [0.8, 0.6666666666666666]"
   ]
  },
  {
   "cell_type": "code",
   "execution_count": null,
   "metadata": {},
   "outputs": [],
   "source": [
    "my_precision, my_recall, _ = precision_recall_curve(y_true=y,\n",
    "                                                    probas_pred=y_score,\n",
    "                                                    pos_label=1)\n",
    "PrecisionRecallDisplay(precision=my_precision, recall=my_recall).plot()"
   ]
  },
  {
   "cell_type": "code",
   "execution_count": null,
   "metadata": {},
   "outputs": [],
   "source": [
    "auc(x=my_recall, y=my_precision)\n",
    "#> 0.8463095238095237"
   ]
  }
 ],
 "nbformat": 4,
 "nbformat_minor": 5,
 "metadata": {
  "kernelspec": {
   "name": "python3",
   "display_name": "Python 3"
  }
 }
}
