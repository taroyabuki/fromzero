{
 "cells": [
  {
   "cell_type": "markdown",
   "metadata": {},
   "source": [
    "# 03\n",
    "\n",
    "## 3.1 入門\n",
    "\n",
    "### 3.1.1 数値"
   ]
  },
  {
   "cell_type": "code",
   "execution_count": null,
   "metadata": {},
   "outputs": [],
   "source": [
    "0x10\n",
    "#> [1] 16"
   ]
  },
  {
   "cell_type": "code",
   "execution_count": null,
   "metadata": {},
   "outputs": [],
   "source": [
    "1.23e5\n",
    "#> [1] 123000"
   ]
  },
  {
   "cell_type": "code",
   "execution_count": null,
   "metadata": {},
   "outputs": [],
   "source": [
    "2 * 3\n",
    "#> [1] 6"
   ]
  },
  {
   "cell_type": "code",
   "execution_count": null,
   "metadata": {},
   "outputs": [],
   "source": [
    "10 / 3\n",
    "#> [1] 3.333333"
   ]
  },
  {
   "cell_type": "code",
   "execution_count": null,
   "metadata": {},
   "outputs": [],
   "source": [
    "10 %/% 3 # 商\n",
    "#> [1] 3\n",
    "\n",
    "10 %% 3  # 余り\n",
    "#> [1] 1"
   ]
  },
  {
   "cell_type": "markdown",
   "metadata": {},
   "source": [
    "### 3.1.2 変数"
   ]
  },
  {
   "cell_type": "code",
   "execution_count": null,
   "metadata": {},
   "outputs": [],
   "source": [
    "x <- 2\n",
    "y <- 3\n",
    "x * y\n",
    "#> [1] 6\n",
    "\n",
    "library(keras)\n",
    "c(x, y) %<-% c(20, 30) # まとめて名付け\n",
    "x * y\n",
    "#> [1] 600"
   ]
  },
  {
   "cell_type": "code",
   "execution_count": null,
   "metadata": {},
   "outputs": [],
   "source": [
    "x <- 1 + 1\n",
    "# この段階では結果は表示されない\n",
    "\n",
    "x # 変数名を評価する．\n",
    "#> [1] 2"
   ]
  },
  {
   "cell_type": "markdown",
   "metadata": {},
   "source": [
    "### 3.1.3 文字列"
   ]
  },
  {
   "cell_type": "code",
   "execution_count": null,
   "metadata": {},
   "outputs": [],
   "source": [
    "my_s <- \"abcde\""
   ]
  },
  {
   "cell_type": "code",
   "execution_count": null,
   "metadata": {},
   "outputs": [],
   "source": [
    "nchar(my_s)\n",
    "#> [1] 5"
   ]
  },
  {
   "cell_type": "code",
   "execution_count": null,
   "metadata": {},
   "outputs": [],
   "source": [
    "library(tidyverse)\n",
    "str_c(\"This is \", \"a\", \" pen.\")\n",
    "#> [1] \"This is a pen.\""
   ]
  },
  {
   "cell_type": "code",
   "execution_count": null,
   "metadata": {},
   "outputs": [],
   "source": [
    "substr(x = my_s, start = 2, stop = 4)\n",
    "#> [1] \"bcd\""
   ]
  },
  {
   "cell_type": "code",
   "execution_count": null,
   "metadata": {},
   "outputs": [],
   "source": [
    "tmp <- \"%s is %s.\"\n",
    "sprintf(tmp, \"This\", \"a pen\")\n",
    "#> [1] \"This is a pen.\""
   ]
  },
  {
   "cell_type": "markdown",
   "metadata": {},
   "source": [
    "### 3.1.4 論理値"
   ]
  },
  {
   "cell_type": "code",
   "execution_count": null,
   "metadata": {},
   "outputs": [],
   "source": [
    "1 <= 2\n",
    "#> [1] TRUE\n",
    "\n",
    "1 < 0\n",
    "#> [1] FALSE"
   ]
  },
  {
   "cell_type": "code",
   "execution_count": null,
   "metadata": {},
   "outputs": [],
   "source": [
    "0.1 + 0.1 + 0.1 == 0.3\n",
    "#> [1] FALSE\n",
    "\n",
    "all.equal(0.1 + 0.1 + 0.1, 0.3)\n",
    "#> [1] TRUE"
   ]
  },
  {
   "cell_type": "code",
   "execution_count": null,
   "metadata": {},
   "outputs": [],
   "source": [
    "TRUE & FALSE # 論理積（かつ）\n",
    "#> [1] FALSE\n",
    "\n",
    "TRUE | FALSE # 論理和（または）\n",
    "#> [1] TRUE\n",
    "\n",
    "!TRUE        # 否定（でない）\n",
    "#> [1] FALSE"
   ]
  },
  {
   "cell_type": "markdown",
   "metadata": {},
   "source": [
    "#### 3.1.4.1 条件演算子"
   ]
  },
  {
   "cell_type": "code",
   "execution_count": null,
   "metadata": {},
   "outputs": [],
   "source": [
    "ifelse(3 < 5, 0, 10)\n",
    "#> 0"
   ]
  },
  {
   "cell_type": "markdown",
   "metadata": {},
   "source": [
    "### 3.1.5 作業ディレクトリ"
   ]
  },
  {
   "cell_type": "code",
   "execution_count": null,
   "metadata": {},
   "outputs": [],
   "source": [
    "getwd()\n",
    "#> '/home/jovyan/work'"
   ]
  },
  {
   "cell_type": "code",
   "execution_count": null,
   "metadata": {},
   "outputs": [],
   "source": [
    "setwd(\"..\")\n",
    "getwd()\n",
    "#> '/home/jovyan'"
   ]
  },
  {
   "cell_type": "markdown",
   "metadata": {},
   "source": [
    "## 3.2 関数\n",
    "\n",
    "### 3.2.1 関数の利用"
   ]
  },
  {
   "cell_type": "code",
   "execution_count": null,
   "metadata": {},
   "outputs": [],
   "source": [
    "sqrt(4)\n",
    "#> [1] 2"
   ]
  },
  {
   "cell_type": "code",
   "execution_count": null,
   "metadata": {},
   "outputs": [],
   "source": [
    "log(100, 10)\n",
    "#> [1] 2"
   ]
  },
  {
   "cell_type": "code",
   "execution_count": null,
   "metadata": {},
   "outputs": [],
   "source": [
    "log(100)         # 自然対数\n",
    "# あるいは\n",
    "log(100, exp(1)) # 省略しない場合\n",
    "\n",
    "#> [1] 4.60517"
   ]
  },
  {
   "cell_type": "code",
   "execution_count": null,
   "metadata": {},
   "outputs": [],
   "source": [
    "log10(100) # 常用対数\n",
    "#> [1] 2\n",
    "\n",
    "log2(1024) # 底が2の対数\n",
    "#> [1] 10"
   ]
  },
  {
   "cell_type": "markdown",
   "metadata": {},
   "source": [
    "#### 3.2.1.1 パイプ（Rのみ）"
   ]
  },
  {
   "cell_type": "code",
   "execution_count": null,
   "metadata": {},
   "outputs": [],
   "source": [
    "library(tidyverse)\n",
    "4 %>% sqrt"
   ]
  },
  {
   "cell_type": "code",
   "execution_count": null,
   "metadata": {},
   "outputs": [],
   "source": [
    "exp(log(5))       # 通常の書き方\n",
    "# あるいは\n",
    "5 %>% log %>% exp # パイプを使う書き方\n",
    "\n",
    "#> 5"
   ]
  },
  {
   "cell_type": "markdown",
   "metadata": {},
   "source": [
    "### 3.2.2 関数の定義"
   ]
  },
  {
   "cell_type": "code",
   "execution_count": null,
   "metadata": {},
   "outputs": [],
   "source": [
    "f <- function(a, b) {\n",
    "  a - b\n",
    "}"
   ]
  },
  {
   "cell_type": "code",
   "execution_count": null,
   "metadata": {},
   "outputs": [],
   "source": [
    "f(3, 5)\n",
    "#> [1] -2"
   ]
  },
  {
   "cell_type": "markdown",
   "metadata": {},
   "source": [
    "#### 3.2.2.1 デフォルト引数"
   ]
  },
  {
   "cell_type": "code",
   "execution_count": null,
   "metadata": {},
   "outputs": [],
   "source": [
    "f <- function(a, b = 5) {\n",
    "  a - b\n",
    "}\n",
    "\n",
    "f(3) # f(3, 5)と同じこと\n",
    "#> [1] -2"
   ]
  },
  {
   "cell_type": "markdown",
   "metadata": {},
   "source": [
    "#### 3.2.2.2 無名関数"
   ]
  },
  {
   "cell_type": "code",
   "execution_count": null,
   "metadata": {},
   "outputs": [],
   "source": [
    "(function(a, b) { a - b })(3, 5)\n",
    "#> [1] -2"
   ]
  },
  {
   "cell_type": "markdown",
   "metadata": {},
   "source": [
    "## 3.3 コレクション\n",
    "\n",
    "### 3.3.1 1次元データ"
   ]
  },
  {
   "cell_type": "code",
   "execution_count": null,
   "metadata": {},
   "outputs": [],
   "source": [
    "x <- c(\"foo\", \"bar\", \"baz\")"
   ]
  },
  {
   "cell_type": "code",
   "execution_count": null,
   "metadata": {},
   "outputs": [],
   "source": [
    "length(x)\n",
    "#> [1] 3"
   ]
  },
  {
   "cell_type": "code",
   "execution_count": null,
   "metadata": {},
   "outputs": [],
   "source": [
    "x[2]\n",
    "#> [1] \"bar\""
   ]
  },
  {
   "cell_type": "code",
   "execution_count": null,
   "metadata": {},
   "outputs": [],
   "source": [
    "x[2] <- \"BAR\"\n",
    "x # 結果の確認\n",
    "#> [1] \"foo\" \"BAR\" \"baz\"\n",
    "\n",
    "x[2] <- \"bar\" # 元に戻す．"
   ]
  },
  {
   "cell_type": "code",
   "execution_count": null,
   "metadata": {},
   "outputs": [],
   "source": [
    "x[-2]\n",
    "#> [1] \"foo\" \"baz\""
   ]
  },
  {
   "cell_type": "code",
   "execution_count": null,
   "metadata": {},
   "outputs": [],
   "source": [
    "c(x, \"qux\")\n",
    "#> [1] \"foo\" \"bar\" \"baz\" \"qux\""
   ]
  },
  {
   "cell_type": "code",
   "execution_count": null,
   "metadata": {},
   "outputs": [],
   "source": [
    "x <- c(x, \"qux\")\n",
    "x # 結果の確認\n",
    "#> [1] \"foo\" \"bar\" \"baz\" \"qux\""
   ]
  },
  {
   "cell_type": "markdown",
   "metadata": {},
   "source": [
    "#### 3.3.1.1 等間隔の数値からなる1次元データ"
   ]
  },
  {
   "cell_type": "code",
   "execution_count": null,
   "metadata": {},
   "outputs": [],
   "source": [
    "1:5\n",
    "#> [1] 1 2 3 4 5"
   ]
  },
  {
   "cell_type": "code",
   "execution_count": null,
   "metadata": {},
   "outputs": [],
   "source": [
    "seq(from = 0, to = 10, by = 2)\n",
    "#> [1]  0  2  4  6  8 10"
   ]
  },
  {
   "cell_type": "code",
   "execution_count": null,
   "metadata": {},
   "outputs": [],
   "source": [
    "seq(from = 0, to = 1, by = 0.5)\n",
    "#> [1] 0.0 0.5 1.0"
   ]
  },
  {
   "cell_type": "code",
   "execution_count": null,
   "metadata": {},
   "outputs": [],
   "source": [
    "seq(from = 0, to = 100, length.out = 5)\n",
    "#> [1]   0  25  50  75 100"
   ]
  },
  {
   "cell_type": "code",
   "execution_count": null,
   "metadata": {},
   "outputs": [],
   "source": [
    "rep(x = 10, times = 5)\n",
    "#> [1] 10 10 10 10 10"
   ]
  },
  {
   "cell_type": "markdown",
   "metadata": {},
   "source": [
    "#### 3.3.1.2 ファクタ（Rのみ）"
   ]
  },
  {
   "cell_type": "code",
   "execution_count": null,
   "metadata": {},
   "outputs": [],
   "source": [
    "tmp <- c(\"グー\", \"パー\", \"グー\", \"パー\")\n",
    "x <- factor(tmp, levels = c(\"グー\", \"チョキ\", \"パー\"))\n",
    "x\n",
    "#> [1] グー パー グー パー\n",
    "#> Levels: グー チョキ パー"
   ]
  },
  {
   "cell_type": "markdown",
   "metadata": {},
   "source": [
    "### 3.3.2 数値計算やデータ解析用の1次元データ"
   ]
  },
  {
   "cell_type": "code",
   "execution_count": null,
   "metadata": {},
   "outputs": [],
   "source": [
    "x <- c(2, 3, 5, 7)\n",
    "\n",
    "x + 10 # 加算\n",
    "#> [1] 12 13 15 17\n",
    "\n",
    "x * 10 # 乗算\n",
    "#> [1] 20 30 50 70"
   ]
  },
  {
   "cell_type": "code",
   "execution_count": null,
   "metadata": {},
   "outputs": [],
   "source": [
    "x <- c(2, 3)\n",
    "sin(x)\n",
    "#> [1] 0.9092974 0.1411200"
   ]
  },
  {
   "cell_type": "code",
   "execution_count": null,
   "metadata": {},
   "outputs": [],
   "source": [
    "x <- c(2,  3,   5,    7)\n",
    "y <- c(1, 10, 100, 1000)\n",
    "x + y\n",
    "#> [1]    3   13  105 1007\n",
    "\n",
    "x * y\n",
    "#> [1]    2   30  500 7000"
   ]
  },
  {
   "cell_type": "code",
   "execution_count": null,
   "metadata": {},
   "outputs": [],
   "source": [
    "sum(x * y)\n",
    "#> [1] 7532"
   ]
  },
  {
   "cell_type": "code",
   "execution_count": null,
   "metadata": {},
   "outputs": [],
   "source": [
    "x <- c(TRUE, FALSE)\n",
    "y <- c(TRUE, TRUE)\n",
    "x & y\n",
    "#> [1]  TRUE FALSE"
   ]
  },
  {
   "cell_type": "markdown",
   "metadata": {},
   "source": [
    "#### 3.3.2.1 1次元データ同士の比較"
   ]
  },
  {
   "cell_type": "code",
   "execution_count": null,
   "metadata": {},
   "outputs": [],
   "source": [
    "u <- c(1, 2, 3)\n",
    "v <- c(1, 2, 3)\n",
    "w <- c(1, 2, 4)\n",
    "\n",
    "identical(u, v) # 全体の比較\n",
    "#> [1] TRUE\n",
    "\n",
    "identical(u, w) # 全体の比較\n",
    "#> [1] FALSE\n",
    "\n",
    "u == v          # 要素ごとの比較\n",
    "#> [1] TRUE TRUE TRUE\n",
    "\n",
    "u == w          # 要素ごとの比較\n",
    "#> [1]  TRUE  TRUE FALSE"
   ]
  },
  {
   "cell_type": "code",
   "execution_count": null,
   "metadata": {},
   "outputs": [],
   "source": [
    "sum(u == w)  # 同じ要素の数\n",
    "#> [1] 2\n",
    "\n",
    "mean(u == w) # 同じ要素の割合\n",
    "#> [1] 0.6666667"
   ]
  },
  {
   "cell_type": "markdown",
   "metadata": {},
   "source": [
    "### 3.3.3 複数種類のデータをひとまとめにする"
   ]
  },
  {
   "cell_type": "code",
   "execution_count": null,
   "metadata": {},
   "outputs": [],
   "source": [
    "x <- list(1, \"two\")"
   ]
  },
  {
   "cell_type": "code",
   "execution_count": null,
   "metadata": {},
   "outputs": [],
   "source": [
    "x[[2]]\n",
    "#> [1] \"two\""
   ]
  },
  {
   "cell_type": "markdown",
   "metadata": {},
   "source": [
    "### 3.3.4 文字列と値のペアのコレクション"
   ]
  },
  {
   "cell_type": "code",
   "execution_count": null,
   "metadata": {},
   "outputs": [],
   "source": [
    "x <- list(\"apple\"  = \"りんご\",\n",
    "          \"orange\" = \"みかん\")"
   ]
  },
  {
   "cell_type": "code",
   "execution_count": null,
   "metadata": {},
   "outputs": [],
   "source": [
    "x[[\"grape\"]] <- \"ぶどう\""
   ]
  },
  {
   "cell_type": "code",
   "execution_count": null,
   "metadata": {},
   "outputs": [],
   "source": [
    "x$apple\n",
    "# あるいは\n",
    "x$\"apple\"\n",
    "# あるいは\n",
    "x[[\"apple\"]]\n",
    "# あるいは\n",
    "tmp <- \"apple\"\n",
    "x[[tmp]]\n",
    "\n",
    "#> [1] \"りんご\""
   ]
  },
  {
   "cell_type": "markdown",
   "metadata": {},
   "source": [
    "### 3.3.5 補足：コピーと参照"
   ]
  },
  {
   "cell_type": "code",
   "execution_count": null,
   "metadata": {},
   "outputs": [],
   "source": [
    "x <- c(\"foo\", \"bar\", \"baz\")\n",
    "y <- x\n",
    "y[2] <- \"BAR\" # yを更新する．\n",
    "y\n",
    "#> [1] \"foo\" \"BAR\" \"baz\"\n",
    "\n",
    "x             # xは変わらない．\n",
    "#> [1] \"foo\" \"bar\" \"baz\""
   ]
  },
  {
   "cell_type": "markdown",
   "metadata": {},
   "source": [
    "## 3.4 データフレーム\n",
    "\n",
    "### 3.4.1 データフレームの作成"
   ]
  },
  {
   "cell_type": "code",
   "execution_count": null,
   "metadata": {},
   "outputs": [],
   "source": [
    "library(tidyverse)"
   ]
  },
  {
   "cell_type": "markdown",
   "metadata": {},
   "source": [
    "#### 3.4.1.1 データを列ごとに記述する方法"
   ]
  },
  {
   "cell_type": "code",
   "execution_count": null,
   "metadata": {},
   "outputs": [],
   "source": [
    "my_df <- data.frame(\n",
    "  name    = c(\"A\", \"B\", \"C\", \"D\"),\n",
    "  english = c( 60,  90,  70,  90),\n",
    "  math    = c( 70,  80,  90, 100),\n",
    "  gender  = c(\"f\", \"m\", \"m\", \"f\"))"
   ]
  },
  {
   "cell_type": "markdown",
   "metadata": {},
   "source": [
    "#### 3.4.1.2 データを見た目のとおりに記述する方法"
   ]
  },
  {
   "cell_type": "code",
   "execution_count": null,
   "metadata": {},
   "outputs": [],
   "source": [
    "my_df <- tribble(\n",
    "  ~name, ~english, ~math, ~gender,\n",
    "  \"A\",         60,    70,     \"f\",\n",
    "  \"B\",         90,    80,     \"m\",\n",
    "  \"C\",         70,    90,     \"m\",\n",
    "  \"D\",         90,   100,     \"f\")"
   ]
  },
  {
   "cell_type": "code",
   "execution_count": null,
   "metadata": {},
   "outputs": [],
   "source": [
    "head(my_df)\n",
    "# 結果は割愛"
   ]
  },
  {
   "cell_type": "markdown",
   "metadata": {},
   "source": [
    "#### 3.4.1.3 データフレームのサイズ"
   ]
  },
  {
   "cell_type": "code",
   "execution_count": null,
   "metadata": {},
   "outputs": [],
   "source": [
    "dim(my_df)  # 行数と列数\n",
    "#> [1] 4 4\n",
    "\n",
    "nrow(my_df) # 行数\n",
    "#> [1] 4\n",
    "\n",
    "ncol(my_df) # 列数\n",
    "#> [1] 4"
   ]
  },
  {
   "cell_type": "markdown",
   "metadata": {},
   "source": [
    "#### 3.4.1.4 組合せ"
   ]
  },
  {
   "cell_type": "code",
   "execution_count": null,
   "metadata": {},
   "outputs": [],
   "source": [
    "my_df2 <- expand.grid(\n",
    "  X = c(1, 2, 3),\n",
    "  Y = c(10, 100))\n",
    "my_df2\n",
    "#>   X   Y\n",
    "#> 1 1  10\n",
    "#> 2 2  10\n",
    "#> 3 3  10\n",
    "#> 4 1 100\n",
    "#> 5 2 100\n",
    "#> 6 3 100"
   ]
  },
  {
   "cell_type": "markdown",
   "metadata": {},
   "source": [
    "#### 3.4.1.5 列と行の名前"
   ]
  },
  {
   "cell_type": "code",
   "execution_count": null,
   "metadata": {},
   "outputs": [],
   "source": [
    "colnames(my_df2)\n",
    "#> [1] \"X\" \"Y\""
   ]
  },
  {
   "cell_type": "code",
   "execution_count": null,
   "metadata": {},
   "outputs": [],
   "source": [
    "colnames(my_df2) <- c(\"P\", \"Q\")\n",
    "my_df2\n",
    "#>   P   Q\n",
    "#> 1 1  10\n",
    "#> 2 2  10\n",
    "# 以下省略"
   ]
  },
  {
   "cell_type": "code",
   "execution_count": null,
   "metadata": {},
   "outputs": [],
   "source": [
    "row.names(my_df)\n",
    "#> [1] \"1\" \"2\" \"3\" \"4\""
   ]
  },
  {
   "cell_type": "code",
   "execution_count": null,
   "metadata": {},
   "outputs": [],
   "source": [
    "row.names(my_df2) <-\n",
    "  c(\"a\", \"b\", \"c\", \"d\", \"e\", \"f\")\n",
    "my_df2\n",
    "#>   P   Q\n",
    "#> a 1  10\n",
    "#> b 2  10\n",
    "#> c 3  10\n",
    "# 以下省略"
   ]
  },
  {
   "cell_type": "code",
   "execution_count": null,
   "metadata": {},
   "outputs": [],
   "source": [
    "my_df3 <- data.frame(\n",
    "  english =   c( 60,  90,  70,  90),\n",
    "  math    =   c( 70,  80,  90, 100),\n",
    "  gender  =   c(\"f\", \"m\", \"m\", \"f\"),\n",
    "  row.names = c(\"A\", \"B\", \"C\", \"D\"))\n",
    "my_df3\n",
    "#>   english math gender\n",
    "#> A      60   70      f\n",
    "#> B      90   80      m\n",
    "#> C      70   90      m\n",
    "#> D      90  100      f"
   ]
  },
  {
   "cell_type": "markdown",
   "metadata": {},
   "source": [
    "### 3.4.2 データの追加\n",
    "\n",
    "#### 3.4.2.1 行の追加（データフレームの結合）"
   ]
  },
  {
   "cell_type": "code",
   "execution_count": null,
   "metadata": {},
   "outputs": [],
   "source": [
    "tmp <- data.frame(\n",
    "  name    = \"E\",\n",
    "  english =  80,\n",
    "  math    =  80,\n",
    "  gender  = \"m\")\n",
    "my_df2 <- rbind(my_df, tmp)"
   ]
  },
  {
   "cell_type": "markdown",
   "metadata": {},
   "source": [
    "#### 3.4.2.2 列の追加"
   ]
  },
  {
   "cell_type": "code",
   "execution_count": null,
   "metadata": {},
   "outputs": [],
   "source": [
    "my_df2 <- my_df %>%\n",
    "  mutate(id = c(1, 2, 3, 4))"
   ]
  },
  {
   "cell_type": "code",
   "execution_count": null,
   "metadata": {},
   "outputs": [],
   "source": [
    "my_df3 <- my_df               # コピー\n",
    "my_df3[\"id\"] <- c(1, 2, 3, 4) # 更新\n",
    "my_df3 # 結果の確認（割愛）"
   ]
  },
  {
   "cell_type": "markdown",
   "metadata": {},
   "source": [
    "### 3.4.3 データの取り出し\n",
    "\n",
    "#### 3.4.3.1 観測値の取り出し"
   ]
  },
  {
   "cell_type": "code",
   "execution_count": null,
   "metadata": {},
   "outputs": [],
   "source": [
    "my_df[1, 2]\n",
    "#> [1] 60"
   ]
  },
  {
   "cell_type": "markdown",
   "metadata": {},
   "source": [
    "#### 3.4.3.2 1列の取り出し（結果は1次元データ）"
   ]
  },
  {
   "cell_type": "code",
   "execution_count": null,
   "metadata": {},
   "outputs": [],
   "source": [
    "x <- my_df[, 2]\n",
    "# あるいは\n",
    "x <- my_df$english\n",
    "# あるいは\n",
    "x <- my_df$\"english\"\n",
    "# あるいは\n",
    "x <- my_df[[\"english\"]]\n",
    "# あるいは\n",
    "tmp <- \"english\"\n",
    "x <- my_df[[tmp]]\n",
    "\n",
    "x # 結果の確認（割愛）"
   ]
  },
  {
   "cell_type": "markdown",
   "metadata": {},
   "source": [
    "#### 3.4.3.3 複数列の取り出し（結果はデータフレーム）"
   ]
  },
  {
   "cell_type": "code",
   "execution_count": null,
   "metadata": {},
   "outputs": [],
   "source": [
    "x <- my_df %>% select(name, math)"
   ]
  },
  {
   "cell_type": "code",
   "execution_count": null,
   "metadata": {},
   "outputs": [],
   "source": [
    "x <- my_df[, c(1, 3)]"
   ]
  },
  {
   "cell_type": "code",
   "execution_count": null,
   "metadata": {},
   "outputs": [],
   "source": [
    "x <- my_df %>%\n",
    "  select(-c(english, gender))\n",
    "# あるいは\n",
    "x <- my_df[, -c(2, 4)]"
   ]
  },
  {
   "cell_type": "markdown",
   "metadata": {},
   "source": [
    "#### 3.4.3.4 複数行の取り出し（結果はデータフレーム）"
   ]
  },
  {
   "cell_type": "code",
   "execution_count": null,
   "metadata": {},
   "outputs": [],
   "source": [
    "x <- my_df[c(1, 3), ]"
   ]
  },
  {
   "cell_type": "code",
   "execution_count": null,
   "metadata": {},
   "outputs": [],
   "source": [
    "x <- my_df[-c(2, 4), ]"
   ]
  },
  {
   "cell_type": "markdown",
   "metadata": {},
   "source": [
    "#### 3.4.3.5 検索"
   ]
  },
  {
   "cell_type": "code",
   "execution_count": null,
   "metadata": {},
   "outputs": [],
   "source": [
    "x <- my_df[my_df$gender == \"m\", ]\n",
    "# あるいは\n",
    "x <- my_df %>% filter(gender == \"m\")"
   ]
  },
  {
   "cell_type": "code",
   "execution_count": null,
   "metadata": {},
   "outputs": [],
   "source": [
    "x <- my_df[my_df$english > 80 & my_df$gender == \"m\", ]\n",
    "# あるいは\n",
    "x <- my_df %>% filter(english > 80 & gender == \"m\")"
   ]
  },
  {
   "cell_type": "code",
   "execution_count": null,
   "metadata": {},
   "outputs": [],
   "source": [
    "x <- my_df[my_df$english == max(my_df$english), ]\n",
    "# あるいは\n",
    "x <- my_df %>% filter(english == max(my_df$english))"
   ]
  },
  {
   "cell_type": "code",
   "execution_count": null,
   "metadata": {},
   "outputs": [],
   "source": [
    "my_df2 <- my_df # コピー\n",
    "my_df2[my_df$gender == \"m\", ]$gender <- \"M\""
   ]
  },
  {
   "cell_type": "code",
   "execution_count": null,
   "metadata": {},
   "outputs": [],
   "source": [
    "my_df2\n",
    "#>   name english math gender\n",
    "#> 1    A      60   70      f\n",
    "#> 2    B      90   80      M\n",
    "#> 3    C      70   90      M\n",
    "#> 4    D      90  100      f"
   ]
  },
  {
   "cell_type": "markdown",
   "metadata": {},
   "source": [
    "#### 3.4.3.6 並べ替え"
   ]
  },
  {
   "cell_type": "code",
   "execution_count": null,
   "metadata": {},
   "outputs": [],
   "source": [
    "x <- my_df %>% arrange(english)"
   ]
  },
  {
   "cell_type": "code",
   "execution_count": null,
   "metadata": {},
   "outputs": [],
   "source": [
    "x <- my_df %>% arrange(-english)"
   ]
  },
  {
   "cell_type": "markdown",
   "metadata": {},
   "source": [
    "### 3.4.4 補足：行列\n",
    "\n",
    "#### 3.4.4.1 行列の生成"
   ]
  },
  {
   "cell_type": "code",
   "execution_count": null,
   "metadata": {},
   "outputs": [],
   "source": [
    "x <- c(2, 3, 5, 7, 11, 13, 17, 19, 23,\n",
    "       29, 31, 37)\n",
    "A <- matrix(\n",
    "  data = x,     # 1次元データ\n",
    "  nrow = 3,     # 行数\n",
    "  byrow = TRUE) # 行ごとの生成\n",
    "A\n",
    "#>      [,1] [,2] [,3] [,4]\n",
    "#> [1,]    2    3    5    7\n",
    "#> [2,]   11   13   17   19\n",
    "#> [3,]   23   29   31   37"
   ]
  },
  {
   "cell_type": "markdown",
   "metadata": {},
   "source": [
    "#### 3.4.4.2 データフレームと行列"
   ]
  },
  {
   "cell_type": "code",
   "execution_count": null,
   "metadata": {},
   "outputs": [],
   "source": [
    "A <- my_df[, c(2, 3)] %>% as.matrix\n",
    "A\n",
    "#>      english math\n",
    "#> [1,]      60   70\n",
    "#> [2,]      90   80\n",
    "#> [3,]      70   90\n",
    "#> [4,]      90  100"
   ]
  },
  {
   "cell_type": "code",
   "execution_count": null,
   "metadata": {},
   "outputs": [],
   "source": [
    "as.data.frame(A)\n",
    "#>   english math\n",
    "#> 1      60   70\n",
    "#> 2      90   80\n",
    "#> 3      70   90\n",
    "#> 4      90  100"
   ]
  },
  {
   "cell_type": "markdown",
   "metadata": {},
   "source": [
    "#### 3.4.4.3 行列の変形"
   ]
  },
  {
   "cell_type": "code",
   "execution_count": null,
   "metadata": {},
   "outputs": [],
   "source": [
    "t(A)\n",
    "#>         [,1] [,2] [,3] [,4]\n",
    "#> english   60   90   70   90\n",
    "#> math      70   80   90  100"
   ]
  },
  {
   "cell_type": "markdown",
   "metadata": {},
   "source": [
    "#### 3.4.4.4 行列の積"
   ]
  },
  {
   "cell_type": "code",
   "execution_count": null,
   "metadata": {},
   "outputs": [],
   "source": [
    "t(A) %*% A\n",
    "#>         english  math\n",
    "#> english   24700 26700\n",
    "#> math      26700 29400"
   ]
  },
  {
   "cell_type": "markdown",
   "metadata": {},
   "source": [
    "### 3.4.5 縦型と横型"
   ]
  },
  {
   "cell_type": "code",
   "execution_count": null,
   "metadata": {},
   "outputs": [],
   "source": [
    "my_wider <- data.frame(\n",
    "  day = c(25, 26, 27),\n",
    "  min = c(20, 21, 15),\n",
    "  max = c(24, 27, 21))"
   ]
  },
  {
   "cell_type": "code",
   "execution_count": null,
   "metadata": {},
   "outputs": [],
   "source": [
    "my_longer <- my_wider %>%\n",
    "  pivot_longer(-day)\n",
    "my_longer\n",
    "#> # A tibble: 6 x 3\n",
    "#>     day name  value\n",
    "#>   <dbl> <chr> <dbl>\n",
    "#> 1    25 min      20\n",
    "#> 2    25 max      24\n",
    "#> 3    26 min      21\n",
    "#> 4    26 max      27\n",
    "#> 5    27 min      15\n",
    "#> 6    27 max      21"
   ]
  },
  {
   "cell_type": "code",
   "execution_count": null,
   "metadata": {},
   "outputs": [],
   "source": [
    "my_longer %>% pivot_wider()\n",
    "#> # A tibble: 3 x 3\n",
    "#>     day   min   max\n",
    "#>   <dbl> <dbl> <dbl>\n",
    "#> 1    25    20    24\n",
    "#> 2    26    21    27\n",
    "#> 3    27    15    21"
   ]
  },
  {
   "cell_type": "code",
   "execution_count": null,
   "metadata": {},
   "outputs": [],
   "source": [
    "my_longer %>%\n",
    "  ggplot(aes(x = day, y = value,\n",
    "             color = name)) +\n",
    "  geom_point() +\n",
    "  geom_line() +\n",
    "  ylab(\"temperature\") + # y軸ラベル\n",
    "  scale_x_continuous(\n",
    "    breaks = my_longer$day) # x軸目盛り"
   ]
  },
  {
   "cell_type": "markdown",
   "metadata": {},
   "source": [
    "## 3.5 1次元データの（非）類似度\n",
    "\n",
    "### 3.5.1 ユークリッド距離"
   ]
  },
  {
   "cell_type": "code",
   "execution_count": null,
   "metadata": {},
   "outputs": [],
   "source": [
    "A <- c(3,   4,  5)\n",
    "B <- c(3,   4, 29)\n",
    "C <- c(9, -18,  8)\n",
    "AB <- B - A\n",
    "AC <- C - A\n",
    "\n",
    "sum(AB^2)^0.5\n",
    "#> [1] 24\n",
    "\n",
    "sum(AC^2)^0.5\n",
    "#> [1] 23"
   ]
  },
  {
   "cell_type": "markdown",
   "metadata": {},
   "source": [
    "### 3.5.2 マンハッタン距離"
   ]
  },
  {
   "cell_type": "code",
   "execution_count": null,
   "metadata": {},
   "outputs": [],
   "source": [
    "sum(abs(AB))\n",
    "#> [1] 24\n",
    "\n",
    "sum(abs(AC))\n",
    "#> [1] 31"
   ]
  },
  {
   "cell_type": "markdown",
   "metadata": {},
   "source": [
    "### 3.5.3 コサイン類似度"
   ]
  },
  {
   "cell_type": "code",
   "execution_count": null,
   "metadata": {},
   "outputs": [],
   "source": [
    "sum(A * B) /\n",
    "  sum(A * A)^0.5 / sum(B * B)^0.5\n",
    "#> [1] 0.8169679\n",
    "\n",
    "sum(A * C) /\n",
    "  sum(A * A)^0.5 / sum(C * C)^0.5\n",
    "#> [1] -0.03265116"
   ]
  },
  {
   "cell_type": "markdown",
   "metadata": {},
   "source": [
    "### 3.5.4 相関係数"
   ]
  },
  {
   "cell_type": "code",
   "execution_count": null,
   "metadata": {},
   "outputs": [],
   "source": [
    "cor(A, B)\n",
    "#> [1] 0.8824975\n",
    "\n",
    "cor(A, C)\n",
    "#> [1] -0.03266277"
   ]
  },
  {
   "cell_type": "markdown",
   "metadata": {},
   "source": [
    "#### 3.5.4.1 データフレームを使う方法"
   ]
  },
  {
   "cell_type": "code",
   "execution_count": null,
   "metadata": {},
   "outputs": [],
   "source": [
    "library(tidyverse)\n",
    "\n",
    "\n",
    "\n",
    "my_df <- data.frame(\n",
    "  x = c(3,  3,   9),\n",
    "  y = c(4,  4, -18),\n",
    "  z = c(5, 29,   8),\n",
    "  row.names = c(\"A\", \"B\", \"C\"))\n",
    "\n",
    "# ユークリッド距離\n",
    "my_df %>% proxy::dist(\"Euclidean\")\n",
    "#>    A  B\n",
    "#> B 24\n",
    "#> C 23 31\n",
    "\n",
    "\n",
    "# マンハッタン距離\n",
    "my_df %>% proxy::dist(\"Manhattan\")\n",
    "#>    A  B\n",
    "#> B 24\n",
    "#> C 31 49\n",
    "\n",
    "\n",
    "# コサイン類似度\n",
    "my_df %>% proxy::simil(\"cosine\")\n",
    "#>             A           B\n",
    "#> B  0.81696786\n",
    "#> C -0.03265116  0.29342441\n",
    "\n",
    "\n",
    "# 相関係数\n",
    "my_df %>% proxy::simil(\"correlation\")\n",
    "#>             A           B\n",
    "#> B  0.88249750\n",
    "#> C -0.03266277  0.44124132"
   ]
  },
  {
   "cell_type": "markdown",
   "metadata": {},
   "source": [
    "## 3.6 Rのパッケージ，Pythonのモジュール\n",
    "\n",
    "### 3.6.1 Rのパッケージ"
   ]
  },
  {
   "cell_type": "code",
   "execution_count": null,
   "metadata": {},
   "outputs": [],
   "source": [
    "library(tidyverse)"
   ]
  },
  {
   "cell_type": "markdown",
   "metadata": {},
   "source": [
    "### 3.6.2 Pythonのモジュール\n",
    "\n",
    "## 3.7 反復処理"
   ]
  },
  {
   "cell_type": "code",
   "execution_count": null,
   "metadata": {},
   "outputs": [],
   "source": [
    "library(tidyverse)"
   ]
  },
  {
   "cell_type": "markdown",
   "metadata": {},
   "source": [
    "### 3.7.1 指定した回数→1次元データ"
   ]
  },
  {
   "cell_type": "code",
   "execution_count": null,
   "metadata": {},
   "outputs": [],
   "source": [
    "f1 <- function(x) {\n",
    "  tmp <- runif(x)\n",
    "  mean(tmp)\n",
    "}\n",
    "\n",
    "f1(10)           # 動作確認\n",
    "#> [1] 0.5776604 # 結果の例"
   ]
  },
  {
   "cell_type": "code",
   "execution_count": null,
   "metadata": {},
   "outputs": [],
   "source": [
    "replicate(n = 3, expr = f1(10))\n",
    "#> [1] 0.4672766 0.4712016 0.5579449"
   ]
  },
  {
   "cell_type": "code",
   "execution_count": null,
   "metadata": {},
   "outputs": [],
   "source": [
    "rep(x = f1(10), times = 3)\n",
    "#> [1] 0.481329 0.481329 0.481329"
   ]
  },
  {
   "cell_type": "markdown",
   "metadata": {},
   "source": [
    "### 3.7.2 1次元データ→1次元データ"
   ]
  },
  {
   "cell_type": "code",
   "execution_count": null,
   "metadata": {},
   "outputs": [],
   "source": [
    "v <- c(5, 10, 100)\n",
    "v %>% map_dbl(f1)\n",
    "#> [1] 0.4857329 0.5322183 0.5084124"
   ]
  },
  {
   "cell_type": "code",
   "execution_count": null,
   "metadata": {},
   "outputs": [],
   "source": [
    "rep(x = 10, times = 3) %>% map_dbl(f1)\n",
    "# 結果は割愛"
   ]
  },
  {
   "cell_type": "markdown",
   "metadata": {},
   "source": [
    "### 3.7.3 1次元データ→データフレーム"
   ]
  },
  {
   "cell_type": "code",
   "execution_count": null,
   "metadata": {},
   "outputs": [],
   "source": [
    "f2 <- function(n) {\n",
    "  tmp <- runif(n)\n",
    "  list(x = n,\n",
    "       p = mean(tmp),\n",
    "       q = sd(tmp))\n",
    "}\n",
    "\n",
    "f2(10) # 動作確認\n",
    "#> $x\n",
    "#> [1] 10\n",
    "#>\n",
    "#> $p\n",
    "#> [1] 0.6840032 （平均の例）\n",
    "#>\n",
    "#> $q\n",
    "#> [1] 0.3750788 （標準偏差の例）"
   ]
  },
  {
   "cell_type": "code",
   "execution_count": null,
   "metadata": {},
   "outputs": [],
   "source": [
    "v <- c(5, 10, 100)\n",
    "v %>% map_dfr(f2)\n",
    "#>       x     p     q\n",
    "#>   <dbl> <dbl> <dbl>\n",
    "#> 1     5 0.560 0.320\n",
    "#> 2    10 0.559 0.271\n",
    "#> 3   100 0.507 0.283"
   ]
  },
  {
   "cell_type": "markdown",
   "metadata": {},
   "source": [
    "### 3.7.4 データフレーム→データフレーム"
   ]
  },
  {
   "cell_type": "code",
   "execution_count": null,
   "metadata": {},
   "outputs": [],
   "source": [
    "f3 <- function(x, y) {\n",
    "  tmp <- runif(x, min = 1,\n",
    "                  max = y + 1) %>%\n",
    "    as.integer\n",
    "  list(x = x,\n",
    "       y = y,\n",
    "       p = mean(tmp),\n",
    "       q = sd(tmp))\n",
    "}\n",
    "\n",
    "f3(x = 10, y = 6) # 動作確認\n",
    "#> $x\n",
    "#> [1] 10\n",
    "#>\n",
    "#> $y\n",
    "#> [1] 6\n",
    "#>\n",
    "#> $p\n",
    "#> [1] 3.2 （平均の例）\n",
    "#>\n",
    "#> $q\n",
    "#> [1] 1.316561 （標準偏差の例）"
   ]
  },
  {
   "cell_type": "code",
   "execution_count": null,
   "metadata": {},
   "outputs": [],
   "source": [
    "my_df <- data.frame(\n",
    "  x = c(5, 10, 100,  5, 10, 100),\n",
    "  y = c(6,  6,   6, 12, 12,  12))\n",
    "\n",
    "my_df %>% pmap_dfr(f3)\n",
    "#>       x     y     p     q\n",
    "#>   <dbl> <dbl> <dbl> <dbl>\n",
    "#> 1     5     6  3     1.41\n",
    "#> 2    10     6  3     1.49\n",
    "#> 3   100     6  3.57  1.78\n",
    "#> 4     5    12  7.6   5.22\n",
    "#> 5    10    12  5.7   3.77\n",
    "#> 6   100    12  6.36  3.59"
   ]
  },
  {
   "cell_type": "markdown",
   "metadata": {},
   "source": [
    "### 3.7.5 補足：反復処理の並列化"
   ]
  },
  {
   "cell_type": "code",
   "execution_count": null,
   "metadata": {},
   "outputs": [],
   "source": [
    "library(furrr)\n",
    "plan(multisession) # 準備\n",
    "\n",
    "v <- c(5, 10, 100)\n",
    "v %>% future_map_dbl(f1, .options =\n",
    "  furrr_options(seed = TRUE))\n",
    "# 結果は割愛"
   ]
  },
  {
   "cell_type": "markdown",
   "metadata": {},
   "source": [
    "## 3.8 その他\n",
    "\n",
    "### 3.8.1 よく遭遇するエラーとその対処方法\n",
    "\n",
    "### 3.8.2 変数や関数についての調査"
   ]
  },
  {
   "cell_type": "code",
   "execution_count": null,
   "metadata": {},
   "outputs": [],
   "source": [
    "x <- 123\n",
    "typeof(x)\n",
    "#> [1] \"double\""
   ]
  },
  {
   "cell_type": "code",
   "execution_count": null,
   "metadata": {},
   "outputs": [],
   "source": [
    "?log\n",
    "# あるいは\n",
    "help(log)"
   ]
  },
  {
   "cell_type": "markdown",
   "metadata": {},
   "source": [
    "### 3.8.3 RのNA，Pythonのnan"
   ]
  },
  {
   "cell_type": "code",
   "execution_count": null,
   "metadata": {},
   "outputs": [],
   "source": [
    "v <- c(1, NA, 3)\n",
    "v\n",
    "#> [1]  1 NA  3"
   ]
  },
  {
   "cell_type": "code",
   "execution_count": null,
   "metadata": {},
   "outputs": [],
   "source": [
    "is.na(v[2])\n",
    "#> [1] TRUE\n",
    "\n",
    "v[2] == NA # 誤り\n",
    "#> [1] NA"
   ]
  }
 ],
 "nbformat": 4,
 "nbformat_minor": 5,
 "metadata": {
  "kernelspec": {
   "name": "ir",
   "display_name": "R"
  }
 }
}
