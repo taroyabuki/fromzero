{
 "cells": [
  {
   "cell_type": "markdown",
   "metadata": {},
   "source": [
    "## 4.4 統計的推測\n",
    "\n",
    "### 4.4.1 検定"
   ]
  },
  {
   "cell_type": "code",
   "execution_count": null,
   "metadata": {},
   "outputs": [],
   "source": [
    "library(exactci)\n",
    "library(tidyverse)\n",
    "\n",
    "a <- 0.05                              # 有意水準\n",
    "binom.exact(x = 2,                     # 当たった回数\n",
    "            n = 15,                    # くじを引いた回数\n",
    "            p = 4 / 10,                # 当たる確率（仮説）\n",
    "            plot = TRUE,               # p値の描画（結果は次項に掲載）\n",
    "            conf.level = 1 - a,        # 信頼係数（デフォルト）\n",
    "            tsmethod = \"minlike\",      # p値の定義\n",
    "            alternative = \"two.sided\") # 両側検定（デフォルト）\n",
    "                                       # 左片側検定なら'less'\n",
    "                                       # 右片側検定なら'greater'\n",
    "\n",
    "#>  Exact two-sided binomial test (central method)\n",
    "#>\n",
    "#> data:  2 and 15\n",
    "#> number of successes = 2, number of trials = 15,\n",
    "#> p-value = 0.03646\n",
    "#> alternative hypothesis: true probability of success is not equal to 0.4\n",
    "#> 95 percent confidence interval:\n",
    "#>  0.0242 0.3967\n",
    "#> sample estimates:\n",
    "#> probability of success\n",
    "#>              0.1333333"
   ]
  },
  {
   "cell_type": "markdown",
   "metadata": {},
   "source": [
    "#### 4.4.1.1 補足：p値とは何か"
   ]
  },
  {
   "cell_type": "code",
   "execution_count": null,
   "metadata": {},
   "outputs": [],
   "source": [
    "t <- 4 / 10               # 当たる確率\n",
    "n <- 15                   # くじを引いた回数\n",
    "x <- 0:n                  # 当たった回数\n",
    "my_pr  <- dbinom(x, n, t) # x回当たる確率\n",
    "my_pr2 <- dbinom(2, n, t) # 2回当たる確率\n",
    "\n",
    "my_data <- data.frame(x = x,\n",
    "                      probability = my_pr,\n",
    "                      color = my_pr <= my_pr2) # 当たる確率が，2回当たる確率以下\n",
    "\n",
    "my_data %>% ggplot(aes(x = x, y = probability, color = color)) +\n",
    "  geom_point(size = 3) +\n",
    "  geom_linerange(aes(ymin = 0, ymax = probability), ) + # 垂直線\n",
    "  geom_hline(yintercept = my_pr2) +                     # 水平線\n",
    "  theme(legend.position = \"none\")                       # 凡例を表示しない．"
   ]
  },
  {
   "cell_type": "markdown",
   "metadata": {},
   "source": [
    "### 4.4.2 推定"
   ]
  },
  {
   "cell_type": "code",
   "execution_count": null,
   "metadata": {},
   "outputs": [],
   "source": [
    "# 前項の結果（再掲）\n",
    "#> 95 percent confidence interval:\n",
    "#>  0.0242 0.3967"
   ]
  },
  {
   "cell_type": "code",
   "execution_count": null,
   "metadata": {},
   "outputs": [],
   "source": [
    "# 前項冒頭のコード"
   ]
  },
  {
   "cell_type": "markdown",
   "metadata": {},
   "source": [
    "### 4.4.3 平均の差の検定と推定（t検定）"
   ]
  },
  {
   "cell_type": "code",
   "execution_count": null,
   "metadata": {},
   "outputs": [],
   "source": [
    "X <- c(32.1, 26.2, 27.5, 31.8, 32.1, 31.2, 30.1, 32.4, 32.3, 29.9,\n",
    "       29.6, 26.6, 31.2, 30.9, 29.3)\n",
    "Y <- c(35.4, 34.6, 31.1, 32.4, 33.3, 34.7, 35.3, 34.3, 32.1, 28.3,\n",
    "       33.3, 30.5, 32.6, 33.3, 32.2)\n",
    "\n",
    "t.test(x = X, y = Y,\n",
    "       conf.level = 0.95,         # 信頼係数（デフォルト）\n",
    "       paired = TRUE,             # 対標本である．\n",
    "       alternative = \"two.sided\") # 両側検定（デフォルト）\n",
    "                                  # 左片側検定なら'less'\n",
    "                                  # 右片側検定なら'greater'\n",
    "\n",
    "#>  Paired t-test\n",
    "#>\n",
    "#> data:  X and Y\n",
    "#> t = -4.3694, df = 14, p-value = 0.0006416\n",
    "#> alternative hypothesis: true difference in means is not equal to 0\n",
    "#> 95 percent confidence interval:\n",
    "#>  -3.995525 -1.364475\n",
    "#> sample estimates:\n",
    "#> mean of the differences\n",
    "#>                   -2.68"
   ]
  },
  {
   "cell_type": "code",
   "execution_count": null,
   "metadata": {},
   "outputs": [],
   "source": [
    "t.test(x = X, y = Y,\n",
    "       paired = FALSE,   # 対標本ではない（デフォルト）．\n",
    "       var.equal = TRUE, # 等分散を仮定する．仮定しないならFALSE（デフォルト）．\n",
    "       alternative = \"two.sided\",\n",
    "       conf.level = 0.95)\n",
    "\n",
    "#>  Two Sample t-test\n",
    "#>\n",
    "#> data:  X and Y\n",
    "#> t = -3.6821, df = 28, p-value = 0.0009785\n",
    "#> alternative hypothesis: true difference in means is not equal to 0\n",
    "#> 95 percent confidence interval:\n",
    "#>  -4.170906 -1.189094\n",
    "#> sample estimates:\n",
    "#> mean of x mean of y\n",
    "#>  30.21333  32.89333"
   ]
  },
  {
   "cell_type": "markdown",
   "metadata": {},
   "source": [
    "### 4.4.4 独立性の検定（カイ2乗検定）"
   ]
  },
  {
   "cell_type": "code",
   "execution_count": null,
   "metadata": {},
   "outputs": [],
   "source": [
    "my_url <- str_c(\"https://raw.githubusercontent.com/taroyabuki\",\n",
    "                \"/fromzero/master/data/smoker.csv\")\n",
    "my_data <- read_csv(my_url)"
   ]
  },
  {
   "cell_type": "code",
   "execution_count": null,
   "metadata": {},
   "outputs": [],
   "source": [
    "head(my_data)\n",
    "#>   alive smoker\n",
    "#> 1   Yes     No\n",
    "#> 2   Yes     No\n",
    "#> 3   Yes     No\n",
    "#> 4   Yes     No\n",
    "#> 5   Yes     No\n",
    "#> 6   Yes     No"
   ]
  },
  {
   "cell_type": "code",
   "execution_count": null,
   "metadata": {},
   "outputs": [],
   "source": [
    "my_table <- table(my_data)\n",
    "my_table\n",
    "#>      smoker\n",
    "#> alive  No Yes\n",
    "#>   No  117  54\n",
    "#>   Yes 950 348"
   ]
  },
  {
   "cell_type": "code",
   "execution_count": null,
   "metadata": {},
   "outputs": [],
   "source": [
    "chisq.test(my_table, correct = FALSE)\n",
    "\n",
    "#>  Pearson's Chi-squared test\n",
    "#>\n",
    "#> data:  my_data\n",
    "#> X-squared = 1.7285, df = 1, p-value = 0.1886"
   ]
  },
  {
   "cell_type": "markdown",
   "metadata": {},
   "source": [
    "### 4.4.5 ブートストラップ\n",
    "\n",
    "#### 4.4.5.1 15回引いて2回当たったくじ"
   ]
  },
  {
   "cell_type": "code",
   "execution_count": null,
   "metadata": {},
   "outputs": [],
   "source": [
    "X <- rep(0:1, c(13, 2)) # 手順1\n",
    "X\n",
    "#> [1] 0 0 0 0 0 0 0 0 0 0 0 0 0 1 1\n",
    "\n",
    "tmp <- sample(X, size = length(X), replace = TRUE) # 手順2\n",
    "tmp\n",
    "#> [1] 0 0 1 0 0 0 0 0 0 1 0 1 0 0 0\n",
    "\n",
    "sum(tmp) # 手順3\n",
    "#> [1] 2\n",
    "\n",
    "n <- 10^5\n",
    "result <- replicate(n, sum(sample(X, size = length(X), replace = TRUE))) # 手順4"
   ]
  },
  {
   "cell_type": "code",
   "execution_count": null,
   "metadata": {},
   "outputs": [],
   "source": [
    "hist(x = result, breaks = 0:15,\n",
    "     right = FALSE)"
   ]
  },
  {
   "cell_type": "code",
   "execution_count": null,
   "metadata": {},
   "outputs": [],
   "source": [
    "quantile(result, c(0.025, 0.975))\n",
    "#>  2.5% 97.5%\n",
    "#>     0     5"
   ]
  }
 ],
 "nbformat": 4,
 "nbformat_minor": 5,
 "metadata": {
  "kernelspec": {
   "name": "ir",
   "display_name": "R"
  }
 }
}
