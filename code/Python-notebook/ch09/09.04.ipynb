{
 "cells": [
  {
   "cell_type": "markdown",
   "metadata": {},
   "source": [
    "## 9.4 複数の木を使う方法\n",
    "\n",
    "### 9.4.1 ランダムフォレスト"
   ]
  },
  {
   "cell_type": "code",
   "execution_count": null,
   "metadata": {},
   "outputs": [],
   "source": [
    "import pandas as pd\n",
    "import statsmodels.api as sm\n",
    "import warnings\n",
    "import xgboost\n",
    "from sklearn.ensemble import RandomForestClassifier\n",
    "from sklearn.model_selection import GridSearchCV, LeaveOneOut\n",
    "\n",
    "my_data = sm.datasets.get_rdataset('iris', 'datasets').data\n",
    "X, y = my_data.iloc[:, 0:4], my_data.Species\n",
    "\n",
    "my_search = GridSearchCV(RandomForestClassifier(),\n",
    "                         param_grid={'max_features': [2, 3, 4]},\n",
    "                         cv=LeaveOneOut(),\n",
    "                         n_jobs=-1).fit(X, y)\n",
    "my_search.best_params_\n",
    "#> {'max_features': 2}\n",
    "\n",
    "my_search.cv_results_['mean_test_score']\n",
    "#> array([0.96      , 0.96      , 0.95333333])"
   ]
  },
  {
   "cell_type": "markdown",
   "metadata": {},
   "source": [
    "### 9.4.2 ブースティング"
   ]
  },
  {
   "cell_type": "code",
   "execution_count": null,
   "metadata": {},
   "outputs": [],
   "source": [
    "warnings.simplefilter('ignore', UserWarning) # これ以降，警告を表示しない．\n",
    "my_search = GridSearchCV(\n",
    "    xgboost.XGBClassifier(eval_metric='mlogloss'),\n",
    "    param_grid={'n_estimators'    : [50, 100, 150],\n",
    "                'max_depth'       : [1, 2, 3],\n",
    "                'learning_rate'   : [0.3, 0.4],\n",
    "                'gamma'           : [0],\n",
    "                'colsample_bytree': [0.6, 0.8],\n",
    "                'min_child_weight': [1],\n",
    "                'subsample'       : [0.5, 0.75, 1]},\n",
    "    cv=5, # 5分割交差検証\n",
    "    n_jobs=1).fit(X, y) # n_jobs=-1ではない．\n",
    "warnings.simplefilter('default', UserWarning) # これ以降，警告を表示する．\n",
    "\n",
    "my_search.best_params_\n",
    "#> {'colsample_bytree': 0.6,\n",
    "#>  'gamma': 0,\n",
    "#>  'learning_rate': 0.3,\n",
    "#>  'max_depth': 1,\n",
    "#>  'min_child_weight': 1,\n",
    "#>  'n_estimators': 50,\n",
    "#>  'subsample': 0.75}\n",
    "\n",
    "my_search.best_score_\n",
    "#> 0.9666666666666668"
   ]
  },
  {
   "cell_type": "markdown",
   "metadata": {},
   "source": [
    "### 9.4.3 入力変数の重要度"
   ]
  },
  {
   "cell_type": "code",
   "execution_count": null,
   "metadata": {},
   "outputs": [],
   "source": [
    "my_model = RandomForestClassifier().fit(X, y)\n",
    "tmp = pd.Series(my_model.feature_importances_, index=X.columns)\n",
    "tmp.sort_values().plot(kind='barh')"
   ]
  }
 ],
 "nbformat": 4,
 "nbformat_minor": 5,
 "metadata": {
  "kernelspec": {
   "name": "python3",
   "display_name": "Python 3"
  }
 }
}
