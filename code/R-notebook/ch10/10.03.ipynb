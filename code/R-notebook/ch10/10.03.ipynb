{
 "cells": [
  {
   "cell_type": "markdown",
   "metadata": {},
   "source": [
    "## 10.3 タイタニック"
   ]
  },
  {
   "cell_type": "code",
   "execution_count": null,
   "metadata": {},
   "outputs": [],
   "source": [
    "library(caret)\n",
    "library(PRROC)\n",
    "library(tidyverse)\n",
    "\n",
    "my_url <- str_c(\"https://raw.githubusercontent.com/taroyabuki\",\n",
    "                \"/fromzero/master/data/titanic.csv\")\n",
    "my_data <- read_csv(my_url)"
   ]
  },
  {
   "cell_type": "code",
   "execution_count": null,
   "metadata": {},
   "outputs": [],
   "source": [
    "head(my_data)\n",
    "#> # A tibble: 6 x 4\n",
    "#>   Class Sex   Age   Survived\n",
    "#>   <chr> <chr> <chr> <chr>\n",
    "#> 1 1st   Male  Child Yes\n",
    "#> 2 1st   Male  Child Yes\n",
    "#> 3 1st   Male  Child Yes\n",
    "#> 4 1st   Male  Child Yes\n",
    "#> 5 1st   Male  Child Yes\n",
    "#> 6 1st   Male  Adult No"
   ]
  },
  {
   "cell_type": "markdown",
   "metadata": {},
   "source": [
    "### 10.3.1 質的入力変数の扱い方\n",
    "\n",
    "### 10.3.2 決定木の訓練"
   ]
  },
  {
   "cell_type": "code",
   "execution_count": null,
   "metadata": {},
   "outputs": [],
   "source": [
    "my_model <- train(form = Survived ~ ., data = my_data, method = \"rpart2\",\n",
    "                  tuneGrid = data.frame(maxdepth = 2),\n",
    "                  trControl = trainControl(method = \"LOOCV\"))"
   ]
  },
  {
   "cell_type": "markdown",
   "metadata": {},
   "source": [
    "### 10.3.3 決定木の描画"
   ]
  },
  {
   "cell_type": "code",
   "execution_count": null,
   "metadata": {},
   "outputs": [],
   "source": [
    "rpart.plot::rpart.plot(my_model$finalModel, extra = 1)"
   ]
  },
  {
   "cell_type": "markdown",
   "metadata": {},
   "source": [
    "### 10.3.4 決定木の評価"
   ]
  },
  {
   "cell_type": "code",
   "execution_count": null,
   "metadata": {},
   "outputs": [],
   "source": [
    "my_model$results\n",
    "#>   maxdepth  Accuracy     Kappa\n",
    "#> 1        2 0.7832803 0.4096365"
   ]
  },
  {
   "cell_type": "code",
   "execution_count": null,
   "metadata": {},
   "outputs": [],
   "source": [
    "y <- my_data$Survived\n",
    "tmp <- my_model %>% predict(newdata = my_data, type = \"prob\")\n",
    "y_score <- tmp$Yes\n",
    "\n",
    "my_roc <- roc.curve(scores.class0 = y_score[y == \"Yes\"],\n",
    "                    scores.class1 = y_score[y == \"No\"],\n",
    "                    curve = TRUE)\n",
    "my_roc$auc\n",
    "#> [1] 0.7114887\n",
    "\n",
    "my_roc %>% plot(xlab = \"False Positive Rate\",\n",
    "                ylab = \"True Positive Rate\",\n",
    "                legend = FALSE)"
   ]
  },
  {
   "cell_type": "markdown",
   "metadata": {},
   "source": [
    "### 10.3.5 補足：質的入力変数の扱い"
   ]
  },
  {
   "cell_type": "code",
   "execution_count": null,
   "metadata": {},
   "outputs": [],
   "source": [
    "X <- my_data %>% select(Class) # 質的入力変数\n",
    "y <- my_data$Survived          # 出力変数\n",
    "\n",
    "options(warn = -1) # これ以降，警告を表示しない．\n",
    "my_model1 <- train(x = X, y = y, method = \"rpart2\",\n",
    "                   tuneGrid = data.frame(maxdepth = 2),\n",
    "                   trControl = trainControl(method = \"LOOCV\"))\n",
    "options(warn = 0)  # これ以降，警告を表示する．\n",
    "\n",
    "rpart.plot::rpart.plot(my_model1$finalModel, extra = 1)\n",
    "my_model1$results\n",
    "#>   maxdepth  Accuracy     Kappa\n",
    "#> 1        2 0.7137665 0.2373133"
   ]
  },
  {
   "cell_type": "code",
   "execution_count": null,
   "metadata": {},
   "outputs": [],
   "source": [
    "my_enc <- my_data %>% dummyVars(formula = Survived ~ Class)\n",
    "my_data2 <- my_enc %>%\n",
    "  predict(my_data) %>%\n",
    "  as.data.frame %>%\n",
    "  mutate(Survived = my_data$Survived)\n",
    "\n",
    "my_model2 <- train(form = Survived ~ ., data = my_data2, method = \"rpart2\",\n",
    "                   tuneGrid = data.frame(maxdepth = 2),\n",
    "                   trControl = trainControl(method = \"LOOCV\"))\n",
    "rpart.plot::rpart.plot(my_model2$finalModel, extra = 1)\n",
    "my_model2$results\n",
    "#>   maxdepth  Accuracy     Kappa\n",
    "#> 1        2 0.7137665 0.2373133"
   ]
  },
  {
   "cell_type": "code",
   "execution_count": null,
   "metadata": {},
   "outputs": [],
   "source": [
    "my_model3 <- train(form = Survived ~ Class, data = my_data, method = \"rpart2\",\n",
    "                   tuneGrid = data.frame(maxdepth = 2),\n",
    "                   trControl = trainControl(method = \"LOOCV\"))\n",
    "rpart.plot::rpart.plot(my_model3$finalModel, extra = 1)\n",
    "my_model3$results\n",
    "#>   maxdepth  Accuracy     Kappa\n",
    "#> 1        2 0.6915039 0.2674485"
   ]
  }
 ],
 "nbformat": 4,
 "nbformat_minor": 5,
 "metadata": {
  "kernelspec": {
   "name": "ir",
   "display_name": "R"
  }
 }
}
