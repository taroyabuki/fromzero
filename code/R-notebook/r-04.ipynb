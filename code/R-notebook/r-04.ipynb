{
  "cells": [
    {
      "id": "d9ae0e80",
      "cell_type": "markdown",
      "source": "[\u8fbb\u771f\u543e\u30fb\u77e2\u5439\u592a\u6717\u300e\u30bc\u30ed\u304b\u3089\u306f\u3058\u3081\u308b\u30c7\u30fc\u30bf\u30b5\u30a4\u30a8\u30f3\u30b9\u5165\u9580\u300f\uff08\u8b1b\u8ac7\u793e,\u00a02021\uff09](https://github.com/taroyabuki/fromzero)",
      "metadata": {}
    },
    {
      "cell_type": "code",
      "execution_count": null,
      "metadata": {},
      "outputs": [],
      "source": [
        "# Google Colaboratory\u306e\u74b0\u5883\u8a2d\u5b9a\n",
        "if (file.exists(\"/content\")) {\n",
        "  options(Ncpus = parallel::detectCores())\n",
        "  installed_packages <- rownames(installed.packages())\n",
        "  packages_to_install <- c(\"exactci\", \"ggmosaic\", \"pastecs\", \"psych\", \"vcd\")\n",
        "  install.packages(setdiff(packages_to_install, installed_packages))\n",
        "}"
      ],
      "id": "4ede4e87-2b73-4e28-8a05-787e002fdef6"
    },
    {
      "id": "8fd64160",
      "cell_type": "markdown",
      "source": "## 4.1 \u8a18\u8ff0\u7d71\u8a08",
      "metadata": {}
    },
    {
      "cell_type": "code",
      "execution_count": null,
      "metadata": {},
      "outputs": [],
      "source": [
        "x <- c(165, 170, 175, 180, 185)\n",
        "mean(x) # \u5e73\u5747"
      ],
      "id": "0ec724c9-b391-4536-b4bd-8c6b8b08ce29"
    },
    {
      "cell_type": "code",
      "execution_count": null,
      "metadata": {},
      "outputs": [],
      "source": [
        "n <- length(x) # \u30b5\u30f3\u30d7\u30eb\u30b5\u30a4\u30ba\n",
        "sum(x) / n"
      ],
      "id": "74033f13-8aba-4cc5-8ed3-5a1ff8aba08d"
    },
    {
      "cell_type": "code",
      "execution_count": null,
      "metadata": {},
      "outputs": [],
      "source": [
        "y <- c(173, 174, 175, 176, 177)\n",
        "mean(y)"
      ],
      "id": "088e2be3-59ef-4711-9edb-56eef7c9c20f"
    },
    {
      "cell_type": "code",
      "execution_count": null,
      "metadata": {},
      "outputs": [],
      "source": [
        "var(x) # x\u306e\u5206\u6563\n",
        "\n",
        "var(y) # y\u306e\u5206\u6563"
      ],
      "id": "f7e420b9-1405-4835-8fbc-31efbc1fcd93"
    },
    {
      "cell_type": "code",
      "execution_count": null,
      "metadata": {},
      "outputs": [],
      "source": [
        "sum((x - mean(x))^2) / (n - 1)"
      ],
      "id": "292265a7-c61a-49fd-a77f-e42b65005f07"
    },
    {
      "cell_type": "code",
      "execution_count": null,
      "metadata": {},
      "outputs": [],
      "source": [
        "sd(x) # x\u306e\u6a19\u6e96\u504f\u5dee\n",
        "\n",
        "sd(y) # y\u306e\u6a19\u6e96\u504f\u5dee"
      ],
      "id": "ec48ed6d-d5b0-42d7-bf88-53e5f2ba6388"
    },
    {
      "cell_type": "code",
      "execution_count": null,
      "metadata": {},
      "outputs": [],
      "source": [
        "var(x)**0.5 # x\u306e\u6a19\u6e96\u504f\u5dee"
      ],
      "id": "6f0042c8-01c2-4e3a-a09f-c14a5d7a9831"
    },
    {
      "cell_type": "code",
      "execution_count": null,
      "metadata": {},
      "outputs": [],
      "source": [
        "psych::describe(x)\n",
        "\n",
        "# \u3042\u308b\u3044\u306f\n",
        "\n",
        "pastecs::stat.desc(x)"
      ],
      "id": "6d0e4e18-7e48-4782-a5c8-8ec078aa455d"
    },
    {
      "cell_type": "code",
      "execution_count": null,
      "metadata": {},
      "outputs": [],
      "source": [
        "quantile(x)"
      ],
      "id": "6eac383d-bb67-415b-ac71-d97a2036b1fe"
    },
    {
      "cell_type": "code",
      "execution_count": null,
      "metadata": {},
      "outputs": [],
      "source": [
        "x <- c(165, 170, 175, 180, 185)\n",
        "\n",
        "var(x)                # \u4e0d\u504f\u5206\u6563\n",
        "\n",
        "mean((x - mean(x))^2) # \u6a19\u672c\u5206\u6563\n",
        "# \u3042\u308b\u3044\u306f\n",
        "n <- length(x)\n",
        "var(x) * (n - 1) / n  # \u6a19\u672c\u5206\u6563"
      ],
      "id": "da351ea6-9b3b-44ac-aa9e-53d89eb473cc"
    },
    {
      "cell_type": "code",
      "execution_count": null,
      "metadata": {},
      "outputs": [],
      "source": [
        "sd(x)                     # \u221a\u4e0d\u504f\u5206\u6563\n",
        "\n",
        "mean((x - mean(x))^2)^0.5 # \u221a\u6a19\u672c\u5206\u6563\n",
        "# \u3042\u308b\u3044\u306f\n",
        "sd(x) * sqrt((n - 1) / n) # \u221a\u6a19\u672c\u5206\u6563"
      ],
      "id": "2d7bfaca-2874-4de5-bb9a-257422228c17"
    },
    {
      "cell_type": "code",
      "execution_count": null,
      "metadata": {},
      "outputs": [],
      "source": [
        "sd(x) / length(x)**0.5"
      ],
      "id": "0c649464-5d13-43e8-b486-803f9e279075"
    },
    {
      "cell_type": "code",
      "execution_count": null,
      "metadata": {},
      "outputs": [],
      "source": [
        "library(tidyverse)\n",
        "\n",
        "my_df <- data.frame(\n",
        "  name    = c(\"A\", \"B\", \"C\", \"D\"),\n",
        "  english = c( 60,  90,  70,  90),\n",
        "  math    = c( 70,  80,  90, 100),\n",
        "  gender  = c(\"f\", \"m\", \"m\", \"f\"))"
      ],
      "id": "500c4ca7-00af-4904-947f-4702b8d0b069"
    },
    {
      "cell_type": "code",
      "execution_count": null,
      "metadata": {},
      "outputs": [],
      "source": [
        "var(my_df$english)"
      ],
      "id": "25040386-ad11-4df3-b272-dde3606efedc"
    },
    {
      "cell_type": "code",
      "execution_count": null,
      "metadata": {},
      "outputs": [],
      "source": [
        "# \u7d50\u679c\u306f\u30d9\u30af\u30bf\n",
        "my_df[, c(2, 3)] %>% sapply(var)\n",
        "\n",
        "# \u7d50\u679c\u306f\u30ea\u30b9\u30c8\n",
        "my_df[, c(2, 3)] %>% lapply(var)\n",
        "\n",
        "# \u7d50\u679c\u306f\u30c7\u30fc\u30bf\u30d5\u30ec\u30fc\u30e0\n",
        "my_df[, c(2, 3)] %>% # 2, 3\u5217\u76ee\n",
        "  summarize(across(  # \u306e\n",
        "    everything(),    # \u5168\u3066\u306e\n",
        "    var))            # \u4e0d\u504f\u5206\u6563\n",
        "# \u3042\u308b\u3044\u306f\n",
        "my_df %>%              # \u30c7\u30fc\u30bf\u30d5\u30ec\u30fc\u30e0\n",
        "  summarize(across(    # \u306e\n",
        "    where(is.numeric), # \u6570\u5024\u306e\u5217\u306e\n",
        "    var))              # \u4e0d\u504f\u5206\u6563\n",
        "# \u3042\u308b\u3044\u306f\n",
        "my_df %>%              # \u30c7\u30fc\u30bf\u30d5\u30ec\u30fc\u30e0\n",
        "  summarize(across(    # \u306e\n",
        "    where(is.numeric), # \u6570\u5024\u306e\u5217\u306e\n",
        "    function(x) { var(x) })) # \u4e0d\u504f\u5206\u6563\n"
      ],
      "id": "14ce9ae1-c7e3-4bfc-9c41-8a453837c195"
    },
    {
      "cell_type": "code",
      "execution_count": null,
      "metadata": {},
      "outputs": [],
      "source": [
        "psych::describe(my_df)\n",
        "\n",
        "# \u3042\u308b\u3044\u306f\n",
        "\n",
        "pastecs::stat.desc(my_df)\n",
        "# \u4ee5\u4e0b\u7701\u7565"
      ],
      "id": "6ce720c0-ac90-442c-8d10-644eb8582822"
    },
    {
      "cell_type": "code",
      "execution_count": null,
      "metadata": {},
      "outputs": [],
      "source": [
        "table(my_df$gender)\n"
      ],
      "id": "3648a011-3fd1-4d72-b109-b03263207a60"
    },
    {
      "cell_type": "code",
      "execution_count": null,
      "metadata": {},
      "outputs": [],
      "source": [
        "my_df2 <- data.frame(\n",
        "  gender = my_df$gender,\n",
        "  excel = my_df$math >= 80)\n",
        "table(my_df2)\n"
      ],
      "id": "d6d5ef29-e3be-488d-9591-c68649188c95"
    },
    {
      "cell_type": "code",
      "execution_count": null,
      "metadata": {},
      "outputs": [],
      "source": [
        "my_df %>% group_by(gender) %>%\n",
        "  summarize(across(\n",
        "    where(is.numeric), mean),\n",
        "    .groups = \"drop\") # \u30b0\u30eb\u30fc\u30d7\u5316\u89e3\u9664\n"
      ],
      "id": "3ea6c820-8e05-45ea-af9c-554424a79b9b"
    },
    {
      "id": "7d85ef9f",
      "cell_type": "markdown",
      "source": "## 4.2 \u30c7\u30fc\u30bf\u306e\u53ef\u8996\u5316",
      "metadata": {}
    },
    {
      "cell_type": "code",
      "execution_count": null,
      "metadata": {},
      "outputs": [],
      "source": [
        "head(iris)"
      ],
      "id": "9b748598-9ea9-4a61-9a71-6397bd327988"
    },
    {
      "cell_type": "code",
      "execution_count": null,
      "metadata": {},
      "outputs": [],
      "source": [
        "hist(iris$Sepal.Length)"
      ],
      "id": "303a40c6-cac8-4bec-ba6c-a8d77cbd4aad"
    },
    {
      "cell_type": "code",
      "execution_count": null,
      "metadata": {},
      "outputs": [],
      "source": [
        "x <- c(10, 20, 30)\n",
        "hist(x, breaks = 2) # \u968e\u7d1a\u6570\u306f2"
      ],
      "id": "12f68e13-9dd9-48c8-b355-de6decc3c53d"
    },
    {
      "cell_type": "code",
      "execution_count": null,
      "metadata": {},
      "outputs": [],
      "source": [
        "x <- iris$Sepal.Length\n",
        "tmp <- seq(min(x), max(x),\n",
        "           length.out = 10)\n",
        "hist(x, breaks = tmp, right = FALSE)"
      ],
      "id": "90610aa1-5ad5-4423-9a73-6fc5ccf32f26"
    },
    {
      "cell_type": "code",
      "execution_count": null,
      "metadata": {},
      "outputs": [],
      "source": [
        "plot(iris$Sepal.Length,\n",
        "     iris$Sepal.Width)"
      ],
      "id": "f5edf6b7-e6b7-4a95-8bc2-23ee85597696"
    },
    {
      "cell_type": "code",
      "execution_count": null,
      "metadata": {},
      "outputs": [],
      "source": [
        "boxplot(iris[, -5])"
      ],
      "id": "ec601d41-c642-41e6-8985-de78cbef77bc"
    },
    {
      "cell_type": "code",
      "execution_count": null,
      "metadata": {},
      "outputs": [],
      "source": [
        "library(tidyverse)\n",
        "my_df <- psych::describe(iris[, -5])\n",
        "my_df %>% select(mean, sd, se)"
      ],
      "id": "8bc3c6a1-c9a0-480d-aeee-dd38821aab0e"
    },
    {
      "cell_type": "code",
      "execution_count": null,
      "metadata": {},
      "outputs": [],
      "source": [
        "tmp <- rownames(my_df)\n",
        "my_df %>% ggplot(aes(x = factor(tmp, levels = tmp), y = mean)) +\n",
        "  geom_col() +\n",
        "  geom_errorbar(aes(ymin = mean - se, ymax = mean + se)) +\n",
        "  xlab(NULL)"
      ],
      "id": "3e3f2cc8-740d-4764-9eb2-067f863a9e33"
    },
    {
      "cell_type": "code",
      "execution_count": null,
      "metadata": {},
      "outputs": [],
      "source": [
        "my_group <- iris %>% group_by(Species)       # \u54c1\u7a2e\u3054\u3068\u306b\uff0c\n",
        "\n",
        "my_df <- my_group %>%                        # \u5404\u5909\u6570\u306e\uff0c\u5e73\u5747\u3068\n",
        "  summarize(across(everything(), mean)) %>%\n",
        "  pivot_longer(-Species)\n",
        "\n",
        "tmp <- my_group %>%                          # \u6a19\u6e96\u8aa4\u5dee\u3092\u6c42\u3081\u308b\uff0e\n",
        "  summarize(across(everything(), ~ sd(.) / length(.)**0.5)) %>%\n",
        "  pivot_longer(-Species)\n",
        "\n",
        "my_df$se <- tmp$value\n",
        "head(my_df)"
      ],
      "id": "e0b4ddd5-1e34-410a-b116-98eaf56dac22"
    },
    {
      "cell_type": "code",
      "execution_count": null,
      "metadata": {},
      "outputs": [],
      "source": [
        "my_df %>%\n",
        "  ggplot(aes(x = Species, y = value, fill = name)) +\n",
        "  geom_col(position = \"dodge\") +\n",
        "  geom_errorbar(aes(ymin = value - se, ymax = value + se), position = \"dodge\")"
      ],
      "id": "61248896-261d-4c2e-9530-acd980d7abbe"
    },
    {
      "cell_type": "code",
      "execution_count": null,
      "metadata": {},
      "outputs": [],
      "source": [
        "# \u5404\u5909\u6570\u306e\u5e73\u5747\n",
        "iris %>% pivot_longer(-Species) %>%\n",
        "  ggplot(aes(x = name, y = value)) +\n",
        "  geom_bar(stat = \"summary\", fun = mean) +\n",
        "  stat_summary(geom = \"errorbar\", fun.data = mean_se) +\n",
        "  xlab(NULL)\n",
        "\n",
        "# \u5404\u5909\u6570\u306e\u5e73\u5747\uff08\u54c1\u7a2e\u3054\u3068\uff09\n",
        "iris %>% pivot_longer(-Species) %>%\n",
        "  ggplot(aes(x = Species, y = value, fill = name)) +\n",
        "  geom_bar(stat = \"summary\", fun = mean, position = \"dodge\") +\n",
        "  stat_summary(geom = \"errorbar\", fun.data = mean_se, position = \"dodge\")"
      ],
      "id": "4bc2b38a-e784-465e-ba3e-d7b8f855f556"
    },
    {
      "cell_type": "code",
      "execution_count": null,
      "metadata": {},
      "outputs": [],
      "source": [
        "my_df <- data.frame(\n",
        "  Species = iris$Species,\n",
        "  w_Sepal = iris$Sepal.Width > 3)\n",
        "table(my_df) # \u5206\u5272\u8868\n",
        "\n",
        "mosaicplot(\n",
        "  formula = ~ Species + w_Sepal,\n",
        "  data = my_df)"
      ],
      "id": "c038396a-3606-40cf-a574-0ea1eaf5d203"
    },
    {
      "cell_type": "code",
      "execution_count": null,
      "metadata": {},
      "outputs": [],
      "source": [
        "library(vcd)\n",
        "vcd::mosaic(formula = ~w_Sepal + Species, data = my_df,\n",
        "            labeling = labeling_values)"
      ],
      "id": "034441b9-8e24-42f6-a884-ffb8f4a0486e"
    },
    {
      "cell_type": "code",
      "execution_count": null,
      "metadata": {},
      "outputs": [],
      "source": [
        "curve(x^3 - x, -2, 2)"
      ],
      "id": "23e4d0bb-b011-43f2-ba3f-d52efe8ff20f"
    },
    {
      "cell_type": "code",
      "execution_count": null,
      "metadata": {},
      "outputs": [],
      "source": [
        "x <- iris$Sepal.Length\n",
        "tmp <- seq(min(x), max(x),\n",
        "           length.out = 10)\n",
        "iris %>%\n",
        "  ggplot(aes(x = Sepal.Length)) +\n",
        "  geom_histogram(breaks = tmp,\n",
        "                 closed = \"left\")"
      ],
      "id": "abd2b667-13fa-455c-b476-80683dc54ae2"
    },
    {
      "cell_type": "code",
      "execution_count": null,
      "metadata": {},
      "outputs": [],
      "source": [
        "iris %>%\n",
        "  ggplot(aes(x = Sepal.Length,\n",
        "             y = Sepal.Width)) +\n",
        "  geom_point()"
      ],
      "id": "18073cf2-e7e9-4bce-b4ee-56a35e3c3681"
    },
    {
      "cell_type": "code",
      "execution_count": null,
      "metadata": {},
      "outputs": [],
      "source": [
        "iris %>%\n",
        "  pivot_longer(-Species) %>%\n",
        "  ggplot(aes(\n",
        "    x = factor(name,\n",
        "               levels = names(iris)),\n",
        "    y = value)) +\n",
        "  geom_boxplot() +\n",
        "  xlab(NULL)"
      ],
      "id": "a25c3127-7ec2-46a3-8257-82db43a1a9bd"
    },
    {
      "cell_type": "code",
      "execution_count": null,
      "metadata": {},
      "outputs": [],
      "source": [
        "library(ggmosaic)\n",
        "my_df <- data.frame(\n",
        "  Species = iris$Species,\n",
        "  w_Sepal = iris$Sepal.Width > 3)\n",
        "my_df %>%\n",
        "  ggplot() +\n",
        "  geom_mosaic(\n",
        "    aes(x = product(w_Sepal, Species)))"
      ],
      "id": "4db99dbb-217a-464c-95f4-0fb746877fde"
    },
    {
      "cell_type": "code",
      "execution_count": null,
      "metadata": {},
      "outputs": [],
      "source": [
        "f <- function(x) { x^3 - x }\n",
        "data.frame(x = c(-2, 2)) %>%\n",
        "  ggplot(aes(x = x)) +\n",
        "  stat_function(fun = f)"
      ],
      "id": "ab2bdfe6-ad01-4565-805d-7aba21866a28"
    },
    {
      "id": "53b3bf53",
      "cell_type": "markdown",
      "source": "## 4.3 \u4e71\u6570",
      "metadata": {}
    },
    {
      "cell_type": "code",
      "execution_count": null,
      "metadata": {},
      "outputs": [],
      "source": [
        "x <- sample(x = 1:6,        # \u7bc4\u56f2\n",
        "            size = 10000,   # \u4e71\u6570\u306e\u6570\n",
        "            replace = TRUE) # \u91cd\u8907\u3042\u308a\n",
        "hist(x, breaks = 0:6) # \u30d2\u30b9\u30c8\u30b0\u30e9\u30e0"
      ],
      "id": "8ec8d8dd-45aa-4906-be9b-241dac935286"
    },
    {
      "cell_type": "code",
      "execution_count": null,
      "metadata": {},
      "outputs": [],
      "source": [
        "x <- runif(min = 0,  # \u6700\u5c0f\n",
        "           max = 1,  # \u6700\u5927\n",
        "           n = 1000) # \u4e71\u6570\u306e\u6570\n",
        "hist(x)"
      ],
      "id": "1896e61c-0255-4f1d-8b3c-61e31af22d11"
    },
    {
      "cell_type": "code",
      "execution_count": null,
      "metadata": {},
      "outputs": [],
      "source": [
        "x <- as.integer(      # \u6574\u6570\u306b\u5909\u63db\n",
        "  runif(min = 1,      # \u6700\u5c0f\n",
        "        max = 7,      # \u6700\u5927 + 1\n",
        "        n = 1000))    # \u4e71\u6570\u306e\u6570\n",
        "hist(x, breaks = 0:6) # \u7d50\u679c\u306f\u5272\u611b"
      ],
      "id": "6b907ea1-7edd-43f3-a2b4-23b2887e79ae"
    },
    {
      "cell_type": "code",
      "execution_count": null,
      "metadata": {},
      "outputs": [],
      "source": [
        "n <- 100\n",
        "p <- 0.5\n",
        "r <- 10000\n",
        "x <- rbinom(size = n, # \u8a66\u884c\u56de\u6570\n",
        "            prob = p, # \u78ba\u7387\n",
        "            n = r)    # \u4e71\u6570\u306e\u6570\n",
        "hist(x, breaks = max(x) - min(x))"
      ],
      "id": "1a981fd1-6605-4561-949f-9ac55dd531f9"
    },
    {
      "cell_type": "code",
      "execution_count": null,
      "metadata": {},
      "outputs": [],
      "source": [
        "r <- 10000\n",
        "x <- rnorm(mean = 50, # \u5e73\u5747\n",
        "           sd = 5,    # \u6a19\u6e96\u504f\u5dee\n",
        "           n = r)     # \u4e71\u6570\u306e\u6570\n",
        "hist(x, breaks = 40)"
      ],
      "id": "681090c9-fc60-40b7-be59-44ebf547ae52"
    },
    {
      "cell_type": "code",
      "execution_count": null,
      "metadata": {},
      "outputs": [],
      "source": [
        "library(tidyverse)\n",
        "\n",
        "f <- function(k) {\n",
        "  n <- 10000\n",
        "  tmp <- replicate(n = n, expr = g(rnorm(n =  k, sd = 3)))\n",
        "  list(k = k,\n",
        "       mean = mean(tmp),       # \u5e73\u5747\n",
        "       se = sd(tmp) / sqrt(n)) # \u6a19\u6e96\u8aa4\u5dee\n",
        "}"
      ],
      "id": "568347fb-190d-472f-ab84-f8f9defb8ec7"
    },
    {
      "cell_type": "code",
      "execution_count": null,
      "metadata": {},
      "outputs": [],
      "source": [
        "g <- var\n",
        "c(10, 20, 30) %>% map_dfr(f)"
      ],
      "id": "53d6cb95-4f59-437a-978e-91fec3a30d30"
    },
    {
      "cell_type": "code",
      "execution_count": null,
      "metadata": {},
      "outputs": [],
      "source": [
        "g <- sd\n",
        "c(5, 10, 15, 20) %>% map_dfr(f)"
      ],
      "id": "74e0611e-508e-4532-a6b0-42b7398f3f1a"
    },
    {
      "cell_type": "code",
      "execution_count": null,
      "metadata": {},
      "outputs": [],
      "source": [
        "g <- function(x) {\n",
        "  n <- length(x)\n",
        "  sd(x) *\n",
        "    sqrt((n - 1) / 2) *\n",
        "    gamma((n - 1) / 2) /\n",
        "    gamma(n / 2)\n",
        "}\n",
        "c(10, 20, 30) %>% map_dfr(f)"
      ],
      "id": "ba68bded-a37d-426c-b3c5-d83b3ac411d7"
    },
    {
      "id": "40813453",
      "cell_type": "markdown",
      "source": "## 4.4 \u7d71\u8a08\u7684\u63a8\u6e2c",
      "metadata": {}
    },
    {
      "cell_type": "code",
      "execution_count": null,
      "metadata": {},
      "outputs": [],
      "source": [
        "library(exactci)\n",
        "library(tidyverse)\n",
        "\n",
        "a <- 0.05                              # \u6709\u610f\u6c34\u6e96\n",
        "binom.exact(x = 2,                     # \u5f53\u305f\u3063\u305f\u56de\u6570\n",
        "            n = 15,                    # \u304f\u3058\u3092\u5f15\u3044\u305f\u56de\u6570\n",
        "            p = 4 / 10,                # \u5f53\u305f\u308b\u78ba\u7387\uff08\u4eee\u8aac\uff09\n",
        "            plot = TRUE,               # p\u5024\u306e\u63cf\u753b\uff08\u7d50\u679c\u306f\u6b21\u9805\u306b\u63b2\u8f09\uff09\n",
        "            conf.level = 1 - a,        # \u4fe1\u983c\u4fc2\u6570\uff08\u30c7\u30d5\u30a9\u30eb\u30c8\uff09\n",
        "            tsmethod = \"minlike\",      # p\u5024\u306e\u5b9a\u7fa9\n",
        "            alternative = \"two.sided\") # \u4e21\u5074\u691c\u5b9a\uff08\u30c7\u30d5\u30a9\u30eb\u30c8\uff09\n",
        "                                       # \u5de6\u7247\u5074\u691c\u5b9a\u306a\u3089'less'\n",
        "                                       # \u53f3\u7247\u5074\u691c\u5b9a\u306a\u3089'greater'\n"
      ],
      "id": "b4805e83-abe1-4578-8726-712e4350d4da"
    },
    {
      "cell_type": "code",
      "execution_count": null,
      "metadata": {},
      "outputs": [],
      "source": [
        "t <- 4 / 10               # \u5f53\u305f\u308b\u78ba\u7387\n",
        "n <- 15                   # \u304f\u3058\u3092\u5f15\u3044\u305f\u56de\u6570\n",
        "x <- 0:n                  # \u5f53\u305f\u3063\u305f\u56de\u6570\n",
        "my_pr  <- dbinom(x, n, t) # x\u56de\u5f53\u305f\u308b\u78ba\u7387\n",
        "my_pr2 <- dbinom(2, n, t) # 2\u56de\u5f53\u305f\u308b\u78ba\u7387\n",
        "\n",
        "my_data <- data.frame(x = x,\n",
        "                      probability = my_pr,\n",
        "                      color = my_pr <= my_pr2) # \u5f53\u305f\u308b\u78ba\u7387\u304c\uff0c2\u56de\u5f53\u305f\u308b\u78ba\u7387\u4ee5\u4e0b\n",
        "\n",
        "my_data %>% ggplot(aes(x = x, y = probability, color = color)) +\n",
        "  geom_point(size = 3) +\n",
        "  geom_linerange(aes(ymin = 0, ymax = probability), ) + # \u5782\u76f4\u7dda\n",
        "  geom_hline(yintercept = my_pr2) +                     # \u6c34\u5e73\u7dda\n",
        "  theme(legend.position = \"none\")                       # \u51e1\u4f8b\u3092\u8868\u793a\u3057\u306a\u3044\uff0e"
      ],
      "id": "6cd423dd-9186-4557-a613-baf750bed67c"
    },
    {
      "cell_type": "code",
      "execution_count": null,
      "metadata": {},
      "outputs": [],
      "source": [
        "# \u524d\u9805\u306e\u7d50\u679c\uff08\u518d\u63b2\uff09"
      ],
      "id": "ae8a3627-07e0-44c5-9aee-12f84ae0f7b8"
    },
    {
      "cell_type": "code",
      "execution_count": null,
      "metadata": {},
      "outputs": [],
      "source": [
        "# \u524d\u9805\u5192\u982d\u306e\u30b3\u30fc\u30c9"
      ],
      "id": "e358f142-d21d-4264-9bb0-eeceaf975ccd"
    },
    {
      "cell_type": "code",
      "execution_count": null,
      "metadata": {},
      "outputs": [],
      "source": [
        "X <- c(32.1, 26.2, 27.5, 31.8, 32.1, 31.2, 30.1, 32.4, 32.3, 29.9,\n",
        "       29.6, 26.6, 31.2, 30.9, 29.3)\n",
        "Y <- c(35.4, 34.6, 31.1, 32.4, 33.3, 34.7, 35.3, 34.3, 32.1, 28.3,\n",
        "       33.3, 30.5, 32.6, 33.3, 32.2)\n",
        "\n",
        "t.test(x = X, y = Y,\n",
        "       conf.level = 0.95,         # \u4fe1\u983c\u4fc2\u6570\uff08\u30c7\u30d5\u30a9\u30eb\u30c8\uff09\n",
        "       paired = TRUE,             # \u5bfe\u6a19\u672c\u3067\u3042\u308b\uff0e\n",
        "       alternative = \"two.sided\") # \u4e21\u5074\u691c\u5b9a\uff08\u30c7\u30d5\u30a9\u30eb\u30c8\uff09\n",
        "                                  # \u5de6\u7247\u5074\u691c\u5b9a\u306a\u3089'less'\n",
        "                                  # \u53f3\u7247\u5074\u691c\u5b9a\u306a\u3089'greater'\n"
      ],
      "id": "00e239c7-5043-435a-9434-ad8c3f87bd41"
    },
    {
      "cell_type": "code",
      "execution_count": null,
      "metadata": {},
      "outputs": [],
      "source": [
        "t.test(x = X, y = Y,\n",
        "       paired = FALSE,   # \u5bfe\u6a19\u672c\u3067\u306f\u306a\u3044\uff08\u30c7\u30d5\u30a9\u30eb\u30c8\uff09\uff0e\n",
        "       var.equal = TRUE, # \u7b49\u5206\u6563\u3092\u4eee\u5b9a\u3059\u308b\uff0e\u4eee\u5b9a\u3057\u306a\u3044\u306a\u3089FALSE\uff08\u30c7\u30d5\u30a9\u30eb\u30c8\uff09\uff0e\n",
        "       alternative = \"two.sided\",\n",
        "       conf.level = 0.95)\n"
      ],
      "id": "6257f789-5e84-4e61-9ab8-02fc0bcd7586"
    },
    {
      "cell_type": "code",
      "execution_count": null,
      "metadata": {},
      "outputs": [],
      "source": [
        "my_url <- str_c(\"https://raw.githubusercontent.com/taroyabuki\",\n",
        "                \"/fromzero/master/data/smoker.csv\")\n",
        "my_data <- read_csv(my_url)"
      ],
      "id": "c728218c-66b7-439e-bd10-daf45d1463f3"
    },
    {
      "cell_type": "code",
      "execution_count": null,
      "metadata": {},
      "outputs": [],
      "source": [
        "head(my_data)"
      ],
      "id": "0aa8154a-8424-4604-ae96-6b58e76e6a06"
    },
    {
      "cell_type": "code",
      "execution_count": null,
      "metadata": {},
      "outputs": [],
      "source": [
        "my_table <- table(my_data)\n",
        "my_table"
      ],
      "id": "ae9d7d55-910a-4a6a-b768-6186344f192c"
    },
    {
      "cell_type": "code",
      "execution_count": null,
      "metadata": {},
      "outputs": [],
      "source": [
        "chisq.test(my_table, correct = FALSE)\n"
      ],
      "id": "7b939389-fa5a-4f4a-a30a-1ae56d7c6320"
    },
    {
      "cell_type": "code",
      "execution_count": null,
      "metadata": {},
      "outputs": [],
      "source": [
        "X <- rep(0:1, c(13, 2)) # \u624b\u98061\n",
        "X\n",
        "\n",
        "tmp <- sample(X, size = length(X), replace = TRUE) # \u624b\u98062\n",
        "tmp\n",
        "\n",
        "sum(tmp) # \u624b\u98063\n",
        "\n",
        "n <- 10^5\n",
        "result <- replicate(n, sum(sample(X, size = length(X), replace = TRUE))) # \u624b\u98064"
      ],
      "id": "07f2f432-81f6-403c-9d8b-532b6fd4a8c6"
    },
    {
      "cell_type": "code",
      "execution_count": null,
      "metadata": {},
      "outputs": [],
      "source": [
        "hist(x = result, breaks = 0:15,\n",
        "     right = FALSE)"
      ],
      "id": "bbd99c33-56df-44b1-86a8-f32b780f3b8f"
    },
    {
      "cell_type": "code",
      "execution_count": null,
      "metadata": {},
      "outputs": [],
      "source": [
        "quantile(result, c(0.025, 0.975))"
      ],
      "id": "01402460-bb97-45a4-adcf-fae234bb9974"
    }
  ],
  "nbformat": 4,
  "nbformat_minor": 5,
  "metadata": {
    "kernelspec": {
      "name": "ir",
      "display_name": "R"
    }
  }
}