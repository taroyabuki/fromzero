{
 "cells": [
  {
   "cell_type": "markdown",
   "metadata": {},
   "source": [
    "## 7.5 K最近傍法\n",
    "\n",
    "### 7.5.1 K最近傍法とは何か\n",
    "\n",
    "### 7.5.2 K最近傍法の実践"
   ]
  },
  {
   "cell_type": "code",
   "execution_count": null,
   "metadata": {},
   "outputs": [],
   "source": [
    "# 準備\n",
    "import numpy as np\n",
    "import pandas as pd\n",
    "import statsmodels.api as sm\n",
    "from sklearn.neighbors import KNeighborsRegressor\n",
    "\n",
    "my_data = sm.datasets.get_rdataset('cars', 'datasets').data\n",
    "X, y = my_data[['speed']], my_data['dist']\n",
    "\n",
    "# 訓練\n",
    "my_model = KNeighborsRegressor()\n",
    "my_model.fit(X, y)\n",
    "\n",
    "# 可視化の準備\n",
    "tmp = pd.DataFrame({'speed': np.linspace(min(my_data.speed),\n",
    "                                         max(my_data.speed),\n",
    "                                         100)})\n",
    "tmp['model'] = my_model.predict(tmp)"
   ]
  },
  {
   "cell_type": "code",
   "execution_count": null,
   "metadata": {},
   "outputs": [],
   "source": [
    "pd.concat([my_data, tmp]).plot(\n",
    "    x='speed', style=['o', '-'])"
   ]
  },
  {
   "cell_type": "code",
   "execution_count": null,
   "metadata": {},
   "outputs": [],
   "source": [
    "y_ = my_model.predict(X)\n",
    "\n",
    "((y - y_)**2).mean()**0.5\n",
    "#> 13.087184571174962 # RMSE\n",
    "\n",
    "my_model.score(X, y)\n",
    "#> 0.7368165812204317 # 決定係数1\n",
    "\n",
    "np.corrcoef(y, y_)[0, 1]**2\n",
    "#> 0.7380949412509705 # 決定係数6"
   ]
  }
 ],
 "nbformat": 4,
 "nbformat_minor": 5,
 "metadata": {
  "kernelspec": {
   "name": "python3",
   "display_name": "Python 3"
  }
 }
}
