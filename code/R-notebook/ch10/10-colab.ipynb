{
 "cells": [
  {
   "cell_type": "markdown",
   "metadata": {},
   "source": [
    "# 10"
   ]
  },
  {
   "cell_type": "code",
   "execution_count": null,
   "metadata": {},
   "outputs": [],
   "source": [
    "# Google Colaboratoryの環境設定\n",
    "install.packages(c(\"caret\", \"e1071\", \"PRROC\", \"rpart.plot\"))"
   ]
  },
  {
   "cell_type": "markdown",
   "metadata": {},
   "source": [
    "## 10.1 2値分類の性能指標\n",
    "\n",
    "### 10.1.1 陽性と陰性"
   ]
  },
  {
   "cell_type": "code",
   "execution_count": null,
   "metadata": {},
   "outputs": [],
   "source": [
    "y       <- c(  0,   1,   1,   0,   1,   0,    1,   0,   0,   1)\n",
    "y_score <- c(0.7, 0.8, 0.3, 0.4, 0.9, 0.6, 0.99, 0.1, 0.2, 0.5)"
   ]
  },
  {
   "cell_type": "code",
   "execution_count": null,
   "metadata": {},
   "outputs": [],
   "source": [
    "y_ <- ifelse(0.5 <= y_score, 1, 0)\n",
    "y_\n",
    "#> [1] 1 1 0 0 1 1 1 0 0 1"
   ]
  },
  {
   "cell_type": "code",
   "execution_count": null,
   "metadata": {},
   "outputs": [],
   "source": [
    "library(caret)\n",
    "confusionMatrix(data      = as.factor(y_), # 予測\n",
    "                reference = as.factor(y),  # 正解\n",
    "                positive = \"1\",            # 「1」を陽性とする．\n",
    "                mode = \"everything\")       # 全ての指標を求める．\n",
    "#> Confusion Matrix and Statistics\n",
    "#>\n",
    "#>           Reference\n",
    "#> Prediction 0 1\n",
    "#>          0 3 1\n",
    "#>          1 2 4\n",
    "#>\n",
    "#>                Accuracy : 0.7\n",
    "#>                  95% CI : (0.3475, 0.9333)\n",
    "#>     No Information Rate : 0.5\n",
    "#>     P-Value [Acc > NIR] : 0.1719\n",
    "#>\n",
    "#>                   Kappa : 0.4\n",
    "#>\n",
    "#>  Mcnemar's Test P-Value : 1.0000\n",
    "#>\n",
    "#>             Sensitivity : 0.8000\n",
    "#>             Specificity : 0.6000\n",
    "#>          Pos Pred Value : 0.6667\n",
    "#>          Neg Pred Value : 0.7500\n",
    "#>               Precision : 0.6667\n",
    "#>                  Recall : 0.8000\n",
    "#>                      F1 : 0.7273\n",
    "#>              Prevalence : 0.5000\n",
    "#>          Detection Rate : 0.4000\n",
    "#>    Detection Prevalence : 0.6000\n",
    "#>       Balanced Accuracy : 0.7000\n",
    "#>\n",
    "#>        'Positive' Class : 1"
   ]
  },
  {
   "cell_type": "markdown",
   "metadata": {},
   "source": [
    "## 10.2 トレードオフ\n",
    "\n",
    "### 10.2.1 偽陽性率と真陽性率のトレードオフ（ROC曲線）"
   ]
  },
  {
   "cell_type": "code",
   "execution_count": null,
   "metadata": {},
   "outputs": [],
   "source": [
    "library(PRROC)\n",
    "library(tidyverse)\n",
    "\n",
    "y       <- c(  0,   1,   1,   0,   1,   0,    1,   0,   0,   1)\n",
    "y_score <- c(0.7, 0.8, 0.3, 0.4, 0.9, 0.6, 0.99, 0.1, 0.2, 0.5)\n",
    "y_      <- ifelse(0.5 <= y_score, 1, 0)\n",
    "\n",
    "c(sum((y == 0) & (y_ == 1)) / sum(y == 0), # FPR\n",
    "  sum((y == 1) & (y_ == 1)) / sum(y == 1)) # TPR\n",
    "#> [1] 0.4 0.8"
   ]
  },
  {
   "cell_type": "code",
   "execution_count": null,
   "metadata": {},
   "outputs": [],
   "source": [
    "my_roc <- roc.curve(scores.class0 = y_score[y == 1], # 答えが1のもののスコア\n",
    "                    scores.class1 = y_score[y == 0], # 答えが0のもののスコア\n",
    "                    curve = TRUE)\n",
    "my_roc %>% plot(xlab = \"False Positive Rate\",\n",
    "                ylab = \"True Positive Rate\",\n",
    "                legend = FALSE)"
   ]
  },
  {
   "cell_type": "code",
   "execution_count": null,
   "metadata": {},
   "outputs": [],
   "source": [
    "my_roc$auc\n",
    "#> [1] 0.8"
   ]
  },
  {
   "cell_type": "markdown",
   "metadata": {},
   "source": [
    "### 10.2.2 再現率と精度のトレードオフ（PR曲線）"
   ]
  },
  {
   "cell_type": "code",
   "execution_count": null,
   "metadata": {},
   "outputs": [],
   "source": [
    "c(sum((y == 1) & (y_ == 1)) / sum(y  == 1), # Recall == TPR\n",
    "  sum((y == 1) & (y_ == 1)) / sum(y_ == 1)) # Precision\n",
    "#> [1] 0.8000000 0.6666667"
   ]
  },
  {
   "cell_type": "code",
   "execution_count": null,
   "metadata": {},
   "outputs": [],
   "source": [
    "my_pr <- pr.curve(scores.class0 = y_score[y == 1],\n",
    "                  scores.class1 = y_score[y == 0],\n",
    "                  curve = TRUE)\n",
    "my_pr %>% plot(xlab = \"Recall\",\n",
    "               ylab = \"Precision\",\n",
    "               legend = FALSE)"
   ]
  },
  {
   "cell_type": "code",
   "execution_count": null,
   "metadata": {},
   "outputs": [],
   "source": [
    "my_pr$auc.integral\n",
    "#> [1] 0.8469525"
   ]
  },
  {
   "cell_type": "markdown",
   "metadata": {},
   "source": [
    "## 10.3 タイタニック"
   ]
  },
  {
   "cell_type": "code",
   "execution_count": null,
   "metadata": {},
   "outputs": [],
   "source": [
    "library(caret)\n",
    "library(PRROC)\n",
    "library(tidyverse)\n",
    "\n",
    "my_url <- str_c(\"https://raw.githubusercontent.com/taroyabuki\",\n",
    "                \"/fromzero/master/data/titanic.csv\")\n",
    "my_data <- read_csv(my_url)"
   ]
  },
  {
   "cell_type": "code",
   "execution_count": null,
   "metadata": {},
   "outputs": [],
   "source": [
    "head(my_data)\n",
    "#> # A tibble: 6 x 4\n",
    "#>   Class Sex   Age   Survived\n",
    "#>   <chr> <chr> <chr> <chr>\n",
    "#> 1 1st   Male  Child Yes\n",
    "#> 2 1st   Male  Child Yes\n",
    "#> 3 1st   Male  Child Yes\n",
    "#> 4 1st   Male  Child Yes\n",
    "#> 5 1st   Male  Child Yes\n",
    "#> 6 1st   Male  Adult No"
   ]
  },
  {
   "cell_type": "markdown",
   "metadata": {},
   "source": [
    "### 10.3.1 質的入力変数の扱い方\n",
    "\n",
    "### 10.3.2 決定木の訓練"
   ]
  },
  {
   "cell_type": "code",
   "execution_count": null,
   "metadata": {},
   "outputs": [],
   "source": [
    "my_model <- train(form = Survived ~ ., data = my_data, method = \"rpart2\",\n",
    "                  tuneGrid = data.frame(maxdepth = 2),\n",
    "                  trControl = trainControl(method = \"LOOCV\"))"
   ]
  },
  {
   "cell_type": "markdown",
   "metadata": {},
   "source": [
    "### 10.3.3 決定木の描画"
   ]
  },
  {
   "cell_type": "code",
   "execution_count": null,
   "metadata": {},
   "outputs": [],
   "source": [
    "rpart.plot::rpart.plot(my_model$finalModel, extra = 1)"
   ]
  },
  {
   "cell_type": "markdown",
   "metadata": {},
   "source": [
    "### 10.3.4 決定木の評価"
   ]
  },
  {
   "cell_type": "code",
   "execution_count": null,
   "metadata": {},
   "outputs": [],
   "source": [
    "my_model$results\n",
    "#>   maxdepth  Accuracy     Kappa\n",
    "#> 1        2 0.7832803 0.4096365"
   ]
  },
  {
   "cell_type": "code",
   "execution_count": null,
   "metadata": {},
   "outputs": [],
   "source": [
    "y <- my_data$Survived\n",
    "tmp <- my_model %>% predict(newdata = my_data, type = \"prob\")\n",
    "y_score <- tmp$Yes\n",
    "\n",
    "my_roc <- roc.curve(scores.class0 = y_score[y == \"Yes\"],\n",
    "                    scores.class1 = y_score[y == \"No\"],\n",
    "                    curve = TRUE)\n",
    "my_roc$auc\n",
    "#> [1] 0.7114887\n",
    "\n",
    "my_roc %>% plot(xlab = \"False Positive Rate\",\n",
    "                ylab = \"True Positive Rate\",\n",
    "                legend = FALSE)"
   ]
  },
  {
   "cell_type": "markdown",
   "metadata": {},
   "source": [
    "### 10.3.5 補足：質的入力変数の扱い"
   ]
  },
  {
   "cell_type": "code",
   "execution_count": null,
   "metadata": {},
   "outputs": [],
   "source": [
    "X <- my_data %>% select(Class) # 質的入力変数\n",
    "y <- my_data$Survived          # 出力変数\n",
    "\n",
    "options(warn = -1) # これ以降，警告を表示しない．\n",
    "my_model1 <- train(x = X, y = y, method = \"rpart2\",\n",
    "                   tuneGrid = data.frame(maxdepth = 2),\n",
    "                   trControl = trainControl(method = \"LOOCV\"))\n",
    "options(warn = 0)  # これ以降，警告を表示する．\n",
    "\n",
    "rpart.plot::rpart.plot(my_model1$finalModel, extra = 1)\n",
    "my_model1$results\n",
    "#>   maxdepth  Accuracy     Kappa\n",
    "#> 1        2 0.7137665 0.2373133"
   ]
  },
  {
   "cell_type": "code",
   "execution_count": null,
   "metadata": {},
   "outputs": [],
   "source": [
    "my_enc <- my_data %>% dummyVars(formula = Survived ~ Class)\n",
    "my_data2 <- my_enc %>%\n",
    "  predict(my_data) %>%\n",
    "  as.data.frame %>%\n",
    "  mutate(Survived = my_data$Survived)\n",
    "\n",
    "my_model2 <- train(form = Survived ~ ., data = my_data2, method = \"rpart2\",\n",
    "                   tuneGrid = data.frame(maxdepth = 2),\n",
    "                   trControl = trainControl(method = \"LOOCV\"))\n",
    "rpart.plot::rpart.plot(my_model2$finalModel, extra = 1)\n",
    "my_model2$results\n",
    "#>   maxdepth  Accuracy     Kappa\n",
    "#> 1        2 0.7137665 0.2373133"
   ]
  },
  {
   "cell_type": "code",
   "execution_count": null,
   "metadata": {},
   "outputs": [],
   "source": [
    "my_model3 <- train(form = Survived ~ Class, data = my_data, method = \"rpart2\",\n",
    "                   tuneGrid = data.frame(maxdepth = 2),\n",
    "                   trControl = trainControl(method = \"LOOCV\"))\n",
    "rpart.plot::rpart.plot(my_model3$finalModel, extra = 1)\n",
    "my_model3$results\n",
    "#>   maxdepth  Accuracy     Kappa\n",
    "#> 1        2 0.6915039 0.2674485"
   ]
  },
  {
   "cell_type": "markdown",
   "metadata": {},
   "source": [
    "## 10.4 ロジスティック回帰"
   ]
  },
  {
   "cell_type": "code",
   "execution_count": null,
   "metadata": {},
   "outputs": [],
   "source": [
    "curve(1 / (1 + exp(-x)), -6, 6)"
   ]
  },
  {
   "cell_type": "code",
   "execution_count": null,
   "metadata": {},
   "outputs": [],
   "source": [
    "library(caret)\n",
    "library(PRROC)\n",
    "library(tidyverse)\n",
    "\n",
    "my_url <- str_c(\"https://raw.githubusercontent.com/taroyabuki\",\n",
    "                \"/fromzero/master/data/titanic.csv\")\n",
    "my_data <- read_csv(my_url)\n",
    "\n",
    "my_model <- train(form = Survived ~ ., data = my_data, method = \"glm\",\n",
    "                  trControl = trainControl(method = \"LOOCV\"))"
   ]
  },
  {
   "cell_type": "code",
   "execution_count": null,
   "metadata": {},
   "outputs": [],
   "source": [
    "coef(my_model$finalModel) %>%\n",
    "  as.data.frame\n",
    "#>                      .\n",
    "#> (Intercept)  2.0438374\n",
    "#> Class2nd    -1.0180950\n",
    "#> Class3rd    -1.7777622\n",
    "#> ClassCrew   -0.8576762\n",
    "#> SexMale     -2.4200603\n",
    "#> AgeChild     1.0615424"
   ]
  },
  {
   "cell_type": "code",
   "execution_count": null,
   "metadata": {},
   "outputs": [],
   "source": [
    "my_model$results\n",
    "#>   parameter  Accuracy     Kappa\n",
    "#> 1      none 0.7782826 0.4448974"
   ]
  }
 ],
 "nbformat": 4,
 "nbformat_minor": 5,
 "metadata": {
  "kernelspec": {
   "name": "ir",
   "display_name": "R"
  }
 }
}
