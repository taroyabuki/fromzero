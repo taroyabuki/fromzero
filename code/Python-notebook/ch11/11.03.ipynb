{
 "cells": [
  {
   "cell_type": "markdown",
   "metadata": {},
   "source": [
    "## 11.3 MNIST：手書き数字の分類\n",
    "\n",
    "### 11.3.1 データの形式"
   ]
  },
  {
   "cell_type": "code",
   "execution_count": null,
   "metadata": {},
   "outputs": [],
   "source": [
    "import matplotlib.pyplot as plt\n",
    "import numpy as np\n",
    "import pandas as pd\n",
    "import tensorflow as tf\n",
    "from random import sample\n",
    "from keras import callbacks, layers, models\n",
    "from sklearn.metrics import confusion_matrix\n",
    "\n",
    "(x_train, y_train), (x_test, y_test) = tf.keras.datasets.mnist.load_data()"
   ]
  },
  {
   "cell_type": "code",
   "execution_count": null,
   "metadata": {},
   "outputs": [],
   "source": [
    "x_train.shape\n",
    "#> (60000, 28, 28)"
   ]
  },
  {
   "cell_type": "code",
   "execution_count": null,
   "metadata": {},
   "outputs": [],
   "source": [
    "np.set_printoptions(linewidth=170)\n",
    "x_train[4, :, :]"
   ]
  },
  {
   "cell_type": "code",
   "execution_count": null,
   "metadata": {},
   "outputs": [],
   "source": [
    "plt.matshow(x_train[4, :, :])"
   ]
  },
  {
   "cell_type": "code",
   "execution_count": null,
   "metadata": {},
   "outputs": [],
   "source": [
    "y_train\n",
    "#> array([5, 0, 4, ..., 5, 6, 8],\n",
    "#>       dtype=uint8)"
   ]
  },
  {
   "cell_type": "code",
   "execution_count": null,
   "metadata": {},
   "outputs": [],
   "source": [
    "x_train.min(), x_train.max()\n",
    "#> (0, 255)"
   ]
  },
  {
   "cell_type": "code",
   "execution_count": null,
   "metadata": {},
   "outputs": [],
   "source": [
    "x_train = x_train / 255\n",
    "x_test  = x_test  / 255"
   ]
  },
  {
   "cell_type": "code",
   "execution_count": null,
   "metadata": {},
   "outputs": [],
   "source": [
    "my_index = sample(range(60000), 6000)\n",
    "x_train = x_train[my_index, :, :]\n",
    "y_train = y_train[my_index]"
   ]
  },
  {
   "cell_type": "markdown",
   "metadata": {},
   "source": [
    "### 11.3.2 多層パーセプトロン"
   ]
  },
  {
   "cell_type": "code",
   "execution_count": null,
   "metadata": {},
   "outputs": [],
   "source": [
    "my_model = models.Sequential()\n",
    "my_model.add(layers.Flatten(input_shape=[28, 28]))\n",
    "my_model.add(layers.Dense(units=256, activation=\"relu\"))\n",
    "my_model.add(layers.Dense(units=10, activation=\"softmax\"))\n",
    "\n",
    "my_model.summary()\n",
    "#> Model: \"sequential\"\n",
    "#> _________________________________________________________________\n",
    "#> Layer (type)                 Output Shape              Param #\n",
    "#> =================================================================\n",
    "#> flatten (Flatten)            (None, 784)               0\n",
    "#> _________________________________________________________________\n",
    "#> dense (Dense)                (None, 256)               200960\n",
    "#> _________________________________________________________________\n",
    "#> dense_1 (Dense)              (None, 10)                2570\n",
    "#> =================================================================\n",
    "#> Total params: 203,530\n",
    "#> Trainable params: 203,530\n",
    "#> Non-trainable params: 0\n",
    "#> _________________________________________________________________\n",
    "\n",
    "my_model.compile(loss='sparse_categorical_crossentropy',\n",
    "                 optimizer='rmsprop',\n",
    "                 metrics=['accuracy'])\n",
    "\n",
    "my_cb = callbacks.EarlyStopping(patience=5, restore_best_weights=True)"
   ]
  },
  {
   "cell_type": "code",
   "execution_count": null,
   "metadata": {},
   "outputs": [],
   "source": [
    "my_history = my_model.fit(\n",
    "    x=x_train,\n",
    "    y=y_train,\n",
    "    validation_split=0.2,\n",
    "    batch_size=128,\n",
    "    epochs=20,\n",
    "    callbacks=[my_cb],\n",
    "    verbose=0)\n",
    "\n",
    "tmp = pd.DataFrame(my_history.history)\n",
    "tmp.plot(xlabel='epoch', style='o-')"
   ]
  },
  {
   "cell_type": "code",
   "execution_count": null,
   "metadata": {},
   "outputs": [],
   "source": [
    "tmp = my_model.predict(x_test)\n",
    "y_ = np.argmax(tmp, axis=-1)\n",
    "confusion_matrix(y_true=y_test,\n",
    "                 y_pred=y_)"
   ]
  },
  {
   "cell_type": "code",
   "execution_count": null,
   "metadata": {},
   "outputs": [],
   "source": [
    "#> [[ 962    0    2    1    1    2    7    1    2    2]\n",
    "#>  [   0 1123    4    0    0    1    3    0    4    0]\n",
    "#>  [  11    4  954   11    6    2    7    9   26    2]\n",
    "#>  [   3    0   20  930    2   12    2   11   21    9]\n",
    "#>  [   1    1    7    0  927    1   11    1    5   28]\n",
    "#>  [  10    1    3   16    4  812   11    7   24    4]\n",
    "#>  [   9    3    4    0    9   10  919    0    4    0]\n",
    "#>  [   3    6   17    4   11    0    0  965    2   20]\n",
    "#>  [   8    4    6   12    6    9    9    7  901   12]\n",
    "#>  [   9    8    0    8   31    4    1   14    7  927]]"
   ]
  },
  {
   "cell_type": "code",
   "execution_count": null,
   "metadata": {},
   "outputs": [],
   "source": [
    "(y_ == y_test).mean()\n",
    "#> 0.942"
   ]
  },
  {
   "cell_type": "code",
   "execution_count": null,
   "metadata": {},
   "outputs": [],
   "source": [
    "my_model.evaluate(x=x_test, y=y_test)\n",
    "#> [0.20125965774059296,\n",
    "#>  0.9419999718666077]"
   ]
  },
  {
   "cell_type": "markdown",
   "metadata": {},
   "source": [
    "### 11.3.3 畳み込みニューラルネットワーク（CNN）"
   ]
  },
  {
   "cell_type": "code",
   "execution_count": null,
   "metadata": {},
   "outputs": [],
   "source": [
    "x_train2d = x_train.reshape(-1, 28, 28, 1)\n",
    "x_test2d = x_test.reshape(-1, 28, 28, 1)"
   ]
  },
  {
   "cell_type": "markdown",
   "metadata": {},
   "source": [
    "#### 11.3.3.1 単純なCNN"
   ]
  },
  {
   "cell_type": "code",
   "execution_count": null,
   "metadata": {},
   "outputs": [],
   "source": [
    "my_model = models.Sequential()\n",
    "my_model.add(layers.Conv2D(filters=32, kernel_size=3, # 畳み込み層\n",
    "                           activation='relu',\n",
    "                           input_shape=[28, 28, 1]))\n",
    "my_model.add(layers.MaxPooling2D(pool_size=2))        # プーリング層\n",
    "my_model.add(layers.Flatten())\n",
    "my_model.add(layers.Dense(128, activation='relu'))\n",
    "my_model.add(layers.Dense(10, activation='softmax'))\n",
    "\n",
    "my_model.summary()\n",
    "#> Model: \"sequential\"\n",
    "#> _________________________________________________________________\n",
    "#> Layer (type)                 Output Shape              Param #\n",
    "#> =================================================================\n",
    "#> conv2d (Conv2D)              (None, 26, 26, 32)        320\n",
    "#> _________________________________________________________________\n",
    "#> max_pooling2d (MaxPooling2D) (None, 13, 13, 32)        0\n",
    "#> _________________________________________________________________\n",
    "#> flatten (Flatten)            (None, 5408)              0\n",
    "#> _________________________________________________________________\n",
    "#> dense (Dense)                (None, 128)               692352\n",
    "#> _________________________________________________________________\n",
    "#> dense_1 (Dense)              (None, 10)                1290\n",
    "#> =================================================================\n",
    "#> Total params: 693,962\n",
    "#> Trainable params: 693,962\n",
    "#> Non-trainable params: 0\n",
    "#> _________________________________________________________________\n",
    "\n",
    "my_model.compile(loss='sparse_categorical_crossentropy',\n",
    "                 optimizer='rmsprop',\n",
    "                 metrics=['accuracy'])\n",
    "\n",
    "from keras.callbacks import EarlyStopping\n",
    "my_cb = EarlyStopping(patience=5,\n",
    "                      restore_best_weights=True)"
   ]
  },
  {
   "cell_type": "code",
   "execution_count": null,
   "metadata": {},
   "outputs": [],
   "source": [
    "my_history = my_model.fit(\n",
    "    x=x_train2d,\n",
    "    y=y_train,\n",
    "    validation_split=0.2,\n",
    "    batch_size=128,\n",
    "    epochs=20,\n",
    "    callbacks=my_cb,\n",
    "    verbose=0)\n",
    "\n",
    "tmp = pd.DataFrame(my_history.history)\n",
    "tmp.plot(xlabel='epoch', style='o-')"
   ]
  },
  {
   "cell_type": "code",
   "execution_count": null,
   "metadata": {},
   "outputs": [],
   "source": [
    "my_model.evaluate(x=x_test2d, y=y_test)\n",
    "#> [0.1359061449766159,\n",
    "#>  0.9581000208854675]"
   ]
  },
  {
   "cell_type": "markdown",
   "metadata": {},
   "source": [
    "#### 11.3.3.2 LeNet"
   ]
  },
  {
   "cell_type": "code",
   "execution_count": null,
   "metadata": {},
   "outputs": [],
   "source": [
    "my_model = models.Sequential()\n",
    "my_model.add(layers.Conv2D(filters=20, kernel_size=5, activation='relu',\n",
    "                           input_shape=(28, 28, 1)))\n",
    "my_model.add(layers.MaxPooling2D(pool_size=2, strides=2))\n",
    "my_model.add(layers.Conv2D(filters=20, kernel_size=5, activation='relu'))\n",
    "my_model.add(layers.MaxPooling2D(pool_size=2, strides=2))\n",
    "my_model.add(layers.Dropout(rate=0.25))\n",
    "my_model.add(layers.Flatten())\n",
    "my_model.add(layers.Dense(500, activation='relu'))\n",
    "my_model.add(layers.Dropout(rate=0.5))\n",
    "my_model.add(layers.Dense(10, activation='softmax'))\n",
    "\n",
    "my_model.compile(loss='sparse_categorical_crossentropy',\n",
    "                 optimizer='rmsprop',\n",
    "                 metrics=['accuracy'])\n",
    "\n",
    "my_cb = callbacks.EarlyStopping(patience=5,\n",
    "                                restore_best_weights=True)"
   ]
  },
  {
   "cell_type": "code",
   "execution_count": null,
   "metadata": {},
   "outputs": [],
   "source": [
    "my_history = my_model.fit(\n",
    "    x=x_train2d,\n",
    "    y=y_train,\n",
    "    validation_split=0.2,\n",
    "    batch_size=128,\n",
    "    epochs=20,\n",
    "    callbacks=my_cb,\n",
    "    verbose=0)\n",
    "\n",
    "tmp = pd.DataFrame(my_history.history)\n",
    "tmp.plot(xlabel='epoch', style='o-')"
   ]
  },
  {
   "cell_type": "code",
   "execution_count": null,
   "metadata": {},
   "outputs": [],
   "source": [
    "my_model.evaluate(x=x_test2d, y=y_test)\n",
    "#> [0.06491111218929291,\n",
    "#>  0.9797000288963318]"
   ]
  },
  {
   "cell_type": "markdown",
   "metadata": {},
   "source": [
    "#### 11.3.3.3 補足：LeNetが自信満々で間違う例"
   ]
  },
  {
   "cell_type": "code",
   "execution_count": null,
   "metadata": {},
   "outputs": [],
   "source": [
    "y_prob = my_model.predict(x_test2d)                    # カテゴリに属する確率\n",
    "\n",
    "tmp = pd.DataFrame({\n",
    "    'y_prob': np.max(y_prob, axis=1),                  # 確率の最大値\n",
    "    'y_': np.argmax(y_prob, axis=1),                   # 予測カテゴリ\n",
    "    'y': y_test,                                       # 正解\n",
    "    'id': range(len(y_test))})                         # 番号\n",
    "\n",
    "tmp = tmp[tmp.y_ != tmp.y]                             # 予測がはずれたものを残す\n",
    "my_result = tmp.sort_values('y_prob', ascending=False) # 確率の大きい順に並び替える"
   ]
  },
  {
   "cell_type": "code",
   "execution_count": null,
   "metadata": {},
   "outputs": [],
   "source": [
    "my_result.head()\n",
    "#>         y_prob  y_  y    id\n",
    "#> 2654  0.999997   1  6  2654\n",
    "#> 1232  0.999988   4  9  1232\n",
    "#> 3520  0.999926   4  6  3520\n",
    "#> 9729  0.999881   6  5  9729\n",
    "#> 2896  0.999765   0  8  2896"
   ]
  },
  {
   "cell_type": "code",
   "execution_count": null,
   "metadata": {},
   "outputs": [],
   "source": [
    "for i in range(5):\n",
    "    plt.subplot(1, 5, i + 1)\n",
    "    ans = my_result['y'].iloc[i]\n",
    "    id = my_result['id'].iloc[i]\n",
    "    plt.title(f'{ans} ({id})')\n",
    "    plt.imshow(x_test[id])\n",
    "    plt.axis('off')"
   ]
  }
 ],
 "nbformat": 4,
 "nbformat_minor": 5,
 "metadata": {
  "kernelspec": {
   "name": "python3",
   "display_name": "Python 3"
  }
 }
}
