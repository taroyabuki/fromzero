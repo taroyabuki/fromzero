{
 "cells": [
  {
   "cell_type": "markdown",
   "metadata": {},
   "source": [
    "# 06\n",
    "\n",
    "## 6.1 機械学習の目的（本書の場合）\n",
    "\n",
    "## 6.2 機械学習のためのデータ\n",
    "\n",
    "### 6.2.1 機械学習を学ぶのに使うデータセット\n",
    "\n",
    "#### 6.2.1.1 教師データあり\n",
    "\n",
    "#### 6.2.1.2 時系列データ（第\\\\ref{時系列予測\n",
    "\n",
    "#### 6.2.1.3 教師データなし（第\\\\ref{教師なし学習\n",
    "\n",
    "### 6.2.2 補足：アヤメのデータ\n",
    "\n",
    "#### 6.2.2.1 R"
   ]
  },
  {
   "cell_type": "code",
   "execution_count": null,
   "metadata": {},
   "outputs": [],
   "source": [
    "iris\n",
    "#>     Sepal.Length Sepal.Width Petal.Length Petal.Width    Species\n",
    "#> 1            5.1         3.5          1.4         0.2     setosa\n",
    "# 以下省略"
   ]
  },
  {
   "cell_type": "markdown",
   "metadata": {},
   "source": [
    "#### 6.2.2.2 Python\n",
    "\n",
    "## 6.3 機械学習のための手法\n",
    "\n",
    "### 6.3.1 教師あり学習のためのフレームワーク\n",
    "\n",
    "### 6.3.2 本書で勧める手法とデータセットの組合せ"
   ]
  }
 ],
 "nbformat": 4,
 "nbformat_minor": 5,
 "metadata": {
  "kernelspec": {
   "name": "ir",
   "display_name": "R"
  }
 }
}
