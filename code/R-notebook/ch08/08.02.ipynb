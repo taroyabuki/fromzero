{
 "cells": [
  {
   "cell_type": "markdown",
   "metadata": {},
   "source": [
    "## 8.2 重回帰分析"
   ]
  },
  {
   "cell_type": "code",
   "execution_count": null,
   "metadata": {},
   "outputs": [],
   "source": [
    "library(caret)\n",
    "library(tidyverse)\n",
    "my_url <- str_c(\"https://raw.githubusercontent.com/taroyabuki\",\n",
    "                \"/fromzero/master/data/wine.csv\")\n",
    "my_data <- read_csv(my_url)\n",
    "\n",
    "my_model <- train(form = LPRICE2 ~ WRAIN + DEGREES + HRAIN + TIME_SV,\n",
    "                  data = my_data,\n",
    "                  method = \"lm\",\n",
    "                  trControl = trainControl(method = \"LOOCV\"))"
   ]
  },
  {
   "cell_type": "code",
   "execution_count": null,
   "metadata": {},
   "outputs": [],
   "source": [
    "coef(my_model$finalModel) %>%\n",
    "  as.data.frame\n",
    "#>                         .\n",
    "#> (Intercept) -12.145333577\n",
    "#> WRAIN         0.001166782\n",
    "#> DEGREES       0.616392441\n",
    "#> HRAIN        -0.003860554\n",
    "#> TIME_SV       0.023847413"
   ]
  },
  {
   "cell_type": "code",
   "execution_count": null,
   "metadata": {},
   "outputs": [],
   "source": [
    "my_test <- data.frame(\n",
    "  WRAIN = 500, DEGREES = 17,\n",
    "  HRAIN = 120, TIME_SV = 2)\n",
    "my_model %>% predict(my_test)\n",
    "#>         1\n",
    "#> -1.498843"
   ]
  },
  {
   "cell_type": "code",
   "execution_count": null,
   "metadata": {},
   "outputs": [],
   "source": [
    "y  <- my_data$LPRICE2\n",
    "y_ <- my_model %>% predict(my_data)\n",
    "\n",
    "RMSE(y_, y)\n",
    "#> [1] 0.2586167 # RMSE（訓練）\n",
    "\n",
    "R2(pred = y_, obs = y,\n",
    "   form = \"traditional\")\n",
    "#> [1] 0.8275278 # 決定係数1（訓練）\n",
    "\n",
    "R2(pred = y_, obs = y,\n",
    "   form = \"corr\")\n",
    "#> [1] 0.8275278 # 決定係数6（訓練）"
   ]
  },
  {
   "cell_type": "code",
   "execution_count": null,
   "metadata": {},
   "outputs": [],
   "source": [
    "my_model$results\n",
    "#>   intercept      RMSE  Rsquared       MAE\n",
    "#> 1      TRUE 0.3230043 0.7361273 0.2767282"
   ]
  },
  {
   "cell_type": "markdown",
   "metadata": {},
   "source": [
    "### 8.2.1 補足：行列計算による再現"
   ]
  },
  {
   "cell_type": "code",
   "execution_count": null,
   "metadata": {},
   "outputs": [],
   "source": [
    "M <- my_data[, -1] %>%\n",
    "  mutate(b0 = 1) %>% as.matrix\n",
    "b <- MASS::ginv(M) %*% y\n",
    "matrix(b,\n",
    "       dimnames = list(colnames(M)))\n",
    "#>                  [,1]\n",
    "#> WRAIN     0.001166782\n",
    "#> DEGREES   0.616392441\n",
    "#> HRAIN    -0.003860554\n",
    "#> TIME_SV   0.023847413\n",
    "#> b0      -12.145333577"
   ]
  }
 ],
 "nbformat": 4,
 "nbformat_minor": 5,
 "metadata": {
  "kernelspec": {
   "name": "ir",
   "display_name": "R"
  }
 }
}
