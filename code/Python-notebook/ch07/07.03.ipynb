{
 "cells": [
  {
   "cell_type": "markdown",
   "metadata": {},
   "source": [
    "## 7.3 回帰分析\n",
    "\n",
    "### 7.3.1 回帰分析とは何か\n",
    "\n",
    "### 7.3.2 線形単回帰分析"
   ]
  },
  {
   "cell_type": "code",
   "execution_count": null,
   "metadata": {},
   "outputs": [],
   "source": [
    "import seaborn as sns\n",
    "import statsmodels.api as sm\n",
    "\n",
    "my_data = sm.datasets.get_rdataset('cars', 'datasets').data\n",
    "ax = sns.regplot(x='speed', y='dist', data=my_data)\n",
    "ax.vlines(x=21.5, ymin=-5, ymax=67,   linestyles='dotted')\n",
    "ax.hlines(y=67,   xmin=4,  xmax=21.5, linestyles='dotted')\n",
    "ax.set_xlim(4, 25)\n",
    "ax.set_ylim(-5, 125)"
   ]
  },
  {
   "cell_type": "markdown",
   "metadata": {},
   "source": [
    "### 7.3.3 回帰分析の実践\n",
    "\n",
    "#### 7.3.3.1 データの用意"
   ]
  },
  {
   "cell_type": "code",
   "execution_count": null,
   "metadata": {},
   "outputs": [],
   "source": [
    "import statsmodels.api as sm\n",
    "my_data = sm.datasets.get_rdataset('cars', 'datasets').data\n",
    "X, y = my_data[['speed']], my_data['dist']"
   ]
  },
  {
   "cell_type": "markdown",
   "metadata": {},
   "source": [
    "#### 7.3.3.2 訓練"
   ]
  },
  {
   "cell_type": "code",
   "execution_count": null,
   "metadata": {},
   "outputs": [],
   "source": [
    "# モデルの指定\n",
    "from sklearn.linear_model import LinearRegression\n",
    "my_model = LinearRegression()\n",
    "\n",
    "# 訓練（モデルをデータにフィットさせる．）\n",
    "my_model.fit(X, y)\n",
    "\n",
    "# まとめて実行してもよい．\n",
    "# my_model = LinearRegression().fit(X, y)"
   ]
  },
  {
   "cell_type": "code",
   "execution_count": null,
   "metadata": {},
   "outputs": [],
   "source": [
    "my_model.intercept_, my_model.coef_\n",
    "#> (-17.579094890510973,\n",
    "#>  array([3.93240876]))"
   ]
  },
  {
   "cell_type": "markdown",
   "metadata": {},
   "source": [
    "#### 7.3.3.3 予測"
   ]
  },
  {
   "cell_type": "code",
   "execution_count": null,
   "metadata": {},
   "outputs": [],
   "source": [
    "tmp = [[21.5]]\n",
    "my_model.predict(tmp)\n",
    "#> array([66.96769343])"
   ]
  },
  {
   "cell_type": "markdown",
   "metadata": {},
   "source": [
    "#### 7.3.3.4 モデルの可視化"
   ]
  },
  {
   "cell_type": "code",
   "execution_count": null,
   "metadata": {},
   "outputs": [],
   "source": [
    "import numpy as np\n",
    "import pandas as pd\n",
    "\n",
    "tmp = pd.DataFrame({'speed': np.linspace(min(my_data.speed),\n",
    "                                         max(my_data.speed),\n",
    "                                         100)})\n",
    "tmp['model'] = my_model.predict(tmp)"
   ]
  },
  {
   "cell_type": "code",
   "execution_count": null,
   "metadata": {},
   "outputs": [],
   "source": [
    "pd.concat([my_data, tmp]).plot(\n",
    "    x='speed', style=['o', '-'])"
   ]
  }
 ],
 "nbformat": 4,
 "nbformat_minor": 5,
 "metadata": {
  "kernelspec": {
   "name": "python3",
   "display_name": "Python 3"
  }
 }
}
