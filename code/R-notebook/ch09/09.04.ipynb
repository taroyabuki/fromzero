{
 "cells": [
  {
   "cell_type": "markdown",
   "metadata": {},
   "source": [
    "## 9.4 複数の木を使う方法\n",
    "\n",
    "### 9.4.1 ランダムフォレスト"
   ]
  },
  {
   "cell_type": "code",
   "execution_count": null,
   "metadata": {},
   "outputs": [],
   "source": [
    "library(caret)\n",
    "library(tidyverse)\n",
    "my_data <- iris\n",
    "\n",
    "my_model <- train(form = Species ~ ., data = my_data, method = \"rf\",\n",
    "                  tuneGrid = data.frame(mtry = 2:4), # 省略可\n",
    "                  trControl = trainControl(method = \"LOOCV\"))\n",
    "my_model$results\n",
    "#>   mtry Accuracy Kappa\n",
    "#> 1    2     0.96  0.94\n",
    "#> 2    3     0.96  0.94\n",
    "#> 3    4     0.96  0.94"
   ]
  },
  {
   "cell_type": "markdown",
   "metadata": {},
   "source": [
    "### 9.4.2 ブースティング"
   ]
  },
  {
   "cell_type": "code",
   "execution_count": null,
   "metadata": {},
   "outputs": [],
   "source": [
    "my_model <- train(\n",
    "  form = Species ~ ., data = my_data, method = \"xgbTree\",\n",
    "  tuneGrid = expand.grid(\n",
    "    nrounds          = c(50, 100, 150),\n",
    "    max_depth        = c(1, 2, 3),\n",
    "    eta              = c(0.3, 0.4),\n",
    "    gamma            = 0,\n",
    "    colsample_bytree = c(0.6, 0.8),\n",
    "    min_child_weight = 1,\n",
    "    subsample        = c(0.5, 0.75, 1)),\n",
    "  trControl = trainControl(method = \"cv\", number = 5)) # 5分割交差検証\n",
    "my_model$results %>% filter(Accuracy == max(Accuracy)) %>% head(5) %>% t\n",
    "#>                            1           2           3           4           5\n",
    "#> eta               0.30000000  0.30000000  0.30000000  0.40000000  0.30000000\n",
    "#> max_depth         1.00000000  1.00000000  1.00000000  1.00000000  3.00000000\n",
    "#> gamma             0.00000000  0.00000000  0.00000000  0.00000000  0.00000000\n",
    "#> colsample_bytree  0.60000000  0.60000000  0.80000000  0.60000000  0.80000000\n",
    "#> min_child_weight  1.00000000  1.00000000  1.00000000  1.00000000  1.00000000\n",
    "#> subsample         0.50000000  0.75000000  0.75000000  0.50000000  0.50000000\n",
    "#> nrounds          50.00000000 50.00000000 50.00000000 50.00000000 50.00000000\n",
    "#> Accuracy          0.96000000  0.96000000  0.96000000  0.96000000  0.96000000\n",
    "#> Kappa             0.94000000  0.94000000  0.94000000  0.94000000  0.94000000\n",
    "#> AccuracySD        0.02788867  0.02788867  0.02788867  0.01490712  0.01490712\n",
    "#> KappaSD           0.04183300  0.04183300  0.04183300  0.02236068  0.02236068"
   ]
  },
  {
   "cell_type": "markdown",
   "metadata": {},
   "source": [
    "### 9.4.3 入力変数の重要度"
   ]
  },
  {
   "cell_type": "code",
   "execution_count": null,
   "metadata": {},
   "outputs": [],
   "source": [
    "my_model <- train(form = Species ~ ., data = my_data, method = \"rf\")\n",
    "ggplot(varImp(my_model))"
   ]
  }
 ],
 "nbformat": 4,
 "nbformat_minor": 5,
 "metadata": {
  "kernelspec": {
   "name": "ir",
   "display_name": "R"
  }
 }
}
