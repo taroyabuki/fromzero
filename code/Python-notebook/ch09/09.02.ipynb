{
 "cells": [
  {
   "cell_type": "markdown",
   "metadata": {},
   "source": [
    "## 9.2 木による分類\n",
    "\n",
    "### 9.2.1 分類木の作成と利用"
   ]
  },
  {
   "cell_type": "code",
   "execution_count": null,
   "metadata": {},
   "outputs": [],
   "source": [
    "import graphviz\n",
    "import pandas as pd\n",
    "import statsmodels.api as sm\n",
    "from sklearn import tree\n",
    "\n",
    "my_data = sm.datasets.get_rdataset('iris', 'datasets').data\n",
    "X, y = my_data.iloc[:, 0:4], my_data.Species\n",
    "\n",
    "my_model = tree.DecisionTreeClassifier(max_depth=2, random_state=0)\n",
    "my_model.fit(X, y)"
   ]
  },
  {
   "cell_type": "code",
   "execution_count": null,
   "metadata": {},
   "outputs": [],
   "source": [
    "my_dot = tree.export_graphviz(\n",
    "    decision_tree=my_model,\n",
    "    out_file=None,                 # ファイルに出力しない．\n",
    "    feature_names=X.columns,       # 変数名\n",
    "    class_names=my_model.classes_, # カテゴリ名\n",
    "    filled=True)                   # 色を塗る．\n",
    "graphviz.Source(my_dot)"
   ]
  },
  {
   "cell_type": "code",
   "execution_count": null,
   "metadata": {},
   "outputs": [],
   "source": [
    "my_test = pd.DataFrame([[5.0, 3.5, 1.5, 0.5],\n",
    "                        [6.5, 3.0, 5.0, 2.0]])\n",
    "my_model.predict(my_test)\n",
    "#> array(['setosa', 'virginica'], dtype=object)"
   ]
  },
  {
   "cell_type": "code",
   "execution_count": null,
   "metadata": {},
   "outputs": [],
   "source": [
    "pd.DataFrame(\n",
    "    my_model.predict_proba(my_test),\n",
    "    columns=my_model.classes_)\n",
    "#>    setosa  versicolor  virginica\n",
    "#> 0     1.0    0.000000   0.000000\n",
    "#> 1     0.0    0.021739   0.978261"
   ]
  }
 ],
 "nbformat": 4,
 "nbformat_minor": 5,
 "metadata": {
  "kernelspec": {
   "name": "python3",
   "display_name": "Python 3"
  }
 }
}
