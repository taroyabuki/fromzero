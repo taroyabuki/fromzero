{
  "cells": [
    {
      "id": "269b759b",
      "cell_type": "markdown",
      "source": "[\u8fbb\u771f\u543e\u30fb\u77e2\u5439\u592a\u6717\u300e\u30bc\u30ed\u304b\u3089\u306f\u3058\u3081\u308b\u30c7\u30fc\u30bf\u30b5\u30a4\u30a8\u30f3\u30b9\u5165\u9580\u300f\uff08\u8b1b\u8ac7\u793e,\u00a02021\uff09](https://github.com/taroyabuki/fromzero)",
      "metadata": {}
    },
    {
      "cell_type": "code",
      "execution_count": null,
      "metadata": {},
      "outputs": [],
      "source": [
        "# Google Colaboratory\u306e\u74b0\u5883\u8a2d\u5b9a\n",
        "if (file.exists(\"/content\")) {\n",
        "  options(Ncpus = parallel::detectCores())\n",
        "  installed_packages <- rownames(installed.packages())\n",
        "  packages_to_install <- c(\"caret\", \"doParallel\", \"pastecs\")\n",
        "  install.packages(setdiff(packages_to_install, installed_packages))\n",
        "}"
      ],
      "id": "2c65ecb5-2c56-49a3-8810-65e38775d013"
    },
    {
      "id": "3411147a",
      "cell_type": "markdown",
      "source": "## 7.1 \u81ea\u52d5\u8eca\u306e\u505c\u6b62\u8ddd\u96e2\n\n\n",
      "metadata": {}
    },
    {
      "id": "6e77ec29",
      "cell_type": "markdown",
      "source": "## 7.2 \u30c7\u30fc\u30bf\u306e\u78ba\u8a8d",
      "metadata": {}
    },
    {
      "cell_type": "code",
      "execution_count": null,
      "metadata": {},
      "outputs": [],
      "source": [
        "library(caret)\n",
        "library(tidyverse)\n",
        "my_data <- cars"
      ],
      "id": "45259c87-dc73-4322-832f-c87c3e9f3d8e"
    },
    {
      "cell_type": "code",
      "execution_count": null,
      "metadata": {},
      "outputs": [],
      "source": [
        "dim(my_data)"
      ],
      "id": "bccae59c-56be-4207-baf6-515d673b772d"
    },
    {
      "cell_type": "code",
      "execution_count": null,
      "metadata": {},
      "outputs": [],
      "source": [
        "head(my_data)"
      ],
      "id": "6e13abe7-1ba3-410e-a509-f425adbf0461"
    },
    {
      "cell_type": "code",
      "execution_count": null,
      "metadata": {},
      "outputs": [],
      "source": [
        "options(digits = 3)\n",
        "pastecs::stat.desc(my_data)"
      ],
      "id": "938f6866-58f8-4943-9853-6e867bf73750"
    },
    {
      "cell_type": "code",
      "execution_count": null,
      "metadata": {},
      "outputs": [],
      "source": [
        "my_data %>%\n",
        "  ggplot(aes(x = speed, y = dist)) +\n",
        "  geom_point()"
      ],
      "id": "1d6c10b0-bf9d-4fc5-b94b-e7c3fa03ff6e"
    },
    {
      "id": "25930b27",
      "cell_type": "markdown",
      "source": "## 7.3 \u56de\u5e30\u5206\u6790",
      "metadata": {}
    },
    {
      "cell_type": "code",
      "execution_count": null,
      "metadata": {},
      "outputs": [],
      "source": [
        "library(tidyverse)\n",
        "\n",
        "my_data <- cars\n",
        "tmp <- data.frame(speed = 21.5, dist = 67)\n",
        "my_data %>% ggplot(aes(x = speed, y = dist)) +\n",
        "  coord_cartesian(xlim = c(4, 25), ylim = c(0, 120)) +\n",
        "  geom_point() +\n",
        "  stat_smooth(formula = y ~ x, method = \"lm\") +\n",
        "  geom_pointrange(data = tmp, aes(ymin = -9, ymax = dist),  linetype = \"dotted\") +\n",
        "  geom_pointrange(data = tmp, aes(xmin =  0, xmax = speed), linetype = \"dotted\")"
      ],
      "id": "684d3313-6336-4bde-b513-497f4ea6b8f0"
    },
    {
      "cell_type": "code",
      "execution_count": null,
      "metadata": {},
      "outputs": [],
      "source": [
        "library(caret)\n",
        "library(tidyverse)\n",
        "my_data <- cars"
      ],
      "id": "9ebc113e-9d4a-4bf6-9a1d-9107323f92fa"
    },
    {
      "cell_type": "code",
      "execution_count": null,
      "metadata": {},
      "outputs": [],
      "source": [
        "my_model <- train(form = dist ~ speed, # \u30e2\u30c7\u30eb\u5f0f\uff08\u51fa\u529b\u5909\u6570\u3068\u5165\u529b\u5909\u6570\u306e\u95a2\u4fc2\uff09\n",
        "                  data = my_data,      # \u30c7\u30fc\u30bf\n",
        "                  method = \"lm\")       # \u624b\u6cd5"
      ],
      "id": "291e47c0-7128-4b54-8f44-1ec162afe5e5"
    },
    {
      "cell_type": "code",
      "execution_count": null,
      "metadata": {},
      "outputs": [],
      "source": [
        "coef(my_model$finalModel)"
      ],
      "id": "ab7f4a20-20a1-478c-940d-d2e6f3a468a1"
    },
    {
      "cell_type": "code",
      "execution_count": null,
      "metadata": {},
      "outputs": [],
      "source": [
        "tmp <- data.frame(speed = 21.5)\n",
        "my_model %>% predict(tmp)"
      ],
      "id": "f8103350-5829-4933-ab13-dcef74ceb40d"
    },
    {
      "cell_type": "code",
      "execution_count": null,
      "metadata": {},
      "outputs": [],
      "source": [
        "f <- function(x) { my_model %>% predict(data.frame(speed = x)) }"
      ],
      "id": "9574c905-d60e-48e2-ac14-bc9521ffdb97"
    },
    {
      "cell_type": "code",
      "execution_count": null,
      "metadata": {},
      "outputs": [],
      "source": [
        "my_data %>%\n",
        "  ggplot(aes(x = speed, y = dist,\n",
        "             color = \"data\")) +\n",
        "  geom_point() +\n",
        "  stat_function(\n",
        "    fun = f,\n",
        "    mapping = aes(color = \"model\"))"
      ],
      "id": "59679d53-4d60-4fe8-bf75-67c599392359"
    },
    {
      "id": "7dd40f02",
      "cell_type": "markdown",
      "source": "## 7.4 \u5f53\u3066\u306f\u307e\u308a\u306e\u826f\u3055\u306e\u6307\u6a19",
      "metadata": {}
    },
    {
      "cell_type": "code",
      "execution_count": null,
      "metadata": {},
      "outputs": [],
      "source": [
        "library(caret)\n",
        "library(tidyverse)\n",
        "my_data <- cars\n",
        "my_model <- train(form = dist ~ speed, data = my_data, method = \"lm\")\n",
        "\n",
        "y  <- my_data$dist\n",
        "y_ <- my_model %>% predict(my_data)\n",
        "my_data$y_ <- y_"
      ],
      "id": "1db32006-c7f7-469f-8778-3e92414db69e"
    },
    {
      "cell_type": "code",
      "execution_count": null,
      "metadata": {},
      "outputs": [],
      "source": [
        "my_data$residual <- y - y_\n",
        "head(my_data)"
      ],
      "id": "d17f2565-5295-4098-890c-622fbce9b9a5"
    },
    {
      "cell_type": "code",
      "execution_count": null,
      "metadata": {},
      "outputs": [],
      "source": [
        "my_data %>%\n",
        "  ggplot(aes(x = speed, y = dist)) +\n",
        "  geom_point() +\n",
        "  geom_line(aes(x = speed, y = y_)) +\n",
        "  geom_linerange(mapping = aes(ymin = y_, ymax = dist), linetype = \"dotted\")"
      ],
      "id": "1c721444-2fdb-43fe-acc8-805085cd3fa1"
    },
    {
      "cell_type": "code",
      "execution_count": null,
      "metadata": {},
      "outputs": [],
      "source": [
        "RMSE(y_, y)\n",
        "# \u3042\u308b\u3044\u306f\n",
        "mean((my_data$residual^2))**0.5\n"
      ],
      "id": "d564ce22-ec84-4a85-9fa9-e704f1910349"
    },
    {
      "cell_type": "code",
      "execution_count": null,
      "metadata": {},
      "outputs": [],
      "source": [
        "R2(pred = y_, obs = y,\n",
        "   form = \"traditional\")"
      ],
      "id": "da7fdcb3-88d6-4ff2-a315-3b9a7684c75d"
    },
    {
      "cell_type": "code",
      "execution_count": null,
      "metadata": {},
      "outputs": [],
      "source": [
        "R2(pred = y_, obs = y,\n",
        "   form = \"corr\")\n",
        "# \u3042\u308b\u3044\u306f\n",
        "summary(my_model$finalModel)$r.squared"
      ],
      "id": "1559935d-7cd6-402c-b875-ec8eb3cee950"
    },
    {
      "cell_type": "code",
      "execution_count": null,
      "metadata": {},
      "outputs": [],
      "source": [
        "my_test <- my_data[1:3, ]\n",
        "y  <- my_test$dist\n",
        "y_ <- my_model %>% predict(my_test)\n",
        "\n",
        "R2(pred = y_, obs = y,\n",
        "   form = \"traditional\")\n",
        "\n",
        "R2(pred = y_, obs = y,\n",
        "   form = \"corr\")"
      ],
      "id": "ee9850e1-3412-4623-8ebe-bd2e12040c2b"
    },
    {
      "cell_type": "code",
      "execution_count": null,
      "metadata": {},
      "outputs": [],
      "source": [
        "library(caret)\n",
        "library(tidyverse)\n",
        "my_data <- cars\n",
        "my_idx <- c(2, 11, 27, 34, 39, 44)\n",
        "my_sample <- my_data[my_idx, ]"
      ],
      "id": "17208607-e9ef-4d35-87fd-ed0f92fc0ee9"
    },
    {
      "cell_type": "code",
      "execution_count": null,
      "metadata": {},
      "outputs": [],
      "source": [
        "options(warn = -1) # \u3053\u308c\u4ee5\u964d\uff0c\u8b66\u544a\u3092\u8868\u793a\u3057\u306a\u3044\uff0e\n",
        "my_model <- train(form = dist ~ poly(speed, degree = 5, raw = TRUE),\n",
        "                  data = my_sample,\n",
        "                  method = \"lm\")\n",
        "options(warn = 0)  # \u3053\u308c\u4ee5\u964d\uff0c\u8b66\u544a\u3092\u8868\u793a\u3059\u308b\uff0e\n",
        "\n",
        "y  <- my_sample$dist\n",
        "y_ <- my_model %>% predict(my_sample)"
      ],
      "id": "cd006be1-6ef8-43bf-8483-5eb8b9ab5451"
    },
    {
      "cell_type": "code",
      "execution_count": null,
      "metadata": {},
      "outputs": [],
      "source": [
        "RMSE(y_, y)\n",
        "\n",
        "R2(pred = y_, obs = y,\n",
        "   form = \"traditional\")\n",
        "\n",
        "R2(pred = y_, obs = y,\n",
        "   form = \"corr\")"
      ],
      "id": "6e210a6a-eb12-4c7b-bb03-f3fea07c5a75"
    },
    {
      "cell_type": "code",
      "execution_count": null,
      "metadata": {},
      "outputs": [],
      "source": [
        "f <- function(x) { my_model %>% predict(data.frame(speed = x)) }\n",
        "\n",
        "my_data %>%\n",
        "  ggplot(aes(x = speed, y = dist, color = \"data\")) +\n",
        "  geom_point() +\n",
        "  geom_point(data = my_sample, mapping = aes(color = \"sample\")) +\n",
        "  stat_function(fun = f, mapping = aes(color = \"model\")) +\n",
        "  coord_cartesian(ylim = c(0, 120))"
      ],
      "id": "747524c0-ceb8-4e20-b1ac-4913cc3d9e1b"
    },
    {
      "id": "20023dea",
      "cell_type": "markdown",
      "source": "## 7.5 K\u6700\u8fd1\u508d\u6cd5",
      "metadata": {}
    },
    {
      "cell_type": "code",
      "execution_count": null,
      "metadata": {},
      "outputs": [],
      "source": [
        "# \u6e96\u5099\n",
        "library(caret)\n",
        "library(tidyverse)\n",
        "my_data <- cars\n",
        "\n",
        "# \u8a13\u7df4\n",
        "my_model <- train(form = dist ~ speed, data = my_data, method = \"knn\")\n",
        "\n",
        "# \u53ef\u8996\u5316\u306e\u6e96\u5099\n",
        "f <- function(x) { my_model %>% predict(data.frame(speed = x))}"
      ],
      "id": "8796ca61-eb42-43f4-89f9-91fa1e3c0f54"
    },
    {
      "cell_type": "code",
      "execution_count": null,
      "metadata": {},
      "outputs": [],
      "source": [
        "my_data %>%\n",
        "  ggplot(aes(x = speed,\n",
        "             y = dist,\n",
        "             color = \"data\")) +\n",
        "  geom_point() +\n",
        "  stat_function(\n",
        "    fun = f,\n",
        "    mapping = aes(color = \"model\"))"
      ],
      "id": "bd8f0dee-2697-4a9a-bc9d-1d55ec9a244c"
    },
    {
      "cell_type": "code",
      "execution_count": null,
      "metadata": {},
      "outputs": [],
      "source": [
        "y  <- my_data$dist\n",
        "y_ <- my_model %>% predict(my_data)\n",
        "\n",
        "RMSE(y_, y)\n",
        "\n",
        "R2(pred = y_, obs = y,\n",
        "   form = \"traditional\")\n",
        "\n",
        "R2(pred = y_, obs = y,\n",
        "   form = \"corr\")"
      ],
      "id": "a34c783d-b9de-4f75-9699-9b3cb616c273"
    },
    {
      "id": "d067ff91",
      "cell_type": "markdown",
      "source": "## 7.6 \u691c\u8a3c",
      "metadata": {}
    },
    {
      "cell_type": "code",
      "execution_count": null,
      "metadata": {},
      "outputs": [],
      "source": [
        "library(caret)\n",
        "library(tidyverse)\n",
        "my_data <- cars\n",
        "my_model <- train(form = dist ~ speed, data = my_data, method = \"lm\")\n",
        "\n",
        "my_model$results"
      ],
      "id": "b37887c7-7aaf-489c-84e7-299f3930832d"
    },
    {
      "cell_type": "code",
      "execution_count": null,
      "metadata": {},
      "outputs": [],
      "source": [
        "my_model <- train(form = dist ~ speed, data = my_data, method = \"lm\",\n",
        "                  trControl = trainControl(method = \"cv\", number = 5))\n",
        "my_model$results"
      ],
      "id": "31d26ee4-8072-4a62-8c2f-92eba5d88ca3"
    },
    {
      "cell_type": "code",
      "execution_count": null,
      "metadata": {},
      "outputs": [],
      "source": [
        "my_model <- train(form = dist ~ speed, data = my_data, method = \"lm\",\n",
        "                  trControl = trainControl(method = \"LOOCV\"))\n",
        "my_model$results"
      ],
      "id": "5d5323af-edcc-4366-ae0b-922463b2b1c7"
    },
    {
      "cell_type": "code",
      "execution_count": null,
      "metadata": {},
      "outputs": [],
      "source": [
        "library(doParallel)\n",
        "cl <- makeCluster(detectCores())\n",
        "registerDoParallel(cl)"
      ],
      "id": "7d866729-d417-4918-b806-374c7adfd458"
    },
    {
      "cell_type": "code",
      "execution_count": null,
      "metadata": {},
      "outputs": [],
      "source": [
        "library(caret)\n",
        "library(tidyverse)\n",
        "my_data <- cars\n",
        "my_model <- train(form = dist ~ speed, data = my_data, method = \"lm\")\n",
        "y  <- my_data$dist\n",
        "y_ <- my_model %>% predict(my_data)"
      ],
      "id": "a212dd93-02cf-48a0-9cea-cdf4d5c33d3c"
    },
    {
      "cell_type": "code",
      "execution_count": null,
      "metadata": {},
      "outputs": [],
      "source": [
        "# RMSE\uff08\u8a13\u7df4\uff09\n",
        "RMSE(y_, y)\n",
        "\n",
        "# \u6c7a\u5b9a\u4fc2\u65701\uff08\u8a13\u7df4\uff09\n",
        "R2(pred = y_, obs = y,\n",
        "   form = \"traditional\")\n",
        "\n",
        "# \u6c7a\u5b9a\u4fc2\u65706\uff08\u8a13\u7df4\uff09\n",
        "R2(pred = y_, obs = y,\n",
        "   form = \"corr\")"
      ],
      "id": "3cc4b57f-78fc-495e-a9c0-0dd265c5b9d8"
    },
    {
      "cell_type": "code",
      "execution_count": null,
      "metadata": {},
      "outputs": [],
      "source": [
        "postResample(pred = y_, obs = y)"
      ],
      "id": "0bd7b9b7-1eff-4066-86ba-5c73d7c2c113"
    },
    {
      "cell_type": "code",
      "execution_count": null,
      "metadata": {},
      "outputs": [],
      "source": [
        "my_model <- train(form = dist ~ speed, data = my_data, method = \"lm\")\n",
        "my_model$results\n",
        "# \u5de6\u304b\u3089\uff0cRMSE\uff08\u691c\u8a3c\uff09\uff0c\u6c7a\u5b9a\u4fc2\u65706\uff08\u691c\u8a3c\uff09\uff0cMAE\uff08\u691c\u8a3c\uff09"
      ],
      "id": "01336c9b-2e0e-4fde-9a4b-43665b8b46a3"
    },
    {
      "cell_type": "code",
      "execution_count": null,
      "metadata": {},
      "outputs": [],
      "source": [
        "my_model <- train(form = dist ~ speed, data = my_data, method = \"lm\",\n",
        "                  trControl = trainControl(method = \"LOOCV\"))\n",
        "\n",
        "# \u65b9\u6cd51\n",
        "my_model$results\n",
        "\n",
        "# \u65b9\u6cd52\n",
        "y  <- my_model$pred$obs\n",
        "y_ <- my_model$pred$pred\n",
        "mean((y - y_)^2)**0.5"
      ],
      "id": "3a8199bc-f7d3-43b7-bb65-fb10401afd10"
    },
    {
      "cell_type": "code",
      "execution_count": null,
      "metadata": {},
      "outputs": [],
      "source": [
        "mean(((y - y_)^2)**0.5)"
      ],
      "id": "2680991f-5edc-4e33-80b1-0dbe70781a8b"
    },
    {
      "cell_type": "code",
      "execution_count": null,
      "metadata": {},
      "outputs": [],
      "source": [
        "library(caret)\n",
        "library(tidyverse)\n",
        "my_data <- cars\n",
        "\n",
        "my_lm_model <- train(form = dist ~ speed, data = my_data, method = \"lm\",\n",
        "                     trControl = trainControl(method = \"LOOCV\"))\n",
        "\n",
        "my_knn_model <- train(form = dist ~ speed, data = my_data, method = \"knn\",\n",
        "                      tuneGrid = data.frame(k = 5),\n",
        "                      trControl = trainControl(method = \"LOOCV\"))"
      ],
      "id": "1910efc6-d1c7-4b7e-8b8d-cb5d45d72e8f"
    },
    {
      "cell_type": "code",
      "execution_count": null,
      "metadata": {},
      "outputs": [],
      "source": [
        "my_lm_model$results$RMSE\n",
        "\n",
        "my_knn_model$results$RMSE"
      ],
      "id": "401ebd26-2b0b-4dd6-ba52-4a6ce6efaca9"
    },
    {
      "cell_type": "code",
      "execution_count": null,
      "metadata": {},
      "outputs": [],
      "source": [
        "y     <- my_data$dist\n",
        "y_lm  <- my_lm_model$pred$pred\n",
        "y_knn <- my_knn_model$pred$pred\n",
        "\n",
        "my_df <- data.frame(\n",
        "  lm  = (y - y_lm)^2,\n",
        "  knn = (y - y_knn)^2)\n",
        "\n",
        "head(my_df)"
      ],
      "id": "aea326de-2440-49f4-9963-9ed03b81743c"
    },
    {
      "cell_type": "code",
      "execution_count": null,
      "metadata": {},
      "outputs": [],
      "source": [
        "boxplot(my_df, ylab = \"r^2\")"
      ],
      "id": "004c245d-5abe-483b-9c70-bbac7f476f77"
    },
    {
      "cell_type": "code",
      "execution_count": null,
      "metadata": {},
      "outputs": [],
      "source": [
        "t.test(x = my_df$lm, y = my_df$knn,\n",
        "       conf.level = 0.95,\n",
        "       paired = TRUE,\n",
        "       alternative = \"two.sided\")\n"
      ],
      "id": "5a92af75-e2e7-4a25-83fd-54ed5f443afa"
    },
    {
      "id": "a3eaf788",
      "cell_type": "markdown",
      "source": "## 7.7 \u30d1\u30e9\u30e1\u30fc\u30bf\u30c1\u30e5\u30fc\u30cb\u30f3\u30b0",
      "metadata": {}
    },
    {
      "cell_type": "code",
      "execution_count": null,
      "metadata": {},
      "outputs": [],
      "source": [
        "library(caret)\n",
        "library(tidyverse)\n",
        "my_data <- cars\n",
        "my_model <- train(form = dist ~ speed, data = my_data, method = \"knn\")\n",
        "my_model$results"
      ],
      "id": "ea84f0af-3a65-4b76-b239-8c6e030bee8e"
    },
    {
      "cell_type": "code",
      "execution_count": null,
      "metadata": {},
      "outputs": [],
      "source": [
        "my_params <- expand.grid(k = 1:15)\n",
        "\n",
        "my_model <- train(form = dist ~ speed, data = my_data, method = \"knn\",\n",
        "                  tuneGrid = my_params,\n",
        "                  trControl = trainControl(method = \"LOOCV\"))"
      ],
      "id": "c3d17a53-aacf-4c93-b94a-d913a33f64a1"
    },
    {
      "cell_type": "code",
      "execution_count": null,
      "metadata": {},
      "outputs": [],
      "source": [
        "head(my_model$results)"
      ],
      "id": "a74dc848-50fc-4ace-adb7-c9d139787a6e"
    },
    {
      "cell_type": "code",
      "execution_count": null,
      "metadata": {},
      "outputs": [],
      "source": [
        "ggplot(my_model)"
      ],
      "id": "d5863cb4-b870-4d85-8cdb-d4328ecac3da"
    },
    {
      "cell_type": "code",
      "execution_count": null,
      "metadata": {},
      "outputs": [],
      "source": [
        "my_model$bestTune"
      ],
      "id": "625272f5-1707-4668-b6ee-46aad55ba2af"
    },
    {
      "cell_type": "code",
      "execution_count": null,
      "metadata": {},
      "outputs": [],
      "source": [
        "my_model$results %>%\n",
        "  filter(RMSE == min(RMSE))"
      ],
      "id": "58408c3c-c514-44dd-83c1-7786c1d5a2ea"
    },
    {
      "cell_type": "code",
      "execution_count": null,
      "metadata": {},
      "outputs": [],
      "source": [
        "y  <- my_data$dist\n",
        "y_ <- my_model %>% predict(my_data)\n",
        "RMSE(y_, y)"
      ],
      "id": "a3d4c468-3b5b-4d2f-bb86-86349c80bdeb"
    },
    {
      "cell_type": "code",
      "execution_count": null,
      "metadata": {},
      "outputs": [],
      "source": [
        "library(caret)\n",
        "library(tidyverse)\n",
        "my_data <- cars\n",
        "\n",
        "my_loocv <- function(k) {\n",
        "  my_model <- train(form = dist ~ speed, data = my_data, method = \"knn\",\n",
        "                    tuneGrid = data.frame(k = k),\n",
        "                    trControl = trainControl(method = \"LOOCV\"))\n",
        "  y  <- my_data$dist\n",
        "  y_ <- my_model %>% predict(my_data)\n",
        "  list(k = k,\n",
        "       training = RMSE(y_, y),             # RMSE\uff08\u8a13\u7df4\uff09\n",
        "       validation = my_model$results$RMSE) # RMSE\uff08\u691c\u8a3c\uff09\n",
        "}\n",
        "\n",
        "my_results <- 1:15 %>% map_dfr(my_loocv)"
      ],
      "id": "41773566-36db-4344-a88b-ddda367797fd"
    },
    {
      "cell_type": "code",
      "execution_count": null,
      "metadata": {},
      "outputs": [],
      "source": [
        "my_results %>%\n",
        "  pivot_longer(-k) %>%\n",
        "  ggplot(aes(x = k, y = value,\n",
        "             color = name)) +\n",
        "  geom_line() + geom_point() +\n",
        "  xlab(\"#Neighbors\") + ylab(\"RMSE\") +\n",
        "  theme(legend.position = c(1, 0),\n",
        "        legend.justification = c(1, 0))"
      ],
      "id": "32120152-1d40-4f3c-80b5-df90e12ae41f"
    }
  ],
  "nbformat": 4,
  "nbformat_minor": 5,
  "metadata": {
    "kernelspec": {
      "name": "ir",
      "display_name": "R"
    }
  }
}