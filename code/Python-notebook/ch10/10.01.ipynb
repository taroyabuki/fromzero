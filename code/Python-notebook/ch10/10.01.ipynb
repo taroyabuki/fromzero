{
 "cells": [
  {
   "cell_type": "markdown",
   "metadata": {},
   "source": [
    "## 10.1 2値分類の性能指標\n",
    "\n",
    "### 10.1.1 陽性と陰性"
   ]
  },
  {
   "cell_type": "code",
   "execution_count": null,
   "metadata": {},
   "outputs": [],
   "source": [
    "import numpy as np\n",
    "from sklearn.metrics import classification_report, confusion_matrix\n",
    "\n",
    "y       = np.array([  0,   1,   1,   0,   1,   0,    1,   0,   0,   1])\n",
    "y_score = np.array([0.7, 0.8, 0.3, 0.4, 0.9, 0.6, 0.99, 0.1, 0.2, 0.5])"
   ]
  },
  {
   "cell_type": "code",
   "execution_count": null,
   "metadata": {},
   "outputs": [],
   "source": [
    "y_ = np.array([1 if 0.5 <= p else 0 for p in y_score])\n",
    "y_\n",
    "#> array([1, 1, 0, 0, 1, 1, 1, 0, 0, 1])"
   ]
  },
  {
   "cell_type": "code",
   "execution_count": null,
   "metadata": {},
   "outputs": [],
   "source": [
    "confusion_matrix(y_true=y, y_pred=y_)\n",
    "#> array([[3, 2],\n",
    "#>        [1, 4]])\n",
    "\n",
    "print(classification_report(y_true=y, y_pred=y_))\n",
    "#>               precision    recall  f1-score   support\n",
    "#>\n",
    "#>            0       0.75      0.60      0.67         5\n",
    "#>            1       0.67      0.80      0.73         5\n",
    "#>\n",
    "#>     accuracy                           0.70        10\n",
    "#>    macro avg       0.71      0.70      0.70        10\n",
    "#> weighted avg       0.71      0.70      0.70        10"
   ]
  }
 ],
 "nbformat": 4,
 "nbformat_minor": 5,
 "metadata": {
  "kernelspec": {
   "name": "python3",
   "display_name": "Python 3"
  }
 }
}
