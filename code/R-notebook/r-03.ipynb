{
  "cells": [
    {
      "id": "a0e4032f",
      "cell_type": "markdown",
      "source": "[\u8fbb\u771f\u543e\u30fb\u77e2\u5439\u592a\u6717\u300e\u30bc\u30ed\u304b\u3089\u306f\u3058\u3081\u308b\u30c7\u30fc\u30bf\u30b5\u30a4\u30a8\u30f3\u30b9\u5165\u9580\u300f\uff08\u8b1b\u8ac7\u793e,\u00a02021\uff09](https://github.com/taroyabuki/fromzero)",
      "metadata": {}
    },
    {
      "cell_type": "code",
      "execution_count": null,
      "metadata": {},
      "outputs": [],
      "source": [
        "# Google Colaboratory\u306e\u74b0\u5883\u8a2d\u5b9a\n",
        "if (Sys.getenv(\"COLAB_JUPYTER_IP\") != \"\") {\n",
        "  options(Ncpus = parallel::detectCores())\n",
        "  installed_packages <- rownames(installed.packages())\n",
        "  packages_to_install <- c(\"furrr\", \"keras3\", \"proxy\")\n",
        "  install.packages(setdiff(packages_to_install, installed_packages))\n",
        "  install.packages(c(\"ggplot2\"))\n",
        "}"
      ],
      "id": "c2f921aa-0703-4bcd-865b-1f261ef7ce41"
    },
    {
      "id": "37d1ae45",
      "cell_type": "markdown",
      "source": "## 3.1 \u5165\u9580",
      "metadata": {}
    },
    {
      "cell_type": "code",
      "execution_count": null,
      "metadata": {},
      "outputs": [],
      "source": [
        "0x10"
      ],
      "id": "dca9f6a7-8ec0-4d3c-9111-1169440ceddc"
    },
    {
      "cell_type": "code",
      "execution_count": null,
      "metadata": {},
      "outputs": [],
      "source": [
        "1.23e5"
      ],
      "id": "9c535f99-ea34-45ee-84a8-b23f26f24186"
    },
    {
      "cell_type": "code",
      "execution_count": null,
      "metadata": {},
      "outputs": [],
      "source": [
        "2 * 3"
      ],
      "id": "cedd7059-8053-4cda-a140-4e4f4f9cf4ca"
    },
    {
      "cell_type": "code",
      "execution_count": null,
      "metadata": {},
      "outputs": [],
      "source": [
        "10 / 3"
      ],
      "id": "bf150f84-6fee-46c9-a11b-52170933c3b4"
    },
    {
      "cell_type": "code",
      "execution_count": null,
      "metadata": {},
      "outputs": [],
      "source": [
        "10 %/% 3 # \u5546\n",
        "\n",
        "10 %% 3  # \u4f59\u308a"
      ],
      "id": "e99322e5-45eb-4919-9c08-16628dc7259e"
    },
    {
      "cell_type": "code",
      "execution_count": null,
      "metadata": {},
      "outputs": [],
      "source": [
        "x <- 2\n",
        "y <- 3\n",
        "x * y\n",
        "\n",
        "if (Sys.getenv(\"COLAB_JUPYTER_IP\") != \"\") {\n",
        "  library(keras3)\n",
        "} else {\n",
        "  library(keras)\n",
        "}\n",
        "c(x, y) %<-% c(20, 30) # \u307e\u3068\u3081\u3066\u540d\u4ed8\u3051\n",
        "x * y"
      ],
      "id": "9f2b7a71-3cee-48d2-a7e6-d71abab7670d"
    },
    {
      "cell_type": "code",
      "execution_count": null,
      "metadata": {},
      "outputs": [],
      "source": [
        "x <- 1 + 1\n",
        "# \u3053\u306e\u6bb5\u968e\u3067\u306f\u7d50\u679c\u306f\u8868\u793a\u3055\u308c\u306a\u3044\n",
        "\n",
        "x # \u5909\u6570\u540d\u3092\u8a55\u4fa1\u3059\u308b\uff0e"
      ],
      "id": "3640fd15-0168-4ee5-9514-94c18a7480a3"
    },
    {
      "cell_type": "code",
      "execution_count": null,
      "metadata": {},
      "outputs": [],
      "source": [
        "my_s <- \"abcde\""
      ],
      "id": "fc5a03e8-d49c-465f-abd4-b7339cdbe681"
    },
    {
      "cell_type": "code",
      "execution_count": null,
      "metadata": {},
      "outputs": [],
      "source": [
        "nchar(my_s)"
      ],
      "id": "1395f764-9a3a-43b7-881c-24f841c85bdd"
    },
    {
      "cell_type": "code",
      "execution_count": null,
      "metadata": {},
      "outputs": [],
      "source": [
        "library(tidyverse)\n",
        "str_c(\"This is \", \"a\", \" pen.\")"
      ],
      "id": "7b768a30-70c4-4ac1-9fa9-1f0bea19d1d8"
    },
    {
      "cell_type": "code",
      "execution_count": null,
      "metadata": {},
      "outputs": [],
      "source": [
        "substr(x = my_s, start = 2, stop = 4)"
      ],
      "id": "5285dcb4-4dbe-4407-a28e-4391666c9111"
    },
    {
      "cell_type": "code",
      "execution_count": null,
      "metadata": {},
      "outputs": [],
      "source": [
        "tmp <- \"%s is %s.\"\n",
        "sprintf(tmp, \"This\", \"a pen\")"
      ],
      "id": "e447d6ae-cf8c-4bca-9378-383b02722961"
    },
    {
      "cell_type": "code",
      "execution_count": null,
      "metadata": {},
      "outputs": [],
      "source": [
        "1 <= 2\n",
        "\n",
        "1 < 0"
      ],
      "id": "df75ed86-c341-4fdf-8815-16661d6e833f"
    },
    {
      "cell_type": "code",
      "execution_count": null,
      "metadata": {},
      "outputs": [],
      "source": [
        "0.1 + 0.1 + 0.1 == 0.3\n",
        "\n",
        "all.equal(0.1 + 0.1 + 0.1, 0.3)"
      ],
      "id": "7b7e2501-4fdf-4605-8324-75eec96bd0c5"
    },
    {
      "cell_type": "code",
      "execution_count": null,
      "metadata": {},
      "outputs": [],
      "source": [
        "TRUE & FALSE # \u8ad6\u7406\u7a4d\uff08\u304b\u3064\uff09\n",
        "\n",
        "TRUE | FALSE # \u8ad6\u7406\u548c\uff08\u307e\u305f\u306f\uff09\n",
        "\n",
        "!TRUE        # \u5426\u5b9a\uff08\u3067\u306a\u3044\uff09"
      ],
      "id": "ff5232bb-8664-4c1d-9dde-d1dfbb2bb629"
    },
    {
      "cell_type": "code",
      "execution_count": null,
      "metadata": {},
      "outputs": [],
      "source": [
        "ifelse(3 < 5, 0, 10)"
      ],
      "id": "5563b4e6-e619-4e2a-8778-6b06dfd8da43"
    },
    {
      "cell_type": "code",
      "execution_count": null,
      "metadata": {},
      "outputs": [],
      "source": [
        "getwd()"
      ],
      "id": "656bb482-d5de-4435-8d34-62dfa23aca44"
    },
    {
      "cell_type": "code",
      "execution_count": null,
      "metadata": {},
      "outputs": [],
      "source": [
        "setwd(\"..\")\n",
        "getwd()"
      ],
      "id": "e7c77729-0e01-40f9-9cfa-640cc10782e4"
    },
    {
      "id": "d929aa1c",
      "cell_type": "markdown",
      "source": "## 3.2 \u95a2\u6570",
      "metadata": {}
    },
    {
      "cell_type": "code",
      "execution_count": null,
      "metadata": {},
      "outputs": [],
      "source": [
        "sqrt(4)"
      ],
      "id": "090e0147-3e15-41cc-bffa-d70a28d51237"
    },
    {
      "cell_type": "code",
      "execution_count": null,
      "metadata": {},
      "outputs": [],
      "source": [
        "log(100, 10)"
      ],
      "id": "24f2abdd-8c91-4e5b-903b-3bd6857792a1"
    },
    {
      "cell_type": "code",
      "execution_count": null,
      "metadata": {},
      "outputs": [],
      "source": [
        "log(100)         # \u81ea\u7136\u5bfe\u6570\n",
        "# \u3042\u308b\u3044\u306f\n",
        "log(100, exp(1)) # \u7701\u7565\u3057\u306a\u3044\u5834\u5408\n"
      ],
      "id": "ec6e719b-0c40-4610-9ac4-aff261a41d74"
    },
    {
      "cell_type": "code",
      "execution_count": null,
      "metadata": {},
      "outputs": [],
      "source": [
        "log10(100) # \u5e38\u7528\u5bfe\u6570\n",
        "\n",
        "log2(1024) # \u5e95\u304c2\u306e\u5bfe\u6570"
      ],
      "id": "66423bb0-e0e7-47af-8ec5-c30445db3e45"
    },
    {
      "cell_type": "code",
      "execution_count": null,
      "metadata": {},
      "outputs": [],
      "source": [
        "library(tidyverse)\n",
        "4 %>% sqrt"
      ],
      "id": "b993014c-b2dd-4f1d-a45a-c3198f2c7a52"
    },
    {
      "cell_type": "code",
      "execution_count": null,
      "metadata": {},
      "outputs": [],
      "source": [
        "exp(log(5))       # \u901a\u5e38\u306e\u66f8\u304d\u65b9\n",
        "# \u3042\u308b\u3044\u306f\n",
        "5 %>% log %>% exp # \u30d1\u30a4\u30d7\u3092\u4f7f\u3046\u66f8\u304d\u65b9\n"
      ],
      "id": "cf813dd0-69ea-475f-9afb-015c272e73e6"
    },
    {
      "cell_type": "code",
      "execution_count": null,
      "metadata": {},
      "outputs": [],
      "source": [
        "f <- function(a, b) {\n",
        "  a - b\n",
        "}"
      ],
      "id": "1eec6050-cd85-4c00-929f-d25a422bbee2"
    },
    {
      "cell_type": "code",
      "execution_count": null,
      "metadata": {},
      "outputs": [],
      "source": [
        "f(3, 5)"
      ],
      "id": "5cc4dd6b-8be1-40f2-8585-8d64270c3489"
    },
    {
      "cell_type": "code",
      "execution_count": null,
      "metadata": {},
      "outputs": [],
      "source": [
        "f <- function(a, b = 5) {\n",
        "  a - b\n",
        "}\n",
        "\n",
        "f(3) # f(3, 5)\u3068\u540c\u3058\u3053\u3068"
      ],
      "id": "b3f0e829-c9d2-4829-b8e9-d41d62b3ee27"
    },
    {
      "cell_type": "code",
      "execution_count": null,
      "metadata": {},
      "outputs": [],
      "source": [
        "(function(a, b) { a - b })(3, 5)"
      ],
      "id": "1b1832d7-b97a-4268-a0f3-0ac7405c34aa"
    },
    {
      "id": "8caff130",
      "cell_type": "markdown",
      "source": "## 3.3 \u30b3\u30ec\u30af\u30b7\u30e7\u30f3",
      "metadata": {}
    },
    {
      "cell_type": "code",
      "execution_count": null,
      "metadata": {},
      "outputs": [],
      "source": [
        "x <- c(\"foo\", \"bar\", \"baz\")"
      ],
      "id": "6a8b3361-9cd9-46be-9d59-90fd2f48adfe"
    },
    {
      "cell_type": "code",
      "execution_count": null,
      "metadata": {},
      "outputs": [],
      "source": [
        "length(x)"
      ],
      "id": "093e2978-992e-430b-8b09-73b6b93b2e73"
    },
    {
      "cell_type": "code",
      "execution_count": null,
      "metadata": {},
      "outputs": [],
      "source": [
        "x[2]"
      ],
      "id": "197c6f15-b35a-498c-ac05-6b7af2605812"
    },
    {
      "cell_type": "code",
      "execution_count": null,
      "metadata": {},
      "outputs": [],
      "source": [
        "x[2] <- \"BAR\"\n",
        "x # \u7d50\u679c\u306e\u78ba\u8a8d\n",
        "\n",
        "x[2] <- \"bar\" # \u5143\u306b\u623b\u3059\uff0e"
      ],
      "id": "06de9145-656a-4d3a-bc72-9c50ff91a0b2"
    },
    {
      "cell_type": "code",
      "execution_count": null,
      "metadata": {},
      "outputs": [],
      "source": [
        "x[-2]"
      ],
      "id": "5a0b9487-808b-4c67-af47-768edb85970c"
    },
    {
      "cell_type": "code",
      "execution_count": null,
      "metadata": {},
      "outputs": [],
      "source": [
        "c(x, \"qux\")"
      ],
      "id": "89749fe4-44bf-4e7c-8860-20bcbce7156c"
    },
    {
      "cell_type": "code",
      "execution_count": null,
      "metadata": {},
      "outputs": [],
      "source": [
        "x <- c(x, \"qux\")\n",
        "x # \u7d50\u679c\u306e\u78ba\u8a8d"
      ],
      "id": "6de6debc-671b-4089-9c44-cda783d82f91"
    },
    {
      "cell_type": "code",
      "execution_count": null,
      "metadata": {},
      "outputs": [],
      "source": [
        "1:5"
      ],
      "id": "fe869d31-d54a-4683-be72-be4d85af3162"
    },
    {
      "cell_type": "code",
      "execution_count": null,
      "metadata": {},
      "outputs": [],
      "source": [
        "seq(from = 0, to = 10, by = 2)"
      ],
      "id": "209ab783-5073-483f-9a5d-ad68c2ce279c"
    },
    {
      "cell_type": "code",
      "execution_count": null,
      "metadata": {},
      "outputs": [],
      "source": [
        "seq(from = 0, to = 1, by = 0.5)"
      ],
      "id": "b5f62efd-13e9-413f-80cb-5f5c00a4ed58"
    },
    {
      "cell_type": "code",
      "execution_count": null,
      "metadata": {},
      "outputs": [],
      "source": [
        "seq(from = 0, to = 100, length.out = 5)"
      ],
      "id": "94120086-b29f-4f16-8f6a-02b99296294a"
    },
    {
      "cell_type": "code",
      "execution_count": null,
      "metadata": {},
      "outputs": [],
      "source": [
        "rep(x = 10, times = 5)"
      ],
      "id": "b9048962-cdb6-49ab-a90e-6250bcf10b98"
    },
    {
      "cell_type": "code",
      "execution_count": null,
      "metadata": {},
      "outputs": [],
      "source": [
        "tmp <- c(\"\u30b0\u30fc\", \"\u30d1\u30fc\", \"\u30b0\u30fc\", \"\u30d1\u30fc\")\n",
        "x <- factor(tmp, levels = c(\"\u30b0\u30fc\", \"\u30c1\u30e7\u30ad\", \"\u30d1\u30fc\"))\n",
        "x"
      ],
      "id": "4e9141d4-4732-4159-8361-00d749dd08a2"
    },
    {
      "cell_type": "code",
      "execution_count": null,
      "metadata": {},
      "outputs": [],
      "source": [
        "x <- c(2, 3, 5, 7)\n",
        "\n",
        "x + 10 # \u52a0\u7b97\n",
        "\n",
        "x * 10 # \u4e57\u7b97"
      ],
      "id": "af7b6fd0-e1cb-40eb-841a-9016730d7c3d"
    },
    {
      "cell_type": "code",
      "execution_count": null,
      "metadata": {},
      "outputs": [],
      "source": [
        "x <- c(2, 3)\n",
        "sin(x)"
      ],
      "id": "a6d185bd-fafd-409a-935f-02113c7001fd"
    },
    {
      "cell_type": "code",
      "execution_count": null,
      "metadata": {},
      "outputs": [],
      "source": [
        "x <- c(2,  3,   5,    7)\n",
        "y <- c(1, 10, 100, 1000)\n",
        "x + y\n",
        "\n",
        "x * y"
      ],
      "id": "e5c4986b-b3c0-4197-b799-165ace4e7bf2"
    },
    {
      "cell_type": "code",
      "execution_count": null,
      "metadata": {},
      "outputs": [],
      "source": [
        "sum(x * y)"
      ],
      "id": "f1ecb9d6-ad18-48a2-bddc-d097ad8a77f1"
    },
    {
      "cell_type": "code",
      "execution_count": null,
      "metadata": {},
      "outputs": [],
      "source": [
        "x <- c(TRUE, FALSE)\n",
        "y <- c(TRUE, TRUE)\n",
        "x & y"
      ],
      "id": "70010509-ca47-40aa-829b-60afa532dd4b"
    },
    {
      "cell_type": "code",
      "execution_count": null,
      "metadata": {},
      "outputs": [],
      "source": [
        "u <- c(1, 2, 3)\n",
        "v <- c(1, 2, 3)\n",
        "w <- c(1, 2, 4)\n",
        "\n",
        "identical(u, v) # \u5168\u4f53\u306e\u6bd4\u8f03\n",
        "\n",
        "identical(u, w) # \u5168\u4f53\u306e\u6bd4\u8f03\n",
        "\n",
        "u == v          # \u8981\u7d20\u3054\u3068\u306e\u6bd4\u8f03\n",
        "\n",
        "u == w          # \u8981\u7d20\u3054\u3068\u306e\u6bd4\u8f03"
      ],
      "id": "a9ce971d-dec6-4d15-88e7-44bb4450ded1"
    },
    {
      "cell_type": "code",
      "execution_count": null,
      "metadata": {},
      "outputs": [],
      "source": [
        "sum(u == w)  # \u540c\u3058\u8981\u7d20\u306e\u6570\n",
        "\n",
        "mean(u == w) # \u540c\u3058\u8981\u7d20\u306e\u5272\u5408"
      ],
      "id": "cbe10785-dbfb-4779-b293-93bff7f24886"
    },
    {
      "cell_type": "code",
      "execution_count": null,
      "metadata": {},
      "outputs": [],
      "source": [
        "x <- list(1, \"two\")"
      ],
      "id": "755c7a13-7c07-48cf-82f3-099dcd02b4a1"
    },
    {
      "cell_type": "code",
      "execution_count": null,
      "metadata": {},
      "outputs": [],
      "source": [
        "x[[2]]"
      ],
      "id": "517858d8-4c97-4956-9f0e-c58225bf0174"
    },
    {
      "cell_type": "code",
      "execution_count": null,
      "metadata": {},
      "outputs": [],
      "source": [
        "x <- list(\"apple\"  = \"\u308a\u3093\u3054\",\n",
        "          \"orange\" = \"\u307f\u304b\u3093\")"
      ],
      "id": "dc1237a4-033a-4b94-9231-e95ed9a89065"
    },
    {
      "cell_type": "code",
      "execution_count": null,
      "metadata": {},
      "outputs": [],
      "source": [
        "x[[\"grape\"]] <- \"\u3076\u3069\u3046\""
      ],
      "id": "be045616-e7d9-4220-ad74-190814b48f4b"
    },
    {
      "cell_type": "code",
      "execution_count": null,
      "metadata": {},
      "outputs": [],
      "source": [
        "x$apple\n",
        "# \u3042\u308b\u3044\u306f\n",
        "x$\"apple\"\n",
        "# \u3042\u308b\u3044\u306f\n",
        "x[[\"apple\"]]\n",
        "# \u3042\u308b\u3044\u306f\n",
        "tmp <- \"apple\"\n",
        "x[[tmp]]\n"
      ],
      "id": "6df7c1f0-e87e-4d53-972e-b9f264f071ca"
    },
    {
      "cell_type": "code",
      "execution_count": null,
      "metadata": {},
      "outputs": [],
      "source": [
        "x <- c(\"foo\", \"bar\", \"baz\")\n",
        "y <- x\n",
        "y[2] <- \"BAR\" # y\u3092\u66f4\u65b0\u3059\u308b\uff0e\n",
        "y\n",
        "\n",
        "x             # x\u306f\u5909\u308f\u3089\u306a\u3044\uff0e"
      ],
      "id": "2788a3e4-ca7f-4361-808f-3f49600c8d54"
    },
    {
      "id": "eeb6db2c",
      "cell_type": "markdown",
      "source": "## 3.4 \u30c7\u30fc\u30bf\u30d5\u30ec\u30fc\u30e0",
      "metadata": {}
    },
    {
      "cell_type": "code",
      "execution_count": null,
      "metadata": {},
      "outputs": [],
      "source": [
        "library(tidyverse)"
      ],
      "id": "579bd3cd-1e8a-49aa-b8e7-be519ec7a40f"
    },
    {
      "cell_type": "code",
      "execution_count": null,
      "metadata": {},
      "outputs": [],
      "source": [
        "my_df <- data.frame(\n",
        "  name    = c(\"A\", \"B\", \"C\", \"D\"),\n",
        "  english = c( 60,  90,  70,  90),\n",
        "  math    = c( 70,  80,  90, 100),\n",
        "  gender  = c(\"f\", \"m\", \"m\", \"f\"))"
      ],
      "id": "1e1cb95a-4886-4f2a-b5ae-f017862e626b"
    },
    {
      "cell_type": "code",
      "execution_count": null,
      "metadata": {},
      "outputs": [],
      "source": [
        "my_df <- tribble(\n",
        "  ~name, ~english, ~math, ~gender,\n",
        "  \"A\",         60,    70,     \"f\",\n",
        "  \"B\",         90,    80,     \"m\",\n",
        "  \"C\",         70,    90,     \"m\",\n",
        "  \"D\",         90,   100,     \"f\")"
      ],
      "id": "5525dd9a-33ef-42c4-9dd6-e15b8697086f"
    },
    {
      "cell_type": "code",
      "execution_count": null,
      "metadata": {},
      "outputs": [],
      "source": [
        "head(my_df)\n",
        "# \u7d50\u679c\u306f\u5272\u611b"
      ],
      "id": "220ebda4-6ea0-417d-81b3-92b776946534"
    },
    {
      "cell_type": "code",
      "execution_count": null,
      "metadata": {},
      "outputs": [],
      "source": [
        "dim(my_df)  # \u884c\u6570\u3068\u5217\u6570\n",
        "\n",
        "nrow(my_df) # \u884c\u6570\n",
        "\n",
        "ncol(my_df) # \u5217\u6570"
      ],
      "id": "38990a1f-7adf-4516-8889-5580d1fe03af"
    },
    {
      "cell_type": "code",
      "execution_count": null,
      "metadata": {},
      "outputs": [],
      "source": [
        "my_df2 <- expand.grid(\n",
        "  X = c(1, 2, 3),\n",
        "  Y = c(10, 100))\n",
        "my_df2"
      ],
      "id": "b72f30b0-305c-48d8-841f-e741a53cbf5d"
    },
    {
      "cell_type": "code",
      "execution_count": null,
      "metadata": {},
      "outputs": [],
      "source": [
        "colnames(my_df2)"
      ],
      "id": "1c361edf-cc45-4c6b-95b0-f00956163ed5"
    },
    {
      "cell_type": "code",
      "execution_count": null,
      "metadata": {},
      "outputs": [],
      "source": [
        "colnames(my_df2) <- c(\"P\", \"Q\")\n",
        "my_df2\n",
        "# \u4ee5\u4e0b\u7701\u7565"
      ],
      "id": "f3b41fcc-999b-48fc-8a5c-98fd9027f6e0"
    },
    {
      "cell_type": "code",
      "execution_count": null,
      "metadata": {},
      "outputs": [],
      "source": [
        "row.names(my_df)"
      ],
      "id": "35678ec9-0a69-4a90-999b-8480631c7b63"
    },
    {
      "cell_type": "code",
      "execution_count": null,
      "metadata": {},
      "outputs": [],
      "source": [
        "row.names(my_df2) <-\n",
        "  c(\"a\", \"b\", \"c\", \"d\", \"e\", \"f\")\n",
        "my_df2\n",
        "# \u4ee5\u4e0b\u7701\u7565"
      ],
      "id": "13e2c5cf-724a-4bc6-85af-8c9573caa789"
    },
    {
      "cell_type": "code",
      "execution_count": null,
      "metadata": {},
      "outputs": [],
      "source": [
        "my_df3 <- data.frame(\n",
        "  english =   c( 60,  90,  70,  90),\n",
        "  math    =   c( 70,  80,  90, 100),\n",
        "  gender  =   c(\"f\", \"m\", \"m\", \"f\"),\n",
        "  row.names = c(\"A\", \"B\", \"C\", \"D\"))\n",
        "my_df3"
      ],
      "id": "78f2099f-7f6b-4b41-87af-f2cd21f3da35"
    },
    {
      "cell_type": "code",
      "execution_count": null,
      "metadata": {},
      "outputs": [],
      "source": [
        "tmp <- data.frame(\n",
        "  name    = \"E\",\n",
        "  english =  80,\n",
        "  math    =  80,\n",
        "  gender  = \"m\")\n",
        "my_df2 <- rbind(my_df, tmp)"
      ],
      "id": "67408018-bde1-4f57-83b1-2ce571adcc66"
    },
    {
      "cell_type": "code",
      "execution_count": null,
      "metadata": {},
      "outputs": [],
      "source": [
        "my_df2 <- my_df %>%\n",
        "  mutate(id = c(1, 2, 3, 4))"
      ],
      "id": "e7ecac02-e326-431b-ac39-0051a9d0dacb"
    },
    {
      "cell_type": "code",
      "execution_count": null,
      "metadata": {},
      "outputs": [],
      "source": [
        "my_df3 <- my_df               # \u30b3\u30d4\u30fc\n",
        "my_df3[\"id\"] <- c(1, 2, 3, 4) # \u66f4\u65b0\n",
        "my_df3 # \u7d50\u679c\u306e\u78ba\u8a8d\uff08\u5272\u611b\uff09"
      ],
      "id": "57fbf763-aab0-49a1-b0f1-a72dfa381efc"
    },
    {
      "cell_type": "code",
      "execution_count": null,
      "metadata": {},
      "outputs": [],
      "source": [
        "my_df[1, 2]"
      ],
      "id": "d4c9371f-036e-4723-a01d-2bf85cf6f838"
    },
    {
      "cell_type": "code",
      "execution_count": null,
      "metadata": {},
      "outputs": [],
      "source": [
        "x <- my_df[, 2]\n",
        "# \u3042\u308b\u3044\u306f\n",
        "x <- my_df$english\n",
        "# \u3042\u308b\u3044\u306f\n",
        "x <- my_df$\"english\"\n",
        "# \u3042\u308b\u3044\u306f\n",
        "x <- my_df[[\"english\"]]\n",
        "# \u3042\u308b\u3044\u306f\n",
        "tmp <- \"english\"\n",
        "x <- my_df[[tmp]]\n",
        "\n",
        "x # \u7d50\u679c\u306e\u78ba\u8a8d\uff08\u5272\u611b\uff09"
      ],
      "id": "99634e5d-7eaf-4111-9fa4-02b582b056b1"
    },
    {
      "cell_type": "code",
      "execution_count": null,
      "metadata": {},
      "outputs": [],
      "source": [
        "x <- my_df %>% select(name, math)"
      ],
      "id": "faf5c99d-6687-4690-8555-e220163fef25"
    },
    {
      "cell_type": "code",
      "execution_count": null,
      "metadata": {},
      "outputs": [],
      "source": [
        "x <- my_df[, c(1, 3)]"
      ],
      "id": "56bbae99-9036-4de7-9d06-a4706ce716eb"
    },
    {
      "cell_type": "code",
      "execution_count": null,
      "metadata": {},
      "outputs": [],
      "source": [
        "x <- my_df %>%\n",
        "  select(-c(english, gender))\n",
        "# \u3042\u308b\u3044\u306f\n",
        "x <- my_df[, -c(2, 4)]"
      ],
      "id": "d74b9abd-fbbd-4bd5-aefd-2ce6069422c0"
    },
    {
      "cell_type": "code",
      "execution_count": null,
      "metadata": {},
      "outputs": [],
      "source": [
        "x <- my_df[c(1, 3), ]"
      ],
      "id": "f097ed26-2c67-403e-ad56-17b7a7ffa086"
    },
    {
      "cell_type": "code",
      "execution_count": null,
      "metadata": {},
      "outputs": [],
      "source": [
        "x <- my_df[-c(2, 4), ]"
      ],
      "id": "fb563c2e-ab96-48e0-b3d5-6fc73a6acf8d"
    },
    {
      "cell_type": "code",
      "execution_count": null,
      "metadata": {},
      "outputs": [],
      "source": [
        "x <- my_df[my_df$gender == \"m\", ]\n",
        "# \u3042\u308b\u3044\u306f\n",
        "x <- my_df %>% filter(gender == \"m\")"
      ],
      "id": "ebe1f3ce-6fec-48bd-b5e9-72fb093443f1"
    },
    {
      "cell_type": "code",
      "execution_count": null,
      "metadata": {},
      "outputs": [],
      "source": [
        "x <- my_df[my_df$english > 80 & my_df$gender == \"m\", ]\n",
        "# \u3042\u308b\u3044\u306f\n",
        "x <- my_df %>% filter(english > 80 & gender == \"m\")"
      ],
      "id": "ca6d0637-e8ca-482f-ada8-49855b70badf"
    },
    {
      "cell_type": "code",
      "execution_count": null,
      "metadata": {},
      "outputs": [],
      "source": [
        "x <- my_df[my_df$english == max(my_df$english), ]\n",
        "# \u3042\u308b\u3044\u306f\n",
        "x <- my_df %>% filter(english == max(my_df$english))"
      ],
      "id": "74be348f-f871-4b70-8fc1-1643bb1ea5f8"
    },
    {
      "cell_type": "code",
      "execution_count": null,
      "metadata": {},
      "outputs": [],
      "source": [
        "my_df2 <- my_df # \u30b3\u30d4\u30fc\n",
        "my_df2[my_df$gender == \"m\", ]$gender <- \"M\""
      ],
      "id": "62cc4ccb-1b2d-4070-a867-08749fb514d8"
    },
    {
      "cell_type": "code",
      "execution_count": null,
      "metadata": {},
      "outputs": [],
      "source": [
        "my_df2"
      ],
      "id": "ff0c7eb0-7aab-4670-83f5-155663f9f4d3"
    },
    {
      "cell_type": "code",
      "execution_count": null,
      "metadata": {},
      "outputs": [],
      "source": [
        "x <- my_df %>% arrange(english)"
      ],
      "id": "421eeec6-6d15-4077-9786-14f35c83630c"
    },
    {
      "cell_type": "code",
      "execution_count": null,
      "metadata": {},
      "outputs": [],
      "source": [
        "x <- my_df %>% arrange(-english)"
      ],
      "id": "06056e1c-cb40-4f78-8248-e498a8d84383"
    },
    {
      "cell_type": "code",
      "execution_count": null,
      "metadata": {},
      "outputs": [],
      "source": [
        "x <- c(2, 3, 5, 7, 11, 13, 17, 19, 23,\n",
        "       29, 31, 37)\n",
        "A <- matrix(\n",
        "  data = x,     # 1\u6b21\u5143\u30c7\u30fc\u30bf\n",
        "  nrow = 3,     # \u884c\u6570\n",
        "  byrow = TRUE) # \u884c\u3054\u3068\u306e\u751f\u6210\n",
        "A"
      ],
      "id": "cf0f64a7-3de7-4079-8fa2-11a08b97764c"
    },
    {
      "cell_type": "code",
      "execution_count": null,
      "metadata": {},
      "outputs": [],
      "source": [
        "A <- my_df[, c(2, 3)] %>% as.matrix\n",
        "A"
      ],
      "id": "f2ea788e-2d27-4d9e-9d50-94100679205c"
    },
    {
      "cell_type": "code",
      "execution_count": null,
      "metadata": {},
      "outputs": [],
      "source": [
        "as.data.frame(A)"
      ],
      "id": "1d096e19-66c2-42be-b6f5-82e02bfdee6a"
    },
    {
      "cell_type": "code",
      "execution_count": null,
      "metadata": {},
      "outputs": [],
      "source": [
        "t(A)"
      ],
      "id": "5a048978-81ba-4366-a53f-df3d00d70052"
    },
    {
      "cell_type": "code",
      "execution_count": null,
      "metadata": {},
      "outputs": [],
      "source": [
        "t(A) %*% A"
      ],
      "id": "4a86765c-5aff-46fc-819e-e9e2bc769446"
    },
    {
      "cell_type": "code",
      "execution_count": null,
      "metadata": {},
      "outputs": [],
      "source": [
        "my_wider <- data.frame(\n",
        "  day = c(25, 26, 27),\n",
        "  min = c(20, 21, 15),\n",
        "  max = c(24, 27, 21))"
      ],
      "id": "1b0598ef-7f9c-43f9-8c9a-1154da943590"
    },
    {
      "cell_type": "code",
      "execution_count": null,
      "metadata": {},
      "outputs": [],
      "source": [
        "my_longer <- my_wider %>%\n",
        "  pivot_longer(-day)\n",
        "my_longer"
      ],
      "id": "c11d541b-83c7-493f-b5e7-12c9b3db7057"
    },
    {
      "cell_type": "code",
      "execution_count": null,
      "metadata": {},
      "outputs": [],
      "source": [
        "my_longer %>% pivot_wider()"
      ],
      "id": "258d5959-1f67-4a9f-a6b3-513972208e05"
    },
    {
      "cell_type": "code",
      "execution_count": null,
      "metadata": {},
      "outputs": [],
      "source": [
        "my_longer %>%\n",
        "  ggplot(aes(x = day, y = value,\n",
        "             color = name)) +\n",
        "  geom_point() +\n",
        "  geom_line() +\n",
        "  ylab(\"temperature\") + # y\u8ef8\u30e9\u30d9\u30eb\n",
        "  scale_x_continuous(\n",
        "    breaks = my_longer$day) # x\u8ef8\u76ee\u76db\u308a"
      ],
      "id": "88a40650-cd24-4bb4-a3aa-f28588968b6d"
    },
    {
      "id": "429c9c85",
      "cell_type": "markdown",
      "source": "## 3.5 1\u6b21\u5143\u30c7\u30fc\u30bf\u306e\uff08\u975e\uff09\u985e\u4f3c\u5ea6",
      "metadata": {}
    },
    {
      "cell_type": "code",
      "execution_count": null,
      "metadata": {},
      "outputs": [],
      "source": [
        "A <- c(3,   4,  5)\n",
        "B <- c(3,   4, 29)\n",
        "C <- c(9, -18,  8)\n",
        "AB <- B - A\n",
        "AC <- C - A\n",
        "\n",
        "sum(AB^2)^0.5\n",
        "\n",
        "sum(AC^2)^0.5"
      ],
      "id": "55ca3973-2645-4002-a49a-587fa6186086"
    },
    {
      "cell_type": "code",
      "execution_count": null,
      "metadata": {},
      "outputs": [],
      "source": [
        "sum(abs(AB))\n",
        "\n",
        "sum(abs(AC))"
      ],
      "id": "b378a0a5-38f2-43a2-b39e-8f0ea8b66c91"
    },
    {
      "cell_type": "code",
      "execution_count": null,
      "metadata": {},
      "outputs": [],
      "source": [
        "sum(A * B) /\n",
        "  sum(A * A)^0.5 / sum(B * B)^0.5\n",
        "\n",
        "sum(A * C) /\n",
        "  sum(A * A)^0.5 / sum(C * C)^0.5"
      ],
      "id": "5826e117-bd5b-441f-978b-924ebd22810c"
    },
    {
      "cell_type": "code",
      "execution_count": null,
      "metadata": {},
      "outputs": [],
      "source": [
        "cor(A, B)\n",
        "\n",
        "cor(A, C)"
      ],
      "id": "9c1af363-a916-4624-a5cd-66cd12dcefb3"
    },
    {
      "cell_type": "code",
      "execution_count": null,
      "metadata": {},
      "outputs": [],
      "source": [
        "library(tidyverse)\n",
        "\n",
        "\n",
        "\n",
        "my_df <- data.frame(\n",
        "  x = c(3,  3,   9),\n",
        "  y = c(4,  4, -18),\n",
        "  z = c(5, 29,   8),\n",
        "  row.names = c(\"A\", \"B\", \"C\"))\n",
        "\n",
        "# \u30e6\u30fc\u30af\u30ea\u30c3\u30c9\u8ddd\u96e2\n",
        "my_df %>% proxy::dist(\"Euclidean\")\n",
        "\n",
        "\n",
        "# \u30de\u30f3\u30cf\u30c3\u30bf\u30f3\u8ddd\u96e2\n",
        "my_df %>% proxy::dist(\"Manhattan\")\n",
        "\n",
        "\n",
        "# \u30b3\u30b5\u30a4\u30f3\u985e\u4f3c\u5ea6\n",
        "my_df %>% proxy::simil(\"cosine\")\n",
        "\n",
        "\n",
        "# \u76f8\u95a2\u4fc2\u6570\n",
        "my_df %>% proxy::simil(\"correlation\")"
      ],
      "id": "e196e0c4-c669-4a6d-9224-fd0f158ea9c9"
    },
    {
      "id": "06b90d7d",
      "cell_type": "markdown",
      "source": "## 3.6 R\u306e\u30d1\u30c3\u30b1\u30fc\u30b8\uff0cPython\u306e\u30e2\u30b8\u30e5\u30fc\u30eb",
      "metadata": {}
    },
    {
      "cell_type": "code",
      "execution_count": null,
      "metadata": {},
      "outputs": [],
      "source": [
        "library(tidyverse)"
      ],
      "id": "efb9ac75-4f75-4a60-b034-2b83912e4712"
    },
    {
      "id": "e6f6f800",
      "cell_type": "markdown",
      "source": "## 3.7 \u53cd\u5fa9\u51e6\u7406",
      "metadata": {}
    },
    {
      "cell_type": "code",
      "execution_count": null,
      "metadata": {},
      "outputs": [],
      "source": [
        "library(tidyverse)"
      ],
      "id": "e553178d-cd5b-44ff-bfcd-a83592ef96f4"
    },
    {
      "cell_type": "code",
      "execution_count": null,
      "metadata": {},
      "outputs": [],
      "source": [
        "f1 <- function(x) {\n",
        "  tmp <- runif(x)\n",
        "  mean(tmp)\n",
        "}\n",
        "\n",
        "f1(10)           # \u52d5\u4f5c\u78ba\u8a8d"
      ],
      "id": "e6d4f9a5-6171-4062-8d72-5b1e38cc745a"
    },
    {
      "cell_type": "code",
      "execution_count": null,
      "metadata": {},
      "outputs": [],
      "source": [
        "replicate(n = 3, expr = f1(10))"
      ],
      "id": "eb0097fc-00c8-436e-91b0-9489e237e702"
    },
    {
      "cell_type": "code",
      "execution_count": null,
      "metadata": {},
      "outputs": [],
      "source": [
        "rep(x = f1(10), times = 3)"
      ],
      "id": "b2640de2-3751-4469-abfc-ad557f65bc16"
    },
    {
      "cell_type": "code",
      "execution_count": null,
      "metadata": {},
      "outputs": [],
      "source": [
        "v <- c(5, 10, 100)\n",
        "v %>% map_dbl(f1)"
      ],
      "id": "9b86b289-b7b2-4578-9cfe-b8d99ffa36a7"
    },
    {
      "cell_type": "code",
      "execution_count": null,
      "metadata": {},
      "outputs": [],
      "source": [
        "rep(x = 10, times = 3) %>% map_dbl(f1)\n",
        "# \u7d50\u679c\u306f\u5272\u611b"
      ],
      "id": "fbd74ab1-7501-4603-9464-0ec4a56e9e86"
    },
    {
      "cell_type": "code",
      "execution_count": null,
      "metadata": {},
      "outputs": [],
      "source": [
        "f2 <- function(n) {\n",
        "  tmp <- runif(n)\n",
        "  list(x = n,\n",
        "       p = mean(tmp),\n",
        "       q = sd(tmp))\n",
        "}\n",
        "\n",
        "f2(10) # \u52d5\u4f5c\u78ba\u8a8d"
      ],
      "id": "c470d195-c934-4f5c-884d-eedcceae9317"
    },
    {
      "cell_type": "code",
      "execution_count": null,
      "metadata": {},
      "outputs": [],
      "source": [
        "v <- c(5, 10, 100)\n",
        "v %>% map_dfr(f2)"
      ],
      "id": "139e46fa-598c-4c52-b5e0-84261d9d9e98"
    },
    {
      "cell_type": "code",
      "execution_count": null,
      "metadata": {},
      "outputs": [],
      "source": [
        "f3 <- function(x, y) {\n",
        "  tmp <- runif(x, min = 1,\n",
        "                  max = y + 1) %>%\n",
        "    as.integer\n",
        "  list(x = x,\n",
        "       y = y,\n",
        "       p = mean(tmp),\n",
        "       q = sd(tmp))\n",
        "}\n",
        "\n",
        "f3(x = 10, y = 6) # \u52d5\u4f5c\u78ba\u8a8d"
      ],
      "id": "275b67f7-631b-497d-ae3d-03ddd0bd5b9f"
    },
    {
      "cell_type": "code",
      "execution_count": null,
      "metadata": {},
      "outputs": [],
      "source": [
        "my_df <- data.frame(\n",
        "  x = c(5, 10, 100,  5, 10, 100),\n",
        "  y = c(6,  6,   6, 12, 12,  12))\n",
        "\n",
        "my_df %>% pmap_dfr(f3)"
      ],
      "id": "77045c66-194f-442b-a346-7eb04c765a6a"
    },
    {
      "cell_type": "code",
      "execution_count": null,
      "metadata": {},
      "outputs": [],
      "source": [
        "library(furrr)\n",
        "plan(multisession) # \u6e96\u5099\n",
        "\n",
        "v <- c(5, 10, 100)\n",
        "v %>% future_map_dbl(f1, .options =\n",
        "  furrr_options(seed = TRUE))\n",
        "# \u7d50\u679c\u306f\u5272\u611b"
      ],
      "id": "043a3a49-118d-4971-a198-ff9d90baa26c"
    },
    {
      "id": "15a1db8d",
      "cell_type": "markdown",
      "source": "## 3.8 \u305d\u306e\u4ed6",
      "metadata": {}
    },
    {
      "cell_type": "code",
      "execution_count": null,
      "metadata": {},
      "outputs": [],
      "source": [
        "x <- 123\n",
        "typeof(x)"
      ],
      "id": "8b351367-defd-485d-9a7b-8e3583656331"
    },
    {
      "cell_type": "code",
      "execution_count": null,
      "metadata": {},
      "outputs": [],
      "source": [
        "?log\n",
        "# \u3042\u308b\u3044\u306f\n",
        "help(log)"
      ],
      "id": "f4dd7dbf-70ad-46f1-a14d-dd0d8beece34"
    },
    {
      "cell_type": "code",
      "execution_count": null,
      "metadata": {},
      "outputs": [],
      "source": [
        "v <- c(1, NA, 3)\n",
        "v"
      ],
      "id": "d4484f99-5e8c-4022-9685-abbc986cfcf8"
    },
    {
      "cell_type": "code",
      "execution_count": null,
      "metadata": {},
      "outputs": [],
      "source": [
        "is.na(v[2])\n",
        "\n",
        "v[2] == NA # \u8aa4\u308a"
      ],
      "id": "88672afa-f9f9-434f-9ae3-73e0e619f178"
    }
  ],
  "nbformat": 4,
  "nbformat_minor": 5,
  "metadata": {
    "kernelspec": {
      "name": "ir",
      "display_name": "R"
    }
  }
}