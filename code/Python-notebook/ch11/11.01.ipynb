{
 "cells": [
  {
   "cell_type": "markdown",
   "metadata": {},
   "source": [
    "## 11.1 Kerasによる回帰"
   ]
  },
  {
   "cell_type": "code",
   "execution_count": null,
   "metadata": {},
   "outputs": [],
   "source": [
    "import matplotlib.pyplot as plt\n",
    "import numpy as np\n",
    "import pandas as pd\n",
    "from keras import activations, callbacks, layers, models\n",
    "from sklearn.preprocessing import StandardScaler\n",
    "from sklearn.utils import shuffle\n",
    "\n",
    "my_url = ('https://raw.githubusercontent.com/taroyabuki'\n",
    "          '/fromzero/master/data/wine.csv')\n",
    "tmp = pd.read_csv(my_url)"
   ]
  },
  {
   "cell_type": "code",
   "execution_count": null,
   "metadata": {},
   "outputs": [],
   "source": [
    "my_data = shuffle(tmp)"
   ]
  },
  {
   "cell_type": "code",
   "execution_count": null,
   "metadata": {},
   "outputs": [],
   "source": [
    "my_scaler = StandardScaler()\n",
    "X = my_scaler.fit_transform(\n",
    "    my_data.drop(columns=['LPRICE2']))\n",
    "y = my_data['LPRICE2']"
   ]
  },
  {
   "cell_type": "code",
   "execution_count": null,
   "metadata": {},
   "outputs": [],
   "source": [
    "x = np.linspace(-3, 3, 100)\n",
    "plt.plot(x, activations.relu(x))\n",
    "plt.xlabel('x')\n",
    "plt.ylabel('ReLU(x)')"
   ]
  },
  {
   "cell_type": "code",
   "execution_count": null,
   "metadata": {},
   "outputs": [],
   "source": [
    "my_model = models.Sequential()\n",
    "my_model.add(layers.Dense(units=3, activation='relu', input_shape=[4]))\n",
    "my_model.add(layers.Dense(units=1))\n",
    "\n",
    "my_model.summary() # ネットワークの概要\n",
    "#> Model: \"sequential\"\n",
    "#> _________________________________________________________________\n",
    "#> Layer (type)                 Output Shape              Param #\n",
    "#> =================================================================\n",
    "#> dense (Dense)                (None, 3)                 15\n",
    "#> _________________________________________________________________\n",
    "#> dense_1 (Dense)              (None, 1)                 4\n",
    "#> =================================================================\n",
    "#> Total params: 19\n",
    "#> Trainable params: 19\n",
    "#> Non-trainable params: 0"
   ]
  },
  {
   "cell_type": "code",
   "execution_count": null,
   "metadata": {},
   "outputs": [],
   "source": [
    "my_model.compile(\n",
    "    loss='mse',\n",
    "    optimizer='rmsprop')"
   ]
  },
  {
   "cell_type": "code",
   "execution_count": null,
   "metadata": {},
   "outputs": [],
   "source": [
    "my_cb = callbacks.EarlyStopping(\n",
    "    patience=20,\n",
    "    restore_best_weights=True)"
   ]
  },
  {
   "cell_type": "code",
   "execution_count": null,
   "metadata": {},
   "outputs": [],
   "source": [
    "my_history = my_model.fit(\n",
    "    x=X,\n",
    "    y=y,\n",
    "    validation_split=0.25,\n",
    "    batch_size=10,\n",
    "    epochs=500,\n",
    "    callbacks=[my_cb],\n",
    "    verbose=0)"
   ]
  },
  {
   "cell_type": "code",
   "execution_count": null,
   "metadata": {},
   "outputs": [],
   "source": [
    "tmp = pd.DataFrame(my_history.history)\n",
    "tmp.plot(xlabel='epoch')"
   ]
  },
  {
   "cell_type": "code",
   "execution_count": null,
   "metadata": {},
   "outputs": [],
   "source": [
    "tmp.iloc[-1, ]\n",
    "#> loss        0.192743\n",
    "#> val_loss    0.342249\n",
    "#> Name: 499, dtype: float64"
   ]
  },
  {
   "cell_type": "code",
   "execution_count": null,
   "metadata": {},
   "outputs": [],
   "source": [
    "y_ = my_model.predict(X)\n",
    "((y_.ravel() - y)**2).mean()\n",
    "#> 0.23050613964540986"
   ]
  }
 ],
 "nbformat": 4,
 "nbformat_minor": 5,
 "metadata": {
  "kernelspec": {
   "name": "python3",
   "display_name": "Python 3"
  }
 }
}
