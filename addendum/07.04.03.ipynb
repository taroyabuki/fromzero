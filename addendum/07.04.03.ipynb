{
  "nbformat": 4,
  "nbformat_minor": 0,
  "metadata": {
    "colab": {
      "name": "7.4.3項についての補足",
      "provenance": [],
      "toc_visible": true
    },
    "kernelspec": {
      "name": "python3",
      "display_name": "Python 3"
    },
    "language_info": {
      "name": "python"
    }
  },
  "cells": [
    {
      "cell_type": "markdown",
      "source": [
        "# 「7.4.3 当てはまりの良さの指標の問題点」についての補足\n",
        "\n",
        "p.193--194に次のようなコードがあります．この結果が書籍に掲載されているものと同じにならないという指摘をいただきました．このことについて，補足します．"
      ],
      "metadata": {
        "id": "m7xmMHOY5YUe"
      }
    },
    {
      "cell_type": "code",
      "execution_count": null,
      "metadata": {
        "id": "kgskdjhp5M7W"
      },
      "outputs": [],
      "source": [
        "import numpy as np\n",
        "import pandas as pd\n",
        "import statsmodels.api as sm\n",
        "from sklearn.linear_model import LinearRegression\n",
        "from sklearn.preprocessing import PolynomialFeatures\n",
        "\n",
        "my_data = sm.datasets.get_rdataset('cars', 'datasets').data\n",
        "\n",
        "my_idx = [1, 10, 26, 33, 38, 43]\n",
        "my_sample = my_data.iloc[my_idx, ]\n",
        "X, y = my_sample[['speed']], my_sample['dist']\n",
        "\n",
        "d = 5\n",
        "X5 = PolynomialFeatures(d).fit_transform(X) # Xの「0」乗から5乗の変数\n",
        "\n",
        "my_model = LinearRegression()\n",
        "my_model.fit(X5, y)\n",
        "y_ = my_model.predict(X5)\n",
        "\n",
        "((y - y_)**2).mean()**0.5\n",
        "#> 7.725744805546204e-07 # RMSE"
      ]
    },
    {
      "cell_type": "markdown",
      "source": [
        "## 簡単な解説\n",
        "\n",
        "掲載しているのは，本書執筆時のGoogle Colabの結果です．環境によっては，これとは違う結果になることがあります．本書で強調しているように，回帰分析は乱数を使わないので，結果はいつも同じになるはずです．それにもかかわらず，違う結果が出るのはおかしい，というわけです．\n",
        "\n",
        "ごもっともです．\n",
        "\n",
        "違う結果が出る原因をひとことで言えば，「浮動小数点数の計算でよくある誤差」です．正確に計算すれば同じ結果になるはずのものでも，利用するコンピュータや，計算順序のちょっとした違いによって，違う結果になることがあるのです．\n",
        "\n",
        "たとえば，上で作ったX5を左右反転しても結果は変わらないはずですが，数値計算の結果は（おそらく）変わります．（正確な計算の結果は後で示します．）"
      ],
      "metadata": {
        "id": "u4CWXUtv5_w2"
      }
    },
    {
      "cell_type": "code",
      "source": [
        "X5a = np.fliplr(X5) # 左右反転\n",
        "my_model = LinearRegression()\n",
        "my_model.fit(X5a, y)\n",
        "y_ = my_model.predict(X5a)\n",
        "((y - y_)**2).mean()**0.5"
      ],
      "metadata": {
        "colab": {
          "base_uri": "https://localhost:8080/"
        },
        "id": "qAXpIdEBvmb6",
        "outputId": "14981a74-3054-4fbd-b677-0225515cd4c6"
      },
      "execution_count": 2,
      "outputs": [
        {
          "output_type": "execute_result",
          "data": {
            "text/plain": [
              "8.848157305870842e-11"
            ]
          },
          "metadata": {},
          "execution_count": 2
        }
      ]
    },
    {
      "cell_type": "markdown",
      "source": [
        "以上で納得できる方にとっては，この話はこれで終わりでいいでしょう．"
      ],
      "metadata": {
        "id": "0cV_jaAIyGb6"
      }
    },
    {
      "cell_type": "markdown",
      "source": [
        "## 詳しい解説\n",
        "\n",
        "計算は次のように行われます．\n",
        "\n",
        "1. numpy（数値計算のためのモジュールによる前処理）\n",
        "1. scipy（科学計算のためのモジュールによるLAPACKの呼び出し）\n",
        "1. LAPACK（線形代数のためのライブラリによる最小二乗法の計算）\n",
        "1. CPU（実際の計算）\n",
        "1. numpy（後処理）\n",
        "\n",
        "結果が異なるのは次のような場合です．\n",
        "\n",
        "1. CPUが異なる場合：x86_64とaarch64（Apple Chip）では結果が異なります．aarch64上でx86_64をエミュレートするRosetta 2も，浮動小数点数のエミュレートは完璧ではないようです．このことは，x86_64とaarch64で同一のDockerイメージを使うことで確かめられます．\n",
        "1. LAPACKが異なる場合：x86_64上でOpenBLAS（pipでnumpyを入れた場合）とIntel MKL（condaでnumpyを入れた場合）を比べることで確かめられます．\n",
        "1. numpyのバージョンが異なる場合：numpy 1.19.5と1.20.0を比べることで確かめられます．\n"
      ],
      "metadata": {
        "id": "S5K1j9mBlpN5"
      }
    },
    {
      "cell_type": "markdown",
      "source": [
        "## お詫び\n",
        "\n",
        "上のコードの`X5`には少し問題がありました．\n",
        "\n"
      ],
      "metadata": {
        "id": "pAj1wvpd9F22"
      }
    },
    {
      "cell_type": "code",
      "source": [
        "pd.DataFrame(X5)"
      ],
      "metadata": {
        "colab": {
          "base_uri": "https://localhost:8080/",
          "height": 238
        },
        "id": "lqd_10R59ciz",
        "outputId": "2b1e04ef-99ec-418e-dea9-bae5e0400c24"
      },
      "execution_count": 3,
      "outputs": [
        {
          "output_type": "execute_result",
          "data": {
            "text/html": [
              "\n",
              "  <div id=\"df-5972d1e7-5423-4e58-bc0c-f97e6a416a31\">\n",
              "    <div class=\"colab-df-container\">\n",
              "      <div>\n",
              "<style scoped>\n",
              "    .dataframe tbody tr th:only-of-type {\n",
              "        vertical-align: middle;\n",
              "    }\n",
              "\n",
              "    .dataframe tbody tr th {\n",
              "        vertical-align: top;\n",
              "    }\n",
              "\n",
              "    .dataframe thead th {\n",
              "        text-align: right;\n",
              "    }\n",
              "</style>\n",
              "<table border=\"1\" class=\"dataframe\">\n",
              "  <thead>\n",
              "    <tr style=\"text-align: right;\">\n",
              "      <th></th>\n",
              "      <th>0</th>\n",
              "      <th>1</th>\n",
              "      <th>2</th>\n",
              "      <th>3</th>\n",
              "      <th>4</th>\n",
              "      <th>5</th>\n",
              "    </tr>\n",
              "  </thead>\n",
              "  <tbody>\n",
              "    <tr>\n",
              "      <th>0</th>\n",
              "      <td>1.0</td>\n",
              "      <td>4.0</td>\n",
              "      <td>16.0</td>\n",
              "      <td>64.0</td>\n",
              "      <td>256.0</td>\n",
              "      <td>1024.0</td>\n",
              "    </tr>\n",
              "    <tr>\n",
              "      <th>1</th>\n",
              "      <td>1.0</td>\n",
              "      <td>11.0</td>\n",
              "      <td>121.0</td>\n",
              "      <td>1331.0</td>\n",
              "      <td>14641.0</td>\n",
              "      <td>161051.0</td>\n",
              "    </tr>\n",
              "    <tr>\n",
              "      <th>2</th>\n",
              "      <td>1.0</td>\n",
              "      <td>16.0</td>\n",
              "      <td>256.0</td>\n",
              "      <td>4096.0</td>\n",
              "      <td>65536.0</td>\n",
              "      <td>1048576.0</td>\n",
              "    </tr>\n",
              "    <tr>\n",
              "      <th>3</th>\n",
              "      <td>1.0</td>\n",
              "      <td>18.0</td>\n",
              "      <td>324.0</td>\n",
              "      <td>5832.0</td>\n",
              "      <td>104976.0</td>\n",
              "      <td>1889568.0</td>\n",
              "    </tr>\n",
              "    <tr>\n",
              "      <th>4</th>\n",
              "      <td>1.0</td>\n",
              "      <td>20.0</td>\n",
              "      <td>400.0</td>\n",
              "      <td>8000.0</td>\n",
              "      <td>160000.0</td>\n",
              "      <td>3200000.0</td>\n",
              "    </tr>\n",
              "    <tr>\n",
              "      <th>5</th>\n",
              "      <td>1.0</td>\n",
              "      <td>22.0</td>\n",
              "      <td>484.0</td>\n",
              "      <td>10648.0</td>\n",
              "      <td>234256.0</td>\n",
              "      <td>5153632.0</td>\n",
              "    </tr>\n",
              "  </tbody>\n",
              "</table>\n",
              "</div>\n",
              "      <button class=\"colab-df-convert\" onclick=\"convertToInteractive('df-5972d1e7-5423-4e58-bc0c-f97e6a416a31')\"\n",
              "              title=\"Convert this dataframe to an interactive table.\"\n",
              "              style=\"display:none;\">\n",
              "        \n",
              "  <svg xmlns=\"http://www.w3.org/2000/svg\" height=\"24px\"viewBox=\"0 0 24 24\"\n",
              "       width=\"24px\">\n",
              "    <path d=\"M0 0h24v24H0V0z\" fill=\"none\"/>\n",
              "    <path d=\"M18.56 5.44l.94 2.06.94-2.06 2.06-.94-2.06-.94-.94-2.06-.94 2.06-2.06.94zm-11 1L8.5 8.5l.94-2.06 2.06-.94-2.06-.94L8.5 2.5l-.94 2.06-2.06.94zm10 10l.94 2.06.94-2.06 2.06-.94-2.06-.94-.94-2.06-.94 2.06-2.06.94z\"/><path d=\"M17.41 7.96l-1.37-1.37c-.4-.4-.92-.59-1.43-.59-.52 0-1.04.2-1.43.59L10.3 9.45l-7.72 7.72c-.78.78-.78 2.05 0 2.83L4 21.41c.39.39.9.59 1.41.59.51 0 1.02-.2 1.41-.59l7.78-7.78 2.81-2.81c.8-.78.8-2.07 0-2.86zM5.41 20L4 18.59l7.72-7.72 1.47 1.35L5.41 20z\"/>\n",
              "  </svg>\n",
              "      </button>\n",
              "      \n",
              "  <style>\n",
              "    .colab-df-container {\n",
              "      display:flex;\n",
              "      flex-wrap:wrap;\n",
              "      gap: 12px;\n",
              "    }\n",
              "\n",
              "    .colab-df-convert {\n",
              "      background-color: #E8F0FE;\n",
              "      border: none;\n",
              "      border-radius: 50%;\n",
              "      cursor: pointer;\n",
              "      display: none;\n",
              "      fill: #1967D2;\n",
              "      height: 32px;\n",
              "      padding: 0 0 0 0;\n",
              "      width: 32px;\n",
              "    }\n",
              "\n",
              "    .colab-df-convert:hover {\n",
              "      background-color: #E2EBFA;\n",
              "      box-shadow: 0px 1px 2px rgba(60, 64, 67, 0.3), 0px 1px 3px 1px rgba(60, 64, 67, 0.15);\n",
              "      fill: #174EA6;\n",
              "    }\n",
              "\n",
              "    [theme=dark] .colab-df-convert {\n",
              "      background-color: #3B4455;\n",
              "      fill: #D2E3FC;\n",
              "    }\n",
              "\n",
              "    [theme=dark] .colab-df-convert:hover {\n",
              "      background-color: #434B5C;\n",
              "      box-shadow: 0px 1px 3px 1px rgba(0, 0, 0, 0.15);\n",
              "      filter: drop-shadow(0px 1px 2px rgba(0, 0, 0, 0.3));\n",
              "      fill: #FFFFFF;\n",
              "    }\n",
              "  </style>\n",
              "\n",
              "      <script>\n",
              "        const buttonEl =\n",
              "          document.querySelector('#df-5972d1e7-5423-4e58-bc0c-f97e6a416a31 button.colab-df-convert');\n",
              "        buttonEl.style.display =\n",
              "          google.colab.kernel.accessAllowed ? 'block' : 'none';\n",
              "\n",
              "        async function convertToInteractive(key) {\n",
              "          const element = document.querySelector('#df-5972d1e7-5423-4e58-bc0c-f97e6a416a31');\n",
              "          const dataTable =\n",
              "            await google.colab.kernel.invokeFunction('convertToInteractive',\n",
              "                                                     [key], {});\n",
              "          if (!dataTable) return;\n",
              "\n",
              "          const docLinkHtml = 'Like what you see? Visit the ' +\n",
              "            '<a target=\"_blank\" href=https://colab.research.google.com/notebooks/data_table.ipynb>data table notebook</a>'\n",
              "            + ' to learn more about interactive tables.';\n",
              "          element.innerHTML = '';\n",
              "          dataTable['output_type'] = 'display_data';\n",
              "          await google.colab.output.renderOutput(dataTable, element);\n",
              "          const docLink = document.createElement('div');\n",
              "          docLink.innerHTML = docLinkHtml;\n",
              "          element.appendChild(docLink);\n",
              "        }\n",
              "      </script>\n",
              "    </div>\n",
              "  </div>\n",
              "  "
            ],
            "text/plain": [
              "     0     1      2        3         4          5\n",
              "0  1.0   4.0   16.0     64.0     256.0     1024.0\n",
              "1  1.0  11.0  121.0   1331.0   14641.0   161051.0\n",
              "2  1.0  16.0  256.0   4096.0   65536.0  1048576.0\n",
              "3  1.0  18.0  324.0   5832.0  104976.0  1889568.0\n",
              "4  1.0  20.0  400.0   8000.0  160000.0  3200000.0\n",
              "5  1.0  22.0  484.0  10648.0  234256.0  5153632.0"
            ]
          },
          "metadata": {},
          "execution_count": 3
        }
      ]
    },
    {
      "cell_type": "markdown",
      "source": [
        "左端のすべてが1の列は，線形モデルの定数に相当する部分です．`LinearRegression()`で改めて切片を導入するので，この列は不要です．\n",
        "\n",
        "この列の有無の予測値への影響は，正確な計算なら無いのですが，数値計算では有ります．（正確な計算の結果は後で示します．）\n",
        "\n",
        "ですから，次のようにすべきでした．"
      ],
      "metadata": {
        "id": "qJGQ2E3a9gW1"
      }
    },
    {
      "cell_type": "code",
      "source": [
        "X5 = PolynomialFeatures(d, include_bias=False).fit_transform(X) # Xの1乗から5乗の変数\n",
        "pd.DataFrame(X5)"
      ],
      "metadata": {
        "colab": {
          "base_uri": "https://localhost:8080/",
          "height": 238
        },
        "id": "z1gdH2qi-sQO",
        "outputId": "c7a7b579-7062-4570-ed34-60427c7a0a6c"
      },
      "execution_count": 4,
      "outputs": [
        {
          "output_type": "execute_result",
          "data": {
            "text/html": [
              "\n",
              "  <div id=\"df-8ca1c245-c458-411f-a16c-5b16c5463736\">\n",
              "    <div class=\"colab-df-container\">\n",
              "      <div>\n",
              "<style scoped>\n",
              "    .dataframe tbody tr th:only-of-type {\n",
              "        vertical-align: middle;\n",
              "    }\n",
              "\n",
              "    .dataframe tbody tr th {\n",
              "        vertical-align: top;\n",
              "    }\n",
              "\n",
              "    .dataframe thead th {\n",
              "        text-align: right;\n",
              "    }\n",
              "</style>\n",
              "<table border=\"1\" class=\"dataframe\">\n",
              "  <thead>\n",
              "    <tr style=\"text-align: right;\">\n",
              "      <th></th>\n",
              "      <th>0</th>\n",
              "      <th>1</th>\n",
              "      <th>2</th>\n",
              "      <th>3</th>\n",
              "      <th>4</th>\n",
              "    </tr>\n",
              "  </thead>\n",
              "  <tbody>\n",
              "    <tr>\n",
              "      <th>0</th>\n",
              "      <td>4.0</td>\n",
              "      <td>16.0</td>\n",
              "      <td>64.0</td>\n",
              "      <td>256.0</td>\n",
              "      <td>1024.0</td>\n",
              "    </tr>\n",
              "    <tr>\n",
              "      <th>1</th>\n",
              "      <td>11.0</td>\n",
              "      <td>121.0</td>\n",
              "      <td>1331.0</td>\n",
              "      <td>14641.0</td>\n",
              "      <td>161051.0</td>\n",
              "    </tr>\n",
              "    <tr>\n",
              "      <th>2</th>\n",
              "      <td>16.0</td>\n",
              "      <td>256.0</td>\n",
              "      <td>4096.0</td>\n",
              "      <td>65536.0</td>\n",
              "      <td>1048576.0</td>\n",
              "    </tr>\n",
              "    <tr>\n",
              "      <th>3</th>\n",
              "      <td>18.0</td>\n",
              "      <td>324.0</td>\n",
              "      <td>5832.0</td>\n",
              "      <td>104976.0</td>\n",
              "      <td>1889568.0</td>\n",
              "    </tr>\n",
              "    <tr>\n",
              "      <th>4</th>\n",
              "      <td>20.0</td>\n",
              "      <td>400.0</td>\n",
              "      <td>8000.0</td>\n",
              "      <td>160000.0</td>\n",
              "      <td>3200000.0</td>\n",
              "    </tr>\n",
              "    <tr>\n",
              "      <th>5</th>\n",
              "      <td>22.0</td>\n",
              "      <td>484.0</td>\n",
              "      <td>10648.0</td>\n",
              "      <td>234256.0</td>\n",
              "      <td>5153632.0</td>\n",
              "    </tr>\n",
              "  </tbody>\n",
              "</table>\n",
              "</div>\n",
              "      <button class=\"colab-df-convert\" onclick=\"convertToInteractive('df-8ca1c245-c458-411f-a16c-5b16c5463736')\"\n",
              "              title=\"Convert this dataframe to an interactive table.\"\n",
              "              style=\"display:none;\">\n",
              "        \n",
              "  <svg xmlns=\"http://www.w3.org/2000/svg\" height=\"24px\"viewBox=\"0 0 24 24\"\n",
              "       width=\"24px\">\n",
              "    <path d=\"M0 0h24v24H0V0z\" fill=\"none\"/>\n",
              "    <path d=\"M18.56 5.44l.94 2.06.94-2.06 2.06-.94-2.06-.94-.94-2.06-.94 2.06-2.06.94zm-11 1L8.5 8.5l.94-2.06 2.06-.94-2.06-.94L8.5 2.5l-.94 2.06-2.06.94zm10 10l.94 2.06.94-2.06 2.06-.94-2.06-.94-.94-2.06-.94 2.06-2.06.94z\"/><path d=\"M17.41 7.96l-1.37-1.37c-.4-.4-.92-.59-1.43-.59-.52 0-1.04.2-1.43.59L10.3 9.45l-7.72 7.72c-.78.78-.78 2.05 0 2.83L4 21.41c.39.39.9.59 1.41.59.51 0 1.02-.2 1.41-.59l7.78-7.78 2.81-2.81c.8-.78.8-2.07 0-2.86zM5.41 20L4 18.59l7.72-7.72 1.47 1.35L5.41 20z\"/>\n",
              "  </svg>\n",
              "      </button>\n",
              "      \n",
              "  <style>\n",
              "    .colab-df-container {\n",
              "      display:flex;\n",
              "      flex-wrap:wrap;\n",
              "      gap: 12px;\n",
              "    }\n",
              "\n",
              "    .colab-df-convert {\n",
              "      background-color: #E8F0FE;\n",
              "      border: none;\n",
              "      border-radius: 50%;\n",
              "      cursor: pointer;\n",
              "      display: none;\n",
              "      fill: #1967D2;\n",
              "      height: 32px;\n",
              "      padding: 0 0 0 0;\n",
              "      width: 32px;\n",
              "    }\n",
              "\n",
              "    .colab-df-convert:hover {\n",
              "      background-color: #E2EBFA;\n",
              "      box-shadow: 0px 1px 2px rgba(60, 64, 67, 0.3), 0px 1px 3px 1px rgba(60, 64, 67, 0.15);\n",
              "      fill: #174EA6;\n",
              "    }\n",
              "\n",
              "    [theme=dark] .colab-df-convert {\n",
              "      background-color: #3B4455;\n",
              "      fill: #D2E3FC;\n",
              "    }\n",
              "\n",
              "    [theme=dark] .colab-df-convert:hover {\n",
              "      background-color: #434B5C;\n",
              "      box-shadow: 0px 1px 3px 1px rgba(0, 0, 0, 0.15);\n",
              "      filter: drop-shadow(0px 1px 2px rgba(0, 0, 0, 0.3));\n",
              "      fill: #FFFFFF;\n",
              "    }\n",
              "  </style>\n",
              "\n",
              "      <script>\n",
              "        const buttonEl =\n",
              "          document.querySelector('#df-8ca1c245-c458-411f-a16c-5b16c5463736 button.colab-df-convert');\n",
              "        buttonEl.style.display =\n",
              "          google.colab.kernel.accessAllowed ? 'block' : 'none';\n",
              "\n",
              "        async function convertToInteractive(key) {\n",
              "          const element = document.querySelector('#df-8ca1c245-c458-411f-a16c-5b16c5463736');\n",
              "          const dataTable =\n",
              "            await google.colab.kernel.invokeFunction('convertToInteractive',\n",
              "                                                     [key], {});\n",
              "          if (!dataTable) return;\n",
              "\n",
              "          const docLinkHtml = 'Like what you see? Visit the ' +\n",
              "            '<a target=\"_blank\" href=https://colab.research.google.com/notebooks/data_table.ipynb>data table notebook</a>'\n",
              "            + ' to learn more about interactive tables.';\n",
              "          element.innerHTML = '';\n",
              "          dataTable['output_type'] = 'display_data';\n",
              "          await google.colab.output.renderOutput(dataTable, element);\n",
              "          const docLink = document.createElement('div');\n",
              "          docLink.innerHTML = docLinkHtml;\n",
              "          element.appendChild(docLink);\n",
              "        }\n",
              "      </script>\n",
              "    </div>\n",
              "  </div>\n",
              "  "
            ],
            "text/plain": [
              "      0      1        2         3          4\n",
              "0   4.0   16.0     64.0     256.0     1024.0\n",
              "1  11.0  121.0   1331.0   14641.0   161051.0\n",
              "2  16.0  256.0   4096.0   65536.0  1048576.0\n",
              "3  18.0  324.0   5832.0  104976.0  1889568.0\n",
              "4  20.0  400.0   8000.0  160000.0  3200000.0\n",
              "5  22.0  484.0  10648.0  234256.0  5153632.0"
            ]
          },
          "metadata": {},
          "execution_count": 4
        }
      ]
    },
    {
      "cell_type": "markdown",
      "source": [
        "RMSE（訓練）はやはりほぼ0になります．"
      ],
      "metadata": {
        "id": "fQGjpGMiVA7w"
      }
    },
    {
      "cell_type": "code",
      "source": [
        "my_model = LinearRegression()\n",
        "my_model.fit(X5, y)\n",
        "y_ = my_model.predict(X5)\n",
        "((y - y_)**2).mean()**0.5"
      ],
      "metadata": {
        "colab": {
          "base_uri": "https://localhost:8080/"
        },
        "id": "WPwGffNP-79E",
        "outputId": "c0eb0118-6222-410e-e6de-bb11a468b119"
      },
      "execution_count": 5,
      "outputs": [
        {
          "output_type": "execute_result",
          "data": {
            "text/plain": [
              "4.943172285713167e-07"
            ]
          },
          "metadata": {},
          "execution_count": 5
        }
      ]
    },
    {
      "cell_type": "markdown",
      "source": [
        "## scikit-learnがやっていること\n",
        "\n",
        "`my_model.fit(X5, y)`と`my_model.predict(X5)`で行われるのは，次のような処理です（先と同じ結果になります）．\n",
        "\n",
        "最小二乗法の計算をする`scipy.linalg.lstsq`の前後にnumpyを使う処理があります．そのため，scipyとLAPACKをそろえて最小二乗法の結果を同じにしても，numpyのバージョンが異なると結果が異なる場合があるのです．"
      ],
      "metadata": {
        "id": "sEe68lGT_j6c"
      }
    },
    {
      "cell_type": "code",
      "source": [
        "import scipy\n",
        "M = np.insert(X5, 5, 1, axis=1)\n",
        "X_offset = M.mean(axis=0)\n",
        "y_offset = y.mean()\n",
        "b, _, _, _ = scipy.linalg.lstsq(M - X_offset, y - y_offset)\n",
        "y_ = y_offset - np.dot(b, X_offset) + X5 @ b[:5]\n",
        "((y - y_)**2).mean()**0.5"
      ],
      "metadata": {
        "colab": {
          "base_uri": "https://localhost:8080/"
        },
        "id": "l9-kv_Eb6IMl",
        "outputId": "13992196-8b29-43ed-bc13-7f6af8864776"
      },
      "execution_count": 6,
      "outputs": [
        {
          "output_type": "execute_result",
          "data": {
            "text/plain": [
              "4.943172285713167e-07"
            ]
          },
          "metadata": {},
          "execution_count": 6
        }
      ]
    },
    {
      "cell_type": "markdown",
      "source": [
        "Mはp.230の脚註4にあるような行列です．すべて1の列はどこにあってもいいのですが，`LinearRegression`と同じ結果にするためには，（おそらく）右端でなければなりません．\n",
        "\n",
        "整形して表示します．"
      ],
      "metadata": {
        "id": "BfxgVxmoYDX9"
      }
    },
    {
      "cell_type": "code",
      "source": [
        "pd.DataFrame(M)"
      ],
      "metadata": {
        "colab": {
          "base_uri": "https://localhost:8080/",
          "height": 238
        },
        "id": "UrpAR7nUYClv",
        "outputId": "6093c1bb-1113-4b3f-cc74-8a19b35f5d3b"
      },
      "execution_count": 7,
      "outputs": [
        {
          "output_type": "execute_result",
          "data": {
            "text/html": [
              "\n",
              "  <div id=\"df-145d9039-fe3d-4cda-9f30-c4da9dfa4de9\">\n",
              "    <div class=\"colab-df-container\">\n",
              "      <div>\n",
              "<style scoped>\n",
              "    .dataframe tbody tr th:only-of-type {\n",
              "        vertical-align: middle;\n",
              "    }\n",
              "\n",
              "    .dataframe tbody tr th {\n",
              "        vertical-align: top;\n",
              "    }\n",
              "\n",
              "    .dataframe thead th {\n",
              "        text-align: right;\n",
              "    }\n",
              "</style>\n",
              "<table border=\"1\" class=\"dataframe\">\n",
              "  <thead>\n",
              "    <tr style=\"text-align: right;\">\n",
              "      <th></th>\n",
              "      <th>0</th>\n",
              "      <th>1</th>\n",
              "      <th>2</th>\n",
              "      <th>3</th>\n",
              "      <th>4</th>\n",
              "      <th>5</th>\n",
              "    </tr>\n",
              "  </thead>\n",
              "  <tbody>\n",
              "    <tr>\n",
              "      <th>0</th>\n",
              "      <td>4.0</td>\n",
              "      <td>16.0</td>\n",
              "      <td>64.0</td>\n",
              "      <td>256.0</td>\n",
              "      <td>1024.0</td>\n",
              "      <td>1.0</td>\n",
              "    </tr>\n",
              "    <tr>\n",
              "      <th>1</th>\n",
              "      <td>11.0</td>\n",
              "      <td>121.0</td>\n",
              "      <td>1331.0</td>\n",
              "      <td>14641.0</td>\n",
              "      <td>161051.0</td>\n",
              "      <td>1.0</td>\n",
              "    </tr>\n",
              "    <tr>\n",
              "      <th>2</th>\n",
              "      <td>16.0</td>\n",
              "      <td>256.0</td>\n",
              "      <td>4096.0</td>\n",
              "      <td>65536.0</td>\n",
              "      <td>1048576.0</td>\n",
              "      <td>1.0</td>\n",
              "    </tr>\n",
              "    <tr>\n",
              "      <th>3</th>\n",
              "      <td>18.0</td>\n",
              "      <td>324.0</td>\n",
              "      <td>5832.0</td>\n",
              "      <td>104976.0</td>\n",
              "      <td>1889568.0</td>\n",
              "      <td>1.0</td>\n",
              "    </tr>\n",
              "    <tr>\n",
              "      <th>4</th>\n",
              "      <td>20.0</td>\n",
              "      <td>400.0</td>\n",
              "      <td>8000.0</td>\n",
              "      <td>160000.0</td>\n",
              "      <td>3200000.0</td>\n",
              "      <td>1.0</td>\n",
              "    </tr>\n",
              "    <tr>\n",
              "      <th>5</th>\n",
              "      <td>22.0</td>\n",
              "      <td>484.0</td>\n",
              "      <td>10648.0</td>\n",
              "      <td>234256.0</td>\n",
              "      <td>5153632.0</td>\n",
              "      <td>1.0</td>\n",
              "    </tr>\n",
              "  </tbody>\n",
              "</table>\n",
              "</div>\n",
              "      <button class=\"colab-df-convert\" onclick=\"convertToInteractive('df-145d9039-fe3d-4cda-9f30-c4da9dfa4de9')\"\n",
              "              title=\"Convert this dataframe to an interactive table.\"\n",
              "              style=\"display:none;\">\n",
              "        \n",
              "  <svg xmlns=\"http://www.w3.org/2000/svg\" height=\"24px\"viewBox=\"0 0 24 24\"\n",
              "       width=\"24px\">\n",
              "    <path d=\"M0 0h24v24H0V0z\" fill=\"none\"/>\n",
              "    <path d=\"M18.56 5.44l.94 2.06.94-2.06 2.06-.94-2.06-.94-.94-2.06-.94 2.06-2.06.94zm-11 1L8.5 8.5l.94-2.06 2.06-.94-2.06-.94L8.5 2.5l-.94 2.06-2.06.94zm10 10l.94 2.06.94-2.06 2.06-.94-2.06-.94-.94-2.06-.94 2.06-2.06.94z\"/><path d=\"M17.41 7.96l-1.37-1.37c-.4-.4-.92-.59-1.43-.59-.52 0-1.04.2-1.43.59L10.3 9.45l-7.72 7.72c-.78.78-.78 2.05 0 2.83L4 21.41c.39.39.9.59 1.41.59.51 0 1.02-.2 1.41-.59l7.78-7.78 2.81-2.81c.8-.78.8-2.07 0-2.86zM5.41 20L4 18.59l7.72-7.72 1.47 1.35L5.41 20z\"/>\n",
              "  </svg>\n",
              "      </button>\n",
              "      \n",
              "  <style>\n",
              "    .colab-df-container {\n",
              "      display:flex;\n",
              "      flex-wrap:wrap;\n",
              "      gap: 12px;\n",
              "    }\n",
              "\n",
              "    .colab-df-convert {\n",
              "      background-color: #E8F0FE;\n",
              "      border: none;\n",
              "      border-radius: 50%;\n",
              "      cursor: pointer;\n",
              "      display: none;\n",
              "      fill: #1967D2;\n",
              "      height: 32px;\n",
              "      padding: 0 0 0 0;\n",
              "      width: 32px;\n",
              "    }\n",
              "\n",
              "    .colab-df-convert:hover {\n",
              "      background-color: #E2EBFA;\n",
              "      box-shadow: 0px 1px 2px rgba(60, 64, 67, 0.3), 0px 1px 3px 1px rgba(60, 64, 67, 0.15);\n",
              "      fill: #174EA6;\n",
              "    }\n",
              "\n",
              "    [theme=dark] .colab-df-convert {\n",
              "      background-color: #3B4455;\n",
              "      fill: #D2E3FC;\n",
              "    }\n",
              "\n",
              "    [theme=dark] .colab-df-convert:hover {\n",
              "      background-color: #434B5C;\n",
              "      box-shadow: 0px 1px 3px 1px rgba(0, 0, 0, 0.15);\n",
              "      filter: drop-shadow(0px 1px 2px rgba(0, 0, 0, 0.3));\n",
              "      fill: #FFFFFF;\n",
              "    }\n",
              "  </style>\n",
              "\n",
              "      <script>\n",
              "        const buttonEl =\n",
              "          document.querySelector('#df-145d9039-fe3d-4cda-9f30-c4da9dfa4de9 button.colab-df-convert');\n",
              "        buttonEl.style.display =\n",
              "          google.colab.kernel.accessAllowed ? 'block' : 'none';\n",
              "\n",
              "        async function convertToInteractive(key) {\n",
              "          const element = document.querySelector('#df-145d9039-fe3d-4cda-9f30-c4da9dfa4de9');\n",
              "          const dataTable =\n",
              "            await google.colab.kernel.invokeFunction('convertToInteractive',\n",
              "                                                     [key], {});\n",
              "          if (!dataTable) return;\n",
              "\n",
              "          const docLinkHtml = 'Like what you see? Visit the ' +\n",
              "            '<a target=\"_blank\" href=https://colab.research.google.com/notebooks/data_table.ipynb>data table notebook</a>'\n",
              "            + ' to learn more about interactive tables.';\n",
              "          element.innerHTML = '';\n",
              "          dataTable['output_type'] = 'display_data';\n",
              "          await google.colab.output.renderOutput(dataTable, element);\n",
              "          const docLink = document.createElement('div');\n",
              "          docLink.innerHTML = docLinkHtml;\n",
              "          element.appendChild(docLink);\n",
              "        }\n",
              "      </script>\n",
              "    </div>\n",
              "  </div>\n",
              "  "
            ],
            "text/plain": [
              "      0      1        2         3          4    5\n",
              "0   4.0   16.0     64.0     256.0     1024.0  1.0\n",
              "1  11.0  121.0   1331.0   14641.0   161051.0  1.0\n",
              "2  16.0  256.0   4096.0   65536.0  1048576.0  1.0\n",
              "3  18.0  324.0   5832.0  104976.0  1889568.0  1.0\n",
              "4  20.0  400.0   8000.0  160000.0  3200000.0  1.0\n",
              "5  22.0  484.0  10648.0  234256.0  5153632.0  1.0"
            ]
          },
          "metadata": {},
          "execution_count": 7
        }
      ]
    },
    {
      "cell_type": "markdown",
      "source": [
        "## 正確な計算\n",
        "\n",
        "正確に計算すると，RMSE（訓練）は0になります．Wolfram|Alphaを使うのが簡単です．\n",
        "\n",
        "[5次式でフィット {4,10},{11,28},{16,32},{18,76},{20,32},{22,66}](https://www.wolframalpha.com/input/?i=5%E6%AC%A1%E5%BC%8F%E3%81%A7%E3%83%95%E3%82%A3%E3%83%83%E3%83%88+%7B4%2C10%7D%2C%7B11%2C28%7D%2C%7B16%2C32%7D%2C%7B18%2C76%7D%2C%7B20%2C32%7D%2C%7B22%2C66%7D&lang=ja)\n",
        "\n",
        "計算方法はいろいろありますが，ここでは，ムーア・ペンローズ型一般逆行列（p.230の脚註4）を使います．"
      ],
      "metadata": {
        "id": "82VsR5PWghzU"
      }
    },
    {
      "cell_type": "code",
      "source": [
        "from sympy import *\n",
        "Y = Matrix(y)\n",
        "M = Matrix(np.array(X.speed)[:, np.newaxis]**[1, 2, 3, 4, 5, 0])\n",
        "M"
      ],
      "metadata": {
        "colab": {
          "base_uri": "https://localhost:8080/",
          "height": 139
        },
        "id": "OD4mMz6-dbsW",
        "outputId": "af0cd8cb-8df4-4f50-cff0-a567c78541c7"
      },
      "execution_count": 8,
      "outputs": [
        {
          "output_type": "execute_result",
          "data": {
            "text/latex": "$\\displaystyle \\left[\\begin{matrix}4 & 16 & 64 & 256 & 1024 & 1\\\\11 & 121 & 1331 & 14641 & 161051 & 1\\\\16 & 256 & 4096 & 65536 & 1048576 & 1\\\\18 & 324 & 5832 & 104976 & 1889568 & 1\\\\20 & 400 & 8000 & 160000 & 3200000 & 1\\\\22 & 484 & 10648 & 234256 & 5153632 & 1\\end{matrix}\\right]$",
            "text/plain": [
              "Matrix([\n",
              "[ 4,  16,    64,    256,    1024, 1],\n",
              "[11, 121,  1331,  14641,  161051, 1],\n",
              "[16, 256,  4096,  65536, 1048576, 1],\n",
              "[18, 324,  5832, 104976, 1889568, 1],\n",
              "[20, 400,  8000, 160000, 3200000, 1],\n",
              "[22, 484, 10648, 234256, 5153632, 1]])"
            ]
          },
          "metadata": {},
          "execution_count": 8
        }
      ]
    },
    {
      "cell_type": "code",
      "source": [
        "b = M.pinv() * Y\n",
        "b"
      ],
      "metadata": {
        "colab": {
          "base_uri": "https://localhost:8080/",
          "height": 139
        },
        "id": "xmibIwHffrxx",
        "outputId": "1e6c7c91-e712-4744-b0e0-6f2009fbf4f6"
      },
      "execution_count": 9,
      "outputs": [
        {
          "output_type": "execute_result",
          "data": {
            "text/latex": "$\\displaystyle \\left[\\begin{matrix}\\frac{2786331301}{582120}\\\\- \\frac{126621007}{155232}\\\\\\frac{919150}{14553}\\\\- \\frac{1420541}{620928}\\\\\\frac{293749}{9313920}\\\\- \\frac{1407358}{147}\\end{matrix}\\right]$",
            "text/plain": [
              "Matrix([\n",
              "[2786331301/582120],\n",
              "[-126621007/155232],\n",
              "[     919150/14553],\n",
              "[  -1420541/620928],\n",
              "[   293749/9313920],\n",
              "[     -1407358/147]])"
            ]
          },
          "metadata": {},
          "execution_count": 9
        }
      ]
    },
    {
      "cell_type": "code",
      "source": [
        "Y_ = M * b\n",
        "(Y - Y_).norm()"
      ],
      "metadata": {
        "colab": {
          "base_uri": "https://localhost:8080/",
          "height": 37
        },
        "id": "eKdNIdm2fwHm",
        "outputId": "ce3e1eb7-4358-41f1-8c16-b774b596a846"
      },
      "execution_count": 10,
      "outputs": [
        {
          "output_type": "execute_result",
          "data": {
            "text/latex": "$\\displaystyle 0$",
            "text/plain": [
              "0"
            ]
          },
          "metadata": {},
          "execution_count": 10
        }
      ]
    },
    {
      "cell_type": "markdown",
      "source": [
        "この方法なら，「お詫び」で書いたように，すべて1の列が2列あっても，予測結果は変わりません．"
      ],
      "metadata": {
        "id": "nhL0wQU6h0gH"
      }
    },
    {
      "cell_type": "code",
      "source": [
        "M = Matrix(np.array(X.speed)[:, np.newaxis]**[0, 1, 2, 3, 4, 5, 0])\n",
        "M"
      ],
      "metadata": {
        "colab": {
          "base_uri": "https://localhost:8080/",
          "height": 139
        },
        "id": "LXPYrwotgNio",
        "outputId": "d2e18d1c-d069-44f0-b003-62ca2ade18a0"
      },
      "execution_count": 11,
      "outputs": [
        {
          "output_type": "execute_result",
          "data": {
            "text/latex": "$\\displaystyle \\left[\\begin{matrix}1 & 4 & 16 & 64 & 256 & 1024 & 1\\\\1 & 11 & 121 & 1331 & 14641 & 161051 & 1\\\\1 & 16 & 256 & 4096 & 65536 & 1048576 & 1\\\\1 & 18 & 324 & 5832 & 104976 & 1889568 & 1\\\\1 & 20 & 400 & 8000 & 160000 & 3200000 & 1\\\\1 & 22 & 484 & 10648 & 234256 & 5153632 & 1\\end{matrix}\\right]$",
            "text/plain": [
              "Matrix([\n",
              "[1,  4,  16,    64,    256,    1024, 1],\n",
              "[1, 11, 121,  1331,  14641,  161051, 1],\n",
              "[1, 16, 256,  4096,  65536, 1048576, 1],\n",
              "[1, 18, 324,  5832, 104976, 1889568, 1],\n",
              "[1, 20, 400,  8000, 160000, 3200000, 1],\n",
              "[1, 22, 484, 10648, 234256, 5153632, 1]])"
            ]
          },
          "metadata": {},
          "execution_count": 11
        }
      ]
    },
    {
      "cell_type": "code",
      "source": [
        "b = M.pinv() * Y\n",
        "Y_ = M * b\n",
        "(Y - Y_).norm()"
      ],
      "metadata": {
        "colab": {
          "base_uri": "https://localhost:8080/",
          "height": 37
        },
        "id": "yQRSYGxRiNFO",
        "outputId": "912394aa-4ee9-4fce-aae2-e48b41d8f718"
      },
      "execution_count": 12,
      "outputs": [
        {
          "output_type": "execute_result",
          "data": {
            "text/latex": "$\\displaystyle 0$",
            "text/plain": [
              "0"
            ]
          },
          "metadata": {},
          "execution_count": 12
        }
      ]
    },
    {
      "cell_type": "markdown",
      "source": [
        "左右反転させても同じです．"
      ],
      "metadata": {
        "id": "RELPu7etzRFG"
      }
    },
    {
      "cell_type": "code",
      "source": [
        "M = Matrix(np.array(X.speed)[:, np.newaxis]**[0, 5, 4, 3, 2, 1, 0])\n",
        "M"
      ],
      "metadata": {
        "colab": {
          "base_uri": "https://localhost:8080/",
          "height": 139
        },
        "id": "O9-sSPYZyzv_",
        "outputId": "61985eef-9622-4f23-8412-946bda3c57de"
      },
      "execution_count": 13,
      "outputs": [
        {
          "output_type": "execute_result",
          "data": {
            "text/latex": "$\\displaystyle \\left[\\begin{matrix}1 & 1024 & 256 & 64 & 16 & 4 & 1\\\\1 & 161051 & 14641 & 1331 & 121 & 11 & 1\\\\1 & 1048576 & 65536 & 4096 & 256 & 16 & 1\\\\1 & 1889568 & 104976 & 5832 & 324 & 18 & 1\\\\1 & 3200000 & 160000 & 8000 & 400 & 20 & 1\\\\1 & 5153632 & 234256 & 10648 & 484 & 22 & 1\\end{matrix}\\right]$",
            "text/plain": [
              "Matrix([\n",
              "[1,    1024,    256,    64,  16,  4, 1],\n",
              "[1,  161051,  14641,  1331, 121, 11, 1],\n",
              "[1, 1048576,  65536,  4096, 256, 16, 1],\n",
              "[1, 1889568, 104976,  5832, 324, 18, 1],\n",
              "[1, 3200000, 160000,  8000, 400, 20, 1],\n",
              "[1, 5153632, 234256, 10648, 484, 22, 1]])"
            ]
          },
          "metadata": {},
          "execution_count": 13
        }
      ]
    },
    {
      "cell_type": "code",
      "source": [
        "b = M.pinv() * Y\n",
        "Y_ = M * b\n",
        "(Y - Y_).norm()"
      ],
      "metadata": {
        "colab": {
          "base_uri": "https://localhost:8080/",
          "height": 37
        },
        "id": "BHktXffyzeYT",
        "outputId": "873d9c65-6f54-41d1-df2b-18a243dae34f"
      },
      "execution_count": 14,
      "outputs": [
        {
          "output_type": "execute_result",
          "data": {
            "text/latex": "$\\displaystyle 0$",
            "text/plain": [
              "0"
            ]
          },
          "metadata": {},
          "execution_count": 14
        }
      ]
    },
    {
      "cell_type": "markdown",
      "source": [
        "## 実行環境の確認\n",
        "\n",
        "実行環境は次のように調べられます．掲載しているのは，2022年1月20日にGoogle Colabで実行した結果です．"
      ],
      "metadata": {
        "id": "yVOJZSmsR7fL"
      }
    },
    {
      "cell_type": "code",
      "source": [
        "import sys, numpy, scipy\n",
        "print(sys.version, '\\n\\n')\n",
        "print(numpy.__version__, scipy.__version__, '\\n\\n')\n",
        "scipy.show_config()"
      ],
      "metadata": {
        "id": "_8nFUASpwe7h",
        "colab": {
          "base_uri": "https://localhost:8080/"
        },
        "outputId": "c4b79622-00ae-42b0-c4d0-26ada2f20256"
      },
      "execution_count": 15,
      "outputs": [
        {
          "output_type": "stream",
          "name": "stdout",
          "text": [
            "3.7.12 (default, Sep 10 2021, 00:21:48) \n",
            "[GCC 7.5.0] \n",
            "\n",
            "\n",
            "1.19.5 1.4.1 \n",
            "\n",
            "\n",
            "lapack_mkl_info:\n",
            "  NOT AVAILABLE\n",
            "openblas_lapack_info:\n",
            "    libraries = ['openblas', 'openblas']\n",
            "    library_dirs = ['/usr/local/lib']\n",
            "    language = c\n",
            "    define_macros = [('HAVE_CBLAS', None)]\n",
            "lapack_opt_info:\n",
            "    libraries = ['openblas', 'openblas']\n",
            "    library_dirs = ['/usr/local/lib']\n",
            "    language = c\n",
            "    define_macros = [('HAVE_CBLAS', None)]\n",
            "blas_mkl_info:\n",
            "  NOT AVAILABLE\n",
            "blis_info:\n",
            "  NOT AVAILABLE\n",
            "openblas_info:\n",
            "    libraries = ['openblas', 'openblas']\n",
            "    library_dirs = ['/usr/local/lib']\n",
            "    language = c\n",
            "    define_macros = [('HAVE_CBLAS', None)]\n",
            "blas_opt_info:\n",
            "    libraries = ['openblas', 'openblas']\n",
            "    library_dirs = ['/usr/local/lib']\n",
            "    language = c\n",
            "    define_macros = [('HAVE_CBLAS', None)]\n"
          ]
        }
      ]
    }
  ]
}