{
  "cells": [
    {
      "id": "1e430fbc",
      "cell_type": "markdown",
      "source": [
        "[辻真吾・矢吹太朗『ゼロからはじめるデータサイエンス入門』（講談社, 2021）](https://github.com/taroyabuki/fromzero)"
      ],
      "metadata": {
        "id": "1e430fbc"
      }
    },
    {
      "cell_type": "code",
      "execution_count": null,
      "metadata": {
        "id": "b7f3066a-1a6a-420f-a14f-b6128af18546"
      },
      "outputs": [],
      "source": [
        "# これはRのコードの例です．\n",
        "1 + 1"
      ],
      "id": "b7f3066a-1a6a-420f-a14f-b6128af18546"
    },
    {
      "id": "e29e4d41",
      "cell_type": "markdown",
      "source": [
        "# 1 コンピュータとネットワーク\n",
        "\n",
        "\n"
      ],
      "metadata": {
        "id": "e29e4d41"
      }
    },
    {
      "id": "31ae57f2",
      "cell_type": "markdown",
      "source": [
        "## 1.1 コンピュータの基本操作\n",
        "\n",
        "\n"
      ],
      "metadata": {
        "id": "31ae57f2"
      }
    },
    {
      "id": "976b7c14",
      "cell_type": "markdown",
      "source": [
        "## 1.2 ネットワークの仕組み\n",
        "\n",
        "\n"
      ],
      "metadata": {
        "id": "976b7c14"
      }
    },
    {
      "id": "8d28880d",
      "cell_type": "markdown",
      "source": [
        "# 2 データサイエンスのための環境\n",
        "\n",
        "\n"
      ],
      "metadata": {
        "id": "8d28880d"
      }
    },
    {
      "id": "c9044c1a",
      "cell_type": "markdown",
      "source": [
        "## 2.1 実行環境の選択\n",
        "\n",
        "\n"
      ],
      "metadata": {
        "id": "c9044c1a"
      }
    },
    {
      "id": "e220238c",
      "cell_type": "markdown",
      "source": [
        "## 2.2 クラウド\n",
        "\n",
        "\n"
      ],
      "metadata": {
        "id": "e220238c"
      }
    },
    {
      "id": "6bce9671",
      "cell_type": "markdown",
      "source": [
        "## 2.3 Docker\n",
        "\n",
        "\n"
      ],
      "metadata": {
        "id": "6bce9671"
      }
    },
    {
      "id": "ac551726",
      "cell_type": "markdown",
      "source": [
        "## 2.4 ターミナルの使い方\n",
        "\n",
        "\n"
      ],
      "metadata": {
        "id": "ac551726"
      }
    },
    {
      "id": "875284c8",
      "cell_type": "markdown",
      "source": [
        "## 2.5 RとPython\n",
        "\n",
        "\n"
      ],
      "metadata": {
        "id": "875284c8"
      }
    },
    {
      "id": "b5a56409",
      "cell_type": "markdown",
      "source": [
        "## 2.6 サンプルコードの利用"
      ],
      "metadata": {
        "id": "b5a56409"
      }
    },
    {
      "cell_type": "code",
      "execution_count": null,
      "metadata": {
        "id": "47ae7791-141d-4b05-82f9-1b1895246e85"
      },
      "outputs": [],
      "source": [
        "1 + 1\n",
        "\n",
        "print(1 + 2)\n",
        "\n",
        "1 + 3"
      ],
      "id": "47ae7791-141d-4b05-82f9-1b1895246e85"
    },
    {
      "id": "c3552337",
      "cell_type": "markdown",
      "source": [
        "# 3 RとPython"
      ],
      "metadata": {
        "id": "c3552337"
      }
    },
    {
      "cell_type": "code",
      "execution_count": null,
      "metadata": {
        "id": "3644bfaf-8216-444a-bee4-26292272069c"
      },
      "outputs": [],
      "source": [
        "# Google Colaboratoryの環境設定\n",
        "if (file.exists(\"/content\")) {\n",
        "  options(Ncpus = parallel::detectCores())\n",
        "  installed_packages <- rownames(installed.packages())\n",
        "  packages_to_install <- c(\"furrr\", \"keras\", \"proxy\")\n",
        "  install.packages(setdiff(packages_to_install, installed_packages))\n",
        "  install.packages(c(\"ggplot2\"))\n",
        "}"
      ],
      "id": "3644bfaf-8216-444a-bee4-26292272069c"
    },
    {
      "id": "d77ca992",
      "cell_type": "markdown",
      "source": [
        "## 3.1 入門"
      ],
      "metadata": {
        "id": "d77ca992"
      }
    },
    {
      "cell_type": "code",
      "execution_count": null,
      "metadata": {
        "id": "a4cb5c5f-ea1d-462b-a186-12c49adc7ef8"
      },
      "outputs": [],
      "source": [
        "0x10"
      ],
      "id": "a4cb5c5f-ea1d-462b-a186-12c49adc7ef8"
    },
    {
      "cell_type": "code",
      "execution_count": null,
      "metadata": {
        "id": "68e88555-3399-4892-895a-3b97999c1b52"
      },
      "outputs": [],
      "source": [
        "1.23e5"
      ],
      "id": "68e88555-3399-4892-895a-3b97999c1b52"
    },
    {
      "cell_type": "code",
      "execution_count": null,
      "metadata": {
        "id": "38b58ecb-b445-492d-a6b3-3b04807afc43"
      },
      "outputs": [],
      "source": [
        "2 * 3"
      ],
      "id": "38b58ecb-b445-492d-a6b3-3b04807afc43"
    },
    {
      "cell_type": "code",
      "execution_count": null,
      "metadata": {
        "id": "8105c01e-4ee5-4b25-bd7a-46597f30b5e6"
      },
      "outputs": [],
      "source": [
        "10 / 3"
      ],
      "id": "8105c01e-4ee5-4b25-bd7a-46597f30b5e6"
    },
    {
      "cell_type": "code",
      "execution_count": null,
      "metadata": {
        "id": "17586aeb-7f3e-472a-99cb-496794a2ce97"
      },
      "outputs": [],
      "source": [
        "10 %/% 3 # 商\n",
        "\n",
        "10 %% 3  # 余り"
      ],
      "id": "17586aeb-7f3e-472a-99cb-496794a2ce97"
    },
    {
      "cell_type": "code",
      "execution_count": null,
      "metadata": {
        "id": "a1aa520b-ec6c-4191-9c09-62b32fde7555"
      },
      "outputs": [],
      "source": [
        "x <- 2\n",
        "y <- 3\n",
        "x * y\n",
        "\n",
        "keras::`%<-%`(c(x, y), c(20, 30)) # まとめて名付け\n",
        "x * y"
      ],
      "id": "a1aa520b-ec6c-4191-9c09-62b32fde7555"
    },
    {
      "cell_type": "code",
      "execution_count": null,
      "metadata": {
        "id": "3ecf7571-ac83-41c7-b1e7-309c014bd1c1"
      },
      "outputs": [],
      "source": [
        "x <- 1 + 1\n",
        "# この段階では結果は表示されない\n",
        "\n",
        "x # 変数名を評価する．"
      ],
      "id": "3ecf7571-ac83-41c7-b1e7-309c014bd1c1"
    },
    {
      "cell_type": "code",
      "execution_count": null,
      "metadata": {
        "id": "e931eaab-85a8-466c-9914-91c690125d4f"
      },
      "outputs": [],
      "source": [
        "my_s <- \"abcde\""
      ],
      "id": "e931eaab-85a8-466c-9914-91c690125d4f"
    },
    {
      "cell_type": "code",
      "execution_count": null,
      "metadata": {
        "id": "7648efdf-fe79-4897-a050-4bc4765a24a0"
      },
      "outputs": [],
      "source": [
        "nchar(my_s)"
      ],
      "id": "7648efdf-fe79-4897-a050-4bc4765a24a0"
    },
    {
      "cell_type": "code",
      "execution_count": null,
      "metadata": {
        "id": "9f0c218b-85ca-462a-ae4f-54393f0f6acf"
      },
      "outputs": [],
      "source": [
        "library(tidyverse)\n",
        "str_c(\"This is \", \"a\", \" pen.\")"
      ],
      "id": "9f0c218b-85ca-462a-ae4f-54393f0f6acf"
    },
    {
      "cell_type": "code",
      "execution_count": null,
      "metadata": {
        "id": "8f7b6526-0666-4d74-8938-28f621aabb03"
      },
      "outputs": [],
      "source": [
        "substr(x = my_s, start = 2, stop = 4)"
      ],
      "id": "8f7b6526-0666-4d74-8938-28f621aabb03"
    },
    {
      "cell_type": "code",
      "execution_count": null,
      "metadata": {
        "id": "0d1754ec-ea14-44d8-8634-a93e37f1294e"
      },
      "outputs": [],
      "source": [
        "tmp <- \"%s is %s.\"\n",
        "sprintf(tmp, \"This\", \"a pen\")"
      ],
      "id": "0d1754ec-ea14-44d8-8634-a93e37f1294e"
    },
    {
      "cell_type": "code",
      "execution_count": null,
      "metadata": {
        "id": "0793b050-9953-4f61-ac8e-c79ccad8568b"
      },
      "outputs": [],
      "source": [
        "1 <= 2\n",
        "\n",
        "1 < 0"
      ],
      "id": "0793b050-9953-4f61-ac8e-c79ccad8568b"
    },
    {
      "cell_type": "code",
      "execution_count": null,
      "metadata": {
        "id": "baef2854-d1f7-467a-a0ee-e9766936993d"
      },
      "outputs": [],
      "source": [
        "0.1 + 0.1 + 0.1 == 0.3\n",
        "\n",
        "all.equal(0.1 + 0.1 + 0.1, 0.3)"
      ],
      "id": "baef2854-d1f7-467a-a0ee-e9766936993d"
    },
    {
      "cell_type": "code",
      "execution_count": null,
      "metadata": {
        "id": "0421a10a-14e2-4bc3-bfd8-ebc91653f682"
      },
      "outputs": [],
      "source": [
        "TRUE & FALSE # 論理積（かつ）\n",
        "\n",
        "TRUE | FALSE # 論理和（または）\n",
        "\n",
        "!TRUE        # 否定（でない）"
      ],
      "id": "0421a10a-14e2-4bc3-bfd8-ebc91653f682"
    },
    {
      "cell_type": "code",
      "execution_count": null,
      "metadata": {
        "id": "55a5aeb3-df8b-48c4-a222-47c2d0568435"
      },
      "outputs": [],
      "source": [
        "ifelse(3 < 5, 0, 10)"
      ],
      "id": "55a5aeb3-df8b-48c4-a222-47c2d0568435"
    },
    {
      "cell_type": "code",
      "execution_count": null,
      "metadata": {
        "id": "29f1d8c4-1e5b-4310-8847-404866a9c9fa"
      },
      "outputs": [],
      "source": [
        "getwd()"
      ],
      "id": "29f1d8c4-1e5b-4310-8847-404866a9c9fa"
    },
    {
      "cell_type": "code",
      "execution_count": null,
      "metadata": {
        "id": "1b858e95-d033-4d2a-bc3b-507a55651648"
      },
      "outputs": [],
      "source": [
        "setwd(\"..\")\n",
        "getwd()"
      ],
      "id": "1b858e95-d033-4d2a-bc3b-507a55651648"
    },
    {
      "id": "2716ffd5",
      "cell_type": "markdown",
      "source": [
        "## 3.2 関数"
      ],
      "metadata": {
        "id": "2716ffd5"
      }
    },
    {
      "cell_type": "code",
      "execution_count": null,
      "metadata": {
        "id": "678988d9-19e6-4bd7-9625-879d2e44a224"
      },
      "outputs": [],
      "source": [
        "sqrt(4)"
      ],
      "id": "678988d9-19e6-4bd7-9625-879d2e44a224"
    },
    {
      "cell_type": "code",
      "execution_count": null,
      "metadata": {
        "id": "4b3d46b7-f84c-46e2-a382-8cd4fddda102"
      },
      "outputs": [],
      "source": [
        "log(100, 10)"
      ],
      "id": "4b3d46b7-f84c-46e2-a382-8cd4fddda102"
    },
    {
      "cell_type": "code",
      "execution_count": null,
      "metadata": {
        "id": "a2e679a3-5402-4eef-b26d-d95f5e6a4036"
      },
      "outputs": [],
      "source": [
        "log(100)         # 自然対数\n",
        "# あるいは\n",
        "log(100, exp(1)) # 省略しない場合\n"
      ],
      "id": "a2e679a3-5402-4eef-b26d-d95f5e6a4036"
    },
    {
      "cell_type": "code",
      "execution_count": null,
      "metadata": {
        "id": "fe168aa2-2912-4c13-832f-cfcf73ea378f"
      },
      "outputs": [],
      "source": [
        "log10(100) # 常用対数\n",
        "\n",
        "log2(1024) # 底が2の対数"
      ],
      "id": "fe168aa2-2912-4c13-832f-cfcf73ea378f"
    },
    {
      "cell_type": "code",
      "execution_count": null,
      "metadata": {
        "id": "64f12b2b-4b75-45e8-923c-f4ef30f863f2"
      },
      "outputs": [],
      "source": [
        "library(tidyverse)\n",
        "4 %>% sqrt"
      ],
      "id": "64f12b2b-4b75-45e8-923c-f4ef30f863f2"
    },
    {
      "cell_type": "code",
      "execution_count": null,
      "metadata": {
        "id": "952aa6f4-55e2-4f8e-8aee-3cc482a4454e"
      },
      "outputs": [],
      "source": [
        "exp(log(5))       # 通常の書き方\n",
        "# あるいは\n",
        "5 %>% log %>% exp # パイプを使う書き方\n"
      ],
      "id": "952aa6f4-55e2-4f8e-8aee-3cc482a4454e"
    },
    {
      "cell_type": "code",
      "execution_count": null,
      "metadata": {
        "id": "9ba6f25b-c5d9-4022-91ec-19389e87e8d3"
      },
      "outputs": [],
      "source": [
        "f <- function(a, b) {\n",
        "  a - b\n",
        "}"
      ],
      "id": "9ba6f25b-c5d9-4022-91ec-19389e87e8d3"
    },
    {
      "cell_type": "code",
      "execution_count": null,
      "metadata": {
        "id": "720e63d4-b82b-4eb6-ad92-9f1a531dc9b3"
      },
      "outputs": [],
      "source": [
        "f(3, 5)"
      ],
      "id": "720e63d4-b82b-4eb6-ad92-9f1a531dc9b3"
    },
    {
      "cell_type": "code",
      "execution_count": null,
      "metadata": {
        "id": "486c6367-d4a6-4f15-8d1e-c6ea44452a95"
      },
      "outputs": [],
      "source": [
        "f <- function(a, b = 5) {\n",
        "  a - b\n",
        "}\n",
        "\n",
        "f(3) # f(3, 5)と同じこと"
      ],
      "id": "486c6367-d4a6-4f15-8d1e-c6ea44452a95"
    },
    {
      "cell_type": "code",
      "execution_count": null,
      "metadata": {
        "id": "725ff2e2-8c1a-442a-9b66-10df634867f4"
      },
      "outputs": [],
      "source": [
        "(function(a, b) { a - b })(3, 5)"
      ],
      "id": "725ff2e2-8c1a-442a-9b66-10df634867f4"
    },
    {
      "id": "fe441bf8",
      "cell_type": "markdown",
      "source": [
        "## 3.3 コレクション"
      ],
      "metadata": {
        "id": "fe441bf8"
      }
    },
    {
      "cell_type": "code",
      "execution_count": null,
      "metadata": {
        "id": "a5de96ab-d5f9-445d-9d6a-39ae10327993"
      },
      "outputs": [],
      "source": [
        "x <- c(\"foo\", \"bar\", \"baz\")"
      ],
      "id": "a5de96ab-d5f9-445d-9d6a-39ae10327993"
    },
    {
      "cell_type": "code",
      "execution_count": null,
      "metadata": {
        "id": "25d6d018-4e58-4129-8d7f-fae301015c77"
      },
      "outputs": [],
      "source": [
        "length(x)"
      ],
      "id": "25d6d018-4e58-4129-8d7f-fae301015c77"
    },
    {
      "cell_type": "code",
      "execution_count": null,
      "metadata": {
        "id": "64a2cdd7-b410-4f4a-b182-e934cc32152b"
      },
      "outputs": [],
      "source": [
        "x[2]"
      ],
      "id": "64a2cdd7-b410-4f4a-b182-e934cc32152b"
    },
    {
      "cell_type": "code",
      "execution_count": null,
      "metadata": {
        "id": "7da408c9-b87f-4f24-bf69-d7f8a2e10b4f"
      },
      "outputs": [],
      "source": [
        "x[2] <- \"BAR\"\n",
        "x # 結果の確認\n",
        "\n",
        "x[2] <- \"bar\" # 元に戻す．"
      ],
      "id": "7da408c9-b87f-4f24-bf69-d7f8a2e10b4f"
    },
    {
      "cell_type": "code",
      "execution_count": null,
      "metadata": {
        "id": "5d2da9e0-58b0-4937-b364-251ec44cfc51"
      },
      "outputs": [],
      "source": [
        "x[-2]"
      ],
      "id": "5d2da9e0-58b0-4937-b364-251ec44cfc51"
    },
    {
      "cell_type": "code",
      "execution_count": null,
      "metadata": {
        "id": "26cc1878-d04a-4191-b94a-88039882460c"
      },
      "outputs": [],
      "source": [
        "c(x, \"qux\")"
      ],
      "id": "26cc1878-d04a-4191-b94a-88039882460c"
    },
    {
      "cell_type": "code",
      "execution_count": null,
      "metadata": {
        "id": "75e0ed03-f881-47e2-9beb-6ec74f5d43b9"
      },
      "outputs": [],
      "source": [
        "x <- c(x, \"qux\")\n",
        "x # 結果の確認"
      ],
      "id": "75e0ed03-f881-47e2-9beb-6ec74f5d43b9"
    },
    {
      "cell_type": "code",
      "execution_count": null,
      "metadata": {
        "id": "40cc70a3-fc1f-4c84-8f37-af284c97a69c"
      },
      "outputs": [],
      "source": [
        "1:5"
      ],
      "id": "40cc70a3-fc1f-4c84-8f37-af284c97a69c"
    },
    {
      "cell_type": "code",
      "execution_count": null,
      "metadata": {
        "id": "e94110ef-ebc5-40a6-a796-05836faa44c8"
      },
      "outputs": [],
      "source": [
        "seq(from = 0, to = 10, by = 2)"
      ],
      "id": "e94110ef-ebc5-40a6-a796-05836faa44c8"
    },
    {
      "cell_type": "code",
      "execution_count": null,
      "metadata": {
        "id": "2240dc8f-7441-4b21-a56e-4f76ada1c746"
      },
      "outputs": [],
      "source": [
        "seq(from = 0, to = 1, by = 0.5)"
      ],
      "id": "2240dc8f-7441-4b21-a56e-4f76ada1c746"
    },
    {
      "cell_type": "code",
      "execution_count": null,
      "metadata": {
        "id": "838c5078-fd3e-4172-9214-cf80025af4f5"
      },
      "outputs": [],
      "source": [
        "seq(from = 0, to = 100, length.out = 5)"
      ],
      "id": "838c5078-fd3e-4172-9214-cf80025af4f5"
    },
    {
      "cell_type": "code",
      "execution_count": null,
      "metadata": {
        "id": "6c123409-56de-4bd4-b4f8-6bf63f1e932c"
      },
      "outputs": [],
      "source": [
        "rep(x = 10, times = 5)"
      ],
      "id": "6c123409-56de-4bd4-b4f8-6bf63f1e932c"
    },
    {
      "cell_type": "code",
      "execution_count": null,
      "metadata": {
        "id": "7cadf89d-4d59-40d4-8ae0-224532020c7b"
      },
      "outputs": [],
      "source": [
        "tmp <- c(\"グー\", \"パー\", \"グー\", \"パー\")\n",
        "x <- factor(tmp, levels = c(\"グー\", \"チョキ\", \"パー\"))\n",
        "x"
      ],
      "id": "7cadf89d-4d59-40d4-8ae0-224532020c7b"
    },
    {
      "cell_type": "code",
      "execution_count": null,
      "metadata": {
        "id": "3e5ac5a5-42f8-40eb-9bc0-e2f76a1fa4fe"
      },
      "outputs": [],
      "source": [
        "x <- c(2, 3, 5, 7)\n",
        "\n",
        "x + 10 # 加算\n",
        "\n",
        "x * 10 # 乗算"
      ],
      "id": "3e5ac5a5-42f8-40eb-9bc0-e2f76a1fa4fe"
    },
    {
      "cell_type": "code",
      "execution_count": null,
      "metadata": {
        "id": "9a090986-88a7-409c-80a3-5b4c3bb0dfa6"
      },
      "outputs": [],
      "source": [
        "x <- c(2, 3)\n",
        "sin(x)"
      ],
      "id": "9a090986-88a7-409c-80a3-5b4c3bb0dfa6"
    },
    {
      "cell_type": "code",
      "execution_count": null,
      "metadata": {
        "id": "7b31d842-e09c-4555-b346-bd3dcb7c396d"
      },
      "outputs": [],
      "source": [
        "x <- c(2,  3,   5,    7)\n",
        "y <- c(1, 10, 100, 1000)\n",
        "x + y\n",
        "\n",
        "x * y"
      ],
      "id": "7b31d842-e09c-4555-b346-bd3dcb7c396d"
    },
    {
      "cell_type": "code",
      "execution_count": null,
      "metadata": {
        "id": "6fe51f0c-bf93-4fc2-8c28-0d2aac5dc73a"
      },
      "outputs": [],
      "source": [
        "sum(x * y)"
      ],
      "id": "6fe51f0c-bf93-4fc2-8c28-0d2aac5dc73a"
    },
    {
      "cell_type": "code",
      "execution_count": null,
      "metadata": {
        "id": "b82830f2-bc68-452b-a799-141f524950a5"
      },
      "outputs": [],
      "source": [
        "x <- c(TRUE, FALSE)\n",
        "y <- c(TRUE, TRUE)\n",
        "x & y"
      ],
      "id": "b82830f2-bc68-452b-a799-141f524950a5"
    },
    {
      "cell_type": "code",
      "execution_count": null,
      "metadata": {
        "id": "b3342351-08f3-4ffb-b758-570ae85690a2"
      },
      "outputs": [],
      "source": [
        "u <- c(1, 2, 3)\n",
        "v <- c(1, 2, 3)\n",
        "w <- c(1, 2, 4)\n",
        "\n",
        "identical(u, v) # 全体の比較\n",
        "\n",
        "identical(u, w) # 全体の比較\n",
        "\n",
        "u == v          # 要素ごとの比較\n",
        "\n",
        "u == w          # 要素ごとの比較"
      ],
      "id": "b3342351-08f3-4ffb-b758-570ae85690a2"
    },
    {
      "cell_type": "code",
      "execution_count": null,
      "metadata": {
        "id": "f478c553-6d06-4ca2-b10e-2543167e7679"
      },
      "outputs": [],
      "source": [
        "sum(u == w)  # 同じ要素の数\n",
        "\n",
        "mean(u == w) # 同じ要素の割合"
      ],
      "id": "f478c553-6d06-4ca2-b10e-2543167e7679"
    },
    {
      "cell_type": "code",
      "execution_count": null,
      "metadata": {
        "id": "563c169b-3fdd-44d6-a7c8-0a74123d46a4"
      },
      "outputs": [],
      "source": [
        "x <- list(1, \"two\")"
      ],
      "id": "563c169b-3fdd-44d6-a7c8-0a74123d46a4"
    },
    {
      "cell_type": "code",
      "execution_count": null,
      "metadata": {
        "id": "9039faea-29ee-4e22-82c0-ff8c3fa0921d"
      },
      "outputs": [],
      "source": [
        "x[[2]]"
      ],
      "id": "9039faea-29ee-4e22-82c0-ff8c3fa0921d"
    },
    {
      "cell_type": "code",
      "execution_count": null,
      "metadata": {
        "id": "6bb2319c-f7b7-460b-96f3-277ba0b888a4"
      },
      "outputs": [],
      "source": [
        "x <- list(\"apple\"  = \"りんご\",\n",
        "          \"orange\" = \"みかん\")"
      ],
      "id": "6bb2319c-f7b7-460b-96f3-277ba0b888a4"
    },
    {
      "cell_type": "code",
      "execution_count": null,
      "metadata": {
        "id": "6441d69b-c27a-464a-a27d-3b0597ef213a"
      },
      "outputs": [],
      "source": [
        "x[[\"grape\"]] <- \"ぶどう\""
      ],
      "id": "6441d69b-c27a-464a-a27d-3b0597ef213a"
    },
    {
      "cell_type": "code",
      "execution_count": null,
      "metadata": {
        "id": "2f9597c7-0bd6-43ea-a6e8-c5a24efbb23f"
      },
      "outputs": [],
      "source": [
        "x$apple\n",
        "# あるいは\n",
        "x$\"apple\"\n",
        "# あるいは\n",
        "x[[\"apple\"]]\n",
        "# あるいは\n",
        "tmp <- \"apple\"\n",
        "x[[tmp]]\n"
      ],
      "id": "2f9597c7-0bd6-43ea-a6e8-c5a24efbb23f"
    },
    {
      "cell_type": "code",
      "execution_count": null,
      "metadata": {
        "id": "380bb472-9720-4fc7-97c6-75163e5e81cf"
      },
      "outputs": [],
      "source": [
        "x <- c(\"foo\", \"bar\", \"baz\")\n",
        "y <- x\n",
        "y[2] <- \"BAR\" # yを更新する．\n",
        "y\n",
        "\n",
        "x             # xは変わらない．"
      ],
      "id": "380bb472-9720-4fc7-97c6-75163e5e81cf"
    },
    {
      "id": "13c55632",
      "cell_type": "markdown",
      "source": [
        "## 3.4 データフレーム"
      ],
      "metadata": {
        "id": "13c55632"
      }
    },
    {
      "cell_type": "code",
      "execution_count": null,
      "metadata": {
        "id": "fcbaeeaf-047a-49d5-acac-cdfd472e4086"
      },
      "outputs": [],
      "source": [
        "library(tidyverse)"
      ],
      "id": "fcbaeeaf-047a-49d5-acac-cdfd472e4086"
    },
    {
      "cell_type": "code",
      "execution_count": null,
      "metadata": {
        "id": "bbc6b602-4df8-481c-a8d1-3c52a433deb4"
      },
      "outputs": [],
      "source": [
        "my_df <- data.frame(\n",
        "  name    = c(\"A\", \"B\", \"C\", \"D\"),\n",
        "  english = c( 60,  90,  70,  90),\n",
        "  math    = c( 70,  80,  90, 100),\n",
        "  gender  = c(\"f\", \"m\", \"m\", \"f\"))"
      ],
      "id": "bbc6b602-4df8-481c-a8d1-3c52a433deb4"
    },
    {
      "cell_type": "code",
      "execution_count": null,
      "metadata": {
        "id": "193f4492-a399-4f39-832b-6637bce85a82"
      },
      "outputs": [],
      "source": [
        "my_df <- tribble(\n",
        "  ~name, ~english, ~math, ~gender,\n",
        "  \"A\",         60,    70,     \"f\",\n",
        "  \"B\",         90,    80,     \"m\",\n",
        "  \"C\",         70,    90,     \"m\",\n",
        "  \"D\",         90,   100,     \"f\")"
      ],
      "id": "193f4492-a399-4f39-832b-6637bce85a82"
    },
    {
      "cell_type": "code",
      "execution_count": null,
      "metadata": {
        "id": "c446aade-dadf-4c4a-86df-72d3f4a6df7d"
      },
      "outputs": [],
      "source": [
        "head(my_df)\n",
        "# 結果は割愛"
      ],
      "id": "c446aade-dadf-4c4a-86df-72d3f4a6df7d"
    },
    {
      "cell_type": "code",
      "execution_count": null,
      "metadata": {
        "id": "1e652924-fdf6-4a62-add2-2a877a57aa3c"
      },
      "outputs": [],
      "source": [
        "dim(my_df)  # 行数と列数\n",
        "\n",
        "nrow(my_df) # 行数\n",
        "\n",
        "ncol(my_df) # 列数"
      ],
      "id": "1e652924-fdf6-4a62-add2-2a877a57aa3c"
    },
    {
      "cell_type": "code",
      "execution_count": null,
      "metadata": {
        "id": "83915c8f-1e0a-46cf-8827-ee4f7acb74e1"
      },
      "outputs": [],
      "source": [
        "my_df2 <- expand.grid(\n",
        "  X = c(1, 2, 3),\n",
        "  Y = c(10, 100))\n",
        "my_df2"
      ],
      "id": "83915c8f-1e0a-46cf-8827-ee4f7acb74e1"
    },
    {
      "cell_type": "code",
      "execution_count": null,
      "metadata": {
        "id": "5c76647a-579f-400f-a2da-404347abecaa"
      },
      "outputs": [],
      "source": [
        "colnames(my_df2)"
      ],
      "id": "5c76647a-579f-400f-a2da-404347abecaa"
    },
    {
      "cell_type": "code",
      "execution_count": null,
      "metadata": {
        "id": "472bfb25-9481-459b-a88d-30a5065b24b1"
      },
      "outputs": [],
      "source": [
        "colnames(my_df2) <- c(\"P\", \"Q\")\n",
        "my_df2\n",
        "# 以下省略"
      ],
      "id": "472bfb25-9481-459b-a88d-30a5065b24b1"
    },
    {
      "cell_type": "code",
      "execution_count": null,
      "metadata": {
        "id": "27b147fe-5228-4248-89c5-91617e32c824"
      },
      "outputs": [],
      "source": [
        "row.names(my_df)"
      ],
      "id": "27b147fe-5228-4248-89c5-91617e32c824"
    },
    {
      "cell_type": "code",
      "execution_count": null,
      "metadata": {
        "id": "2a910ed8-d3e9-417f-b5fb-1789a39d6eef"
      },
      "outputs": [],
      "source": [
        "row.names(my_df2) <-\n",
        "  c(\"a\", \"b\", \"c\", \"d\", \"e\", \"f\")\n",
        "my_df2\n",
        "# 以下省略"
      ],
      "id": "2a910ed8-d3e9-417f-b5fb-1789a39d6eef"
    },
    {
      "cell_type": "code",
      "execution_count": null,
      "metadata": {
        "id": "4e7658cf-8777-41af-bf65-7e59a7f76263"
      },
      "outputs": [],
      "source": [
        "my_df3 <- data.frame(\n",
        "  english =   c( 60,  90,  70,  90),\n",
        "  math    =   c( 70,  80,  90, 100),\n",
        "  gender  =   c(\"f\", \"m\", \"m\", \"f\"),\n",
        "  row.names = c(\"A\", \"B\", \"C\", \"D\"))\n",
        "my_df3"
      ],
      "id": "4e7658cf-8777-41af-bf65-7e59a7f76263"
    },
    {
      "cell_type": "code",
      "execution_count": null,
      "metadata": {
        "id": "dc5925d2-9df6-4085-ae3a-a3609bff3d01"
      },
      "outputs": [],
      "source": [
        "tmp <- data.frame(\n",
        "  name    = \"E\",\n",
        "  english =  80,\n",
        "  math    =  80,\n",
        "  gender  = \"m\")\n",
        "my_df2 <- rbind(my_df, tmp)"
      ],
      "id": "dc5925d2-9df6-4085-ae3a-a3609bff3d01"
    },
    {
      "cell_type": "code",
      "execution_count": null,
      "metadata": {
        "id": "0f7dcf7b-abe0-46a1-a833-ecbbb4f4a80a"
      },
      "outputs": [],
      "source": [
        "my_df2 <- my_df %>%\n",
        "  mutate(id = c(1, 2, 3, 4))"
      ],
      "id": "0f7dcf7b-abe0-46a1-a833-ecbbb4f4a80a"
    },
    {
      "cell_type": "code",
      "execution_count": null,
      "metadata": {
        "id": "384b15be-8118-42d0-bf85-54e4f1c91423"
      },
      "outputs": [],
      "source": [
        "my_df3 <- my_df               # コピー\n",
        "my_df3[\"id\"] <- c(1, 2, 3, 4) # 更新\n",
        "my_df3 # 結果の確認（割愛）"
      ],
      "id": "384b15be-8118-42d0-bf85-54e4f1c91423"
    },
    {
      "cell_type": "code",
      "execution_count": null,
      "metadata": {
        "id": "95aa6978-9a1b-4730-8d70-f3bf2e4a3684"
      },
      "outputs": [],
      "source": [
        "my_df[1, 2]"
      ],
      "id": "95aa6978-9a1b-4730-8d70-f3bf2e4a3684"
    },
    {
      "cell_type": "code",
      "execution_count": null,
      "metadata": {
        "id": "e3bd9373-1213-4beb-9205-b8394306fbf2"
      },
      "outputs": [],
      "source": [
        "x <- my_df[, 2]\n",
        "# あるいは\n",
        "x <- my_df$english\n",
        "# あるいは\n",
        "x <- my_df$\"english\"\n",
        "# あるいは\n",
        "x <- my_df[[\"english\"]]\n",
        "# あるいは\n",
        "tmp <- \"english\"\n",
        "x <- my_df[[tmp]]\n",
        "\n",
        "x # 結果の確認（割愛）"
      ],
      "id": "e3bd9373-1213-4beb-9205-b8394306fbf2"
    },
    {
      "cell_type": "code",
      "execution_count": null,
      "metadata": {
        "id": "1727fc4f-ba74-46f1-80fd-96b1d6ca5821"
      },
      "outputs": [],
      "source": [
        "x <- my_df %>% select(name, math)"
      ],
      "id": "1727fc4f-ba74-46f1-80fd-96b1d6ca5821"
    },
    {
      "cell_type": "code",
      "execution_count": null,
      "metadata": {
        "id": "4d889ff7-1ee2-48af-b9a9-1075ad214320"
      },
      "outputs": [],
      "source": [
        "x <- my_df[, c(1, 3)]"
      ],
      "id": "4d889ff7-1ee2-48af-b9a9-1075ad214320"
    },
    {
      "cell_type": "code",
      "execution_count": null,
      "metadata": {
        "id": "5af22dbf-f5e6-4ce3-97e4-b773a8447006"
      },
      "outputs": [],
      "source": [
        "x <- my_df %>%\n",
        "  select(-c(english, gender))\n",
        "# あるいは\n",
        "x <- my_df[, -c(2, 4)]"
      ],
      "id": "5af22dbf-f5e6-4ce3-97e4-b773a8447006"
    },
    {
      "cell_type": "code",
      "execution_count": null,
      "metadata": {
        "id": "07d0e01f-081d-4b1a-b906-4ccde0ff275e"
      },
      "outputs": [],
      "source": [
        "x <- my_df[c(1, 3), ]"
      ],
      "id": "07d0e01f-081d-4b1a-b906-4ccde0ff275e"
    },
    {
      "cell_type": "code",
      "execution_count": null,
      "metadata": {
        "id": "9dbd860b-e369-42d6-b59c-67e8a57851d5"
      },
      "outputs": [],
      "source": [
        "x <- my_df[-c(2, 4), ]"
      ],
      "id": "9dbd860b-e369-42d6-b59c-67e8a57851d5"
    },
    {
      "cell_type": "code",
      "execution_count": null,
      "metadata": {
        "id": "61c26f4c-77d9-48ad-9916-b87ce0e9c815"
      },
      "outputs": [],
      "source": [
        "x <- my_df[my_df$gender == \"m\", ]\n",
        "# あるいは\n",
        "x <- my_df %>% filter(gender == \"m\")"
      ],
      "id": "61c26f4c-77d9-48ad-9916-b87ce0e9c815"
    },
    {
      "cell_type": "code",
      "execution_count": null,
      "metadata": {
        "id": "7261d736-647f-482f-b74a-32f3ec43df4f"
      },
      "outputs": [],
      "source": [
        "x <- my_df[my_df$english > 80 & my_df$gender == \"m\", ]\n",
        "# あるいは\n",
        "x <- my_df %>% filter(english > 80 & gender == \"m\")"
      ],
      "id": "7261d736-647f-482f-b74a-32f3ec43df4f"
    },
    {
      "cell_type": "code",
      "execution_count": null,
      "metadata": {
        "id": "72c5607c-dbb8-47f1-bf85-7a1b07fda291"
      },
      "outputs": [],
      "source": [
        "x <- my_df[my_df$english == max(my_df$english), ]\n",
        "# あるいは\n",
        "x <- my_df %>% filter(english == max(my_df$english))"
      ],
      "id": "72c5607c-dbb8-47f1-bf85-7a1b07fda291"
    },
    {
      "cell_type": "code",
      "execution_count": null,
      "metadata": {
        "id": "80b7d0cf-5369-446b-b59a-3ca1a9afc59f"
      },
      "outputs": [],
      "source": [
        "my_df2 <- my_df # コピー\n",
        "my_df2[my_df$gender == \"m\", ]$gender <- \"M\""
      ],
      "id": "80b7d0cf-5369-446b-b59a-3ca1a9afc59f"
    },
    {
      "cell_type": "code",
      "execution_count": null,
      "metadata": {
        "id": "b8eaa49a-1a22-4944-bc74-68d8e7344d12"
      },
      "outputs": [],
      "source": [
        "my_df2"
      ],
      "id": "b8eaa49a-1a22-4944-bc74-68d8e7344d12"
    },
    {
      "cell_type": "code",
      "execution_count": null,
      "metadata": {
        "id": "3a18142f-8217-4553-930f-0fc22b4f2d58"
      },
      "outputs": [],
      "source": [
        "x <- my_df %>% arrange(english)"
      ],
      "id": "3a18142f-8217-4553-930f-0fc22b4f2d58"
    },
    {
      "cell_type": "code",
      "execution_count": null,
      "metadata": {
        "id": "6cc8b353-193e-487f-a9ad-a74bf22a3a11"
      },
      "outputs": [],
      "source": [
        "x <- my_df %>% arrange(-english)"
      ],
      "id": "6cc8b353-193e-487f-a9ad-a74bf22a3a11"
    },
    {
      "cell_type": "code",
      "execution_count": null,
      "metadata": {
        "id": "e9aaff4e-f994-4bef-96f5-8714bc67a610"
      },
      "outputs": [],
      "source": [
        "x <- c(2, 3, 5, 7, 11, 13, 17, 19, 23,\n",
        "       29, 31, 37)\n",
        "A <- matrix(\n",
        "  data = x,     # 1次元データ\n",
        "  nrow = 3,     # 行数\n",
        "  byrow = TRUE) # 行ごとの生成\n",
        "A"
      ],
      "id": "e9aaff4e-f994-4bef-96f5-8714bc67a610"
    },
    {
      "cell_type": "code",
      "execution_count": null,
      "metadata": {
        "id": "57a5f857-9f9c-48f0-9fae-3661a494c480"
      },
      "outputs": [],
      "source": [
        "A <- my_df[, c(2, 3)] %>% as.matrix\n",
        "A"
      ],
      "id": "57a5f857-9f9c-48f0-9fae-3661a494c480"
    },
    {
      "cell_type": "code",
      "execution_count": null,
      "metadata": {
        "id": "ef6cb8f4-efdc-4fd4-a966-eac19c2c9fda"
      },
      "outputs": [],
      "source": [
        "as.data.frame(A)"
      ],
      "id": "ef6cb8f4-efdc-4fd4-a966-eac19c2c9fda"
    },
    {
      "cell_type": "code",
      "execution_count": null,
      "metadata": {
        "id": "5bd8b3a5-7c43-4e3d-a211-3ba0432e20ec"
      },
      "outputs": [],
      "source": [
        "t(A)"
      ],
      "id": "5bd8b3a5-7c43-4e3d-a211-3ba0432e20ec"
    },
    {
      "cell_type": "code",
      "execution_count": null,
      "metadata": {
        "id": "9aee32f1-2940-49c2-b0c3-934d6a37b8fa"
      },
      "outputs": [],
      "source": [
        "t(A) %*% A"
      ],
      "id": "9aee32f1-2940-49c2-b0c3-934d6a37b8fa"
    },
    {
      "cell_type": "code",
      "execution_count": null,
      "metadata": {
        "id": "86a061c0-e505-41cf-a59e-25792ef8a4f5"
      },
      "outputs": [],
      "source": [
        "my_wider <- data.frame(\n",
        "  day = c(25, 26, 27),\n",
        "  min = c(20, 21, 15),\n",
        "  max = c(24, 27, 21))"
      ],
      "id": "86a061c0-e505-41cf-a59e-25792ef8a4f5"
    },
    {
      "cell_type": "code",
      "execution_count": null,
      "metadata": {
        "id": "e5b165d4-a37b-470f-b2a4-d3d1075e070f"
      },
      "outputs": [],
      "source": [
        "my_longer <- my_wider %>%\n",
        "  pivot_longer(-day)\n",
        "my_longer"
      ],
      "id": "e5b165d4-a37b-470f-b2a4-d3d1075e070f"
    },
    {
      "cell_type": "code",
      "execution_count": null,
      "metadata": {
        "id": "2332434e-5b8d-4ebb-9429-aa335d0c8935"
      },
      "outputs": [],
      "source": [
        "my_longer %>% pivot_wider()"
      ],
      "id": "2332434e-5b8d-4ebb-9429-aa335d0c8935"
    },
    {
      "cell_type": "code",
      "execution_count": null,
      "metadata": {
        "id": "dadf059e-f50f-40d5-a8f1-065c8e12015a"
      },
      "outputs": [],
      "source": [
        "my_longer %>%\n",
        "  ggplot(aes(x = day, y = value,\n",
        "             color = name)) +\n",
        "  geom_point() +\n",
        "  geom_line() +\n",
        "  ylab(\"temperature\") + # y軸ラベル\n",
        "  scale_x_continuous(\n",
        "    breaks = my_longer$day) # x軸目盛り"
      ],
      "id": "dadf059e-f50f-40d5-a8f1-065c8e12015a"
    },
    {
      "id": "ab6868ae",
      "cell_type": "markdown",
      "source": [
        "## 3.5 1次元データの（非）類似度"
      ],
      "metadata": {
        "id": "ab6868ae"
      }
    },
    {
      "cell_type": "code",
      "execution_count": null,
      "metadata": {
        "id": "188eb74c-ba9a-49dc-a0f4-fc71e31a1677"
      },
      "outputs": [],
      "source": [
        "A <- c(3,   4,  5)\n",
        "B <- c(3,   4, 29)\n",
        "C <- c(9, -18,  8)\n",
        "AB <- B - A\n",
        "AC <- C - A\n",
        "\n",
        "sum(AB^2)^0.5\n",
        "\n",
        "sum(AC^2)^0.5"
      ],
      "id": "188eb74c-ba9a-49dc-a0f4-fc71e31a1677"
    },
    {
      "cell_type": "code",
      "execution_count": null,
      "metadata": {
        "id": "715869ad-2159-4982-a02d-c40452306986"
      },
      "outputs": [],
      "source": [
        "sum(abs(AB))\n",
        "\n",
        "sum(abs(AC))"
      ],
      "id": "715869ad-2159-4982-a02d-c40452306986"
    },
    {
      "cell_type": "code",
      "execution_count": null,
      "metadata": {
        "id": "349e1b70-3b72-45c0-84be-f6b705d811ac"
      },
      "outputs": [],
      "source": [
        "sum(A * B) /\n",
        "  sum(A * A)^0.5 / sum(B * B)^0.5\n",
        "\n",
        "sum(A * C) /\n",
        "  sum(A * A)^0.5 / sum(C * C)^0.5"
      ],
      "id": "349e1b70-3b72-45c0-84be-f6b705d811ac"
    },
    {
      "cell_type": "code",
      "execution_count": null,
      "metadata": {
        "id": "9270253c-c804-44a4-98bb-2a1dca751d52"
      },
      "outputs": [],
      "source": [
        "cor(A, B)\n",
        "\n",
        "cor(A, C)"
      ],
      "id": "9270253c-c804-44a4-98bb-2a1dca751d52"
    },
    {
      "cell_type": "code",
      "execution_count": null,
      "metadata": {
        "id": "7853bf2d-fac8-47f8-9a08-6b1d9e1ca411"
      },
      "outputs": [],
      "source": [
        "library(tidyverse)\n",
        "\n",
        "\n",
        "\n",
        "my_df <- data.frame(\n",
        "  x = c(3,  3,   9),\n",
        "  y = c(4,  4, -18),\n",
        "  z = c(5, 29,   8),\n",
        "  row.names = c(\"A\", \"B\", \"C\"))\n",
        "\n",
        "# ユークリッド距離\n",
        "my_df %>% proxy::dist(\"Euclidean\")\n",
        "\n",
        "\n",
        "# マンハッタン距離\n",
        "my_df %>% proxy::dist(\"Manhattan\")\n",
        "\n",
        "\n",
        "# コサイン類似度\n",
        "my_df %>% proxy::simil(\"cosine\")\n",
        "\n",
        "\n",
        "# 相関係数\n",
        "my_df %>% proxy::simil(\"correlation\")"
      ],
      "id": "7853bf2d-fac8-47f8-9a08-6b1d9e1ca411"
    },
    {
      "id": "faef4c83",
      "cell_type": "markdown",
      "source": [
        "## 3.6 Rのパッケージ，Pythonのモジュール"
      ],
      "metadata": {
        "id": "faef4c83"
      }
    },
    {
      "cell_type": "code",
      "execution_count": null,
      "metadata": {
        "id": "6b92c3c8-d198-4a98-a27c-fac08b9eba4a"
      },
      "outputs": [],
      "source": [
        "library(tidyverse)"
      ],
      "id": "6b92c3c8-d198-4a98-a27c-fac08b9eba4a"
    },
    {
      "id": "35103c17",
      "cell_type": "markdown",
      "source": [
        "## 3.7 反復処理"
      ],
      "metadata": {
        "id": "35103c17"
      }
    },
    {
      "cell_type": "code",
      "execution_count": null,
      "metadata": {
        "id": "f8a04b64-77c9-45b3-97d7-4c8104bbc46c"
      },
      "outputs": [],
      "source": [
        "library(tidyverse)"
      ],
      "id": "f8a04b64-77c9-45b3-97d7-4c8104bbc46c"
    },
    {
      "cell_type": "code",
      "execution_count": null,
      "metadata": {
        "id": "322ea253-0c79-46b3-aac5-93fffb957a78"
      },
      "outputs": [],
      "source": [
        "f1 <- function(x) {\n",
        "  tmp <- runif(x)\n",
        "  mean(tmp)\n",
        "}\n",
        "\n",
        "f1(10)           # 動作確認"
      ],
      "id": "322ea253-0c79-46b3-aac5-93fffb957a78"
    },
    {
      "cell_type": "code",
      "execution_count": null,
      "metadata": {
        "id": "c10d5333-85de-4b8e-8b0f-9d53432b405f"
      },
      "outputs": [],
      "source": [
        "replicate(n = 3, expr = f1(10))"
      ],
      "id": "c10d5333-85de-4b8e-8b0f-9d53432b405f"
    },
    {
      "cell_type": "code",
      "execution_count": null,
      "metadata": {
        "id": "486cd9a8-27e6-4bd1-b1ec-cdaf0cc0cd8b"
      },
      "outputs": [],
      "source": [
        "rep(x = f1(10), times = 3)"
      ],
      "id": "486cd9a8-27e6-4bd1-b1ec-cdaf0cc0cd8b"
    },
    {
      "cell_type": "code",
      "execution_count": null,
      "metadata": {
        "id": "5b023da1-f82e-4b7a-a151-5f0bb2764e65"
      },
      "outputs": [],
      "source": [
        "v <- c(5, 10, 100)\n",
        "v %>% map_dbl(f1)"
      ],
      "id": "5b023da1-f82e-4b7a-a151-5f0bb2764e65"
    },
    {
      "cell_type": "code",
      "execution_count": null,
      "metadata": {
        "id": "82b69452-b8b7-401a-bfde-a4aae4c32478"
      },
      "outputs": [],
      "source": [
        "rep(x = 10, times = 3) %>% map_dbl(f1)\n",
        "# 結果は割愛"
      ],
      "id": "82b69452-b8b7-401a-bfde-a4aae4c32478"
    },
    {
      "cell_type": "code",
      "execution_count": null,
      "metadata": {
        "id": "a9d591f2-22c9-4830-8fb2-447b1ab3d3fb"
      },
      "outputs": [],
      "source": [
        "f2 <- function(n) {\n",
        "  tmp <- runif(n)\n",
        "  list(x = n,\n",
        "       p = mean(tmp),\n",
        "       q = sd(tmp))\n",
        "}\n",
        "\n",
        "f2(10) # 動作確認"
      ],
      "id": "a9d591f2-22c9-4830-8fb2-447b1ab3d3fb"
    },
    {
      "cell_type": "code",
      "execution_count": null,
      "metadata": {
        "id": "399a4c09-4878-497c-b91d-f7da11e7241b"
      },
      "outputs": [],
      "source": [
        "v <- c(5, 10, 100)\n",
        "v %>% map_dfr(f2)"
      ],
      "id": "399a4c09-4878-497c-b91d-f7da11e7241b"
    },
    {
      "cell_type": "code",
      "execution_count": null,
      "metadata": {
        "id": "7dd59b18-0086-4afc-adf6-f51d44f4221c"
      },
      "outputs": [],
      "source": [
        "f3 <- function(x, y) {\n",
        "  tmp <- runif(x, min = 1,\n",
        "                  max = y + 1) %>%\n",
        "    as.integer\n",
        "  list(x = x,\n",
        "       y = y,\n",
        "       p = mean(tmp),\n",
        "       q = sd(tmp))\n",
        "}\n",
        "\n",
        "f3(x = 10, y = 6) # 動作確認"
      ],
      "id": "7dd59b18-0086-4afc-adf6-f51d44f4221c"
    },
    {
      "cell_type": "code",
      "execution_count": null,
      "metadata": {
        "id": "0cdb88f6-ce49-4565-b415-9c91f64f5984"
      },
      "outputs": [],
      "source": [
        "my_df <- data.frame(\n",
        "  x = c(5, 10, 100,  5, 10, 100),\n",
        "  y = c(6,  6,   6, 12, 12,  12))\n",
        "\n",
        "my_df %>% pmap_dfr(f3)"
      ],
      "id": "0cdb88f6-ce49-4565-b415-9c91f64f5984"
    },
    {
      "cell_type": "code",
      "execution_count": null,
      "metadata": {
        "id": "2a4505c7-2240-43ac-9bca-b44ed1a7c388"
      },
      "outputs": [],
      "source": [
        "library(furrr)\n",
        "plan(multisession) # 準備\n",
        "\n",
        "v <- c(5, 10, 100)\n",
        "v %>% future_map_dbl(f1, .options =\n",
        "  furrr_options(seed = TRUE))\n",
        "# 結果は割愛"
      ],
      "id": "2a4505c7-2240-43ac-9bca-b44ed1a7c388"
    },
    {
      "id": "6e7f8d23",
      "cell_type": "markdown",
      "source": [
        "## 3.8 その他"
      ],
      "metadata": {
        "id": "6e7f8d23"
      }
    },
    {
      "cell_type": "code",
      "execution_count": null,
      "metadata": {
        "id": "289deda5-01b7-4089-af87-6ed456cabaf0"
      },
      "outputs": [],
      "source": [
        "x <- 123\n",
        "typeof(x)"
      ],
      "id": "289deda5-01b7-4089-af87-6ed456cabaf0"
    },
    {
      "cell_type": "code",
      "execution_count": null,
      "metadata": {
        "id": "e460c864-27b1-497a-979d-02665c1c3091"
      },
      "outputs": [],
      "source": [
        "?log\n",
        "# あるいは\n",
        "help(log)"
      ],
      "id": "e460c864-27b1-497a-979d-02665c1c3091"
    },
    {
      "cell_type": "code",
      "execution_count": null,
      "metadata": {
        "id": "a0a17dd2-b882-4270-bc40-4b89811a716a"
      },
      "outputs": [],
      "source": [
        "v <- c(1, NA, 3)\n",
        "v"
      ],
      "id": "a0a17dd2-b882-4270-bc40-4b89811a716a"
    },
    {
      "cell_type": "code",
      "execution_count": null,
      "metadata": {
        "id": "51fc9d82-04b6-439e-89dd-e4325a8df2e6"
      },
      "outputs": [],
      "source": [
        "is.na(v[2])\n",
        "\n",
        "v[2] == NA # 誤り"
      ],
      "id": "51fc9d82-04b6-439e-89dd-e4325a8df2e6"
    },
    {
      "id": "ab1aca33",
      "cell_type": "markdown",
      "source": [
        "# 4 統計入門"
      ],
      "metadata": {
        "id": "ab1aca33"
      }
    },
    {
      "cell_type": "code",
      "execution_count": null,
      "metadata": {
        "id": "4ac9b825-a5bc-4616-8f30-59736884d415"
      },
      "outputs": [],
      "source": [
        "# Google Colaboratoryの環境設定\n",
        "if (file.exists(\"/content\")) {\n",
        "  options(Ncpus = parallel::detectCores())\n",
        "  installed_packages <- rownames(installed.packages())\n",
        "  packages_to_install <- c(\"exactci\", \"ggmosaic\", \"pastecs\", \"psych\", \"vcd\")\n",
        "  install.packages(setdiff(packages_to_install, installed_packages))\n",
        "}"
      ],
      "id": "4ac9b825-a5bc-4616-8f30-59736884d415"
    },
    {
      "id": "ed7d6561",
      "cell_type": "markdown",
      "source": [
        "## 4.1 記述統計"
      ],
      "metadata": {
        "id": "ed7d6561"
      }
    },
    {
      "cell_type": "code",
      "execution_count": null,
      "metadata": {
        "id": "beeefb4c-a1ae-4502-8b35-2f7b09800ba4"
      },
      "outputs": [],
      "source": [
        "x <- c(165, 170, 175, 180, 185)\n",
        "mean(x) # 平均"
      ],
      "id": "beeefb4c-a1ae-4502-8b35-2f7b09800ba4"
    },
    {
      "cell_type": "code",
      "execution_count": null,
      "metadata": {
        "id": "1836f64f-2711-45b9-93ef-b5e5433806c3"
      },
      "outputs": [],
      "source": [
        "n <- length(x) # サンプルサイズ\n",
        "sum(x) / n"
      ],
      "id": "1836f64f-2711-45b9-93ef-b5e5433806c3"
    },
    {
      "cell_type": "code",
      "execution_count": null,
      "metadata": {
        "id": "dff73f28-9653-4227-9f6f-e0863b02758f"
      },
      "outputs": [],
      "source": [
        "y <- c(173, 174, 175, 176, 177)\n",
        "mean(y)"
      ],
      "id": "dff73f28-9653-4227-9f6f-e0863b02758f"
    },
    {
      "cell_type": "code",
      "execution_count": null,
      "metadata": {
        "id": "eb3d74ad-61f9-45ca-a5c1-750b05a77800"
      },
      "outputs": [],
      "source": [
        "var(x) # xの分散\n",
        "\n",
        "var(y) # yの分散"
      ],
      "id": "eb3d74ad-61f9-45ca-a5c1-750b05a77800"
    },
    {
      "cell_type": "code",
      "execution_count": null,
      "metadata": {
        "id": "596533f1-4b40-4c90-b115-a1952c400827"
      },
      "outputs": [],
      "source": [
        "sum((x - mean(x))^2) / (n - 1)"
      ],
      "id": "596533f1-4b40-4c90-b115-a1952c400827"
    },
    {
      "cell_type": "code",
      "execution_count": null,
      "metadata": {
        "id": "63ad097e-dc62-4fae-b29a-5a2b61b3a75a"
      },
      "outputs": [],
      "source": [
        "sd(x) # xの標準偏差\n",
        "\n",
        "sd(y) # yの標準偏差"
      ],
      "id": "63ad097e-dc62-4fae-b29a-5a2b61b3a75a"
    },
    {
      "cell_type": "code",
      "execution_count": null,
      "metadata": {
        "id": "c06e57ee-6531-44a3-955e-dba26f9073c0"
      },
      "outputs": [],
      "source": [
        "var(x)**0.5 # xの標準偏差"
      ],
      "id": "c06e57ee-6531-44a3-955e-dba26f9073c0"
    },
    {
      "cell_type": "code",
      "execution_count": null,
      "metadata": {
        "id": "894e6554-a14e-431e-9f99-997a5d73c447"
      },
      "outputs": [],
      "source": [
        "psych::describe(x)\n",
        "\n",
        "# あるいは\n",
        "\n",
        "pastecs::stat.desc(x)"
      ],
      "id": "894e6554-a14e-431e-9f99-997a5d73c447"
    },
    {
      "cell_type": "code",
      "execution_count": null,
      "metadata": {
        "id": "0c752c7f-e6d8-4e22-bce2-7cd432047aa8"
      },
      "outputs": [],
      "source": [
        "quantile(x)"
      ],
      "id": "0c752c7f-e6d8-4e22-bce2-7cd432047aa8"
    },
    {
      "cell_type": "code",
      "execution_count": null,
      "metadata": {
        "id": "2af816e8-c0f7-4b9d-b4f5-a575e7b8803b"
      },
      "outputs": [],
      "source": [
        "x <- c(165, 170, 175, 180, 185)\n",
        "\n",
        "var(x)                # 不偏分散\n",
        "\n",
        "mean((x - mean(x))^2) # 標本分散\n",
        "# あるいは\n",
        "n <- length(x)\n",
        "var(x) * (n - 1) / n  # 標本分散"
      ],
      "id": "2af816e8-c0f7-4b9d-b4f5-a575e7b8803b"
    },
    {
      "cell_type": "code",
      "execution_count": null,
      "metadata": {
        "id": "93784f0c-2fe3-46dd-89d2-9227a029d3fc"
      },
      "outputs": [],
      "source": [
        "sd(x)                     # √不偏分散\n",
        "\n",
        "mean((x - mean(x))^2)^0.5 # √標本分散\n",
        "# あるいは\n",
        "sd(x) * sqrt((n - 1) / n) # √標本分散"
      ],
      "id": "93784f0c-2fe3-46dd-89d2-9227a029d3fc"
    },
    {
      "cell_type": "code",
      "execution_count": null,
      "metadata": {
        "id": "36ee9470-868d-46ae-9703-2620bcf8ca3c"
      },
      "outputs": [],
      "source": [
        "sd(x) / length(x)**0.5"
      ],
      "id": "36ee9470-868d-46ae-9703-2620bcf8ca3c"
    },
    {
      "cell_type": "code",
      "execution_count": null,
      "metadata": {
        "id": "f0bb78e4-37b3-4481-b1cb-3b59ffbb59f6"
      },
      "outputs": [],
      "source": [
        "library(tidyverse)\n",
        "\n",
        "my_df <- data.frame(\n",
        "  name    = c(\"A\", \"B\", \"C\", \"D\"),\n",
        "  english = c( 60,  90,  70,  90),\n",
        "  math    = c( 70,  80,  90, 100),\n",
        "  gender  = c(\"f\", \"m\", \"m\", \"f\"))"
      ],
      "id": "f0bb78e4-37b3-4481-b1cb-3b59ffbb59f6"
    },
    {
      "cell_type": "code",
      "execution_count": null,
      "metadata": {
        "id": "d463b807-3c18-4d43-9eef-f4c27126046b"
      },
      "outputs": [],
      "source": [
        "var(my_df$english)"
      ],
      "id": "d463b807-3c18-4d43-9eef-f4c27126046b"
    },
    {
      "cell_type": "code",
      "execution_count": null,
      "metadata": {
        "id": "e2b4d8f5-b14b-4d8a-a335-3a8066c5a0a0"
      },
      "outputs": [],
      "source": [
        "# 結果はベクタ\n",
        "my_df[, c(2, 3)] %>% sapply(var)\n",
        "\n",
        "# 結果はリスト\n",
        "my_df[, c(2, 3)] %>% lapply(var)\n",
        "\n",
        "# 結果はデータフレーム\n",
        "my_df[, c(2, 3)] %>% # 2, 3列目\n",
        "  summarize(across(  # の\n",
        "    everything(),    # 全ての\n",
        "    var))            # 不偏分散\n",
        "# あるいは\n",
        "my_df %>%              # データフレーム\n",
        "  summarize(across(    # の\n",
        "    where(is.numeric), # 数値の列の\n",
        "    var))              # 不偏分散\n",
        "# あるいは\n",
        "my_df %>%              # データフレーム\n",
        "  summarize(across(    # の\n",
        "    where(is.numeric), # 数値の列の\n",
        "    function(x) { var(x) })) # 不偏分散\n"
      ],
      "id": "e2b4d8f5-b14b-4d8a-a335-3a8066c5a0a0"
    },
    {
      "cell_type": "code",
      "execution_count": null,
      "metadata": {
        "id": "a07e482d-2f59-4557-af74-a54aa2d2f4fd"
      },
      "outputs": [],
      "source": [
        "psych::describe(my_df)\n",
        "\n",
        "# あるいは\n",
        "\n",
        "pastecs::stat.desc(my_df)\n",
        "# 以下省略"
      ],
      "id": "a07e482d-2f59-4557-af74-a54aa2d2f4fd"
    },
    {
      "cell_type": "code",
      "execution_count": null,
      "metadata": {
        "id": "3e0811e3-8ae0-49c6-b611-7b7c81322ecb"
      },
      "outputs": [],
      "source": [
        "table(my_df$gender)\n"
      ],
      "id": "3e0811e3-8ae0-49c6-b611-7b7c81322ecb"
    },
    {
      "cell_type": "code",
      "execution_count": null,
      "metadata": {
        "id": "3f39bc67-babf-4305-93e6-44d6b9bb7c19"
      },
      "outputs": [],
      "source": [
        "my_df2 <- data.frame(\n",
        "  gender = my_df$gender,\n",
        "  excel = my_df$math >= 80)\n",
        "table(my_df2)\n"
      ],
      "id": "3f39bc67-babf-4305-93e6-44d6b9bb7c19"
    },
    {
      "cell_type": "code",
      "execution_count": null,
      "metadata": {
        "id": "aa37b858-8a84-40d6-8702-9c787fd2b09d"
      },
      "outputs": [],
      "source": [
        "my_df %>% group_by(gender) %>%\n",
        "  summarize(across(\n",
        "    where(is.numeric), mean),\n",
        "    .groups = \"drop\") # グループ化解除\n"
      ],
      "id": "aa37b858-8a84-40d6-8702-9c787fd2b09d"
    },
    {
      "id": "859a3929",
      "cell_type": "markdown",
      "source": [
        "## 4.2 データの可視化"
      ],
      "metadata": {
        "id": "859a3929"
      }
    },
    {
      "cell_type": "code",
      "execution_count": null,
      "metadata": {
        "id": "b00eb78e-fc56-4791-9c71-6c8df967ce9d"
      },
      "outputs": [],
      "source": [
        "head(iris)"
      ],
      "id": "b00eb78e-fc56-4791-9c71-6c8df967ce9d"
    },
    {
      "cell_type": "code",
      "execution_count": null,
      "metadata": {
        "id": "b9e45600-719b-4911-bb55-eb457b657024"
      },
      "outputs": [],
      "source": [
        "hist(iris$Sepal.Length)"
      ],
      "id": "b9e45600-719b-4911-bb55-eb457b657024"
    },
    {
      "cell_type": "code",
      "execution_count": null,
      "metadata": {
        "id": "793efce0-3bf8-4c28-bfe6-1fb90e155e71"
      },
      "outputs": [],
      "source": [
        "x <- c(10, 20, 30)\n",
        "hist(x, breaks = 2) # 階級数は2"
      ],
      "id": "793efce0-3bf8-4c28-bfe6-1fb90e155e71"
    },
    {
      "cell_type": "code",
      "execution_count": null,
      "metadata": {
        "id": "9f36b11e-1001-4870-a529-9c0dc460d564"
      },
      "outputs": [],
      "source": [
        "x <- iris$Sepal.Length\n",
        "tmp <- seq(min(x), max(x),\n",
        "           length.out = 10)\n",
        "hist(x, breaks = tmp, right = FALSE)"
      ],
      "id": "9f36b11e-1001-4870-a529-9c0dc460d564"
    },
    {
      "cell_type": "code",
      "execution_count": null,
      "metadata": {
        "id": "f814d3be-428d-44a6-b369-2a9db1a89170"
      },
      "outputs": [],
      "source": [
        "plot(iris$Sepal.Length,\n",
        "     iris$Sepal.Width)"
      ],
      "id": "f814d3be-428d-44a6-b369-2a9db1a89170"
    },
    {
      "cell_type": "code",
      "execution_count": null,
      "metadata": {
        "id": "fc8d9f3f-d183-46d2-8539-364d83b56df2"
      },
      "outputs": [],
      "source": [
        "boxplot(iris[, -5])"
      ],
      "id": "fc8d9f3f-d183-46d2-8539-364d83b56df2"
    },
    {
      "cell_type": "code",
      "execution_count": null,
      "metadata": {
        "id": "d72d959c-1049-4aab-8024-44a18dd37367"
      },
      "outputs": [],
      "source": [
        "library(tidyverse)\n",
        "my_df <- psych::describe(iris[, -5])\n",
        "my_df %>% select(mean, sd, se)"
      ],
      "id": "d72d959c-1049-4aab-8024-44a18dd37367"
    },
    {
      "cell_type": "code",
      "execution_count": null,
      "metadata": {
        "id": "9adf6667-9b48-4cc9-8410-5d3792bc5605"
      },
      "outputs": [],
      "source": [
        "tmp <- rownames(my_df)\n",
        "my_df %>% ggplot(aes(x = factor(tmp, levels = tmp), y = mean)) +\n",
        "  geom_col() +\n",
        "  geom_errorbar(aes(ymin = mean - se, ymax = mean + se)) +\n",
        "  xlab(NULL)"
      ],
      "id": "9adf6667-9b48-4cc9-8410-5d3792bc5605"
    },
    {
      "cell_type": "code",
      "execution_count": null,
      "metadata": {
        "id": "05ee6831-0f45-42b8-ad96-87dab5aea830"
      },
      "outputs": [],
      "source": [
        "my_group <- iris %>% group_by(Species)       # 品種ごとに，\n",
        "\n",
        "my_df <- my_group %>%                        # 各変数の，平均と\n",
        "  summarize(across(everything(), mean)) %>%\n",
        "  pivot_longer(-Species)\n",
        "\n",
        "tmp <- my_group %>%                          # 標準誤差を求める．\n",
        "  summarize(across(everything(), ~ sd(.) / length(.)**0.5)) %>%\n",
        "  pivot_longer(-Species)\n",
        "\n",
        "my_df$se <- tmp$value\n",
        "head(my_df)"
      ],
      "id": "05ee6831-0f45-42b8-ad96-87dab5aea830"
    },
    {
      "cell_type": "code",
      "execution_count": null,
      "metadata": {
        "id": "204f9e39-9584-4428-a8de-76869b9c6cc6"
      },
      "outputs": [],
      "source": [
        "my_df %>%\n",
        "  ggplot(aes(x = Species, y = value, fill = name)) +\n",
        "  geom_col(position = \"dodge\") +\n",
        "  geom_errorbar(aes(ymin = value - se, ymax = value + se), position = \"dodge\")"
      ],
      "id": "204f9e39-9584-4428-a8de-76869b9c6cc6"
    },
    {
      "cell_type": "code",
      "execution_count": null,
      "metadata": {
        "id": "6b0f72a0-828d-4d6a-b55d-89bb72033bb2"
      },
      "outputs": [],
      "source": [
        "# 各変数の平均\n",
        "iris %>% pivot_longer(-Species) %>%\n",
        "  ggplot(aes(x = name, y = value)) +\n",
        "  geom_bar(stat = \"summary\", fun = mean) +\n",
        "  stat_summary(geom = \"errorbar\", fun.data = mean_se) +\n",
        "  xlab(NULL)\n",
        "\n",
        "# 各変数の平均（品種ごと）\n",
        "iris %>% pivot_longer(-Species) %>%\n",
        "  ggplot(aes(x = Species, y = value, fill = name)) +\n",
        "  geom_bar(stat = \"summary\", fun = mean, position = \"dodge\") +\n",
        "  stat_summary(geom = \"errorbar\", fun.data = mean_se, position = \"dodge\")"
      ],
      "id": "6b0f72a0-828d-4d6a-b55d-89bb72033bb2"
    },
    {
      "cell_type": "code",
      "execution_count": null,
      "metadata": {
        "id": "fa070828-980c-40f1-b950-2e323cde2bf5"
      },
      "outputs": [],
      "source": [
        "my_df <- data.frame(\n",
        "  Species = iris$Species,\n",
        "  w_Sepal = iris$Sepal.Width > 3)\n",
        "table(my_df) # 分割表\n",
        "\n",
        "mosaicplot(\n",
        "  formula = ~ Species + w_Sepal,\n",
        "  data = my_df)"
      ],
      "id": "fa070828-980c-40f1-b950-2e323cde2bf5"
    },
    {
      "cell_type": "code",
      "execution_count": null,
      "metadata": {
        "id": "0152dbda-c942-41cf-bb29-f1ed777302ab"
      },
      "outputs": [],
      "source": [
        "library(vcd)\n",
        "vcd::mosaic(formula = ~w_Sepal + Species, data = my_df,\n",
        "            labeling = labeling_values)"
      ],
      "id": "0152dbda-c942-41cf-bb29-f1ed777302ab"
    },
    {
      "cell_type": "code",
      "execution_count": null,
      "metadata": {
        "id": "fbae3bbd-123a-46bc-84f0-5561eb41b47a"
      },
      "outputs": [],
      "source": [
        "curve(x^3 - x, -2, 2)"
      ],
      "id": "fbae3bbd-123a-46bc-84f0-5561eb41b47a"
    },
    {
      "cell_type": "code",
      "execution_count": null,
      "metadata": {
        "id": "83ea5cc6-a0de-46ad-aa23-04f1cee61994"
      },
      "outputs": [],
      "source": [
        "x <- iris$Sepal.Length\n",
        "tmp <- seq(min(x), max(x),\n",
        "           length.out = 10)\n",
        "iris %>%\n",
        "  ggplot(aes(x = Sepal.Length)) +\n",
        "  geom_histogram(breaks = tmp,\n",
        "                 closed = \"left\")"
      ],
      "id": "83ea5cc6-a0de-46ad-aa23-04f1cee61994"
    },
    {
      "cell_type": "code",
      "execution_count": null,
      "metadata": {
        "id": "0a25b6eb-2b6f-4d57-bd99-b9ce3a302a57"
      },
      "outputs": [],
      "source": [
        "iris %>%\n",
        "  ggplot(aes(x = Sepal.Length,\n",
        "             y = Sepal.Width)) +\n",
        "  geom_point()"
      ],
      "id": "0a25b6eb-2b6f-4d57-bd99-b9ce3a302a57"
    },
    {
      "cell_type": "code",
      "execution_count": null,
      "metadata": {
        "id": "ea270979-ca1c-4838-8204-f85711ac50f0"
      },
      "outputs": [],
      "source": [
        "iris %>%\n",
        "  pivot_longer(-Species) %>%\n",
        "  ggplot(aes(\n",
        "    x = factor(name,\n",
        "               levels = names(iris)),\n",
        "    y = value)) +\n",
        "  geom_boxplot() +\n",
        "  xlab(NULL)"
      ],
      "id": "ea270979-ca1c-4838-8204-f85711ac50f0"
    },
    {
      "cell_type": "code",
      "execution_count": null,
      "metadata": {
        "id": "6293859e-8b19-4e2e-83ee-78e711160c28"
      },
      "outputs": [],
      "source": [
        "library(ggmosaic)\n",
        "my_df <- data.frame(\n",
        "  Species = iris$Species,\n",
        "  w_Sepal = iris$Sepal.Width > 3)\n",
        "my_df %>%\n",
        "  ggplot() +\n",
        "  geom_mosaic(\n",
        "    aes(x = product(w_Sepal, Species)))"
      ],
      "id": "6293859e-8b19-4e2e-83ee-78e711160c28"
    },
    {
      "cell_type": "code",
      "execution_count": null,
      "metadata": {
        "id": "0b321c17-ba71-4795-b1c4-dfac12424438"
      },
      "outputs": [],
      "source": [
        "f <- function(x) { x^3 - x }\n",
        "data.frame(x = c(-2, 2)) %>%\n",
        "  ggplot(aes(x = x)) +\n",
        "  stat_function(fun = f)"
      ],
      "id": "0b321c17-ba71-4795-b1c4-dfac12424438"
    },
    {
      "id": "dcd7da02",
      "cell_type": "markdown",
      "source": [
        "## 4.3 乱数"
      ],
      "metadata": {
        "id": "dcd7da02"
      }
    },
    {
      "cell_type": "code",
      "execution_count": null,
      "metadata": {
        "id": "e5f38459-2c0a-4d1a-a002-b0d6caaac449"
      },
      "outputs": [],
      "source": [
        "x <- sample(x = 1:6,        # 範囲\n",
        "            size = 10000,   # 乱数の数\n",
        "            replace = TRUE) # 重複あり\n",
        "hist(x, breaks = 0:6) # ヒストグラム"
      ],
      "id": "e5f38459-2c0a-4d1a-a002-b0d6caaac449"
    },
    {
      "cell_type": "code",
      "execution_count": null,
      "metadata": {
        "id": "a9da263d-a3df-4ac0-90b7-0bf57c296c55"
      },
      "outputs": [],
      "source": [
        "x <- runif(min = 0,  # 最小\n",
        "           max = 1,  # 最大\n",
        "           n = 1000) # 乱数の数\n",
        "hist(x)"
      ],
      "id": "a9da263d-a3df-4ac0-90b7-0bf57c296c55"
    },
    {
      "cell_type": "code",
      "execution_count": null,
      "metadata": {
        "id": "c320de46-69bd-495c-8bd6-9f6f1fb0a6dd"
      },
      "outputs": [],
      "source": [
        "x <- as.integer(      # 整数に変換\n",
        "  runif(min = 1,      # 最小\n",
        "        max = 7,      # 最大 + 1\n",
        "        n = 1000))    # 乱数の数\n",
        "hist(x, breaks = 0:6) # 結果は割愛"
      ],
      "id": "c320de46-69bd-495c-8bd6-9f6f1fb0a6dd"
    },
    {
      "cell_type": "code",
      "execution_count": null,
      "metadata": {
        "id": "7f948073-d8be-4480-a67d-adc5f6f8fdc9"
      },
      "outputs": [],
      "source": [
        "n <- 100\n",
        "p <- 0.5\n",
        "r <- 10000\n",
        "x <- rbinom(size = n, # 試行回数\n",
        "            prob = p, # 確率\n",
        "            n = r)    # 乱数の数\n",
        "hist(x, breaks = max(x) - min(x))"
      ],
      "id": "7f948073-d8be-4480-a67d-adc5f6f8fdc9"
    },
    {
      "cell_type": "code",
      "execution_count": null,
      "metadata": {
        "id": "aca21a30-01b8-4793-b68b-632fe25abf1b"
      },
      "outputs": [],
      "source": [
        "r <- 10000\n",
        "x <- rnorm(mean = 50, # 平均\n",
        "           sd = 5,    # 標準偏差\n",
        "           n = r)     # 乱数の数\n",
        "hist(x, breaks = 40)"
      ],
      "id": "aca21a30-01b8-4793-b68b-632fe25abf1b"
    },
    {
      "cell_type": "code",
      "execution_count": null,
      "metadata": {
        "id": "a5c0cee9-f1ad-40c0-9a9b-9fdbfcbb1a37"
      },
      "outputs": [],
      "source": [
        "library(tidyverse)\n",
        "\n",
        "f <- function(k) {\n",
        "  n <- 10000\n",
        "  tmp <- replicate(n = n, expr = g(rnorm(n =  k, sd = 3)))\n",
        "  list(k = k,\n",
        "       mean = mean(tmp),       # 平均\n",
        "       se = sd(tmp) / sqrt(n)) # 標準誤差\n",
        "}"
      ],
      "id": "a5c0cee9-f1ad-40c0-9a9b-9fdbfcbb1a37"
    },
    {
      "cell_type": "code",
      "execution_count": null,
      "metadata": {
        "id": "9fe1e63e-87d6-40c2-8342-420a23b5ad4a"
      },
      "outputs": [],
      "source": [
        "g <- var\n",
        "c(10, 20, 30) %>% map_dfr(f)"
      ],
      "id": "9fe1e63e-87d6-40c2-8342-420a23b5ad4a"
    },
    {
      "cell_type": "code",
      "execution_count": null,
      "metadata": {
        "id": "d59ab24a-e3eb-42f3-b3c8-a1a61f36179a"
      },
      "outputs": [],
      "source": [
        "g <- sd\n",
        "c(5, 10, 15, 20) %>% map_dfr(f)"
      ],
      "id": "d59ab24a-e3eb-42f3-b3c8-a1a61f36179a"
    },
    {
      "cell_type": "code",
      "execution_count": null,
      "metadata": {
        "id": "3373f31b-4da2-474e-a8f4-7ad97728b950"
      },
      "outputs": [],
      "source": [
        "g <- function(x) {\n",
        "  n <- length(x)\n",
        "  sd(x) *\n",
        "    sqrt((n - 1) / 2) *\n",
        "    gamma((n - 1) / 2) /\n",
        "    gamma(n / 2)\n",
        "}\n",
        "c(10, 20, 30) %>% map_dfr(f)"
      ],
      "id": "3373f31b-4da2-474e-a8f4-7ad97728b950"
    },
    {
      "id": "323f127e",
      "cell_type": "markdown",
      "source": [
        "## 4.4 統計的推測"
      ],
      "metadata": {
        "id": "323f127e"
      }
    },
    {
      "cell_type": "code",
      "execution_count": null,
      "metadata": {
        "id": "25175000-222f-45e2-bde2-7fc958342b0c"
      },
      "outputs": [],
      "source": [
        "library(exactci)\n",
        "library(tidyverse)\n",
        "\n",
        "a <- 0.05                              # 有意水準\n",
        "binom.exact(x = 2,                     # 当たった回数\n",
        "            n = 15,                    # くじを引いた回数\n",
        "            p = 4 / 10,                # 当たる確率（仮説）\n",
        "            plot = TRUE,               # p値の描画（結果は次項に掲載）\n",
        "            conf.level = 1 - a,        # 信頼係数（デフォルト）\n",
        "            tsmethod = \"minlike\",      # p値の定義\n",
        "            alternative = \"two.sided\") # 両側検定（デフォルト）\n",
        "                                       # 左片側検定なら'less'\n",
        "                                       # 右片側検定なら'greater'\n"
      ],
      "id": "25175000-222f-45e2-bde2-7fc958342b0c"
    },
    {
      "cell_type": "code",
      "execution_count": null,
      "metadata": {
        "id": "bfdd1524-f612-4602-a9d9-1209a96eabea"
      },
      "outputs": [],
      "source": [
        "t <- 4 / 10               # 当たる確率\n",
        "n <- 15                   # くじを引いた回数\n",
        "x <- 0:n                  # 当たった回数\n",
        "my_pr  <- dbinom(x, n, t) # x回当たる確率\n",
        "my_pr2 <- dbinom(2, n, t) # 2回当たる確率\n",
        "\n",
        "my_data <- data.frame(x = x,\n",
        "                      probability = my_pr,\n",
        "                      color = my_pr <= my_pr2) # 当たる確率が，2回当たる確率以下\n",
        "\n",
        "my_data %>% ggplot(aes(x = x, y = probability, color = color)) +\n",
        "  geom_point(size = 3) +\n",
        "  geom_linerange(aes(ymin = 0, ymax = probability), ) + # 垂直線\n",
        "  geom_hline(yintercept = my_pr2) +                     # 水平線\n",
        "  theme(legend.position = \"none\")                       # 凡例を表示しない．"
      ],
      "id": "bfdd1524-f612-4602-a9d9-1209a96eabea"
    },
    {
      "cell_type": "code",
      "execution_count": null,
      "metadata": {
        "id": "97659370-3601-4dfc-8a34-86c5eedbbc57"
      },
      "outputs": [],
      "source": [
        "# 前項の結果（再掲）"
      ],
      "id": "97659370-3601-4dfc-8a34-86c5eedbbc57"
    },
    {
      "cell_type": "code",
      "execution_count": null,
      "metadata": {
        "id": "537b86a0-3d1e-44ef-91be-1ead7c0a6d79"
      },
      "outputs": [],
      "source": [
        "# 前項冒頭のコード"
      ],
      "id": "537b86a0-3d1e-44ef-91be-1ead7c0a6d79"
    },
    {
      "cell_type": "code",
      "execution_count": null,
      "metadata": {
        "id": "05cd01cd-cfd1-4117-8f60-11befbda1a63"
      },
      "outputs": [],
      "source": [
        "X <- c(32.1, 26.2, 27.5, 31.8, 32.1, 31.2, 30.1, 32.4, 32.3, 29.9,\n",
        "       29.6, 26.6, 31.2, 30.9, 29.3)\n",
        "Y <- c(35.4, 34.6, 31.1, 32.4, 33.3, 34.7, 35.3, 34.3, 32.1, 28.3,\n",
        "       33.3, 30.5, 32.6, 33.3, 32.2)\n",
        "\n",
        "t.test(x = X, y = Y,\n",
        "       conf.level = 0.95,         # 信頼係数（デフォルト）\n",
        "       paired = TRUE,             # 対標本である．\n",
        "       alternative = \"two.sided\") # 両側検定（デフォルト）\n",
        "                                  # 左片側検定なら'less'\n",
        "                                  # 右片側検定なら'greater'\n"
      ],
      "id": "05cd01cd-cfd1-4117-8f60-11befbda1a63"
    },
    {
      "cell_type": "code",
      "execution_count": null,
      "metadata": {
        "id": "ee1ff75e-aba0-49f0-b6e9-0914dd14ed11"
      },
      "outputs": [],
      "source": [
        "t.test(x = X, y = Y,\n",
        "       paired = FALSE,   # 対標本ではない（デフォルト）．\n",
        "       var.equal = TRUE, # 等分散を仮定する．仮定しないならFALSE（デフォルト）．\n",
        "       alternative = \"two.sided\",\n",
        "       conf.level = 0.95)\n"
      ],
      "id": "ee1ff75e-aba0-49f0-b6e9-0914dd14ed11"
    },
    {
      "cell_type": "code",
      "execution_count": null,
      "metadata": {
        "id": "0a6678b8-c01e-4b17-84a0-1a84832698b5"
      },
      "outputs": [],
      "source": [
        "my_url <- str_c(\"https://raw.githubusercontent.com/taroyabuki\",\n",
        "                \"/fromzero/master/data/smoker.csv\")\n",
        "my_data <- read_csv(my_url)"
      ],
      "id": "0a6678b8-c01e-4b17-84a0-1a84832698b5"
    },
    {
      "cell_type": "code",
      "execution_count": null,
      "metadata": {
        "id": "cec257c1-7602-4f7d-b01f-f354a5ca9f07"
      },
      "outputs": [],
      "source": [
        "head(my_data)"
      ],
      "id": "cec257c1-7602-4f7d-b01f-f354a5ca9f07"
    },
    {
      "cell_type": "code",
      "execution_count": null,
      "metadata": {
        "id": "b9f036f2-a08f-418c-95a8-14b19971fd9f"
      },
      "outputs": [],
      "source": [
        "my_table <- table(my_data)\n",
        "my_table"
      ],
      "id": "b9f036f2-a08f-418c-95a8-14b19971fd9f"
    },
    {
      "cell_type": "code",
      "execution_count": null,
      "metadata": {
        "id": "affc0222-847a-45e6-bc60-5c44be99cc8a"
      },
      "outputs": [],
      "source": [
        "chisq.test(my_table, correct = FALSE)\n"
      ],
      "id": "affc0222-847a-45e6-bc60-5c44be99cc8a"
    },
    {
      "cell_type": "code",
      "execution_count": null,
      "metadata": {
        "id": "bcc37adc-e598-467b-b371-f0506c4f73be"
      },
      "outputs": [],
      "source": [
        "X <- rep(0:1, c(13, 2)) # 手順1\n",
        "X\n",
        "\n",
        "tmp <- sample(X, size = length(X), replace = TRUE) # 手順2\n",
        "tmp\n",
        "\n",
        "sum(tmp) # 手順3\n",
        "\n",
        "n <- 10^5\n",
        "result <- replicate(n, sum(sample(X, size = length(X), replace = TRUE))) # 手順4"
      ],
      "id": "bcc37adc-e598-467b-b371-f0506c4f73be"
    },
    {
      "cell_type": "code",
      "execution_count": null,
      "metadata": {
        "id": "c00342bf-fc4d-4cc1-aca8-14ba99933899"
      },
      "outputs": [],
      "source": [
        "hist(x = result, breaks = 0:15,\n",
        "     right = FALSE)"
      ],
      "id": "c00342bf-fc4d-4cc1-aca8-14ba99933899"
    },
    {
      "cell_type": "code",
      "execution_count": null,
      "metadata": {
        "id": "461a0129-9f7a-444f-8f77-de43e3144f5b"
      },
      "outputs": [],
      "source": [
        "quantile(result, c(0.025, 0.975))"
      ],
      "id": "461a0129-9f7a-444f-8f77-de43e3144f5b"
    },
    {
      "id": "8bc5f5fd",
      "cell_type": "markdown",
      "source": [
        "# 5 前処理"
      ],
      "metadata": {
        "id": "8bc5f5fd"
      }
    },
    {
      "cell_type": "code",
      "execution_count": null,
      "metadata": {
        "id": "2d9d8fc1-3420-4c0e-a166-12d131d39f3b"
      },
      "outputs": [],
      "source": [
        "# Google Colaboratoryの環境設定\n",
        "if (file.exists(\"/content\")) {\n",
        "  options(Ncpus = parallel::detectCores())\n",
        "  installed_packages <- rownames(installed.packages())\n",
        "  packages_to_install <- c(\"caret\")\n",
        "  install.packages(setdiff(packages_to_install, installed_packages))\n",
        "}"
      ],
      "id": "2d9d8fc1-3420-4c0e-a166-12d131d39f3b"
    },
    {
      "id": "87525fa5",
      "cell_type": "markdown",
      "source": [
        "## 5.1 データの読み込み"
      ],
      "metadata": {
        "id": "87525fa5"
      }
    },
    {
      "cell_type": "code",
      "execution_count": null,
      "metadata": {
        "id": "b5c28b09-0c0f-4d8a-bfd7-06fa91405dbe"
      },
      "outputs": [],
      "source": [
        "library(tidyverse)\n",
        "system(str_c(\"wget https://raw.githubusercontent.com/taroyabuki\",\n",
        "             \"/fromzero/master/data/exam.csv\"))"
      ],
      "id": "b5c28b09-0c0f-4d8a-bfd7-06fa91405dbe"
    },
    {
      "cell_type": "code",
      "execution_count": null,
      "metadata": {
        "id": "5dca006b-07ad-4bc7-947f-3e09f1f12b51"
      },
      "outputs": [],
      "source": [
        "my_df <- read_csv(\"exam.csv\")\n",
        "# あるいは\n",
        "my_df <- read.csv(\"exam.csv\",\n",
        "  stringsAsFactors = FALSE)\n",
        "\n",
        "my_df"
      ],
      "id": "5dca006b-07ad-4bc7-947f-3e09f1f12b51"
    },
    {
      "cell_type": "code",
      "execution_count": null,
      "metadata": {
        "id": "e87681e4-6f3a-4df7-9bd0-755833199134"
      },
      "outputs": [],
      "source": [
        "my_url <- str_c(\"https://raw.githubusercontent.com/taroyabuki\",\n",
        "                \"/fromzero/master/data/exam.csv\")\n",
        "my_df <- read_csv(my_url)\n",
        "# あるいは\n",
        "my_df <- read.csv(my_url, stringsAsFactors = FALSE)"
      ],
      "id": "e87681e4-6f3a-4df7-9bd0-755833199134"
    },
    {
      "cell_type": "code",
      "execution_count": null,
      "metadata": {
        "id": "0a15b130-6d1e-439a-977e-36cd6ec5f4c5"
      },
      "outputs": [],
      "source": [
        "my_df2 <- read.csv(\n",
        "  file = \"exam.csv\",\n",
        "  stringsAsFactors = FALSE,\n",
        "  row.names = 1)\n",
        "my_df2"
      ],
      "id": "0a15b130-6d1e-439a-977e-36cd6ec5f4c5"
    },
    {
      "cell_type": "code",
      "execution_count": null,
      "metadata": {
        "id": "b76d61e7-8687-4159-9d68-5095dc48021a"
      },
      "outputs": [],
      "source": [
        "my_df %>% write_csv(\"exam2.csv\")\n",
        "# あるいは\n",
        "my_df %>% write.csv(\n",
        "  file = \"exam2.csv\",\n",
        "  row.names = FALSE)"
      ],
      "id": "b76d61e7-8687-4159-9d68-5095dc48021a"
    },
    {
      "cell_type": "code",
      "execution_count": null,
      "metadata": {
        "id": "d562c9be-80d9-4ccf-930f-6b76abc6c740"
      },
      "outputs": [],
      "source": [
        "my_df2 %>% write.csv(\"exam3.csv\")"
      ],
      "id": "d562c9be-80d9-4ccf-930f-6b76abc6c740"
    },
    {
      "cell_type": "code",
      "execution_count": null,
      "metadata": {
        "id": "fb1b9e69-e8d1-4414-b437-e1bd63abc97d"
      },
      "outputs": [],
      "source": [
        "my_df <- read_csv(file = \"exam.csv\",\n",
        "  locale = locale(encoding = \"UTF-8\"))\n",
        "# あるいは\n",
        "my_df <- read.csv(file = \"exam.csv\",\n",
        "  stringsAsFactors = FALSE,\n",
        "  fileEncoding = \"UTF-8\")"
      ],
      "id": "fb1b9e69-e8d1-4414-b437-e1bd63abc97d"
    },
    {
      "cell_type": "code",
      "execution_count": null,
      "metadata": {
        "id": "eb2d9798-d854-493f-8b89-fc4c7f15caa7"
      },
      "outputs": [],
      "source": [
        "my_df %>% write_csv(\"exam2.csv\")\n",
        "# あるいは\n",
        "my_df %>% write.csv(file = \"exam2.csv\", row.names = FALSE,\n",
        "                    fileEncoding = \"UTF-8\")"
      ],
      "id": "eb2d9798-d854-493f-8b89-fc4c7f15caa7"
    },
    {
      "cell_type": "code",
      "execution_count": null,
      "metadata": {
        "id": "76a014f6-1f8f-4405-9c9f-67130e56ec92"
      },
      "outputs": [],
      "source": [
        "my_url <- \"https://taroyabuki.github.io/fromzero/exam.html\"\n",
        "my_tables <- xml2::read_html(my_url) %>% rvest::html_table()"
      ],
      "id": "76a014f6-1f8f-4405-9c9f-67130e56ec92"
    },
    {
      "cell_type": "code",
      "execution_count": null,
      "metadata": {
        "id": "140e2238-924a-49d2-add0-f1a851982056"
      },
      "outputs": [],
      "source": [
        "my_tables"
      ],
      "id": "140e2238-924a-49d2-add0-f1a851982056"
    },
    {
      "cell_type": "code",
      "execution_count": null,
      "metadata": {
        "id": "f1c7145e-e3a0-4d8b-8595-6b211061beaa"
      },
      "outputs": [],
      "source": [
        "tmp <- my_tables[[1]]\n",
        "tmp"
      ],
      "id": "f1c7145e-e3a0-4d8b-8595-6b211061beaa"
    },
    {
      "cell_type": "code",
      "execution_count": null,
      "metadata": {
        "id": "dd0bdef6-633c-461a-8599-e9fca422b9be"
      },
      "outputs": [],
      "source": [
        "# 1行目のデータを使って列の名前を付け直す．\n",
        "colnames(tmp) <- tmp[1, ]\n",
        "\n",
        "# 1行目と1列目を削除する．\n",
        "my_data <- tmp[-1, -1]\n",
        "my_data"
      ],
      "id": "dd0bdef6-633c-461a-8599-e9fca422b9be"
    },
    {
      "cell_type": "code",
      "execution_count": null,
      "metadata": {
        "id": "1e658592-e14b-4763-b6c1-3f0750160f45"
      },
      "outputs": [],
      "source": [
        "library(jsonlite)\n",
        "my_url <- str_c(\"https://raw.githubusercontent.com/taroyabuki\",\n",
        "                \"/fromzero/master/data/exam.json\")\n",
        "my_data <- fromJSON(my_url)\n",
        "#my_data <- fromJSON(\"exam.json\") # （ファイルを使う場合）\n",
        "my_data"
      ],
      "id": "1e658592-e14b-4763-b6c1-3f0750160f45"
    },
    {
      "cell_type": "code",
      "execution_count": null,
      "metadata": {
        "id": "a4f2543e-9e92-4b0f-94ec-a2436a08f60c"
      },
      "outputs": [],
      "source": [
        "library(xml2)\n",
        "my_url <- str_c(\"https://raw.githubusercontent.com/taroyabuki\",\n",
        "                \"/fromzero/master/data/exam.xml\")\n",
        "my_xml <- read_xml(my_url)      # XMLデータの読み込み\n",
        "#my_xml <- read_xml(\"exam.xml\") # （ファイルを使う場合）\n",
        "xml_ns(my_xml)                  # 名前空間の確認（d1）"
      ],
      "id": "a4f2543e-9e92-4b0f-94ec-a2436a08f60c"
    },
    {
      "cell_type": "code",
      "execution_count": null,
      "metadata": {
        "id": "18d661a5-d1f0-425c-a69d-603341e43770"
      },
      "outputs": [],
      "source": [
        "my_records <- xml_find_all(my_xml, \".//d1:record\")"
      ],
      "id": "18d661a5-d1f0-425c-a69d-603341e43770"
    },
    {
      "cell_type": "code",
      "execution_count": null,
      "metadata": {
        "id": "cf6db405-8dad-468e-90aa-1582b4315633"
      },
      "outputs": [],
      "source": [
        "f <- function(record) {\n",
        "  tmp <- xml_attrs(record)                    # 属性を全て取り出し，\n",
        "  xml_children(record) %>% walk(function(e) {\n",
        "    tmp[xml_name(e)] <<- xml_text(e)          # 子要素の名前と内容を追加する．\n",
        "  })\n",
        "  tmp\n",
        "}"
      ],
      "id": "cf6db405-8dad-468e-90aa-1582b4315633"
    },
    {
      "cell_type": "code",
      "execution_count": null,
      "metadata": {
        "id": "9a0cd990-fbfb-4a9c-9712-d1c8955ded03"
      },
      "outputs": [],
      "source": [
        "my_data <- my_records %>% map_dfr(f)\n",
        "my_data$english <- as.numeric(my_data$english)\n",
        "my_data$math    <- as.numeric(my_data$math)\n",
        "my_data"
      ],
      "id": "9a0cd990-fbfb-4a9c-9712-d1c8955ded03"
    },
    {
      "id": "feea1595",
      "cell_type": "markdown",
      "source": [
        "## 5.2 データの変換"
      ],
      "metadata": {
        "id": "feea1595"
      }
    },
    {
      "cell_type": "code",
      "execution_count": null,
      "metadata": {
        "id": "02b03263-d7ad-4119-8d87-998593f4f524"
      },
      "outputs": [],
      "source": [
        "x1 <- c(1, 2, 3)\n",
        "\n",
        "z1 <- scale(x1)\n",
        "# あるいは\n",
        "z1 <- (x1 - mean(x1)) / sd(x1)\n",
        "\n",
        "z1"
      ],
      "id": "02b03263-d7ad-4119-8d87-998593f4f524"
    },
    {
      "cell_type": "code",
      "execution_count": null,
      "metadata": {
        "id": "2f7f86d8-b4d9-4b74-a854-692591408301"
      },
      "outputs": [],
      "source": [
        "c(mean(z1), sd(z1))"
      ],
      "id": "2f7f86d8-b4d9-4b74-a854-692591408301"
    },
    {
      "cell_type": "code",
      "execution_count": null,
      "metadata": {
        "id": "5b6d21d6-0cd7-4a32-83f0-2ab27aff1726"
      },
      "outputs": [],
      "source": [
        "z1 * sd(x1) + mean(x1)"
      ],
      "id": "5b6d21d6-0cd7-4a32-83f0-2ab27aff1726"
    },
    {
      "cell_type": "code",
      "execution_count": null,
      "metadata": {
        "id": "49f3f75e-601e-4052-b2d7-fd4a39a3b85c"
      },
      "outputs": [],
      "source": [
        "x2 <- c(1, 3, 5)\n",
        "z2 <- (x2 - mean(x1)) / sd(x1)\n",
        "c(mean(z2), sd(z2))"
      ],
      "id": "49f3f75e-601e-4052-b2d7-fd4a39a3b85c"
    },
    {
      "cell_type": "code",
      "execution_count": null,
      "metadata": {
        "id": "bbcf9147-2fd7-40d1-ac6f-c07e482a1c21"
      },
      "outputs": [],
      "source": [
        "library(caret)\n",
        "library(tidyverse)\n",
        "\n",
        "my_df <- data.frame(\n",
        "  id = c(1, 2, 3),\n",
        "  class = as.factor(\n",
        "    c(\"A\", \"B\", \"C\")))\n",
        "\n",
        "my_enc <- my_df %>%\n",
        "  dummyVars(formula = ~ .)\n",
        "\n",
        "my_enc %>% predict(my_df)"
      ],
      "id": "bbcf9147-2fd7-40d1-ac6f-c07e482a1c21"
    },
    {
      "cell_type": "code",
      "execution_count": null,
      "metadata": {
        "id": "6c87bfa5-2a6f-4b57-a984-0f6fb2066c41"
      },
      "outputs": [],
      "source": [
        "my_df2 <- data.frame(\n",
        "  id =    c( 4 ,  5 ,  6 ),\n",
        "  class = c(\"B\", \"C\", \"B\"))\n",
        "my_enc %>% predict(my_df2)"
      ],
      "id": "6c87bfa5-2a6f-4b57-a984-0f6fb2066c41"
    },
    {
      "cell_type": "code",
      "execution_count": null,
      "metadata": {
        "id": "5d6a9971-3d61-49a4-a52d-63c3a3328d60"
      },
      "outputs": [],
      "source": [
        "my_enc <- my_df %>%\n",
        "  dummyVars(formula = ~ .,\n",
        "            fullRank = TRUE)\n",
        "my_enc %>% predict(my_df)\n",
        "\n",
        "my_enc %>% predict(my_df2)"
      ],
      "id": "5d6a9971-3d61-49a4-a52d-63c3a3328d60"
    },
    {
      "id": "1df89d43",
      "cell_type": "markdown",
      "source": [
        "# 6 機械学習の目的・データ・手法\n",
        "\n",
        "\n"
      ],
      "metadata": {
        "id": "1df89d43"
      }
    },
    {
      "id": "9c6dc6ca",
      "cell_type": "markdown",
      "source": [
        "## 6.1 機械学習の目的（本書の場合）\n",
        "\n",
        "\n"
      ],
      "metadata": {
        "id": "9c6dc6ca"
      }
    },
    {
      "id": "784c2e6e",
      "cell_type": "markdown",
      "source": [
        "## 6.2 機械学習のためのデータ"
      ],
      "metadata": {
        "id": "784c2e6e"
      }
    },
    {
      "cell_type": "code",
      "execution_count": null,
      "metadata": {
        "id": "f6627b4e-e0ee-4a8e-aadf-63a8a8ac0fa9"
      },
      "outputs": [],
      "source": [
        "iris\n",
        "# 以下省略"
      ],
      "id": "f6627b4e-e0ee-4a8e-aadf-63a8a8ac0fa9"
    },
    {
      "id": "4c72a568",
      "cell_type": "markdown",
      "source": [
        "## 6.3 機械学習のための手法\n",
        "\n",
        "\n"
      ],
      "metadata": {
        "id": "4c72a568"
      }
    },
    {
      "id": "5b58c713",
      "cell_type": "markdown",
      "source": [
        "# 7 回帰1（単回帰）"
      ],
      "metadata": {
        "id": "5b58c713"
      }
    },
    {
      "cell_type": "code",
      "execution_count": null,
      "metadata": {
        "id": "1fd3a3f0-1524-4bb8-8411-5dbd84fd04e9"
      },
      "outputs": [],
      "source": [
        "# Google Colaboratoryの環境設定\n",
        "if (file.exists(\"/content\")) {\n",
        "  options(Ncpus = parallel::detectCores())\n",
        "  installed_packages <- rownames(installed.packages())\n",
        "  packages_to_install <- c(\"caret\", \"doParallel\", \"pastecs\")\n",
        "  install.packages(setdiff(packages_to_install, installed_packages))\n",
        "}"
      ],
      "id": "1fd3a3f0-1524-4bb8-8411-5dbd84fd04e9"
    },
    {
      "id": "b8c6b1c3",
      "cell_type": "markdown",
      "source": [
        "## 7.1 自動車の停止距離\n",
        "\n",
        "\n"
      ],
      "metadata": {
        "id": "b8c6b1c3"
      }
    },
    {
      "id": "1528c0a1",
      "cell_type": "markdown",
      "source": [
        "## 7.2 データの確認"
      ],
      "metadata": {
        "id": "1528c0a1"
      }
    },
    {
      "cell_type": "code",
      "execution_count": null,
      "metadata": {
        "id": "508e447d-4b57-4401-a870-34b94813ac9a"
      },
      "outputs": [],
      "source": [
        "library(caret)\n",
        "library(tidyverse)\n",
        "my_data <- cars"
      ],
      "id": "508e447d-4b57-4401-a870-34b94813ac9a"
    },
    {
      "cell_type": "code",
      "execution_count": null,
      "metadata": {
        "id": "f4688485-c843-42cd-a8af-61bd4415e199"
      },
      "outputs": [],
      "source": [
        "dim(my_data)"
      ],
      "id": "f4688485-c843-42cd-a8af-61bd4415e199"
    },
    {
      "cell_type": "code",
      "execution_count": null,
      "metadata": {
        "id": "29c54dc8-c636-4188-a9db-cdc3cb9905fd"
      },
      "outputs": [],
      "source": [
        "head(my_data)"
      ],
      "id": "29c54dc8-c636-4188-a9db-cdc3cb9905fd"
    },
    {
      "cell_type": "code",
      "execution_count": null,
      "metadata": {
        "id": "29ee980b-ca54-433d-a284-0146636f98ff"
      },
      "outputs": [],
      "source": [
        "options(digits = 3)\n",
        "pastecs::stat.desc(my_data)"
      ],
      "id": "29ee980b-ca54-433d-a284-0146636f98ff"
    },
    {
      "cell_type": "code",
      "execution_count": null,
      "metadata": {
        "id": "cfef8416-0c86-4356-9fc7-c05126d1709f"
      },
      "outputs": [],
      "source": [
        "my_data %>%\n",
        "  ggplot(aes(x = speed, y = dist)) +\n",
        "  geom_point()"
      ],
      "id": "cfef8416-0c86-4356-9fc7-c05126d1709f"
    },
    {
      "id": "e510dff5",
      "cell_type": "markdown",
      "source": [
        "## 7.3 回帰分析"
      ],
      "metadata": {
        "id": "e510dff5"
      }
    },
    {
      "cell_type": "code",
      "execution_count": null,
      "metadata": {
        "id": "ac373625-6356-4185-8a8c-d7fb6c9ca0d9"
      },
      "outputs": [],
      "source": [
        "library(tidyverse)\n",
        "\n",
        "my_data <- cars\n",
        "tmp <- data.frame(speed = 21.5, dist = 67)\n",
        "my_data %>% ggplot(aes(x = speed, y = dist)) +\n",
        "  coord_cartesian(xlim = c(4, 25), ylim = c(0, 120)) +\n",
        "  geom_point() +\n",
        "  stat_smooth(formula = y ~ x, method = \"lm\") +\n",
        "  geom_pointrange(data = tmp, aes(ymin = -9, ymax = dist),  linetype = \"dotted\") +\n",
        "  geom_pointrange(data = tmp, aes(xmin =  0, xmax = speed), linetype = \"dotted\")"
      ],
      "id": "ac373625-6356-4185-8a8c-d7fb6c9ca0d9"
    },
    {
      "cell_type": "code",
      "execution_count": null,
      "metadata": {
        "id": "bb24f245-cf1a-4bb3-b75d-39efc2a9bd91"
      },
      "outputs": [],
      "source": [
        "library(caret)\n",
        "library(tidyverse)\n",
        "my_data <- cars"
      ],
      "id": "bb24f245-cf1a-4bb3-b75d-39efc2a9bd91"
    },
    {
      "cell_type": "code",
      "execution_count": null,
      "metadata": {
        "id": "58e797ab-6edc-4262-a25e-1ea7f362e821"
      },
      "outputs": [],
      "source": [
        "my_model <- train(form = dist ~ speed, # モデル式（出力変数と入力変数の関係）\n",
        "                  data = my_data,      # データ\n",
        "                  method = \"lm\")       # 手法"
      ],
      "id": "58e797ab-6edc-4262-a25e-1ea7f362e821"
    },
    {
      "cell_type": "code",
      "execution_count": null,
      "metadata": {
        "id": "66000a61-cdbf-4336-974b-ad6e79381cbc"
      },
      "outputs": [],
      "source": [
        "coef(my_model$finalModel)"
      ],
      "id": "66000a61-cdbf-4336-974b-ad6e79381cbc"
    },
    {
      "cell_type": "code",
      "execution_count": null,
      "metadata": {
        "id": "32f4fe3a-0d1f-4248-a97b-b12ea7001f7c"
      },
      "outputs": [],
      "source": [
        "tmp <- data.frame(speed = 21.5)\n",
        "my_model %>% predict(tmp)"
      ],
      "id": "32f4fe3a-0d1f-4248-a97b-b12ea7001f7c"
    },
    {
      "cell_type": "code",
      "execution_count": null,
      "metadata": {
        "id": "5e4892d5-4d99-4154-aa78-e9d7def0f4e6"
      },
      "outputs": [],
      "source": [
        "f <- function(x) { my_model %>% predict(data.frame(speed = x)) }"
      ],
      "id": "5e4892d5-4d99-4154-aa78-e9d7def0f4e6"
    },
    {
      "cell_type": "code",
      "execution_count": null,
      "metadata": {
        "id": "1d7f8dc5-e510-42f6-b2f7-8a02fe305132"
      },
      "outputs": [],
      "source": [
        "my_data %>%\n",
        "  ggplot(aes(x = speed, y = dist,\n",
        "             color = \"data\")) +\n",
        "  geom_point() +\n",
        "  stat_function(\n",
        "    fun = f,\n",
        "    mapping = aes(color = \"model\"))"
      ],
      "id": "1d7f8dc5-e510-42f6-b2f7-8a02fe305132"
    },
    {
      "id": "87a132e0",
      "cell_type": "markdown",
      "source": [
        "## 7.4 当てはまりの良さの指標"
      ],
      "metadata": {
        "id": "87a132e0"
      }
    },
    {
      "cell_type": "code",
      "execution_count": null,
      "metadata": {
        "id": "5e1b68dd-e9f8-4977-813d-a80d0f476ac5"
      },
      "outputs": [],
      "source": [
        "library(caret)\n",
        "library(tidyverse)\n",
        "my_data <- cars\n",
        "my_model <- train(form = dist ~ speed, data = my_data, method = \"lm\")\n",
        "\n",
        "y  <- my_data$dist\n",
        "y_ <- my_model %>% predict(my_data)\n",
        "my_data$y_ <- y_"
      ],
      "id": "5e1b68dd-e9f8-4977-813d-a80d0f476ac5"
    },
    {
      "cell_type": "code",
      "execution_count": null,
      "metadata": {
        "id": "bba309a9-c921-4f36-aa50-ec6398fa9ed5"
      },
      "outputs": [],
      "source": [
        "my_data$residual <- y - y_\n",
        "head(my_data)"
      ],
      "id": "bba309a9-c921-4f36-aa50-ec6398fa9ed5"
    },
    {
      "cell_type": "code",
      "execution_count": null,
      "metadata": {
        "id": "3d1cb023-3abd-4b11-8228-260547e3582c"
      },
      "outputs": [],
      "source": [
        "my_data %>%\n",
        "  ggplot(aes(x = speed, y = dist)) +\n",
        "  geom_point() +\n",
        "  geom_line(aes(x = speed, y = y_)) +\n",
        "  geom_linerange(mapping = aes(ymin = y_, ymax = dist), linetype = \"dotted\")"
      ],
      "id": "3d1cb023-3abd-4b11-8228-260547e3582c"
    },
    {
      "cell_type": "code",
      "execution_count": null,
      "metadata": {
        "id": "4bf75802-cc0a-4255-bedc-8817d5b9caee"
      },
      "outputs": [],
      "source": [
        "RMSE(y_, y)\n",
        "# あるいは\n",
        "mean((my_data$residual^2))**0.5\n"
      ],
      "id": "4bf75802-cc0a-4255-bedc-8817d5b9caee"
    },
    {
      "cell_type": "code",
      "execution_count": null,
      "metadata": {
        "id": "f72754c6-0a8b-458d-b6a3-85fc560b8ecb"
      },
      "outputs": [],
      "source": [
        "R2(pred = y_, obs = y,\n",
        "   form = \"traditional\")"
      ],
      "id": "f72754c6-0a8b-458d-b6a3-85fc560b8ecb"
    },
    {
      "cell_type": "code",
      "execution_count": null,
      "metadata": {
        "id": "c17b2876-1303-4ba1-8009-a6d113f225a1"
      },
      "outputs": [],
      "source": [
        "R2(pred = y_, obs = y,\n",
        "   form = \"corr\")\n",
        "# あるいは\n",
        "summary(my_model$finalModel)$r.squared"
      ],
      "id": "c17b2876-1303-4ba1-8009-a6d113f225a1"
    },
    {
      "cell_type": "code",
      "execution_count": null,
      "metadata": {
        "id": "4fb4ab7d-a394-42a0-b080-a9f7250e019c"
      },
      "outputs": [],
      "source": [
        "my_test <- my_data[1:3, ]\n",
        "y  <- my_test$dist\n",
        "y_ <- my_model %>% predict(my_test)\n",
        "\n",
        "R2(pred = y_, obs = y,\n",
        "   form = \"traditional\")\n",
        "\n",
        "R2(pred = y_, obs = y,\n",
        "   form = \"corr\")"
      ],
      "id": "4fb4ab7d-a394-42a0-b080-a9f7250e019c"
    },
    {
      "cell_type": "code",
      "execution_count": null,
      "metadata": {
        "id": "d4b2f253-911a-44b0-bb4e-cd064fa3e70c"
      },
      "outputs": [],
      "source": [
        "library(caret)\n",
        "library(tidyverse)\n",
        "my_data <- cars\n",
        "my_idx <- c(2, 11, 27, 34, 39, 44)\n",
        "my_sample <- my_data[my_idx, ]"
      ],
      "id": "d4b2f253-911a-44b0-bb4e-cd064fa3e70c"
    },
    {
      "cell_type": "code",
      "execution_count": null,
      "metadata": {
        "id": "a553db8e-4860-41bb-bc06-866860468a0d"
      },
      "outputs": [],
      "source": [
        "options(warn = -1) # これ以降，警告を表示しない．\n",
        "my_model <- train(form = dist ~ poly(speed, degree = 5, raw = TRUE),\n",
        "                  data = my_sample,\n",
        "                  method = \"lm\")\n",
        "options(warn = 0)  # これ以降，警告を表示する．\n",
        "\n",
        "y  <- my_sample$dist\n",
        "y_ <- my_model %>% predict(my_sample)"
      ],
      "id": "a553db8e-4860-41bb-bc06-866860468a0d"
    },
    {
      "cell_type": "code",
      "execution_count": null,
      "metadata": {
        "id": "255768c1-34d6-49cb-8efa-eeb2e341c8c7"
      },
      "outputs": [],
      "source": [
        "RMSE(y_, y)\n",
        "\n",
        "R2(pred = y_, obs = y,\n",
        "   form = \"traditional\")\n",
        "\n",
        "R2(pred = y_, obs = y,\n",
        "   form = \"corr\")"
      ],
      "id": "255768c1-34d6-49cb-8efa-eeb2e341c8c7"
    },
    {
      "cell_type": "code",
      "execution_count": null,
      "metadata": {
        "id": "2255dc05-c57d-47f8-834a-25cac6e73ada"
      },
      "outputs": [],
      "source": [
        "f <- function(x) { my_model %>% predict(data.frame(speed = x)) }\n",
        "\n",
        "my_data %>%\n",
        "  ggplot(aes(x = speed, y = dist, color = \"data\")) +\n",
        "  geom_point() +\n",
        "  geom_point(data = my_sample, mapping = aes(color = \"sample\")) +\n",
        "  stat_function(fun = f, mapping = aes(color = \"model\")) +\n",
        "  coord_cartesian(ylim = c(0, 120))"
      ],
      "id": "2255dc05-c57d-47f8-834a-25cac6e73ada"
    },
    {
      "id": "3e272c39",
      "cell_type": "markdown",
      "source": [
        "## 7.5 K最近傍法"
      ],
      "metadata": {
        "id": "3e272c39"
      }
    },
    {
      "cell_type": "code",
      "execution_count": null,
      "metadata": {
        "id": "edcb2fd7-7433-4ebf-9636-69a3a673e2de"
      },
      "outputs": [],
      "source": [
        "# 準備\n",
        "library(caret)\n",
        "library(tidyverse)\n",
        "my_data <- cars\n",
        "\n",
        "# 訓練\n",
        "my_model <- train(form = dist ~ speed, data = my_data, method = \"knn\")\n",
        "\n",
        "# 可視化の準備\n",
        "f <- function(x) { my_model %>% predict(data.frame(speed = x))}"
      ],
      "id": "edcb2fd7-7433-4ebf-9636-69a3a673e2de"
    },
    {
      "cell_type": "code",
      "execution_count": null,
      "metadata": {
        "id": "7c3d4d9a-eff1-4702-949f-ee3f98a08281"
      },
      "outputs": [],
      "source": [
        "my_data %>%\n",
        "  ggplot(aes(x = speed,\n",
        "             y = dist,\n",
        "             color = \"data\")) +\n",
        "  geom_point() +\n",
        "  stat_function(\n",
        "    fun = f,\n",
        "    mapping = aes(color = \"model\"))"
      ],
      "id": "7c3d4d9a-eff1-4702-949f-ee3f98a08281"
    },
    {
      "cell_type": "code",
      "execution_count": null,
      "metadata": {
        "id": "6dd21a1c-45bc-4c8d-93f3-e383848f1da8"
      },
      "outputs": [],
      "source": [
        "y  <- my_data$dist\n",
        "y_ <- my_model %>% predict(my_data)\n",
        "\n",
        "RMSE(y_, y)\n",
        "\n",
        "R2(pred = y_, obs = y,\n",
        "   form = \"traditional\")\n",
        "\n",
        "R2(pred = y_, obs = y,\n",
        "   form = \"corr\")"
      ],
      "id": "6dd21a1c-45bc-4c8d-93f3-e383848f1da8"
    },
    {
      "id": "3f54daa7",
      "cell_type": "markdown",
      "source": [
        "## 7.6 検証"
      ],
      "metadata": {
        "id": "3f54daa7"
      }
    },
    {
      "cell_type": "code",
      "execution_count": null,
      "metadata": {
        "id": "7753fb65-72a6-42b9-ae4c-4ffb2f4b6205"
      },
      "outputs": [],
      "source": [
        "library(caret)\n",
        "library(tidyverse)\n",
        "my_data <- cars\n",
        "my_model <- train(form = dist ~ speed, data = my_data, method = \"lm\")\n",
        "\n",
        "my_model$results"
      ],
      "id": "7753fb65-72a6-42b9-ae4c-4ffb2f4b6205"
    },
    {
      "cell_type": "code",
      "execution_count": null,
      "metadata": {
        "id": "4d66dc36-1c88-40de-a633-bbc45285fe0d"
      },
      "outputs": [],
      "source": [
        "my_model <- train(form = dist ~ speed, data = my_data, method = \"lm\",\n",
        "                  trControl = trainControl(method = \"cv\", number = 5))\n",
        "my_model$results"
      ],
      "id": "4d66dc36-1c88-40de-a633-bbc45285fe0d"
    },
    {
      "cell_type": "code",
      "execution_count": null,
      "metadata": {
        "id": "4643044d-8edc-42f2-969d-ac6849451e1c"
      },
      "outputs": [],
      "source": [
        "my_model <- train(form = dist ~ speed, data = my_data, method = \"lm\",\n",
        "                  trControl = trainControl(method = \"LOOCV\"))\n",
        "my_model$results"
      ],
      "id": "4643044d-8edc-42f2-969d-ac6849451e1c"
    },
    {
      "cell_type": "code",
      "execution_count": null,
      "metadata": {
        "id": "a487ca56-b9d2-41d8-86cc-fd64bb74b8e2"
      },
      "outputs": [],
      "source": [
        "library(doParallel)\n",
        "cl <- makeCluster(detectCores())\n",
        "registerDoParallel(cl)"
      ],
      "id": "a487ca56-b9d2-41d8-86cc-fd64bb74b8e2"
    },
    {
      "cell_type": "code",
      "execution_count": null,
      "metadata": {
        "id": "3628dc2f-3e14-4527-82da-61cf309a1fcf"
      },
      "outputs": [],
      "source": [
        "library(caret)\n",
        "library(tidyverse)\n",
        "my_data <- cars\n",
        "my_model <- train(form = dist ~ speed, data = my_data, method = \"lm\")\n",
        "y  <- my_data$dist\n",
        "y_ <- my_model %>% predict(my_data)"
      ],
      "id": "3628dc2f-3e14-4527-82da-61cf309a1fcf"
    },
    {
      "cell_type": "code",
      "execution_count": null,
      "metadata": {
        "id": "ccae4bf2-a512-43fa-b002-54c77c15f69d"
      },
      "outputs": [],
      "source": [
        "# RMSE（訓練）\n",
        "RMSE(y_, y)\n",
        "\n",
        "# 決定係数1（訓練）\n",
        "R2(pred = y_, obs = y,\n",
        "   form = \"traditional\")\n",
        "\n",
        "# 決定係数6（訓練）\n",
        "R2(pred = y_, obs = y,\n",
        "   form = \"corr\")"
      ],
      "id": "ccae4bf2-a512-43fa-b002-54c77c15f69d"
    },
    {
      "cell_type": "code",
      "execution_count": null,
      "metadata": {
        "id": "8592f7c4-6174-4f3c-b69b-909544c66228"
      },
      "outputs": [],
      "source": [
        "postResample(pred = y_, obs = y)"
      ],
      "id": "8592f7c4-6174-4f3c-b69b-909544c66228"
    },
    {
      "cell_type": "code",
      "execution_count": null,
      "metadata": {
        "id": "3f3e57bc-4fae-4003-8db3-c99ca05e4729"
      },
      "outputs": [],
      "source": [
        "my_model <- train(form = dist ~ speed, data = my_data, method = \"lm\")\n",
        "my_model$results\n",
        "# 左から，RMSE（検証），決定係数6（検証），MAE（検証）"
      ],
      "id": "3f3e57bc-4fae-4003-8db3-c99ca05e4729"
    },
    {
      "cell_type": "code",
      "execution_count": null,
      "metadata": {
        "id": "687d4c3b-1f77-475a-a233-1e8100c7b145"
      },
      "outputs": [],
      "source": [
        "my_model <- train(form = dist ~ speed, data = my_data, method = \"lm\",\n",
        "                  trControl = trainControl(method = \"LOOCV\"))\n",
        "\n",
        "# 方法1\n",
        "my_model$results\n",
        "\n",
        "# 方法2\n",
        "y  <- my_model$pred$obs\n",
        "y_ <- my_model$pred$pred\n",
        "mean((y - y_)^2)**0.5"
      ],
      "id": "687d4c3b-1f77-475a-a233-1e8100c7b145"
    },
    {
      "cell_type": "code",
      "execution_count": null,
      "metadata": {
        "id": "4bf36f9c-8bd9-43a6-ad9e-76a2d3b0fce7"
      },
      "outputs": [],
      "source": [
        "mean(((y - y_)^2)**0.5)"
      ],
      "id": "4bf36f9c-8bd9-43a6-ad9e-76a2d3b0fce7"
    },
    {
      "cell_type": "code",
      "execution_count": null,
      "metadata": {
        "id": "972f259b-cfeb-46b2-b4ff-8a12f238173c"
      },
      "outputs": [],
      "source": [
        "library(caret)\n",
        "library(tidyverse)\n",
        "my_data <- cars\n",
        "\n",
        "my_lm_model <- train(form = dist ~ speed, data = my_data, method = \"lm\",\n",
        "                     trControl = trainControl(method = \"LOOCV\"))\n",
        "\n",
        "my_knn_model <- train(form = dist ~ speed, data = my_data, method = \"knn\",\n",
        "                      tuneGrid = data.frame(k = 5),\n",
        "                      trControl = trainControl(method = \"LOOCV\"))"
      ],
      "id": "972f259b-cfeb-46b2-b4ff-8a12f238173c"
    },
    {
      "cell_type": "code",
      "execution_count": null,
      "metadata": {
        "id": "97306e53-7deb-4259-b5f9-2f99b756db38"
      },
      "outputs": [],
      "source": [
        "my_lm_model$results$RMSE\n",
        "\n",
        "my_knn_model$results$RMSE"
      ],
      "id": "97306e53-7deb-4259-b5f9-2f99b756db38"
    },
    {
      "cell_type": "code",
      "execution_count": null,
      "metadata": {
        "id": "2778cbd1-e1b8-497f-99a6-605c374e2856"
      },
      "outputs": [],
      "source": [
        "y     <- my_data$dist\n",
        "y_lm  <- my_lm_model$pred$pred\n",
        "y_knn <- my_knn_model$pred$pred\n",
        "\n",
        "my_df <- data.frame(\n",
        "  lm  = (y - y_lm)^2,\n",
        "  knn = (y - y_knn)^2)\n",
        "\n",
        "head(my_df)"
      ],
      "id": "2778cbd1-e1b8-497f-99a6-605c374e2856"
    },
    {
      "cell_type": "code",
      "execution_count": null,
      "metadata": {
        "id": "d3445fd9-f6ad-45bb-b347-976b412464d7"
      },
      "outputs": [],
      "source": [
        "boxplot(my_df, ylab = \"r^2\")"
      ],
      "id": "d3445fd9-f6ad-45bb-b347-976b412464d7"
    },
    {
      "cell_type": "code",
      "execution_count": null,
      "metadata": {
        "id": "6b0b5c2e-2d29-4dc0-9561-4588a56a74e5"
      },
      "outputs": [],
      "source": [
        "t.test(x = my_df$lm, y = my_df$knn,\n",
        "       conf.level = 0.95,\n",
        "       paired = TRUE,\n",
        "       alternative = \"two.sided\")\n"
      ],
      "id": "6b0b5c2e-2d29-4dc0-9561-4588a56a74e5"
    },
    {
      "id": "0ea83b94",
      "cell_type": "markdown",
      "source": [
        "## 7.7 パラメータチューニング"
      ],
      "metadata": {
        "id": "0ea83b94"
      }
    },
    {
      "cell_type": "code",
      "execution_count": null,
      "metadata": {
        "id": "a0559a26-b79b-47b3-801d-c8f0a49c9e8e"
      },
      "outputs": [],
      "source": [
        "library(caret)\n",
        "library(tidyverse)\n",
        "my_data <- cars\n",
        "my_model <- train(form = dist ~ speed, data = my_data, method = \"knn\")\n",
        "my_model$results"
      ],
      "id": "a0559a26-b79b-47b3-801d-c8f0a49c9e8e"
    },
    {
      "cell_type": "code",
      "execution_count": null,
      "metadata": {
        "id": "cc1f8c95-68f3-4515-bf0d-3a7160c3afd6"
      },
      "outputs": [],
      "source": [
        "my_params <- expand.grid(k = 1:15)\n",
        "\n",
        "my_model <- train(form = dist ~ speed, data = my_data, method = \"knn\",\n",
        "                  tuneGrid = my_params,\n",
        "                  trControl = trainControl(method = \"LOOCV\"))"
      ],
      "id": "cc1f8c95-68f3-4515-bf0d-3a7160c3afd6"
    },
    {
      "cell_type": "code",
      "execution_count": null,
      "metadata": {
        "id": "9ff42297-43ae-43e5-ab72-4d764c62c273"
      },
      "outputs": [],
      "source": [
        "head(my_model$results)"
      ],
      "id": "9ff42297-43ae-43e5-ab72-4d764c62c273"
    },
    {
      "cell_type": "code",
      "execution_count": null,
      "metadata": {
        "id": "9ae94d33-100b-47ae-bc69-b8de5a86ad77"
      },
      "outputs": [],
      "source": [
        "ggplot(my_model)"
      ],
      "id": "9ae94d33-100b-47ae-bc69-b8de5a86ad77"
    },
    {
      "cell_type": "code",
      "execution_count": null,
      "metadata": {
        "id": "eb736cba-9583-42d9-b2f6-28b2e12cd86f"
      },
      "outputs": [],
      "source": [
        "my_model$bestTune"
      ],
      "id": "eb736cba-9583-42d9-b2f6-28b2e12cd86f"
    },
    {
      "cell_type": "code",
      "execution_count": null,
      "metadata": {
        "id": "2c184213-648e-4712-b2a9-6a3ed7ae98a2"
      },
      "outputs": [],
      "source": [
        "my_model$results %>%\n",
        "  filter(RMSE == min(RMSE))"
      ],
      "id": "2c184213-648e-4712-b2a9-6a3ed7ae98a2"
    },
    {
      "cell_type": "code",
      "execution_count": null,
      "metadata": {
        "id": "2f65a922-d32d-46d2-a9f5-1e390a5f08d5"
      },
      "outputs": [],
      "source": [
        "y  <- my_data$dist\n",
        "y_ <- my_model %>% predict(my_data)\n",
        "RMSE(y_, y)"
      ],
      "id": "2f65a922-d32d-46d2-a9f5-1e390a5f08d5"
    },
    {
      "cell_type": "code",
      "execution_count": null,
      "metadata": {
        "id": "ed1a64ad-eea1-4239-9034-e8e10d70bec8"
      },
      "outputs": [],
      "source": [
        "library(caret)\n",
        "library(tidyverse)\n",
        "my_data <- cars\n",
        "\n",
        "my_loocv <- function(k) {\n",
        "  my_model <- train(form = dist ~ speed, data = my_data, method = \"knn\",\n",
        "                    tuneGrid = data.frame(k = k),\n",
        "                    trControl = trainControl(method = \"LOOCV\"))\n",
        "  y  <- my_data$dist\n",
        "  y_ <- my_model %>% predict(my_data)\n",
        "  list(k = k,\n",
        "       training = RMSE(y_, y),             # RMSE（訓練）\n",
        "       validation = my_model$results$RMSE) # RMSE（検証）\n",
        "}\n",
        "\n",
        "my_results <- 1:15 %>% map_dfr(my_loocv)"
      ],
      "id": "ed1a64ad-eea1-4239-9034-e8e10d70bec8"
    },
    {
      "cell_type": "code",
      "execution_count": null,
      "metadata": {
        "id": "f208065f-0020-477b-a10f-ce5bc125f61d"
      },
      "outputs": [],
      "source": [
        "my_results %>%\n",
        "  pivot_longer(-k) %>%\n",
        "  ggplot(aes(x = k, y = value,\n",
        "             color = name)) +\n",
        "  geom_line() + geom_point() +\n",
        "  xlab(\"#Neighbors\") + ylab(\"RMSE\") +\n",
        "  theme(legend.position = c(1, 0),\n",
        "        legend.justification = c(1, 0))"
      ],
      "id": "f208065f-0020-477b-a10f-ce5bc125f61d"
    },
    {
      "cell_type": "code",
      "execution_count": null,
      "metadata": {
        "id": "10c01915-113a-4af2-aca7-03ab714a4b2a"
      },
      "outputs": [],
      "source": [
        "# 並列クラスタの停止\n",
        "stopCluster(cl)\n",
        "registerDoSEQ()"
      ],
      "id": "10c01915-113a-4af2-aca7-03ab714a4b2a"
    },
    {
      "id": "ea88df27",
      "cell_type": "markdown",
      "source": [
        "# 8 回帰2（重回帰）"
      ],
      "metadata": {
        "id": "ea88df27"
      }
    },
    {
      "cell_type": "code",
      "execution_count": null,
      "metadata": {
        "id": "379f2240-2aa4-492c-87e7-bbef33e4b5cc"
      },
      "outputs": [],
      "source": [
        "# Google Colaboratoryの環境設定\n",
        "if (file.exists(\"/content\")) {\n",
        "  options(Ncpus = parallel::detectCores())\n",
        "  installed_packages <- rownames(installed.packages())\n",
        "  packages_to_install <- c(\"caret\", \"ggfortify\", \"glmnet\", \"glmnetUtils\", \"leaps\", \"neuralnet\", \"psych\")\n",
        "  install.packages(setdiff(packages_to_install, installed_packages))\n",
        "}"
      ],
      "id": "379f2240-2aa4-492c-87e7-bbef33e4b5cc"
    },
    {
      "id": "279fba58",
      "cell_type": "markdown",
      "source": [
        "## 8.1 ブドウの生育条件とワインの価格"
      ],
      "metadata": {
        "id": "279fba58"
      }
    },
    {
      "cell_type": "code",
      "execution_count": null,
      "metadata": {
        "id": "b4cdd59c-5582-447d-ad7e-4757bf9ede01"
      },
      "outputs": [],
      "source": [
        "library(tidyverse)\n",
        "my_url <- \"http://www.liquidasset.com/winedata.html\"\n",
        "tmp <- read.table(file = my_url,   # 読み込む対象\n",
        "                  header = TRUE,   # 1行目は変数名\n",
        "                  na.string = \".\", # 欠損値を表す文字列\n",
        "                  skip = 62,       # 読み飛ばす行数\n",
        "                  nrows = 38)      # 読み込む行数\n",
        "psych::describe(tmp)"
      ],
      "id": "b4cdd59c-5582-447d-ad7e-4757bf9ede01"
    },
    {
      "cell_type": "code",
      "execution_count": null,
      "metadata": {
        "id": "774c85de-89e3-4469-9a19-aa70446d9d33"
      },
      "outputs": [],
      "source": [
        "my_data <- na.omit(tmp[, -c(1, 2)])\n",
        "head(my_data)"
      ],
      "id": "774c85de-89e3-4469-9a19-aa70446d9d33"
    },
    {
      "cell_type": "code",
      "execution_count": null,
      "metadata": {
        "id": "40c05e43-7232-4a54-a4f1-206148569a7e"
      },
      "outputs": [],
      "source": [
        "dim(my_data)"
      ],
      "id": "40c05e43-7232-4a54-a4f1-206148569a7e"
    },
    {
      "cell_type": "code",
      "execution_count": null,
      "metadata": {
        "id": "99996286-13cb-4fff-887e-4a205000b882"
      },
      "outputs": [],
      "source": [
        "my_data %>% write_csv(\"wine.csv\")"
      ],
      "id": "99996286-13cb-4fff-887e-4a205000b882"
    },
    {
      "cell_type": "code",
      "execution_count": null,
      "metadata": {
        "id": "b43b73da-3c6c-4375-8bf4-0987ff7bdebb"
      },
      "outputs": [],
      "source": [
        "#my_data <- read_csv(\"wine.csv\") # 作ったファイルを使う場合\n",
        "my_url <- str_c(\"https://raw.githubusercontent.com/taroyabuki\",\n",
        "                \"/fromzero/master/data/wine.csv\")\n",
        "my_data <- read_csv(my_url)"
      ],
      "id": "b43b73da-3c6c-4375-8bf4-0987ff7bdebb"
    },
    {
      "id": "7d8ec028",
      "cell_type": "markdown",
      "source": [
        "## 8.2 重回帰分析"
      ],
      "metadata": {
        "id": "7d8ec028"
      }
    },
    {
      "cell_type": "code",
      "execution_count": null,
      "metadata": {
        "id": "d36b3c29-acaf-4e7e-8a16-a84746375d2d"
      },
      "outputs": [],
      "source": [
        "library(caret)\n",
        "library(tidyverse)\n",
        "my_url <- str_c(\"https://raw.githubusercontent.com/taroyabuki\",\n",
        "                \"/fromzero/master/data/wine.csv\")\n",
        "my_data <- read_csv(my_url)\n",
        "\n",
        "my_model <- train(form = LPRICE2 ~ WRAIN + DEGREES + HRAIN + TIME_SV,\n",
        "                  data = my_data,\n",
        "                  method = \"lm\",\n",
        "                  trControl = trainControl(method = \"LOOCV\"))"
      ],
      "id": "d36b3c29-acaf-4e7e-8a16-a84746375d2d"
    },
    {
      "cell_type": "code",
      "execution_count": null,
      "metadata": {
        "id": "0c8623c4-6a3a-45cb-8115-ba99c60e56c0"
      },
      "outputs": [],
      "source": [
        "coef(my_model$finalModel) %>%\n",
        "  as.data.frame"
      ],
      "id": "0c8623c4-6a3a-45cb-8115-ba99c60e56c0"
    },
    {
      "cell_type": "code",
      "execution_count": null,
      "metadata": {
        "id": "8711900e-222e-4771-aac5-6ac837440378"
      },
      "outputs": [],
      "source": [
        "my_test <- data.frame(\n",
        "  WRAIN = 500, DEGREES = 17,\n",
        "  HRAIN = 120, TIME_SV = 2)\n",
        "my_model %>% predict(my_test)"
      ],
      "id": "8711900e-222e-4771-aac5-6ac837440378"
    },
    {
      "cell_type": "code",
      "execution_count": null,
      "metadata": {
        "id": "cb7940b2-35c1-453c-8cd6-27f647930805"
      },
      "outputs": [],
      "source": [
        "y  <- my_data$LPRICE2\n",
        "y_ <- my_model %>% predict(my_data)\n",
        "\n",
        "RMSE(y_, y)\n",
        "\n",
        "R2(pred = y_, obs = y,\n",
        "   form = \"traditional\")\n",
        "\n",
        "R2(pred = y_, obs = y,\n",
        "   form = \"corr\")"
      ],
      "id": "cb7940b2-35c1-453c-8cd6-27f647930805"
    },
    {
      "cell_type": "code",
      "execution_count": null,
      "metadata": {
        "id": "b2f4a62e-7b3c-4f77-a0e1-aa8539bc4f75"
      },
      "outputs": [],
      "source": [
        "my_model$results"
      ],
      "id": "b2f4a62e-7b3c-4f77-a0e1-aa8539bc4f75"
    },
    {
      "cell_type": "code",
      "execution_count": null,
      "metadata": {
        "id": "a96f0d55-68b0-4309-b298-c3d9b03bbbb3"
      },
      "outputs": [],
      "source": [
        "M <- my_data[, -1] %>%\n",
        "  mutate(b0 = 1) %>% as.matrix\n",
        "b <- MASS::ginv(M) %*% y\n",
        "matrix(b,\n",
        "       dimnames = list(colnames(M)))"
      ],
      "id": "a96f0d55-68b0-4309-b298-c3d9b03bbbb3"
    },
    {
      "id": "b859ec38",
      "cell_type": "markdown",
      "source": [
        "## 8.3 標準化"
      ],
      "metadata": {
        "id": "b859ec38"
      }
    },
    {
      "cell_type": "code",
      "execution_count": null,
      "metadata": {
        "id": "e1923c9f-3807-4823-955d-8903797d1dd2"
      },
      "outputs": [],
      "source": [
        "library(caret)\n",
        "library(tidyverse)\n",
        "my_url <- str_c(\"https://raw.githubusercontent.com/taroyabuki\",\n",
        "                \"/fromzero/master/data/wine.csv\")\n",
        "my_data <- read_csv(my_url)\n",
        "\n",
        "my_data %>%\n",
        "  mutate_if(is.numeric, scale) %>% # 数値の列の標準化\n",
        "  pivot_longer(-LPRICE2) %>%\n",
        "  ggplot(aes(x = name, y = value)) +\n",
        "  geom_boxplot() +\n",
        "  stat_summary(fun = mean, geom = \"point\", size = 3) +\n",
        "  xlab(NULL)"
      ],
      "id": "e1923c9f-3807-4823-955d-8903797d1dd2"
    },
    {
      "cell_type": "code",
      "execution_count": null,
      "metadata": {
        "id": "9819300a-46bc-429f-948f-9fb4c1939bd0"
      },
      "outputs": [],
      "source": [
        "my_model <- train(\n",
        "  form = LPRICE2 ~ .,\n",
        "  data = my_data,\n",
        "  method = \"lm\",\n",
        "  preProcess = c(\"center\", \"scale\"))"
      ],
      "id": "9819300a-46bc-429f-948f-9fb4c1939bd0"
    },
    {
      "cell_type": "code",
      "execution_count": null,
      "metadata": {
        "id": "282283bc-e325-457a-8551-e41f821a3e49"
      },
      "outputs": [],
      "source": [
        "coef(my_model$finalModel) %>%\n",
        "  as.data.frame"
      ],
      "id": "282283bc-e325-457a-8551-e41f821a3e49"
    },
    {
      "cell_type": "code",
      "execution_count": null,
      "metadata": {
        "id": "b496b090-c1be-46d4-ba82-f27970687596"
      },
      "outputs": [],
      "source": [
        "my_test <- data.frame(\n",
        "  WRAIN = 500, DEGREES = 17,\n",
        "  HRAIN = 120, TIME_SV = 2)\n",
        "my_model %>% predict(my_test)"
      ],
      "id": "b496b090-c1be-46d4-ba82-f27970687596"
    },
    {
      "id": "5b0a2ab0",
      "cell_type": "markdown",
      "source": [
        "## 8.4 入力変数の数とモデルの良さ"
      ],
      "metadata": {
        "id": "5b0a2ab0"
      }
    },
    {
      "cell_type": "code",
      "execution_count": null,
      "metadata": {
        "id": "1d2314ce-930d-40ec-9909-dd587fb91d4f"
      },
      "outputs": [],
      "source": [
        "library(caret)\n",
        "library(tidyverse)\n",
        "my_url <- str_c(\"https://raw.githubusercontent.com/taroyabuki\",\n",
        "                \"/fromzero/master/data/wine.csv\")\n",
        "my_data <- read_csv(my_url)\n",
        "\n",
        "n <- nrow(my_data)\n",
        "my_data2 <- my_data %>% mutate(v1 = 0:(n - 1) %% 2,\n",
        "                               v2 = 0:(n - 1) %% 3)\n",
        "head(my_data2)"
      ],
      "id": "1d2314ce-930d-40ec-9909-dd587fb91d4f"
    },
    {
      "cell_type": "code",
      "execution_count": null,
      "metadata": {
        "id": "63baa206-2408-4fe4-8dc8-17b1fb965182"
      },
      "outputs": [],
      "source": [
        "my_model2 <- train(form = LPRICE2 ~ ., data = my_data2, method = \"lm\",\n",
        "                   trControl = trainControl(method = \"LOOCV\"))\n",
        "y  <- my_data2$LPRICE2\n",
        "y_ <- my_model2 %>% predict(my_data2)\n",
        "\n",
        "RMSE(y_, y)\n",
        "\n",
        "my_model2$results$RMSE"
      ],
      "id": "63baa206-2408-4fe4-8dc8-17b1fb965182"
    },
    {
      "id": "3f208f93",
      "cell_type": "markdown",
      "source": [
        "## 8.5 変数選択"
      ],
      "metadata": {
        "id": "3f208f93"
      }
    },
    {
      "cell_type": "code",
      "execution_count": null,
      "metadata": {
        "id": "5a1305d0-1af5-4d7b-875b-f2db94543ff7"
      },
      "outputs": [],
      "source": [
        "library(caret)\n",
        "library(tidyverse)\n",
        "my_url <- str_c(\"https://raw.githubusercontent.com/taroyabuki\",\n",
        "                \"/fromzero/master/data/wine.csv\")\n",
        "my_data <- read_csv(my_url)\n",
        "n <- nrow(my_data)\n",
        "my_data2 <- my_data %>% mutate(v1 = 0:(n - 1) %% 2,\n",
        "                               v2 = 0:(n - 1) %% 3)"
      ],
      "id": "5a1305d0-1af5-4d7b-875b-f2db94543ff7"
    },
    {
      "cell_type": "code",
      "execution_count": null,
      "metadata": {
        "id": "cf36f080-8614-4677-bfee-d0edde1849ef"
      },
      "outputs": [],
      "source": [
        "my_model <- train(form = LPRICE2 ~ .,\n",
        "                  data = my_data2,\n",
        "                  method = \"leapForward\", # 変数増加法\n",
        "                  trControl = trainControl(method = \"LOOCV\"),\n",
        "                  tuneGrid = data.frame(nvmax = 1:6)) # 選択する変数の上限\n",
        "summary(my_model$finalModel)$outmat"
      ],
      "id": "cf36f080-8614-4677-bfee-d0edde1849ef"
    },
    {
      "id": "061ea0e0",
      "cell_type": "markdown",
      "source": [
        "## 8.6 補足：正則化"
      ],
      "metadata": {
        "id": "061ea0e0"
      }
    },
    {
      "cell_type": "code",
      "execution_count": null,
      "metadata": {
        "id": "01cf2326-fc3a-4afd-b88d-6cbdb0e213d5"
      },
      "outputs": [],
      "source": [
        "library(caret)\n",
        "library(tidyverse)\n",
        "my_url <- str_c(\"https://raw.githubusercontent.com/taroyabuki\",\n",
        "                \"/fromzero/master/data/wine.csv\")\n",
        "my_data <- read_csv(my_url)"
      ],
      "id": "01cf2326-fc3a-4afd-b88d-6cbdb0e213d5"
    },
    {
      "cell_type": "code",
      "execution_count": null,
      "metadata": {
        "id": "54d36924-aa0c-4a41-a0a9-7707321ed393"
      },
      "outputs": [],
      "source": [
        "A <- 2\n",
        "B <- 0.1\n",
        "\n",
        "my_model <- train(\n",
        "  form = LPRICE2 ~ .,\n",
        "  data = my_data,\n",
        "  method = \"glmnet\",\n",
        "  standardize = TRUE,\n",
        "  tuneGrid = data.frame(\n",
        "    lambda = A,\n",
        "    alpha = B))"
      ],
      "id": "54d36924-aa0c-4a41-a0a9-7707321ed393"
    },
    {
      "cell_type": "code",
      "execution_count": null,
      "metadata": {
        "id": "71c8216a-b035-4fa4-9ea9-c8110e7ffe3b"
      },
      "outputs": [],
      "source": [
        "coef(my_model$finalModel, A)"
      ],
      "id": "71c8216a-b035-4fa4-9ea9-c8110e7ffe3b"
    },
    {
      "cell_type": "code",
      "execution_count": null,
      "metadata": {
        "id": "6d3b37b5-4293-4f84-89b6-04e97e0767a4"
      },
      "outputs": [],
      "source": [
        "my_test <- data.frame(\n",
        "  WRAIN = 500, DEGREES = 17,\n",
        "  HRAIN = 120, TIME_SV = 2)\n",
        "my_model %>% predict(my_test)"
      ],
      "id": "6d3b37b5-4293-4f84-89b6-04e97e0767a4"
    },
    {
      "cell_type": "code",
      "execution_count": null,
      "metadata": {
        "id": "e74f3dbe-15d0-471c-bf72-7846b8ac9780"
      },
      "outputs": [],
      "source": [
        "library(ggfortify)\n",
        "library(glmnetUtils)\n",
        "\n",
        "my_data2 <- my_data %>% scale %>%\n",
        "  as.data.frame\n",
        "\n",
        "B <- 0.1\n",
        "\n",
        "glmnet(\n",
        "  form = LPRICE2 ~ .,\n",
        "  data = my_data2,\n",
        "  alpha = B) %>%\n",
        "  autoplot(xvar = \"lambda\") +\n",
        "  xlab(\"log A ( = log lambda)\") +\n",
        "  theme(legend.position = c(0.15, 0.25))"
      ],
      "id": "e74f3dbe-15d0-471c-bf72-7846b8ac9780"
    },
    {
      "cell_type": "code",
      "execution_count": null,
      "metadata": {
        "id": "e6ec587d-3448-4356-800c-30101e758c23"
      },
      "outputs": [],
      "source": [
        "As <- seq(0, 0.1, length.out = 21)\n",
        "Bs <- seq(0, 0.1, length.out =  6)\n",
        "\n",
        "my_model <- train(\n",
        "  form = LPRICE2 ~ ., data = my_data, method = \"glmnet\", standardize = TRUE,\n",
        "  trControl = trainControl(method = \"LOOCV\"),\n",
        "  tuneGrid = expand.grid(lambda = As, alpha  = Bs))\n",
        "\n",
        "my_model$bestTune"
      ],
      "id": "e6ec587d-3448-4356-800c-30101e758c23"
    },
    {
      "cell_type": "code",
      "execution_count": null,
      "metadata": {
        "id": "d942dde7-2a49-49e6-abf0-1d1e4e640998"
      },
      "outputs": [],
      "source": [
        "tmp <- \"B ( = alpha)\"\n",
        "ggplot(my_model) +\n",
        "  theme(legend.position = c(0, 1), legend.justification = c(0, 1)) +\n",
        "  xlab(\"A ( = lambda)\") +\n",
        "  guides(shape = guide_legend(tmp), color = guide_legend(tmp))"
      ],
      "id": "d942dde7-2a49-49e6-abf0-1d1e4e640998"
    },
    {
      "cell_type": "code",
      "execution_count": null,
      "metadata": {
        "id": "18faf59f-03a9-4dc4-882a-da67947a1eb6"
      },
      "outputs": [],
      "source": [
        "my_model$results %>%\n",
        "  filter(RMSE == min(RMSE))"
      ],
      "id": "18faf59f-03a9-4dc4-882a-da67947a1eb6"
    },
    {
      "id": "3cdeadb0",
      "cell_type": "markdown",
      "source": [
        "## 8.7 ニューラルネットワーク"
      ],
      "metadata": {
        "id": "3cdeadb0"
      }
    },
    {
      "cell_type": "code",
      "execution_count": null,
      "metadata": {
        "id": "ed4cee84-4d3e-4734-97e3-94aa20787822"
      },
      "outputs": [],
      "source": [
        "curve(1 / (1 + exp(-x)), -6, 6)"
      ],
      "id": "ed4cee84-4d3e-4734-97e3-94aa20787822"
    },
    {
      "cell_type": "code",
      "execution_count": null,
      "metadata": {
        "id": "a4d8b731-55cb-4875-9fec-c1a2eab16bcd"
      },
      "outputs": [],
      "source": [
        "library(caret)\n",
        "library(tidyverse)\n",
        "my_url <- str_c(\"https://raw.githubusercontent.com/taroyabuki\",\n",
        "                \"/fromzero/master/data/wine.csv\")\n",
        "my_data <- read_csv(my_url)"
      ],
      "id": "a4d8b731-55cb-4875-9fec-c1a2eab16bcd"
    },
    {
      "cell_type": "code",
      "execution_count": null,
      "metadata": {
        "id": "56fd7f2c-ef8f-4fa0-b991-1d7f433e3a19"
      },
      "outputs": [],
      "source": [
        "my_model <- train(form = LPRICE2 ~ .,\n",
        "                  data = my_data,\n",
        "                  method = \"neuralnet\",              # ニューラルネットワーク\n",
        "                  preProcess = c(\"center\", \"scale\"), # 標準化\n",
        "                  trControl = trainControl(method = \"LOOCV\"))\n",
        "plot(my_model$finalModel) # 訓練済ネットワークの描画"
      ],
      "id": "56fd7f2c-ef8f-4fa0-b991-1d7f433e3a19"
    },
    {
      "cell_type": "code",
      "execution_count": null,
      "metadata": {
        "id": "510d326f-342e-4132-ba30-b4a4800878e6"
      },
      "outputs": [],
      "source": [
        "my_model$results"
      ],
      "id": "510d326f-342e-4132-ba30-b4a4800878e6"
    },
    {
      "cell_type": "code",
      "execution_count": null,
      "metadata": {
        "id": "e6b0ebc5-58cb-4b4c-8684-f50e3434774c"
      },
      "outputs": [],
      "source": [
        "my_model <- train(\n",
        "  form = LPRICE2 ~ .,\n",
        "  data = my_data,\n",
        "  method = \"neuralnet\",\n",
        "  preProcess = c(\"center\", \"scale\"),\n",
        "  trControl = trainControl(method = \"LOOCV\"),\n",
        "  tuneGrid = expand.grid(layer1 = 1:5,\n",
        "                         layer2 = 0:2,\n",
        "                         layer3 = 0))"
      ],
      "id": "e6b0ebc5-58cb-4b4c-8684-f50e3434774c"
    },
    {
      "cell_type": "code",
      "execution_count": null,
      "metadata": {
        "id": "abd1a6ae-afa5-4fdc-aaf2-e81be2dc098e"
      },
      "outputs": [],
      "source": [
        "my_model$results %>%\n",
        "  filter(RMSE == min(RMSE))"
      ],
      "id": "abd1a6ae-afa5-4fdc-aaf2-e81be2dc098e"
    },
    {
      "id": "a9630aa3",
      "cell_type": "markdown",
      "source": [
        "# 9 分類1（多値分類）"
      ],
      "metadata": {
        "id": "a9630aa3"
      }
    },
    {
      "cell_type": "code",
      "execution_count": null,
      "metadata": {
        "id": "da8d2c4f-aa1d-4a15-b64b-36f135598018"
      },
      "outputs": [],
      "source": [
        "# Google Colaboratoryの環境設定\n",
        "if (file.exists(\"/content\")) {\n",
        "  options(Ncpus = parallel::detectCores())\n",
        "  installed_packages <- rownames(installed.packages())\n",
        "  packages_to_install <- c(\"caret\", \"furrr\", \"psych\", \"randomForest\", \"rpart.plot\", \"xgboost\")\n",
        "  install.packages(setdiff(packages_to_install, installed_packages))\n",
        "}"
      ],
      "id": "da8d2c4f-aa1d-4a15-b64b-36f135598018"
    },
    {
      "id": "fa17bbec",
      "cell_type": "markdown",
      "source": [
        "## 9.1 アヤメのデータ"
      ],
      "metadata": {
        "id": "fa17bbec"
      }
    },
    {
      "cell_type": "code",
      "execution_count": null,
      "metadata": {
        "id": "650a8f09-bae6-45d0-af8f-133b5f89eca6"
      },
      "outputs": [],
      "source": [
        "my_data <- iris\n",
        "head(my_data)"
      ],
      "id": "650a8f09-bae6-45d0-af8f-133b5f89eca6"
    },
    {
      "cell_type": "code",
      "execution_count": null,
      "metadata": {
        "id": "d859e5ee-f0c1-40ad-9d1d-e5cc4381f168"
      },
      "outputs": [],
      "source": [
        "psych::describe(my_data)"
      ],
      "id": "d859e5ee-f0c1-40ad-9d1d-e5cc4381f168"
    },
    {
      "id": "20e5dc1f",
      "cell_type": "markdown",
      "source": [
        "## 9.2 木による分類"
      ],
      "metadata": {
        "id": "20e5dc1f"
      }
    },
    {
      "cell_type": "code",
      "execution_count": null,
      "metadata": {
        "id": "6e74f98b-3801-4ffb-be78-9ed420162d06"
      },
      "outputs": [],
      "source": [
        "library(caret)\n",
        "library(tidyverse)\n",
        "my_data <- iris\n",
        "my_model <- train(form = Species ~ ., data = my_data, method = \"rpart\")"
      ],
      "id": "6e74f98b-3801-4ffb-be78-9ed420162d06"
    },
    {
      "cell_type": "code",
      "execution_count": null,
      "metadata": {
        "id": "db506107-f8b0-4013-9deb-5a3508a6c30e"
      },
      "outputs": [],
      "source": [
        "rpart.plot::rpart.plot(my_model$finalModel, extra = 1)"
      ],
      "id": "db506107-f8b0-4013-9deb-5a3508a6c30e"
    },
    {
      "cell_type": "code",
      "execution_count": null,
      "metadata": {
        "id": "2b4f0351-be1b-42b9-8c2a-80ccd94c1bd1"
      },
      "outputs": [],
      "source": [
        "my_test <- tribble(\n",
        "~Sepal.Length, ~Sepal.Width, ~Petal.Length, ~Petal.Width,\n",
        "          5.0,          3.5,           1.5,          0.5,\n",
        "          6.5,          3.0,           5.0,          2.0)\n",
        "\n",
        "my_model %>% predict(my_test)"
      ],
      "id": "2b4f0351-be1b-42b9-8c2a-80ccd94c1bd1"
    },
    {
      "cell_type": "code",
      "execution_count": null,
      "metadata": {
        "id": "2541cbf3-b89e-4278-ba42-ba8588db7de1"
      },
      "outputs": [],
      "source": [
        "my_model %>% predict(my_test,\n",
        "                     type = \"prob\")"
      ],
      "id": "2541cbf3-b89e-4278-ba42-ba8588db7de1"
    },
    {
      "id": "03363422",
      "cell_type": "markdown",
      "source": [
        "## 9.3 正解率"
      ],
      "metadata": {
        "id": "03363422"
      }
    },
    {
      "cell_type": "code",
      "execution_count": null,
      "metadata": {
        "id": "50c7ea81-372c-4c09-901b-aa331fd75fb7"
      },
      "outputs": [],
      "source": [
        "library(caret)\n",
        "library(tidyverse)\n",
        "my_data <- iris\n",
        "my_model <- train(form = Species ~ ., data = my_data, method = \"rpart2\")\n",
        "\n",
        "y  <- my_data$Species\n",
        "y_ <- my_model %>% predict(my_data)\n",
        "confusionMatrix(data = y_, reference = y)\n",
        "# 以下は割愛"
      ],
      "id": "50c7ea81-372c-4c09-901b-aa331fd75fb7"
    },
    {
      "cell_type": "code",
      "execution_count": null,
      "metadata": {
        "id": "32d598e9-f9d9-4b80-bc39-e1560c2d4377"
      },
      "outputs": [],
      "source": [
        "y  <- my_data$Species\n",
        "y_ <- my_model %>% predict(my_data)\n",
        "mean(y_ == y)"
      ],
      "id": "32d598e9-f9d9-4b80-bc39-e1560c2d4377"
    },
    {
      "cell_type": "code",
      "execution_count": null,
      "metadata": {
        "id": "1ec7e210-99bc-4389-93d9-54e9d4176ac2"
      },
      "outputs": [],
      "source": [
        "my_model <- train(form = Species ~ ., data = my_data, method = \"rpart2\",\n",
        "                  trControl = trainControl(method = \"LOOCV\"))\n",
        "my_model$results"
      ],
      "id": "1ec7e210-99bc-4389-93d9-54e9d4176ac2"
    },
    {
      "cell_type": "code",
      "execution_count": null,
      "metadata": {
        "id": "ea688a43-90b9-4831-97c4-6dd3e665842e"
      },
      "outputs": [],
      "source": [
        "my_model <- train(form = Species ~ ., data = my_data, method = \"rpart2\",\n",
        "                  tuneGrid = data.frame(maxdepth = 1:10),\n",
        "                  trControl = trainControl(method = \"LOOCV\"))\n",
        "my_model$results %>% filter(Accuracy == max(Accuracy))"
      ],
      "id": "ea688a43-90b9-4831-97c4-6dd3e665842e"
    },
    {
      "cell_type": "code",
      "execution_count": null,
      "metadata": {
        "id": "239dd8d3-7eee-40c0-873d-fa7db1fbe026"
      },
      "outputs": [],
      "source": [
        "# パラメータを与えると正解率（LOOCV）を返す関数\n",
        "my_loocv <- function(maxdepth, minbucket, minsplit) {\n",
        "  my_model <- train(form = Species ~ ., data = my_data, method = \"rpart2\",\n",
        "                    trControl = trainControl(method = \"LOOCV\"),\n",
        "                    tuneGrid = data.frame(maxdepth = maxdepth),\n",
        "                    control = rpart::rpart.control(cp = 0.01,\n",
        "                                                   minbucket = minbucket,\n",
        "                                                   minsplit = minsplit))\n",
        "  list(maxdepth = maxdepth,\n",
        "       minbucket = minbucket,\n",
        "       minsplit = minsplit,\n",
        "       Accuracy = my_model$results$Accuracy)\n",
        "}"
      ],
      "id": "239dd8d3-7eee-40c0-873d-fa7db1fbe026"
    },
    {
      "cell_type": "code",
      "execution_count": null,
      "metadata": {
        "id": "13f50948-0762-4bc3-a0f3-9b2014eece6f"
      },
      "outputs": [],
      "source": [
        "my_params <- expand.grid(\n",
        "  maxdepth = 2:5,\n",
        "  minbucket = 1:7,\n",
        "  minsplit = c(2, 20))\n",
        "\n",
        "library(furrr)\n",
        "plan(multisession) # 並列処理の準備\n",
        "my_results <- my_params %>% future_pmap_dfr(my_loocv, # 実行\n",
        "  .options = furrr_options(seed = TRUE))\n",
        "\n",
        "my_results %>% filter(Accuracy == max(Accuracy)) # 正解率（検証）の最大値"
      ],
      "id": "13f50948-0762-4bc3-a0f3-9b2014eece6f"
    },
    {
      "cell_type": "code",
      "execution_count": null,
      "metadata": {
        "id": "ffe886ce-a444-4b7a-8bb1-7ed2f4fef7df"
      },
      "outputs": [],
      "source": [
        "my_model <- train(form = Species ~ ., data = my_data, method = \"rpart2\",\n",
        "                  trControl = trainControl(method = \"none\"),\n",
        "                  tuneGrid = data.frame(maxdepth = 3),\n",
        "                  control = rpart::rpart.control(cp = 0.01,\n",
        "                                                 minbucket = 5,\n",
        "                                                 minsplit = 2))"
      ],
      "id": "ffe886ce-a444-4b7a-8bb1-7ed2f4fef7df"
    },
    {
      "cell_type": "code",
      "execution_count": null,
      "metadata": {
        "id": "8c7d8162-9fe2-4645-b10c-079fad793141"
      },
      "outputs": [],
      "source": [
        "rpart.plot::rpart.plot(\n",
        "  my_model$finalModel, extra = 1)"
      ],
      "id": "8c7d8162-9fe2-4645-b10c-079fad793141"
    },
    {
      "id": "35362e76",
      "cell_type": "markdown",
      "source": [
        "## 9.4 複数の木を使う方法"
      ],
      "metadata": {
        "id": "35362e76"
      }
    },
    {
      "cell_type": "code",
      "execution_count": null,
      "metadata": {
        "id": "c0370be0-073f-43a7-8b6b-3402c28330ef"
      },
      "outputs": [],
      "source": [
        "library(caret)\n",
        "library(tidyverse)\n",
        "my_data <- iris\n",
        "\n",
        "my_model <- train(form = Species ~ ., data = my_data, method = \"rf\",\n",
        "                  tuneGrid = data.frame(mtry = 2:4), # 省略可\n",
        "                  trControl = trainControl(method = \"LOOCV\"))\n",
        "my_model$results"
      ],
      "id": "c0370be0-073f-43a7-8b6b-3402c28330ef"
    },
    {
      "cell_type": "code",
      "execution_count": null,
      "metadata": {
        "id": "a8688ff3-024d-4d59-ad01-5a22d436746f"
      },
      "outputs": [],
      "source": [
        "my_model <- train(\n",
        "  form = Species ~ ., data = my_data, method = \"xgbTree\",\n",
        "  tuneGrid = expand.grid(\n",
        "    nrounds          = c(50, 100, 150),\n",
        "    max_depth        = c(1, 2, 3),\n",
        "    eta              = c(0.3, 0.4),\n",
        "    gamma            = 0,\n",
        "    colsample_bytree = c(0.6, 0.8),\n",
        "    min_child_weight = 1,\n",
        "    subsample        = c(0.5, 0.75, 1)),\n",
        "  trControl = trainControl(method = \"cv\", number = 5)) # 5分割交差検証\n",
        "my_model$results %>% filter(Accuracy == max(Accuracy)) %>% head(5) %>% t"
      ],
      "id": "a8688ff3-024d-4d59-ad01-5a22d436746f"
    },
    {
      "cell_type": "code",
      "execution_count": null,
      "metadata": {
        "id": "de6f287c-4213-4d60-8e1f-bddcc691aaac"
      },
      "outputs": [],
      "source": [
        "my_model <- train(form = Species ~ ., data = my_data, method = \"rf\")\n",
        "ggplot(varImp(my_model))"
      ],
      "id": "de6f287c-4213-4d60-8e1f-bddcc691aaac"
    },
    {
      "id": "38bb6546",
      "cell_type": "markdown",
      "source": [
        "## 9.5 欠損のあるデータでの学習"
      ],
      "metadata": {
        "id": "38bb6546"
      }
    },
    {
      "cell_type": "code",
      "execution_count": null,
      "metadata": {
        "id": "cbfac048-be87-48ed-b5e0-b7b6b96019d5"
      },
      "outputs": [],
      "source": [
        "library(caret)\n",
        "library(tidyverse)\n",
        "my_data <- iris\n",
        "\n",
        "n <- nrow(my_data)\n",
        "my_data$Petal.Length[0:(n - 1) %% 10 == 0] <- NA\n",
        "my_data$Petal.Width[ 0:(n - 1) %% 10 == 1] <- NA\n",
        "\n",
        "psych::describe(my_data) # nの値が135の変数に，150 - 135 = 15個の欠損がある．"
      ],
      "id": "cbfac048-be87-48ed-b5e0-b7b6b96019d5"
    },
    {
      "cell_type": "code",
      "execution_count": null,
      "metadata": {
        "id": "97ea12b0-7b3a-4674-b399-8ffd919b2160"
      },
      "outputs": [],
      "source": [
        "my_model <- train(\n",
        "  form = Species ~ ., data = my_data, method = \"rpart2\",\n",
        "  na.action = na.pass,         # 欠損があっても学習を止めない．\n",
        "  preProcess = \"medianImpute\", # 欠損を中央値で埋める．\n",
        "  trControl = trainControl(method = \"LOOCV\"),\n",
        "  tuneGrid = data.frame(maxdepth = 20),          # 木の高さの上限\n",
        "  control = rpart::rpart.control(minsplit = 2,   # 分岐の条件\n",
        "                                 minbucket = 1)) # 終端ノードの条件\n",
        "max(my_model$results$Accuracy)"
      ],
      "id": "97ea12b0-7b3a-4674-b399-8ffd919b2160"
    },
    {
      "cell_type": "code",
      "execution_count": null,
      "metadata": {
        "id": "30a3082a-40e2-45b6-8bc7-c30383d069c2"
      },
      "outputs": [],
      "source": [
        "my_model <- train(form = Species ~ ., data = my_data, method = \"xgbTree\",\n",
        "                  na.action = na.pass,\n",
        "                  trControl = trainControl(method = \"cv\", number = 5))\n",
        "max(my_model$results$Accuracy)"
      ],
      "id": "30a3082a-40e2-45b6-8bc7-c30383d069c2"
    },
    {
      "id": "bacf46dd",
      "cell_type": "markdown",
      "source": [
        "## 9.6 他の分類手法"
      ],
      "metadata": {
        "id": "bacf46dd"
      }
    },
    {
      "cell_type": "code",
      "execution_count": null,
      "metadata": {
        "id": "d57eb209-48af-4958-bcd8-46712c5f84a2"
      },
      "outputs": [],
      "source": [
        "library(caret)\n",
        "library(tidyverse)\n",
        "my_data <- iris\n",
        "\n",
        "my_model <- train(form = Species ~ ., data = my_data, method = \"knn\",\n",
        "                  trControl = trainControl(method = \"LOOCV\"))\n",
        "my_model$results %>% filter(Accuracy == max(Accuracy))"
      ],
      "id": "d57eb209-48af-4958-bcd8-46712c5f84a2"
    },
    {
      "cell_type": "code",
      "execution_count": null,
      "metadata": {
        "id": "2bea54d9-6321-462b-b100-f5878a3bb419"
      },
      "outputs": [],
      "source": [
        "library(caret)\n",
        "library(tidyverse)\n",
        "my_data <- iris\n",
        "\n",
        "my_model <- train(form = Species ~ ., data = my_data, method = \"nnet\",\n",
        "                  preProcess = c(\"center\", \"scale\"), # 標準化\n",
        "                  trControl = trainControl(method = \"LOOCV\"),\n",
        "                  trace = FALSE) # 途中経過を表示しない\n",
        "my_model$results %>% filter(Accuracy == max(Accuracy))"
      ],
      "id": "2bea54d9-6321-462b-b100-f5878a3bb419"
    },
    {
      "id": "2521a809",
      "cell_type": "markdown",
      "source": [
        "# 10 分類2（2値分類）"
      ],
      "metadata": {
        "id": "2521a809"
      }
    },
    {
      "cell_type": "code",
      "execution_count": null,
      "metadata": {
        "id": "2192e8c0-f1d3-40a1-ac08-8ab5845a96d6"
      },
      "outputs": [],
      "source": [
        "# Google Colaboratoryの環境設定\n",
        "if (file.exists(\"/content\")) {\n",
        "  options(Ncpus = parallel::detectCores())\n",
        "  installed_packages <- rownames(installed.packages())\n",
        "  packages_to_install <- c(\"caret\", \"PRROC\", \"rpart.plot\")\n",
        "  install.packages(setdiff(packages_to_install, installed_packages))\n",
        "}"
      ],
      "id": "2192e8c0-f1d3-40a1-ac08-8ab5845a96d6"
    },
    {
      "id": "f5cc5c86",
      "cell_type": "markdown",
      "source": [
        "## 10.1 2値分類の性能指標"
      ],
      "metadata": {
        "id": "f5cc5c86"
      }
    },
    {
      "cell_type": "code",
      "execution_count": null,
      "metadata": {
        "id": "f7616375-1812-41e1-bb58-5eb76cc2125c"
      },
      "outputs": [],
      "source": [
        "y       <- c(  0,   1,   1,   0,   1,   0,    1,   0,   0,   1)\n",
        "y_score <- c(0.7, 0.8, 0.3, 0.4, 0.9, 0.6, 0.99, 0.1, 0.2, 0.5)"
      ],
      "id": "f7616375-1812-41e1-bb58-5eb76cc2125c"
    },
    {
      "cell_type": "code",
      "execution_count": null,
      "metadata": {
        "id": "c7c88d74-cba1-4e20-85f4-5adb837fabf0"
      },
      "outputs": [],
      "source": [
        "y_ <- ifelse(0.5 <= y_score, 1, 0)\n",
        "y_"
      ],
      "id": "c7c88d74-cba1-4e20-85f4-5adb837fabf0"
    },
    {
      "cell_type": "code",
      "execution_count": null,
      "metadata": {
        "id": "c7472736-6226-4d5a-9e24-c688744f2ece"
      },
      "outputs": [],
      "source": [
        "library(caret)\n",
        "confusionMatrix(data      = as.factor(y_), # 予測\n",
        "                reference = as.factor(y),  # 正解\n",
        "                positive = \"1\",            # 「1」を陽性とする．\n",
        "                mode = \"everything\")       # 全ての指標を求める．"
      ],
      "id": "c7472736-6226-4d5a-9e24-c688744f2ece"
    },
    {
      "id": "41d14b33",
      "cell_type": "markdown",
      "source": [
        "## 10.2 トレードオフ"
      ],
      "metadata": {
        "id": "41d14b33"
      }
    },
    {
      "cell_type": "code",
      "execution_count": null,
      "metadata": {
        "id": "4466f9c5-d703-4d27-975d-557b3916b7ad"
      },
      "outputs": [],
      "source": [
        "library(PRROC)\n",
        "library(tidyverse)\n",
        "\n",
        "y       <- c(  0,   1,   1,   0,   1,   0,    1,   0,   0,   1)\n",
        "y_score <- c(0.7, 0.8, 0.3, 0.4, 0.9, 0.6, 0.99, 0.1, 0.2, 0.5)\n",
        "y_      <- ifelse(0.5 <= y_score, 1, 0)\n",
        "\n",
        "c(sum((y == 0) & (y_ == 1)) / sum(y == 0), # FPR\n",
        "  sum((y == 1) & (y_ == 1)) / sum(y == 1)) # TPR"
      ],
      "id": "4466f9c5-d703-4d27-975d-557b3916b7ad"
    },
    {
      "cell_type": "code",
      "execution_count": null,
      "metadata": {
        "id": "a1fa6503-9620-4546-a6de-1e21dfa1a691"
      },
      "outputs": [],
      "source": [
        "my_roc <- roc.curve(scores.class0 = y_score[y == 1], # 答えが1のもののスコア\n",
        "                    scores.class1 = y_score[y == 0], # 答えが0のもののスコア\n",
        "                    curve = TRUE)\n",
        "my_roc %>% plot(xlab = \"False Positive Rate\",\n",
        "                ylab = \"True Positive Rate\",\n",
        "                legend = FALSE)"
      ],
      "id": "a1fa6503-9620-4546-a6de-1e21dfa1a691"
    },
    {
      "cell_type": "code",
      "execution_count": null,
      "metadata": {
        "id": "6baf9c27-2b3f-43de-b343-9d27f2eb6c7c"
      },
      "outputs": [],
      "source": [
        "my_roc$auc"
      ],
      "id": "6baf9c27-2b3f-43de-b343-9d27f2eb6c7c"
    },
    {
      "cell_type": "code",
      "execution_count": null,
      "metadata": {
        "id": "7c8f0d03-652c-4021-8c61-6e4fa6213a65"
      },
      "outputs": [],
      "source": [
        "c(sum((y == 1) & (y_ == 1)) / sum(y  == 1), # Recall == TPR\n",
        "  sum((y == 1) & (y_ == 1)) / sum(y_ == 1)) # Precision"
      ],
      "id": "7c8f0d03-652c-4021-8c61-6e4fa6213a65"
    },
    {
      "cell_type": "code",
      "execution_count": null,
      "metadata": {
        "id": "2a0a34c7-8980-4a2e-b0ab-fdf8559b2e4e"
      },
      "outputs": [],
      "source": [
        "my_pr <- pr.curve(scores.class0 = y_score[y == 1],\n",
        "                  scores.class1 = y_score[y == 0],\n",
        "                  curve = TRUE)\n",
        "my_pr %>% plot(xlab = \"Recall\",\n",
        "               ylab = \"Precision\",\n",
        "               legend = FALSE)"
      ],
      "id": "2a0a34c7-8980-4a2e-b0ab-fdf8559b2e4e"
    },
    {
      "cell_type": "code",
      "execution_count": null,
      "metadata": {
        "id": "2ad79e87-e0ac-43f9-bf1a-a762a5e85df5"
      },
      "outputs": [],
      "source": [
        "my_pr$auc.integral"
      ],
      "id": "2ad79e87-e0ac-43f9-bf1a-a762a5e85df5"
    },
    {
      "id": "17a0ed00",
      "cell_type": "markdown",
      "source": [
        "## 10.3 タイタニック"
      ],
      "metadata": {
        "id": "17a0ed00"
      }
    },
    {
      "cell_type": "code",
      "execution_count": null,
      "metadata": {
        "id": "d7b676a0-5133-43a2-ac1a-858643d17010"
      },
      "outputs": [],
      "source": [
        "library(caret)\n",
        "library(PRROC)\n",
        "library(tidyverse)\n",
        "\n",
        "my_url <- str_c(\"https://raw.githubusercontent.com/taroyabuki\",\n",
        "                \"/fromzero/master/data/titanic.csv\")\n",
        "my_data <- read_csv(my_url)"
      ],
      "id": "d7b676a0-5133-43a2-ac1a-858643d17010"
    },
    {
      "cell_type": "code",
      "execution_count": null,
      "metadata": {
        "id": "a23fbd41-362e-44d1-8ed6-8a176ba10133"
      },
      "outputs": [],
      "source": [
        "head(my_data)"
      ],
      "id": "a23fbd41-362e-44d1-8ed6-8a176ba10133"
    },
    {
      "cell_type": "code",
      "execution_count": null,
      "metadata": {
        "id": "b26a4b88-beba-4d4e-b5da-71c85bc45e04"
      },
      "outputs": [],
      "source": [
        "my_model <- train(form = Survived ~ ., data = my_data, method = \"rpart2\",\n",
        "                  tuneGrid = data.frame(maxdepth = 2),\n",
        "                  trControl = trainControl(method = \"LOOCV\"))"
      ],
      "id": "b26a4b88-beba-4d4e-b5da-71c85bc45e04"
    },
    {
      "cell_type": "code",
      "execution_count": null,
      "metadata": {
        "id": "567a8a34-47fa-475f-a0ac-d324a3d857d7"
      },
      "outputs": [],
      "source": [
        "rpart.plot::rpart.plot(my_model$finalModel, extra = 1)"
      ],
      "id": "567a8a34-47fa-475f-a0ac-d324a3d857d7"
    },
    {
      "cell_type": "code",
      "execution_count": null,
      "metadata": {
        "id": "29e2f0ee-59c0-43c5-b093-2997b92c27bb"
      },
      "outputs": [],
      "source": [
        "my_model$results"
      ],
      "id": "29e2f0ee-59c0-43c5-b093-2997b92c27bb"
    },
    {
      "cell_type": "code",
      "execution_count": null,
      "metadata": {
        "id": "22f88d9c-413d-4c2f-a16a-883ffb471071"
      },
      "outputs": [],
      "source": [
        "y <- my_data$Survived\n",
        "tmp <- my_model %>% predict(newdata = my_data, type = \"prob\")\n",
        "y_score <- tmp$Yes\n",
        "\n",
        "my_roc <- roc.curve(scores.class0 = y_score[y == \"Yes\"],\n",
        "                    scores.class1 = y_score[y == \"No\"],\n",
        "                    curve = TRUE)\n",
        "my_roc$auc\n",
        "\n",
        "my_roc %>% plot(xlab = \"False Positive Rate\",\n",
        "                ylab = \"True Positive Rate\",\n",
        "                legend = FALSE)"
      ],
      "id": "22f88d9c-413d-4c2f-a16a-883ffb471071"
    },
    {
      "cell_type": "code",
      "execution_count": null,
      "metadata": {
        "id": "ea947bac-5fb5-48ba-b426-c319eee6478d"
      },
      "outputs": [],
      "source": [
        "X <- my_data %>% select(Class) # 質的入力変数\n",
        "y <- my_data$Survived          # 出力変数\n",
        "\n",
        "options(warn = -1) # これ以降，警告を表示しない．\n",
        "my_model1 <- train(x = X, y = y, method = \"rpart2\",\n",
        "                   tuneGrid = data.frame(maxdepth = 2),\n",
        "                   trControl = trainControl(method = \"LOOCV\"))\n",
        "options(warn = 0)  # これ以降，警告を表示する．\n",
        "\n",
        "rpart.plot::rpart.plot(my_model1$finalModel, extra = 1)\n",
        "my_model1$results"
      ],
      "id": "ea947bac-5fb5-48ba-b426-c319eee6478d"
    },
    {
      "cell_type": "code",
      "execution_count": null,
      "metadata": {
        "id": "0403b893-2b00-44f0-bef7-002e37d8eb9f"
      },
      "outputs": [],
      "source": [
        "my_enc <- my_data %>% dummyVars(formula = Survived ~ Class)\n",
        "my_data2 <- my_enc %>%\n",
        "  predict(my_data) %>%\n",
        "  as.data.frame %>%\n",
        "  mutate(Survived = my_data$Survived)\n",
        "\n",
        "my_model2 <- train(form = Survived ~ ., data = my_data2, method = \"rpart2\",\n",
        "                   tuneGrid = data.frame(maxdepth = 2),\n",
        "                   trControl = trainControl(method = \"LOOCV\"))\n",
        "rpart.plot::rpart.plot(my_model2$finalModel, extra = 1)\n",
        "my_model2$results"
      ],
      "id": "0403b893-2b00-44f0-bef7-002e37d8eb9f"
    },
    {
      "cell_type": "code",
      "execution_count": null,
      "metadata": {
        "id": "a0eec41e-f6b0-43b6-a408-7632979f27cf"
      },
      "outputs": [],
      "source": [
        "my_model3 <- train(form = Survived ~ Class, data = my_data, method = \"rpart2\",\n",
        "                   tuneGrid = data.frame(maxdepth = 2),\n",
        "                   trControl = trainControl(method = \"LOOCV\"))\n",
        "rpart.plot::rpart.plot(my_model3$finalModel, extra = 1)\n",
        "my_model3$results"
      ],
      "id": "a0eec41e-f6b0-43b6-a408-7632979f27cf"
    },
    {
      "id": "47603a96",
      "cell_type": "markdown",
      "source": [
        "## 10.4 ロジスティック回帰"
      ],
      "metadata": {
        "id": "47603a96"
      }
    },
    {
      "cell_type": "code",
      "execution_count": null,
      "metadata": {
        "id": "240e9fe9-e13a-49a0-be5c-56f54f2f1f37"
      },
      "outputs": [],
      "source": [
        "curve(1 / (1 + exp(-x)), -6, 6)"
      ],
      "id": "240e9fe9-e13a-49a0-be5c-56f54f2f1f37"
    },
    {
      "cell_type": "code",
      "execution_count": null,
      "metadata": {
        "id": "16b09cc8-2127-41d9-af7f-7d1614704210"
      },
      "outputs": [],
      "source": [
        "library(caret)\n",
        "library(PRROC)\n",
        "library(tidyverse)\n",
        "\n",
        "my_url <- str_c(\"https://raw.githubusercontent.com/taroyabuki\",\n",
        "                \"/fromzero/master/data/titanic.csv\")\n",
        "my_data <- read_csv(my_url)\n",
        "\n",
        "my_model <- train(form = Survived ~ ., data = my_data, method = \"glm\",\n",
        "                  trControl = trainControl(method = \"LOOCV\"))"
      ],
      "id": "16b09cc8-2127-41d9-af7f-7d1614704210"
    },
    {
      "cell_type": "code",
      "execution_count": null,
      "metadata": {
        "id": "a1312f09-30f8-4c04-adc1-7ef23a335c3a"
      },
      "outputs": [],
      "source": [
        "coef(my_model$finalModel) %>%\n",
        "  as.data.frame"
      ],
      "id": "a1312f09-30f8-4c04-adc1-7ef23a335c3a"
    },
    {
      "cell_type": "code",
      "execution_count": null,
      "metadata": {
        "id": "752a312b-0c66-477e-8364-851fe0d947f4"
      },
      "outputs": [],
      "source": [
        "my_model$results"
      ],
      "id": "752a312b-0c66-477e-8364-851fe0d947f4"
    },
    {
      "id": "c69f1ad0",
      "cell_type": "markdown",
      "source": [
        "# 11 深層学習とAutoML"
      ],
      "metadata": {
        "id": "c69f1ad0"
      }
    },
    {
      "cell_type": "code",
      "execution_count": null,
      "metadata": {
        "id": "270d8808-f766-47d9-b42e-77f50952f07b"
      },
      "outputs": [],
      "source": [
        "# Google Colaboratoryの環境設定\n",
        "if (file.exists(\"/content\")) {\n",
        "  options(Ncpus = parallel::detectCores())\n",
        "  installed_packages <- rownames(installed.packages())\n",
        "  packages_to_install <- c(\"h2o\", \"keras\")\n",
        "  install.packages(setdiff(packages_to_install, installed_packages))\n",
        "}"
      ],
      "id": "270d8808-f766-47d9-b42e-77f50952f07b"
    },
    {
      "id": "4c03a295",
      "cell_type": "markdown",
      "source": [
        "## 11.1 Kerasによる回帰"
      ],
      "metadata": {
        "id": "4c03a295"
      }
    },
    {
      "cell_type": "code",
      "execution_count": null,
      "metadata": {
        "id": "7a77be40-ba1e-4aa6-b0bf-74bc21fe828d"
      },
      "outputs": [],
      "source": [
        "library(keras)\n",
        "library(tidyverse)\n",
        "my_url <- str_c(\"https://raw.githubusercontent.com/taroyabuki\",\n",
        "                \"/fromzero/master/data/wine.csv\")\n",
        "tmp <- read_csv(my_url)"
      ],
      "id": "7a77be40-ba1e-4aa6-b0bf-74bc21fe828d"
    },
    {
      "cell_type": "code",
      "execution_count": null,
      "metadata": {
        "id": "ffd26607-6971-4c6b-b3a2-631606555bff"
      },
      "outputs": [],
      "source": [
        "my_data <- tmp[sample(nrow(tmp)), ]"
      ],
      "id": "ffd26607-6971-4c6b-b3a2-631606555bff"
    },
    {
      "cell_type": "code",
      "execution_count": null,
      "metadata": {
        "id": "2326e6ce-3762-445f-88e4-5b4854b3a18d"
      },
      "outputs": [],
      "source": [
        "X <- my_data %>%\n",
        "  select(-LPRICE2) %>% scale\n",
        "y <- my_data$LPRICE2"
      ],
      "id": "2326e6ce-3762-445f-88e4-5b4854b3a18d"
    },
    {
      "cell_type": "code",
      "execution_count": null,
      "metadata": {
        "id": "204dddec-c298-435f-902a-6f8c346fb39b"
      },
      "outputs": [],
      "source": [
        "curve(activation_relu(x), -3, 3)"
      ],
      "id": "204dddec-c298-435f-902a-6f8c346fb39b"
    },
    {
      "cell_type": "code",
      "execution_count": null,
      "metadata": {
        "id": "ba55237e-8561-4352-aad1-fef7e9fca4bd"
      },
      "outputs": [],
      "source": [
        "my_model <- keras_model_sequential() %>%\n",
        "  layer_dense(units = 3, activation = \"relu\", input_shape = c(4)) %>%\n",
        "  layer_dense(units = 1)\n",
        "\n",
        "summary(my_model) # ネットワークの概要\n",
        "# 割愛（Pythonの結果を参照）"
      ],
      "id": "ba55237e-8561-4352-aad1-fef7e9fca4bd"
    },
    {
      "cell_type": "code",
      "execution_count": null,
      "metadata": {
        "id": "afcbb90d-126d-4c9b-968e-26ed66b037f1"
      },
      "outputs": [],
      "source": [
        "my_model %>% compile(\n",
        "  loss = \"mse\",\n",
        "  optimizer = \"rmsprop\")"
      ],
      "id": "afcbb90d-126d-4c9b-968e-26ed66b037f1"
    },
    {
      "cell_type": "code",
      "execution_count": null,
      "metadata": {
        "id": "f6c8cb88-ace4-4771-8778-8e9efdd6990a"
      },
      "outputs": [],
      "source": [
        "my_cb <- callback_early_stopping(\n",
        "  patience = 20,\n",
        "  restore_best_weights = TRUE)"
      ],
      "id": "f6c8cb88-ace4-4771-8778-8e9efdd6990a"
    },
    {
      "cell_type": "code",
      "execution_count": null,
      "metadata": {
        "id": "706c14cb-3430-4645-949a-75b388ccfdc1"
      },
      "outputs": [],
      "source": [
        "my_history <- my_model %>% fit(\n",
        "    x = X,\n",
        "    y = y,\n",
        "    validation_split = 0.25,\n",
        "    batch_size = 10,\n",
        "    epochs = 500,\n",
        "    callbacks = list(my_cb),\n",
        "    verbose = 0)"
      ],
      "id": "706c14cb-3430-4645-949a-75b388ccfdc1"
    },
    {
      "cell_type": "code",
      "execution_count": null,
      "metadata": {
        "id": "c5ba663e-2082-4351-a82e-5162855d1a9b"
      },
      "outputs": [],
      "source": [
        "plot(my_history)"
      ],
      "id": "c5ba663e-2082-4351-a82e-5162855d1a9b"
    },
    {
      "cell_type": "code",
      "execution_count": null,
      "metadata": {
        "id": "f893fbf4-0e06-469b-8696-3f09ee60c540"
      },
      "outputs": [],
      "source": [
        "my_history"
      ],
      "id": "f893fbf4-0e06-469b-8696-3f09ee60c540"
    },
    {
      "cell_type": "code",
      "execution_count": null,
      "metadata": {
        "id": "a0f9cbd8-bb5e-4b58-b2d3-69860b30a25f"
      },
      "outputs": [],
      "source": [
        "y_ <- my_model %>% predict(X)\n",
        "mean((y_ - y)^2)**0.5"
      ],
      "id": "a0f9cbd8-bb5e-4b58-b2d3-69860b30a25f"
    },
    {
      "id": "2ddf726c",
      "cell_type": "markdown",
      "source": [
        "## 11.2 Kerasによる分類"
      ],
      "metadata": {
        "id": "2ddf726c"
      }
    },
    {
      "cell_type": "code",
      "execution_count": null,
      "metadata": {
        "id": "0e1532c0-36dd-48f0-995b-e7e44168b796"
      },
      "outputs": [],
      "source": [
        "library(keras)\n",
        "library(tidyverse)\n",
        "my_data <- iris[sample(nrow(iris)), ]"
      ],
      "id": "0e1532c0-36dd-48f0-995b-e7e44168b796"
    },
    {
      "cell_type": "code",
      "execution_count": null,
      "metadata": {
        "id": "db5cda5a-326a-41bb-bff4-df697d822092"
      },
      "outputs": [],
      "source": [
        "X <- my_data %>%\n",
        "  select(-Species) %>% scale\n",
        "y <- as.integer(my_data$Species) - 1"
      ],
      "id": "db5cda5a-326a-41bb-bff4-df697d822092"
    },
    {
      "cell_type": "code",
      "execution_count": null,
      "metadata": {
        "id": "ebdf7309-f0aa-45eb-9cf3-27ced560bc26"
      },
      "outputs": [],
      "source": [
        "my_model <- keras_model_sequential() %>%\n",
        "  layer_dense(units = 3, activation = \"relu\", input_shape = c(4)) %>%\n",
        "  layer_dense(units = 3, activation = \"softmax\")"
      ],
      "id": "ebdf7309-f0aa-45eb-9cf3-27ced560bc26"
    },
    {
      "cell_type": "code",
      "execution_count": null,
      "metadata": {
        "id": "ab622858-6ecc-4389-b1f9-6aceb1d1bf83"
      },
      "outputs": [],
      "source": [
        "my_model %>% compile(loss = \"sparse_categorical_crossentropy\",\n",
        "                     optimizer = \"rmsprop\",\n",
        "                     metrics = c(\"accuracy\"))"
      ],
      "id": "ab622858-6ecc-4389-b1f9-6aceb1d1bf83"
    },
    {
      "cell_type": "code",
      "execution_count": null,
      "metadata": {
        "id": "a3b72d4a-17b3-49d1-98c7-cf9c1dc6e360"
      },
      "outputs": [],
      "source": [
        "my_cb <- callback_early_stopping(\n",
        "  patience = 20,\n",
        "  restore_best_weights = TRUE)\n",
        "\n",
        "my_history <- my_model %>%\n",
        "  fit(x = X,\n",
        "    y = y,\n",
        "    validation_split = 0.25,\n",
        "    batch_size = 10,\n",
        "    epochs = 500,\n",
        "    callbacks = list(my_cb),\n",
        "    verbose = 0)\n",
        "\n",
        "plot(my_history)"
      ],
      "id": "a3b72d4a-17b3-49d1-98c7-cf9c1dc6e360"
    },
    {
      "cell_type": "code",
      "execution_count": null,
      "metadata": {
        "id": "a7af21c5-e6c0-4e4c-bd89-27c0b3c142c1"
      },
      "outputs": [],
      "source": [
        "my_history"
      ],
      "id": "a7af21c5-e6c0-4e4c-bd89-27c0b3c142c1"
    },
    {
      "cell_type": "code",
      "execution_count": null,
      "metadata": {
        "id": "b8e6f656-2f70-4676-a9e7-ffb461adbccc"
      },
      "outputs": [],
      "source": [
        "tmp <- my_model %>% predict(X)\n",
        "y_ <- apply(tmp, 1, which.max) - 1\n",
        "mean(y_ == y)"
      ],
      "id": "b8e6f656-2f70-4676-a9e7-ffb461adbccc"
    },
    {
      "cell_type": "code",
      "execution_count": null,
      "metadata": {
        "id": "2b895387-7206-4507-b895-6159bd4d2160"
      },
      "outputs": [],
      "source": [
        "-mean(log(c(0.8, 0.7, 0.3, 0.8)))\n",
        "\n",
        "-mean(log(c(0.7, 0.6, 0.2, 0.7)))"
      ],
      "id": "2b895387-7206-4507-b895-6159bd4d2160"
    },
    {
      "cell_type": "code",
      "execution_count": null,
      "metadata": {
        "id": "c8d6f9bd-6386-4562-8c10-1fe706c491b5"
      },
      "outputs": [],
      "source": [
        "y <- c(2, 1, 0, 1)\n",
        "y_1 <- list(c(0.1, 0.1, 0.8),\n",
        "            c(0.1, 0.7, 0.2),\n",
        "            c(0.3, 0.4, 0.3),\n",
        "            c(0.1, 0.8, 0.1))\n",
        "y_2 <- list(c(0.1, 0.2, 0.7),\n",
        "            c(0.2, 0.6, 0.2),\n",
        "            c(0.2, 0.5, 0.3),\n",
        "            c(0.2, 0.7, 0.1))"
      ],
      "id": "c8d6f9bd-6386-4562-8c10-1fe706c491b5"
    },
    {
      "cell_type": "code",
      "execution_count": null,
      "metadata": {
        "id": "e292173c-2379-421f-b07e-f85e776d7f95"
      },
      "outputs": [],
      "source": [
        "c(mean(as.array(loss_sparse_categorical_crossentropy(y_true = y, y_pred = y_1))),\n",
        "  mean(as.array(loss_sparse_categorical_crossentropy(y_true = y, y_pred = y_2))))"
      ],
      "id": "e292173c-2379-421f-b07e-f85e776d7f95"
    },
    {
      "id": "630bfa2d",
      "cell_type": "markdown",
      "source": [
        "## 11.3 MNIST：手書き数字の分類"
      ],
      "metadata": {
        "id": "630bfa2d"
      }
    },
    {
      "cell_type": "code",
      "execution_count": null,
      "metadata": {
        "id": "6637d327-5399-40c9-abbb-f67a822e9394"
      },
      "outputs": [],
      "source": [
        "library(keras)\n",
        "library(tidyverse)\n",
        "keras::`%<-%`(c(c(x_train, y_train), c(x_test, y_test)), dataset_mnist())"
      ],
      "id": "6637d327-5399-40c9-abbb-f67a822e9394"
    },
    {
      "cell_type": "code",
      "execution_count": null,
      "metadata": {
        "id": "38e2c258-ef74-4b69-906d-e415d4740146"
      },
      "outputs": [],
      "source": [
        "dim(x_train)"
      ],
      "id": "38e2c258-ef74-4b69-906d-e415d4740146"
    },
    {
      "cell_type": "code",
      "execution_count": null,
      "metadata": {
        "id": "d78e4877-3f31-47da-832c-6a02aa69a4a4"
      },
      "outputs": [],
      "source": [
        "x_train[5, , ]"
      ],
      "id": "d78e4877-3f31-47da-832c-6a02aa69a4a4"
    },
    {
      "cell_type": "code",
      "execution_count": null,
      "metadata": {
        "id": "21c13ef9-0329-48d5-8ade-b402d12f7bfe"
      },
      "outputs": [],
      "source": [
        "plot(as.raster(x = x_train[5, , ],\n",
        "               max = max(x_train)))"
      ],
      "id": "21c13ef9-0329-48d5-8ade-b402d12f7bfe"
    },
    {
      "cell_type": "code",
      "execution_count": null,
      "metadata": {
        "id": "20f2ab02-9e36-4ea3-b212-9b4d7ee65c42"
      },
      "outputs": [],
      "source": [
        "head(y_train)"
      ],
      "id": "20f2ab02-9e36-4ea3-b212-9b4d7ee65c42"
    },
    {
      "cell_type": "code",
      "execution_count": null,
      "metadata": {
        "id": "9d8baf8b-c43a-4a23-b894-33d7a9850e3a"
      },
      "outputs": [],
      "source": [
        "c(min(x_train), max(x_train))"
      ],
      "id": "9d8baf8b-c43a-4a23-b894-33d7a9850e3a"
    },
    {
      "cell_type": "code",
      "execution_count": null,
      "metadata": {
        "id": "971617a3-220d-4f90-89c5-06a9db9845a7"
      },
      "outputs": [],
      "source": [
        "x_train <- x_train / 255\n",
        "x_test  <- x_test  / 255"
      ],
      "id": "971617a3-220d-4f90-89c5-06a9db9845a7"
    },
    {
      "cell_type": "code",
      "execution_count": null,
      "metadata": {
        "id": "b3f0db09-c310-4148-9007-8bfa7d4f88d9"
      },
      "outputs": [],
      "source": [
        "my_index <- sample(1:60000, 6000)\n",
        "x_train <- x_train[my_index, , ]\n",
        "y_train <- y_train[my_index]"
      ],
      "id": "b3f0db09-c310-4148-9007-8bfa7d4f88d9"
    },
    {
      "cell_type": "code",
      "execution_count": null,
      "metadata": {
        "id": "5d260e35-d03b-4f06-87a2-cd866e0c2062"
      },
      "outputs": [],
      "source": [
        "my_model <- keras_model_sequential() %>%\n",
        "  layer_flatten(input_shape = c(28, 28)) %>%\n",
        "  layer_dense(units = 256, activation = \"relu\") %>%\n",
        "  layer_dense(units = 10, activation = \"softmax\")\n",
        "summary(my_model)\n",
        "# 割愛（Pythonの結果を参照）\n",
        "\n",
        "my_model %>% compile(loss = \"sparse_categorical_crossentropy\",\n",
        "                     optimizer = \"rmsprop\",\n",
        "                     metrics = c(\"accuracy\"))\n",
        "\n",
        "my_cb <- callback_early_stopping(patience = 5,\n",
        "                                 restore_best_weights = TRUE)"
      ],
      "id": "5d260e35-d03b-4f06-87a2-cd866e0c2062"
    },
    {
      "cell_type": "code",
      "execution_count": null,
      "metadata": {
        "id": "4513ef65-be2b-4306-b936-d17ac3a2ab1b"
      },
      "outputs": [],
      "source": [
        "my_history <- my_model %>%\n",
        "  fit(x = x_train,\n",
        "      y = y_train,\n",
        "      validation_split = 0.2,\n",
        "      batch_size = 128,\n",
        "      epochs = 20,\n",
        "      callbacks = list(my_cb),\n",
        "      verbose = 0)\n",
        "\n",
        "plot(my_history)"
      ],
      "id": "4513ef65-be2b-4306-b936-d17ac3a2ab1b"
    },
    {
      "cell_type": "code",
      "execution_count": null,
      "metadata": {
        "id": "193c05db-b490-471e-af56-8763deac5b39"
      },
      "outputs": [],
      "source": [
        "tmp <- my_model %>% predict(x_test)\n",
        "y_ <- apply(tmp, 1, which.max) - 1\n",
        "table(y_, y_test)"
      ],
      "id": "193c05db-b490-471e-af56-8763deac5b39"
    },
    {
      "cell_type": "code",
      "execution_count": null,
      "metadata": {
        "id": "d3367189-c3b4-422d-80ad-08224443440a"
      },
      "outputs": [],
      "source": [],
      "id": "d3367189-c3b4-422d-80ad-08224443440a"
    },
    {
      "cell_type": "code",
      "execution_count": null,
      "metadata": {
        "id": "f16da2a1-68fb-40be-8701-8317d1359221"
      },
      "outputs": [],
      "source": [
        "mean(y_ == y_test)"
      ],
      "id": "f16da2a1-68fb-40be-8701-8317d1359221"
    },
    {
      "cell_type": "code",
      "execution_count": null,
      "metadata": {
        "id": "493883d1-7426-4662-adbf-8de53aa9373b"
      },
      "outputs": [],
      "source": [
        "my_model %>%\n",
        "  evaluate(x = x_test, y = y_test)"
      ],
      "id": "493883d1-7426-4662-adbf-8de53aa9373b"
    },
    {
      "cell_type": "code",
      "execution_count": null,
      "metadata": {
        "id": "40f627cb-dd69-4324-82a5-442001ed1c12"
      },
      "outputs": [],
      "source": [
        "x_train2d <- x_train %>% array_reshape(c(-1, 28, 28, 1))\n",
        "x_test2d  <- x_test  %>% array_reshape(c(-1, 28, 28, 1))"
      ],
      "id": "40f627cb-dd69-4324-82a5-442001ed1c12"
    },
    {
      "cell_type": "code",
      "execution_count": null,
      "metadata": {
        "id": "b8989289-9810-4d92-b22e-170e8fd94dcf"
      },
      "outputs": [],
      "source": [
        "my_model <- keras_model_sequential() %>%\n",
        "  layer_conv_2d(filters = 32, kernel_size = 3,  # 畳み込み層\n",
        "                activation = \"relu\",\n",
        "                input_shape = c(28, 28, 1)) %>%\n",
        "  layer_max_pooling_2d(pool_size = 2) %>%       # プーリング層\n",
        "  layer_flatten() %>%\n",
        "  layer_dense(units = 128, activation = \"relu\") %>%\n",
        "  layer_dense(units = 10, activation = \"softmax\")\n",
        "\n",
        "summary(my_model)\n",
        "# 割愛（Python の結果を参照）\n",
        "\n",
        "my_model %>% compile(loss = \"sparse_categorical_crossentropy\",\n",
        "                     optimizer = \"rmsprop\",\n",
        "                     metrics = c(\"accuracy\"))\n",
        "\n",
        "my_cb <- callback_early_stopping(patience = 5,\n",
        "                                 restore_best_weights = TRUE)"
      ],
      "id": "b8989289-9810-4d92-b22e-170e8fd94dcf"
    },
    {
      "cell_type": "code",
      "execution_count": null,
      "metadata": {
        "id": "92d64806-286c-442d-882b-a6705f3caffa"
      },
      "outputs": [],
      "source": [
        "my_history <- my_model %>%\n",
        "  fit(x = x_train2d,\n",
        "      y = y_train,\n",
        "      validation_split = 0.2,\n",
        "      batch_size = 128,\n",
        "      epochs = 20,\n",
        "      callbacks = list(my_cb),\n",
        "      verbose = 0)\n",
        "\n",
        "plot(my_history)"
      ],
      "id": "92d64806-286c-442d-882b-a6705f3caffa"
    },
    {
      "cell_type": "code",
      "execution_count": null,
      "metadata": {
        "id": "0a2a2ccf-59fa-4eb5-9eb5-dc36e0437421"
      },
      "outputs": [],
      "source": [
        "my_model %>%\n",
        "  evaluate(x = x_test2d, y = y_test)"
      ],
      "id": "0a2a2ccf-59fa-4eb5-9eb5-dc36e0437421"
    },
    {
      "cell_type": "code",
      "execution_count": null,
      "metadata": {
        "id": "caf1f1d8-3dad-4609-82da-956436ee334f"
      },
      "outputs": [],
      "source": [
        "my_model <- keras_model_sequential() %>%\n",
        "  layer_conv_2d(filters = 20, kernel_size = 5, activation = \"relu\",\n",
        "                input_shape = c(28, 28, 1)) %>%\n",
        "  layer_max_pooling_2d(pool_size = 2, strides = 2) %>%\n",
        "  layer_conv_2d(filters = 50, kernel_size = 5, activation = \"relu\") %>%\n",
        "  layer_max_pooling_2d(pool_size = 2, strides = 2) %>%\n",
        "  layer_dropout(rate = 0.25) %>%\n",
        "  layer_flatten() %>%\n",
        "  layer_dense(units = 500, activation = \"relu\") %>%\n",
        "  layer_dropout(rate = 0.5) %>%\n",
        "  layer_dense(units = 10, activation = \"softmax\")\n",
        "\n",
        "my_model %>% compile(\n",
        "  loss = \"sparse_categorical_crossentropy\",\n",
        "  optimizer = \"rmsprop\",\n",
        "  metrics = c(\"accuracy\"))\n",
        "\n",
        "my_cb <- callback_early_stopping(patience = 5,\n",
        "                                 restore_best_weights = TRUE)"
      ],
      "id": "caf1f1d8-3dad-4609-82da-956436ee334f"
    },
    {
      "cell_type": "code",
      "execution_count": null,
      "metadata": {
        "id": "df9e3f56-5212-4c35-8e92-46bf4c106729"
      },
      "outputs": [],
      "source": [
        "my_history <- my_model %>%\n",
        "  fit(x = x_train2d,\n",
        "      y = y_train,\n",
        "      validation_split = 0.2,\n",
        "      batch_size = 128,\n",
        "      epochs = 20,\n",
        "      callbacks = list(my_cb),\n",
        "      verbose = 0)\n",
        "\n",
        "plot(my_history)"
      ],
      "id": "df9e3f56-5212-4c35-8e92-46bf4c106729"
    },
    {
      "cell_type": "code",
      "execution_count": null,
      "metadata": {
        "id": "93ce1f11-382f-4757-bbd1-28fc22962c4b"
      },
      "outputs": [],
      "source": [
        "my_model %>%\n",
        "  evaluate(x = x_test2d, y = y_test)"
      ],
      "id": "93ce1f11-382f-4757-bbd1-28fc22962c4b"
    },
    {
      "cell_type": "code",
      "execution_count": null,
      "metadata": {
        "id": "253e56d5-c86e-4c95-9715-33dd84c68fce"
      },
      "outputs": [],
      "source": [
        "y_prob <- my_model %>% predict(x_test2d) # カテゴリに属する確率\n",
        "\n",
        "my_result <- data.frame(\n",
        "  y_prob = apply(y_prob, 1, max),           # 確率の最大値\n",
        "  y_     = apply(y_prob, 1, which.max) - 1, # 予測カテゴリ\n",
        "  y      = y_test,                          # 正解\n",
        "  id     = seq_len(length(y_test))) %>%     # 番号\n",
        "  filter(y_ != y) %>%                       # 予測がはずれたものを残す\n",
        "  arrange(desc(y_prob))                     # 確率の大きい順に並び替える"
      ],
      "id": "253e56d5-c86e-4c95-9715-33dd84c68fce"
    },
    {
      "cell_type": "code",
      "execution_count": null,
      "metadata": {
        "id": "dbd55cd7-365c-4c08-a7dd-d2c6ca4b5df9"
      },
      "outputs": [],
      "source": [
        "head(my_result)"
      ],
      "id": "dbd55cd7-365c-4c08-a7dd-d2c6ca4b5df9"
    },
    {
      "cell_type": "code",
      "execution_count": null,
      "metadata": {
        "id": "eb900d0d-59cb-4f0f-bfd0-783ae3014e61"
      },
      "outputs": [],
      "source": [
        "tmp <- my_result[1:5, ]$id\n",
        "my_labels <- sprintf(\"%s (%s)\",\n",
        "  my_result[1:5, ]$y, tmp)\n",
        "my_fig <- expand.grid(\n",
        "  label = my_labels,\n",
        "  y = 28:1,\n",
        "  x = 1:28)\n",
        "my_fig$z <- as.vector(\n",
        "  x_test[tmp, , ])\n",
        "\n",
        "my_fig %>% ggplot(\n",
        "  aes(x = x, y = y, fill = z)) +\n",
        "  geom_raster() +\n",
        "  coord_fixed() +\n",
        "  theme_void() +\n",
        "  theme(legend.position = \"none\") +\n",
        "  facet_grid(. ~ label)"
      ],
      "id": "eb900d0d-59cb-4f0f-bfd0-783ae3014e61"
    },
    {
      "id": "a328c907",
      "cell_type": "markdown",
      "source": [
        "## 11.4 AutoML"
      ],
      "metadata": {
        "id": "a328c907"
      }
    },
    {
      "cell_type": "code",
      "execution_count": null,
      "metadata": {
        "id": "c08239b8-aa1b-4aea-8ab6-56ea05e3b94f"
      },
      "outputs": [],
      "source": [
        "library(h2o)\n",
        "library(keras)\n",
        "library(tidyverse)\n",
        "\n",
        "h2o.init()\n",
        "h2o.no_progress()\n",
        "# h2o.shutdown(prompt = FALSE) # 停止"
      ],
      "id": "c08239b8-aa1b-4aea-8ab6-56ea05e3b94f"
    },
    {
      "cell_type": "code",
      "execution_count": null,
      "metadata": {
        "id": "e9c9a625-d1af-4f44-8111-14d8f867b289"
      },
      "outputs": [],
      "source": [
        "my_url <- str_c(\"https://raw.githubusercontent.com/taroyabuki\",\n",
        "                \"/fromzero/master/data/wine.csv\")\n",
        "my_data <- read_csv(my_url)\n",
        "my_frame <- as.h2o(my_data) # 通常のデータフレームをH2OFrameに変換する．\n",
        "# あるいは\n",
        "my_frame <- h2o.importFile(my_url, header = TRUE) # データを読み込む．"
      ],
      "id": "e9c9a625-d1af-4f44-8111-14d8f867b289"
    },
    {
      "cell_type": "code",
      "execution_count": null,
      "metadata": {
        "id": "c4ca3bd2-c490-473c-be16-2836c4ceca7f"
      },
      "outputs": [],
      "source": [
        "my_frame\n",
        "\n",
        "# 通常のデータフレームに戻す．\n",
        "my_frame %>% as.data.frame %>% head\n",
        "# 結果は割愛（見た目は同じ）"
      ],
      "id": "c4ca3bd2-c490-473c-be16-2836c4ceca7f"
    },
    {
      "cell_type": "code",
      "execution_count": null,
      "metadata": {
        "id": "c66624cf-e5a4-402e-a515-c9c2d7a0c335"
      },
      "outputs": [],
      "source": [
        "my_model <- h2o.automl(\n",
        "    y = \"LPRICE2\",\n",
        "    training_frame = my_frame,\n",
        "    max_runtime_secs = 60)"
      ],
      "id": "c66624cf-e5a4-402e-a515-c9c2d7a0c335"
    },
    {
      "cell_type": "code",
      "execution_count": null,
      "metadata": {
        "id": "e8300b70-73a9-4a55-aae4-46480fee806e"
      },
      "outputs": [],
      "source": [
        "min(my_model@leaderboard$rmse)"
      ],
      "id": "e8300b70-73a9-4a55-aae4-46480fee806e"
    },
    {
      "cell_type": "code",
      "execution_count": null,
      "metadata": {
        "id": "5ebfd908-fea8-4e8a-8b94-532d228b8845"
      },
      "outputs": [],
      "source": [
        "tmp <- my_model %>%\n",
        "  predict(my_frame) %>%\n",
        "  as.data.frame\n",
        "y_ <- tmp$predict\n",
        "y  <- my_data$LPRICE2\n",
        "\n",
        "plot(y, y_)"
      ],
      "id": "5ebfd908-fea8-4e8a-8b94-532d228b8845"
    },
    {
      "cell_type": "code",
      "execution_count": null,
      "metadata": {
        "id": "e986f8af-bd2f-47ca-8152-73d4f8a1fd7c"
      },
      "outputs": [],
      "source": [
        "keras::`%<-%`(c(c(x_train, y_train), c(x_test, y_test)), dataset_mnist())\n",
        "my_index <- sample(1:60000, 6000)\n",
        "x_train <- x_train[my_index, , ]\n",
        "y_train <- y_train[my_index]"
      ],
      "id": "e986f8af-bd2f-47ca-8152-73d4f8a1fd7c"
    },
    {
      "cell_type": "code",
      "execution_count": null,
      "metadata": {
        "id": "4e96c34c-1c9a-4f6d-bced-85671cda9a25"
      },
      "outputs": [],
      "source": [
        "tmp <- x_train %>%\n",
        "  array_reshape(c(-1, 28 * 28)) %>%\n",
        "  as.data.frame\n",
        "tmp$y <- as.factor(y_train)\n",
        "my_train <- as.h2o(tmp)\n",
        "\n",
        "tmp <- x_test %>%\n",
        "  array_reshape(c(-1, 28 * 28)) %>%\n",
        "  as.data.frame\n",
        "my_test <- as.h2o(tmp)"
      ],
      "id": "4e96c34c-1c9a-4f6d-bced-85671cda9a25"
    },
    {
      "cell_type": "code",
      "execution_count": null,
      "metadata": {
        "id": "64e8a1dd-a777-4d8b-a41e-a383bfffaaf0"
      },
      "outputs": [],
      "source": [
        "my_model <- h2o.automl(\n",
        "    y = \"y\",\n",
        "    training_frame = my_train,\n",
        "    max_runtime_secs = 120)"
      ],
      "id": "64e8a1dd-a777-4d8b-a41e-a383bfffaaf0"
    },
    {
      "cell_type": "code",
      "execution_count": null,
      "metadata": {
        "id": "ffb36241-1792-48a0-b5f3-a766693a2aa5"
      },
      "outputs": [],
      "source": [
        "min(my_model@leaderboard$\n",
        "    mean_per_class_error)"
      ],
      "id": "ffb36241-1792-48a0-b5f3-a766693a2aa5"
    },
    {
      "cell_type": "code",
      "execution_count": null,
      "metadata": {
        "id": "4f9b9d16-279d-4fe2-84d5-2abbe0831e09"
      },
      "outputs": [],
      "source": [
        "tmp <- my_model %>%\n",
        "  predict(my_test) %>% as.data.frame\n",
        "y_ <- tmp$predict\n",
        "\n",
        "mean(y_ == y_test)"
      ],
      "id": "4f9b9d16-279d-4fe2-84d5-2abbe0831e09"
    },
    {
      "id": "18a8a207",
      "cell_type": "markdown",
      "source": [
        "# 12 時系列予測"
      ],
      "metadata": {
        "id": "18a8a207"
      }
    },
    {
      "cell_type": "code",
      "execution_count": null,
      "metadata": {
        "id": "73a30842-7264-45b5-94b4-a04315f0d394"
      },
      "outputs": [],
      "source": [
        "# Google Colaboratoryの環境設定\n",
        "if (file.exists(\"/content\")) {\n",
        "  options(Ncpus = parallel::detectCores())\n",
        "  installed_packages <- rownames(installed.packages())\n",
        "  packages_to_install <- c(\"caret\", \"fable\", \"feasts\", \"prophet\", \"tsibble\", \"urca\")\n",
        "  install.packages(setdiff(packages_to_install, installed_packages))\n",
        "  install.packages(c(\"ggplot2\"))\n",
        "}"
      ],
      "id": "73a30842-7264-45b5-94b4-a04315f0d394"
    },
    {
      "id": "5b61cff2",
      "cell_type": "markdown",
      "source": [
        "## 12.1 日時と日時の列"
      ],
      "metadata": {
        "id": "5b61cff2"
      }
    },
    {
      "cell_type": "code",
      "execution_count": null,
      "metadata": {
        "id": "a01e6c8f-fd03-45dc-8a43-80fbe7d71ecc"
      },
      "outputs": [],
      "source": [
        "as.POSIXct(\"2021-01-01\")"
      ],
      "id": "a01e6c8f-fd03-45dc-8a43-80fbe7d71ecc"
    },
    {
      "cell_type": "code",
      "execution_count": null,
      "metadata": {
        "id": "0175b2db-76b4-4c14-b7ab-24096b55d5c2"
      },
      "outputs": [],
      "source": [
        "library(tsibble)\n",
        "\n",
        "seq(from = 2021, to = 2023, by = 1)\n",
        "\n",
        "seq(from = yearmonth(\"202101\"), to = yearmonth(\"202103\"), by = 2)\n",
        "\n",
        "seq(from = as.POSIXct(\"2021-01-01\"), to = as.POSIXct(\"2021-01-03\"), by = \"1 day\")\n",
        "\n",
        "seq(from = as.POSIXct(\"2021-01-01 00:00:00\"),\n",
        "    to   = as.POSIXct(\"2021-01-01 03:00:00\"), by = \"2 hour\")"
      ],
      "id": "0175b2db-76b4-4c14-b7ab-24096b55d5c2"
    },
    {
      "id": "fc4c60b4",
      "cell_type": "markdown",
      "source": [
        "## 12.2 時系列データの予測"
      ],
      "metadata": {
        "id": "fc4c60b4"
      }
    },
    {
      "cell_type": "code",
      "execution_count": null,
      "metadata": {
        "id": "444e6c96-9260-4535-845f-6faf432a01c3"
      },
      "outputs": [],
      "source": [
        "my_data <- as.vector(AirPassengers)"
      ],
      "id": "444e6c96-9260-4535-845f-6faf432a01c3"
    },
    {
      "cell_type": "code",
      "execution_count": null,
      "metadata": {
        "id": "31da55a3-cf97-4622-99ea-656035209365"
      },
      "outputs": [],
      "source": [
        "n <- length(my_data) # データ数（144）\n",
        "k <- 108             # 訓練データ数"
      ],
      "id": "31da55a3-cf97-4622-99ea-656035209365"
    },
    {
      "cell_type": "code",
      "execution_count": null,
      "metadata": {
        "id": "bf8ebfc1-31a3-42eb-973e-e368c33e779e"
      },
      "outputs": [],
      "source": [
        "library(tidyverse)\n",
        "library(tsibble)\n",
        "\n",
        "my_ds <- seq(\n",
        "  from = yearmonth(\"1949/01\"),\n",
        "  to   = yearmonth(\"1960/12\"),\n",
        "  by   = 1)\n",
        "my_label <- rep(\n",
        "  c(\"train\", \"test\"),\n",
        "  c(k, n - k))\n",
        "my_df <- tsibble(\n",
        "  ds    = my_ds,\n",
        "  x     = 0:(n - 1),\n",
        "  y     = my_data,\n",
        "  label = my_label,\n",
        "  index = ds) # 日時の列の指定\n",
        "\n",
        "head(my_df)"
      ],
      "id": "bf8ebfc1-31a3-42eb-973e-e368c33e779e"
    },
    {
      "cell_type": "code",
      "execution_count": null,
      "metadata": {
        "id": "30e9c5f5-13cd-4e26-a03a-42a933f2b710"
      },
      "outputs": [],
      "source": [
        "my_train <- my_df[  1:k , ]\n",
        "my_test  <- my_df[-(1:k), ]\n",
        "y <- my_test$y"
      ],
      "id": "30e9c5f5-13cd-4e26-a03a-42a933f2b710"
    },
    {
      "cell_type": "code",
      "execution_count": null,
      "metadata": {
        "id": "3cd80863-8045-4a26-b8e3-c2b92338e465"
      },
      "outputs": [],
      "source": [
        "my_plot <- my_df %>%\n",
        "  ggplot(aes(x = ds,\n",
        "             y = y,\n",
        "             color = label)) +\n",
        "  geom_line()\n",
        "my_plot"
      ],
      "id": "3cd80863-8045-4a26-b8e3-c2b92338e465"
    },
    {
      "cell_type": "code",
      "execution_count": null,
      "metadata": {
        "id": "beea8e74-af73-4e2f-9b5b-a2462046e35d"
      },
      "outputs": [],
      "source": [
        "library(caret)\n",
        "my_lm_model <- train(form = y ~ x, data = my_train, method = \"lm\")\n",
        "y_ <- my_lm_model %>% predict(my_test)\n",
        "caret::RMSE(y, y_) # RMSE（テスト）"
      ],
      "id": "beea8e74-af73-4e2f-9b5b-a2462046e35d"
    },
    {
      "cell_type": "code",
      "execution_count": null,
      "metadata": {
        "id": "980b4531-5c55-45ed-8c3f-d69810e3c3c7"
      },
      "outputs": [],
      "source": [
        "y_ <- my_lm_model %>% predict(my_df)\n",
        "tmp <- my_df %>%\n",
        "  mutate(y = y_, label = \"model\")\n",
        "my_plot + geom_line(data = tmp)"
      ],
      "id": "980b4531-5c55-45ed-8c3f-d69810e3c3c7"
    },
    {
      "cell_type": "code",
      "execution_count": null,
      "metadata": {
        "id": "08941cc6-cae7-4e09-b652-21e1ffef8148"
      },
      "outputs": [],
      "source": [
        "library(fable)\n",
        "my_arima_model <- my_train %>% model(ARIMA(y))\n",
        "my_arima_model"
      ],
      "id": "08941cc6-cae7-4e09-b652-21e1ffef8148"
    },
    {
      "cell_type": "code",
      "execution_count": null,
      "metadata": {
        "id": "76ddccf9-f8bb-4c5f-9318-41b93bbf13c1"
      },
      "outputs": [],
      "source": [
        "tmp <- my_arima_model %>% forecast(h = \"3 years\")\n",
        "head(tmp)"
      ],
      "id": "76ddccf9-f8bb-4c5f-9318-41b93bbf13c1"
    },
    {
      "cell_type": "code",
      "execution_count": null,
      "metadata": {
        "id": "f6afa0a6-0d0a-4f57-991e-2bb088e45d23"
      },
      "outputs": [],
      "source": [
        "y_ <- tmp$.mean\n",
        "caret::RMSE(y_, y)"
      ],
      "id": "f6afa0a6-0d0a-4f57-991e-2bb088e45d23"
    },
    {
      "cell_type": "code",
      "execution_count": null,
      "metadata": {
        "id": "9a080c39-e319-4fe0-9bea-79db3b79bd3b"
      },
      "outputs": [],
      "source": [
        "# 予測結果のみでよい場合\n",
        "#tmp %>% autoplot\n",
        "\n",
        "tmp %>% autoplot +\n",
        "  geom_line(data = my_df,\n",
        "            aes(x = ds,\n",
        "                y = y,\n",
        "                color = label))"
      ],
      "id": "9a080c39-e319-4fe0-9bea-79db3b79bd3b"
    },
    {
      "cell_type": "code",
      "execution_count": null,
      "metadata": {
        "id": "229ed834-2c5a-4496-bc1a-4971d9af500f"
      },
      "outputs": [],
      "source": [
        "library(prophet)\n",
        "my_prophet_model <- my_train %>%\n",
        "  prophet(seasonality.mode = \"multiplicative\")"
      ],
      "id": "229ed834-2c5a-4496-bc1a-4971d9af500f"
    },
    {
      "cell_type": "code",
      "execution_count": null,
      "metadata": {
        "id": "556b75ff-3e3d-42d7-9ef1-fa99b20b8b4f"
      },
      "outputs": [],
      "source": [
        "tmp <- my_prophet_model %>% predict(my_test)\n",
        "head(tmp[, c(\"ds\", \"yhat\", \"yhat_lower\", \"yhat_upper\")])"
      ],
      "id": "556b75ff-3e3d-42d7-9ef1-fa99b20b8b4f"
    },
    {
      "cell_type": "code",
      "execution_count": null,
      "metadata": {
        "id": "3131f9d0-2762-4166-91cb-ad0be4037a70"
      },
      "outputs": [],
      "source": [
        "y_ <- tmp$yhat\n",
        "caret::RMSE(y_, y)"
      ],
      "id": "3131f9d0-2762-4166-91cb-ad0be4037a70"
    },
    {
      "cell_type": "code",
      "execution_count": null,
      "metadata": {
        "id": "04faa3ac-28a2-43b3-9d31-0e2e47f8b7a7"
      },
      "outputs": [],
      "source": [
        "# my_prophet_model %>% plot(tmp) # 予測結果のみでよい場合\n",
        "\n",
        "my_prophet_model %>% plot(tmp) +\n",
        "  geom_line(data = my_train, aes(x = as.POSIXct(ds))) +\n",
        "  geom_line(data = my_test,  aes(x = as.POSIXct(ds)), color = \"red\")"
      ],
      "id": "04faa3ac-28a2-43b3-9d31-0e2e47f8b7a7"
    },
    {
      "id": "7a846408",
      "cell_type": "markdown",
      "source": [
        "# 13 教師なし学習"
      ],
      "metadata": {
        "id": "7a846408"
      }
    },
    {
      "cell_type": "code",
      "execution_count": null,
      "metadata": {
        "id": "2494be34-b0aa-4e86-beac-41d84bb72223"
      },
      "outputs": [],
      "source": [
        "# Google Colaboratoryの環境設定\n",
        "if (file.exists(\"/content\")) {\n",
        "  options(Ncpus = parallel::detectCores())\n",
        "  installed_packages <- rownames(installed.packages())\n",
        "  packages_to_install <- c(\"factoextra\", \"ggbiplot\", \"igraph\")\n",
        "  install.packages(setdiff(packages_to_install, installed_packages))\n",
        "}"
      ],
      "id": "2494be34-b0aa-4e86-beac-41d84bb72223"
    },
    {
      "id": "2f39894b",
      "cell_type": "markdown",
      "source": [
        "## 13.1 主成分分析"
      ],
      "metadata": {
        "id": "2f39894b"
      }
    },
    {
      "cell_type": "code",
      "execution_count": null,
      "metadata": {
        "id": "2f174b44-c177-4804-a2bb-eed1a8e05dea"
      },
      "outputs": [],
      "source": [
        "library(tidyverse)\n",
        "\n",
        "my_data <- data.frame(\n",
        "  language  = c(  0,  20,  20,  25,  22,  17),\n",
        "  english   = c(  0,  20,  40,  20,  24,  18),\n",
        "  math      = c(100,  20,   5,  30,  17,  25),\n",
        "  science   = c(  0,  20,   5,  25,  16,  23),\n",
        "  society   = c(  0,  20,  30,   0,  21,  17),\n",
        "  row.names = c(\"A\", \"B\", \"C\", \"D\", \"E\", \"F\"))\n",
        "my_result <- my_data %>% prcomp # 主成分分析の実行"
      ],
      "id": "2f174b44-c177-4804-a2bb-eed1a8e05dea"
    },
    {
      "cell_type": "code",
      "execution_count": null,
      "metadata": {
        "id": "0bf6be67-e3b1-4582-a087-001330c1f6b3"
      },
      "outputs": [],
      "source": [
        "my_result$x # 主成分スコア"
      ],
      "id": "0bf6be67-e3b1-4582-a087-001330c1f6b3"
    },
    {
      "cell_type": "code",
      "execution_count": null,
      "metadata": {
        "id": "981e56ac-f21c-4deb-b8f4-04534a309f01"
      },
      "outputs": [],
      "source": [
        "my_result %>% ggbiplot::ggbiplot(\n",
        "  labels = row.names(my_data),\n",
        "  scale = 0)"
      ],
      "id": "981e56ac-f21c-4deb-b8f4-04534a309f01"
    },
    {
      "cell_type": "code",
      "execution_count": null,
      "metadata": {
        "id": "5ff87676-1ff4-42d5-8567-7073e29752d4"
      },
      "outputs": [],
      "source": [
        "my_result$rotation %>% t"
      ],
      "id": "5ff87676-1ff4-42d5-8567-7073e29752d4"
    },
    {
      "cell_type": "code",
      "execution_count": null,
      "metadata": {
        "id": "96f147a1-77f8-4993-aa9f-4209f6d7fcd5"
      },
      "outputs": [],
      "source": [
        "summary(my_result)"
      ],
      "id": "96f147a1-77f8-4993-aa9f-4209f6d7fcd5"
    },
    {
      "cell_type": "code",
      "execution_count": null,
      "metadata": {
        "id": "23310865-d302-45c5-ab73-4c80a979e762"
      },
      "outputs": [],
      "source": [
        "my_result <- prcomp(\n",
        "  x = my_data,\n",
        "  scale = TRUE)       # 標準化\n",
        "# あるいは\n",
        "my_result <- prcomp(\n",
        "  x = scale(my_data)) # 標準化データ\n",
        "\n",
        "my_result$x # 主成分スコア"
      ],
      "id": "23310865-d302-45c5-ab73-4c80a979e762"
    },
    {
      "cell_type": "code",
      "execution_count": null,
      "metadata": {
        "id": "aebe9ee6-7f32-4766-98d1-b281595eb6e5"
      },
      "outputs": [],
      "source": [
        "Z  <- my_data %>% scale(scale = FALSE) %>% as.matrix # 標準化しない場合\n",
        "#Z <- my_data %>% scale(scale = TRUE)  %>% as.matrix # 標準化する場合\n",
        "\n",
        "n <- nrow(my_data)\n",
        "S <- var(Z)                          # 分散共分散行列\n",
        "#S <- t(Z) %*% Z / (n - 1)           # （同じ結果）\n",
        "tmp <- eigen(S)                      # 固有値と固有ベクトル\n",
        "Z %*% tmp$vectors                    # 主成分スコア（結果は割愛）\n",
        "cumsum(tmp$values) / sum(tmp$values) # 累積寄与率"
      ],
      "id": "aebe9ee6-7f32-4766-98d1-b281595eb6e5"
    },
    {
      "cell_type": "code",
      "execution_count": null,
      "metadata": {
        "id": "72e302b5-2f34-48be-b825-00bc53875986"
      },
      "outputs": [],
      "source": [
        "udv <- svd(Z) # 特異値分解\n",
        "U <- udv$u\n",
        "d <- udv$d\n",
        "V <- udv$v\n",
        "W <- diag(d)\n",
        "\n",
        "c(all.equal(Z, U %*% W %*% t(V), check.attributes = FALSE), # 確認1\n",
        "  all.equal(t(U) %*% U, diag(dim(U)[2])),                   # 確認2\n",
        "  all.equal(t(V) %*% V, diag(dim(V)[2])))                   # 確認3\n",
        "\n",
        "U %*% W            # 主成分スコア（結果は割愛）\n",
        "\n",
        "e <- d^2 / (n - 1) # 分散共分散行列の固有値\n",
        "cumsum(e) / sum(e) # 累積寄与率"
      ],
      "id": "72e302b5-2f34-48be-b825-00bc53875986"
    },
    {
      "id": "8c6bbece",
      "cell_type": "markdown",
      "source": [
        "## 13.2 クラスタ分析"
      ],
      "metadata": {
        "id": "8c6bbece"
      }
    },
    {
      "cell_type": "code",
      "execution_count": null,
      "metadata": {
        "id": "99430d8e-7cb2-4a48-bbd1-b2a5e40750ba"
      },
      "outputs": [],
      "source": [
        "library(tidyverse)\n",
        "\n",
        "my_data <- data.frame(\n",
        "  x         = c(  0, -16,  10,  10),\n",
        "  y         = c(  0,   0,  10, -15),\n",
        "  row.names = c(\"A\", \"B\", \"C\", \"D\"))\n",
        "\n",
        "my_result <- my_data %>%\n",
        "  dist(\"euclidian\") %>% # distだけでも可\n",
        "  hclust(\"complete\")    # hclustだけでも可"
      ],
      "id": "99430d8e-7cb2-4a48-bbd1-b2a5e40750ba"
    },
    {
      "cell_type": "code",
      "execution_count": null,
      "metadata": {
        "id": "78b7b092-5421-48ef-9963-17a2531673e8"
      },
      "outputs": [],
      "source": [
        "my_result %>% factoextra::fviz_dend(\n",
        "  k = 3, # クラスタ数\n",
        "  rect = TRUE, rect_fill = TRUE)"
      ],
      "id": "78b7b092-5421-48ef-9963-17a2531673e8"
    },
    {
      "cell_type": "code",
      "execution_count": null,
      "metadata": {
        "id": "bf366906-c76b-408c-9bc4-c354fdbfa615"
      },
      "outputs": [],
      "source": [
        "my_result %>% factoextra::fviz_dend(\n",
        "  k = 3,\n",
        "  rect = TRUE, rect_fill = TRUE,\n",
        "  type = \"phylogenic\")"
      ],
      "id": "bf366906-c76b-408c-9bc4-c354fdbfa615"
    },
    {
      "cell_type": "code",
      "execution_count": null,
      "metadata": {
        "id": "0ac49fc4-75e5-4f83-bc66-5f8d8a8ed730"
      },
      "outputs": [],
      "source": [
        "my_result %>% cutree(3)"
      ],
      "id": "0ac49fc4-75e5-4f83-bc66-5f8d8a8ed730"
    },
    {
      "cell_type": "code",
      "execution_count": null,
      "metadata": {
        "id": "c272196f-e18f-4ff6-a589-481e33640570"
      },
      "outputs": [],
      "source": [
        "library(tidyverse)\n",
        "\n",
        "my_data <- data.frame(\n",
        "  language  = c(  0,  20,  20,  25,  22,  17),\n",
        "  english   = c(  0,  20,  40,  20,  24,  18),\n",
        "  math      = c(100,  20,   5,  30,  17,  25),\n",
        "  science   = c(  0,  20,   5,  25,  16,  23),\n",
        "  society   = c(  0,  20,  30,   0,  21,  17),\n",
        "  row.names = c(\"A\", \"B\", \"C\", \"D\", \"E\", \"F\"))\n",
        "\n",
        "try( # RMarkdownで発生するエラーを回避する．\n",
        "  my_data %>% scale %>%                        # 列ごとの標準化\n",
        "    gplots::heatmap.2(cexRow = 1, cexCol = 1), # ラベルのサイズを指定して描画する．\n",
        "  silent = TRUE)"
      ],
      "id": "c272196f-e18f-4ff6-a589-481e33640570"
    },
    {
      "cell_type": "code",
      "execution_count": null,
      "metadata": {
        "id": "e0aa0c5c-07cc-404e-86fc-8cd506cee290"
      },
      "outputs": [],
      "source": [
        "library(tidyverse)\n",
        "\n",
        "my_data <- data.frame(\n",
        "  x         = c(  0, -16,  10,  10),\n",
        "  y         = c(  0,   0,  10, -15),\n",
        "  row.names = c(\"A\", \"B\", \"C\", \"D\"))\n",
        "\n",
        "my_result <- my_data %>% kmeans(3)"
      ],
      "id": "e0aa0c5c-07cc-404e-86fc-8cd506cee290"
    },
    {
      "cell_type": "code",
      "execution_count": null,
      "metadata": {
        "id": "78ffb86b-446a-409c-9914-6cf57ae37980"
      },
      "outputs": [],
      "source": [
        "my_result$cluster"
      ],
      "id": "78ffb86b-446a-409c-9914-6cf57ae37980"
    },
    {
      "cell_type": "code",
      "execution_count": null,
      "metadata": {
        "id": "59366ea4-6ab2-448e-be3e-fb32e4f0fa07"
      },
      "outputs": [],
      "source": [
        "library(tidyverse)\n",
        "library(factoextra)\n",
        "\n",
        "my_data <- iris[, -5]\n",
        "\n",
        "f <- 2:5 %>% map(function(k) {\n",
        "  my_data %>% kmeans(k) %>%\n",
        "    fviz_cluster(data = my_data, geom = \"point\") +\n",
        "    ggtitle(sprintf(\"k = %s\", k))\n",
        "})\n",
        "gridExtra::grid.arrange(f[[1]], f[[2]], f[[3]], f[[4]], ncol = 2)"
      ],
      "id": "59366ea4-6ab2-448e-be3e-fb32e4f0fa07"
    },
    {
      "cell_type": "code",
      "execution_count": null,
      "metadata": {
        "id": "edd71658-0a7f-43b4-82b2-1924dc79f23b"
      },
      "outputs": [],
      "source": [
        "fviz_nbclust(my_data, kmeans, method = \"wss\")"
      ],
      "id": "edd71658-0a7f-43b4-82b2-1924dc79f23b"
    },
    {
      "cell_type": "code",
      "execution_count": null,
      "metadata": {
        "id": "ce3d65af-a8ff-41c2-bfaf-0f23a6f639e6"
      },
      "outputs": [],
      "source": [
        "library(tidyverse)\n",
        "my_data <- iris[, -5] %>% scale\n",
        "\n",
        "my_result <- prcomp(my_data)$x %>% as.data.frame # 主成分分析\n",
        "\n",
        "# 非階層的クラスタ分析の場合\n",
        "my_result$cluster <- (my_data %>% scale %>% kmeans(3))$cluster %>% as.factor\n",
        "\n",
        "# 階層的クラスタ分析の場合\n",
        "#my_result$cluster <- my_data %>% dist %>% hclust %>% cutree(3) %>% as.factor\n",
        "\n",
        "my_result %>%\n",
        "  ggplot(aes(x = PC1, y = PC2, color = cluster)) + # 色でクラスタを表現する．\n",
        "  geom_point(shape = iris$Species) +               # 形で品種を表現する．\n",
        "  theme(legend.position = \"none\")"
      ],
      "id": "ce3d65af-a8ff-41c2-bfaf-0f23a6f639e6"
    }
  ],
  "nbformat": 4,
  "nbformat_minor": 5,
  "metadata": {
    "kernelspec": {
      "name": "ir",
      "display_name": "R"
    },
    "colab": {
      "provenance": [],
      "toc_visible": true
    }
  }
}