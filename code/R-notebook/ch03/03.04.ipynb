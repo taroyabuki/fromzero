{
 "cells": [
  {
   "cell_type": "markdown",
   "metadata": {},
   "source": [
    "## 3.4 データフレーム\n",
    "\n",
    "### 3.4.1 データフレームの作成"
   ]
  },
  {
   "cell_type": "code",
   "execution_count": null,
   "metadata": {},
   "outputs": [],
   "source": [
    "library(tidyverse)"
   ]
  },
  {
   "cell_type": "markdown",
   "metadata": {},
   "source": [
    "#### 3.4.1.1 データを列ごとに記述する方法"
   ]
  },
  {
   "cell_type": "code",
   "execution_count": null,
   "metadata": {},
   "outputs": [],
   "source": [
    "my_df <- data.frame(\n",
    "  name    = c(\"A\", \"B\", \"C\", \"D\"),\n",
    "  english = c( 60,  90,  70,  90),\n",
    "  math    = c( 70,  80,  90, 100),\n",
    "  gender  = c(\"f\", \"m\", \"m\", \"f\"))"
   ]
  },
  {
   "cell_type": "markdown",
   "metadata": {},
   "source": [
    "#### 3.4.1.2 データを見た目のとおりに記述する方法"
   ]
  },
  {
   "cell_type": "code",
   "execution_count": null,
   "metadata": {},
   "outputs": [],
   "source": [
    "my_df <- tribble(\n",
    "  ~name, ~english, ~math, ~gender,\n",
    "  \"A\",         60,    70,     \"f\",\n",
    "  \"B\",         90,    80,     \"m\",\n",
    "  \"C\",         70,    90,     \"m\",\n",
    "  \"D\",         90,   100,     \"f\")"
   ]
  },
  {
   "cell_type": "code",
   "execution_count": null,
   "metadata": {},
   "outputs": [],
   "source": [
    "head(my_df)\n",
    "# 結果は割愛"
   ]
  },
  {
   "cell_type": "markdown",
   "metadata": {},
   "source": [
    "#### 3.4.1.3 データフレームのサイズ"
   ]
  },
  {
   "cell_type": "code",
   "execution_count": null,
   "metadata": {},
   "outputs": [],
   "source": [
    "dim(my_df)  # 行数と列数\n",
    "#> [1] 4 4\n",
    "\n",
    "nrow(my_df) # 行数\n",
    "#> [1] 4\n",
    "\n",
    "ncol(my_df) # 列数\n",
    "#> [1] 4"
   ]
  },
  {
   "cell_type": "markdown",
   "metadata": {},
   "source": [
    "#### 3.4.1.4 組合せ"
   ]
  },
  {
   "cell_type": "code",
   "execution_count": null,
   "metadata": {},
   "outputs": [],
   "source": [
    "my_df2 <- expand.grid(\n",
    "  X = c(1, 2, 3),\n",
    "  Y = c(10, 100))\n",
    "my_df2\n",
    "#>   X   Y\n",
    "#> 1 1  10\n",
    "#> 2 2  10\n",
    "#> 3 3  10\n",
    "#> 4 1 100\n",
    "#> 5 2 100\n",
    "#> 6 3 100"
   ]
  },
  {
   "cell_type": "markdown",
   "metadata": {},
   "source": [
    "#### 3.4.1.5 列と行の名前"
   ]
  },
  {
   "cell_type": "code",
   "execution_count": null,
   "metadata": {},
   "outputs": [],
   "source": [
    "colnames(my_df2)\n",
    "#> [1] \"X\" \"Y\""
   ]
  },
  {
   "cell_type": "code",
   "execution_count": null,
   "metadata": {},
   "outputs": [],
   "source": [
    "colnames(my_df2) <- c(\"P\", \"Q\")\n",
    "my_df2\n",
    "#>   P   Q\n",
    "#> 1 1  10\n",
    "#> 2 2  10\n",
    "# 以下省略"
   ]
  },
  {
   "cell_type": "code",
   "execution_count": null,
   "metadata": {},
   "outputs": [],
   "source": [
    "row.names(my_df)\n",
    "#> [1] \"1\" \"2\" \"3\" \"4\""
   ]
  },
  {
   "cell_type": "code",
   "execution_count": null,
   "metadata": {},
   "outputs": [],
   "source": [
    "row.names(my_df2) <-\n",
    "  c(\"a\", \"b\", \"c\", \"d\", \"e\", \"f\")\n",
    "my_df2\n",
    "#>   P   Q\n",
    "#> a 1  10\n",
    "#> b 2  10\n",
    "#> c 3  10\n",
    "# 以下省略"
   ]
  },
  {
   "cell_type": "code",
   "execution_count": null,
   "metadata": {},
   "outputs": [],
   "source": [
    "my_df3 <- data.frame(\n",
    "  english =   c( 60,  90,  70,  90),\n",
    "  math    =   c( 70,  80,  90, 100),\n",
    "  gender  =   c(\"f\", \"m\", \"m\", \"f\"),\n",
    "  row.names = c(\"A\", \"B\", \"C\", \"D\"))\n",
    "my_df3\n",
    "#>   english math gender\n",
    "#> A      60   70      f\n",
    "#> B      90   80      m\n",
    "#> C      70   90      m\n",
    "#> D      90  100      f"
   ]
  },
  {
   "cell_type": "markdown",
   "metadata": {},
   "source": [
    "### 3.4.2 データの追加\n",
    "\n",
    "#### 3.4.2.1 行の追加（データフレームの結合）"
   ]
  },
  {
   "cell_type": "code",
   "execution_count": null,
   "metadata": {},
   "outputs": [],
   "source": [
    "tmp <- data.frame(\n",
    "  name    = \"E\",\n",
    "  english =  80,\n",
    "  math    =  80,\n",
    "  gender  = \"m\")\n",
    "my_df2 <- rbind(my_df, tmp)"
   ]
  },
  {
   "cell_type": "markdown",
   "metadata": {},
   "source": [
    "#### 3.4.2.2 列の追加"
   ]
  },
  {
   "cell_type": "code",
   "execution_count": null,
   "metadata": {},
   "outputs": [],
   "source": [
    "my_df2 <- my_df %>%\n",
    "  mutate(id = c(1, 2, 3, 4))"
   ]
  },
  {
   "cell_type": "code",
   "execution_count": null,
   "metadata": {},
   "outputs": [],
   "source": [
    "my_df3 <- my_df               # コピー\n",
    "my_df3[\"id\"] <- c(1, 2, 3, 4) # 更新\n",
    "my_df3 # 結果の確認（割愛）"
   ]
  },
  {
   "cell_type": "markdown",
   "metadata": {},
   "source": [
    "### 3.4.3 データの取り出し\n",
    "\n",
    "#### 3.4.3.1 観測値の取り出し"
   ]
  },
  {
   "cell_type": "code",
   "execution_count": null,
   "metadata": {},
   "outputs": [],
   "source": [
    "my_df[1, 2]\n",
    "#> [1] 60"
   ]
  },
  {
   "cell_type": "markdown",
   "metadata": {},
   "source": [
    "#### 3.4.3.2 1列の取り出し（結果は1次元データ）"
   ]
  },
  {
   "cell_type": "code",
   "execution_count": null,
   "metadata": {},
   "outputs": [],
   "source": [
    "x <- my_df[, 2]\n",
    "# あるいは\n",
    "x <- my_df$english\n",
    "# あるいは\n",
    "x <- my_df$\"english\"\n",
    "# あるいは\n",
    "x <- my_df[[\"english\"]]\n",
    "# あるいは\n",
    "tmp <- \"english\"\n",
    "x <- my_df[[tmp]]\n",
    "\n",
    "x # 結果の確認（割愛）"
   ]
  },
  {
   "cell_type": "markdown",
   "metadata": {},
   "source": [
    "#### 3.4.3.3 複数列の取り出し（結果はデータフレーム）"
   ]
  },
  {
   "cell_type": "code",
   "execution_count": null,
   "metadata": {},
   "outputs": [],
   "source": [
    "x <- my_df %>% select(name, math)"
   ]
  },
  {
   "cell_type": "code",
   "execution_count": null,
   "metadata": {},
   "outputs": [],
   "source": [
    "x <- my_df[, c(1, 3)]"
   ]
  },
  {
   "cell_type": "code",
   "execution_count": null,
   "metadata": {},
   "outputs": [],
   "source": [
    "x <- my_df %>%\n",
    "  select(-c(english, gender))\n",
    "# あるいは\n",
    "x <- my_df[, -c(2, 4)]"
   ]
  },
  {
   "cell_type": "markdown",
   "metadata": {},
   "source": [
    "#### 3.4.3.4 複数行の取り出し（結果はデータフレーム）"
   ]
  },
  {
   "cell_type": "code",
   "execution_count": null,
   "metadata": {},
   "outputs": [],
   "source": [
    "x <- my_df[c(1, 3), ]"
   ]
  },
  {
   "cell_type": "code",
   "execution_count": null,
   "metadata": {},
   "outputs": [],
   "source": [
    "x <- my_df[-c(2, 4), ]"
   ]
  },
  {
   "cell_type": "markdown",
   "metadata": {},
   "source": [
    "#### 3.4.3.5 検索"
   ]
  },
  {
   "cell_type": "code",
   "execution_count": null,
   "metadata": {},
   "outputs": [],
   "source": [
    "x <- my_df[my_df$gender == \"m\", ]\n",
    "# あるいは\n",
    "x <- my_df %>% filter(gender == \"m\")"
   ]
  },
  {
   "cell_type": "code",
   "execution_count": null,
   "metadata": {},
   "outputs": [],
   "source": [
    "x <- my_df[my_df$english > 80 & my_df$gender == \"m\", ]\n",
    "# あるいは\n",
    "x <- my_df %>% filter(english > 80 & gender == \"m\")"
   ]
  },
  {
   "cell_type": "code",
   "execution_count": null,
   "metadata": {},
   "outputs": [],
   "source": [
    "x <- my_df[my_df$english == max(my_df$english), ]\n",
    "# あるいは\n",
    "x <- my_df %>% filter(english == max(my_df$english))"
   ]
  },
  {
   "cell_type": "code",
   "execution_count": null,
   "metadata": {},
   "outputs": [],
   "source": [
    "my_df2 <- my_df # コピー\n",
    "my_df2[my_df$gender == \"m\", ]$gender <- \"M\""
   ]
  },
  {
   "cell_type": "code",
   "execution_count": null,
   "metadata": {},
   "outputs": [],
   "source": [
    "my_df2\n",
    "#>   name english math gender\n",
    "#> 1    A      60   70      f\n",
    "#> 2    B      90   80      M\n",
    "#> 3    C      70   90      M\n",
    "#> 4    D      90  100      f"
   ]
  },
  {
   "cell_type": "markdown",
   "metadata": {},
   "source": [
    "#### 3.4.3.6 並べ替え"
   ]
  },
  {
   "cell_type": "code",
   "execution_count": null,
   "metadata": {},
   "outputs": [],
   "source": [
    "x <- my_df %>% arrange(english)"
   ]
  },
  {
   "cell_type": "code",
   "execution_count": null,
   "metadata": {},
   "outputs": [],
   "source": [
    "x <- my_df %>% arrange(-english)"
   ]
  },
  {
   "cell_type": "markdown",
   "metadata": {},
   "source": [
    "### 3.4.4 補足：行列\n",
    "\n",
    "#### 3.4.4.1 行列の生成"
   ]
  },
  {
   "cell_type": "code",
   "execution_count": null,
   "metadata": {},
   "outputs": [],
   "source": [
    "x <- c(2, 3, 5, 7, 11, 13, 17, 19, 23,\n",
    "       29, 31, 37)\n",
    "A <- matrix(\n",
    "  data = x,     # 1次元データ\n",
    "  nrow = 3,     # 行数\n",
    "  byrow = TRUE) # 行ごとの生成\n",
    "A\n",
    "#>      [,1] [,2] [,3] [,4]\n",
    "#> [1,]    2    3    5    7\n",
    "#> [2,]   11   13   17   19\n",
    "#> [3,]   23   29   31   37"
   ]
  },
  {
   "cell_type": "markdown",
   "metadata": {},
   "source": [
    "#### 3.4.4.2 データフレームと行列"
   ]
  },
  {
   "cell_type": "code",
   "execution_count": null,
   "metadata": {},
   "outputs": [],
   "source": [
    "A <- my_df[, c(2, 3)] %>% as.matrix\n",
    "A\n",
    "#>      english math\n",
    "#> [1,]      60   70\n",
    "#> [2,]      90   80\n",
    "#> [3,]      70   90\n",
    "#> [4,]      90  100"
   ]
  },
  {
   "cell_type": "code",
   "execution_count": null,
   "metadata": {},
   "outputs": [],
   "source": [
    "as.data.frame(A)\n",
    "#>   english math\n",
    "#> 1      60   70\n",
    "#> 2      90   80\n",
    "#> 3      70   90\n",
    "#> 4      90  100"
   ]
  },
  {
   "cell_type": "markdown",
   "metadata": {},
   "source": [
    "#### 3.4.4.3 行列の変形"
   ]
  },
  {
   "cell_type": "code",
   "execution_count": null,
   "metadata": {},
   "outputs": [],
   "source": [
    "t(A)\n",
    "#>         [,1] [,2] [,3] [,4]\n",
    "#> english   60   90   70   90\n",
    "#> math      70   80   90  100"
   ]
  },
  {
   "cell_type": "markdown",
   "metadata": {},
   "source": [
    "#### 3.4.4.4 行列の積"
   ]
  },
  {
   "cell_type": "code",
   "execution_count": null,
   "metadata": {},
   "outputs": [],
   "source": [
    "t(A) %*% A\n",
    "#>         english  math\n",
    "#> english   24700 26700\n",
    "#> math      26700 29400"
   ]
  },
  {
   "cell_type": "markdown",
   "metadata": {},
   "source": [
    "### 3.4.5 縦型と横型"
   ]
  },
  {
   "cell_type": "code",
   "execution_count": null,
   "metadata": {},
   "outputs": [],
   "source": [
    "my_wider <- data.frame(\n",
    "  day = c(25, 26, 27),\n",
    "  min = c(20, 21, 15),\n",
    "  max = c(24, 27, 21))"
   ]
  },
  {
   "cell_type": "code",
   "execution_count": null,
   "metadata": {},
   "outputs": [],
   "source": [
    "my_longer <- my_wider %>%\n",
    "  pivot_longer(-day)\n",
    "my_longer\n",
    "#> # A tibble: 6 x 3\n",
    "#>     day name  value\n",
    "#>   <dbl> <chr> <dbl>\n",
    "#> 1    25 min      20\n",
    "#> 2    25 max      24\n",
    "#> 3    26 min      21\n",
    "#> 4    26 max      27\n",
    "#> 5    27 min      15\n",
    "#> 6    27 max      21"
   ]
  },
  {
   "cell_type": "code",
   "execution_count": null,
   "metadata": {},
   "outputs": [],
   "source": [
    "my_longer %>% pivot_wider()\n",
    "#> # A tibble: 3 x 3\n",
    "#>     day   min   max\n",
    "#>   <dbl> <dbl> <dbl>\n",
    "#> 1    25    20    24\n",
    "#> 2    26    21    27\n",
    "#> 3    27    15    21"
   ]
  },
  {
   "cell_type": "code",
   "execution_count": null,
   "metadata": {},
   "outputs": [],
   "source": [
    "my_longer %>%\n",
    "  ggplot(aes(x = day, y = value,\n",
    "             color = name)) +\n",
    "  geom_point() +\n",
    "  geom_line() +\n",
    "  ylab(\"temperature\") + # y軸ラベル\n",
    "  scale_x_continuous(\n",
    "    breaks = my_longer$day) # x軸目盛り"
   ]
  }
 ],
 "nbformat": 4,
 "nbformat_minor": 5,
 "metadata": {
  "kernelspec": {
   "name": "ir",
   "display_name": "R"
  }
 }
}
