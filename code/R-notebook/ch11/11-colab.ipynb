{
 "cells": [
  {
   "cell_type": "markdown",
   "metadata": {},
   "source": [
    "# 11"
   ]
  },
  {
   "cell_type": "code",
   "execution_count": null,
   "metadata": {},
   "outputs": [],
   "source": [
    "# Google Colaboratoryの環境設定\n",
    "options(Ncpus = 2)\n",
    "install.packages(c(\"h2o\", \"keras\"))"
   ]
  },
  {
   "cell_type": "markdown",
   "metadata": {},
   "source": [
    "## 11.1 Kerasによる回帰"
   ]
  },
  {
   "cell_type": "code",
   "execution_count": null,
   "metadata": {},
   "outputs": [],
   "source": [
    "library(keras)\n",
    "library(tidyverse)\n",
    "my_url <- str_c(\"https://raw.githubusercontent.com/taroyabuki\",\n",
    "                \"/fromzero/master/data/wine.csv\")\n",
    "tmp <- read_csv(my_url)"
   ]
  },
  {
   "cell_type": "code",
   "execution_count": null,
   "metadata": {},
   "outputs": [],
   "source": [
    "my_data <- tmp[sample(nrow(tmp)), ]"
   ]
  },
  {
   "cell_type": "code",
   "execution_count": null,
   "metadata": {},
   "outputs": [],
   "source": [
    "X <- my_data %>%\n",
    "  select(-LPRICE2) %>% scale\n",
    "y <- my_data$LPRICE2"
   ]
  },
  {
   "cell_type": "code",
   "execution_count": null,
   "metadata": {},
   "outputs": [],
   "source": [
    "curve(activation_relu(x), -3, 3)"
   ]
  },
  {
   "cell_type": "code",
   "execution_count": null,
   "metadata": {},
   "outputs": [],
   "source": [
    "my_model <- keras_model_sequential() %>%\n",
    "  layer_dense(units = 3, activation = \"relu\", input_shape = c(4)) %>%\n",
    "  layer_dense(units = 1)\n",
    "\n",
    "summary(my_model) # ネットワークの概要\n",
    "# 割愛（Pythonの結果を参照）"
   ]
  },
  {
   "cell_type": "code",
   "execution_count": null,
   "metadata": {},
   "outputs": [],
   "source": [
    "my_model %>% compile(\n",
    "  loss = \"mse\",\n",
    "  optimizer = \"rmsprop\")"
   ]
  },
  {
   "cell_type": "code",
   "execution_count": null,
   "metadata": {},
   "outputs": [],
   "source": [
    "my_cb <- callback_early_stopping(\n",
    "  patience = 20,\n",
    "  restore_best_weights = TRUE)"
   ]
  },
  {
   "cell_type": "code",
   "execution_count": null,
   "metadata": {},
   "outputs": [],
   "source": [
    "my_history <- my_model %>% fit(\n",
    "    x = X,\n",
    "    y = y,\n",
    "    validation_split = 0.25,\n",
    "    batch_size = 10,\n",
    "    epochs = 500,\n",
    "    callbacks = list(my_cb),\n",
    "    verbose = 0)"
   ]
  },
  {
   "cell_type": "code",
   "execution_count": null,
   "metadata": {},
   "outputs": [],
   "source": [
    "plot(my_history)"
   ]
  },
  {
   "cell_type": "code",
   "execution_count": null,
   "metadata": {},
   "outputs": [],
   "source": [
    "my_history\n",
    "#> Final epoch (plot to see history):\n",
    "#>     loss: 0.06124\n",
    "#> val_loss: 0.1132"
   ]
  },
  {
   "cell_type": "code",
   "execution_count": null,
   "metadata": {},
   "outputs": [],
   "source": [
    "y_ <- my_model %>% predict(X)\n",
    "mean((y_ - y)^2)**0.5\n",
    "#> [1] 0.2724372"
   ]
  },
  {
   "cell_type": "markdown",
   "metadata": {},
   "source": [
    "## 11.2 Kerasによる分類"
   ]
  },
  {
   "cell_type": "code",
   "execution_count": null,
   "metadata": {},
   "outputs": [],
   "source": [
    "library(keras)\n",
    "library(tidyverse)\n",
    "my_data <- iris[sample(nrow(iris)), ]"
   ]
  },
  {
   "cell_type": "code",
   "execution_count": null,
   "metadata": {},
   "outputs": [],
   "source": [
    "X <- my_data %>%\n",
    "  select(-Species) %>% scale\n",
    "y <- as.integer(my_data$Species) - 1"
   ]
  },
  {
   "cell_type": "code",
   "execution_count": null,
   "metadata": {},
   "outputs": [],
   "source": [
    "my_model <- keras_model_sequential() %>%\n",
    "  layer_dense(units = 3, activation = \"relu\", input_shape = c(4)) %>%\n",
    "  layer_dense(units = 3, activation = \"softmax\")"
   ]
  },
  {
   "cell_type": "code",
   "execution_count": null,
   "metadata": {},
   "outputs": [],
   "source": [
    "my_model %>% compile(loss = \"sparse_categorical_crossentropy\",\n",
    "                     optimizer = \"rmsprop\",\n",
    "                     metrics = c(\"accuracy\"))"
   ]
  },
  {
   "cell_type": "code",
   "execution_count": null,
   "metadata": {},
   "outputs": [],
   "source": [
    "my_cb <- callback_early_stopping(\n",
    "  patience = 20,\n",
    "  restore_best_weights = TRUE)\n",
    "\n",
    "my_history <- my_model %>%\n",
    "  fit(x = X,\n",
    "    y = y,\n",
    "    validation_split = 0.25,\n",
    "    batch_size = 10,\n",
    "    epochs = 500,\n",
    "    callbacks = list(my_cb),\n",
    "    verbose = 0)\n",
    "\n",
    "plot(my_history)"
   ]
  },
  {
   "cell_type": "code",
   "execution_count": null,
   "metadata": {},
   "outputs": [],
   "source": [
    "my_history\n",
    "#> Final epoch (plot to see history):\n",
    "#>         loss: 0.06206\n",
    "#>     accuracy: 0.9732\n",
    "#>     val_loss: 0.1269\n",
    "#> val_accuracy: 0.9211"
   ]
  },
  {
   "cell_type": "code",
   "execution_count": null,
   "metadata": {},
   "outputs": [],
   "source": [
    "tmp <- my_model %>% predict(X)\n",
    "y_ <- apply(tmp, 1, which.max) - 1\n",
    "mean(y_ == y)\n",
    "#> [1] 0.9666667"
   ]
  },
  {
   "cell_type": "markdown",
   "metadata": {},
   "source": [
    "### 11.2.1 交差エントロピー"
   ]
  },
  {
   "cell_type": "code",
   "execution_count": null,
   "metadata": {},
   "outputs": [],
   "source": [
    "-mean(log(c(0.8, 0.7, 0.3, 0.8)))\n",
    "#> 0.5017337\n",
    "\n",
    "-mean(log(c(0.7, 0.6, 0.2, 0.7)))\n",
    "#> 0.7084034"
   ]
  },
  {
   "cell_type": "code",
   "execution_count": null,
   "metadata": {},
   "outputs": [],
   "source": [
    "y <- c(2, 1, 0, 1)\n",
    "y_1 <- list(c(0.1, 0.1, 0.8),\n",
    "            c(0.1, 0.7, 0.2),\n",
    "            c(0.3, 0.4, 0.3),\n",
    "            c(0.1, 0.8, 0.1))\n",
    "y_2 <- list(c(0.1, 0.2, 0.7),\n",
    "            c(0.2, 0.6, 0.2),\n",
    "            c(0.2, 0.5, 0.3),\n",
    "            c(0.2, 0.7, 0.1))"
   ]
  },
  {
   "cell_type": "code",
   "execution_count": null,
   "metadata": {},
   "outputs": [],
   "source": [
    "c(mean(as.array(loss_sparse_categorical_crossentropy(y_true = y, y_pred = y_1))),\n",
    "  mean(as.array(loss_sparse_categorical_crossentropy(y_true = y, y_pred = y_2))))\n",
    "#> [1] 0.5017337 0.7084033"
   ]
  },
  {
   "cell_type": "markdown",
   "metadata": {},
   "source": [
    "## 11.3 MNIST：手書き数字の分類\n",
    "\n",
    "### 11.3.1 データの形式"
   ]
  },
  {
   "cell_type": "code",
   "execution_count": null,
   "metadata": {},
   "outputs": [],
   "source": [
    "library(keras)\n",
    "library(tidyverse)\n",
    "c(c(x_train, y_train), c(x_test, y_test)) %<-% dataset_mnist()"
   ]
  },
  {
   "cell_type": "code",
   "execution_count": null,
   "metadata": {},
   "outputs": [],
   "source": [
    "dim(x_train)\n",
    "#> [1] 60000    28    28"
   ]
  },
  {
   "cell_type": "code",
   "execution_count": null,
   "metadata": {},
   "outputs": [],
   "source": [
    "x_train[5, , ]"
   ]
  },
  {
   "cell_type": "code",
   "execution_count": null,
   "metadata": {},
   "outputs": [],
   "source": [
    "plot(as.raster(x = x_train[5, , ],\n",
    "               max = max(x_train)))"
   ]
  },
  {
   "cell_type": "code",
   "execution_count": null,
   "metadata": {},
   "outputs": [],
   "source": [
    "head(y_train)\n",
    "#> [1] 5 0 4 1 9 2"
   ]
  },
  {
   "cell_type": "code",
   "execution_count": null,
   "metadata": {},
   "outputs": [],
   "source": [
    "c(min(x_train), max(x_train))\n",
    "#> [1]   0 255"
   ]
  },
  {
   "cell_type": "code",
   "execution_count": null,
   "metadata": {},
   "outputs": [],
   "source": [
    "x_train <- x_train / 255\n",
    "x_test  <- x_test  / 255"
   ]
  },
  {
   "cell_type": "code",
   "execution_count": null,
   "metadata": {},
   "outputs": [],
   "source": [
    "my_index <- sample(1:60000, 6000)\n",
    "x_train <- x_train[my_index, , ]\n",
    "y_train <- y_train[my_index]"
   ]
  },
  {
   "cell_type": "markdown",
   "metadata": {},
   "source": [
    "### 11.3.2 多層パーセプトロン"
   ]
  },
  {
   "cell_type": "code",
   "execution_count": null,
   "metadata": {},
   "outputs": [],
   "source": [
    "my_model <- keras_model_sequential() %>%\n",
    "  layer_flatten(input_shape = c(28, 28)) %>%\n",
    "  layer_dense(units = 256, activation = \"relu\") %>%\n",
    "  layer_dense(units = 10, activation = \"softmax\")\n",
    "summary(my_model)\n",
    "# 割愛（Pythonの結果を参照）\n",
    "\n",
    "my_model %>% compile(loss = \"sparse_categorical_crossentropy\",\n",
    "                     optimizer = \"rmsprop\",\n",
    "                     metrics = c(\"accuracy\"))\n",
    "\n",
    "my_cb <- callback_early_stopping(patience = 5,\n",
    "                                 restore_best_weights = TRUE)"
   ]
  },
  {
   "cell_type": "code",
   "execution_count": null,
   "metadata": {},
   "outputs": [],
   "source": [
    "my_history <- my_model %>%\n",
    "  fit(x = x_train,\n",
    "      y = y_train,\n",
    "      validation_split = 0.2,\n",
    "      batch_size = 128,\n",
    "      epochs = 20,\n",
    "      callbacks = list(my_cb),\n",
    "      verbose = 0)\n",
    "\n",
    "plot(my_history)"
   ]
  },
  {
   "cell_type": "code",
   "execution_count": null,
   "metadata": {},
   "outputs": [],
   "source": [
    "tmp <- my_model %>% predict(x_test)\n",
    "y_ <- apply(tmp, 1, which.max) - 1\n",
    "table(y_, y_test)"
   ]
  },
  {
   "cell_type": "code",
   "execution_count": null,
   "metadata": {},
   "outputs": [],
   "source": [
    "#>    y_test\n",
    "#> y_     0    1    2    3    4    5    6    7    8    9\n",
    "#>   0  962    0    8    2    0    6   11    0    8   11\n",
    "#>   1    0 1110    1    0    3    1    3    8    2    4\n",
    "#>   2    0    5  959   13    4    4    2   16    6    1\n",
    "#>   3    1    1   22  958    1   27    0    7   33   13\n",
    "#>   4    2    0    6    1  905    8    6    6    3   14\n",
    "#>   5    5    2    0   12    1  809    9    1   15    4\n",
    "#>   6    6    3    8    0    8   11  922    0    5    1\n",
    "#>   7    1    1    7    7    1    2    0  963    4    8\n",
    "#>   8    2   13   19   13    4   16    5    0  890    5\n",
    "#>   9    1    0    2    4   55    8    0   27    8  948"
   ]
  },
  {
   "cell_type": "code",
   "execution_count": null,
   "metadata": {},
   "outputs": [],
   "source": [
    "mean(y_ == y_test)\n",
    "#> [1] 0.9426000"
   ]
  },
  {
   "cell_type": "code",
   "execution_count": null,
   "metadata": {},
   "outputs": [],
   "source": [
    "my_model %>%\n",
    "  evaluate(x = x_test, y = y_test)\n",
    "#>      loss  accuracy\n",
    "#> 0.2071411 0.9426000"
   ]
  },
  {
   "cell_type": "markdown",
   "metadata": {},
   "source": [
    "### 11.3.3 畳み込みニューラルネットワーク（CNN）"
   ]
  },
  {
   "cell_type": "code",
   "execution_count": null,
   "metadata": {},
   "outputs": [],
   "source": [
    "x_train2d <- x_train %>% array_reshape(c(-1, 28, 28, 1))\n",
    "x_test2d  <- x_test  %>% array_reshape(c(-1, 28, 28, 1))"
   ]
  },
  {
   "cell_type": "markdown",
   "metadata": {},
   "source": [
    "#### 11.3.3.1 単純なCNN"
   ]
  },
  {
   "cell_type": "code",
   "execution_count": null,
   "metadata": {},
   "outputs": [],
   "source": [
    "my_model <- keras_model_sequential() %>%\n",
    "  layer_conv_2d(filters = 32, kernel_size = 3,  # 畳み込み層\n",
    "                activation = \"relu\",\n",
    "                input_shape = c(28, 28, 1)) %>%\n",
    "  layer_max_pooling_2d(pool_size = 2) %>%       # プーリング層\n",
    "  layer_flatten() %>%\n",
    "  layer_dense(units = 128, activation = \"relu\") %>%\n",
    "  layer_dense(units = 10, activation = \"softmax\")\n",
    "\n",
    "summary(my_model)\n",
    "# 割愛（Python の結果を参照）\n",
    "\n",
    "my_model %>% compile(loss = \"sparse_categorical_crossentropy\",\n",
    "                     optimizer = \"rmsprop\",\n",
    "                     metrics = c(\"accuracy\"))\n",
    "\n",
    "my_cb <- callback_early_stopping(patience = 5,\n",
    "                                 restore_best_weights = TRUE)"
   ]
  },
  {
   "cell_type": "code",
   "execution_count": null,
   "metadata": {},
   "outputs": [],
   "source": [
    "my_history <- my_model %>%\n",
    "  fit(x = x_train2d,\n",
    "      y = y_train,\n",
    "      validation_split = 0.2,\n",
    "      batch_size = 128,\n",
    "      epochs = 20,\n",
    "      callbacks = list(my_cb),\n",
    "      verbose = 0)\n",
    "\n",
    "plot(my_history)"
   ]
  },
  {
   "cell_type": "code",
   "execution_count": null,
   "metadata": {},
   "outputs": [],
   "source": [
    "my_model %>%\n",
    "  evaluate(x = x_test2d, y = y_test)\n",
    "#>      loss  accuracy\n",
    "#> 0.1392894 0.9607000"
   ]
  },
  {
   "cell_type": "markdown",
   "metadata": {},
   "source": [
    "#### 11.3.3.2 LeNet"
   ]
  },
  {
   "cell_type": "code",
   "execution_count": null,
   "metadata": {},
   "outputs": [],
   "source": [
    "my_model <- keras_model_sequential() %>%\n",
    "  layer_conv_2d(filters = 20, kernel_size = 5, activation = \"relu\",\n",
    "                input_shape = c(28, 28, 1)) %>%\n",
    "  layer_max_pooling_2d(pool_size = 2, strides = 2) %>%\n",
    "  layer_conv_2d(filters = 50, kernel_size = 5, activation = \"relu\") %>%\n",
    "  layer_max_pooling_2d(pool_size = 2, strides = 2) %>%\n",
    "  layer_dropout(rate = 0.25) %>%\n",
    "  layer_flatten() %>%\n",
    "  layer_dense(units = 500, activation = \"relu\") %>%\n",
    "  layer_dropout(rate = 0.5) %>%\n",
    "  layer_dense(units = 10, activation = \"softmax\")\n",
    "\n",
    "my_model %>% compile(\n",
    "  loss = \"sparse_categorical_crossentropy\",\n",
    "  optimizer = \"rmsprop\",\n",
    "  metrics = c(\"accuracy\"))\n",
    "\n",
    "my_cb <- callback_early_stopping(patience = 5,\n",
    "                                 restore_best_weights = TRUE)"
   ]
  },
  {
   "cell_type": "code",
   "execution_count": null,
   "metadata": {},
   "outputs": [],
   "source": [
    "my_history <- my_model %>%\n",
    "  fit(x = x_train2d,\n",
    "      y = y_train,\n",
    "      validation_split = 0.2,\n",
    "      batch_size = 128,\n",
    "      epochs = 20,\n",
    "      callbacks = list(my_cb),\n",
    "      verbose = 0)\n",
    "\n",
    "plot(my_history)"
   ]
  },
  {
   "cell_type": "code",
   "execution_count": null,
   "metadata": {},
   "outputs": [],
   "source": [
    "my_model %>%\n",
    "  evaluate(x = x_test2d, y = y_test)\n",
    "#>      loss  accuracy\n",
    "#> 0.07309694 0.98060000"
   ]
  },
  {
   "cell_type": "markdown",
   "metadata": {},
   "source": [
    "#### 11.3.3.3 補足：LeNetが自信満々で間違う例"
   ]
  },
  {
   "cell_type": "code",
   "execution_count": null,
   "metadata": {},
   "outputs": [],
   "source": [
    "y_prob <- my_model %>% predict(x_test2d) # カテゴリに属する確率\n",
    "\n",
    "my_result <- data.frame(\n",
    "  y_prob = apply(y_prob, 1, max),           # 確率の最大値\n",
    "  y_     = apply(y_prob, 1, which.max) - 1, # 予測カテゴリ\n",
    "  y      = y_test,                          # 正解\n",
    "  id     = seq_len(length(y_test))) %>%     # 番号\n",
    "  filter(y_ != y) %>%                       # 予測がはずれたものを残す\n",
    "  arrange(desc(y_prob))                     # 確率の大きい順に並び替える"
   ]
  },
  {
   "cell_type": "code",
   "execution_count": null,
   "metadata": {},
   "outputs": [],
   "source": [
    "head(my_result)\n",
    "#>      y_prob y_ y   id\n",
    "#> 1 0.9998116  9 4 2131\n",
    "#> 2 0.9988768  6 5 9730\n",
    "#> 3 0.9986107  3 5 2598\n",
    "#> 4 0.9971705  3 5 2036\n",
    "#> 5 0.9888211  1 6 2655\n",
    "#> 6 0.9857675  0 6 2119"
   ]
  },
  {
   "cell_type": "code",
   "execution_count": null,
   "metadata": {},
   "outputs": [],
   "source": [
    "tmp <- my_result[1:5, ]$id\n",
    "my_labels <- sprintf(\"%s (%s)\",\n",
    "  my_result[1:5, ]$y, tmp)\n",
    "my_fig <- expand.grid(\n",
    "  label = my_labels,\n",
    "  y = 28:1,\n",
    "  x = 1:28)\n",
    "my_fig$z <- as.vector(\n",
    "  x_test[tmp, , ])\n",
    "\n",
    "my_fig %>% ggplot(\n",
    "  aes(x = x, y = y, fill = z)) +\n",
    "  geom_raster() +\n",
    "  coord_fixed() +\n",
    "  theme_void() +\n",
    "  theme(legend.position = \"none\") +\n",
    "  facet_grid(. ~ label)"
   ]
  },
  {
   "cell_type": "markdown",
   "metadata": {},
   "source": [
    "## 11.4 AutoML\n",
    "\n",
    "### 11.4.1 H2Oの起動と停止"
   ]
  },
  {
   "cell_type": "code",
   "execution_count": null,
   "metadata": {},
   "outputs": [],
   "source": [
    "library(h2o)\n",
    "library(keras)\n",
    "library(tidyverse)\n",
    "\n",
    "h2o.init()\n",
    "h2o.no_progress()\n",
    "# h2o.shutdown(prompt = FALSE) # 停止"
   ]
  },
  {
   "cell_type": "markdown",
   "metadata": {},
   "source": [
    "### 11.4.2 H2Oのデータフレーム"
   ]
  },
  {
   "cell_type": "code",
   "execution_count": null,
   "metadata": {},
   "outputs": [],
   "source": [
    "my_url <- str_c(\"https://raw.githubusercontent.com/taroyabuki\",\n",
    "                \"/fromzero/master/data/wine.csv\")\n",
    "my_data <- read_csv(my_url)\n",
    "my_frame <- as.h2o(my_data) # 通常のデータフレームをH2OFrameに変換する．\n",
    "# あるいは\n",
    "my_frame <- h2o.importFile(my_url, header = TRUE) # データを読み込む．"
   ]
  },
  {
   "cell_type": "code",
   "execution_count": null,
   "metadata": {},
   "outputs": [],
   "source": [
    "my_frame\n",
    "#>    LPRICE2 WRAIN DEGREES HRAIN ...\n",
    "#> 1 -0.99868   600 17.1167   160 ...\n",
    "#> 2 -0.45440   690 16.7333    80 ...\n",
    "#> 3 -0.80796   502 17.1500   130 ...\n",
    "#> 4 -1.50926   420 16.1333   110 ...\n",
    "#> 5 -1.71655   582 16.4167   187 ...\n",
    "#> 6 -0.41800   485 17.4833   187 ...\n",
    "#>\n",
    "#> [27 rows x 5 columns]\n",
    "\n",
    "# 通常のデータフレームに戻す．\n",
    "my_frame %>% as.data.frame %>% head\n",
    "# 結果は割愛（見た目は同じ）"
   ]
  },
  {
   "cell_type": "markdown",
   "metadata": {},
   "source": [
    "### 11.4.3 AutoMLによる回帰"
   ]
  },
  {
   "cell_type": "code",
   "execution_count": null,
   "metadata": {},
   "outputs": [],
   "source": [
    "my_model <- h2o.automl(\n",
    "    y = \"LPRICE2\",\n",
    "    training_frame = my_frame,\n",
    "    max_runtime_secs = 60)"
   ]
  },
  {
   "cell_type": "code",
   "execution_count": null,
   "metadata": {},
   "outputs": [],
   "source": [
    "min(my_model@leaderboard$rmse)\n",
    "#> [1] 0.2922861"
   ]
  },
  {
   "cell_type": "code",
   "execution_count": null,
   "metadata": {},
   "outputs": [],
   "source": [
    "tmp <- my_model %>%\n",
    "  predict(my_frame) %>%\n",
    "  as.data.frame\n",
    "y_ <- tmp$predict\n",
    "y  <- my_data$LPRICE2\n",
    "\n",
    "plot(y, y_)"
   ]
  },
  {
   "cell_type": "markdown",
   "metadata": {},
   "source": [
    "### 11.4.4 AutoMLによる分類"
   ]
  },
  {
   "cell_type": "code",
   "execution_count": null,
   "metadata": {},
   "outputs": [],
   "source": [
    "c(c(x_train, y_train), c(x_test, y_test)) %<-% dataset_mnist()\n",
    "my_index <- sample(1:60000, 6000)\n",
    "x_train <- x_train[my_index, , ]\n",
    "y_train <- y_train[my_index]"
   ]
  },
  {
   "cell_type": "code",
   "execution_count": null,
   "metadata": {},
   "outputs": [],
   "source": [
    "tmp <- x_train %>%\n",
    "  array_reshape(c(-1, 28 * 28)) %>%\n",
    "  as.data.frame\n",
    "tmp$y <- as.factor(y_train)\n",
    "my_train <- as.h2o(tmp)\n",
    "\n",
    "tmp <- x_test %>%\n",
    "  array_reshape(c(-1, 28 * 28)) %>%\n",
    "  as.data.frame\n",
    "my_test <- as.h2o(tmp)"
   ]
  },
  {
   "cell_type": "code",
   "execution_count": null,
   "metadata": {},
   "outputs": [],
   "source": [
    "my_model <- h2o.automl(\n",
    "    y = \"y\",\n",
    "    training_frame = my_train,\n",
    "    max_runtime_secs = 120)"
   ]
  },
  {
   "cell_type": "code",
   "execution_count": null,
   "metadata": {},
   "outputs": [],
   "source": [
    "min(my_model@leaderboard$\n",
    "    mean_per_class_error)\n",
    "#> [1] 0.0806190885648608"
   ]
  },
  {
   "cell_type": "code",
   "execution_count": null,
   "metadata": {},
   "outputs": [],
   "source": [
    "tmp <- my_model %>%\n",
    "  predict(my_test) %>% as.data.frame\n",
    "y_ <- tmp$predict\n",
    "\n",
    "mean(y_ == y_test)\n",
    "#> [1] 0.9306"
   ]
  }
 ],
 "nbformat": 4,
 "nbformat_minor": 5,
 "metadata": {
  "kernelspec": {
   "name": "ir",
   "display_name": "R"
  }
 }
}
