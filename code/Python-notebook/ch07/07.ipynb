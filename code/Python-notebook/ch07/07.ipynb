{
 "cells": [
  {
   "cell_type": "markdown",
   "metadata": {},
   "source": [
    "# 07\n",
    "\n",
    "## 7.1 自動車の停止距離\n",
    "\n",
    "## 7.2 データの確認"
   ]
  },
  {
   "cell_type": "code",
   "execution_count": null,
   "metadata": {},
   "outputs": [],
   "source": [
    "import statsmodels.api as sm\n",
    "my_data = sm.datasets.get_rdataset('cars', 'datasets').data"
   ]
  },
  {
   "cell_type": "code",
   "execution_count": null,
   "metadata": {},
   "outputs": [],
   "source": [
    "my_data.shape\n",
    "#> (50, 2)"
   ]
  },
  {
   "cell_type": "code",
   "execution_count": null,
   "metadata": {},
   "outputs": [],
   "source": [
    "my_data.head()\n",
    "#>    speed  dist\n",
    "#> 0      4     2\n",
    "#> 1      4    10\n",
    "#> 2      7     4\n",
    "#> 3      7    22\n",
    "#> 4      8    16"
   ]
  },
  {
   "cell_type": "code",
   "execution_count": null,
   "metadata": {},
   "outputs": [],
   "source": [
    "my_data.describe()\n",
    "#>            speed        dist\n",
    "#> count  50.000000   50.000000\n",
    "#> mean   15.400000   42.980000\n",
    "#> std     5.287644   25.769377\n",
    "#> min     4.000000    2.000000\n",
    "#> 25%    12.000000   26.000000\n",
    "#> 50%    15.000000   36.000000\n",
    "#> 75%    19.000000   56.000000\n",
    "#> max    25.000000  120.000000"
   ]
  },
  {
   "cell_type": "code",
   "execution_count": null,
   "metadata": {},
   "outputs": [],
   "source": [
    "my_data.plot(x='speed', style='o')"
   ]
  },
  {
   "cell_type": "markdown",
   "metadata": {},
   "source": [
    "## 7.3 回帰分析\n",
    "\n",
    "### 7.3.1 回帰分析とは何か\n",
    "\n",
    "### 7.3.2 線形単回帰分析"
   ]
  },
  {
   "cell_type": "code",
   "execution_count": null,
   "metadata": {},
   "outputs": [],
   "source": [
    "import seaborn as sns\n",
    "import statsmodels.api as sm\n",
    "\n",
    "my_data = sm.datasets.get_rdataset('cars', 'datasets').data\n",
    "ax = sns.regplot(x='speed', y='dist', data=my_data)\n",
    "ax.vlines(x=21.5, ymin=-5, ymax=67,   linestyles='dotted')\n",
    "ax.hlines(y=67,   xmin=4,  xmax=21.5, linestyles='dotted')\n",
    "ax.set_xlim(4, 25)\n",
    "ax.set_ylim(-5, 125)"
   ]
  },
  {
   "cell_type": "markdown",
   "metadata": {},
   "source": [
    "### 7.3.3 回帰分析の実践\n",
    "\n",
    "#### 7.3.3.1 データの用意"
   ]
  },
  {
   "cell_type": "code",
   "execution_count": null,
   "metadata": {},
   "outputs": [],
   "source": [
    "import statsmodels.api as sm\n",
    "my_data = sm.datasets.get_rdataset('cars', 'datasets').data\n",
    "X, y = my_data[['speed']], my_data['dist']"
   ]
  },
  {
   "cell_type": "markdown",
   "metadata": {},
   "source": [
    "#### 7.3.3.2 訓練"
   ]
  },
  {
   "cell_type": "code",
   "execution_count": null,
   "metadata": {},
   "outputs": [],
   "source": [
    "# モデルの指定\n",
    "from sklearn.linear_model import LinearRegression\n",
    "my_model = LinearRegression()\n",
    "\n",
    "# 訓練（モデルをデータにフィットさせる．）\n",
    "my_model.fit(X, y)\n",
    "\n",
    "# まとめて実行してもよい．\n",
    "# my_model = LinearRegression().fit(X, y)"
   ]
  },
  {
   "cell_type": "code",
   "execution_count": null,
   "metadata": {},
   "outputs": [],
   "source": [
    "my_model.intercept_, my_model.coef_\n",
    "#> (-17.579094890510973,\n",
    "#>  array([3.93240876]))"
   ]
  },
  {
   "cell_type": "markdown",
   "metadata": {},
   "source": [
    "#### 7.3.3.3 予測"
   ]
  },
  {
   "cell_type": "code",
   "execution_count": null,
   "metadata": {},
   "outputs": [],
   "source": [
    "tmp = [[21.5]]\n",
    "my_model.predict(tmp)\n",
    "#> array([66.96769343])"
   ]
  },
  {
   "cell_type": "markdown",
   "metadata": {},
   "source": [
    "#### 7.3.3.4 モデルの可視化"
   ]
  },
  {
   "cell_type": "code",
   "execution_count": null,
   "metadata": {},
   "outputs": [],
   "source": [
    "import numpy as np\n",
    "import pandas as pd\n",
    "\n",
    "tmp = pd.DataFrame({'speed': np.linspace(min(my_data.speed),\n",
    "                                         max(my_data.speed),\n",
    "                                         100)})\n",
    "tmp['model'] = my_model.predict(tmp)"
   ]
  },
  {
   "cell_type": "code",
   "execution_count": null,
   "metadata": {},
   "outputs": [],
   "source": [
    "pd.concat([my_data, tmp]).plot(\n",
    "    x='speed', style=['o', '-'])"
   ]
  },
  {
   "cell_type": "markdown",
   "metadata": {},
   "source": [
    "## 7.4 当てはまりの良さの指標\n",
    "\n",
    "### 7.4.1 RMSE"
   ]
  },
  {
   "cell_type": "code",
   "execution_count": null,
   "metadata": {},
   "outputs": [],
   "source": [
    "import pandas as pd\n",
    "import statsmodels.api as sm\n",
    "from sklearn.linear_model import LinearRegression\n",
    "from sklearn.metrics import mean_squared_error, r2_score\n",
    "\n",
    "my_data = sm.datasets.get_rdataset('cars', 'datasets').data\n",
    "X, y = my_data[['speed']], my_data['dist']\n",
    "\n",
    "my_model = LinearRegression()\n",
    "my_model.fit(X, y)\n",
    "y_ = my_model.predict(X)\n",
    "my_data['y_'] = y_"
   ]
  },
  {
   "cell_type": "code",
   "execution_count": null,
   "metadata": {},
   "outputs": [],
   "source": [
    "pd.options.display.float_format = (\n",
    "    '{:.2f}'.format)\n",
    "my_data['residual'] = y - y_\n",
    "my_data.head()\n",
    "#>    speed  dist    y_  residual\n",
    "#> 0      4     2 -1.85      3.85\n",
    "#> 1      4    10 -1.85     11.85\n",
    "#> 2      7     4  9.95     -5.95\n",
    "#> 3      7    22  9.95     12.05\n",
    "#> 4      8    16 13.88      2.12"
   ]
  },
  {
   "cell_type": "code",
   "execution_count": null,
   "metadata": {},
   "outputs": [],
   "source": [
    "ax = my_data.plot(x='speed', y='dist', style='o', legend=False)\n",
    "my_data.plot(x='speed', y='y_', style='-', legend=False, ax=ax)\n",
    "ax.vlines(x=X, ymin=y, ymax=y_, linestyles='dotted')"
   ]
  },
  {
   "cell_type": "code",
   "execution_count": null,
   "metadata": {},
   "outputs": [],
   "source": [
    "mean_squared_error(y, y_)**0.5\n",
    "# あるいは\n",
    "(my_data['residual']**2).mean()**0.5\n",
    "\n",
    "#> 15.068855995791381"
   ]
  },
  {
   "cell_type": "markdown",
   "metadata": {},
   "source": [
    "### 7.4.2 決定係数"
   ]
  },
  {
   "cell_type": "code",
   "execution_count": null,
   "metadata": {},
   "outputs": [],
   "source": [
    "my_model.score(X, y)\n",
    "# あるいは\n",
    "r2_score(y_true=y, y_pred=y_)\n",
    "#> 0.6510793807582509"
   ]
  },
  {
   "cell_type": "code",
   "execution_count": null,
   "metadata": {},
   "outputs": [],
   "source": [
    "import numpy as np\n",
    "np.corrcoef(y, y_)[0, 1]**2\n",
    "#> 0.6510793807582511"
   ]
  },
  {
   "cell_type": "code",
   "execution_count": null,
   "metadata": {},
   "outputs": [],
   "source": [
    "my_test = my_data[:3]\n",
    "X = my_test[['speed']]\n",
    "y = my_test['dist']\n",
    "y_ = my_model.predict(X)\n",
    "\n",
    "my_model.score(X, y)\n",
    "# あるいは\n",
    "r2_score(y_true=y, y_pred=y_)\n",
    "#> -4.498191310376778 # 決定係数1\n",
    "\n",
    "np.corrcoef(y, y_)[0, 1]**2\n",
    "#> 0.0769230769230769 # 決定係数6"
   ]
  },
  {
   "cell_type": "markdown",
   "metadata": {},
   "source": [
    "### 7.4.3 当てはまりの良さの指標の問題点"
   ]
  },
  {
   "cell_type": "code",
   "execution_count": null,
   "metadata": {},
   "outputs": [],
   "source": [
    "import numpy as np\n",
    "import pandas as pd\n",
    "import statsmodels.api as sm\n",
    "from sklearn.linear_model import LinearRegression\n",
    "from sklearn.preprocessing import PolynomialFeatures\n",
    "\n",
    "my_data = sm.datasets.get_rdataset('cars', 'datasets').data\n",
    "\n",
    "my_idx = [1, 10, 26, 33, 38, 43]\n",
    "my_sample = my_data.iloc[my_idx, ]\n",
    "X, y = my_sample[['speed']], my_sample['dist']"
   ]
  },
  {
   "cell_type": "code",
   "execution_count": null,
   "metadata": {},
   "outputs": [],
   "source": [
    "d = 5\n",
    "X5 = PolynomialFeatures(d).fit_transform(X) # Xの1乗から5乗の変数\n",
    "\n",
    "my_model = LinearRegression()\n",
    "my_model.fit(X5, y)\n",
    "y_ = my_model.predict(X5)"
   ]
  },
  {
   "cell_type": "code",
   "execution_count": null,
   "metadata": {},
   "outputs": [],
   "source": [
    "((y - y_)**2).mean()**0.5\n",
    "#> 7.725744805546204e-07 # RMSE\n",
    "\n",
    "my_model.score(X5, y)\n",
    "#> 0.9999999999999989 # 決定係数1\n",
    "\n",
    "np.corrcoef(y, y_)[0, 1]**2\n",
    "#> 0.9999999999999991 # 決定係数6"
   ]
  },
  {
   "cell_type": "code",
   "execution_count": null,
   "metadata": {},
   "outputs": [],
   "source": [
    "tmp = pd.DataFrame({'speed': np.linspace(min(my_data.speed),\n",
    "                                         max(my_data.speed),\n",
    "                                         100)})\n",
    "X5 = PolynomialFeatures(d).fit_transform(tmp)\n",
    "tmp['model'] = my_model.predict(X5)\n",
    "\n",
    "my_sample = my_sample.assign(sample=y)\n",
    "my_df = pd.concat([my_data, my_sample, tmp])\n",
    "my_df.plot(x='speed', style=['o', 'o', '-'], ylim=(0, 130))"
   ]
  },
  {
   "cell_type": "markdown",
   "metadata": {},
   "source": [
    "## 7.5 K最近傍法\n",
    "\n",
    "### 7.5.1 K最近傍法とは何か\n",
    "\n",
    "### 7.5.2 K最近傍法の実践"
   ]
  },
  {
   "cell_type": "code",
   "execution_count": null,
   "metadata": {},
   "outputs": [],
   "source": [
    "# 準備\n",
    "import numpy as np\n",
    "import pandas as pd\n",
    "import statsmodels.api as sm\n",
    "from sklearn.neighbors import KNeighborsRegressor\n",
    "\n",
    "my_data = sm.datasets.get_rdataset('cars', 'datasets').data\n",
    "X, y = my_data[['speed']], my_data['dist']\n",
    "\n",
    "# 訓練\n",
    "my_model = KNeighborsRegressor()\n",
    "my_model.fit(X, y)\n",
    "\n",
    "# 可視化の準備\n",
    "tmp = pd.DataFrame({'speed': np.linspace(min(my_data.speed),\n",
    "                                         max(my_data.speed),\n",
    "                                         100)})\n",
    "tmp['model'] = my_model.predict(tmp)"
   ]
  },
  {
   "cell_type": "code",
   "execution_count": null,
   "metadata": {},
   "outputs": [],
   "source": [
    "pd.concat([my_data, tmp]).plot(\n",
    "    x='speed', style=['o', '-'])"
   ]
  },
  {
   "cell_type": "code",
   "execution_count": null,
   "metadata": {},
   "outputs": [],
   "source": [
    "y_ = my_model.predict(X)\n",
    "\n",
    "((y - y_)**2).mean()**0.5\n",
    "#> 13.087184571174962 # RMSE\n",
    "\n",
    "my_model.score(X, y)\n",
    "#> 0.7368165812204317 # 決定係数1\n",
    "\n",
    "np.corrcoef(y, y_)[0, 1]**2\n",
    "#> 0.7380949412509705 # 決定係数6"
   ]
  },
  {
   "cell_type": "markdown",
   "metadata": {},
   "source": [
    "## 7.6 検証\n",
    "\n",
    "### 7.6.1 訓練データ・検証データ・テストデータ\n",
    "\n",
    "### 7.6.2 検証とは何か\n",
    "\n",
    "### 7.6.3 検証の実践"
   ]
  },
  {
   "cell_type": "code",
   "execution_count": null,
   "metadata": {},
   "outputs": [],
   "source": [
    "import statsmodels.api as sm\n",
    "from sklearn.linear_model import LinearRegression\n",
    "from sklearn.model_selection import cross_val_score\n",
    "\n",
    "# データの準備\n",
    "my_data = sm.datasets.get_rdataset('cars', 'datasets').data\n",
    "X, y = my_data[['speed']], my_data['dist']\n",
    "\n",
    "# モデルの指定\n",
    "my_model = LinearRegression()\n",
    "\n",
    "# 検証（5分割交差検証）\n",
    "my_scores = cross_val_score(my_model, X, y)\n",
    "\n",
    "# 5個の決定係数1を得る．\n",
    "my_scores\n",
    "#> array([-0.25789256, -0.21421069, -0.30902773, -0.27346232,  0.02312918])\n",
    "\n",
    "# 平均を決定係数1（検証）とする．\n",
    "my_scores.mean()\n",
    "#> -0.20629282165364665"
   ]
  },
  {
   "cell_type": "code",
   "execution_count": null,
   "metadata": {},
   "outputs": [],
   "source": [
    "my_scores = cross_val_score(my_model, X, y,\n",
    "                            scoring='neg_root_mean_squared_error')\n",
    "-my_scores.mean()\n",
    "#> 15.58402474583013 # RMSE（検証）"
   ]
  },
  {
   "cell_type": "markdown",
   "metadata": {},
   "source": [
    "### 7.6.4 検証の並列化\n",
    "\n",
    "### 7.6.5 指標のまとめ\n",
    "\n",
    "#### 7.6.5.1 準備"
   ]
  },
  {
   "cell_type": "code",
   "execution_count": null,
   "metadata": {},
   "outputs": [],
   "source": [
    "import numpy as np\n",
    "import statsmodels.api as sm\n",
    "from sklearn.linear_model import LinearRegression\n",
    "from sklearn.metrics import mean_squared_error, r2_score\n",
    "from sklearn.model_selection import cross_val_score, LeaveOneOut\n",
    "\n",
    "my_data = sm.datasets.get_rdataset('cars', 'datasets').data\n",
    "X, y = my_data[['speed']], my_data['dist']\n",
    "my_model = LinearRegression().fit(X, y)\n",
    "y_ = my_model.predict(X)"
   ]
  },
  {
   "cell_type": "markdown",
   "metadata": {},
   "source": [
    "#### 7.6.5.2 当てはまりの良さの指標"
   ]
  },
  {
   "cell_type": "code",
   "execution_count": null,
   "metadata": {},
   "outputs": [],
   "source": [
    "# RMSE（訓練）\n",
    "mean_squared_error(y, y_)**0.5\n",
    "#> 15.068855995791381\n",
    "\n",
    "# 決定係数1（訓練）\n",
    "my_model.score(X, y)\n",
    "# あるいは\n",
    "r2_score(y_true=y, y_pred=y_)\n",
    "#> 0.6510793807582509\n",
    "\n",
    "# 決定係数6（訓練）\n",
    "np.corrcoef(y, y_)[0, 1]**2\n",
    "#> 0.6510793807582511"
   ]
  },
  {
   "cell_type": "markdown",
   "metadata": {},
   "source": [
    "#### 7.6.5.3 予測性能の指標（簡単に求められるもの）"
   ]
  },
  {
   "cell_type": "code",
   "execution_count": null,
   "metadata": {},
   "outputs": [],
   "source": [
    "my_scores = cross_val_score(my_model, X, y,\n",
    "                            scoring='neg_root_mean_squared_error')\n",
    "-my_scores.mean()\n",
    "#> 15.301860331378464  # RMSE（検証）\n",
    "\n",
    "my_scores = cross_val_score(my_model, X, y, scoring='r2') # scoring='r2'は省略可\n",
    "my_scores.mean()\n",
    "#> 0.49061365458235245 # 決定係数1（検証）"
   ]
  },
  {
   "cell_type": "markdown",
   "metadata": {},
   "source": [
    "#### 7.6.5.4 予測性能の指標（RとPythonで同じ結果を得る）"
   ]
  },
  {
   "cell_type": "code",
   "execution_count": null,
   "metadata": {},
   "outputs": [],
   "source": [
    "# 方法1\n",
    "my_scores1 = cross_val_score(my_model, X, y, cv=LeaveOneOut(),\n",
    "                             scoring='neg_mean_squared_error')\n",
    "(-my_scores1.mean())**0.5\n",
    "#> 15.697306009399101\n",
    "\n",
    "# 方法2\n",
    "my_scores2 = cross_val_score(my_model, X, y, cv=LeaveOneOut(),\n",
    "                             scoring='neg_root_mean_squared_error')\n",
    "(my_scores2**2).mean()**0.5\n",
    "#> 15.697306009399101"
   ]
  },
  {
   "cell_type": "code",
   "execution_count": null,
   "metadata": {},
   "outputs": [],
   "source": [
    "-my_scores2.mean()\n",
    "#> 12.059178648637483"
   ]
  },
  {
   "cell_type": "markdown",
   "metadata": {},
   "source": [
    "### 7.6.6 補足：検証による手法の比較"
   ]
  },
  {
   "cell_type": "code",
   "execution_count": null,
   "metadata": {},
   "outputs": [],
   "source": [
    "import pandas as pd\n",
    "import statsmodels.api as sm\n",
    "from sklearn.linear_model import LinearRegression\n",
    "from sklearn.metrics import mean_squared_error\n",
    "from sklearn.model_selection import cross_val_score, LeaveOneOut\n",
    "from sklearn.neighbors import KNeighborsRegressor\n",
    "\n",
    "my_data = sm.datasets.get_rdataset('cars', 'datasets').data\n",
    "X, y = my_data[['speed']], my_data['dist']\n",
    "\n",
    "my_lm_scores = cross_val_score(\n",
    "    LinearRegression(),\n",
    "    X, y, cv=LeaveOneOut(), scoring='neg_mean_squared_error')\n",
    "\n",
    "my_knn_socres = cross_val_score(\n",
    "    KNeighborsRegressor(n_neighbors=5),\n",
    "    X, y, cv=LeaveOneOut(), scoring='neg_mean_squared_error')"
   ]
  },
  {
   "cell_type": "code",
   "execution_count": null,
   "metadata": {},
   "outputs": [],
   "source": [
    "(-my_lm_scores.mean())**0.5\n",
    "#> 15.697306009399101 # 線形回帰分析\n",
    "\n",
    "(-my_knn_socres.mean())**0.5\n",
    "#> 16.07308308943869 # K最近傍法"
   ]
  },
  {
   "cell_type": "code",
   "execution_count": null,
   "metadata": {},
   "outputs": [],
   "source": [
    "my_df = pd.DataFrame({\n",
    "    'lm': -my_lm_scores,\n",
    "    'knn': -my_knn_socres})\n",
    "my_df.head()\n",
    "#>            lm     knn\n",
    "#> 0   18.913720  108.16\n",
    "#> 1  179.215044    0.64\n",
    "#> 2   41.034336   64.00\n",
    "#> 3  168.490212  184.96\n",
    "#> 4    5.085308    0.00"
   ]
  },
  {
   "cell_type": "code",
   "execution_count": null,
   "metadata": {},
   "outputs": [],
   "source": [
    "my_df.boxplot().set_ylabel(\"$r^2$\")"
   ]
  },
  {
   "cell_type": "code",
   "execution_count": null,
   "metadata": {},
   "outputs": [],
   "source": [
    "from statsmodels.stats.weightstats import DescrStatsW\n",
    "d = DescrStatsW(my_df.lm - my_df.knn)\n",
    "d.ttest_mean()[1] # p値\n",
    "#> 0.6952755720536115\n",
    "\n",
    "d.tconfint_mean(alpha=0.05, alternative='two-sided') # 信頼区間\n",
    "#> (-72.8275283312228, 48.95036023665703)"
   ]
  },
  {
   "cell_type": "markdown",
   "metadata": {},
   "source": [
    "## 7.7 パラメータチューニング"
   ]
  },
  {
   "cell_type": "code",
   "execution_count": null,
   "metadata": {},
   "outputs": [],
   "source": [
    "import pandas as pd\n",
    "import statsmodels.api as sm\n",
    "from sklearn.metrics import mean_squared_error\n",
    "from sklearn.model_selection import GridSearchCV, LeaveOneOut\n",
    "from sklearn.neighbors import KNeighborsRegressor\n",
    "\n",
    "my_data = sm.datasets.get_rdataset('cars', 'datasets').data\n",
    "X, y = my_data[['speed']], my_data['dist']\n",
    "\n",
    "my_params = {'n_neighbors': range(1, 16)} # 探索範囲（1以上16未満の整数）\n",
    "\n",
    "my_search = GridSearchCV(estimator=KNeighborsRegressor(),\n",
    "                         param_grid=my_params,\n",
    "                         cv=LeaveOneOut(),\n",
    "                         scoring='neg_mean_squared_error')\n",
    "my_search.fit(X, y)"
   ]
  },
  {
   "cell_type": "code",
   "execution_count": null,
   "metadata": {},
   "outputs": [],
   "source": [
    "tmp = my_search.cv_results_                # チューニングの詳細\n",
    "my_scores = (-tmp['mean_test_score'])**0.5 # RMSE\n",
    "my_results = pd.DataFrame(tmp['params']).assign(validation=my_scores)"
   ]
  },
  {
   "cell_type": "code",
   "execution_count": null,
   "metadata": {},
   "outputs": [],
   "source": [
    "my_results.head()\n",
    "#>    n_neighbors  validation\n",
    "#> 0            1   20.089798\n",
    "#> 1            2   17.577685\n",
    "#> 2            3   16.348836\n",
    "#> 3            4   16.198804\n",
    "#> 4            5   16.073083"
   ]
  },
  {
   "cell_type": "code",
   "execution_count": null,
   "metadata": {},
   "outputs": [],
   "source": [
    "my_results.plot(x='n_neighbors',\n",
    "                style='o-',\n",
    "                ylabel='RMSE')"
   ]
  },
  {
   "cell_type": "code",
   "execution_count": null,
   "metadata": {},
   "outputs": [],
   "source": [
    "my_search.best_params_\n",
    "#> {'n_neighbors': 5}"
   ]
  },
  {
   "cell_type": "code",
   "execution_count": null,
   "metadata": {},
   "outputs": [],
   "source": [
    "(-my_search.best_score_)**0.5\n",
    "#> 16.07308308943869"
   ]
  },
  {
   "cell_type": "code",
   "execution_count": null,
   "metadata": {},
   "outputs": [],
   "source": [
    "my_model = my_search.best_estimator_\n",
    "y_ = my_model.predict(X)\n",
    "mean_squared_error(y_, y)**0.5\n",
    "#> 13.087184571174962"
   ]
  },
  {
   "cell_type": "markdown",
   "metadata": {},
   "source": [
    "### 7.7.1 補足：ハイパーパラメータとRMSE（訓練）"
   ]
  },
  {
   "cell_type": "code",
   "execution_count": null,
   "metadata": {},
   "outputs": [],
   "source": [
    "import pandas as pd\n",
    "import statsmodels.api as sm\n",
    "from sklearn.metrics import mean_squared_error\n",
    "from sklearn.model_selection import cross_val_score, LeaveOneOut\n",
    "from sklearn.neighbors import KNeighborsRegressor\n",
    "\n",
    "my_data = sm.datasets.get_rdataset('cars', 'datasets').data\n",
    "X, y = my_data[['speed']], my_data['dist']\n",
    "\n",
    "def my_loocv(k):\n",
    "    my_model = KNeighborsRegressor(n_neighbors=k)\n",
    "    my_scores = cross_val_score(estimator=my_model, X=X, y=y,\n",
    "                                cv=LeaveOneOut(),\n",
    "                                scoring='neg_mean_squared_error')\n",
    "    y_ = my_model.fit(X, y).predict(X)\n",
    "    return pd.Series([k,\n",
    "                      (-my_scores.mean())**0.5,        # RMSE（検証）\n",
    "                      mean_squared_error(y_, y)**0.5], # RMSE（訓練）\n",
    "                     index=['n_neighbors', 'validation', 'training'])\n",
    "\n",
    "my_results = pd.Series(range(1, 16)).apply(my_loocv)"
   ]
  },
  {
   "cell_type": "code",
   "execution_count": null,
   "metadata": {},
   "outputs": [],
   "source": [
    "my_results.plot(x='n_neighbors',\n",
    "                style='o-',\n",
    "                ylabel='RMSE')"
   ]
  }
 ],
 "nbformat": 4,
 "nbformat_minor": 5,
 "metadata": {
  "kernelspec": {
   "name": "python3",
   "display_name": "Python 3"
  }
 }
}
