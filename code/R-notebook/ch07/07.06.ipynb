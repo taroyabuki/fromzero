{
 "cells": [
  {
   "cell_type": "markdown",
   "metadata": {},
   "source": [
    "## 7.6 検証\n",
    "\n",
    "### 7.6.1 訓練データ・検証データ・テストデータ\n",
    "\n",
    "### 7.6.2 検証とは何か\n",
    "\n",
    "### 7.6.3 検証の実践"
   ]
  },
  {
   "cell_type": "code",
   "execution_count": null,
   "metadata": {},
   "outputs": [],
   "source": [
    "library(caret)\n",
    "library(tidyverse)\n",
    "my_data <- cars\n",
    "my_model <- train(form = dist ~ speed, data = my_data, method = \"lm\")\n",
    "\n",
    "my_model$results\n",
    "#>   intercept    RMSE  Rsquared      MAE   RMSESD RsquaredSD    MAESD\n",
    "#> 1      TRUE 16.0206 0.6662176 12.14701 2.518604 0.09249158 1.920564"
   ]
  },
  {
   "cell_type": "code",
   "execution_count": null,
   "metadata": {},
   "outputs": [],
   "source": [
    "my_model <- train(form = dist ~ speed, data = my_data, method = \"lm\",\n",
    "                  trControl = trainControl(method = \"cv\", number = 5))\n",
    "my_model$results\n",
    "#>   intercept     RMSE  Rsquared      MAE  RMSESD RsquaredSD    MAESD\n",
    "#> 1      TRUE 15.06708 0.6724501 12.12448 4.75811  0.1848932 3.052435"
   ]
  },
  {
   "cell_type": "code",
   "execution_count": null,
   "metadata": {},
   "outputs": [],
   "source": [
    "my_model <- train(form = dist ~ speed, data = my_data, method = \"lm\",\n",
    "                  trControl = trainControl(method = \"LOOCV\"))\n",
    "my_model$results\n",
    "#>   intercept     RMSE  Rsquared      MAE\n",
    "#> 1      TRUE 15.69731 0.6217139 12.05918"
   ]
  },
  {
   "cell_type": "markdown",
   "metadata": {},
   "source": [
    "### 7.6.4 検証の並列化"
   ]
  },
  {
   "cell_type": "code",
   "execution_count": null,
   "metadata": {},
   "outputs": [],
   "source": [
    "library(doParallel)\n",
    "cl <- makeCluster(detectCores())\n",
    "registerDoParallel(cl)"
   ]
  },
  {
   "cell_type": "markdown",
   "metadata": {},
   "source": [
    "### 7.6.5 指標のまとめ\n",
    "\n",
    "#### 7.6.5.1 準備"
   ]
  },
  {
   "cell_type": "code",
   "execution_count": null,
   "metadata": {},
   "outputs": [],
   "source": [
    "library(caret)\n",
    "library(tidyverse)\n",
    "my_data <- cars\n",
    "my_model <- train(form = dist ~ speed, data = my_data, method = \"lm\")\n",
    "y  <- my_data$dist\n",
    "y_ <- my_model %>% predict(my_data)"
   ]
  },
  {
   "cell_type": "markdown",
   "metadata": {},
   "source": [
    "#### 7.6.5.2 当てはまりの良さの指標"
   ]
  },
  {
   "cell_type": "code",
   "execution_count": null,
   "metadata": {},
   "outputs": [],
   "source": [
    "# RMSE（訓練）\n",
    "RMSE(y_, y)\n",
    "#> [1] 15.06886\n",
    "\n",
    "# 決定係数1（訓練）\n",
    "R2(pred = y_, obs = y,\n",
    "   form = \"traditional\")\n",
    "#> [1] 0.6510794\n",
    "\n",
    "# 決定係数6（訓練）\n",
    "R2(pred = y_, obs = y,\n",
    "   form = \"corr\")\n",
    "#> [1] 0.6510794"
   ]
  },
  {
   "cell_type": "code",
   "execution_count": null,
   "metadata": {},
   "outputs": [],
   "source": [
    "postResample(pred = y_, obs = y)\n",
    "#>       RMSE   Rsquared        MAE\n",
    "#> 15.0688560  0.6510794 11.5801191"
   ]
  },
  {
   "cell_type": "markdown",
   "metadata": {},
   "source": [
    "#### 7.6.5.3 予測性能の指標（簡単に求められるもの）"
   ]
  },
  {
   "cell_type": "code",
   "execution_count": null,
   "metadata": {},
   "outputs": [],
   "source": [
    "my_model <- train(form = dist ~ speed, data = my_data, method = \"lm\")\n",
    "my_model$results\n",
    "#>   intercept     RMSE  Rsquared      MAE ...\n",
    "#> 1      TRUE 14.88504 0.6700353 11.59226 ...\n",
    "# 左から，RMSE（検証），決定係数6（検証），MAE（検証）"
   ]
  },
  {
   "cell_type": "markdown",
   "metadata": {},
   "source": [
    "#### 7.6.5.4 予測性能の指標（RとPythonで同じ結果を得る）"
   ]
  },
  {
   "cell_type": "code",
   "execution_count": null,
   "metadata": {},
   "outputs": [],
   "source": [
    "my_model <- train(form = dist ~ speed, data = my_data, method = \"lm\",\n",
    "                  trControl = trainControl(method = \"LOOCV\"))\n",
    "\n",
    "# 方法1\n",
    "my_model$results\n",
    "#>   intercept     RMSE  Rsquared      MAE\n",
    "#> 1      TRUE 15.69731 0.6217139 12.05918\n",
    "\n",
    "# 方法2\n",
    "y  <- my_model$pred$obs\n",
    "y_ <- my_model$pred$pred\n",
    "mean((y - y_)^2)**0.5\n",
    "#> [1] 15.69731"
   ]
  },
  {
   "cell_type": "code",
   "execution_count": null,
   "metadata": {},
   "outputs": [],
   "source": [
    "mean(((y - y_)^2)**0.5)\n",
    "#> [1] 12.05918"
   ]
  },
  {
   "cell_type": "markdown",
   "metadata": {},
   "source": [
    "### 7.6.6 補足：検証による手法の比較"
   ]
  },
  {
   "cell_type": "code",
   "execution_count": null,
   "metadata": {},
   "outputs": [],
   "source": [
    "library(caret)\n",
    "library(tidyverse)\n",
    "my_data <- cars\n",
    "\n",
    "my_lm_model <- train(form = dist ~ speed, data = my_data, method = \"lm\",\n",
    "                     trControl = trainControl(method = \"LOOCV\"))\n",
    "\n",
    "my_knn_model <- train(form = dist ~ speed, data = my_data, method = \"knn\",\n",
    "                      tuneGrid = data.frame(k = 5),\n",
    "                      trControl = trainControl(method = \"LOOCV\"))"
   ]
  },
  {
   "cell_type": "code",
   "execution_count": null,
   "metadata": {},
   "outputs": [],
   "source": [
    "my_lm_model$results$RMSE\n",
    "#> [1] 15.69731 # 線形回帰分析\n",
    "\n",
    "my_knn_model$results$RMSE\n",
    "#> [1] 15.79924 # K最近傍法"
   ]
  },
  {
   "cell_type": "code",
   "execution_count": null,
   "metadata": {},
   "outputs": [],
   "source": [
    "y     <- my_data$dist\n",
    "y_lm  <- my_lm_model$pred$pred\n",
    "y_knn <- my_knn_model$pred$pred\n",
    "\n",
    "my_df <- data.frame(\n",
    "  lm  = (y - y_lm)^2,\n",
    "  knn = (y - y_knn)^2)\n",
    "\n",
    "head(my_df)\n",
    "#>           lm      knn\n",
    "#> 1  18.913720 108.1600\n",
    "#> 2 179.215044   0.6400\n",
    "#> 3  41.034336 175.5625\n",
    "#> 4 168.490212  49.0000\n",
    "#> 5   5.085308   9.0000\n",
    "#> 6  67.615888 112.8906"
   ]
  },
  {
   "cell_type": "code",
   "execution_count": null,
   "metadata": {},
   "outputs": [],
   "source": [
    "boxplot(my_df, ylab = \"r^2\")"
   ]
  },
  {
   "cell_type": "code",
   "execution_count": null,
   "metadata": {},
   "outputs": [],
   "source": [
    "t.test(x = my_df$lm, y = my_df$knn,\n",
    "       conf.level = 0.95,\n",
    "       paired = TRUE,\n",
    "       alternative = \"two.sided\")\n",
    "\n",
    "#>  Paired t-test\n",
    "#>\n",
    "#> data:  my_df$lm and my_df$knn\n",
    "#> t = -0.12838, df = 49, p-value = 0.8984\n",
    "#> alternative hypothesis: true difference in means is not equal to 0\n",
    "#> 95 percent confidence interval:\n",
    "#>  -53.46930  47.04792\n",
    "#> sample estimates:\n",
    "#> mean of the differences\n",
    "#>               -3.210688"
   ]
  }
 ],
 "nbformat": 4,
 "nbformat_minor": 5,
 "metadata": {
  "kernelspec": {
   "name": "ir",
   "display_name": "R"
  }
 }
}
