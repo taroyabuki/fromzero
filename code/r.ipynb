{
  "cells": [
    {
      "id": "cd24be2d",
      "cell_type": "markdown",
      "source": "[\u8fbb\u771f\u543e\u30fb\u77e2\u5439\u592a\u6717\u300e\u30bc\u30ed\u304b\u3089\u306f\u3058\u3081\u308b\u30c7\u30fc\u30bf\u30b5\u30a4\u30a8\u30f3\u30b9\u5165\u9580\u300f\uff08\u8b1b\u8ac7\u793e,\u00a02021\uff09](https://github.com/taroyabuki/fromzero)",
      "metadata": {}
    },
    {
      "cell_type": "code",
      "execution_count": null,
      "metadata": {},
      "outputs": [],
      "source": [
        "# \u3053\u308c\u306fR\u306e\u30b3\u30fc\u30c9\u306e\u4f8b\u3067\u3059\uff0e\n",
        "1 + 1"
      ],
      "id": "67ce7604-8ff6-4f1a-8864-ea6e74300d87"
    },
    {
      "id": "0674a254",
      "cell_type": "markdown",
      "source": "# 1 \u30b3\u30f3\u30d4\u30e5\u30fc\u30bf\u3068\u30cd\u30c3\u30c8\u30ef\u30fc\u30af\n\n\n",
      "metadata": {}
    },
    {
      "id": "e626befc",
      "cell_type": "markdown",
      "source": "## 1.1 \u30b3\u30f3\u30d4\u30e5\u30fc\u30bf\u306e\u57fa\u672c\u64cd\u4f5c\n\n\n",
      "metadata": {}
    },
    {
      "id": "5edefe2b",
      "cell_type": "markdown",
      "source": "## 1.2 \u30cd\u30c3\u30c8\u30ef\u30fc\u30af\u306e\u4ed5\u7d44\u307f\n\n\n",
      "metadata": {}
    },
    {
      "id": "a64df12f",
      "cell_type": "markdown",
      "source": "# 2 \u30c7\u30fc\u30bf\u30b5\u30a4\u30a8\u30f3\u30b9\u306e\u305f\u3081\u306e\u74b0\u5883\n\n\n",
      "metadata": {}
    },
    {
      "id": "2d961ee6",
      "cell_type": "markdown",
      "source": "## 2.1 \u5b9f\u884c\u74b0\u5883\u306e\u9078\u629e\n\n\n",
      "metadata": {}
    },
    {
      "id": "d96f3bf2",
      "cell_type": "markdown",
      "source": "## 2.2 \u30af\u30e9\u30a6\u30c9\n\n\n",
      "metadata": {}
    },
    {
      "id": "1beb4c26",
      "cell_type": "markdown",
      "source": "## 2.3 Docker\n\n\n",
      "metadata": {}
    },
    {
      "id": "2eccfd34",
      "cell_type": "markdown",
      "source": "## 2.4 \u30bf\u30fc\u30df\u30ca\u30eb\u306e\u4f7f\u3044\u65b9\n\n\n",
      "metadata": {}
    },
    {
      "id": "acbb8483",
      "cell_type": "markdown",
      "source": "## 2.5 R\u3068Python\n\n\n",
      "metadata": {}
    },
    {
      "id": "b495720e",
      "cell_type": "markdown",
      "source": "## 2.6 \u30b5\u30f3\u30d7\u30eb\u30b3\u30fc\u30c9\u306e\u5229\u7528",
      "metadata": {}
    },
    {
      "cell_type": "code",
      "execution_count": null,
      "metadata": {},
      "outputs": [],
      "source": [
        "1 + 1\n",
        "\n",
        "print(1 + 2)\n",
        "\n",
        "1 + 3"
      ],
      "id": "1dd6213a-e9cd-4108-941b-7f951c084015"
    },
    {
      "id": "fc041917",
      "cell_type": "markdown",
      "source": "# 3 R\u3068Python",
      "metadata": {}
    },
    {
      "cell_type": "code",
      "execution_count": null,
      "metadata": {},
      "outputs": [],
      "source": [
        "# Google Colaboratory\u306e\u74b0\u5883\u8a2d\u5b9a\n",
        "if (Sys.getenv(\"COLAB_JUPYTER_IP\") != \"\") {\n",
        "  options(Ncpus = parallel::detectCores())\n",
        "  installed_packages <- rownames(installed.packages())\n",
        "  packages_to_install <- c(\"furrr\", \"keras3\", \"proxy\")\n",
        "  install.packages(setdiff(packages_to_install, installed_packages))\n",
        "  install.packages(c(\"ggplot2\"))\n",
        "}"
      ],
      "id": "8378a215-83c1-4d05-a6e8-6486e7770666"
    },
    {
      "id": "d84dccef",
      "cell_type": "markdown",
      "source": "## 3.1 \u5165\u9580",
      "metadata": {}
    },
    {
      "cell_type": "code",
      "execution_count": null,
      "metadata": {},
      "outputs": [],
      "source": [
        "0x10"
      ],
      "id": "69dc3fd9-f9ee-4d56-bb28-aa3ad6c8fabc"
    },
    {
      "cell_type": "code",
      "execution_count": null,
      "metadata": {},
      "outputs": [],
      "source": [
        "1.23e5"
      ],
      "id": "bb3421f2-e2d4-4e93-a533-7ae33e1a042e"
    },
    {
      "cell_type": "code",
      "execution_count": null,
      "metadata": {},
      "outputs": [],
      "source": [
        "2 * 3"
      ],
      "id": "2e98cbba-0cc6-4f2e-bce9-63bd9ecda3cb"
    },
    {
      "cell_type": "code",
      "execution_count": null,
      "metadata": {},
      "outputs": [],
      "source": [
        "10 / 3"
      ],
      "id": "bcaca1fe-27d5-424e-94e5-5801fde553dd"
    },
    {
      "cell_type": "code",
      "execution_count": null,
      "metadata": {},
      "outputs": [],
      "source": [
        "10 %/% 3 # \u5546\n",
        "\n",
        "10 %% 3  # \u4f59\u308a"
      ],
      "id": "7a45fc7e-8ad9-4d75-b82c-0565e90770a5"
    },
    {
      "cell_type": "code",
      "execution_count": null,
      "metadata": {},
      "outputs": [],
      "source": [
        "x <- 2\n",
        "y <- 3\n",
        "x * y\n",
        "\n",
        "if (Sys.getenv(\"COLAB_JUPYTER_IP\") != \"\") {\n",
        "  library(keras3)\n",
        "} else {\n",
        "  library(keras)\n",
        "}\n",
        "c(x, y) %<-% c(20, 30) # \u307e\u3068\u3081\u3066\u540d\u4ed8\u3051\n",
        "x * y"
      ],
      "id": "0523cdb0-cc48-4a6f-a03b-b20cb6011ba6"
    },
    {
      "cell_type": "code",
      "execution_count": null,
      "metadata": {},
      "outputs": [],
      "source": [
        "x <- 1 + 1\n",
        "# \u3053\u306e\u6bb5\u968e\u3067\u306f\u7d50\u679c\u306f\u8868\u793a\u3055\u308c\u306a\u3044\n",
        "\n",
        "x # \u5909\u6570\u540d\u3092\u8a55\u4fa1\u3059\u308b\uff0e"
      ],
      "id": "d2d22a4f-f5e1-4992-9933-0a89856c791f"
    },
    {
      "cell_type": "code",
      "execution_count": null,
      "metadata": {},
      "outputs": [],
      "source": [
        "my_s <- \"abcde\""
      ],
      "id": "b428228c-4ff8-4c12-aff7-db11078016e1"
    },
    {
      "cell_type": "code",
      "execution_count": null,
      "metadata": {},
      "outputs": [],
      "source": [
        "nchar(my_s)"
      ],
      "id": "41799512-a9c5-4fcf-83b6-76a19cc8ae91"
    },
    {
      "cell_type": "code",
      "execution_count": null,
      "metadata": {},
      "outputs": [],
      "source": [
        "library(tidyverse)\n",
        "str_c(\"This is \", \"a\", \" pen.\")"
      ],
      "id": "89e314c0-bea4-43f7-ad8e-05fdaba624f3"
    },
    {
      "cell_type": "code",
      "execution_count": null,
      "metadata": {},
      "outputs": [],
      "source": [
        "substr(x = my_s, start = 2, stop = 4)"
      ],
      "id": "3f83f100-aef1-4690-95d7-0b2cbb8b8c14"
    },
    {
      "cell_type": "code",
      "execution_count": null,
      "metadata": {},
      "outputs": [],
      "source": [
        "tmp <- \"%s is %s.\"\n",
        "sprintf(tmp, \"This\", \"a pen\")"
      ],
      "id": "f384ba62-8dd8-4930-9bcf-0e7ea8a3d1d9"
    },
    {
      "cell_type": "code",
      "execution_count": null,
      "metadata": {},
      "outputs": [],
      "source": [
        "1 <= 2\n",
        "\n",
        "1 < 0"
      ],
      "id": "2ca76d8d-f177-4a2f-90a3-44beaf167beb"
    },
    {
      "cell_type": "code",
      "execution_count": null,
      "metadata": {},
      "outputs": [],
      "source": [
        "0.1 + 0.1 + 0.1 == 0.3\n",
        "\n",
        "all.equal(0.1 + 0.1 + 0.1, 0.3)"
      ],
      "id": "3c0cb871-0381-4fec-a585-8b94407f5dd1"
    },
    {
      "cell_type": "code",
      "execution_count": null,
      "metadata": {},
      "outputs": [],
      "source": [
        "TRUE & FALSE # \u8ad6\u7406\u7a4d\uff08\u304b\u3064\uff09\n",
        "\n",
        "TRUE | FALSE # \u8ad6\u7406\u548c\uff08\u307e\u305f\u306f\uff09\n",
        "\n",
        "!TRUE        # \u5426\u5b9a\uff08\u3067\u306a\u3044\uff09"
      ],
      "id": "a89594da-2a10-4829-b01d-46aad2d4ffe4"
    },
    {
      "cell_type": "code",
      "execution_count": null,
      "metadata": {},
      "outputs": [],
      "source": [
        "ifelse(3 < 5, 0, 10)"
      ],
      "id": "ce71c6f1-ea40-45eb-b54e-a5bf8d3c1a9d"
    },
    {
      "cell_type": "code",
      "execution_count": null,
      "metadata": {},
      "outputs": [],
      "source": [
        "getwd()"
      ],
      "id": "1fc2b65e-e971-4984-9d29-69d219ad1691"
    },
    {
      "cell_type": "code",
      "execution_count": null,
      "metadata": {},
      "outputs": [],
      "source": [
        "setwd(\"..\")\n",
        "getwd()"
      ],
      "id": "31074769-fe02-4792-892a-7024e680fc22"
    },
    {
      "id": "1a09f710",
      "cell_type": "markdown",
      "source": "## 3.2 \u95a2\u6570",
      "metadata": {}
    },
    {
      "cell_type": "code",
      "execution_count": null,
      "metadata": {},
      "outputs": [],
      "source": [
        "sqrt(4)"
      ],
      "id": "babd284c-7a85-47aa-8b4c-ef91b1d4fcb3"
    },
    {
      "cell_type": "code",
      "execution_count": null,
      "metadata": {},
      "outputs": [],
      "source": [
        "log(100, 10)"
      ],
      "id": "4ce568c7-2b61-46a2-8d0d-2b7806acf557"
    },
    {
      "cell_type": "code",
      "execution_count": null,
      "metadata": {},
      "outputs": [],
      "source": [
        "log(100)         # \u81ea\u7136\u5bfe\u6570\n",
        "# \u3042\u308b\u3044\u306f\n",
        "log(100, exp(1)) # \u7701\u7565\u3057\u306a\u3044\u5834\u5408\n"
      ],
      "id": "81ba91e7-971c-4df7-9a2b-d368d0358b14"
    },
    {
      "cell_type": "code",
      "execution_count": null,
      "metadata": {},
      "outputs": [],
      "source": [
        "log10(100) # \u5e38\u7528\u5bfe\u6570\n",
        "\n",
        "log2(1024) # \u5e95\u304c2\u306e\u5bfe\u6570"
      ],
      "id": "776b8c39-45a8-4ee6-9146-037f989f446c"
    },
    {
      "cell_type": "code",
      "execution_count": null,
      "metadata": {},
      "outputs": [],
      "source": [
        "library(tidyverse)\n",
        "4 %>% sqrt"
      ],
      "id": "2dad79a2-4bc2-4c69-a4e6-562a97ec9b94"
    },
    {
      "cell_type": "code",
      "execution_count": null,
      "metadata": {},
      "outputs": [],
      "source": [
        "exp(log(5))       # \u901a\u5e38\u306e\u66f8\u304d\u65b9\n",
        "# \u3042\u308b\u3044\u306f\n",
        "5 %>% log %>% exp # \u30d1\u30a4\u30d7\u3092\u4f7f\u3046\u66f8\u304d\u65b9\n"
      ],
      "id": "a06c8d5f-0089-4662-8e13-2c8f4c6e5f08"
    },
    {
      "cell_type": "code",
      "execution_count": null,
      "metadata": {},
      "outputs": [],
      "source": [
        "f <- function(a, b) {\n",
        "  a - b\n",
        "}"
      ],
      "id": "223d80b3-022f-4c39-8d79-1bb4b75de5e3"
    },
    {
      "cell_type": "code",
      "execution_count": null,
      "metadata": {},
      "outputs": [],
      "source": [
        "f(3, 5)"
      ],
      "id": "b352ad0c-5417-4b3d-b825-ff7c031a3dd9"
    },
    {
      "cell_type": "code",
      "execution_count": null,
      "metadata": {},
      "outputs": [],
      "source": [
        "f <- function(a, b = 5) {\n",
        "  a - b\n",
        "}\n",
        "\n",
        "f(3) # f(3, 5)\u3068\u540c\u3058\u3053\u3068"
      ],
      "id": "5dc05b4a-91ec-49ad-881a-03358db2e004"
    },
    {
      "cell_type": "code",
      "execution_count": null,
      "metadata": {},
      "outputs": [],
      "source": [
        "(function(a, b) { a - b })(3, 5)"
      ],
      "id": "eb4e0b01-b54d-4eb5-85cc-7833c35c8066"
    },
    {
      "id": "24b8a086",
      "cell_type": "markdown",
      "source": "## 3.3 \u30b3\u30ec\u30af\u30b7\u30e7\u30f3",
      "metadata": {}
    },
    {
      "cell_type": "code",
      "execution_count": null,
      "metadata": {},
      "outputs": [],
      "source": [
        "x <- c(\"foo\", \"bar\", \"baz\")"
      ],
      "id": "31a455c4-eeca-456f-984c-b0cf7e9f4e1b"
    },
    {
      "cell_type": "code",
      "execution_count": null,
      "metadata": {},
      "outputs": [],
      "source": [
        "length(x)"
      ],
      "id": "a5e12e70-5f6c-440c-96ea-b50490824241"
    },
    {
      "cell_type": "code",
      "execution_count": null,
      "metadata": {},
      "outputs": [],
      "source": [
        "x[2]"
      ],
      "id": "fd50e466-6a8c-4240-9aaa-1b6406443b0e"
    },
    {
      "cell_type": "code",
      "execution_count": null,
      "metadata": {},
      "outputs": [],
      "source": [
        "x[2] <- \"BAR\"\n",
        "x # \u7d50\u679c\u306e\u78ba\u8a8d\n",
        "\n",
        "x[2] <- \"bar\" # \u5143\u306b\u623b\u3059\uff0e"
      ],
      "id": "30bd32c0-d9db-4940-a4e7-f47efd968a8b"
    },
    {
      "cell_type": "code",
      "execution_count": null,
      "metadata": {},
      "outputs": [],
      "source": [
        "x[-2]"
      ],
      "id": "35c5794e-dcbe-4710-ab9c-67a56691a5ca"
    },
    {
      "cell_type": "code",
      "execution_count": null,
      "metadata": {},
      "outputs": [],
      "source": [
        "c(x, \"qux\")"
      ],
      "id": "57b0e9fd-4152-447d-946a-6af03f978642"
    },
    {
      "cell_type": "code",
      "execution_count": null,
      "metadata": {},
      "outputs": [],
      "source": [
        "x <- c(x, \"qux\")\n",
        "x # \u7d50\u679c\u306e\u78ba\u8a8d"
      ],
      "id": "318d4dc4-3af9-4222-b91f-36ad25e01e99"
    },
    {
      "cell_type": "code",
      "execution_count": null,
      "metadata": {},
      "outputs": [],
      "source": [
        "1:5"
      ],
      "id": "48859abc-00fe-42cd-88eb-e3f65cd5dbd9"
    },
    {
      "cell_type": "code",
      "execution_count": null,
      "metadata": {},
      "outputs": [],
      "source": [
        "seq(from = 0, to = 10, by = 2)"
      ],
      "id": "de813893-cc6f-4f80-8477-80ec38f57d27"
    },
    {
      "cell_type": "code",
      "execution_count": null,
      "metadata": {},
      "outputs": [],
      "source": [
        "seq(from = 0, to = 1, by = 0.5)"
      ],
      "id": "0856ad2d-1136-440a-9a84-e3621062c7f1"
    },
    {
      "cell_type": "code",
      "execution_count": null,
      "metadata": {},
      "outputs": [],
      "source": [
        "seq(from = 0, to = 100, length.out = 5)"
      ],
      "id": "231ade44-36ee-4d4f-b72b-9a9dd143c075"
    },
    {
      "cell_type": "code",
      "execution_count": null,
      "metadata": {},
      "outputs": [],
      "source": [
        "rep(x = 10, times = 5)"
      ],
      "id": "b8ee05f7-f0e1-4380-abda-99f9190d494a"
    },
    {
      "cell_type": "code",
      "execution_count": null,
      "metadata": {},
      "outputs": [],
      "source": [
        "tmp <- c(\"\u30b0\u30fc\", \"\u30d1\u30fc\", \"\u30b0\u30fc\", \"\u30d1\u30fc\")\n",
        "x <- factor(tmp, levels = c(\"\u30b0\u30fc\", \"\u30c1\u30e7\u30ad\", \"\u30d1\u30fc\"))\n",
        "x"
      ],
      "id": "a2d4d7b7-f73b-4b01-af13-837f48764c8b"
    },
    {
      "cell_type": "code",
      "execution_count": null,
      "metadata": {},
      "outputs": [],
      "source": [
        "x <- c(2, 3, 5, 7)\n",
        "\n",
        "x + 10 # \u52a0\u7b97\n",
        "\n",
        "x * 10 # \u4e57\u7b97"
      ],
      "id": "35382dce-8f3b-478e-b02e-ae7c5ed8708f"
    },
    {
      "cell_type": "code",
      "execution_count": null,
      "metadata": {},
      "outputs": [],
      "source": [
        "x <- c(2, 3)\n",
        "sin(x)"
      ],
      "id": "04e22c53-a0cb-4c71-a90f-b2f6bc0fe788"
    },
    {
      "cell_type": "code",
      "execution_count": null,
      "metadata": {},
      "outputs": [],
      "source": [
        "x <- c(2,  3,   5,    7)\n",
        "y <- c(1, 10, 100, 1000)\n",
        "x + y\n",
        "\n",
        "x * y"
      ],
      "id": "47f7740c-53cf-48b1-815c-31c448a71f5b"
    },
    {
      "cell_type": "code",
      "execution_count": null,
      "metadata": {},
      "outputs": [],
      "source": [
        "sum(x * y)"
      ],
      "id": "6771a997-964b-4a83-834f-eddb65cfb37e"
    },
    {
      "cell_type": "code",
      "execution_count": null,
      "metadata": {},
      "outputs": [],
      "source": [
        "x <- c(TRUE, FALSE)\n",
        "y <- c(TRUE, TRUE)\n",
        "x & y"
      ],
      "id": "7f87ca8d-546e-48e7-a600-341ff57b5f05"
    },
    {
      "cell_type": "code",
      "execution_count": null,
      "metadata": {},
      "outputs": [],
      "source": [
        "u <- c(1, 2, 3)\n",
        "v <- c(1, 2, 3)\n",
        "w <- c(1, 2, 4)\n",
        "\n",
        "identical(u, v) # \u5168\u4f53\u306e\u6bd4\u8f03\n",
        "\n",
        "identical(u, w) # \u5168\u4f53\u306e\u6bd4\u8f03\n",
        "\n",
        "u == v          # \u8981\u7d20\u3054\u3068\u306e\u6bd4\u8f03\n",
        "\n",
        "u == w          # \u8981\u7d20\u3054\u3068\u306e\u6bd4\u8f03"
      ],
      "id": "09cb838a-4b19-4efa-bfd5-f51d3f650832"
    },
    {
      "cell_type": "code",
      "execution_count": null,
      "metadata": {},
      "outputs": [],
      "source": [
        "sum(u == w)  # \u540c\u3058\u8981\u7d20\u306e\u6570\n",
        "\n",
        "mean(u == w) # \u540c\u3058\u8981\u7d20\u306e\u5272\u5408"
      ],
      "id": "8299756a-c2d9-4ee2-a573-18449810e90c"
    },
    {
      "cell_type": "code",
      "execution_count": null,
      "metadata": {},
      "outputs": [],
      "source": [
        "x <- list(1, \"two\")"
      ],
      "id": "5f48fb01-7997-49aa-9753-4977546fa946"
    },
    {
      "cell_type": "code",
      "execution_count": null,
      "metadata": {},
      "outputs": [],
      "source": [
        "x[[2]]"
      ],
      "id": "f5891840-ad72-46b6-a3a0-c1649f259b67"
    },
    {
      "cell_type": "code",
      "execution_count": null,
      "metadata": {},
      "outputs": [],
      "source": [
        "x <- list(\"apple\"  = \"\u308a\u3093\u3054\",\n",
        "          \"orange\" = \"\u307f\u304b\u3093\")"
      ],
      "id": "99774e0c-e772-45d5-b05a-d89d45ceb25f"
    },
    {
      "cell_type": "code",
      "execution_count": null,
      "metadata": {},
      "outputs": [],
      "source": [
        "x[[\"grape\"]] <- \"\u3076\u3069\u3046\""
      ],
      "id": "0618a858-505c-43ef-8418-95c5c70695c8"
    },
    {
      "cell_type": "code",
      "execution_count": null,
      "metadata": {},
      "outputs": [],
      "source": [
        "x$apple\n",
        "# \u3042\u308b\u3044\u306f\n",
        "x$\"apple\"\n",
        "# \u3042\u308b\u3044\u306f\n",
        "x[[\"apple\"]]\n",
        "# \u3042\u308b\u3044\u306f\n",
        "tmp <- \"apple\"\n",
        "x[[tmp]]\n"
      ],
      "id": "0f04224f-6941-4fdc-bf18-c1dadec48dc7"
    },
    {
      "cell_type": "code",
      "execution_count": null,
      "metadata": {},
      "outputs": [],
      "source": [
        "x <- c(\"foo\", \"bar\", \"baz\")\n",
        "y <- x\n",
        "y[2] <- \"BAR\" # y\u3092\u66f4\u65b0\u3059\u308b\uff0e\n",
        "y\n",
        "\n",
        "x             # x\u306f\u5909\u308f\u3089\u306a\u3044\uff0e"
      ],
      "id": "4c070aa2-a28d-4318-b213-647430287e13"
    },
    {
      "id": "593f097f",
      "cell_type": "markdown",
      "source": "## 3.4 \u30c7\u30fc\u30bf\u30d5\u30ec\u30fc\u30e0",
      "metadata": {}
    },
    {
      "cell_type": "code",
      "execution_count": null,
      "metadata": {},
      "outputs": [],
      "source": [
        "library(tidyverse)"
      ],
      "id": "185ab6ef-0e1e-4f6f-934a-590b154c1a7b"
    },
    {
      "cell_type": "code",
      "execution_count": null,
      "metadata": {},
      "outputs": [],
      "source": [
        "my_df <- data.frame(\n",
        "  name    = c(\"A\", \"B\", \"C\", \"D\"),\n",
        "  english = c( 60,  90,  70,  90),\n",
        "  math    = c( 70,  80,  90, 100),\n",
        "  gender  = c(\"f\", \"m\", \"m\", \"f\"))"
      ],
      "id": "31f9bf6a-cb50-4298-a8df-d149330cb2cb"
    },
    {
      "cell_type": "code",
      "execution_count": null,
      "metadata": {},
      "outputs": [],
      "source": [
        "my_df <- tribble(\n",
        "  ~name, ~english, ~math, ~gender,\n",
        "  \"A\",         60,    70,     \"f\",\n",
        "  \"B\",         90,    80,     \"m\",\n",
        "  \"C\",         70,    90,     \"m\",\n",
        "  \"D\",         90,   100,     \"f\")"
      ],
      "id": "c83a4471-19d1-42bb-b6aa-1448aaf7179d"
    },
    {
      "cell_type": "code",
      "execution_count": null,
      "metadata": {},
      "outputs": [],
      "source": [
        "head(my_df)\n",
        "# \u7d50\u679c\u306f\u5272\u611b"
      ],
      "id": "301f372e-c1f6-40fb-a8aa-83f3efdb083b"
    },
    {
      "cell_type": "code",
      "execution_count": null,
      "metadata": {},
      "outputs": [],
      "source": [
        "dim(my_df)  # \u884c\u6570\u3068\u5217\u6570\n",
        "\n",
        "nrow(my_df) # \u884c\u6570\n",
        "\n",
        "ncol(my_df) # \u5217\u6570"
      ],
      "id": "904ead26-6e98-4bc7-9678-58ee2f444a0c"
    },
    {
      "cell_type": "code",
      "execution_count": null,
      "metadata": {},
      "outputs": [],
      "source": [
        "my_df2 <- expand.grid(\n",
        "  X = c(1, 2, 3),\n",
        "  Y = c(10, 100))\n",
        "my_df2"
      ],
      "id": "67e48a9c-64e3-45af-a063-2dda1585f13f"
    },
    {
      "cell_type": "code",
      "execution_count": null,
      "metadata": {},
      "outputs": [],
      "source": [
        "colnames(my_df2)"
      ],
      "id": "460959bd-4fde-4aed-93d5-efe788c9e255"
    },
    {
      "cell_type": "code",
      "execution_count": null,
      "metadata": {},
      "outputs": [],
      "source": [
        "colnames(my_df2) <- c(\"P\", \"Q\")\n",
        "my_df2\n",
        "# \u4ee5\u4e0b\u7701\u7565"
      ],
      "id": "cbfabdf3-154d-4d99-b54e-c6f0b26ae989"
    },
    {
      "cell_type": "code",
      "execution_count": null,
      "metadata": {},
      "outputs": [],
      "source": [
        "row.names(my_df)"
      ],
      "id": "f7ae8695-8162-48e3-9875-71446f2e32c0"
    },
    {
      "cell_type": "code",
      "execution_count": null,
      "metadata": {},
      "outputs": [],
      "source": [
        "row.names(my_df2) <-\n",
        "  c(\"a\", \"b\", \"c\", \"d\", \"e\", \"f\")\n",
        "my_df2\n",
        "# \u4ee5\u4e0b\u7701\u7565"
      ],
      "id": "a7290ab9-31f7-4367-8450-c4c15772e0a6"
    },
    {
      "cell_type": "code",
      "execution_count": null,
      "metadata": {},
      "outputs": [],
      "source": [
        "my_df3 <- data.frame(\n",
        "  english =   c( 60,  90,  70,  90),\n",
        "  math    =   c( 70,  80,  90, 100),\n",
        "  gender  =   c(\"f\", \"m\", \"m\", \"f\"),\n",
        "  row.names = c(\"A\", \"B\", \"C\", \"D\"))\n",
        "my_df3"
      ],
      "id": "c75f8d8e-8251-47c3-9573-7ce54d5cb645"
    },
    {
      "cell_type": "code",
      "execution_count": null,
      "metadata": {},
      "outputs": [],
      "source": [
        "tmp <- data.frame(\n",
        "  name    = \"E\",\n",
        "  english =  80,\n",
        "  math    =  80,\n",
        "  gender  = \"m\")\n",
        "my_df2 <- rbind(my_df, tmp)"
      ],
      "id": "57209baa-70b3-4616-a075-27db2f28171f"
    },
    {
      "cell_type": "code",
      "execution_count": null,
      "metadata": {},
      "outputs": [],
      "source": [
        "my_df2 <- my_df %>%\n",
        "  mutate(id = c(1, 2, 3, 4))"
      ],
      "id": "c3956072-31df-482b-bcc5-7b2f6823d411"
    },
    {
      "cell_type": "code",
      "execution_count": null,
      "metadata": {},
      "outputs": [],
      "source": [
        "my_df3 <- my_df               # \u30b3\u30d4\u30fc\n",
        "my_df3[\"id\"] <- c(1, 2, 3, 4) # \u66f4\u65b0\n",
        "my_df3 # \u7d50\u679c\u306e\u78ba\u8a8d\uff08\u5272\u611b\uff09"
      ],
      "id": "327b3389-b3c0-42bb-ba62-ac9bf6d54148"
    },
    {
      "cell_type": "code",
      "execution_count": null,
      "metadata": {},
      "outputs": [],
      "source": [
        "my_df[1, 2]"
      ],
      "id": "1fef81de-c91b-4370-807f-b9537f3f5880"
    },
    {
      "cell_type": "code",
      "execution_count": null,
      "metadata": {},
      "outputs": [],
      "source": [
        "x <- my_df[, 2]\n",
        "# \u3042\u308b\u3044\u306f\n",
        "x <- my_df$english\n",
        "# \u3042\u308b\u3044\u306f\n",
        "x <- my_df$\"english\"\n",
        "# \u3042\u308b\u3044\u306f\n",
        "x <- my_df[[\"english\"]]\n",
        "# \u3042\u308b\u3044\u306f\n",
        "tmp <- \"english\"\n",
        "x <- my_df[[tmp]]\n",
        "\n",
        "x # \u7d50\u679c\u306e\u78ba\u8a8d\uff08\u5272\u611b\uff09"
      ],
      "id": "3c3ffca0-cfa2-4f4a-89f2-35e4b8fc4eff"
    },
    {
      "cell_type": "code",
      "execution_count": null,
      "metadata": {},
      "outputs": [],
      "source": [
        "x <- my_df %>% select(name, math)"
      ],
      "id": "a9870d38-d0fc-4577-bbcd-f61108c17fad"
    },
    {
      "cell_type": "code",
      "execution_count": null,
      "metadata": {},
      "outputs": [],
      "source": [
        "x <- my_df[, c(1, 3)]"
      ],
      "id": "a0a852b6-a8be-45ac-b9d8-7a66a4f418b4"
    },
    {
      "cell_type": "code",
      "execution_count": null,
      "metadata": {},
      "outputs": [],
      "source": [
        "x <- my_df %>%\n",
        "  select(-c(english, gender))\n",
        "# \u3042\u308b\u3044\u306f\n",
        "x <- my_df[, -c(2, 4)]"
      ],
      "id": "a1dc18be-7f57-4929-a0f3-bb1b8d3fcf3e"
    },
    {
      "cell_type": "code",
      "execution_count": null,
      "metadata": {},
      "outputs": [],
      "source": [
        "x <- my_df[c(1, 3), ]"
      ],
      "id": "122b54b6-2cae-4f95-bfe4-b4dbed24d8cc"
    },
    {
      "cell_type": "code",
      "execution_count": null,
      "metadata": {},
      "outputs": [],
      "source": [
        "x <- my_df[-c(2, 4), ]"
      ],
      "id": "6be67e36-1e10-4409-bed8-f1caf3f7061e"
    },
    {
      "cell_type": "code",
      "execution_count": null,
      "metadata": {},
      "outputs": [],
      "source": [
        "x <- my_df[my_df$gender == \"m\", ]\n",
        "# \u3042\u308b\u3044\u306f\n",
        "x <- my_df %>% filter(gender == \"m\")"
      ],
      "id": "8a173bb1-9dd2-4b0a-8ecc-8c0f2581f263"
    },
    {
      "cell_type": "code",
      "execution_count": null,
      "metadata": {},
      "outputs": [],
      "source": [
        "x <- my_df[my_df$english > 80 & my_df$gender == \"m\", ]\n",
        "# \u3042\u308b\u3044\u306f\n",
        "x <- my_df %>% filter(english > 80 & gender == \"m\")"
      ],
      "id": "0ad7d361-91c4-47e4-be0c-6f13f6a1df12"
    },
    {
      "cell_type": "code",
      "execution_count": null,
      "metadata": {},
      "outputs": [],
      "source": [
        "x <- my_df[my_df$english == max(my_df$english), ]\n",
        "# \u3042\u308b\u3044\u306f\n",
        "x <- my_df %>% filter(english == max(my_df$english))"
      ],
      "id": "03369fb3-bb8b-4dac-8ef6-2315f18d0518"
    },
    {
      "cell_type": "code",
      "execution_count": null,
      "metadata": {},
      "outputs": [],
      "source": [
        "my_df2 <- my_df # \u30b3\u30d4\u30fc\n",
        "my_df2[my_df$gender == \"m\", ]$gender <- \"M\""
      ],
      "id": "8fcdd557-215c-4e70-8738-371b8a3d263c"
    },
    {
      "cell_type": "code",
      "execution_count": null,
      "metadata": {},
      "outputs": [],
      "source": [
        "my_df2"
      ],
      "id": "3a49eab3-182d-4b82-a49f-9a0f5e8c3b5f"
    },
    {
      "cell_type": "code",
      "execution_count": null,
      "metadata": {},
      "outputs": [],
      "source": [
        "x <- my_df %>% arrange(english)"
      ],
      "id": "a80d2225-509d-4e8b-82af-de29baf3f7ae"
    },
    {
      "cell_type": "code",
      "execution_count": null,
      "metadata": {},
      "outputs": [],
      "source": [
        "x <- my_df %>% arrange(-english)"
      ],
      "id": "dccc4c70-bb6f-4159-80b7-44c62e79f5e3"
    },
    {
      "cell_type": "code",
      "execution_count": null,
      "metadata": {},
      "outputs": [],
      "source": [
        "x <- c(2, 3, 5, 7, 11, 13, 17, 19, 23,\n",
        "       29, 31, 37)\n",
        "A <- matrix(\n",
        "  data = x,     # 1\u6b21\u5143\u30c7\u30fc\u30bf\n",
        "  nrow = 3,     # \u884c\u6570\n",
        "  byrow = TRUE) # \u884c\u3054\u3068\u306e\u751f\u6210\n",
        "A"
      ],
      "id": "dcaa0a75-a600-4ba6-9d72-7a527c4a37dd"
    },
    {
      "cell_type": "code",
      "execution_count": null,
      "metadata": {},
      "outputs": [],
      "source": [
        "A <- my_df[, c(2, 3)] %>% as.matrix\n",
        "A"
      ],
      "id": "c55ee8e7-7b32-4fa8-8ce2-497613c92d09"
    },
    {
      "cell_type": "code",
      "execution_count": null,
      "metadata": {},
      "outputs": [],
      "source": [
        "as.data.frame(A)"
      ],
      "id": "d9c1e7ee-7b0c-4007-9fc5-557dc67fdb20"
    },
    {
      "cell_type": "code",
      "execution_count": null,
      "metadata": {},
      "outputs": [],
      "source": [
        "t(A)"
      ],
      "id": "139e7c78-052b-4cd1-92ce-a84876253ff3"
    },
    {
      "cell_type": "code",
      "execution_count": null,
      "metadata": {},
      "outputs": [],
      "source": [
        "t(A) %*% A"
      ],
      "id": "554dabbb-287b-4a39-b355-43980174831c"
    },
    {
      "cell_type": "code",
      "execution_count": null,
      "metadata": {},
      "outputs": [],
      "source": [
        "my_wider <- data.frame(\n",
        "  day = c(25, 26, 27),\n",
        "  min = c(20, 21, 15),\n",
        "  max = c(24, 27, 21))"
      ],
      "id": "21926cd2-f310-4e6b-be44-4952ee42094c"
    },
    {
      "cell_type": "code",
      "execution_count": null,
      "metadata": {},
      "outputs": [],
      "source": [
        "my_longer <- my_wider %>%\n",
        "  pivot_longer(-day)\n",
        "my_longer"
      ],
      "id": "3a01fee3-1b4f-429f-a80b-b19619290913"
    },
    {
      "cell_type": "code",
      "execution_count": null,
      "metadata": {},
      "outputs": [],
      "source": [
        "my_longer %>% pivot_wider()"
      ],
      "id": "1e32e0ba-60d4-4ad6-a299-2ebc8f4be2cb"
    },
    {
      "cell_type": "code",
      "execution_count": null,
      "metadata": {},
      "outputs": [],
      "source": [
        "my_longer %>%\n",
        "  ggplot(aes(x = day, y = value,\n",
        "             color = name)) +\n",
        "  geom_point() +\n",
        "  geom_line() +\n",
        "  ylab(\"temperature\") + # y\u8ef8\u30e9\u30d9\u30eb\n",
        "  scale_x_continuous(\n",
        "    breaks = my_longer$day) # x\u8ef8\u76ee\u76db\u308a"
      ],
      "id": "1cd89a0a-a019-444c-b25b-9d8c2ea0e331"
    },
    {
      "id": "02c7ad4f",
      "cell_type": "markdown",
      "source": "## 3.5 1\u6b21\u5143\u30c7\u30fc\u30bf\u306e\uff08\u975e\uff09\u985e\u4f3c\u5ea6",
      "metadata": {}
    },
    {
      "cell_type": "code",
      "execution_count": null,
      "metadata": {},
      "outputs": [],
      "source": [
        "A <- c(3,   4,  5)\n",
        "B <- c(3,   4, 29)\n",
        "C <- c(9, -18,  8)\n",
        "AB <- B - A\n",
        "AC <- C - A\n",
        "\n",
        "sum(AB^2)^0.5\n",
        "\n",
        "sum(AC^2)^0.5"
      ],
      "id": "b538bedb-880c-4b60-9865-ad62e8865862"
    },
    {
      "cell_type": "code",
      "execution_count": null,
      "metadata": {},
      "outputs": [],
      "source": [
        "sum(abs(AB))\n",
        "\n",
        "sum(abs(AC))"
      ],
      "id": "d0f33abc-9e02-4b53-add0-92d5064470e5"
    },
    {
      "cell_type": "code",
      "execution_count": null,
      "metadata": {},
      "outputs": [],
      "source": [
        "sum(A * B) /\n",
        "  sum(A * A)^0.5 / sum(B * B)^0.5\n",
        "\n",
        "sum(A * C) /\n",
        "  sum(A * A)^0.5 / sum(C * C)^0.5"
      ],
      "id": "dc13bea8-8e29-4e6e-aee1-b17f42870c12"
    },
    {
      "cell_type": "code",
      "execution_count": null,
      "metadata": {},
      "outputs": [],
      "source": [
        "cor(A, B)\n",
        "\n",
        "cor(A, C)"
      ],
      "id": "eb644033-09e0-4a45-9776-1fb780059b9e"
    },
    {
      "cell_type": "code",
      "execution_count": null,
      "metadata": {},
      "outputs": [],
      "source": [
        "library(tidyverse)\n",
        "\n",
        "\n",
        "\n",
        "my_df <- data.frame(\n",
        "  x = c(3,  3,   9),\n",
        "  y = c(4,  4, -18),\n",
        "  z = c(5, 29,   8),\n",
        "  row.names = c(\"A\", \"B\", \"C\"))\n",
        "\n",
        "# \u30e6\u30fc\u30af\u30ea\u30c3\u30c9\u8ddd\u96e2\n",
        "my_df %>% proxy::dist(\"Euclidean\")\n",
        "\n",
        "\n",
        "# \u30de\u30f3\u30cf\u30c3\u30bf\u30f3\u8ddd\u96e2\n",
        "my_df %>% proxy::dist(\"Manhattan\")\n",
        "\n",
        "\n",
        "# \u30b3\u30b5\u30a4\u30f3\u985e\u4f3c\u5ea6\n",
        "my_df %>% proxy::simil(\"cosine\")\n",
        "\n",
        "\n",
        "# \u76f8\u95a2\u4fc2\u6570\n",
        "my_df %>% proxy::simil(\"correlation\")"
      ],
      "id": "b8a82118-c867-45e6-a0bd-13035fe97875"
    },
    {
      "id": "68490164",
      "cell_type": "markdown",
      "source": "## 3.6 R\u306e\u30d1\u30c3\u30b1\u30fc\u30b8\uff0cPython\u306e\u30e2\u30b8\u30e5\u30fc\u30eb",
      "metadata": {}
    },
    {
      "cell_type": "code",
      "execution_count": null,
      "metadata": {},
      "outputs": [],
      "source": [
        "library(tidyverse)"
      ],
      "id": "7f06dd72-5a6c-4a67-aa12-0500bf17a30e"
    },
    {
      "id": "bc5dcb50",
      "cell_type": "markdown",
      "source": "## 3.7 \u53cd\u5fa9\u51e6\u7406",
      "metadata": {}
    },
    {
      "cell_type": "code",
      "execution_count": null,
      "metadata": {},
      "outputs": [],
      "source": [
        "library(tidyverse)"
      ],
      "id": "c3b78295-272b-4665-9282-337438ef68c0"
    },
    {
      "cell_type": "code",
      "execution_count": null,
      "metadata": {},
      "outputs": [],
      "source": [
        "f1 <- function(x) {\n",
        "  tmp <- runif(x)\n",
        "  mean(tmp)\n",
        "}\n",
        "\n",
        "f1(10)           # \u52d5\u4f5c\u78ba\u8a8d"
      ],
      "id": "1756746d-7606-4ffc-8aab-30baee349fb4"
    },
    {
      "cell_type": "code",
      "execution_count": null,
      "metadata": {},
      "outputs": [],
      "source": [
        "replicate(n = 3, expr = f1(10))"
      ],
      "id": "d8d17479-4fa8-4033-be23-e86f9d10b204"
    },
    {
      "cell_type": "code",
      "execution_count": null,
      "metadata": {},
      "outputs": [],
      "source": [
        "rep(x = f1(10), times = 3)"
      ],
      "id": "e35e54a4-7e61-44ba-94b8-5f0ab55c09aa"
    },
    {
      "cell_type": "code",
      "execution_count": null,
      "metadata": {},
      "outputs": [],
      "source": [
        "v <- c(5, 10, 100)\n",
        "v %>% map_dbl(f1)"
      ],
      "id": "d149633f-4da0-4983-a7a5-488aed1b40a1"
    },
    {
      "cell_type": "code",
      "execution_count": null,
      "metadata": {},
      "outputs": [],
      "source": [
        "rep(x = 10, times = 3) %>% map_dbl(f1)\n",
        "# \u7d50\u679c\u306f\u5272\u611b"
      ],
      "id": "a2627627-4009-4444-8638-0de31ed72a8d"
    },
    {
      "cell_type": "code",
      "execution_count": null,
      "metadata": {},
      "outputs": [],
      "source": [
        "f2 <- function(n) {\n",
        "  tmp <- runif(n)\n",
        "  list(x = n,\n",
        "       p = mean(tmp),\n",
        "       q = sd(tmp))\n",
        "}\n",
        "\n",
        "f2(10) # \u52d5\u4f5c\u78ba\u8a8d"
      ],
      "id": "4f4590f1-a9e6-4850-b87c-d42f9d5da815"
    },
    {
      "cell_type": "code",
      "execution_count": null,
      "metadata": {},
      "outputs": [],
      "source": [
        "v <- c(5, 10, 100)\n",
        "v %>% map_dfr(f2)"
      ],
      "id": "e74c7df2-1f6a-4c5c-89f6-f5cea37cc255"
    },
    {
      "cell_type": "code",
      "execution_count": null,
      "metadata": {},
      "outputs": [],
      "source": [
        "f3 <- function(x, y) {\n",
        "  tmp <- runif(x, min = 1,\n",
        "                  max = y + 1) %>%\n",
        "    as.integer\n",
        "  list(x = x,\n",
        "       y = y,\n",
        "       p = mean(tmp),\n",
        "       q = sd(tmp))\n",
        "}\n",
        "\n",
        "f3(x = 10, y = 6) # \u52d5\u4f5c\u78ba\u8a8d"
      ],
      "id": "07b7cc88-cf08-4dfb-bbcc-bcedae36f1a4"
    },
    {
      "cell_type": "code",
      "execution_count": null,
      "metadata": {},
      "outputs": [],
      "source": [
        "my_df <- data.frame(\n",
        "  x = c(5, 10, 100,  5, 10, 100),\n",
        "  y = c(6,  6,   6, 12, 12,  12))\n",
        "\n",
        "my_df %>% pmap_dfr(f3)"
      ],
      "id": "2f74421a-23ae-4a95-8aae-3c9078c4203f"
    },
    {
      "cell_type": "code",
      "execution_count": null,
      "metadata": {},
      "outputs": [],
      "source": [
        "library(furrr)\n",
        "plan(multisession) # \u6e96\u5099\n",
        "\n",
        "v <- c(5, 10, 100)\n",
        "v %>% future_map_dbl(f1, .options =\n",
        "  furrr_options(seed = TRUE))\n",
        "# \u7d50\u679c\u306f\u5272\u611b"
      ],
      "id": "3dd5104b-4aba-4458-99c8-e25df179d5bf"
    },
    {
      "id": "645c06d3",
      "cell_type": "markdown",
      "source": "## 3.8 \u305d\u306e\u4ed6",
      "metadata": {}
    },
    {
      "cell_type": "code",
      "execution_count": null,
      "metadata": {},
      "outputs": [],
      "source": [
        "x <- 123\n",
        "typeof(x)"
      ],
      "id": "c307e178-cfc4-499e-aa67-addfb32e0668"
    },
    {
      "cell_type": "code",
      "execution_count": null,
      "metadata": {},
      "outputs": [],
      "source": [
        "?log\n",
        "# \u3042\u308b\u3044\u306f\n",
        "help(log)"
      ],
      "id": "5e2ea27f-e498-47df-96b5-bcbcad27c4c9"
    },
    {
      "cell_type": "code",
      "execution_count": null,
      "metadata": {},
      "outputs": [],
      "source": [
        "v <- c(1, NA, 3)\n",
        "v"
      ],
      "id": "f67a4da9-baa0-4688-8e3f-edb21ea895ff"
    },
    {
      "cell_type": "code",
      "execution_count": null,
      "metadata": {},
      "outputs": [],
      "source": [
        "is.na(v[2])\n",
        "\n",
        "v[2] == NA # \u8aa4\u308a"
      ],
      "id": "f7c64df3-0cb6-4336-b3f8-ccbd5a968cbd"
    },
    {
      "id": "29525107",
      "cell_type": "markdown",
      "source": "# 4 \u7d71\u8a08\u5165\u9580",
      "metadata": {}
    },
    {
      "cell_type": "code",
      "execution_count": null,
      "metadata": {},
      "outputs": [],
      "source": [
        "# Google Colaboratory\u306e\u74b0\u5883\u8a2d\u5b9a\n",
        "if (Sys.getenv(\"COLAB_JUPYTER_IP\") != \"\") {\n",
        "  options(Ncpus = parallel::detectCores())\n",
        "  installed_packages <- rownames(installed.packages())\n",
        "  packages_to_install <- c(\"exactci\", \"ggmosaic\", \"pastecs\", \"psych\", \"vcd\")\n",
        "  install.packages(setdiff(packages_to_install, installed_packages))\n",
        "}"
      ],
      "id": "698cb3e8-25a7-488e-b548-eb1281e48fcf"
    },
    {
      "id": "a08bc244",
      "cell_type": "markdown",
      "source": "## 4.1 \u8a18\u8ff0\u7d71\u8a08",
      "metadata": {}
    },
    {
      "cell_type": "code",
      "execution_count": null,
      "metadata": {},
      "outputs": [],
      "source": [
        "x <- c(165, 170, 175, 180, 185)\n",
        "mean(x) # \u5e73\u5747"
      ],
      "id": "8ad8271a-087b-4fd8-a512-b778c5f1024d"
    },
    {
      "cell_type": "code",
      "execution_count": null,
      "metadata": {},
      "outputs": [],
      "source": [
        "n <- length(x) # \u30b5\u30f3\u30d7\u30eb\u30b5\u30a4\u30ba\n",
        "sum(x) / n"
      ],
      "id": "6f5161cf-8400-40a9-9e9c-a2494ea13354"
    },
    {
      "cell_type": "code",
      "execution_count": null,
      "metadata": {},
      "outputs": [],
      "source": [
        "y <- c(173, 174, 175, 176, 177)\n",
        "mean(y)"
      ],
      "id": "731c9856-5933-45f6-81e7-0ef38656aed7"
    },
    {
      "cell_type": "code",
      "execution_count": null,
      "metadata": {},
      "outputs": [],
      "source": [
        "var(x) # x\u306e\u5206\u6563\n",
        "\n",
        "var(y) # y\u306e\u5206\u6563"
      ],
      "id": "2868d7e1-c295-4607-81d8-7609a1743768"
    },
    {
      "cell_type": "code",
      "execution_count": null,
      "metadata": {},
      "outputs": [],
      "source": [
        "sum((x - mean(x))^2) / (n - 1)"
      ],
      "id": "0d1f3de1-7230-4530-99a7-67a7200ffe2c"
    },
    {
      "cell_type": "code",
      "execution_count": null,
      "metadata": {},
      "outputs": [],
      "source": [
        "sd(x) # x\u306e\u6a19\u6e96\u504f\u5dee\n",
        "\n",
        "sd(y) # y\u306e\u6a19\u6e96\u504f\u5dee"
      ],
      "id": "8d742b9a-7ee1-43f8-bb27-0163fbfd60cd"
    },
    {
      "cell_type": "code",
      "execution_count": null,
      "metadata": {},
      "outputs": [],
      "source": [
        "var(x)**0.5 # x\u306e\u6a19\u6e96\u504f\u5dee"
      ],
      "id": "2b2526a6-a0f3-46aa-b879-7ec19606a2c4"
    },
    {
      "cell_type": "code",
      "execution_count": null,
      "metadata": {},
      "outputs": [],
      "source": [
        "psych::describe(x)\n",
        "\n",
        "# \u3042\u308b\u3044\u306f\n",
        "\n",
        "pastecs::stat.desc(x)"
      ],
      "id": "9fd98a9d-6dc8-4cdc-bcc8-defaa3b1956e"
    },
    {
      "cell_type": "code",
      "execution_count": null,
      "metadata": {},
      "outputs": [],
      "source": [
        "quantile(x)"
      ],
      "id": "7776cc70-7cb3-4020-b480-9cc30f67e6d3"
    },
    {
      "cell_type": "code",
      "execution_count": null,
      "metadata": {},
      "outputs": [],
      "source": [
        "x <- c(165, 170, 175, 180, 185)\n",
        "\n",
        "var(x)                # \u4e0d\u504f\u5206\u6563\n",
        "\n",
        "mean((x - mean(x))^2) # \u6a19\u672c\u5206\u6563\n",
        "# \u3042\u308b\u3044\u306f\n",
        "n <- length(x)\n",
        "var(x) * (n - 1) / n  # \u6a19\u672c\u5206\u6563"
      ],
      "id": "5f8c6149-f001-406d-8d91-5c975cbf95ce"
    },
    {
      "cell_type": "code",
      "execution_count": null,
      "metadata": {},
      "outputs": [],
      "source": [
        "sd(x)                     # \u221a\u4e0d\u504f\u5206\u6563\n",
        "\n",
        "mean((x - mean(x))^2)^0.5 # \u221a\u6a19\u672c\u5206\u6563\n",
        "# \u3042\u308b\u3044\u306f\n",
        "sd(x) * sqrt((n - 1) / n) # \u221a\u6a19\u672c\u5206\u6563"
      ],
      "id": "3762e231-a7ec-4137-944a-768eab13124d"
    },
    {
      "cell_type": "code",
      "execution_count": null,
      "metadata": {},
      "outputs": [],
      "source": [
        "sd(x) / length(x)**0.5"
      ],
      "id": "fdee485f-bca0-4d9f-8a62-005da903c1ec"
    },
    {
      "cell_type": "code",
      "execution_count": null,
      "metadata": {},
      "outputs": [],
      "source": [
        "library(tidyverse)\n",
        "\n",
        "my_df <- data.frame(\n",
        "  name    = c(\"A\", \"B\", \"C\", \"D\"),\n",
        "  english = c( 60,  90,  70,  90),\n",
        "  math    = c( 70,  80,  90, 100),\n",
        "  gender  = c(\"f\", \"m\", \"m\", \"f\"))"
      ],
      "id": "439d974c-8346-4239-86fc-401135906250"
    },
    {
      "cell_type": "code",
      "execution_count": null,
      "metadata": {},
      "outputs": [],
      "source": [
        "var(my_df$english)"
      ],
      "id": "8afe7d42-bc14-4c26-a380-e25f0971b1fa"
    },
    {
      "cell_type": "code",
      "execution_count": null,
      "metadata": {},
      "outputs": [],
      "source": [
        "# \u7d50\u679c\u306f\u30d9\u30af\u30bf\n",
        "my_df[, c(2, 3)] %>% sapply(var)\n",
        "\n",
        "# \u7d50\u679c\u306f\u30ea\u30b9\u30c8\n",
        "my_df[, c(2, 3)] %>% lapply(var)\n",
        "\n",
        "# \u7d50\u679c\u306f\u30c7\u30fc\u30bf\u30d5\u30ec\u30fc\u30e0\n",
        "my_df[, c(2, 3)] %>% # 2, 3\u5217\u76ee\n",
        "  summarize(across(  # \u306e\n",
        "    everything(),    # \u5168\u3066\u306e\n",
        "    var))            # \u4e0d\u504f\u5206\u6563\n",
        "# \u3042\u308b\u3044\u306f\n",
        "my_df %>%              # \u30c7\u30fc\u30bf\u30d5\u30ec\u30fc\u30e0\n",
        "  summarize(across(    # \u306e\n",
        "    where(is.numeric), # \u6570\u5024\u306e\u5217\u306e\n",
        "    var))              # \u4e0d\u504f\u5206\u6563\n",
        "# \u3042\u308b\u3044\u306f\n",
        "my_df %>%              # \u30c7\u30fc\u30bf\u30d5\u30ec\u30fc\u30e0\n",
        "  summarize(across(    # \u306e\n",
        "    where(is.numeric), # \u6570\u5024\u306e\u5217\u306e\n",
        "    function(x) { var(x) })) # \u4e0d\u504f\u5206\u6563\n"
      ],
      "id": "181e90d3-4746-4963-b3a6-4020879189c4"
    },
    {
      "cell_type": "code",
      "execution_count": null,
      "metadata": {},
      "outputs": [],
      "source": [
        "psych::describe(my_df)\n",
        "\n",
        "# \u3042\u308b\u3044\u306f\n",
        "\n",
        "pastecs::stat.desc(my_df)\n",
        "# \u4ee5\u4e0b\u7701\u7565"
      ],
      "id": "0ff37bde-f265-4f85-87c0-2f01a0f770b1"
    },
    {
      "cell_type": "code",
      "execution_count": null,
      "metadata": {},
      "outputs": [],
      "source": [
        "table(my_df$gender)\n"
      ],
      "id": "1054d7e5-4af3-4913-8420-0b885a106665"
    },
    {
      "cell_type": "code",
      "execution_count": null,
      "metadata": {},
      "outputs": [],
      "source": [
        "my_df2 <- data.frame(\n",
        "  gender = my_df$gender,\n",
        "  excel = my_df$math >= 80)\n",
        "table(my_df2)\n"
      ],
      "id": "0ab8b280-64c7-4f7f-93d9-349c371bbb13"
    },
    {
      "cell_type": "code",
      "execution_count": null,
      "metadata": {},
      "outputs": [],
      "source": [
        "my_df %>% group_by(gender) %>%\n",
        "  summarize(across(\n",
        "    where(is.numeric), mean),\n",
        "    .groups = \"drop\") # \u30b0\u30eb\u30fc\u30d7\u5316\u89e3\u9664\n"
      ],
      "id": "ed430f6b-7093-4474-9a43-b4f5c526a25e"
    },
    {
      "id": "1f681fbd",
      "cell_type": "markdown",
      "source": "## 4.2 \u30c7\u30fc\u30bf\u306e\u53ef\u8996\u5316",
      "metadata": {}
    },
    {
      "cell_type": "code",
      "execution_count": null,
      "metadata": {},
      "outputs": [],
      "source": [
        "head(iris)"
      ],
      "id": "d13b2888-477d-49a7-a014-03eb4d9757fd"
    },
    {
      "cell_type": "code",
      "execution_count": null,
      "metadata": {},
      "outputs": [],
      "source": [
        "hist(iris$Sepal.Length)"
      ],
      "id": "bf3411ec-3af6-4950-9ae6-b8e7fcf675f8"
    },
    {
      "cell_type": "code",
      "execution_count": null,
      "metadata": {},
      "outputs": [],
      "source": [
        "x <- c(10, 20, 30)\n",
        "hist(x, breaks = 2) # \u968e\u7d1a\u6570\u306f2"
      ],
      "id": "66efc6f9-1403-474e-9244-e876d1dcdf16"
    },
    {
      "cell_type": "code",
      "execution_count": null,
      "metadata": {},
      "outputs": [],
      "source": [
        "x <- iris$Sepal.Length\n",
        "tmp <- seq(min(x), max(x),\n",
        "           length.out = 10)\n",
        "hist(x, breaks = tmp, right = FALSE)"
      ],
      "id": "60d1e22d-4ad1-43cc-9956-40601c0e497f"
    },
    {
      "cell_type": "code",
      "execution_count": null,
      "metadata": {},
      "outputs": [],
      "source": [
        "plot(iris$Sepal.Length,\n",
        "     iris$Sepal.Width)"
      ],
      "id": "ad534150-26a9-4ec0-b9c2-92a800c920cd"
    },
    {
      "cell_type": "code",
      "execution_count": null,
      "metadata": {},
      "outputs": [],
      "source": [
        "boxplot(iris[, -5])"
      ],
      "id": "65551c57-cd42-49ed-85ff-5d348e07b505"
    },
    {
      "cell_type": "code",
      "execution_count": null,
      "metadata": {},
      "outputs": [],
      "source": [
        "library(tidyverse)\n",
        "my_df <- psych::describe(iris[, -5])\n",
        "my_df %>% select(mean, sd, se)"
      ],
      "id": "91d92328-7a05-4974-b677-ec0b03a9e6e6"
    },
    {
      "cell_type": "code",
      "execution_count": null,
      "metadata": {},
      "outputs": [],
      "source": [
        "tmp <- rownames(my_df)\n",
        "my_df %>% ggplot(aes(x = factor(tmp, levels = tmp), y = mean)) +\n",
        "  geom_col() +\n",
        "  geom_errorbar(aes(ymin = mean - se, ymax = mean + se)) +\n",
        "  xlab(NULL)"
      ],
      "id": "4c93bcef-117c-454b-961a-6ecd9e1065cc"
    },
    {
      "cell_type": "code",
      "execution_count": null,
      "metadata": {},
      "outputs": [],
      "source": [
        "my_group <- iris %>% group_by(Species)       # \u54c1\u7a2e\u3054\u3068\u306b\uff0c\n",
        "\n",
        "my_df <- my_group %>%                        # \u5404\u5909\u6570\u306e\uff0c\u5e73\u5747\u3068\n",
        "  summarize(across(everything(), mean)) %>%\n",
        "  pivot_longer(-Species)\n",
        "\n",
        "tmp <- my_group %>%                          # \u6a19\u6e96\u8aa4\u5dee\u3092\u6c42\u3081\u308b\uff0e\n",
        "  summarize(across(everything(), ~ sd(.) / length(.)**0.5)) %>%\n",
        "  pivot_longer(-Species)\n",
        "\n",
        "my_df$se <- tmp$value\n",
        "head(my_df)"
      ],
      "id": "86977a83-bf4a-4ff5-a432-34e513a22e81"
    },
    {
      "cell_type": "code",
      "execution_count": null,
      "metadata": {},
      "outputs": [],
      "source": [
        "my_df %>%\n",
        "  ggplot(aes(x = Species, y = value, fill = name)) +\n",
        "  geom_col(position = \"dodge\") +\n",
        "  geom_errorbar(aes(ymin = value - se, ymax = value + se), position = \"dodge\")"
      ],
      "id": "cc22c7d1-4188-42d3-9f7c-94fe846f2427"
    },
    {
      "cell_type": "code",
      "execution_count": null,
      "metadata": {},
      "outputs": [],
      "source": [
        "# \u5404\u5909\u6570\u306e\u5e73\u5747\n",
        "iris %>% pivot_longer(-Species) %>%\n",
        "  ggplot(aes(x = name, y = value)) +\n",
        "  geom_bar(stat = \"summary\", fun = mean) +\n",
        "  stat_summary(geom = \"errorbar\", fun.data = mean_se) +\n",
        "  xlab(NULL)\n",
        "\n",
        "# \u5404\u5909\u6570\u306e\u5e73\u5747\uff08\u54c1\u7a2e\u3054\u3068\uff09\n",
        "iris %>% pivot_longer(-Species) %>%\n",
        "  ggplot(aes(x = Species, y = value, fill = name)) +\n",
        "  geom_bar(stat = \"summary\", fun = mean, position = \"dodge\") +\n",
        "  stat_summary(geom = \"errorbar\", fun.data = mean_se, position = \"dodge\")"
      ],
      "id": "593c110f-fd07-4dfe-b594-91cf45d163d8"
    },
    {
      "cell_type": "code",
      "execution_count": null,
      "metadata": {},
      "outputs": [],
      "source": [
        "my_df <- data.frame(\n",
        "  Species = iris$Species,\n",
        "  w_Sepal = iris$Sepal.Width > 3)\n",
        "table(my_df) # \u5206\u5272\u8868\n",
        "\n",
        "mosaicplot(\n",
        "  formula = ~ Species + w_Sepal,\n",
        "  data = my_df)"
      ],
      "id": "4144cb71-7094-49df-b67a-887108c65c42"
    },
    {
      "cell_type": "code",
      "execution_count": null,
      "metadata": {},
      "outputs": [],
      "source": [
        "library(vcd)\n",
        "vcd::mosaic(formula = ~w_Sepal + Species, data = my_df,\n",
        "            labeling = labeling_values)"
      ],
      "id": "16674e98-da90-4e85-86e8-118c8a494887"
    },
    {
      "cell_type": "code",
      "execution_count": null,
      "metadata": {},
      "outputs": [],
      "source": [
        "curve(x^3 - x, -2, 2)"
      ],
      "id": "17bb12bf-f076-4af5-b406-ebbeef4e8a67"
    },
    {
      "cell_type": "code",
      "execution_count": null,
      "metadata": {},
      "outputs": [],
      "source": [
        "x <- iris$Sepal.Length\n",
        "tmp <- seq(min(x), max(x),\n",
        "           length.out = 10)\n",
        "iris %>%\n",
        "  ggplot(aes(x = Sepal.Length)) +\n",
        "  geom_histogram(breaks = tmp,\n",
        "                 closed = \"left\")"
      ],
      "id": "02ee8aa1-6fac-4f9a-91fd-98376d0d8bae"
    },
    {
      "cell_type": "code",
      "execution_count": null,
      "metadata": {},
      "outputs": [],
      "source": [
        "iris %>%\n",
        "  ggplot(aes(x = Sepal.Length,\n",
        "             y = Sepal.Width)) +\n",
        "  geom_point()"
      ],
      "id": "094f657d-060f-4314-8c37-8bd2695312a8"
    },
    {
      "cell_type": "code",
      "execution_count": null,
      "metadata": {},
      "outputs": [],
      "source": [
        "iris %>%\n",
        "  pivot_longer(-Species) %>%\n",
        "  ggplot(aes(\n",
        "    x = factor(name,\n",
        "               levels = names(iris)),\n",
        "    y = value)) +\n",
        "  geom_boxplot() +\n",
        "  xlab(NULL)"
      ],
      "id": "28bfb75e-d4c4-4025-b3a1-45296eeefb64"
    },
    {
      "cell_type": "code",
      "execution_count": null,
      "metadata": {},
      "outputs": [],
      "source": [
        "library(ggmosaic)\n",
        "my_df <- data.frame(\n",
        "  Species = iris$Species,\n",
        "  w_Sepal = iris$Sepal.Width > 3)\n",
        "my_df %>%\n",
        "  ggplot() +\n",
        "  geom_mosaic(\n",
        "    aes(x = product(w_Sepal, Species)))"
      ],
      "id": "0a1a6ff7-8f0a-41ee-8ec4-51c102230422"
    },
    {
      "cell_type": "code",
      "execution_count": null,
      "metadata": {},
      "outputs": [],
      "source": [
        "f <- function(x) { x^3 - x }\n",
        "data.frame(x = c(-2, 2)) %>%\n",
        "  ggplot(aes(x = x)) +\n",
        "  stat_function(fun = f)"
      ],
      "id": "86352e3c-4044-493d-83d2-71e510178d2d"
    },
    {
      "id": "c9cd9e72",
      "cell_type": "markdown",
      "source": "## 4.3 \u4e71\u6570",
      "metadata": {}
    },
    {
      "cell_type": "code",
      "execution_count": null,
      "metadata": {},
      "outputs": [],
      "source": [
        "x <- sample(x = 1:6,        # \u7bc4\u56f2\n",
        "            size = 10000,   # \u4e71\u6570\u306e\u6570\n",
        "            replace = TRUE) # \u91cd\u8907\u3042\u308a\n",
        "hist(x, breaks = 0:6) # \u30d2\u30b9\u30c8\u30b0\u30e9\u30e0"
      ],
      "id": "6d0698cc-3a2c-4790-aece-71c974bbb49d"
    },
    {
      "cell_type": "code",
      "execution_count": null,
      "metadata": {},
      "outputs": [],
      "source": [
        "x <- runif(min = 0,  # \u6700\u5c0f\n",
        "           max = 1,  # \u6700\u5927\n",
        "           n = 1000) # \u4e71\u6570\u306e\u6570\n",
        "hist(x)"
      ],
      "id": "6e4ac8b1-cc2c-4f42-ba5f-3181f629de5b"
    },
    {
      "cell_type": "code",
      "execution_count": null,
      "metadata": {},
      "outputs": [],
      "source": [
        "x <- as.integer(      # \u6574\u6570\u306b\u5909\u63db\n",
        "  runif(min = 1,      # \u6700\u5c0f\n",
        "        max = 7,      # \u6700\u5927 + 1\n",
        "        n = 1000))    # \u4e71\u6570\u306e\u6570\n",
        "hist(x, breaks = 0:6) # \u7d50\u679c\u306f\u5272\u611b"
      ],
      "id": "4b6e317b-2450-42e2-8bdc-4488b2fa7a6e"
    },
    {
      "cell_type": "code",
      "execution_count": null,
      "metadata": {},
      "outputs": [],
      "source": [
        "n <- 100\n",
        "p <- 0.5\n",
        "r <- 10000\n",
        "x <- rbinom(size = n, # \u8a66\u884c\u56de\u6570\n",
        "            prob = p, # \u78ba\u7387\n",
        "            n = r)    # \u4e71\u6570\u306e\u6570\n",
        "hist(x, breaks = max(x) - min(x))"
      ],
      "id": "4f2244b1-79ac-4f50-8c92-7885f2ea6e4e"
    },
    {
      "cell_type": "code",
      "execution_count": null,
      "metadata": {},
      "outputs": [],
      "source": [
        "r <- 10000\n",
        "x <- rnorm(mean = 50, # \u5e73\u5747\n",
        "           sd = 5,    # \u6a19\u6e96\u504f\u5dee\n",
        "           n = r)     # \u4e71\u6570\u306e\u6570\n",
        "hist(x, breaks = 40)"
      ],
      "id": "d6b5eff4-4411-4ae1-855b-4e0b109d20ab"
    },
    {
      "cell_type": "code",
      "execution_count": null,
      "metadata": {},
      "outputs": [],
      "source": [
        "library(tidyverse)\n",
        "\n",
        "f <- function(k) {\n",
        "  n <- 10000\n",
        "  tmp <- replicate(n = n, expr = g(rnorm(n =  k, sd = 3)))\n",
        "  list(k = k,\n",
        "       mean = mean(tmp),       # \u5e73\u5747\n",
        "       se = sd(tmp) / sqrt(n)) # \u6a19\u6e96\u8aa4\u5dee\n",
        "}"
      ],
      "id": "b1a046f7-232b-4c20-909b-54aa3b3062ab"
    },
    {
      "cell_type": "code",
      "execution_count": null,
      "metadata": {},
      "outputs": [],
      "source": [
        "g <- var\n",
        "c(10, 20, 30) %>% map_dfr(f)"
      ],
      "id": "62774e61-8860-4272-8a96-435fb73b2f92"
    },
    {
      "cell_type": "code",
      "execution_count": null,
      "metadata": {},
      "outputs": [],
      "source": [
        "g <- sd\n",
        "c(5, 10, 15, 20) %>% map_dfr(f)"
      ],
      "id": "9f0a7c45-4df0-4ea2-b993-ebb63d5621ab"
    },
    {
      "cell_type": "code",
      "execution_count": null,
      "metadata": {},
      "outputs": [],
      "source": [
        "g <- function(x) {\n",
        "  n <- length(x)\n",
        "  sd(x) *\n",
        "    sqrt((n - 1) / 2) *\n",
        "    gamma((n - 1) / 2) /\n",
        "    gamma(n / 2)\n",
        "}\n",
        "c(10, 20, 30) %>% map_dfr(f)"
      ],
      "id": "0d850574-015b-47ee-aa14-087a59f13f5e"
    },
    {
      "id": "e0bf9b85",
      "cell_type": "markdown",
      "source": "## 4.4 \u7d71\u8a08\u7684\u63a8\u6e2c",
      "metadata": {}
    },
    {
      "cell_type": "code",
      "execution_count": null,
      "metadata": {},
      "outputs": [],
      "source": [
        "library(exactci)\n",
        "library(tidyverse)\n",
        "\n",
        "a <- 0.05                              # \u6709\u610f\u6c34\u6e96\n",
        "binom.exact(x = 2,                     # \u5f53\u305f\u3063\u305f\u56de\u6570\n",
        "            n = 15,                    # \u304f\u3058\u3092\u5f15\u3044\u305f\u56de\u6570\n",
        "            p = 4 / 10,                # \u5f53\u305f\u308b\u78ba\u7387\uff08\u4eee\u8aac\uff09\n",
        "            plot = TRUE,               # p\u5024\u306e\u63cf\u753b\uff08\u7d50\u679c\u306f\u6b21\u9805\u306b\u63b2\u8f09\uff09\n",
        "            conf.level = 1 - a,        # \u4fe1\u983c\u4fc2\u6570\uff08\u30c7\u30d5\u30a9\u30eb\u30c8\uff09\n",
        "            tsmethod = \"minlike\",      # p\u5024\u306e\u5b9a\u7fa9\n",
        "            alternative = \"two.sided\") # \u4e21\u5074\u691c\u5b9a\uff08\u30c7\u30d5\u30a9\u30eb\u30c8\uff09\n",
        "                                       # \u5de6\u7247\u5074\u691c\u5b9a\u306a\u3089'less'\n",
        "                                       # \u53f3\u7247\u5074\u691c\u5b9a\u306a\u3089'greater'\n"
      ],
      "id": "02b64751-9d08-477e-a319-0bf8536514f5"
    },
    {
      "cell_type": "code",
      "execution_count": null,
      "metadata": {},
      "outputs": [],
      "source": [
        "t <- 4 / 10               # \u5f53\u305f\u308b\u78ba\u7387\n",
        "n <- 15                   # \u304f\u3058\u3092\u5f15\u3044\u305f\u56de\u6570\n",
        "x <- 0:n                  # \u5f53\u305f\u3063\u305f\u56de\u6570\n",
        "my_pr  <- dbinom(x, n, t) # x\u56de\u5f53\u305f\u308b\u78ba\u7387\n",
        "my_pr2 <- dbinom(2, n, t) # 2\u56de\u5f53\u305f\u308b\u78ba\u7387\n",
        "\n",
        "my_data <- data.frame(x = x,\n",
        "                      probability = my_pr,\n",
        "                      color = my_pr <= my_pr2) # \u5f53\u305f\u308b\u78ba\u7387\u304c\uff0c2\u56de\u5f53\u305f\u308b\u78ba\u7387\u4ee5\u4e0b\n",
        "\n",
        "my_data %>% ggplot(aes(x = x, y = probability, color = color)) +\n",
        "  geom_point(size = 3) +\n",
        "  geom_linerange(aes(ymin = 0, ymax = probability), ) + # \u5782\u76f4\u7dda\n",
        "  geom_hline(yintercept = my_pr2) +                     # \u6c34\u5e73\u7dda\n",
        "  theme(legend.position = \"none\")                       # \u51e1\u4f8b\u3092\u8868\u793a\u3057\u306a\u3044\uff0e"
      ],
      "id": "9eb653c4-9b4d-4562-92db-024223e217f4"
    },
    {
      "cell_type": "code",
      "execution_count": null,
      "metadata": {},
      "outputs": [],
      "source": [
        "# \u524d\u9805\u306e\u7d50\u679c\uff08\u518d\u63b2\uff09"
      ],
      "id": "69439a99-8ae3-415b-b9d4-ada2dab69175"
    },
    {
      "cell_type": "code",
      "execution_count": null,
      "metadata": {},
      "outputs": [],
      "source": [
        "# \u524d\u9805\u5192\u982d\u306e\u30b3\u30fc\u30c9"
      ],
      "id": "0945acc7-b738-4fc3-af3b-a52a95a241ec"
    },
    {
      "cell_type": "code",
      "execution_count": null,
      "metadata": {},
      "outputs": [],
      "source": [
        "X <- c(32.1, 26.2, 27.5, 31.8, 32.1, 31.2, 30.1, 32.4, 32.3, 29.9,\n",
        "       29.6, 26.6, 31.2, 30.9, 29.3)\n",
        "Y <- c(35.4, 34.6, 31.1, 32.4, 33.3, 34.7, 35.3, 34.3, 32.1, 28.3,\n",
        "       33.3, 30.5, 32.6, 33.3, 32.2)\n",
        "\n",
        "t.test(x = X, y = Y,\n",
        "       conf.level = 0.95,         # \u4fe1\u983c\u4fc2\u6570\uff08\u30c7\u30d5\u30a9\u30eb\u30c8\uff09\n",
        "       paired = TRUE,             # \u5bfe\u6a19\u672c\u3067\u3042\u308b\uff0e\n",
        "       alternative = \"two.sided\") # \u4e21\u5074\u691c\u5b9a\uff08\u30c7\u30d5\u30a9\u30eb\u30c8\uff09\n",
        "                                  # \u5de6\u7247\u5074\u691c\u5b9a\u306a\u3089'less'\n",
        "                                  # \u53f3\u7247\u5074\u691c\u5b9a\u306a\u3089'greater'\n"
      ],
      "id": "a349a591-e89b-4dda-81e4-c27b788877a1"
    },
    {
      "cell_type": "code",
      "execution_count": null,
      "metadata": {},
      "outputs": [],
      "source": [
        "t.test(x = X, y = Y,\n",
        "       paired = FALSE,   # \u5bfe\u6a19\u672c\u3067\u306f\u306a\u3044\uff08\u30c7\u30d5\u30a9\u30eb\u30c8\uff09\uff0e\n",
        "       var.equal = TRUE, # \u7b49\u5206\u6563\u3092\u4eee\u5b9a\u3059\u308b\uff0e\u4eee\u5b9a\u3057\u306a\u3044\u306a\u3089FALSE\uff08\u30c7\u30d5\u30a9\u30eb\u30c8\uff09\uff0e\n",
        "       alternative = \"two.sided\",\n",
        "       conf.level = 0.95)\n"
      ],
      "id": "aaec37e8-a54e-4e12-a327-54b9656b064e"
    },
    {
      "cell_type": "code",
      "execution_count": null,
      "metadata": {},
      "outputs": [],
      "source": [
        "my_url <- str_c(\"https://raw.githubusercontent.com/taroyabuki\",\n",
        "                \"/fromzero/master/data/smoker.csv\")\n",
        "my_data <- read_csv(my_url)"
      ],
      "id": "f3060181-05ad-4c08-9c89-40a258b6d2bb"
    },
    {
      "cell_type": "code",
      "execution_count": null,
      "metadata": {},
      "outputs": [],
      "source": [
        "head(my_data)"
      ],
      "id": "0644849d-be25-47a8-af0e-6229d9952aea"
    },
    {
      "cell_type": "code",
      "execution_count": null,
      "metadata": {},
      "outputs": [],
      "source": [
        "my_table <- table(my_data)\n",
        "my_table"
      ],
      "id": "e13e6548-93b9-4c32-b58d-2fdb38beda39"
    },
    {
      "cell_type": "code",
      "execution_count": null,
      "metadata": {},
      "outputs": [],
      "source": [
        "chisq.test(my_table, correct = FALSE)\n"
      ],
      "id": "50d70750-8d3d-4ad5-aa3d-dac2dc9cffd5"
    },
    {
      "cell_type": "code",
      "execution_count": null,
      "metadata": {},
      "outputs": [],
      "source": [
        "X <- rep(0:1, c(13, 2)) # \u624b\u98061\n",
        "X\n",
        "\n",
        "tmp <- sample(X, size = length(X), replace = TRUE) # \u624b\u98062\n",
        "tmp\n",
        "\n",
        "sum(tmp) # \u624b\u98063\n",
        "\n",
        "n <- 10^5\n",
        "result <- replicate(n, sum(sample(X, size = length(X), replace = TRUE))) # \u624b\u98064"
      ],
      "id": "6892c7e1-1f7c-49f9-9b6f-a4120ed41aee"
    },
    {
      "cell_type": "code",
      "execution_count": null,
      "metadata": {},
      "outputs": [],
      "source": [
        "hist(x = result, breaks = 0:15,\n",
        "     right = FALSE)"
      ],
      "id": "343b967b-a39f-4264-b68c-ee0326512daf"
    },
    {
      "cell_type": "code",
      "execution_count": null,
      "metadata": {},
      "outputs": [],
      "source": [
        "quantile(result, c(0.025, 0.975))"
      ],
      "id": "83a2795a-727d-4093-9793-32e26d7d801a"
    },
    {
      "id": "fdca4973",
      "cell_type": "markdown",
      "source": "# 5 \u524d\u51e6\u7406",
      "metadata": {}
    },
    {
      "cell_type": "code",
      "execution_count": null,
      "metadata": {},
      "outputs": [],
      "source": [
        "# Google Colaboratory\u306e\u74b0\u5883\u8a2d\u5b9a\n",
        "if (Sys.getenv(\"COLAB_JUPYTER_IP\") != \"\") {\n",
        "  options(Ncpus = parallel::detectCores())\n",
        "  installed_packages <- rownames(installed.packages())\n",
        "  packages_to_install <- c(\"caret\")\n",
        "  install.packages(setdiff(packages_to_install, installed_packages))\n",
        "}"
      ],
      "id": "33bae720-d51c-4e86-a671-3e5ff8223aba"
    },
    {
      "id": "20a75d62",
      "cell_type": "markdown",
      "source": "## 5.1 \u30c7\u30fc\u30bf\u306e\u8aad\u307f\u8fbc\u307f",
      "metadata": {}
    },
    {
      "cell_type": "code",
      "execution_count": null,
      "metadata": {},
      "outputs": [],
      "source": [
        "library(tidyverse)\n",
        "system(str_c(\"wget https://raw.githubusercontent.com/taroyabuki\",\n",
        "             \"/fromzero/master/data/exam.csv\"))"
      ],
      "id": "23e76f12-f03e-4191-8a4e-734c183e62bd"
    },
    {
      "cell_type": "code",
      "execution_count": null,
      "metadata": {},
      "outputs": [],
      "source": [
        "my_df <- read_csv(\"exam.csv\")\n",
        "# \u3042\u308b\u3044\u306f\n",
        "my_df <- read.csv(\"exam.csv\",\n",
        "  stringsAsFactors = FALSE)\n",
        "\n",
        "my_df"
      ],
      "id": "b72ef8df-5550-461c-aea9-d09a6ed1fe9d"
    },
    {
      "cell_type": "code",
      "execution_count": null,
      "metadata": {},
      "outputs": [],
      "source": [
        "my_url <- str_c(\"https://raw.githubusercontent.com/taroyabuki\",\n",
        "                \"/fromzero/master/data/exam.csv\")\n",
        "my_df <- read_csv(my_url)\n",
        "# \u3042\u308b\u3044\u306f\n",
        "my_df <- read.csv(my_url, stringsAsFactors = FALSE)"
      ],
      "id": "379c81e0-fbec-42be-9797-9f49b3db0063"
    },
    {
      "cell_type": "code",
      "execution_count": null,
      "metadata": {},
      "outputs": [],
      "source": [
        "my_df2 <- read.csv(\n",
        "  file = \"exam.csv\",\n",
        "  stringsAsFactors = FALSE,\n",
        "  row.names = 1)\n",
        "my_df2"
      ],
      "id": "bd97da1e-0871-4257-b7ae-e825f4571299"
    },
    {
      "cell_type": "code",
      "execution_count": null,
      "metadata": {},
      "outputs": [],
      "source": [
        "my_df %>% write_csv(\"exam2.csv\")\n",
        "# \u3042\u308b\u3044\u306f\n",
        "my_df %>% write.csv(\n",
        "  file = \"exam2.csv\",\n",
        "  row.names = FALSE)"
      ],
      "id": "036a14b7-7cb0-4c46-bdef-d08c87f22f2b"
    },
    {
      "cell_type": "code",
      "execution_count": null,
      "metadata": {},
      "outputs": [],
      "source": [
        "my_df2 %>% write.csv(\"exam3.csv\")"
      ],
      "id": "2d59ca59-43fb-431b-aee3-875ad6304fa3"
    },
    {
      "cell_type": "code",
      "execution_count": null,
      "metadata": {},
      "outputs": [],
      "source": [
        "my_df <- read_csv(file = \"exam.csv\",\n",
        "  locale = locale(encoding = \"UTF-8\"))\n",
        "# \u3042\u308b\u3044\u306f\n",
        "my_df <- read.csv(file = \"exam.csv\",\n",
        "  stringsAsFactors = FALSE,\n",
        "  fileEncoding = \"UTF-8\")"
      ],
      "id": "a0e60fed-d058-40f9-b42c-5f5c7dfd946d"
    },
    {
      "cell_type": "code",
      "execution_count": null,
      "metadata": {},
      "outputs": [],
      "source": [
        "my_df %>% write_csv(\"exam2.csv\")\n",
        "# \u3042\u308b\u3044\u306f\n",
        "my_df %>% write.csv(file = \"exam2.csv\", row.names = FALSE,\n",
        "                    fileEncoding = \"UTF-8\")"
      ],
      "id": "5faf7507-f5cc-43a3-83a3-cbed8ea8d21c"
    },
    {
      "cell_type": "code",
      "execution_count": null,
      "metadata": {},
      "outputs": [],
      "source": [
        "my_url <- \"https://taroyabuki.github.io/fromzero/exam.html\"\n",
        "my_tables <- xml2::read_html(my_url) %>% rvest::html_table()"
      ],
      "id": "a7b8c8f9-5fa7-4679-a79a-6606d9b64855"
    },
    {
      "cell_type": "code",
      "execution_count": null,
      "metadata": {},
      "outputs": [],
      "source": [
        "my_tables"
      ],
      "id": "fd5a0064-8e10-4002-8f47-4280c1b6d62e"
    },
    {
      "cell_type": "code",
      "execution_count": null,
      "metadata": {},
      "outputs": [],
      "source": [
        "tmp <- my_tables[[1]]\n",
        "tmp"
      ],
      "id": "4748c6f8-b20f-4b89-8c4e-bdb87966922c"
    },
    {
      "cell_type": "code",
      "execution_count": null,
      "metadata": {},
      "outputs": [],
      "source": [
        "# 1\u884c\u76ee\u306e\u30c7\u30fc\u30bf\u3092\u4f7f\u3063\u3066\u5217\u306e\u540d\u524d\u3092\u4ed8\u3051\u76f4\u3059\uff0e\n",
        "colnames(tmp) <- tmp[1, ]\n",
        "\n",
        "# 1\u884c\u76ee\u30681\u5217\u76ee\u3092\u524a\u9664\u3059\u308b\uff0e\n",
        "my_data <- tmp[-1, -1]\n",
        "my_data"
      ],
      "id": "0c6bbcc8-ab69-4b7a-8233-a0710e92e2ca"
    },
    {
      "cell_type": "code",
      "execution_count": null,
      "metadata": {},
      "outputs": [],
      "source": [
        "library(jsonlite)\n",
        "my_url <- str_c(\"https://raw.githubusercontent.com/taroyabuki\",\n",
        "                \"/fromzero/master/data/exam.json\")\n",
        "my_data <- fromJSON(my_url)\n",
        "#my_data <- fromJSON(\"exam.json\") # \uff08\u30d5\u30a1\u30a4\u30eb\u3092\u4f7f\u3046\u5834\u5408\uff09\n",
        "my_data"
      ],
      "id": "ebd57223-a620-4088-81eb-a9c26c6c30ff"
    },
    {
      "cell_type": "code",
      "execution_count": null,
      "metadata": {},
      "outputs": [],
      "source": [
        "library(xml2)\n",
        "my_url <- str_c(\"https://raw.githubusercontent.com/taroyabuki\",\n",
        "                \"/fromzero/master/data/exam.xml\")\n",
        "my_xml <- read_xml(my_url)      # XML\u30c7\u30fc\u30bf\u306e\u8aad\u307f\u8fbc\u307f\n",
        "#my_xml <- read_xml(\"exam.xml\") # \uff08\u30d5\u30a1\u30a4\u30eb\u3092\u4f7f\u3046\u5834\u5408\uff09\n",
        "xml_ns(my_xml)                  # \u540d\u524d\u7a7a\u9593\u306e\u78ba\u8a8d\uff08d1\uff09"
      ],
      "id": "d6b30af8-7aca-442d-abc0-2c0d96e4d1dd"
    },
    {
      "cell_type": "code",
      "execution_count": null,
      "metadata": {},
      "outputs": [],
      "source": [
        "my_records <- xml_find_all(my_xml, \".//d1:record\")"
      ],
      "id": "c82df63d-52a2-4e7a-aecd-47373f0ba3d5"
    },
    {
      "cell_type": "code",
      "execution_count": null,
      "metadata": {},
      "outputs": [],
      "source": [
        "f <- function(record) {\n",
        "  tmp <- xml_attrs(record)                    # \u5c5e\u6027\u3092\u5168\u3066\u53d6\u308a\u51fa\u3057\uff0c\n",
        "  xml_children(record) %>% walk(function(e) {\n",
        "    tmp[xml_name(e)] <<- xml_text(e)          # \u5b50\u8981\u7d20\u306e\u540d\u524d\u3068\u5185\u5bb9\u3092\u8ffd\u52a0\u3059\u308b\uff0e\n",
        "  })\n",
        "  tmp\n",
        "}"
      ],
      "id": "e2c632b2-2ca8-41b7-9bd6-ccd56f35548a"
    },
    {
      "cell_type": "code",
      "execution_count": null,
      "metadata": {},
      "outputs": [],
      "source": [
        "my_data <- my_records %>% map_dfr(f)\n",
        "my_data$english <- as.numeric(my_data$english)\n",
        "my_data$math    <- as.numeric(my_data$math)\n",
        "my_data"
      ],
      "id": "c2e0d53d-8d18-489d-8e3b-3a120dd24e56"
    },
    {
      "id": "67f05a39",
      "cell_type": "markdown",
      "source": "## 5.2 \u30c7\u30fc\u30bf\u306e\u5909\u63db",
      "metadata": {}
    },
    {
      "cell_type": "code",
      "execution_count": null,
      "metadata": {},
      "outputs": [],
      "source": [
        "x1 <- c(1, 2, 3)\n",
        "\n",
        "z1 <- scale(x1)\n",
        "# \u3042\u308b\u3044\u306f\n",
        "z1 <- (x1 - mean(x1)) / sd(x1)\n",
        "\n",
        "z1"
      ],
      "id": "41fd6a2e-7985-4589-83de-25c8697685ff"
    },
    {
      "cell_type": "code",
      "execution_count": null,
      "metadata": {},
      "outputs": [],
      "source": [
        "c(mean(z1), sd(z1))"
      ],
      "id": "f7ed6386-2e00-425e-896c-09a117d01644"
    },
    {
      "cell_type": "code",
      "execution_count": null,
      "metadata": {},
      "outputs": [],
      "source": [
        "z1 * sd(x1) + mean(x1)"
      ],
      "id": "7397cf01-7e3c-43d1-8ae2-0f79b3c4f7fb"
    },
    {
      "cell_type": "code",
      "execution_count": null,
      "metadata": {},
      "outputs": [],
      "source": [
        "x2 <- c(1, 3, 5)\n",
        "z2 <- (x2 - mean(x1)) / sd(x1)\n",
        "c(mean(z2), sd(z2))"
      ],
      "id": "ea019b96-673c-43af-a1d2-770b9890173a"
    },
    {
      "cell_type": "code",
      "execution_count": null,
      "metadata": {},
      "outputs": [],
      "source": [
        "library(caret)\n",
        "library(tidyverse)\n",
        "\n",
        "my_df <- data.frame(\n",
        "  id = c(1, 2, 3),\n",
        "  class = as.factor(\n",
        "    c(\"A\", \"B\", \"C\")))\n",
        "\n",
        "my_enc <- my_df %>%\n",
        "  dummyVars(formula = ~ .)\n",
        "\n",
        "my_enc %>% predict(my_df)"
      ],
      "id": "6c2e0c4d-87f0-46fb-ba6a-d973b8ba1f98"
    },
    {
      "cell_type": "code",
      "execution_count": null,
      "metadata": {},
      "outputs": [],
      "source": [
        "my_df2 <- data.frame(\n",
        "  id =    c( 4 ,  5 ,  6 ),\n",
        "  class = c(\"B\", \"C\", \"B\"))\n",
        "my_enc %>% predict(my_df2)"
      ],
      "id": "cb3bd370-0c8d-4ba8-8a54-7f01a94a25b9"
    },
    {
      "cell_type": "code",
      "execution_count": null,
      "metadata": {},
      "outputs": [],
      "source": [
        "my_enc <- my_df %>%\n",
        "  dummyVars(formula = ~ .,\n",
        "            fullRank = TRUE)\n",
        "my_enc %>% predict(my_df)\n",
        "\n",
        "my_enc %>% predict(my_df2)"
      ],
      "id": "5b63c63e-a4ac-4a92-a337-99cefc9d84ea"
    },
    {
      "id": "663fec43",
      "cell_type": "markdown",
      "source": "# 6 \u6a5f\u68b0\u5b66\u7fd2\u306e\u76ee\u7684\u30fb\u30c7\u30fc\u30bf\u30fb\u624b\u6cd5\n\n\n",
      "metadata": {}
    },
    {
      "id": "fb60d2df",
      "cell_type": "markdown",
      "source": "## 6.1 \u6a5f\u68b0\u5b66\u7fd2\u306e\u76ee\u7684\uff08\u672c\u66f8\u306e\u5834\u5408\uff09\n\n\n",
      "metadata": {}
    },
    {
      "id": "2da94413",
      "cell_type": "markdown",
      "source": "## 6.2 \u6a5f\u68b0\u5b66\u7fd2\u306e\u305f\u3081\u306e\u30c7\u30fc\u30bf",
      "metadata": {}
    },
    {
      "cell_type": "code",
      "execution_count": null,
      "metadata": {},
      "outputs": [],
      "source": [
        "iris\n",
        "# \u4ee5\u4e0b\u7701\u7565"
      ],
      "id": "a96ffa59-2946-4ca2-8cd3-1f4685159df5"
    },
    {
      "id": "3a074017",
      "cell_type": "markdown",
      "source": "## 6.3 \u6a5f\u68b0\u5b66\u7fd2\u306e\u305f\u3081\u306e\u624b\u6cd5\n\n\n",
      "metadata": {}
    },
    {
      "id": "5cd74813",
      "cell_type": "markdown",
      "source": "# 7 \u56de\u5e301\uff08\u5358\u56de\u5e30\uff09",
      "metadata": {}
    },
    {
      "cell_type": "code",
      "execution_count": null,
      "metadata": {},
      "outputs": [],
      "source": [
        "# Google Colaboratory\u306e\u74b0\u5883\u8a2d\u5b9a\n",
        "if (Sys.getenv(\"COLAB_JUPYTER_IP\") != \"\") {\n",
        "  options(Ncpus = parallel::detectCores())\n",
        "  installed_packages <- rownames(installed.packages())\n",
        "  packages_to_install <- c(\"caret\", \"doParallel\", \"pastecs\")\n",
        "  install.packages(setdiff(packages_to_install, installed_packages))\n",
        "}"
      ],
      "id": "585d1c54-e54d-45fa-87f6-9c344758fa5d"
    },
    {
      "id": "41b03dd5",
      "cell_type": "markdown",
      "source": "## 7.1 \u81ea\u52d5\u8eca\u306e\u505c\u6b62\u8ddd\u96e2\n\n\n",
      "metadata": {}
    },
    {
      "id": "159b2ddb",
      "cell_type": "markdown",
      "source": "## 7.2 \u30c7\u30fc\u30bf\u306e\u78ba\u8a8d",
      "metadata": {}
    },
    {
      "cell_type": "code",
      "execution_count": null,
      "metadata": {},
      "outputs": [],
      "source": [
        "library(caret)\n",
        "library(tidyverse)\n",
        "my_data <- cars"
      ],
      "id": "ca78b318-1c17-417d-8ddc-a32dd577ee3a"
    },
    {
      "cell_type": "code",
      "execution_count": null,
      "metadata": {},
      "outputs": [],
      "source": [
        "dim(my_data)"
      ],
      "id": "8e8057c0-3890-4c73-858b-f45ef93168c0"
    },
    {
      "cell_type": "code",
      "execution_count": null,
      "metadata": {},
      "outputs": [],
      "source": [
        "head(my_data)"
      ],
      "id": "55edf9be-2e1d-4ef5-9cc2-9e8bd2b2aad4"
    },
    {
      "cell_type": "code",
      "execution_count": null,
      "metadata": {},
      "outputs": [],
      "source": [
        "options(digits = 3)\n",
        "pastecs::stat.desc(my_data)"
      ],
      "id": "2b55c703-43d6-4349-a70f-ee43622bffb2"
    },
    {
      "cell_type": "code",
      "execution_count": null,
      "metadata": {},
      "outputs": [],
      "source": [
        "my_data %>%\n",
        "  ggplot(aes(x = speed, y = dist)) +\n",
        "  geom_point()"
      ],
      "id": "536a5491-7878-491e-aa3d-0fbf1972fd16"
    },
    {
      "id": "110cf5c6",
      "cell_type": "markdown",
      "source": "## 7.3 \u56de\u5e30\u5206\u6790",
      "metadata": {}
    },
    {
      "cell_type": "code",
      "execution_count": null,
      "metadata": {},
      "outputs": [],
      "source": [
        "library(tidyverse)\n",
        "\n",
        "my_data <- cars\n",
        "tmp <- data.frame(speed = 21.5, dist = 67)\n",
        "my_data %>% ggplot(aes(x = speed, y = dist)) +\n",
        "  coord_cartesian(xlim = c(4, 25), ylim = c(0, 120)) +\n",
        "  geom_point() +\n",
        "  stat_smooth(formula = y ~ x, method = \"lm\") +\n",
        "  geom_pointrange(data = tmp, aes(ymin = -9, ymax = dist),  linetype = \"dotted\") +\n",
        "  geom_pointrange(data = tmp, aes(xmin =  0, xmax = speed), linetype = \"dotted\")"
      ],
      "id": "171241fb-0002-42cc-9838-825c80bdf19d"
    },
    {
      "cell_type": "code",
      "execution_count": null,
      "metadata": {},
      "outputs": [],
      "source": [
        "library(caret)\n",
        "library(tidyverse)\n",
        "my_data <- cars"
      ],
      "id": "cfd9d8b0-426e-4503-b49b-7a2eb90e10ae"
    },
    {
      "cell_type": "code",
      "execution_count": null,
      "metadata": {},
      "outputs": [],
      "source": [
        "my_model <- train(form = dist ~ speed, # \u30e2\u30c7\u30eb\u5f0f\uff08\u51fa\u529b\u5909\u6570\u3068\u5165\u529b\u5909\u6570\u306e\u95a2\u4fc2\uff09\n",
        "                  data = my_data,      # \u30c7\u30fc\u30bf\n",
        "                  method = \"lm\")       # \u624b\u6cd5"
      ],
      "id": "cee599f5-f69f-4dd2-919d-85d4be7028ba"
    },
    {
      "cell_type": "code",
      "execution_count": null,
      "metadata": {},
      "outputs": [],
      "source": [
        "coef(my_model$finalModel)"
      ],
      "id": "003aa65e-887b-4adb-b1ca-fbafd5e50621"
    },
    {
      "cell_type": "code",
      "execution_count": null,
      "metadata": {},
      "outputs": [],
      "source": [
        "tmp <- data.frame(speed = 21.5)\n",
        "my_model %>% predict(tmp)"
      ],
      "id": "3d7b7477-715f-4294-9efa-3276aaaa0cd2"
    },
    {
      "cell_type": "code",
      "execution_count": null,
      "metadata": {},
      "outputs": [],
      "source": [
        "f <- function(x) { my_model %>% predict(data.frame(speed = x)) }"
      ],
      "id": "f0f64692-1fa1-4a74-a037-740e1023e6d6"
    },
    {
      "cell_type": "code",
      "execution_count": null,
      "metadata": {},
      "outputs": [],
      "source": [
        "my_data %>%\n",
        "  ggplot(aes(x = speed, y = dist,\n",
        "             color = \"data\")) +\n",
        "  geom_point() +\n",
        "  stat_function(\n",
        "    fun = f,\n",
        "    mapping = aes(color = \"model\"))"
      ],
      "id": "f37c065d-50ce-4d44-9e7b-a2ec17642e27"
    },
    {
      "id": "d633b0b9",
      "cell_type": "markdown",
      "source": "## 7.4 \u5f53\u3066\u306f\u307e\u308a\u306e\u826f\u3055\u306e\u6307\u6a19",
      "metadata": {}
    },
    {
      "cell_type": "code",
      "execution_count": null,
      "metadata": {},
      "outputs": [],
      "source": [
        "library(caret)\n",
        "library(tidyverse)\n",
        "my_data <- cars\n",
        "my_model <- train(form = dist ~ speed, data = my_data, method = \"lm\")\n",
        "\n",
        "y  <- my_data$dist\n",
        "y_ <- my_model %>% predict(my_data)\n",
        "my_data$y_ <- y_"
      ],
      "id": "15721173-a23e-43db-91b8-224d53c6a17a"
    },
    {
      "cell_type": "code",
      "execution_count": null,
      "metadata": {},
      "outputs": [],
      "source": [
        "my_data$residual <- y - y_\n",
        "head(my_data)"
      ],
      "id": "16345927-fb00-492c-9acb-747a3b6796d1"
    },
    {
      "cell_type": "code",
      "execution_count": null,
      "metadata": {},
      "outputs": [],
      "source": [
        "my_data %>%\n",
        "  ggplot(aes(x = speed, y = dist)) +\n",
        "  geom_point() +\n",
        "  geom_line(aes(x = speed, y = y_)) +\n",
        "  geom_linerange(mapping = aes(ymin = y_, ymax = dist), linetype = \"dotted\")"
      ],
      "id": "93b83edc-404a-43e6-a576-b11956c98fbc"
    },
    {
      "cell_type": "code",
      "execution_count": null,
      "metadata": {},
      "outputs": [],
      "source": [
        "RMSE(y_, y)\n",
        "# \u3042\u308b\u3044\u306f\n",
        "mean((my_data$residual^2))**0.5\n"
      ],
      "id": "7f3fc411-1ef7-4917-a9a3-8622f40dc1bc"
    },
    {
      "cell_type": "code",
      "execution_count": null,
      "metadata": {},
      "outputs": [],
      "source": [
        "R2(pred = y_, obs = y,\n",
        "   form = \"traditional\")"
      ],
      "id": "bbdb38be-77fd-4796-8413-58637b5cab46"
    },
    {
      "cell_type": "code",
      "execution_count": null,
      "metadata": {},
      "outputs": [],
      "source": [
        "R2(pred = y_, obs = y,\n",
        "   form = \"corr\")\n",
        "# \u3042\u308b\u3044\u306f\n",
        "summary(my_model$finalModel)$r.squared"
      ],
      "id": "ff5e279a-11d0-4fca-9907-dec50eb7890d"
    },
    {
      "cell_type": "code",
      "execution_count": null,
      "metadata": {},
      "outputs": [],
      "source": [
        "my_test <- my_data[1:3, ]\n",
        "y  <- my_test$dist\n",
        "y_ <- my_model %>% predict(my_test)\n",
        "\n",
        "R2(pred = y_, obs = y,\n",
        "   form = \"traditional\")\n",
        "\n",
        "R2(pred = y_, obs = y,\n",
        "   form = \"corr\")"
      ],
      "id": "3214936e-4fd3-48ae-a239-5427d5c2cbe9"
    },
    {
      "cell_type": "code",
      "execution_count": null,
      "metadata": {},
      "outputs": [],
      "source": [
        "library(caret)\n",
        "library(tidyverse)\n",
        "my_data <- cars\n",
        "my_idx <- c(2, 11, 27, 34, 39, 44)\n",
        "my_sample <- my_data[my_idx, ]"
      ],
      "id": "60b24eb0-3ce4-4ec7-8bf9-b45922eb5163"
    },
    {
      "cell_type": "code",
      "execution_count": null,
      "metadata": {},
      "outputs": [],
      "source": [
        "options(warn = -1) # \u3053\u308c\u4ee5\u964d\uff0c\u8b66\u544a\u3092\u8868\u793a\u3057\u306a\u3044\uff0e\n",
        "my_model <- train(form = dist ~ poly(speed, degree = 5, raw = TRUE),\n",
        "                  data = my_sample,\n",
        "                  method = \"lm\")\n",
        "options(warn = 0)  # \u3053\u308c\u4ee5\u964d\uff0c\u8b66\u544a\u3092\u8868\u793a\u3059\u308b\uff0e\n",
        "\n",
        "y  <- my_sample$dist\n",
        "y_ <- my_model %>% predict(my_sample)"
      ],
      "id": "2705cc92-057f-474a-9d02-c13a13e5bdd9"
    },
    {
      "cell_type": "code",
      "execution_count": null,
      "metadata": {},
      "outputs": [],
      "source": [
        "RMSE(y_, y)\n",
        "\n",
        "R2(pred = y_, obs = y,\n",
        "   form = \"traditional\")\n",
        "\n",
        "R2(pred = y_, obs = y,\n",
        "   form = \"corr\")"
      ],
      "id": "296ffea9-761d-4617-916a-8d8ca942c5a5"
    },
    {
      "cell_type": "code",
      "execution_count": null,
      "metadata": {},
      "outputs": [],
      "source": [
        "f <- function(x) { my_model %>% predict(data.frame(speed = x)) }\n",
        "\n",
        "my_data %>%\n",
        "  ggplot(aes(x = speed, y = dist, color = \"data\")) +\n",
        "  geom_point() +\n",
        "  geom_point(data = my_sample, mapping = aes(color = \"sample\")) +\n",
        "  stat_function(fun = f, mapping = aes(color = \"model\")) +\n",
        "  coord_cartesian(ylim = c(0, 120))"
      ],
      "id": "37817d56-6d71-46c3-8574-01ca10a99cbd"
    },
    {
      "id": "1903656b",
      "cell_type": "markdown",
      "source": "## 7.5 K\u6700\u8fd1\u508d\u6cd5",
      "metadata": {}
    },
    {
      "cell_type": "code",
      "execution_count": null,
      "metadata": {},
      "outputs": [],
      "source": [
        "# \u6e96\u5099\n",
        "library(caret)\n",
        "library(tidyverse)\n",
        "my_data <- cars\n",
        "\n",
        "# \u8a13\u7df4\n",
        "my_model <- train(form = dist ~ speed, data = my_data, method = \"knn\")\n",
        "\n",
        "# \u53ef\u8996\u5316\u306e\u6e96\u5099\n",
        "f <- function(x) { my_model %>% predict(data.frame(speed = x))}"
      ],
      "id": "e19b4961-1bad-4484-ab89-15117a965a6f"
    },
    {
      "cell_type": "code",
      "execution_count": null,
      "metadata": {},
      "outputs": [],
      "source": [
        "my_data %>%\n",
        "  ggplot(aes(x = speed,\n",
        "             y = dist,\n",
        "             color = \"data\")) +\n",
        "  geom_point() +\n",
        "  stat_function(\n",
        "    fun = f,\n",
        "    mapping = aes(color = \"model\"))"
      ],
      "id": "33d11de0-9116-4718-a7c7-41051ca7d22a"
    },
    {
      "cell_type": "code",
      "execution_count": null,
      "metadata": {},
      "outputs": [],
      "source": [
        "y  <- my_data$dist\n",
        "y_ <- my_model %>% predict(my_data)\n",
        "\n",
        "RMSE(y_, y)\n",
        "\n",
        "R2(pred = y_, obs = y,\n",
        "   form = \"traditional\")\n",
        "\n",
        "R2(pred = y_, obs = y,\n",
        "   form = \"corr\")"
      ],
      "id": "45abf296-a494-4524-9e50-235720c5e52d"
    },
    {
      "id": "85d4cb41",
      "cell_type": "markdown",
      "source": "## 7.6 \u691c\u8a3c",
      "metadata": {}
    },
    {
      "cell_type": "code",
      "execution_count": null,
      "metadata": {},
      "outputs": [],
      "source": [
        "library(caret)\n",
        "library(tidyverse)\n",
        "my_data <- cars\n",
        "my_model <- train(form = dist ~ speed, data = my_data, method = \"lm\")\n",
        "\n",
        "my_model$results"
      ],
      "id": "a0f72f61-8e6d-4e33-883c-e6c28a1f7cfe"
    },
    {
      "cell_type": "code",
      "execution_count": null,
      "metadata": {},
      "outputs": [],
      "source": [
        "my_model <- train(form = dist ~ speed, data = my_data, method = \"lm\",\n",
        "                  trControl = trainControl(method = \"cv\", number = 5))\n",
        "my_model$results"
      ],
      "id": "fb675946-ab17-44c2-bead-c09a420a5688"
    },
    {
      "cell_type": "code",
      "execution_count": null,
      "metadata": {},
      "outputs": [],
      "source": [
        "my_model <- train(form = dist ~ speed, data = my_data, method = \"lm\",\n",
        "                  trControl = trainControl(method = \"LOOCV\"))\n",
        "my_model$results"
      ],
      "id": "dcba1093-8bf3-43b3-aaa3-ee60862ac738"
    },
    {
      "cell_type": "code",
      "execution_count": null,
      "metadata": {},
      "outputs": [],
      "source": [
        "library(doParallel)\n",
        "cl <- makeCluster(detectCores())\n",
        "registerDoParallel(cl)"
      ],
      "id": "bd13db80-179f-4c4c-ba1a-810e46ec1dbb"
    },
    {
      "cell_type": "code",
      "execution_count": null,
      "metadata": {},
      "outputs": [],
      "source": [
        "library(caret)\n",
        "library(tidyverse)\n",
        "my_data <- cars\n",
        "my_model <- train(form = dist ~ speed, data = my_data, method = \"lm\")\n",
        "y  <- my_data$dist\n",
        "y_ <- my_model %>% predict(my_data)"
      ],
      "id": "a93c85dd-e22a-4054-8579-a878209d8b17"
    },
    {
      "cell_type": "code",
      "execution_count": null,
      "metadata": {},
      "outputs": [],
      "source": [
        "# RMSE\uff08\u8a13\u7df4\uff09\n",
        "RMSE(y_, y)\n",
        "\n",
        "# \u6c7a\u5b9a\u4fc2\u65701\uff08\u8a13\u7df4\uff09\n",
        "R2(pred = y_, obs = y,\n",
        "   form = \"traditional\")\n",
        "\n",
        "# \u6c7a\u5b9a\u4fc2\u65706\uff08\u8a13\u7df4\uff09\n",
        "R2(pred = y_, obs = y,\n",
        "   form = \"corr\")"
      ],
      "id": "9d01b6ce-9709-4eb6-978c-14704b8a7ad2"
    },
    {
      "cell_type": "code",
      "execution_count": null,
      "metadata": {},
      "outputs": [],
      "source": [
        "postResample(pred = y_, obs = y)"
      ],
      "id": "c6cc64b3-ff49-4beb-98c2-d229cb3241e0"
    },
    {
      "cell_type": "code",
      "execution_count": null,
      "metadata": {},
      "outputs": [],
      "source": [
        "my_model <- train(form = dist ~ speed, data = my_data, method = \"lm\")\n",
        "my_model$results\n",
        "# \u5de6\u304b\u3089\uff0cRMSE\uff08\u691c\u8a3c\uff09\uff0c\u6c7a\u5b9a\u4fc2\u65706\uff08\u691c\u8a3c\uff09\uff0cMAE\uff08\u691c\u8a3c\uff09"
      ],
      "id": "e8da6b68-7427-4cd1-b009-0c8ee07db52e"
    },
    {
      "cell_type": "code",
      "execution_count": null,
      "metadata": {},
      "outputs": [],
      "source": [
        "my_model <- train(form = dist ~ speed, data = my_data, method = \"lm\",\n",
        "                  trControl = trainControl(method = \"LOOCV\"))\n",
        "\n",
        "# \u65b9\u6cd51\n",
        "my_model$results\n",
        "\n",
        "# \u65b9\u6cd52\n",
        "y  <- my_model$pred$obs\n",
        "y_ <- my_model$pred$pred\n",
        "mean((y - y_)^2)**0.5"
      ],
      "id": "feca486a-a909-408c-b9b7-542ae1667db7"
    },
    {
      "cell_type": "code",
      "execution_count": null,
      "metadata": {},
      "outputs": [],
      "source": [
        "mean(((y - y_)^2)**0.5)"
      ],
      "id": "9c126027-9e43-4f87-95b2-259210e858ba"
    },
    {
      "cell_type": "code",
      "execution_count": null,
      "metadata": {},
      "outputs": [],
      "source": [
        "library(caret)\n",
        "library(tidyverse)\n",
        "my_data <- cars\n",
        "\n",
        "my_lm_model <- train(form = dist ~ speed, data = my_data, method = \"lm\",\n",
        "                     trControl = trainControl(method = \"LOOCV\"))\n",
        "\n",
        "my_knn_model <- train(form = dist ~ speed, data = my_data, method = \"knn\",\n",
        "                      tuneGrid = data.frame(k = 5),\n",
        "                      trControl = trainControl(method = \"LOOCV\"))"
      ],
      "id": "a0bae251-abe6-42a0-a418-e042191b5e22"
    },
    {
      "cell_type": "code",
      "execution_count": null,
      "metadata": {},
      "outputs": [],
      "source": [
        "my_lm_model$results$RMSE\n",
        "\n",
        "my_knn_model$results$RMSE"
      ],
      "id": "b1942c9d-c300-4114-9414-928ecf55fba4"
    },
    {
      "cell_type": "code",
      "execution_count": null,
      "metadata": {},
      "outputs": [],
      "source": [
        "y     <- my_data$dist\n",
        "y_lm  <- my_lm_model$pred$pred\n",
        "y_knn <- my_knn_model$pred$pred\n",
        "\n",
        "my_df <- data.frame(\n",
        "  lm  = (y - y_lm)^2,\n",
        "  knn = (y - y_knn)^2)\n",
        "\n",
        "head(my_df)"
      ],
      "id": "4c2b2e0e-6349-4b39-8d7f-8acaa66d36e9"
    },
    {
      "cell_type": "code",
      "execution_count": null,
      "metadata": {},
      "outputs": [],
      "source": [
        "boxplot(my_df, ylab = \"r^2\")"
      ],
      "id": "55d3fde2-c23a-4a7b-acb5-a05234729337"
    },
    {
      "cell_type": "code",
      "execution_count": null,
      "metadata": {},
      "outputs": [],
      "source": [
        "t.test(x = my_df$lm, y = my_df$knn,\n",
        "       conf.level = 0.95,\n",
        "       paired = TRUE,\n",
        "       alternative = \"two.sided\")\n"
      ],
      "id": "48ec3d14-6218-4102-8877-522e848729ec"
    },
    {
      "id": "dfa14f30",
      "cell_type": "markdown",
      "source": "## 7.7 \u30d1\u30e9\u30e1\u30fc\u30bf\u30c1\u30e5\u30fc\u30cb\u30f3\u30b0",
      "metadata": {}
    },
    {
      "cell_type": "code",
      "execution_count": null,
      "metadata": {},
      "outputs": [],
      "source": [
        "library(caret)\n",
        "library(tidyverse)\n",
        "my_data <- cars\n",
        "my_model <- train(form = dist ~ speed, data = my_data, method = \"knn\")\n",
        "my_model$results"
      ],
      "id": "efa18b62-83c4-4b5a-b324-77f28f786b4c"
    },
    {
      "cell_type": "code",
      "execution_count": null,
      "metadata": {},
      "outputs": [],
      "source": [
        "my_params <- expand.grid(k = 1:15)\n",
        "\n",
        "my_model <- train(form = dist ~ speed, data = my_data, method = \"knn\",\n",
        "                  tuneGrid = my_params,\n",
        "                  trControl = trainControl(method = \"LOOCV\"))"
      ],
      "id": "61ae2d19-1912-4d86-b38a-22b3ae62ced7"
    },
    {
      "cell_type": "code",
      "execution_count": null,
      "metadata": {},
      "outputs": [],
      "source": [
        "head(my_model$results)"
      ],
      "id": "60f305e5-bec7-4268-945c-13df5a80a734"
    },
    {
      "cell_type": "code",
      "execution_count": null,
      "metadata": {},
      "outputs": [],
      "source": [
        "ggplot(my_model)"
      ],
      "id": "7738fa7f-aa65-42fe-b7a3-c0630ed52dae"
    },
    {
      "cell_type": "code",
      "execution_count": null,
      "metadata": {},
      "outputs": [],
      "source": [
        "my_model$bestTune"
      ],
      "id": "1fd4f474-8543-4b3a-ac96-ecd065eaa685"
    },
    {
      "cell_type": "code",
      "execution_count": null,
      "metadata": {},
      "outputs": [],
      "source": [
        "my_model$results %>%\n",
        "  filter(RMSE == min(RMSE))"
      ],
      "id": "2e734a70-b539-425e-be34-f24eb11f7cc0"
    },
    {
      "cell_type": "code",
      "execution_count": null,
      "metadata": {},
      "outputs": [],
      "source": [
        "y  <- my_data$dist\n",
        "y_ <- my_model %>% predict(my_data)\n",
        "RMSE(y_, y)"
      ],
      "id": "190a9b1a-0473-45f5-9ac7-0e453e4b251b"
    },
    {
      "cell_type": "code",
      "execution_count": null,
      "metadata": {},
      "outputs": [],
      "source": [
        "library(caret)\n",
        "library(tidyverse)\n",
        "my_data <- cars\n",
        "\n",
        "my_loocv <- function(k) {\n",
        "  my_model <- train(form = dist ~ speed, data = my_data, method = \"knn\",\n",
        "                    tuneGrid = data.frame(k = k),\n",
        "                    trControl = trainControl(method = \"LOOCV\"))\n",
        "  y  <- my_data$dist\n",
        "  y_ <- my_model %>% predict(my_data)\n",
        "  list(k = k,\n",
        "       training = RMSE(y_, y),             # RMSE\uff08\u8a13\u7df4\uff09\n",
        "       validation = my_model$results$RMSE) # RMSE\uff08\u691c\u8a3c\uff09\n",
        "}\n",
        "\n",
        "my_results <- 1:15 %>% map_dfr(my_loocv)"
      ],
      "id": "5a585f2a-adcb-49fc-b336-9273e306625c"
    },
    {
      "cell_type": "code",
      "execution_count": null,
      "metadata": {},
      "outputs": [],
      "source": [
        "my_results %>%\n",
        "  pivot_longer(-k) %>%\n",
        "  ggplot(aes(x = k, y = value,\n",
        "             color = name)) +\n",
        "  geom_line() + geom_point() +\n",
        "  xlab(\"#Neighbors\") + ylab(\"RMSE\") +\n",
        "  theme(legend.position = c(1, 0),\n",
        "        legend.justification = c(1, 0))"
      ],
      "id": "7daab0dc-8dd0-4a6a-83b3-2af7b3e34d03"
    },
    {
      "cell_type": "code",
      "execution_count": null,
      "metadata": {},
      "outputs": [],
      "source": [
        "# \u4e26\u5217\u30af\u30e9\u30b9\u30bf\u306e\u505c\u6b62\n",
        "stopCluster(cl)\n",
        "registerDoSEQ()"
      ],
      "id": "718ca744-b7d3-4fd9-8c06-01937532c887"
    },
    {
      "id": "fe57ac2c",
      "cell_type": "markdown",
      "source": "# 8 \u56de\u5e302\uff08\u91cd\u56de\u5e30\uff09",
      "metadata": {}
    },
    {
      "cell_type": "code",
      "execution_count": null,
      "metadata": {},
      "outputs": [],
      "source": [
        "# Google Colaboratory\u306e\u74b0\u5883\u8a2d\u5b9a\n",
        "if (Sys.getenv(\"COLAB_JUPYTER_IP\") != \"\") {\n",
        "  options(Ncpus = parallel::detectCores())\n",
        "  installed_packages <- rownames(installed.packages())\n",
        "  packages_to_install <- c(\"caret\", \"ggfortify\", \"glmnetUtils\", \"leaps\", \"neuralnet\", \"psych\")\n",
        "  install.packages(setdiff(packages_to_install, installed_packages))\n",
        "}"
      ],
      "id": "1c18b157-ef44-4a57-8817-0694296d5630"
    },
    {
      "id": "20a1b1d8",
      "cell_type": "markdown",
      "source": "## 8.1 \u30d6\u30c9\u30a6\u306e\u751f\u80b2\u6761\u4ef6\u3068\u30ef\u30a4\u30f3\u306e\u4fa1\u683c",
      "metadata": {}
    },
    {
      "cell_type": "code",
      "execution_count": null,
      "metadata": {},
      "outputs": [],
      "source": [
        "library(tidyverse)\n",
        "my_url <- \"http://www.liquidasset.com/winedata.html\"\n",
        "tmp <- read.table(file = my_url,   # \u8aad\u307f\u8fbc\u3080\u5bfe\u8c61\n",
        "                  header = TRUE,   # 1\u884c\u76ee\u306f\u5909\u6570\u540d\n",
        "                  na.string = \".\", # \u6b20\u640d\u5024\u3092\u8868\u3059\u6587\u5b57\u5217\n",
        "                  skip = 62,       # \u8aad\u307f\u98db\u3070\u3059\u884c\u6570\n",
        "                  nrows = 38)      # \u8aad\u307f\u8fbc\u3080\u884c\u6570\n",
        "psych::describe(tmp)"
      ],
      "id": "9d1a19ea-58f1-4618-8f68-ef3c95b514c1"
    },
    {
      "cell_type": "code",
      "execution_count": null,
      "metadata": {},
      "outputs": [],
      "source": [
        "my_data <- na.omit(tmp[, -c(1, 2)])\n",
        "head(my_data)"
      ],
      "id": "091203b3-62ec-43bf-a24f-159e756689d5"
    },
    {
      "cell_type": "code",
      "execution_count": null,
      "metadata": {},
      "outputs": [],
      "source": [
        "dim(my_data)"
      ],
      "id": "f5d64ba5-d67b-4db8-bb37-e4d094ac5e57"
    },
    {
      "cell_type": "code",
      "execution_count": null,
      "metadata": {},
      "outputs": [],
      "source": [
        "my_data %>% write_csv(\"wine.csv\")"
      ],
      "id": "0bee77af-d3ca-4548-8b8c-eac470361879"
    },
    {
      "cell_type": "code",
      "execution_count": null,
      "metadata": {},
      "outputs": [],
      "source": [
        "#my_data <- read_csv(\"wine.csv\") # \u4f5c\u3063\u305f\u30d5\u30a1\u30a4\u30eb\u3092\u4f7f\u3046\u5834\u5408\n",
        "my_url <- str_c(\"https://raw.githubusercontent.com/taroyabuki\",\n",
        "                \"/fromzero/master/data/wine.csv\")\n",
        "my_data <- read_csv(my_url)"
      ],
      "id": "8c5142b8-c144-48ee-871e-bffea78a2731"
    },
    {
      "id": "5926c627",
      "cell_type": "markdown",
      "source": "## 8.2 \u91cd\u56de\u5e30\u5206\u6790",
      "metadata": {}
    },
    {
      "cell_type": "code",
      "execution_count": null,
      "metadata": {},
      "outputs": [],
      "source": [
        "library(caret)\n",
        "library(tidyverse)\n",
        "my_url <- str_c(\"https://raw.githubusercontent.com/taroyabuki\",\n",
        "                \"/fromzero/master/data/wine.csv\")\n",
        "my_data <- read_csv(my_url)\n",
        "\n",
        "my_model <- train(form = LPRICE2 ~ WRAIN + DEGREES + HRAIN + TIME_SV,\n",
        "                  data = my_data,\n",
        "                  method = \"lm\",\n",
        "                  trControl = trainControl(method = \"LOOCV\"))"
      ],
      "id": "d80d2ec5-98f4-4ed1-ba4a-eba10c872ae9"
    },
    {
      "cell_type": "code",
      "execution_count": null,
      "metadata": {},
      "outputs": [],
      "source": [
        "coef(my_model$finalModel) %>%\n",
        "  as.data.frame"
      ],
      "id": "92086068-7f41-4a5d-92e0-46ab82fde451"
    },
    {
      "cell_type": "code",
      "execution_count": null,
      "metadata": {},
      "outputs": [],
      "source": [
        "my_test <- data.frame(\n",
        "  WRAIN = 500, DEGREES = 17,\n",
        "  HRAIN = 120, TIME_SV = 2)\n",
        "my_model %>% predict(my_test)"
      ],
      "id": "2ff7d6d8-84dd-4f7d-a83f-8df4beeecdda"
    },
    {
      "cell_type": "code",
      "execution_count": null,
      "metadata": {},
      "outputs": [],
      "source": [
        "y  <- my_data$LPRICE2\n",
        "y_ <- my_model %>% predict(my_data)\n",
        "\n",
        "RMSE(y_, y)\n",
        "\n",
        "R2(pred = y_, obs = y,\n",
        "   form = \"traditional\")\n",
        "\n",
        "R2(pred = y_, obs = y,\n",
        "   form = \"corr\")"
      ],
      "id": "d6f89105-2ff6-4a75-a52c-ba950ea3264a"
    },
    {
      "cell_type": "code",
      "execution_count": null,
      "metadata": {},
      "outputs": [],
      "source": [
        "my_model$results"
      ],
      "id": "c721383f-0755-4820-99b0-65a2c81b136e"
    },
    {
      "cell_type": "code",
      "execution_count": null,
      "metadata": {},
      "outputs": [],
      "source": [
        "M <- my_data[, -1] %>%\n",
        "  mutate(b0 = 1) %>% as.matrix\n",
        "b <- MASS::ginv(M) %*% y\n",
        "matrix(b,\n",
        "       dimnames = list(colnames(M)))"
      ],
      "id": "4b92f965-26ab-4265-8af2-378dfa1d8c47"
    },
    {
      "id": "fdecaf61",
      "cell_type": "markdown",
      "source": "## 8.3 \u6a19\u6e96\u5316",
      "metadata": {}
    },
    {
      "cell_type": "code",
      "execution_count": null,
      "metadata": {},
      "outputs": [],
      "source": [
        "library(caret)\n",
        "library(tidyverse)\n",
        "my_url <- str_c(\"https://raw.githubusercontent.com/taroyabuki\",\n",
        "                \"/fromzero/master/data/wine.csv\")\n",
        "my_data <- read_csv(my_url)\n",
        "\n",
        "my_data %>%\n",
        "  mutate_if(is.numeric, scale) %>% # \u6570\u5024\u306e\u5217\u306e\u6a19\u6e96\u5316\n",
        "  pivot_longer(-LPRICE2) %>%\n",
        "  ggplot(aes(x = name, y = value)) +\n",
        "  geom_boxplot() +\n",
        "  stat_summary(fun = mean, geom = \"point\", size = 3) +\n",
        "  xlab(NULL)"
      ],
      "id": "8deb8402-0964-4a75-9480-535d35144963"
    },
    {
      "cell_type": "code",
      "execution_count": null,
      "metadata": {},
      "outputs": [],
      "source": [
        "my_model <- train(\n",
        "  form = LPRICE2 ~ .,\n",
        "  data = my_data,\n",
        "  method = \"lm\",\n",
        "  preProcess = c(\"center\", \"scale\"))"
      ],
      "id": "9631a07b-4f10-488d-b964-635c62827e6d"
    },
    {
      "cell_type": "code",
      "execution_count": null,
      "metadata": {},
      "outputs": [],
      "source": [
        "coef(my_model$finalModel) %>%\n",
        "  as.data.frame"
      ],
      "id": "e4b0caac-44fb-413c-8184-23d8eb856f86"
    },
    {
      "cell_type": "code",
      "execution_count": null,
      "metadata": {},
      "outputs": [],
      "source": [
        "my_test <- data.frame(\n",
        "  WRAIN = 500, DEGREES = 17,\n",
        "  HRAIN = 120, TIME_SV = 2)\n",
        "my_model %>% predict(my_test)"
      ],
      "id": "8cebfe94-a4f2-42a9-82b2-c6bcb38f1f85"
    },
    {
      "id": "a554987a",
      "cell_type": "markdown",
      "source": "## 8.4 \u5165\u529b\u5909\u6570\u306e\u6570\u3068\u30e2\u30c7\u30eb\u306e\u826f\u3055",
      "metadata": {}
    },
    {
      "cell_type": "code",
      "execution_count": null,
      "metadata": {},
      "outputs": [],
      "source": [
        "library(caret)\n",
        "library(tidyverse)\n",
        "my_url <- str_c(\"https://raw.githubusercontent.com/taroyabuki\",\n",
        "                \"/fromzero/master/data/wine.csv\")\n",
        "my_data <- read_csv(my_url)\n",
        "\n",
        "n <- nrow(my_data)\n",
        "my_data2 <- my_data %>% mutate(v1 = 0:(n - 1) %% 2,\n",
        "                               v2 = 0:(n - 1) %% 3)\n",
        "head(my_data2)"
      ],
      "id": "e29a21c9-12bc-485e-b4b6-c77ca1e4d33d"
    },
    {
      "cell_type": "code",
      "execution_count": null,
      "metadata": {},
      "outputs": [],
      "source": [
        "my_model2 <- train(form = LPRICE2 ~ ., data = my_data2, method = \"lm\",\n",
        "                   trControl = trainControl(method = \"LOOCV\"))\n",
        "y  <- my_data2$LPRICE2\n",
        "y_ <- my_model2 %>% predict(my_data2)\n",
        "\n",
        "RMSE(y_, y)\n",
        "\n",
        "my_model2$results$RMSE"
      ],
      "id": "252f147b-5f72-4bc5-b56a-916e6ce7b2e6"
    },
    {
      "id": "f88c66bc",
      "cell_type": "markdown",
      "source": "## 8.5 \u5909\u6570\u9078\u629e",
      "metadata": {}
    },
    {
      "cell_type": "code",
      "execution_count": null,
      "metadata": {},
      "outputs": [],
      "source": [
        "library(caret)\n",
        "library(tidyverse)\n",
        "my_url <- str_c(\"https://raw.githubusercontent.com/taroyabuki\",\n",
        "                \"/fromzero/master/data/wine.csv\")\n",
        "my_data <- read_csv(my_url)\n",
        "n <- nrow(my_data)\n",
        "my_data2 <- my_data %>% mutate(v1 = 0:(n - 1) %% 2,\n",
        "                               v2 = 0:(n - 1) %% 3)"
      ],
      "id": "ec7ed7da-8790-46ba-9c70-aa05b42c1caa"
    },
    {
      "cell_type": "code",
      "execution_count": null,
      "metadata": {},
      "outputs": [],
      "source": [
        "my_model <- train(form = LPRICE2 ~ .,\n",
        "                  data = my_data2,\n",
        "                  method = \"leapForward\", # \u5909\u6570\u5897\u52a0\u6cd5\n",
        "                  trControl = trainControl(method = \"LOOCV\"),\n",
        "                  tuneGrid = data.frame(nvmax = 1:6)) # \u9078\u629e\u3059\u308b\u5909\u6570\u306e\u4e0a\u9650\n",
        "summary(my_model$finalModel)$outmat"
      ],
      "id": "3aa04054-2891-4a04-9749-2ed991843f8d"
    },
    {
      "id": "6b2d21fe",
      "cell_type": "markdown",
      "source": "## 8.6 \u88dc\u8db3\uff1a\u6b63\u5247\u5316",
      "metadata": {}
    },
    {
      "cell_type": "code",
      "execution_count": null,
      "metadata": {},
      "outputs": [],
      "source": [
        "library(caret)\n",
        "library(tidyverse)\n",
        "my_url <- str_c(\"https://raw.githubusercontent.com/taroyabuki\",\n",
        "                \"/fromzero/master/data/wine.csv\")\n",
        "my_data <- read_csv(my_url)"
      ],
      "id": "25a8d212-45c5-4fe9-80f5-da408ac6bc80"
    },
    {
      "cell_type": "code",
      "execution_count": null,
      "metadata": {},
      "outputs": [],
      "source": [
        "A <- 2\n",
        "B <- 0.1\n",
        "\n",
        "my_model <- train(\n",
        "  form = LPRICE2 ~ .,\n",
        "  data = my_data,\n",
        "  method = \"glmnet\",\n",
        "  standardize = TRUE,\n",
        "  tuneGrid = data.frame(\n",
        "    lambda = A,\n",
        "    alpha = B))"
      ],
      "id": "0b93513c-9d3e-4284-83b0-ac8d1ac0efb6"
    },
    {
      "cell_type": "code",
      "execution_count": null,
      "metadata": {},
      "outputs": [],
      "source": [
        "coef(my_model$finalModel, A)"
      ],
      "id": "65959db7-7e03-4f01-847b-37d822c0aa5b"
    },
    {
      "cell_type": "code",
      "execution_count": null,
      "metadata": {},
      "outputs": [],
      "source": [
        "my_test <- data.frame(\n",
        "  WRAIN = 500, DEGREES = 17,\n",
        "  HRAIN = 120, TIME_SV = 2)\n",
        "my_model %>% predict(my_test)"
      ],
      "id": "b1610372-6fb1-464e-a371-41df30710065"
    },
    {
      "cell_type": "code",
      "execution_count": null,
      "metadata": {},
      "outputs": [],
      "source": [
        "library(ggfortify)\n",
        "library(glmnetUtils)\n",
        "\n",
        "my_data2 <- my_data %>% scale %>%\n",
        "  as.data.frame\n",
        "\n",
        "B <- 0.1\n",
        "\n",
        "glmnet(\n",
        "  form = LPRICE2 ~ .,\n",
        "  data = my_data2,\n",
        "  alpha = B) %>%\n",
        "  autoplot(xvar = \"lambda\") +\n",
        "  xlab(\"log A ( = log lambda)\") +\n",
        "  theme(legend.position = c(0.15, 0.25))"
      ],
      "id": "d511ec7e-fe2f-4883-8c24-f7f715367f67"
    },
    {
      "cell_type": "code",
      "execution_count": null,
      "metadata": {},
      "outputs": [],
      "source": [
        "As <- seq(0, 0.1, length.out = 21)\n",
        "Bs <- seq(0, 0.1, length.out =  6)\n",
        "\n",
        "my_model <- train(\n",
        "  form = LPRICE2 ~ ., data = my_data, method = \"glmnet\", standardize = TRUE,\n",
        "  trControl = trainControl(method = \"LOOCV\"),\n",
        "  tuneGrid = expand.grid(lambda = As, alpha  = Bs))\n",
        "\n",
        "my_model$bestTune"
      ],
      "id": "c36f31fc-1683-408b-bc5d-add2b72bfadc"
    },
    {
      "cell_type": "code",
      "execution_count": null,
      "metadata": {},
      "outputs": [],
      "source": [
        "tmp <- \"B ( = alpha)\"\n",
        "ggplot(my_model) +\n",
        "  theme(legend.position = c(0, 1), legend.justification = c(0, 1)) +\n",
        "  xlab(\"A ( = lambda)\") +\n",
        "  guides(shape = guide_legend(tmp), color = guide_legend(tmp))"
      ],
      "id": "45dcb0d5-8f51-43ea-b299-d5dc7cc286b0"
    },
    {
      "cell_type": "code",
      "execution_count": null,
      "metadata": {},
      "outputs": [],
      "source": [
        "my_model$results %>%\n",
        "  filter(RMSE == min(RMSE))"
      ],
      "id": "edf77cf8-1100-4acc-93cc-09cdd4c23056"
    },
    {
      "id": "352609d4",
      "cell_type": "markdown",
      "source": "## 8.7 \u30cb\u30e5\u30fc\u30e9\u30eb\u30cd\u30c3\u30c8\u30ef\u30fc\u30af",
      "metadata": {}
    },
    {
      "cell_type": "code",
      "execution_count": null,
      "metadata": {},
      "outputs": [],
      "source": [
        "curve(1 / (1 + exp(-x)), -6, 6)"
      ],
      "id": "13d428fa-107b-4310-b9da-8e0d37d3cbe1"
    },
    {
      "cell_type": "code",
      "execution_count": null,
      "metadata": {},
      "outputs": [],
      "source": [
        "library(caret)\n",
        "library(tidyverse)\n",
        "my_url <- str_c(\"https://raw.githubusercontent.com/taroyabuki\",\n",
        "                \"/fromzero/master/data/wine.csv\")\n",
        "my_data <- read_csv(my_url)"
      ],
      "id": "df29fbde-bd26-41f3-9796-8d7e2dab5a25"
    },
    {
      "cell_type": "code",
      "execution_count": null,
      "metadata": {},
      "outputs": [],
      "source": [
        "my_model <- train(form = LPRICE2 ~ .,\n",
        "                  data = my_data,\n",
        "                  method = \"neuralnet\",              # \u30cb\u30e5\u30fc\u30e9\u30eb\u30cd\u30c3\u30c8\u30ef\u30fc\u30af\n",
        "                  preProcess = c(\"center\", \"scale\"), # \u6a19\u6e96\u5316\n",
        "                  trControl = trainControl(method = \"LOOCV\"))\n",
        "plot(my_model$finalModel) # \u8a13\u7df4\u6e08\u30cd\u30c3\u30c8\u30ef\u30fc\u30af\u306e\u63cf\u753b"
      ],
      "id": "4007156f-1ee3-4d38-af01-83d087265cdc"
    },
    {
      "cell_type": "code",
      "execution_count": null,
      "metadata": {},
      "outputs": [],
      "source": [
        "my_model$results"
      ],
      "id": "da77399a-d60b-4e16-803a-397039349285"
    },
    {
      "cell_type": "code",
      "execution_count": null,
      "metadata": {},
      "outputs": [],
      "source": [
        "my_model <- train(\n",
        "  form = LPRICE2 ~ .,\n",
        "  data = my_data,\n",
        "  method = \"neuralnet\",\n",
        "  preProcess = c(\"center\", \"scale\"),\n",
        "  trControl = trainControl(method = \"LOOCV\"),\n",
        "  tuneGrid = expand.grid(layer1 = 1:5,\n",
        "                         layer2 = 0:2,\n",
        "                         layer3 = 0))"
      ],
      "id": "2c8f46be-2099-4695-8b64-84ad9d5e2b40"
    },
    {
      "cell_type": "code",
      "execution_count": null,
      "metadata": {},
      "outputs": [],
      "source": [
        "my_model$results %>%\n",
        "  filter(RMSE == min(RMSE))"
      ],
      "id": "b03877bf-80dc-4bf0-ba4f-d58e65109133"
    },
    {
      "id": "e4fcdbaf",
      "cell_type": "markdown",
      "source": "# 9 \u5206\u985e1\uff08\u591a\u5024\u5206\u985e\uff09",
      "metadata": {}
    },
    {
      "cell_type": "code",
      "execution_count": null,
      "metadata": {},
      "outputs": [],
      "source": [
        "# Google Colaboratory\u306e\u74b0\u5883\u8a2d\u5b9a\n",
        "if (Sys.getenv(\"COLAB_JUPYTER_IP\") != \"\") {\n",
        "  options(Ncpus = parallel::detectCores())\n",
        "  installed_packages <- rownames(installed.packages())\n",
        "  packages_to_install <- c(\"caret\", \"furrr\", \"psych\", \"randomForest\", \"rpart.plot\", \"xgboost\")\n",
        "  install.packages(setdiff(packages_to_install, installed_packages))\n",
        "}"
      ],
      "id": "8a895e9e-0a6c-433d-863f-d5e3d8e8194a"
    },
    {
      "id": "170e3584",
      "cell_type": "markdown",
      "source": "## 9.1 \u30a2\u30e4\u30e1\u306e\u30c7\u30fc\u30bf",
      "metadata": {}
    },
    {
      "cell_type": "code",
      "execution_count": null,
      "metadata": {},
      "outputs": [],
      "source": [
        "my_data <- iris\n",
        "head(my_data)"
      ],
      "id": "5a5a001c-0ab1-4a65-83da-95a5abcf15e8"
    },
    {
      "cell_type": "code",
      "execution_count": null,
      "metadata": {},
      "outputs": [],
      "source": [
        "psych::describe(my_data)"
      ],
      "id": "bfeda978-87c6-4bd0-ab59-926bc195a360"
    },
    {
      "id": "40484933",
      "cell_type": "markdown",
      "source": "## 9.2 \u6728\u306b\u3088\u308b\u5206\u985e",
      "metadata": {}
    },
    {
      "cell_type": "code",
      "execution_count": null,
      "metadata": {},
      "outputs": [],
      "source": [
        "library(caret)\n",
        "library(tidyverse)\n",
        "my_data <- iris\n",
        "my_model <- train(form = Species ~ ., data = my_data, method = \"rpart\")"
      ],
      "id": "a1620c24-f632-4143-9987-d69f7ffc2e0a"
    },
    {
      "cell_type": "code",
      "execution_count": null,
      "metadata": {},
      "outputs": [],
      "source": [
        "rpart.plot::rpart.plot(my_model$finalModel, extra = 1)"
      ],
      "id": "2d9269a2-878b-4017-a32b-887c1a2c7738"
    },
    {
      "cell_type": "code",
      "execution_count": null,
      "metadata": {},
      "outputs": [],
      "source": [
        "my_test <- tribble(\n",
        "~Sepal.Length, ~Sepal.Width, ~Petal.Length, ~Petal.Width,\n",
        "          5.0,          3.5,           1.5,          0.5,\n",
        "          6.5,          3.0,           5.0,          2.0)\n",
        "\n",
        "my_model %>% predict(my_test)"
      ],
      "id": "2cc67a8a-8ce0-49a4-b7d9-209e37f12d3a"
    },
    {
      "cell_type": "code",
      "execution_count": null,
      "metadata": {},
      "outputs": [],
      "source": [
        "my_model %>% predict(my_test,\n",
        "                     type = \"prob\")"
      ],
      "id": "fe8b23b2-7399-45b5-b0be-f8a0450f7410"
    },
    {
      "id": "1fb8d908",
      "cell_type": "markdown",
      "source": "## 9.3 \u6b63\u89e3\u7387",
      "metadata": {}
    },
    {
      "cell_type": "code",
      "execution_count": null,
      "metadata": {},
      "outputs": [],
      "source": [
        "library(caret)\n",
        "library(tidyverse)\n",
        "my_data <- iris\n",
        "my_model <- train(form = Species ~ ., data = my_data, method = \"rpart2\")\n",
        "\n",
        "y  <- my_data$Species\n",
        "y_ <- my_model %>% predict(my_data)\n",
        "confusionMatrix(data = y_, reference = y)\n",
        "# \u4ee5\u4e0b\u306f\u5272\u611b"
      ],
      "id": "eee7955c-5eb7-4d30-8d93-b274b818b868"
    },
    {
      "cell_type": "code",
      "execution_count": null,
      "metadata": {},
      "outputs": [],
      "source": [
        "y  <- my_data$Species\n",
        "y_ <- my_model %>% predict(my_data)\n",
        "mean(y_ == y)"
      ],
      "id": "af361aa3-aa43-4ca4-96ac-4c96e1ef58bd"
    },
    {
      "cell_type": "code",
      "execution_count": null,
      "metadata": {},
      "outputs": [],
      "source": [
        "my_model <- train(form = Species ~ ., data = my_data, method = \"rpart2\",\n",
        "                  trControl = trainControl(method = \"LOOCV\"))\n",
        "my_model$results"
      ],
      "id": "f796a046-c764-4195-aa12-e5a8ebc5f063"
    },
    {
      "cell_type": "code",
      "execution_count": null,
      "metadata": {},
      "outputs": [],
      "source": [
        "my_model <- train(form = Species ~ ., data = my_data, method = \"rpart2\",\n",
        "                  tuneGrid = data.frame(maxdepth = 1:10),\n",
        "                  trControl = trainControl(method = \"LOOCV\"))\n",
        "my_model$results %>% filter(Accuracy == max(Accuracy))"
      ],
      "id": "ec7c6db8-f311-4ac4-b4d4-653a252c2520"
    },
    {
      "cell_type": "code",
      "execution_count": null,
      "metadata": {},
      "outputs": [],
      "source": [
        "# \u30d1\u30e9\u30e1\u30fc\u30bf\u3092\u4e0e\u3048\u308b\u3068\u6b63\u89e3\u7387\uff08LOOCV\uff09\u3092\u8fd4\u3059\u95a2\u6570\n",
        "my_loocv <- function(maxdepth, minbucket, minsplit) {\n",
        "  my_model <- train(form = Species ~ ., data = my_data, method = \"rpart2\",\n",
        "                    trControl = trainControl(method = \"LOOCV\"),\n",
        "                    tuneGrid = data.frame(maxdepth = maxdepth),\n",
        "                    control = rpart::rpart.control(cp = 0.01,\n",
        "                                                   minbucket = minbucket,\n",
        "                                                   minsplit = minsplit))\n",
        "  list(maxdepth = maxdepth,\n",
        "       minbucket = minbucket,\n",
        "       minsplit = minsplit,\n",
        "       Accuracy = my_model$results$Accuracy)\n",
        "}"
      ],
      "id": "b10e6c14-9100-4293-b7f6-08414b8e2105"
    },
    {
      "cell_type": "code",
      "execution_count": null,
      "metadata": {},
      "outputs": [],
      "source": [
        "my_params <- expand.grid(\n",
        "  maxdepth = 2:5,\n",
        "  minbucket = 1:7,\n",
        "  minsplit = c(2, 20))\n",
        "\n",
        "library(furrr)\n",
        "plan(multisession) # \u4e26\u5217\u51e6\u7406\u306e\u6e96\u5099\n",
        "my_results <- my_params %>% future_pmap_dfr(my_loocv, # \u5b9f\u884c\n",
        "  .options = furrr_options(seed = TRUE))\n",
        "\n",
        "my_results %>% filter(Accuracy == max(Accuracy)) # \u6b63\u89e3\u7387\uff08\u691c\u8a3c\uff09\u306e\u6700\u5927\u5024"
      ],
      "id": "7140f3d5-6ada-4b0c-a04f-d302e0c3be17"
    },
    {
      "cell_type": "code",
      "execution_count": null,
      "metadata": {},
      "outputs": [],
      "source": [
        "my_model <- train(form = Species ~ ., data = my_data, method = \"rpart2\",\n",
        "                  trControl = trainControl(method = \"none\"),\n",
        "                  tuneGrid = data.frame(maxdepth = 3),\n",
        "                  control = rpart::rpart.control(cp = 0.01,\n",
        "                                                 minbucket = 5,\n",
        "                                                 minsplit = 2))"
      ],
      "id": "8b535983-5fe1-4b90-90ae-0c33366a14d6"
    },
    {
      "cell_type": "code",
      "execution_count": null,
      "metadata": {},
      "outputs": [],
      "source": [
        "rpart.plot::rpart.plot(\n",
        "  my_model$finalModel, extra = 1)"
      ],
      "id": "dd760ded-639e-415c-8d28-ea5bf066ca44"
    },
    {
      "id": "ea96e629",
      "cell_type": "markdown",
      "source": "## 9.4 \u8907\u6570\u306e\u6728\u3092\u4f7f\u3046\u65b9\u6cd5",
      "metadata": {}
    },
    {
      "cell_type": "code",
      "execution_count": null,
      "metadata": {},
      "outputs": [],
      "source": [
        "library(caret)\n",
        "library(tidyverse)\n",
        "my_data <- iris\n",
        "\n",
        "my_model <- train(form = Species ~ ., data = my_data, method = \"rf\",\n",
        "                  tuneGrid = data.frame(mtry = 2:4), # \u7701\u7565\u53ef\n",
        "                  trControl = trainControl(method = \"LOOCV\"))\n",
        "my_model$results"
      ],
      "id": "f1829f74-6802-4adb-8535-0387d99bafdc"
    },
    {
      "cell_type": "code",
      "execution_count": null,
      "metadata": {},
      "outputs": [],
      "source": [
        "my_model <- train(\n",
        "  form = Species ~ ., data = my_data, method = \"xgbTree\",\n",
        "  tuneGrid = expand.grid(\n",
        "    nrounds          = c(50, 100, 150),\n",
        "    max_depth        = c(1, 2, 3),\n",
        "    eta              = c(0.3, 0.4),\n",
        "    gamma            = 0,\n",
        "    colsample_bytree = c(0.6, 0.8),\n",
        "    min_child_weight = 1,\n",
        "    subsample        = c(0.5, 0.75, 1)),\n",
        "  trControl = trainControl(method = \"cv\", number = 5)) # 5\u5206\u5272\u4ea4\u5dee\u691c\u8a3c\n",
        "my_model$results %>% filter(Accuracy == max(Accuracy)) %>% head(5) %>% t"
      ],
      "id": "4c689c76-b84e-4219-be03-244c58fda649"
    },
    {
      "cell_type": "code",
      "execution_count": null,
      "metadata": {},
      "outputs": [],
      "source": [
        "my_model <- train(form = Species ~ ., data = my_data, method = \"rf\")\n",
        "ggplot(varImp(my_model))"
      ],
      "id": "884afe0a-8d58-4d4d-b9ff-0e0ca635398d"
    },
    {
      "id": "88aa8e0d",
      "cell_type": "markdown",
      "source": "## 9.5 \u6b20\u640d\u306e\u3042\u308b\u30c7\u30fc\u30bf\u3067\u306e\u5b66\u7fd2",
      "metadata": {}
    },
    {
      "cell_type": "code",
      "execution_count": null,
      "metadata": {},
      "outputs": [],
      "source": [
        "library(caret)\n",
        "library(tidyverse)\n",
        "my_data <- iris\n",
        "\n",
        "n <- nrow(my_data)\n",
        "my_data$Petal.Length[0:(n - 1) %% 10 == 0] <- NA\n",
        "my_data$Petal.Width[ 0:(n - 1) %% 10 == 1] <- NA\n",
        "\n",
        "psych::describe(my_data) # n\u306e\u5024\u304c135\u306e\u5909\u6570\u306b\uff0c150 - 135 = 15\u500b\u306e\u6b20\u640d\u304c\u3042\u308b\uff0e"
      ],
      "id": "831e3f46-3e5d-4061-8da1-3db486f81c0a"
    },
    {
      "cell_type": "code",
      "execution_count": null,
      "metadata": {},
      "outputs": [],
      "source": [
        "my_model <- train(\n",
        "  form = Species ~ ., data = my_data, method = \"rpart2\",\n",
        "  na.action = na.pass,         # \u6b20\u640d\u304c\u3042\u3063\u3066\u3082\u5b66\u7fd2\u3092\u6b62\u3081\u306a\u3044\uff0e\n",
        "  preProcess = \"medianImpute\", # \u6b20\u640d\u3092\u4e2d\u592e\u5024\u3067\u57cb\u3081\u308b\uff0e\n",
        "  trControl = trainControl(method = \"LOOCV\"),\n",
        "  tuneGrid = data.frame(maxdepth = 20),          # \u6728\u306e\u9ad8\u3055\u306e\u4e0a\u9650\n",
        "  control = rpart::rpart.control(minsplit = 2,   # \u5206\u5c90\u306e\u6761\u4ef6\n",
        "                                 minbucket = 1)) # \u7d42\u7aef\u30ce\u30fc\u30c9\u306e\u6761\u4ef6\n",
        "max(my_model$results$Accuracy)"
      ],
      "id": "af45e1f5-ff4a-4438-ac5e-da6d56bbe919"
    },
    {
      "cell_type": "code",
      "execution_count": null,
      "metadata": {},
      "outputs": [],
      "source": [
        "my_model <- train(form = Species ~ ., data = my_data, method = \"xgbTree\",\n",
        "                  na.action = na.pass,\n",
        "                  trControl = trainControl(method = \"cv\", number = 5))\n",
        "max(my_model$results$Accuracy)"
      ],
      "id": "994c8c75-9898-451a-a84f-056546af9095"
    },
    {
      "id": "75319d18",
      "cell_type": "markdown",
      "source": "## 9.6 \u4ed6\u306e\u5206\u985e\u624b\u6cd5",
      "metadata": {}
    },
    {
      "cell_type": "code",
      "execution_count": null,
      "metadata": {},
      "outputs": [],
      "source": [
        "library(caret)\n",
        "library(tidyverse)\n",
        "my_data <- iris\n",
        "\n",
        "my_model <- train(form = Species ~ ., data = my_data, method = \"knn\",\n",
        "                  trControl = trainControl(method = \"LOOCV\"))\n",
        "my_model$results %>% filter(Accuracy == max(Accuracy))"
      ],
      "id": "2f130466-b390-48a2-9ca4-d429ad3a49f7"
    },
    {
      "cell_type": "code",
      "execution_count": null,
      "metadata": {},
      "outputs": [],
      "source": [
        "library(caret)\n",
        "library(tidyverse)\n",
        "my_data <- iris\n",
        "\n",
        "my_model <- train(form = Species ~ ., data = my_data, method = \"nnet\",\n",
        "                  preProcess = c(\"center\", \"scale\"), # \u6a19\u6e96\u5316\n",
        "                  trControl = trainControl(method = \"LOOCV\"),\n",
        "                  trace = FALSE) # \u9014\u4e2d\u7d4c\u904e\u3092\u8868\u793a\u3057\u306a\u3044\n",
        "my_model$results %>% filter(Accuracy == max(Accuracy))"
      ],
      "id": "cfe2ebe0-b16c-485b-b6df-82c85a8fdab1"
    },
    {
      "id": "f72a62f7",
      "cell_type": "markdown",
      "source": "# 10 \u5206\u985e2\uff082\u5024\u5206\u985e\uff09",
      "metadata": {}
    },
    {
      "cell_type": "code",
      "execution_count": null,
      "metadata": {},
      "outputs": [],
      "source": [
        "# Google Colaboratory\u306e\u74b0\u5883\u8a2d\u5b9a\n",
        "if (Sys.getenv(\"COLAB_JUPYTER_IP\") != \"\") {\n",
        "  options(Ncpus = parallel::detectCores())\n",
        "  installed_packages <- rownames(installed.packages())\n",
        "  packages_to_install <- c(\"caret\", \"PRROC\", \"rpart.plot\")\n",
        "  install.packages(setdiff(packages_to_install, installed_packages))\n",
        "}"
      ],
      "id": "9b0fa8cc-2cc9-452e-ac94-7739322199c1"
    },
    {
      "id": "f4b0e2fe",
      "cell_type": "markdown",
      "source": "## 10.1 2\u5024\u5206\u985e\u306e\u6027\u80fd\u6307\u6a19",
      "metadata": {}
    },
    {
      "cell_type": "code",
      "execution_count": null,
      "metadata": {},
      "outputs": [],
      "source": [
        "y       <- c(  0,   1,   1,   0,   1,   0,    1,   0,   0,   1)\n",
        "y_score <- c(0.7, 0.8, 0.3, 0.4, 0.9, 0.6, 0.99, 0.1, 0.2, 0.5)"
      ],
      "id": "f25134cc-05a6-4c61-9ee2-b97b9eefb557"
    },
    {
      "cell_type": "code",
      "execution_count": null,
      "metadata": {},
      "outputs": [],
      "source": [
        "y_ <- ifelse(0.5 <= y_score, 1, 0)\n",
        "y_"
      ],
      "id": "b7c2f6c9-d48f-4b42-973a-f64e1dcb1408"
    },
    {
      "cell_type": "code",
      "execution_count": null,
      "metadata": {},
      "outputs": [],
      "source": [
        "library(caret)\n",
        "confusionMatrix(data      = as.factor(y_), # \u4e88\u6e2c\n",
        "                reference = as.factor(y),  # \u6b63\u89e3\n",
        "                positive = \"1\",            # \u300c1\u300d\u3092\u967d\u6027\u3068\u3059\u308b\uff0e\n",
        "                mode = \"everything\")       # \u5168\u3066\u306e\u6307\u6a19\u3092\u6c42\u3081\u308b\uff0e"
      ],
      "id": "db7a3cf7-0e63-463e-8e90-1da67b60b029"
    },
    {
      "id": "8a8e610f",
      "cell_type": "markdown",
      "source": "## 10.2 \u30c8\u30ec\u30fc\u30c9\u30aa\u30d5",
      "metadata": {}
    },
    {
      "cell_type": "code",
      "execution_count": null,
      "metadata": {},
      "outputs": [],
      "source": [
        "library(PRROC)\n",
        "library(tidyverse)\n",
        "\n",
        "y       <- c(  0,   1,   1,   0,   1,   0,    1,   0,   0,   1)\n",
        "y_score <- c(0.7, 0.8, 0.3, 0.4, 0.9, 0.6, 0.99, 0.1, 0.2, 0.5)\n",
        "y_      <- ifelse(0.5 <= y_score, 1, 0)\n",
        "\n",
        "c(sum((y == 0) & (y_ == 1)) / sum(y == 0), # FPR\n",
        "  sum((y == 1) & (y_ == 1)) / sum(y == 1)) # TPR"
      ],
      "id": "0e1cb64d-36df-49ca-b307-e0b20744051b"
    },
    {
      "cell_type": "code",
      "execution_count": null,
      "metadata": {},
      "outputs": [],
      "source": [
        "my_roc <- roc.curve(scores.class0 = y_score[y == 1], # \u7b54\u3048\u304c1\u306e\u3082\u306e\u306e\u30b9\u30b3\u30a2\n",
        "                    scores.class1 = y_score[y == 0], # \u7b54\u3048\u304c0\u306e\u3082\u306e\u306e\u30b9\u30b3\u30a2\n",
        "                    curve = TRUE)\n",
        "my_roc %>% plot(xlab = \"False Positive Rate\",\n",
        "                ylab = \"True Positive Rate\",\n",
        "                legend = FALSE)"
      ],
      "id": "db631367-9dc1-46b3-a79f-09ee270a073b"
    },
    {
      "cell_type": "code",
      "execution_count": null,
      "metadata": {},
      "outputs": [],
      "source": [
        "my_roc$auc"
      ],
      "id": "35d72298-5833-457a-bdd1-7e8bb8ba7f6c"
    },
    {
      "cell_type": "code",
      "execution_count": null,
      "metadata": {},
      "outputs": [],
      "source": [
        "c(sum((y == 1) & (y_ == 1)) / sum(y  == 1), # Recall == TPR\n",
        "  sum((y == 1) & (y_ == 1)) / sum(y_ == 1)) # Precision"
      ],
      "id": "1965a2c2-2417-4e61-a6dd-439557afc8a0"
    },
    {
      "cell_type": "code",
      "execution_count": null,
      "metadata": {},
      "outputs": [],
      "source": [
        "my_pr <- pr.curve(scores.class0 = y_score[y == 1],\n",
        "                  scores.class1 = y_score[y == 0],\n",
        "                  curve = TRUE)\n",
        "my_pr %>% plot(xlab = \"Recall\",\n",
        "               ylab = \"Precision\",\n",
        "               legend = FALSE)"
      ],
      "id": "8ff4f2e1-b54b-4ace-a672-523d32dd48f7"
    },
    {
      "cell_type": "code",
      "execution_count": null,
      "metadata": {},
      "outputs": [],
      "source": [
        "my_pr$auc.integral"
      ],
      "id": "e55358f6-7b57-465c-ab0c-8241ce69df38"
    },
    {
      "id": "0b6b3fca",
      "cell_type": "markdown",
      "source": "## 10.3 \u30bf\u30a4\u30bf\u30cb\u30c3\u30af",
      "metadata": {}
    },
    {
      "cell_type": "code",
      "execution_count": null,
      "metadata": {},
      "outputs": [],
      "source": [
        "library(caret)\n",
        "library(PRROC)\n",
        "library(tidyverse)\n",
        "\n",
        "my_url <- str_c(\"https://raw.githubusercontent.com/taroyabuki\",\n",
        "                \"/fromzero/master/data/titanic.csv\")\n",
        "my_data <- read_csv(my_url)"
      ],
      "id": "b153de30-5e8d-43bf-b049-7257bacae8b4"
    },
    {
      "cell_type": "code",
      "execution_count": null,
      "metadata": {},
      "outputs": [],
      "source": [
        "head(my_data)"
      ],
      "id": "4d8fcb72-aee4-48b1-8dc3-1b3dffe16cfd"
    },
    {
      "cell_type": "code",
      "execution_count": null,
      "metadata": {},
      "outputs": [],
      "source": [
        "my_model <- train(form = Survived ~ ., data = my_data, method = \"rpart2\",\n",
        "                  tuneGrid = data.frame(maxdepth = 2),\n",
        "                  trControl = trainControl(method = \"LOOCV\"))"
      ],
      "id": "f1eb2b30-b928-4f4b-b3e9-a0f44cb15636"
    },
    {
      "cell_type": "code",
      "execution_count": null,
      "metadata": {},
      "outputs": [],
      "source": [
        "rpart.plot::rpart.plot(my_model$finalModel, extra = 1)"
      ],
      "id": "49736f9f-d3f5-4e7c-b5c6-3480ad5daca0"
    },
    {
      "cell_type": "code",
      "execution_count": null,
      "metadata": {},
      "outputs": [],
      "source": [
        "my_model$results"
      ],
      "id": "6289c409-1387-444c-8a87-35a457e78d07"
    },
    {
      "cell_type": "code",
      "execution_count": null,
      "metadata": {},
      "outputs": [],
      "source": [
        "y <- my_data$Survived\n",
        "tmp <- my_model %>% predict(newdata = my_data, type = \"prob\")\n",
        "y_score <- tmp$Yes\n",
        "\n",
        "my_roc <- roc.curve(scores.class0 = y_score[y == \"Yes\"],\n",
        "                    scores.class1 = y_score[y == \"No\"],\n",
        "                    curve = TRUE)\n",
        "my_roc$auc\n",
        "\n",
        "my_roc %>% plot(xlab = \"False Positive Rate\",\n",
        "                ylab = \"True Positive Rate\",\n",
        "                legend = FALSE)"
      ],
      "id": "422f1497-4423-43fb-8a7e-45e4114fe66f"
    },
    {
      "cell_type": "code",
      "execution_count": null,
      "metadata": {},
      "outputs": [],
      "source": [
        "X <- my_data %>% select(Class) # \u8cea\u7684\u5165\u529b\u5909\u6570\n",
        "y <- my_data$Survived          # \u51fa\u529b\u5909\u6570\n",
        "\n",
        "options(warn = -1) # \u3053\u308c\u4ee5\u964d\uff0c\u8b66\u544a\u3092\u8868\u793a\u3057\u306a\u3044\uff0e\n",
        "my_model1 <- train(x = X, y = y, method = \"rpart2\",\n",
        "                   tuneGrid = data.frame(maxdepth = 2),\n",
        "                   trControl = trainControl(method = \"LOOCV\"))\n",
        "options(warn = 0)  # \u3053\u308c\u4ee5\u964d\uff0c\u8b66\u544a\u3092\u8868\u793a\u3059\u308b\uff0e\n",
        "\n",
        "rpart.plot::rpart.plot(my_model1$finalModel, extra = 1)\n",
        "my_model1$results"
      ],
      "id": "c074a8b7-1703-4cb2-a002-4e524c66b541"
    },
    {
      "cell_type": "code",
      "execution_count": null,
      "metadata": {},
      "outputs": [],
      "source": [
        "my_enc <- my_data %>% dummyVars(formula = Survived ~ Class)\n",
        "my_data2 <- my_enc %>%\n",
        "  predict(my_data) %>%\n",
        "  as.data.frame %>%\n",
        "  mutate(Survived = my_data$Survived)\n",
        "\n",
        "my_model2 <- train(form = Survived ~ ., data = my_data2, method = \"rpart2\",\n",
        "                   tuneGrid = data.frame(maxdepth = 2),\n",
        "                   trControl = trainControl(method = \"LOOCV\"))\n",
        "rpart.plot::rpart.plot(my_model2$finalModel, extra = 1)\n",
        "my_model2$results"
      ],
      "id": "66e9b368-0134-4acb-bf21-73af5a13b707"
    },
    {
      "cell_type": "code",
      "execution_count": null,
      "metadata": {},
      "outputs": [],
      "source": [
        "my_model3 <- train(form = Survived ~ Class, data = my_data, method = \"rpart2\",\n",
        "                   tuneGrid = data.frame(maxdepth = 2),\n",
        "                   trControl = trainControl(method = \"LOOCV\"))\n",
        "rpart.plot::rpart.plot(my_model3$finalModel, extra = 1)\n",
        "my_model3$results"
      ],
      "id": "93fad7d6-0022-446f-b970-cd847ecb57b1"
    },
    {
      "id": "1ebfff2f",
      "cell_type": "markdown",
      "source": "## 10.4 \u30ed\u30b8\u30b9\u30c6\u30a3\u30c3\u30af\u56de\u5e30",
      "metadata": {}
    },
    {
      "cell_type": "code",
      "execution_count": null,
      "metadata": {},
      "outputs": [],
      "source": [
        "curve(1 / (1 + exp(-x)), -6, 6)"
      ],
      "id": "3a7efec6-5551-432c-8ca4-18f9674c6fa2"
    },
    {
      "cell_type": "code",
      "execution_count": null,
      "metadata": {},
      "outputs": [],
      "source": [
        "library(caret)\n",
        "library(PRROC)\n",
        "library(tidyverse)\n",
        "\n",
        "my_url <- str_c(\"https://raw.githubusercontent.com/taroyabuki\",\n",
        "                \"/fromzero/master/data/titanic.csv\")\n",
        "my_data <- read_csv(my_url)\n",
        "\n",
        "my_model <- train(form = Survived ~ ., data = my_data, method = \"glm\",\n",
        "                  trControl = trainControl(method = \"LOOCV\"))"
      ],
      "id": "2e9fe69c-5b81-45ff-9049-762e99b76daf"
    },
    {
      "cell_type": "code",
      "execution_count": null,
      "metadata": {},
      "outputs": [],
      "source": [
        "coef(my_model$finalModel) %>%\n",
        "  as.data.frame"
      ],
      "id": "f4672cdd-bdf6-46c8-9389-1eca0b24ad9d"
    },
    {
      "cell_type": "code",
      "execution_count": null,
      "metadata": {},
      "outputs": [],
      "source": [
        "my_model$results"
      ],
      "id": "837501e4-fc86-4160-aa53-d16a631a99c2"
    },
    {
      "id": "e33ca120",
      "cell_type": "markdown",
      "source": "# 11 \u6df1\u5c64\u5b66\u7fd2\u3068AutoML",
      "metadata": {}
    },
    {
      "cell_type": "code",
      "execution_count": null,
      "metadata": {},
      "outputs": [],
      "source": [
        "# Google Colaboratory\u306e\u74b0\u5883\u8a2d\u5b9a\n",
        "if (Sys.getenv(\"COLAB_JUPYTER_IP\") != \"\") {\n",
        "  options(Ncpus = parallel::detectCores())\n",
        "  installed_packages <- rownames(installed.packages())\n",
        "  packages_to_install <- c(\"h2o\", \"keras3\")\n",
        "  install.packages(setdiff(packages_to_install, installed_packages))\n",
        "}"
      ],
      "id": "fe4601cb-2858-47c2-85de-2a42245f958c"
    },
    {
      "id": "bb8e4cd1",
      "cell_type": "markdown",
      "source": "## 11.1 Keras\u306b\u3088\u308b\u56de\u5e30",
      "metadata": {}
    },
    {
      "cell_type": "code",
      "execution_count": null,
      "metadata": {},
      "outputs": [],
      "source": [
        "if (Sys.getenv(\"COLAB_JUPYTER_IP\") != \"\") {\n",
        "  library(keras3)\n",
        "} else {\n",
        "  library(keras)\n",
        "}\n",
        "library(tidyverse)\n",
        "my_url <- str_c(\"https://raw.githubusercontent.com/taroyabuki\",\n",
        "                \"/fromzero/master/data/wine.csv\")\n",
        "tmp <- read_csv(my_url)"
      ],
      "id": "e3ddf3c4-4f3c-4fc1-8ba1-abea16d830bc"
    },
    {
      "cell_type": "code",
      "execution_count": null,
      "metadata": {},
      "outputs": [],
      "source": [
        "my_data <- tmp[sample(nrow(tmp)), ]"
      ],
      "id": "5507bbf1-790d-4258-9b0c-2958fdca305a"
    },
    {
      "cell_type": "code",
      "execution_count": null,
      "metadata": {},
      "outputs": [],
      "source": [
        "X <- my_data %>%\n",
        "  select(-LPRICE2) %>% scale\n",
        "y <- my_data$LPRICE2"
      ],
      "id": "864ca0b8-c65c-4d2d-ae27-5ab61f61f56c"
    },
    {
      "cell_type": "code",
      "execution_count": null,
      "metadata": {},
      "outputs": [],
      "source": [
        "curve(activation_relu(x), -3, 3)"
      ],
      "id": "182ad664-6f8b-408a-abf8-3b5de5e844bb"
    },
    {
      "cell_type": "code",
      "execution_count": null,
      "metadata": {},
      "outputs": [],
      "source": [
        "my_model <- keras_model_sequential() %>%\n",
        "  layer_dense(units = 3, activation = \"relu\", input_shape = c(4)) %>%\n",
        "  layer_dense(units = 1)\n",
        "\n",
        "summary(my_model) # \u30cd\u30c3\u30c8\u30ef\u30fc\u30af\u306e\u6982\u8981\n",
        "# \u5272\u611b\uff08Python\u306e\u7d50\u679c\u3092\u53c2\u7167\uff09"
      ],
      "id": "a5533009-e822-4574-8caa-14be9418fdae"
    },
    {
      "cell_type": "code",
      "execution_count": null,
      "metadata": {},
      "outputs": [],
      "source": [
        "my_model %>% compile(\n",
        "  loss = \"mse\",\n",
        "  optimizer = \"rmsprop\")"
      ],
      "id": "b73d79ab-d3e8-454e-a45b-922e257f8dfd"
    },
    {
      "cell_type": "code",
      "execution_count": null,
      "metadata": {},
      "outputs": [],
      "source": [
        "my_cb <- callback_early_stopping(\n",
        "  patience = 20,\n",
        "  restore_best_weights = TRUE)"
      ],
      "id": "24b41126-c71b-42e5-bfce-6393bb70d943"
    },
    {
      "cell_type": "code",
      "execution_count": null,
      "metadata": {},
      "outputs": [],
      "source": [
        "my_history <- my_model %>% fit(\n",
        "    x = X,\n",
        "    y = y,\n",
        "    validation_split = 0.25,\n",
        "    batch_size = 10,\n",
        "    epochs = 500,\n",
        "    callbacks = list(my_cb),\n",
        "    verbose = 0)"
      ],
      "id": "cc700273-6615-422e-9477-d12d492ce178"
    },
    {
      "cell_type": "code",
      "execution_count": null,
      "metadata": {},
      "outputs": [],
      "source": [
        "plot(my_history)"
      ],
      "id": "25197eda-41bb-48d1-9e94-95c0ae49daa6"
    },
    {
      "cell_type": "code",
      "execution_count": null,
      "metadata": {},
      "outputs": [],
      "source": [
        "my_history"
      ],
      "id": "4e35773a-d5ea-46a2-ae7f-edf08c2022ce"
    },
    {
      "cell_type": "code",
      "execution_count": null,
      "metadata": {},
      "outputs": [],
      "source": [
        "y_ <- my_model %>% predict(X)\n",
        "mean((y_ - y)^2)**0.5"
      ],
      "id": "0c51ea62-e6fc-4405-a56e-b96115ef0097"
    },
    {
      "id": "bda572fc",
      "cell_type": "markdown",
      "source": "## 11.2 Keras\u306b\u3088\u308b\u5206\u985e",
      "metadata": {}
    },
    {
      "cell_type": "code",
      "execution_count": null,
      "metadata": {},
      "outputs": [],
      "source": [
        "if (Sys.getenv(\"COLAB_JUPYTER_IP\") != \"\") {\n",
        "  library(keras3)\n",
        "} else {\n",
        "  library(keras)\n",
        "}\n",
        "library(tidyverse)\n",
        "my_data <- iris[sample(nrow(iris)), ]"
      ],
      "id": "5a7eb302-74ef-48c6-9f04-867d1b66d530"
    },
    {
      "cell_type": "code",
      "execution_count": null,
      "metadata": {},
      "outputs": [],
      "source": [
        "X <- my_data %>%\n",
        "  select(-Species) %>% scale\n",
        "y <- as.integer(my_data$Species) - 1"
      ],
      "id": "1bd97ec7-0d3c-454d-bca6-7fb480177d73"
    },
    {
      "cell_type": "code",
      "execution_count": null,
      "metadata": {},
      "outputs": [],
      "source": [
        "my_model <- keras_model_sequential() %>%\n",
        "  layer_dense(units = 3, activation = \"relu\", input_shape = c(4)) %>%\n",
        "  layer_dense(units = 3, activation = \"softmax\")"
      ],
      "id": "6f5445f4-44e4-477c-93b1-2bb0a01d9e3a"
    },
    {
      "cell_type": "code",
      "execution_count": null,
      "metadata": {},
      "outputs": [],
      "source": [
        "my_model %>% compile(loss = \"sparse_categorical_crossentropy\",\n",
        "                     optimizer = \"rmsprop\",\n",
        "                     metrics = c(\"accuracy\"))"
      ],
      "id": "5199a319-050e-4be4-b12e-da2ff4b2322c"
    },
    {
      "cell_type": "code",
      "execution_count": null,
      "metadata": {},
      "outputs": [],
      "source": [
        "my_cb <- callback_early_stopping(\n",
        "  patience = 20,\n",
        "  restore_best_weights = TRUE)\n",
        "\n",
        "my_history <- my_model %>%\n",
        "  fit(x = X,\n",
        "    y = y,\n",
        "    validation_split = 0.25,\n",
        "    batch_size = 10,\n",
        "    epochs = 500,\n",
        "    callbacks = list(my_cb),\n",
        "    verbose = 0)\n",
        "\n",
        "plot(my_history)"
      ],
      "id": "73fa5bbf-b6e8-42b1-b65f-760da5a62a0f"
    },
    {
      "cell_type": "code",
      "execution_count": null,
      "metadata": {},
      "outputs": [],
      "source": [
        "my_history"
      ],
      "id": "40ffd5ad-24e9-49e7-8818-82374b0c132c"
    },
    {
      "cell_type": "code",
      "execution_count": null,
      "metadata": {},
      "outputs": [],
      "source": [
        "tmp <- my_model %>% predict(X)\n",
        "y_ <- apply(tmp, 1, which.max) - 1\n",
        "mean(y_ == y)"
      ],
      "id": "76816b7d-ed4d-46f5-996f-27bcb0965f0b"
    },
    {
      "cell_type": "code",
      "execution_count": null,
      "metadata": {},
      "outputs": [],
      "source": [
        "-mean(log(c(0.8, 0.7, 0.3, 0.8)))\n",
        "\n",
        "-mean(log(c(0.7, 0.6, 0.2, 0.7)))"
      ],
      "id": "8a4ee9f6-e4f1-4b95-aea0-f155f6be1e39"
    },
    {
      "cell_type": "code",
      "execution_count": null,
      "metadata": {},
      "outputs": [],
      "source": [
        "y <- c(2, 1, 0, 1)\n",
        "y_1 <- rbind(c(0.1, 0.1, 0.8),\n",
        "             c(0.1, 0.7, 0.2),\n",
        "             c(0.3, 0.4, 0.3),\n",
        "             c(0.1, 0.8, 0.1))\n",
        "y_2 <- rbind(c(0.1, 0.2, 0.7),\n",
        "             c(0.2, 0.6, 0.2),\n",
        "             c(0.2, 0.5, 0.3),\n",
        "             c(0.2, 0.7, 0.1))"
      ],
      "id": "333d1488-5868-4372-8f1a-ec97eb6be7f3"
    },
    {
      "cell_type": "code",
      "execution_count": null,
      "metadata": {},
      "outputs": [],
      "source": [
        "c(mean(as.array(loss_sparse_categorical_crossentropy(y_true = y, y_pred = y_1))),\n",
        "  mean(as.array(loss_sparse_categorical_crossentropy(y_true = y, y_pred = y_2))))"
      ],
      "id": "92d22c48-a0da-4aa6-a6d2-6f687f2a65a9"
    },
    {
      "id": "0accf792",
      "cell_type": "markdown",
      "source": "## 11.3 MNIST\uff1a\u624b\u66f8\u304d\u6570\u5b57\u306e\u5206\u985e",
      "metadata": {}
    },
    {
      "cell_type": "code",
      "execution_count": null,
      "metadata": {},
      "outputs": [],
      "source": [
        "if (Sys.getenv(\"COLAB_JUPYTER_IP\") != \"\") {\n",
        "  library(keras3)\n",
        "  keras3::`%<-%`(c(c(x_train, y_train), c(x_test, y_test)), dataset_mnist())\n",
        "} else {\n",
        "  library(keras)\n",
        "  keras::`%<-%`(c(c(x_train, y_train), c(x_test, y_test)), dataset_mnist())\n",
        "}\n",
        "# c(c(x_train, y_train), c(x_test, y_test)) %<-% dataset_mnist()\n",
        "library(tidyverse)"
      ],
      "id": "c0293063-0ec2-4258-b675-2f798ec56e34"
    },
    {
      "cell_type": "code",
      "execution_count": null,
      "metadata": {},
      "outputs": [],
      "source": [
        "dim(x_train)"
      ],
      "id": "661b69aa-25c8-46a8-b858-f7bbfe7831aa"
    },
    {
      "cell_type": "code",
      "execution_count": null,
      "metadata": {},
      "outputs": [],
      "source": [
        "x_train[5, , ]"
      ],
      "id": "c3e9f875-bbc7-4b7e-96bf-dc2cba1b4a4c"
    },
    {
      "cell_type": "code",
      "execution_count": null,
      "metadata": {},
      "outputs": [],
      "source": [
        "plot(as.raster(x = x_train[5, , ],\n",
        "               max = max(x_train)))"
      ],
      "id": "c9b343ff-8dde-47e9-a937-fd71ded7e0ca"
    },
    {
      "cell_type": "code",
      "execution_count": null,
      "metadata": {},
      "outputs": [],
      "source": [
        "head(y_train)"
      ],
      "id": "1af6009a-b093-40de-a376-54739b264ba6"
    },
    {
      "cell_type": "code",
      "execution_count": null,
      "metadata": {},
      "outputs": [],
      "source": [
        "c(min(x_train), max(x_train))"
      ],
      "id": "23b5c9c3-33dc-47aa-9234-11429f413841"
    },
    {
      "cell_type": "code",
      "execution_count": null,
      "metadata": {},
      "outputs": [],
      "source": [
        "x_train <- x_train / 255\n",
        "x_test  <- x_test  / 255"
      ],
      "id": "fdc4cb69-dfa8-44e8-b8d2-e163ec6fb08d"
    },
    {
      "cell_type": "code",
      "execution_count": null,
      "metadata": {},
      "outputs": [],
      "source": [
        "my_index <- sample(1:60000, 6000)\n",
        "x_train <- x_train[my_index, , ]\n",
        "y_train <- y_train[my_index]"
      ],
      "id": "1919c3a0-e1b7-4545-b358-b79fe8b69438"
    },
    {
      "cell_type": "code",
      "execution_count": null,
      "metadata": {},
      "outputs": [],
      "source": [
        "my_model <- keras_model_sequential() %>%\n",
        "  layer_flatten(input_shape = c(28, 28)) %>%\n",
        "  layer_dense(units = 256, activation = \"relu\") %>%\n",
        "  layer_dense(units = 10, activation = \"softmax\")\n",
        "summary(my_model)\n",
        "# \u5272\u611b\uff08Python\u306e\u7d50\u679c\u3092\u53c2\u7167\uff09\n",
        "\n",
        "my_model %>% compile(loss = \"sparse_categorical_crossentropy\",\n",
        "                     optimizer = \"rmsprop\",\n",
        "                     metrics = c(\"accuracy\"))\n",
        "\n",
        "my_cb <- callback_early_stopping(patience = 5,\n",
        "                                 restore_best_weights = TRUE)"
      ],
      "id": "5698c01e-4dea-4613-9505-bee0ce35fa55"
    },
    {
      "cell_type": "code",
      "execution_count": null,
      "metadata": {},
      "outputs": [],
      "source": [
        "my_history <- my_model %>%\n",
        "  fit(x = x_train,\n",
        "      y = y_train,\n",
        "      validation_split = 0.2,\n",
        "      batch_size = 128,\n",
        "      epochs = 20,\n",
        "      callbacks = list(my_cb),\n",
        "      verbose = 0)\n",
        "\n",
        "plot(my_history)"
      ],
      "id": "275d98eb-39aa-4995-810c-6cb808b52d72"
    },
    {
      "cell_type": "code",
      "execution_count": null,
      "metadata": {},
      "outputs": [],
      "source": [
        "tmp <- my_model %>% predict(x_test)\n",
        "y_ <- apply(tmp, 1, which.max) - 1\n",
        "table(y_, y_test)"
      ],
      "id": "2bb3b719-5259-4899-b206-3f92a57051d5"
    },
    {
      "cell_type": "code",
      "execution_count": null,
      "metadata": {},
      "outputs": [],
      "source": [],
      "id": "66b6cca7-47de-4885-8604-a1deae1d3260"
    },
    {
      "cell_type": "code",
      "execution_count": null,
      "metadata": {},
      "outputs": [],
      "source": [
        "mean(y_ == y_test)"
      ],
      "id": "9e4636a7-95e5-4edb-ab49-ed8fda9d2019"
    },
    {
      "cell_type": "code",
      "execution_count": null,
      "metadata": {},
      "outputs": [],
      "source": [
        "my_model %>%\n",
        "  evaluate(x = x_test, y = y_test)"
      ],
      "id": "6d48302f-191a-4863-ab52-11f0b3c9ae2e"
    },
    {
      "cell_type": "code",
      "execution_count": null,
      "metadata": {},
      "outputs": [],
      "source": [
        "x_train2d <- x_train %>% array_reshape(c(-1, 28, 28, 1))\n",
        "x_test2d  <- x_test  %>% array_reshape(c(-1, 28, 28, 1))"
      ],
      "id": "da519e8e-141a-41dd-aad8-17d4c3615341"
    },
    {
      "cell_type": "code",
      "execution_count": null,
      "metadata": {},
      "outputs": [],
      "source": [
        "my_model <- keras_model_sequential() %>%\n",
        "  layer_conv_2d(filters = 32, kernel_size = 3,  # \u7573\u307f\u8fbc\u307f\u5c64\n",
        "                activation = \"relu\",\n",
        "                input_shape = c(28, 28, 1)) %>%\n",
        "  layer_max_pooling_2d(pool_size = 2) %>%       # \u30d7\u30fc\u30ea\u30f3\u30b0\u5c64\n",
        "  layer_flatten() %>%\n",
        "  layer_dense(units = 128, activation = \"relu\") %>%\n",
        "  layer_dense(units = 10, activation = \"softmax\")\n",
        "\n",
        "summary(my_model)\n",
        "# \u5272\u611b\uff08Python \u306e\u7d50\u679c\u3092\u53c2\u7167\uff09\n",
        "\n",
        "my_model %>% compile(loss = \"sparse_categorical_crossentropy\",\n",
        "                     optimizer = \"rmsprop\",\n",
        "                     metrics = c(\"accuracy\"))\n",
        "\n",
        "my_cb <- callback_early_stopping(patience = 5,\n",
        "                                 restore_best_weights = TRUE)"
      ],
      "id": "5c40d86c-dae3-4fa1-9a14-a0af6daaad59"
    },
    {
      "cell_type": "code",
      "execution_count": null,
      "metadata": {},
      "outputs": [],
      "source": [
        "my_history <- my_model %>%\n",
        "  fit(x = x_train2d,\n",
        "      y = y_train,\n",
        "      validation_split = 0.2,\n",
        "      batch_size = 128,\n",
        "      epochs = 20,\n",
        "      callbacks = list(my_cb),\n",
        "      verbose = 0)\n",
        "\n",
        "plot(my_history)"
      ],
      "id": "897ec1a3-2ee1-47ff-b1af-32322c786aa7"
    },
    {
      "cell_type": "code",
      "execution_count": null,
      "metadata": {},
      "outputs": [],
      "source": [
        "my_model %>%\n",
        "  evaluate(x = x_test2d, y = y_test)"
      ],
      "id": "d89f8ff1-e95f-4f74-86fc-41aa29eb1e5b"
    },
    {
      "cell_type": "code",
      "execution_count": null,
      "metadata": {},
      "outputs": [],
      "source": [
        "my_model <- keras_model_sequential() %>%\n",
        "  layer_conv_2d(filters = 20, kernel_size = 5, activation = \"relu\",\n",
        "                input_shape = c(28, 28, 1)) %>%\n",
        "  layer_max_pooling_2d(pool_size = 2, strides = 2) %>%\n",
        "  layer_conv_2d(filters = 50, kernel_size = 5, activation = \"relu\") %>%\n",
        "  layer_max_pooling_2d(pool_size = 2, strides = 2) %>%\n",
        "  layer_dropout(rate = 0.25) %>%\n",
        "  layer_flatten() %>%\n",
        "  layer_dense(units = 500, activation = \"relu\") %>%\n",
        "  layer_dropout(rate = 0.5) %>%\n",
        "  layer_dense(units = 10, activation = \"softmax\")\n",
        "\n",
        "my_model %>% compile(\n",
        "  loss = \"sparse_categorical_crossentropy\",\n",
        "  optimizer = \"rmsprop\",\n",
        "  metrics = c(\"accuracy\"))\n",
        "\n",
        "my_cb <- callback_early_stopping(patience = 5,\n",
        "                                 restore_best_weights = TRUE)"
      ],
      "id": "0ba15612-7125-4ce5-8d1d-b403965446f6"
    },
    {
      "cell_type": "code",
      "execution_count": null,
      "metadata": {},
      "outputs": [],
      "source": [
        "my_history <- my_model %>%\n",
        "  fit(x = x_train2d,\n",
        "      y = y_train,\n",
        "      validation_split = 0.2,\n",
        "      batch_size = 128,\n",
        "      epochs = 20,\n",
        "      callbacks = list(my_cb),\n",
        "      verbose = 0)\n",
        "\n",
        "plot(my_history)"
      ],
      "id": "2c6e09f4-115a-4cae-926d-bca6e4a21175"
    },
    {
      "cell_type": "code",
      "execution_count": null,
      "metadata": {},
      "outputs": [],
      "source": [
        "my_model %>%\n",
        "  evaluate(x = x_test2d, y = y_test)"
      ],
      "id": "dfc798e5-d4f6-4a26-9173-e1e32e7f5f2a"
    },
    {
      "cell_type": "code",
      "execution_count": null,
      "metadata": {},
      "outputs": [],
      "source": [
        "y_prob <- my_model %>% predict(x_test2d) # \u30ab\u30c6\u30b4\u30ea\u306b\u5c5e\u3059\u308b\u78ba\u7387\n",
        "\n",
        "my_result <- data.frame(\n",
        "  y_prob = apply(y_prob, 1, max),           # \u78ba\u7387\u306e\u6700\u5927\u5024\n",
        "  y_     = apply(y_prob, 1, which.max) - 1, # \u4e88\u6e2c\u30ab\u30c6\u30b4\u30ea\n",
        "  y      = y_test,                          # \u6b63\u89e3\n",
        "  id     = seq_len(length(y_test))) %>%     # \u756a\u53f7\n",
        "  filter(y_ != y) %>%                       # \u4e88\u6e2c\u304c\u306f\u305a\u308c\u305f\u3082\u306e\u3092\u6b8b\u3059\n",
        "  arrange(desc(y_prob))                     # \u78ba\u7387\u306e\u5927\u304d\u3044\u9806\u306b\u4e26\u3073\u66ff\u3048\u308b"
      ],
      "id": "f1ab0d30-52f5-4c9a-a27b-f66909544c6b"
    },
    {
      "cell_type": "code",
      "execution_count": null,
      "metadata": {},
      "outputs": [],
      "source": [
        "head(my_result)"
      ],
      "id": "c5139f90-058f-401f-b641-cf0647542692"
    },
    {
      "cell_type": "code",
      "execution_count": null,
      "metadata": {},
      "outputs": [],
      "source": [
        "tmp <- my_result[1:5, ]$id\n",
        "my_labels <- sprintf(\"%s (%s)\",\n",
        "  my_result[1:5, ]$y, tmp)\n",
        "my_fig <- expand.grid(\n",
        "  label = my_labels,\n",
        "  y = 28:1,\n",
        "  x = 1:28)\n",
        "my_fig$z <- as.vector(\n",
        "  x_test[tmp, , ])\n",
        "\n",
        "my_fig %>% ggplot(\n",
        "  aes(x = x, y = y, fill = z)) +\n",
        "  geom_raster() +\n",
        "  coord_fixed() +\n",
        "  theme_void() +\n",
        "  theme(legend.position = \"none\") +\n",
        "  facet_grid(. ~ label)"
      ],
      "id": "668a89c8-bafb-462c-aba8-737003a51d22"
    },
    {
      "id": "52691619",
      "cell_type": "markdown",
      "source": "## 11.4 AutoML",
      "metadata": {}
    },
    {
      "cell_type": "code",
      "execution_count": null,
      "metadata": {},
      "outputs": [],
      "source": [
        "library(h2o)\n",
        "if (Sys.getenv(\"COLAB_JUPYTER_IP\") != \"\") {\n",
        "  library(keras3)\n",
        "} else {\n",
        "  library(keras)\n",
        "}\n",
        "library(tidyverse)\n",
        "\n",
        "h2o.init()\n",
        "h2o.no_progress()\n",
        "# h2o.shutdown(prompt = FALSE) # \u505c\u6b62"
      ],
      "id": "1eab771c-c61d-4326-8e84-233f6df0c5c7"
    },
    {
      "cell_type": "code",
      "execution_count": null,
      "metadata": {},
      "outputs": [],
      "source": [
        "my_url <- str_c(\"https://raw.githubusercontent.com/taroyabuki\",\n",
        "                \"/fromzero/master/data/wine.csv\")\n",
        "my_data <- read_csv(my_url)\n",
        "my_frame <- as.h2o(my_data) # \u901a\u5e38\u306e\u30c7\u30fc\u30bf\u30d5\u30ec\u30fc\u30e0\u3092H2OFrame\u306b\u5909\u63db\u3059\u308b\uff0e\n",
        "# \u3042\u308b\u3044\u306f\n",
        "my_frame <- h2o.importFile(my_url, header = TRUE) # \u30c7\u30fc\u30bf\u3092\u8aad\u307f\u8fbc\u3080\uff0e"
      ],
      "id": "3fd23cd1-8483-45d2-ad49-63a810c49a88"
    },
    {
      "cell_type": "code",
      "execution_count": null,
      "metadata": {},
      "outputs": [],
      "source": [
        "my_frame\n",
        "\n",
        "# \u901a\u5e38\u306e\u30c7\u30fc\u30bf\u30d5\u30ec\u30fc\u30e0\u306b\u623b\u3059\uff0e\n",
        "my_frame %>% as.data.frame %>% head\n",
        "# \u7d50\u679c\u306f\u5272\u611b\uff08\u898b\u305f\u76ee\u306f\u540c\u3058\uff09"
      ],
      "id": "c06b2f13-6e90-41aa-b6f1-268c2291d958"
    },
    {
      "cell_type": "code",
      "execution_count": null,
      "metadata": {},
      "outputs": [],
      "source": [
        "my_model <- h2o.automl(\n",
        "    y = \"LPRICE2\",\n",
        "    training_frame = my_frame,\n",
        "    max_runtime_secs = 60)"
      ],
      "id": "ea6c2470-d2dd-4c9b-bcfe-c40f2fcf9858"
    },
    {
      "cell_type": "code",
      "execution_count": null,
      "metadata": {},
      "outputs": [],
      "source": [
        "min(my_model@leaderboard$rmse)"
      ],
      "id": "498699b0-64d2-4e58-81d7-8a75be73f3f2"
    },
    {
      "cell_type": "code",
      "execution_count": null,
      "metadata": {},
      "outputs": [],
      "source": [
        "tmp <- my_model %>%\n",
        "  predict(my_frame) %>%\n",
        "  as.data.frame\n",
        "y_ <- tmp$predict\n",
        "y  <- my_data$LPRICE2\n",
        "\n",
        "plot(y, y_)"
      ],
      "id": "87c80695-e25c-49e8-93b3-4278613d0e42"
    },
    {
      "cell_type": "code",
      "execution_count": null,
      "metadata": {},
      "outputs": [],
      "source": [
        "if (Sys.getenv(\"COLAB_JUPYTER_IP\") != \"\") {\n",
        "  keras3::`%<-%`(c(c(x_train, y_train), c(x_test, y_test)), dataset_mnist())\n",
        "} else {\n",
        "  keras::`%<-%`(c(c(x_train, y_train), c(x_test, y_test)), dataset_mnist())\n",
        "}\n",
        "# c(c(x_train, y_train), c(x_test, y_test)) %<-% dataset_mnist()\n",
        "my_index <- sample(1:60000, 6000)\n",
        "x_train <- x_train[my_index, , ]\n",
        "y_train <- y_train[my_index]"
      ],
      "id": "81c9b004-d67e-4505-ba75-92e2f5e9d145"
    },
    {
      "cell_type": "code",
      "execution_count": null,
      "metadata": {},
      "outputs": [],
      "source": [
        "tmp <- x_train %>%\n",
        "  array_reshape(c(-1, 28 * 28)) %>%\n",
        "  as.data.frame\n",
        "tmp$y <- as.factor(y_train)\n",
        "my_train <- as.h2o(tmp)\n",
        "\n",
        "tmp <- x_test %>%\n",
        "  array_reshape(c(-1, 28 * 28)) %>%\n",
        "  as.data.frame\n",
        "my_test <- as.h2o(tmp)"
      ],
      "id": "62d89e47-53e3-4ee3-a3db-ce8e3082fd92"
    },
    {
      "cell_type": "code",
      "execution_count": null,
      "metadata": {},
      "outputs": [],
      "source": [
        "my_model <- h2o.automl(\n",
        "    y = \"y\",\n",
        "    training_frame = my_train,\n",
        "    max_runtime_secs = 120)"
      ],
      "id": "5be67416-9867-4dd7-a806-f38cffd536b9"
    },
    {
      "cell_type": "code",
      "execution_count": null,
      "metadata": {},
      "outputs": [],
      "source": [
        "min(my_model@leaderboard$\n",
        "    mean_per_class_error)"
      ],
      "id": "554ec03b-33d0-4f95-948f-c3f88352981a"
    },
    {
      "cell_type": "code",
      "execution_count": null,
      "metadata": {},
      "outputs": [],
      "source": [
        "tmp <- my_model %>%\n",
        "  predict(my_test) %>% as.data.frame\n",
        "y_ <- tmp$predict\n",
        "\n",
        "mean(y_ == y_test)"
      ],
      "id": "169e3aa9-7a95-4781-a4ea-0fa27974bd61"
    },
    {
      "id": "5df29dc6",
      "cell_type": "markdown",
      "source": "# 12 \u6642\u7cfb\u5217\u4e88\u6e2c",
      "metadata": {}
    },
    {
      "cell_type": "code",
      "execution_count": null,
      "metadata": {},
      "outputs": [],
      "source": [
        "# Google Colaboratory\u306e\u74b0\u5883\u8a2d\u5b9a\n",
        "if (Sys.getenv(\"COLAB_JUPYTER_IP\") != \"\") {\n",
        "  options(Ncpus = parallel::detectCores())\n",
        "  installed_packages <- rownames(installed.packages())\n",
        "  packages_to_install <- c(\"caret\", \"fable\", \"feasts\", \"prophet\", \"tsibble\", \"urca\")\n",
        "  install.packages(setdiff(packages_to_install, installed_packages))\n",
        "  install.packages(c(\"ggplot2\"))\n",
        "}"
      ],
      "id": "bf5fbc02-bb10-47f9-ac15-0955a0a83f80"
    },
    {
      "id": "c686c0ad",
      "cell_type": "markdown",
      "source": "## 12.1 \u65e5\u6642\u3068\u65e5\u6642\u306e\u5217",
      "metadata": {}
    },
    {
      "cell_type": "code",
      "execution_count": null,
      "metadata": {},
      "outputs": [],
      "source": [
        "as.POSIXct(\"2021-01-01\")"
      ],
      "id": "6836b7e6-42ff-49e0-8e9f-65e674e8efaf"
    },
    {
      "cell_type": "code",
      "execution_count": null,
      "metadata": {},
      "outputs": [],
      "source": [
        "library(tsibble)\n",
        "\n",
        "seq(from = 2021, to = 2023, by = 1)\n",
        "\n",
        "seq(from = yearmonth(\"202101\"), to = yearmonth(\"202103\"), by = 2)\n",
        "\n",
        "seq(from = as.POSIXct(\"2021-01-01\"), to = as.POSIXct(\"2021-01-03\"), by = \"1 day\")\n",
        "\n",
        "seq(from = as.POSIXct(\"2021-01-01 00:00:00\"),\n",
        "    to   = as.POSIXct(\"2021-01-01 03:00:00\"), by = \"2 hour\")"
      ],
      "id": "57c5c1b1-247b-4868-82ae-4a5818500450"
    },
    {
      "id": "ec7ece16",
      "cell_type": "markdown",
      "source": "## 12.2 \u6642\u7cfb\u5217\u30c7\u30fc\u30bf\u306e\u4e88\u6e2c",
      "metadata": {}
    },
    {
      "cell_type": "code",
      "execution_count": null,
      "metadata": {},
      "outputs": [],
      "source": [
        "my_data <- as.vector(AirPassengers)"
      ],
      "id": "0f26af5e-7867-48f5-970c-90f8dba60189"
    },
    {
      "cell_type": "code",
      "execution_count": null,
      "metadata": {},
      "outputs": [],
      "source": [
        "n <- length(my_data) # \u30c7\u30fc\u30bf\u6570\uff08144\uff09\n",
        "k <- 108             # \u8a13\u7df4\u30c7\u30fc\u30bf\u6570"
      ],
      "id": "b9521e4e-efdc-418e-a5cc-f20d705cd693"
    },
    {
      "cell_type": "code",
      "execution_count": null,
      "metadata": {},
      "outputs": [],
      "source": [
        "library(tidyverse)\n",
        "library(tsibble)\n",
        "\n",
        "my_ds <- seq(\n",
        "  from = yearmonth(\"1949/01\"),\n",
        "  to   = yearmonth(\"1960/12\"),\n",
        "  by   = 1)\n",
        "my_label <- rep(\n",
        "  c(\"train\", \"test\"),\n",
        "  c(k, n - k))\n",
        "my_df <- tsibble(\n",
        "  ds    = my_ds,\n",
        "  x     = 0:(n - 1),\n",
        "  y     = my_data,\n",
        "  label = my_label,\n",
        "  index = ds) # \u65e5\u6642\u306e\u5217\u306e\u6307\u5b9a\n",
        "\n",
        "head(my_df)"
      ],
      "id": "bffbda05-2f5e-4f34-b9a0-87440adf612d"
    },
    {
      "cell_type": "code",
      "execution_count": null,
      "metadata": {},
      "outputs": [],
      "source": [
        "my_train <- my_df[  1:k , ]\n",
        "my_test  <- my_df[-(1:k), ]\n",
        "y <- my_test$y"
      ],
      "id": "43c87b08-2b83-463d-ad97-ab233b576a90"
    },
    {
      "cell_type": "code",
      "execution_count": null,
      "metadata": {},
      "outputs": [],
      "source": [
        "my_plot <- my_df %>%\n",
        "  ggplot(aes(x = ds,\n",
        "             y = y,\n",
        "             color = label)) +\n",
        "  geom_line()\n",
        "my_plot"
      ],
      "id": "40811269-14e3-4f33-8703-9ad496218aa1"
    },
    {
      "cell_type": "code",
      "execution_count": null,
      "metadata": {},
      "outputs": [],
      "source": [
        "library(caret)\n",
        "my_lm_model <- train(form = y ~ x, data = my_train, method = \"lm\")\n",
        "y_ <- my_lm_model %>% predict(my_test)\n",
        "caret::RMSE(y, y_) # RMSE\uff08\u30c6\u30b9\u30c8\uff09"
      ],
      "id": "27d268c7-eb0c-4b35-862e-9bf7e66940f3"
    },
    {
      "cell_type": "code",
      "execution_count": null,
      "metadata": {},
      "outputs": [],
      "source": [
        "y_ <- my_lm_model %>% predict(my_df)\n",
        "tmp <- my_df %>%\n",
        "  mutate(y = y_, label = \"model\")\n",
        "my_plot + geom_line(data = tmp)"
      ],
      "id": "3c902e14-8627-4e15-a054-522f929bfc2b"
    },
    {
      "cell_type": "code",
      "execution_count": null,
      "metadata": {},
      "outputs": [],
      "source": [
        "library(fable)\n",
        "my_arima_model <- my_train %>% model(ARIMA(y))\n",
        "my_arima_model"
      ],
      "id": "82d66d99-4483-4448-9526-17a5f74b36ec"
    },
    {
      "cell_type": "code",
      "execution_count": null,
      "metadata": {},
      "outputs": [],
      "source": [
        "tmp <- my_arima_model %>% forecast(h = \"3 years\")\n",
        "head(tmp)"
      ],
      "id": "45769b7c-e614-41e1-96d8-c7c19fbe9e87"
    },
    {
      "cell_type": "code",
      "execution_count": null,
      "metadata": {},
      "outputs": [],
      "source": [
        "y_ <- tmp$.mean\n",
        "caret::RMSE(y_, y)"
      ],
      "id": "bf16b7a0-c51c-46f1-a400-3bb98c50450b"
    },
    {
      "cell_type": "code",
      "execution_count": null,
      "metadata": {},
      "outputs": [],
      "source": [
        "# \u4e88\u6e2c\u7d50\u679c\u306e\u307f\u3067\u3088\u3044\u5834\u5408\n",
        "#tmp %>% autoplot\n",
        "\n",
        "tmp %>% autoplot +\n",
        "  geom_line(data = my_df,\n",
        "            aes(x = ds,\n",
        "                y = y,\n",
        "                color = label))"
      ],
      "id": "e7307600-e438-4c53-88f6-3771469f306a"
    },
    {
      "cell_type": "code",
      "execution_count": null,
      "metadata": {},
      "outputs": [],
      "source": [
        "library(prophet)\n",
        "my_prophet_model <- my_train %>%\n",
        "  prophet(seasonality.mode = \"multiplicative\")"
      ],
      "id": "353c14d6-7a00-4dfd-8ee6-adc7f1a82989"
    },
    {
      "cell_type": "code",
      "execution_count": null,
      "metadata": {},
      "outputs": [],
      "source": [
        "tmp <- my_prophet_model %>% predict(my_test)\n",
        "head(tmp[, c(\"ds\", \"yhat\", \"yhat_lower\", \"yhat_upper\")])"
      ],
      "id": "778e8194-e481-4649-b7dd-bfff17656586"
    },
    {
      "cell_type": "code",
      "execution_count": null,
      "metadata": {},
      "outputs": [],
      "source": [
        "y_ <- tmp$yhat\n",
        "caret::RMSE(y_, y)"
      ],
      "id": "0f13e189-6ec9-4ef0-b277-42fab205d69c"
    },
    {
      "cell_type": "code",
      "execution_count": null,
      "metadata": {},
      "outputs": [],
      "source": [
        "# my_prophet_model %>% plot(tmp) # \u4e88\u6e2c\u7d50\u679c\u306e\u307f\u3067\u3088\u3044\u5834\u5408\n",
        "\n",
        "my_prophet_model %>% plot(tmp) +\n",
        "  geom_line(data = my_train, aes(x = as.POSIXct(ds))) +\n",
        "  geom_line(data = my_test,  aes(x = as.POSIXct(ds)), color = \"red\")"
      ],
      "id": "25889ba4-5c87-4006-8701-ecfdae0a3c4f"
    },
    {
      "id": "be17d875",
      "cell_type": "markdown",
      "source": "# 13 \u6559\u5e2b\u306a\u3057\u5b66\u7fd2",
      "metadata": {}
    },
    {
      "cell_type": "code",
      "execution_count": null,
      "metadata": {},
      "outputs": [],
      "source": [
        "# Google Colaboratory\u306e\u74b0\u5883\u8a2d\u5b9a\n",
        "if (Sys.getenv(\"COLAB_JUPYTER_IP\") != \"\") {\n",
        "  options(Ncpus = parallel::detectCores())\n",
        "  installed_packages <- rownames(installed.packages())\n",
        "  packages_to_install <- c(\"factoextra\", \"ggbiplot\", \"igraph\")\n",
        "  install.packages(setdiff(packages_to_install, installed_packages))\n",
        "}"
      ],
      "id": "9141ff7f-b059-494a-a89a-d4f5eea7a651"
    },
    {
      "id": "bf9f244d",
      "cell_type": "markdown",
      "source": "## 13.1 \u4e3b\u6210\u5206\u5206\u6790",
      "metadata": {}
    },
    {
      "cell_type": "code",
      "execution_count": null,
      "metadata": {},
      "outputs": [],
      "source": [
        "library(tidyverse)\n",
        "\n",
        "my_data <- data.frame(\n",
        "  language  = c(  0,  20,  20,  25,  22,  17),\n",
        "  english   = c(  0,  20,  40,  20,  24,  18),\n",
        "  math      = c(100,  20,   5,  30,  17,  25),\n",
        "  science   = c(  0,  20,   5,  25,  16,  23),\n",
        "  society   = c(  0,  20,  30,   0,  21,  17),\n",
        "  row.names = c(\"A\", \"B\", \"C\", \"D\", \"E\", \"F\"))\n",
        "my_result <- my_data %>% prcomp # \u4e3b\u6210\u5206\u5206\u6790\u306e\u5b9f\u884c"
      ],
      "id": "f7995a22-e915-4133-b830-ad3db16ef12b"
    },
    {
      "cell_type": "code",
      "execution_count": null,
      "metadata": {},
      "outputs": [],
      "source": [
        "my_result$x # \u4e3b\u6210\u5206\u30b9\u30b3\u30a2"
      ],
      "id": "7a083dfd-5a96-43d2-9295-1aa6c5fa1910"
    },
    {
      "cell_type": "code",
      "execution_count": null,
      "metadata": {},
      "outputs": [],
      "source": [
        "my_result %>% ggbiplot::ggbiplot(\n",
        "  labels = row.names(my_data),\n",
        "  scale = 0)"
      ],
      "id": "f06ae7f5-09d5-4930-85d8-de820e3d03c1"
    },
    {
      "cell_type": "code",
      "execution_count": null,
      "metadata": {},
      "outputs": [],
      "source": [
        "my_result$rotation %>% t"
      ],
      "id": "d22312eb-7123-4071-86f1-9f58b6ab9ce1"
    },
    {
      "cell_type": "code",
      "execution_count": null,
      "metadata": {},
      "outputs": [],
      "source": [
        "summary(my_result)"
      ],
      "id": "c9618235-dbc3-41a2-a683-3aa528ab8684"
    },
    {
      "cell_type": "code",
      "execution_count": null,
      "metadata": {},
      "outputs": [],
      "source": [
        "my_result <- prcomp(\n",
        "  x = my_data,\n",
        "  scale = TRUE)       # \u6a19\u6e96\u5316\n",
        "# \u3042\u308b\u3044\u306f\n",
        "my_result <- prcomp(\n",
        "  x = scale(my_data)) # \u6a19\u6e96\u5316\u30c7\u30fc\u30bf\n",
        "\n",
        "my_result$x # \u4e3b\u6210\u5206\u30b9\u30b3\u30a2"
      ],
      "id": "68dbffab-ed72-4fb4-99a7-87befebb8f69"
    },
    {
      "cell_type": "code",
      "execution_count": null,
      "metadata": {},
      "outputs": [],
      "source": [
        "Z  <- my_data %>% scale(scale = FALSE) %>% as.matrix # \u6a19\u6e96\u5316\u3057\u306a\u3044\u5834\u5408\n",
        "#Z <- my_data %>% scale(scale = TRUE)  %>% as.matrix # \u6a19\u6e96\u5316\u3059\u308b\u5834\u5408\n",
        "\n",
        "n <- nrow(my_data)\n",
        "S <- var(Z)                          # \u5206\u6563\u5171\u5206\u6563\u884c\u5217\n",
        "#S <- t(Z) %*% Z / (n - 1)           # \uff08\u540c\u3058\u7d50\u679c\uff09\n",
        "tmp <- eigen(S)                      # \u56fa\u6709\u5024\u3068\u56fa\u6709\u30d9\u30af\u30c8\u30eb\n",
        "Z %*% tmp$vectors                    # \u4e3b\u6210\u5206\u30b9\u30b3\u30a2\uff08\u7d50\u679c\u306f\u5272\u611b\uff09\n",
        "cumsum(tmp$values) / sum(tmp$values) # \u7d2f\u7a4d\u5bc4\u4e0e\u7387"
      ],
      "id": "f4ad13d2-57ba-4cdc-b5b0-1eb442a687aa"
    },
    {
      "cell_type": "code",
      "execution_count": null,
      "metadata": {},
      "outputs": [],
      "source": [
        "udv <- svd(Z) # \u7279\u7570\u5024\u5206\u89e3\n",
        "U <- udv$u\n",
        "d <- udv$d\n",
        "V <- udv$v\n",
        "W <- diag(d)\n",
        "\n",
        "c(all.equal(Z, U %*% W %*% t(V), check.attributes = FALSE), # \u78ba\u8a8d1\n",
        "  all.equal(t(U) %*% U, diag(dim(U)[2])),                   # \u78ba\u8a8d2\n",
        "  all.equal(t(V) %*% V, diag(dim(V)[2])))                   # \u78ba\u8a8d3\n",
        "\n",
        "U %*% W            # \u4e3b\u6210\u5206\u30b9\u30b3\u30a2\uff08\u7d50\u679c\u306f\u5272\u611b\uff09\n",
        "\n",
        "e <- d^2 / (n - 1) # \u5206\u6563\u5171\u5206\u6563\u884c\u5217\u306e\u56fa\u6709\u5024\n",
        "cumsum(e) / sum(e) # \u7d2f\u7a4d\u5bc4\u4e0e\u7387"
      ],
      "id": "11284124-5e4a-4279-8f53-8fac606d7d13"
    },
    {
      "id": "e8d250b7",
      "cell_type": "markdown",
      "source": "## 13.2 \u30af\u30e9\u30b9\u30bf\u5206\u6790",
      "metadata": {}
    },
    {
      "cell_type": "code",
      "execution_count": null,
      "metadata": {},
      "outputs": [],
      "source": [
        "library(tidyverse)\n",
        "\n",
        "my_data <- data.frame(\n",
        "  x         = c(  0, -16,  10,  10),\n",
        "  y         = c(  0,   0,  10, -15),\n",
        "  row.names = c(\"A\", \"B\", \"C\", \"D\"))\n",
        "\n",
        "my_result <- my_data %>%\n",
        "  dist(\"euclidian\") %>% # dist\u3060\u3051\u3067\u3082\u53ef\n",
        "  hclust(\"complete\")    # hclust\u3060\u3051\u3067\u3082\u53ef"
      ],
      "id": "baf630cb-8aab-4ee5-a1a5-df2ff6394705"
    },
    {
      "cell_type": "code",
      "execution_count": null,
      "metadata": {},
      "outputs": [],
      "source": [
        "my_result %>% factoextra::fviz_dend(\n",
        "  k = 3, # \u30af\u30e9\u30b9\u30bf\u6570\n",
        "  rect = TRUE, rect_fill = TRUE)"
      ],
      "id": "99da6ff8-5831-43d8-8f62-822011262441"
    },
    {
      "cell_type": "code",
      "execution_count": null,
      "metadata": {},
      "outputs": [],
      "source": [
        "my_result %>% factoextra::fviz_dend(\n",
        "  k = 3,\n",
        "  rect = TRUE, rect_fill = TRUE,\n",
        "  type = \"phylogenic\")"
      ],
      "id": "70b20f9b-0934-4775-8d94-f090c229e755"
    },
    {
      "cell_type": "code",
      "execution_count": null,
      "metadata": {},
      "outputs": [],
      "source": [
        "my_result %>% cutree(3)"
      ],
      "id": "4972d1e6-b74b-4b70-84cf-ce55c18a6ebc"
    },
    {
      "cell_type": "code",
      "execution_count": null,
      "metadata": {},
      "outputs": [],
      "source": [
        "library(tidyverse)\n",
        "\n",
        "my_data <- data.frame(\n",
        "  language  = c(  0,  20,  20,  25,  22,  17),\n",
        "  english   = c(  0,  20,  40,  20,  24,  18),\n",
        "  math      = c(100,  20,   5,  30,  17,  25),\n",
        "  science   = c(  0,  20,   5,  25,  16,  23),\n",
        "  society   = c(  0,  20,  30,   0,  21,  17),\n",
        "  row.names = c(\"A\", \"B\", \"C\", \"D\", \"E\", \"F\"))\n",
        "\n",
        "try( # RMarkdown\u3067\u767a\u751f\u3059\u308b\u30a8\u30e9\u30fc\u3092\u56de\u907f\u3059\u308b\uff0e\n",
        "  my_data %>% scale %>%                        # \u5217\u3054\u3068\u306e\u6a19\u6e96\u5316\n",
        "    gplots::heatmap.2(cexRow = 1, cexCol = 1), # \u30e9\u30d9\u30eb\u306e\u30b5\u30a4\u30ba\u3092\u6307\u5b9a\u3057\u3066\u63cf\u753b\u3059\u308b\uff0e\n",
        "  silent = TRUE)"
      ],
      "id": "3089e35f-8495-44f2-a616-2dda721a9f99"
    },
    {
      "cell_type": "code",
      "execution_count": null,
      "metadata": {},
      "outputs": [],
      "source": [
        "library(tidyverse)\n",
        "\n",
        "my_data <- data.frame(\n",
        "  x         = c(  0, -16,  10,  10),\n",
        "  y         = c(  0,   0,  10, -15),\n",
        "  row.names = c(\"A\", \"B\", \"C\", \"D\"))\n",
        "\n",
        "my_result <- my_data %>% kmeans(3)"
      ],
      "id": "d8a1b8c3-36c8-4a1f-957a-a0221af09a4e"
    },
    {
      "cell_type": "code",
      "execution_count": null,
      "metadata": {},
      "outputs": [],
      "source": [
        "my_result$cluster"
      ],
      "id": "443e5ca9-be30-4d63-ac16-9d7273963cdd"
    },
    {
      "cell_type": "code",
      "execution_count": null,
      "metadata": {},
      "outputs": [],
      "source": [
        "library(tidyverse)\n",
        "library(factoextra)\n",
        "\n",
        "my_data <- iris[, -5]\n",
        "\n",
        "f <- 2:5 %>% map(function(k) {\n",
        "  my_data %>% kmeans(k) %>%\n",
        "    fviz_cluster(data = my_data, geom = \"point\") +\n",
        "    ggtitle(sprintf(\"k = %s\", k))\n",
        "})\n",
        "gridExtra::grid.arrange(f[[1]], f[[2]], f[[3]], f[[4]], ncol = 2)"
      ],
      "id": "b9bace0e-cdf3-4381-8e77-effb83efc9e2"
    },
    {
      "cell_type": "code",
      "execution_count": null,
      "metadata": {},
      "outputs": [],
      "source": [
        "fviz_nbclust(my_data, kmeans, method = \"wss\")"
      ],
      "id": "9c3ab3d1-f71f-450c-a01a-93705c74a76c"
    },
    {
      "cell_type": "code",
      "execution_count": null,
      "metadata": {},
      "outputs": [],
      "source": [
        "library(tidyverse)\n",
        "my_data <- iris[, -5] %>% scale\n",
        "\n",
        "my_result <- prcomp(my_data)$x %>% as.data.frame # \u4e3b\u6210\u5206\u5206\u6790\n",
        "\n",
        "# \u975e\u968e\u5c64\u7684\u30af\u30e9\u30b9\u30bf\u5206\u6790\u306e\u5834\u5408\n",
        "my_result$cluster <- (my_data %>% scale %>% kmeans(3))$cluster %>% as.factor\n",
        "\n",
        "# \u968e\u5c64\u7684\u30af\u30e9\u30b9\u30bf\u5206\u6790\u306e\u5834\u5408\n",
        "#my_result$cluster <- my_data %>% dist %>% hclust %>% cutree(3) %>% as.factor\n",
        "\n",
        "my_result %>%\n",
        "  ggplot(aes(x = PC1, y = PC2, color = cluster)) + # \u8272\u3067\u30af\u30e9\u30b9\u30bf\u3092\u8868\u73fe\u3059\u308b\uff0e\n",
        "  geom_point(shape = iris$Species) +               # \u5f62\u3067\u54c1\u7a2e\u3092\u8868\u73fe\u3059\u308b\uff0e\n",
        "  theme(legend.position = \"none\")"
      ],
      "id": "3ee44edb-ea63-4f36-80a9-5820fddbe249"
    }
  ],
  "nbformat": 4,
  "nbformat_minor": 5,
  "metadata": {
    "kernelspec": {
      "name": "ir",
      "display_name": "R"
    }
  }
}