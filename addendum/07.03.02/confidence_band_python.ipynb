{
 "cells": [
  {
   "cell_type": "markdown",
   "id": "c5033804",
   "metadata": {},
   "source": [
    "# 予測値の期待値の信頼区間（Python側からの補足）\n",
    "\n",
    "[前提となる話](README.md)"
   ]
  },
  {
   "cell_type": "markdown",
   "id": "99f36c6c",
   "metadata": {},
   "source": [
    "0. 準備\n",
    "1. **推奨**：線形回帰モデル\n",
    "1. 参考：線形回帰モデル（ブートストラップ）\n",
    "1. **推奨**：線形正規回帰モデル（理論的な結果）\n",
    "1. 参考：線形正規回帰モデル（数式に基づく導出）\n",
    "1. 参考：線形正規回帰モデル（ブートストラップ）"
   ]
  },
  {
   "cell_type": "markdown",
   "id": "c76cc3cc",
   "metadata": {},
   "source": [
    "## 準備\n",
    "\n",
    "Rの`ggplot2::stat_smooth`とPythonの`seaborn.regplot`の違いが際立つように，誤差がxによるようなデータを作ります．ここでは，xが大きくなると誤差が大きくなるようにします．"
   ]
  },
  {
   "cell_type": "code",
   "execution_count": 1,
   "id": "74d47e3d",
   "metadata": {},
   "outputs": [],
   "source": [
    "import numpy as np\n",
    "import pandas as pd\n",
    "import seaborn as sns\n",
    "import statsmodels.api as sm\n",
    "from scipy.stats import t\n",
    "\n",
    "n = 30\n",
    "x = np.arange(1, n + 1)\n",
    "y = 3 * x + 1 + np.random.normal(0, 2 * x)\n",
    "data = pd.DataFrame({'x': x, 'y': y})\n",
    "#data.to_csv('1+3x+N(0,2x).csv', index=False) # 再利用のため"
   ]
  },
  {
   "cell_type": "code",
   "execution_count": 2,
   "id": "85550ce3",
   "metadata": {},
   "outputs": [],
   "source": [
    "url = 'https://raw.githubusercontent.com/taroyabuki/fromzero/main/addendum/07.03.02/1%2B3x%2BN(0%2C2x).csv'\n",
    "data = pd.read_csv(url)\n",
    "x = data.x\n",
    "y = data.y\n",
    "n = len(x)"
   ]
  },
  {
   "cell_type": "markdown",
   "id": "86bef8df",
   "metadata": {},
   "source": [
    "## 1. 線形回帰モデル\n",
    "\n",
    "`seaborn.regplot`で，予測値の期待値の信頼区間を描きます．この結果はブートストラップによるものです．"
   ]
  },
  {
   "cell_type": "code",
   "execution_count": 3,
   "id": "c5f54bc6",
   "metadata": {},
   "outputs": [
    {
     "data": {
      "image/png": "[encoded data removed]",
      "text/plain": [
       "<Figure size 432x288 with 1 Axes>"
      ]
     },
     "metadata": {
      "needs_background": "light"
     },
     "output_type": "display_data"
    }
   ],
   "source": [
    "alpha = 0.99\n",
    "n_boot = 10000\n",
    "ax = sns.regplot(x=x, y=y, ci=100 * alpha, n_boot=n_boot)"
   ]
  },
  {
   "cell_type": "markdown",
   "id": "25acc2d8",
   "metadata": {},
   "source": [
    "次の結果と比べるために，信頼区間の数値データを取得しておきます．"
   ]
  },
  {
   "cell_type": "code",
   "execution_count": 4,
   "id": "8ed51d75",
   "metadata": {},
   "outputs": [
    {
     "data": {
      "text/html": [
       "<div>\n",
       "<style scoped>\n",
       "    .dataframe tbody tr th:only-of-type {\n",
       "        vertical-align: middle;\n",
       "    }\n",
       "\n",
       "    .dataframe tbody tr th {\n",
       "        vertical-align: top;\n",
       "    }\n",
       "\n",
       "    .dataframe thead th {\n",
       "        text-align: right;\n",
       "    }\n",
       "</style>\n",
       "<table border=\"1\" class=\"dataframe\">\n",
       "  <thead>\n",
       "    <tr style=\"text-align: right;\">\n",
       "      <th></th>\n",
       "      <th>x</th>\n",
       "      <th>lower</th>\n",
       "      <th>upper</th>\n",
       "    </tr>\n",
       "  </thead>\n",
       "  <tbody>\n",
       "    <tr>\n",
       "      <th>0</th>\n",
       "      <td>1.000000</td>\n",
       "      <td>-27.170501</td>\n",
       "      <td>16.195316</td>\n",
       "    </tr>\n",
       "    <tr>\n",
       "      <th>1</th>\n",
       "      <td>1.292929</td>\n",
       "      <td>-25.462644</td>\n",
       "      <td>16.857500</td>\n",
       "    </tr>\n",
       "    <tr>\n",
       "      <th>2</th>\n",
       "      <td>1.585859</td>\n",
       "      <td>-23.717473</td>\n",
       "      <td>17.521995</td>\n",
       "    </tr>\n",
       "    <tr>\n",
       "      <th>3</th>\n",
       "      <td>1.878788</td>\n",
       "      <td>-22.186083</td>\n",
       "      <td>18.181283</td>\n",
       "    </tr>\n",
       "    <tr>\n",
       "      <th>4</th>\n",
       "      <td>2.171717</td>\n",
       "      <td>-20.430298</td>\n",
       "      <td>18.806410</td>\n",
       "    </tr>\n",
       "    <tr>\n",
       "      <th>...</th>\n",
       "      <td>...</td>\n",
       "      <td>...</td>\n",
       "      <td>...</td>\n",
       "    </tr>\n",
       "    <tr>\n",
       "      <th>95</th>\n",
       "      <td>28.828283</td>\n",
       "      <td>60.630156</td>\n",
       "      <td>149.007414</td>\n",
       "    </tr>\n",
       "    <tr>\n",
       "      <th>96</th>\n",
       "      <td>29.121212</td>\n",
       "      <td>61.178737</td>\n",
       "      <td>150.824717</td>\n",
       "    </tr>\n",
       "    <tr>\n",
       "      <th>97</th>\n",
       "      <td>29.414141</td>\n",
       "      <td>61.733917</td>\n",
       "      <td>152.642021</td>\n",
       "    </tr>\n",
       "    <tr>\n",
       "      <th>98</th>\n",
       "      <td>29.707071</td>\n",
       "      <td>62.215545</td>\n",
       "      <td>154.459324</td>\n",
       "    </tr>\n",
       "    <tr>\n",
       "      <th>99</th>\n",
       "      <td>30.000000</td>\n",
       "      <td>62.761179</td>\n",
       "      <td>156.276627</td>\n",
       "    </tr>\n",
       "  </tbody>\n",
       "</table>\n",
       "<p>100 rows × 3 columns</p>\n",
       "</div>"
      ],
      "text/plain": [
       "            x      lower       upper\n",
       "0    1.000000 -27.170501   16.195316\n",
       "1    1.292929 -25.462644   16.857500\n",
       "2    1.585859 -23.717473   17.521995\n",
       "3    1.878788 -22.186083   18.181283\n",
       "4    2.171717 -20.430298   18.806410\n",
       "..        ...        ...         ...\n",
       "95  28.828283  60.630156  149.007414\n",
       "96  29.121212  61.178737  150.824717\n",
       "97  29.414141  61.733917  152.642021\n",
       "98  29.707071  62.215545  154.459324\n",
       "99  30.000000  62.761179  156.276627\n",
       "\n",
       "[100 rows x 3 columns]"
      ]
     },
     "execution_count": 4,
     "metadata": {},
     "output_type": "execute_result"
    }
   ],
   "source": [
    "tmp = ax.get_children()[1].get_paths()[0].vertices\n",
    "df = pd.DataFrame(tmp, columns=['x', 'y'])\n",
    "ci1 = df.groupby('x', as_index=False).agg({'y':[min, max]})\n",
    "ci1.columns = ['x', 'lower', 'upper']\n",
    "ci1"
   ]
  },
  {
   "cell_type": "markdown",
   "id": "589df321",
   "metadata": {},
   "source": [
    "## 2. 線形回帰モデル（ブートストラップ）\n",
    "\n",
    "文献[1]のアルゴリズム6.2を使って，1の結果を再現します．\n",
    "\n",
    "1. $(x_i, y_i)$ を復元抽出してブートストラップ標本を作り，それにフィットする直線から，予測値を求める．\n",
    "1. 大量に求めた予測値の，$100(1\\pm\\alpha)/2$ パーセント点を，信頼区間とする．\n",
    "\n",
    "結果は1と合っています．"
   ]
  },
  {
   "cell_type": "code",
   "execution_count": 5,
   "id": "914c0a6c",
   "metadata": {},
   "outputs": [
    {
     "data": {
      "text/html": [
       "<div>\n",
       "<style scoped>\n",
       "    .dataframe tbody tr th:only-of-type {\n",
       "        vertical-align: middle;\n",
       "    }\n",
       "\n",
       "    .dataframe tbody tr th {\n",
       "        vertical-align: top;\n",
       "    }\n",
       "\n",
       "    .dataframe thead th {\n",
       "        text-align: right;\n",
       "    }\n",
       "</style>\n",
       "<table border=\"1\" class=\"dataframe\">\n",
       "  <thead>\n",
       "    <tr style=\"text-align: right;\">\n",
       "      <th></th>\n",
       "      <th>lower</th>\n",
       "      <th>upper</th>\n",
       "      <th>x</th>\n",
       "    </tr>\n",
       "  </thead>\n",
       "  <tbody>\n",
       "    <tr>\n",
       "      <th>0</th>\n",
       "      <td>-27.617410</td>\n",
       "      <td>16.970273</td>\n",
       "      <td>1.000000</td>\n",
       "    </tr>\n",
       "    <tr>\n",
       "      <th>1</th>\n",
       "      <td>-25.927304</td>\n",
       "      <td>17.707989</td>\n",
       "      <td>1.292929</td>\n",
       "    </tr>\n",
       "    <tr>\n",
       "      <th>2</th>\n",
       "      <td>-24.172570</td>\n",
       "      <td>18.230360</td>\n",
       "      <td>1.585859</td>\n",
       "    </tr>\n",
       "    <tr>\n",
       "      <th>3</th>\n",
       "      <td>-22.611610</td>\n",
       "      <td>19.011988</td>\n",
       "      <td>1.878788</td>\n",
       "    </tr>\n",
       "    <tr>\n",
       "      <th>4</th>\n",
       "      <td>-20.984554</td>\n",
       "      <td>19.642587</td>\n",
       "      <td>2.171717</td>\n",
       "    </tr>\n",
       "    <tr>\n",
       "      <th>...</th>\n",
       "      <td>...</td>\n",
       "      <td>...</td>\n",
       "      <td>...</td>\n",
       "    </tr>\n",
       "    <tr>\n",
       "      <th>95</th>\n",
       "      <td>59.505993</td>\n",
       "      <td>148.985668</td>\n",
       "      <td>28.828283</td>\n",
       "    </tr>\n",
       "    <tr>\n",
       "      <th>96</th>\n",
       "      <td>60.019159</td>\n",
       "      <td>150.854068</td>\n",
       "      <td>29.121212</td>\n",
       "    </tr>\n",
       "    <tr>\n",
       "      <th>97</th>\n",
       "      <td>60.532442</td>\n",
       "      <td>152.703670</td>\n",
       "      <td>29.414141</td>\n",
       "    </tr>\n",
       "    <tr>\n",
       "      <th>98</th>\n",
       "      <td>61.113720</td>\n",
       "      <td>154.515901</td>\n",
       "      <td>29.707071</td>\n",
       "    </tr>\n",
       "    <tr>\n",
       "      <th>99</th>\n",
       "      <td>61.748084</td>\n",
       "      <td>156.392263</td>\n",
       "      <td>30.000000</td>\n",
       "    </tr>\n",
       "  </tbody>\n",
       "</table>\n",
       "<p>100 rows × 3 columns</p>\n",
       "</div>"
      ],
      "text/plain": [
       "        lower       upper          x\n",
       "0  -27.617410   16.970273   1.000000\n",
       "1  -25.927304   17.707989   1.292929\n",
       "2  -24.172570   18.230360   1.585859\n",
       "3  -22.611610   19.011988   1.878788\n",
       "4  -20.984554   19.642587   2.171717\n",
       "..        ...         ...        ...\n",
       "95  59.505993  148.985668  28.828283\n",
       "96  60.019159  150.854068  29.121212\n",
       "97  60.532442  152.703670  29.414141\n",
       "98  61.113720  154.515901  29.707071\n",
       "99  61.748084  156.392263  30.000000\n",
       "\n",
       "[100 rows x 3 columns]"
      ]
     },
     "execution_count": 5,
     "metadata": {},
     "output_type": "execute_result"
    },
    {
     "data": {
      "text/plain": [
       "<AxesSubplot:xlabel='x', ylabel='y'>"
      ]
     },
     "execution_count": 5,
     "metadata": {},
     "output_type": "execute_result"
    },
    {
     "data": {
      "image/png": "[encoded data removed]",
      "text/plain": [
       "<Figure size 432x288 with 1 Axes>"
      ]
     },
     "metadata": {
      "needs_background": "light"
     },
     "output_type": "display_data"
    }
   ],
   "source": [
    "X = sm.add_constant(x).values # 行列（データ）\n",
    "\n",
    "x0 = ci1.x\n",
    "X0 = sm.add_constant(x0).values # 行列\n",
    "\n",
    "def f():\n",
    "    idx = np.random.choice(a=range(n), size=n, replace=True)\n",
    "    XB = X[idx,]\n",
    "    yB = y[idx]\n",
    "    return X0 @ np.linalg.pinv(XB) @ yB\n",
    "\n",
    "def boot_ci(f):\n",
    "    tmp = np.array([f() for _ in range(n_boot)])\n",
    "    return pd.DataFrame(\n",
    "        [np.quantile(tmp[:, i], [(1 - alpha) / 2, (1 + alpha) / 2])\n",
    "         for i in range(len(x0))], columns=['lower', 'upper']\n",
    "    ).assign(x = x0)\n",
    "\n",
    "ci2 = boot_ci(f)\n",
    "ci2\n",
    "\n",
    "ax = sns.regplot(x=x, y=y, ci=100 * alpha, n_boot=n_boot)\n",
    "ci2.plot(x='x', ax=ax)"
   ]
  },
  {
   "cell_type": "markdown",
   "id": "c2c800f6",
   "metadata": {},
   "source": [
    "## 3. 線形正規回帰モデル（理論的な結果）\n",
    "\n",
    "線形正規回帰モデルを仮定した信頼区間を得ます．"
   ]
  },
  {
   "cell_type": "code",
   "execution_count": 6,
   "id": "5118225a",
   "metadata": {},
   "outputs": [
    {
     "data": {
      "text/html": [
       "<div>\n",
       "<style scoped>\n",
       "    .dataframe tbody tr th:only-of-type {\n",
       "        vertical-align: middle;\n",
       "    }\n",
       "\n",
       "    .dataframe tbody tr th {\n",
       "        vertical-align: top;\n",
       "    }\n",
       "\n",
       "    .dataframe thead th {\n",
       "        text-align: right;\n",
       "    }\n",
       "</style>\n",
       "<table border=\"1\" class=\"dataframe\">\n",
       "  <thead>\n",
       "    <tr style=\"text-align: right;\">\n",
       "      <th></th>\n",
       "      <th>mean_ci_lower</th>\n",
       "      <th>mean_ci_upper</th>\n",
       "      <th>x</th>\n",
       "    </tr>\n",
       "  </thead>\n",
       "  <tbody>\n",
       "    <tr>\n",
       "      <th>0</th>\n",
       "      <td>-41.937845</td>\n",
       "      <td>35.823414</td>\n",
       "      <td>1.000000</td>\n",
       "    </tr>\n",
       "    <tr>\n",
       "      <th>1</th>\n",
       "      <td>-40.281281</td>\n",
       "      <td>36.324866</td>\n",
       "      <td>1.292929</td>\n",
       "    </tr>\n",
       "    <tr>\n",
       "      <th>2</th>\n",
       "      <td>-38.627933</td>\n",
       "      <td>36.829534</td>\n",
       "      <td>1.585859</td>\n",
       "    </tr>\n",
       "    <tr>\n",
       "      <th>3</th>\n",
       "      <td>-36.977949</td>\n",
       "      <td>37.337566</td>\n",
       "      <td>1.878788</td>\n",
       "    </tr>\n",
       "    <tr>\n",
       "      <th>4</th>\n",
       "      <td>-35.331487</td>\n",
       "      <td>37.849120</td>\n",
       "      <td>2.171717</td>\n",
       "    </tr>\n",
       "    <tr>\n",
       "      <th>...</th>\n",
       "      <td>...</td>\n",
       "      <td>...</td>\n",
       "      <td>...</td>\n",
       "    </tr>\n",
       "    <tr>\n",
       "      <th>95</th>\n",
       "      <td>62.858244</td>\n",
       "      <td>136.038851</td>\n",
       "      <td>28.828283</td>\n",
       "    </tr>\n",
       "    <tr>\n",
       "      <th>96</th>\n",
       "      <td>63.369798</td>\n",
       "      <td>137.685313</td>\n",
       "      <td>29.121212</td>\n",
       "    </tr>\n",
       "    <tr>\n",
       "      <th>97</th>\n",
       "      <td>63.877831</td>\n",
       "      <td>139.335297</td>\n",
       "      <td>29.414141</td>\n",
       "    </tr>\n",
       "    <tr>\n",
       "      <th>98</th>\n",
       "      <td>64.382498</td>\n",
       "      <td>140.988646</td>\n",
       "      <td>29.707071</td>\n",
       "    </tr>\n",
       "    <tr>\n",
       "      <th>99</th>\n",
       "      <td>64.883951</td>\n",
       "      <td>142.645210</td>\n",
       "      <td>30.000000</td>\n",
       "    </tr>\n",
       "  </tbody>\n",
       "</table>\n",
       "<p>100 rows × 3 columns</p>\n",
       "</div>"
      ],
      "text/plain": [
       "    mean_ci_lower  mean_ci_upper          x\n",
       "0      -41.937845      35.823414   1.000000\n",
       "1      -40.281281      36.324866   1.292929\n",
       "2      -38.627933      36.829534   1.585859\n",
       "3      -36.977949      37.337566   1.878788\n",
       "4      -35.331487      37.849120   2.171717\n",
       "..            ...            ...        ...\n",
       "95      62.858244     136.038851  28.828283\n",
       "96      63.369798     137.685313  29.121212\n",
       "97      63.877831     139.335297  29.414141\n",
       "98      64.382498     140.988646  29.707071\n",
       "99      64.883951     142.645210  30.000000\n",
       "\n",
       "[100 rows x 3 columns]"
      ]
     },
     "execution_count": 6,
     "metadata": {},
     "output_type": "execute_result"
    },
    {
     "data": {
      "text/plain": [
       "<AxesSubplot:xlabel='x', ylabel='y'>"
      ]
     },
     "execution_count": 6,
     "metadata": {},
     "output_type": "execute_result"
    },
    {
     "data": {
      "image/png": "[encoded data removed]",
      "text/plain": [
       "<Figure size 432x288 with 1 Axes>"
      ]
     },
     "metadata": {
      "needs_background": "light"
     },
     "output_type": "display_data"
    }
   ],
   "source": [
    "model = sm.OLS(y, X).fit()\n",
    "tmp = model.get_prediction(X0).summary_frame(alpha=1 - alpha)\n",
    "ci3 = tmp[['mean_ci_lower', 'mean_ci_upper']].assign(x=x0)\n",
    "ci3\n",
    "\n",
    "ax = sns.regplot(x=x, y=y, ci=100 * alpha, n_boot=n_boot)\n",
    "ci3.plot(x='x', ax=ax)"
   ]
  },
  {
   "cell_type": "markdown",
   "id": "fac081b2",
   "metadata": {},
   "source": [
    "## 4. 線形正規回帰モデル（数式に基づく導出）\n",
    "\n",
    "文献[2]の式(5.69)に基づいて，3の結果を再現します．"
   ]
  },
  {
   "cell_type": "code",
   "execution_count": 7,
   "id": "381227b9",
   "metadata": {},
   "outputs": [
    {
     "data": {
      "text/html": [
       "<div>\n",
       "<style scoped>\n",
       "    .dataframe tbody tr th:only-of-type {\n",
       "        vertical-align: middle;\n",
       "    }\n",
       "\n",
       "    .dataframe tbody tr th {\n",
       "        vertical-align: top;\n",
       "    }\n",
       "\n",
       "    .dataframe thead th {\n",
       "        text-align: right;\n",
       "    }\n",
       "</style>\n",
       "<table border=\"1\" class=\"dataframe\">\n",
       "  <thead>\n",
       "    <tr style=\"text-align: right;\">\n",
       "      <th></th>\n",
       "      <th>x</th>\n",
       "      <th>lower</th>\n",
       "      <th>upper</th>\n",
       "    </tr>\n",
       "  </thead>\n",
       "  <tbody>\n",
       "    <tr>\n",
       "      <th>0</th>\n",
       "      <td>1.000000</td>\n",
       "      <td>-41.937845</td>\n",
       "      <td>35.823414</td>\n",
       "    </tr>\n",
       "    <tr>\n",
       "      <th>1</th>\n",
       "      <td>1.292929</td>\n",
       "      <td>-40.281281</td>\n",
       "      <td>36.324866</td>\n",
       "    </tr>\n",
       "    <tr>\n",
       "      <th>2</th>\n",
       "      <td>1.585859</td>\n",
       "      <td>-38.627933</td>\n",
       "      <td>36.829534</td>\n",
       "    </tr>\n",
       "    <tr>\n",
       "      <th>3</th>\n",
       "      <td>1.878788</td>\n",
       "      <td>-36.977949</td>\n",
       "      <td>37.337566</td>\n",
       "    </tr>\n",
       "    <tr>\n",
       "      <th>4</th>\n",
       "      <td>2.171717</td>\n",
       "      <td>-35.331487</td>\n",
       "      <td>37.849120</td>\n",
       "    </tr>\n",
       "    <tr>\n",
       "      <th>...</th>\n",
       "      <td>...</td>\n",
       "      <td>...</td>\n",
       "      <td>...</td>\n",
       "    </tr>\n",
       "    <tr>\n",
       "      <th>95</th>\n",
       "      <td>28.828283</td>\n",
       "      <td>62.858244</td>\n",
       "      <td>136.038851</td>\n",
       "    </tr>\n",
       "    <tr>\n",
       "      <th>96</th>\n",
       "      <td>29.121212</td>\n",
       "      <td>63.369798</td>\n",
       "      <td>137.685313</td>\n",
       "    </tr>\n",
       "    <tr>\n",
       "      <th>97</th>\n",
       "      <td>29.414141</td>\n",
       "      <td>63.877831</td>\n",
       "      <td>139.335297</td>\n",
       "    </tr>\n",
       "    <tr>\n",
       "      <th>98</th>\n",
       "      <td>29.707071</td>\n",
       "      <td>64.382498</td>\n",
       "      <td>140.988646</td>\n",
       "    </tr>\n",
       "    <tr>\n",
       "      <th>99</th>\n",
       "      <td>30.000000</td>\n",
       "      <td>64.883951</td>\n",
       "      <td>142.645210</td>\n",
       "    </tr>\n",
       "  </tbody>\n",
       "</table>\n",
       "<p>100 rows × 3 columns</p>\n",
       "</div>"
      ],
      "text/plain": [
       "            x      lower       upper\n",
       "0    1.000000 -41.937845   35.823414\n",
       "1    1.292929 -40.281281   36.324866\n",
       "2    1.585859 -38.627933   36.829534\n",
       "3    1.878788 -36.977949   37.337566\n",
       "4    2.171717 -35.331487   37.849120\n",
       "..        ...        ...         ...\n",
       "95  28.828283  62.858244  136.038851\n",
       "96  29.121212  63.369798  137.685313\n",
       "97  29.414141  63.877831  139.335297\n",
       "98  29.707071  64.382498  140.988646\n",
       "99  30.000000  64.883951  142.645210\n",
       "\n",
       "[100 rows x 3 columns]"
      ]
     },
     "execution_count": 7,
     "metadata": {},
     "output_type": "execute_result"
    },
    {
     "data": {
      "text/plain": [
       "<AxesSubplot:xlabel='x', ylabel='y'>"
      ]
     },
     "execution_count": 7,
     "metadata": {},
     "output_type": "execute_result"
    },
    {
     "data": {
      "text/plain": [
       "<AxesSubplot:xlabel='x', ylabel='y'>"
      ]
     },
     "execution_count": 7,
     "metadata": {},
     "output_type": "execute_result"
    },
    {
     "data": {
      "image/png": "[encoded data removed]",
      "text/plain": [
       "<Figure size 432x288 with 1 Axes>"
      ]
     },
     "metadata": {
      "needs_background": "light"
     },
     "output_type": "display_data"
    }
   ],
   "source": [
    "b = np.linalg.pinv(X) @ y\n",
    "yh = X @ b\n",
    "e = y - yh\n",
    "p = 2\n",
    "s = (e.T @ e / (n - p))**0.5\n",
    "\n",
    "f1 = X0 @ b\n",
    "f2 = (s * t.ppf((1 - alpha) / 2, n - p) *\n",
    "      (X0 @ np.linalg.inv(X.T @ X) @ X0.T).diagonal()**0.5)\n",
    "\n",
    "ci4 = pd.DataFrame({'x': x0, 'lower': f1 + f2, 'upper': f1 - f2})\n",
    "ci4\n",
    "\n",
    "ax = sns.regplot(x=x, y=y, ci=False)\n",
    "ci3.plot(x='x', ax=ax)\n",
    "ci4.plot(x='x', ax=ax)"
   ]
  },
  {
   "cell_type": "markdown",
   "id": "ec414d3b",
   "metadata": {},
   "source": [
    "## 5. 線形正規回帰モデル（ブートストラップ）\n",
    "\n",
    "文献[1]のアルゴリズム6.1を使って，3や4の結果をブートストラップで再現します．\n",
    "\n",
    "1. 回帰係数 $\\hat{\\beta}_0, \\hat{\\beta}_1$ を求める．\n",
    "1. 中心化した修正済みの残差から $\\epsilon^*_1,\\dots,\\epsilon^*_n$ を復元抽出する．\n",
    "1. ブートストラップ標本 $Y^*_i=\\hat{\\beta}_0+\\hat{\\beta}_0x_i+\\epsilon^*_i$（$i=1,\\dots,n$）を作り，$(x_i, Y^*_i)$ にフィットする直線から，予測値を求める．\n",
    "1. 大量に求めた予測値の，$100(1\\pm\\alpha)/2$ パーセント点を，信頼区間とする．\n",
    "\n",
    "結果は，理論的に求めたものと，だいたい合っています．"
   ]
  },
  {
   "cell_type": "code",
   "execution_count": 8,
   "id": "451155b8",
   "metadata": {},
   "outputs": [
    {
     "data": {
      "text/html": [
       "<div>\n",
       "<style scoped>\n",
       "    .dataframe tbody tr th:only-of-type {\n",
       "        vertical-align: middle;\n",
       "    }\n",
       "\n",
       "    .dataframe tbody tr th {\n",
       "        vertical-align: top;\n",
       "    }\n",
       "\n",
       "    .dataframe thead th {\n",
       "        text-align: right;\n",
       "    }\n",
       "</style>\n",
       "<table border=\"1\" class=\"dataframe\">\n",
       "  <thead>\n",
       "    <tr style=\"text-align: right;\">\n",
       "      <th></th>\n",
       "      <th>x</th>\n",
       "      <th>delta_lower</th>\n",
       "      <th>delta_upper</th>\n",
       "    </tr>\n",
       "  </thead>\n",
       "  <tbody>\n",
       "    <tr>\n",
       "      <th>0</th>\n",
       "      <td>1.000000</td>\n",
       "      <td>3.400164</td>\n",
       "      <td>0.114231</td>\n",
       "    </tr>\n",
       "    <tr>\n",
       "      <th>1</th>\n",
       "      <td>1.292929</td>\n",
       "      <td>3.465748</td>\n",
       "      <td>0.136648</td>\n",
       "    </tr>\n",
       "    <tr>\n",
       "      <th>2</th>\n",
       "      <td>1.585859</td>\n",
       "      <td>3.465806</td>\n",
       "      <td>0.238984</td>\n",
       "    </tr>\n",
       "    <tr>\n",
       "      <th>3</th>\n",
       "      <td>1.878788</td>\n",
       "      <td>3.432498</td>\n",
       "      <td>0.271652</td>\n",
       "    </tr>\n",
       "    <tr>\n",
       "      <th>4</th>\n",
       "      <td>2.171717</td>\n",
       "      <td>3.439950</td>\n",
       "      <td>0.339694</td>\n",
       "    </tr>\n",
       "    <tr>\n",
       "      <th>...</th>\n",
       "      <td>...</td>\n",
       "      <td>...</td>\n",
       "      <td>...</td>\n",
       "    </tr>\n",
       "    <tr>\n",
       "      <th>95</th>\n",
       "      <td>28.828283</td>\n",
       "      <td>3.702793</td>\n",
       "      <td>1.101789</td>\n",
       "    </tr>\n",
       "    <tr>\n",
       "      <th>96</th>\n",
       "      <td>29.121212</td>\n",
       "      <td>3.803019</td>\n",
       "      <td>1.148486</td>\n",
       "    </tr>\n",
       "    <tr>\n",
       "      <th>97</th>\n",
       "      <td>29.414141</td>\n",
       "      <td>3.906808</td>\n",
       "      <td>1.330861</td>\n",
       "    </tr>\n",
       "    <tr>\n",
       "      <th>98</th>\n",
       "      <td>29.707071</td>\n",
       "      <td>3.988689</td>\n",
       "      <td>1.444290</td>\n",
       "    </tr>\n",
       "    <tr>\n",
       "      <th>99</th>\n",
       "      <td>30.000000</td>\n",
       "      <td>4.043017</td>\n",
       "      <td>1.391718</td>\n",
       "    </tr>\n",
       "  </tbody>\n",
       "</table>\n",
       "<p>100 rows × 3 columns</p>\n",
       "</div>"
      ],
      "text/plain": [
       "            x  delta_lower  delta_upper\n",
       "0    1.000000     3.400164     0.114231\n",
       "1    1.292929     3.465748     0.136648\n",
       "2    1.585859     3.465806     0.238984\n",
       "3    1.878788     3.432498     0.271652\n",
       "4    2.171717     3.439950     0.339694\n",
       "..        ...          ...          ...\n",
       "95  28.828283     3.702793     1.101789\n",
       "96  29.121212     3.803019     1.148486\n",
       "97  29.414141     3.906808     1.330861\n",
       "98  29.707071     3.988689     1.444290\n",
       "99  30.000000     4.043017     1.391718\n",
       "\n",
       "[100 rows x 3 columns]"
      ]
     },
     "execution_count": 8,
     "metadata": {},
     "output_type": "execute_result"
    },
    {
     "data": {
      "text/plain": [
       "<AxesSubplot:xlabel='x', ylabel='y'>"
      ]
     },
     "execution_count": 8,
     "metadata": {},
     "output_type": "execute_result"
    },
    {
     "data": {
      "text/plain": [
       "<AxesSubplot:xlabel='x', ylabel='y'>"
      ]
     },
     "execution_count": 8,
     "metadata": {},
     "output_type": "execute_result"
    },
    {
     "data": {
      "image/png": "[encoded data removed]",
      "text/plain": [
       "<Figure size 432x288 with 1 Axes>"
      ]
     },
     "metadata": {
      "needs_background": "light"
     },
     "output_type": "display_data"
    }
   ],
   "source": [
    "Sxx = sum((x - x.mean())**2)\n",
    "r = (y - yh) / (1 - 1 / n - (x - x.mean())**2 / Sxx)\n",
    "r = r - r.mean()\n",
    "\n",
    "def f():\n",
    "    e_s = np.random.choice(a=r, size=n, replace=True)\n",
    "    y_s = yh + e_s\n",
    "    return X0 @ np.linalg.pinv(X) @ y_s\n",
    "\n",
    "ci5 = boot_ci(f)\n",
    "pd.DataFrame({'x': x0,\n",
    "              'delta_lower': ci5.lower - ci3.mean_ci_lower,\n",
    "              'delta_upper': ci5.upper - ci3.mean_ci_upper})\n",
    "\n",
    "ax = sns.regplot(x=x, y=y, ci=False)\n",
    "ci3.plot(x='x', ax=ax)\n",
    "ci5.plot(x='x', ax=ax)"
   ]
  },
  {
   "cell_type": "markdown",
   "id": "d7f2c1fb",
   "metadata": {},
   "source": [
    "## 参考文献\n",
    "\n",
    "1. 汪金芳, 桜井裕仁. ブートストラップ入門. 共立出版, 2011.\n",
    "1. 佐和隆光. 回帰分析. 朝倉書店, 新装版, 2020."
   ]
  }
 ],
 "metadata": {
  "kernelspec": {
   "display_name": "Python 3",
   "language": "python",
   "name": "python3"
  },
  "language_info": {
   "codemirror_mode": {
    "name": "ipython",
    "version": 3
   },
   "file_extension": ".py",
   "mimetype": "text/x-python",
   "name": "python",
   "nbconvert_exporter": "python",
   "pygments_lexer": "ipython3",
   "version": "3.8.8"
  }
 },
 "nbformat": 4,
 "nbformat_minor": 5
}
