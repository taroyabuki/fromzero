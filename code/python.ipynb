{
  "cells": [
    {
      "id": "95d97a25",
      "cell_type": "markdown",
      "source": [
        "[辻真吾・矢吹太朗『ゼロからはじめるデータサイエンス入門』（講談社, 2021）](https://github.com/taroyabuki/fromzero)"
      ],
      "metadata": {
        "id": "95d97a25"
      }
    },
    {
      "cell_type": "code",
      "execution_count": null,
      "metadata": {
        "id": "ab910195-9b54-4261-bcd5-795d73028a5a"
      },
      "outputs": [],
      "source": [
        "# Google Colaboratoryの環境設定\n",
        "import os\n",
        "if 'COLAB_GPU' in os.environ:\n",
        "  !python -m pip install h2o pandarallel pca pmdarima | tail -n 1"
      ],
      "id": "ab910195-9b54-4261-bcd5-795d73028a5a"
    },
    {
      "cell_type": "code",
      "execution_count": null,
      "metadata": {
        "id": "e2508dc8-e1a4-44f9-85bc-adf7d3f518f3"
      },
      "outputs": [],
      "source": [
        "# これはPythonのコードの例です．\n",
        "1 + 1"
      ],
      "id": "e2508dc8-e1a4-44f9-85bc-adf7d3f518f3"
    },
    {
      "id": "698e3692",
      "cell_type": "markdown",
      "source": [
        "# 1 コンピュータとネットワーク\n",
        "\n",
        "\n"
      ],
      "metadata": {
        "id": "698e3692"
      }
    },
    {
      "id": "da860ba3",
      "cell_type": "markdown",
      "source": [
        "## 1.1 コンピュータの基本操作\n",
        "\n",
        "\n"
      ],
      "metadata": {
        "id": "da860ba3"
      }
    },
    {
      "id": "1da30820",
      "cell_type": "markdown",
      "source": [
        "## 1.2 ネットワークの仕組み\n",
        "\n",
        "\n"
      ],
      "metadata": {
        "id": "1da30820"
      }
    },
    {
      "id": "e2315fac",
      "cell_type": "markdown",
      "source": [
        "# 2 データサイエンスのための環境\n",
        "\n",
        "\n"
      ],
      "metadata": {
        "id": "e2315fac"
      }
    },
    {
      "id": "25e78c75",
      "cell_type": "markdown",
      "source": [
        "## 2.1 実行環境の選択\n",
        "\n",
        "\n"
      ],
      "metadata": {
        "id": "25e78c75"
      }
    },
    {
      "id": "6d3029cb",
      "cell_type": "markdown",
      "source": [
        "## 2.2 クラウド\n",
        "\n",
        "\n"
      ],
      "metadata": {
        "id": "6d3029cb"
      }
    },
    {
      "id": "c6df8cac",
      "cell_type": "markdown",
      "source": [
        "## 2.3 Docker\n",
        "\n",
        "\n"
      ],
      "metadata": {
        "id": "c6df8cac"
      }
    },
    {
      "id": "1af68f56",
      "cell_type": "markdown",
      "source": [
        "## 2.4 ターミナルの使い方\n",
        "\n",
        "\n"
      ],
      "metadata": {
        "id": "1af68f56"
      }
    },
    {
      "id": "33ea66ef",
      "cell_type": "markdown",
      "source": [
        "## 2.5 RとPython\n",
        "\n",
        "\n"
      ],
      "metadata": {
        "id": "33ea66ef"
      }
    },
    {
      "id": "f50d8cb6",
      "cell_type": "markdown",
      "source": [
        "## 2.6 サンプルコードの利用"
      ],
      "metadata": {
        "id": "f50d8cb6"
      }
    },
    {
      "cell_type": "code",
      "execution_count": null,
      "metadata": {
        "id": "837b6528-df9e-4cce-80f7-ea8dc13c2523"
      },
      "outputs": [],
      "source": [
        "1 + 1\n",
        "# 2 # これは表示されない．\n",
        "\n",
        "print(1 + 2)\n",
        "# 3 # 表示される．\n",
        "\n",
        "1 + 3\n",
        "# 4 # 表示される．"
      ],
      "id": "837b6528-df9e-4cce-80f7-ea8dc13c2523"
    },
    {
      "id": "6d167ef9",
      "cell_type": "markdown",
      "source": [
        "# 3 RとPython\n",
        "\n",
        "\n"
      ],
      "metadata": {
        "id": "6d167ef9"
      }
    },
    {
      "id": "9da784d3",
      "cell_type": "markdown",
      "source": [
        "## 3.1 入門"
      ],
      "metadata": {
        "id": "9da784d3"
      }
    },
    {
      "cell_type": "code",
      "execution_count": null,
      "metadata": {
        "id": "459d00bb-062a-498e-8de4-3b41a7917efb"
      },
      "outputs": [],
      "source": [
        "0x10"
      ],
      "id": "459d00bb-062a-498e-8de4-3b41a7917efb"
    },
    {
      "cell_type": "code",
      "execution_count": null,
      "metadata": {
        "id": "ace410c5-97f1-487a-850e-2d0e7befd302"
      },
      "outputs": [],
      "source": [
        "1.23e5"
      ],
      "id": "ace410c5-97f1-487a-850e-2d0e7befd302"
    },
    {
      "cell_type": "code",
      "execution_count": null,
      "metadata": {
        "id": "99bf438b-35fa-43f7-bdd7-760ea35a2243"
      },
      "outputs": [],
      "source": [
        "2 * 3"
      ],
      "id": "99bf438b-35fa-43f7-bdd7-760ea35a2243"
    },
    {
      "cell_type": "code",
      "execution_count": null,
      "metadata": {
        "id": "56a3b3a4-c6b4-4f25-bdba-84aaf13edf5a"
      },
      "outputs": [],
      "source": [
        "10 / 3"
      ],
      "id": "56a3b3a4-c6b4-4f25-bdba-84aaf13edf5a"
    },
    {
      "cell_type": "code",
      "execution_count": null,
      "metadata": {
        "id": "e9a5d950-bd38-42cf-8267-198322e8b88a"
      },
      "outputs": [],
      "source": [
        "10 // 3 # 商\n",
        "\n",
        "10 % 3  # 余り"
      ],
      "id": "e9a5d950-bd38-42cf-8267-198322e8b88a"
    },
    {
      "cell_type": "code",
      "execution_count": null,
      "metadata": {
        "id": "88b7b531-2c1b-47c8-a3f9-033bd1b0e3ef"
      },
      "outputs": [],
      "source": [
        "x = 2\n",
        "y = 3\n",
        "x * y\n",
        "\n",
        "x, y = 20, 30 # まとめて名付け\n",
        "x * y"
      ],
      "id": "88b7b531-2c1b-47c8-a3f9-033bd1b0e3ef"
    },
    {
      "cell_type": "code",
      "execution_count": null,
      "metadata": {
        "id": "f22b5f95-63de-40b8-8d28-4209b7e8e459"
      },
      "outputs": [],
      "source": [
        "x = 1 + 1\n",
        "# この段階では結果は表示されない\n",
        "\n",
        "x # 変数名を評価する．"
      ],
      "id": "f22b5f95-63de-40b8-8d28-4209b7e8e459"
    },
    {
      "cell_type": "code",
      "execution_count": null,
      "metadata": {
        "id": "4a47cfa5-17f7-4532-8523-87342f858696"
      },
      "outputs": [],
      "source": [
        "my_s = 'abcde'"
      ],
      "id": "4a47cfa5-17f7-4532-8523-87342f858696"
    },
    {
      "cell_type": "code",
      "execution_count": null,
      "metadata": {
        "id": "7acb6e74-6123-4f44-b894-99d58853f1cb"
      },
      "outputs": [],
      "source": [
        "len(my_s)"
      ],
      "id": "7acb6e74-6123-4f44-b894-99d58853f1cb"
    },
    {
      "cell_type": "code",
      "execution_count": null,
      "metadata": {
        "id": "5ed62ca1-bfa4-4557-940a-3ea353d81893"
      },
      "outputs": [],
      "source": [
        "'This is' ' a' ' pen.'\n",
        "# あるいは\n",
        "'This is ' + 'a' + ' pen.'"
      ],
      "id": "5ed62ca1-bfa4-4557-940a-3ea353d81893"
    },
    {
      "cell_type": "code",
      "execution_count": null,
      "metadata": {
        "id": "2637ccf9-4d3e-4f0b-b310-8bf536a9f3ab"
      },
      "outputs": [],
      "source": [
        "my_s[1:4]"
      ],
      "id": "2637ccf9-4d3e-4f0b-b310-8bf536a9f3ab"
    },
    {
      "cell_type": "code",
      "execution_count": null,
      "metadata": {
        "id": "45e215c4-4400-492c-8138-95b561e531cf"
      },
      "outputs": [],
      "source": [
        "tmp = \"{} is {}.\"\n",
        "tmp.format('This', 'a pen')"
      ],
      "id": "45e215c4-4400-492c-8138-95b561e531cf"
    },
    {
      "cell_type": "code",
      "execution_count": null,
      "metadata": {
        "id": "d9d6d388-257d-40b2-9bac-5719f5951a26"
      },
      "outputs": [],
      "source": [
        "1 <= 2\n",
        "\n",
        "1 < 0"
      ],
      "id": "d9d6d388-257d-40b2-9bac-5719f5951a26"
    },
    {
      "cell_type": "code",
      "execution_count": null,
      "metadata": {
        "id": "c2f12c43-3416-4320-ba58-f296c419300d"
      },
      "outputs": [],
      "source": [
        "0.1 + 0.1 + 0.1 == 0.3\n",
        "\n",
        "import math\n",
        "math.isclose(0.1 + 0.1 + 0.1, 0.3)"
      ],
      "id": "c2f12c43-3416-4320-ba58-f296c419300d"
    },
    {
      "cell_type": "code",
      "execution_count": null,
      "metadata": {
        "id": "0af5a514-9202-4b9c-a2ad-a553c29baf05"
      },
      "outputs": [],
      "source": [
        "True and False # 論理積（かつ）\n",
        "\n",
        "True or False  # 論理和（または）\n",
        "\n",
        "not True       # 否定（でない）"
      ],
      "id": "0af5a514-9202-4b9c-a2ad-a553c29baf05"
    },
    {
      "cell_type": "code",
      "execution_count": null,
      "metadata": {
        "id": "0b734597-68a2-4628-8058-b240c7861d50"
      },
      "outputs": [],
      "source": [
        "0 if 3 < 5 else 10"
      ],
      "id": "0b734597-68a2-4628-8058-b240c7861d50"
    },
    {
      "cell_type": "code",
      "execution_count": null,
      "metadata": {
        "id": "d12f094f-8ed2-4962-a563-5c1921a78a34"
      },
      "outputs": [],
      "source": [
        "import os\n",
        "os.getcwd()"
      ],
      "id": "d12f094f-8ed2-4962-a563-5c1921a78a34"
    },
    {
      "cell_type": "code",
      "execution_count": null,
      "metadata": {
        "id": "fe0a55b6-1c17-4520-9080-eadb9b98fdb7"
      },
      "outputs": [],
      "source": [
        "os.chdir('..')\n",
        "os.getcwd()"
      ],
      "id": "fe0a55b6-1c17-4520-9080-eadb9b98fdb7"
    },
    {
      "id": "7fb4e50e",
      "cell_type": "markdown",
      "source": [
        "## 3.2 関数"
      ],
      "metadata": {
        "id": "7fb4e50e"
      }
    },
    {
      "cell_type": "code",
      "execution_count": null,
      "metadata": {
        "id": "a9778204-bd89-44ed-b9fd-c5877ce172db"
      },
      "outputs": [],
      "source": [
        "import math\n",
        "math.sqrt(4)"
      ],
      "id": "a9778204-bd89-44ed-b9fd-c5877ce172db"
    },
    {
      "cell_type": "code",
      "execution_count": null,
      "metadata": {
        "id": "bc433472-6150-4b09-8fcd-f09ed8e785ad"
      },
      "outputs": [],
      "source": [
        "math.log(100, 10)"
      ],
      "id": "bc433472-6150-4b09-8fcd-f09ed8e785ad"
    },
    {
      "cell_type": "code",
      "execution_count": null,
      "metadata": {
        "id": "ed0dc25f-4603-470e-8547-7751a3a5304d"
      },
      "outputs": [],
      "source": [
        "math.log(100)         # 自然対数\n",
        "# あるいは\n",
        "math.log(100, math.e) # 省略しない場合\n"
      ],
      "id": "ed0dc25f-4603-470e-8547-7751a3a5304d"
    },
    {
      "cell_type": "code",
      "execution_count": null,
      "metadata": {
        "id": "6a0b0ac7-188d-48ba-9469-f4fab09cc177"
      },
      "outputs": [],
      "source": [
        "math.log10(100) # 常用対数\n",
        "\n",
        "math.log2(1024) # 底が2の対数"
      ],
      "id": "6a0b0ac7-188d-48ba-9469-f4fab09cc177"
    },
    {
      "cell_type": "code",
      "execution_count": null,
      "metadata": {
        "id": "a7755b43-0257-402d-b4fd-65b6497023ac"
      },
      "outputs": [],
      "source": [
        "def f(a, b):\n",
        "    return a - b"
      ],
      "id": "a7755b43-0257-402d-b4fd-65b6497023ac"
    },
    {
      "cell_type": "code",
      "execution_count": null,
      "metadata": {
        "id": "a03fde7a-2fdd-4f40-b6fb-cee295fd368e"
      },
      "outputs": [],
      "source": [
        "f(3, 5)"
      ],
      "id": "a03fde7a-2fdd-4f40-b6fb-cee295fd368e"
    },
    {
      "cell_type": "code",
      "execution_count": null,
      "metadata": {
        "id": "c0f80530-6f4e-4d54-8643-03eaafc11d67"
      },
      "outputs": [],
      "source": [
        "def f(a, b=5):\n",
        "    return a - b\n",
        "\n",
        "f(3) # f(3, 5)と同じこと"
      ],
      "id": "c0f80530-6f4e-4d54-8643-03eaafc11d67"
    },
    {
      "cell_type": "code",
      "execution_count": null,
      "metadata": {
        "id": "72b8e1e0-639e-4b17-8b35-4f0273379ea6"
      },
      "outputs": [],
      "source": [
        "(lambda a, b: a - b)(3, 5)"
      ],
      "id": "72b8e1e0-639e-4b17-8b35-4f0273379ea6"
    },
    {
      "id": "1c82bac5",
      "cell_type": "markdown",
      "source": [
        "## 3.3 コレクション"
      ],
      "metadata": {
        "id": "1c82bac5"
      }
    },
    {
      "cell_type": "code",
      "execution_count": null,
      "metadata": {
        "id": "339eb9a4-73f2-45e5-b4b1-ba42abd098c5"
      },
      "outputs": [],
      "source": [
        "x = ['foo', 'bar', 'baz']"
      ],
      "id": "339eb9a4-73f2-45e5-b4b1-ba42abd098c5"
    },
    {
      "cell_type": "code",
      "execution_count": null,
      "metadata": {
        "id": "a6e4c3d6-fb19-4899-8ffa-6d513447b923"
      },
      "outputs": [],
      "source": [
        "len(x)"
      ],
      "id": "a6e4c3d6-fb19-4899-8ffa-6d513447b923"
    },
    {
      "cell_type": "code",
      "execution_count": null,
      "metadata": {
        "id": "4a200bc9-706c-4ee2-926f-e71951b31c4c"
      },
      "outputs": [],
      "source": [
        "x[1]"
      ],
      "id": "4a200bc9-706c-4ee2-926f-e71951b31c4c"
    },
    {
      "cell_type": "code",
      "execution_count": null,
      "metadata": {
        "id": "b61145a0-7fd6-4354-85b7-eaa19aeb6f8c"
      },
      "outputs": [],
      "source": [
        "x[1] = 'BAR'\n",
        "x # 結果の確認\n",
        "\n",
        "x[1] = 'bar' # 元に戻す．"
      ],
      "id": "b61145a0-7fd6-4354-85b7-eaa19aeb6f8c"
    },
    {
      "cell_type": "code",
      "execution_count": null,
      "metadata": {
        "id": "c79076d6-2efb-4304-8c8c-13c74b723e69"
      },
      "outputs": [],
      "source": [
        "x[-2]"
      ],
      "id": "c79076d6-2efb-4304-8c8c-13c74b723e69"
    },
    {
      "cell_type": "code",
      "execution_count": null,
      "metadata": {
        "id": "eed88296-14ec-4119-89ff-08dc96632935"
      },
      "outputs": [],
      "source": [
        "x + ['qux']"
      ],
      "id": "eed88296-14ec-4119-89ff-08dc96632935"
    },
    {
      "cell_type": "code",
      "execution_count": null,
      "metadata": {
        "id": "19865fbd-04ce-4778-b2cf-378b23814878"
      },
      "outputs": [],
      "source": [
        "x = x + ['qux']\n",
        "# あるいは\n",
        "#x.append('qux')\n",
        "\n",
        "x # 結果の確認"
      ],
      "id": "19865fbd-04ce-4778-b2cf-378b23814878"
    },
    {
      "cell_type": "code",
      "execution_count": null,
      "metadata": {
        "id": "a113ae2f-1c6d-4b33-8687-741ff6e45963"
      },
      "outputs": [],
      "source": [
        "list(range(5))"
      ],
      "id": "a113ae2f-1c6d-4b33-8687-741ff6e45963"
    },
    {
      "cell_type": "code",
      "execution_count": null,
      "metadata": {
        "id": "1594e548-2c1b-4303-994e-99ca30ee678b"
      },
      "outputs": [],
      "source": [
        "list(range(0, 11, 2))"
      ],
      "id": "1594e548-2c1b-4303-994e-99ca30ee678b"
    },
    {
      "cell_type": "code",
      "execution_count": null,
      "metadata": {
        "id": "32ab6a37-a3a4-4627-88b6-17bc40ce9806"
      },
      "outputs": [],
      "source": [
        "import numpy as np\n",
        "np.arange(0, 1.1, 0.5)"
      ],
      "id": "32ab6a37-a3a4-4627-88b6-17bc40ce9806"
    },
    {
      "cell_type": "code",
      "execution_count": null,
      "metadata": {
        "id": "4b25a857-830a-4967-b444-922d3577e599"
      },
      "outputs": [],
      "source": [
        "np.linspace(0, 100, 5)"
      ],
      "id": "4b25a857-830a-4967-b444-922d3577e599"
    },
    {
      "cell_type": "code",
      "execution_count": null,
      "metadata": {
        "id": "55ace0fb-e9fb-43e1-986a-e49d00e60cbf"
      },
      "outputs": [],
      "source": [
        "[10] * 5"
      ],
      "id": "55ace0fb-e9fb-43e1-986a-e49d00e60cbf"
    },
    {
      "cell_type": "code",
      "execution_count": null,
      "metadata": {
        "id": "85c21d1c-f102-4356-a78b-b32e35e50043"
      },
      "outputs": [],
      "source": [
        "import numpy as np\n",
        "x = np.array([2, 3, 5, 7])\n",
        "\n",
        "x + 10 # 加算\n",
        "\n",
        "x * 10 # 乗算"
      ],
      "id": "85c21d1c-f102-4356-a78b-b32e35e50043"
    },
    {
      "cell_type": "code",
      "execution_count": null,
      "metadata": {
        "id": "e78baff5-55c0-49e7-b216-a81f373510c3"
      },
      "outputs": [],
      "source": [
        "x = [2, 3]\n",
        "np.sin(x)"
      ],
      "id": "e78baff5-55c0-49e7-b216-a81f373510c3"
    },
    {
      "cell_type": "code",
      "execution_count": null,
      "metadata": {
        "id": "e934f9f6-267c-4cb2-be72-6c32240891d1"
      },
      "outputs": [],
      "source": [
        "x = np.array([2,  3,   5,    7])\n",
        "y = np.array([1, 10, 100, 1000])\n",
        "x + y\n",
        "\n",
        "x * y"
      ],
      "id": "e934f9f6-267c-4cb2-be72-6c32240891d1"
    },
    {
      "cell_type": "code",
      "execution_count": null,
      "metadata": {
        "id": "449475ef-5a24-4282-9241-60f0aefdbaaf"
      },
      "outputs": [],
      "source": [
        "np.dot(x, y)\n",
        "# あるいは\n",
        "x @ y\n"
      ],
      "id": "449475ef-5a24-4282-9241-60f0aefdbaaf"
    },
    {
      "cell_type": "code",
      "execution_count": null,
      "metadata": {
        "id": "534d6348-efb5-47b9-ae0f-d5b45d710880"
      },
      "outputs": [],
      "source": [
        "x = np.array([True, False])\n",
        "y = np.array([True, True])\n",
        "x & y"
      ],
      "id": "534d6348-efb5-47b9-ae0f-d5b45d710880"
    },
    {
      "cell_type": "code",
      "execution_count": null,
      "metadata": {
        "id": "b47b232a-53c4-4005-ab4f-6be7d3a0408c"
      },
      "outputs": [],
      "source": [
        "u = np.array([1, 2, 3])\n",
        "v = np.array([1, 2, 3])\n",
        "w = np.array([1, 2, 4])\n",
        "\n",
        "all(u == v) # 全体の比較\n",
        "\n",
        "all(u == w) # 全体の比較\n",
        "\n",
        "u == v      # 要素ごとの比較\n",
        "\n",
        "u == w      # 要素ごとの比較"
      ],
      "id": "b47b232a-53c4-4005-ab4f-6be7d3a0408c"
    },
    {
      "cell_type": "code",
      "execution_count": null,
      "metadata": {
        "id": "5b7025bd-f8c7-4adb-b642-506622d4da24"
      },
      "outputs": [],
      "source": [
        "(u == w).sum()  # 同じ要素の数\n",
        "\n",
        "(u == w).mean() # 同じ要素の割合"
      ],
      "id": "5b7025bd-f8c7-4adb-b642-506622d4da24"
    },
    {
      "cell_type": "code",
      "execution_count": null,
      "metadata": {
        "id": "85de6cf2-287a-4fb0-bef9-5cd9124aa247"
      },
      "outputs": [],
      "source": [
        "x = [1, \"two\"]"
      ],
      "id": "85de6cf2-287a-4fb0-bef9-5cd9124aa247"
    },
    {
      "cell_type": "code",
      "execution_count": null,
      "metadata": {
        "id": "76d470b4-4950-428c-b4a8-3f4af50c89bb"
      },
      "outputs": [],
      "source": [
        "x[1]"
      ],
      "id": "76d470b4-4950-428c-b4a8-3f4af50c89bb"
    },
    {
      "cell_type": "code",
      "execution_count": null,
      "metadata": {
        "id": "00449751-e0c9-4b2f-ab4a-8447a9cfe192"
      },
      "outputs": [],
      "source": [
        "x = {'apple' : 'りんご',\n",
        "     'orange': 'みかん'}"
      ],
      "id": "00449751-e0c9-4b2f-ab4a-8447a9cfe192"
    },
    {
      "cell_type": "code",
      "execution_count": null,
      "metadata": {
        "id": "900a16c5-c6a2-4485-a493-af0271c3161f"
      },
      "outputs": [],
      "source": [
        "x['grape'] = 'ぶどう'"
      ],
      "id": "900a16c5-c6a2-4485-a493-af0271c3161f"
    },
    {
      "cell_type": "code",
      "execution_count": null,
      "metadata": {
        "id": "b0776436-c8b1-4267-80fa-6a404fdeb94d"
      },
      "outputs": [],
      "source": [
        "x['apple']\n",
        "# あるいは\n",
        "tmp = 'apple'\n",
        "x[tmp]\n"
      ],
      "id": "b0776436-c8b1-4267-80fa-6a404fdeb94d"
    },
    {
      "cell_type": "code",
      "execution_count": null,
      "metadata": {
        "id": "9bf67087-16e6-4bdc-a83a-85fe5e929b99"
      },
      "outputs": [],
      "source": [
        "x = ['foo', 'bar', 'baz']\n",
        "y = x\n",
        "y[1] = 'BAR' # yを更新する．\n",
        "y\n",
        "\n",
        "x            # xも変わる．"
      ],
      "id": "9bf67087-16e6-4bdc-a83a-85fe5e929b99"
    },
    {
      "cell_type": "code",
      "execution_count": null,
      "metadata": {
        "id": "133b5fc7-1ccb-4712-a62c-5292e3eb1a0e"
      },
      "outputs": [],
      "source": [
        "x = ['foo', 'bar', 'baz']\n",
        "y = x.copy()             # 「y = x」とせずに，コピーする．\n",
        "x == y, x is y\n",
        "\n",
        "y[1] = 'BAR'             # yを更新しても，\n",
        "x"
      ],
      "id": "133b5fc7-1ccb-4712-a62c-5292e3eb1a0e"
    },
    {
      "id": "25839473",
      "cell_type": "markdown",
      "source": [
        "## 3.4 データフレーム"
      ],
      "metadata": {
        "id": "25839473"
      }
    },
    {
      "cell_type": "code",
      "execution_count": null,
      "metadata": {
        "id": "a6c2b849-3a24-47db-aeae-65dfba1bd9f2"
      },
      "outputs": [],
      "source": [
        "import pandas as pd"
      ],
      "id": "a6c2b849-3a24-47db-aeae-65dfba1bd9f2"
    },
    {
      "cell_type": "code",
      "execution_count": null,
      "metadata": {
        "id": "20dfaaf2-76f1-47f5-a96f-1fc0d922701f"
      },
      "outputs": [],
      "source": [
        "my_df = pd.DataFrame({\n",
        "    'name':    ['A', 'B', 'C', 'D'],\n",
        "    'english': [ 60,  90,  70,  90],\n",
        "    'math':    [ 70,  80,  90, 100],\n",
        "    'gender':  ['f', 'm', 'm', 'f']})"
      ],
      "id": "20dfaaf2-76f1-47f5-a96f-1fc0d922701f"
    },
    {
      "cell_type": "code",
      "execution_count": null,
      "metadata": {
        "id": "410b289a-0548-413b-b6c5-b133b8b2d2bb"
      },
      "outputs": [],
      "source": [
        "my_df = pd.DataFrame([\n",
        "    ['A', 60,  70, 'f'],\n",
        "    ['B', 90,  80, 'm'],\n",
        "    ['C', 70,  90, 'm'],\n",
        "    ['D', 90, 100, 'f']],\n",
        "    columns=['name', 'english',\n",
        "             'math', 'gender'])"
      ],
      "id": "410b289a-0548-413b-b6c5-b133b8b2d2bb"
    },
    {
      "cell_type": "code",
      "execution_count": null,
      "metadata": {
        "id": "946e67ed-16d5-4def-b003-ebf949c8e5ac"
      },
      "outputs": [],
      "source": [
        "my_df.head()\n",
        "# 結果は割愛"
      ],
      "id": "946e67ed-16d5-4def-b003-ebf949c8e5ac"
    },
    {
      "cell_type": "code",
      "execution_count": null,
      "metadata": {
        "id": "61d19456-a422-47d4-8fe4-2d82ca0ba8cb"
      },
      "outputs": [],
      "source": [
        "r, c = my_df.shape # 行数と列数\n",
        "r, c\n",
        "\n",
        "r # 行数（len(my_df)も可）\n",
        "\n",
        "c # 列数"
      ],
      "id": "61d19456-a422-47d4-8fe4-2d82ca0ba8cb"
    },
    {
      "cell_type": "code",
      "execution_count": null,
      "metadata": {
        "id": "bcf4992f-030b-46f9-9345-2a2c09371f28"
      },
      "outputs": [],
      "source": [
        "from itertools import product\n",
        "my_df2 = pd.DataFrame(\n",
        "    product([1, 2, 3],\n",
        "            [10, 100]),\n",
        "    columns=['X', 'Y'])\n",
        "my_df2"
      ],
      "id": "bcf4992f-030b-46f9-9345-2a2c09371f28"
    },
    {
      "cell_type": "code",
      "execution_count": null,
      "metadata": {
        "id": "c5eacad5-42a3-4d92-a56e-8ae019894c08"
      },
      "outputs": [],
      "source": [
        "my_df2.columns"
      ],
      "id": "c5eacad5-42a3-4d92-a56e-8ae019894c08"
    },
    {
      "cell_type": "code",
      "execution_count": null,
      "metadata": {
        "id": "3c7766f0-d4b1-4d7b-a847-e80b40918e88"
      },
      "outputs": [],
      "source": [
        "my_df2.columns = ['P', 'Q']\n",
        "my_df2\n",
        "# 以下省略"
      ],
      "id": "3c7766f0-d4b1-4d7b-a847-e80b40918e88"
    },
    {
      "cell_type": "code",
      "execution_count": null,
      "metadata": {
        "id": "c690848e-5301-4158-ad7c-7aead15e1e07"
      },
      "outputs": [],
      "source": [
        "list(my_df.index)"
      ],
      "id": "c690848e-5301-4158-ad7c-7aead15e1e07"
    },
    {
      "cell_type": "code",
      "execution_count": null,
      "metadata": {
        "id": "984876e0-f3c6-4236-8f31-9950198ca9fb"
      },
      "outputs": [],
      "source": [
        "my_df2.index = [\n",
        "    'a', 'b', 'c', 'd', 'e', 'f']\n",
        "my_df2\n",
        "# 以下省略"
      ],
      "id": "984876e0-f3c6-4236-8f31-9950198ca9fb"
    },
    {
      "cell_type": "code",
      "execution_count": null,
      "metadata": {
        "id": "0d46c887-08c2-4eee-b076-f9048ded5e8c"
      },
      "outputs": [],
      "source": [
        "my_df3 = pd.DataFrame({\n",
        "    'english': [ 60,  90,  70,  90],\n",
        "    'math':    [ 70,  80,  90, 100],\n",
        "    'gender':  ['f', 'm', 'm', 'f']},\n",
        "    index=     ['A', 'B', 'C', 'D'])\n",
        "my_df3"
      ],
      "id": "0d46c887-08c2-4eee-b076-f9048ded5e8c"
    },
    {
      "cell_type": "code",
      "execution_count": null,
      "metadata": {
        "id": "326bb171-cea1-4aee-8e93-dadc317d6223"
      },
      "outputs": [],
      "source": [
        "tmp = pd.DataFrame({\n",
        "    'name'   : ['E'],\n",
        "    'english': [80],\n",
        "    'math'   : [80],\n",
        "    'gender' : ['m']})\n",
        "my_df2 = pd.concat([my_df, tmp])"
      ],
      "id": "326bb171-cea1-4aee-8e93-dadc317d6223"
    },
    {
      "cell_type": "code",
      "execution_count": null,
      "metadata": {
        "id": "d33563e5-a7a6-41d6-acec-8eb20a5a65eb"
      },
      "outputs": [],
      "source": [
        "my_df2 = my_df.assign(id=[1, 2, 3, 4])"
      ],
      "id": "d33563e5-a7a6-41d6-acec-8eb20a5a65eb"
    },
    {
      "cell_type": "code",
      "execution_count": null,
      "metadata": {
        "id": "7dfec752-6c22-4c2d-8605-2fdc3a8edf61"
      },
      "outputs": [],
      "source": [
        "my_df3 = my_df.copy()       # コピー\n",
        "my_df3['id'] = [1, 2, 3, 4] # 更新\n",
        "my_df3 # 結果の確認（割愛）"
      ],
      "id": "7dfec752-6c22-4c2d-8605-2fdc3a8edf61"
    },
    {
      "cell_type": "code",
      "execution_count": null,
      "metadata": {
        "id": "bbfafea6-2aec-44a2-bdf7-35f2feeb56e2"
      },
      "outputs": [],
      "source": [
        "my_df.iloc[0, 1]"
      ],
      "id": "bbfafea6-2aec-44a2-bdf7-35f2feeb56e2"
    },
    {
      "cell_type": "code",
      "execution_count": null,
      "metadata": {
        "id": "36b962a8-3ac7-46b3-a372-104095b60a55"
      },
      "outputs": [],
      "source": [
        "x = my_df.iloc[:, 1]\n",
        "# あるいは\n",
        "x = my_df['english']\n",
        "# あるいは\n",
        "x = my_df.english\n",
        "# あるいは\n",
        "tmp = 'english'\n",
        "x = my_df[tmp]\n",
        "\n",
        "x # 結果の確認（割愛）"
      ],
      "id": "36b962a8-3ac7-46b3-a372-104095b60a55"
    },
    {
      "cell_type": "code",
      "execution_count": null,
      "metadata": {
        "id": "1808e935-6be2-4924-a9b9-2d2469d5b767"
      },
      "outputs": [],
      "source": [
        "x = my_df[['name', 'math']]\n",
        "# あるいは\n",
        "x = my_df.loc[:, ['name', 'math']]"
      ],
      "id": "1808e935-6be2-4924-a9b9-2d2469d5b767"
    },
    {
      "cell_type": "code",
      "execution_count": null,
      "metadata": {
        "id": "532956a6-b784-4a6e-824c-67f29e3003db"
      },
      "outputs": [],
      "source": [
        "x = my_df.take([0, 2], axis=1)\n",
        "# あるいは\n",
        "x = my_df.iloc[:, [0, 2]]"
      ],
      "id": "532956a6-b784-4a6e-824c-67f29e3003db"
    },
    {
      "cell_type": "code",
      "execution_count": null,
      "metadata": {
        "id": "b365ca79-a204-4d47-a368-e7d669605074"
      },
      "outputs": [],
      "source": [
        "x = my_df.drop(\n",
        "    columns=['english', 'gender'])\n",
        "# あるいは\n",
        "x = my_df.drop(\n",
        "    columns=my_df.columns[[1, 3]])"
      ],
      "id": "b365ca79-a204-4d47-a368-e7d669605074"
    },
    {
      "cell_type": "code",
      "execution_count": null,
      "metadata": {
        "id": "b8fb0be9-c3e1-490a-9091-ad3fe7214901"
      },
      "outputs": [],
      "source": [
        "x = my_df.take([0, 2])\n",
        "# あるいは\n",
        "x = my_df.iloc[[0, 2], :]"
      ],
      "id": "b8fb0be9-c3e1-490a-9091-ad3fe7214901"
    },
    {
      "cell_type": "code",
      "execution_count": null,
      "metadata": {
        "id": "b4cf6722-4835-43e6-b41d-40d516b67372"
      },
      "outputs": [],
      "source": [
        "x = my_df.drop([1, 3])"
      ],
      "id": "b4cf6722-4835-43e6-b41d-40d516b67372"
    },
    {
      "cell_type": "code",
      "execution_count": null,
      "metadata": {
        "id": "be3960a2-7385-447e-85fb-544779e19c3c"
      },
      "outputs": [],
      "source": [
        "x = my_df[my_df['gender'] == 'm']\n",
        "# あるいは\n",
        "x = my_df.query('gender == \"m\"')"
      ],
      "id": "be3960a2-7385-447e-85fb-544779e19c3c"
    },
    {
      "cell_type": "code",
      "execution_count": null,
      "metadata": {
        "id": "471ccacc-fe73-498b-8902-f3324ca69128"
      },
      "outputs": [],
      "source": [
        "x = my_df[(my_df['english'] > 80) & (my_df['gender'] == \"m\")]\n",
        "# あるいは\n",
        "x = my_df.query('english > 80 and gender == \"m\"')"
      ],
      "id": "471ccacc-fe73-498b-8902-f3324ca69128"
    },
    {
      "cell_type": "code",
      "execution_count": null,
      "metadata": {
        "id": "ac82c3a3-62ea-417c-9b16-6547e9ccaffc"
      },
      "outputs": [],
      "source": [
        "x = my_df[my_df['english'] == my_df['english'].max()]\n",
        "# あるいは\n",
        "tmp = my_df['english'].max()\n",
        "x = my_df.query('english == @tmp')"
      ],
      "id": "ac82c3a3-62ea-417c-9b16-6547e9ccaffc"
    },
    {
      "cell_type": "code",
      "execution_count": null,
      "metadata": {
        "id": "47aeff63-4b8b-484d-8e8d-bec029245edb"
      },
      "outputs": [],
      "source": [
        "my_df2 = my_df.copy() # コピー\n",
        "my_df2.loc[my_df['gender'] == 'm', 'gender'] = 'M'"
      ],
      "id": "47aeff63-4b8b-484d-8e8d-bec029245edb"
    },
    {
      "cell_type": "code",
      "execution_count": null,
      "metadata": {
        "id": "d4fdc279-a95c-4be0-8c1a-786498e58f1f"
      },
      "outputs": [],
      "source": [
        "my_df2"
      ],
      "id": "d4fdc279-a95c-4be0-8c1a-786498e58f1f"
    },
    {
      "cell_type": "code",
      "execution_count": null,
      "metadata": {
        "id": "9c137b71-5cba-4567-8bef-c22cef638772"
      },
      "outputs": [],
      "source": [
        "x = my_df.sort_values('english')"
      ],
      "id": "9c137b71-5cba-4567-8bef-c22cef638772"
    },
    {
      "cell_type": "code",
      "execution_count": null,
      "metadata": {
        "id": "58dbbf7e-af46-46bb-83fc-6805904f7632"
      },
      "outputs": [],
      "source": [
        "x = my_df.sort_values('english',\n",
        "    ascending=False)"
      ],
      "id": "58dbbf7e-af46-46bb-83fc-6805904f7632"
    },
    {
      "cell_type": "code",
      "execution_count": null,
      "metadata": {
        "id": "5d4b0331-2b6a-409f-b258-4cfd6e1a6e4d"
      },
      "outputs": [],
      "source": [
        "import numpy as np\n",
        "x = [2, 3, 5, 7, 11, 13, 17, 19, 23,\n",
        "     29, 31, 37]\n",
        "A = np.array(x).reshape(3, 4)\n",
        "A"
      ],
      "id": "5d4b0331-2b6a-409f-b258-4cfd6e1a6e4d"
    },
    {
      "cell_type": "code",
      "execution_count": null,
      "metadata": {
        "id": "010b931a-3610-46d0-8723-06a43408db01"
      },
      "outputs": [],
      "source": [
        "A = my_df.iloc[:, [1, 2]].values\n",
        "A"
      ],
      "id": "010b931a-3610-46d0-8723-06a43408db01"
    },
    {
      "cell_type": "code",
      "execution_count": null,
      "metadata": {
        "id": "b688877f-9d36-4141-954e-30c7c43f44f6"
      },
      "outputs": [],
      "source": [
        "pd.DataFrame(A)"
      ],
      "id": "b688877f-9d36-4141-954e-30c7c43f44f6"
    },
    {
      "cell_type": "code",
      "execution_count": null,
      "metadata": {
        "id": "76960ba4-6660-404c-b61d-7d3314c30a5d"
      },
      "outputs": [],
      "source": [
        "A.T"
      ],
      "id": "76960ba4-6660-404c-b61d-7d3314c30a5d"
    },
    {
      "cell_type": "code",
      "execution_count": null,
      "metadata": {
        "id": "4528612d-1e3e-4cf0-be9c-8639d4141af6"
      },
      "outputs": [],
      "source": [
        "A.T @ A"
      ],
      "id": "4528612d-1e3e-4cf0-be9c-8639d4141af6"
    },
    {
      "cell_type": "code",
      "execution_count": null,
      "metadata": {
        "id": "4e95639f-4caf-416d-a6c9-090818cb7c51"
      },
      "outputs": [],
      "source": [
        "my_df = pd.DataFrame({\n",
        "    'day': [25, 26, 27],\n",
        "    'min': [20, 21, 15],\n",
        "    'max': [24, 27, 21]})"
      ],
      "id": "4e95639f-4caf-416d-a6c9-090818cb7c51"
    },
    {
      "cell_type": "code",
      "execution_count": null,
      "metadata": {
        "id": "b2d12bb9-7a9c-41aa-a50c-e7af4da79a2c"
      },
      "outputs": [],
      "source": [
        "my_longer = my_df.melt(id_vars='day')\n",
        "my_longer"
      ],
      "id": "b2d12bb9-7a9c-41aa-a50c-e7af4da79a2c"
    },
    {
      "cell_type": "code",
      "execution_count": null,
      "metadata": {
        "id": "9fdfc23d-b54f-433c-b807-c6b3c034d203"
      },
      "outputs": [],
      "source": [
        "my_wider = my_longer.pivot(\n",
        "    index='day',\n",
        "    columns='variable',\n",
        "    values='value')\n",
        "my_wider"
      ],
      "id": "9fdfc23d-b54f-433c-b807-c6b3c034d203"
    },
    {
      "cell_type": "code",
      "execution_count": null,
      "metadata": {
        "id": "84fa5e63-f0bc-46ff-9d29-91c6ca8d3ffa"
      },
      "outputs": [],
      "source": [
        "my_wider.plot(\n",
        "    style='o-',\n",
        "    xticks=my_wider.index, # x軸目盛り\n",
        "    ylabel='temperature')  # y軸ラベル"
      ],
      "id": "84fa5e63-f0bc-46ff-9d29-91c6ca8d3ffa"
    },
    {
      "id": "b11757f9",
      "cell_type": "markdown",
      "source": [
        "## 3.5 1次元データの（非）類似度"
      ],
      "metadata": {
        "id": "b11757f9"
      }
    },
    {
      "cell_type": "code",
      "execution_count": null,
      "metadata": {
        "id": "0ff0cd61-aaba-4ba5-894f-63aa79e8fb22"
      },
      "outputs": [],
      "source": [
        "import numpy as np\n",
        "from scipy.spatial import distance\n",
        "from scipy.stats import pearsonr\n",
        "\n",
        "A = np.array([3,   4,  5])\n",
        "B = np.array([3,   4, 29])\n",
        "C = np.array([9, -18,  8])\n",
        "\n",
        "distance.euclidean(A, B)\n",
        "\n",
        "distance.euclidean(A, C)"
      ],
      "id": "0ff0cd61-aaba-4ba5-894f-63aa79e8fb22"
    },
    {
      "cell_type": "code",
      "execution_count": null,
      "metadata": {
        "id": "b3c72e7b-a93e-4396-8393-426582ee8fb0"
      },
      "outputs": [],
      "source": [
        "distance.cityblock(A, B)\n",
        "\n",
        "distance.cityblock(A, C)"
      ],
      "id": "b3c72e7b-a93e-4396-8393-426582ee8fb0"
    },
    {
      "cell_type": "code",
      "execution_count": null,
      "metadata": {
        "id": "13f212d2-87ed-40f8-bfae-5d52153edbf4"
      },
      "outputs": [],
      "source": [
        "1 - distance.cosine(A, B)\n",
        "\n",
        "1 - distance.cosine(A, C)"
      ],
      "id": "13f212d2-87ed-40f8-bfae-5d52153edbf4"
    },
    {
      "cell_type": "code",
      "execution_count": null,
      "metadata": {
        "id": "7c49aec2-6d87-450e-ae94-1ed8892053a9"
      },
      "outputs": [],
      "source": [
        "1 - distance.correlation(A, B)\n",
        "# あるいは\n",
        "pearsonr(A, B)[0]\n",
        "\n",
        "1 - distance.correlation(A, C)\n",
        "# あるいは\n",
        "pearsonr(A, C)[0]"
      ],
      "id": "7c49aec2-6d87-450e-ae94-1ed8892053a9"
    },
    {
      "cell_type": "code",
      "execution_count": null,
      "metadata": {
        "id": "3735db82-a849-43f6-aba6-19467275c010"
      },
      "outputs": [],
      "source": [
        "# 小数点以下は3桁表示\n",
        "np.set_printoptions(precision=3)\n",
        "import pandas as pd\n",
        "\n",
        "my_df = pd.DataFrame({\n",
        "    'x': [3,  3,   9],\n",
        "    'y': [4,  4, -18],\n",
        "    'z': [5, 29,   8]},\n",
        "    index=['A', 'B', 'C'])\n",
        "\n",
        "# ユークリッド距離\n",
        "distance.cdist(my_df, my_df,\n",
        "               metric='euclidean')\n",
        "\n",
        "# マンハッタン距離\n",
        "distance.cdist(my_df, my_df,\n",
        "               metric='cityblock')\n",
        "\n",
        "# コサイン類似度\n",
        "1 - distance.cdist(my_df, my_df,\n",
        "    metric='cosine')\n",
        "\n",
        "# 相関係数\n",
        "1 - distance.cdist(my_df, my_df,\n",
        "    metric='correlation')"
      ],
      "id": "3735db82-a849-43f6-aba6-19467275c010"
    },
    {
      "id": "45e467b7",
      "cell_type": "markdown",
      "source": [
        "## 3.6 Rのパッケージ，Pythonのモジュール"
      ],
      "metadata": {
        "id": "45e467b7"
      }
    },
    {
      "cell_type": "code",
      "execution_count": null,
      "metadata": {
        "id": "8b895840-57ca-41ca-bccb-2bea335f0050"
      },
      "outputs": [],
      "source": [
        "import math\n",
        "import numpy as np\n",
        "import pandas as pd"
      ],
      "id": "8b895840-57ca-41ca-bccb-2bea335f0050"
    },
    {
      "cell_type": "code",
      "execution_count": null,
      "metadata": {
        "id": "87d291ab-1749-478c-8527-4669f4909e55"
      },
      "outputs": [],
      "source": [
        "import numpy\n",
        "numpy.array([1, 2, 3, 4])"
      ],
      "id": "87d291ab-1749-478c-8527-4669f4909e55"
    },
    {
      "cell_type": "code",
      "execution_count": null,
      "metadata": {
        "id": "0eb8db23-6b7b-4c14-b920-7bbc3ed1879c"
      },
      "outputs": [],
      "source": [
        "import numpy as np\n",
        "np.array([1, 2, 3, 4])"
      ],
      "id": "0eb8db23-6b7b-4c14-b920-7bbc3ed1879c"
    },
    {
      "cell_type": "code",
      "execution_count": null,
      "metadata": {
        "id": "4c4b9d06-4e07-4555-b807-c714f62c596f"
      },
      "outputs": [],
      "source": [
        "from numpy import array\n",
        "array([1, 2, 3, 4])"
      ],
      "id": "4c4b9d06-4e07-4555-b807-c714f62c596f"
    },
    {
      "cell_type": "code",
      "execution_count": null,
      "metadata": {
        "id": "7aeb154b-e442-4ced-a300-4a89e1ad3c2a"
      },
      "outputs": [],
      "source": [
        "from numpy import *\n",
        "array([1, 2, 3, 4])"
      ],
      "id": "7aeb154b-e442-4ced-a300-4a89e1ad3c2a"
    },
    {
      "id": "8a2463e4",
      "cell_type": "markdown",
      "source": [
        "## 3.7 反復処理"
      ],
      "metadata": {
        "id": "8a2463e4"
      }
    },
    {
      "cell_type": "code",
      "execution_count": null,
      "metadata": {
        "id": "00e8ad00-293d-4271-955b-794b5bc41088"
      },
      "outputs": [],
      "source": [
        "import numpy as np\n",
        "import pandas as pd"
      ],
      "id": "00e8ad00-293d-4271-955b-794b5bc41088"
    },
    {
      "cell_type": "code",
      "execution_count": null,
      "metadata": {
        "id": "c10295b2-94e7-495d-8478-115d5ea0ee99"
      },
      "outputs": [],
      "source": [
        "def f1(x):\n",
        "    tmp = np.random.random(x)\n",
        "    return np.mean(tmp)\n",
        "\n",
        "f1(10)                # 動作確認"
      ],
      "id": "c10295b2-94e7-495d-8478-115d5ea0ee99"
    },
    {
      "cell_type": "code",
      "execution_count": null,
      "metadata": {
        "id": "87062eb7-8ceb-4254-8d26-9cdc20a02f28"
      },
      "outputs": [],
      "source": [
        "[f1(10) for i in range(3)]"
      ],
      "id": "87062eb7-8ceb-4254-8d26-9cdc20a02f28"
    },
    {
      "cell_type": "code",
      "execution_count": null,
      "metadata": {
        "id": "701b8e7e-6b05-4a16-8f39-14bb1c9466d6"
      },
      "outputs": [],
      "source": [
        "[f1(10)] * 3"
      ],
      "id": "701b8e7e-6b05-4a16-8f39-14bb1c9466d6"
    },
    {
      "cell_type": "code",
      "execution_count": null,
      "metadata": {
        "id": "0ecbd043-d610-41a0-8731-29d75d727288"
      },
      "outputs": [],
      "source": [
        "v = [5, 10, 100]\n",
        "[f1(x) for x in v] # 方法1\n",
        "\n",
        "# あるいは\n",
        "\n",
        "v = pd.Series([5, 10, 100])\n",
        "v.apply(f1)        # 方法2"
      ],
      "id": "0ecbd043-d610-41a0-8731-29d75d727288"
    },
    {
      "cell_type": "code",
      "execution_count": null,
      "metadata": {
        "id": "7c9cae0e-120a-4e50-bdf1-4b974294df93"
      },
      "outputs": [],
      "source": [
        "pd.Series([10] * 3).apply(f1)\n",
        "# 結果は割愛"
      ],
      "id": "7c9cae0e-120a-4e50-bdf1-4b974294df93"
    },
    {
      "cell_type": "code",
      "execution_count": null,
      "metadata": {
        "id": "61fa3856-b5dd-471e-acba-1d0f7f3dfcec"
      },
      "outputs": [],
      "source": [
        "def f2(n):\n",
        "    tmp = np.random.random(n)\n",
        "    return pd.Series([\n",
        "        n,\n",
        "        tmp.mean(),\n",
        "        tmp.std(ddof=1)],\n",
        "        index=['x', 'p', 'q'])\n",
        "\n",
        "f2(10) # 動作確認"
      ],
      "id": "61fa3856-b5dd-471e-acba-1d0f7f3dfcec"
    },
    {
      "cell_type": "code",
      "execution_count": null,
      "metadata": {
        "id": "19913563-73bc-43e3-8bff-821a7be07659"
      },
      "outputs": [],
      "source": [
        "v = pd.Series([5, 10, 100])\n",
        "v.apply(f2)"
      ],
      "id": "19913563-73bc-43e3-8bff-821a7be07659"
    },
    {
      "cell_type": "code",
      "execution_count": null,
      "metadata": {
        "id": "4bcfeede-0c00-4f7a-96e9-0874a9565f23"
      },
      "outputs": [],
      "source": [
        "def f3(x, y):\n",
        "    tmp = np.random.random(x) * y\n",
        "    return pd.Series([\n",
        "        x,\n",
        "        y,\n",
        "        tmp.mean(),\n",
        "        tmp.std(ddof=1)],\n",
        "        index=['x', 'y', 'p', 'q'])\n",
        "\n",
        "f3(10, 6) # 動作確認"
      ],
      "id": "4bcfeede-0c00-4f7a-96e9-0874a9565f23"
    },
    {
      "cell_type": "code",
      "execution_count": null,
      "metadata": {
        "id": "561fa4bc-31fb-4684-a706-0590a258ef86"
      },
      "outputs": [],
      "source": [
        "my_df = pd.DataFrame({\n",
        "    'x': [5, 10, 100,  5, 10, 100],\n",
        "    'y': [6,  6,   6, 12, 12,  12]})\n",
        "\n",
        "my_df.apply(\n",
        "  lambda row: f3(row['x'], row['y']),\n",
        "  axis=1)\n",
        "# あるいは\n",
        "my_df.apply(lambda row:\n",
        "            f3(*row), axis=1)\n"
      ],
      "id": "561fa4bc-31fb-4684-a706-0590a258ef86"
    },
    {
      "cell_type": "code",
      "execution_count": null,
      "metadata": {
        "id": "a893d00f-f190-4f53-9bc0-2f8f51674780"
      },
      "outputs": [],
      "source": [
        "from pandarallel import pandarallel\n",
        "pandarallel.initialize() # 準備\n",
        "\n",
        "v = pd.Series([5, 10, 100])\n",
        "v.parallel_apply(f1)\n",
        "# 結果は割愛"
      ],
      "id": "a893d00f-f190-4f53-9bc0-2f8f51674780"
    },
    {
      "id": "d25675b8",
      "cell_type": "markdown",
      "source": [
        "## 3.8 その他"
      ],
      "metadata": {
        "id": "d25675b8"
      }
    },
    {
      "cell_type": "code",
      "execution_count": null,
      "metadata": {
        "id": "825a1fa4-5f8a-422b-838c-badac682f45e"
      },
      "outputs": [],
      "source": [
        "x = 123\n",
        "type(x)"
      ],
      "id": "825a1fa4-5f8a-422b-838c-badac682f45e"
    },
    {
      "cell_type": "code",
      "execution_count": null,
      "metadata": {
        "id": "a20cfab7-0081-47fa-831c-712a91dcafb0"
      },
      "outputs": [],
      "source": [
        "%whos"
      ],
      "id": "a20cfab7-0081-47fa-831c-712a91dcafb0"
    },
    {
      "cell_type": "code",
      "execution_count": null,
      "metadata": {
        "id": "ecc49271-6afa-42a9-b961-e5895a4df068"
      },
      "outputs": [],
      "source": [
        "import math\n",
        "?math.log\n",
        "# あるいは\n",
        "help(math.log)"
      ],
      "id": "ecc49271-6afa-42a9-b961-e5895a4df068"
    },
    {
      "cell_type": "code",
      "execution_count": null,
      "metadata": {
        "id": "fc44929f-f248-49cd-a2d1-f427bf74daa8"
      },
      "outputs": [],
      "source": [
        "import numpy as np\n",
        "v = [1, np.nan, 3]\n",
        "v"
      ],
      "id": "fc44929f-f248-49cd-a2d1-f427bf74daa8"
    },
    {
      "cell_type": "code",
      "execution_count": null,
      "metadata": {
        "id": "dfe344c3-dd8a-40c5-8aa6-bb6f9f67c04c"
      },
      "outputs": [],
      "source": [
        "np.isnan(v[1])\n",
        "\n",
        "v[1] == np.nan # 誤り"
      ],
      "id": "dfe344c3-dd8a-40c5-8aa6-bb6f9f67c04c"
    },
    {
      "id": "c92a0a1b",
      "cell_type": "markdown",
      "source": [
        "# 4 統計入門\n",
        "\n",
        "\n"
      ],
      "metadata": {
        "id": "c92a0a1b"
      }
    },
    {
      "id": "d679271f",
      "cell_type": "markdown",
      "source": [
        "## 4.1 記述統計"
      ],
      "metadata": {
        "id": "d679271f"
      }
    },
    {
      "cell_type": "code",
      "execution_count": null,
      "metadata": {
        "id": "e3af4844-a497-4f4d-b11f-16bf8a26c752"
      },
      "outputs": [],
      "source": [
        "import numpy as np\n",
        "import pandas as pd\n",
        "\n",
        "x = [165, 170, 175, 180, 185]\n",
        "np.mean(x) # リストの場合\n",
        "\n",
        "x = np.array( # アレイ\n",
        "    [165, 170, 175, 180, 185])\n",
        "x.mean() # np.mean(x)も可\n",
        "\n",
        "x = pd.Series( # シリーズ\n",
        "    [165, 170, 175, 180, 185])\n",
        "x.mean() # np.mean(x)も可"
      ],
      "id": "e3af4844-a497-4f4d-b11f-16bf8a26c752"
    },
    {
      "cell_type": "code",
      "execution_count": null,
      "metadata": {
        "id": "af724461-76c7-4ad8-a493-e75eeed40ebd"
      },
      "outputs": [],
      "source": [
        "n = len(x) # サンプルサイズ\n",
        "sum(x) / n"
      ],
      "id": "af724461-76c7-4ad8-a493-e75eeed40ebd"
    },
    {
      "cell_type": "code",
      "execution_count": null,
      "metadata": {
        "id": "08946159-97df-4cfc-ac19-247a178ccb04"
      },
      "outputs": [],
      "source": [
        "y = [173, 174, 175, 176, 177]\n",
        "np.mean(y)"
      ],
      "id": "08946159-97df-4cfc-ac19-247a178ccb04"
    },
    {
      "cell_type": "code",
      "execution_count": null,
      "metadata": {
        "id": "aaa99e6e-c3f2-4cee-83a0-51f5b80cfaba"
      },
      "outputs": [],
      "source": [
        "np.var(x, ddof=1) # xの分散\n",
        "\n",
        "np.var(y, ddof=1) # yの分散"
      ],
      "id": "aaa99e6e-c3f2-4cee-83a0-51f5b80cfaba"
    },
    {
      "cell_type": "code",
      "execution_count": null,
      "metadata": {
        "id": "4a7cad2c-760c-4cd7-9d27-cc43ef29fb3d"
      },
      "outputs": [],
      "source": [
        "sum((x - np.mean(x))**2) / (n - 1)"
      ],
      "id": "4a7cad2c-760c-4cd7-9d27-cc43ef29fb3d"
    },
    {
      "cell_type": "code",
      "execution_count": null,
      "metadata": {
        "id": "07995627-8e07-4396-90cb-710251a5576e"
      },
      "outputs": [],
      "source": [
        "np.std(x, ddof=1) # xの標準偏差\n",
        "\n",
        "np.std(y, ddof=1) # yの標準偏差"
      ],
      "id": "07995627-8e07-4396-90cb-710251a5576e"
    },
    {
      "cell_type": "code",
      "execution_count": null,
      "metadata": {
        "id": "ab286cde-908e-4b98-bb8a-b23500f25877"
      },
      "outputs": [],
      "source": [
        "np.var(x, ddof=1)**0.5 # xの標準偏差"
      ],
      "id": "ab286cde-908e-4b98-bb8a-b23500f25877"
    },
    {
      "cell_type": "code",
      "execution_count": null,
      "metadata": {
        "id": "202904ef-8cc6-4352-8b28-482925f58a38"
      },
      "outputs": [],
      "source": [
        "s = pd.Series(x)\n",
        "s.describe()"
      ],
      "id": "202904ef-8cc6-4352-8b28-482925f58a38"
    },
    {
      "cell_type": "code",
      "execution_count": null,
      "metadata": {
        "id": "a438fd24-da44-44ea-9f79-277dfd577626"
      },
      "outputs": [],
      "source": [
        "# s.describe()で計算済み"
      ],
      "id": "a438fd24-da44-44ea-9f79-277dfd577626"
    },
    {
      "cell_type": "code",
      "execution_count": null,
      "metadata": {
        "id": "3abadad9-7e3d-4ff1-879d-8e1f4e945d62"
      },
      "outputs": [],
      "source": [
        "x = [165, 170, 175, 180, 185]\n",
        "\n",
        "np.var(x, ddof=1) # 不偏分散\n",
        "\n",
        "np.var(x, ddof=0) # 標本分散"
      ],
      "id": "3abadad9-7e3d-4ff1-879d-8e1f4e945d62"
    },
    {
      "cell_type": "code",
      "execution_count": null,
      "metadata": {
        "id": "5eb5c08e-7bed-4cf0-b1ac-b17dcbe2fa9d"
      },
      "outputs": [],
      "source": [
        "np.std(x, ddof=1) # √不偏分散\n",
        "\n",
        "np.std(x, ddof=0) # √標本分散"
      ],
      "id": "5eb5c08e-7bed-4cf0-b1ac-b17dcbe2fa9d"
    },
    {
      "cell_type": "code",
      "execution_count": null,
      "metadata": {
        "id": "2fb6628d-7336-46fc-a35b-a47084045e16"
      },
      "outputs": [],
      "source": [
        "np.std(x, ddof=1) / len(x)**0.5"
      ],
      "id": "2fb6628d-7336-46fc-a35b-a47084045e16"
    },
    {
      "cell_type": "code",
      "execution_count": null,
      "metadata": {
        "id": "ff7496b1-b568-4efb-bcb1-3d249208d408"
      },
      "outputs": [],
      "source": [
        "import numpy as np\n",
        "import pandas as pd\n",
        "\n",
        "my_df = pd.DataFrame({\n",
        "    'name':    ['A', 'B', 'C', 'D'],\n",
        "    'english': [ 60,  90,  70,  90],\n",
        "    'math':    [ 70,  80,  90, 100],\n",
        "    'gender':  ['f', 'm', 'm', 'f']})"
      ],
      "id": "ff7496b1-b568-4efb-bcb1-3d249208d408"
    },
    {
      "cell_type": "code",
      "execution_count": null,
      "metadata": {
        "id": "675dd18e-a763-4bc8-805d-6487b57626ab"
      },
      "outputs": [],
      "source": [
        "my_df['english'].var(ddof=1)\n",
        "# あるいは\n",
        "np.var(my_df['english'], ddof=1)\n"
      ],
      "id": "675dd18e-a763-4bc8-805d-6487b57626ab"
    },
    {
      "cell_type": "code",
      "execution_count": null,
      "metadata": {
        "id": "eb226353-bb98-40e2-9ff9-146f4be1ed04"
      },
      "outputs": [],
      "source": [
        "my_df.var(numeric_only=True)\n",
        "# あるいは\n",
        "my_df.apply('var', numeric_only=True)\n",
        "# あるいは\n",
        "my_df.iloc[:, [1, 2]].apply(\n",
        "    lambda x: np.var(x, ddof=1))\n"
      ],
      "id": "eb226353-bb98-40e2-9ff9-146f4be1ed04"
    },
    {
      "cell_type": "code",
      "execution_count": null,
      "metadata": {
        "id": "1c424e90-2577-4c42-9419-fca202b7153e"
      },
      "outputs": [],
      "source": [
        "my_df.describe()"
      ],
      "id": "1c424e90-2577-4c42-9419-fca202b7153e"
    },
    {
      "cell_type": "code",
      "execution_count": null,
      "metadata": {
        "id": "1a707517-0dcf-40d8-b61e-bc0c60a2f8b9"
      },
      "outputs": [],
      "source": [
        "from collections import Counter\n",
        "Counter(my_df.gender)\n",
        "\n",
        "# あるいは\n",
        "\n",
        "my_df.groupby('gender').apply(len)"
      ],
      "id": "1a707517-0dcf-40d8-b61e-bc0c60a2f8b9"
    },
    {
      "cell_type": "code",
      "execution_count": null,
      "metadata": {
        "id": "7cb9b018-4c20-4a30-bfa4-4d07d87d41d2"
      },
      "outputs": [],
      "source": [
        "my_df2 = my_df.assign(\n",
        "    excel=my_df.math >= 80)\n",
        "pd.crosstab(my_df2.gender,\n",
        "            my_df2.excel)"
      ],
      "id": "7cb9b018-4c20-4a30-bfa4-4d07d87d41d2"
    },
    {
      "cell_type": "code",
      "execution_count": null,
      "metadata": {
        "id": "b1bc601d-7028-4e6b-a344-406651952be0"
      },
      "outputs": [],
      "source": [
        "my_df.groupby('gender').mean(numeric_only=True)\n",
        "# あるいは\n",
        "my_df.groupby('gender').agg('mean', numeric_only=True)\n",
        "# あるいは\n",
        "my_df.drop(['name'], axis=1).groupby('gender').agg(np.mean)\n"
      ],
      "id": "b1bc601d-7028-4e6b-a344-406651952be0"
    },
    {
      "id": "b6b8a5c2",
      "cell_type": "markdown",
      "source": [
        "## 4.2 データの可視化"
      ],
      "metadata": {
        "id": "b6b8a5c2"
      }
    },
    {
      "cell_type": "code",
      "execution_count": null,
      "metadata": {
        "id": "d78ee790-885c-40c0-b8f4-0dac2890b047"
      },
      "outputs": [],
      "source": [
        "import numpy as np\n",
        "import pandas as pd\n",
        "import statsmodels.api as sm\n",
        "iris = sm.datasets.get_rdataset('iris', 'datasets').data\n",
        "iris.head()"
      ],
      "id": "d78ee790-885c-40c0-b8f4-0dac2890b047"
    },
    {
      "cell_type": "code",
      "execution_count": null,
      "metadata": {
        "id": "0cfa6a3e-23fd-49b5-9569-f710525de058"
      },
      "outputs": [],
      "source": [
        "iris.hist('Sepal.Length')"
      ],
      "id": "0cfa6a3e-23fd-49b5-9569-f710525de058"
    },
    {
      "cell_type": "code",
      "execution_count": null,
      "metadata": {
        "id": "76f0872a-e8e0-4bd4-8ca6-c8da5b72d9cd"
      },
      "outputs": [],
      "source": [
        "my_df = pd.DataFrame(\n",
        "    {'x': [10, 20, 30]})\n",
        "my_df.hist('x', bins=2) # 階級数は2"
      ],
      "id": "76f0872a-e8e0-4bd4-8ca6-c8da5b72d9cd"
    },
    {
      "cell_type": "code",
      "execution_count": null,
      "metadata": {
        "id": "d05c1928-0a4b-4e37-af59-cdc536dedf10"
      },
      "outputs": [],
      "source": [
        "x = iris['Sepal.Length']\n",
        "tmp = np.linspace(min(x), max(x), 10)\n",
        "iris.hist('Sepal.Length',\n",
        "          bins=tmp.round(2))"
      ],
      "id": "d05c1928-0a4b-4e37-af59-cdc536dedf10"
    },
    {
      "cell_type": "code",
      "execution_count": null,
      "metadata": {
        "id": "57d5919f-f6fb-44d6-9eea-4d19f00f1e5f"
      },
      "outputs": [],
      "source": [
        "iris.plot('Sepal.Length',\n",
        "          'Sepal.Width',\n",
        "          kind='scatter')"
      ],
      "id": "57d5919f-f6fb-44d6-9eea-4d19f00f1e5f"
    },
    {
      "cell_type": "code",
      "execution_count": null,
      "metadata": {
        "id": "21fd5eab-df1b-46f4-a908-82b355441b65"
      },
      "outputs": [],
      "source": [
        "iris.boxplot()"
      ],
      "id": "21fd5eab-df1b-46f4-a908-82b355441b65"
    },
    {
      "cell_type": "code",
      "execution_count": null,
      "metadata": {
        "id": "ae454402-12ee-435e-982c-eabbad3dc3dc"
      },
      "outputs": [],
      "source": [
        "pd.options.display.float_format = (\n",
        "    '{:.2f}'.format)\n",
        "my_df = (iris.describe().transpose()\n",
        "    [['mean', 'std']])\n",
        "my_df['se'] = (my_df['std'] /\n",
        "               len(iris)**0.5)\n",
        "my_df"
      ],
      "id": "ae454402-12ee-435e-982c-eabbad3dc3dc"
    },
    {
      "cell_type": "code",
      "execution_count": null,
      "metadata": {
        "id": "3c2a9452-8676-421e-97dc-5fbc3295975f"
      },
      "outputs": [],
      "source": [
        "my_df.plot(y='mean', kind='bar', yerr='se', capsize=10)"
      ],
      "id": "3c2a9452-8676-421e-97dc-5fbc3295975f"
    },
    {
      "cell_type": "code",
      "execution_count": null,
      "metadata": {
        "id": "b5d891b4-bd31-4404-b40e-df1ccf2fec95"
      },
      "outputs": [],
      "source": [
        "my_group = iris.groupby('Species')                    # 品種ごとに，\n",
        "my_df = my_group.agg('mean')                          # 各変数の，平均と\n",
        "my_se = my_group.agg(lambda x: x.std() / len(x)**0.5) # 標準誤差を求める．\n",
        "my_se"
      ],
      "id": "b5d891b4-bd31-4404-b40e-df1ccf2fec95"
    },
    {
      "cell_type": "code",
      "execution_count": null,
      "metadata": {
        "id": "97cc0d6e-7f8d-426a-8dae-0a0fa8cd4cfb"
      },
      "outputs": [],
      "source": [
        "my_group.agg('mean').plot(kind='bar', yerr=my_se, capsize=5)"
      ],
      "id": "97cc0d6e-7f8d-426a-8dae-0a0fa8cd4cfb"
    },
    {
      "cell_type": "code",
      "execution_count": null,
      "metadata": {
        "id": "b7acdc51-fcd0-413b-a407-9e53ce8aa6f4"
      },
      "outputs": [],
      "source": [
        "from statsmodels.graphics.mosaicplot \\\n",
        "    import mosaic\n",
        "\n",
        "my_df = pd.DataFrame({\n",
        "    'Species': iris.Species,\n",
        "    'w_Sepal': iris['Sepal.Width'] > 3})\n",
        "\n",
        "my_table = pd.crosstab( # 分割表\n",
        "    my_df['Species'],\n",
        "    my_df['w_Sepal'])\n",
        "my_table\n",
        "\n",
        "mosaic(my_df,\n",
        "       index=['Species', 'w_Sepal'])"
      ],
      "id": "b7acdc51-fcd0-413b-a407-9e53ce8aa6f4"
    },
    {
      "cell_type": "code",
      "execution_count": null,
      "metadata": {
        "id": "9778be9f-3000-4acf-811b-b0e26a388fe7"
      },
      "outputs": [],
      "source": [
        "my_table.columns = [str(x) for x in my_table.columns]\n",
        "my_table.index   = [str(x) for x in my_table.index]\n",
        "mosaic(my_df, index=['Species', 'w_Sepal'], labelizer=lambda k: my_table.loc[k])"
      ],
      "id": "9778be9f-3000-4acf-811b-b0e26a388fe7"
    },
    {
      "cell_type": "code",
      "execution_count": null,
      "metadata": {
        "id": "f221cbcd-5f89-4b4a-8019-690f5e53c0a8"
      },
      "outputs": [],
      "source": [
        "import matplotlib.pyplot as plt\n",
        "import numpy as np\n",
        "\n",
        "x = np.linspace(-2, 2, 100)\n",
        "y = x**3 - x\n",
        "plt.plot(x, y)"
      ],
      "id": "f221cbcd-5f89-4b4a-8019-690f5e53c0a8"
    },
    {
      "id": "7f21a35c",
      "cell_type": "markdown",
      "source": [
        "## 4.3 乱数"
      ],
      "metadata": {
        "id": "7f21a35c"
      }
    },
    {
      "cell_type": "code",
      "execution_count": null,
      "metadata": {
        "id": "6a0e9929-00f4-42c1-809f-7dc6f37b07a5"
      },
      "outputs": [],
      "source": [
        "import matplotlib.pyplot as plt\n",
        "import numpy as np\n",
        "rng = np.random.default_rng()"
      ],
      "id": "6a0e9929-00f4-42c1-809f-7dc6f37b07a5"
    },
    {
      "cell_type": "code",
      "execution_count": null,
      "metadata": {
        "id": "a482fe14-42fc-4ec0-9a49-03168223dab2"
      },
      "outputs": [],
      "source": [
        "x = np.random.choice(\n",
        "    a=range(1, 7), # 1から6\n",
        "    size=10000,    # 乱数の数\n",
        "    replace=True)  # 重複あり\n",
        "# あるいは\n",
        "x = np.random.randint(\n",
        "# あるいは\n",
        "#x = rng.integers(\n",
        "    low=1,      # 最小\n",
        "    high=7,     # 最大+1\n",
        "    size=10000) # 乱数の数\n",
        "\n",
        "plt.hist(x, bins=6) # ヒストグラム"
      ],
      "id": "a482fe14-42fc-4ec0-9a49-03168223dab2"
    },
    {
      "cell_type": "code",
      "execution_count": null,
      "metadata": {
        "id": "6eb6c7fd-c66f-4dfa-b797-89148e4b637d"
      },
      "outputs": [],
      "source": [
        "x = np.random.random(size=1000)\n",
        "# あるいは\n",
        "x = rng.random(size=10000)\n",
        "# あるいは\n",
        "x = np.random.uniform(\n",
        "    low=0,     # 最小\n",
        "    high=1,    # 最大\n",
        "    size=1000) # 乱数の数\n",
        "plt.hist(x)"
      ],
      "id": "6eb6c7fd-c66f-4dfa-b797-89148e4b637d"
    },
    {
      "cell_type": "code",
      "execution_count": null,
      "metadata": {
        "id": "e166dac2-b269-49fa-a94d-0a051cc1af9a"
      },
      "outputs": [],
      "source": [
        "tmp = np.random.uniform(\n",
        "    low=1,     # 最小\n",
        "    high=7,    # 最大 + 1\n",
        "    size=1000) # 乱数の数\n",
        "x = [int(k) for k in tmp]\n",
        "plt.hist(x, bins=6) # 結果は割愛"
      ],
      "id": "e166dac2-b269-49fa-a94d-0a051cc1af9a"
    },
    {
      "cell_type": "code",
      "execution_count": null,
      "metadata": {
        "id": "5d010d4e-d709-48fd-a790-1c89b0dcba6c"
      },
      "outputs": [],
      "source": [
        "n = 100\n",
        "p = 0.5\n",
        "r = 10000\n",
        "x = np.random.binomial(\n",
        "# あるいは\n",
        "#x = rng.binomial(\n",
        "    n=n,    # 試行回数\n",
        "    p=p,    # 確率\n",
        "    size=r) # 乱数の数\n",
        "plt.hist(x, bins=max(x) - min(x))"
      ],
      "id": "5d010d4e-d709-48fd-a790-1c89b0dcba6c"
    },
    {
      "cell_type": "code",
      "execution_count": null,
      "metadata": {
        "id": "5e49df08-b729-4c53-aac6-ac1a4cc663fc"
      },
      "outputs": [],
      "source": [
        "r = 10000\n",
        "x = np.random.normal(\n",
        "# あるいは\n",
        "#x = rng.normal(\n",
        "    loc=50,  # 平均\n",
        "    scale=5, # 標準偏差\n",
        "    size=r)  # 乱数の数\n",
        "plt.hist(x, bins=40)"
      ],
      "id": "5e49df08-b729-4c53-aac6-ac1a4cc663fc"
    },
    {
      "cell_type": "code",
      "execution_count": null,
      "metadata": {
        "id": "f55b6f44-ec58-4b79-a3ca-693738d1636a"
      },
      "outputs": [],
      "source": [
        "import numpy as np\n",
        "import pandas as pd\n",
        "\n",
        "def f(k):\n",
        "    n = 10000\n",
        "    tmp = [g(np.random.normal(size=k, scale=3)) for _ in range(n)]\n",
        "    return pd.Series([k,\n",
        "                      np.mean(tmp),                  # 平均\n",
        "                      np.std(tmp, ddof=1) / n**0.5], # 標準誤差\n",
        "                     index=['k', 'mean', 'se'])"
      ],
      "id": "f55b6f44-ec58-4b79-a3ca-693738d1636a"
    },
    {
      "cell_type": "code",
      "execution_count": null,
      "metadata": {
        "id": "bd5b59f0-9381-4145-b4ee-293cf800a50e"
      },
      "outputs": [],
      "source": [
        "def g(x):\n",
        "    return np.var(x, ddof=1)\n",
        "pd.Series([10, 20, 30]).apply(f)"
      ],
      "id": "bd5b59f0-9381-4145-b4ee-293cf800a50e"
    },
    {
      "cell_type": "code",
      "execution_count": null,
      "metadata": {
        "id": "0aaf5d42-a0c3-4391-9294-b93a67088f33"
      },
      "outputs": [],
      "source": [
        "def g(x):\n",
        "    return np.std(x, ddof=1)\n",
        "pd.Series([10, 20, 30]).apply(f)"
      ],
      "id": "0aaf5d42-a0c3-4391-9294-b93a67088f33"
    },
    {
      "cell_type": "code",
      "execution_count": null,
      "metadata": {
        "id": "60c2c97e-b55e-4b2b-a66b-d246eac1e577"
      },
      "outputs": [],
      "source": [
        "from math import gamma\n",
        "\n",
        "def g(x):\n",
        "    n = len(x)\n",
        "    return (np.std(x, ddof=1) *\n",
        "            (np.sqrt((n - 1) / 2) *\n",
        "             gamma((n - 1) / 2) /\n",
        "             gamma(n / 2)))\n",
        "pd.Series([10, 20, 30]).apply(f)"
      ],
      "id": "60c2c97e-b55e-4b2b-a66b-d246eac1e577"
    },
    {
      "id": "31f1665f",
      "cell_type": "markdown",
      "source": [
        "## 4.4 統計的推測"
      ],
      "metadata": {
        "id": "31f1665f"
      }
    },
    {
      "cell_type": "code",
      "execution_count": null,
      "metadata": {
        "id": "b63e5a44-83ad-41b0-9152-bd22afa12e43"
      },
      "outputs": [],
      "source": [
        "from statsmodels.stats.proportion import binom_test, proportion_confint\n",
        "\n",
        "binom_test(count=2,                 # 当たった回数\n",
        "           nobs=15,                 # くじを引いた回数\n",
        "           prop=4 / 10,             # 当たる確率（仮説）\n",
        "           alternative='two-sided') # 両側検定（デフォルト）\n",
        "                                    # 左片側検定なら'smaller'\n",
        "                                    # 右片側検定なら'larger'"
      ],
      "id": "b63e5a44-83ad-41b0-9152-bd22afa12e43"
    },
    {
      "cell_type": "code",
      "execution_count": null,
      "metadata": {
        "id": "a09316df-f8ff-421f-b561-c71f1449b61c"
      },
      "outputs": [],
      "source": [
        "import numpy as np\n",
        "import pandas as pd\n",
        "from scipy import stats\n",
        "\n",
        "t = 4 / 10                        # 当たる確率\n",
        "n = 15                            # くじを引いた回数\n",
        "x = np.array(range(0, n + 1))     # 当たった回数\n",
        "my_pr  = stats.binom.pmf(x, n, t) # x回当たる確率\n",
        "my_pr2 = stats.binom.pmf(2, n, t) # 2回当たる確率\n",
        "\n",
        "my_data = pd.DataFrame({'x': x, 'y1': my_pr, 'y2': my_pr})\n",
        "my_data.loc[my_pr >  my_pr2, 'y1'] = np.nan # 当たる確率が，2回当たる確率超過\n",
        "my_data.loc[my_pr <= my_pr2, 'y2'] = np.nan # 当たる確率が，2回当たる確率以下\n",
        "ax = my_data.plot(x='x', style='o', ylabel='probability',\n",
        "                  legend=False)         # 凡例を表示しない．\n",
        "ax.hlines(y=my_pr2, xmin=0, xmax=15)    # 水平線\n",
        "ax.vlines(x=x,      ymin=0, ymax=my_pr) # 垂直線"
      ],
      "id": "a09316df-f8ff-421f-b561-c71f1449b61c"
    },
    {
      "cell_type": "code",
      "execution_count": null,
      "metadata": {
        "id": "b78ac342-b2f4-48f2-85f5-112bf01c3b8a"
      },
      "outputs": [],
      "source": [
        "a = 0.05\n",
        "proportion_confint(\n",
        "    count=2, # 当たった回数\n",
        "    nobs=15, # くじを引いた回数\n",
        "    alpha=a, # 有意水準（省略可）\n",
        "    method='binom_test')"
      ],
      "id": "b78ac342-b2f4-48f2-85f5-112bf01c3b8a"
    },
    {
      "cell_type": "code",
      "execution_count": null,
      "metadata": {
        "id": "752bd0ea-1fe2-49db-9ae2-0899f7b32672"
      },
      "outputs": [],
      "source": [
        "a = 0.05 # 有意水準\n",
        "tmp = np.linspace(0, 1, 100)\n",
        "\n",
        "my_df = pd.DataFrame({\n",
        "    't': tmp,                                                  # 当たる確率\n",
        "    'q': a,                                                    # 水平線\n",
        "    'p': [binom_test(count=2, nobs=15, prop=t) for t in tmp]}) # p値\n",
        "\n",
        "my_df.plot(x='t', legend=None, xlabel=r'$\\theta$', ylabel=r'p-value')"
      ],
      "id": "752bd0ea-1fe2-49db-9ae2-0899f7b32672"
    },
    {
      "cell_type": "code",
      "execution_count": null,
      "metadata": {
        "id": "ff496c02-28f4-424e-9d75-c28e98608fdc"
      },
      "outputs": [],
      "source": [
        "from statsmodels.stats.weightstats import CompareMeans, DescrStatsW\n",
        "\n",
        "X = [32.1, 26.2, 27.5, 31.8, 32.1, 31.2, 30.1, 32.4, 32.3, 29.9,\n",
        "     29.6, 26.6, 31.2, 30.9, 29.3]\n",
        "Y = [35.4, 34.6, 31.1, 32.4, 33.3, 34.7, 35.3, 34.3, 32.1, 28.3,\n",
        "     33.3, 30.5, 32.6, 33.3, 32.2]\n",
        "\n",
        "a = 0.05          # 有意水準（デフォルト） = 1 - 信頼係数\n",
        "alt = 'two-sided' # 両側検定（デフォルト）\n",
        "                  # 左片側検定なら'smaller'\n",
        "                  # 右片側検定なら'larger'\n",
        "\n",
        "d = DescrStatsW(np.array(X) - np.array(Y)) # 対標本の場合\n",
        "d.ttest_mean(alternative=alt)[1]           # p値\n",
        "\n",
        "d.tconfint_mean(alpha=a, alternative=alt) # 信頼区間"
      ],
      "id": "ff496c02-28f4-424e-9d75-c28e98608fdc"
    },
    {
      "cell_type": "code",
      "execution_count": null,
      "metadata": {
        "id": "e0d14ef6-b561-4f1e-8749-8769c6619fff"
      },
      "outputs": [],
      "source": [
        "c = CompareMeans(DescrStatsW(X), DescrStatsW(Y)) # 対標本でない場合\n",
        "\n",
        "ve = 'pooled' # 等分散を仮定する（デフォルト）．仮定しないなら'unequal'．\n",
        "c.ttest_ind(alternative=alt, usevar=ve)[1] # p値\n",
        "\n",
        "c.tconfint_diff(alpha=a, alternative=alt, usevar=ve) # 信頼区間"
      ],
      "id": "e0d14ef6-b561-4f1e-8749-8769c6619fff"
    },
    {
      "cell_type": "code",
      "execution_count": null,
      "metadata": {
        "id": "db7f32fc-41d4-4cf5-8918-d2a1daf2ec82"
      },
      "outputs": [],
      "source": [
        "import pandas as pd\n",
        "my_url = ('https://raw.githubusercontent.com/taroyabuki'\n",
        "          '/fromzero/master/data/smoker.csv')\n",
        "my_data = pd.read_csv(my_url)"
      ],
      "id": "db7f32fc-41d4-4cf5-8918-d2a1daf2ec82"
    },
    {
      "cell_type": "code",
      "execution_count": null,
      "metadata": {
        "id": "5e85add2-ddfe-496f-8798-faf52c72a70a"
      },
      "outputs": [],
      "source": [
        "my_data.head()"
      ],
      "id": "5e85add2-ddfe-496f-8798-faf52c72a70a"
    },
    {
      "cell_type": "code",
      "execution_count": null,
      "metadata": {
        "id": "53685413-2431-4817-986e-9e1fb4a4a74b"
      },
      "outputs": [],
      "source": [
        "my_table = pd.crosstab(\n",
        "    my_data['alive'],\n",
        "    my_data['smoker'])\n",
        "my_table"
      ],
      "id": "53685413-2431-4817-986e-9e1fb4a4a74b"
    },
    {
      "cell_type": "code",
      "execution_count": null,
      "metadata": {
        "id": "9a01aad1-415f-4bd2-be75-f7cd200dbbaa"
      },
      "outputs": [],
      "source": [
        "from scipy.stats import chi2_contingency\n",
        "chi2_contingency(my_table, correction=False)[1]"
      ],
      "id": "9a01aad1-415f-4bd2-be75-f7cd200dbbaa"
    },
    {
      "cell_type": "code",
      "execution_count": null,
      "metadata": {
        "id": "036c91a8-e0aa-4520-883a-46356bda479a"
      },
      "outputs": [],
      "source": [
        "X = [0] * 13 + [1] * 2 # 手順1\n",
        "X\n",
        "\n",
        "tmp = np.random.choice(X, 15, replace=True) # 手順2\n",
        "tmp\n",
        "\n",
        "sum(tmp) # 手順3\n",
        "\n",
        "n = 10**5\n",
        "result = [sum(np.random.choice(X, len(X), replace=True)) for _ in range(n)] # 手順4"
      ],
      "id": "036c91a8-e0aa-4520-883a-46356bda479a"
    },
    {
      "cell_type": "code",
      "execution_count": null,
      "metadata": {
        "id": "e121cf3c-1503-4cc8-83d1-40b39f2cd254"
      },
      "outputs": [],
      "source": [
        "import matplotlib.pyplot as plt\n",
        "plt.hist(result, bins=range(0, 16))"
      ],
      "id": "e121cf3c-1503-4cc8-83d1-40b39f2cd254"
    },
    {
      "cell_type": "code",
      "execution_count": null,
      "metadata": {
        "id": "d7aea5da-8cc9-429b-b5ab-bbd73ce695dc"
      },
      "outputs": [],
      "source": [
        "np.quantile(result, [0.025, 0.975])"
      ],
      "id": "d7aea5da-8cc9-429b-b5ab-bbd73ce695dc"
    },
    {
      "id": "60322c71",
      "cell_type": "markdown",
      "source": [
        "# 5 前処理\n",
        "\n",
        "\n"
      ],
      "metadata": {
        "id": "60322c71"
      }
    },
    {
      "id": "1e0e656b",
      "cell_type": "markdown",
      "source": [
        "## 5.1 データの読み込み"
      ],
      "metadata": {
        "id": "1e0e656b"
      }
    },
    {
      "cell_type": "code",
      "execution_count": null,
      "metadata": {
        "id": "e350f26b-f159-4383-80c0-b4916c1d6b08"
      },
      "outputs": [],
      "source": [
        "!wget https://raw.githubusercontent.com/taroyabuki/fromzero/master/data/exam.csv"
      ],
      "id": "e350f26b-f159-4383-80c0-b4916c1d6b08"
    },
    {
      "cell_type": "code",
      "execution_count": null,
      "metadata": {
        "id": "4c58febd-07e8-4f0c-bb41-5bef5488625d"
      },
      "outputs": [],
      "source": [
        "import pandas as pd\n",
        "my_df = pd.read_csv('exam.csv')\n",
        "my_df"
      ],
      "id": "4c58febd-07e8-4f0c-bb41-5bef5488625d"
    },
    {
      "cell_type": "code",
      "execution_count": null,
      "metadata": {
        "id": "6d6af307-f7f8-4913-8ba1-f5c3c32de19b"
      },
      "outputs": [],
      "source": [
        "my_url = ('https://raw.githubusercontent.com/taroyabuki'\n",
        "          '/fromzero/master/data/exam.csv')\n",
        "my_df = pd.read_csv(my_url)"
      ],
      "id": "6d6af307-f7f8-4913-8ba1-f5c3c32de19b"
    },
    {
      "cell_type": "code",
      "execution_count": null,
      "metadata": {
        "id": "b2f79c02-4a8d-447d-869b-188caec6fa23"
      },
      "outputs": [],
      "source": [
        "my_df2 = pd.read_csv('exam.csv',\n",
        "    index_col='name')\n",
        "my_df2"
      ],
      "id": "b2f79c02-4a8d-447d-869b-188caec6fa23"
    },
    {
      "cell_type": "code",
      "execution_count": null,
      "metadata": {
        "id": "919496f3-91b6-4435-8122-c26cc831066a"
      },
      "outputs": [],
      "source": [
        "my_df.to_csv('exam2.csv', index=False)"
      ],
      "id": "919496f3-91b6-4435-8122-c26cc831066a"
    },
    {
      "cell_type": "code",
      "execution_count": null,
      "metadata": {
        "id": "1212a9fd-1a01-4b8a-9efa-4f2e121394c4"
      },
      "outputs": [],
      "source": [
        "my_df2.to_csv('exam3.csv')"
      ],
      "id": "1212a9fd-1a01-4b8a-9efa-4f2e121394c4"
    },
    {
      "cell_type": "code",
      "execution_count": null,
      "metadata": {
        "id": "fbec5be9-d0e7-4e23-9b0f-78f5186715c8"
      },
      "outputs": [],
      "source": [
        "my_df = pd.read_csv('exam.csv',\n",
        "    encoding='UTF-8')"
      ],
      "id": "fbec5be9-d0e7-4e23-9b0f-78f5186715c8"
    },
    {
      "cell_type": "code",
      "execution_count": null,
      "metadata": {
        "id": "f521db3d-e377-4ac7-8f4b-c86de6713168"
      },
      "outputs": [],
      "source": [
        "my_df.to_csv('exam2.csv', index=False, encoding='UTF-8')"
      ],
      "id": "f521db3d-e377-4ac7-8f4b-c86de6713168"
    },
    {
      "cell_type": "code",
      "execution_count": null,
      "metadata": {
        "id": "b4171056-93ce-4039-b415-01cb6b66d8f8"
      },
      "outputs": [],
      "source": [
        "my_url = 'https://taroyabuki.github.io/fromzero/exam.html'\n",
        "my_tables = pd.read_html(my_url)"
      ],
      "id": "b4171056-93ce-4039-b415-01cb6b66d8f8"
    },
    {
      "cell_type": "code",
      "execution_count": null,
      "metadata": {
        "id": "1c640d23-fae3-4435-9777-ac5276f8e16c"
      },
      "outputs": [],
      "source": [
        "my_tables"
      ],
      "id": "1c640d23-fae3-4435-9777-ac5276f8e16c"
    },
    {
      "cell_type": "code",
      "execution_count": null,
      "metadata": {
        "id": "f0314834-a432-4df3-8389-5eb041e854ad"
      },
      "outputs": [],
      "source": [
        "my_tables[0]"
      ],
      "id": "f0314834-a432-4df3-8389-5eb041e854ad"
    },
    {
      "cell_type": "code",
      "execution_count": null,
      "metadata": {
        "id": "40eeac6e-38d9-4167-a9ed-3ad387ccca31"
      },
      "outputs": [],
      "source": [
        "# 1列目以降を取り出す．\n",
        "my_data = my_tables[0].iloc[:, 1:]\n",
        "my_data"
      ],
      "id": "40eeac6e-38d9-4167-a9ed-3ad387ccca31"
    },
    {
      "cell_type": "code",
      "execution_count": null,
      "metadata": {
        "id": "86eb3b56-7c49-4ec5-970b-fcedc0707d14"
      },
      "outputs": [],
      "source": [
        "my_url = ('https://raw.githubusercontent.com/taroyabuki'\n",
        "          '/fromzero/master/data/exam.json')\n",
        "my_data = pd.read_json(my_url)\n",
        "#my_data = pd.read_json('exam.json') # （ファイルを使う場合）\n",
        "my_data"
      ],
      "id": "86eb3b56-7c49-4ec5-970b-fcedc0707d14"
    },
    {
      "cell_type": "code",
      "execution_count": null,
      "metadata": {
        "id": "fe6cbf78-1d27-4769-bdb0-f04f38d01cba"
      },
      "outputs": [],
      "source": [
        "import xml.etree.ElementTree as ET\n",
        "from urllib.request import urlopen\n",
        "\n",
        "my_url = ('https://raw.githubusercontent.com/taroyabuki'\n",
        "          '/fromzero/master/data/exam.xml')\n",
        "with urlopen(my_url) as f:\n",
        "    my_tree = ET.parse(f)       # XMLデータの読み込み\n",
        "\n",
        "#my_tree = ET.parse('exam.xml') # （ファイルを使う場合）\n",
        "my_ns = '{https://www.example.net/ns/1.0}' # 名前空間"
      ],
      "id": "fe6cbf78-1d27-4769-bdb0-f04f38d01cba"
    },
    {
      "cell_type": "code",
      "execution_count": null,
      "metadata": {
        "id": "84c0fcd0-3ee6-4c4b-a4b7-aa60e6fde031"
      },
      "outputs": [],
      "source": [
        "my_records = my_tree.findall(f'.//{my_ns}record')"
      ],
      "id": "84c0fcd0-3ee6-4c4b-a4b7-aa60e6fde031"
    },
    {
      "cell_type": "code",
      "execution_count": null,
      "metadata": {
        "id": "aab966cf-9358-4019-bfaf-a4e49f77600b"
      },
      "outputs": [],
      "source": [
        "def f(record):\n",
        "    my_dic1 = record.attrib # 属性を取り出す．\n",
        "    # 子要素の名前と内容のペアを辞書にする．\n",
        "    my_dic2 = {child.tag.replace(my_ns, ''): child.text for child in list(record)}\n",
        "    return {**my_dic1, **my_dic2} # 辞書を結合する．"
      ],
      "id": "aab966cf-9358-4019-bfaf-a4e49f77600b"
    },
    {
      "cell_type": "code",
      "execution_count": null,
      "metadata": {
        "id": "1e07d23d-c861-42df-a4cb-45f52061a837"
      },
      "outputs": [],
      "source": [
        "my_data = pd.DataFrame([f(record) for record in my_records])\n",
        "my_data['english'] = pd.to_numeric(my_data['english'])\n",
        "my_data['math']    = pd.to_numeric(my_data['math'])\n",
        "my_data"
      ],
      "id": "1e07d23d-c861-42df-a4cb-45f52061a837"
    },
    {
      "id": "5e295f28",
      "cell_type": "markdown",
      "source": [
        "## 5.2 データの変換"
      ],
      "metadata": {
        "id": "5e295f28"
      }
    },
    {
      "cell_type": "code",
      "execution_count": null,
      "metadata": {
        "id": "91c61925-b898-4b9a-bc65-759582656b11"
      },
      "outputs": [],
      "source": [
        "import numpy as np\n",
        "from scipy.stats import zscore\n",
        "\n",
        "x1 = [1, 2, 3]\n",
        "\n",
        "z1 = ((x1 - np.mean(x1)) /\n",
        "      np.std(x1, ddof=1))\n",
        "# あるいは\n",
        "z1 = zscore(x1, ddof=1)\n",
        "\n",
        "z1"
      ],
      "id": "91c61925-b898-4b9a-bc65-759582656b11"
    },
    {
      "cell_type": "code",
      "execution_count": null,
      "metadata": {
        "id": "1359c00b-0ea6-47f7-9833-ab1776164d35"
      },
      "outputs": [],
      "source": [
        "z1.mean(), np.std(z1, ddof=1)"
      ],
      "id": "1359c00b-0ea6-47f7-9833-ab1776164d35"
    },
    {
      "cell_type": "code",
      "execution_count": null,
      "metadata": {
        "id": "8369b328-6efb-4f15-b455-2c4116aa29d2"
      },
      "outputs": [],
      "source": [
        "z1 * np.std(x1, ddof=1) + np.mean(x1)"
      ],
      "id": "8369b328-6efb-4f15-b455-2c4116aa29d2"
    },
    {
      "cell_type": "code",
      "execution_count": null,
      "metadata": {
        "id": "eb66a4aa-df22-4aa1-8275-78edcf66bcf5"
      },
      "outputs": [],
      "source": [
        "x2 = [1, 3, 5]\n",
        "z2 = ((x2 - np.mean(x1)) /\n",
        "      np.std(x1, ddof=1))\n",
        "z2.mean(), np.std(z2, ddof=1)"
      ],
      "id": "eb66a4aa-df22-4aa1-8275-78edcf66bcf5"
    },
    {
      "cell_type": "code",
      "execution_count": null,
      "metadata": {
        "id": "170a83b1-9511-48d3-bf4a-002b58b0fb48"
      },
      "outputs": [],
      "source": [
        "import pandas as pd\n",
        "from sklearn.preprocessing import (\n",
        "    OneHotEncoder)\n",
        "\n",
        "my_df = pd.DataFrame({\n",
        "    'id':    [ 1 ,  2 ,  3 ],\n",
        "    'class': ['A', 'B', 'C']})\n",
        "\n",
        "my_enc = OneHotEncoder()\n",
        "tmp = my_enc.fit_transform(\n",
        "    my_df[['class']]).toarray()\n",
        "my_names = my_enc.get_feature_names() \\\n",
        "if hasattr(my_enc, 'get_feature_names') \\\n",
        "else my_enc.get_feature_names_out()\n",
        "pd.DataFrame(tmp, columns=my_names)"
      ],
      "id": "170a83b1-9511-48d3-bf4a-002b58b0fb48"
    },
    {
      "cell_type": "code",
      "execution_count": null,
      "metadata": {
        "id": "69bceb4f-4235-4021-a4b9-48d3ec662dca"
      },
      "outputs": [],
      "source": [
        "my_df2 = pd.DataFrame({\n",
        "    'id':    [ 4 ,  5,   6 ],\n",
        "    'class': ['B', 'C', 'B']})\n",
        "tmp = my_enc.transform(\n",
        "    my_df2[['class']]).toarray()\n",
        "pd.DataFrame(tmp, columns=my_names)"
      ],
      "id": "69bceb4f-4235-4021-a4b9-48d3ec662dca"
    },
    {
      "cell_type": "code",
      "execution_count": null,
      "metadata": {
        "id": "2d436a69-d104-4e72-9d54-f4be60561ba5"
      },
      "outputs": [],
      "source": [
        "my_enc = OneHotEncoder(drop='first')\n",
        "\n",
        "tmp = my_enc.fit_transform(\n",
        "    my_df[['class']]).toarray()\n",
        "my_names = my_enc.get_feature_names() \\\n",
        "if hasattr(my_enc, 'get_feature_names') \\\n",
        "else my_enc.get_feature_names_out()\n",
        "pd.DataFrame(tmp, columns=my_names)\n",
        "\n",
        "tmp = my_enc.transform(\n",
        "    my_df2[['class']]).toarray()\n",
        "pd.DataFrame(tmp, columns=my_names)"
      ],
      "id": "2d436a69-d104-4e72-9d54-f4be60561ba5"
    },
    {
      "id": "12b1cad0",
      "cell_type": "markdown",
      "source": [
        "# 6 機械学習の目的・データ・手法\n",
        "\n",
        "\n"
      ],
      "metadata": {
        "id": "12b1cad0"
      }
    },
    {
      "id": "4c8bb155",
      "cell_type": "markdown",
      "source": [
        "## 6.1 機械学習の目的（本書の場合）\n",
        "\n",
        "\n"
      ],
      "metadata": {
        "id": "4c8bb155"
      }
    },
    {
      "id": "c1e68e92",
      "cell_type": "markdown",
      "source": [
        "## 6.2 機械学習のためのデータ"
      ],
      "metadata": {
        "id": "c1e68e92"
      }
    },
    {
      "cell_type": "code",
      "execution_count": null,
      "metadata": {
        "id": "9cbb8974-8be5-4628-af1d-fff6a4ae4a8e"
      },
      "outputs": [],
      "source": [
        "import statsmodels.api as sm\n",
        "iris = sm.datasets.get_rdataset('iris', 'datasets').data\n",
        "iris.head()\n",
        "# 以下省略"
      ],
      "id": "9cbb8974-8be5-4628-af1d-fff6a4ae4a8e"
    },
    {
      "cell_type": "code",
      "execution_count": null,
      "metadata": {
        "id": "2f8cc959-c08b-464e-9289-97f911ed471c"
      },
      "outputs": [],
      "source": [
        "import seaborn as sns\n",
        "iris = sns.load_dataset('iris')\n",
        "iris.head()\n",
        "# 以下省略"
      ],
      "id": "2f8cc959-c08b-464e-9289-97f911ed471c"
    },
    {
      "cell_type": "code",
      "execution_count": null,
      "metadata": {
        "id": "51238f34-7990-4f86-9483-ff45f89c9e4b"
      },
      "outputs": [],
      "source": [
        "import pandas as pd\n",
        "from sklearn.datasets import load_iris\n",
        "tmp = load_iris()\n",
        "iris = pd.DataFrame(tmp.data, columns=tmp.feature_names)\n",
        "iris['target'] = tmp.target_names[tmp.target]\n",
        "iris.head()\n",
        "# 以下省略"
      ],
      "id": "51238f34-7990-4f86-9483-ff45f89c9e4b"
    },
    {
      "id": "9a89a338",
      "cell_type": "markdown",
      "source": [
        "## 6.3 機械学習のための手法\n",
        "\n",
        "\n"
      ],
      "metadata": {
        "id": "9a89a338"
      }
    },
    {
      "id": "a55e20ea",
      "cell_type": "markdown",
      "source": [
        "# 7 回帰1（単回帰）\n",
        "\n",
        "\n"
      ],
      "metadata": {
        "id": "a55e20ea"
      }
    },
    {
      "id": "21c87cff",
      "cell_type": "markdown",
      "source": [
        "## 7.1 自動車の停止距離\n",
        "\n",
        "\n"
      ],
      "metadata": {
        "id": "21c87cff"
      }
    },
    {
      "id": "ce0f2424",
      "cell_type": "markdown",
      "source": [
        "## 7.2 データの確認"
      ],
      "metadata": {
        "id": "ce0f2424"
      }
    },
    {
      "cell_type": "code",
      "execution_count": null,
      "metadata": {
        "id": "efe25a4f-a3d1-4a6e-9d04-6a17581ea38e"
      },
      "outputs": [],
      "source": [
        "import statsmodels.api as sm\n",
        "my_data = sm.datasets.get_rdataset('cars', 'datasets').data"
      ],
      "id": "efe25a4f-a3d1-4a6e-9d04-6a17581ea38e"
    },
    {
      "cell_type": "code",
      "execution_count": null,
      "metadata": {
        "id": "aad5f546-73d7-459c-bd09-0ff3a919c8f2"
      },
      "outputs": [],
      "source": [
        "my_data.shape"
      ],
      "id": "aad5f546-73d7-459c-bd09-0ff3a919c8f2"
    },
    {
      "cell_type": "code",
      "execution_count": null,
      "metadata": {
        "id": "50922d0d-3bc9-4be9-a6f6-e3175daf759c"
      },
      "outputs": [],
      "source": [
        "my_data.head()"
      ],
      "id": "50922d0d-3bc9-4be9-a6f6-e3175daf759c"
    },
    {
      "cell_type": "code",
      "execution_count": null,
      "metadata": {
        "id": "fc3a80f4-3254-4332-a232-821ae08fd014"
      },
      "outputs": [],
      "source": [
        "my_data.describe()"
      ],
      "id": "fc3a80f4-3254-4332-a232-821ae08fd014"
    },
    {
      "cell_type": "code",
      "execution_count": null,
      "metadata": {
        "id": "0be73640-59dc-433b-9290-0022e4d2c56d"
      },
      "outputs": [],
      "source": [
        "my_data.plot(x='speed', style='o')"
      ],
      "id": "0be73640-59dc-433b-9290-0022e4d2c56d"
    },
    {
      "id": "9a3ec3b1",
      "cell_type": "markdown",
      "source": [
        "## 7.3 回帰分析"
      ],
      "metadata": {
        "id": "9a3ec3b1"
      }
    },
    {
      "cell_type": "code",
      "execution_count": null,
      "metadata": {
        "id": "3099a786-a0da-4be5-80f6-c2c9eb2298aa"
      },
      "outputs": [],
      "source": [
        "import seaborn as sns\n",
        "import statsmodels.api as sm\n",
        "\n",
        "my_data = sm.datasets.get_rdataset('cars', 'datasets').data\n",
        "ax = sns.regplot(x='speed', y='dist', data=my_data)\n",
        "ax.vlines(x=21.5, ymin=-5, ymax=67,   linestyles='dotted')\n",
        "ax.hlines(y=67,   xmin=4,  xmax=21.5, linestyles='dotted')\n",
        "ax.set_xlim(4, 25)\n",
        "ax.set_ylim(-5, 125)"
      ],
      "id": "3099a786-a0da-4be5-80f6-c2c9eb2298aa"
    },
    {
      "cell_type": "code",
      "execution_count": null,
      "metadata": {
        "id": "45e916e6-d73f-4010-8e46-a8426e8be4c3"
      },
      "outputs": [],
      "source": [
        "import statsmodels.api as sm\n",
        "my_data = sm.datasets.get_rdataset('cars', 'datasets').data\n",
        "X, y = my_data[['speed']], my_data['dist']"
      ],
      "id": "45e916e6-d73f-4010-8e46-a8426e8be4c3"
    },
    {
      "cell_type": "code",
      "execution_count": null,
      "metadata": {
        "id": "d3ca2fa1-b10d-4e19-b683-f0f20d688157"
      },
      "outputs": [],
      "source": [
        "# モデルの指定\n",
        "from sklearn.linear_model import LinearRegression\n",
        "my_model = LinearRegression()\n",
        "\n",
        "# 訓練（モデルをデータにフィットさせる．）\n",
        "my_model.fit(X, y)\n",
        "\n",
        "# まとめて実行してもよい．\n",
        "# my_model = LinearRegression().fit(X, y)"
      ],
      "id": "d3ca2fa1-b10d-4e19-b683-f0f20d688157"
    },
    {
      "cell_type": "code",
      "execution_count": null,
      "metadata": {
        "id": "c1b6a307-ed8c-486c-adf1-a3435ea74aa8"
      },
      "outputs": [],
      "source": [
        "my_model.intercept_, my_model.coef_"
      ],
      "id": "c1b6a307-ed8c-486c-adf1-a3435ea74aa8"
    },
    {
      "cell_type": "code",
      "execution_count": null,
      "metadata": {
        "id": "630e6ec1-8602-4c31-9113-e0209f661bec"
      },
      "outputs": [],
      "source": [
        "tmp = [[21.5]]\n",
        "my_model.predict(tmp)"
      ],
      "id": "630e6ec1-8602-4c31-9113-e0209f661bec"
    },
    {
      "cell_type": "code",
      "execution_count": null,
      "metadata": {
        "id": "5e326fe2-42c8-4139-a1cf-7a271b3780b7"
      },
      "outputs": [],
      "source": [
        "import numpy as np\n",
        "import pandas as pd\n",
        "\n",
        "tmp = pd.DataFrame({'speed': np.linspace(min(my_data.speed),\n",
        "                                         max(my_data.speed),\n",
        "                                         100)})\n",
        "tmp['model'] = my_model.predict(tmp)"
      ],
      "id": "5e326fe2-42c8-4139-a1cf-7a271b3780b7"
    },
    {
      "cell_type": "code",
      "execution_count": null,
      "metadata": {
        "id": "31e37b9e-a1e7-4199-8213-b60443c68dab"
      },
      "outputs": [],
      "source": [
        "pd.concat([my_data, tmp]).plot(\n",
        "    x='speed', style=['o', '-'])"
      ],
      "id": "31e37b9e-a1e7-4199-8213-b60443c68dab"
    },
    {
      "id": "a840b331",
      "cell_type": "markdown",
      "source": [
        "## 7.4 当てはまりの良さの指標"
      ],
      "metadata": {
        "id": "a840b331"
      }
    },
    {
      "cell_type": "code",
      "execution_count": null,
      "metadata": {
        "id": "5d4c027e-3c78-410f-ba98-f1633d9a448e"
      },
      "outputs": [],
      "source": [
        "import pandas as pd\n",
        "import statsmodels.api as sm\n",
        "from sklearn.linear_model import LinearRegression\n",
        "from sklearn.metrics import mean_squared_error, r2_score\n",
        "\n",
        "my_data = sm.datasets.get_rdataset('cars', 'datasets').data\n",
        "X, y = my_data[['speed']], my_data['dist']\n",
        "\n",
        "my_model = LinearRegression()\n",
        "my_model.fit(X, y)\n",
        "y_ = my_model.predict(X)\n",
        "my_data['y_'] = y_"
      ],
      "id": "5d4c027e-3c78-410f-ba98-f1633d9a448e"
    },
    {
      "cell_type": "code",
      "execution_count": null,
      "metadata": {
        "id": "1bafe1e7-7536-4665-8762-b7f23d599be6"
      },
      "outputs": [],
      "source": [
        "pd.options.display.float_format = (\n",
        "    '{:.2f}'.format)\n",
        "my_data['residual'] = y - y_\n",
        "my_data.head()"
      ],
      "id": "1bafe1e7-7536-4665-8762-b7f23d599be6"
    },
    {
      "cell_type": "code",
      "execution_count": null,
      "metadata": {
        "id": "fec133f9-c6df-4995-b4fe-aed01b5b6c82"
      },
      "outputs": [],
      "source": [
        "ax = my_data.plot(x='speed', y='dist', style='o', legend=False)\n",
        "my_data.plot(x='speed', y='y_', style='-', legend=False, ax=ax)\n",
        "ax.vlines(x=X, ymin=y, ymax=y_, linestyles='dotted')"
      ],
      "id": "fec133f9-c6df-4995-b4fe-aed01b5b6c82"
    },
    {
      "cell_type": "code",
      "execution_count": null,
      "metadata": {
        "id": "748941dd-96b2-41cc-8db4-1b1c27a28c87"
      },
      "outputs": [],
      "source": [
        "mean_squared_error(y, y_)**0.5\n",
        "# あるいは\n",
        "(my_data['residual']**2).mean()**0.5\n"
      ],
      "id": "748941dd-96b2-41cc-8db4-1b1c27a28c87"
    },
    {
      "cell_type": "code",
      "execution_count": null,
      "metadata": {
        "id": "8753d35a-1dec-4670-8172-627f770177df"
      },
      "outputs": [],
      "source": [
        "my_model.score(X, y)\n",
        "# あるいは\n",
        "r2_score(y_true=y, y_pred=y_)"
      ],
      "id": "8753d35a-1dec-4670-8172-627f770177df"
    },
    {
      "cell_type": "code",
      "execution_count": null,
      "metadata": {
        "id": "7077803c-0d1a-450d-b98f-b7a3db6b9502"
      },
      "outputs": [],
      "source": [
        "import numpy as np\n",
        "np.corrcoef(y, y_)[0, 1]**2"
      ],
      "id": "7077803c-0d1a-450d-b98f-b7a3db6b9502"
    },
    {
      "cell_type": "code",
      "execution_count": null,
      "metadata": {
        "id": "47818245-74d1-4f14-8ae0-8d48f7293727"
      },
      "outputs": [],
      "source": [
        "my_test = my_data[:3]\n",
        "X = my_test[['speed']]\n",
        "y = my_test['dist']\n",
        "y_ = my_model.predict(X)\n",
        "\n",
        "my_model.score(X, y)\n",
        "# あるいは\n",
        "r2_score(y_true=y, y_pred=y_)\n",
        "\n",
        "np.corrcoef(y, y_)[0, 1]**2"
      ],
      "id": "47818245-74d1-4f14-8ae0-8d48f7293727"
    },
    {
      "cell_type": "code",
      "execution_count": null,
      "metadata": {
        "id": "aa198472-b5b5-4f60-96a0-b3ee2cd3ed00"
      },
      "outputs": [],
      "source": [
        "import numpy as np\n",
        "import pandas as pd\n",
        "import statsmodels.api as sm\n",
        "from sklearn.linear_model import LinearRegression\n",
        "from sklearn.preprocessing import PolynomialFeatures\n",
        "\n",
        "my_data = sm.datasets.get_rdataset('cars', 'datasets').data\n",
        "\n",
        "my_idx = [1, 10, 26, 33, 38, 43]\n",
        "my_sample = my_data.iloc[my_idx, ]\n",
        "X, y = my_sample[['speed']], my_sample['dist']"
      ],
      "id": "aa198472-b5b5-4f60-96a0-b3ee2cd3ed00"
    },
    {
      "cell_type": "code",
      "execution_count": null,
      "metadata": {
        "id": "5bd09527-746a-40c0-ab66-e5f27c0c2aee"
      },
      "outputs": [],
      "source": [
        "d = 5\n",
        "X5 = PolynomialFeatures(d, include_bias=False).fit_transform(X) # Xの1乗から5乗の変数\n",
        "\n",
        "my_model = LinearRegression()\n",
        "my_model.fit(X5, y)\n",
        "y_ = my_model.predict(X5)"
      ],
      "id": "5bd09527-746a-40c0-ab66-e5f27c0c2aee"
    },
    {
      "cell_type": "code",
      "execution_count": null,
      "metadata": {
        "id": "ec3e7eff-f3d1-41a6-a801-ab13eb752e98"
      },
      "outputs": [],
      "source": [
        "((y - y_)**2).mean()**0.5\n",
        "\n",
        "my_model.score(X5, y)\n",
        "\n",
        "np.corrcoef(y, y_)[0, 1]**2"
      ],
      "id": "ec3e7eff-f3d1-41a6-a801-ab13eb752e98"
    },
    {
      "cell_type": "code",
      "execution_count": null,
      "metadata": {
        "id": "8e769bf8-d340-4771-9401-ae24aaed4c47"
      },
      "outputs": [],
      "source": [
        "tmp = pd.DataFrame({'speed': np.linspace(min(my_data.speed),\n",
        "                                         max(my_data.speed),\n",
        "                                         100)})\n",
        "X5 = PolynomialFeatures(d, include_bias=False).fit_transform(tmp)\n",
        "tmp['model'] = my_model.predict(X5)\n",
        "\n",
        "my_sample = my_sample.assign(sample=y)\n",
        "my_df = pd.concat([my_data, my_sample, tmp])\n",
        "my_df.plot(x='speed', style=['o', 'o', '-'], ylim=(0, 130))"
      ],
      "id": "8e769bf8-d340-4771-9401-ae24aaed4c47"
    },
    {
      "id": "020b5703",
      "cell_type": "markdown",
      "source": [
        "## 7.5 K最近傍法"
      ],
      "metadata": {
        "id": "020b5703"
      }
    },
    {
      "cell_type": "code",
      "execution_count": null,
      "metadata": {
        "id": "f8975993-12ed-4f2e-b888-2e4e0a880d18"
      },
      "outputs": [],
      "source": [
        "# 準備\n",
        "import numpy as np\n",
        "import pandas as pd\n",
        "import statsmodels.api as sm\n",
        "from sklearn.neighbors import KNeighborsRegressor\n",
        "\n",
        "my_data = sm.datasets.get_rdataset('cars', 'datasets').data\n",
        "X, y = my_data[['speed']], my_data['dist']\n",
        "\n",
        "# 訓練\n",
        "my_model = KNeighborsRegressor()\n",
        "my_model.fit(X, y)\n",
        "\n",
        "# 可視化の準備\n",
        "tmp = pd.DataFrame({'speed': np.linspace(min(my_data.speed),\n",
        "                                         max(my_data.speed),\n",
        "                                         100)})\n",
        "tmp['model'] = my_model.predict(tmp)"
      ],
      "id": "f8975993-12ed-4f2e-b888-2e4e0a880d18"
    },
    {
      "cell_type": "code",
      "execution_count": null,
      "metadata": {
        "id": "d06d8eb6-81db-4819-8ab3-7c28da561c0d"
      },
      "outputs": [],
      "source": [
        "pd.concat([my_data, tmp]).plot(\n",
        "    x='speed', style=['o', '-'])"
      ],
      "id": "d06d8eb6-81db-4819-8ab3-7c28da561c0d"
    },
    {
      "cell_type": "code",
      "execution_count": null,
      "metadata": {
        "id": "1ce0fb43-37b6-4e0c-a428-8fbd9c84065f"
      },
      "outputs": [],
      "source": [
        "y_ = my_model.predict(X)\n",
        "\n",
        "((y - y_)**2).mean()**0.5\n",
        "\n",
        "my_model.score(X, y)\n",
        "\n",
        "np.corrcoef(y, y_)[0, 1]**2"
      ],
      "id": "1ce0fb43-37b6-4e0c-a428-8fbd9c84065f"
    },
    {
      "id": "43b6f55d",
      "cell_type": "markdown",
      "source": [
        "## 7.6 検証"
      ],
      "metadata": {
        "id": "43b6f55d"
      }
    },
    {
      "cell_type": "code",
      "execution_count": null,
      "metadata": {
        "id": "c825edfd-64ea-48da-a2ee-3729c532ace9"
      },
      "outputs": [],
      "source": [
        "import statsmodels.api as sm\n",
        "from sklearn.linear_model import LinearRegression\n",
        "from sklearn.model_selection import cross_val_score\n",
        "\n",
        "# データの準備\n",
        "my_data = sm.datasets.get_rdataset('cars', 'datasets').data\n",
        "X, y = my_data[['speed']], my_data['dist']\n",
        "\n",
        "# モデルの指定\n",
        "my_model = LinearRegression()\n",
        "\n",
        "# 検証（5分割交差検証）\n",
        "my_scores = cross_val_score(my_model, X, y)\n",
        "\n",
        "# 5個の決定係数1を得る．\n",
        "my_scores\n",
        "\n",
        "# 平均を決定係数1（検証）とする．\n",
        "my_scores.mean()"
      ],
      "id": "c825edfd-64ea-48da-a2ee-3729c532ace9"
    },
    {
      "cell_type": "code",
      "execution_count": null,
      "metadata": {
        "id": "483bffb9-521d-4d9c-b4d7-bba44f86a3db"
      },
      "outputs": [],
      "source": [
        "my_scores = cross_val_score(my_model, X, y,\n",
        "                            scoring='neg_root_mean_squared_error')\n",
        "-my_scores.mean()"
      ],
      "id": "483bffb9-521d-4d9c-b4d7-bba44f86a3db"
    },
    {
      "cell_type": "code",
      "execution_count": null,
      "metadata": {
        "id": "378520f9-9d6b-4da1-9a5b-87a33130e497"
      },
      "outputs": [],
      "source": [
        "import numpy as np\n",
        "import statsmodels.api as sm\n",
        "from sklearn.linear_model import LinearRegression\n",
        "from sklearn.metrics import mean_squared_error, r2_score\n",
        "from sklearn.model_selection import cross_val_score, LeaveOneOut\n",
        "\n",
        "my_data = sm.datasets.get_rdataset('cars', 'datasets').data\n",
        "X, y = my_data[['speed']], my_data['dist']\n",
        "my_model = LinearRegression().fit(X, y)\n",
        "y_ = my_model.predict(X)"
      ],
      "id": "378520f9-9d6b-4da1-9a5b-87a33130e497"
    },
    {
      "cell_type": "code",
      "execution_count": null,
      "metadata": {
        "id": "9a3e0500-1203-4fd4-b662-e2a928b5f6d1"
      },
      "outputs": [],
      "source": [
        "# RMSE（訓練）\n",
        "mean_squared_error(y, y_)**0.5\n",
        "\n",
        "# 決定係数1（訓練）\n",
        "my_model.score(X, y)\n",
        "# あるいは\n",
        "r2_score(y_true=y, y_pred=y_)\n",
        "\n",
        "# 決定係数6（訓練）\n",
        "np.corrcoef(y, y_)[0, 1]**2"
      ],
      "id": "9a3e0500-1203-4fd4-b662-e2a928b5f6d1"
    },
    {
      "cell_type": "code",
      "execution_count": null,
      "metadata": {
        "id": "8438bdad-8b66-42fe-a177-2f6ae25eaa4c"
      },
      "outputs": [],
      "source": [
        "my_scores = cross_val_score(my_model, X, y,\n",
        "                            scoring='neg_root_mean_squared_error')\n",
        "-my_scores.mean()\n",
        "\n",
        "my_scores = cross_val_score(my_model, X, y, scoring='r2') # scoring='r2'は省略可\n",
        "my_scores.mean()"
      ],
      "id": "8438bdad-8b66-42fe-a177-2f6ae25eaa4c"
    },
    {
      "cell_type": "code",
      "execution_count": null,
      "metadata": {
        "id": "08f8cddc-e9cd-436b-9e76-e79733489275"
      },
      "outputs": [],
      "source": [
        "# 方法1\n",
        "my_scores1 = cross_val_score(my_model, X, y, cv=LeaveOneOut(),\n",
        "                             scoring='neg_mean_squared_error')\n",
        "(-my_scores1.mean())**0.5\n",
        "\n",
        "# 方法2\n",
        "my_scores2 = cross_val_score(my_model, X, y, cv=LeaveOneOut(),\n",
        "                             scoring='neg_root_mean_squared_error')\n",
        "(my_scores2**2).mean()**0.5"
      ],
      "id": "08f8cddc-e9cd-436b-9e76-e79733489275"
    },
    {
      "cell_type": "code",
      "execution_count": null,
      "metadata": {
        "id": "d21e59e2-f36e-4020-ab1b-c0f4f7639e3f"
      },
      "outputs": [],
      "source": [
        "-my_scores2.mean()"
      ],
      "id": "d21e59e2-f36e-4020-ab1b-c0f4f7639e3f"
    },
    {
      "cell_type": "code",
      "execution_count": null,
      "metadata": {
        "id": "b0c4bebf-81b9-4767-899e-5d59f14ac600"
      },
      "outputs": [],
      "source": [
        "import pandas as pd\n",
        "import statsmodels.api as sm\n",
        "from sklearn.linear_model import LinearRegression\n",
        "from sklearn.metrics import mean_squared_error\n",
        "from sklearn.model_selection import cross_val_score, LeaveOneOut\n",
        "from sklearn.neighbors import KNeighborsRegressor\n",
        "\n",
        "my_data = sm.datasets.get_rdataset('cars', 'datasets').data\n",
        "X, y = my_data[['speed']], my_data['dist']\n",
        "\n",
        "my_lm_scores = cross_val_score(\n",
        "    LinearRegression(),\n",
        "    X, y, cv=LeaveOneOut(), scoring='neg_mean_squared_error')\n",
        "\n",
        "my_knn_socres = cross_val_score(\n",
        "    KNeighborsRegressor(n_neighbors=5),\n",
        "    X, y, cv=LeaveOneOut(), scoring='neg_mean_squared_error')"
      ],
      "id": "b0c4bebf-81b9-4767-899e-5d59f14ac600"
    },
    {
      "cell_type": "code",
      "execution_count": null,
      "metadata": {
        "id": "f1140d8b-b64b-48a9-8b68-4b5245bce108"
      },
      "outputs": [],
      "source": [
        "(-my_lm_scores.mean())**0.5\n",
        "\n",
        "(-my_knn_socres.mean())**0.5"
      ],
      "id": "f1140d8b-b64b-48a9-8b68-4b5245bce108"
    },
    {
      "cell_type": "code",
      "execution_count": null,
      "metadata": {
        "id": "96517b6c-22b9-4054-9da3-c7b387431ade"
      },
      "outputs": [],
      "source": [
        "my_df = pd.DataFrame({\n",
        "    'lm': -my_lm_scores,\n",
        "    'knn': -my_knn_socres})\n",
        "my_df.head()"
      ],
      "id": "96517b6c-22b9-4054-9da3-c7b387431ade"
    },
    {
      "cell_type": "code",
      "execution_count": null,
      "metadata": {
        "id": "bbeff9cd-e5c2-4c2b-8a24-2419cf083a1b"
      },
      "outputs": [],
      "source": [
        "my_df.boxplot().set_ylabel(\"$r^2$\")"
      ],
      "id": "bbeff9cd-e5c2-4c2b-8a24-2419cf083a1b"
    },
    {
      "cell_type": "code",
      "execution_count": null,
      "metadata": {
        "id": "661305c2-a68d-4114-b32f-df79ed4341e9"
      },
      "outputs": [],
      "source": [
        "from statsmodels.stats.weightstats import DescrStatsW\n",
        "d = DescrStatsW(my_df.lm - my_df.knn)\n",
        "d.ttest_mean()[1] # p値\n",
        "\n",
        "d.tconfint_mean(alpha=0.05, alternative='two-sided') # 信頼区間"
      ],
      "id": "661305c2-a68d-4114-b32f-df79ed4341e9"
    },
    {
      "id": "f0f9d7aa",
      "cell_type": "markdown",
      "source": [
        "## 7.7 パラメータチューニング"
      ],
      "metadata": {
        "id": "f0f9d7aa"
      }
    },
    {
      "cell_type": "code",
      "execution_count": null,
      "metadata": {
        "id": "de2de03d-f2f4-421f-b46d-6d02fa00a25a"
      },
      "outputs": [],
      "source": [
        "import pandas as pd\n",
        "import statsmodels.api as sm\n",
        "from sklearn.metrics import mean_squared_error\n",
        "from sklearn.model_selection import GridSearchCV, LeaveOneOut\n",
        "from sklearn.neighbors import KNeighborsRegressor\n",
        "\n",
        "my_data = sm.datasets.get_rdataset('cars', 'datasets').data\n",
        "X, y = my_data[['speed']], my_data['dist']\n",
        "\n",
        "my_params = {'n_neighbors': range(1, 16)} # 探索範囲（1以上16未満の整数）\n",
        "\n",
        "my_search = GridSearchCV(estimator=KNeighborsRegressor(),\n",
        "                         param_grid=my_params,\n",
        "                         cv=LeaveOneOut(),\n",
        "                         scoring='neg_mean_squared_error')\n",
        "my_search.fit(X, y)"
      ],
      "id": "de2de03d-f2f4-421f-b46d-6d02fa00a25a"
    },
    {
      "cell_type": "code",
      "execution_count": null,
      "metadata": {
        "id": "d0c70b3d-67dc-4940-b292-dcd52ab51f29"
      },
      "outputs": [],
      "source": [
        "tmp = my_search.cv_results_                # チューニングの詳細\n",
        "my_scores = (-tmp['mean_test_score'])**0.5 # RMSE\n",
        "my_results = pd.DataFrame(tmp['params']).assign(validation=my_scores)"
      ],
      "id": "d0c70b3d-67dc-4940-b292-dcd52ab51f29"
    },
    {
      "cell_type": "code",
      "execution_count": null,
      "metadata": {
        "id": "f5ec2e56-28fa-4f8b-ae86-c8e58595094a"
      },
      "outputs": [],
      "source": [
        "my_results.head()"
      ],
      "id": "f5ec2e56-28fa-4f8b-ae86-c8e58595094a"
    },
    {
      "cell_type": "code",
      "execution_count": null,
      "metadata": {
        "id": "f8655e3a-9591-4234-a0ca-ecedd7811076"
      },
      "outputs": [],
      "source": [
        "my_results.plot(x='n_neighbors',\n",
        "                style='o-',\n",
        "                ylabel='RMSE')"
      ],
      "id": "f8655e3a-9591-4234-a0ca-ecedd7811076"
    },
    {
      "cell_type": "code",
      "execution_count": null,
      "metadata": {
        "id": "50254c08-3871-4838-a8b8-40131c60f606"
      },
      "outputs": [],
      "source": [
        "my_search.best_params_"
      ],
      "id": "50254c08-3871-4838-a8b8-40131c60f606"
    },
    {
      "cell_type": "code",
      "execution_count": null,
      "metadata": {
        "id": "c3a78b5c-62e7-4f5e-9b7b-5457214b762c"
      },
      "outputs": [],
      "source": [
        "(-my_search.best_score_)**0.5"
      ],
      "id": "c3a78b5c-62e7-4f5e-9b7b-5457214b762c"
    },
    {
      "cell_type": "code",
      "execution_count": null,
      "metadata": {
        "id": "bd161bfb-be21-4f9c-a7a2-676ddc1613eb"
      },
      "outputs": [],
      "source": [
        "my_model = my_search.best_estimator_\n",
        "y_ = my_model.predict(X)\n",
        "mean_squared_error(y_, y)**0.5"
      ],
      "id": "bd161bfb-be21-4f9c-a7a2-676ddc1613eb"
    },
    {
      "cell_type": "code",
      "execution_count": null,
      "metadata": {
        "id": "2f3aa4ef-2d0a-4693-a074-a8cbf558b2ee"
      },
      "outputs": [],
      "source": [
        "import pandas as pd\n",
        "import statsmodels.api as sm\n",
        "from sklearn.metrics import mean_squared_error\n",
        "from sklearn.model_selection import cross_val_score, LeaveOneOut\n",
        "from sklearn.neighbors import KNeighborsRegressor\n",
        "\n",
        "my_data = sm.datasets.get_rdataset('cars', 'datasets').data\n",
        "X, y = my_data[['speed']], my_data['dist']\n",
        "\n",
        "def my_loocv(k):\n",
        "    my_model = KNeighborsRegressor(n_neighbors=k)\n",
        "    my_scores = cross_val_score(estimator=my_model, X=X, y=y,\n",
        "                                cv=LeaveOneOut(),\n",
        "                                scoring='neg_mean_squared_error')\n",
        "    y_ = my_model.fit(X, y).predict(X)\n",
        "    return pd.Series([k,\n",
        "                      (-my_scores.mean())**0.5,        # RMSE（検証）\n",
        "                      mean_squared_error(y_, y)**0.5], # RMSE（訓練）\n",
        "                     index=['n_neighbors', 'validation', 'training'])\n",
        "\n",
        "my_results = pd.Series(range(1, 16)).apply(my_loocv)"
      ],
      "id": "2f3aa4ef-2d0a-4693-a074-a8cbf558b2ee"
    },
    {
      "cell_type": "code",
      "execution_count": null,
      "metadata": {
        "id": "a48413f7-1761-4421-840c-48d02be45017"
      },
      "outputs": [],
      "source": [
        "my_results.plot(x='n_neighbors',\n",
        "                style='o-',\n",
        "                ylabel='RMSE')"
      ],
      "id": "a48413f7-1761-4421-840c-48d02be45017"
    },
    {
      "id": "fca716f4",
      "cell_type": "markdown",
      "source": [
        "# 8 回帰2（重回帰）\n",
        "\n",
        "\n"
      ],
      "metadata": {
        "id": "fca716f4"
      }
    },
    {
      "id": "06fd8dce",
      "cell_type": "markdown",
      "source": [
        "## 8.1 ブドウの生育条件とワインの価格"
      ],
      "metadata": {
        "id": "06fd8dce"
      }
    },
    {
      "cell_type": "code",
      "execution_count": null,
      "metadata": {
        "id": "1ae5be78-f715-4b14-a544-424cb27dd997"
      },
      "outputs": [],
      "source": [
        "import pandas as pd\n",
        "my_url = 'http://www.liquidasset.com/winedata.html'\n",
        "tmp = pd.read_table(my_url, skiprows=62, nrows=38, sep='\\\\s+', na_values='.')\n",
        "tmp.describe()\n",
        "# 以下省略"
      ],
      "id": "1ae5be78-f715-4b14-a544-424cb27dd997"
    },
    {
      "cell_type": "code",
      "execution_count": null,
      "metadata": {
        "id": "f07272e7-0d79-431e-b4cc-73655f2e1ba5"
      },
      "outputs": [],
      "source": [
        "my_data = tmp.iloc[:, 2:].dropna()\n",
        "my_data.head()"
      ],
      "id": "f07272e7-0d79-431e-b4cc-73655f2e1ba5"
    },
    {
      "cell_type": "code",
      "execution_count": null,
      "metadata": {
        "id": "8f31166c-5fbb-4028-9fae-54e68a38283c"
      },
      "outputs": [],
      "source": [
        "my_data.shape"
      ],
      "id": "8f31166c-5fbb-4028-9fae-54e68a38283c"
    },
    {
      "cell_type": "code",
      "execution_count": null,
      "metadata": {
        "id": "7ce570f4-5c4c-4ba2-b1bd-e35338c94a82"
      },
      "outputs": [],
      "source": [
        "my_data.to_csv('wine.csv',\n",
        "               index=False)"
      ],
      "id": "7ce570f4-5c4c-4ba2-b1bd-e35338c94a82"
    },
    {
      "cell_type": "code",
      "execution_count": null,
      "metadata": {
        "id": "ddd076c5-a3ca-45c5-b5da-906b8c7f41cd"
      },
      "outputs": [],
      "source": [
        "#my_data = pd.read_csv('wine.csv') # 作ったファイルを使う場合\n",
        "my_url = ('https://raw.githubusercontent.com/taroyabuki'\n",
        "          '/fromzero/master/data/wine.csv')\n",
        "my_data = pd.read_csv(my_url)"
      ],
      "id": "ddd076c5-a3ca-45c5-b5da-906b8c7f41cd"
    },
    {
      "id": "1bd9951e",
      "cell_type": "markdown",
      "source": [
        "## 8.2 重回帰分析"
      ],
      "metadata": {
        "id": "1bd9951e"
      }
    },
    {
      "cell_type": "code",
      "execution_count": null,
      "metadata": {
        "id": "5d8798a8-99ea-474b-acf2-3be520e34260"
      },
      "outputs": [],
      "source": [
        "import numpy as np\n",
        "import pandas as pd\n",
        "from sklearn.linear_model import LinearRegression\n",
        "from sklearn.metrics import mean_squared_error\n",
        "from sklearn.model_selection import cross_val_score, LeaveOneOut\n",
        "\n",
        "my_url = ('https://raw.githubusercontent.com/taroyabuki'\n",
        "          '/fromzero/master/data/wine.csv')\n",
        "my_data = pd.read_csv(my_url)\n",
        "X, y = my_data.drop(columns=['LPRICE2']), my_data['LPRICE2']\n",
        "\n",
        "my_model = LinearRegression().fit(X, y)"
      ],
      "id": "5d8798a8-99ea-474b-acf2-3be520e34260"
    },
    {
      "cell_type": "code",
      "execution_count": null,
      "metadata": {
        "id": "8669cde7-775c-4ca6-992d-6ad114002e41"
      },
      "outputs": [],
      "source": [
        "my_model.intercept_\n",
        "\n",
        "pd.Series(my_model.coef_,\n",
        "          index=X.columns)"
      ],
      "id": "8669cde7-775c-4ca6-992d-6ad114002e41"
    },
    {
      "cell_type": "code",
      "execution_count": null,
      "metadata": {
        "id": "daca1213-c9f4-47ac-86e0-5635cda35a0a"
      },
      "outputs": [],
      "source": [
        "my_test = [[500, 17, 120, 2]]\n",
        "my_model.predict(my_test)"
      ],
      "id": "daca1213-c9f4-47ac-86e0-5635cda35a0a"
    },
    {
      "cell_type": "code",
      "execution_count": null,
      "metadata": {
        "id": "e8702872-f21a-4643-964e-e0fc56b5c41b"
      },
      "outputs": [],
      "source": [
        "y_ = my_model.predict(X)\n",
        "\n",
        "mean_squared_error(y_, y)**0.5\n",
        "\n",
        "my_model.score(X, y)\n",
        "\n",
        "np.corrcoef(y, y_)[0, 1]**2"
      ],
      "id": "e8702872-f21a-4643-964e-e0fc56b5c41b"
    },
    {
      "cell_type": "code",
      "execution_count": null,
      "metadata": {
        "id": "302d36b4-5d4b-4956-bee6-949c7ff20850"
      },
      "outputs": [],
      "source": [
        "my_scores = cross_val_score(my_model, X, y,\n",
        "                            cv=LeaveOneOut(),\n",
        "                            scoring='neg_mean_squared_error')\n",
        "(-my_scores.mean())**0.5"
      ],
      "id": "302d36b4-5d4b-4956-bee6-949c7ff20850"
    },
    {
      "cell_type": "code",
      "execution_count": null,
      "metadata": {
        "id": "c1a78921-42ce-4da7-b55c-60e784af9b84"
      },
      "outputs": [],
      "source": [
        "import numpy as np\n",
        "M = np.matrix(X.assign(b0=1))\n",
        "b = np.linalg.pinv(M) @ y\n",
        "pd.Series(b,\n",
        "    index=list(X.columns) + ['b0'])"
      ],
      "id": "c1a78921-42ce-4da7-b55c-60e784af9b84"
    },
    {
      "id": "d78bb238",
      "cell_type": "markdown",
      "source": [
        "## 8.3 標準化"
      ],
      "metadata": {
        "id": "d78bb238"
      }
    },
    {
      "cell_type": "code",
      "execution_count": null,
      "metadata": {
        "id": "9bca074c-b058-440c-9321-dcc06c5068cd"
      },
      "outputs": [],
      "source": [
        "import pandas as pd\n",
        "from sklearn.linear_model import LinearRegression\n",
        "from sklearn.pipeline import Pipeline\n",
        "from sklearn.preprocessing import StandardScaler\n",
        "my_url = ('https://raw.githubusercontent.com/taroyabuki'\n",
        "          '/fromzero/master/data/wine.csv')\n",
        "my_data = pd.read_csv(my_url)\n",
        "X, y = my_data.drop(columns=['LPRICE2']), my_data['LPRICE2']\n",
        "\n",
        "# StandardScalerで標準化した結果をデータフレームに戻してから描画する．\n",
        "pd.DataFrame(StandardScaler().fit_transform(X), columns=X.columns\n",
        "            ).boxplot(showmeans=True)"
      ],
      "id": "9bca074c-b058-440c-9321-dcc06c5068cd"
    },
    {
      "cell_type": "code",
      "execution_count": null,
      "metadata": {
        "id": "ab5870f2-e4e0-430b-9f59-dbd30d07fddd"
      },
      "outputs": [],
      "source": [
        "my_pipeline = Pipeline([\n",
        "    ('sc', StandardScaler()),\n",
        "    ('lr', LinearRegression())])\n",
        "my_pipeline.fit(X, y)"
      ],
      "id": "ab5870f2-e4e0-430b-9f59-dbd30d07fddd"
    },
    {
      "cell_type": "code",
      "execution_count": null,
      "metadata": {
        "id": "cc09302a-d901-4ce7-8778-83ec0610a155"
      },
      "outputs": [],
      "source": [
        "# 線形回帰の部分だけを取り出す．\n",
        "my_lr = my_pipeline.named_steps.lr\n",
        "my_lr.intercept_\n",
        "\n",
        "pd.Series(my_lr.coef_,\n",
        "          index=X.columns)"
      ],
      "id": "cc09302a-d901-4ce7-8778-83ec0610a155"
    },
    {
      "cell_type": "code",
      "execution_count": null,
      "metadata": {
        "id": "12e51861-2b90-4a67-a04f-b6324ec67cc7"
      },
      "outputs": [],
      "source": [
        "my_test = [[500, 17, 120, 2]]\n",
        "my_pipeline.predict(my_test)"
      ],
      "id": "12e51861-2b90-4a67-a04f-b6324ec67cc7"
    },
    {
      "id": "32c883ad",
      "cell_type": "markdown",
      "source": [
        "## 8.4 入力変数の数とモデルの良さ"
      ],
      "metadata": {
        "id": "32c883ad"
      }
    },
    {
      "cell_type": "code",
      "execution_count": null,
      "metadata": {
        "id": "3d1284b6-95a5-4edd-83e3-8b83267574d0"
      },
      "outputs": [],
      "source": [
        "import pandas as pd\n",
        "from sklearn.linear_model import LinearRegression\n",
        "from sklearn.metrics import mean_squared_error\n",
        "from sklearn.model_selection import cross_val_score, LeaveOneOut\n",
        "\n",
        "my_url = ('https://raw.githubusercontent.com/taroyabuki'\n",
        "          '/fromzero/master/data/wine.csv')\n",
        "my_data = pd.read_csv(my_url)\n",
        "\n",
        "n = len(my_data)\n",
        "my_data2 = my_data.assign(v1=[i % 2 for i in range(n)],\n",
        "                          v2=[i % 3 for i in range(n)])\n",
        "my_data2.head()"
      ],
      "id": "3d1284b6-95a5-4edd-83e3-8b83267574d0"
    },
    {
      "cell_type": "code",
      "execution_count": null,
      "metadata": {
        "id": "4e66262f-8af2-4718-b743-6327196e4a4b"
      },
      "outputs": [],
      "source": [
        "X, y = my_data2.drop(columns=['LPRICE2']), my_data2['LPRICE2']\n",
        "my_model2 = LinearRegression().fit(X, y)\n",
        "\n",
        "y_ = my_model2.predict(X)\n",
        "mean_squared_error(y_, y)**0.5\n",
        "\n",
        "my_scores = cross_val_score(my_model2, X, y,\n",
        "                            cv=LeaveOneOut(),\n",
        "                            scoring='neg_mean_squared_error')\n",
        "(-my_scores.mean())**0.5"
      ],
      "id": "4e66262f-8af2-4718-b743-6327196e4a4b"
    },
    {
      "id": "3bdb2eb0",
      "cell_type": "markdown",
      "source": [
        "## 8.5 変数選択"
      ],
      "metadata": {
        "id": "3bdb2eb0"
      }
    },
    {
      "cell_type": "code",
      "execution_count": null,
      "metadata": {
        "id": "a3556e94-b547-4e4e-8668-627edd67d32f"
      },
      "outputs": [],
      "source": [
        "import pandas as pd\n",
        "from sklearn.feature_selection import SequentialFeatureSelector\n",
        "from sklearn.linear_model import LinearRegression\n",
        "from sklearn.model_selection import GridSearchCV, LeaveOneOut\n",
        "from sklearn.pipeline import Pipeline\n",
        "\n",
        "my_url = ('https://raw.githubusercontent.com/taroyabuki'\n",
        "          '/fromzero/master/data/wine.csv')\n",
        "my_data = pd.read_csv(my_url)\n",
        "\n",
        "n = len(my_data)\n",
        "my_data2 = my_data.assign(v1=[i % 2 for i in range(n)],\n",
        "                          v2=[i % 3 for i in range(n)])\n",
        "X, y = my_data2.drop(columns=['LPRICE2']), my_data2['LPRICE2']"
      ],
      "id": "a3556e94-b547-4e4e-8668-627edd67d32f"
    },
    {
      "cell_type": "code",
      "execution_count": null,
      "metadata": {
        "id": "543e0396-5b49-483b-992e-928a918cab32"
      },
      "outputs": [],
      "source": [
        "my_sfs = SequentialFeatureSelector(\n",
        "    estimator=LinearRegression(),\n",
        "    direction='forward', # 変数増加法\n",
        "    cv=LeaveOneOut(),\n",
        "    scoring='neg_mean_squared_error')\n",
        "\n",
        "my_pipeline = Pipeline([         # 変数選択の後で再訓練を行うようにする．\n",
        "    ('sfs', my_sfs),             # 変数選択\n",
        "    ('lr', LinearRegression())]) # 回帰分析\n",
        "\n",
        "my_params = {'sfs__n_features_to_select': range(1, 6)} # 選択する変数の上限\n",
        "my_search = GridSearchCV(estimator=my_pipeline,\n",
        "                         param_grid=my_params,\n",
        "                         cv=LeaveOneOut(),\n",
        "                         scoring='neg_mean_squared_error',\n",
        "                         n_jobs=-1).fit(X, y)\n",
        "my_model = my_search.best_estimator_ # 最良のパラメータで再訓練したモデル\n",
        "my_search.best_estimator_.named_steps.sfs.get_support()"
      ],
      "id": "543e0396-5b49-483b-992e-928a918cab32"
    },
    {
      "id": "0697fdd8",
      "cell_type": "markdown",
      "source": [
        "## 8.6 補足：正則化"
      ],
      "metadata": {
        "id": "0697fdd8"
      }
    },
    {
      "cell_type": "code",
      "execution_count": null,
      "metadata": {
        "id": "a4ad5699-0d66-4fbc-b604-96a85b54767a"
      },
      "outputs": [],
      "source": [
        "import numpy as np\n",
        "import pandas as pd\n",
        "import warnings\n",
        "from sklearn.exceptions import ConvergenceWarning\n",
        "from sklearn.linear_model import ElasticNet, enet_path\n",
        "from sklearn.model_selection import GridSearchCV, LeaveOneOut\n",
        "from sklearn.pipeline import Pipeline\n",
        "from sklearn.preprocessing import StandardScaler\n",
        "from scipy.stats import zscore\n",
        "warnings.simplefilter('ignore', ConvergenceWarning) # これ以降，警告を表示しない．\n",
        "\n",
        "my_url = ('https://raw.githubusercontent.com/taroyabuki'\n",
        "          '/fromzero/master/data/wine.csv')\n",
        "my_data = pd.read_csv(my_url)\n",
        "X, y = my_data.drop(columns=['LPRICE2']), my_data['LPRICE2']"
      ],
      "id": "a4ad5699-0d66-4fbc-b604-96a85b54767a"
    },
    {
      "cell_type": "code",
      "execution_count": null,
      "metadata": {
        "id": "b722f2e7-8020-4c11-9bd5-03bebb3d714b"
      },
      "outputs": [],
      "source": [
        "A = 2\n",
        "B = 0.1\n",
        "\n",
        "my_pipeline = Pipeline([\n",
        "    ('sc', StandardScaler()),\n",
        "    ('enet', ElasticNet(\n",
        "        alpha=A,\n",
        "        l1_ratio=B))])\n",
        "my_pipeline.fit(X, y)"
      ],
      "id": "b722f2e7-8020-4c11-9bd5-03bebb3d714b"
    },
    {
      "cell_type": "code",
      "execution_count": null,
      "metadata": {
        "id": "bfc5629d-83c0-4606-b3e0-c25536f83bee"
      },
      "outputs": [],
      "source": [
        "my_enet = my_pipeline.named_steps.enet\n",
        "my_enet.intercept_\n",
        "\n",
        "pd.Series(my_enet.coef_,\n",
        "          index=X.columns)"
      ],
      "id": "bfc5629d-83c0-4606-b3e0-c25536f83bee"
    },
    {
      "cell_type": "code",
      "execution_count": null,
      "metadata": {
        "id": "d5d2e961-3df8-4315-9527-f3cefe73d0e4"
      },
      "outputs": [],
      "source": [
        "my_test = pd.DataFrame(\n",
        "    [[500, 17, 120, 2]])\n",
        "my_pipeline.predict(my_test)"
      ],
      "id": "d5d2e961-3df8-4315-9527-f3cefe73d0e4"
    },
    {
      "cell_type": "code",
      "execution_count": null,
      "metadata": {
        "id": "9e735552-5b55-4b79-9398-aa8c97fa0fc6"
      },
      "outputs": [],
      "source": [
        "As = np.e**np.arange(2, -5.5, -0.1)\n",
        "B = 0.1\n",
        "\n",
        "_, my_path, _ = enet_path(\n",
        "    zscore(X), zscore(y),\n",
        "    alphas=As,\n",
        "    l1_ratio=B)\n",
        "\n",
        "pd.DataFrame(\n",
        "    my_path.T,\n",
        "    columns=X.columns,\n",
        "    index=np.log(As)\n",
        ").plot(\n",
        "    xlabel='log A ( = log alpha)',\n",
        "    ylabel='Coefficients')"
      ],
      "id": "9e735552-5b55-4b79-9398-aa8c97fa0fc6"
    },
    {
      "cell_type": "code",
      "execution_count": null,
      "metadata": {
        "id": "f4ac72b7-502d-4eee-8154-c96788d0456e"
      },
      "outputs": [],
      "source": [
        "As = np.linspace(0, 0.1, 21)\n",
        "Bs = np.linspace(0, 0.1,  6)\n",
        "\n",
        "my_pipeline = Pipeline([('sc', StandardScaler()),\n",
        "                        ('enet', ElasticNet())])\n",
        "my_search = GridSearchCV(\n",
        "    estimator=my_pipeline,\n",
        "    param_grid={'enet__alpha': As, 'enet__l1_ratio': Bs},\n",
        "    cv=LeaveOneOut(),\n",
        "    scoring='neg_mean_squared_error',\n",
        "    n_jobs=-1).fit(X, y)\n",
        "my_model = my_search.best_estimator_ # 最良モデル\n",
        "\n",
        "my_search.best_params_               # 最良パラメータ"
      ],
      "id": "f4ac72b7-502d-4eee-8154-c96788d0456e"
    },
    {
      "cell_type": "code",
      "execution_count": null,
      "metadata": {
        "id": "08cfe2b1-dc7f-4850-86ab-10adeda35d42"
      },
      "outputs": [],
      "source": [
        "tmp = my_search.cv_results_                # チューニングの詳細\n",
        "my_scores = (-tmp['mean_test_score'])**0.5 # RMSE\n",
        "\n",
        "my_results = pd.DataFrame(tmp['params']).assign(RMSE=my_scores).pivot(\n",
        "    index='enet__alpha',\n",
        "    columns='enet__l1_ratio',\n",
        "    values='RMSE')\n",
        "\n",
        "my_results.plot(style='o-', xlabel='A ( = alpha)', ylabel='RMSE').legend(\n",
        "    title='B ( = l1_ratio)')"
      ],
      "id": "08cfe2b1-dc7f-4850-86ab-10adeda35d42"
    },
    {
      "cell_type": "code",
      "execution_count": null,
      "metadata": {
        "id": "569c87f8-6059-4763-9296-c7e780cdf7d6"
      },
      "outputs": [],
      "source": [
        "(-my_search.best_score_)**0.5"
      ],
      "id": "569c87f8-6059-4763-9296-c7e780cdf7d6"
    },
    {
      "id": "b128c876",
      "cell_type": "markdown",
      "source": [
        "## 8.7 ニューラルネットワーク"
      ],
      "metadata": {
        "id": "b128c876"
      }
    },
    {
      "cell_type": "code",
      "execution_count": null,
      "metadata": {
        "id": "3ee33c66-f1ea-4958-805d-1dd8e6f4acf1"
      },
      "outputs": [],
      "source": [
        "import matplotlib.pyplot as plt\n",
        "import numpy as np\n",
        "x = np.linspace(-6, 6, 100)\n",
        "y = 1 / (1 + np.exp(-x))\n",
        "plt.plot(x, y)"
      ],
      "id": "3ee33c66-f1ea-4958-805d-1dd8e6f4acf1"
    },
    {
      "cell_type": "code",
      "execution_count": null,
      "metadata": {
        "id": "05d597a2-50d3-40fe-8c52-c17a2d9c7c72"
      },
      "outputs": [],
      "source": [
        "import pandas as pd\n",
        "import warnings\n",
        "from sklearn.exceptions import ConvergenceWarning\n",
        "from sklearn.neural_network import MLPRegressor\n",
        "from sklearn.model_selection import cross_val_score, GridSearchCV, LeaveOneOut\n",
        "from sklearn.pipeline import Pipeline\n",
        "from sklearn.preprocessing import StandardScaler\n",
        "\n",
        "my_url = ('https://raw.githubusercontent.com/taroyabuki'\n",
        "          '/fromzero/master/data/wine.csv')\n",
        "my_data = pd.read_csv(my_url)\n",
        "X, y = my_data.drop(columns=['LPRICE2']), my_data['LPRICE2']"
      ],
      "id": "05d597a2-50d3-40fe-8c52-c17a2d9c7c72"
    },
    {
      "cell_type": "code",
      "execution_count": null,
      "metadata": {
        "id": "2c5f846d-d01f-4a99-b44f-f34ad5256195"
      },
      "outputs": [],
      "source": [
        "warnings.simplefilter(\"ignore\", ConvergenceWarning)  # これ以降，警告を表示しない．\n",
        "my_pipeline = Pipeline([('sc', StandardScaler()),    # 標準化\n",
        "                        ('mlp', MLPRegressor())])    # ニューラルネットワーク\n",
        "my_pipeline.fit(X, y)                                # 訓練\n",
        "\n",
        "my_scores = cross_val_score(my_pipeline, X, y, cv=LeaveOneOut(),\n",
        "                            scoring='neg_mean_squared_error')\n",
        "warnings.simplefilter(\"default\", ConvergenceWarning) # これ以降，警告を表示する．"
      ],
      "id": "2c5f846d-d01f-4a99-b44f-f34ad5256195"
    },
    {
      "cell_type": "code",
      "execution_count": null,
      "metadata": {
        "id": "24c960b8-0e17-4fd0-8c52-5c82349d0d6d"
      },
      "outputs": [],
      "source": [
        "(-my_scores.mean())**0.5"
      ],
      "id": "24c960b8-0e17-4fd0-8c52-5c82349d0d6d"
    },
    {
      "cell_type": "code",
      "execution_count": null,
      "metadata": {
        "id": "642f29a2-0243-46f5-8100-b0e7a9b90bc3"
      },
      "outputs": [],
      "source": [
        "my_pipeline = Pipeline([\n",
        "    ('sc', StandardScaler()),\n",
        "    ('mlp', MLPRegressor(tol=1e-5,         # 改善したと見なす基準\n",
        "                         max_iter=5000))]) # 改善しなくなるまでの反復数\n",
        "my_layers = (1, 3, 5,                                         # 隠れ層1層の場合\n",
        "             (1, 1), (3, 1), (5, 1), (1, 2), (3, 2), (5, 2))  # 隠れ層2層の場合\n",
        "my_params = {'mlp__hidden_layer_sizes': my_layers}\n",
        "my_search = GridSearchCV(estimator=my_pipeline,\n",
        "                         param_grid=my_params,\n",
        "                         cv=LeaveOneOut(),\n",
        "                         scoring='neg_mean_squared_error',\n",
        "                         n_jobs=-1).fit(X, y)\n",
        "my_model = my_search.best_estimator_ # 最良モデル\n",
        "\n",
        "my_search.best_params_               # 最良パラメータ"
      ],
      "id": "642f29a2-0243-46f5-8100-b0e7a9b90bc3"
    },
    {
      "cell_type": "code",
      "execution_count": null,
      "metadata": {
        "id": "15e613f5-c989-4788-bed3-5632c36d1ac3"
      },
      "outputs": [],
      "source": [
        "(-my_search.best_score_)**0.5"
      ],
      "id": "15e613f5-c989-4788-bed3-5632c36d1ac3"
    },
    {
      "id": "12689f6d",
      "cell_type": "markdown",
      "source": [
        "# 9 分類1（多値分類）\n",
        "\n",
        "\n"
      ],
      "metadata": {
        "id": "12689f6d"
      }
    },
    {
      "id": "8ee98fac",
      "cell_type": "markdown",
      "source": [
        "## 9.1 アヤメのデータ"
      ],
      "metadata": {
        "id": "8ee98fac"
      }
    },
    {
      "cell_type": "code",
      "execution_count": null,
      "metadata": {
        "id": "545ebfcc-8296-479e-8cc4-33a5bc6bf11f"
      },
      "outputs": [],
      "source": [
        "import statsmodels.api as sm\n",
        "my_data = sm.datasets.get_rdataset('iris', 'datasets').data\n",
        "my_data.head()"
      ],
      "id": "545ebfcc-8296-479e-8cc4-33a5bc6bf11f"
    },
    {
      "cell_type": "code",
      "execution_count": null,
      "metadata": {
        "id": "a10dacd5-6317-47b2-8c0f-d6ffe5d5b6d3"
      },
      "outputs": [],
      "source": [
        "my_data.describe()\n",
        "# 以下省略"
      ],
      "id": "a10dacd5-6317-47b2-8c0f-d6ffe5d5b6d3"
    },
    {
      "id": "3e0c22a1",
      "cell_type": "markdown",
      "source": [
        "## 9.2 木による分類"
      ],
      "metadata": {
        "id": "3e0c22a1"
      }
    },
    {
      "cell_type": "code",
      "execution_count": null,
      "metadata": {
        "id": "99e1ffbf-b74f-44ce-8e85-a10a54c5c855"
      },
      "outputs": [],
      "source": [
        "import graphviz\n",
        "import pandas as pd\n",
        "import statsmodels.api as sm\n",
        "from sklearn import tree\n",
        "\n",
        "my_data = sm.datasets.get_rdataset('iris', 'datasets').data\n",
        "X, y = my_data.iloc[:, 0:4], my_data.Species\n",
        "\n",
        "my_model = tree.DecisionTreeClassifier(max_depth=2, random_state=0)\n",
        "my_model.fit(X, y)"
      ],
      "id": "99e1ffbf-b74f-44ce-8e85-a10a54c5c855"
    },
    {
      "cell_type": "code",
      "execution_count": null,
      "metadata": {
        "id": "0c417d5a-30d3-43fb-8a5f-9130688ff1d5"
      },
      "outputs": [],
      "source": [
        "my_dot = tree.export_graphviz(\n",
        "    decision_tree=my_model,\n",
        "    out_file=None,                 # ファイルに出力しない．\n",
        "    feature_names=X.columns,       # 変数名\n",
        "    class_names=my_model.classes_, # カテゴリ名\n",
        "    filled=True)                   # 色を塗る．\n",
        "graphviz.Source(my_dot)"
      ],
      "id": "0c417d5a-30d3-43fb-8a5f-9130688ff1d5"
    },
    {
      "cell_type": "code",
      "execution_count": null,
      "metadata": {
        "id": "1bd70ce7-b1bb-4821-9448-6aa646f4d985"
      },
      "outputs": [],
      "source": [
        "my_test = pd.DataFrame([[5.0, 3.5, 1.5, 0.5],\n",
        "                        [6.5, 3.0, 5.0, 2.0]])\n",
        "my_model.predict(my_test)"
      ],
      "id": "1bd70ce7-b1bb-4821-9448-6aa646f4d985"
    },
    {
      "cell_type": "code",
      "execution_count": null,
      "metadata": {
        "id": "65fb81bb-98c3-45e6-99cf-6adff57a7f08"
      },
      "outputs": [],
      "source": [
        "pd.DataFrame(\n",
        "    my_model.predict_proba(my_test),\n",
        "    columns=my_model.classes_)"
      ],
      "id": "65fb81bb-98c3-45e6-99cf-6adff57a7f08"
    },
    {
      "id": "9ecaa1d7",
      "cell_type": "markdown",
      "source": [
        "## 9.3 正解率"
      ],
      "metadata": {
        "id": "9ecaa1d7"
      }
    },
    {
      "cell_type": "code",
      "execution_count": null,
      "metadata": {
        "id": "7d4ae674-55b4-41bb-a122-eb4746df5fcb"
      },
      "outputs": [],
      "source": [
        "import graphviz\n",
        "import pandas as pd\n",
        "import statsmodels.api as sm\n",
        "from sklearn import tree\n",
        "from sklearn.metrics import confusion_matrix\n",
        "from sklearn.model_selection import cross_val_score, GridSearchCV, LeaveOneOut\n",
        "\n",
        "my_data = sm.datasets.get_rdataset('iris', 'datasets').data\n",
        "X, y = my_data.iloc[:, 0:4], my_data.Species\n",
        "\n",
        "my_model = tree.DecisionTreeClassifier(max_depth=2, random_state=0).fit(X, y)\n",
        "y_ = my_model.predict(X)\n",
        "confusion_matrix(y_true=y, y_pred=y_)"
      ],
      "id": "7d4ae674-55b4-41bb-a122-eb4746df5fcb"
    },
    {
      "cell_type": "code",
      "execution_count": null,
      "metadata": {
        "id": "7b678df2-9da3-4839-aabc-4bdfa093754e"
      },
      "outputs": [],
      "source": [
        "my_model.score(X, y)\n",
        "# あるいは\n",
        "y_ = my_model.predict(X)\n",
        "(y_ == y).mean()\n"
      ],
      "id": "7b678df2-9da3-4839-aabc-4bdfa093754e"
    },
    {
      "cell_type": "code",
      "execution_count": null,
      "metadata": {
        "id": "2a8975ad-a20a-4cd9-b625-d396a3a8f02d"
      },
      "outputs": [],
      "source": [
        "cross_val_score(my_model, X, y, cv=LeaveOneOut()).mean()"
      ],
      "id": "2a8975ad-a20a-4cd9-b625-d396a3a8f02d"
    },
    {
      "cell_type": "code",
      "execution_count": null,
      "metadata": {
        "id": "1415fe1c-beea-44e5-a925-13187f68033f"
      },
      "outputs": [],
      "source": [
        "my_search = GridSearchCV(estimator=tree.DecisionTreeClassifier(random_state=0),\n",
        "                         param_grid={'max_depth': range(1, 11)},\n",
        "                         cv=LeaveOneOut(),\n",
        "                         n_jobs=-1).fit(X, y)\n",
        "my_search.best_params_, my_search.best_score_"
      ],
      "id": "1415fe1c-beea-44e5-a925-13187f68033f"
    },
    {
      "cell_type": "code",
      "execution_count": null,
      "metadata": {
        "id": "a88865f2-18c5-4558-8de5-5bde5daf06de"
      },
      "outputs": [],
      "source": [
        "my_params = {\n",
        "    'max_depth': range(2, 6),\n",
        "    'min_samples_split': [2, 20],\n",
        "    'min_samples_leaf': range(1, 8)}\n",
        "\n",
        "my_search = GridSearchCV(\n",
        "    estimator=tree.DecisionTreeClassifier(min_impurity_decrease=0.01,\n",
        "                                          random_state=0),\n",
        "    param_grid=my_params,\n",
        "    cv=LeaveOneOut(),\n",
        "    n_jobs=-1).fit(X, y)\n",
        "my_search.best_params_, my_search.best_score_\n",
        "\n",
        "tmp = my_search.cv_results_\n",
        "my_results = pd.DataFrame(tmp['params']).assign(\n",
        "    Accuracy=tmp['mean_test_score'])\n",
        "# 正解率（検証）の最大値\n",
        "my_results[my_results.Accuracy == my_results.Accuracy.max()]"
      ],
      "id": "a88865f2-18c5-4558-8de5-5bde5daf06de"
    },
    {
      "cell_type": "code",
      "execution_count": null,
      "metadata": {
        "id": "e67c161c-f9fc-4b8b-b652-f8a4e46fbaf4"
      },
      "outputs": [],
      "source": [
        "my_model = my_search.best_estimator_\n",
        "my_dot = tree.export_graphviz(\n",
        "    decision_tree=my_model,\n",
        "    out_file=None,\n",
        "    feature_names=X.columns,\n",
        "    class_names=my_model.classes_,\n",
        "    filled=True)\n",
        "graphviz.Source(my_dot)"
      ],
      "id": "e67c161c-f9fc-4b8b-b652-f8a4e46fbaf4"
    },
    {
      "id": "9f5d35bc",
      "cell_type": "markdown",
      "source": [
        "## 9.4 複数の木を使う方法"
      ],
      "metadata": {
        "id": "9f5d35bc"
      }
    },
    {
      "cell_type": "code",
      "execution_count": null,
      "metadata": {
        "id": "7d0d9f79-643d-4c57-a590-603361c96ed4"
      },
      "outputs": [],
      "source": [
        "import pandas as pd\n",
        "import statsmodels.api as sm\n",
        "import warnings\n",
        "import xgboost\n",
        "from sklearn.ensemble import RandomForestClassifier\n",
        "from sklearn.model_selection import GridSearchCV, LeaveOneOut\n",
        "from sklearn.preprocessing import LabelEncoder\n",
        "\n",
        "my_data = sm.datasets.get_rdataset('iris', 'datasets').data\n",
        "X, y = my_data.iloc[:, 0:4], my_data.Species\n",
        "label_encoder = LabelEncoder(); y = label_encoder.fit_transform(y)\n",
        "\n",
        "my_search = GridSearchCV(RandomForestClassifier(),\n",
        "                         param_grid={'max_features': [2, 3, 4]},\n",
        "                         cv=LeaveOneOut(),\n",
        "                         n_jobs=-1).fit(X, y)\n",
        "my_search.best_params_\n",
        "\n",
        "my_search.cv_results_['mean_test_score']"
      ],
      "id": "7d0d9f79-643d-4c57-a590-603361c96ed4"
    },
    {
      "cell_type": "code",
      "execution_count": null,
      "metadata": {
        "id": "fdf8d994-5cb5-48d4-b21a-8121d33b3ecc"
      },
      "outputs": [],
      "source": [
        "warnings.simplefilter('ignore') # これ以降，警告を表示しない．\n",
        "my_search = GridSearchCV(\n",
        "    xgboost.XGBClassifier(eval_metric='mlogloss'),\n",
        "    param_grid={'n_estimators'    : [50, 100, 150],\n",
        "                'max_depth'       : [1, 2, 3],\n",
        "                'learning_rate'   : [0.3, 0.4],\n",
        "                'gamma'           : [0],\n",
        "                'colsample_bytree': [0.6, 0.8],\n",
        "                'min_child_weight': [1],\n",
        "                'subsample'       : [0.5, 0.75, 1]},\n",
        "    cv=5, # 5分割交差検証\n",
        "    n_jobs=1).fit(X, y) # n_jobs=-1ではない．\n",
        "warnings.simplefilter('default') # これ以降，警告を表示する．\n",
        "\n",
        "my_search.best_params_\n",
        "\n",
        "my_search.best_score_"
      ],
      "id": "fdf8d994-5cb5-48d4-b21a-8121d33b3ecc"
    },
    {
      "cell_type": "code",
      "execution_count": null,
      "metadata": {
        "id": "0e58c6c7-0abb-46dd-b227-c3cac19665a1"
      },
      "outputs": [],
      "source": [
        "my_model = RandomForestClassifier().fit(X, y)\n",
        "tmp = pd.Series(my_model.feature_importances_, index=X.columns)\n",
        "tmp.sort_values().plot(kind='barh')"
      ],
      "id": "0e58c6c7-0abb-46dd-b227-c3cac19665a1"
    },
    {
      "id": "b2f06f54",
      "cell_type": "markdown",
      "source": [
        "## 9.5 欠損のあるデータでの学習"
      ],
      "metadata": {
        "id": "b2f06f54"
      }
    },
    {
      "cell_type": "code",
      "execution_count": null,
      "metadata": {
        "id": "b8fe6e41-89f6-4319-8ab7-9566c19dee9d"
      },
      "outputs": [],
      "source": [
        "import numpy as np\n",
        "import statsmodels.api as sm\n",
        "import warnings\n",
        "import xgboost\n",
        "from sklearn import tree\n",
        "from sklearn.impute import SimpleImputer\n",
        "from sklearn.model_selection import cross_val_score, LeaveOneOut\n",
        "from sklearn.pipeline import Pipeline\n",
        "\n",
        "my_data = sm.datasets.get_rdataset('iris', 'datasets').data\n",
        "\n",
        "n = len(my_data)\n",
        "my_data['Petal.Length'] = [np.nan if i % 10 == 0 else\n",
        "                           my_data['Petal.Length'][i] for i in range(n)]\n",
        "my_data['Petal.Width']  = [np.nan if i % 10 == 1 else\n",
        "                           my_data['Petal.Width'][i]  for i in range(n)]\n",
        "\n",
        "my_data.describe() # countの値が135の変数に，150-135=15個の欠損がある．\n",
        "# 以下省略\n",
        "\n",
        "X, y = my_data.iloc[:, 0:4], my_data.Species"
      ],
      "id": "b8fe6e41-89f6-4319-8ab7-9566c19dee9d"
    },
    {
      "cell_type": "code",
      "execution_count": null,
      "metadata": {
        "id": "5e4ca4ef-490b-4c5b-874c-b3d1b375e8d9"
      },
      "outputs": [],
      "source": [
        "my_pipeline = Pipeline([\n",
        "    ('imputer', SimpleImputer(strategy='median')), # 欠損を中央値で埋める．\n",
        "    ('tree', tree.DecisionTreeClassifier(random_state=0))])\n",
        "my_scores = cross_val_score(my_pipeline, X, y, cv=LeaveOneOut(), n_jobs=-1)\n",
        "my_scores.mean()"
      ],
      "id": "5e4ca4ef-490b-4c5b-874c-b3d1b375e8d9"
    },
    {
      "cell_type": "code",
      "execution_count": null,
      "metadata": {
        "id": "e83cd19d-6754-425c-a992-b6745369c4d7"
      },
      "outputs": [],
      "source": [
        "from sklearn.preprocessing import LabelEncoder\n",
        "label_encoder = LabelEncoder()\n",
        "y = label_encoder.fit_transform(y)\n",
        "\n",
        "warnings.simplefilter('ignore')  # これ以降，警告を表示しない．\n",
        "my_scores = cross_val_score(\n",
        "    xgboost.XGBClassifier(eval_metric='mlogloss'), X, y, cv=5)\n",
        "warnings.simplefilter('default') # これ以降，警告を表示する．\n",
        "\n",
        "my_scores.mean()"
      ],
      "id": "e83cd19d-6754-425c-a992-b6745369c4d7"
    },
    {
      "id": "fea6d1d9",
      "cell_type": "markdown",
      "source": [
        "## 9.6 他の分類手法"
      ],
      "metadata": {
        "id": "fea6d1d9"
      }
    },
    {
      "cell_type": "code",
      "execution_count": null,
      "metadata": {
        "id": "7c9468b7-a61f-4907-8242-a2b2dd3cc15d"
      },
      "outputs": [],
      "source": [
        "import statsmodels.api as sm\n",
        "from sklearn.model_selection import cross_val_score, LeaveOneOut\n",
        "from sklearn.neighbors import KNeighborsClassifier\n",
        "\n",
        "my_data = sm.datasets.get_rdataset('iris', 'datasets').data\n",
        "X, y = my_data.iloc[:, 0:4], my_data.Species\n",
        "\n",
        "my_scores = cross_val_score(KNeighborsClassifier(), X, y, cv=LeaveOneOut())\n",
        "my_scores.mean()"
      ],
      "id": "7c9468b7-a61f-4907-8242-a2b2dd3cc15d"
    },
    {
      "cell_type": "code",
      "execution_count": null,
      "metadata": {
        "id": "e44b553c-b1ea-477e-aa1a-929beaa3a6b1"
      },
      "outputs": [],
      "source": [
        "import statsmodels.api as sm\n",
        "from sklearn.model_selection import cross_val_score, LeaveOneOut\n",
        "from sklearn.neural_network import MLPClassifier\n",
        "from sklearn.pipeline import Pipeline\n",
        "from sklearn.preprocessing import StandardScaler\n",
        "\n",
        "my_data = sm.datasets.get_rdataset('iris', 'datasets').data\n",
        "X, y = my_data.iloc[:, 0:4], my_data.Species\n",
        "\n",
        "my_pipeline = Pipeline([('sc',  StandardScaler()),              # 標準化\n",
        "                        ('mlp', MLPClassifier(max_iter=1000))]) # ニューラルネットワーク\n",
        "my_scores = cross_val_score(my_pipeline, X, y, cv=LeaveOneOut(), n_jobs=-1)\n",
        "my_scores.mean()"
      ],
      "id": "e44b553c-b1ea-477e-aa1a-929beaa3a6b1"
    },
    {
      "id": "73909c42",
      "cell_type": "markdown",
      "source": [
        "# 10 分類2（2値分類）\n",
        "\n",
        "\n"
      ],
      "metadata": {
        "id": "73909c42"
      }
    },
    {
      "id": "08d073ff",
      "cell_type": "markdown",
      "source": [
        "## 10.1 2値分類の性能指標"
      ],
      "metadata": {
        "id": "08d073ff"
      }
    },
    {
      "cell_type": "code",
      "execution_count": null,
      "metadata": {
        "id": "9598c38c-faa8-418e-b869-f0d936384843"
      },
      "outputs": [],
      "source": [
        "import numpy as np\n",
        "from sklearn.metrics import classification_report, confusion_matrix\n",
        "\n",
        "y       = np.array([  0,   1,   1,   0,   1,   0,    1,   0,   0,   1])\n",
        "y_score = np.array([0.7, 0.8, 0.3, 0.4, 0.9, 0.6, 0.99, 0.1, 0.2, 0.5])"
      ],
      "id": "9598c38c-faa8-418e-b869-f0d936384843"
    },
    {
      "cell_type": "code",
      "execution_count": null,
      "metadata": {
        "id": "a5d4bf27-d818-4f30-b2b8-4a9abd399c71"
      },
      "outputs": [],
      "source": [
        "y_ = np.array([1 if 0.5 <= p else 0 for p in y_score])\n",
        "y_"
      ],
      "id": "a5d4bf27-d818-4f30-b2b8-4a9abd399c71"
    },
    {
      "cell_type": "code",
      "execution_count": null,
      "metadata": {
        "id": "10ee4179-cdef-44d9-b5df-56e08e8affff"
      },
      "outputs": [],
      "source": [
        "confusion_matrix(y_true=y, y_pred=y_)\n",
        "\n",
        "print(classification_report(y_true=y, y_pred=y_))"
      ],
      "id": "10ee4179-cdef-44d9-b5df-56e08e8affff"
    },
    {
      "id": "4d0a625d",
      "cell_type": "markdown",
      "source": [
        "## 10.2 トレードオフ"
      ],
      "metadata": {
        "id": "4d0a625d"
      }
    },
    {
      "cell_type": "code",
      "execution_count": null,
      "metadata": {
        "id": "c50ff1e0-c3bc-4114-bed6-fbb713d12030"
      },
      "outputs": [],
      "source": [
        "import numpy as np\n",
        "from sklearn.metrics import (roc_curve, RocCurveDisplay,\n",
        "    precision_recall_curve, PrecisionRecallDisplay, auc)\n",
        "\n",
        "y       = np.array([  0,   1,   1,   0,   1,   0,    1,   0,   0,   1])\n",
        "y_score = np.array([0.7, 0.8, 0.3, 0.4, 0.9, 0.6, 0.99, 0.1, 0.2, 0.5])\n",
        "y_      = np.array([1 if 0.5 <= p else 0 for p in y_score])\n",
        "\n",
        "[sum((y == 0) & (y_ == 1)) / sum(y == 0), # FPR\n",
        " sum((y == 1) & (y_ == 1)) / sum(y == 1)] # TPR"
      ],
      "id": "c50ff1e0-c3bc-4114-bed6-fbb713d12030"
    },
    {
      "cell_type": "code",
      "execution_count": null,
      "metadata": {
        "id": "30b5f885-2184-442b-b86f-df5cef82c34a"
      },
      "outputs": [],
      "source": [
        "my_fpr, my_tpr, _ = roc_curve(y_true=y,\n",
        "                              y_score=y_score,\n",
        "                              pos_label=1) # 1が陽性である．\n",
        "RocCurveDisplay(fpr=my_fpr, tpr=my_tpr).plot()"
      ],
      "id": "30b5f885-2184-442b-b86f-df5cef82c34a"
    },
    {
      "cell_type": "code",
      "execution_count": null,
      "metadata": {
        "id": "cdd7905a-857a-4461-ac6b-138a43680471"
      },
      "outputs": [],
      "source": [
        "auc(x=my_fpr, y=my_tpr)"
      ],
      "id": "cdd7905a-857a-4461-ac6b-138a43680471"
    },
    {
      "cell_type": "code",
      "execution_count": null,
      "metadata": {
        "id": "b47ac1ae-c493-4ed0-845b-0d00baeb5899"
      },
      "outputs": [],
      "source": [
        "[sum((y == 1) & (y_ == 1)) / sum(y  == 1), # Recall == TPR\n",
        " sum((y == 1) & (y_ == 1)) / sum(y_ == 1)] # Precision"
      ],
      "id": "b47ac1ae-c493-4ed0-845b-0d00baeb5899"
    },
    {
      "cell_type": "code",
      "execution_count": null,
      "metadata": {
        "id": "d46f4a99-1977-462d-892e-d65d4b53dc97"
      },
      "outputs": [],
      "source": [
        "my_precision, my_recall, _ = precision_recall_curve(y_true=y,\n",
        "                                                    probas_pred=y_score,\n",
        "                                                    pos_label=1)\n",
        "PrecisionRecallDisplay(precision=my_precision, recall=my_recall).plot()"
      ],
      "id": "d46f4a99-1977-462d-892e-d65d4b53dc97"
    },
    {
      "cell_type": "code",
      "execution_count": null,
      "metadata": {
        "id": "34103287-609c-42a2-a4e6-ccbb744b201c"
      },
      "outputs": [],
      "source": [
        "auc(x=my_recall, y=my_precision)"
      ],
      "id": "34103287-609c-42a2-a4e6-ccbb744b201c"
    },
    {
      "id": "ff778929",
      "cell_type": "markdown",
      "source": [
        "## 10.3 タイタニック"
      ],
      "metadata": {
        "id": "ff778929"
      }
    },
    {
      "cell_type": "code",
      "execution_count": null,
      "metadata": {
        "id": "6d86e238-1d5e-4be7-ae28-d45a1d21ea2b"
      },
      "outputs": [],
      "source": [
        "import graphviz\n",
        "import pandas as pd\n",
        "from sklearn import tree\n",
        "from sklearn.metrics import roc_curve, RocCurveDisplay, auc\n",
        "from sklearn.model_selection import cross_val_score, LeaveOneOut\n",
        "from sklearn.pipeline import Pipeline\n",
        "from sklearn.preprocessing import OneHotEncoder\n",
        "\n",
        "my_url = ('https://raw.githubusercontent.com/taroyabuki'\n",
        "          '/fromzero/master/data/titanic.csv')\n",
        "my_data = pd.read_csv(my_url)"
      ],
      "id": "6d86e238-1d5e-4be7-ae28-d45a1d21ea2b"
    },
    {
      "cell_type": "code",
      "execution_count": null,
      "metadata": {
        "id": "24bcc4db-61ef-4ddc-a618-d60bc0e0b93d"
      },
      "outputs": [],
      "source": [
        "my_data.head()"
      ],
      "id": "24bcc4db-61ef-4ddc-a618-d60bc0e0b93d"
    },
    {
      "cell_type": "code",
      "execution_count": null,
      "metadata": {
        "id": "0cfe5243-29ef-4f9e-a306-03d22b88a45d"
      },
      "outputs": [],
      "source": [
        "X, y = my_data.iloc[:, 0:3], my_data.Survived\n",
        "\n",
        "my_pipeline = Pipeline([\n",
        "    ('ohe', OneHotEncoder(drop='first')),\n",
        "    ('tree', tree.DecisionTreeClassifier(max_depth=2, random_state=0,\n",
        "                                         min_impurity_decrease=0.01))])\n",
        "my_pipeline.fit(X, y)"
      ],
      "id": "0cfe5243-29ef-4f9e-a306-03d22b88a45d"
    },
    {
      "cell_type": "code",
      "execution_count": null,
      "metadata": {
        "id": "63046e78-249a-4ec9-bf4a-e728b7b68c49"
      },
      "outputs": [],
      "source": [
        "my_enc  = my_pipeline.named_steps['ohe']  # パイプラインからエンコーダを取り出す．\n",
        "my_tree = my_pipeline.named_steps['tree'] # パイプラインから木を取り出す．\n",
        "\n",
        "my_dot = tree.export_graphviz(\n",
        "    decision_tree=my_tree,\n",
        "    out_file=None,\n",
        "    feature_names=my_enc.get_feature_names() \\\n",
        "    if hasattr(my_enc, 'get_feature_names') else my_enc.get_feature_names_out(),\n",
        "    class_names=my_pipeline.classes_,\n",
        "    filled=True)\n",
        "graphviz.Source(my_dot)"
      ],
      "id": "63046e78-249a-4ec9-bf4a-e728b7b68c49"
    },
    {
      "cell_type": "code",
      "execution_count": null,
      "metadata": {
        "id": "f5af8941-6112-41d8-8289-76aaab6c093e"
      },
      "outputs": [],
      "source": [
        "my_scores = cross_val_score(\n",
        "    my_pipeline, X, y,\n",
        "    cv=LeaveOneOut(),\n",
        "    n_jobs=-1)\n",
        "my_scores.mean()"
      ],
      "id": "f5af8941-6112-41d8-8289-76aaab6c093e"
    },
    {
      "cell_type": "code",
      "execution_count": null,
      "metadata": {
        "id": "f164d146-a934-4b91-8a9d-c2b2740c97cf"
      },
      "outputs": [],
      "source": [
        "tmp = pd.DataFrame(\n",
        "    my_pipeline.predict_proba(X),\n",
        "    columns=my_pipeline.classes_)\n",
        "y_score = tmp.Yes\n",
        "\n",
        "my_fpr, my_tpr, _ = roc_curve(y_true=y,\n",
        "                              y_score=y_score,\n",
        "                              pos_label='Yes')\n",
        "my_auc = auc(x=my_fpr, y=my_tpr)\n",
        "my_auc\n",
        "\n",
        "RocCurveDisplay(fpr=my_fpr, tpr=my_tpr, roc_auc=my_auc).plot()"
      ],
      "id": "f164d146-a934-4b91-8a9d-c2b2740c97cf"
    },
    {
      "id": "9b57e82c",
      "cell_type": "markdown",
      "source": [
        "## 10.4 ロジスティック回帰"
      ],
      "metadata": {
        "id": "9b57e82c"
      }
    },
    {
      "cell_type": "code",
      "execution_count": null,
      "metadata": {
        "id": "99842d76-ee95-4c96-beb6-fb54c8baa380"
      },
      "outputs": [],
      "source": [
        "import matplotlib.pyplot as plt\n",
        "import numpy as np\n",
        "\n",
        "x = np.arange(-6, 6, 0.1)\n",
        "y = 1 / (1 + np.exp(-x))\n",
        "plt.plot(x, y)"
      ],
      "id": "99842d76-ee95-4c96-beb6-fb54c8baa380"
    },
    {
      "cell_type": "code",
      "execution_count": null,
      "metadata": {
        "id": "d0535b4a-7cc8-4e37-ae82-a7e68aac7ca8"
      },
      "outputs": [],
      "source": [
        "import sklearn\n",
        "import pandas as pd\n",
        "from packaging.version import parse\n",
        "from sklearn.linear_model import LogisticRegression\n",
        "from sklearn.model_selection import cross_val_score, LeaveOneOut\n",
        "from sklearn.pipeline import Pipeline\n",
        "from sklearn.preprocessing import OneHotEncoder\n",
        "\n",
        "my_url = ('https://raw.githubusercontent.com/taroyabuki'\n",
        "          '/fromzero/master/data/titanic.csv')\n",
        "my_data = pd.read_csv(my_url)\n",
        "\n",
        "X, y = my_data.iloc[:, 0:3], my_data.Survived\n",
        "\n",
        "none = 'none' if parse(sklearn.__version__) < parse(\"1.4\") else None\n",
        "my_pipeline = Pipeline([('ohe', OneHotEncoder(drop='first')),\n",
        "                        ('lr', LogisticRegression(penalty=none))])\n",
        "my_pipeline.fit(X, y)"
      ],
      "id": "d0535b4a-7cc8-4e37-ae82-a7e68aac7ca8"
    },
    {
      "cell_type": "code",
      "execution_count": null,
      "metadata": {
        "id": "845dda07-6424-4df6-b05d-c71434a4cc07"
      },
      "outputs": [],
      "source": [
        "my_ohe = my_pipeline.named_steps.ohe\n",
        "my_lr  = my_pipeline.named_steps.lr\n",
        "\n",
        "my_lr.intercept_[0]\n",
        "\n",
        "tmp = my_ohe.get_feature_names() \\\n",
        "if hasattr(my_ohe, 'get_feature_names') \\\n",
        "else my_ohe.get_feature_names_out()\n",
        "pd.Series(my_lr.coef_[0],\n",
        "          index=tmp)"
      ],
      "id": "845dda07-6424-4df6-b05d-c71434a4cc07"
    },
    {
      "cell_type": "code",
      "execution_count": null,
      "metadata": {
        "id": "51793c5e-aa8e-4580-9dcc-d8ba3accd6c9"
      },
      "outputs": [],
      "source": [
        "my_scores = cross_val_score(\n",
        "    my_pipeline, X, y,\n",
        "    cv=LeaveOneOut(),\n",
        "    n_jobs=-1)\n",
        "my_scores.mean()"
      ],
      "id": "51793c5e-aa8e-4580-9dcc-d8ba3accd6c9"
    },
    {
      "id": "dd027b08",
      "cell_type": "markdown",
      "source": [
        "# 11 深層学習とAutoML\n",
        "\n",
        "\n"
      ],
      "metadata": {
        "id": "dd027b08"
      }
    },
    {
      "id": "d69321dc",
      "cell_type": "markdown",
      "source": [
        "## 11.1 Kerasによる回帰"
      ],
      "metadata": {
        "id": "d69321dc"
      }
    },
    {
      "cell_type": "code",
      "execution_count": null,
      "metadata": {
        "id": "a7b14d5f-2e99-431b-8cc4-c584150ef353"
      },
      "outputs": [],
      "source": [
        "import matplotlib.pyplot as plt\n",
        "import numpy as np\n",
        "import pandas as pd\n",
        "from keras import activations, callbacks, layers, models\n",
        "from sklearn.preprocessing import StandardScaler\n",
        "from sklearn.utils import shuffle\n",
        "\n",
        "my_url = ('https://raw.githubusercontent.com/taroyabuki'\n",
        "          '/fromzero/master/data/wine.csv')\n",
        "tmp = pd.read_csv(my_url)"
      ],
      "id": "a7b14d5f-2e99-431b-8cc4-c584150ef353"
    },
    {
      "cell_type": "code",
      "execution_count": null,
      "metadata": {
        "id": "0d0324ba-d2f5-41ff-8333-2605b5924217"
      },
      "outputs": [],
      "source": [
        "my_data = shuffle(tmp)"
      ],
      "id": "0d0324ba-d2f5-41ff-8333-2605b5924217"
    },
    {
      "cell_type": "code",
      "execution_count": null,
      "metadata": {
        "id": "3665fd12-dc83-4e2d-8c61-379530822aed"
      },
      "outputs": [],
      "source": [
        "my_scaler = StandardScaler()\n",
        "X = my_scaler.fit_transform(\n",
        "    my_data.drop(columns=['LPRICE2']))\n",
        "y = my_data['LPRICE2']"
      ],
      "id": "3665fd12-dc83-4e2d-8c61-379530822aed"
    },
    {
      "cell_type": "code",
      "execution_count": null,
      "metadata": {
        "id": "9cd7b4f6-deff-4133-b084-b0ad54dc2e86"
      },
      "outputs": [],
      "source": [
        "x = np.linspace(-3, 3, 100)\n",
        "plt.plot(x, activations.relu(x))\n",
        "plt.xlabel('x')\n",
        "plt.ylabel('ReLU(x)')"
      ],
      "id": "9cd7b4f6-deff-4133-b084-b0ad54dc2e86"
    },
    {
      "cell_type": "code",
      "execution_count": null,
      "metadata": {
        "id": "35f7ac95-eda8-431f-99a6-d8fe3b043ea5"
      },
      "outputs": [],
      "source": [
        "my_model = models.Sequential()\n",
        "my_model.add(layers.Dense(units=3, activation='relu', input_shape=[4]))\n",
        "my_model.add(layers.Dense(units=1))\n",
        "\n",
        "my_model.summary() # ネットワークの概要"
      ],
      "id": "35f7ac95-eda8-431f-99a6-d8fe3b043ea5"
    },
    {
      "cell_type": "code",
      "execution_count": null,
      "metadata": {
        "id": "80375dbb-8088-4645-81de-1ab96c699cb4"
      },
      "outputs": [],
      "source": [
        "my_model.compile(\n",
        "    loss='mse',\n",
        "    optimizer='rmsprop')"
      ],
      "id": "80375dbb-8088-4645-81de-1ab96c699cb4"
    },
    {
      "cell_type": "code",
      "execution_count": null,
      "metadata": {
        "id": "f7574227-04ad-431e-8241-6a70bda831c3"
      },
      "outputs": [],
      "source": [
        "my_cb = callbacks.EarlyStopping(\n",
        "    patience=20,\n",
        "    restore_best_weights=True)"
      ],
      "id": "f7574227-04ad-431e-8241-6a70bda831c3"
    },
    {
      "cell_type": "code",
      "execution_count": null,
      "metadata": {
        "id": "c3f1876e-8cc7-4a1c-bdb5-77adef9f97cc"
      },
      "outputs": [],
      "source": [
        "my_history = my_model.fit(\n",
        "    x=X,\n",
        "    y=y,\n",
        "    validation_split=0.25,\n",
        "    batch_size=10,\n",
        "    epochs=500,\n",
        "    callbacks=[my_cb],\n",
        "    verbose=0)"
      ],
      "id": "c3f1876e-8cc7-4a1c-bdb5-77adef9f97cc"
    },
    {
      "cell_type": "code",
      "execution_count": null,
      "metadata": {
        "id": "a6eb54e3-62a4-4150-8c00-a8460f6bcea3"
      },
      "outputs": [],
      "source": [
        "tmp = pd.DataFrame(my_history.history)\n",
        "tmp.plot(xlabel='epoch')"
      ],
      "id": "a6eb54e3-62a4-4150-8c00-a8460f6bcea3"
    },
    {
      "cell_type": "code",
      "execution_count": null,
      "metadata": {
        "id": "45fd43f2-7cb5-4e49-a73f-b5e5d249a577"
      },
      "outputs": [],
      "source": [
        "tmp.iloc[-1, ]"
      ],
      "id": "45fd43f2-7cb5-4e49-a73f-b5e5d249a577"
    },
    {
      "cell_type": "code",
      "execution_count": null,
      "metadata": {
        "id": "a372205e-a20f-442c-a51d-bca22e620c1f"
      },
      "outputs": [],
      "source": [
        "y_ = my_model.predict(X)\n",
        "((y_.ravel() - y)**2).mean()"
      ],
      "id": "a372205e-a20f-442c-a51d-bca22e620c1f"
    },
    {
      "id": "27c6d333",
      "cell_type": "markdown",
      "source": [
        "## 11.2 Kerasによる分類"
      ],
      "metadata": {
        "id": "27c6d333"
      }
    },
    {
      "cell_type": "code",
      "execution_count": null,
      "metadata": {
        "id": "ca2bcacb-d7c2-407b-9cee-79e62a28a1a0"
      },
      "outputs": [],
      "source": [
        "import numpy as np\n",
        "import pandas as pd\n",
        "import statsmodels.api as sm\n",
        "from keras import callbacks, layers, losses, models\n",
        "from sklearn.preprocessing import StandardScaler, LabelEncoder\n",
        "from sklearn.utils import shuffle\n",
        "\n",
        "tmp = sm.datasets.get_rdataset('iris', 'datasets').data\n",
        "my_data = shuffle(tmp)"
      ],
      "id": "ca2bcacb-d7c2-407b-9cee-79e62a28a1a0"
    },
    {
      "cell_type": "code",
      "execution_count": null,
      "metadata": {
        "id": "0f71aee9-af6a-4deb-bf46-12ab831094bb"
      },
      "outputs": [],
      "source": [
        "my_scaler = StandardScaler()\n",
        "X = my_scaler.fit_transform(\n",
        "    my_data.drop(columns=['Species']))\n",
        "my_enc = LabelEncoder()\n",
        "y = my_enc.fit_transform(\n",
        "    my_data['Species'])"
      ],
      "id": "0f71aee9-af6a-4deb-bf46-12ab831094bb"
    },
    {
      "cell_type": "code",
      "execution_count": null,
      "metadata": {
        "id": "aefc114d-e1c0-444a-8aed-8dd755af4ce5"
      },
      "outputs": [],
      "source": [
        "my_model = models.Sequential()\n",
        "my_model.add(layers.Dense(units=3, activation='relu', input_shape=[4]))\n",
        "my_model.add(layers.Dense(units=3, activation='softmax'))"
      ],
      "id": "aefc114d-e1c0-444a-8aed-8dd755af4ce5"
    },
    {
      "cell_type": "code",
      "execution_count": null,
      "metadata": {
        "id": "aa02871d-75b8-4d01-b935-fd6e78d0f077"
      },
      "outputs": [],
      "source": [
        "my_model.compile(loss='sparse_categorical_crossentropy',\n",
        "                 optimizer='rmsprop',\n",
        "                 metrics=['accuracy'])"
      ],
      "id": "aa02871d-75b8-4d01-b935-fd6e78d0f077"
    },
    {
      "cell_type": "code",
      "execution_count": null,
      "metadata": {
        "id": "92ba7ff2-3bb9-40e1-8ad1-dfeb08943551"
      },
      "outputs": [],
      "source": [
        "my_cb = callbacks.EarlyStopping(\n",
        "    patience=20,\n",
        "    restore_best_weights=True)\n",
        "\n",
        "my_history = my_model.fit(\n",
        "    x=X,\n",
        "    y=y,\n",
        "    validation_split=0.25,\n",
        "    batch_size=10,\n",
        "    epochs=500,\n",
        "    callbacks=[my_cb],\n",
        "    verbose=0)\n",
        "\n",
        "tmp = pd.DataFrame(my_history.history)\n",
        "tmp.plot(xlabel='epoch')"
      ],
      "id": "92ba7ff2-3bb9-40e1-8ad1-dfeb08943551"
    },
    {
      "cell_type": "code",
      "execution_count": null,
      "metadata": {
        "id": "47d4bd34-226c-40a8-b00e-074d79ccfee0"
      },
      "outputs": [],
      "source": [
        "tmp.iloc[-1, ]"
      ],
      "id": "47d4bd34-226c-40a8-b00e-074d79ccfee0"
    },
    {
      "cell_type": "code",
      "execution_count": null,
      "metadata": {
        "id": "a1f0a83b-134b-4035-b45d-0ff151cf5a65"
      },
      "outputs": [],
      "source": [
        "tmp = my_model.predict(X)\n",
        "y_ = np.argmax(tmp, axis=-1)\n",
        "(y_ == y).mean()"
      ],
      "id": "a1f0a83b-134b-4035-b45d-0ff151cf5a65"
    },
    {
      "cell_type": "code",
      "execution_count": null,
      "metadata": {
        "id": "4200bad3-78b3-48e1-8e50-035f6ebe578e"
      },
      "outputs": [],
      "source": [
        "-np.log([0.8, 0.7, 0.3, 0.8]).mean()\n",
        "\n",
        "-np.log([0.7, 0.6, 0.2, 0.7]).mean()"
      ],
      "id": "4200bad3-78b3-48e1-8e50-035f6ebe578e"
    },
    {
      "cell_type": "code",
      "execution_count": null,
      "metadata": {
        "id": "185f91d0-5ab4-4fed-91d9-9b35dc1a445b"
      },
      "outputs": [],
      "source": [
        "y = [2, 1, 0, 1]\n",
        "y_1 = [[0.1, 0.1, 0.8],\n",
        "       [0.1, 0.7, 0.2],\n",
        "       [0.3, 0.4, 0.3],\n",
        "       [0.1, 0.8, 0.1]]\n",
        "y_2 = [[0.1, 0.2, 0.7],\n",
        "       [0.2, 0.6, 0.2],\n",
        "       [0.2, 0.5, 0.3],\n",
        "       [0.2, 0.7, 0.1]]"
      ],
      "id": "185f91d0-5ab4-4fed-91d9-9b35dc1a445b"
    },
    {
      "cell_type": "code",
      "execution_count": null,
      "metadata": {
        "id": "ea0c5f33-18e5-4ebd-90f5-330406fff3b8"
      },
      "outputs": [],
      "source": [
        "[losses.sparse_categorical_crossentropy(y_true=y, y_pred=y_1).numpy().mean(),\n",
        " losses.sparse_categorical_crossentropy(y_true=y, y_pred=y_2).numpy().mean()]"
      ],
      "id": "ea0c5f33-18e5-4ebd-90f5-330406fff3b8"
    },
    {
      "id": "653f9c9d",
      "cell_type": "markdown",
      "source": [
        "## 11.3 MNIST：手書き数字の分類"
      ],
      "metadata": {
        "id": "653f9c9d"
      }
    },
    {
      "cell_type": "code",
      "execution_count": null,
      "metadata": {
        "id": "0bf6e498-7b1e-4316-a3e5-9cffdb42dd00"
      },
      "outputs": [],
      "source": [
        "import matplotlib.pyplot as plt\n",
        "import numpy as np\n",
        "import pandas as pd\n",
        "import tensorflow as tf\n",
        "from random import sample\n",
        "from keras import callbacks, layers, models\n",
        "from sklearn.metrics import confusion_matrix\n",
        "\n",
        "(x_train, y_train), (x_test, y_test) = tf.keras.datasets.mnist.load_data()"
      ],
      "id": "0bf6e498-7b1e-4316-a3e5-9cffdb42dd00"
    },
    {
      "cell_type": "code",
      "execution_count": null,
      "metadata": {
        "id": "ee8cf96d-1748-41c8-af4d-740b0ce5903c"
      },
      "outputs": [],
      "source": [
        "x_train.shape"
      ],
      "id": "ee8cf96d-1748-41c8-af4d-740b0ce5903c"
    },
    {
      "cell_type": "code",
      "execution_count": null,
      "metadata": {
        "id": "c79e2aec-c07e-4eef-9673-6fadf12f3b53"
      },
      "outputs": [],
      "source": [
        "np.set_printoptions(linewidth=170)\n",
        "x_train[4, :, :]"
      ],
      "id": "c79e2aec-c07e-4eef-9673-6fadf12f3b53"
    },
    {
      "cell_type": "code",
      "execution_count": null,
      "metadata": {
        "id": "16de489a-21da-428a-89ef-8cfaa1af5cba"
      },
      "outputs": [],
      "source": [
        "plt.matshow(x_train[4, :, :])"
      ],
      "id": "16de489a-21da-428a-89ef-8cfaa1af5cba"
    },
    {
      "cell_type": "code",
      "execution_count": null,
      "metadata": {
        "id": "53d9f926-546c-4c8e-b3a3-d564cbf59c5d"
      },
      "outputs": [],
      "source": [
        "y_train"
      ],
      "id": "53d9f926-546c-4c8e-b3a3-d564cbf59c5d"
    },
    {
      "cell_type": "code",
      "execution_count": null,
      "metadata": {
        "id": "ac9cb106-ebca-4b4e-808f-a75072f37875"
      },
      "outputs": [],
      "source": [
        "x_train.min(), x_train.max()"
      ],
      "id": "ac9cb106-ebca-4b4e-808f-a75072f37875"
    },
    {
      "cell_type": "code",
      "execution_count": null,
      "metadata": {
        "id": "a6752396-a541-4af1-b616-9d7b2ac8eee7"
      },
      "outputs": [],
      "source": [
        "x_train = x_train / 255\n",
        "x_test  = x_test  / 255"
      ],
      "id": "a6752396-a541-4af1-b616-9d7b2ac8eee7"
    },
    {
      "cell_type": "code",
      "execution_count": null,
      "metadata": {
        "id": "a0e68c26-2509-4318-8533-0f5ca94c47bc"
      },
      "outputs": [],
      "source": [
        "my_index = sample(range(60000), 6000)\n",
        "x_train = x_train[my_index, :, :]\n",
        "y_train = y_train[my_index]"
      ],
      "id": "a0e68c26-2509-4318-8533-0f5ca94c47bc"
    },
    {
      "cell_type": "code",
      "execution_count": null,
      "metadata": {
        "id": "9e2b2baf-3a81-457f-b7e0-96efcaf33888"
      },
      "outputs": [],
      "source": [
        "my_model = models.Sequential()\n",
        "my_model.add(layers.Flatten(input_shape=[28, 28]))\n",
        "my_model.add(layers.Dense(units=256, activation=\"relu\"))\n",
        "my_model.add(layers.Dense(units=10, activation=\"softmax\"))\n",
        "\n",
        "my_model.summary()\n",
        "\n",
        "my_model.compile(loss='sparse_categorical_crossentropy',\n",
        "                 optimizer='rmsprop',\n",
        "                 metrics=['accuracy'])\n",
        "\n",
        "my_cb = callbacks.EarlyStopping(patience=5, restore_best_weights=True)"
      ],
      "id": "9e2b2baf-3a81-457f-b7e0-96efcaf33888"
    },
    {
      "cell_type": "code",
      "execution_count": null,
      "metadata": {
        "id": "11ebcbe8-6e05-4813-b333-4a42de111929"
      },
      "outputs": [],
      "source": [
        "my_history = my_model.fit(\n",
        "    x=x_train,\n",
        "    y=y_train,\n",
        "    validation_split=0.2,\n",
        "    batch_size=128,\n",
        "    epochs=20,\n",
        "    callbacks=[my_cb],\n",
        "    verbose=0)\n",
        "\n",
        "tmp = pd.DataFrame(my_history.history)\n",
        "tmp.plot(xlabel='epoch', style='o-')"
      ],
      "id": "11ebcbe8-6e05-4813-b333-4a42de111929"
    },
    {
      "cell_type": "code",
      "execution_count": null,
      "metadata": {
        "id": "e739c32f-1a10-4f8a-8034-a9f06ba403f6"
      },
      "outputs": [],
      "source": [
        "tmp = my_model.predict(x_test)\n",
        "y_ = np.argmax(tmp, axis=-1)\n",
        "confusion_matrix(y_true=y_test,\n",
        "                 y_pred=y_)"
      ],
      "id": "e739c32f-1a10-4f8a-8034-a9f06ba403f6"
    },
    {
      "cell_type": "code",
      "execution_count": null,
      "metadata": {
        "id": "77f3654f-9d58-4e98-bc10-504d04e89fb4"
      },
      "outputs": [],
      "source": [],
      "id": "77f3654f-9d58-4e98-bc10-504d04e89fb4"
    },
    {
      "cell_type": "code",
      "execution_count": null,
      "metadata": {
        "id": "bce023df-a841-4bda-a4b5-c41cd2200edb"
      },
      "outputs": [],
      "source": [
        "(y_ == y_test).mean()"
      ],
      "id": "bce023df-a841-4bda-a4b5-c41cd2200edb"
    },
    {
      "cell_type": "code",
      "execution_count": null,
      "metadata": {
        "id": "eca5f0f2-0d94-419c-ae0f-7c03f348def4"
      },
      "outputs": [],
      "source": [
        "my_model.evaluate(x=x_test, y=y_test)"
      ],
      "id": "eca5f0f2-0d94-419c-ae0f-7c03f348def4"
    },
    {
      "cell_type": "code",
      "execution_count": null,
      "metadata": {
        "id": "18c7c8f2-c05d-4411-835d-7a09fecb7897"
      },
      "outputs": [],
      "source": [
        "x_train2d = x_train.reshape(-1, 28, 28, 1)\n",
        "x_test2d = x_test.reshape(-1, 28, 28, 1)"
      ],
      "id": "18c7c8f2-c05d-4411-835d-7a09fecb7897"
    },
    {
      "cell_type": "code",
      "execution_count": null,
      "metadata": {
        "id": "1335852a-e790-44c2-bfb7-f71977a62477"
      },
      "outputs": [],
      "source": [
        "my_model = models.Sequential()\n",
        "my_model.add(layers.Conv2D(filters=32, kernel_size=3, # 畳み込み層\n",
        "                           activation='relu',\n",
        "                           input_shape=[28, 28, 1]))\n",
        "my_model.add(layers.MaxPooling2D(pool_size=2))        # プーリング層\n",
        "my_model.add(layers.Flatten())\n",
        "my_model.add(layers.Dense(128, activation='relu'))\n",
        "my_model.add(layers.Dense(10, activation='softmax'))\n",
        "\n",
        "my_model.summary()\n",
        "\n",
        "my_model.compile(loss='sparse_categorical_crossentropy',\n",
        "                 optimizer='rmsprop',\n",
        "                 metrics=['accuracy'])\n",
        "\n",
        "from keras.callbacks import EarlyStopping\n",
        "my_cb = EarlyStopping(patience=5,\n",
        "                      restore_best_weights=True)"
      ],
      "id": "1335852a-e790-44c2-bfb7-f71977a62477"
    },
    {
      "cell_type": "code",
      "execution_count": null,
      "metadata": {
        "id": "03a54a44-8274-4d13-aa9b-d9c3b17a0ed9"
      },
      "outputs": [],
      "source": [
        "my_history = my_model.fit(\n",
        "    x=x_train2d,\n",
        "    y=y_train,\n",
        "    validation_split=0.2,\n",
        "    batch_size=128,\n",
        "    epochs=20,\n",
        "    callbacks=my_cb,\n",
        "    verbose=0)\n",
        "\n",
        "tmp = pd.DataFrame(my_history.history)\n",
        "tmp.plot(xlabel='epoch', style='o-')"
      ],
      "id": "03a54a44-8274-4d13-aa9b-d9c3b17a0ed9"
    },
    {
      "cell_type": "code",
      "execution_count": null,
      "metadata": {
        "id": "d5b495e8-fcb8-4d8f-a908-50f74b7a9321"
      },
      "outputs": [],
      "source": [
        "my_model.evaluate(x=x_test2d, y=y_test)"
      ],
      "id": "d5b495e8-fcb8-4d8f-a908-50f74b7a9321"
    },
    {
      "cell_type": "code",
      "execution_count": null,
      "metadata": {
        "id": "c38b81ff-f511-43c1-962a-0e806fb2344a"
      },
      "outputs": [],
      "source": [
        "my_model = models.Sequential()\n",
        "my_model.add(layers.Conv2D(filters=20, kernel_size=5, activation='relu',\n",
        "                           input_shape=(28, 28, 1)))\n",
        "my_model.add(layers.MaxPooling2D(pool_size=2, strides=2))\n",
        "my_model.add(layers.Conv2D(filters=20, kernel_size=5, activation='relu'))\n",
        "my_model.add(layers.MaxPooling2D(pool_size=2, strides=2))\n",
        "my_model.add(layers.Dropout(rate=0.25))\n",
        "my_model.add(layers.Flatten())\n",
        "my_model.add(layers.Dense(500, activation='relu'))\n",
        "my_model.add(layers.Dropout(rate=0.5))\n",
        "my_model.add(layers.Dense(10, activation='softmax'))\n",
        "\n",
        "my_model.compile(loss='sparse_categorical_crossentropy',\n",
        "                 optimizer='rmsprop',\n",
        "                 metrics=['accuracy'])\n",
        "\n",
        "my_cb = callbacks.EarlyStopping(patience=5,\n",
        "                                restore_best_weights=True)"
      ],
      "id": "c38b81ff-f511-43c1-962a-0e806fb2344a"
    },
    {
      "cell_type": "code",
      "execution_count": null,
      "metadata": {
        "id": "efd0fef9-c4e6-43c4-8423-95d130f264d0"
      },
      "outputs": [],
      "source": [
        "my_history = my_model.fit(\n",
        "    x=x_train2d,\n",
        "    y=y_train,\n",
        "    validation_split=0.2,\n",
        "    batch_size=128,\n",
        "    epochs=20,\n",
        "    callbacks=my_cb,\n",
        "    verbose=0)\n",
        "\n",
        "tmp = pd.DataFrame(my_history.history)\n",
        "tmp.plot(xlabel='epoch', style='o-')"
      ],
      "id": "efd0fef9-c4e6-43c4-8423-95d130f264d0"
    },
    {
      "cell_type": "code",
      "execution_count": null,
      "metadata": {
        "id": "4cbfe43f-b845-4244-a3d2-08ad870c2cba"
      },
      "outputs": [],
      "source": [
        "my_model.evaluate(x=x_test2d, y=y_test)"
      ],
      "id": "4cbfe43f-b845-4244-a3d2-08ad870c2cba"
    },
    {
      "cell_type": "code",
      "execution_count": null,
      "metadata": {
        "id": "53b8e029-1763-4741-a1ea-0a12c527d58a"
      },
      "outputs": [],
      "source": [
        "y_prob = my_model.predict(x_test2d)                    # カテゴリに属する確率\n",
        "\n",
        "tmp = pd.DataFrame({\n",
        "    'y_prob': np.max(y_prob, axis=1),                  # 確率の最大値\n",
        "    'y_': np.argmax(y_prob, axis=1),                   # 予測カテゴリ\n",
        "    'y': y_test,                                       # 正解\n",
        "    'id': range(len(y_test))})                         # 番号\n",
        "\n",
        "tmp = tmp[tmp.y_ != tmp.y]                             # 予測がはずれたものを残す\n",
        "my_result = tmp.sort_values('y_prob', ascending=False) # 確率の大きい順に並び替える"
      ],
      "id": "53b8e029-1763-4741-a1ea-0a12c527d58a"
    },
    {
      "cell_type": "code",
      "execution_count": null,
      "metadata": {
        "id": "013d3ffd-a54b-41d4-a5aa-cb3aa19e5f6a"
      },
      "outputs": [],
      "source": [
        "my_result.head()"
      ],
      "id": "013d3ffd-a54b-41d4-a5aa-cb3aa19e5f6a"
    },
    {
      "cell_type": "code",
      "execution_count": null,
      "metadata": {
        "id": "c5a28d0f-71cb-4c58-a172-c68d132a0112"
      },
      "outputs": [],
      "source": [
        "for i in range(5):\n",
        "    plt.subplot(1, 5, i + 1)\n",
        "    ans = my_result['y'].iloc[i]\n",
        "    id = my_result['id'].iloc[i]\n",
        "    plt.title(f'{ans} ({id})')\n",
        "    plt.imshow(x_test[id])\n",
        "    plt.axis('off')"
      ],
      "id": "c5a28d0f-71cb-4c58-a172-c68d132a0112"
    },
    {
      "id": "a90fbfd3",
      "cell_type": "markdown",
      "source": [
        "## 11.4 AutoML"
      ],
      "metadata": {
        "id": "a90fbfd3"
      }
    },
    {
      "cell_type": "code",
      "execution_count": null,
      "metadata": {
        "id": "e9bd2f69-7ee8-433b-8db3-de8aba39d496"
      },
      "outputs": [],
      "source": [
        "import h2o\n",
        "import pandas as pd\n",
        "import tensorflow as tf\n",
        "from h2o.automl import H2OAutoML\n",
        "from random import sample\n",
        "\n",
        "h2o.init()\n",
        "h2o.no_progress()\n",
        "# h2o.cluster().shutdown() # 停止"
      ],
      "id": "e9bd2f69-7ee8-433b-8db3-de8aba39d496"
    },
    {
      "cell_type": "code",
      "execution_count": null,
      "metadata": {
        "id": "14c57982-9e9c-4f24-8d12-f7a8406fb723"
      },
      "outputs": [],
      "source": [
        "my_url = ('https://raw.githubusercontent.com/taroyabuki'\n",
        "          '/fromzero/master/data/wine.csv')\n",
        "my_data = pd.read_csv(my_url)\n",
        "my_frame = h2o.H2OFrame(my_data) # 通常のデータフレームをH2OFrameに変換する．\n",
        "# あるいは\n",
        "my_frame = h2o.import_file(my_url, header=1) # データを読み込む．"
      ],
      "id": "14c57982-9e9c-4f24-8d12-f7a8406fb723"
    },
    {
      "cell_type": "code",
      "execution_count": null,
      "metadata": {
        "id": "3f051200-ab01-45b5-9caa-4058a49f105c"
      },
      "outputs": [],
      "source": [
        "my_frame.head(5)\n",
        "\n",
        "# 通常のデータフレームに戻す．\n",
        "h2o.as_list(my_frame).head()\n",
        "# 結果は割愛（見た目は同じ）"
      ],
      "id": "3f051200-ab01-45b5-9caa-4058a49f105c"
    },
    {
      "cell_type": "code",
      "execution_count": null,
      "metadata": {
        "id": "c48e348e-ed0d-42f9-bda7-82ebf4abb7e0"
      },
      "outputs": [],
      "source": [
        "my_model = H2OAutoML(\n",
        "    max_runtime_secs=60)\n",
        "my_model.train(\n",
        "    y='LPRICE2',\n",
        "    training_frame=my_frame)"
      ],
      "id": "c48e348e-ed0d-42f9-bda7-82ebf4abb7e0"
    },
    {
      "cell_type": "code",
      "execution_count": null,
      "metadata": {
        "id": "5d6c7b7e-c029-4ecb-aca0-fcd5b910888c"
      },
      "outputs": [],
      "source": [
        "my_model.leaderboard['rmse'].min()"
      ],
      "id": "5d6c7b7e-c029-4ecb-aca0-fcd5b910888c"
    },
    {
      "cell_type": "code",
      "execution_count": null,
      "metadata": {
        "id": "5ae83b74-e206-401f-bac7-9daedf8a0301"
      },
      "outputs": [],
      "source": [
        "tmp = h2o.as_list(\n",
        "    my_model.predict(my_frame))\n",
        "\n",
        "pd.DataFrame({\n",
        "    'y': my_data['LPRICE2'],\n",
        "    'y_': tmp['predict']}\n",
        ").plot('y', 'y_', kind='scatter')"
      ],
      "id": "5ae83b74-e206-401f-bac7-9daedf8a0301"
    },
    {
      "cell_type": "code",
      "execution_count": null,
      "metadata": {
        "id": "f91b585e-4f95-4370-9c4c-0e1a198ad9ba"
      },
      "outputs": [],
      "source": [
        "(x_train, y_train), (x_test, y_test) = tf.keras.datasets.mnist.load_data()\n",
        "my_index = sample(range(60000), 6000)\n",
        "x_train = x_train[my_index, :, :]\n",
        "y_train = y_train[my_index]"
      ],
      "id": "f91b585e-4f95-4370-9c4c-0e1a198ad9ba"
    },
    {
      "cell_type": "code",
      "execution_count": null,
      "metadata": {
        "id": "01c4fe56-1e6d-43c3-9c97-2f70d69b2c9b"
      },
      "outputs": [],
      "source": [
        "tmp = pd.DataFrame(\n",
        "    x_train.reshape(-1, 28 * 28))\n",
        "y = 'y'\n",
        "tmp[y] = y_train\n",
        "my_train = h2o.H2OFrame(tmp)\n",
        "my_train[y] = my_train[y].asfactor()\n",
        "\n",
        "tmp = pd.DataFrame(\n",
        "    x_test.reshape(-1, 28 * 28))\n",
        "my_test = h2o.H2OFrame(tmp)"
      ],
      "id": "01c4fe56-1e6d-43c3-9c97-2f70d69b2c9b"
    },
    {
      "cell_type": "code",
      "execution_count": null,
      "metadata": {
        "id": "30b42bd3-4360-4bda-8bf4-643f4f46750b"
      },
      "outputs": [],
      "source": [
        "my_model = H2OAutoML(\n",
        "    max_runtime_secs=120)\n",
        "my_model.train(\n",
        "    y=y,\n",
        "    training_frame=my_train)"
      ],
      "id": "30b42bd3-4360-4bda-8bf4-643f4f46750b"
    },
    {
      "cell_type": "code",
      "execution_count": null,
      "metadata": {
        "id": "5fb10db2-e54f-4e8c-90b7-a7e96195f096"
      },
      "outputs": [],
      "source": [
        "my_model.leaderboard[\n",
        "    'mean_per_class_error'].min()"
      ],
      "id": "5fb10db2-e54f-4e8c-90b7-a7e96195f096"
    },
    {
      "cell_type": "code",
      "execution_count": null,
      "metadata": {
        "id": "2f32726d-d253-4a46-9d1e-60dad0e4c2cb"
      },
      "outputs": [],
      "source": [
        "tmp = h2o.as_list(\n",
        "    my_model.predict(my_test))\n",
        "y_ = tmp.predict\n",
        "\n",
        "(y_ == y_test).mean()"
      ],
      "id": "2f32726d-d253-4a46-9d1e-60dad0e4c2cb"
    },
    {
      "id": "268ce179",
      "cell_type": "markdown",
      "source": [
        "# 12 時系列予測\n",
        "\n",
        "\n"
      ],
      "metadata": {
        "id": "268ce179"
      }
    },
    {
      "id": "3ed73be9",
      "cell_type": "markdown",
      "source": [
        "## 12.1 日時と日時の列"
      ],
      "metadata": {
        "id": "3ed73be9"
      }
    },
    {
      "cell_type": "code",
      "execution_count": null,
      "metadata": {
        "id": "d1eb26a2-2d53-48f9-bcdd-0f6037a7b273"
      },
      "outputs": [],
      "source": [
        "import pandas as pd\n",
        "pd.to_datetime('2020-01-01')"
      ],
      "id": "d1eb26a2-2d53-48f9-bcdd-0f6037a7b273"
    },
    {
      "cell_type": "code",
      "execution_count": null,
      "metadata": {
        "id": "75fb9c55-372e-43f1-b8a4-87fc3542992c"
      },
      "outputs": [],
      "source": [
        "pd.date_range(start='2021-01-01', end='2023-01-01', freq='1A')\n",
        "\n",
        "pd.date_range(start='2021-01-01', end='2023-01-01', freq='1AS')\n",
        "\n",
        "pd.date_range(start='2021-01-01', end='2021-03-01', freq='2M')\n",
        "\n",
        "pd.date_range(start='2021-01-01', end='2021-03-01', freq='2MS')\n",
        "\n",
        "pd.date_range(start='2021-01-01', end='2021-01-03', freq='1D')\n",
        "\n",
        "pd.date_range(start='2021-01-01 00:00:00', end='2021-01-01 03:00:00', freq='2H')"
      ],
      "id": "75fb9c55-372e-43f1-b8a4-87fc3542992c"
    },
    {
      "id": "8050608b",
      "cell_type": "markdown",
      "source": [
        "## 12.2 時系列データの予測"
      ],
      "metadata": {
        "id": "8050608b"
      }
    },
    {
      "cell_type": "code",
      "execution_count": null,
      "metadata": {
        "id": "4e873343-4af2-4979-bbec-61b5a3da1e84"
      },
      "outputs": [],
      "source": [
        "import matplotlib.pyplot as plt\n",
        "import pandas as pd\n",
        "from pmdarima.datasets import airpassengers\n",
        "from sklearn.metrics import mean_squared_error\n",
        "\n",
        "my_data = airpassengers.load_airpassengers()"
      ],
      "id": "4e873343-4af2-4979-bbec-61b5a3da1e84"
    },
    {
      "cell_type": "code",
      "execution_count": null,
      "metadata": {
        "id": "844a52d7-df16-4911-949b-caca29396263"
      },
      "outputs": [],
      "source": [
        "n = len(my_data) # データ数（144）\n",
        "k = 108          # 訓練データ数"
      ],
      "id": "844a52d7-df16-4911-949b-caca29396263"
    },
    {
      "cell_type": "code",
      "execution_count": null,
      "metadata": {
        "id": "476299b6-824a-4a98-8ce7-570d956be429"
      },
      "outputs": [],
      "source": [
        "my_ds = pd.date_range(\n",
        "    start='1949/01/01',\n",
        "    end='1960/12/01',\n",
        "    freq='MS')\n",
        "my_df = pd.DataFrame({\n",
        "    'ds': my_ds,\n",
        "    'x': range(n),\n",
        "    'y': my_data},\n",
        "    index=my_ds)\n",
        "my_df.head()"
      ],
      "id": "476299b6-824a-4a98-8ce7-570d956be429"
    },
    {
      "cell_type": "code",
      "execution_count": null,
      "metadata": {
        "id": "e1825ae9-1ed3-4118-a949-399456dfab71"
      },
      "outputs": [],
      "source": [
        "my_train = my_df[        :k]\n",
        "my_test  = my_df[-(n - k): ]\n",
        "y = my_test.y"
      ],
      "id": "e1825ae9-1ed3-4118-a949-399456dfab71"
    },
    {
      "cell_type": "code",
      "execution_count": null,
      "metadata": {
        "id": "bdad8633-95c6-4e59-adc0-7456ebe17eb3"
      },
      "outputs": [],
      "source": [
        "plt.plot(my_train.y, label='train')\n",
        "plt.plot(my_test.y,  label='test')\n",
        "plt.legend()"
      ],
      "id": "bdad8633-95c6-4e59-adc0-7456ebe17eb3"
    },
    {
      "cell_type": "code",
      "execution_count": null,
      "metadata": {
        "id": "9139e26b-1c4d-4495-be18-1584aae04ba0"
      },
      "outputs": [],
      "source": [
        "from sklearn.linear_model import LinearRegression\n",
        "\n",
        "my_lm_model = LinearRegression()\n",
        "my_lm_model.fit(my_train[['x']], my_train.y)\n",
        "\n",
        "X = my_test[['x']]\n",
        "y_ = my_lm_model.predict(X)\n",
        "mean_squared_error(y, y_)**0.5 # RMSE（テスト）"
      ],
      "id": "9139e26b-1c4d-4495-be18-1584aae04ba0"
    },
    {
      "cell_type": "code",
      "execution_count": null,
      "metadata": {
        "id": "0fa09bd6-9047-42fe-b173-fcfb35a06b96"
      },
      "outputs": [],
      "source": [
        "y_ = my_lm_model.predict(my_df[['x']])\n",
        "tmp = pd.DataFrame(y_,\n",
        "                   index=my_df.index)\n",
        "plt.plot(my_train.y, label='train')\n",
        "plt.plot(my_test.y,  label='test')\n",
        "plt.plot(tmp, label='model')\n",
        "plt.legend()"
      ],
      "id": "0fa09bd6-9047-42fe-b173-fcfb35a06b96"
    },
    {
      "cell_type": "code",
      "execution_count": null,
      "metadata": {
        "id": "ca0f8ad5-2d7c-4fe1-9ccb-2882d7e33ea8"
      },
      "outputs": [],
      "source": [
        "import pmdarima as pm\n",
        "my_arima_model = pm.auto_arima(my_train.y, m=12, trace=True)"
      ],
      "id": "ca0f8ad5-2d7c-4fe1-9ccb-2882d7e33ea8"
    },
    {
      "cell_type": "code",
      "execution_count": null,
      "metadata": {
        "id": "efb148d1-6459-4908-bb9e-7c904f9f10d2"
      },
      "outputs": [],
      "source": [
        "y_, my_ci = my_arima_model.predict(len(my_test),         # 期間はテストデータと同じ．\n",
        "                                   alpha=0.05,           # 有意水準（デフォルト）\n",
        "                                   return_conf_int=True) # 信頼区間を求める．\n",
        "tmp = pd.DataFrame({'y': y_,\n",
        "                    'Lo': my_ci[:, 0],\n",
        "                    'Hi': my_ci[:, 1]},\n",
        "                   index=my_test.index)\n",
        "tmp.head()"
      ],
      "id": "efb148d1-6459-4908-bb9e-7c904f9f10d2"
    },
    {
      "cell_type": "code",
      "execution_count": null,
      "metadata": {
        "id": "13b8341d-9d72-424a-b6c0-962755c222af"
      },
      "outputs": [],
      "source": [
        "mean_squared_error(y, y_)**0.5"
      ],
      "id": "13b8341d-9d72-424a-b6c0-962755c222af"
    },
    {
      "cell_type": "code",
      "execution_count": null,
      "metadata": {
        "id": "450bcf84-9b4b-466e-8e22-737fc7aab356"
      },
      "outputs": [],
      "source": [
        "plt.plot(my_train.y, label='train')\n",
        "plt.plot(my_test.y,  label='test')\n",
        "plt.plot(tmp.y,      label='model')\n",
        "plt.fill_between(tmp.index,\n",
        "                 tmp.Lo,\n",
        "                 tmp.Hi,\n",
        "                 alpha=0.25) # 不透明度\n",
        "plt.legend(loc='upper left')"
      ],
      "id": "450bcf84-9b4b-466e-8e22-737fc7aab356"
    },
    {
      "cell_type": "code",
      "execution_count": null,
      "metadata": {
        "id": "1ea615ff-2eb9-463d-ae10-355439257533"
      },
      "outputs": [],
      "source": [
        "try: from fbprophet import Prophet\n",
        "except ImportError: from prophet import Prophet\n",
        "my_prophet_model = Prophet(seasonality_mode='multiplicative')\n",
        "my_prophet_model.fit(my_train)"
      ],
      "id": "1ea615ff-2eb9-463d-ae10-355439257533"
    },
    {
      "cell_type": "code",
      "execution_count": null,
      "metadata": {
        "id": "86cf148c-0870-433d-939a-a5b299e50b1d"
      },
      "outputs": [],
      "source": [
        "tmp = my_prophet_model.predict(my_test)\n",
        "tmp[['ds', 'yhat', 'yhat_lower', 'yhat_upper']].head()"
      ],
      "id": "86cf148c-0870-433d-939a-a5b299e50b1d"
    },
    {
      "cell_type": "code",
      "execution_count": null,
      "metadata": {
        "id": "c58c6ad1-0244-4425-903c-99e1bbe51a52"
      },
      "outputs": [],
      "source": [
        "y_ = tmp.yhat\n",
        "mean_squared_error(y, y_)**0.5"
      ],
      "id": "c58c6ad1-0244-4425-903c-99e1bbe51a52"
    },
    {
      "cell_type": "code",
      "execution_count": null,
      "metadata": {
        "id": "34320f96-e8ed-40e2-8efe-861537feb239"
      },
      "outputs": [],
      "source": [
        "# my_prophet_model.plot(tmp) # 予測結果のみでよい場合\n",
        "\n",
        "fig = my_prophet_model.plot(tmp)\n",
        "fig.axes[0].plot(my_train.ds, my_train.y)\n",
        "fig.axes[0].plot(my_test.ds, my_test.y, color='red')"
      ],
      "id": "34320f96-e8ed-40e2-8efe-861537feb239"
    },
    {
      "id": "9caf7c0e",
      "cell_type": "markdown",
      "source": [
        "# 13 教師なし学習\n",
        "\n",
        "\n"
      ],
      "metadata": {
        "id": "9caf7c0e"
      }
    },
    {
      "id": "8eaa1d26",
      "cell_type": "markdown",
      "source": [
        "## 13.1 主成分分析"
      ],
      "metadata": {
        "id": "8eaa1d26"
      }
    },
    {
      "cell_type": "code",
      "execution_count": null,
      "metadata": {
        "id": "88bab087-fe46-4723-bc7b-efb6677c0645"
      },
      "outputs": [],
      "source": [
        "import numpy as np\n",
        "import pandas as pd\n",
        "from pca import pca\n",
        "from scipy.stats import zscore\n",
        "\n",
        "my_data = pd.DataFrame(\n",
        "    {'language': [  0,  20,  20,  25,  22,  17],\n",
        "     'english':  [  0,  20,  40,  20,  24,  18],\n",
        "     'math':     [100,  20,   5,  30,  17,  25],\n",
        "     'science':  [  0,  20,   5,  25,  16,  23],\n",
        "     'society':  [  0,  20,  30,   0,  21,  17]},\n",
        "    index=       ['A', 'B', 'C', 'D', 'E', 'F'])\n",
        "my_model = pca(n_components=5)\n",
        "my_result = my_model.fit_transform(my_data) # 主成分分析の実行"
      ],
      "id": "88bab087-fe46-4723-bc7b-efb6677c0645"
    },
    {
      "cell_type": "code",
      "execution_count": null,
      "metadata": {
        "id": "cb951006-668f-49af-b10f-2e1f816a33ae"
      },
      "outputs": [],
      "source": [
        "my_result['PC'] # 主成分スコア"
      ],
      "id": "cb951006-668f-49af-b10f-2e1f816a33ae"
    },
    {
      "cell_type": "code",
      "execution_count": null,
      "metadata": {
        "id": "c56f7c75-a048-4112-8bfd-454e5d941c5e"
      },
      "outputs": [],
      "source": [
        "my_model.biplot(legend=False)"
      ],
      "id": "c56f7c75-a048-4112-8bfd-454e5d941c5e"
    },
    {
      "cell_type": "code",
      "execution_count": null,
      "metadata": {
        "id": "f356ee34-39df-4bce-86ff-8236b74d0169"
      },
      "outputs": [],
      "source": [
        "my_result['loadings']"
      ],
      "id": "f356ee34-39df-4bce-86ff-8236b74d0169"
    },
    {
      "cell_type": "code",
      "execution_count": null,
      "metadata": {
        "id": "2d07f715-3708-4525-aadc-5037df278364"
      },
      "outputs": [],
      "source": [
        "my_result['explained_var']"
      ],
      "id": "2d07f715-3708-4525-aadc-5037df278364"
    },
    {
      "cell_type": "code",
      "execution_count": null,
      "metadata": {
        "id": "3bf9849d-396b-4ce3-9e4a-05dc43d66e6b"
      },
      "outputs": [],
      "source": [
        "tmp = zscore(my_data, ddof=1) # 標準化\n",
        "my_result = my_model.fit_transform(\n",
        "    tmp)\n",
        "my_result['PC'] # 主成分スコア"
      ],
      "id": "3bf9849d-396b-4ce3-9e4a-05dc43d66e6b"
    },
    {
      "cell_type": "code",
      "execution_count": null,
      "metadata": {
        "id": "de8d1eda-708f-4c06-9495-07579cd513df"
      },
      "outputs": [],
      "source": [
        "tmp = my_data - my_data.mean()\n",
        "Z  = np.matrix(tmp)                       # 標準化しない場合\n",
        "#Z = np.matrix(tmp / my_data.std(ddof=1)) # √不偏分散で標準化する場合\n",
        "#Z = np.matrix(tmp / my_data.std(ddof=0)) # pca(normalize=True)に合わせる場合\n",
        "\n",
        "n = len(my_data)\n",
        "S = np.cov(Z, rowvar=0, ddof=0)      # 分散共分散行列\n",
        "#S = Z.T @ Z / n                     # （同じ結果）\n",
        "vals, vecs = np.linalg.eig(S)        # 固有値と固有ベクトル\n",
        "idx = np.argsort(-vals)              # 固有値の大きい順の番号\n",
        "vals, vecs = vals[idx], vecs[:, idx] # 固有値の大きい順での並べ替え\n",
        "Z @ vecs                             # 主成分スコア（結果は割愛）\n",
        "vals.cumsum() / vals.sum()           # 累積寄与率"
      ],
      "id": "de8d1eda-708f-4c06-9495-07579cd513df"
    },
    {
      "cell_type": "code",
      "execution_count": null,
      "metadata": {
        "id": "af33671c-4356-489d-b670-ec76adb868a6"
      },
      "outputs": [],
      "source": [
        "U, d, V =  np.linalg.svd(Z, full_matrices=False)     # 特異値分解\n",
        "W = np.diag(d)\n",
        "\n",
        "[np.isclose(Z, U @ W @ V).all(),                     # 確認1\n",
        " np.isclose(U.T @ U, np.identity(U.shape[1])).all(), # 確認2\n",
        " np.isclose(V @ V.T, np.identity(V.shape[0])).all()] # 確認3\n",
        "\n",
        "U @ W                # 主成分スコア（結果は割愛）\n",
        "\n",
        "e = d ** 2 / n       # 分散共分散行列の固有値\n",
        "e.cumsum() / e.sum() # 累積寄与率"
      ],
      "id": "af33671c-4356-489d-b670-ec76adb868a6"
    },
    {
      "id": "f0475f40",
      "cell_type": "markdown",
      "source": [
        "## 13.2 クラスタ分析"
      ],
      "metadata": {
        "id": "f0475f40"
      }
    },
    {
      "cell_type": "code",
      "execution_count": null,
      "metadata": {
        "id": "3135cb82-916a-4803-a746-056af7e75602"
      },
      "outputs": [],
      "source": [
        "import pandas as pd\n",
        "from scipy.cluster import hierarchy\n",
        "\n",
        "my_data = pd.DataFrame(\n",
        "    {'x': [  0, -16,  10,  10],\n",
        "     'y': [  0,   0,  10, -15]},\n",
        "    index=['A', 'B', 'C', 'D'])\n",
        "\n",
        "my_result = hierarchy.linkage(\n",
        "    my_data,\n",
        "    metric='euclidean', # 省略可\n",
        "    method='complete')"
      ],
      "id": "3135cb82-916a-4803-a746-056af7e75602"
    },
    {
      "cell_type": "code",
      "execution_count": null,
      "metadata": {
        "id": "279dada5-1864-4b64-a24f-d56c5792cc87"
      },
      "outputs": [],
      "source": [
        "hierarchy.dendrogram(my_result,\n",
        "    labels=my_data.index)"
      ],
      "id": "279dada5-1864-4b64-a24f-d56c5792cc87"
    },
    {
      "cell_type": "code",
      "execution_count": null,
      "metadata": {
        "id": "5ad2c43c-c977-405f-a767-0359a04f8abb"
      },
      "outputs": [],
      "source": [
        "hierarchy.cut_tree(my_result, 3)\n",
        "\n",
        "# 補足（見やすくする）\n",
        "my_data.assign(cluster=\n",
        "  hierarchy.cut_tree(my_result, 3))"
      ],
      "id": "5ad2c43c-c977-405f-a767-0359a04f8abb"
    },
    {
      "cell_type": "code",
      "execution_count": null,
      "metadata": {
        "id": "107a21e4-1f40-4edb-af2c-bdefc1aecb97"
      },
      "outputs": [],
      "source": [
        "import pandas as pd\n",
        "import seaborn as sns\n",
        "\n",
        "my_data = pd.DataFrame(\n",
        "    {'language': [  0,  20,  20,  25,  22,  17],\n",
        "     'english':  [  0,  20,  40,  20,  24,  18],\n",
        "     'math':     [100,  20,   5,  30,  17,  25],\n",
        "     'science':  [  0,  20,   5,  25,  16,  23],\n",
        "     'society':  [  0,  20,  30,   0,  21,  17]},\n",
        "    index=       ['A', 'B', 'C', 'D', 'E', 'F'])\n",
        "\n",
        "sns.clustermap(my_data, z_score=1) # 列ごとの標準化"
      ],
      "id": "107a21e4-1f40-4edb-af2c-bdefc1aecb97"
    },
    {
      "cell_type": "code",
      "execution_count": null,
      "metadata": {
        "id": "02e96448-352d-459e-a5a3-9f3b08098441"
      },
      "outputs": [],
      "source": [
        "import pandas as pd\n",
        "from sklearn.cluster import KMeans\n",
        "\n",
        "my_data = pd.DataFrame(\n",
        "    {'x': [  0, -16,  10,  10],\n",
        "     'y': [  0,   0,  10, -15]},\n",
        "    index=['A', 'B', 'C', 'D'])\n",
        "\n",
        "my_result = KMeans(\n",
        "    n_clusters=3).fit(my_data)"
      ],
      "id": "02e96448-352d-459e-a5a3-9f3b08098441"
    },
    {
      "cell_type": "code",
      "execution_count": null,
      "metadata": {
        "id": "f1e02cd1-393f-42c5-a767-69a57b31a139"
      },
      "outputs": [],
      "source": [
        "my_result.labels_\n",
        "\n",
        "# 補足（見やすくする）\n",
        "my_data.assign(\n",
        "  cluster=my_result.labels_)"
      ],
      "id": "f1e02cd1-393f-42c5-a767-69a57b31a139"
    },
    {
      "cell_type": "code",
      "execution_count": null,
      "metadata": {
        "id": "b28157dd-acac-403d-81ef-b2f6574418a8"
      },
      "outputs": [],
      "source": [
        "import pandas as pd\n",
        "import statsmodels.api as sm\n",
        "from sklearn.cluster import KMeans\n",
        "\n",
        "iris = sm.datasets.get_rdataset('iris', 'datasets').data\n",
        "my_data = iris.iloc[:, 0:4]\n",
        "\n",
        "k = range(1, 11)\n",
        "my_df = pd.DataFrame({\n",
        "    'k': k,\n",
        "    'inertia': [KMeans(k).fit(my_data).inertia_ for k in range(1, 11)]})\n",
        "my_df.plot(x='k', style='o-', legend=False)"
      ],
      "id": "b28157dd-acac-403d-81ef-b2f6574418a8"
    },
    {
      "cell_type": "code",
      "execution_count": null,
      "metadata": {
        "id": "540dc699-dc23-4a25-a8a0-0523586cba6c"
      },
      "outputs": [],
      "source": [
        "import seaborn as sns\n",
        "import statsmodels.api as sm\n",
        "from pca import pca\n",
        "from scipy.cluster import hierarchy\n",
        "from scipy.stats import zscore\n",
        "from sklearn.cluster import KMeans\n",
        "\n",
        "iris = sm.datasets.get_rdataset('iris', 'datasets').data\n",
        "my_data = zscore(iris.iloc[:, 0:4])\n",
        "\n",
        "my_model = pca() # 主成分分析\n",
        "my_result = my_model.fit_transform(my_data)['PC']\n",
        "my_result['Species'] = list(iris.Species)\n",
        "\n",
        "# 非階層的クラスタ分析の場合\n",
        "my_result['cluster'] = KMeans(n_clusters=3).fit(my_data).labels_\n",
        "\n",
        "# 階層的クラスタ分析の場合\n",
        "#my_result['cluster'] = hierarchy.cut_tree(\n",
        "#    hierarchy.linkage(my_data, method='complete'), 3)[:,0]\n",
        "\n",
        "sns.scatterplot(x='PC1', y='PC2', data=my_result, legend=False,\n",
        "                hue='cluster',   # 色でクラスタを表現する．\n",
        "                style='Species', # 形で品種を表現する．\n",
        "                palette='bright')"
      ],
      "id": "540dc699-dc23-4a25-a8a0-0523586cba6c"
    }
  ],
  "nbformat": 4,
  "nbformat_minor": 5,
  "metadata": {
    "kernelspec": {
      "name": "python3",
      "display_name": "Python 3"
    },
    "colab": {
      "provenance": [],
      "toc_visible": true
    }
  }
}