{
 "cells": [
  {
   "cell_type": "markdown",
   "metadata": {},
   "source": [
    "## 9.5 欠損のあるデータでの学習\n",
    "\n",
    "### 9.5.1 欠損のあるデータの準備"
   ]
  },
  {
   "cell_type": "code",
   "execution_count": null,
   "metadata": {},
   "outputs": [],
   "source": [
    "library(caret)\n",
    "library(tidyverse)\n",
    "my_data <- iris\n",
    "\n",
    "n <- nrow(my_data)\n",
    "my_data$Petal.Length[0:(n - 1) %% 10 == 0] <- NA\n",
    "my_data$Petal.Width[ 0:(n - 1) %% 10 == 1] <- NA\n",
    "\n",
    "psych::describe(my_data) # nの値が135の変数に，150 - 135 = 15個の欠損がある．\n",
    "#>              vars   n mean   sd median trimmed  mad min max range ...\n",
    "#> Sepal.Length    1 150 5.84 0.83    5.8    5.81 1.04 4.3 7.9   3.6 ...\n",
    "#> Sepal.Width     2 150 3.06 0.44    3.0    3.04 0.44 2.0 4.4   2.4 ...\n",
    "#> Petal.Length    3 135 3.75 1.76    4.3    3.75 1.78 1.0 6.9   5.9 ...\n",
    "#> Petal.Width     4 135 1.20 0.77    1.3    1.18 1.04 0.1 2.5   2.4 ...\n",
    "#> Species*        5 150 2.00 0.82    2.0    2.00 1.48 1.0 3.0   2.0 ..."
   ]
  },
  {
   "cell_type": "markdown",
   "metadata": {},
   "source": [
    "### 9.5.2 方針1：欠損を埋めて学習する．"
   ]
  },
  {
   "cell_type": "code",
   "execution_count": null,
   "metadata": {},
   "outputs": [],
   "source": [
    "my_model <- train(\n",
    "  form = Species ~ ., data = my_data, method = \"rpart2\",\n",
    "  na.action = na.pass,         # 欠損があっても学習を止めない．\n",
    "  preProcess = \"medianImpute\", # 欠損を中央値で埋める．\n",
    "  trControl = trainControl(method = \"LOOCV\"),\n",
    "  tuneGrid = data.frame(maxdepth = 20),          # 木の高さの上限\n",
    "  control = rpart::rpart.control(minsplit = 2,   # 分岐の条件\n",
    "                                 minbucket = 1)) # 終端ノードの条件\n",
    "max(my_model$results$Accuracy)\n",
    "#> [1] 0.9266667"
   ]
  },
  {
   "cell_type": "markdown",
   "metadata": {},
   "source": [
    "### 9.5.3 方針2：欠損があっても使える手法で学習する．"
   ]
  },
  {
   "cell_type": "code",
   "execution_count": null,
   "metadata": {},
   "outputs": [],
   "source": [
    "my_model <- train(form = Species ~ ., data = my_data, method = \"xgbTree\",\n",
    "                  na.action = na.pass,\n",
    "                  trControl = trainControl(method = \"cv\", number = 5))\n",
    "max(my_model$results$Accuracy)\n",
    "#> [1] 0.966666666666667"
   ]
  }
 ],
 "nbformat": 4,
 "nbformat_minor": 5,
 "metadata": {
  "kernelspec": {
   "name": "ir",
   "display_name": "R"
  }
 }
}
