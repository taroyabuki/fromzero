{
 "cells": [
  {
   "cell_type": "markdown",
   "metadata": {},
   "source": [
    "## 4.2 データの可視化"
   ]
  },
  {
   "cell_type": "code",
   "execution_count": null,
   "metadata": {},
   "outputs": [],
   "source": [
    "import numpy as np\n",
    "import pandas as pd\n",
    "import statsmodels.api as sm\n",
    "iris = sm.datasets.get_rdataset('iris', 'datasets').data\n",
    "iris.head()\n",
    "#>    Sepal.Length  Sepal.Width  Petal.Length  Petal.Width Species\n",
    "#> 0           5.1          3.5           1.4          0.2  setosa\n",
    "#> 1           4.9          3.0           1.4          0.2  setosa\n",
    "#> 2           4.7          3.2           1.3          0.2  setosa\n",
    "#> 3           4.6          3.1           1.5          0.2  setosa\n",
    "#> 4           5.0          3.6           1.4          0.2  setosa"
   ]
  },
  {
   "cell_type": "markdown",
   "metadata": {},
   "source": [
    "### 4.2.1 ヒストグラム"
   ]
  },
  {
   "cell_type": "code",
   "execution_count": null,
   "metadata": {},
   "outputs": [],
   "source": [
    "iris.hist('Sepal.Length')"
   ]
  },
  {
   "cell_type": "code",
   "execution_count": null,
   "metadata": {},
   "outputs": [],
   "source": [
    "my_df = pd.DataFrame(\n",
    "    {'x': [10, 20, 30]})\n",
    "my_df.hist('x', bins=2) # 階級数は2"
   ]
  },
  {
   "cell_type": "code",
   "execution_count": null,
   "metadata": {},
   "outputs": [],
   "source": [
    "x = iris['Sepal.Length']\n",
    "tmp = np.linspace(min(x), max(x), 10)\n",
    "iris.hist('Sepal.Length',\n",
    "          bins=tmp.round(2))"
   ]
  },
  {
   "cell_type": "markdown",
   "metadata": {},
   "source": [
    "### 4.2.2 散布図"
   ]
  },
  {
   "cell_type": "code",
   "execution_count": null,
   "metadata": {},
   "outputs": [],
   "source": [
    "iris.plot('Sepal.Length',\n",
    "          'Sepal.Width',\n",
    "          kind='scatter')"
   ]
  },
  {
   "cell_type": "markdown",
   "metadata": {},
   "source": [
    "### 4.2.3 箱ひげ図"
   ]
  },
  {
   "cell_type": "code",
   "execution_count": null,
   "metadata": {},
   "outputs": [],
   "source": [
    "iris.boxplot()"
   ]
  },
  {
   "cell_type": "markdown",
   "metadata": {},
   "source": [
    "### 4.2.4 棒グラフとエラーバー"
   ]
  },
  {
   "cell_type": "code",
   "execution_count": null,
   "metadata": {},
   "outputs": [],
   "source": [
    "pd.options.display.float_format = (\n",
    "    '{:.2f}'.format)\n",
    "my_df = (iris.describe().transpose()\n",
    "    [['mean', 'std']])\n",
    "my_df['se'] = (my_df['std'] /\n",
    "               len(iris)**0.5)\n",
    "my_df\n",
    "#>               mean  std   se\n",
    "#> Sepal.Length  5.84 0.83 0.07\n",
    "#> Sepal.Width   3.06 0.44 0.04\n",
    "#> Petal.Length  3.76 1.77 0.14\n",
    "#> Petal.Width   1.20 0.76 0.06"
   ]
  },
  {
   "cell_type": "code",
   "execution_count": null,
   "metadata": {},
   "outputs": [],
   "source": [
    "my_df.plot(y='mean', kind='bar', yerr='se', capsize=10)"
   ]
  },
  {
   "cell_type": "code",
   "execution_count": null,
   "metadata": {},
   "outputs": [],
   "source": [
    "my_group = iris.groupby('Species')                    # 品種ごとに，\n",
    "my_df = my_group.agg('mean')                          # 各変数の，平均と\n",
    "my_se = my_group.agg(lambda x: x.std() / len(x)**0.5) # 標準誤差を求める．\n",
    "my_se\n",
    "#>             Sepal.Length  Sepal.Width  Petal.Length  Petal.Width\n",
    "#> Species\n",
    "#> setosa              0.05         0.05          0.02         0.01\n",
    "#> versicolor          0.07         0.04          0.07         0.03\n",
    "#> virginica           0.09         0.05          0.08         0.04"
   ]
  },
  {
   "cell_type": "code",
   "execution_count": null,
   "metadata": {},
   "outputs": [],
   "source": [
    "my_group.agg('mean').plot(kind='bar', yerr=my_se, capsize=5)"
   ]
  },
  {
   "cell_type": "markdown",
   "metadata": {},
   "source": [
    "### 4.2.5 モザイクプロット"
   ]
  },
  {
   "cell_type": "code",
   "execution_count": null,
   "metadata": {},
   "outputs": [],
   "source": [
    "from statsmodels.graphics.mosaicplot \\\n",
    "    import mosaic\n",
    "\n",
    "my_df = pd.DataFrame({\n",
    "    'Species': iris.Species,\n",
    "    'w_Sepal': iris['Sepal.Width'] > 3})\n",
    "\n",
    "my_table = pd.crosstab( # 分割表\n",
    "    my_df['Species'],\n",
    "    my_df['w_Sepal'])\n",
    "my_table\n",
    "#> w_Sepal     False  True\n",
    "#> Species\n",
    "#> setosa          8     42\n",
    "#> versicolor     42      8\n",
    "#> virginica      33     17\n",
    "\n",
    "mosaic(my_df,\n",
    "       index=['Species', 'w_Sepal'])"
   ]
  },
  {
   "cell_type": "code",
   "execution_count": null,
   "metadata": {},
   "outputs": [],
   "source": [
    "my_table.columns = [str(x) for x in my_table.columns]\n",
    "my_table.index   = [str(x) for x in my_table.index]\n",
    "mosaic(my_df, index=['Species', 'w_Sepal'], labelizer=lambda k: my_table.loc[k])"
   ]
  },
  {
   "cell_type": "markdown",
   "metadata": {},
   "source": [
    "### 4.2.6 関数のグラフ"
   ]
  },
  {
   "cell_type": "code",
   "execution_count": null,
   "metadata": {},
   "outputs": [],
   "source": [
    "import matplotlib.pyplot as plt\n",
    "import numpy as np\n",
    "\n",
    "x = np.linspace(-2, 2, 100)\n",
    "y = x**3 - x\n",
    "plt.plot(x, y)"
   ]
  },
  {
   "cell_type": "markdown",
   "metadata": {},
   "source": [
    "### 4.2.7 ggplot2 (R)"
   ]
  }
 ],
 "nbformat": 4,
 "nbformat_minor": 5,
 "metadata": {
  "kernelspec": {
   "name": "python3",
   "display_name": "Python 3"
  }
 }
}
