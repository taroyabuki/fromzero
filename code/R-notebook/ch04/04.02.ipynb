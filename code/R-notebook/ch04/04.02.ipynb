{
 "cells": [
  {
   "cell_type": "markdown",
   "metadata": {},
   "source": [
    "## 4.2 データの可視化"
   ]
  },
  {
   "cell_type": "code",
   "execution_count": null,
   "metadata": {},
   "outputs": [],
   "source": [
    "head(iris)\n",
    "#>   Sepal.Length Sepal.Width Petal.Length Petal.Width Species\n",
    "#> 1          5.1         3.5          1.4         0.2  setosa\n",
    "#> 2          4.9         3.0          1.4         0.2  setosa\n",
    "#> 3          4.7         3.2          1.3         0.2  setosa\n",
    "#> 4          4.6         3.1          1.5         0.2  setosa\n",
    "#> 5          5.0         3.6          1.4         0.2  setosa\n",
    "#> 6          5.4         3.9          1.7         0.4  setosa"
   ]
  },
  {
   "cell_type": "markdown",
   "metadata": {},
   "source": [
    "### 4.2.1 ヒストグラム"
   ]
  },
  {
   "cell_type": "code",
   "execution_count": null,
   "metadata": {},
   "outputs": [],
   "source": [
    "hist(iris$Sepal.Length)"
   ]
  },
  {
   "cell_type": "code",
   "execution_count": null,
   "metadata": {},
   "outputs": [],
   "source": [
    "x <- c(10, 20, 30)\n",
    "hist(x, breaks = 2) # 階級数は2"
   ]
  },
  {
   "cell_type": "code",
   "execution_count": null,
   "metadata": {},
   "outputs": [],
   "source": [
    "x <- iris$Sepal.Length\n",
    "tmp <- seq(min(x), max(x),\n",
    "           length.out = 10)\n",
    "hist(x, breaks = tmp, right = FALSE)"
   ]
  },
  {
   "cell_type": "markdown",
   "metadata": {},
   "source": [
    "### 4.2.2 散布図"
   ]
  },
  {
   "cell_type": "code",
   "execution_count": null,
   "metadata": {},
   "outputs": [],
   "source": [
    "plot(iris$Sepal.Length,\n",
    "     iris$Sepal.Width)"
   ]
  },
  {
   "cell_type": "markdown",
   "metadata": {},
   "source": [
    "### 4.2.3 箱ひげ図"
   ]
  },
  {
   "cell_type": "code",
   "execution_count": null,
   "metadata": {},
   "outputs": [],
   "source": [
    "boxplot(iris[, -5])"
   ]
  },
  {
   "cell_type": "markdown",
   "metadata": {},
   "source": [
    "### 4.2.4 棒グラフとエラーバー"
   ]
  },
  {
   "cell_type": "code",
   "execution_count": null,
   "metadata": {},
   "outputs": [],
   "source": [
    "library(tidyverse)\n",
    "my_df <- psych::describe(iris[, -5])\n",
    "my_df %>% select(mean, sd, se)\n",
    "#>              mean   sd   se\n",
    "#> Sepal.Length 5.84 0.83 0.07\n",
    "#> Sepal.Width  3.06 0.44 0.04\n",
    "#> Petal.Length 3.76 1.77 0.14\n",
    "#> Petal.Width  1.20 0.76 0.06"
   ]
  },
  {
   "cell_type": "code",
   "execution_count": null,
   "metadata": {},
   "outputs": [],
   "source": [
    "tmp <- rownames(my_df)\n",
    "my_df %>% ggplot(aes(x = factor(tmp, levels = tmp), y = mean)) +\n",
    "  geom_col() +\n",
    "  geom_errorbar(aes(ymin = mean - se, ymax = mean + se)) +\n",
    "  xlab(NULL)"
   ]
  },
  {
   "cell_type": "code",
   "execution_count": null,
   "metadata": {},
   "outputs": [],
   "source": [
    "my_group <- iris %>% group_by(Species)       # 品種ごとに，\n",
    "\n",
    "my_df <- my_group %>%                        # 各変数の，平均と\n",
    "  summarize(across(everything(), mean)) %>%\n",
    "  pivot_longer(-Species)\n",
    "\n",
    "tmp <- my_group %>%                          # 標準誤差を求める．\n",
    "  summarize(across(everything(), ~ sd(.) / length(.)**0.5)) %>%\n",
    "  pivot_longer(-Species)\n",
    "\n",
    "my_df$se <- tmp$value\n",
    "head(my_df)\n",
    "#> # A tibble: 6 x 4\n",
    "#>   Species    name         value     se\n",
    "#>   <fct>      <chr>        <dbl>  <dbl>\n",
    "#> 1 setosa     Sepal.Length 5.01  0.0498\n",
    "#> 2 setosa     Sepal.Width  3.43  0.0536\n",
    "#> 3 setosa     Petal.Length 1.46  0.0246\n",
    "#> 4 setosa     Petal.Width  0.246 0.0149\n",
    "#> 5 versicolor Sepal.Length 5.94  0.0730\n",
    "#> 6 versicolor Sepal.Width  2.77  0.0444"
   ]
  },
  {
   "cell_type": "code",
   "execution_count": null,
   "metadata": {},
   "outputs": [],
   "source": [
    "my_df %>%\n",
    "  ggplot(aes(x = Species, y = value, fill = name)) +\n",
    "  geom_col(position = \"dodge\") +\n",
    "  geom_errorbar(aes(ymin = value - se, ymax = value + se), position = \"dodge\")"
   ]
  },
  {
   "cell_type": "code",
   "execution_count": null,
   "metadata": {},
   "outputs": [],
   "source": [
    "# 各変数の平均\n",
    "iris %>% pivot_longer(-Species) %>%\n",
    "  ggplot(aes(x = name, y = value)) +\n",
    "  geom_bar(stat = \"summary\", fun = mean) +\n",
    "  stat_summary(geom = \"errorbar\", fun.data = mean_se) +\n",
    "  xlab(NULL)\n",
    "\n",
    "# 各変数の平均（品種ごと）\n",
    "iris %>% pivot_longer(-Species) %>%\n",
    "  ggplot(aes(x = Species, y = value, fill = name)) +\n",
    "  geom_bar(stat = \"summary\", fun = mean, position = \"dodge\") +\n",
    "  stat_summary(geom = \"errorbar\", fun.data = mean_se, position = \"dodge\")"
   ]
  },
  {
   "cell_type": "markdown",
   "metadata": {},
   "source": [
    "### 4.2.5 モザイクプロット"
   ]
  },
  {
   "cell_type": "code",
   "execution_count": null,
   "metadata": {},
   "outputs": [],
   "source": [
    "my_df <- data.frame(\n",
    "  Species = iris$Species,\n",
    "  w_Sepal = iris$Sepal.Width > 3)\n",
    "table(my_df) # 分割表\n",
    "#>             w_Sepal\n",
    "#> Species      FALSE TRUE\n",
    "#>   setosa         8   42\n",
    "#>   versicolor    42    8\n",
    "#>   virginica     33   17\n",
    "\n",
    "mosaicplot(\n",
    "  formula = ~ Species + w_Sepal,\n",
    "  data = my_df)"
   ]
  },
  {
   "cell_type": "code",
   "execution_count": null,
   "metadata": {},
   "outputs": [],
   "source": [
    "library(vcd)\n",
    "vcd::mosaic(formula = ~w_Sepal + Species, data = my_df,\n",
    "            labeling = labeling_values)"
   ]
  },
  {
   "cell_type": "markdown",
   "metadata": {},
   "source": [
    "### 4.2.6 関数のグラフ"
   ]
  },
  {
   "cell_type": "code",
   "execution_count": null,
   "metadata": {},
   "outputs": [],
   "source": [
    "curve(x^3 - x, -2, 2)"
   ]
  },
  {
   "cell_type": "markdown",
   "metadata": {},
   "source": [
    "### 4.2.7 ggplot2 (R)"
   ]
  },
  {
   "cell_type": "code",
   "execution_count": null,
   "metadata": {},
   "outputs": [],
   "source": [
    "x <- iris$Sepal.Length\n",
    "tmp <- seq(min(x), max(x),\n",
    "           length.out = 10)\n",
    "iris %>%\n",
    "  ggplot(aes(x = Sepal.Length)) +\n",
    "  geom_histogram(breaks = tmp,\n",
    "                 closed = \"left\")"
   ]
  },
  {
   "cell_type": "code",
   "execution_count": null,
   "metadata": {},
   "outputs": [],
   "source": [
    "iris %>%\n",
    "  ggplot(aes(x = Sepal.Length,\n",
    "             y = Sepal.Width)) +\n",
    "  geom_point()"
   ]
  },
  {
   "cell_type": "code",
   "execution_count": null,
   "metadata": {},
   "outputs": [],
   "source": [
    "iris %>%\n",
    "  pivot_longer(-Species) %>%\n",
    "  ggplot(aes(\n",
    "    x = factor(name,\n",
    "               levels = names(iris)),\n",
    "    y = value)) +\n",
    "  geom_boxplot() +\n",
    "  xlab(NULL)"
   ]
  },
  {
   "cell_type": "code",
   "execution_count": null,
   "metadata": {},
   "outputs": [],
   "source": [
    "library(ggmosaic)\n",
    "my_df <- data.frame(\n",
    "  Species = iris$Species,\n",
    "  w_Sepal = iris$Sepal.Width > 3)\n",
    "my_df %>%\n",
    "  ggplot() +\n",
    "  geom_mosaic(\n",
    "    aes(x = product(w_Sepal, Species)))"
   ]
  },
  {
   "cell_type": "code",
   "execution_count": null,
   "metadata": {},
   "outputs": [],
   "source": [
    "f <- function(x) { x^3 - x }\n",
    "data.frame(x = c(-2, 2)) %>%\n",
    "  ggplot(aes(x = x)) +\n",
    "  stat_function(fun = f)"
   ]
  }
 ],
 "nbformat": 4,
 "nbformat_minor": 5,
 "metadata": {
  "kernelspec": {
   "name": "ir",
   "display_name": "R"
  }
 }
}
