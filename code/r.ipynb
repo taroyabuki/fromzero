{
  "cells": [
    {
      "id": "d060ff37",
      "cell_type": "markdown",
      "source": [
        "[辻真吾・矢吹太朗『ゼロからはじめるデータサイエンス入門』（講談社, 2021）](https://github.com/taroyabuki/fromzero)"
      ],
      "metadata": {
        "id": "d060ff37"
      }
    },
    {
      "cell_type": "code",
      "execution_count": null,
      "metadata": {
        "id": "629dde29-db65-4ae4-abdc-c1201f9dabfa"
      },
      "outputs": [],
      "source": [
        "# これはRのコードの例です．\n",
        "1 + 1"
      ],
      "id": "629dde29-db65-4ae4-abdc-c1201f9dabfa"
    },
    {
      "id": "b1befe1c",
      "cell_type": "markdown",
      "source": [
        "# 1 コンピュータとネットワーク\n",
        "\n",
        "\n"
      ],
      "metadata": {
        "id": "b1befe1c"
      }
    },
    {
      "id": "8e74564f",
      "cell_type": "markdown",
      "source": [
        "## 1.1 コンピュータの基本操作\n",
        "\n",
        "\n"
      ],
      "metadata": {
        "id": "8e74564f"
      }
    },
    {
      "id": "19563b2a",
      "cell_type": "markdown",
      "source": [
        "## 1.2 ネットワークの仕組み\n",
        "\n",
        "\n"
      ],
      "metadata": {
        "id": "19563b2a"
      }
    },
    {
      "id": "97614aed",
      "cell_type": "markdown",
      "source": [
        "# 2 データサイエンスのための環境\n",
        "\n",
        "\n"
      ],
      "metadata": {
        "id": "97614aed"
      }
    },
    {
      "id": "4fa9785d",
      "cell_type": "markdown",
      "source": [
        "## 2.1 実行環境の選択\n",
        "\n",
        "\n"
      ],
      "metadata": {
        "id": "4fa9785d"
      }
    },
    {
      "id": "d7bfe4c2",
      "cell_type": "markdown",
      "source": [
        "## 2.2 クラウド\n",
        "\n",
        "\n"
      ],
      "metadata": {
        "id": "d7bfe4c2"
      }
    },
    {
      "id": "30d773b4",
      "cell_type": "markdown",
      "source": [
        "## 2.3 Docker\n",
        "\n",
        "\n"
      ],
      "metadata": {
        "id": "30d773b4"
      }
    },
    {
      "id": "2fb621cf",
      "cell_type": "markdown",
      "source": [
        "## 2.4 ターミナルの使い方\n",
        "\n",
        "\n"
      ],
      "metadata": {
        "id": "2fb621cf"
      }
    },
    {
      "id": "faa2f46c",
      "cell_type": "markdown",
      "source": [
        "## 2.5 RとPython\n",
        "\n",
        "\n"
      ],
      "metadata": {
        "id": "faa2f46c"
      }
    },
    {
      "id": "fcc98814",
      "cell_type": "markdown",
      "source": [
        "## 2.6 サンプルコードの利用"
      ],
      "metadata": {
        "id": "fcc98814"
      }
    },
    {
      "cell_type": "code",
      "execution_count": null,
      "metadata": {
        "id": "162e4ad7-6b1f-431c-9abb-1234f68b7368"
      },
      "outputs": [],
      "source": [
        "1 + 1\n",
        "\n",
        "print(1 + 2)\n",
        "\n",
        "1 + 3"
      ],
      "id": "162e4ad7-6b1f-431c-9abb-1234f68b7368"
    },
    {
      "id": "39ce6a99",
      "cell_type": "markdown",
      "source": [
        "# 3 RとPython"
      ],
      "metadata": {
        "id": "39ce6a99"
      }
    },
    {
      "cell_type": "code",
      "execution_count": null,
      "metadata": {
        "id": "a8d5454c-a2b9-417f-8402-f299adb4aaa6"
      },
      "outputs": [],
      "source": [
        "# Google Colaboratoryの環境設定\n",
        "if (file.exists(\"/content\")) {\n",
        "  options(Ncpus = parallel::detectCores())\n",
        "  installed_packages <- rownames(installed.packages())\n",
        "  packages_to_install <- c(\"furrr\", \"keras\", \"proxy\")\n",
        "  install.packages(setdiff(packages_to_install, installed_packages))\n",
        "}"
      ],
      "id": "a8d5454c-a2b9-417f-8402-f299adb4aaa6"
    },
    {
      "id": "c9f34664",
      "cell_type": "markdown",
      "source": [
        "## 3.1 入門"
      ],
      "metadata": {
        "id": "c9f34664"
      }
    },
    {
      "cell_type": "code",
      "execution_count": null,
      "metadata": {
        "id": "117519a1-aa23-4fd3-a0a4-2ff1a200d225"
      },
      "outputs": [],
      "source": [
        "0x10"
      ],
      "id": "117519a1-aa23-4fd3-a0a4-2ff1a200d225"
    },
    {
      "cell_type": "code",
      "execution_count": null,
      "metadata": {
        "id": "bf838440-db82-4a5b-9a95-27a45d543376"
      },
      "outputs": [],
      "source": [
        "1.23e5"
      ],
      "id": "bf838440-db82-4a5b-9a95-27a45d543376"
    },
    {
      "cell_type": "code",
      "execution_count": null,
      "metadata": {
        "id": "470062aa-263b-466f-acc2-7e3b04a13e94"
      },
      "outputs": [],
      "source": [
        "2 * 3"
      ],
      "id": "470062aa-263b-466f-acc2-7e3b04a13e94"
    },
    {
      "cell_type": "code",
      "execution_count": null,
      "metadata": {
        "id": "b8df17ec-d7e0-406f-81a1-2f4e55e7d6e0"
      },
      "outputs": [],
      "source": [
        "10 / 3"
      ],
      "id": "b8df17ec-d7e0-406f-81a1-2f4e55e7d6e0"
    },
    {
      "cell_type": "code",
      "execution_count": null,
      "metadata": {
        "id": "570a4972-5306-426b-8251-23158389aa65"
      },
      "outputs": [],
      "source": [
        "10 %/% 3 # 商\n",
        "\n",
        "10 %% 3  # 余り"
      ],
      "id": "570a4972-5306-426b-8251-23158389aa65"
    },
    {
      "cell_type": "code",
      "execution_count": null,
      "metadata": {
        "id": "94ba9dc5-6eb7-4bcb-acfb-95ac81e69380"
      },
      "outputs": [],
      "source": [
        "x <- 2\n",
        "y <- 3\n",
        "x * y\n",
        "\n",
        "keras::`%<-%`(c(x, y), c(20, 30)) # まとめて名付け\n",
        "x * y"
      ],
      "id": "94ba9dc5-6eb7-4bcb-acfb-95ac81e69380"
    },
    {
      "cell_type": "code",
      "execution_count": null,
      "metadata": {
        "id": "577053a7-a4a7-44a6-89da-042371e80ddd"
      },
      "outputs": [],
      "source": [
        "x <- 1 + 1\n",
        "# この段階では結果は表示されない\n",
        "\n",
        "x # 変数名を評価する．"
      ],
      "id": "577053a7-a4a7-44a6-89da-042371e80ddd"
    },
    {
      "cell_type": "code",
      "execution_count": null,
      "metadata": {
        "id": "bbe7180c-1bc2-43ca-84cc-c8281ee025bf"
      },
      "outputs": [],
      "source": [
        "my_s <- \"abcde\""
      ],
      "id": "bbe7180c-1bc2-43ca-84cc-c8281ee025bf"
    },
    {
      "cell_type": "code",
      "execution_count": null,
      "metadata": {
        "id": "2164cbf2-6c51-462c-8e45-d08086899bdc"
      },
      "outputs": [],
      "source": [
        "nchar(my_s)"
      ],
      "id": "2164cbf2-6c51-462c-8e45-d08086899bdc"
    },
    {
      "cell_type": "code",
      "execution_count": null,
      "metadata": {
        "id": "2623d082-8616-4237-bc1e-c23e9fa284d9"
      },
      "outputs": [],
      "source": [
        "library(tidyverse)\n",
        "str_c(\"This is \", \"a\", \" pen.\")"
      ],
      "id": "2623d082-8616-4237-bc1e-c23e9fa284d9"
    },
    {
      "cell_type": "code",
      "execution_count": null,
      "metadata": {
        "id": "be94c127-b74c-4050-a207-3163a2662977"
      },
      "outputs": [],
      "source": [
        "substr(x = my_s, start = 2, stop = 4)"
      ],
      "id": "be94c127-b74c-4050-a207-3163a2662977"
    },
    {
      "cell_type": "code",
      "execution_count": null,
      "metadata": {
        "id": "38a9e788-fc72-4c88-80c5-e363ed2416f7"
      },
      "outputs": [],
      "source": [
        "tmp <- \"%s is %s.\"\n",
        "sprintf(tmp, \"This\", \"a pen\")"
      ],
      "id": "38a9e788-fc72-4c88-80c5-e363ed2416f7"
    },
    {
      "cell_type": "code",
      "execution_count": null,
      "metadata": {
        "id": "a5e27c56-2abd-4e0f-b46e-8d08b73d579d"
      },
      "outputs": [],
      "source": [
        "1 <= 2\n",
        "\n",
        "1 < 0"
      ],
      "id": "a5e27c56-2abd-4e0f-b46e-8d08b73d579d"
    },
    {
      "cell_type": "code",
      "execution_count": null,
      "metadata": {
        "id": "267875a7-ccd2-4c74-937b-dc9893818bc9"
      },
      "outputs": [],
      "source": [
        "0.1 + 0.1 + 0.1 == 0.3\n",
        "\n",
        "all.equal(0.1 + 0.1 + 0.1, 0.3)"
      ],
      "id": "267875a7-ccd2-4c74-937b-dc9893818bc9"
    },
    {
      "cell_type": "code",
      "execution_count": null,
      "metadata": {
        "id": "e9dc7474-bb09-4058-9a0f-486eb03f8f52"
      },
      "outputs": [],
      "source": [
        "TRUE & FALSE # 論理積（かつ）\n",
        "\n",
        "TRUE | FALSE # 論理和（または）\n",
        "\n",
        "!TRUE        # 否定（でない）"
      ],
      "id": "e9dc7474-bb09-4058-9a0f-486eb03f8f52"
    },
    {
      "cell_type": "code",
      "execution_count": null,
      "metadata": {
        "id": "fa446c9d-5d45-45c1-a485-77bce7d392f1"
      },
      "outputs": [],
      "source": [
        "ifelse(3 < 5, 0, 10)"
      ],
      "id": "fa446c9d-5d45-45c1-a485-77bce7d392f1"
    },
    {
      "cell_type": "code",
      "execution_count": null,
      "metadata": {
        "id": "b03092bc-5c79-4686-ac14-e78bff5dc6df"
      },
      "outputs": [],
      "source": [
        "getwd()"
      ],
      "id": "b03092bc-5c79-4686-ac14-e78bff5dc6df"
    },
    {
      "cell_type": "code",
      "execution_count": null,
      "metadata": {
        "id": "5c3c2445-6dcc-4659-baa6-c16932c4d919"
      },
      "outputs": [],
      "source": [
        "setwd(\"..\")\n",
        "getwd()"
      ],
      "id": "5c3c2445-6dcc-4659-baa6-c16932c4d919"
    },
    {
      "id": "d1094654",
      "cell_type": "markdown",
      "source": [
        "## 3.2 関数"
      ],
      "metadata": {
        "id": "d1094654"
      }
    },
    {
      "cell_type": "code",
      "execution_count": null,
      "metadata": {
        "id": "b61b1915-0bae-4db9-ad3d-a23fe69af384"
      },
      "outputs": [],
      "source": [
        "sqrt(4)"
      ],
      "id": "b61b1915-0bae-4db9-ad3d-a23fe69af384"
    },
    {
      "cell_type": "code",
      "execution_count": null,
      "metadata": {
        "id": "990150e5-8f86-407b-bf15-5e00ce105637"
      },
      "outputs": [],
      "source": [
        "log(100, 10)"
      ],
      "id": "990150e5-8f86-407b-bf15-5e00ce105637"
    },
    {
      "cell_type": "code",
      "execution_count": null,
      "metadata": {
        "id": "392db6fa-2f6b-4698-a081-ad2e7ac5432c"
      },
      "outputs": [],
      "source": [
        "log(100)         # 自然対数\n",
        "# あるいは\n",
        "log(100, exp(1)) # 省略しない場合\n"
      ],
      "id": "392db6fa-2f6b-4698-a081-ad2e7ac5432c"
    },
    {
      "cell_type": "code",
      "execution_count": null,
      "metadata": {
        "id": "a3775d65-da21-44ad-9983-af251b7bd466"
      },
      "outputs": [],
      "source": [
        "log10(100) # 常用対数\n",
        "\n",
        "log2(1024) # 底が2の対数"
      ],
      "id": "a3775d65-da21-44ad-9983-af251b7bd466"
    },
    {
      "cell_type": "code",
      "execution_count": null,
      "metadata": {
        "id": "6d3881f2-e91b-45e8-9e84-93a12f6d7855"
      },
      "outputs": [],
      "source": [
        "library(tidyverse)\n",
        "4 %>% sqrt"
      ],
      "id": "6d3881f2-e91b-45e8-9e84-93a12f6d7855"
    },
    {
      "cell_type": "code",
      "execution_count": null,
      "metadata": {
        "id": "a5eaa8ba-3613-40d7-b081-6229987b3eb8"
      },
      "outputs": [],
      "source": [
        "exp(log(5))       # 通常の書き方\n",
        "# あるいは\n",
        "5 %>% log %>% exp # パイプを使う書き方\n"
      ],
      "id": "a5eaa8ba-3613-40d7-b081-6229987b3eb8"
    },
    {
      "cell_type": "code",
      "execution_count": null,
      "metadata": {
        "id": "35f1d967-45d9-402f-bedd-f2813b5b350a"
      },
      "outputs": [],
      "source": [
        "f <- function(a, b) {\n",
        "  a - b\n",
        "}"
      ],
      "id": "35f1d967-45d9-402f-bedd-f2813b5b350a"
    },
    {
      "cell_type": "code",
      "execution_count": null,
      "metadata": {
        "id": "14e217ac-44d7-4982-9c8c-9b128c53f11c"
      },
      "outputs": [],
      "source": [
        "f(3, 5)"
      ],
      "id": "14e217ac-44d7-4982-9c8c-9b128c53f11c"
    },
    {
      "cell_type": "code",
      "execution_count": null,
      "metadata": {
        "id": "c129cf3b-000a-4b5c-b647-a24bfceca2d9"
      },
      "outputs": [],
      "source": [
        "f <- function(a, b = 5) {\n",
        "  a - b\n",
        "}\n",
        "\n",
        "f(3) # f(3, 5)と同じこと"
      ],
      "id": "c129cf3b-000a-4b5c-b647-a24bfceca2d9"
    },
    {
      "cell_type": "code",
      "execution_count": null,
      "metadata": {
        "id": "7a5b6120-4d0a-4b28-b94b-ab3040c88153"
      },
      "outputs": [],
      "source": [
        "(function(a, b) { a - b })(3, 5)"
      ],
      "id": "7a5b6120-4d0a-4b28-b94b-ab3040c88153"
    },
    {
      "id": "41d85363",
      "cell_type": "markdown",
      "source": [
        "## 3.3 コレクション"
      ],
      "metadata": {
        "id": "41d85363"
      }
    },
    {
      "cell_type": "code",
      "execution_count": null,
      "metadata": {
        "id": "144c4021-a4aa-4b8e-ba01-da9cae0198b5"
      },
      "outputs": [],
      "source": [
        "x <- c(\"foo\", \"bar\", \"baz\")"
      ],
      "id": "144c4021-a4aa-4b8e-ba01-da9cae0198b5"
    },
    {
      "cell_type": "code",
      "execution_count": null,
      "metadata": {
        "id": "ea286cac-4cb5-4338-927d-d2317a0aeb0f"
      },
      "outputs": [],
      "source": [
        "length(x)"
      ],
      "id": "ea286cac-4cb5-4338-927d-d2317a0aeb0f"
    },
    {
      "cell_type": "code",
      "execution_count": null,
      "metadata": {
        "id": "f6c9738b-ef6f-4fda-ba65-c7a6a51a3207"
      },
      "outputs": [],
      "source": [
        "x[2]"
      ],
      "id": "f6c9738b-ef6f-4fda-ba65-c7a6a51a3207"
    },
    {
      "cell_type": "code",
      "execution_count": null,
      "metadata": {
        "id": "75082823-85b4-4361-bc81-5719dcd11895"
      },
      "outputs": [],
      "source": [
        "x[2] <- \"BAR\"\n",
        "x # 結果の確認\n",
        "\n",
        "x[2] <- \"bar\" # 元に戻す．"
      ],
      "id": "75082823-85b4-4361-bc81-5719dcd11895"
    },
    {
      "cell_type": "code",
      "execution_count": null,
      "metadata": {
        "id": "3ea2a33c-5fe6-4370-a93a-c4aa5f3a6154"
      },
      "outputs": [],
      "source": [
        "x[-2]"
      ],
      "id": "3ea2a33c-5fe6-4370-a93a-c4aa5f3a6154"
    },
    {
      "cell_type": "code",
      "execution_count": null,
      "metadata": {
        "id": "9cac3410-7ece-484c-89c1-2c8815f16a4e"
      },
      "outputs": [],
      "source": [
        "c(x, \"qux\")"
      ],
      "id": "9cac3410-7ece-484c-89c1-2c8815f16a4e"
    },
    {
      "cell_type": "code",
      "execution_count": null,
      "metadata": {
        "id": "138d5e3e-0928-48f9-b055-6f9382dd730f"
      },
      "outputs": [],
      "source": [
        "x <- c(x, \"qux\")\n",
        "x # 結果の確認"
      ],
      "id": "138d5e3e-0928-48f9-b055-6f9382dd730f"
    },
    {
      "cell_type": "code",
      "execution_count": null,
      "metadata": {
        "id": "880af4b2-a06b-4fb3-8e19-fcf45e11f7c9"
      },
      "outputs": [],
      "source": [
        "1:5"
      ],
      "id": "880af4b2-a06b-4fb3-8e19-fcf45e11f7c9"
    },
    {
      "cell_type": "code",
      "execution_count": null,
      "metadata": {
        "id": "cb3c261e-e38a-4634-a4ba-bf1d9702f475"
      },
      "outputs": [],
      "source": [
        "seq(from = 0, to = 10, by = 2)"
      ],
      "id": "cb3c261e-e38a-4634-a4ba-bf1d9702f475"
    },
    {
      "cell_type": "code",
      "execution_count": null,
      "metadata": {
        "id": "a44b4de6-59b6-46d2-b4aa-ab700e30fe98"
      },
      "outputs": [],
      "source": [
        "seq(from = 0, to = 1, by = 0.5)"
      ],
      "id": "a44b4de6-59b6-46d2-b4aa-ab700e30fe98"
    },
    {
      "cell_type": "code",
      "execution_count": null,
      "metadata": {
        "id": "fb5722e4-5bb6-46cc-8137-3820f01cfee7"
      },
      "outputs": [],
      "source": [
        "seq(from = 0, to = 100, length.out = 5)"
      ],
      "id": "fb5722e4-5bb6-46cc-8137-3820f01cfee7"
    },
    {
      "cell_type": "code",
      "execution_count": null,
      "metadata": {
        "id": "aeeb370a-2060-48e1-af84-42b824ce9dd2"
      },
      "outputs": [],
      "source": [
        "rep(x = 10, times = 5)"
      ],
      "id": "aeeb370a-2060-48e1-af84-42b824ce9dd2"
    },
    {
      "cell_type": "code",
      "execution_count": null,
      "metadata": {
        "id": "a702282f-131c-48da-b1f9-89eef85e270d"
      },
      "outputs": [],
      "source": [
        "tmp <- c(\"グー\", \"パー\", \"グー\", \"パー\")\n",
        "x <- factor(tmp, levels = c(\"グー\", \"チョキ\", \"パー\"))\n",
        "x"
      ],
      "id": "a702282f-131c-48da-b1f9-89eef85e270d"
    },
    {
      "cell_type": "code",
      "execution_count": null,
      "metadata": {
        "id": "48bf68ad-ccab-4105-bdbe-da6e02b49ee7"
      },
      "outputs": [],
      "source": [
        "x <- c(2, 3, 5, 7)\n",
        "\n",
        "x + 10 # 加算\n",
        "\n",
        "x * 10 # 乗算"
      ],
      "id": "48bf68ad-ccab-4105-bdbe-da6e02b49ee7"
    },
    {
      "cell_type": "code",
      "execution_count": null,
      "metadata": {
        "id": "7ff92b5a-3a36-4e20-9611-3b5c921810fe"
      },
      "outputs": [],
      "source": [
        "x <- c(2, 3)\n",
        "sin(x)"
      ],
      "id": "7ff92b5a-3a36-4e20-9611-3b5c921810fe"
    },
    {
      "cell_type": "code",
      "execution_count": null,
      "metadata": {
        "id": "cd3244e2-54ba-4549-ac29-8184b9ef1c5a"
      },
      "outputs": [],
      "source": [
        "x <- c(2,  3,   5,    7)\n",
        "y <- c(1, 10, 100, 1000)\n",
        "x + y\n",
        "\n",
        "x * y"
      ],
      "id": "cd3244e2-54ba-4549-ac29-8184b9ef1c5a"
    },
    {
      "cell_type": "code",
      "execution_count": null,
      "metadata": {
        "id": "1901a173-d450-4b40-9ba9-d2a5a317bb69"
      },
      "outputs": [],
      "source": [
        "sum(x * y)"
      ],
      "id": "1901a173-d450-4b40-9ba9-d2a5a317bb69"
    },
    {
      "cell_type": "code",
      "execution_count": null,
      "metadata": {
        "id": "4c179b1d-fae3-4ce0-9744-42e449e7bfc9"
      },
      "outputs": [],
      "source": [
        "x <- c(TRUE, FALSE)\n",
        "y <- c(TRUE, TRUE)\n",
        "x & y"
      ],
      "id": "4c179b1d-fae3-4ce0-9744-42e449e7bfc9"
    },
    {
      "cell_type": "code",
      "execution_count": null,
      "metadata": {
        "id": "d816cd3c-1d9e-4324-9942-2b7cd4de00ec"
      },
      "outputs": [],
      "source": [
        "u <- c(1, 2, 3)\n",
        "v <- c(1, 2, 3)\n",
        "w <- c(1, 2, 4)\n",
        "\n",
        "identical(u, v) # 全体の比較\n",
        "\n",
        "identical(u, w) # 全体の比較\n",
        "\n",
        "u == v          # 要素ごとの比較\n",
        "\n",
        "u == w          # 要素ごとの比較"
      ],
      "id": "d816cd3c-1d9e-4324-9942-2b7cd4de00ec"
    },
    {
      "cell_type": "code",
      "execution_count": null,
      "metadata": {
        "id": "edf93ea2-55c9-4da9-b0c6-35c4e6635ec1"
      },
      "outputs": [],
      "source": [
        "sum(u == w)  # 同じ要素の数\n",
        "\n",
        "mean(u == w) # 同じ要素の割合"
      ],
      "id": "edf93ea2-55c9-4da9-b0c6-35c4e6635ec1"
    },
    {
      "cell_type": "code",
      "execution_count": null,
      "metadata": {
        "id": "4df6a9cb-f96e-4bf1-a8ef-860f1b5d6e51"
      },
      "outputs": [],
      "source": [
        "x <- list(1, \"two\")"
      ],
      "id": "4df6a9cb-f96e-4bf1-a8ef-860f1b5d6e51"
    },
    {
      "cell_type": "code",
      "execution_count": null,
      "metadata": {
        "id": "df8e08fc-4a97-4032-9986-d167c37a1883"
      },
      "outputs": [],
      "source": [
        "x[[2]]"
      ],
      "id": "df8e08fc-4a97-4032-9986-d167c37a1883"
    },
    {
      "cell_type": "code",
      "execution_count": null,
      "metadata": {
        "id": "900421b9-7807-4864-9234-2a32e5a4f237"
      },
      "outputs": [],
      "source": [
        "x <- list(\"apple\"  = \"りんご\",\n",
        "          \"orange\" = \"みかん\")"
      ],
      "id": "900421b9-7807-4864-9234-2a32e5a4f237"
    },
    {
      "cell_type": "code",
      "execution_count": null,
      "metadata": {
        "id": "54e1ccd0-b202-403b-b5ba-868359388e93"
      },
      "outputs": [],
      "source": [
        "x[[\"grape\"]] <- \"ぶどう\""
      ],
      "id": "54e1ccd0-b202-403b-b5ba-868359388e93"
    },
    {
      "cell_type": "code",
      "execution_count": null,
      "metadata": {
        "id": "e584fff9-ac35-4c7f-b990-e8e22964a667"
      },
      "outputs": [],
      "source": [
        "x$apple\n",
        "# あるいは\n",
        "x$\"apple\"\n",
        "# あるいは\n",
        "x[[\"apple\"]]\n",
        "# あるいは\n",
        "tmp <- \"apple\"\n",
        "x[[tmp]]\n"
      ],
      "id": "e584fff9-ac35-4c7f-b990-e8e22964a667"
    },
    {
      "cell_type": "code",
      "execution_count": null,
      "metadata": {
        "id": "7089a28d-3b3c-4ecf-abf2-2566f53eb8ee"
      },
      "outputs": [],
      "source": [
        "x <- c(\"foo\", \"bar\", \"baz\")\n",
        "y <- x\n",
        "y[2] <- \"BAR\" # yを更新する．\n",
        "y\n",
        "\n",
        "x             # xは変わらない．"
      ],
      "id": "7089a28d-3b3c-4ecf-abf2-2566f53eb8ee"
    },
    {
      "id": "509920ba",
      "cell_type": "markdown",
      "source": [
        "## 3.4 データフレーム"
      ],
      "metadata": {
        "id": "509920ba"
      }
    },
    {
      "cell_type": "code",
      "execution_count": null,
      "metadata": {
        "id": "1f38f577-872f-4d3e-80e2-a41398c5b81d"
      },
      "outputs": [],
      "source": [
        "library(tidyverse)"
      ],
      "id": "1f38f577-872f-4d3e-80e2-a41398c5b81d"
    },
    {
      "cell_type": "code",
      "execution_count": null,
      "metadata": {
        "id": "9d532649-fb39-4025-9dc7-8f30d65bc2e8"
      },
      "outputs": [],
      "source": [
        "my_df <- data.frame(\n",
        "  name    = c(\"A\", \"B\", \"C\", \"D\"),\n",
        "  english = c( 60,  90,  70,  90),\n",
        "  math    = c( 70,  80,  90, 100),\n",
        "  gender  = c(\"f\", \"m\", \"m\", \"f\"))"
      ],
      "id": "9d532649-fb39-4025-9dc7-8f30d65bc2e8"
    },
    {
      "cell_type": "code",
      "execution_count": null,
      "metadata": {
        "id": "3460dc75-dd34-4d29-8cdd-48e812bc73c3"
      },
      "outputs": [],
      "source": [
        "my_df <- tribble(\n",
        "  ~name, ~english, ~math, ~gender,\n",
        "  \"A\",         60,    70,     \"f\",\n",
        "  \"B\",         90,    80,     \"m\",\n",
        "  \"C\",         70,    90,     \"m\",\n",
        "  \"D\",         90,   100,     \"f\")"
      ],
      "id": "3460dc75-dd34-4d29-8cdd-48e812bc73c3"
    },
    {
      "cell_type": "code",
      "execution_count": null,
      "metadata": {
        "id": "8e59b2ad-02e5-4f07-95f7-25475d439039"
      },
      "outputs": [],
      "source": [
        "head(my_df)\n",
        "# 結果は割愛"
      ],
      "id": "8e59b2ad-02e5-4f07-95f7-25475d439039"
    },
    {
      "cell_type": "code",
      "execution_count": null,
      "metadata": {
        "id": "28d5a6ca-0ea1-4674-8a33-40cdbedbef13"
      },
      "outputs": [],
      "source": [
        "dim(my_df)  # 行数と列数\n",
        "\n",
        "nrow(my_df) # 行数\n",
        "\n",
        "ncol(my_df) # 列数"
      ],
      "id": "28d5a6ca-0ea1-4674-8a33-40cdbedbef13"
    },
    {
      "cell_type": "code",
      "execution_count": null,
      "metadata": {
        "id": "bee3eb47-0fe3-450f-98d9-861c38c180be"
      },
      "outputs": [],
      "source": [
        "my_df2 <- expand.grid(\n",
        "  X = c(1, 2, 3),\n",
        "  Y = c(10, 100))\n",
        "my_df2"
      ],
      "id": "bee3eb47-0fe3-450f-98d9-861c38c180be"
    },
    {
      "cell_type": "code",
      "execution_count": null,
      "metadata": {
        "id": "86fe9925-9992-4a26-954f-1d8be84d102c"
      },
      "outputs": [],
      "source": [
        "colnames(my_df2)"
      ],
      "id": "86fe9925-9992-4a26-954f-1d8be84d102c"
    },
    {
      "cell_type": "code",
      "execution_count": null,
      "metadata": {
        "id": "f51150af-20b6-40c6-a9eb-67c59f68ab2d"
      },
      "outputs": [],
      "source": [
        "colnames(my_df2) <- c(\"P\", \"Q\")\n",
        "my_df2\n",
        "# 以下省略"
      ],
      "id": "f51150af-20b6-40c6-a9eb-67c59f68ab2d"
    },
    {
      "cell_type": "code",
      "execution_count": null,
      "metadata": {
        "id": "bbb10019-769e-44df-ae35-5e5b3f604cfe"
      },
      "outputs": [],
      "source": [
        "row.names(my_df)"
      ],
      "id": "bbb10019-769e-44df-ae35-5e5b3f604cfe"
    },
    {
      "cell_type": "code",
      "execution_count": null,
      "metadata": {
        "id": "a31a2070-7a97-4c77-8251-f0786dfb3a3f"
      },
      "outputs": [],
      "source": [
        "row.names(my_df2) <-\n",
        "  c(\"a\", \"b\", \"c\", \"d\", \"e\", \"f\")\n",
        "my_df2\n",
        "# 以下省略"
      ],
      "id": "a31a2070-7a97-4c77-8251-f0786dfb3a3f"
    },
    {
      "cell_type": "code",
      "execution_count": null,
      "metadata": {
        "id": "789c9b93-7ff2-48f4-8bde-390bde9fdc93"
      },
      "outputs": [],
      "source": [
        "my_df3 <- data.frame(\n",
        "  english =   c( 60,  90,  70,  90),\n",
        "  math    =   c( 70,  80,  90, 100),\n",
        "  gender  =   c(\"f\", \"m\", \"m\", \"f\"),\n",
        "  row.names = c(\"A\", \"B\", \"C\", \"D\"))\n",
        "my_df3"
      ],
      "id": "789c9b93-7ff2-48f4-8bde-390bde9fdc93"
    },
    {
      "cell_type": "code",
      "execution_count": null,
      "metadata": {
        "id": "d75bf81f-f5f4-4e08-abe4-cf59fddca524"
      },
      "outputs": [],
      "source": [
        "tmp <- data.frame(\n",
        "  name    = \"E\",\n",
        "  english =  80,\n",
        "  math    =  80,\n",
        "  gender  = \"m\")\n",
        "my_df2 <- rbind(my_df, tmp)"
      ],
      "id": "d75bf81f-f5f4-4e08-abe4-cf59fddca524"
    },
    {
      "cell_type": "code",
      "execution_count": null,
      "metadata": {
        "id": "99176d65-8fbe-4298-86a2-6b920c44ec66"
      },
      "outputs": [],
      "source": [
        "my_df2 <- my_df %>%\n",
        "  mutate(id = c(1, 2, 3, 4))"
      ],
      "id": "99176d65-8fbe-4298-86a2-6b920c44ec66"
    },
    {
      "cell_type": "code",
      "execution_count": null,
      "metadata": {
        "id": "c0acf0b8-3c38-438d-bafa-c3b791211a86"
      },
      "outputs": [],
      "source": [
        "my_df3 <- my_df               # コピー\n",
        "my_df3[\"id\"] <- c(1, 2, 3, 4) # 更新\n",
        "my_df3 # 結果の確認（割愛）"
      ],
      "id": "c0acf0b8-3c38-438d-bafa-c3b791211a86"
    },
    {
      "cell_type": "code",
      "execution_count": null,
      "metadata": {
        "id": "bec490f6-eedc-49df-831f-e31ee0d1fe31"
      },
      "outputs": [],
      "source": [
        "my_df[1, 2]"
      ],
      "id": "bec490f6-eedc-49df-831f-e31ee0d1fe31"
    },
    {
      "cell_type": "code",
      "execution_count": null,
      "metadata": {
        "id": "f7a326fc-9fcd-4ffd-a98d-4fe1c28fa362"
      },
      "outputs": [],
      "source": [
        "x <- my_df[, 2]\n",
        "# あるいは\n",
        "x <- my_df$english\n",
        "# あるいは\n",
        "x <- my_df$\"english\"\n",
        "# あるいは\n",
        "x <- my_df[[\"english\"]]\n",
        "# あるいは\n",
        "tmp <- \"english\"\n",
        "x <- my_df[[tmp]]\n",
        "\n",
        "x # 結果の確認（割愛）"
      ],
      "id": "f7a326fc-9fcd-4ffd-a98d-4fe1c28fa362"
    },
    {
      "cell_type": "code",
      "execution_count": null,
      "metadata": {
        "id": "c57992aa-652a-4c18-817b-1904ed55ac5d"
      },
      "outputs": [],
      "source": [
        "x <- my_df %>% select(name, math)"
      ],
      "id": "c57992aa-652a-4c18-817b-1904ed55ac5d"
    },
    {
      "cell_type": "code",
      "execution_count": null,
      "metadata": {
        "id": "bfeaf6e4-4c54-49d8-9e94-e5290d679a38"
      },
      "outputs": [],
      "source": [
        "x <- my_df[, c(1, 3)]"
      ],
      "id": "bfeaf6e4-4c54-49d8-9e94-e5290d679a38"
    },
    {
      "cell_type": "code",
      "execution_count": null,
      "metadata": {
        "id": "4f035770-9a68-4b4e-8bc2-52060444afe7"
      },
      "outputs": [],
      "source": [
        "x <- my_df %>%\n",
        "  select(-c(english, gender))\n",
        "# あるいは\n",
        "x <- my_df[, -c(2, 4)]"
      ],
      "id": "4f035770-9a68-4b4e-8bc2-52060444afe7"
    },
    {
      "cell_type": "code",
      "execution_count": null,
      "metadata": {
        "id": "57b39eb5-ce93-4ce3-84e4-55660641fdec"
      },
      "outputs": [],
      "source": [
        "x <- my_df[c(1, 3), ]"
      ],
      "id": "57b39eb5-ce93-4ce3-84e4-55660641fdec"
    },
    {
      "cell_type": "code",
      "execution_count": null,
      "metadata": {
        "id": "cdbfbdb2-d7e8-4a07-8daa-5f5e866ccfbf"
      },
      "outputs": [],
      "source": [
        "x <- my_df[-c(2, 4), ]"
      ],
      "id": "cdbfbdb2-d7e8-4a07-8daa-5f5e866ccfbf"
    },
    {
      "cell_type": "code",
      "execution_count": null,
      "metadata": {
        "id": "5250fa57-e63c-496b-bcfb-3341e060983f"
      },
      "outputs": [],
      "source": [
        "x <- my_df[my_df$gender == \"m\", ]\n",
        "# あるいは\n",
        "x <- my_df %>% filter(gender == \"m\")"
      ],
      "id": "5250fa57-e63c-496b-bcfb-3341e060983f"
    },
    {
      "cell_type": "code",
      "execution_count": null,
      "metadata": {
        "id": "140b7930-58e9-49cc-85d5-b1c7a9c9f13f"
      },
      "outputs": [],
      "source": [
        "x <- my_df[my_df$english > 80 & my_df$gender == \"m\", ]\n",
        "# あるいは\n",
        "x <- my_df %>% filter(english > 80 & gender == \"m\")"
      ],
      "id": "140b7930-58e9-49cc-85d5-b1c7a9c9f13f"
    },
    {
      "cell_type": "code",
      "execution_count": null,
      "metadata": {
        "id": "4da750ce-15ff-489b-8dfb-84deacbed55c"
      },
      "outputs": [],
      "source": [
        "x <- my_df[my_df$english == max(my_df$english), ]\n",
        "# あるいは\n",
        "x <- my_df %>% filter(english == max(my_df$english))"
      ],
      "id": "4da750ce-15ff-489b-8dfb-84deacbed55c"
    },
    {
      "cell_type": "code",
      "execution_count": null,
      "metadata": {
        "id": "320285a3-f2c0-43f7-958f-83f6a1654d83"
      },
      "outputs": [],
      "source": [
        "my_df2 <- my_df # コピー\n",
        "my_df2[my_df$gender == \"m\", ]$gender <- \"M\""
      ],
      "id": "320285a3-f2c0-43f7-958f-83f6a1654d83"
    },
    {
      "cell_type": "code",
      "execution_count": null,
      "metadata": {
        "id": "68fcfd0f-a845-44ed-af2c-ad69938a1a10"
      },
      "outputs": [],
      "source": [
        "my_df2"
      ],
      "id": "68fcfd0f-a845-44ed-af2c-ad69938a1a10"
    },
    {
      "cell_type": "code",
      "execution_count": null,
      "metadata": {
        "id": "00b352e0-44e7-4c5a-bddd-8d678206242d"
      },
      "outputs": [],
      "source": [
        "x <- my_df %>% arrange(english)"
      ],
      "id": "00b352e0-44e7-4c5a-bddd-8d678206242d"
    },
    {
      "cell_type": "code",
      "execution_count": null,
      "metadata": {
        "id": "1692fd04-e8f1-447a-9c66-4e9ac210d55b"
      },
      "outputs": [],
      "source": [
        "x <- my_df %>% arrange(-english)"
      ],
      "id": "1692fd04-e8f1-447a-9c66-4e9ac210d55b"
    },
    {
      "cell_type": "code",
      "execution_count": null,
      "metadata": {
        "id": "dc829003-149a-47da-89cd-b5ba60c05434"
      },
      "outputs": [],
      "source": [
        "x <- c(2, 3, 5, 7, 11, 13, 17, 19, 23,\n",
        "       29, 31, 37)\n",
        "A <- matrix(\n",
        "  data = x,     # 1次元データ\n",
        "  nrow = 3,     # 行数\n",
        "  byrow = TRUE) # 行ごとの生成\n",
        "A"
      ],
      "id": "dc829003-149a-47da-89cd-b5ba60c05434"
    },
    {
      "cell_type": "code",
      "execution_count": null,
      "metadata": {
        "id": "1dbdb3c0-9bf8-4706-9a37-96c5c756350a"
      },
      "outputs": [],
      "source": [
        "A <- my_df[, c(2, 3)] %>% as.matrix\n",
        "A"
      ],
      "id": "1dbdb3c0-9bf8-4706-9a37-96c5c756350a"
    },
    {
      "cell_type": "code",
      "execution_count": null,
      "metadata": {
        "id": "9d9235ed-a382-4a30-8a23-0361f5d91bb3"
      },
      "outputs": [],
      "source": [
        "as.data.frame(A)"
      ],
      "id": "9d9235ed-a382-4a30-8a23-0361f5d91bb3"
    },
    {
      "cell_type": "code",
      "execution_count": null,
      "metadata": {
        "id": "7433051d-e6cf-4717-8317-4b6d4430dc48"
      },
      "outputs": [],
      "source": [
        "t(A)"
      ],
      "id": "7433051d-e6cf-4717-8317-4b6d4430dc48"
    },
    {
      "cell_type": "code",
      "execution_count": null,
      "metadata": {
        "id": "cbed3ab3-fe18-4085-9af5-ab493fa3e6bc"
      },
      "outputs": [],
      "source": [
        "t(A) %*% A"
      ],
      "id": "cbed3ab3-fe18-4085-9af5-ab493fa3e6bc"
    },
    {
      "cell_type": "code",
      "execution_count": null,
      "metadata": {
        "id": "3b4215df-42fc-48f5-957f-141a4498876f"
      },
      "outputs": [],
      "source": [
        "my_wider <- data.frame(\n",
        "  day = c(25, 26, 27),\n",
        "  min = c(20, 21, 15),\n",
        "  max = c(24, 27, 21))"
      ],
      "id": "3b4215df-42fc-48f5-957f-141a4498876f"
    },
    {
      "cell_type": "code",
      "execution_count": null,
      "metadata": {
        "id": "bea9d989-2393-4050-8410-ddec93d55add"
      },
      "outputs": [],
      "source": [
        "my_longer <- my_wider %>%\n",
        "  pivot_longer(-day)\n",
        "my_longer"
      ],
      "id": "bea9d989-2393-4050-8410-ddec93d55add"
    },
    {
      "cell_type": "code",
      "execution_count": null,
      "metadata": {
        "id": "1587538f-2c26-467e-9d8c-2f376093245b"
      },
      "outputs": [],
      "source": [
        "my_longer %>% pivot_wider()"
      ],
      "id": "1587538f-2c26-467e-9d8c-2f376093245b"
    },
    {
      "cell_type": "code",
      "execution_count": null,
      "metadata": {
        "id": "c7b88db1-af91-4c19-8c0c-5d5860f2cba5"
      },
      "outputs": [],
      "source": [
        "my_longer %>%\n",
        "  ggplot(aes(x = day, y = value,\n",
        "             color = name)) +\n",
        "  geom_point() +\n",
        "  geom_line() +\n",
        "  ylab(\"temperature\") + # y軸ラベル\n",
        "  scale_x_continuous(\n",
        "    breaks = my_longer$day) # x軸目盛り"
      ],
      "id": "c7b88db1-af91-4c19-8c0c-5d5860f2cba5"
    },
    {
      "id": "db815df0",
      "cell_type": "markdown",
      "source": [
        "## 3.5 1次元データの（非）類似度"
      ],
      "metadata": {
        "id": "db815df0"
      }
    },
    {
      "cell_type": "code",
      "execution_count": null,
      "metadata": {
        "id": "eb2ee209-64a3-4ed4-97f4-6cf60c581085"
      },
      "outputs": [],
      "source": [
        "A <- c(3,   4,  5)\n",
        "B <- c(3,   4, 29)\n",
        "C <- c(9, -18,  8)\n",
        "AB <- B - A\n",
        "AC <- C - A\n",
        "\n",
        "sum(AB^2)^0.5\n",
        "\n",
        "sum(AC^2)^0.5"
      ],
      "id": "eb2ee209-64a3-4ed4-97f4-6cf60c581085"
    },
    {
      "cell_type": "code",
      "execution_count": null,
      "metadata": {
        "id": "6f8a2d90-0884-4db4-bd9c-ecf9aa21d057"
      },
      "outputs": [],
      "source": [
        "sum(abs(AB))\n",
        "\n",
        "sum(abs(AC))"
      ],
      "id": "6f8a2d90-0884-4db4-bd9c-ecf9aa21d057"
    },
    {
      "cell_type": "code",
      "execution_count": null,
      "metadata": {
        "id": "fb6f7333-8f4a-4dd9-bddd-f7febc4da037"
      },
      "outputs": [],
      "source": [
        "sum(A * B) /\n",
        "  sum(A * A)^0.5 / sum(B * B)^0.5\n",
        "\n",
        "sum(A * C) /\n",
        "  sum(A * A)^0.5 / sum(C * C)^0.5"
      ],
      "id": "fb6f7333-8f4a-4dd9-bddd-f7febc4da037"
    },
    {
      "cell_type": "code",
      "execution_count": null,
      "metadata": {
        "id": "7ac66e97-d143-4e8d-8b07-7967c27ef04c"
      },
      "outputs": [],
      "source": [
        "cor(A, B)\n",
        "\n",
        "cor(A, C)"
      ],
      "id": "7ac66e97-d143-4e8d-8b07-7967c27ef04c"
    },
    {
      "cell_type": "code",
      "execution_count": null,
      "metadata": {
        "id": "afc0d2cf-e4e3-44d4-be0c-58721ba02ed6"
      },
      "outputs": [],
      "source": [
        "library(tidyverse)\n",
        "\n",
        "\n",
        "\n",
        "my_df <- data.frame(\n",
        "  x = c(3,  3,   9),\n",
        "  y = c(4,  4, -18),\n",
        "  z = c(5, 29,   8),\n",
        "  row.names = c(\"A\", \"B\", \"C\"))\n",
        "\n",
        "# ユークリッド距離\n",
        "my_df %>% proxy::dist(\"Euclidean\")\n",
        "\n",
        "\n",
        "# マンハッタン距離\n",
        "my_df %>% proxy::dist(\"Manhattan\")\n",
        "\n",
        "\n",
        "# コサイン類似度\n",
        "my_df %>% proxy::simil(\"cosine\")\n",
        "\n",
        "\n",
        "# 相関係数\n",
        "my_df %>% proxy::simil(\"correlation\")"
      ],
      "id": "afc0d2cf-e4e3-44d4-be0c-58721ba02ed6"
    },
    {
      "id": "91c8f21a",
      "cell_type": "markdown",
      "source": [
        "## 3.6 Rのパッケージ，Pythonのモジュール"
      ],
      "metadata": {
        "id": "91c8f21a"
      }
    },
    {
      "cell_type": "code",
      "execution_count": null,
      "metadata": {
        "id": "5f614ee2-1172-4c90-82e1-8a2f63a9a633"
      },
      "outputs": [],
      "source": [
        "library(tidyverse)"
      ],
      "id": "5f614ee2-1172-4c90-82e1-8a2f63a9a633"
    },
    {
      "id": "43952b54",
      "cell_type": "markdown",
      "source": [
        "## 3.7 反復処理"
      ],
      "metadata": {
        "id": "43952b54"
      }
    },
    {
      "cell_type": "code",
      "execution_count": null,
      "metadata": {
        "id": "2b191aa4-b8d6-4562-a094-93f8266cee3e"
      },
      "outputs": [],
      "source": [
        "library(tidyverse)"
      ],
      "id": "2b191aa4-b8d6-4562-a094-93f8266cee3e"
    },
    {
      "cell_type": "code",
      "execution_count": null,
      "metadata": {
        "id": "8dc9b2ba-a55b-4471-b408-857cae0a5f8c"
      },
      "outputs": [],
      "source": [
        "f1 <- function(x) {\n",
        "  tmp <- runif(x)\n",
        "  mean(tmp)\n",
        "}\n",
        "\n",
        "f1(10)           # 動作確認"
      ],
      "id": "8dc9b2ba-a55b-4471-b408-857cae0a5f8c"
    },
    {
      "cell_type": "code",
      "execution_count": null,
      "metadata": {
        "id": "977a2f69-388b-474a-a0e2-7bc7e4a797a3"
      },
      "outputs": [],
      "source": [
        "replicate(n = 3, expr = f1(10))"
      ],
      "id": "977a2f69-388b-474a-a0e2-7bc7e4a797a3"
    },
    {
      "cell_type": "code",
      "execution_count": null,
      "metadata": {
        "id": "c7385070-7c59-4a04-97c2-fa13ef3db7f1"
      },
      "outputs": [],
      "source": [
        "rep(x = f1(10), times = 3)"
      ],
      "id": "c7385070-7c59-4a04-97c2-fa13ef3db7f1"
    },
    {
      "cell_type": "code",
      "execution_count": null,
      "metadata": {
        "id": "7117802e-7cb5-4347-8c64-9728d1325332"
      },
      "outputs": [],
      "source": [
        "v <- c(5, 10, 100)\n",
        "v %>% map_dbl(f1)"
      ],
      "id": "7117802e-7cb5-4347-8c64-9728d1325332"
    },
    {
      "cell_type": "code",
      "execution_count": null,
      "metadata": {
        "id": "dfc0cb42-22ad-4dc4-bc69-b54e5eba3ba0"
      },
      "outputs": [],
      "source": [
        "rep(x = 10, times = 3) %>% map_dbl(f1)\n",
        "# 結果は割愛"
      ],
      "id": "dfc0cb42-22ad-4dc4-bc69-b54e5eba3ba0"
    },
    {
      "cell_type": "code",
      "execution_count": null,
      "metadata": {
        "id": "b2664108-f428-4429-a8d4-b64362515dc6"
      },
      "outputs": [],
      "source": [
        "f2 <- function(n) {\n",
        "  tmp <- runif(n)\n",
        "  list(x = n,\n",
        "       p = mean(tmp),\n",
        "       q = sd(tmp))\n",
        "}\n",
        "\n",
        "f2(10) # 動作確認"
      ],
      "id": "b2664108-f428-4429-a8d4-b64362515dc6"
    },
    {
      "cell_type": "code",
      "execution_count": null,
      "metadata": {
        "id": "67632e1a-106a-4306-92ee-454894395f36"
      },
      "outputs": [],
      "source": [
        "v <- c(5, 10, 100)\n",
        "v %>% map_dfr(f2)"
      ],
      "id": "67632e1a-106a-4306-92ee-454894395f36"
    },
    {
      "cell_type": "code",
      "execution_count": null,
      "metadata": {
        "id": "bcafb796-14f5-4e5c-9652-c69e82f88bd0"
      },
      "outputs": [],
      "source": [
        "f3 <- function(x, y) {\n",
        "  tmp <- runif(x, min = 1,\n",
        "                  max = y + 1) %>%\n",
        "    as.integer\n",
        "  list(x = x,\n",
        "       y = y,\n",
        "       p = mean(tmp),\n",
        "       q = sd(tmp))\n",
        "}\n",
        "\n",
        "f3(x = 10, y = 6) # 動作確認"
      ],
      "id": "bcafb796-14f5-4e5c-9652-c69e82f88bd0"
    },
    {
      "cell_type": "code",
      "execution_count": null,
      "metadata": {
        "id": "491820a3-3940-4d51-b184-22700149a775"
      },
      "outputs": [],
      "source": [
        "my_df <- data.frame(\n",
        "  x = c(5, 10, 100,  5, 10, 100),\n",
        "  y = c(6,  6,   6, 12, 12,  12))\n",
        "\n",
        "my_df %>% pmap_dfr(f3)"
      ],
      "id": "491820a3-3940-4d51-b184-22700149a775"
    },
    {
      "cell_type": "code",
      "execution_count": null,
      "metadata": {
        "id": "a8ed1964-b29c-4a19-922b-b3b7a9797c9e"
      },
      "outputs": [],
      "source": [
        "library(furrr)\n",
        "plan(multisession) # 準備\n",
        "\n",
        "v <- c(5, 10, 100)\n",
        "v %>% future_map_dbl(f1, .options =\n",
        "  furrr_options(seed = TRUE))\n",
        "# 結果は割愛"
      ],
      "id": "a8ed1964-b29c-4a19-922b-b3b7a9797c9e"
    },
    {
      "id": "171c8f80",
      "cell_type": "markdown",
      "source": [
        "## 3.8 その他"
      ],
      "metadata": {
        "id": "171c8f80"
      }
    },
    {
      "cell_type": "code",
      "execution_count": null,
      "metadata": {
        "id": "57b6ed74-e02a-468c-9cc2-37f91a987e5e"
      },
      "outputs": [],
      "source": [
        "x <- 123\n",
        "typeof(x)"
      ],
      "id": "57b6ed74-e02a-468c-9cc2-37f91a987e5e"
    },
    {
      "cell_type": "code",
      "execution_count": null,
      "metadata": {
        "id": "163747da-c7a0-4a99-bdd2-cfd0346aa75c"
      },
      "outputs": [],
      "source": [
        "?log\n",
        "# あるいは\n",
        "help(log)"
      ],
      "id": "163747da-c7a0-4a99-bdd2-cfd0346aa75c"
    },
    {
      "cell_type": "code",
      "execution_count": null,
      "metadata": {
        "id": "ef637ca8-4e49-4578-9f5d-e3acf1b85b3e"
      },
      "outputs": [],
      "source": [
        "v <- c(1, NA, 3)\n",
        "v"
      ],
      "id": "ef637ca8-4e49-4578-9f5d-e3acf1b85b3e"
    },
    {
      "cell_type": "code",
      "execution_count": null,
      "metadata": {
        "id": "67f5b81a-b4ed-4b8d-ae5e-85319e5f7d6e"
      },
      "outputs": [],
      "source": [
        "is.na(v[2])\n",
        "\n",
        "v[2] == NA # 誤り"
      ],
      "id": "67f5b81a-b4ed-4b8d-ae5e-85319e5f7d6e"
    },
    {
      "id": "e7d6ddb6",
      "cell_type": "markdown",
      "source": [
        "# 4 統計入門"
      ],
      "metadata": {
        "id": "e7d6ddb6"
      }
    },
    {
      "cell_type": "code",
      "execution_count": null,
      "metadata": {
        "id": "7dabed69-a8c3-40c6-aa79-0c42964ee893"
      },
      "outputs": [],
      "source": [
        "# Google Colaboratoryの環境設定\n",
        "if (file.exists(\"/content\")) {\n",
        "  options(Ncpus = parallel::detectCores())\n",
        "  installed_packages <- rownames(installed.packages())\n",
        "  packages_to_install <- c(\"exactci\", \"ggmosaic\", \"pastecs\", \"psych\", \"vcd\")\n",
        "  install.packages(setdiff(packages_to_install, installed_packages))\n",
        "}"
      ],
      "id": "7dabed69-a8c3-40c6-aa79-0c42964ee893"
    },
    {
      "id": "6b4ce211",
      "cell_type": "markdown",
      "source": [
        "## 4.1 記述統計"
      ],
      "metadata": {
        "id": "6b4ce211"
      }
    },
    {
      "cell_type": "code",
      "execution_count": null,
      "metadata": {
        "id": "72e0de12-2c8d-4325-ba06-5617f270e3b3"
      },
      "outputs": [],
      "source": [
        "x <- c(165, 170, 175, 180, 185)\n",
        "mean(x) # 平均"
      ],
      "id": "72e0de12-2c8d-4325-ba06-5617f270e3b3"
    },
    {
      "cell_type": "code",
      "execution_count": null,
      "metadata": {
        "id": "0ca89453-ead7-43b6-8326-9b050b1dde76"
      },
      "outputs": [],
      "source": [
        "n <- length(x) # サンプルサイズ\n",
        "sum(x) / n"
      ],
      "id": "0ca89453-ead7-43b6-8326-9b050b1dde76"
    },
    {
      "cell_type": "code",
      "execution_count": null,
      "metadata": {
        "id": "964fd844-6a7a-46e1-8eb7-04e12907de99"
      },
      "outputs": [],
      "source": [
        "y <- c(173, 174, 175, 176, 177)\n",
        "mean(y)"
      ],
      "id": "964fd844-6a7a-46e1-8eb7-04e12907de99"
    },
    {
      "cell_type": "code",
      "execution_count": null,
      "metadata": {
        "id": "10672762-1ab3-4a78-806e-0f4626709481"
      },
      "outputs": [],
      "source": [
        "var(x) # xの分散\n",
        "\n",
        "var(y) # yの分散"
      ],
      "id": "10672762-1ab3-4a78-806e-0f4626709481"
    },
    {
      "cell_type": "code",
      "execution_count": null,
      "metadata": {
        "id": "131650f4-385e-4906-a0a1-e54a37f42d0f"
      },
      "outputs": [],
      "source": [
        "sum((x - mean(x))^2) / (n - 1)"
      ],
      "id": "131650f4-385e-4906-a0a1-e54a37f42d0f"
    },
    {
      "cell_type": "code",
      "execution_count": null,
      "metadata": {
        "id": "5b207d5d-004c-43ba-90c9-770db2085947"
      },
      "outputs": [],
      "source": [
        "sd(x) # xの標準偏差\n",
        "\n",
        "sd(y) # yの標準偏差"
      ],
      "id": "5b207d5d-004c-43ba-90c9-770db2085947"
    },
    {
      "cell_type": "code",
      "execution_count": null,
      "metadata": {
        "id": "f28421b6-2e6c-48c7-a215-05716b99339d"
      },
      "outputs": [],
      "source": [
        "var(x)**0.5 # xの標準偏差"
      ],
      "id": "f28421b6-2e6c-48c7-a215-05716b99339d"
    },
    {
      "cell_type": "code",
      "execution_count": null,
      "metadata": {
        "id": "3cb0dd6b-41f3-4840-bec1-80f9ac434efd"
      },
      "outputs": [],
      "source": [
        "psych::describe(x)\n",
        "\n",
        "# あるいは\n",
        "\n",
        "pastecs::stat.desc(x)"
      ],
      "id": "3cb0dd6b-41f3-4840-bec1-80f9ac434efd"
    },
    {
      "cell_type": "code",
      "execution_count": null,
      "metadata": {
        "id": "cadc102d-b980-4076-8365-3ddf511d9deb"
      },
      "outputs": [],
      "source": [
        "quantile(x)"
      ],
      "id": "cadc102d-b980-4076-8365-3ddf511d9deb"
    },
    {
      "cell_type": "code",
      "execution_count": null,
      "metadata": {
        "id": "8228a372-7c8e-43ff-8eec-ed0e00bbf2f9"
      },
      "outputs": [],
      "source": [
        "x <- c(165, 170, 175, 180, 185)\n",
        "\n",
        "var(x)                # 不偏分散\n",
        "\n",
        "mean((x - mean(x))^2) # 標本分散\n",
        "# あるいは\n",
        "n <- length(x)\n",
        "var(x) * (n - 1) / n  # 標本分散"
      ],
      "id": "8228a372-7c8e-43ff-8eec-ed0e00bbf2f9"
    },
    {
      "cell_type": "code",
      "execution_count": null,
      "metadata": {
        "id": "50e42842-f860-43aa-bc2c-e4436cbe9c3f"
      },
      "outputs": [],
      "source": [
        "sd(x)                     # √不偏分散\n",
        "\n",
        "mean((x - mean(x))^2)^0.5 # √標本分散\n",
        "# あるいは\n",
        "sd(x) * sqrt((n - 1) / n) # √標本分散"
      ],
      "id": "50e42842-f860-43aa-bc2c-e4436cbe9c3f"
    },
    {
      "cell_type": "code",
      "execution_count": null,
      "metadata": {
        "id": "a4f47385-d5fe-4044-9e20-452fdfea8dad"
      },
      "outputs": [],
      "source": [
        "sd(x) / length(x)**0.5"
      ],
      "id": "a4f47385-d5fe-4044-9e20-452fdfea8dad"
    },
    {
      "cell_type": "code",
      "execution_count": null,
      "metadata": {
        "id": "101f266a-bbbf-471d-be97-c5af7dfe347e"
      },
      "outputs": [],
      "source": [
        "library(tidyverse)\n",
        "\n",
        "my_df <- data.frame(\n",
        "  name    = c(\"A\", \"B\", \"C\", \"D\"),\n",
        "  english = c( 60,  90,  70,  90),\n",
        "  math    = c( 70,  80,  90, 100),\n",
        "  gender  = c(\"f\", \"m\", \"m\", \"f\"))"
      ],
      "id": "101f266a-bbbf-471d-be97-c5af7dfe347e"
    },
    {
      "cell_type": "code",
      "execution_count": null,
      "metadata": {
        "id": "6875cf5d-b4c4-4ea4-ba32-0ccbd1102307"
      },
      "outputs": [],
      "source": [
        "var(my_df$english)"
      ],
      "id": "6875cf5d-b4c4-4ea4-ba32-0ccbd1102307"
    },
    {
      "cell_type": "code",
      "execution_count": null,
      "metadata": {
        "id": "e5993260-011c-43d2-9500-d75bd4510292"
      },
      "outputs": [],
      "source": [
        "# 結果はベクタ\n",
        "my_df[, c(2, 3)] %>% sapply(var)\n",
        "\n",
        "# 結果はリスト\n",
        "my_df[, c(2, 3)] %>% lapply(var)\n",
        "\n",
        "# 結果はデータフレーム\n",
        "my_df[, c(2, 3)] %>% # 2, 3列目\n",
        "  summarize(across(  # の\n",
        "    everything(),    # 全ての\n",
        "    var))            # 不偏分散\n",
        "# あるいは\n",
        "my_df %>%              # データフレーム\n",
        "  summarize(across(    # の\n",
        "    where(is.numeric), # 数値の列の\n",
        "    var))              # 不偏分散\n",
        "# あるいは\n",
        "my_df %>%              # データフレーム\n",
        "  summarize(across(    # の\n",
        "    where(is.numeric), # 数値の列の\n",
        "    function(x) { var(x) })) # 不偏分散\n"
      ],
      "id": "e5993260-011c-43d2-9500-d75bd4510292"
    },
    {
      "cell_type": "code",
      "execution_count": null,
      "metadata": {
        "id": "142838e6-6e8b-4878-b927-cb6c8433be58"
      },
      "outputs": [],
      "source": [
        "psych::describe(my_df)\n",
        "\n",
        "# あるいは\n",
        "\n",
        "pastecs::stat.desc(my_df)\n",
        "# 以下省略"
      ],
      "id": "142838e6-6e8b-4878-b927-cb6c8433be58"
    },
    {
      "cell_type": "code",
      "execution_count": null,
      "metadata": {
        "id": "d82eb3d8-10e7-44a0-b79a-99109af49cf9"
      },
      "outputs": [],
      "source": [
        "table(my_df$gender)\n"
      ],
      "id": "d82eb3d8-10e7-44a0-b79a-99109af49cf9"
    },
    {
      "cell_type": "code",
      "execution_count": null,
      "metadata": {
        "id": "e64bd0d4-54db-45eb-91f6-d2f557046ddf"
      },
      "outputs": [],
      "source": [
        "my_df2 <- data.frame(\n",
        "  gender = my_df$gender,\n",
        "  excel = my_df$math >= 80)\n",
        "table(my_df2)\n"
      ],
      "id": "e64bd0d4-54db-45eb-91f6-d2f557046ddf"
    },
    {
      "cell_type": "code",
      "execution_count": null,
      "metadata": {
        "id": "c4ea1669-22b7-404d-a6d5-c4b5f1cc05c9"
      },
      "outputs": [],
      "source": [
        "my_df %>% group_by(gender) %>%\n",
        "  summarize(across(\n",
        "    where(is.numeric), mean),\n",
        "    .groups = \"drop\") # グループ化解除\n"
      ],
      "id": "c4ea1669-22b7-404d-a6d5-c4b5f1cc05c9"
    },
    {
      "id": "f1265721",
      "cell_type": "markdown",
      "source": [
        "## 4.2 データの可視化"
      ],
      "metadata": {
        "id": "f1265721"
      }
    },
    {
      "cell_type": "code",
      "execution_count": null,
      "metadata": {
        "id": "f9bd0f7f-0ea9-4aaf-90f9-ec0b73998e49"
      },
      "outputs": [],
      "source": [
        "head(iris)"
      ],
      "id": "f9bd0f7f-0ea9-4aaf-90f9-ec0b73998e49"
    },
    {
      "cell_type": "code",
      "execution_count": null,
      "metadata": {
        "id": "16ff9c0b-9fca-43a1-8df8-7c1b232077e6"
      },
      "outputs": [],
      "source": [
        "hist(iris$Sepal.Length)"
      ],
      "id": "16ff9c0b-9fca-43a1-8df8-7c1b232077e6"
    },
    {
      "cell_type": "code",
      "execution_count": null,
      "metadata": {
        "id": "a5f96d79-8f95-494e-ab3d-90143775d527"
      },
      "outputs": [],
      "source": [
        "x <- c(10, 20, 30)\n",
        "hist(x, breaks = 2) # 階級数は2"
      ],
      "id": "a5f96d79-8f95-494e-ab3d-90143775d527"
    },
    {
      "cell_type": "code",
      "execution_count": null,
      "metadata": {
        "id": "db2c0117-dc22-4fd6-8f3e-e76df4124d12"
      },
      "outputs": [],
      "source": [
        "x <- iris$Sepal.Length\n",
        "tmp <- seq(min(x), max(x),\n",
        "           length.out = 10)\n",
        "hist(x, breaks = tmp, right = FALSE)"
      ],
      "id": "db2c0117-dc22-4fd6-8f3e-e76df4124d12"
    },
    {
      "cell_type": "code",
      "execution_count": null,
      "metadata": {
        "id": "fda08245-b21e-4525-bc21-69632933fb01"
      },
      "outputs": [],
      "source": [
        "plot(iris$Sepal.Length,\n",
        "     iris$Sepal.Width)"
      ],
      "id": "fda08245-b21e-4525-bc21-69632933fb01"
    },
    {
      "cell_type": "code",
      "execution_count": null,
      "metadata": {
        "id": "1f31c686-03cd-4ce8-ba23-8c6434c00639"
      },
      "outputs": [],
      "source": [
        "boxplot(iris[, -5])"
      ],
      "id": "1f31c686-03cd-4ce8-ba23-8c6434c00639"
    },
    {
      "cell_type": "code",
      "execution_count": null,
      "metadata": {
        "id": "cf79d660-0066-4fca-ab4b-614184ef26c8"
      },
      "outputs": [],
      "source": [
        "library(tidyverse)\n",
        "my_df <- psych::describe(iris[, -5])\n",
        "my_df %>% select(mean, sd, se)"
      ],
      "id": "cf79d660-0066-4fca-ab4b-614184ef26c8"
    },
    {
      "cell_type": "code",
      "execution_count": null,
      "metadata": {
        "id": "b1c97e6d-e2a3-4ae4-9bee-37658418bd48"
      },
      "outputs": [],
      "source": [
        "tmp <- rownames(my_df)\n",
        "my_df %>% ggplot(aes(x = factor(tmp, levels = tmp), y = mean)) +\n",
        "  geom_col() +\n",
        "  geom_errorbar(aes(ymin = mean - se, ymax = mean + se)) +\n",
        "  xlab(NULL)"
      ],
      "id": "b1c97e6d-e2a3-4ae4-9bee-37658418bd48"
    },
    {
      "cell_type": "code",
      "execution_count": null,
      "metadata": {
        "id": "9b5aa292-3a04-4220-8812-53af2c3efe1d"
      },
      "outputs": [],
      "source": [
        "my_group <- iris %>% group_by(Species)       # 品種ごとに，\n",
        "\n",
        "my_df <- my_group %>%                        # 各変数の，平均と\n",
        "  summarize(across(everything(), mean)) %>%\n",
        "  pivot_longer(-Species)\n",
        "\n",
        "tmp <- my_group %>%                          # 標準誤差を求める．\n",
        "  summarize(across(everything(), ~ sd(.) / length(.)**0.5)) %>%\n",
        "  pivot_longer(-Species)\n",
        "\n",
        "my_df$se <- tmp$value\n",
        "head(my_df)"
      ],
      "id": "9b5aa292-3a04-4220-8812-53af2c3efe1d"
    },
    {
      "cell_type": "code",
      "execution_count": null,
      "metadata": {
        "id": "756b0b78-5575-40de-bff2-98c203d257a1"
      },
      "outputs": [],
      "source": [
        "my_df %>%\n",
        "  ggplot(aes(x = Species, y = value, fill = name)) +\n",
        "  geom_col(position = \"dodge\") +\n",
        "  geom_errorbar(aes(ymin = value - se, ymax = value + se), position = \"dodge\")"
      ],
      "id": "756b0b78-5575-40de-bff2-98c203d257a1"
    },
    {
      "cell_type": "code",
      "execution_count": null,
      "metadata": {
        "id": "442c1aac-818f-4b9a-9c31-18e5b0f5c184"
      },
      "outputs": [],
      "source": [
        "# 各変数の平均\n",
        "iris %>% pivot_longer(-Species) %>%\n",
        "  ggplot(aes(x = name, y = value)) +\n",
        "  geom_bar(stat = \"summary\", fun = mean) +\n",
        "  stat_summary(geom = \"errorbar\", fun.data = mean_se) +\n",
        "  xlab(NULL)\n",
        "\n",
        "# 各変数の平均（品種ごと）\n",
        "iris %>% pivot_longer(-Species) %>%\n",
        "  ggplot(aes(x = Species, y = value, fill = name)) +\n",
        "  geom_bar(stat = \"summary\", fun = mean, position = \"dodge\") +\n",
        "  stat_summary(geom = \"errorbar\", fun.data = mean_se, position = \"dodge\")"
      ],
      "id": "442c1aac-818f-4b9a-9c31-18e5b0f5c184"
    },
    {
      "cell_type": "code",
      "execution_count": null,
      "metadata": {
        "id": "63f559a6-9430-456e-afd9-879298d60394"
      },
      "outputs": [],
      "source": [
        "my_df <- data.frame(\n",
        "  Species = iris$Species,\n",
        "  w_Sepal = iris$Sepal.Width > 3)\n",
        "table(my_df) # 分割表\n",
        "\n",
        "mosaicplot(\n",
        "  formula = ~ Species + w_Sepal,\n",
        "  data = my_df)"
      ],
      "id": "63f559a6-9430-456e-afd9-879298d60394"
    },
    {
      "cell_type": "code",
      "execution_count": null,
      "metadata": {
        "id": "d254c473-009a-4264-bdd6-25a5127be68e"
      },
      "outputs": [],
      "source": [
        "library(vcd)\n",
        "vcd::mosaic(formula = ~w_Sepal + Species, data = my_df,\n",
        "            labeling = labeling_values)"
      ],
      "id": "d254c473-009a-4264-bdd6-25a5127be68e"
    },
    {
      "cell_type": "code",
      "execution_count": null,
      "metadata": {
        "id": "e1eb9ff3-65a2-4d48-ba5b-b7699cd824e4"
      },
      "outputs": [],
      "source": [
        "curve(x^3 - x, -2, 2)"
      ],
      "id": "e1eb9ff3-65a2-4d48-ba5b-b7699cd824e4"
    },
    {
      "cell_type": "code",
      "execution_count": null,
      "metadata": {
        "id": "4f1c3f1a-1ca0-4003-8d04-5041688edb13"
      },
      "outputs": [],
      "source": [
        "x <- iris$Sepal.Length\n",
        "tmp <- seq(min(x), max(x),\n",
        "           length.out = 10)\n",
        "iris %>%\n",
        "  ggplot(aes(x = Sepal.Length)) +\n",
        "  geom_histogram(breaks = tmp,\n",
        "                 closed = \"left\")"
      ],
      "id": "4f1c3f1a-1ca0-4003-8d04-5041688edb13"
    },
    {
      "cell_type": "code",
      "execution_count": null,
      "metadata": {
        "id": "55094ae0-fd16-489a-bb19-7f3efa3804ce"
      },
      "outputs": [],
      "source": [
        "iris %>%\n",
        "  ggplot(aes(x = Sepal.Length,\n",
        "             y = Sepal.Width)) +\n",
        "  geom_point()"
      ],
      "id": "55094ae0-fd16-489a-bb19-7f3efa3804ce"
    },
    {
      "cell_type": "code",
      "execution_count": null,
      "metadata": {
        "id": "681a3f88-1c65-405d-8cb2-de8f97703a06"
      },
      "outputs": [],
      "source": [
        "iris %>%\n",
        "  pivot_longer(-Species) %>%\n",
        "  ggplot(aes(\n",
        "    x = factor(name,\n",
        "               levels = names(iris)),\n",
        "    y = value)) +\n",
        "  geom_boxplot() +\n",
        "  xlab(NULL)"
      ],
      "id": "681a3f88-1c65-405d-8cb2-de8f97703a06"
    },
    {
      "cell_type": "code",
      "execution_count": null,
      "metadata": {
        "id": "44640953-3a8a-48ea-b2a1-24148853dc5e"
      },
      "outputs": [],
      "source": [
        "library(ggmosaic)\n",
        "my_df <- data.frame(\n",
        "  Species = iris$Species,\n",
        "  w_Sepal = iris$Sepal.Width > 3)\n",
        "my_df %>%\n",
        "  ggplot() +\n",
        "  geom_mosaic(\n",
        "    aes(x = product(w_Sepal, Species)))"
      ],
      "id": "44640953-3a8a-48ea-b2a1-24148853dc5e"
    },
    {
      "cell_type": "code",
      "execution_count": null,
      "metadata": {
        "id": "7756ac95-a684-4629-9620-ac75e2850cd0"
      },
      "outputs": [],
      "source": [
        "f <- function(x) { x^3 - x }\n",
        "data.frame(x = c(-2, 2)) %>%\n",
        "  ggplot(aes(x = x)) +\n",
        "  stat_function(fun = f)"
      ],
      "id": "7756ac95-a684-4629-9620-ac75e2850cd0"
    },
    {
      "id": "33a364e6",
      "cell_type": "markdown",
      "source": [
        "## 4.3 乱数"
      ],
      "metadata": {
        "id": "33a364e6"
      }
    },
    {
      "cell_type": "code",
      "execution_count": null,
      "metadata": {
        "id": "916a2243-f386-4738-9db7-495e96b608cd"
      },
      "outputs": [],
      "source": [
        "x <- sample(x = 1:6,        # 範囲\n",
        "            size = 10000,   # 乱数の数\n",
        "            replace = TRUE) # 重複あり\n",
        "hist(x, breaks = 0:6) # ヒストグラム"
      ],
      "id": "916a2243-f386-4738-9db7-495e96b608cd"
    },
    {
      "cell_type": "code",
      "execution_count": null,
      "metadata": {
        "id": "c9addf5c-036c-4ad2-99ad-5f41e0e5f523"
      },
      "outputs": [],
      "source": [
        "x <- runif(min = 0,  # 最小\n",
        "           max = 1,  # 最大\n",
        "           n = 1000) # 乱数の数\n",
        "hist(x)"
      ],
      "id": "c9addf5c-036c-4ad2-99ad-5f41e0e5f523"
    },
    {
      "cell_type": "code",
      "execution_count": null,
      "metadata": {
        "id": "4817156d-2b25-4a81-b401-fd61cd2d04b2"
      },
      "outputs": [],
      "source": [
        "x <- as.integer(      # 整数に変換\n",
        "  runif(min = 1,      # 最小\n",
        "        max = 7,      # 最大 + 1\n",
        "        n = 1000))    # 乱数の数\n",
        "hist(x, breaks = 0:6) # 結果は割愛"
      ],
      "id": "4817156d-2b25-4a81-b401-fd61cd2d04b2"
    },
    {
      "cell_type": "code",
      "execution_count": null,
      "metadata": {
        "id": "24740718-c586-4b07-979a-75fedd437140"
      },
      "outputs": [],
      "source": [
        "n <- 100\n",
        "p <- 0.5\n",
        "r <- 10000\n",
        "x <- rbinom(size = n, # 試行回数\n",
        "            prob = p, # 確率\n",
        "            n = r)    # 乱数の数\n",
        "hist(x, breaks = max(x) - min(x))"
      ],
      "id": "24740718-c586-4b07-979a-75fedd437140"
    },
    {
      "cell_type": "code",
      "execution_count": null,
      "metadata": {
        "id": "a737d243-6ab0-4396-9be5-25f84ed0e08c"
      },
      "outputs": [],
      "source": [
        "r <- 10000\n",
        "x <- rnorm(mean = 50, # 平均\n",
        "           sd = 5,    # 標準偏差\n",
        "           n = r)     # 乱数の数\n",
        "hist(x, breaks = 40)"
      ],
      "id": "a737d243-6ab0-4396-9be5-25f84ed0e08c"
    },
    {
      "cell_type": "code",
      "execution_count": null,
      "metadata": {
        "id": "b9acdeda-99b1-4cbb-9f17-cfadbf99eed4"
      },
      "outputs": [],
      "source": [
        "library(tidyverse)\n",
        "\n",
        "f <- function(k) {\n",
        "  n <- 10000\n",
        "  tmp <- replicate(n = n, expr = g(rnorm(n =  k, sd = 3)))\n",
        "  list(k = k,\n",
        "       mean = mean(tmp),       # 平均\n",
        "       se = sd(tmp) / sqrt(n)) # 標準誤差\n",
        "}"
      ],
      "id": "b9acdeda-99b1-4cbb-9f17-cfadbf99eed4"
    },
    {
      "cell_type": "code",
      "execution_count": null,
      "metadata": {
        "id": "aac2cb51-7245-4458-b5b6-5f72dd32c186"
      },
      "outputs": [],
      "source": [
        "g <- var\n",
        "c(10, 20, 30) %>% map_dfr(f)"
      ],
      "id": "aac2cb51-7245-4458-b5b6-5f72dd32c186"
    },
    {
      "cell_type": "code",
      "execution_count": null,
      "metadata": {
        "id": "134c8c77-90da-4ddf-b468-b0db889884b8"
      },
      "outputs": [],
      "source": [
        "g <- sd\n",
        "c(5, 10, 15, 20) %>% map_dfr(f)"
      ],
      "id": "134c8c77-90da-4ddf-b468-b0db889884b8"
    },
    {
      "cell_type": "code",
      "execution_count": null,
      "metadata": {
        "id": "423b4894-28c2-44c8-b695-8ef0a7ce5010"
      },
      "outputs": [],
      "source": [
        "g <- function(x) {\n",
        "  n <- length(x)\n",
        "  sd(x) *\n",
        "    sqrt((n - 1) / 2) *\n",
        "    gamma((n - 1) / 2) /\n",
        "    gamma(n / 2)\n",
        "}\n",
        "c(10, 20, 30) %>% map_dfr(f)"
      ],
      "id": "423b4894-28c2-44c8-b695-8ef0a7ce5010"
    },
    {
      "id": "9bd78044",
      "cell_type": "markdown",
      "source": [
        "## 4.4 統計的推測"
      ],
      "metadata": {
        "id": "9bd78044"
      }
    },
    {
      "cell_type": "code",
      "execution_count": null,
      "metadata": {
        "id": "fbd5a69f-55cd-49c5-a130-c087cbb017ac"
      },
      "outputs": [],
      "source": [
        "library(exactci)\n",
        "library(tidyverse)\n",
        "\n",
        "a <- 0.05                              # 有意水準\n",
        "binom.exact(x = 2,                     # 当たった回数\n",
        "            n = 15,                    # くじを引いた回数\n",
        "            p = 4 / 10,                # 当たる確率（仮説）\n",
        "            plot = TRUE,               # p値の描画（結果は次項に掲載）\n",
        "            conf.level = 1 - a,        # 信頼係数（デフォルト）\n",
        "            tsmethod = \"minlike\",      # p値の定義\n",
        "            alternative = \"two.sided\") # 両側検定（デフォルト）\n",
        "                                       # 左片側検定なら'less'\n",
        "                                       # 右片側検定なら'greater'\n"
      ],
      "id": "fbd5a69f-55cd-49c5-a130-c087cbb017ac"
    },
    {
      "cell_type": "code",
      "execution_count": null,
      "metadata": {
        "id": "4023b619-0d6f-4e3b-82cb-b3415964024e"
      },
      "outputs": [],
      "source": [
        "t <- 4 / 10               # 当たる確率\n",
        "n <- 15                   # くじを引いた回数\n",
        "x <- 0:n                  # 当たった回数\n",
        "my_pr  <- dbinom(x, n, t) # x回当たる確率\n",
        "my_pr2 <- dbinom(2, n, t) # 2回当たる確率\n",
        "\n",
        "my_data <- data.frame(x = x,\n",
        "                      probability = my_pr,\n",
        "                      color = my_pr <= my_pr2) # 当たる確率が，2回当たる確率以下\n",
        "\n",
        "my_data %>% ggplot(aes(x = x, y = probability, color = color)) +\n",
        "  geom_point(size = 3) +\n",
        "  geom_linerange(aes(ymin = 0, ymax = probability), ) + # 垂直線\n",
        "  geom_hline(yintercept = my_pr2) +                     # 水平線\n",
        "  theme(legend.position = \"none\")                       # 凡例を表示しない．"
      ],
      "id": "4023b619-0d6f-4e3b-82cb-b3415964024e"
    },
    {
      "cell_type": "code",
      "execution_count": null,
      "metadata": {
        "id": "46e6f53a-157c-4798-b31b-fa3f040da826"
      },
      "outputs": [],
      "source": [
        "# 前項の結果（再掲）"
      ],
      "id": "46e6f53a-157c-4798-b31b-fa3f040da826"
    },
    {
      "cell_type": "code",
      "execution_count": null,
      "metadata": {
        "id": "3881d162-10d0-40b6-a6fe-8e496387bb95"
      },
      "outputs": [],
      "source": [
        "# 前項冒頭のコード"
      ],
      "id": "3881d162-10d0-40b6-a6fe-8e496387bb95"
    },
    {
      "cell_type": "code",
      "execution_count": null,
      "metadata": {
        "id": "ac32dbf2-8902-42f8-807d-e9ff81391029"
      },
      "outputs": [],
      "source": [
        "X <- c(32.1, 26.2, 27.5, 31.8, 32.1, 31.2, 30.1, 32.4, 32.3, 29.9,\n",
        "       29.6, 26.6, 31.2, 30.9, 29.3)\n",
        "Y <- c(35.4, 34.6, 31.1, 32.4, 33.3, 34.7, 35.3, 34.3, 32.1, 28.3,\n",
        "       33.3, 30.5, 32.6, 33.3, 32.2)\n",
        "\n",
        "t.test(x = X, y = Y,\n",
        "       conf.level = 0.95,         # 信頼係数（デフォルト）\n",
        "       paired = TRUE,             # 対標本である．\n",
        "       alternative = \"two.sided\") # 両側検定（デフォルト）\n",
        "                                  # 左片側検定なら'less'\n",
        "                                  # 右片側検定なら'greater'\n"
      ],
      "id": "ac32dbf2-8902-42f8-807d-e9ff81391029"
    },
    {
      "cell_type": "code",
      "execution_count": null,
      "metadata": {
        "id": "324e4227-e009-4479-9b87-31c56f067c6c"
      },
      "outputs": [],
      "source": [
        "t.test(x = X, y = Y,\n",
        "       paired = FALSE,   # 対標本ではない（デフォルト）．\n",
        "       var.equal = TRUE, # 等分散を仮定する．仮定しないならFALSE（デフォルト）．\n",
        "       alternative = \"two.sided\",\n",
        "       conf.level = 0.95)\n"
      ],
      "id": "324e4227-e009-4479-9b87-31c56f067c6c"
    },
    {
      "cell_type": "code",
      "execution_count": null,
      "metadata": {
        "id": "5ce2af15-c677-49ee-a5b1-551bd72bb5d1"
      },
      "outputs": [],
      "source": [
        "my_url <- str_c(\"https://raw.githubusercontent.com/taroyabuki\",\n",
        "                \"/fromzero/master/data/smoker.csv\")\n",
        "my_data <- read_csv(my_url)"
      ],
      "id": "5ce2af15-c677-49ee-a5b1-551bd72bb5d1"
    },
    {
      "cell_type": "code",
      "execution_count": null,
      "metadata": {
        "id": "4663a62f-55e7-4b89-8f37-a35bd1ca53c4"
      },
      "outputs": [],
      "source": [
        "head(my_data)"
      ],
      "id": "4663a62f-55e7-4b89-8f37-a35bd1ca53c4"
    },
    {
      "cell_type": "code",
      "execution_count": null,
      "metadata": {
        "id": "392c713e-45c1-4566-8e77-ee2c47c849ca"
      },
      "outputs": [],
      "source": [
        "my_table <- table(my_data)\n",
        "my_table"
      ],
      "id": "392c713e-45c1-4566-8e77-ee2c47c849ca"
    },
    {
      "cell_type": "code",
      "execution_count": null,
      "metadata": {
        "id": "0fd5f989-1195-47b0-a8eb-d3acd3e2a06d"
      },
      "outputs": [],
      "source": [
        "chisq.test(my_table, correct = FALSE)\n"
      ],
      "id": "0fd5f989-1195-47b0-a8eb-d3acd3e2a06d"
    },
    {
      "cell_type": "code",
      "execution_count": null,
      "metadata": {
        "id": "1f0b0503-9508-42f2-8289-4f569c07718b"
      },
      "outputs": [],
      "source": [
        "X <- rep(0:1, c(13, 2)) # 手順1\n",
        "X\n",
        "\n",
        "tmp <- sample(X, size = length(X), replace = TRUE) # 手順2\n",
        "tmp\n",
        "\n",
        "sum(tmp) # 手順3\n",
        "\n",
        "n <- 10^5\n",
        "result <- replicate(n, sum(sample(X, size = length(X), replace = TRUE))) # 手順4"
      ],
      "id": "1f0b0503-9508-42f2-8289-4f569c07718b"
    },
    {
      "cell_type": "code",
      "execution_count": null,
      "metadata": {
        "id": "85807c20-7101-41b1-9976-73f57a60a956"
      },
      "outputs": [],
      "source": [
        "hist(x = result, breaks = 0:15,\n",
        "     right = FALSE)"
      ],
      "id": "85807c20-7101-41b1-9976-73f57a60a956"
    },
    {
      "cell_type": "code",
      "execution_count": null,
      "metadata": {
        "id": "cbdfbd07-b280-4452-9f75-c98ffab5575f"
      },
      "outputs": [],
      "source": [
        "quantile(result, c(0.025, 0.975))"
      ],
      "id": "cbdfbd07-b280-4452-9f75-c98ffab5575f"
    },
    {
      "id": "4acc9970",
      "cell_type": "markdown",
      "source": [
        "# 5 前処理"
      ],
      "metadata": {
        "id": "4acc9970"
      }
    },
    {
      "cell_type": "code",
      "execution_count": null,
      "metadata": {
        "id": "0b310cc8-35b2-49d6-8674-ec02834a1e67"
      },
      "outputs": [],
      "source": [
        "# Google Colaboratoryの環境設定\n",
        "if (file.exists(\"/content\")) {\n",
        "  options(Ncpus = parallel::detectCores())\n",
        "  installed_packages <- rownames(installed.packages())\n",
        "  packages_to_install <- c(\"caret\")\n",
        "  install.packages(setdiff(packages_to_install, installed_packages))\n",
        "}"
      ],
      "id": "0b310cc8-35b2-49d6-8674-ec02834a1e67"
    },
    {
      "id": "9bf6c18b",
      "cell_type": "markdown",
      "source": [
        "## 5.1 データの読み込み"
      ],
      "metadata": {
        "id": "9bf6c18b"
      }
    },
    {
      "cell_type": "code",
      "execution_count": null,
      "metadata": {
        "id": "ed46ebf9-bed4-45fb-8639-7e3c39c0d01d"
      },
      "outputs": [],
      "source": [
        "library(tidyverse)\n",
        "system(str_c(\"wget https://raw.githubusercontent.com/taroyabuki\",\n",
        "             \"/fromzero/master/data/exam.csv\"))"
      ],
      "id": "ed46ebf9-bed4-45fb-8639-7e3c39c0d01d"
    },
    {
      "cell_type": "code",
      "execution_count": null,
      "metadata": {
        "id": "c2c311a7-8a49-4127-a179-275b2d8056ab"
      },
      "outputs": [],
      "source": [
        "my_df <- read_csv(\"exam.csv\")\n",
        "# あるいは\n",
        "my_df <- read.csv(\"exam.csv\",\n",
        "  stringsAsFactors = FALSE)\n",
        "\n",
        "my_df"
      ],
      "id": "c2c311a7-8a49-4127-a179-275b2d8056ab"
    },
    {
      "cell_type": "code",
      "execution_count": null,
      "metadata": {
        "id": "4bef7a28-3f33-4ba8-a8e1-f904dd9736e6"
      },
      "outputs": [],
      "source": [
        "my_url <- str_c(\"https://raw.githubusercontent.com/taroyabuki\",\n",
        "                \"/fromzero/master/data/exam.csv\")\n",
        "my_df <- read_csv(my_url)\n",
        "# あるいは\n",
        "my_df <- read.csv(my_url, stringsAsFactors = FALSE)"
      ],
      "id": "4bef7a28-3f33-4ba8-a8e1-f904dd9736e6"
    },
    {
      "cell_type": "code",
      "execution_count": null,
      "metadata": {
        "id": "92f36f04-a6d7-43c8-821d-0552a9514767"
      },
      "outputs": [],
      "source": [
        "my_df2 <- read.csv(\n",
        "  file = \"exam.csv\",\n",
        "  stringsAsFactors = FALSE,\n",
        "  row.names = 1)\n",
        "my_df2"
      ],
      "id": "92f36f04-a6d7-43c8-821d-0552a9514767"
    },
    {
      "cell_type": "code",
      "execution_count": null,
      "metadata": {
        "id": "79c53431-e0a6-4107-8d14-b3a18d0fd2d2"
      },
      "outputs": [],
      "source": [
        "my_df %>% write_csv(\"exam2.csv\")\n",
        "# あるいは\n",
        "my_df %>% write.csv(\n",
        "  file = \"exam2.csv\",\n",
        "  row.names = FALSE)"
      ],
      "id": "79c53431-e0a6-4107-8d14-b3a18d0fd2d2"
    },
    {
      "cell_type": "code",
      "execution_count": null,
      "metadata": {
        "id": "147d8616-dd28-4acf-983e-4dc6abca2684"
      },
      "outputs": [],
      "source": [
        "my_df2 %>% write.csv(\"exam3.csv\")"
      ],
      "id": "147d8616-dd28-4acf-983e-4dc6abca2684"
    },
    {
      "cell_type": "code",
      "execution_count": null,
      "metadata": {
        "id": "c493566b-cf92-4162-abbb-2f10510c0ee5"
      },
      "outputs": [],
      "source": [
        "my_df <- read_csv(file = \"exam.csv\",\n",
        "  locale = locale(encoding = \"UTF-8\"))\n",
        "# あるいは\n",
        "my_df <- read.csv(file = \"exam.csv\",\n",
        "  stringsAsFactors = FALSE,\n",
        "  fileEncoding = \"UTF-8\")"
      ],
      "id": "c493566b-cf92-4162-abbb-2f10510c0ee5"
    },
    {
      "cell_type": "code",
      "execution_count": null,
      "metadata": {
        "id": "91ac796e-f43e-41c9-87ba-d73493e81a22"
      },
      "outputs": [],
      "source": [
        "my_df %>% write_csv(\"exam2.csv\")\n",
        "# あるいは\n",
        "my_df %>% write.csv(file = \"exam2.csv\", row.names = FALSE,\n",
        "                    fileEncoding = \"UTF-8\")"
      ],
      "id": "91ac796e-f43e-41c9-87ba-d73493e81a22"
    },
    {
      "cell_type": "code",
      "execution_count": null,
      "metadata": {
        "id": "d80cbd39-a53d-4458-a09c-5ee2533b8246"
      },
      "outputs": [],
      "source": [
        "my_url <- \"https://taroyabuki.github.io/fromzero/exam.html\"\n",
        "my_tables <- xml2::read_html(my_url) %>% rvest::html_table()"
      ],
      "id": "d80cbd39-a53d-4458-a09c-5ee2533b8246"
    },
    {
      "cell_type": "code",
      "execution_count": null,
      "metadata": {
        "id": "9825c484-7457-41b0-93f6-d05c628f80e4"
      },
      "outputs": [],
      "source": [
        "my_tables"
      ],
      "id": "9825c484-7457-41b0-93f6-d05c628f80e4"
    },
    {
      "cell_type": "code",
      "execution_count": null,
      "metadata": {
        "id": "8cf0ffc1-acbf-48bd-9e3c-64ebe2f36fc2"
      },
      "outputs": [],
      "source": [
        "tmp <- my_tables[[1]]\n",
        "tmp"
      ],
      "id": "8cf0ffc1-acbf-48bd-9e3c-64ebe2f36fc2"
    },
    {
      "cell_type": "code",
      "execution_count": null,
      "metadata": {
        "id": "bb033e5d-fd31-4c71-a919-1f66804f85f4"
      },
      "outputs": [],
      "source": [
        "# 1行目のデータを使って列の名前を付け直す．\n",
        "colnames(tmp) <- tmp[1, ]\n",
        "\n",
        "# 1行目と1列目を削除する．\n",
        "my_data <- tmp[-1, -1]\n",
        "my_data"
      ],
      "id": "bb033e5d-fd31-4c71-a919-1f66804f85f4"
    },
    {
      "cell_type": "code",
      "execution_count": null,
      "metadata": {
        "id": "f7d3887f-e229-43f8-b936-c95f19e5dad2"
      },
      "outputs": [],
      "source": [
        "library(jsonlite)\n",
        "my_url <- str_c(\"https://raw.githubusercontent.com/taroyabuki\",\n",
        "                \"/fromzero/master/data/exam.json\")\n",
        "my_data <- fromJSON(my_url)\n",
        "#my_data <- fromJSON(\"exam.json\") # （ファイルを使う場合）\n",
        "my_data"
      ],
      "id": "f7d3887f-e229-43f8-b936-c95f19e5dad2"
    },
    {
      "cell_type": "code",
      "execution_count": null,
      "metadata": {
        "id": "08d44f32-b3b7-46f3-bc37-67544d5187ae"
      },
      "outputs": [],
      "source": [
        "library(xml2)\n",
        "my_url <- str_c(\"https://raw.githubusercontent.com/taroyabuki\",\n",
        "                \"/fromzero/master/data/exam.xml\")\n",
        "my_xml <- read_xml(my_url)      # XMLデータの読み込み\n",
        "#my_xml <- read_xml(\"exam.xml\") # （ファイルを使う場合）\n",
        "xml_ns(my_xml)                  # 名前空間の確認（d1）"
      ],
      "id": "08d44f32-b3b7-46f3-bc37-67544d5187ae"
    },
    {
      "cell_type": "code",
      "execution_count": null,
      "metadata": {
        "id": "2dc7dd46-6e30-4db1-9cad-645b7a90dcfc"
      },
      "outputs": [],
      "source": [
        "my_records <- xml_find_all(my_xml, \".//d1:record\")"
      ],
      "id": "2dc7dd46-6e30-4db1-9cad-645b7a90dcfc"
    },
    {
      "cell_type": "code",
      "execution_count": null,
      "metadata": {
        "id": "6170e962-7024-4552-b740-5ec22efdbb58"
      },
      "outputs": [],
      "source": [
        "f <- function(record) {\n",
        "  tmp <- xml_attrs(record)                    # 属性を全て取り出し，\n",
        "  xml_children(record) %>% walk(function(e) {\n",
        "    tmp[xml_name(e)] <<- xml_text(e)          # 子要素の名前と内容を追加する．\n",
        "  })\n",
        "  tmp\n",
        "}"
      ],
      "id": "6170e962-7024-4552-b740-5ec22efdbb58"
    },
    {
      "cell_type": "code",
      "execution_count": null,
      "metadata": {
        "id": "49ce41d0-cae8-4b0e-8fcb-8d876dfad0f9"
      },
      "outputs": [],
      "source": [
        "my_data <- my_records %>% map_dfr(f)\n",
        "my_data$english <- as.numeric(my_data$english)\n",
        "my_data$math    <- as.numeric(my_data$math)\n",
        "my_data"
      ],
      "id": "49ce41d0-cae8-4b0e-8fcb-8d876dfad0f9"
    },
    {
      "id": "ddd1bcbe",
      "cell_type": "markdown",
      "source": [
        "## 5.2 データの変換"
      ],
      "metadata": {
        "id": "ddd1bcbe"
      }
    },
    {
      "cell_type": "code",
      "execution_count": null,
      "metadata": {
        "id": "bc4fc06d-61f1-47e2-9cd2-3c6b5a8ac6a5"
      },
      "outputs": [],
      "source": [
        "x1 <- c(1, 2, 3)\n",
        "\n",
        "z1 <- scale(x1)\n",
        "# あるいは\n",
        "z1 <- (x1 - mean(x1)) / sd(x1)\n",
        "\n",
        "z1"
      ],
      "id": "bc4fc06d-61f1-47e2-9cd2-3c6b5a8ac6a5"
    },
    {
      "cell_type": "code",
      "execution_count": null,
      "metadata": {
        "id": "f6fd5b74-69bc-4b36-91cb-7afe9ab6df18"
      },
      "outputs": [],
      "source": [
        "c(mean(z1), sd(z1))"
      ],
      "id": "f6fd5b74-69bc-4b36-91cb-7afe9ab6df18"
    },
    {
      "cell_type": "code",
      "execution_count": null,
      "metadata": {
        "id": "40b5d359-0462-4793-913a-bbbc7e526aab"
      },
      "outputs": [],
      "source": [
        "z1 * sd(x1) + mean(x1)"
      ],
      "id": "40b5d359-0462-4793-913a-bbbc7e526aab"
    },
    {
      "cell_type": "code",
      "execution_count": null,
      "metadata": {
        "id": "2dae2a79-4930-4742-adb3-edc2b8e4b3fc"
      },
      "outputs": [],
      "source": [
        "x2 <- c(1, 3, 5)\n",
        "z2 <- (x2 - mean(x1)) / sd(x1)\n",
        "c(mean(z2), sd(z2))"
      ],
      "id": "2dae2a79-4930-4742-adb3-edc2b8e4b3fc"
    },
    {
      "cell_type": "code",
      "execution_count": null,
      "metadata": {
        "id": "756ba26b-ecc2-4868-81d1-e60c9a2acfcc"
      },
      "outputs": [],
      "source": [
        "library(caret)\n",
        "library(tidyverse)\n",
        "\n",
        "my_df <- data.frame(\n",
        "  id = c(1, 2, 3),\n",
        "  class = as.factor(\n",
        "    c(\"A\", \"B\", \"C\")))\n",
        "\n",
        "my_enc <- my_df %>%\n",
        "  dummyVars(formula = ~ .)\n",
        "\n",
        "my_enc %>% predict(my_df)"
      ],
      "id": "756ba26b-ecc2-4868-81d1-e60c9a2acfcc"
    },
    {
      "cell_type": "code",
      "execution_count": null,
      "metadata": {
        "id": "59364149-100d-492d-9ee4-f7105dd407ec"
      },
      "outputs": [],
      "source": [
        "my_df2 <- data.frame(\n",
        "  id =    c( 4 ,  5 ,  6 ),\n",
        "  class = c(\"B\", \"C\", \"B\"))\n",
        "my_enc %>% predict(my_df2)"
      ],
      "id": "59364149-100d-492d-9ee4-f7105dd407ec"
    },
    {
      "cell_type": "code",
      "execution_count": null,
      "metadata": {
        "id": "41b80085-1f63-4504-9cf2-0305e5764bfa"
      },
      "outputs": [],
      "source": [
        "my_enc <- my_df %>%\n",
        "  dummyVars(formula = ~ .,\n",
        "            fullRank = TRUE)\n",
        "my_enc %>% predict(my_df)\n",
        "\n",
        "my_enc %>% predict(my_df2)"
      ],
      "id": "41b80085-1f63-4504-9cf2-0305e5764bfa"
    },
    {
      "id": "55c11048",
      "cell_type": "markdown",
      "source": [
        "# 6 機械学習の目的・データ・手法\n",
        "\n",
        "\n"
      ],
      "metadata": {
        "id": "55c11048"
      }
    },
    {
      "id": "cc79821c",
      "cell_type": "markdown",
      "source": [
        "## 6.1 機械学習の目的（本書の場合）\n",
        "\n",
        "\n"
      ],
      "metadata": {
        "id": "cc79821c"
      }
    },
    {
      "id": "ff4bae39",
      "cell_type": "markdown",
      "source": [
        "## 6.2 機械学習のためのデータ"
      ],
      "metadata": {
        "id": "ff4bae39"
      }
    },
    {
      "cell_type": "code",
      "execution_count": null,
      "metadata": {
        "id": "a89db4e1-cecb-4129-956e-5cec4134db32"
      },
      "outputs": [],
      "source": [
        "iris\n",
        "# 以下省略"
      ],
      "id": "a89db4e1-cecb-4129-956e-5cec4134db32"
    },
    {
      "id": "38a8c244",
      "cell_type": "markdown",
      "source": [
        "## 6.3 機械学習のための手法\n",
        "\n",
        "\n"
      ],
      "metadata": {
        "id": "38a8c244"
      }
    },
    {
      "id": "90969a63",
      "cell_type": "markdown",
      "source": [
        "# 7 回帰1（単回帰）"
      ],
      "metadata": {
        "id": "90969a63"
      }
    },
    {
      "cell_type": "code",
      "execution_count": null,
      "metadata": {
        "id": "598c753a-e80e-4aae-916a-4f1c85edf1c5"
      },
      "outputs": [],
      "source": [
        "# Google Colaboratoryの環境設定\n",
        "if (file.exists(\"/content\")) {\n",
        "  options(Ncpus = parallel::detectCores())\n",
        "  installed_packages <- rownames(installed.packages())\n",
        "  packages_to_install <- c(\"caret\", \"doParallel\", \"pastecs\")\n",
        "  install.packages(setdiff(packages_to_install, installed_packages))\n",
        "}"
      ],
      "id": "598c753a-e80e-4aae-916a-4f1c85edf1c5"
    },
    {
      "id": "ba6a9b5b",
      "cell_type": "markdown",
      "source": [
        "## 7.1 自動車の停止距離\n",
        "\n",
        "\n"
      ],
      "metadata": {
        "id": "ba6a9b5b"
      }
    },
    {
      "id": "2b356d36",
      "cell_type": "markdown",
      "source": [
        "## 7.2 データの確認"
      ],
      "metadata": {
        "id": "2b356d36"
      }
    },
    {
      "cell_type": "code",
      "execution_count": null,
      "metadata": {
        "id": "2f2d4726-23f7-4b55-b846-a477fb1d65eb"
      },
      "outputs": [],
      "source": [
        "library(caret)\n",
        "library(tidyverse)\n",
        "my_data <- cars"
      ],
      "id": "2f2d4726-23f7-4b55-b846-a477fb1d65eb"
    },
    {
      "cell_type": "code",
      "execution_count": null,
      "metadata": {
        "id": "ec35888d-95a6-4def-9f12-93e6ca2f665c"
      },
      "outputs": [],
      "source": [
        "dim(my_data)"
      ],
      "id": "ec35888d-95a6-4def-9f12-93e6ca2f665c"
    },
    {
      "cell_type": "code",
      "execution_count": null,
      "metadata": {
        "id": "a53ca8a4-1401-4a7b-bf8c-4103fe579815"
      },
      "outputs": [],
      "source": [
        "head(my_data)"
      ],
      "id": "a53ca8a4-1401-4a7b-bf8c-4103fe579815"
    },
    {
      "cell_type": "code",
      "execution_count": null,
      "metadata": {
        "id": "3a49534a-04e8-4660-9806-23998b785c7c"
      },
      "outputs": [],
      "source": [
        "options(digits = 3)\n",
        "pastecs::stat.desc(my_data)"
      ],
      "id": "3a49534a-04e8-4660-9806-23998b785c7c"
    },
    {
      "cell_type": "code",
      "execution_count": null,
      "metadata": {
        "id": "09da10f9-4de4-4a53-ae04-f8a15cca9ad7"
      },
      "outputs": [],
      "source": [
        "my_data %>%\n",
        "  ggplot(aes(x = speed, y = dist)) +\n",
        "  geom_point()"
      ],
      "id": "09da10f9-4de4-4a53-ae04-f8a15cca9ad7"
    },
    {
      "id": "118c6cd1",
      "cell_type": "markdown",
      "source": [
        "## 7.3 回帰分析"
      ],
      "metadata": {
        "id": "118c6cd1"
      }
    },
    {
      "cell_type": "code",
      "execution_count": null,
      "metadata": {
        "id": "24f57cb0-965f-4f4f-9dca-32f63998a47c"
      },
      "outputs": [],
      "source": [
        "library(tidyverse)\n",
        "\n",
        "my_data <- cars\n",
        "tmp <- data.frame(speed = 21.5, dist = 67)\n",
        "my_data %>% ggplot(aes(x = speed, y = dist)) +\n",
        "  coord_cartesian(xlim = c(4, 25), ylim = c(0, 120)) +\n",
        "  geom_point() +\n",
        "  stat_smooth(formula = y ~ x, method = \"lm\") +\n",
        "  geom_pointrange(data = tmp, aes(ymin = -9, ymax = dist),  linetype = \"dotted\") +\n",
        "  geom_pointrange(data = tmp, aes(xmin =  0, xmax = speed), linetype = \"dotted\")"
      ],
      "id": "24f57cb0-965f-4f4f-9dca-32f63998a47c"
    },
    {
      "cell_type": "code",
      "execution_count": null,
      "metadata": {
        "id": "af98f0d4-6e00-43ed-b887-cafd38741b90"
      },
      "outputs": [],
      "source": [
        "library(caret)\n",
        "library(tidyverse)\n",
        "my_data <- cars"
      ],
      "id": "af98f0d4-6e00-43ed-b887-cafd38741b90"
    },
    {
      "cell_type": "code",
      "execution_count": null,
      "metadata": {
        "id": "4aa02a77-f1ba-4380-af60-78cc414db4c6"
      },
      "outputs": [],
      "source": [
        "my_model <- train(form = dist ~ speed, # モデル式（出力変数と入力変数の関係）\n",
        "                  data = my_data,      # データ\n",
        "                  method = \"lm\")       # 手法"
      ],
      "id": "4aa02a77-f1ba-4380-af60-78cc414db4c6"
    },
    {
      "cell_type": "code",
      "execution_count": null,
      "metadata": {
        "id": "d51e5021-2e18-4678-a749-b6a7c63f64b8"
      },
      "outputs": [],
      "source": [
        "coef(my_model$finalModel)"
      ],
      "id": "d51e5021-2e18-4678-a749-b6a7c63f64b8"
    },
    {
      "cell_type": "code",
      "execution_count": null,
      "metadata": {
        "id": "4e453065-83d1-491f-b8d6-e8b3a6591ec7"
      },
      "outputs": [],
      "source": [
        "tmp <- data.frame(speed = 21.5)\n",
        "my_model %>% predict(tmp)"
      ],
      "id": "4e453065-83d1-491f-b8d6-e8b3a6591ec7"
    },
    {
      "cell_type": "code",
      "execution_count": null,
      "metadata": {
        "id": "79c53261-cc3d-485f-8b05-fc0a50640fee"
      },
      "outputs": [],
      "source": [
        "f <- function(x) { my_model %>% predict(data.frame(speed = x)) }"
      ],
      "id": "79c53261-cc3d-485f-8b05-fc0a50640fee"
    },
    {
      "cell_type": "code",
      "execution_count": null,
      "metadata": {
        "id": "c3258c3e-8197-4c8c-b174-a15adce0228d"
      },
      "outputs": [],
      "source": [
        "my_data %>%\n",
        "  ggplot(aes(x = speed, y = dist,\n",
        "             color = \"data\")) +\n",
        "  geom_point() +\n",
        "  stat_function(\n",
        "    fun = f,\n",
        "    mapping = aes(color = \"model\"))"
      ],
      "id": "c3258c3e-8197-4c8c-b174-a15adce0228d"
    },
    {
      "id": "95592be7",
      "cell_type": "markdown",
      "source": [
        "## 7.4 当てはまりの良さの指標"
      ],
      "metadata": {
        "id": "95592be7"
      }
    },
    {
      "cell_type": "code",
      "execution_count": null,
      "metadata": {
        "id": "672dedac-f454-4d99-85b0-4ea3ebd69ba0"
      },
      "outputs": [],
      "source": [
        "library(caret)\n",
        "library(tidyverse)\n",
        "my_data <- cars\n",
        "my_model <- train(form = dist ~ speed, data = my_data, method = \"lm\")\n",
        "\n",
        "y  <- my_data$dist\n",
        "y_ <- my_model %>% predict(my_data)\n",
        "my_data$y_ <- y_"
      ],
      "id": "672dedac-f454-4d99-85b0-4ea3ebd69ba0"
    },
    {
      "cell_type": "code",
      "execution_count": null,
      "metadata": {
        "id": "0ad95ca3-4860-4b0f-b453-863e942c8b7b"
      },
      "outputs": [],
      "source": [
        "my_data$residual <- y - y_\n",
        "head(my_data)"
      ],
      "id": "0ad95ca3-4860-4b0f-b453-863e942c8b7b"
    },
    {
      "cell_type": "code",
      "execution_count": null,
      "metadata": {
        "id": "c255c5dc-bde2-4a69-bce8-e686162109eb"
      },
      "outputs": [],
      "source": [
        "my_data %>%\n",
        "  ggplot(aes(x = speed, y = dist)) +\n",
        "  geom_point() +\n",
        "  geom_line(aes(x = speed, y = y_)) +\n",
        "  geom_linerange(mapping = aes(ymin = y_, ymax = dist), linetype = \"dotted\")"
      ],
      "id": "c255c5dc-bde2-4a69-bce8-e686162109eb"
    },
    {
      "cell_type": "code",
      "execution_count": null,
      "metadata": {
        "id": "083b6079-e8dc-4fbd-9f66-9a047caa1080"
      },
      "outputs": [],
      "source": [
        "RMSE(y_, y)\n",
        "# あるいは\n",
        "mean((my_data$residual^2))**0.5\n"
      ],
      "id": "083b6079-e8dc-4fbd-9f66-9a047caa1080"
    },
    {
      "cell_type": "code",
      "execution_count": null,
      "metadata": {
        "id": "a77ee473-887e-4a1f-be24-3f778df58541"
      },
      "outputs": [],
      "source": [
        "R2(pred = y_, obs = y,\n",
        "   form = \"traditional\")"
      ],
      "id": "a77ee473-887e-4a1f-be24-3f778df58541"
    },
    {
      "cell_type": "code",
      "execution_count": null,
      "metadata": {
        "id": "0f249b5d-4aa6-4465-8bb1-dd084d03c177"
      },
      "outputs": [],
      "source": [
        "R2(pred = y_, obs = y,\n",
        "   form = \"corr\")\n",
        "# あるいは\n",
        "summary(my_model$finalModel)$r.squared"
      ],
      "id": "0f249b5d-4aa6-4465-8bb1-dd084d03c177"
    },
    {
      "cell_type": "code",
      "execution_count": null,
      "metadata": {
        "id": "30a95286-2142-4a72-bf17-f3dde2429d9a"
      },
      "outputs": [],
      "source": [
        "my_test <- my_data[1:3, ]\n",
        "y  <- my_test$dist\n",
        "y_ <- my_model %>% predict(my_test)\n",
        "\n",
        "R2(pred = y_, obs = y,\n",
        "   form = \"traditional\")\n",
        "\n",
        "R2(pred = y_, obs = y,\n",
        "   form = \"corr\")"
      ],
      "id": "30a95286-2142-4a72-bf17-f3dde2429d9a"
    },
    {
      "cell_type": "code",
      "execution_count": null,
      "metadata": {
        "id": "bef7b650-27a2-49f6-8e4d-17c53a635702"
      },
      "outputs": [],
      "source": [
        "library(caret)\n",
        "library(tidyverse)\n",
        "my_data <- cars\n",
        "my_idx <- c(2, 11, 27, 34, 39, 44)\n",
        "my_sample <- my_data[my_idx, ]"
      ],
      "id": "bef7b650-27a2-49f6-8e4d-17c53a635702"
    },
    {
      "cell_type": "code",
      "execution_count": null,
      "metadata": {
        "id": "f11e71fd-8a5e-4160-97e5-330f63daddbd"
      },
      "outputs": [],
      "source": [
        "options(warn = -1) # これ以降，警告を表示しない．\n",
        "my_model <- train(form = dist ~ poly(speed, degree = 5, raw = TRUE),\n",
        "                  data = my_sample,\n",
        "                  method = \"lm\")\n",
        "options(warn = 0)  # これ以降，警告を表示する．\n",
        "\n",
        "y  <- my_sample$dist\n",
        "y_ <- my_model %>% predict(my_sample)"
      ],
      "id": "f11e71fd-8a5e-4160-97e5-330f63daddbd"
    },
    {
      "cell_type": "code",
      "execution_count": null,
      "metadata": {
        "id": "f48f818b-5799-405c-9304-e0b7aee05094"
      },
      "outputs": [],
      "source": [
        "RMSE(y_, y)\n",
        "\n",
        "R2(pred = y_, obs = y,\n",
        "   form = \"traditional\")\n",
        "\n",
        "R2(pred = y_, obs = y,\n",
        "   form = \"corr\")"
      ],
      "id": "f48f818b-5799-405c-9304-e0b7aee05094"
    },
    {
      "cell_type": "code",
      "execution_count": null,
      "metadata": {
        "id": "306e2ae0-fee7-449e-a902-91bc6352da7d"
      },
      "outputs": [],
      "source": [
        "f <- function(x) { my_model %>% predict(data.frame(speed = x)) }\n",
        "\n",
        "my_data %>%\n",
        "  ggplot(aes(x = speed, y = dist, color = \"data\")) +\n",
        "  geom_point() +\n",
        "  geom_point(data = my_sample, mapping = aes(color = \"sample\")) +\n",
        "  stat_function(fun = f, mapping = aes(color = \"model\")) +\n",
        "  coord_cartesian(ylim = c(0, 120))"
      ],
      "id": "306e2ae0-fee7-449e-a902-91bc6352da7d"
    },
    {
      "id": "60724521",
      "cell_type": "markdown",
      "source": [
        "## 7.5 K最近傍法"
      ],
      "metadata": {
        "id": "60724521"
      }
    },
    {
      "cell_type": "code",
      "execution_count": null,
      "metadata": {
        "id": "b46f361d-2b39-42d1-9f32-822a8edc7620"
      },
      "outputs": [],
      "source": [
        "# 準備\n",
        "library(caret)\n",
        "library(tidyverse)\n",
        "my_data <- cars\n",
        "\n",
        "# 訓練\n",
        "my_model <- train(form = dist ~ speed, data = my_data, method = \"knn\")\n",
        "\n",
        "# 可視化の準備\n",
        "f <- function(x) { my_model %>% predict(data.frame(speed = x))}"
      ],
      "id": "b46f361d-2b39-42d1-9f32-822a8edc7620"
    },
    {
      "cell_type": "code",
      "execution_count": null,
      "metadata": {
        "id": "f4464028-3e82-4c06-875f-8b55d0cf5299"
      },
      "outputs": [],
      "source": [
        "my_data %>%\n",
        "  ggplot(aes(x = speed,\n",
        "             y = dist,\n",
        "             color = \"data\")) +\n",
        "  geom_point() +\n",
        "  stat_function(\n",
        "    fun = f,\n",
        "    mapping = aes(color = \"model\"))"
      ],
      "id": "f4464028-3e82-4c06-875f-8b55d0cf5299"
    },
    {
      "cell_type": "code",
      "execution_count": null,
      "metadata": {
        "id": "ebfd3fca-b4ef-4ee2-a5cf-ffc8673c7f19"
      },
      "outputs": [],
      "source": [
        "y  <- my_data$dist\n",
        "y_ <- my_model %>% predict(my_data)\n",
        "\n",
        "RMSE(y_, y)\n",
        "\n",
        "R2(pred = y_, obs = y,\n",
        "   form = \"traditional\")\n",
        "\n",
        "R2(pred = y_, obs = y,\n",
        "   form = \"corr\")"
      ],
      "id": "ebfd3fca-b4ef-4ee2-a5cf-ffc8673c7f19"
    },
    {
      "id": "397310f4",
      "cell_type": "markdown",
      "source": [
        "## 7.6 検証"
      ],
      "metadata": {
        "id": "397310f4"
      }
    },
    {
      "cell_type": "code",
      "execution_count": null,
      "metadata": {
        "id": "3691446e-d574-4964-ab63-0019a23be7d5"
      },
      "outputs": [],
      "source": [
        "library(caret)\n",
        "library(tidyverse)\n",
        "my_data <- cars\n",
        "my_model <- train(form = dist ~ speed, data = my_data, method = \"lm\")\n",
        "\n",
        "my_model$results"
      ],
      "id": "3691446e-d574-4964-ab63-0019a23be7d5"
    },
    {
      "cell_type": "code",
      "execution_count": null,
      "metadata": {
        "id": "43e6b6fa-db3e-4f99-b589-0a0c579ba576"
      },
      "outputs": [],
      "source": [
        "my_model <- train(form = dist ~ speed, data = my_data, method = \"lm\",\n",
        "                  trControl = trainControl(method = \"cv\", number = 5))\n",
        "my_model$results"
      ],
      "id": "43e6b6fa-db3e-4f99-b589-0a0c579ba576"
    },
    {
      "cell_type": "code",
      "execution_count": null,
      "metadata": {
        "id": "9711dca5-98a0-4c9a-8288-3c27a71e5054"
      },
      "outputs": [],
      "source": [
        "my_model <- train(form = dist ~ speed, data = my_data, method = \"lm\",\n",
        "                  trControl = trainControl(method = \"LOOCV\"))\n",
        "my_model$results"
      ],
      "id": "9711dca5-98a0-4c9a-8288-3c27a71e5054"
    },
    {
      "cell_type": "code",
      "execution_count": null,
      "metadata": {
        "id": "208d07ec-0b26-4286-b358-b7debb6fc03d"
      },
      "outputs": [],
      "source": [
        "library(doParallel)\n",
        "cl <- makeCluster(detectCores())\n",
        "registerDoParallel(cl)"
      ],
      "id": "208d07ec-0b26-4286-b358-b7debb6fc03d"
    },
    {
      "cell_type": "code",
      "execution_count": null,
      "metadata": {
        "id": "482897f2-fbde-47bb-9a76-0e318b468e79"
      },
      "outputs": [],
      "source": [
        "library(caret)\n",
        "library(tidyverse)\n",
        "my_data <- cars\n",
        "my_model <- train(form = dist ~ speed, data = my_data, method = \"lm\")\n",
        "y  <- my_data$dist\n",
        "y_ <- my_model %>% predict(my_data)"
      ],
      "id": "482897f2-fbde-47bb-9a76-0e318b468e79"
    },
    {
      "cell_type": "code",
      "execution_count": null,
      "metadata": {
        "id": "3434aaf8-8659-46a5-8de2-43bd1b9baf16"
      },
      "outputs": [],
      "source": [
        "# RMSE（訓練）\n",
        "RMSE(y_, y)\n",
        "\n",
        "# 決定係数1（訓練）\n",
        "R2(pred = y_, obs = y,\n",
        "   form = \"traditional\")\n",
        "\n",
        "# 決定係数6（訓練）\n",
        "R2(pred = y_, obs = y,\n",
        "   form = \"corr\")"
      ],
      "id": "3434aaf8-8659-46a5-8de2-43bd1b9baf16"
    },
    {
      "cell_type": "code",
      "execution_count": null,
      "metadata": {
        "id": "adee6d04-f430-4d8f-8672-91d64947a2a9"
      },
      "outputs": [],
      "source": [
        "postResample(pred = y_, obs = y)"
      ],
      "id": "adee6d04-f430-4d8f-8672-91d64947a2a9"
    },
    {
      "cell_type": "code",
      "execution_count": null,
      "metadata": {
        "id": "4b2452ec-c64c-41b0-a845-92372e71b458"
      },
      "outputs": [],
      "source": [
        "my_model <- train(form = dist ~ speed, data = my_data, method = \"lm\")\n",
        "my_model$results\n",
        "# 左から，RMSE（検証），決定係数6（検証），MAE（検証）"
      ],
      "id": "4b2452ec-c64c-41b0-a845-92372e71b458"
    },
    {
      "cell_type": "code",
      "execution_count": null,
      "metadata": {
        "id": "4733a25a-8223-4cb0-bef9-20ad71012725"
      },
      "outputs": [],
      "source": [
        "my_model <- train(form = dist ~ speed, data = my_data, method = \"lm\",\n",
        "                  trControl = trainControl(method = \"LOOCV\"))\n",
        "\n",
        "# 方法1\n",
        "my_model$results\n",
        "\n",
        "# 方法2\n",
        "y  <- my_model$pred$obs\n",
        "y_ <- my_model$pred$pred\n",
        "mean((y - y_)^2)**0.5"
      ],
      "id": "4733a25a-8223-4cb0-bef9-20ad71012725"
    },
    {
      "cell_type": "code",
      "execution_count": null,
      "metadata": {
        "id": "8d2964a9-e571-4bdf-a798-23d45a8592ae"
      },
      "outputs": [],
      "source": [
        "mean(((y - y_)^2)**0.5)"
      ],
      "id": "8d2964a9-e571-4bdf-a798-23d45a8592ae"
    },
    {
      "cell_type": "code",
      "execution_count": null,
      "metadata": {
        "id": "8beb1c4d-77d6-43b9-bea2-711111312710"
      },
      "outputs": [],
      "source": [
        "library(caret)\n",
        "library(tidyverse)\n",
        "my_data <- cars\n",
        "\n",
        "my_lm_model <- train(form = dist ~ speed, data = my_data, method = \"lm\",\n",
        "                     trControl = trainControl(method = \"LOOCV\"))\n",
        "\n",
        "my_knn_model <- train(form = dist ~ speed, data = my_data, method = \"knn\",\n",
        "                      tuneGrid = data.frame(k = 5),\n",
        "                      trControl = trainControl(method = \"LOOCV\"))"
      ],
      "id": "8beb1c4d-77d6-43b9-bea2-711111312710"
    },
    {
      "cell_type": "code",
      "execution_count": null,
      "metadata": {
        "id": "cbef6830-5199-4e00-ad81-6dfd9a746168"
      },
      "outputs": [],
      "source": [
        "my_lm_model$results$RMSE\n",
        "\n",
        "my_knn_model$results$RMSE"
      ],
      "id": "cbef6830-5199-4e00-ad81-6dfd9a746168"
    },
    {
      "cell_type": "code",
      "execution_count": null,
      "metadata": {
        "id": "4dcc8ae0-5427-4b70-9827-311556f24ba2"
      },
      "outputs": [],
      "source": [
        "y     <- my_data$dist\n",
        "y_lm  <- my_lm_model$pred$pred\n",
        "y_knn <- my_knn_model$pred$pred\n",
        "\n",
        "my_df <- data.frame(\n",
        "  lm  = (y - y_lm)^2,\n",
        "  knn = (y - y_knn)^2)\n",
        "\n",
        "head(my_df)"
      ],
      "id": "4dcc8ae0-5427-4b70-9827-311556f24ba2"
    },
    {
      "cell_type": "code",
      "execution_count": null,
      "metadata": {
        "id": "c89827f6-99ae-48c8-93ce-278568ac0fb6"
      },
      "outputs": [],
      "source": [
        "boxplot(my_df, ylab = \"r^2\")"
      ],
      "id": "c89827f6-99ae-48c8-93ce-278568ac0fb6"
    },
    {
      "cell_type": "code",
      "execution_count": null,
      "metadata": {
        "id": "ea727c02-9920-4366-8f24-a487ffa46c3a"
      },
      "outputs": [],
      "source": [
        "t.test(x = my_df$lm, y = my_df$knn,\n",
        "       conf.level = 0.95,\n",
        "       paired = TRUE,\n",
        "       alternative = \"two.sided\")\n"
      ],
      "id": "ea727c02-9920-4366-8f24-a487ffa46c3a"
    },
    {
      "id": "093e8f76",
      "cell_type": "markdown",
      "source": [
        "## 7.7 パラメータチューニング"
      ],
      "metadata": {
        "id": "093e8f76"
      }
    },
    {
      "cell_type": "code",
      "execution_count": null,
      "metadata": {
        "id": "1e9ae6e9-cb10-4609-8c04-77d55739b764"
      },
      "outputs": [],
      "source": [
        "library(caret)\n",
        "library(tidyverse)\n",
        "my_data <- cars\n",
        "my_model <- train(form = dist ~ speed, data = my_data, method = \"knn\")\n",
        "my_model$results"
      ],
      "id": "1e9ae6e9-cb10-4609-8c04-77d55739b764"
    },
    {
      "cell_type": "code",
      "execution_count": null,
      "metadata": {
        "id": "f9fa1dfe-de24-4d2a-8992-441d068c6662"
      },
      "outputs": [],
      "source": [
        "my_params <- expand.grid(k = 1:15)\n",
        "\n",
        "my_model <- train(form = dist ~ speed, data = my_data, method = \"knn\",\n",
        "                  tuneGrid = my_params,\n",
        "                  trControl = trainControl(method = \"LOOCV\"))"
      ],
      "id": "f9fa1dfe-de24-4d2a-8992-441d068c6662"
    },
    {
      "cell_type": "code",
      "execution_count": null,
      "metadata": {
        "id": "1ee6f90b-7712-4494-ae26-58cfe34d7cf2"
      },
      "outputs": [],
      "source": [
        "head(my_model$results)"
      ],
      "id": "1ee6f90b-7712-4494-ae26-58cfe34d7cf2"
    },
    {
      "cell_type": "code",
      "execution_count": null,
      "metadata": {
        "id": "8973fb2f-4bb0-43b8-9ba6-c4ca72dc044b"
      },
      "outputs": [],
      "source": [
        "ggplot(my_model)"
      ],
      "id": "8973fb2f-4bb0-43b8-9ba6-c4ca72dc044b"
    },
    {
      "cell_type": "code",
      "execution_count": null,
      "metadata": {
        "id": "0f12de74-3936-4d8b-8cc4-017545f1c479"
      },
      "outputs": [],
      "source": [
        "my_model$bestTune"
      ],
      "id": "0f12de74-3936-4d8b-8cc4-017545f1c479"
    },
    {
      "cell_type": "code",
      "execution_count": null,
      "metadata": {
        "id": "9007ec32-4911-4959-808b-452366582971"
      },
      "outputs": [],
      "source": [
        "my_model$results %>%\n",
        "  filter(RMSE == min(RMSE))"
      ],
      "id": "9007ec32-4911-4959-808b-452366582971"
    },
    {
      "cell_type": "code",
      "execution_count": null,
      "metadata": {
        "id": "b43bb275-b249-41ff-b041-91e39520f769"
      },
      "outputs": [],
      "source": [
        "y  <- my_data$dist\n",
        "y_ <- my_model %>% predict(my_data)\n",
        "RMSE(y_, y)"
      ],
      "id": "b43bb275-b249-41ff-b041-91e39520f769"
    },
    {
      "cell_type": "code",
      "execution_count": null,
      "metadata": {
        "id": "01dfe87b-2c1a-43d3-a787-8b836a03e033"
      },
      "outputs": [],
      "source": [
        "library(caret)\n",
        "library(tidyverse)\n",
        "my_data <- cars\n",
        "\n",
        "my_loocv <- function(k) {\n",
        "  my_model <- train(form = dist ~ speed, data = my_data, method = \"knn\",\n",
        "                    tuneGrid = data.frame(k = k),\n",
        "                    trControl = trainControl(method = \"LOOCV\"))\n",
        "  y  <- my_data$dist\n",
        "  y_ <- my_model %>% predict(my_data)\n",
        "  list(k = k,\n",
        "       training = RMSE(y_, y),             # RMSE（訓練）\n",
        "       validation = my_model$results$RMSE) # RMSE（検証）\n",
        "}\n",
        "\n",
        "my_results <- 1:15 %>% map_dfr(my_loocv)"
      ],
      "id": "01dfe87b-2c1a-43d3-a787-8b836a03e033"
    },
    {
      "cell_type": "code",
      "execution_count": null,
      "metadata": {
        "id": "7015d39d-128e-4619-8379-7a945697a9a9"
      },
      "outputs": [],
      "source": [
        "my_results %>%\n",
        "  pivot_longer(-k) %>%\n",
        "  ggplot(aes(x = k, y = value,\n",
        "             color = name)) +\n",
        "  geom_line() + geom_point() +\n",
        "  xlab(\"#Neighbors\") + ylab(\"RMSE\") +\n",
        "  theme(legend.position = c(1, 0),\n",
        "        legend.justification = c(1, 0))"
      ],
      "id": "7015d39d-128e-4619-8379-7a945697a9a9"
    },
    {
      "cell_type": "code",
      "execution_count": null,
      "metadata": {
        "id": "ad22b0fd-1a8a-4f84-8d4b-16a6f3974bf3"
      },
      "outputs": [],
      "source": [
        "# 並列クラスタの停止\n",
        "stopCluster(cl)\n",
        "registerDoSEQ()"
      ],
      "id": "ad22b0fd-1a8a-4f84-8d4b-16a6f3974bf3"
    },
    {
      "id": "2a395208",
      "cell_type": "markdown",
      "source": [
        "# 8 回帰2（重回帰）"
      ],
      "metadata": {
        "id": "2a395208"
      }
    },
    {
      "cell_type": "code",
      "execution_count": null,
      "metadata": {
        "id": "863ddbd7-9348-44be-9052-6b547df1b4e5"
      },
      "outputs": [],
      "source": [
        "# Google Colaboratoryの環境設定\n",
        "if (file.exists(\"/content\")) {\n",
        "  options(Ncpus = parallel::detectCores())\n",
        "  installed_packages <- rownames(installed.packages())\n",
        "  packages_to_install <- c(\"caret\", \"ggfortify\", \"glmnet\", \"glmnetUtils\", \"leaps\", \"neuralnet\", \"psych\")\n",
        "  install.packages(setdiff(packages_to_install, installed_packages))\n",
        "}"
      ],
      "id": "863ddbd7-9348-44be-9052-6b547df1b4e5"
    },
    {
      "id": "37e6f249",
      "cell_type": "markdown",
      "source": [
        "## 8.1 ブドウの生育条件とワインの価格"
      ],
      "metadata": {
        "id": "37e6f249"
      }
    },
    {
      "cell_type": "code",
      "execution_count": null,
      "metadata": {
        "id": "817cde13-b10d-4ca0-8387-48a82e1ed9ae"
      },
      "outputs": [],
      "source": [
        "library(tidyverse)\n",
        "my_url <- \"http://www.liquidasset.com/winedata.html\"\n",
        "tmp <- read.table(file = my_url,   # 読み込む対象\n",
        "                  header = TRUE,   # 1行目は変数名\n",
        "                  na.string = \".\", # 欠損値を表す文字列\n",
        "                  skip = 62,       # 読み飛ばす行数\n",
        "                  nrows = 38)      # 読み込む行数\n",
        "psych::describe(tmp)"
      ],
      "id": "817cde13-b10d-4ca0-8387-48a82e1ed9ae"
    },
    {
      "cell_type": "code",
      "execution_count": null,
      "metadata": {
        "id": "b1232266-e40b-42fb-bd97-d92f3c574a85"
      },
      "outputs": [],
      "source": [
        "my_data <- na.omit(tmp[, -c(1, 2)])\n",
        "head(my_data)"
      ],
      "id": "b1232266-e40b-42fb-bd97-d92f3c574a85"
    },
    {
      "cell_type": "code",
      "execution_count": null,
      "metadata": {
        "id": "a8320177-7870-4640-b4f6-bd3f91f9449e"
      },
      "outputs": [],
      "source": [
        "dim(my_data)"
      ],
      "id": "a8320177-7870-4640-b4f6-bd3f91f9449e"
    },
    {
      "cell_type": "code",
      "execution_count": null,
      "metadata": {
        "id": "82e12995-c516-4ce2-b598-2a901a243f64"
      },
      "outputs": [],
      "source": [
        "my_data %>% write_csv(\"wine.csv\")"
      ],
      "id": "82e12995-c516-4ce2-b598-2a901a243f64"
    },
    {
      "cell_type": "code",
      "execution_count": null,
      "metadata": {
        "id": "68776af5-0092-4362-963e-8952fbf7a161"
      },
      "outputs": [],
      "source": [
        "#my_data <- read_csv(\"wine.csv\") # 作ったファイルを使う場合\n",
        "my_url <- str_c(\"https://raw.githubusercontent.com/taroyabuki\",\n",
        "                \"/fromzero/master/data/wine.csv\")\n",
        "my_data <- read_csv(my_url)"
      ],
      "id": "68776af5-0092-4362-963e-8952fbf7a161"
    },
    {
      "id": "39d3d891",
      "cell_type": "markdown",
      "source": [
        "## 8.2 重回帰分析"
      ],
      "metadata": {
        "id": "39d3d891"
      }
    },
    {
      "cell_type": "code",
      "execution_count": null,
      "metadata": {
        "id": "940d40b4-4aa5-4b97-833b-8136e6ba08bd"
      },
      "outputs": [],
      "source": [
        "library(caret)\n",
        "library(tidyverse)\n",
        "my_url <- str_c(\"https://raw.githubusercontent.com/taroyabuki\",\n",
        "                \"/fromzero/master/data/wine.csv\")\n",
        "my_data <- read_csv(my_url)\n",
        "\n",
        "my_model <- train(form = LPRICE2 ~ WRAIN + DEGREES + HRAIN + TIME_SV,\n",
        "                  data = my_data,\n",
        "                  method = \"lm\",\n",
        "                  trControl = trainControl(method = \"LOOCV\"))"
      ],
      "id": "940d40b4-4aa5-4b97-833b-8136e6ba08bd"
    },
    {
      "cell_type": "code",
      "execution_count": null,
      "metadata": {
        "id": "b25ea2fa-9723-437b-b74a-015f6a75a6e6"
      },
      "outputs": [],
      "source": [
        "coef(my_model$finalModel) %>%\n",
        "  as.data.frame"
      ],
      "id": "b25ea2fa-9723-437b-b74a-015f6a75a6e6"
    },
    {
      "cell_type": "code",
      "execution_count": null,
      "metadata": {
        "id": "326f99ec-ea3a-4150-85c1-9e2ab54c2a12"
      },
      "outputs": [],
      "source": [
        "my_test <- data.frame(\n",
        "  WRAIN = 500, DEGREES = 17,\n",
        "  HRAIN = 120, TIME_SV = 2)\n",
        "my_model %>% predict(my_test)"
      ],
      "id": "326f99ec-ea3a-4150-85c1-9e2ab54c2a12"
    },
    {
      "cell_type": "code",
      "execution_count": null,
      "metadata": {
        "id": "4d24b366-d2be-4c79-bab8-4c231e86d640"
      },
      "outputs": [],
      "source": [
        "y  <- my_data$LPRICE2\n",
        "y_ <- my_model %>% predict(my_data)\n",
        "\n",
        "RMSE(y_, y)\n",
        "\n",
        "R2(pred = y_, obs = y,\n",
        "   form = \"traditional\")\n",
        "\n",
        "R2(pred = y_, obs = y,\n",
        "   form = \"corr\")"
      ],
      "id": "4d24b366-d2be-4c79-bab8-4c231e86d640"
    },
    {
      "cell_type": "code",
      "execution_count": null,
      "metadata": {
        "id": "dcbd63c9-92d4-4d79-9ca0-83de4eacca48"
      },
      "outputs": [],
      "source": [
        "my_model$results"
      ],
      "id": "dcbd63c9-92d4-4d79-9ca0-83de4eacca48"
    },
    {
      "cell_type": "code",
      "execution_count": null,
      "metadata": {
        "id": "3aa98966-e7c3-42b6-a769-2031c2ae784d"
      },
      "outputs": [],
      "source": [
        "M <- my_data[, -1] %>%\n",
        "  mutate(b0 = 1) %>% as.matrix\n",
        "b <- MASS::ginv(M) %*% y\n",
        "matrix(b,\n",
        "       dimnames = list(colnames(M)))"
      ],
      "id": "3aa98966-e7c3-42b6-a769-2031c2ae784d"
    },
    {
      "id": "0211fa9d",
      "cell_type": "markdown",
      "source": [
        "## 8.3 標準化"
      ],
      "metadata": {
        "id": "0211fa9d"
      }
    },
    {
      "cell_type": "code",
      "execution_count": null,
      "metadata": {
        "id": "b6ba7b01-afc4-4aaa-bc35-eb2f8ee77747"
      },
      "outputs": [],
      "source": [
        "library(caret)\n",
        "library(tidyverse)\n",
        "my_url <- str_c(\"https://raw.githubusercontent.com/taroyabuki\",\n",
        "                \"/fromzero/master/data/wine.csv\")\n",
        "my_data <- read_csv(my_url)\n",
        "\n",
        "my_data %>%\n",
        "  mutate_if(is.numeric, scale) %>% # 数値の列の標準化\n",
        "  pivot_longer(-LPRICE2) %>%\n",
        "  ggplot(aes(x = name, y = value)) +\n",
        "  geom_boxplot() +\n",
        "  stat_summary(fun = mean, geom = \"point\", size = 3) +\n",
        "  xlab(NULL)"
      ],
      "id": "b6ba7b01-afc4-4aaa-bc35-eb2f8ee77747"
    },
    {
      "cell_type": "code",
      "execution_count": null,
      "metadata": {
        "id": "c5331606-2d03-45e3-b67d-a00e8e308fb8"
      },
      "outputs": [],
      "source": [
        "my_model <- train(\n",
        "  form = LPRICE2 ~ .,\n",
        "  data = my_data,\n",
        "  method = \"lm\",\n",
        "  preProcess = c(\"center\", \"scale\"))"
      ],
      "id": "c5331606-2d03-45e3-b67d-a00e8e308fb8"
    },
    {
      "cell_type": "code",
      "execution_count": null,
      "metadata": {
        "id": "9732fdf9-cf42-4b93-a510-e7c4735a9a76"
      },
      "outputs": [],
      "source": [
        "coef(my_model$finalModel) %>%\n",
        "  as.data.frame"
      ],
      "id": "9732fdf9-cf42-4b93-a510-e7c4735a9a76"
    },
    {
      "cell_type": "code",
      "execution_count": null,
      "metadata": {
        "id": "b067f75e-53e2-4219-b43a-84d6c5155a4f"
      },
      "outputs": [],
      "source": [
        "my_test <- data.frame(\n",
        "  WRAIN = 500, DEGREES = 17,\n",
        "  HRAIN = 120, TIME_SV = 2)\n",
        "my_model %>% predict(my_test)"
      ],
      "id": "b067f75e-53e2-4219-b43a-84d6c5155a4f"
    },
    {
      "id": "66fad470",
      "cell_type": "markdown",
      "source": [
        "## 8.4 入力変数の数とモデルの良さ"
      ],
      "metadata": {
        "id": "66fad470"
      }
    },
    {
      "cell_type": "code",
      "execution_count": null,
      "metadata": {
        "id": "df819782-e8b9-4929-9be7-29e5a8d2f5c7"
      },
      "outputs": [],
      "source": [
        "library(caret)\n",
        "library(tidyverse)\n",
        "my_url <- str_c(\"https://raw.githubusercontent.com/taroyabuki\",\n",
        "                \"/fromzero/master/data/wine.csv\")\n",
        "my_data <- read_csv(my_url)\n",
        "\n",
        "n <- nrow(my_data)\n",
        "my_data2 <- my_data %>% mutate(v1 = 0:(n - 1) %% 2,\n",
        "                               v2 = 0:(n - 1) %% 3)\n",
        "head(my_data2)"
      ],
      "id": "df819782-e8b9-4929-9be7-29e5a8d2f5c7"
    },
    {
      "cell_type": "code",
      "execution_count": null,
      "metadata": {
        "id": "56f35500-ad17-441e-98b7-6fb488657511"
      },
      "outputs": [],
      "source": [
        "my_model2 <- train(form = LPRICE2 ~ ., data = my_data2, method = \"lm\",\n",
        "                   trControl = trainControl(method = \"LOOCV\"))\n",
        "y  <- my_data2$LPRICE2\n",
        "y_ <- my_model2 %>% predict(my_data2)\n",
        "\n",
        "RMSE(y_, y)\n",
        "\n",
        "my_model2$results$RMSE"
      ],
      "id": "56f35500-ad17-441e-98b7-6fb488657511"
    },
    {
      "id": "09276cc1",
      "cell_type": "markdown",
      "source": [
        "## 8.5 変数選択"
      ],
      "metadata": {
        "id": "09276cc1"
      }
    },
    {
      "cell_type": "code",
      "execution_count": null,
      "metadata": {
        "id": "ce1fb978-473d-4a7a-b474-abc86773595e"
      },
      "outputs": [],
      "source": [
        "library(caret)\n",
        "library(tidyverse)\n",
        "my_url <- str_c(\"https://raw.githubusercontent.com/taroyabuki\",\n",
        "                \"/fromzero/master/data/wine.csv\")\n",
        "my_data <- read_csv(my_url)\n",
        "n <- nrow(my_data)\n",
        "my_data2 <- my_data %>% mutate(v1 = 0:(n - 1) %% 2,\n",
        "                               v2 = 0:(n - 1) %% 3)"
      ],
      "id": "ce1fb978-473d-4a7a-b474-abc86773595e"
    },
    {
      "cell_type": "code",
      "execution_count": null,
      "metadata": {
        "id": "1caf0971-6b5f-4897-a74b-1167bab77024"
      },
      "outputs": [],
      "source": [
        "my_model <- train(form = LPRICE2 ~ .,\n",
        "                  data = my_data2,\n",
        "                  method = \"leapForward\", # 変数増加法\n",
        "                  trControl = trainControl(method = \"LOOCV\"),\n",
        "                  tuneGrid = data.frame(nvmax = 1:6)) # 選択する変数の上限\n",
        "summary(my_model$finalModel)$outmat"
      ],
      "id": "1caf0971-6b5f-4897-a74b-1167bab77024"
    },
    {
      "id": "6c46e251",
      "cell_type": "markdown",
      "source": [
        "## 8.6 補足：正則化"
      ],
      "metadata": {
        "id": "6c46e251"
      }
    },
    {
      "cell_type": "code",
      "execution_count": null,
      "metadata": {
        "id": "0bac1627-3df5-414c-9243-511d8a26fffd"
      },
      "outputs": [],
      "source": [
        "library(caret)\n",
        "library(tidyverse)\n",
        "my_url <- str_c(\"https://raw.githubusercontent.com/taroyabuki\",\n",
        "                \"/fromzero/master/data/wine.csv\")\n",
        "my_data <- read_csv(my_url)"
      ],
      "id": "0bac1627-3df5-414c-9243-511d8a26fffd"
    },
    {
      "cell_type": "code",
      "execution_count": null,
      "metadata": {
        "id": "c0ca7b08-ba0e-469b-87b1-3dd460528a55"
      },
      "outputs": [],
      "source": [
        "A <- 2\n",
        "B <- 0.1\n",
        "\n",
        "my_model <- train(\n",
        "  form = LPRICE2 ~ .,\n",
        "  data = my_data,\n",
        "  method = \"glmnet\",\n",
        "  standardize = TRUE,\n",
        "  tuneGrid = data.frame(\n",
        "    lambda = A,\n",
        "    alpha = B))"
      ],
      "id": "c0ca7b08-ba0e-469b-87b1-3dd460528a55"
    },
    {
      "cell_type": "code",
      "execution_count": null,
      "metadata": {
        "id": "bb8e0d9c-02af-430e-a62b-4a18a3eb4d95"
      },
      "outputs": [],
      "source": [
        "coef(my_model$finalModel, A)"
      ],
      "id": "bb8e0d9c-02af-430e-a62b-4a18a3eb4d95"
    },
    {
      "cell_type": "code",
      "execution_count": null,
      "metadata": {
        "id": "12b9890c-5a6e-45e6-9ef5-4d80ba47dd8f"
      },
      "outputs": [],
      "source": [
        "my_test <- data.frame(\n",
        "  WRAIN = 500, DEGREES = 17,\n",
        "  HRAIN = 120, TIME_SV = 2)\n",
        "my_model %>% predict(my_test)"
      ],
      "id": "12b9890c-5a6e-45e6-9ef5-4d80ba47dd8f"
    },
    {
      "cell_type": "code",
      "execution_count": null,
      "metadata": {
        "id": "bd0754aa-6592-4b0f-bd9b-9c6d305710b8"
      },
      "outputs": [],
      "source": [
        "library(ggfortify)\n",
        "library(glmnetUtils)\n",
        "\n",
        "my_data2 <- my_data %>% scale %>%\n",
        "  as.data.frame\n",
        "\n",
        "B <- 0.1\n",
        "\n",
        "glmnet(\n",
        "  form = LPRICE2 ~ .,\n",
        "  data = my_data2,\n",
        "  alpha = B) %>%\n",
        "  autoplot(xvar = \"lambda\") +\n",
        "  xlab(\"log A ( = log lambda)\") +\n",
        "  theme(legend.position = c(0.15, 0.25))"
      ],
      "id": "bd0754aa-6592-4b0f-bd9b-9c6d305710b8"
    },
    {
      "cell_type": "code",
      "execution_count": null,
      "metadata": {
        "id": "ad010f95-7650-4b68-b7f3-80b7a44332fc"
      },
      "outputs": [],
      "source": [
        "As <- seq(0, 0.1, length.out = 21)\n",
        "Bs <- seq(0, 0.1, length.out =  6)\n",
        "\n",
        "my_model <- train(\n",
        "  form = LPRICE2 ~ ., data = my_data, method = \"glmnet\", standardize = TRUE,\n",
        "  trControl = trainControl(method = \"LOOCV\"),\n",
        "  tuneGrid = expand.grid(lambda = As, alpha  = Bs))\n",
        "\n",
        "my_model$bestTune"
      ],
      "id": "ad010f95-7650-4b68-b7f3-80b7a44332fc"
    },
    {
      "cell_type": "code",
      "execution_count": null,
      "metadata": {
        "id": "7db501eb-fca8-498b-b28c-34cdbb614c1b"
      },
      "outputs": [],
      "source": [
        "tmp <- \"B ( = alpha)\"\n",
        "ggplot(my_model) +\n",
        "  theme(legend.position = c(0, 1), legend.justification = c(0, 1)) +\n",
        "  xlab(\"A ( = lambda)\") +\n",
        "  guides(shape = guide_legend(tmp), color = guide_legend(tmp))"
      ],
      "id": "7db501eb-fca8-498b-b28c-34cdbb614c1b"
    },
    {
      "cell_type": "code",
      "execution_count": null,
      "metadata": {
        "id": "c0a0fe0f-143f-4c83-92bd-c241ba83b234"
      },
      "outputs": [],
      "source": [
        "my_model$results %>%\n",
        "  filter(RMSE == min(RMSE))"
      ],
      "id": "c0a0fe0f-143f-4c83-92bd-c241ba83b234"
    },
    {
      "id": "13a6a815",
      "cell_type": "markdown",
      "source": [
        "## 8.7 ニューラルネットワーク"
      ],
      "metadata": {
        "id": "13a6a815"
      }
    },
    {
      "cell_type": "code",
      "execution_count": null,
      "metadata": {
        "id": "abc5435b-cd7e-48dc-9118-46f3cfeb39ee"
      },
      "outputs": [],
      "source": [
        "curve(1 / (1 + exp(-x)), -6, 6)"
      ],
      "id": "abc5435b-cd7e-48dc-9118-46f3cfeb39ee"
    },
    {
      "cell_type": "code",
      "execution_count": null,
      "metadata": {
        "id": "3bfd9f13-93d1-4ef8-a42c-866b431a89ee"
      },
      "outputs": [],
      "source": [
        "library(caret)\n",
        "library(tidyverse)\n",
        "my_url <- str_c(\"https://raw.githubusercontent.com/taroyabuki\",\n",
        "                \"/fromzero/master/data/wine.csv\")\n",
        "my_data <- read_csv(my_url)"
      ],
      "id": "3bfd9f13-93d1-4ef8-a42c-866b431a89ee"
    },
    {
      "cell_type": "code",
      "execution_count": null,
      "metadata": {
        "id": "3754cc40-f70f-4df9-b99b-d247e2968cff"
      },
      "outputs": [],
      "source": [
        "my_model <- train(form = LPRICE2 ~ .,\n",
        "                  data = my_data,\n",
        "                  method = \"neuralnet\",              # ニューラルネットワーク\n",
        "                  preProcess = c(\"center\", \"scale\"), # 標準化\n",
        "                  trControl = trainControl(method = \"LOOCV\"))\n",
        "plot(my_model$finalModel) # 訓練済ネットワークの描画"
      ],
      "id": "3754cc40-f70f-4df9-b99b-d247e2968cff"
    },
    {
      "cell_type": "code",
      "execution_count": null,
      "metadata": {
        "id": "6e5a314c-f9b2-4be6-a4fa-0f497152cd85"
      },
      "outputs": [],
      "source": [
        "my_model$results"
      ],
      "id": "6e5a314c-f9b2-4be6-a4fa-0f497152cd85"
    },
    {
      "cell_type": "code",
      "execution_count": null,
      "metadata": {
        "id": "f729a43d-e558-4010-b204-59046eca70f8"
      },
      "outputs": [],
      "source": [
        "my_model <- train(\n",
        "  form = LPRICE2 ~ .,\n",
        "  data = my_data,\n",
        "  method = \"neuralnet\",\n",
        "  preProcess = c(\"center\", \"scale\"),\n",
        "  trControl = trainControl(method = \"LOOCV\"),\n",
        "  tuneGrid = expand.grid(layer1 = 1:5,\n",
        "                         layer2 = 0:2,\n",
        "                         layer3 = 0))"
      ],
      "id": "f729a43d-e558-4010-b204-59046eca70f8"
    },
    {
      "cell_type": "code",
      "execution_count": null,
      "metadata": {
        "id": "be63dc43-dd44-4881-9d59-a2253acf886f"
      },
      "outputs": [],
      "source": [
        "my_model$results %>%\n",
        "  filter(RMSE == min(RMSE))"
      ],
      "id": "be63dc43-dd44-4881-9d59-a2253acf886f"
    },
    {
      "id": "14c51cca",
      "cell_type": "markdown",
      "source": [
        "# 9 分類1（多値分類）"
      ],
      "metadata": {
        "id": "14c51cca"
      }
    },
    {
      "cell_type": "code",
      "execution_count": null,
      "metadata": {
        "id": "cd6dfe04-dc3e-4e70-b9f9-b1e87e8f9507"
      },
      "outputs": [],
      "source": [
        "# Google Colaboratoryの環境設定\n",
        "if (file.exists(\"/content\")) {\n",
        "  options(Ncpus = parallel::detectCores())\n",
        "  installed_packages <- rownames(installed.packages())\n",
        "  packages_to_install <- c(\"caret\", \"furrr\", \"psych\", \"randomForest\", \"rpart.plot\", \"xgboost\")\n",
        "  install.packages(setdiff(packages_to_install, installed_packages))\n",
        "}"
      ],
      "id": "cd6dfe04-dc3e-4e70-b9f9-b1e87e8f9507"
    },
    {
      "id": "9e59a5c5",
      "cell_type": "markdown",
      "source": [
        "## 9.1 アヤメのデータ"
      ],
      "metadata": {
        "id": "9e59a5c5"
      }
    },
    {
      "cell_type": "code",
      "execution_count": null,
      "metadata": {
        "id": "62f8eb92-1be0-4ba9-983e-2b0ebdfd14a7"
      },
      "outputs": [],
      "source": [
        "my_data <- iris\n",
        "head(my_data)"
      ],
      "id": "62f8eb92-1be0-4ba9-983e-2b0ebdfd14a7"
    },
    {
      "cell_type": "code",
      "execution_count": null,
      "metadata": {
        "id": "b14e13a7-261f-4b66-9eaf-2270673ac1e1"
      },
      "outputs": [],
      "source": [
        "psych::describe(my_data)"
      ],
      "id": "b14e13a7-261f-4b66-9eaf-2270673ac1e1"
    },
    {
      "id": "0fc63830",
      "cell_type": "markdown",
      "source": [
        "## 9.2 木による分類"
      ],
      "metadata": {
        "id": "0fc63830"
      }
    },
    {
      "cell_type": "code",
      "execution_count": null,
      "metadata": {
        "id": "b54ed12b-6b29-4fe6-b1ea-9e0e971f58b8"
      },
      "outputs": [],
      "source": [
        "library(caret)\n",
        "library(tidyverse)\n",
        "my_data <- iris\n",
        "my_model <- train(form = Species ~ ., data = my_data, method = \"rpart\")"
      ],
      "id": "b54ed12b-6b29-4fe6-b1ea-9e0e971f58b8"
    },
    {
      "cell_type": "code",
      "execution_count": null,
      "metadata": {
        "id": "4304c2a0-b029-4923-a4a7-0bdc636deb0f"
      },
      "outputs": [],
      "source": [
        "rpart.plot::rpart.plot(my_model$finalModel, extra = 1)"
      ],
      "id": "4304c2a0-b029-4923-a4a7-0bdc636deb0f"
    },
    {
      "cell_type": "code",
      "execution_count": null,
      "metadata": {
        "id": "153fc673-1150-48fc-8ab6-f9caebc04052"
      },
      "outputs": [],
      "source": [
        "my_test <- tribble(\n",
        "~Sepal.Length, ~Sepal.Width, ~Petal.Length, ~Petal.Width,\n",
        "          5.0,          3.5,           1.5,          0.5,\n",
        "          6.5,          3.0,           5.0,          2.0)\n",
        "\n",
        "my_model %>% predict(my_test)"
      ],
      "id": "153fc673-1150-48fc-8ab6-f9caebc04052"
    },
    {
      "cell_type": "code",
      "execution_count": null,
      "metadata": {
        "id": "b3153a9c-eb76-4258-95c2-84c7273e762c"
      },
      "outputs": [],
      "source": [
        "my_model %>% predict(my_test,\n",
        "                     type = \"prob\")"
      ],
      "id": "b3153a9c-eb76-4258-95c2-84c7273e762c"
    },
    {
      "id": "17a89605",
      "cell_type": "markdown",
      "source": [
        "## 9.3 正解率"
      ],
      "metadata": {
        "id": "17a89605"
      }
    },
    {
      "cell_type": "code",
      "execution_count": null,
      "metadata": {
        "id": "87f4370d-a033-47f0-aaa4-3c5ed5915960"
      },
      "outputs": [],
      "source": [
        "library(caret)\n",
        "library(tidyverse)\n",
        "my_data <- iris\n",
        "my_model <- train(form = Species ~ ., data = my_data, method = \"rpart2\")\n",
        "\n",
        "y  <- my_data$Species\n",
        "y_ <- my_model %>% predict(my_data)\n",
        "confusionMatrix(data = y_, reference = y)\n",
        "# 以下は割愛"
      ],
      "id": "87f4370d-a033-47f0-aaa4-3c5ed5915960"
    },
    {
      "cell_type": "code",
      "execution_count": null,
      "metadata": {
        "id": "eb40035f-28fa-41a2-a017-04e98f766ec9"
      },
      "outputs": [],
      "source": [
        "y  <- my_data$Species\n",
        "y_ <- my_model %>% predict(my_data)\n",
        "mean(y_ == y)"
      ],
      "id": "eb40035f-28fa-41a2-a017-04e98f766ec9"
    },
    {
      "cell_type": "code",
      "execution_count": null,
      "metadata": {
        "id": "5478b58c-e51d-45a4-8c15-57ec0d220851"
      },
      "outputs": [],
      "source": [
        "my_model <- train(form = Species ~ ., data = my_data, method = \"rpart2\",\n",
        "                  trControl = trainControl(method = \"LOOCV\"))\n",
        "my_model$results"
      ],
      "id": "5478b58c-e51d-45a4-8c15-57ec0d220851"
    },
    {
      "cell_type": "code",
      "execution_count": null,
      "metadata": {
        "id": "379d2479-8dc5-4f76-a904-858fd41b3291"
      },
      "outputs": [],
      "source": [
        "my_model <- train(form = Species ~ ., data = my_data, method = \"rpart2\",\n",
        "                  tuneGrid = data.frame(maxdepth = 1:10),\n",
        "                  trControl = trainControl(method = \"LOOCV\"))\n",
        "my_model$results %>% filter(Accuracy == max(Accuracy))"
      ],
      "id": "379d2479-8dc5-4f76-a904-858fd41b3291"
    },
    {
      "cell_type": "code",
      "execution_count": null,
      "metadata": {
        "id": "0e8f2b49-8ff7-4af0-bd8e-a388ccb56757"
      },
      "outputs": [],
      "source": [
        "# パラメータを与えると正解率（LOOCV）を返す関数\n",
        "my_loocv <- function(maxdepth, minbucket, minsplit) {\n",
        "  my_model <- train(form = Species ~ ., data = my_data, method = \"rpart2\",\n",
        "                    trControl = trainControl(method = \"LOOCV\"),\n",
        "                    tuneGrid = data.frame(maxdepth = maxdepth),\n",
        "                    control = rpart::rpart.control(cp = 0.01,\n",
        "                                                   minbucket = minbucket,\n",
        "                                                   minsplit = minsplit))\n",
        "  list(maxdepth = maxdepth,\n",
        "       minbucket = minbucket,\n",
        "       minsplit = minsplit,\n",
        "       Accuracy = my_model$results$Accuracy)\n",
        "}"
      ],
      "id": "0e8f2b49-8ff7-4af0-bd8e-a388ccb56757"
    },
    {
      "cell_type": "code",
      "execution_count": null,
      "metadata": {
        "id": "8a1ef5f3-d19d-4db9-b421-17dfaee71bc3"
      },
      "outputs": [],
      "source": [
        "my_params <- expand.grid(\n",
        "  maxdepth = 2:5,\n",
        "  minbucket = 1:7,\n",
        "  minsplit = c(2, 20))\n",
        "\n",
        "library(furrr)\n",
        "plan(multisession) # 並列処理の準備\n",
        "my_results <- my_params %>% future_pmap_dfr(my_loocv, # 実行\n",
        "  .options = furrr_options(seed = TRUE))\n",
        "\n",
        "my_results %>% filter(Accuracy == max(Accuracy)) # 正解率（検証）の最大値"
      ],
      "id": "8a1ef5f3-d19d-4db9-b421-17dfaee71bc3"
    },
    {
      "cell_type": "code",
      "execution_count": null,
      "metadata": {
        "id": "5b1fed90-c83c-42a8-b81e-1613a4b9be45"
      },
      "outputs": [],
      "source": [
        "my_model <- train(form = Species ~ ., data = my_data, method = \"rpart2\",\n",
        "                  trControl = trainControl(method = \"none\"),\n",
        "                  tuneGrid = data.frame(maxdepth = 3),\n",
        "                  control = rpart::rpart.control(cp = 0.01,\n",
        "                                                 minbucket = 5,\n",
        "                                                 minsplit = 2))"
      ],
      "id": "5b1fed90-c83c-42a8-b81e-1613a4b9be45"
    },
    {
      "cell_type": "code",
      "execution_count": null,
      "metadata": {
        "id": "748f7466-5191-4a4e-bd63-3353476d62ca"
      },
      "outputs": [],
      "source": [
        "rpart.plot::rpart.plot(\n",
        "  my_model$finalModel, extra = 1)"
      ],
      "id": "748f7466-5191-4a4e-bd63-3353476d62ca"
    },
    {
      "id": "d390dff5",
      "cell_type": "markdown",
      "source": [
        "## 9.4 複数の木を使う方法"
      ],
      "metadata": {
        "id": "d390dff5"
      }
    },
    {
      "cell_type": "code",
      "execution_count": null,
      "metadata": {
        "id": "6523b00d-8458-49db-9944-074f6e856813"
      },
      "outputs": [],
      "source": [
        "library(caret)\n",
        "library(tidyverse)\n",
        "my_data <- iris\n",
        "\n",
        "my_model <- train(form = Species ~ ., data = my_data, method = \"rf\",\n",
        "                  tuneGrid = data.frame(mtry = 2:4), # 省略可\n",
        "                  trControl = trainControl(method = \"LOOCV\"))\n",
        "my_model$results"
      ],
      "id": "6523b00d-8458-49db-9944-074f6e856813"
    },
    {
      "cell_type": "code",
      "execution_count": null,
      "metadata": {
        "id": "717c4406-d5d7-4704-8c11-efda5c223fab"
      },
      "outputs": [],
      "source": [
        "my_model <- train(\n",
        "  form = Species ~ ., data = my_data, method = \"xgbTree\",\n",
        "  tuneGrid = expand.grid(\n",
        "    nrounds          = c(50, 100, 150),\n",
        "    max_depth        = c(1, 2, 3),\n",
        "    eta              = c(0.3, 0.4),\n",
        "    gamma            = 0,\n",
        "    colsample_bytree = c(0.6, 0.8),\n",
        "    min_child_weight = 1,\n",
        "    subsample        = c(0.5, 0.75, 1)),\n",
        "  trControl = trainControl(method = \"cv\", number = 5)) # 5分割交差検証\n",
        "my_model$results %>% filter(Accuracy == max(Accuracy)) %>% head(5) %>% t"
      ],
      "id": "717c4406-d5d7-4704-8c11-efda5c223fab"
    },
    {
      "cell_type": "code",
      "execution_count": null,
      "metadata": {
        "id": "f9cbaaeb-c450-47d0-8103-4dc1c91a3ca1"
      },
      "outputs": [],
      "source": [
        "my_model <- train(form = Species ~ ., data = my_data, method = \"rf\")\n",
        "ggplot(varImp(my_model))"
      ],
      "id": "f9cbaaeb-c450-47d0-8103-4dc1c91a3ca1"
    },
    {
      "id": "34ac2b65",
      "cell_type": "markdown",
      "source": [
        "## 9.5 欠損のあるデータでの学習"
      ],
      "metadata": {
        "id": "34ac2b65"
      }
    },
    {
      "cell_type": "code",
      "execution_count": null,
      "metadata": {
        "id": "6c368f91-0982-4703-b90b-71e6130ec735"
      },
      "outputs": [],
      "source": [
        "library(caret)\n",
        "library(tidyverse)\n",
        "my_data <- iris\n",
        "\n",
        "n <- nrow(my_data)\n",
        "my_data$Petal.Length[0:(n - 1) %% 10 == 0] <- NA\n",
        "my_data$Petal.Width[ 0:(n - 1) %% 10 == 1] <- NA\n",
        "\n",
        "psych::describe(my_data) # nの値が135の変数に，150 - 135 = 15個の欠損がある．"
      ],
      "id": "6c368f91-0982-4703-b90b-71e6130ec735"
    },
    {
      "cell_type": "code",
      "execution_count": null,
      "metadata": {
        "id": "e0907c4d-d57a-4152-97c6-7532fdaffeb9"
      },
      "outputs": [],
      "source": [
        "my_model <- train(\n",
        "  form = Species ~ ., data = my_data, method = \"rpart2\",\n",
        "  na.action = na.pass,         # 欠損があっても学習を止めない．\n",
        "  preProcess = \"medianImpute\", # 欠損を中央値で埋める．\n",
        "  trControl = trainControl(method = \"LOOCV\"),\n",
        "  tuneGrid = data.frame(maxdepth = 20),          # 木の高さの上限\n",
        "  control = rpart::rpart.control(minsplit = 2,   # 分岐の条件\n",
        "                                 minbucket = 1)) # 終端ノードの条件\n",
        "max(my_model$results$Accuracy)"
      ],
      "id": "e0907c4d-d57a-4152-97c6-7532fdaffeb9"
    },
    {
      "cell_type": "code",
      "execution_count": null,
      "metadata": {
        "id": "72f03f3f-3e47-4868-a77d-acfad9f5d3cd"
      },
      "outputs": [],
      "source": [
        "my_model <- train(form = Species ~ ., data = my_data, method = \"xgbTree\",\n",
        "                  na.action = na.pass,\n",
        "                  trControl = trainControl(method = \"cv\", number = 5))\n",
        "max(my_model$results$Accuracy)"
      ],
      "id": "72f03f3f-3e47-4868-a77d-acfad9f5d3cd"
    },
    {
      "id": "9590e3c0",
      "cell_type": "markdown",
      "source": [
        "## 9.6 他の分類手法"
      ],
      "metadata": {
        "id": "9590e3c0"
      }
    },
    {
      "cell_type": "code",
      "execution_count": null,
      "metadata": {
        "id": "afb97986-1ae8-4c77-8e60-36b65366b466"
      },
      "outputs": [],
      "source": [
        "library(caret)\n",
        "library(tidyverse)\n",
        "my_data <- iris\n",
        "\n",
        "my_model <- train(form = Species ~ ., data = my_data, method = \"knn\",\n",
        "                  trControl = trainControl(method = \"LOOCV\"))\n",
        "my_model$results %>% filter(Accuracy == max(Accuracy))"
      ],
      "id": "afb97986-1ae8-4c77-8e60-36b65366b466"
    },
    {
      "cell_type": "code",
      "execution_count": null,
      "metadata": {
        "id": "8955664e-e95b-4796-a80f-b3501cb51b54"
      },
      "outputs": [],
      "source": [
        "library(caret)\n",
        "library(tidyverse)\n",
        "my_data <- iris\n",
        "\n",
        "my_model <- train(form = Species ~ ., data = my_data, method = \"nnet\",\n",
        "                  preProcess = c(\"center\", \"scale\"), # 標準化\n",
        "                  trControl = trainControl(method = \"LOOCV\"),\n",
        "                  trace = FALSE) # 途中経過を表示しない\n",
        "my_model$results %>% filter(Accuracy == max(Accuracy))"
      ],
      "id": "8955664e-e95b-4796-a80f-b3501cb51b54"
    },
    {
      "id": "e6ee6fec",
      "cell_type": "markdown",
      "source": [
        "# 10 分類2（2値分類）"
      ],
      "metadata": {
        "id": "e6ee6fec"
      }
    },
    {
      "cell_type": "code",
      "execution_count": null,
      "metadata": {
        "id": "ded38757-7de5-482e-82f9-3f90357d67af"
      },
      "outputs": [],
      "source": [
        "# Google Colaboratoryの環境設定\n",
        "if (file.exists(\"/content\")) {\n",
        "  options(Ncpus = parallel::detectCores())\n",
        "  installed_packages <- rownames(installed.packages())\n",
        "  packages_to_install <- c(\"caret\", \"PRROC\", \"rpart.plot\")\n",
        "  install.packages(setdiff(packages_to_install, installed_packages))\n",
        "}"
      ],
      "id": "ded38757-7de5-482e-82f9-3f90357d67af"
    },
    {
      "id": "7841a497",
      "cell_type": "markdown",
      "source": [
        "## 10.1 2値分類の性能指標"
      ],
      "metadata": {
        "id": "7841a497"
      }
    },
    {
      "cell_type": "code",
      "execution_count": null,
      "metadata": {
        "id": "9ff35d0a-1f07-47e5-89f3-59cef1410a11"
      },
      "outputs": [],
      "source": [
        "y       <- c(  0,   1,   1,   0,   1,   0,    1,   0,   0,   1)\n",
        "y_score <- c(0.7, 0.8, 0.3, 0.4, 0.9, 0.6, 0.99, 0.1, 0.2, 0.5)"
      ],
      "id": "9ff35d0a-1f07-47e5-89f3-59cef1410a11"
    },
    {
      "cell_type": "code",
      "execution_count": null,
      "metadata": {
        "id": "c7def63e-01c6-457c-b580-2626f56699dd"
      },
      "outputs": [],
      "source": [
        "y_ <- ifelse(0.5 <= y_score, 1, 0)\n",
        "y_"
      ],
      "id": "c7def63e-01c6-457c-b580-2626f56699dd"
    },
    {
      "cell_type": "code",
      "execution_count": null,
      "metadata": {
        "id": "4a1cb193-9283-4b30-97ae-b3a3ceef1570"
      },
      "outputs": [],
      "source": [
        "library(caret)\n",
        "confusionMatrix(data      = as.factor(y_), # 予測\n",
        "                reference = as.factor(y),  # 正解\n",
        "                positive = \"1\",            # 「1」を陽性とする．\n",
        "                mode = \"everything\")       # 全ての指標を求める．"
      ],
      "id": "4a1cb193-9283-4b30-97ae-b3a3ceef1570"
    },
    {
      "id": "3300152d",
      "cell_type": "markdown",
      "source": [
        "## 10.2 トレードオフ"
      ],
      "metadata": {
        "id": "3300152d"
      }
    },
    {
      "cell_type": "code",
      "execution_count": null,
      "metadata": {
        "id": "988e8b5b-6cb3-4370-ad2e-ff2fa7b0eab9"
      },
      "outputs": [],
      "source": [
        "library(PRROC)\n",
        "library(tidyverse)\n",
        "\n",
        "y       <- c(  0,   1,   1,   0,   1,   0,    1,   0,   0,   1)\n",
        "y_score <- c(0.7, 0.8, 0.3, 0.4, 0.9, 0.6, 0.99, 0.1, 0.2, 0.5)\n",
        "y_      <- ifelse(0.5 <= y_score, 1, 0)\n",
        "\n",
        "c(sum((y == 0) & (y_ == 1)) / sum(y == 0), # FPR\n",
        "  sum((y == 1) & (y_ == 1)) / sum(y == 1)) # TPR"
      ],
      "id": "988e8b5b-6cb3-4370-ad2e-ff2fa7b0eab9"
    },
    {
      "cell_type": "code",
      "execution_count": null,
      "metadata": {
        "id": "f0ed6044-2f31-4928-8921-b1097fb14914"
      },
      "outputs": [],
      "source": [
        "my_roc <- roc.curve(scores.class0 = y_score[y == 1], # 答えが1のもののスコア\n",
        "                    scores.class1 = y_score[y == 0], # 答えが0のもののスコア\n",
        "                    curve = TRUE)\n",
        "my_roc %>% plot(xlab = \"False Positive Rate\",\n",
        "                ylab = \"True Positive Rate\",\n",
        "                legend = FALSE)"
      ],
      "id": "f0ed6044-2f31-4928-8921-b1097fb14914"
    },
    {
      "cell_type": "code",
      "execution_count": null,
      "metadata": {
        "id": "6f33efc4-4bbb-499d-8172-328557eec677"
      },
      "outputs": [],
      "source": [
        "my_roc$auc"
      ],
      "id": "6f33efc4-4bbb-499d-8172-328557eec677"
    },
    {
      "cell_type": "code",
      "execution_count": null,
      "metadata": {
        "id": "ab17deaf-e0b6-49c1-a66d-00c39592c16f"
      },
      "outputs": [],
      "source": [
        "c(sum((y == 1) & (y_ == 1)) / sum(y  == 1), # Recall == TPR\n",
        "  sum((y == 1) & (y_ == 1)) / sum(y_ == 1)) # Precision"
      ],
      "id": "ab17deaf-e0b6-49c1-a66d-00c39592c16f"
    },
    {
      "cell_type": "code",
      "execution_count": null,
      "metadata": {
        "id": "c3f8f0d0-1d93-4f54-bfb1-48864157de1c"
      },
      "outputs": [],
      "source": [
        "my_pr <- pr.curve(scores.class0 = y_score[y == 1],\n",
        "                  scores.class1 = y_score[y == 0],\n",
        "                  curve = TRUE)\n",
        "my_pr %>% plot(xlab = \"Recall\",\n",
        "               ylab = \"Precision\",\n",
        "               legend = FALSE)"
      ],
      "id": "c3f8f0d0-1d93-4f54-bfb1-48864157de1c"
    },
    {
      "cell_type": "code",
      "execution_count": null,
      "metadata": {
        "id": "a724ac12-fa1f-4be1-a1a4-e44404297015"
      },
      "outputs": [],
      "source": [
        "my_pr$auc.integral"
      ],
      "id": "a724ac12-fa1f-4be1-a1a4-e44404297015"
    },
    {
      "id": "05bbad36",
      "cell_type": "markdown",
      "source": [
        "## 10.3 タイタニック"
      ],
      "metadata": {
        "id": "05bbad36"
      }
    },
    {
      "cell_type": "code",
      "execution_count": null,
      "metadata": {
        "id": "c3faf654-a12d-4975-b933-f9ed3532c5b7"
      },
      "outputs": [],
      "source": [
        "library(caret)\n",
        "library(PRROC)\n",
        "library(tidyverse)\n",
        "\n",
        "my_url <- str_c(\"https://raw.githubusercontent.com/taroyabuki\",\n",
        "                \"/fromzero/master/data/titanic.csv\")\n",
        "my_data <- read_csv(my_url)"
      ],
      "id": "c3faf654-a12d-4975-b933-f9ed3532c5b7"
    },
    {
      "cell_type": "code",
      "execution_count": null,
      "metadata": {
        "id": "819254a7-bc6c-43e8-a1dd-02595cb6d24b"
      },
      "outputs": [],
      "source": [
        "head(my_data)"
      ],
      "id": "819254a7-bc6c-43e8-a1dd-02595cb6d24b"
    },
    {
      "cell_type": "code",
      "execution_count": null,
      "metadata": {
        "id": "e9ce7f93-6884-4b6a-98e9-bfd4241b42c8"
      },
      "outputs": [],
      "source": [
        "my_model <- train(form = Survived ~ ., data = my_data, method = \"rpart2\",\n",
        "                  tuneGrid = data.frame(maxdepth = 2),\n",
        "                  trControl = trainControl(method = \"LOOCV\"))"
      ],
      "id": "e9ce7f93-6884-4b6a-98e9-bfd4241b42c8"
    },
    {
      "cell_type": "code",
      "execution_count": null,
      "metadata": {
        "id": "238c9873-082a-4d63-b4a1-1f02287aee01"
      },
      "outputs": [],
      "source": [
        "rpart.plot::rpart.plot(my_model$finalModel, extra = 1)"
      ],
      "id": "238c9873-082a-4d63-b4a1-1f02287aee01"
    },
    {
      "cell_type": "code",
      "execution_count": null,
      "metadata": {
        "id": "b4501350-df0a-404c-b99f-c37a671c3c12"
      },
      "outputs": [],
      "source": [
        "my_model$results"
      ],
      "id": "b4501350-df0a-404c-b99f-c37a671c3c12"
    },
    {
      "cell_type": "code",
      "execution_count": null,
      "metadata": {
        "id": "6348caa2-3d00-4020-bfa1-8984656fcc43"
      },
      "outputs": [],
      "source": [
        "y <- my_data$Survived\n",
        "tmp <- my_model %>% predict(newdata = my_data, type = \"prob\")\n",
        "y_score <- tmp$Yes\n",
        "\n",
        "my_roc <- roc.curve(scores.class0 = y_score[y == \"Yes\"],\n",
        "                    scores.class1 = y_score[y == \"No\"],\n",
        "                    curve = TRUE)\n",
        "my_roc$auc\n",
        "\n",
        "my_roc %>% plot(xlab = \"False Positive Rate\",\n",
        "                ylab = \"True Positive Rate\",\n",
        "                legend = FALSE)"
      ],
      "id": "6348caa2-3d00-4020-bfa1-8984656fcc43"
    },
    {
      "cell_type": "code",
      "execution_count": null,
      "metadata": {
        "id": "0a3100cc-ad93-4462-b381-25ed6605e35f"
      },
      "outputs": [],
      "source": [
        "X <- my_data %>% select(Class) # 質的入力変数\n",
        "y <- my_data$Survived          # 出力変数\n",
        "\n",
        "options(warn = -1) # これ以降，警告を表示しない．\n",
        "my_model1 <- train(x = X, y = y, method = \"rpart2\",\n",
        "                   tuneGrid = data.frame(maxdepth = 2),\n",
        "                   trControl = trainControl(method = \"LOOCV\"))\n",
        "options(warn = 0)  # これ以降，警告を表示する．\n",
        "\n",
        "rpart.plot::rpart.plot(my_model1$finalModel, extra = 1)\n",
        "my_model1$results"
      ],
      "id": "0a3100cc-ad93-4462-b381-25ed6605e35f"
    },
    {
      "cell_type": "code",
      "execution_count": null,
      "metadata": {
        "id": "2dfc522b-6bb4-45d4-a6c1-4c3166496271"
      },
      "outputs": [],
      "source": [
        "my_enc <- my_data %>% dummyVars(formula = Survived ~ Class)\n",
        "my_data2 <- my_enc %>%\n",
        "  predict(my_data) %>%\n",
        "  as.data.frame %>%\n",
        "  mutate(Survived = my_data$Survived)\n",
        "\n",
        "my_model2 <- train(form = Survived ~ ., data = my_data2, method = \"rpart2\",\n",
        "                   tuneGrid = data.frame(maxdepth = 2),\n",
        "                   trControl = trainControl(method = \"LOOCV\"))\n",
        "rpart.plot::rpart.plot(my_model2$finalModel, extra = 1)\n",
        "my_model2$results"
      ],
      "id": "2dfc522b-6bb4-45d4-a6c1-4c3166496271"
    },
    {
      "cell_type": "code",
      "execution_count": null,
      "metadata": {
        "id": "46e0559a-07ec-427e-8e8e-22d68cd2cea7"
      },
      "outputs": [],
      "source": [
        "my_model3 <- train(form = Survived ~ Class, data = my_data, method = \"rpart2\",\n",
        "                   tuneGrid = data.frame(maxdepth = 2),\n",
        "                   trControl = trainControl(method = \"LOOCV\"))\n",
        "rpart.plot::rpart.plot(my_model3$finalModel, extra = 1)\n",
        "my_model3$results"
      ],
      "id": "46e0559a-07ec-427e-8e8e-22d68cd2cea7"
    },
    {
      "id": "ffa70dc6",
      "cell_type": "markdown",
      "source": [
        "## 10.4 ロジスティック回帰"
      ],
      "metadata": {
        "id": "ffa70dc6"
      }
    },
    {
      "cell_type": "code",
      "execution_count": null,
      "metadata": {
        "id": "54a95945-ffed-486c-832c-1b0cf707564e"
      },
      "outputs": [],
      "source": [
        "curve(1 / (1 + exp(-x)), -6, 6)"
      ],
      "id": "54a95945-ffed-486c-832c-1b0cf707564e"
    },
    {
      "cell_type": "code",
      "execution_count": null,
      "metadata": {
        "id": "a855312a-31d3-49cc-89f8-123df301d8eb"
      },
      "outputs": [],
      "source": [
        "library(caret)\n",
        "library(PRROC)\n",
        "library(tidyverse)\n",
        "\n",
        "my_url <- str_c(\"https://raw.githubusercontent.com/taroyabuki\",\n",
        "                \"/fromzero/master/data/titanic.csv\")\n",
        "my_data <- read_csv(my_url)\n",
        "\n",
        "my_model <- train(form = Survived ~ ., data = my_data, method = \"glm\",\n",
        "                  trControl = trainControl(method = \"LOOCV\"))"
      ],
      "id": "a855312a-31d3-49cc-89f8-123df301d8eb"
    },
    {
      "cell_type": "code",
      "execution_count": null,
      "metadata": {
        "id": "ec6c5df7-0d0d-44fc-b5ed-0c5b2bae22be"
      },
      "outputs": [],
      "source": [
        "coef(my_model$finalModel) %>%\n",
        "  as.data.frame"
      ],
      "id": "ec6c5df7-0d0d-44fc-b5ed-0c5b2bae22be"
    },
    {
      "cell_type": "code",
      "execution_count": null,
      "metadata": {
        "id": "78f31f31-7424-4daa-b230-0090a829ece9"
      },
      "outputs": [],
      "source": [
        "my_model$results"
      ],
      "id": "78f31f31-7424-4daa-b230-0090a829ece9"
    },
    {
      "id": "a706a8ad",
      "cell_type": "markdown",
      "source": [
        "# 11 深層学習とAutoML"
      ],
      "metadata": {
        "id": "a706a8ad"
      }
    },
    {
      "cell_type": "code",
      "execution_count": null,
      "metadata": {
        "id": "ffee0f43-4fd0-4164-bae1-53e6cbf1491e"
      },
      "outputs": [],
      "source": [
        "# Google Colaboratoryの環境設定\n",
        "if (file.exists(\"/content\")) {\n",
        "  options(Ncpus = parallel::detectCores())\n",
        "  installed_packages <- rownames(installed.packages())\n",
        "  packages_to_install <- c(\"h2o\", \"keras\")\n",
        "  install.packages(setdiff(packages_to_install, installed_packages))\n",
        "}"
      ],
      "id": "ffee0f43-4fd0-4164-bae1-53e6cbf1491e"
    },
    {
      "id": "26b732fb",
      "cell_type": "markdown",
      "source": [
        "## 11.1 Kerasによる回帰"
      ],
      "metadata": {
        "id": "26b732fb"
      }
    },
    {
      "cell_type": "code",
      "execution_count": null,
      "metadata": {
        "id": "d7d5f6d7-0704-4b57-99e1-b7ab831dff09"
      },
      "outputs": [],
      "source": [
        "library(keras)\n",
        "library(tidyverse)\n",
        "my_url <- str_c(\"https://raw.githubusercontent.com/taroyabuki\",\n",
        "                \"/fromzero/master/data/wine.csv\")\n",
        "tmp <- read_csv(my_url)"
      ],
      "id": "d7d5f6d7-0704-4b57-99e1-b7ab831dff09"
    },
    {
      "cell_type": "code",
      "execution_count": null,
      "metadata": {
        "id": "dffd1daa-7a98-43fa-93a2-c888f452cdf0"
      },
      "outputs": [],
      "source": [
        "my_data <- tmp[sample(nrow(tmp)), ]"
      ],
      "id": "dffd1daa-7a98-43fa-93a2-c888f452cdf0"
    },
    {
      "cell_type": "code",
      "execution_count": null,
      "metadata": {
        "id": "8795dc76-5c4a-47f9-afac-bc92c54c4303"
      },
      "outputs": [],
      "source": [
        "X <- my_data %>%\n",
        "  select(-LPRICE2) %>% scale\n",
        "y <- my_data$LPRICE2"
      ],
      "id": "8795dc76-5c4a-47f9-afac-bc92c54c4303"
    },
    {
      "cell_type": "code",
      "execution_count": null,
      "metadata": {
        "id": "7c0ff55e-17be-473c-ba0d-65c566300c12"
      },
      "outputs": [],
      "source": [
        "curve(activation_relu(x), -3, 3)"
      ],
      "id": "7c0ff55e-17be-473c-ba0d-65c566300c12"
    },
    {
      "cell_type": "code",
      "execution_count": null,
      "metadata": {
        "id": "f5bd4346-27f2-4138-a318-ed9e84c2cb10"
      },
      "outputs": [],
      "source": [
        "my_model <- keras_model_sequential() %>%\n",
        "  layer_dense(units = 3, activation = \"relu\", input_shape = c(4)) %>%\n",
        "  layer_dense(units = 1)\n",
        "\n",
        "summary(my_model) # ネットワークの概要\n",
        "# 割愛（Pythonの結果を参照）"
      ],
      "id": "f5bd4346-27f2-4138-a318-ed9e84c2cb10"
    },
    {
      "cell_type": "code",
      "execution_count": null,
      "metadata": {
        "id": "d7d28c33-bfab-42c1-9257-3fceebaef2fd"
      },
      "outputs": [],
      "source": [
        "my_model %>% compile(\n",
        "  loss = \"mse\",\n",
        "  optimizer = \"rmsprop\")"
      ],
      "id": "d7d28c33-bfab-42c1-9257-3fceebaef2fd"
    },
    {
      "cell_type": "code",
      "execution_count": null,
      "metadata": {
        "id": "926c9740-31cf-456a-894f-305422148f90"
      },
      "outputs": [],
      "source": [
        "my_cb <- callback_early_stopping(\n",
        "  patience = 20,\n",
        "  restore_best_weights = TRUE)"
      ],
      "id": "926c9740-31cf-456a-894f-305422148f90"
    },
    {
      "cell_type": "code",
      "execution_count": null,
      "metadata": {
        "id": "2f634682-a98e-49a3-b9d4-05ae8b611c49"
      },
      "outputs": [],
      "source": [
        "my_history <- my_model %>% fit(\n",
        "    x = X,\n",
        "    y = y,\n",
        "    validation_split = 0.25,\n",
        "    batch_size = 10,\n",
        "    epochs = 500,\n",
        "    callbacks = list(my_cb),\n",
        "    verbose = 0)"
      ],
      "id": "2f634682-a98e-49a3-b9d4-05ae8b611c49"
    },
    {
      "cell_type": "code",
      "execution_count": null,
      "metadata": {
        "id": "afd07e0b-a817-4ad4-89a6-5b7f9bb41d9a"
      },
      "outputs": [],
      "source": [
        "plot(my_history)"
      ],
      "id": "afd07e0b-a817-4ad4-89a6-5b7f9bb41d9a"
    },
    {
      "cell_type": "code",
      "execution_count": null,
      "metadata": {
        "id": "6e94f527-75bb-436e-a3f0-6eda54642189"
      },
      "outputs": [],
      "source": [
        "my_history"
      ],
      "id": "6e94f527-75bb-436e-a3f0-6eda54642189"
    },
    {
      "cell_type": "code",
      "execution_count": null,
      "metadata": {
        "id": "2acbe111-03be-4e15-8e8c-d7d423e6aa99"
      },
      "outputs": [],
      "source": [
        "y_ <- my_model %>% predict(X)\n",
        "mean((y_ - y)^2)**0.5"
      ],
      "id": "2acbe111-03be-4e15-8e8c-d7d423e6aa99"
    },
    {
      "id": "2333d0cf",
      "cell_type": "markdown",
      "source": [
        "## 11.2 Kerasによる分類"
      ],
      "metadata": {
        "id": "2333d0cf"
      }
    },
    {
      "cell_type": "code",
      "execution_count": null,
      "metadata": {
        "id": "393662b7-c8dc-4943-a9d4-90b8e26da76e"
      },
      "outputs": [],
      "source": [
        "library(keras)\n",
        "library(tidyverse)\n",
        "my_data <- iris[sample(nrow(iris)), ]"
      ],
      "id": "393662b7-c8dc-4943-a9d4-90b8e26da76e"
    },
    {
      "cell_type": "code",
      "execution_count": null,
      "metadata": {
        "id": "4e9c2b59-3646-4a9f-86a9-ccc4d2397852"
      },
      "outputs": [],
      "source": [
        "X <- my_data %>%\n",
        "  select(-Species) %>% scale\n",
        "y <- as.integer(my_data$Species) - 1"
      ],
      "id": "4e9c2b59-3646-4a9f-86a9-ccc4d2397852"
    },
    {
      "cell_type": "code",
      "execution_count": null,
      "metadata": {
        "id": "24d33fac-5a0d-4c05-a34b-54c4aa7e249a"
      },
      "outputs": [],
      "source": [
        "my_model <- keras_model_sequential() %>%\n",
        "  layer_dense(units = 3, activation = \"relu\", input_shape = c(4)) %>%\n",
        "  layer_dense(units = 3, activation = \"softmax\")"
      ],
      "id": "24d33fac-5a0d-4c05-a34b-54c4aa7e249a"
    },
    {
      "cell_type": "code",
      "execution_count": null,
      "metadata": {
        "id": "d7526f7e-0f8b-46c9-9fb5-520f865c9b6f"
      },
      "outputs": [],
      "source": [
        "my_model %>% compile(loss = \"sparse_categorical_crossentropy\",\n",
        "                     optimizer = \"rmsprop\",\n",
        "                     metrics = c(\"accuracy\"))"
      ],
      "id": "d7526f7e-0f8b-46c9-9fb5-520f865c9b6f"
    },
    {
      "cell_type": "code",
      "execution_count": null,
      "metadata": {
        "id": "1c9ef290-b2c0-4c10-b4e4-dd1adaa06622"
      },
      "outputs": [],
      "source": [
        "my_cb <- callback_early_stopping(\n",
        "  patience = 20,\n",
        "  restore_best_weights = TRUE)\n",
        "\n",
        "my_history <- my_model %>%\n",
        "  fit(x = X,\n",
        "    y = y,\n",
        "    validation_split = 0.25,\n",
        "    batch_size = 10,\n",
        "    epochs = 500,\n",
        "    callbacks = list(my_cb),\n",
        "    verbose = 0)\n",
        "\n",
        "plot(my_history)"
      ],
      "id": "1c9ef290-b2c0-4c10-b4e4-dd1adaa06622"
    },
    {
      "cell_type": "code",
      "execution_count": null,
      "metadata": {
        "id": "b31d9539-9a0c-4dfa-97e5-f99478e41975"
      },
      "outputs": [],
      "source": [
        "my_history"
      ],
      "id": "b31d9539-9a0c-4dfa-97e5-f99478e41975"
    },
    {
      "cell_type": "code",
      "execution_count": null,
      "metadata": {
        "id": "6e5bf35c-a03b-4113-b996-7e5ee2efe364"
      },
      "outputs": [],
      "source": [
        "tmp <- my_model %>% predict(X)\n",
        "y_ <- apply(tmp, 1, which.max) - 1\n",
        "mean(y_ == y)"
      ],
      "id": "6e5bf35c-a03b-4113-b996-7e5ee2efe364"
    },
    {
      "cell_type": "code",
      "execution_count": null,
      "metadata": {
        "id": "62e43441-193e-4ef7-8fd8-a1062c7e07c3"
      },
      "outputs": [],
      "source": [
        "-mean(log(c(0.8, 0.7, 0.3, 0.8)))\n",
        "\n",
        "-mean(log(c(0.7, 0.6, 0.2, 0.7)))"
      ],
      "id": "62e43441-193e-4ef7-8fd8-a1062c7e07c3"
    },
    {
      "cell_type": "code",
      "execution_count": null,
      "metadata": {
        "id": "a6ecf4d0-f743-4054-a579-cec66fb3ff2a"
      },
      "outputs": [],
      "source": [
        "y <- c(2, 1, 0, 1)\n",
        "y_1 <- list(c(0.1, 0.1, 0.8),\n",
        "            c(0.1, 0.7, 0.2),\n",
        "            c(0.3, 0.4, 0.3),\n",
        "            c(0.1, 0.8, 0.1))\n",
        "y_2 <- list(c(0.1, 0.2, 0.7),\n",
        "            c(0.2, 0.6, 0.2),\n",
        "            c(0.2, 0.5, 0.3),\n",
        "            c(0.2, 0.7, 0.1))"
      ],
      "id": "a6ecf4d0-f743-4054-a579-cec66fb3ff2a"
    },
    {
      "cell_type": "code",
      "execution_count": null,
      "metadata": {
        "id": "ba95630a-e344-4c0e-99e6-93b1c43a11ff"
      },
      "outputs": [],
      "source": [
        "c(mean(as.array(loss_sparse_categorical_crossentropy(y_true = y, y_pred = y_1))),\n",
        "  mean(as.array(loss_sparse_categorical_crossentropy(y_true = y, y_pred = y_2))))"
      ],
      "id": "ba95630a-e344-4c0e-99e6-93b1c43a11ff"
    },
    {
      "id": "915a37cc",
      "cell_type": "markdown",
      "source": [
        "## 11.3 MNIST：手書き数字の分類"
      ],
      "metadata": {
        "id": "915a37cc"
      }
    },
    {
      "cell_type": "code",
      "execution_count": null,
      "metadata": {
        "id": "89365c73-2d21-4676-991d-89c707434dac"
      },
      "outputs": [],
      "source": [
        "library(keras)\n",
        "library(tidyverse)\n",
        "keras::`%<-%`(c(c(x_train, y_train), c(x_test, y_test)), dataset_mnist())"
      ],
      "id": "89365c73-2d21-4676-991d-89c707434dac"
    },
    {
      "cell_type": "code",
      "execution_count": null,
      "metadata": {
        "id": "90580ebf-863e-40b2-9e72-b37469bd89ed"
      },
      "outputs": [],
      "source": [
        "dim(x_train)"
      ],
      "id": "90580ebf-863e-40b2-9e72-b37469bd89ed"
    },
    {
      "cell_type": "code",
      "execution_count": null,
      "metadata": {
        "id": "5d5a7661-c0e1-4bef-9f23-91b548aa1864"
      },
      "outputs": [],
      "source": [
        "x_train[5, , ]"
      ],
      "id": "5d5a7661-c0e1-4bef-9f23-91b548aa1864"
    },
    {
      "cell_type": "code",
      "execution_count": null,
      "metadata": {
        "id": "e8414c1e-95ef-4cab-8ffc-d569abcd6936"
      },
      "outputs": [],
      "source": [
        "plot(as.raster(x = x_train[5, , ],\n",
        "               max = max(x_train)))"
      ],
      "id": "e8414c1e-95ef-4cab-8ffc-d569abcd6936"
    },
    {
      "cell_type": "code",
      "execution_count": null,
      "metadata": {
        "id": "3bb196b5-fe28-4481-96c2-a619aac2d828"
      },
      "outputs": [],
      "source": [
        "head(y_train)"
      ],
      "id": "3bb196b5-fe28-4481-96c2-a619aac2d828"
    },
    {
      "cell_type": "code",
      "execution_count": null,
      "metadata": {
        "id": "e1f0f829-e67e-496a-86b9-641d0620ae1e"
      },
      "outputs": [],
      "source": [
        "c(min(x_train), max(x_train))"
      ],
      "id": "e1f0f829-e67e-496a-86b9-641d0620ae1e"
    },
    {
      "cell_type": "code",
      "execution_count": null,
      "metadata": {
        "id": "eb9aeb9c-45b6-4c8d-9823-54d95b3e76bd"
      },
      "outputs": [],
      "source": [
        "x_train <- x_train / 255\n",
        "x_test  <- x_test  / 255"
      ],
      "id": "eb9aeb9c-45b6-4c8d-9823-54d95b3e76bd"
    },
    {
      "cell_type": "code",
      "execution_count": null,
      "metadata": {
        "id": "3ba6e014-db23-490a-8c1c-c26f7a65946d"
      },
      "outputs": [],
      "source": [
        "my_index <- sample(1:60000, 6000)\n",
        "x_train <- x_train[my_index, , ]\n",
        "y_train <- y_train[my_index]"
      ],
      "id": "3ba6e014-db23-490a-8c1c-c26f7a65946d"
    },
    {
      "cell_type": "code",
      "execution_count": null,
      "metadata": {
        "id": "e2020774-665b-4eed-a8f2-3bef7283a4c9"
      },
      "outputs": [],
      "source": [
        "my_model <- keras_model_sequential() %>%\n",
        "  layer_flatten(input_shape = c(28, 28)) %>%\n",
        "  layer_dense(units = 256, activation = \"relu\") %>%\n",
        "  layer_dense(units = 10, activation = \"softmax\")\n",
        "summary(my_model)\n",
        "# 割愛（Pythonの結果を参照）\n",
        "\n",
        "my_model %>% compile(loss = \"sparse_categorical_crossentropy\",\n",
        "                     optimizer = \"rmsprop\",\n",
        "                     metrics = c(\"accuracy\"))\n",
        "\n",
        "my_cb <- callback_early_stopping(patience = 5,\n",
        "                                 restore_best_weights = TRUE)"
      ],
      "id": "e2020774-665b-4eed-a8f2-3bef7283a4c9"
    },
    {
      "cell_type": "code",
      "execution_count": null,
      "metadata": {
        "id": "58fa95a2-dada-40e5-8cd9-22713a24f799"
      },
      "outputs": [],
      "source": [
        "my_history <- my_model %>%\n",
        "  fit(x = x_train,\n",
        "      y = y_train,\n",
        "      validation_split = 0.2,\n",
        "      batch_size = 128,\n",
        "      epochs = 20,\n",
        "      callbacks = list(my_cb),\n",
        "      verbose = 0)\n",
        "\n",
        "plot(my_history)"
      ],
      "id": "58fa95a2-dada-40e5-8cd9-22713a24f799"
    },
    {
      "cell_type": "code",
      "execution_count": null,
      "metadata": {
        "id": "382cec95-1f90-4633-8281-a853152a844c"
      },
      "outputs": [],
      "source": [
        "tmp <- my_model %>% predict(x_test)\n",
        "y_ <- apply(tmp, 1, which.max) - 1\n",
        "table(y_, y_test)"
      ],
      "id": "382cec95-1f90-4633-8281-a853152a844c"
    },
    {
      "cell_type": "code",
      "execution_count": null,
      "metadata": {
        "id": "acd856a8-7a4d-41d4-8390-d1053af994ba"
      },
      "outputs": [],
      "source": [],
      "id": "acd856a8-7a4d-41d4-8390-d1053af994ba"
    },
    {
      "cell_type": "code",
      "execution_count": null,
      "metadata": {
        "id": "17e70c6f-91bd-4322-8332-bee410c79c3d"
      },
      "outputs": [],
      "source": [
        "mean(y_ == y_test)"
      ],
      "id": "17e70c6f-91bd-4322-8332-bee410c79c3d"
    },
    {
      "cell_type": "code",
      "execution_count": null,
      "metadata": {
        "id": "f5ee2450-ccaf-403c-954a-1bf8040d9447"
      },
      "outputs": [],
      "source": [
        "my_model %>%\n",
        "  evaluate(x = x_test, y = y_test)"
      ],
      "id": "f5ee2450-ccaf-403c-954a-1bf8040d9447"
    },
    {
      "cell_type": "code",
      "execution_count": null,
      "metadata": {
        "id": "8f9581b2-d328-4a1c-ace0-55e519f1a879"
      },
      "outputs": [],
      "source": [
        "x_train2d <- x_train %>% array_reshape(c(-1, 28, 28, 1))\n",
        "x_test2d  <- x_test  %>% array_reshape(c(-1, 28, 28, 1))"
      ],
      "id": "8f9581b2-d328-4a1c-ace0-55e519f1a879"
    },
    {
      "cell_type": "code",
      "execution_count": null,
      "metadata": {
        "id": "084f455b-8a5d-4af1-898b-7dea833e0a59"
      },
      "outputs": [],
      "source": [
        "my_model <- keras_model_sequential() %>%\n",
        "  layer_conv_2d(filters = 32, kernel_size = 3,  # 畳み込み層\n",
        "                activation = \"relu\",\n",
        "                input_shape = c(28, 28, 1)) %>%\n",
        "  layer_max_pooling_2d(pool_size = 2) %>%       # プーリング層\n",
        "  layer_flatten() %>%\n",
        "  layer_dense(units = 128, activation = \"relu\") %>%\n",
        "  layer_dense(units = 10, activation = \"softmax\")\n",
        "\n",
        "summary(my_model)\n",
        "# 割愛（Python の結果を参照）\n",
        "\n",
        "my_model %>% compile(loss = \"sparse_categorical_crossentropy\",\n",
        "                     optimizer = \"rmsprop\",\n",
        "                     metrics = c(\"accuracy\"))\n",
        "\n",
        "my_cb <- callback_early_stopping(patience = 5,\n",
        "                                 restore_best_weights = TRUE)"
      ],
      "id": "084f455b-8a5d-4af1-898b-7dea833e0a59"
    },
    {
      "cell_type": "code",
      "execution_count": null,
      "metadata": {
        "id": "552c2e71-34e2-4618-a9bc-ba062b106663"
      },
      "outputs": [],
      "source": [
        "my_history <- my_model %>%\n",
        "  fit(x = x_train2d,\n",
        "      y = y_train,\n",
        "      validation_split = 0.2,\n",
        "      batch_size = 128,\n",
        "      epochs = 20,\n",
        "      callbacks = list(my_cb),\n",
        "      verbose = 0)\n",
        "\n",
        "plot(my_history)"
      ],
      "id": "552c2e71-34e2-4618-a9bc-ba062b106663"
    },
    {
      "cell_type": "code",
      "execution_count": null,
      "metadata": {
        "id": "46a08383-b767-4862-83c9-833cf488988f"
      },
      "outputs": [],
      "source": [
        "my_model %>%\n",
        "  evaluate(x = x_test2d, y = y_test)"
      ],
      "id": "46a08383-b767-4862-83c9-833cf488988f"
    },
    {
      "cell_type": "code",
      "execution_count": null,
      "metadata": {
        "id": "fa32dbb7-e82c-4cb5-81d8-749db59765dc"
      },
      "outputs": [],
      "source": [
        "my_model <- keras_model_sequential() %>%\n",
        "  layer_conv_2d(filters = 20, kernel_size = 5, activation = \"relu\",\n",
        "                input_shape = c(28, 28, 1)) %>%\n",
        "  layer_max_pooling_2d(pool_size = 2, strides = 2) %>%\n",
        "  layer_conv_2d(filters = 50, kernel_size = 5, activation = \"relu\") %>%\n",
        "  layer_max_pooling_2d(pool_size = 2, strides = 2) %>%\n",
        "  layer_dropout(rate = 0.25) %>%\n",
        "  layer_flatten() %>%\n",
        "  layer_dense(units = 500, activation = \"relu\") %>%\n",
        "  layer_dropout(rate = 0.5) %>%\n",
        "  layer_dense(units = 10, activation = \"softmax\")\n",
        "\n",
        "my_model %>% compile(\n",
        "  loss = \"sparse_categorical_crossentropy\",\n",
        "  optimizer = \"rmsprop\",\n",
        "  metrics = c(\"accuracy\"))\n",
        "\n",
        "my_cb <- callback_early_stopping(patience = 5,\n",
        "                                 restore_best_weights = TRUE)"
      ],
      "id": "fa32dbb7-e82c-4cb5-81d8-749db59765dc"
    },
    {
      "cell_type": "code",
      "execution_count": null,
      "metadata": {
        "id": "3487e4b5-b6f4-4abb-8f82-664d6d02003e"
      },
      "outputs": [],
      "source": [
        "my_history <- my_model %>%\n",
        "  fit(x = x_train2d,\n",
        "      y = y_train,\n",
        "      validation_split = 0.2,\n",
        "      batch_size = 128,\n",
        "      epochs = 20,\n",
        "      callbacks = list(my_cb),\n",
        "      verbose = 0)\n",
        "\n",
        "plot(my_history)"
      ],
      "id": "3487e4b5-b6f4-4abb-8f82-664d6d02003e"
    },
    {
      "cell_type": "code",
      "execution_count": null,
      "metadata": {
        "id": "b9b3ea01-b7e8-46a8-985f-4d9a14fdbed1"
      },
      "outputs": [],
      "source": [
        "my_model %>%\n",
        "  evaluate(x = x_test2d, y = y_test)"
      ],
      "id": "b9b3ea01-b7e8-46a8-985f-4d9a14fdbed1"
    },
    {
      "cell_type": "code",
      "execution_count": null,
      "metadata": {
        "id": "f81bff22-1e09-4c1c-b6f1-4d9e2e9aab9d"
      },
      "outputs": [],
      "source": [
        "y_prob <- my_model %>% predict(x_test2d) # カテゴリに属する確率\n",
        "\n",
        "my_result <- data.frame(\n",
        "  y_prob = apply(y_prob, 1, max),           # 確率の最大値\n",
        "  y_     = apply(y_prob, 1, which.max) - 1, # 予測カテゴリ\n",
        "  y      = y_test,                          # 正解\n",
        "  id     = seq_len(length(y_test))) %>%     # 番号\n",
        "  filter(y_ != y) %>%                       # 予測がはずれたものを残す\n",
        "  arrange(desc(y_prob))                     # 確率の大きい順に並び替える"
      ],
      "id": "f81bff22-1e09-4c1c-b6f1-4d9e2e9aab9d"
    },
    {
      "cell_type": "code",
      "execution_count": null,
      "metadata": {
        "id": "91a9d3f7-424c-4570-8b1c-f24c4c48fa9d"
      },
      "outputs": [],
      "source": [
        "head(my_result)"
      ],
      "id": "91a9d3f7-424c-4570-8b1c-f24c4c48fa9d"
    },
    {
      "cell_type": "code",
      "execution_count": null,
      "metadata": {
        "id": "a82a8152-bb4b-44b4-b7d3-b51e6edfb12d"
      },
      "outputs": [],
      "source": [
        "tmp <- my_result[1:5, ]$id\n",
        "my_labels <- sprintf(\"%s (%s)\",\n",
        "  my_result[1:5, ]$y, tmp)\n",
        "my_fig <- expand.grid(\n",
        "  label = my_labels,\n",
        "  y = 28:1,\n",
        "  x = 1:28)\n",
        "my_fig$z <- as.vector(\n",
        "  x_test[tmp, , ])\n",
        "\n",
        "my_fig %>% ggplot(\n",
        "  aes(x = x, y = y, fill = z)) +\n",
        "  geom_raster() +\n",
        "  coord_fixed() +\n",
        "  theme_void() +\n",
        "  theme(legend.position = \"none\") +\n",
        "  facet_grid(. ~ label)"
      ],
      "id": "a82a8152-bb4b-44b4-b7d3-b51e6edfb12d"
    },
    {
      "id": "2f023b95",
      "cell_type": "markdown",
      "source": [
        "## 11.4 AutoML"
      ],
      "metadata": {
        "id": "2f023b95"
      }
    },
    {
      "cell_type": "code",
      "execution_count": null,
      "metadata": {
        "id": "aa4353c5-b41d-442f-919e-0c035e69f636"
      },
      "outputs": [],
      "source": [
        "library(h2o)\n",
        "library(keras)\n",
        "library(tidyverse)\n",
        "\n",
        "h2o.init()\n",
        "h2o.no_progress()\n",
        "# h2o.shutdown(prompt = FALSE) # 停止"
      ],
      "id": "aa4353c5-b41d-442f-919e-0c035e69f636"
    },
    {
      "cell_type": "code",
      "execution_count": null,
      "metadata": {
        "id": "d78b3057-d48a-469c-b098-6f440fe5bd89"
      },
      "outputs": [],
      "source": [
        "my_url <- str_c(\"https://raw.githubusercontent.com/taroyabuki\",\n",
        "                \"/fromzero/master/data/wine.csv\")\n",
        "my_data <- read_csv(my_url)\n",
        "my_frame <- as.h2o(my_data) # 通常のデータフレームをH2OFrameに変換する．\n",
        "# あるいは\n",
        "my_frame <- h2o.importFile(my_url, header = TRUE) # データを読み込む．"
      ],
      "id": "d78b3057-d48a-469c-b098-6f440fe5bd89"
    },
    {
      "cell_type": "code",
      "execution_count": null,
      "metadata": {
        "id": "3ab6a27c-12b2-4673-9307-c7b1f84103e4"
      },
      "outputs": [],
      "source": [
        "my_frame\n",
        "\n",
        "# 通常のデータフレームに戻す．\n",
        "my_frame %>% as.data.frame %>% head\n",
        "# 結果は割愛（見た目は同じ）"
      ],
      "id": "3ab6a27c-12b2-4673-9307-c7b1f84103e4"
    },
    {
      "cell_type": "code",
      "execution_count": null,
      "metadata": {
        "id": "ce53c669-040a-4c1f-927b-ccb8c9d371cd"
      },
      "outputs": [],
      "source": [
        "my_model <- h2o.automl(\n",
        "    y = \"LPRICE2\",\n",
        "    training_frame = my_frame,\n",
        "    max_runtime_secs = 60)"
      ],
      "id": "ce53c669-040a-4c1f-927b-ccb8c9d371cd"
    },
    {
      "cell_type": "code",
      "execution_count": null,
      "metadata": {
        "id": "1ff895ce-febf-48f9-b8fc-75ee0db4c2dd"
      },
      "outputs": [],
      "source": [
        "min(my_model@leaderboard$rmse)"
      ],
      "id": "1ff895ce-febf-48f9-b8fc-75ee0db4c2dd"
    },
    {
      "cell_type": "code",
      "execution_count": null,
      "metadata": {
        "id": "6dd38cb9-8bad-43d7-a1ca-407b12943d0f"
      },
      "outputs": [],
      "source": [
        "tmp <- my_model %>%\n",
        "  predict(my_frame) %>%\n",
        "  as.data.frame\n",
        "y_ <- tmp$predict\n",
        "y  <- my_data$LPRICE2\n",
        "\n",
        "plot(y, y_)"
      ],
      "id": "6dd38cb9-8bad-43d7-a1ca-407b12943d0f"
    },
    {
      "cell_type": "code",
      "execution_count": null,
      "metadata": {
        "id": "7e67fd8c-ea11-48f1-9415-0f8eb6b9634a"
      },
      "outputs": [],
      "source": [
        "keras::`%<-%`(c(c(x_train, y_train), c(x_test, y_test)), dataset_mnist())\n",
        "my_index <- sample(1:60000, 6000)\n",
        "x_train <- x_train[my_index, , ]\n",
        "y_train <- y_train[my_index]"
      ],
      "id": "7e67fd8c-ea11-48f1-9415-0f8eb6b9634a"
    },
    {
      "cell_type": "code",
      "execution_count": null,
      "metadata": {
        "id": "e16e7501-a54f-4890-97b1-3aeadc70760f"
      },
      "outputs": [],
      "source": [
        "tmp <- x_train %>%\n",
        "  array_reshape(c(-1, 28 * 28)) %>%\n",
        "  as.data.frame\n",
        "tmp$y <- as.factor(y_train)\n",
        "my_train <- as.h2o(tmp)\n",
        "\n",
        "tmp <- x_test %>%\n",
        "  array_reshape(c(-1, 28 * 28)) %>%\n",
        "  as.data.frame\n",
        "my_test <- as.h2o(tmp)"
      ],
      "id": "e16e7501-a54f-4890-97b1-3aeadc70760f"
    },
    {
      "cell_type": "code",
      "execution_count": null,
      "metadata": {
        "id": "d562c8af-31bb-40ff-8e37-88709b624bad"
      },
      "outputs": [],
      "source": [
        "my_model <- h2o.automl(\n",
        "    y = \"y\",\n",
        "    training_frame = my_train,\n",
        "    max_runtime_secs = 120)"
      ],
      "id": "d562c8af-31bb-40ff-8e37-88709b624bad"
    },
    {
      "cell_type": "code",
      "execution_count": null,
      "metadata": {
        "id": "46ba59f9-503b-45b3-b3d1-c3f1db813c3b"
      },
      "outputs": [],
      "source": [
        "min(my_model@leaderboard$\n",
        "    mean_per_class_error)"
      ],
      "id": "46ba59f9-503b-45b3-b3d1-c3f1db813c3b"
    },
    {
      "cell_type": "code",
      "execution_count": null,
      "metadata": {
        "id": "4893a7d7-94c1-4588-9da4-2d3be69a5261"
      },
      "outputs": [],
      "source": [
        "tmp <- my_model %>%\n",
        "  predict(my_test) %>% as.data.frame\n",
        "y_ <- tmp$predict\n",
        "\n",
        "mean(y_ == y_test)"
      ],
      "id": "4893a7d7-94c1-4588-9da4-2d3be69a5261"
    },
    {
      "id": "4a41ef83",
      "cell_type": "markdown",
      "source": [
        "# 12 時系列予測"
      ],
      "metadata": {
        "id": "4a41ef83"
      }
    },
    {
      "cell_type": "code",
      "execution_count": null,
      "metadata": {
        "id": "d76025c7-9db5-4535-950d-165842a1f0be"
      },
      "outputs": [],
      "source": [
        "# Google Colaboratoryの環境設定\n",
        "if (file.exists(\"/content\")) {\n",
        "  options(Ncpus = parallel::detectCores())\n",
        "  installed_packages <- rownames(installed.packages())\n",
        "  packages_to_install <- c(\"caret\", \"fable\", \"feasts\", \"prophet\", \"tsibble\", \"urca\")\n",
        "  packages_to_upgrade <- c(\"ggplot2\")\n",
        "  install.packages(union(setdiff(packages_to_install, installed_packages), packages_to_upgrade))\n",
        "}"
      ],
      "id": "d76025c7-9db5-4535-950d-165842a1f0be"
    },
    {
      "id": "d491eecf",
      "cell_type": "markdown",
      "source": [
        "## 12.1 日時と日時の列"
      ],
      "metadata": {
        "id": "d491eecf"
      }
    },
    {
      "cell_type": "code",
      "execution_count": null,
      "metadata": {
        "id": "c236e872-3328-46ff-9006-1210ca69a125"
      },
      "outputs": [],
      "source": [
        "as.POSIXct(\"2021-01-01\")"
      ],
      "id": "c236e872-3328-46ff-9006-1210ca69a125"
    },
    {
      "cell_type": "code",
      "execution_count": null,
      "metadata": {
        "id": "51380e88-5900-45f4-827d-3f3e0667eadb"
      },
      "outputs": [],
      "source": [
        "library(tsibble)\n",
        "\n",
        "seq(from = 2021, to = 2023, by = 1)\n",
        "\n",
        "seq(from = yearmonth(\"202101\"), to = yearmonth(\"202103\"), by = 2)\n",
        "\n",
        "seq(from = as.POSIXct(\"2021-01-01\"), to = as.POSIXct(\"2021-01-03\"), by = \"1 day\")\n",
        "\n",
        "seq(from = as.POSIXct(\"2021-01-01 00:00:00\"),\n",
        "    to   = as.POSIXct(\"2021-01-01 03:00:00\"), by = \"2 hour\")"
      ],
      "id": "51380e88-5900-45f4-827d-3f3e0667eadb"
    },
    {
      "id": "135e56c1",
      "cell_type": "markdown",
      "source": [
        "## 12.2 時系列データの予測"
      ],
      "metadata": {
        "id": "135e56c1"
      }
    },
    {
      "cell_type": "code",
      "execution_count": null,
      "metadata": {
        "id": "c1a0744b-b83b-404f-be29-4bcd643e8d42"
      },
      "outputs": [],
      "source": [
        "my_data <- as.vector(AirPassengers)"
      ],
      "id": "c1a0744b-b83b-404f-be29-4bcd643e8d42"
    },
    {
      "cell_type": "code",
      "execution_count": null,
      "metadata": {
        "id": "0adca80d-38dd-48f3-ab17-f2393de13f6d"
      },
      "outputs": [],
      "source": [
        "n <- length(my_data) # データ数（144）\n",
        "k <- 108             # 訓練データ数"
      ],
      "id": "0adca80d-38dd-48f3-ab17-f2393de13f6d"
    },
    {
      "cell_type": "code",
      "execution_count": null,
      "metadata": {
        "id": "d87c6500-774f-4f39-a63e-4a55de455d8f"
      },
      "outputs": [],
      "source": [
        "library(tidyverse)\n",
        "library(tsibble)\n",
        "\n",
        "my_ds <- seq(\n",
        "  from = yearmonth(\"1949/01\"),\n",
        "  to   = yearmonth(\"1960/12\"),\n",
        "  by   = 1)\n",
        "my_label <- rep(\n",
        "  c(\"train\", \"test\"),\n",
        "  c(k, n - k))\n",
        "my_df <- tsibble(\n",
        "  ds    = my_ds,\n",
        "  x     = 0:(n - 1),\n",
        "  y     = my_data,\n",
        "  label = my_label,\n",
        "  index = ds) # 日時の列の指定\n",
        "\n",
        "head(my_df)"
      ],
      "id": "d87c6500-774f-4f39-a63e-4a55de455d8f"
    },
    {
      "cell_type": "code",
      "execution_count": null,
      "metadata": {
        "id": "cb9de935-c701-4c7a-96a1-34a0a55f1cec"
      },
      "outputs": [],
      "source": [
        "my_train <- my_df[  1:k , ]\n",
        "my_test  <- my_df[-(1:k), ]\n",
        "y <- my_test$y"
      ],
      "id": "cb9de935-c701-4c7a-96a1-34a0a55f1cec"
    },
    {
      "cell_type": "code",
      "execution_count": null,
      "metadata": {
        "id": "5bc69945-5952-4170-8f10-62adf8a06e36"
      },
      "outputs": [],
      "source": [
        "my_plot <- my_df %>%\n",
        "  ggplot(aes(x = ds,\n",
        "             y = y,\n",
        "             color = label)) +\n",
        "  geom_line()\n",
        "my_plot"
      ],
      "id": "5bc69945-5952-4170-8f10-62adf8a06e36"
    },
    {
      "cell_type": "code",
      "execution_count": null,
      "metadata": {
        "id": "382487f2-d824-4ff8-abb5-ea2958102b91"
      },
      "outputs": [],
      "source": [
        "library(caret)\n",
        "my_lm_model <- train(form = y ~ x, data = my_train, method = \"lm\")\n",
        "y_ <- my_lm_model %>% predict(my_test)\n",
        "caret::RMSE(y, y_) # RMSE（テスト）"
      ],
      "id": "382487f2-d824-4ff8-abb5-ea2958102b91"
    },
    {
      "cell_type": "code",
      "execution_count": null,
      "metadata": {
        "id": "ec4ef0d1-1bab-4e86-979b-ab257cd2dd97"
      },
      "outputs": [],
      "source": [
        "y_ <- my_lm_model %>% predict(my_df)\n",
        "tmp <- my_df %>%\n",
        "  mutate(y = y_, label = \"model\")\n",
        "my_plot + geom_line(data = tmp)"
      ],
      "id": "ec4ef0d1-1bab-4e86-979b-ab257cd2dd97"
    },
    {
      "cell_type": "code",
      "execution_count": null,
      "metadata": {
        "id": "d14868cc-5634-4706-a604-ff65a0f9a132"
      },
      "outputs": [],
      "source": [
        "library(fable)\n",
        "my_arima_model <- my_train %>% model(ARIMA(y))\n",
        "my_arima_model"
      ],
      "id": "d14868cc-5634-4706-a604-ff65a0f9a132"
    },
    {
      "cell_type": "code",
      "execution_count": null,
      "metadata": {
        "id": "c0b4927d-4a9a-4e87-8191-e06f19eb5ad2"
      },
      "outputs": [],
      "source": [
        "tmp <- my_arima_model %>% forecast(h = \"3 years\")\n",
        "head(tmp)"
      ],
      "id": "c0b4927d-4a9a-4e87-8191-e06f19eb5ad2"
    },
    {
      "cell_type": "code",
      "execution_count": null,
      "metadata": {
        "id": "d398a371-d07b-4cb9-b861-e7b7f205ff70"
      },
      "outputs": [],
      "source": [
        "y_ <- tmp$.mean\n",
        "caret::RMSE(y_, y)"
      ],
      "id": "d398a371-d07b-4cb9-b861-e7b7f205ff70"
    },
    {
      "cell_type": "code",
      "execution_count": null,
      "metadata": {
        "id": "181dff7e-4641-431f-95c0-633bf3f64948"
      },
      "outputs": [],
      "source": [
        "# 予測結果のみでよい場合\n",
        "#tmp %>% autoplot\n",
        "\n",
        "tmp %>% autoplot +\n",
        "  geom_line(data = my_df,\n",
        "            aes(x = ds,\n",
        "                y = y,\n",
        "                color = label))"
      ],
      "id": "181dff7e-4641-431f-95c0-633bf3f64948"
    },
    {
      "cell_type": "code",
      "execution_count": null,
      "metadata": {
        "id": "b32d3fde-4090-4ba5-aa1b-a00a197ce46f"
      },
      "outputs": [],
      "source": [
        "library(prophet)\n",
        "my_prophet_model <- my_train %>%\n",
        "  prophet(seasonality.mode = \"multiplicative\")"
      ],
      "id": "b32d3fde-4090-4ba5-aa1b-a00a197ce46f"
    },
    {
      "cell_type": "code",
      "execution_count": null,
      "metadata": {
        "id": "48b715b1-26f0-406a-a97c-6c6d1b2481b4"
      },
      "outputs": [],
      "source": [
        "tmp <- my_prophet_model %>% predict(my_test)\n",
        "head(tmp[, c(\"ds\", \"yhat\", \"yhat_lower\", \"yhat_upper\")])"
      ],
      "id": "48b715b1-26f0-406a-a97c-6c6d1b2481b4"
    },
    {
      "cell_type": "code",
      "execution_count": null,
      "metadata": {
        "id": "cda6e808-b015-488d-a3bf-d8b55d8d4915"
      },
      "outputs": [],
      "source": [
        "y_ <- tmp$yhat\n",
        "caret::RMSE(y_, y)"
      ],
      "id": "cda6e808-b015-488d-a3bf-d8b55d8d4915"
    },
    {
      "cell_type": "code",
      "execution_count": null,
      "metadata": {
        "id": "210aa431-a55a-42ae-9fb0-46d84eca30c2"
      },
      "outputs": [],
      "source": [
        "# my_prophet_model %>% plot(tmp) # 予測結果のみでよい場合\n",
        "\n",
        "my_prophet_model %>% plot(tmp) +\n",
        "  geom_line(data = my_train, aes(x = as.POSIXct(ds))) +\n",
        "  geom_line(data = my_test,  aes(x = as.POSIXct(ds)), color = \"red\")"
      ],
      "id": "210aa431-a55a-42ae-9fb0-46d84eca30c2"
    },
    {
      "id": "25da6ce2",
      "cell_type": "markdown",
      "source": [
        "# 13 教師なし学習"
      ],
      "metadata": {
        "id": "25da6ce2"
      }
    },
    {
      "cell_type": "code",
      "execution_count": null,
      "metadata": {
        "id": "4c3a4a1d-72f7-433c-accd-cb1c328e6e78"
      },
      "outputs": [],
      "source": [
        "# Google Colaboratoryの環境設定\n",
        "if (file.exists(\"/content\")) {\n",
        "  options(Ncpus = parallel::detectCores())\n",
        "  installed_packages <- rownames(installed.packages())\n",
        "  packages_to_install <- c(\"factoextra\", \"ggbiplot\", \"igraph\")\n",
        "  install.packages(setdiff(packages_to_install, installed_packages))\n",
        "}"
      ],
      "id": "4c3a4a1d-72f7-433c-accd-cb1c328e6e78"
    },
    {
      "id": "42040090",
      "cell_type": "markdown",
      "source": [
        "## 13.1 主成分分析"
      ],
      "metadata": {
        "id": "42040090"
      }
    },
    {
      "cell_type": "code",
      "execution_count": null,
      "metadata": {
        "id": "bace0761-27d6-4d69-964a-1fe62b343c0c"
      },
      "outputs": [],
      "source": [
        "library(tidyverse)\n",
        "\n",
        "my_data <- data.frame(\n",
        "  language  = c(  0,  20,  20,  25,  22,  17),\n",
        "  english   = c(  0,  20,  40,  20,  24,  18),\n",
        "  math      = c(100,  20,   5,  30,  17,  25),\n",
        "  science   = c(  0,  20,   5,  25,  16,  23),\n",
        "  society   = c(  0,  20,  30,   0,  21,  17),\n",
        "  row.names = c(\"A\", \"B\", \"C\", \"D\", \"E\", \"F\"))\n",
        "my_result <- my_data %>% prcomp # 主成分分析の実行"
      ],
      "id": "bace0761-27d6-4d69-964a-1fe62b343c0c"
    },
    {
      "cell_type": "code",
      "execution_count": null,
      "metadata": {
        "id": "f25443b1-a7ce-425e-961c-7436e6119f06"
      },
      "outputs": [],
      "source": [
        "my_result$x # 主成分スコア"
      ],
      "id": "f25443b1-a7ce-425e-961c-7436e6119f06"
    },
    {
      "cell_type": "code",
      "execution_count": null,
      "metadata": {
        "id": "dc52c296-eb05-4672-99f3-597735dc21eb"
      },
      "outputs": [],
      "source": [
        "my_result %>% ggbiplot::ggbiplot(\n",
        "  labels = row.names(my_data),\n",
        "  scale = 0)"
      ],
      "id": "dc52c296-eb05-4672-99f3-597735dc21eb"
    },
    {
      "cell_type": "code",
      "execution_count": null,
      "metadata": {
        "id": "9a529296-1f80-4442-9786-4a84de81071f"
      },
      "outputs": [],
      "source": [
        "my_result$rotation %>% t"
      ],
      "id": "9a529296-1f80-4442-9786-4a84de81071f"
    },
    {
      "cell_type": "code",
      "execution_count": null,
      "metadata": {
        "id": "9e3dde31-371d-4b5a-a4a7-605330bd7973"
      },
      "outputs": [],
      "source": [
        "summary(my_result)"
      ],
      "id": "9e3dde31-371d-4b5a-a4a7-605330bd7973"
    },
    {
      "cell_type": "code",
      "execution_count": null,
      "metadata": {
        "id": "8fd66f28-cc72-4b56-9185-26302560771f"
      },
      "outputs": [],
      "source": [
        "my_result <- prcomp(\n",
        "  x = my_data,\n",
        "  scale = TRUE)       # 標準化\n",
        "# あるいは\n",
        "my_result <- prcomp(\n",
        "  x = scale(my_data)) # 標準化データ\n",
        "\n",
        "my_result$x # 主成分スコア"
      ],
      "id": "8fd66f28-cc72-4b56-9185-26302560771f"
    },
    {
      "cell_type": "code",
      "execution_count": null,
      "metadata": {
        "id": "5500f230-e2c0-402e-814f-85cc07c1c15c"
      },
      "outputs": [],
      "source": [
        "Z  <- my_data %>% scale(scale = FALSE) %>% as.matrix # 標準化しない場合\n",
        "#Z <- my_data %>% scale(scale = TRUE)  %>% as.matrix # 標準化する場合\n",
        "\n",
        "n <- nrow(my_data)\n",
        "S <- var(Z)                          # 分散共分散行列\n",
        "#S <- t(Z) %*% Z / (n - 1)           # （同じ結果）\n",
        "tmp <- eigen(S)                      # 固有値と固有ベクトル\n",
        "Z %*% tmp$vectors                    # 主成分スコア（結果は割愛）\n",
        "cumsum(tmp$values) / sum(tmp$values) # 累積寄与率"
      ],
      "id": "5500f230-e2c0-402e-814f-85cc07c1c15c"
    },
    {
      "cell_type": "code",
      "execution_count": null,
      "metadata": {
        "id": "a2dd9166-958f-42a2-b314-6e75487901d2"
      },
      "outputs": [],
      "source": [
        "udv <- svd(Z) # 特異値分解\n",
        "U <- udv$u\n",
        "d <- udv$d\n",
        "V <- udv$v\n",
        "W <- diag(d)\n",
        "\n",
        "c(all.equal(Z, U %*% W %*% t(V), check.attributes = FALSE), # 確認1\n",
        "  all.equal(t(U) %*% U, diag(dim(U)[2])),                   # 確認2\n",
        "  all.equal(t(V) %*% V, diag(dim(V)[2])))                   # 確認3\n",
        "\n",
        "U %*% W            # 主成分スコア（結果は割愛）\n",
        "\n",
        "e <- d^2 / (n - 1) # 分散共分散行列の固有値\n",
        "cumsum(e) / sum(e) # 累積寄与率"
      ],
      "id": "a2dd9166-958f-42a2-b314-6e75487901d2"
    },
    {
      "id": "738c4a6c",
      "cell_type": "markdown",
      "source": [
        "## 13.2 クラスタ分析"
      ],
      "metadata": {
        "id": "738c4a6c"
      }
    },
    {
      "cell_type": "code",
      "execution_count": null,
      "metadata": {
        "id": "3009e1d9-2bb9-47f2-9dda-12e00fae4695"
      },
      "outputs": [],
      "source": [
        "library(tidyverse)\n",
        "\n",
        "my_data <- data.frame(\n",
        "  x         = c(  0, -16,  10,  10),\n",
        "  y         = c(  0,   0,  10, -15),\n",
        "  row.names = c(\"A\", \"B\", \"C\", \"D\"))\n",
        "\n",
        "my_result <- my_data %>%\n",
        "  dist(\"euclidian\") %>% # distだけでも可\n",
        "  hclust(\"complete\")    # hclustだけでも可"
      ],
      "id": "3009e1d9-2bb9-47f2-9dda-12e00fae4695"
    },
    {
      "cell_type": "code",
      "execution_count": null,
      "metadata": {
        "id": "faba169d-9c06-4dd8-be64-0d25fd7c1c15"
      },
      "outputs": [],
      "source": [
        "my_result %>% factoextra::fviz_dend(\n",
        "  k = 3, # クラスタ数\n",
        "  rect = TRUE, rect_fill = TRUE)"
      ],
      "id": "faba169d-9c06-4dd8-be64-0d25fd7c1c15"
    },
    {
      "cell_type": "code",
      "execution_count": null,
      "metadata": {
        "id": "aa3a52e2-d6be-4bb0-b59d-411d1ec2018b"
      },
      "outputs": [],
      "source": [
        "my_result %>% factoextra::fviz_dend(\n",
        "  k = 3,\n",
        "  rect = TRUE, rect_fill = TRUE,\n",
        "  type = \"phylogenic\")"
      ],
      "id": "aa3a52e2-d6be-4bb0-b59d-411d1ec2018b"
    },
    {
      "cell_type": "code",
      "execution_count": null,
      "metadata": {
        "id": "10df7ddd-bf5f-4558-a7ae-810782332505"
      },
      "outputs": [],
      "source": [
        "my_result %>% cutree(3)"
      ],
      "id": "10df7ddd-bf5f-4558-a7ae-810782332505"
    },
    {
      "cell_type": "code",
      "execution_count": null,
      "metadata": {
        "id": "81ece475-e824-4402-a391-4628e9f1b54a"
      },
      "outputs": [],
      "source": [
        "library(tidyverse)\n",
        "\n",
        "my_data <- data.frame(\n",
        "  language  = c(  0,  20,  20,  25,  22,  17),\n",
        "  english   = c(  0,  20,  40,  20,  24,  18),\n",
        "  math      = c(100,  20,   5,  30,  17,  25),\n",
        "  science   = c(  0,  20,   5,  25,  16,  23),\n",
        "  society   = c(  0,  20,  30,   0,  21,  17),\n",
        "  row.names = c(\"A\", \"B\", \"C\", \"D\", \"E\", \"F\"))\n",
        "\n",
        "try( # RMarkdownで発生するエラーを回避する．\n",
        "  my_data %>% scale %>%                        # 列ごとの標準化\n",
        "    gplots::heatmap.2(cexRow = 1, cexCol = 1), # ラベルのサイズを指定して描画する．\n",
        "  silent = TRUE)"
      ],
      "id": "81ece475-e824-4402-a391-4628e9f1b54a"
    },
    {
      "cell_type": "code",
      "execution_count": null,
      "metadata": {
        "id": "92c15122-a56f-4337-ab2d-3bb39d689a74"
      },
      "outputs": [],
      "source": [
        "library(tidyverse)\n",
        "\n",
        "my_data <- data.frame(\n",
        "  x         = c(  0, -16,  10,  10),\n",
        "  y         = c(  0,   0,  10, -15),\n",
        "  row.names = c(\"A\", \"B\", \"C\", \"D\"))\n",
        "\n",
        "my_result <- my_data %>% kmeans(3)"
      ],
      "id": "92c15122-a56f-4337-ab2d-3bb39d689a74"
    },
    {
      "cell_type": "code",
      "execution_count": null,
      "metadata": {
        "id": "3971a1da-150d-4412-9fa2-5e813999f2f3"
      },
      "outputs": [],
      "source": [
        "my_result$cluster"
      ],
      "id": "3971a1da-150d-4412-9fa2-5e813999f2f3"
    },
    {
      "cell_type": "code",
      "execution_count": null,
      "metadata": {
        "id": "682a3fde-0fb7-499b-8576-82fc0c850f43"
      },
      "outputs": [],
      "source": [
        "library(tidyverse)\n",
        "library(factoextra)\n",
        "\n",
        "my_data <- iris[, -5]\n",
        "\n",
        "f <- 2:5 %>% map(function(k) {\n",
        "  my_data %>% kmeans(k) %>%\n",
        "    fviz_cluster(data = my_data, geom = \"point\") +\n",
        "    ggtitle(sprintf(\"k = %s\", k))\n",
        "})\n",
        "gridExtra::grid.arrange(f[[1]], f[[2]], f[[3]], f[[4]], ncol = 2)"
      ],
      "id": "682a3fde-0fb7-499b-8576-82fc0c850f43"
    },
    {
      "cell_type": "code",
      "execution_count": null,
      "metadata": {
        "id": "f4c98574-d531-4a77-b396-05d84edfc9bf"
      },
      "outputs": [],
      "source": [
        "fviz_nbclust(my_data, kmeans, method = \"wss\")"
      ],
      "id": "f4c98574-d531-4a77-b396-05d84edfc9bf"
    },
    {
      "cell_type": "code",
      "execution_count": null,
      "metadata": {
        "id": "263b99e2-cd79-4962-a698-fd2a5823de76"
      },
      "outputs": [],
      "source": [
        "library(tidyverse)\n",
        "my_data <- iris[, -5] %>% scale\n",
        "\n",
        "my_result <- prcomp(my_data)$x %>% as.data.frame # 主成分分析\n",
        "\n",
        "# 非階層的クラスタ分析の場合\n",
        "my_result$cluster <- (my_data %>% scale %>% kmeans(3))$cluster %>% as.factor\n",
        "\n",
        "# 階層的クラスタ分析の場合\n",
        "#my_result$cluster <- my_data %>% dist %>% hclust %>% cutree(3) %>% as.factor\n",
        "\n",
        "my_result %>%\n",
        "  ggplot(aes(x = PC1, y = PC2, color = cluster)) + # 色でクラスタを表現する．\n",
        "  geom_point(shape = iris$Species) +               # 形で品種を表現する．\n",
        "  theme(legend.position = \"none\")"
      ],
      "id": "263b99e2-cd79-4962-a698-fd2a5823de76"
    }
  ],
  "nbformat": 4,
  "nbformat_minor": 5,
  "metadata": {
    "kernelspec": {
      "name": "ir",
      "display_name": "R"
    },
    "colab": {
      "provenance": [],
      "toc_visible": true
    }
  }
}