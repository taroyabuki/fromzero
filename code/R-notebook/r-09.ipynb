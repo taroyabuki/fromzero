{
  "cells": [
    {
      "id": "aa85cbe4",
      "cell_type": "markdown",
      "source": "[\u8fbb\u771f\u543e\u30fb\u77e2\u5439\u592a\u6717\u300e\u30bc\u30ed\u304b\u3089\u306f\u3058\u3081\u308b\u30c7\u30fc\u30bf\u30b5\u30a4\u30a8\u30f3\u30b9\u5165\u9580\u300f\uff08\u8b1b\u8ac7\u793e,\u00a02021\uff09](https://github.com/taroyabuki/fromzero)",
      "metadata": {}
    },
    {
      "cell_type": "code",
      "execution_count": null,
      "metadata": {},
      "outputs": [],
      "source": [
        "# Google Colaboratory\u306e\u74b0\u5883\u8a2d\u5b9a\n",
        "if (Sys.getenv(\"COLAB_JUPYTER_IP\") != \"\") {\n",
        "  options(Ncpus = parallel::detectCores())\n",
        "  installed_packages <- rownames(installed.packages())\n",
        "  packages_to_install <- c(\"caret\", \"furrr\", \"psych\", \"randomForest\", \"rpart.plot\", \"xgboost\")\n",
        "  install.packages(setdiff(packages_to_install, installed_packages))\n",
        "}"
      ],
      "id": "8809261c-2c85-49c2-ae0f-a84751194bfa"
    },
    {
      "id": "1918dc26",
      "cell_type": "markdown",
      "source": "## 9.1 \u30a2\u30e4\u30e1\u306e\u30c7\u30fc\u30bf",
      "metadata": {}
    },
    {
      "cell_type": "code",
      "execution_count": null,
      "metadata": {},
      "outputs": [],
      "source": [
        "my_data <- iris\n",
        "head(my_data)"
      ],
      "id": "2f976898-2621-4f4c-a541-3fb99d1d8446"
    },
    {
      "cell_type": "code",
      "execution_count": null,
      "metadata": {},
      "outputs": [],
      "source": [
        "psych::describe(my_data)"
      ],
      "id": "39ba5974-8069-4e9f-a376-7c00efb58194"
    },
    {
      "id": "ae3c841b",
      "cell_type": "markdown",
      "source": "## 9.2 \u6728\u306b\u3088\u308b\u5206\u985e",
      "metadata": {}
    },
    {
      "cell_type": "code",
      "execution_count": null,
      "metadata": {},
      "outputs": [],
      "source": [
        "library(caret)\n",
        "library(tidyverse)\n",
        "my_data <- iris\n",
        "my_model <- train(form = Species ~ ., data = my_data, method = \"rpart\")"
      ],
      "id": "ee8fabfe-f443-4c5d-9643-d787680d8de1"
    },
    {
      "cell_type": "code",
      "execution_count": null,
      "metadata": {},
      "outputs": [],
      "source": [
        "rpart.plot::rpart.plot(my_model$finalModel, extra = 1)"
      ],
      "id": "002b9e74-03f9-4c5a-9229-2c44d74dca74"
    },
    {
      "cell_type": "code",
      "execution_count": null,
      "metadata": {},
      "outputs": [],
      "source": [
        "my_test <- tribble(\n",
        "~Sepal.Length, ~Sepal.Width, ~Petal.Length, ~Petal.Width,\n",
        "          5.0,          3.5,           1.5,          0.5,\n",
        "          6.5,          3.0,           5.0,          2.0)\n",
        "\n",
        "my_model %>% predict(my_test)"
      ],
      "id": "5ca3d4cf-8135-4875-8433-e9bc797c46d2"
    },
    {
      "cell_type": "code",
      "execution_count": null,
      "metadata": {},
      "outputs": [],
      "source": [
        "my_model %>% predict(my_test,\n",
        "                     type = \"prob\")"
      ],
      "id": "bf878ad9-07f7-4018-b9a8-157370073b75"
    },
    {
      "id": "5d58d31f",
      "cell_type": "markdown",
      "source": "## 9.3 \u6b63\u89e3\u7387",
      "metadata": {}
    },
    {
      "cell_type": "code",
      "execution_count": null,
      "metadata": {},
      "outputs": [],
      "source": [
        "library(caret)\n",
        "library(tidyverse)\n",
        "my_data <- iris\n",
        "my_model <- train(form = Species ~ ., data = my_data, method = \"rpart2\")\n",
        "\n",
        "y  <- my_data$Species\n",
        "y_ <- my_model %>% predict(my_data)\n",
        "confusionMatrix(data = y_, reference = y)\n",
        "# \u4ee5\u4e0b\u306f\u5272\u611b"
      ],
      "id": "ef368f17-65fd-4082-908d-4636002186c7"
    },
    {
      "cell_type": "code",
      "execution_count": null,
      "metadata": {},
      "outputs": [],
      "source": [
        "y  <- my_data$Species\n",
        "y_ <- my_model %>% predict(my_data)\n",
        "mean(y_ == y)"
      ],
      "id": "328e9cf8-8033-4527-9b51-dd4a1bf216b7"
    },
    {
      "cell_type": "code",
      "execution_count": null,
      "metadata": {},
      "outputs": [],
      "source": [
        "my_model <- train(form = Species ~ ., data = my_data, method = \"rpart2\",\n",
        "                  trControl = trainControl(method = \"LOOCV\"))\n",
        "my_model$results"
      ],
      "id": "70fbae42-778a-415f-97fa-a26dc6337a2c"
    },
    {
      "cell_type": "code",
      "execution_count": null,
      "metadata": {},
      "outputs": [],
      "source": [
        "my_model <- train(form = Species ~ ., data = my_data, method = \"rpart2\",\n",
        "                  tuneGrid = data.frame(maxdepth = 1:10),\n",
        "                  trControl = trainControl(method = \"LOOCV\"))\n",
        "my_model$results %>% filter(Accuracy == max(Accuracy))"
      ],
      "id": "5de1ad36-5219-438a-849c-90d6d3ef54be"
    },
    {
      "cell_type": "code",
      "execution_count": null,
      "metadata": {},
      "outputs": [],
      "source": [
        "# \u30d1\u30e9\u30e1\u30fc\u30bf\u3092\u4e0e\u3048\u308b\u3068\u6b63\u89e3\u7387\uff08LOOCV\uff09\u3092\u8fd4\u3059\u95a2\u6570\n",
        "my_loocv <- function(maxdepth, minbucket, minsplit) {\n",
        "  my_model <- train(form = Species ~ ., data = my_data, method = \"rpart2\",\n",
        "                    trControl = trainControl(method = \"LOOCV\"),\n",
        "                    tuneGrid = data.frame(maxdepth = maxdepth),\n",
        "                    control = rpart::rpart.control(cp = 0.01,\n",
        "                                                   minbucket = minbucket,\n",
        "                                                   minsplit = minsplit))\n",
        "  list(maxdepth = maxdepth,\n",
        "       minbucket = minbucket,\n",
        "       minsplit = minsplit,\n",
        "       Accuracy = my_model$results$Accuracy)\n",
        "}"
      ],
      "id": "b5c24593-b391-4399-997b-d0d285e2cde7"
    },
    {
      "cell_type": "code",
      "execution_count": null,
      "metadata": {},
      "outputs": [],
      "source": [
        "my_params <- expand.grid(\n",
        "  maxdepth = 2:5,\n",
        "  minbucket = 1:7,\n",
        "  minsplit = c(2, 20))\n",
        "\n",
        "library(furrr)\n",
        "plan(multisession) # \u4e26\u5217\u51e6\u7406\u306e\u6e96\u5099\n",
        "my_results <- my_params %>% future_pmap_dfr(my_loocv, # \u5b9f\u884c\n",
        "  .options = furrr_options(seed = TRUE))\n",
        "\n",
        "my_results %>% filter(Accuracy == max(Accuracy)) # \u6b63\u89e3\u7387\uff08\u691c\u8a3c\uff09\u306e\u6700\u5927\u5024"
      ],
      "id": "1cd224fe-61c6-425e-a3dd-80aa32435284"
    },
    {
      "cell_type": "code",
      "execution_count": null,
      "metadata": {},
      "outputs": [],
      "source": [
        "my_model <- train(form = Species ~ ., data = my_data, method = \"rpart2\",\n",
        "                  trControl = trainControl(method = \"none\"),\n",
        "                  tuneGrid = data.frame(maxdepth = 3),\n",
        "                  control = rpart::rpart.control(cp = 0.01,\n",
        "                                                 minbucket = 5,\n",
        "                                                 minsplit = 2))"
      ],
      "id": "44498242-d6d4-4a8e-8bc3-a3956ff5665a"
    },
    {
      "cell_type": "code",
      "execution_count": null,
      "metadata": {},
      "outputs": [],
      "source": [
        "rpart.plot::rpart.plot(\n",
        "  my_model$finalModel, extra = 1)"
      ],
      "id": "5ef3e70c-a353-4cfe-8551-6d0a73e3430b"
    },
    {
      "id": "3a8c23af",
      "cell_type": "markdown",
      "source": "## 9.4 \u8907\u6570\u306e\u6728\u3092\u4f7f\u3046\u65b9\u6cd5",
      "metadata": {}
    },
    {
      "cell_type": "code",
      "execution_count": null,
      "metadata": {},
      "outputs": [],
      "source": [
        "library(caret)\n",
        "library(tidyverse)\n",
        "my_data <- iris\n",
        "\n",
        "my_model <- train(form = Species ~ ., data = my_data, method = \"rf\",\n",
        "                  tuneGrid = data.frame(mtry = 2:4), # \u7701\u7565\u53ef\n",
        "                  trControl = trainControl(method = \"LOOCV\"))\n",
        "my_model$results"
      ],
      "id": "314ad3ae-88f1-447d-906c-4d31e32141a8"
    },
    {
      "cell_type": "code",
      "execution_count": null,
      "metadata": {},
      "outputs": [],
      "source": [
        "my_model <- train(\n",
        "  form = Species ~ ., data = my_data, method = \"xgbTree\",\n",
        "  tuneGrid = expand.grid(\n",
        "    nrounds          = c(50, 100, 150),\n",
        "    max_depth        = c(1, 2, 3),\n",
        "    eta              = c(0.3, 0.4),\n",
        "    gamma            = 0,\n",
        "    colsample_bytree = c(0.6, 0.8),\n",
        "    min_child_weight = 1,\n",
        "    subsample        = c(0.5, 0.75, 1)),\n",
        "  trControl = trainControl(method = \"cv\", number = 5)) # 5\u5206\u5272\u4ea4\u5dee\u691c\u8a3c\n",
        "my_model$results %>% filter(Accuracy == max(Accuracy)) %>% head(5) %>% t"
      ],
      "id": "b54f6def-0c2e-4ea8-a3bf-a21b4c8ee70c"
    },
    {
      "cell_type": "code",
      "execution_count": null,
      "metadata": {},
      "outputs": [],
      "source": [
        "my_model <- train(form = Species ~ ., data = my_data, method = \"rf\")\n",
        "ggplot(varImp(my_model))"
      ],
      "id": "01a4fa0f-5821-4aab-9772-6edb749341ac"
    },
    {
      "id": "81c3d211",
      "cell_type": "markdown",
      "source": "## 9.5 \u6b20\u640d\u306e\u3042\u308b\u30c7\u30fc\u30bf\u3067\u306e\u5b66\u7fd2",
      "metadata": {}
    },
    {
      "cell_type": "code",
      "execution_count": null,
      "metadata": {},
      "outputs": [],
      "source": [
        "library(caret)\n",
        "library(tidyverse)\n",
        "my_data <- iris\n",
        "\n",
        "n <- nrow(my_data)\n",
        "my_data$Petal.Length[0:(n - 1) %% 10 == 0] <- NA\n",
        "my_data$Petal.Width[ 0:(n - 1) %% 10 == 1] <- NA\n",
        "\n",
        "psych::describe(my_data) # n\u306e\u5024\u304c135\u306e\u5909\u6570\u306b\uff0c150 - 135 = 15\u500b\u306e\u6b20\u640d\u304c\u3042\u308b\uff0e"
      ],
      "id": "cc25172b-3f09-4ffb-9e50-3cafe6d86f6c"
    },
    {
      "cell_type": "code",
      "execution_count": null,
      "metadata": {},
      "outputs": [],
      "source": [
        "my_model <- train(\n",
        "  form = Species ~ ., data = my_data, method = \"rpart2\",\n",
        "  na.action = na.pass,         # \u6b20\u640d\u304c\u3042\u3063\u3066\u3082\u5b66\u7fd2\u3092\u6b62\u3081\u306a\u3044\uff0e\n",
        "  preProcess = \"medianImpute\", # \u6b20\u640d\u3092\u4e2d\u592e\u5024\u3067\u57cb\u3081\u308b\uff0e\n",
        "  trControl = trainControl(method = \"LOOCV\"),\n",
        "  tuneGrid = data.frame(maxdepth = 20),          # \u6728\u306e\u9ad8\u3055\u306e\u4e0a\u9650\n",
        "  control = rpart::rpart.control(minsplit = 2,   # \u5206\u5c90\u306e\u6761\u4ef6\n",
        "                                 minbucket = 1)) # \u7d42\u7aef\u30ce\u30fc\u30c9\u306e\u6761\u4ef6\n",
        "max(my_model$results$Accuracy)"
      ],
      "id": "0a0b4e44-e8d3-4654-ac18-e2d41200a29e"
    },
    {
      "cell_type": "code",
      "execution_count": null,
      "metadata": {},
      "outputs": [],
      "source": [
        "my_model <- train(form = Species ~ ., data = my_data, method = \"xgbTree\",\n",
        "                  na.action = na.pass,\n",
        "                  trControl = trainControl(method = \"cv\", number = 5))\n",
        "max(my_model$results$Accuracy)"
      ],
      "id": "4773f485-3b4b-47d9-9e77-344f6e04db39"
    },
    {
      "id": "36373fa8",
      "cell_type": "markdown",
      "source": "## 9.6 \u4ed6\u306e\u5206\u985e\u624b\u6cd5",
      "metadata": {}
    },
    {
      "cell_type": "code",
      "execution_count": null,
      "metadata": {},
      "outputs": [],
      "source": [
        "library(caret)\n",
        "library(tidyverse)\n",
        "my_data <- iris\n",
        "\n",
        "my_model <- train(form = Species ~ ., data = my_data, method = \"knn\",\n",
        "                  trControl = trainControl(method = \"LOOCV\"))\n",
        "my_model$results %>% filter(Accuracy == max(Accuracy))"
      ],
      "id": "4b1d131c-f1c3-43b6-9c4c-59dc0116810e"
    },
    {
      "cell_type": "code",
      "execution_count": null,
      "metadata": {},
      "outputs": [],
      "source": [
        "library(caret)\n",
        "library(tidyverse)\n",
        "my_data <- iris\n",
        "\n",
        "my_model <- train(form = Species ~ ., data = my_data, method = \"nnet\",\n",
        "                  preProcess = c(\"center\", \"scale\"), # \u6a19\u6e96\u5316\n",
        "                  trControl = trainControl(method = \"LOOCV\"),\n",
        "                  trace = FALSE) # \u9014\u4e2d\u7d4c\u904e\u3092\u8868\u793a\u3057\u306a\u3044\n",
        "my_model$results %>% filter(Accuracy == max(Accuracy))"
      ],
      "id": "4b42953a-f9da-4a7f-8c36-ea6ce538136c"
    }
  ],
  "nbformat": 4,
  "nbformat_minor": 5,
  "metadata": {
    "kernelspec": {
      "name": "ir",
      "display_name": "R"
    }
  }
}