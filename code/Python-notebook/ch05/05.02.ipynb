{
 "cells": [
  {
   "cell_type": "markdown",
   "metadata": {},
   "source": [
    "## 5.2 データの変換\n",
    "\n",
    "### 5.2.1 標準化"
   ]
  },
  {
   "cell_type": "code",
   "execution_count": null,
   "metadata": {},
   "outputs": [],
   "source": [
    "import numpy as np\n",
    "from scipy.stats import zscore\n",
    "\n",
    "x1 = [1, 2, 3]\n",
    "\n",
    "z1 = ((x1 - np.mean(x1)) /\n",
    "      np.std(x1, ddof=1))\n",
    "# あるいは\n",
    "z1 = zscore(x1, ddof=1)\n",
    "\n",
    "z1\n",
    "#> array([-1.,  0.,  1.])"
   ]
  },
  {
   "cell_type": "code",
   "execution_count": null,
   "metadata": {},
   "outputs": [],
   "source": [
    "z1.mean(), np.std(z1, ddof=1)\n",
    "#> (0.0, 1.0)"
   ]
  },
  {
   "cell_type": "code",
   "execution_count": null,
   "metadata": {},
   "outputs": [],
   "source": [
    "z1 * np.std(x1, ddof=1) + np.mean(x1)\n",
    "#> array([1., 2., 3.])"
   ]
  },
  {
   "cell_type": "code",
   "execution_count": null,
   "metadata": {},
   "outputs": [],
   "source": [
    "x2 = [1, 3, 5]\n",
    "z2 = ((x2 - np.mean(x1)) /\n",
    "      np.std(x1, ddof=1))\n",
    "z2.mean(), np.std(z2, ddof=1)\n",
    "#> (1.0, 2.0)"
   ]
  },
  {
   "cell_type": "markdown",
   "metadata": {},
   "source": [
    "### 5.2.2 ワンホットエンコーディング"
   ]
  },
  {
   "cell_type": "code",
   "execution_count": null,
   "metadata": {},
   "outputs": [],
   "source": [
    "import pandas as pd\n",
    "import sklearn\n",
    "from packaging import version\n",
    "from sklearn.preprocessing import (\n",
    "    OneHotEncoder)\n",
    "\n",
    "my_df = pd.DataFrame({\n",
    "    'id':    [ 1 ,  2 ,  3 ],\n",
    "    'class': ['A', 'B', 'C']})\n",
    "\n",
    "my_enc = OneHotEncoder()\n",
    "tmp = my_enc.fit_transform(\n",
    "    my_df[['class']]).toarray()\n",
    "if version.parse(sklearn.__version__) >= version.parse(\"1.0\"):\n",
    "    my_names = my_enc.get_feature_names_out()\n",
    "else:\n",
    "    my_names = my_enc.get_feature_names()\n",
    "pd.DataFrame(tmp, columns=my_names)\n",
    "#>    x0_A  x0_B  x0_C\n",
    "#> 0   1.0   0.0   0.0\n",
    "#> 1   0.0   1.0   0.0\n",
    "#> 2   0.0   0.0   1.0"
   ]
  },
  {
   "cell_type": "code",
   "execution_count": null,
   "metadata": {},
   "outputs": [],
   "source": [
    "my_df2 = pd.DataFrame({\n",
    "    'id':    [ 4 ,  5,   6 ],\n",
    "    'class': ['B', 'C', 'B']})\n",
    "tmp = my_enc.transform(\n",
    "    my_df2[['class']]).toarray()\n",
    "pd.DataFrame(tmp, columns=my_names)\n",
    "#>    x0_A  x0_B  x0_C\n",
    "#> 0   0.0   1.0   0.0\n",
    "#> 1   0.0   0.0   1.0\n",
    "#> 2   0.0   1.0   0.0"
   ]
  },
  {
   "cell_type": "markdown",
   "metadata": {},
   "source": [
    "#### 5.2.2.1 補足：冗長性の排除"
   ]
  },
  {
   "cell_type": "code",
   "execution_count": null,
   "metadata": {},
   "outputs": [],
   "source": [
    "my_enc = OneHotEncoder(drop='first')\n",
    "\n",
    "tmp = my_enc.fit_transform(\n",
    "    my_df[['class']]).toarray()\n",
    "if version.parse(sklearn.__version__) >= version.parse(\"1.0\"):\n",
    "    my_names = my_enc.get_feature_names_out()\n",
    "else:\n",
    "    my_names = my_enc.get_feature_names()\n",
    "pd.DataFrame(tmp, columns=my_names)\n",
    "#>    x0_B  x0_C\n",
    "#> 0   0.0   0.0\n",
    "#> 1   1.0   0.0\n",
    "#> 2   0.0   1.0\n",
    "\n",
    "tmp = my_enc.transform(\n",
    "    my_df2[['class']]).toarray()\n",
    "pd.DataFrame(tmp, columns=my_names)\n",
    "#>    x0_B  x0_C\n",
    "#> 0   1.0   0.0\n",
    "#> 1   0.0   1.0\n",
    "#> 2   1.0   0.0"
   ]
  }
 ],
 "nbformat": 4,
 "nbformat_minor": 5,
 "metadata": {
  "kernelspec": {
   "name": "python3",
   "display_name": "Python 3"
  }
 }
}
