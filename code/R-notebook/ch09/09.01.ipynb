{
 "cells": [
  {
   "cell_type": "markdown",
   "metadata": {},
   "source": [
    "## 9.1 アヤメのデータ"
   ]
  },
  {
   "cell_type": "code",
   "execution_count": null,
   "metadata": {},
   "outputs": [],
   "source": [
    "my_data <- iris\n",
    "head(my_data)\n",
    "#>   Sepal.Length Sepal.Width Petal.Length Petal.Width Species\n",
    "#> 1          5.1         3.5          1.4         0.2  setosa\n",
    "#> 2          4.9         3.0          1.4         0.2  setosa\n",
    "#> 3          4.7         3.2          1.3         0.2  setosa\n",
    "#> 4          4.6         3.1          1.5         0.2  setosa\n",
    "#> 5          5.0         3.6          1.4         0.2  setosa\n",
    "#> 6          5.4         3.9          1.7         0.4  setosa"
   ]
  },
  {
   "cell_type": "code",
   "execution_count": null,
   "metadata": {},
   "outputs": [],
   "source": [
    "psych::describe(my_data)\n",
    "#>              vars   n mean   sd median trimmed  mad min max range ...\n",
    "#> Sepal.Length    1 150 5.84 0.83   5.80    5.81 1.04 4.3 7.9   3.6 ...\n",
    "#> Sepal.Width     2 150 3.06 0.44   3.00    3.04 0.44 2.0 4.4   2.4 ...\n",
    "#> Petal.Length    3 150 3.76 1.77   4.35    3.76 1.85 1.0 6.9   5.9 ...\n",
    "#> Petal.Width     4 150 1.20 0.76   1.30    1.18 1.04 0.1 2.5   2.4 ...\n",
    "#> Species*        5 150 2.00 0.82   2.00    2.00 1.48 1.0 3.0   2.0 ..."
   ]
  }
 ],
 "nbformat": 4,
 "nbformat_minor": 5,
 "metadata": {
  "kernelspec": {
   "name": "ir",
   "display_name": "R"
  }
 }
}
