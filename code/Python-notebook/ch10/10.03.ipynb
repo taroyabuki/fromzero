{
 "cells": [
  {
   "cell_type": "markdown",
   "metadata": {},
   "source": [
    "## 10.3 タイタニック"
   ]
  },
  {
   "cell_type": "code",
   "execution_count": null,
   "metadata": {},
   "outputs": [],
   "source": [
    "import graphviz\n",
    "import pandas as pd\n",
    "from sklearn import tree\n",
    "from sklearn.metrics import roc_curve, RocCurveDisplay, auc\n",
    "from sklearn.model_selection import cross_val_score, LeaveOneOut\n",
    "from sklearn.pipeline import Pipeline\n",
    "from sklearn.preprocessing import OneHotEncoder\n",
    "\n",
    "my_url = ('https://raw.githubusercontent.com/taroyabuki'\n",
    "          '/fromzero/master/data/titanic.csv')\n",
    "my_data = pd.read_csv(my_url)"
   ]
  },
  {
   "cell_type": "code",
   "execution_count": null,
   "metadata": {},
   "outputs": [],
   "source": [
    "my_data.head()\n",
    "#>   Class   Sex    Age Survived\n",
    "#> 0   1st  Male  Child      Yes\n",
    "#> 1   1st  Male  Child      Yes\n",
    "#> 2   1st  Male  Child      Yes\n",
    "#> 3   1st  Male  Child      Yes\n",
    "#> 4   1st  Male  Child      Yes"
   ]
  },
  {
   "cell_type": "markdown",
   "metadata": {},
   "source": [
    "### 10.3.1 質的入力変数の扱い方\n",
    "\n",
    "### 10.3.2 決定木の訓練"
   ]
  },
  {
   "cell_type": "code",
   "execution_count": null,
   "metadata": {},
   "outputs": [],
   "source": [
    "X, y = my_data.iloc[:, 0:3], my_data.Survived\n",
    "\n",
    "my_pipeline = Pipeline([\n",
    "    ('ohe', OneHotEncoder(drop='first')),\n",
    "    ('tree', tree.DecisionTreeClassifier(max_depth=2, random_state=0,\n",
    "                                         min_impurity_decrease=0.01))])\n",
    "my_pipeline.fit(X, y)"
   ]
  },
  {
   "cell_type": "markdown",
   "metadata": {},
   "source": [
    "### 10.3.3 決定木の描画"
   ]
  },
  {
   "cell_type": "code",
   "execution_count": null,
   "metadata": {},
   "outputs": [],
   "source": [
    "my_enc  = my_pipeline.named_steps['ohe']  # パイプラインからエンコーダを取り出す．\n",
    "my_tree = my_pipeline.named_steps['tree'] # パイプラインから木を取り出す．\n",
    "\n",
    "my_dot = tree.export_graphviz(\n",
    "    decision_tree=my_tree,\n",
    "    out_file=None,\n",
    "    feature_names=my_enc.get_feature_names() \\\n",
    "    if hasattr(my_enc, 'get_feature_names') else my_enc.get_feature_names_out(),\n",
    "    class_names=my_pipeline.classes_,\n",
    "    filled=True)\n",
    "graphviz.Source(my_dot)"
   ]
  },
  {
   "cell_type": "markdown",
   "metadata": {},
   "source": [
    "### 10.3.4 決定木の評価"
   ]
  },
  {
   "cell_type": "code",
   "execution_count": null,
   "metadata": {},
   "outputs": [],
   "source": [
    "my_scores = cross_val_score(\n",
    "    my_pipeline, X, y,\n",
    "    cv=LeaveOneOut(),\n",
    "    n_jobs=-1)\n",
    "my_scores.mean()\n",
    "#> 0.7832803271240345"
   ]
  },
  {
   "cell_type": "code",
   "execution_count": null,
   "metadata": {},
   "outputs": [],
   "source": [
    "tmp = pd.DataFrame(\n",
    "    my_pipeline.predict_proba(X),\n",
    "    columns=my_pipeline.classes_)\n",
    "y_score = tmp.Yes\n",
    "\n",
    "my_fpr, my_tpr, _ = roc_curve(y_true=y,\n",
    "                              y_score=y_score,\n",
    "                              pos_label='Yes')\n",
    "my_auc = auc(x=my_fpr, y=my_tpr)\n",
    "my_auc\n",
    "#> 0.7114886868858494\n",
    "\n",
    "RocCurveDisplay(fpr=my_fpr, tpr=my_tpr, roc_auc=my_auc).plot()"
   ]
  },
  {
   "cell_type": "markdown",
   "metadata": {},
   "source": [
    "### 10.3.5 補足：質的入力変数の扱い"
   ]
  }
 ],
 "nbformat": 4,
 "nbformat_minor": 5,
 "metadata": {
  "kernelspec": {
   "name": "python3",
   "display_name": "Python 3"
  }
 }
}
