{
 "cells": [
  {
   "cell_type": "markdown",
   "metadata": {},
   "source": [
    "## 11.2 Kerasによる分類"
   ]
  },
  {
   "cell_type": "code",
   "execution_count": null,
   "metadata": {},
   "outputs": [],
   "source": [
    "library(keras)\n",
    "library(tidyverse)\n",
    "my_data <- iris[sample(nrow(iris)), ]"
   ]
  },
  {
   "cell_type": "code",
   "execution_count": null,
   "metadata": {},
   "outputs": [],
   "source": [
    "X <- my_data %>%\n",
    "  select(-Species) %>% scale\n",
    "y <- as.integer(my_data$Species) - 1"
   ]
  },
  {
   "cell_type": "code",
   "execution_count": null,
   "metadata": {},
   "outputs": [],
   "source": [
    "my_model <- keras_model_sequential() %>%\n",
    "  layer_dense(units = 3, activation = \"relu\", input_shape = c(4)) %>%\n",
    "  layer_dense(units = 3, activation = \"softmax\")"
   ]
  },
  {
   "cell_type": "code",
   "execution_count": null,
   "metadata": {},
   "outputs": [],
   "source": [
    "my_model %>% compile(loss = \"sparse_categorical_crossentropy\",\n",
    "                     optimizer = \"rmsprop\",\n",
    "                     metrics = c(\"accuracy\"))"
   ]
  },
  {
   "cell_type": "code",
   "execution_count": null,
   "metadata": {},
   "outputs": [],
   "source": [
    "my_cb <- callback_early_stopping(\n",
    "  patience = 20,\n",
    "  restore_best_weights = TRUE)\n",
    "\n",
    "my_history <- my_model %>%\n",
    "  fit(x = X,\n",
    "    y = y,\n",
    "    validation_split = 0.25,\n",
    "    batch_size = 10,\n",
    "    epochs = 500,\n",
    "    callbacks = list(my_cb),\n",
    "    verbose = 0)\n",
    "\n",
    "plot(my_history)"
   ]
  },
  {
   "cell_type": "code",
   "execution_count": null,
   "metadata": {},
   "outputs": [],
   "source": [
    "my_history\n",
    "#> Final epoch (plot to see history):\n",
    "#>         loss: 0.06206\n",
    "#>     accuracy: 0.9732\n",
    "#>     val_loss: 0.1269\n",
    "#> val_accuracy: 0.9211"
   ]
  },
  {
   "cell_type": "code",
   "execution_count": null,
   "metadata": {},
   "outputs": [],
   "source": [
    "tmp <- my_model %>% predict(X)\n",
    "y_ <- apply(tmp, 1, which.max) - 1\n",
    "mean(y_ == y)\n",
    "#> [1] 0.9666667"
   ]
  },
  {
   "cell_type": "markdown",
   "metadata": {},
   "source": [
    "### 11.2.1 交差エントロピー"
   ]
  },
  {
   "cell_type": "code",
   "execution_count": null,
   "metadata": {},
   "outputs": [],
   "source": [
    "-mean(log(c(0.8, 0.7, 0.3, 0.8)))\n",
    "#> 0.5017337\n",
    "\n",
    "-mean(log(c(0.7, 0.6, 0.2, 0.7)))\n",
    "#> 0.7084034"
   ]
  },
  {
   "cell_type": "code",
   "execution_count": null,
   "metadata": {},
   "outputs": [],
   "source": [
    "y <- c(2, 1, 0, 1)\n",
    "y_1 <- list(c(0.1, 0.1, 0.8),\n",
    "            c(0.1, 0.7, 0.2),\n",
    "            c(0.3, 0.4, 0.3),\n",
    "            c(0.1, 0.8, 0.1))\n",
    "y_2 <- list(c(0.1, 0.2, 0.7),\n",
    "            c(0.2, 0.6, 0.2),\n",
    "            c(0.2, 0.5, 0.3),\n",
    "            c(0.2, 0.7, 0.1))"
   ]
  },
  {
   "cell_type": "code",
   "execution_count": null,
   "metadata": {},
   "outputs": [],
   "source": [
    "c(mean(as.array(loss_sparse_categorical_crossentropy(y_true = y, y_pred = y_1))),\n",
    "  mean(as.array(loss_sparse_categorical_crossentropy(y_true = y, y_pred = y_2))))\n",
    "#> [1] 0.5017337 0.7084033"
   ]
  }
 ],
 "nbformat": 4,
 "nbformat_minor": 5,
 "metadata": {
  "kernelspec": {
   "name": "ir",
   "display_name": "R"
  }
 }
}
