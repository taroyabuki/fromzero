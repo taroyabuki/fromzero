{
 "cells": [
  {
   "cell_type": "markdown",
   "metadata": {},
   "source": [
    "## 5.1 データの読み込み\n",
    "\n",
    "### 5.1.1 CSV"
   ]
  },
  {
   "cell_type": "code",
   "execution_count": null,
   "metadata": {},
   "outputs": [],
   "source": [
    "library(tidyverse)\n",
    "system(str_c(\"wget https://raw.githubusercontent.com/taroyabuki\",\n",
    "             \"/fromzero/master/data/exam.csv\"))"
   ]
  },
  {
   "cell_type": "markdown",
   "metadata": {},
   "source": [
    "#### 5.1.1.1 CSVの読み込み"
   ]
  },
  {
   "cell_type": "code",
   "execution_count": null,
   "metadata": {},
   "outputs": [],
   "source": [
    "my_df <- read_csv(\"exam.csv\")\n",
    "# あるいは\n",
    "my_df <- read.csv(\"exam.csv\",\n",
    "  stringsAsFactors = FALSE)\n",
    "\n",
    "my_df\n",
    "#>   name english math gender\n",
    "#> 1    A      60   70      f\n",
    "#> 2    B      90   80      m\n",
    "#> 3    C      70   90      m\n",
    "#> 4    D      90  100      f"
   ]
  },
  {
   "cell_type": "code",
   "execution_count": null,
   "metadata": {},
   "outputs": [],
   "source": [
    "my_url <- str_c(\"https://raw.githubusercontent.com/taroyabuki\",\n",
    "                \"/fromzero/master/data/exam.csv\")\n",
    "my_df <- read_csv(my_url)\n",
    "# あるいは\n",
    "my_df <- read.csv(my_url, stringsAsFactors = FALSE)"
   ]
  },
  {
   "cell_type": "code",
   "execution_count": null,
   "metadata": {},
   "outputs": [],
   "source": [
    "my_df2 <- read.csv(\n",
    "  file = \"exam.csv\",\n",
    "  stringsAsFactors = FALSE,\n",
    "  row.names = 1)\n",
    "my_df2\n",
    "#>   english math gender\n",
    "#> A      60   70      f\n",
    "#> B      90   80      m\n",
    "#> C      70   90      m\n",
    "#> D      90  100      f"
   ]
  },
  {
   "cell_type": "markdown",
   "metadata": {},
   "source": [
    "#### 5.1.1.2 CSVファイルへの書き出し"
   ]
  },
  {
   "cell_type": "code",
   "execution_count": null,
   "metadata": {},
   "outputs": [],
   "source": [
    "my_df %>% write_csv(\"exam2.csv\")\n",
    "# あるいは\n",
    "my_df %>% write.csv(\n",
    "  file = \"exam2.csv\",\n",
    "  row.names = FALSE)"
   ]
  },
  {
   "cell_type": "code",
   "execution_count": null,
   "metadata": {},
   "outputs": [],
   "source": [
    "my_df2 %>% write.csv(\"exam3.csv\")"
   ]
  },
  {
   "cell_type": "markdown",
   "metadata": {},
   "source": [
    "### 5.1.2 文字コード"
   ]
  },
  {
   "cell_type": "code",
   "execution_count": null,
   "metadata": {},
   "outputs": [],
   "source": [
    "my_df <- read_csv(file = \"exam.csv\",\n",
    "  locale = locale(encoding = \"UTF-8\"))\n",
    "# あるいは\n",
    "my_df <- read.csv(file = \"exam.csv\",\n",
    "  stringsAsFactors = FALSE,\n",
    "  fileEncoding = \"UTF-8\")"
   ]
  },
  {
   "cell_type": "code",
   "execution_count": null,
   "metadata": {},
   "outputs": [],
   "source": [
    "my_df %>% write_csv(\"exam2.csv\")\n",
    "# あるいは\n",
    "my_df %>% write.csv(file = \"exam2.csv\", row.names = FALSE,\n",
    "                    fileEncoding = \"UTF-8\")"
   ]
  },
  {
   "cell_type": "markdown",
   "metadata": {},
   "source": [
    "### 5.1.3 ウェブ上の表"
   ]
  },
  {
   "cell_type": "code",
   "execution_count": null,
   "metadata": {},
   "outputs": [],
   "source": [
    "my_url <- \"https://github.com/taroyabuki/fromzero/blob/master/data/exam.csv\"\n",
    "my_tables <- xml2::read_html(my_url) %>% rvest::html_table()"
   ]
  },
  {
   "cell_type": "code",
   "execution_count": null,
   "metadata": {},
   "outputs": [],
   "source": [
    "my_tables\n",
    "#> [[1]]\n",
    "#>   X1   X2      X3   X4     X5\n",
    "#> 1 NA name english math gender\n",
    "#> 2 NA    A      60   70      f\n",
    "#> 3 NA    B      90   80      m\n",
    "#> 4 NA    C      70   90      m\n",
    "#> 5 NA    D      90  100      f"
   ]
  },
  {
   "cell_type": "code",
   "execution_count": null,
   "metadata": {},
   "outputs": [],
   "source": [
    "tmp <- my_tables[[1]]\n",
    "tmp\n",
    "#>   X1   X2      X3   X4     X5\n",
    "#> 1 NA name english math gender\n",
    "#> 2 NA    A      60   70      f\n",
    "#> 3 NA    B      90   80      m\n",
    "#> 4 NA    C      70   90      m\n",
    "#> 5 NA    D      90  100      f"
   ]
  },
  {
   "cell_type": "code",
   "execution_count": null,
   "metadata": {},
   "outputs": [],
   "source": [
    "# 1行目のデータを使って列の名前を付け直す．\n",
    "colnames(tmp) <- tmp[1, ]\n",
    "\n",
    "# 1行目と1列目を削除する．\n",
    "my_data <- tmp[-1, -1]\n",
    "my_data\n",
    "#>   name english math gender\n",
    "#> 2    A      60   70      f\n",
    "#> 3    B      90   80      m\n",
    "#> 4    C      70   90      m\n",
    "#> 5    D      90  100      f"
   ]
  },
  {
   "cell_type": "markdown",
   "metadata": {},
   "source": [
    "### 5.1.4 JSONとXML\n",
    "\n",
    "#### 5.1.4.1 JSONデータの読み込み"
   ]
  },
  {
   "cell_type": "code",
   "execution_count": null,
   "metadata": {},
   "outputs": [],
   "source": [
    "library(jsonlite)\n",
    "my_url <- str_c(\"https://raw.githubusercontent.com/taroyabuki\",\n",
    "                \"/fromzero/master/data/exam.json\")\n",
    "my_data <- fromJSON(my_url)\n",
    "#my_data <- fromJSON(\"exam.json\") # （ファイルを使う場合）\n",
    "my_data\n",
    "#>   name english math gender\n",
    "#> 1    A      60   70      f\n",
    "#> 2    B      90   80      m\n",
    "#> 3    C      70   90      m\n",
    "#> 4    D      90  100      f"
   ]
  },
  {
   "cell_type": "markdown",
   "metadata": {},
   "source": [
    "#### 5.1.4.2 XMLデータの読み込み"
   ]
  },
  {
   "cell_type": "code",
   "execution_count": null,
   "metadata": {},
   "outputs": [],
   "source": [
    "library(xml2)\n",
    "my_url <- str_c(\"https://raw.githubusercontent.com/taroyabuki\",\n",
    "                \"/fromzero/master/data/exam.xml\")\n",
    "my_xml <- read_xml(my_url)      # XMLデータの読み込み\n",
    "#my_xml <- read_xml(\"exam.xml\") # （ファイルを使う場合）\n",
    "xml_ns(my_xml)                  # 名前空間の確認（d1）\n",
    "#> d1 <-> https://www.example.net/ns/1.0"
   ]
  },
  {
   "cell_type": "code",
   "execution_count": null,
   "metadata": {},
   "outputs": [],
   "source": [
    "my_records <- xml_find_all(my_xml, \".//d1:record\")"
   ]
  },
  {
   "cell_type": "code",
   "execution_count": null,
   "metadata": {},
   "outputs": [],
   "source": [
    "f <- function(record) {\n",
    "  tmp <- xml_attrs(record)                    # 属性を全て取り出し，\n",
    "  xml_children(record) %>% walk(function(e) {\n",
    "    tmp[xml_name(e)] <<- xml_text(e)          # 子要素の名前と内容を追加する．\n",
    "  })\n",
    "  tmp\n",
    "}"
   ]
  },
  {
   "cell_type": "code",
   "execution_count": null,
   "metadata": {},
   "outputs": [],
   "source": [
    "my_data <- my_records %>% map_dfr(f)\n",
    "my_data$english <- as.numeric(my_data$english)\n",
    "my_data$math    <- as.numeric(my_data$math)\n",
    "my_data\n",
    "#>   english  math gender name\n",
    "#>     <dbl> <dbl> <chr>  <chr>\n",
    "#> 1      60    70 f      A\n",
    "#> 2      90    80 m      B\n",
    "#> 3      70    90 m      C\n",
    "#> 4      90   100 f      D"
   ]
  }
 ],
 "nbformat": 4,
 "nbformat_minor": 5,
 "metadata": {
  "kernelspec": {
   "name": "ir",
   "display_name": "R"
  }
 }
}
