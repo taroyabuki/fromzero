{
 "cells": [
  {
   "cell_type": "markdown",
   "metadata": {},
   "source": [
    "# 13"
   ]
  },
  {
   "cell_type": "code",
   "execution_count": null,
   "metadata": {},
   "outputs": [],
   "source": [
    "# Google Colaboratoryの環境設定\n",
    "options(Ncpus = 2)\n",
    "install.packages(c(\"factoextra\", \"gplots\", \"igraph\"))\n",
    "devtools::install_github(\"vqv/ggbiplot\")"
   ]
  },
  {
   "cell_type": "markdown",
   "metadata": {},
   "source": [
    "## 13.1 主成分分析"
   ]
  },
  {
   "cell_type": "code",
   "execution_count": null,
   "metadata": {},
   "outputs": [],
   "source": [
    "library(tidyverse)\n",
    "\n",
    "my_data <- data.frame(\n",
    "  language  = c(  0,  20,  20,  25,  22,  17),\n",
    "  english   = c(  0,  20,  40,  20,  24,  18),\n",
    "  math      = c(100,  20,   5,  30,  17,  25),\n",
    "  science   = c(  0,  20,   5,  25,  16,  23),\n",
    "  society   = c(  0,  20,  30,   0,  21,  17),\n",
    "  row.names = c(\"A\", \"B\", \"C\", \"D\", \"E\", \"F\"))\n",
    "my_result <- my_data %>% prcomp # 主成分分析の実行"
   ]
  },
  {
   "cell_type": "code",
   "execution_count": null,
   "metadata": {},
   "outputs": [],
   "source": [
    "my_result$x # 主成分スコア\n",
    "#>          PC1        PC2 ...\n",
    "#> A -74.907282  -7.010808 ...\n",
    "#> B  13.818842   2.753459 ...\n",
    "#> C  33.714034 -18.417290 ...\n",
    "#> D   1.730630  17.876372 ...\n",
    "#> E  17.837474  -1.064998 ...\n",
    "#> F   7.806303   5.863266 ..."
   ]
  },
  {
   "cell_type": "code",
   "execution_count": null,
   "metadata": {},
   "outputs": [],
   "source": [
    "my_result %>% ggbiplot::ggbiplot(\n",
    "  labels = row.names(my_data),\n",
    "  scale = 0)"
   ]
  },
  {
   "cell_type": "code",
   "execution_count": null,
   "metadata": {},
   "outputs": [],
   "source": [
    "my_result$rotation %>% t\n",
    "#>       language    english         math    science    society\n",
    "#> PC1  0.2074983  0.3043604 -0.887261240  0.1301984  0.2452041\n",
    "#> PC2  0.2794627 -0.3250521 -0.097642669  0.7026667 -0.5594347\n",
    "#> PC3 -0.3061175 -0.6157986 -0.056345381  0.3384462  0.6398152\n",
    "#> PC4  0.7649426 -0.4716969 -0.007654992 -0.4180454  0.1324548\n",
    "#> PC5  0.4472136  0.4472136  0.447213595  0.4472136  0.4472136"
   ]
  },
  {
   "cell_type": "code",
   "execution_count": null,
   "metadata": {},
   "outputs": [],
   "source": [
    "summary(my_result)\n",
    "#> Importance of components:\n",
    "#>                            PC1      PC2     PC3     PC4       PC5\n",
    "#> Standard deviation     38.2644 12.25566 5.58845 1.52970 1.232e-15\n",
    "#> Proportion of Variance  0.8885  0.09115 0.01895 0.00142 0.000e+00\n",
    "#> Cumulative Proportion   0.8885  0.97963 0.99858 1.00000 1.000e+00"
   ]
  },
  {
   "cell_type": "markdown",
   "metadata": {},
   "source": [
    "### 13.1.1 標準化＋主成分分析"
   ]
  },
  {
   "cell_type": "code",
   "execution_count": null,
   "metadata": {},
   "outputs": [],
   "source": [
    "my_result <- prcomp(\n",
    "  x = my_data,\n",
    "  scale = TRUE)       # 標準化\n",
    "# あるいは\n",
    "my_result <- prcomp(\n",
    "  x = scale(my_data)) # 標準化データ\n",
    "\n",
    "my_result$x # 主成分スコア\n",
    "#>          PC1        PC2 ...\n",
    "#> A -3.6737215 -0.5688501 ...\n",
    "#> B  0.6528793  0.2469258 ...\n",
    "#> C  1.5682936 -1.7425981 ...\n",
    "#> D  0.2505043  1.6400394 ...\n",
    "#> E  0.8861864 -0.1104931 ...\n",
    "#> F  0.3158579  0.5349762 ..."
   ]
  },
  {
   "cell_type": "markdown",
   "metadata": {},
   "source": [
    "### 13.1.2 補足：行列計算による再現"
   ]
  },
  {
   "cell_type": "code",
   "execution_count": null,
   "metadata": {},
   "outputs": [],
   "source": [
    "Z  <- my_data %>% scale(scale = FALSE) %>% as.matrix # 標準化しない場合\n",
    "#Z <- my_data %>% scale(scale = TRUE)  %>% as.matrix # 標準化する場合\n",
    "\n",
    "n <- nrow(my_data)\n",
    "S <- var(Z)                          # 分散共分散行列\n",
    "#S <- t(Z) %*% Z / (n - 1)           # （同じ結果）\n",
    "tmp <- eigen(S)                      # 固有値と固有ベクトル\n",
    "Z %*% tmp$vectors                    # 主成分スコア（結果は割愛）\n",
    "cumsum(tmp$values) / sum(tmp$values) # 累積寄与率\n",
    "#> [1] 0.8884833 0.9796285 0.9985801 1.0000000 1.0000000"
   ]
  },
  {
   "cell_type": "code",
   "execution_count": null,
   "metadata": {},
   "outputs": [],
   "source": [
    "udv <- svd(Z) # 特異値分解\n",
    "U <- udv$u\n",
    "d <- udv$d\n",
    "V <- udv$v\n",
    "W <- diag(d)\n",
    "\n",
    "c(all.equal(Z, U %*% W %*% t(V), check.attributes = FALSE), # 確認1\n",
    "  all.equal(t(U) %*% U, diag(dim(U)[2])),                   # 確認2\n",
    "  all.equal(t(V) %*% V, diag(dim(V)[2])))                   # 確認3\n",
    "#> [1] TRUE TRUE TRUE\n",
    "\n",
    "U %*% W            # 主成分スコア（結果は割愛）\n",
    "\n",
    "e <- d^2 / (n - 1) # 分散共分散行列の固有値\n",
    "cumsum(e) / sum(e) # 累積寄与率\n",
    "#> [1] 0.8884833 0.9796285 0.9985801 1.0000000 1.0000000"
   ]
  },
  {
   "cell_type": "markdown",
   "metadata": {},
   "source": [
    "## 13.2 クラスタ分析\n",
    "\n",
    "### 13.2.1 階層的クラスタ分析"
   ]
  },
  {
   "cell_type": "code",
   "execution_count": null,
   "metadata": {},
   "outputs": [],
   "source": [
    "library(tidyverse)\n",
    "\n",
    "my_data <- data.frame(\n",
    "  x         = c(  0, -16,  10,  10),\n",
    "  y         = c(  0,   0,  10, -15),\n",
    "  row.names = c(\"A\", \"B\", \"C\", \"D\"))\n",
    "\n",
    "my_result <- my_data %>%\n",
    "  dist(\"euclidian\") %>% # distだけでも可\n",
    "  hclust(\"complete\")    # hclustだけでも可"
   ]
  },
  {
   "cell_type": "code",
   "execution_count": null,
   "metadata": {},
   "outputs": [],
   "source": [
    "my_result %>% factoextra::fviz_dend(\n",
    "  k = 3, # クラスタ数\n",
    "  rect = TRUE, rect_fill = TRUE)"
   ]
  },
  {
   "cell_type": "code",
   "execution_count": null,
   "metadata": {},
   "outputs": [],
   "source": [
    "my_result %>% factoextra::fviz_dend(\n",
    "  k = 3,\n",
    "  rect = TRUE, rect_fill = TRUE,\n",
    "  type = \"phylogenic\")"
   ]
  },
  {
   "cell_type": "code",
   "execution_count": null,
   "metadata": {},
   "outputs": [],
   "source": [
    "my_result %>% cutree(3)\n",
    "#> A B C D\n",
    "#> 1 2 1 3"
   ]
  },
  {
   "cell_type": "markdown",
   "metadata": {},
   "source": [
    "### 13.2.2 階層的クラスタ分析とヒートマップ"
   ]
  },
  {
   "cell_type": "code",
   "execution_count": null,
   "metadata": {},
   "outputs": [],
   "source": [
    "library(tidyverse)\n",
    "\n",
    "my_data <- data.frame(\n",
    "  language  = c(  0,  20,  20,  25,  22,  17),\n",
    "  english   = c(  0,  20,  40,  20,  24,  18),\n",
    "  math      = c(100,  20,   5,  30,  17,  25),\n",
    "  science   = c(  0,  20,   5,  25,  16,  23),\n",
    "  society   = c(  0,  20,  30,   0,  21,  17),\n",
    "  row.names = c(\"A\", \"B\", \"C\", \"D\", \"E\", \"F\"))\n",
    "\n",
    "try( # RMarkdownで発生するエラーを回避する．\n",
    "  my_data %>% scale %>%                        # 列ごとの標準化\n",
    "    gplots::heatmap.2(cexRow = 1, cexCol = 1), # ラベルのサイズを指定して描画する．\n",
    "  silent = TRUE)"
   ]
  },
  {
   "cell_type": "markdown",
   "metadata": {},
   "source": [
    "### 13.2.3 非階層的クラスタ分析"
   ]
  },
  {
   "cell_type": "code",
   "execution_count": null,
   "metadata": {},
   "outputs": [],
   "source": [
    "library(tidyverse)\n",
    "\n",
    "my_data <- data.frame(\n",
    "  x         = c(  0, -16,  10,  10),\n",
    "  y         = c(  0,   0,  10, -15),\n",
    "  row.names = c(\"A\", \"B\", \"C\", \"D\"))\n",
    "\n",
    "my_result <- my_data %>% kmeans(3)"
   ]
  },
  {
   "cell_type": "code",
   "execution_count": null,
   "metadata": {},
   "outputs": [],
   "source": [
    "my_result$cluster\n",
    "#> A B C D\n",
    "#> 2 3 2 1"
   ]
  },
  {
   "cell_type": "markdown",
   "metadata": {},
   "source": [
    "### 13.2.4 クラスタ数の決定"
   ]
  },
  {
   "cell_type": "code",
   "execution_count": null,
   "metadata": {},
   "outputs": [],
   "source": [
    "library(tidyverse)\n",
    "library(factoextra)\n",
    "\n",
    "my_data <- iris[, -5]\n",
    "\n",
    "f <- 2:5 %>% map(function(k) {\n",
    "  my_data %>% kmeans(k) %>%\n",
    "    fviz_cluster(data = my_data, geom = \"point\") +\n",
    "    ggtitle(sprintf(\"k = %s\", k))\n",
    "})\n",
    "gridExtra::grid.arrange(f[[1]], f[[2]], f[[3]], f[[4]], ncol = 2)"
   ]
  },
  {
   "cell_type": "code",
   "execution_count": null,
   "metadata": {},
   "outputs": [],
   "source": [
    "fviz_nbclust(my_data, kmeans, method = \"wss\")"
   ]
  },
  {
   "cell_type": "markdown",
   "metadata": {},
   "source": [
    "### 13.2.5 主成分分析とクラスタ分析"
   ]
  },
  {
   "cell_type": "code",
   "execution_count": null,
   "metadata": {},
   "outputs": [],
   "source": [
    "library(tidyverse)\n",
    "my_data <- iris[, -5] %>% scale\n",
    "\n",
    "my_result <- prcomp(my_data)$x %>% as.data.frame # 主成分分析\n",
    "\n",
    "# 非階層的クラスタ分析の場合\n",
    "my_result$cluster <- (my_data %>% scale %>% kmeans(3))$cluster %>% as.factor\n",
    "\n",
    "# 階層的クラスタ分析の場合\n",
    "#my_result$cluster <- my_data %>% dist %>% hclust %>% cutree(3) %>% as.factor\n",
    "\n",
    "my_result %>%\n",
    "  ggplot(aes(x = PC1, y = PC2, color = cluster)) + # 色でクラスタを表現する．\n",
    "  geom_point(shape = iris$Species) +               # 形で品種を表現する．\n",
    "  theme(legend.position = \"none\")"
   ]
  }
 ],
 "nbformat": 4,
 "nbformat_minor": 5,
 "metadata": {
  "kernelspec": {
   "name": "ir",
   "display_name": "R"
  }
 }
}
