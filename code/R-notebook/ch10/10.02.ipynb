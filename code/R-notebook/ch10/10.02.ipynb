{
 "cells": [
  {
   "cell_type": "markdown",
   "metadata": {},
   "source": [
    "## 10.2 トレードオフ\n",
    "\n",
    "### 10.2.1 偽陽性率と真陽性率のトレードオフ（ROC曲線）"
   ]
  },
  {
   "cell_type": "code",
   "execution_count": null,
   "metadata": {},
   "outputs": [],
   "source": [
    "library(PRROC)\n",
    "library(tidyverse)\n",
    "\n",
    "y       <- c(  0,   1,   1,   0,   1,   0,    1,   0,   0,   1)\n",
    "y_score <- c(0.7, 0.8, 0.3, 0.4, 0.9, 0.6, 0.99, 0.1, 0.2, 0.5)\n",
    "y_      <- ifelse(0.5 <= y_score, 1, 0)\n",
    "\n",
    "c(sum((y == 0) & (y_ == 1)) / sum(y == 0), # FPR\n",
    "  sum((y == 1) & (y_ == 1)) / sum(y == 1)) # TPR\n",
    "#> [1] 0.4 0.8"
   ]
  },
  {
   "cell_type": "code",
   "execution_count": null,
   "metadata": {},
   "outputs": [],
   "source": [
    "my_roc <- roc.curve(scores.class0 = y_score[y == 1], # 答えが1のもののスコア\n",
    "                    scores.class1 = y_score[y == 0], # 答えが0のもののスコア\n",
    "                    curve = TRUE)\n",
    "my_roc %>% plot(xlab = \"False Positive Rate\",\n",
    "                ylab = \"True Positive Rate\",\n",
    "                legend = FALSE)"
   ]
  },
  {
   "cell_type": "code",
   "execution_count": null,
   "metadata": {},
   "outputs": [],
   "source": [
    "my_roc$auc\n",
    "#> [1] 0.8"
   ]
  },
  {
   "cell_type": "markdown",
   "metadata": {},
   "source": [
    "### 10.2.2 再現率と精度のトレードオフ（PR曲線）"
   ]
  },
  {
   "cell_type": "code",
   "execution_count": null,
   "metadata": {},
   "outputs": [],
   "source": [
    "c(sum((y == 1) & (y_ == 1)) / sum(y  == 1), # Recall == TPR\n",
    "  sum((y == 1) & (y_ == 1)) / sum(y_ == 1)) # Precision\n",
    "#> [1] 0.8000000 0.6666667"
   ]
  },
  {
   "cell_type": "code",
   "execution_count": null,
   "metadata": {},
   "outputs": [],
   "source": [
    "my_pr <- pr.curve(scores.class0 = y_score[y == 1],\n",
    "                  scores.class1 = y_score[y == 0],\n",
    "                  curve = TRUE)\n",
    "my_pr %>% plot(xlab = \"Recall\",\n",
    "               ylab = \"Precision\",\n",
    "               legend = FALSE)"
   ]
  },
  {
   "cell_type": "code",
   "execution_count": null,
   "metadata": {},
   "outputs": [],
   "source": [
    "my_pr$auc.integral\n",
    "#> [1] 0.8469525"
   ]
  }
 ],
 "nbformat": 4,
 "nbformat_minor": 5,
 "metadata": {
  "kernelspec": {
   "name": "ir",
   "display_name": "R"
  }
 }
}
