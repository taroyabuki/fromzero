{
 "cells": [
  {
   "cell_type": "markdown",
   "metadata": {},
   "source": [
    "## 8.4 入力変数の数とモデルの良さ"
   ]
  },
  {
   "cell_type": "code",
   "execution_count": null,
   "metadata": {},
   "outputs": [],
   "source": [
    "library(caret)\n",
    "library(tidyverse)\n",
    "my_url <- str_c(\"https://raw.githubusercontent.com/taroyabuki\",\n",
    "                \"/fromzero/master/data/wine.csv\")\n",
    "my_data <- read_csv(my_url)\n",
    "\n",
    "n <- nrow(my_data)\n",
    "my_data2 <- my_data %>% mutate(v1 = 0:(n - 1) %% 2,\n",
    "                               v2 = 0:(n - 1) %% 3)\n",
    "head(my_data2)\n",
    "#> # A tibble: 6 x 7\n",
    "#>   LPRICE2 WRAIN DEGREES HRAIN TIME_SV    v1    v2\n",
    "#>     <dbl> <dbl>   <dbl> <dbl>   <dbl> <dbl> <dbl>\n",
    "#> 1  -0.999   600    17.1   160      31     0     0\n",
    "#> 2  -0.454   690    16.7    80      30     1     1\n",
    "#> 3  -0.808   502    17.2   130      28     0     2\n",
    "#> 4  -1.51    420    16.1   110      26     1     0\n",
    "#> 5  -1.72    582    16.4   187      25     0     1\n",
    "#> 6  -0.418   485    17.5   187      24     1     2"
   ]
  },
  {
   "cell_type": "code",
   "execution_count": null,
   "metadata": {},
   "outputs": [],
   "source": [
    "my_model2 <- train(form = LPRICE2 ~ ., data = my_data2, method = \"lm\",\n",
    "                   trControl = trainControl(method = \"LOOCV\"))\n",
    "y  <- my_data2$LPRICE2\n",
    "y_ <- my_model2 %>% predict(my_data2)\n",
    "\n",
    "RMSE(y_, y)\n",
    "#> [1] 0.256212 # RMSE（訓練）\n",
    "\n",
    "my_model2$results$RMSE\n",
    "#> [1] 0.3569918 # RMSE（検証）"
   ]
  }
 ],
 "nbformat": 4,
 "nbformat_minor": 5,
 "metadata": {
  "kernelspec": {
   "name": "ir",
   "display_name": "R"
  }
 }
}
