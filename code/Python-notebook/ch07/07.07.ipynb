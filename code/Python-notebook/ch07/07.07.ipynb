{
 "cells": [
  {
   "cell_type": "markdown",
   "metadata": {},
   "source": [
    "## 7.7 パラメータチューニング"
   ]
  },
  {
   "cell_type": "code",
   "execution_count": null,
   "metadata": {},
   "outputs": [],
   "source": [
    "import pandas as pd\n",
    "import statsmodels.api as sm\n",
    "from sklearn.metrics import mean_squared_error\n",
    "from sklearn.model_selection import GridSearchCV, LeaveOneOut\n",
    "from sklearn.neighbors import KNeighborsRegressor\n",
    "\n",
    "my_data = sm.datasets.get_rdataset('cars', 'datasets').data\n",
    "X, y = my_data[['speed']], my_data['dist']\n",
    "\n",
    "my_params = {'n_neighbors': range(1, 16)} # 探索範囲（1以上16未満の整数）\n",
    "\n",
    "my_search = GridSearchCV(estimator=KNeighborsRegressor(),\n",
    "                         param_grid=my_params,\n",
    "                         cv=LeaveOneOut(),\n",
    "                         scoring='neg_mean_squared_error')\n",
    "my_search.fit(X, y)"
   ]
  },
  {
   "cell_type": "code",
   "execution_count": null,
   "metadata": {},
   "outputs": [],
   "source": [
    "tmp = my_search.cv_results_                # チューニングの詳細\n",
    "my_scores = (-tmp['mean_test_score'])**0.5 # RMSE\n",
    "my_results = pd.DataFrame(tmp['params']).assign(validation=my_scores)"
   ]
  },
  {
   "cell_type": "code",
   "execution_count": null,
   "metadata": {},
   "outputs": [],
   "source": [
    "my_results.head()\n",
    "#>    n_neighbors  validation\n",
    "#> 0            1   20.089798\n",
    "#> 1            2   17.577685\n",
    "#> 2            3   16.348836\n",
    "#> 3            4   16.198804\n",
    "#> 4            5   16.073083"
   ]
  },
  {
   "cell_type": "code",
   "execution_count": null,
   "metadata": {},
   "outputs": [],
   "source": [
    "my_results.plot(x='n_neighbors',\n",
    "                style='o-',\n",
    "                ylabel='RMSE')"
   ]
  },
  {
   "cell_type": "code",
   "execution_count": null,
   "metadata": {},
   "outputs": [],
   "source": [
    "my_search.best_params_\n",
    "#> {'n_neighbors': 5}"
   ]
  },
  {
   "cell_type": "code",
   "execution_count": null,
   "metadata": {},
   "outputs": [],
   "source": [
    "(-my_search.best_score_)**0.5\n",
    "#> 16.07308308943869"
   ]
  },
  {
   "cell_type": "code",
   "execution_count": null,
   "metadata": {},
   "outputs": [],
   "source": [
    "my_model = my_search.best_estimator_\n",
    "y_ = my_model.predict(X)\n",
    "mean_squared_error(y_, y)**0.5\n",
    "#> 13.087184571174962"
   ]
  },
  {
   "cell_type": "markdown",
   "metadata": {},
   "source": [
    "### 7.7.1 補足：ハイパーパラメータとRMSE（訓練）"
   ]
  },
  {
   "cell_type": "code",
   "execution_count": null,
   "metadata": {},
   "outputs": [],
   "source": [
    "import pandas as pd\n",
    "import statsmodels.api as sm\n",
    "from sklearn.metrics import mean_squared_error\n",
    "from sklearn.model_selection import cross_val_score, LeaveOneOut\n",
    "from sklearn.neighbors import KNeighborsRegressor\n",
    "\n",
    "my_data = sm.datasets.get_rdataset('cars', 'datasets').data\n",
    "X, y = my_data[['speed']], my_data['dist']\n",
    "\n",
    "def my_loocv(k):\n",
    "    my_model = KNeighborsRegressor(n_neighbors=k)\n",
    "    my_scores = cross_val_score(estimator=my_model, X=X, y=y,\n",
    "                                cv=LeaveOneOut(),\n",
    "                                scoring='neg_mean_squared_error')\n",
    "    y_ = my_model.fit(X, y).predict(X)\n",
    "    return pd.Series([k,\n",
    "                      (-my_scores.mean())**0.5,        # RMSE（検証）\n",
    "                      mean_squared_error(y_, y)**0.5], # RMSE（訓練）\n",
    "                     index=['n_neighbors', 'validation', 'training'])\n",
    "\n",
    "my_results = pd.Series(range(1, 16)).apply(my_loocv)"
   ]
  },
  {
   "cell_type": "code",
   "execution_count": null,
   "metadata": {},
   "outputs": [],
   "source": [
    "my_results.plot(x='n_neighbors',\n",
    "                style='o-',\n",
    "                ylabel='RMSE')"
   ]
  }
 ],
 "nbformat": 4,
 "nbformat_minor": 5,
 "metadata": {
  "kernelspec": {
   "name": "python3",
   "display_name": "Python 3"
  }
 }
}
