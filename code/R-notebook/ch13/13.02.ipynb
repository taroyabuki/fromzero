{
 "cells": [
  {
   "cell_type": "markdown",
   "metadata": {},
   "source": [
    "## 13.2 クラスタ分析\n",
    "\n",
    "### 13.2.1 階層的クラスタ分析"
   ]
  },
  {
   "cell_type": "code",
   "execution_count": null,
   "metadata": {},
   "outputs": [],
   "source": [
    "library(tidyverse)\n",
    "\n",
    "my_data <- data.frame(\n",
    "  x         = c(  0, -16,  10,  10),\n",
    "  y         = c(  0,   0,  10, -15),\n",
    "  row.names = c(\"A\", \"B\", \"C\", \"D\"))\n",
    "\n",
    "my_result <- my_data %>%\n",
    "  dist(\"euclidian\") %>% # distだけでも可\n",
    "  hclust(\"complete\")    # hclustだけでも可"
   ]
  },
  {
   "cell_type": "code",
   "execution_count": null,
   "metadata": {},
   "outputs": [],
   "source": [
    "my_result %>% factoextra::fviz_dend(\n",
    "  k = 3, # クラスタ数\n",
    "  rect = TRUE, rect_fill = TRUE)"
   ]
  },
  {
   "cell_type": "code",
   "execution_count": null,
   "metadata": {},
   "outputs": [],
   "source": [
    "my_result %>% factoextra::fviz_dend(\n",
    "  k = 3,\n",
    "  rect = TRUE, rect_fill = TRUE,\n",
    "  type = \"phylogenic\")"
   ]
  },
  {
   "cell_type": "code",
   "execution_count": null,
   "metadata": {},
   "outputs": [],
   "source": [
    "my_result %>% cutree(3)\n",
    "#> A B C D\n",
    "#> 1 2 1 3"
   ]
  },
  {
   "cell_type": "markdown",
   "metadata": {},
   "source": [
    "### 13.2.2 階層的クラスタ分析とヒートマップ"
   ]
  },
  {
   "cell_type": "code",
   "execution_count": null,
   "metadata": {},
   "outputs": [],
   "source": [
    "library(tidyverse)\n",
    "\n",
    "my_data <- data.frame(\n",
    "  language  = c(  0,  20,  20,  25,  22,  17),\n",
    "  english   = c(  0,  20,  40,  20,  24,  18),\n",
    "  math      = c(100,  20,   5,  30,  17,  25),\n",
    "  science   = c(  0,  20,   5,  25,  16,  23),\n",
    "  society   = c(  0,  20,  30,   0,  21,  17),\n",
    "  row.names = c(\"A\", \"B\", \"C\", \"D\", \"E\", \"F\"))\n",
    "\n",
    "try( # RMarkdownで発生するエラーを回避する．\n",
    "  my_data %>% scale %>%                        # 列ごとの標準化\n",
    "    gplots::heatmap.2(cexRow = 1, cexCol = 1), # ラベルのサイズを指定して描画する．\n",
    "  silent = TRUE)"
   ]
  },
  {
   "cell_type": "markdown",
   "metadata": {},
   "source": [
    "### 13.2.3 非階層的クラスタ分析"
   ]
  },
  {
   "cell_type": "code",
   "execution_count": null,
   "metadata": {},
   "outputs": [],
   "source": [
    "library(tidyverse)\n",
    "\n",
    "my_data <- data.frame(\n",
    "  x         = c(  0, -16,  10,  10),\n",
    "  y         = c(  0,   0,  10, -15),\n",
    "  row.names = c(\"A\", \"B\", \"C\", \"D\"))\n",
    "\n",
    "my_result <- my_data %>% kmeans(3)"
   ]
  },
  {
   "cell_type": "code",
   "execution_count": null,
   "metadata": {},
   "outputs": [],
   "source": [
    "my_result$cluster\n",
    "#> A B C D\n",
    "#> 2 3 2 1"
   ]
  },
  {
   "cell_type": "markdown",
   "metadata": {},
   "source": [
    "### 13.2.4 クラスタ数の決定"
   ]
  },
  {
   "cell_type": "code",
   "execution_count": null,
   "metadata": {},
   "outputs": [],
   "source": [
    "library(tidyverse)\n",
    "library(factoextra)\n",
    "\n",
    "my_data <- iris[, -5]\n",
    "\n",
    "f <- 2:5 %>% map(function(k) {\n",
    "  my_data %>% kmeans(k) %>%\n",
    "    fviz_cluster(data = my_data, geom = \"point\") +\n",
    "    ggtitle(sprintf(\"k = %s\", k))\n",
    "})\n",
    "gridExtra::grid.arrange(f[[1]], f[[2]], f[[3]], f[[4]], ncol = 2)"
   ]
  },
  {
   "cell_type": "code",
   "execution_count": null,
   "metadata": {},
   "outputs": [],
   "source": [
    "fviz_nbclust(my_data, kmeans, method = \"wss\")"
   ]
  },
  {
   "cell_type": "markdown",
   "metadata": {},
   "source": [
    "### 13.2.5 主成分分析とクラスタ分析"
   ]
  },
  {
   "cell_type": "code",
   "execution_count": null,
   "metadata": {},
   "outputs": [],
   "source": [
    "library(tidyverse)\n",
    "my_data <- iris[, -5] %>% scale\n",
    "\n",
    "my_result <- prcomp(my_data)$x %>% as.data.frame # 主成分分析\n",
    "\n",
    "# 非階層的クラスタ分析の場合\n",
    "my_result$cluster <- (my_data %>% scale %>% kmeans(3))$cluster %>% as.factor\n",
    "\n",
    "# 階層的クラスタ分析の場合\n",
    "#my_result$cluster <- my_data %>% dist %>% hclust %>% cutree(3) %>% as.factor\n",
    "\n",
    "my_result %>%\n",
    "  ggplot(aes(x = PC1, y = PC2, color = cluster)) + # 色でクラスタを表現する．\n",
    "  geom_point(shape = iris$Species) +               # 形で品種を表現する．\n",
    "  theme(legend.position = \"none\")"
   ]
  }
 ],
 "nbformat": 4,
 "nbformat_minor": 5,
 "metadata": {
  "kernelspec": {
   "name": "ir",
   "display_name": "R"
  }
 }
}
