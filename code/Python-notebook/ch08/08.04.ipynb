{
 "cells": [
  {
   "cell_type": "markdown",
   "metadata": {},
   "source": [
    "## 8.4 入力変数の数とモデルの良さ"
   ]
  },
  {
   "cell_type": "code",
   "execution_count": null,
   "metadata": {},
   "outputs": [],
   "source": [
    "import pandas as pd\n",
    "from sklearn.linear_model import LinearRegression\n",
    "from sklearn.metrics import mean_squared_error\n",
    "from sklearn.model_selection import cross_val_score, LeaveOneOut\n",
    "\n",
    "my_url = ('https://raw.githubusercontent.com/taroyabuki'\n",
    "          '/fromzero/master/data/wine.csv')\n",
    "my_data = pd.read_csv(my_url)\n",
    "\n",
    "n = len(my_data)\n",
    "my_data2 = my_data.assign(v1=[i % 2 for i in range(n)],\n",
    "                          v2=[i % 3 for i in range(n)])\n",
    "my_data2.head()\n",
    "#>    LPRICE2  WRAIN  DEGREES  HRAIN  TIME_SV  v1  v2\n",
    "#> 0 -0.99868    600  17.1167    160       31   0   0\n",
    "#> 1 -0.45440    690  16.7333     80       30   1   1\n",
    "#> 2 -0.80796    502  17.1500    130       28   0   2\n",
    "#> 3 -1.50926    420  16.1333    110       26   1   0\n",
    "#> 4 -1.71655    582  16.4167    187       25   0   1"
   ]
  },
  {
   "cell_type": "code",
   "execution_count": null,
   "metadata": {},
   "outputs": [],
   "source": [
    "X, y = my_data2.drop(columns=['LPRICE2']), my_data2['LPRICE2']\n",
    "my_model2 = LinearRegression().fit(X, y)\n",
    "\n",
    "y_ = my_model2.predict(X)\n",
    "mean_squared_error(y_, y)**0.5\n",
    "#> 0.2562120047505748 # RMSE（訓練）\n",
    "\n",
    "my_scores = cross_val_score(my_model2, X, y,\n",
    "                            cv=LeaveOneOut(),\n",
    "                            scoring='neg_mean_squared_error')\n",
    "(-my_scores.mean())**0.5\n",
    "#> 0.3569918035928941 # RMSE（検証）"
   ]
  }
 ],
 "nbformat": 4,
 "nbformat_minor": 5,
 "metadata": {
  "kernelspec": {
   "name": "python3",
   "display_name": "Python 3"
  }
 }
}
