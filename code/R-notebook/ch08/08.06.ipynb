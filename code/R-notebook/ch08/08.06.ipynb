{
 "cells": [
  {
   "cell_type": "markdown",
   "metadata": {},
   "source": [
    "## 8.6 補足：正則化"
   ]
  },
  {
   "cell_type": "code",
   "execution_count": null,
   "metadata": {},
   "outputs": [],
   "source": [
    "library(caret)\n",
    "library(tidyverse)\n",
    "my_url <- str_c(\"https://raw.githubusercontent.com/taroyabuki\",\n",
    "                \"/fromzero/master/data/wine.csv\")\n",
    "my_data <- read_csv(my_url)"
   ]
  },
  {
   "cell_type": "markdown",
   "metadata": {},
   "source": [
    "### 8.6.1 正則化の実践"
   ]
  },
  {
   "cell_type": "code",
   "execution_count": null,
   "metadata": {},
   "outputs": [],
   "source": [
    "A <- 2\n",
    "B <- 0.1\n",
    "\n",
    "my_model <- train(\n",
    "  form = LPRICE2 ~ .,\n",
    "  data = my_data,\n",
    "  method = \"glmnet\",\n",
    "  standardize = TRUE,\n",
    "  tuneGrid = data.frame(\n",
    "    lambda = A,\n",
    "    alpha = B))"
   ]
  },
  {
   "cell_type": "code",
   "execution_count": null,
   "metadata": {},
   "outputs": [],
   "source": [
    "coef(my_model$finalModel, A)\n",
    "#>                         1\n",
    "#> (Intercept) -2.8015519302\n",
    "#> WRAIN        .\n",
    "#> DEGREES      0.0832910512\n",
    "#> HRAIN       -0.0004147386\n",
    "#> TIME_SV      0.0023104647"
   ]
  },
  {
   "cell_type": "code",
   "execution_count": null,
   "metadata": {},
   "outputs": [],
   "source": [
    "my_test <- data.frame(\n",
    "  WRAIN = 500, DEGREES = 17,\n",
    "  HRAIN = 120, TIME_SV = 2)\n",
    "my_model %>% predict(my_test)\n",
    "#> [1] -1.430752"
   ]
  },
  {
   "cell_type": "markdown",
   "metadata": {},
   "source": [
    "### 8.6.2 ペナルティの強さと係数の関係"
   ]
  },
  {
   "cell_type": "code",
   "execution_count": null,
   "metadata": {},
   "outputs": [],
   "source": [
    "library(ggfortify)\n",
    "library(glmnetUtils)\n",
    "\n",
    "my_data2 <- my_data %>% scale %>%\n",
    "  as.data.frame\n",
    "\n",
    "B <- 0.1\n",
    "\n",
    "glmnet(\n",
    "  form = LPRICE2 ~ .,\n",
    "  data = my_data2,\n",
    "  alpha = B) %>%\n",
    "  autoplot(xvar = \"lambda\") +\n",
    "  xlab(\"log A ( = log lambda)\") +\n",
    "  theme(legend.position = c(0.15, 0.25))"
   ]
  },
  {
   "cell_type": "markdown",
   "metadata": {},
   "source": [
    "### 8.6.3 パラメータの決定"
   ]
  },
  {
   "cell_type": "code",
   "execution_count": null,
   "metadata": {},
   "outputs": [],
   "source": [
    "As <- seq(0, 0.1, length.out = 21)\n",
    "Bs <- seq(0, 0.1, length.out =  6)\n",
    "\n",
    "my_model <- train(\n",
    "  form = LPRICE2 ~ ., data = my_data, method = \"glmnet\", standardize = TRUE,\n",
    "  trControl = trainControl(method = \"LOOCV\"),\n",
    "  tuneGrid = expand.grid(lambda = As, alpha  = Bs))\n",
    "\n",
    "my_model$bestTune\n",
    "#>   alpha lambda\n",
    "#> 8     0  0.035"
   ]
  },
  {
   "cell_type": "code",
   "execution_count": null,
   "metadata": {},
   "outputs": [],
   "source": [
    "tmp <- \"B ( = alpha)\"\n",
    "ggplot(my_model) +\n",
    "  theme(legend.position = c(0, 1), legend.justification = c(0, 1)) +\n",
    "  xlab(\"A ( = lambda)\") +\n",
    "  guides(shape = guide_legend(tmp), color = guide_legend(tmp))"
   ]
  },
  {
   "cell_type": "code",
   "execution_count": null,
   "metadata": {},
   "outputs": [],
   "source": [
    "my_model$results %>%\n",
    "  filter(RMSE == min(RMSE))\n",
    "#>   alpha lambda      RMSE ...\n",
    "#> 1     0 0.0595 0.3117092 ..."
   ]
  },
  {
   "cell_type": "markdown",
   "metadata": {},
   "source": [
    "### 8.6.4 補足：RとPythonで結果を同じにする方法"
   ]
  }
 ],
 "nbformat": 4,
 "nbformat_minor": 5,
 "metadata": {
  "kernelspec": {
   "name": "ir",
   "display_name": "R"
  }
 }
}
