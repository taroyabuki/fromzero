{
 "cells": [
  {
   "cell_type": "markdown",
   "metadata": {},
   "source": [
    "## 8.7 ニューラルネットワーク\n",
    "\n",
    "### 8.7.1 ニューラルネットワークとは何か"
   ]
  },
  {
   "cell_type": "code",
   "execution_count": null,
   "metadata": {},
   "outputs": [],
   "source": [
    "import matplotlib.pyplot as plt\n",
    "import numpy as np\n",
    "x = np.linspace(-6, 6, 100)\n",
    "y = 1 / (1 + np.exp(-x))\n",
    "plt.plot(x, y)"
   ]
  },
  {
   "cell_type": "markdown",
   "metadata": {},
   "source": [
    "### 8.7.2 ニューラルネットワークの訓練"
   ]
  },
  {
   "cell_type": "code",
   "execution_count": null,
   "metadata": {},
   "outputs": [],
   "source": [
    "import pandas as pd\n",
    "import warnings\n",
    "from sklearn.exceptions import ConvergenceWarning\n",
    "from sklearn.neural_network import MLPRegressor\n",
    "from sklearn.model_selection import cross_val_score, GridSearchCV, LeaveOneOut\n",
    "from sklearn.pipeline import Pipeline\n",
    "from sklearn.preprocessing import StandardScaler\n",
    "\n",
    "my_url = ('https://raw.githubusercontent.com/taroyabuki'\n",
    "          '/fromzero/master/data/wine.csv')\n",
    "my_data = pd.read_csv(my_url)\n",
    "X, y = my_data.drop(columns=['LPRICE2']), my_data['LPRICE2']"
   ]
  },
  {
   "cell_type": "code",
   "execution_count": null,
   "metadata": {},
   "outputs": [],
   "source": [
    "warnings.simplefilter(\"ignore\", ConvergenceWarning)  # これ以降，警告を表示しない．\n",
    "my_pipeline = Pipeline([('sc', StandardScaler()),    # 標準化\n",
    "                        ('mlp', MLPRegressor())])    # ニューラルネットワーク\n",
    "my_pipeline.fit(X, y)                                # 訓練\n",
    "\n",
    "my_scores = cross_val_score(my_pipeline, X, y, cv=LeaveOneOut(),\n",
    "                            scoring='neg_mean_squared_error')\n",
    "warnings.simplefilter(\"default\", ConvergenceWarning) # これ以降，警告を表示する．"
   ]
  },
  {
   "cell_type": "code",
   "execution_count": null,
   "metadata": {},
   "outputs": [],
   "source": [
    "(-my_scores.mean())**0.5\n",
    "#> 0.41735891601426384"
   ]
  },
  {
   "cell_type": "markdown",
   "metadata": {},
   "source": [
    "### 8.7.3 ニューラルネットワークのチューニング"
   ]
  },
  {
   "cell_type": "code",
   "execution_count": null,
   "metadata": {},
   "outputs": [],
   "source": [
    "my_pipeline = Pipeline([\n",
    "    ('sc', StandardScaler()),\n",
    "    ('mlp', MLPRegressor(tol=1e-5,         # 改善したと見なす基準\n",
    "                         max_iter=5000))]) # 改善しなくなるまでの反復数\n",
    "my_layers = (1, 3, 5,                                         # 隠れ層1層の場合\n",
    "             (1, 1), (3, 1), (5, 1), (1, 2), (3, 2), (5, 2))  # 隠れ層2層の場合\n",
    "my_params = {'mlp__hidden_layer_sizes': my_layers}\n",
    "my_search = GridSearchCV(estimator=my_pipeline,\n",
    "                         param_grid=my_params,\n",
    "                         cv=LeaveOneOut(),\n",
    "                         scoring='neg_mean_squared_error',\n",
    "                         n_jobs=-1).fit(X, y)\n",
    "my_model = my_search.best_estimator_ # 最良モデル\n",
    "\n",
    "my_search.best_params_               # 最良パラメータ\n",
    "#> {'mlp__hidden_layer_sizes': 5}"
   ]
  },
  {
   "cell_type": "code",
   "execution_count": null,
   "metadata": {},
   "outputs": [],
   "source": [
    "(-my_search.best_score_)**0.5\n",
    "#> 0.3759690731968538"
   ]
  }
 ],
 "nbformat": 4,
 "nbformat_minor": 5,
 "metadata": {
  "kernelspec": {
   "name": "python3",
   "display_name": "Python 3"
  }
 }
}
