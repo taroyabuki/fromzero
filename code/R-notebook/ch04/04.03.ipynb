{
 "cells": [
  {
   "cell_type": "markdown",
   "metadata": {},
   "source": [
    "## 4.3 乱数\n",
    "\n",
    "### 4.3.1 一様乱数（離散）"
   ]
  },
  {
   "cell_type": "code",
   "execution_count": null,
   "metadata": {},
   "outputs": [],
   "source": [
    "x <- sample(x = 1:6,        # 範囲\n",
    "            size = 10000,   # 乱数の数\n",
    "            replace = TRUE) # 重複あり\n",
    "hist(x, breaks = 0:6) # ヒストグラム"
   ]
  },
  {
   "cell_type": "markdown",
   "metadata": {},
   "source": [
    "### 4.3.2 一様乱数（連続）"
   ]
  },
  {
   "cell_type": "code",
   "execution_count": null,
   "metadata": {},
   "outputs": [],
   "source": [
    "x <- runif(min = 0,  # 最小\n",
    "           max = 1,  # 最大\n",
    "           n = 1000) # 乱数の数\n",
    "hist(x)"
   ]
  },
  {
   "cell_type": "code",
   "execution_count": null,
   "metadata": {},
   "outputs": [],
   "source": [
    "x <- as.integer(      # 整数に変換\n",
    "  runif(min = 1,      # 最小\n",
    "        max = 7,      # 最大 + 1\n",
    "        n = 1000))    # 乱数の数\n",
    "hist(x, breaks = 0:6) # 結果は割愛"
   ]
  },
  {
   "cell_type": "markdown",
   "metadata": {},
   "source": [
    "### 4.3.3 二項乱数"
   ]
  },
  {
   "cell_type": "code",
   "execution_count": null,
   "metadata": {},
   "outputs": [],
   "source": [
    "n <- 100\n",
    "p <- 0.5\n",
    "r <- 10000\n",
    "x <- rbinom(size = n, # 試行回数\n",
    "            prob = p, # 確率\n",
    "            n = r)    # 乱数の数\n",
    "hist(x, breaks = max(x) - min(x))"
   ]
  },
  {
   "cell_type": "markdown",
   "metadata": {},
   "source": [
    "### 4.3.4 正規乱数"
   ]
  },
  {
   "cell_type": "code",
   "execution_count": null,
   "metadata": {},
   "outputs": [],
   "source": [
    "r <- 10000\n",
    "x <- rnorm(mean = 50, # 平均\n",
    "           sd = 5,    # 標準偏差\n",
    "           n = r)     # 乱数の数\n",
    "hist(x, breaks = 40)"
   ]
  },
  {
   "cell_type": "markdown",
   "metadata": {},
   "source": [
    "#### 4.3.4.1 補足：不偏性の具体例"
   ]
  },
  {
   "cell_type": "code",
   "execution_count": null,
   "metadata": {},
   "outputs": [],
   "source": [
    "library(tidyverse)\n",
    "\n",
    "f <- function(k) {\n",
    "  n <- 10000\n",
    "  tmp <- replicate(n = n, expr = g(rnorm(n =  k, sd = 3)))\n",
    "  list(k = k,\n",
    "       mean = mean(tmp),       # 平均\n",
    "       se = sd(tmp) / sqrt(n)) # 標準誤差\n",
    "}"
   ]
  },
  {
   "cell_type": "code",
   "execution_count": null,
   "metadata": {},
   "outputs": [],
   "source": [
    "g <- var\n",
    "c(10, 20, 30) %>% map_dfr(f)\n",
    "#> # A tibble: 3 x 3\n",
    "#>       k  mean     se\n",
    "#>   <dbl> <dbl>  <dbl>\n",
    "#> 1    10  8.98 0.0427\n",
    "#> 2    20  8.97 0.0288\n",
    "#> 3    30  9.03 0.0233"
   ]
  },
  {
   "cell_type": "code",
   "execution_count": null,
   "metadata": {},
   "outputs": [],
   "source": [
    "g <- sd\n",
    "c(5, 10, 15, 20) %>% map_dfr(f)\n",
    "#> # A tibble: 3 x 3\n",
    "#>       k  mean      se\n",
    "#>   <dbl> <dbl>   <dbl>\n",
    "#> 1    10  2.92 0.00701\n",
    "#> 2    20  2.95 0.00481\n",
    "#> 3    30  2.97 0.00394"
   ]
  },
  {
   "cell_type": "code",
   "execution_count": null,
   "metadata": {},
   "outputs": [],
   "source": [
    "g <- function(x) {\n",
    "  n <- length(x)\n",
    "  sd(x) *\n",
    "    sqrt((n - 1) / 2) *\n",
    "    gamma((n - 1) / 2) /\n",
    "    gamma(n / 2)\n",
    "}\n",
    "c(10, 20, 30) %>% map_dfr(f)\n",
    "#> # A tibble: 3 x 3\n",
    "#>       k  mean      se\n",
    "#>   <dbl> <dbl>   <dbl>\n",
    "#> 1    10  3.00 0.00717\n",
    "#> 2    20  2.99 0.00488\n",
    "#> 3    30  3.00 0.00396"
   ]
  }
 ],
 "nbformat": 4,
 "nbformat_minor": 5,
 "metadata": {
  "kernelspec": {
   "name": "ir",
   "display_name": "R"
  }
 }
}
