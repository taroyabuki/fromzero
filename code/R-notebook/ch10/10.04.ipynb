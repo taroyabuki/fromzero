{
 "cells": [
  {
   "cell_type": "markdown",
   "metadata": {},
   "source": [
    "## 10.4 ロジスティック回帰"
   ]
  },
  {
   "cell_type": "code",
   "execution_count": null,
   "metadata": {},
   "outputs": [],
   "source": [
    "curve(1 / (1 + exp(-x)), -6, 6)"
   ]
  },
  {
   "cell_type": "code",
   "execution_count": null,
   "metadata": {},
   "outputs": [],
   "source": [
    "library(caret)\n",
    "library(PRROC)\n",
    "library(tidyverse)\n",
    "\n",
    "my_url <- str_c(\"https://raw.githubusercontent.com/taroyabuki\",\n",
    "                \"/fromzero/master/data/titanic.csv\")\n",
    "my_data <- read_csv(my_url)\n",
    "\n",
    "my_model <- train(form = Survived ~ ., data = my_data, method = \"glm\",\n",
    "                  trControl = trainControl(method = \"LOOCV\"))"
   ]
  },
  {
   "cell_type": "code",
   "execution_count": null,
   "metadata": {},
   "outputs": [],
   "source": [
    "coef(my_model$finalModel) %>%\n",
    "  as.data.frame\n",
    "#>                      .\n",
    "#> (Intercept)  2.0438374\n",
    "#> Class2nd    -1.0180950\n",
    "#> Class3rd    -1.7777622\n",
    "#> ClassCrew   -0.8576762\n",
    "#> SexMale     -2.4200603\n",
    "#> AgeChild     1.0615424"
   ]
  },
  {
   "cell_type": "code",
   "execution_count": null,
   "metadata": {},
   "outputs": [],
   "source": [
    "my_model$results\n",
    "#>   parameter  Accuracy     Kappa\n",
    "#> 1      none 0.7782826 0.4448974"
   ]
  }
 ],
 "nbformat": 4,
 "nbformat_minor": 5,
 "metadata": {
  "kernelspec": {
   "name": "ir",
   "display_name": "R"
  }
 }
}
