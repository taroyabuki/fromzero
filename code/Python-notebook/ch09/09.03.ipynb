{
 "cells": [
  {
   "cell_type": "markdown",
   "metadata": {},
   "source": [
    "## 9.3 正解率\n",
    "\n",
    "### 9.3.1 混同行列"
   ]
  },
  {
   "cell_type": "code",
   "execution_count": null,
   "metadata": {},
   "outputs": [],
   "source": [
    "import graphviz\n",
    "import pandas as pd\n",
    "import statsmodels.api as sm\n",
    "from sklearn import tree\n",
    "from sklearn.metrics import confusion_matrix\n",
    "from sklearn.model_selection import cross_val_score, GridSearchCV, LeaveOneOut\n",
    "\n",
    "my_data = sm.datasets.get_rdataset('iris', 'datasets').data\n",
    "X, y = my_data.iloc[:, 0:4], my_data.Species\n",
    "\n",
    "my_model = tree.DecisionTreeClassifier(max_depth=2, random_state=0).fit(X, y)\n",
    "y_ = my_model.predict(X)\n",
    "confusion_matrix(y_true=y, y_pred=y_)\n",
    "#> array([[50,  0,  0],\n",
    "#>        [ 0, 49,  1],\n",
    "#>        [ 0,  5, 45]])"
   ]
  },
  {
   "cell_type": "markdown",
   "metadata": {},
   "source": [
    "### 9.3.2 正解率（訓練）"
   ]
  },
  {
   "cell_type": "code",
   "execution_count": null,
   "metadata": {},
   "outputs": [],
   "source": [
    "my_model.score(X, y)\n",
    "# あるいは\n",
    "y_ = my_model.predict(X)\n",
    "(y_ == y).mean()\n",
    "\n",
    "#> 0.96"
   ]
  },
  {
   "cell_type": "markdown",
   "metadata": {},
   "source": [
    "### 9.3.3 正解率（検証）"
   ]
  },
  {
   "cell_type": "code",
   "execution_count": null,
   "metadata": {},
   "outputs": [],
   "source": [
    "cross_val_score(my_model, X, y, cv=LeaveOneOut()).mean()\n",
    "#> 0.9533333333333334"
   ]
  },
  {
   "cell_type": "markdown",
   "metadata": {},
   "source": [
    "### 9.3.4 パラメータチューニング"
   ]
  },
  {
   "cell_type": "code",
   "execution_count": null,
   "metadata": {},
   "outputs": [],
   "source": [
    "my_search = GridSearchCV(estimator=tree.DecisionTreeClassifier(random_state=0),\n",
    "                         param_grid={'max_depth': range(1, 11)},\n",
    "                         cv=LeaveOneOut(),\n",
    "                         n_jobs=-1).fit(X, y)\n",
    "my_search.best_params_, my_search.best_score_\n",
    "#> ({'max_depth': 2}, 0.9533333333333334)"
   ]
  },
  {
   "cell_type": "markdown",
   "metadata": {},
   "source": [
    "### 9.3.5 補足：木の複雑さの制限"
   ]
  },
  {
   "cell_type": "code",
   "execution_count": null,
   "metadata": {},
   "outputs": [],
   "source": [
    "my_params = {\n",
    "    'max_depth': range(2, 6),\n",
    "    'min_samples_split': [2, 20],\n",
    "    'min_samples_leaf': range(1, 8)}\n",
    "\n",
    "my_search = GridSearchCV(\n",
    "    estimator=tree.DecisionTreeClassifier(min_impurity_decrease=0.01,\n",
    "                                          random_state=0),\n",
    "    param_grid=my_params,\n",
    "    cv=LeaveOneOut(),\n",
    "    n_jobs=-1).fit(X, y)\n",
    "my_search.best_params_, my_search.best_score_\n",
    "#> ({'max_depth': 3, 'min_samples_leaf': 5, 'min_samples_split': 2},\n",
    "#>  0.9733333333333334)\n",
    "\n",
    "tmp = my_search.cv_results_\n",
    "my_results = pd.DataFrame(tmp['params']).assign(\n",
    "    Accuracy=tmp['mean_test_score'])\n",
    "# 正解率（検証）の最大値\n",
    "my_results[my_results.Accuracy == my_results.Accuracy.max()]\n",
    "#>     max_depth  min_samples_leaf  min_samples_split  Accuracy\n",
    "#> 22          3                 5                  2  0.973333\n",
    "#> 23          3                 5                 20  0.973333\n",
    "#> 36          4                 5                  2  0.973333\n",
    "#> 37          4                 5                 20  0.973333\n",
    "#> 50          5                 5                  2  0.973333\n",
    "#> 51          5                 5                 20  0.973333"
   ]
  },
  {
   "cell_type": "code",
   "execution_count": null,
   "metadata": {},
   "outputs": [],
   "source": [
    "my_model = my_search.best_estimator_\n",
    "my_dot = tree.export_graphviz(\n",
    "    decision_tree=my_model,\n",
    "    out_file=None,\n",
    "    feature_names=X.columns,\n",
    "    class_names=my_model.classes_,\n",
    "    filled=True)\n",
    "graphviz.Source(my_dot)"
   ]
  }
 ],
 "nbformat": 4,
 "nbformat_minor": 5,
 "metadata": {
  "kernelspec": {
   "name": "python3",
   "display_name": "Python 3"
  }
 }
}
