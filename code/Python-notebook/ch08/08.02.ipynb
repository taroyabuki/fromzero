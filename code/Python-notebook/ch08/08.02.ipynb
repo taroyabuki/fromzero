{
 "cells": [
  {
   "cell_type": "markdown",
   "metadata": {},
   "source": [
    "## 8.2 重回帰分析"
   ]
  },
  {
   "cell_type": "code",
   "execution_count": null,
   "metadata": {},
   "outputs": [],
   "source": [
    "import numpy as np\n",
    "import pandas as pd\n",
    "from sklearn.linear_model import LinearRegression\n",
    "from sklearn.metrics import mean_squared_error\n",
    "from sklearn.model_selection import cross_val_score, LeaveOneOut\n",
    "\n",
    "my_url = ('https://raw.githubusercontent.com/taroyabuki'\n",
    "          '/fromzero/master/data/wine.csv')\n",
    "my_data = pd.read_csv(my_url)\n",
    "X, y = my_data.drop(columns=['LPRICE2']), my_data['LPRICE2']\n",
    "\n",
    "my_model = LinearRegression().fit(X, y)"
   ]
  },
  {
   "cell_type": "code",
   "execution_count": null,
   "metadata": {},
   "outputs": [],
   "source": [
    "my_model.intercept_\n",
    "#> -12.145333576510417\n",
    "\n",
    "pd.Series(my_model.coef_,\n",
    "          index=X.columns)\n",
    "#> WRAIN      0.001167\n",
    "#> DEGREES    0.616392\n",
    "#> HRAIN     -0.003861\n",
    "#> TIME_SV    0.023847\n",
    "#> dtype: float64"
   ]
  },
  {
   "cell_type": "code",
   "execution_count": null,
   "metadata": {},
   "outputs": [],
   "source": [
    "my_test = [[500, 17, 120, 2]]\n",
    "my_model.predict(my_test)\n",
    "#> array([-1.49884253])"
   ]
  },
  {
   "cell_type": "code",
   "execution_count": null,
   "metadata": {},
   "outputs": [],
   "source": [
    "y_ = my_model.predict(X)\n",
    "\n",
    "mean_squared_error(y_, y)**0.5\n",
    "#> 0.2586166620130621 # RMSE（訓練）\n",
    "\n",
    "my_model.score(X, y)\n",
    "#> 0.8275277990052154 # 決定係数1\n",
    "\n",
    "np.corrcoef(y, y_)[0, 1]**2\n",
    "#> 0.8275277990052158 # 決定係数6"
   ]
  },
  {
   "cell_type": "code",
   "execution_count": null,
   "metadata": {},
   "outputs": [],
   "source": [
    "my_scores = cross_val_score(my_model, X, y,\n",
    "                            cv=LeaveOneOut(),\n",
    "                            scoring='neg_mean_squared_error')\n",
    "(-my_scores.mean())**0.5\n",
    "#> 0.32300426518411957 # RMSE（検証）"
   ]
  },
  {
   "cell_type": "markdown",
   "metadata": {},
   "source": [
    "### 8.2.1 補足：行列計算による再現"
   ]
  },
  {
   "cell_type": "code",
   "execution_count": null,
   "metadata": {},
   "outputs": [],
   "source": [
    "import numpy as np\n",
    "M = np.matrix(X.assign(b0=1))\n",
    "b = np.linalg.pinv(M) @ y\n",
    "pd.Series(b,\n",
    "    index=list(X.columns) + ['b0'])\n",
    "#> WRAIN       0.001167\n",
    "#> DEGREES     0.616392\n",
    "#> HRAIN      -0.003861\n",
    "#> TIME_SV     0.023847\n",
    "#> b0        -12.145334\n",
    "#> dtype: float64"
   ]
  }
 ],
 "nbformat": 4,
 "nbformat_minor": 5,
 "metadata": {
  "kernelspec": {
   "name": "python3",
   "display_name": "Python 3"
  }
 }
}
