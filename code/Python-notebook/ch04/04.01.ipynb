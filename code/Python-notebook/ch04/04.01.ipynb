{
 "cells": [
  {
   "cell_type": "markdown",
   "metadata": {},
   "source": [
    "## 4.1 記述統計\n",
    "\n",
    "### 4.1.1 平均・分散・標準偏差"
   ]
  },
  {
   "cell_type": "code",
   "execution_count": null,
   "metadata": {},
   "outputs": [],
   "source": [
    "import numpy as np\n",
    "import pandas as pd\n",
    "\n",
    "x = [165, 170, 175, 180, 185]\n",
    "np.mean(x) # リストの場合\n",
    "#> 175.0\n",
    "\n",
    "x = np.array( # アレイ\n",
    "    [165, 170, 175, 180, 185])\n",
    "x.mean() # np.mean(x)も可\n",
    "#> 175.0\n",
    "\n",
    "x = pd.Series( # シリーズ\n",
    "    [165, 170, 175, 180, 185])\n",
    "x.mean() # np.mean(x)も可\n",
    "#> 175.0"
   ]
  },
  {
   "cell_type": "code",
   "execution_count": null,
   "metadata": {},
   "outputs": [],
   "source": [
    "n = len(x) # サンプルサイズ\n",
    "sum(x) / n\n",
    "#> 175.0"
   ]
  },
  {
   "cell_type": "code",
   "execution_count": null,
   "metadata": {},
   "outputs": [],
   "source": [
    "y = [173, 174, 175, 176, 177]\n",
    "np.mean(y)\n",
    "#> 175.0"
   ]
  },
  {
   "cell_type": "code",
   "execution_count": null,
   "metadata": {},
   "outputs": [],
   "source": [
    "np.var(x, ddof=1) # xの分散\n",
    "#> 62.5\n",
    "\n",
    "np.var(y, ddof=1) # yの分散\n",
    "#> 2.5"
   ]
  },
  {
   "cell_type": "code",
   "execution_count": null,
   "metadata": {},
   "outputs": [],
   "source": [
    "sum((x - np.mean(x))**2) / (n - 1)\n",
    "#> 62.5"
   ]
  },
  {
   "cell_type": "code",
   "execution_count": null,
   "metadata": {},
   "outputs": [],
   "source": [
    "np.std(x, ddof=1) # xの標準偏差\n",
    "#> 7.905694150420948\n",
    "\n",
    "np.std(y, ddof=1) # yの標準偏差\n",
    "#> 1.5811388300841898"
   ]
  },
  {
   "cell_type": "code",
   "execution_count": null,
   "metadata": {},
   "outputs": [],
   "source": [
    "np.var(x, ddof=1)**0.5 # xの標準偏差\n",
    "#> 7.905694150420948"
   ]
  },
  {
   "cell_type": "code",
   "execution_count": null,
   "metadata": {},
   "outputs": [],
   "source": [
    "s = pd.Series(x)\n",
    "s.describe()\n",
    "#> count      5.000000 （データ数）\n",
    "#> mean     175.000000 （平均）\n",
    "#> std        7.905694 （標準偏差）\n",
    "#> min      165.000000 （最小値）\n",
    "#> 25%      170.000000 （第1四分位数）\n",
    "#> 50%      175.000000 （中央値）\n",
    "#> 75%      180.000000 （第3四分位数）\n",
    "#> max      185.000000 （最大値）\n",
    "#> dtype: float64"
   ]
  },
  {
   "cell_type": "code",
   "execution_count": null,
   "metadata": {},
   "outputs": [],
   "source": [
    "# s.describe()で計算済み"
   ]
  },
  {
   "cell_type": "markdown",
   "metadata": {},
   "source": [
    "#### 4.1.1.1 不偏分散とその非負の平方根"
   ]
  },
  {
   "cell_type": "code",
   "execution_count": null,
   "metadata": {},
   "outputs": [],
   "source": [
    "x = [165, 170, 175, 180, 185]\n",
    "\n",
    "np.var(x, ddof=1) # 不偏分散\n",
    "#> 62.5\n",
    "\n",
    "np.var(x, ddof=0) # 標本分散\n",
    "#> 50.0"
   ]
  },
  {
   "cell_type": "code",
   "execution_count": null,
   "metadata": {},
   "outputs": [],
   "source": [
    "np.std(x, ddof=1) # √不偏分散\n",
    "#> 7.905694150420949\n",
    "\n",
    "np.std(x, ddof=0) # √標本分散\n",
    "#> 7.0710678118654755"
   ]
  },
  {
   "cell_type": "code",
   "execution_count": null,
   "metadata": {},
   "outputs": [],
   "source": [
    "np.std(x, ddof=1) / len(x)**0.5\n",
    "#> 3.5355339059327373"
   ]
  },
  {
   "cell_type": "markdown",
   "metadata": {},
   "source": [
    "### 4.1.2 データフレームの統計処理"
   ]
  },
  {
   "cell_type": "code",
   "execution_count": null,
   "metadata": {},
   "outputs": [],
   "source": [
    "import numpy as np\n",
    "import pandas as pd\n",
    "\n",
    "my_df = pd.DataFrame({\n",
    "    'name':    ['A', 'B', 'C', 'D'],\n",
    "    'english': [ 60,  90,  70,  90],\n",
    "    'math':    [ 70,  80,  90, 100],\n",
    "    'gender':  ['f', 'm', 'm', 'f']})"
   ]
  },
  {
   "cell_type": "markdown",
   "metadata": {},
   "source": [
    "#### 4.1.2.1 列ごとの集計"
   ]
  },
  {
   "cell_type": "code",
   "execution_count": null,
   "metadata": {},
   "outputs": [],
   "source": [
    "my_df['english'].var(ddof=1)\n",
    "# あるいは\n",
    "np.var(my_df['english'], ddof=1)\n",
    "\n",
    "#> 225.0"
   ]
  },
  {
   "cell_type": "code",
   "execution_count": null,
   "metadata": {},
   "outputs": [],
   "source": [
    "my_df.var()\n",
    "# あるいは\n",
    "my_df.apply('var')\n",
    "# あるいは\n",
    "my_df.iloc[:, [1, 2]].apply(\n",
    "    lambda x: np.var(x, ddof=1))\n",
    "\n",
    "#> english    225.000000\n",
    "#> math       166.666667\n",
    "#> dtype: float64"
   ]
  },
  {
   "cell_type": "code",
   "execution_count": null,
   "metadata": {},
   "outputs": [],
   "source": [
    "my_df.describe()\n",
    "#>        english        math\n",
    "#> count      4.0    4.000000\n",
    "#> mean      77.5   85.000000\n",
    "#> std       15.0   12.909944\n",
    "#> min       60.0   70.000000\n",
    "#> 25%       67.5   77.500000\n",
    "#> 50%       80.0   85.000000\n",
    "#> 75%       90.0   92.500000\n",
    "#> max       90.0  100.000000"
   ]
  },
  {
   "cell_type": "markdown",
   "metadata": {},
   "source": [
    "#### 4.1.2.2 分割表とグループごとの集計"
   ]
  },
  {
   "cell_type": "code",
   "execution_count": null,
   "metadata": {},
   "outputs": [],
   "source": [
    "from collections import Counter\n",
    "Counter(my_df.gender)\n",
    "#> Counter({'f': 2, 'm': 2})\n",
    "\n",
    "# あるいは\n",
    "\n",
    "my_df.groupby('gender').apply(len)\n",
    "#> gender\n",
    "#> f    2\n",
    "#> m    2\n",
    "#> dtype: int64"
   ]
  },
  {
   "cell_type": "code",
   "execution_count": null,
   "metadata": {},
   "outputs": [],
   "source": [
    "my_df2 = my_df.assign(\n",
    "    excel=my_df.math >= 80)\n",
    "pd.crosstab(my_df2.gender,\n",
    "            my_df2.excel)\n",
    "#> excel   False  True\n",
    "#> gender\n",
    "#> f           1      1\n",
    "#> m           0      2"
   ]
  },
  {
   "cell_type": "code",
   "execution_count": null,
   "metadata": {},
   "outputs": [],
   "source": [
    "my_df.groupby('gender').mean()\n",
    "# あるいは\n",
    "my_df.groupby('gender').agg('mean')\n",
    "# あるいは\n",
    "my_df.groupby('gender').agg(np.mean)\n",
    "\n",
    "#>         english  math\n",
    "#> gender\n",
    "#> f          75.0  85.0\n",
    "#> m          80.0  85.0"
   ]
  }
 ],
 "nbformat": 4,
 "nbformat_minor": 5,
 "metadata": {
  "kernelspec": {
   "name": "python3",
   "display_name": "Python 3"
  }
 }
}
