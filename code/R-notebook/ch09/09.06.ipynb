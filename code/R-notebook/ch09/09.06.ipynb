{
 "cells": [
  {
   "cell_type": "markdown",
   "metadata": {},
   "source": [
    "## 9.6 他の分類手法\n",
    "\n",
    "### 9.6.1 K最近傍法"
   ]
  },
  {
   "cell_type": "code",
   "execution_count": null,
   "metadata": {},
   "outputs": [],
   "source": [
    "library(caret)\n",
    "library(tidyverse)\n",
    "my_data <- iris\n",
    "\n",
    "my_model <- train(form = Species ~ ., data = my_data, method = \"knn\",\n",
    "                  trControl = trainControl(method = \"LOOCV\"))\n",
    "my_model$results %>% filter(Accuracy == max(Accuracy))\n",
    "#>   k  Accuracy Kappa\n",
    "#> 1 9 0.9733333  0.96"
   ]
  },
  {
   "cell_type": "markdown",
   "metadata": {},
   "source": [
    "### 9.6.2 ニューラルネットワーク"
   ]
  },
  {
   "cell_type": "code",
   "execution_count": null,
   "metadata": {},
   "outputs": [],
   "source": [
    "library(caret)\n",
    "library(tidyverse)\n",
    "my_data <- iris\n",
    "\n",
    "my_model <- train(form = Species ~ ., data = my_data, method = \"nnet\",\n",
    "                  preProcess = c(\"center\", \"scale\"), # 標準化\n",
    "                  trControl = trainControl(method = \"LOOCV\"),\n",
    "                  trace = FALSE) # 途中経過を表示しない\n",
    "my_model$results %>% filter(Accuracy == max(Accuracy))\n",
    "#>   size decay  Accuracy Kappa\n",
    "#> 1    3   0.1 0.9733333  0.96\n",
    "#> 2    5   0.1 0.9733333  0.96"
   ]
  }
 ],
 "nbformat": 4,
 "nbformat_minor": 5,
 "metadata": {
  "kernelspec": {
   "name": "ir",
   "display_name": "R"
  }
 }
}
