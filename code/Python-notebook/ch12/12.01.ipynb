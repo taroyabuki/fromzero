{
 "cells": [
  {
   "cell_type": "markdown",
   "metadata": {},
   "source": [
    "## 12.1 日時と日時の列\n",
    "\n",
    "### 12.1.1 日時"
   ]
  },
  {
   "cell_type": "code",
   "execution_count": null,
   "metadata": {},
   "outputs": [],
   "source": [
    "import pandas as pd\n",
    "pd.to_datetime('2020-01-01')\n",
    "#> Timestamp('2020-01-01 00:00:00')"
   ]
  },
  {
   "cell_type": "markdown",
   "metadata": {},
   "source": [
    "### 12.1.2 等間隔の日時"
   ]
  },
  {
   "cell_type": "code",
   "execution_count": null,
   "metadata": {},
   "outputs": [],
   "source": [
    "pd.date_range(start='2021-01-01', end='2023-01-01', freq='1A')\n",
    "#> DatetimeIndex(['2021-12-31', '2022-12-31'],\n",
    "#>               dtype='datetime64[ns]', freq='A-DEC')\n",
    "\n",
    "pd.date_range(start='2021-01-01', end='2023-01-01', freq='1AS')\n",
    "#> DatetimeIndex(['2021-01-01', '2022-01-01', '2023-01-01'],\n",
    "#>               dtype='datetime64[ns]', freq='AS-JAN')\n",
    "\n",
    "pd.date_range(start='2021-01-01', end='2021-03-01', freq='2M')\n",
    "#> DatetimeIndex(['2021-01-31'], dtype='datetime64[ns]', freq='2M')\n",
    "\n",
    "pd.date_range(start='2021-01-01', end='2021-03-01', freq='2MS')\n",
    "#> DatetimeIndex(['2021-01-01', '2021-03-01'],\n",
    "#>               dtype='datetime64[ns]', freq='2MS')\n",
    "\n",
    "pd.date_range(start='2021-01-01', end='2021-01-03', freq='1D')\n",
    "#> DatetimeIndex(['2021-01-01', '2021-01-02', '2021-01-03'],\n",
    "#>               dtype='datetime64[ns]', freq='D')\n",
    "\n",
    "pd.date_range(start='2021-01-01 00:00:00', end='2021-01-01 03:00:00', freq='2H')\n",
    "#> DatetimeIndex(['2021-01-01 00:00:00', '2021-01-01 02:00:00'],\n",
    "#>               dtype='datetime64[ns]', freq='2H')"
   ]
  }
 ],
 "nbformat": 4,
 "nbformat_minor": 5,
 "metadata": {
  "kernelspec": {
   "name": "python3",
   "display_name": "Python 3"
  }
 }
}
