{
 "cells": [
  {
   "cell_type": "markdown",
   "metadata": {},
   "source": [
    "## 6.3 機械学習のための手法\n",
    "\n",
    "### 6.3.1 教師あり学習のためのフレームワーク\n",
    "\n",
    "### 6.3.2 本書で勧める手法とデータセットの組合せ"
   ]
  }
 ],
 "nbformat": 4,
 "nbformat_minor": 5,
 "metadata": {
  "kernelspec": {
   "name": "python3",
   "display_name": "Python 3"
  }
 }
}
