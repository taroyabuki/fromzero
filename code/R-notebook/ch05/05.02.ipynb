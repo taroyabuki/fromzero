{
 "cells": [
  {
   "cell_type": "markdown",
   "metadata": {},
   "source": [
    "## 5.2 データの変換\n",
    "\n",
    "### 5.2.1 標準化"
   ]
  },
  {
   "cell_type": "code",
   "execution_count": null,
   "metadata": {},
   "outputs": [],
   "source": [
    "x1 <- c(1, 2, 3)\n",
    "\n",
    "z1 <- scale(x1)\n",
    "# あるいは\n",
    "z1 <- (x1 - mean(x1)) / sd(x1)\n",
    "\n",
    "z1\n",
    "#> [1] -1  0  1"
   ]
  },
  {
   "cell_type": "code",
   "execution_count": null,
   "metadata": {},
   "outputs": [],
   "source": [
    "c(mean(z1), sd(z1))\n",
    "#> [1] 0 1"
   ]
  },
  {
   "cell_type": "code",
   "execution_count": null,
   "metadata": {},
   "outputs": [],
   "source": [
    "z1 * sd(x1) + mean(x1)\n",
    "#> [1] 1 2 3"
   ]
  },
  {
   "cell_type": "code",
   "execution_count": null,
   "metadata": {},
   "outputs": [],
   "source": [
    "x2 <- c(1, 3, 5)\n",
    "z2 <- (x2 - mean(x1)) / sd(x1)\n",
    "c(mean(z2), sd(z2))\n",
    "#> [1] 1 2"
   ]
  },
  {
   "cell_type": "markdown",
   "metadata": {},
   "source": [
    "### 5.2.2 ワンホットエンコーディング"
   ]
  },
  {
   "cell_type": "code",
   "execution_count": null,
   "metadata": {},
   "outputs": [],
   "source": [
    "library(caret)\n",
    "library(tidyverse)\n",
    "\n",
    "my_df <- data.frame(\n",
    "  id = c(1, 2, 3),\n",
    "  class = as.factor(\n",
    "    c(\"A\", \"B\", \"C\")))\n",
    "\n",
    "my_enc <- my_df %>%\n",
    "  dummyVars(formula = ~ .)\n",
    "\n",
    "my_enc %>% predict(my_df)\n",
    "#>   id class.A class.B class.C\n",
    "#> 1  1       1       0       0\n",
    "#> 2  2       0       1       0\n",
    "#> 3  3       0       0       1"
   ]
  },
  {
   "cell_type": "code",
   "execution_count": null,
   "metadata": {},
   "outputs": [],
   "source": [
    "my_df2 <- data.frame(\n",
    "  id =    c( 4 ,  5 ,  6 ),\n",
    "  class = c(\"B\", \"C\", \"B\"))\n",
    "my_enc %>% predict(my_df2)\n",
    "#>   id class.A class.B class.C\n",
    "#> 1  4       0       1       0\n",
    "#> 2  5       0       0       1\n",
    "#> 3  6       0       1       0"
   ]
  },
  {
   "cell_type": "markdown",
   "metadata": {},
   "source": [
    "#### 5.2.2.1 補足：冗長性の排除"
   ]
  },
  {
   "cell_type": "code",
   "execution_count": null,
   "metadata": {},
   "outputs": [],
   "source": [
    "my_enc <- my_df %>%\n",
    "  dummyVars(formula = ~ .,\n",
    "            fullRank = TRUE)\n",
    "my_enc %>% predict(my_df)\n",
    "#>   id class.B class.C\n",
    "#> 1  1       0       0\n",
    "#> 2  2       1       0\n",
    "#> 3  3       0       1\n",
    "\n",
    "my_enc %>% predict(my_df2)\n",
    "#>   id class.B class.C\n",
    "#> 1  4       1       0\n",
    "#> 2  5       0       1\n",
    "#> 3  6       1       0"
   ]
  }
 ],
 "nbformat": 4,
 "nbformat_minor": 5,
 "metadata": {
  "kernelspec": {
   "name": "ir",
   "display_name": "R"
  }
 }
}
