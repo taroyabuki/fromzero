{
 "cells": [
  {
   "cell_type": "markdown",
   "metadata": {},
   "source": [
    "## 8.6 補足：正則化"
   ]
  },
  {
   "cell_type": "code",
   "execution_count": null,
   "metadata": {},
   "outputs": [],
   "source": [
    "import numpy as np\n",
    "import pandas as pd\n",
    "import warnings\n",
    "from sklearn.exceptions import ConvergenceWarning\n",
    "from sklearn.linear_model import ElasticNet, enet_path\n",
    "from sklearn.model_selection import GridSearchCV, LeaveOneOut\n",
    "from sklearn.pipeline import Pipeline\n",
    "from sklearn.preprocessing import StandardScaler\n",
    "from scipy.stats import zscore\n",
    "warnings.simplefilter('ignore', ConvergenceWarning) # これ以降，警告を表示しない．\n",
    "\n",
    "my_url = ('https://raw.githubusercontent.com/taroyabuki'\n",
    "          '/fromzero/master/data/wine.csv')\n",
    "my_data = pd.read_csv(my_url)\n",
    "X, y = my_data.drop(columns=['LPRICE2']), my_data['LPRICE2']"
   ]
  },
  {
   "cell_type": "markdown",
   "metadata": {},
   "source": [
    "### 8.6.1 正則化の実践"
   ]
  },
  {
   "cell_type": "code",
   "execution_count": null,
   "metadata": {},
   "outputs": [],
   "source": [
    "A = 2\n",
    "B = 0.1\n",
    "\n",
    "my_pipeline = Pipeline([\n",
    "    ('sc', StandardScaler()),\n",
    "    ('enet', ElasticNet(\n",
    "        alpha=A,\n",
    "        l1_ratio=B))])\n",
    "my_pipeline.fit(X, y)"
   ]
  },
  {
   "cell_type": "code",
   "execution_count": null,
   "metadata": {},
   "outputs": [],
   "source": [
    "my_enet = my_pipeline.named_steps.enet\n",
    "my_enet.intercept_\n",
    "#> -1.4517651851851852\n",
    "\n",
    "pd.Series(my_enet.coef_,\n",
    "          index=X.columns)\n",
    "#> WRAIN      0.000000\n",
    "#> DEGREES    0.074101\n",
    "#> HRAIN     -0.041159\n",
    "#> TIME_SV    0.024027\n",
    "#> dtype: float64"
   ]
  },
  {
   "cell_type": "code",
   "execution_count": null,
   "metadata": {},
   "outputs": [],
   "source": [
    "my_test = pd.DataFrame(\n",
    "    [[500, 17, 120, 2]])\n",
    "my_pipeline.predict(my_test)\n",
    "#> array([-1.41981616])"
   ]
  },
  {
   "cell_type": "markdown",
   "metadata": {},
   "source": [
    "### 8.6.2 ペナルティの強さと係数の関係"
   ]
  },
  {
   "cell_type": "code",
   "execution_count": null,
   "metadata": {},
   "outputs": [],
   "source": [
    "As = np.e**np.arange(2, -5.5, -0.1)\n",
    "B = 0.1\n",
    "\n",
    "_, my_path, _ = enet_path(\n",
    "    zscore(X), zscore(y),\n",
    "    alphas=As,\n",
    "    l1_ratio=B)\n",
    "\n",
    "pd.DataFrame(\n",
    "    my_path.T,\n",
    "    columns=X.columns,\n",
    "    index=np.log(As)\n",
    ").plot(\n",
    "    xlabel='log A ( = log alpha)',\n",
    "    ylabel='Coefficients')"
   ]
  },
  {
   "cell_type": "markdown",
   "metadata": {},
   "source": [
    "### 8.6.3 パラメータの決定"
   ]
  },
  {
   "cell_type": "code",
   "execution_count": null,
   "metadata": {},
   "outputs": [],
   "source": [
    "As = np.linspace(0, 0.1, 21)\n",
    "Bs = np.linspace(0, 0.1,  6)\n",
    "\n",
    "my_pipeline = Pipeline([('sc', StandardScaler()),\n",
    "                        ('enet', ElasticNet())])\n",
    "my_search = GridSearchCV(\n",
    "    estimator=my_pipeline,\n",
    "    param_grid={'enet__alpha': As, 'enet__l1_ratio': Bs},\n",
    "    cv=LeaveOneOut(),\n",
    "    scoring='neg_mean_squared_error',\n",
    "    n_jobs=-1).fit(X, y)\n",
    "my_model = my_search.best_estimator_ # 最良モデル\n",
    "\n",
    "my_search.best_params_               # 最良パラメータ\n",
    "#> {'enet__alpha': 0.075, 'enet__l1_ratio': 0.0}"
   ]
  },
  {
   "cell_type": "code",
   "execution_count": null,
   "metadata": {},
   "outputs": [],
   "source": [
    "tmp = my_search.cv_results_                # チューニングの詳細\n",
    "my_scores = (-tmp['mean_test_score'])**0.5 # RMSE\n",
    "\n",
    "my_results = pd.DataFrame(tmp['params']).assign(RMSE=my_scores).pivot(\n",
    "    index='enet__alpha',\n",
    "    columns='enet__l1_ratio',\n",
    "    values='RMSE')\n",
    "\n",
    "my_results.plot(style='o-', xlabel='A ( = alpha)', ylabel='RMSE').legend(\n",
    "    title='B ( = l1_ratio)')"
   ]
  },
  {
   "cell_type": "code",
   "execution_count": null,
   "metadata": {},
   "outputs": [],
   "source": [
    "(-my_search.best_score_)**0.5\n",
    "#> 0.31945619679509646"
   ]
  },
  {
   "cell_type": "markdown",
   "metadata": {},
   "source": [
    "### 8.6.4 補足：RとPythonで結果を同じにする方法"
   ]
  }
 ],
 "nbformat": 4,
 "nbformat_minor": 5,
 "metadata": {
  "kernelspec": {
   "name": "python3",
   "display_name": "Python 3"
  }
 }
}
