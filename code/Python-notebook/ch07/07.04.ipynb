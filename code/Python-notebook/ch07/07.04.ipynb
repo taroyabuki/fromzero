{
 "cells": [
  {
   "cell_type": "markdown",
   "metadata": {},
   "source": [
    "## 7.4 当てはまりの良さの指標\n",
    "\n",
    "### 7.4.1 RMSE"
   ]
  },
  {
   "cell_type": "code",
   "execution_count": null,
   "metadata": {},
   "outputs": [],
   "source": [
    "import pandas as pd\n",
    "import statsmodels.api as sm\n",
    "from sklearn.linear_model import LinearRegression\n",
    "from sklearn.metrics import mean_squared_error, r2_score\n",
    "\n",
    "my_data = sm.datasets.get_rdataset('cars', 'datasets').data\n",
    "X, y = my_data[['speed']], my_data['dist']\n",
    "\n",
    "my_model = LinearRegression()\n",
    "my_model.fit(X, y)\n",
    "y_ = my_model.predict(X)\n",
    "my_data['y_'] = y_"
   ]
  },
  {
   "cell_type": "code",
   "execution_count": null,
   "metadata": {},
   "outputs": [],
   "source": [
    "pd.options.display.float_format = (\n",
    "    '{:.2f}'.format)\n",
    "my_data['residual'] = y - y_\n",
    "my_data.head()\n",
    "#>    speed  dist    y_  residual\n",
    "#> 0      4     2 -1.85      3.85\n",
    "#> 1      4    10 -1.85     11.85\n",
    "#> 2      7     4  9.95     -5.95\n",
    "#> 3      7    22  9.95     12.05\n",
    "#> 4      8    16 13.88      2.12"
   ]
  },
  {
   "cell_type": "code",
   "execution_count": null,
   "metadata": {},
   "outputs": [],
   "source": [
    "ax = my_data.plot(x='speed', y='dist', style='o', legend=False)\n",
    "my_data.plot(x='speed', y='y_', style='-', legend=False, ax=ax)\n",
    "ax.vlines(x=X, ymin=y, ymax=y_, linestyles='dotted')"
   ]
  },
  {
   "cell_type": "code",
   "execution_count": null,
   "metadata": {},
   "outputs": [],
   "source": [
    "mean_squared_error(y, y_)**0.5\n",
    "# あるいは\n",
    "(my_data['residual']**2).mean()**0.5\n",
    "\n",
    "#> 15.068855995791381"
   ]
  },
  {
   "cell_type": "markdown",
   "metadata": {},
   "source": [
    "### 7.4.2 決定係数"
   ]
  },
  {
   "cell_type": "code",
   "execution_count": null,
   "metadata": {},
   "outputs": [],
   "source": [
    "my_model.score(X, y)\n",
    "# あるいは\n",
    "r2_score(y_true=y, y_pred=y_)\n",
    "#> 0.6510793807582509"
   ]
  },
  {
   "cell_type": "code",
   "execution_count": null,
   "metadata": {},
   "outputs": [],
   "source": [
    "import numpy as np\n",
    "np.corrcoef(y, y_)[0, 1]**2\n",
    "#> 0.6510793807582511"
   ]
  },
  {
   "cell_type": "code",
   "execution_count": null,
   "metadata": {},
   "outputs": [],
   "source": [
    "my_test = my_data[:3]\n",
    "X = my_test[['speed']]\n",
    "y = my_test['dist']\n",
    "y_ = my_model.predict(X)\n",
    "\n",
    "my_model.score(X, y)\n",
    "# あるいは\n",
    "r2_score(y_true=y, y_pred=y_)\n",
    "#> -4.498191310376778 # 決定係数1\n",
    "\n",
    "np.corrcoef(y, y_)[0, 1]**2\n",
    "#> 0.0769230769230769 # 決定係数6"
   ]
  },
  {
   "cell_type": "markdown",
   "metadata": {},
   "source": [
    "### 7.4.3 当てはまりの良さの指標の問題点"
   ]
  },
  {
   "cell_type": "code",
   "execution_count": null,
   "metadata": {},
   "outputs": [],
   "source": [
    "import numpy as np\n",
    "import pandas as pd\n",
    "import statsmodels.api as sm\n",
    "from sklearn.linear_model import LinearRegression\n",
    "from sklearn.preprocessing import PolynomialFeatures\n",
    "\n",
    "my_data = sm.datasets.get_rdataset('cars', 'datasets').data\n",
    "\n",
    "my_idx = [1, 10, 26, 33, 38, 43]\n",
    "my_sample = my_data.iloc[my_idx, ]\n",
    "X, y = my_sample[['speed']], my_sample['dist']"
   ]
  },
  {
   "cell_type": "code",
   "execution_count": null,
   "metadata": {},
   "outputs": [],
   "source": [
    "d = 5\n",
    "X5 = PolynomialFeatures(d).fit_transform(X) # Xの1乗から5乗の変数\n",
    "\n",
    "my_model = LinearRegression()\n",
    "my_model.fit(X5, y)\n",
    "y_ = my_model.predict(X5)"
   ]
  },
  {
   "cell_type": "code",
   "execution_count": null,
   "metadata": {},
   "outputs": [],
   "source": [
    "((y - y_)**2).mean()**0.5\n",
    "#> 7.725744805546204e-07 # RMSE\n",
    "\n",
    "my_model.score(X5, y)\n",
    "#> 0.9999999999999989 # 決定係数1\n",
    "\n",
    "np.corrcoef(y, y_)[0, 1]**2\n",
    "#> 0.9999999999999991 # 決定係数6"
   ]
  },
  {
   "cell_type": "code",
   "execution_count": null,
   "metadata": {},
   "outputs": [],
   "source": [
    "tmp = pd.DataFrame({'speed': np.linspace(min(my_data.speed),\n",
    "                                         max(my_data.speed),\n",
    "                                         100)})\n",
    "X5 = PolynomialFeatures(d).fit_transform(tmp)\n",
    "tmp['model'] = my_model.predict(X5)\n",
    "\n",
    "my_sample = my_sample.assign(sample=y)\n",
    "my_df = pd.concat([my_data, my_sample, tmp])\n",
    "my_df.plot(x='speed', style=['o', 'o', '-'], ylim=(0, 130))"
   ]
  }
 ],
 "nbformat": 4,
 "nbformat_minor": 5,
 "metadata": {
  "kernelspec": {
   "name": "python3",
   "display_name": "Python 3"
  }
 }
}
