{
 "cells": [
  {
   "cell_type": "markdown",
   "metadata": {},
   "source": [
    "## 3.5 1次元データの（非）類似度\n",
    "\n",
    "### 3.5.1 ユークリッド距離"
   ]
  },
  {
   "cell_type": "code",
   "execution_count": null,
   "metadata": {},
   "outputs": [],
   "source": [
    "import numpy as np\n",
    "from scipy.spatial import distance\n",
    "from scipy.stats import pearsonr\n",
    "\n",
    "A = np.array([3,   4,  5])\n",
    "B = np.array([3,   4, 29])\n",
    "C = np.array([9, -18,  8])\n",
    "\n",
    "distance.euclidean(A, B)\n",
    "#> 24.0\n",
    "\n",
    "distance.euclidean(A, C)\n",
    "#> 23.0"
   ]
  },
  {
   "cell_type": "markdown",
   "metadata": {},
   "source": [
    "### 3.5.2 マンハッタン距離"
   ]
  },
  {
   "cell_type": "code",
   "execution_count": null,
   "metadata": {},
   "outputs": [],
   "source": [
    "distance.cityblock(A, B)\n",
    "#> 24\n",
    "\n",
    "distance.cityblock(A, C)\n",
    "#> 31"
   ]
  },
  {
   "cell_type": "markdown",
   "metadata": {},
   "source": [
    "### 3.5.3 コサイン類似度"
   ]
  },
  {
   "cell_type": "code",
   "execution_count": null,
   "metadata": {},
   "outputs": [],
   "source": [
    "1 - distance.cosine(A, B)\n",
    "#> 0.8169678632647616\n",
    "\n",
    "1 - distance.cosine(A, C)\n",
    "#> -0.032651157422416865"
   ]
  },
  {
   "cell_type": "markdown",
   "metadata": {},
   "source": [
    "### 3.5.4 相関係数"
   ]
  },
  {
   "cell_type": "code",
   "execution_count": null,
   "metadata": {},
   "outputs": [],
   "source": [
    "1 - distance.correlation(A, B)\n",
    "# あるいは\n",
    "pearsonr(A, B)[0]\n",
    "#> 0.8824975032927698\n",
    "\n",
    "1 - distance.correlation(A, C)\n",
    "# あるいは\n",
    "pearsonr(A, C)[0]\n",
    "#> -0.032662766723200676"
   ]
  },
  {
   "cell_type": "markdown",
   "metadata": {},
   "source": [
    "#### 3.5.4.1 データフレームを使う方法"
   ]
  },
  {
   "cell_type": "code",
   "execution_count": null,
   "metadata": {},
   "outputs": [],
   "source": [
    "# 小数点以下は3桁表示\n",
    "np.set_printoptions(precision=3)\n",
    "import pandas as pd\n",
    "\n",
    "my_df = pd.DataFrame({\n",
    "    'x': [3,  3,   9],\n",
    "    'y': [4,  4, -18],\n",
    "    'z': [5, 29,   8]},\n",
    "    index=['A', 'B', 'C'])\n",
    "\n",
    "# ユークリッド距離\n",
    "distance.cdist(my_df, my_df,\n",
    "               metric='euclidean')\n",
    "#> array([[ 0., 24., 23.],\n",
    "#>        [24.,  0., 31.],\n",
    "#>        [23., 31.,  0.]])\n",
    "\n",
    "# マンハッタン距離\n",
    "distance.cdist(my_df, my_df,\n",
    "               metric='cityblock')\n",
    "#> array([[ 0., 24., 31.],\n",
    "#>        [24.,  0., 49.],\n",
    "#>        [31., 49.,  0.]])\n",
    "\n",
    "# コサイン類似度\n",
    "1 - distance.cdist(my_df, my_df,\n",
    "    metric='cosine')\n",
    "#> array([[ 1.   ,  0.817, -0.033],\n",
    "#>        [ 0.817,  1.   ,  0.293],\n",
    "#>        [-0.033,  0.293,  1.   ]])\n",
    "\n",
    "# 相関係数\n",
    "1 - distance.cdist(my_df, my_df,\n",
    "    metric='correlation')\n",
    "#> array([[ 1.   ,  0.882, -0.033],\n",
    "#>        [ 0.882,  1.   ,  0.441],\n",
    "#>        [-0.033,  0.441,  1.   ]])"
   ]
  }
 ],
 "nbformat": 4,
 "nbformat_minor": 5,
 "metadata": {
  "kernelspec": {
   "name": "python3",
   "display_name": "Python 3"
  }
 }
}
