{
 "cells": [
  {
   "cell_type": "markdown",
   "metadata": {},
   "source": [
    "## 13.2 クラスタ分析\n",
    "\n",
    "### 13.2.1 階層的クラスタ分析"
   ]
  },
  {
   "cell_type": "code",
   "execution_count": null,
   "metadata": {},
   "outputs": [],
   "source": [
    "import pandas as pd\n",
    "from scipy.cluster import hierarchy\n",
    "\n",
    "my_data = pd.DataFrame(\n",
    "    {'x': [  0, -16,  10,  10],\n",
    "     'y': [  0,   0,  10, -15]},\n",
    "    index=['A', 'B', 'C', 'D'])\n",
    "\n",
    "my_result = hierarchy.linkage(\n",
    "    my_data,\n",
    "    metric='euclidean', # 省略可\n",
    "    method='complete')"
   ]
  },
  {
   "cell_type": "code",
   "execution_count": null,
   "metadata": {},
   "outputs": [],
   "source": [
    "hierarchy.dendrogram(my_result,\n",
    "    labels=my_data.index)"
   ]
  },
  {
   "cell_type": "code",
   "execution_count": null,
   "metadata": {},
   "outputs": [],
   "source": [
    "hierarchy.cut_tree(my_result, 3)\n",
    "#> array([[0], [1], [0], [2]])"
   ]
  },
  {
   "cell_type": "markdown",
   "metadata": {},
   "source": [
    "### 13.2.2 階層的クラスタ分析とヒートマップ"
   ]
  },
  {
   "cell_type": "code",
   "execution_count": null,
   "metadata": {},
   "outputs": [],
   "source": [
    "import pandas as pd\n",
    "import seaborn as sns\n",
    "\n",
    "my_data = pd.DataFrame(\n",
    "    {'language': [  0,  20,  20,  25,  22,  17],\n",
    "     'english':  [  0,  20,  40,  20,  24,  18],\n",
    "     'math':     [100,  20,   5,  30,  17,  25],\n",
    "     'science':  [  0,  20,   5,  25,  16,  23],\n",
    "     'society':  [  0,  20,  30,   0,  21,  17]},\n",
    "    index=       ['A', 'B', 'C', 'D', 'E', 'F'])\n",
    "\n",
    "sns.clustermap(my_data, z_score=1) # 列ごとの標準化"
   ]
  },
  {
   "cell_type": "markdown",
   "metadata": {},
   "source": [
    "### 13.2.3 非階層的クラスタ分析"
   ]
  },
  {
   "cell_type": "code",
   "execution_count": null,
   "metadata": {},
   "outputs": [],
   "source": [
    "import pandas as pd\n",
    "from sklearn.cluster import KMeans\n",
    "\n",
    "my_data = pd.DataFrame(\n",
    "    {'x': [  0, -16,  10,  10],\n",
    "     'y': [  0,   0,  10, -15]},\n",
    "    index=['A', 'B', 'C', 'D'])\n",
    "\n",
    "my_result = KMeans(\n",
    "    n_clusters=3).fit(my_data)"
   ]
  },
  {
   "cell_type": "code",
   "execution_count": null,
   "metadata": {},
   "outputs": [],
   "source": [
    "my_result.labels_\n",
    "#> array([1, 0, 1, 2], dtype=int32)"
   ]
  },
  {
   "cell_type": "markdown",
   "metadata": {},
   "source": [
    "### 13.2.4 クラスタ数の決定"
   ]
  },
  {
   "cell_type": "code",
   "execution_count": null,
   "metadata": {},
   "outputs": [],
   "source": [
    "import pandas as pd\n",
    "import statsmodels.api as sm\n",
    "from sklearn.cluster import KMeans\n",
    "\n",
    "iris = sm.datasets.get_rdataset('iris', 'datasets').data\n",
    "my_data = iris.iloc[:, 0:4]\n",
    "\n",
    "k = range(1, 11)\n",
    "my_df = pd.DataFrame({\n",
    "    'k': k,\n",
    "    'inertia': [KMeans(k).fit(my_data).inertia_ for k in range(1, 11)]})\n",
    "my_df.plot(x='k', style='o-', legend=False)"
   ]
  },
  {
   "cell_type": "markdown",
   "metadata": {},
   "source": [
    "### 13.2.5 主成分分析とクラスタ分析"
   ]
  },
  {
   "cell_type": "code",
   "execution_count": null,
   "metadata": {},
   "outputs": [],
   "source": [
    "import seaborn as sns\n",
    "import statsmodels.api as sm\n",
    "from pca import pca\n",
    "from scipy.cluster import hierarchy\n",
    "from scipy.stats import zscore\n",
    "from sklearn.cluster import KMeans\n",
    "\n",
    "iris = sm.datasets.get_rdataset('iris', 'datasets').data\n",
    "my_data = zscore(iris.iloc[:, 0:4])\n",
    "\n",
    "my_model = pca() # 主成分分析\n",
    "my_result = my_model.fit_transform(my_data)['PC']\n",
    "my_result['Species'] = list(iris.Species)\n",
    "\n",
    "# 非階層的クラスタ分析の場合\n",
    "my_result['cluster'] = KMeans(n_clusters=3).fit(my_data).labels_\n",
    "\n",
    "# 階層的クラスタ分析の場合\n",
    "#my_result['cluster'] = hierarchy.cut_tree(\n",
    "#    hierarchy.linkage(my_data, method='complete'), 3)[:,0]\n",
    "\n",
    "sns.scatterplot(x='PC1', y='PC2', data=my_result, legend=False,\n",
    "                hue='cluster',   # 色でクラスタを表現する．\n",
    "                style='Species', # 形で品種を表現する．\n",
    "                palette='bright')"
   ]
  }
 ],
 "nbformat": 4,
 "nbformat_minor": 5,
 "metadata": {
  "kernelspec": {
   "name": "python3",
   "display_name": "Python 3"
  }
 }
}
