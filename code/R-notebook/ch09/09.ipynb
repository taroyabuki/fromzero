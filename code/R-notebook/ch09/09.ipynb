{
 "cells": [
  {
   "cell_type": "markdown",
   "metadata": {},
   "source": [
    "# 09\n",
    "\n",
    "## 9.1 アヤメのデータ"
   ]
  },
  {
   "cell_type": "code",
   "execution_count": null,
   "metadata": {},
   "outputs": [],
   "source": [
    "my_data <- iris\n",
    "head(my_data)\n",
    "#>   Sepal.Length Sepal.Width Petal.Length Petal.Width Species\n",
    "#> 1          5.1         3.5          1.4         0.2  setosa\n",
    "#> 2          4.9         3.0          1.4         0.2  setosa\n",
    "#> 3          4.7         3.2          1.3         0.2  setosa\n",
    "#> 4          4.6         3.1          1.5         0.2  setosa\n",
    "#> 5          5.0         3.6          1.4         0.2  setosa\n",
    "#> 6          5.4         3.9          1.7         0.4  setosa"
   ]
  },
  {
   "cell_type": "code",
   "execution_count": null,
   "metadata": {},
   "outputs": [],
   "source": [
    "psych::describe(my_data)\n",
    "#>              vars   n mean   sd median trimmed  mad min max range ...\n",
    "#> Sepal.Length    1 150 5.84 0.83   5.80    5.81 1.04 4.3 7.9   3.6 ...\n",
    "#> Sepal.Width     2 150 3.06 0.44   3.00    3.04 0.44 2.0 4.4   2.4 ...\n",
    "#> Petal.Length    3 150 3.76 1.77   4.35    3.76 1.85 1.0 6.9   5.9 ...\n",
    "#> Petal.Width     4 150 1.20 0.76   1.30    1.18 1.04 0.1 2.5   2.4 ...\n",
    "#> Species*        5 150 2.00 0.82   2.00    2.00 1.48 1.0 3.0   2.0 ..."
   ]
  },
  {
   "cell_type": "markdown",
   "metadata": {},
   "source": [
    "## 9.2 木による分類\n",
    "\n",
    "### 9.2.1 分類木の作成と利用"
   ]
  },
  {
   "cell_type": "code",
   "execution_count": null,
   "metadata": {},
   "outputs": [],
   "source": [
    "library(caret)\n",
    "library(tidyverse)\n",
    "my_data <- iris\n",
    "my_model <- train(form = Species ~ ., data = my_data, method = \"rpart\")"
   ]
  },
  {
   "cell_type": "code",
   "execution_count": null,
   "metadata": {},
   "outputs": [],
   "source": [
    "rpart.plot::rpart.plot(my_model$finalModel, extra = 1)"
   ]
  },
  {
   "cell_type": "code",
   "execution_count": null,
   "metadata": {},
   "outputs": [],
   "source": [
    "my_test <- tribble(\n",
    "~Sepal.Length, ~Sepal.Width, ~Petal.Length, ~Petal.Width,\n",
    "          5.0,          3.5,           1.5,          0.5,\n",
    "          6.5,          3.0,           5.0,          2.0)\n",
    "\n",
    "my_model %>% predict(my_test)\n",
    "#> [1] setosa    virginica\n",
    "#> Levels: setosa versicolor virginica"
   ]
  },
  {
   "cell_type": "code",
   "execution_count": null,
   "metadata": {},
   "outputs": [],
   "source": [
    "my_model %>% predict(my_test,\n",
    "                     type = \"prob\")\n",
    "#>   setosa versicolor virginica\n",
    "#> 1      1 0.00000000 0.0000000\n",
    "#> 2      0 0.02173913 0.9782609"
   ]
  },
  {
   "cell_type": "markdown",
   "metadata": {},
   "source": [
    "## 9.3 正解率\n",
    "\n",
    "### 9.3.1 混同行列"
   ]
  },
  {
   "cell_type": "code",
   "execution_count": null,
   "metadata": {},
   "outputs": [],
   "source": [
    "library(caret)\n",
    "library(tidyverse)\n",
    "my_data <- iris\n",
    "my_model <- train(form = Species ~ ., data = my_data, method = \"rpart2\")\n",
    "\n",
    "y  <- my_data$Species\n",
    "y_ <- my_model %>% predict(my_data)\n",
    "confusionMatrix(data = y_, reference = y)\n",
    "#> Confusion Matrix and Statistics\n",
    "#>\n",
    "#>             Reference\n",
    "#> Prediction   setosa versicolor virginica\n",
    "#>   setosa         50          0         0\n",
    "#>   versicolor      0         49         1\n",
    "#>   virginica       0          5        45\n",
    "# 以下は割愛"
   ]
  },
  {
   "cell_type": "markdown",
   "metadata": {},
   "source": [
    "### 9.3.2 正解率（訓練）"
   ]
  },
  {
   "cell_type": "code",
   "execution_count": null,
   "metadata": {},
   "outputs": [],
   "source": [
    "y  <- my_data$Species\n",
    "y_ <- my_model %>% predict(my_data)\n",
    "mean(y_ == y)\n",
    "#> [1] 0.96"
   ]
  },
  {
   "cell_type": "markdown",
   "metadata": {},
   "source": [
    "### 9.3.3 正解率（検証）"
   ]
  },
  {
   "cell_type": "code",
   "execution_count": null,
   "metadata": {},
   "outputs": [],
   "source": [
    "my_model <- train(form = Species ~ ., data = my_data, method = \"rpart2\",\n",
    "                  trControl = trainControl(method = \"LOOCV\"))\n",
    "my_model$results\n",
    "#>   maxdepth  Accuracy Kappa\n",
    "#> 1        1 0.3333333  0.00\n",
    "#> 2        2 0.9533333  0.93"
   ]
  },
  {
   "cell_type": "markdown",
   "metadata": {},
   "source": [
    "### 9.3.4 パラメータチューニング"
   ]
  },
  {
   "cell_type": "code",
   "execution_count": null,
   "metadata": {},
   "outputs": [],
   "source": [
    "my_model <- train(form = Species ~ ., data = my_data, method = \"rpart2\",\n",
    "                  tuneGrid = data.frame(maxdepth = 1:10),\n",
    "                  trControl = trainControl(method = \"LOOCV\"))\n",
    "my_model$results %>% filter(Accuracy == max(Accuracy))\n",
    "#>   maxdepth  Accuracy Kappa\n",
    "#> 1        2 0.9533333  0.93"
   ]
  },
  {
   "cell_type": "markdown",
   "metadata": {},
   "source": [
    "### 9.3.5 補足：木の複雑さの制限"
   ]
  },
  {
   "cell_type": "code",
   "execution_count": null,
   "metadata": {},
   "outputs": [],
   "source": [
    "# パラメータを与えると正解率（LOOCV）を返す関数\n",
    "my_loocv <- function(maxdepth, minbucket, minsplit) {\n",
    "  my_model <- train(form = Species ~ ., data = my_data, method = \"rpart2\",\n",
    "                    trControl = trainControl(method = \"LOOCV\"),\n",
    "                    tuneGrid = data.frame(maxdepth = maxdepth),\n",
    "                    control = rpart::rpart.control(cp = 0.01,\n",
    "                                                   minbucket = minbucket,\n",
    "                                                   minsplit = minsplit))\n",
    "  list(maxdepth = maxdepth,\n",
    "       minbucket = minbucket,\n",
    "       minsplit = minsplit,\n",
    "       Accuracy = my_model$results$Accuracy)\n",
    "}"
   ]
  },
  {
   "cell_type": "code",
   "execution_count": null,
   "metadata": {},
   "outputs": [],
   "source": [
    "my_params <- expand.grid(\n",
    "  maxdepth = 2:5,\n",
    "  minbucket = 1:7,\n",
    "  minsplit = c(2, 20))\n",
    "\n",
    "library(furrr)\n",
    "plan(multisession) # 並列処理の準備\n",
    "my_results <- my_params %>% future_pmap_dfr(my_loocv, # 実行\n",
    "  .options = furrr_options(seed = TRUE))\n",
    "\n",
    "my_results %>% filter(Accuracy == max(Accuracy)) # 正解率（検証）の最大値\n",
    "#>   maxdepth minbucket minsplit Accuracy\n",
    "#>      <int>     <int>    <dbl>    <dbl>\n",
    "#> 1        3         5        2    0.973\n",
    "#> 2        4         5        2    0.973\n",
    "#> 3        5         5        2    0.973\n",
    "#> 4        3         5       20    0.973\n",
    "#> 5        4         5       20    0.973\n",
    "#> 6        5         5       20    0.973"
   ]
  },
  {
   "cell_type": "code",
   "execution_count": null,
   "metadata": {},
   "outputs": [],
   "source": [
    "my_model <- train(form = Species ~ ., data = my_data, method = \"rpart2\",\n",
    "                  trControl = trainControl(method = \"none\"),\n",
    "                  tuneGrid = data.frame(maxdepth = 3),\n",
    "                  control = rpart::rpart.control(cp = 0.01,\n",
    "                                                 minbucket = 5,\n",
    "                                                 minsplit = 2))"
   ]
  },
  {
   "cell_type": "code",
   "execution_count": null,
   "metadata": {},
   "outputs": [],
   "source": [
    "rpart.plot::rpart.plot(\n",
    "  my_model$finalModel, extra = 1)"
   ]
  },
  {
   "cell_type": "markdown",
   "metadata": {},
   "source": [
    "## 9.4 複数の木を使う方法\n",
    "\n",
    "### 9.4.1 ランダムフォレスト"
   ]
  },
  {
   "cell_type": "code",
   "execution_count": null,
   "metadata": {},
   "outputs": [],
   "source": [
    "library(caret)\n",
    "library(tidyverse)\n",
    "my_data <- iris\n",
    "\n",
    "my_model <- train(form = Species ~ ., data = my_data, method = \"rf\",\n",
    "                  tuneGrid = data.frame(mtry = 2:4), # 省略可\n",
    "                  trControl = trainControl(method = \"LOOCV\"))\n",
    "my_model$results\n",
    "#>   mtry Accuracy Kappa\n",
    "#> 1    2     0.96  0.94\n",
    "#> 2    3     0.96  0.94\n",
    "#> 3    4     0.96  0.94"
   ]
  },
  {
   "cell_type": "markdown",
   "metadata": {},
   "source": [
    "### 9.4.2 ブースティング"
   ]
  },
  {
   "cell_type": "code",
   "execution_count": null,
   "metadata": {},
   "outputs": [],
   "source": [
    "my_model <- train(\n",
    "  form = Species ~ ., data = my_data, method = \"xgbTree\",\n",
    "  tuneGrid = expand.grid(\n",
    "    nrounds          = c(50, 100, 150),\n",
    "    max_depth        = c(1, 2, 3),\n",
    "    eta              = c(0.3, 0.4),\n",
    "    gamma            = 0,\n",
    "    colsample_bytree = c(0.6, 0.8),\n",
    "    min_child_weight = 1,\n",
    "    subsample        = c(0.5, 0.75, 1)),\n",
    "  trControl = trainControl(method = \"cv\", number = 5)) # 5分割交差検証\n",
    "my_model$results %>% filter(Accuracy == max(Accuracy)) %>% head(5) %>% t\n",
    "#>                            1           2           3           4           5\n",
    "#> eta               0.30000000  0.30000000  0.30000000  0.40000000  0.30000000\n",
    "#> max_depth         1.00000000  1.00000000  1.00000000  1.00000000  3.00000000\n",
    "#> gamma             0.00000000  0.00000000  0.00000000  0.00000000  0.00000000\n",
    "#> colsample_bytree  0.60000000  0.60000000  0.80000000  0.60000000  0.80000000\n",
    "#> min_child_weight  1.00000000  1.00000000  1.00000000  1.00000000  1.00000000\n",
    "#> subsample         0.50000000  0.75000000  0.75000000  0.50000000  0.50000000\n",
    "#> nrounds          50.00000000 50.00000000 50.00000000 50.00000000 50.00000000\n",
    "#> Accuracy          0.96000000  0.96000000  0.96000000  0.96000000  0.96000000\n",
    "#> Kappa             0.94000000  0.94000000  0.94000000  0.94000000  0.94000000\n",
    "#> AccuracySD        0.02788867  0.02788867  0.02788867  0.01490712  0.01490712\n",
    "#> KappaSD           0.04183300  0.04183300  0.04183300  0.02236068  0.02236068"
   ]
  },
  {
   "cell_type": "markdown",
   "metadata": {},
   "source": [
    "### 9.4.3 入力変数の重要度"
   ]
  },
  {
   "cell_type": "code",
   "execution_count": null,
   "metadata": {},
   "outputs": [],
   "source": [
    "my_model <- train(form = Species ~ ., data = my_data, method = \"rf\")\n",
    "ggplot(varImp(my_model))"
   ]
  },
  {
   "cell_type": "markdown",
   "metadata": {},
   "source": [
    "## 9.5 欠損のあるデータでの学習\n",
    "\n",
    "### 9.5.1 欠損のあるデータの準備"
   ]
  },
  {
   "cell_type": "code",
   "execution_count": null,
   "metadata": {},
   "outputs": [],
   "source": [
    "library(caret)\n",
    "library(tidyverse)\n",
    "my_data <- iris\n",
    "\n",
    "n <- nrow(my_data)\n",
    "my_data$Petal.Length[0:(n - 1) %% 10 == 0] <- NA\n",
    "my_data$Petal.Width[ 0:(n - 1) %% 10 == 1] <- NA\n",
    "\n",
    "psych::describe(my_data) # nの値が135の変数に，150 - 135 = 15個の欠損がある．\n",
    "#>              vars   n mean   sd median trimmed  mad min max range ...\n",
    "#> Sepal.Length    1 150 5.84 0.83    5.8    5.81 1.04 4.3 7.9   3.6 ...\n",
    "#> Sepal.Width     2 150 3.06 0.44    3.0    3.04 0.44 2.0 4.4   2.4 ...\n",
    "#> Petal.Length    3 135 3.75 1.76    4.3    3.75 1.78 1.0 6.9   5.9 ...\n",
    "#> Petal.Width     4 135 1.20 0.77    1.3    1.18 1.04 0.1 2.5   2.4 ...\n",
    "#> Species*        5 150 2.00 0.82    2.0    2.00 1.48 1.0 3.0   2.0 ..."
   ]
  },
  {
   "cell_type": "markdown",
   "metadata": {},
   "source": [
    "### 9.5.2 方針1：欠損を埋めて学習する．"
   ]
  },
  {
   "cell_type": "code",
   "execution_count": null,
   "metadata": {},
   "outputs": [],
   "source": [
    "my_model <- train(\n",
    "  form = Species ~ ., data = my_data, method = \"rpart2\",\n",
    "  na.action = na.pass,         # 欠損があっても学習を止めない．\n",
    "  preProcess = \"medianImpute\", # 欠損を中央値で埋める．\n",
    "  trControl = trainControl(method = \"LOOCV\"),\n",
    "  tuneGrid = data.frame(maxdepth = 20),          # 木の高さの上限\n",
    "  control = rpart::rpart.control(minsplit = 2,   # 分岐の条件\n",
    "                                 minbucket = 1)) # 終端ノードの条件\n",
    "max(my_model$results$Accuracy)\n",
    "#> [1] 0.9266667"
   ]
  },
  {
   "cell_type": "markdown",
   "metadata": {},
   "source": [
    "### 9.5.3 方針2：欠損があっても使える手法で学習する．"
   ]
  },
  {
   "cell_type": "code",
   "execution_count": null,
   "metadata": {},
   "outputs": [],
   "source": [
    "my_model <- train(form = Species ~ ., data = my_data, method = \"xgbTree\",\n",
    "                  na.action = na.pass,\n",
    "                  trControl = trainControl(method = \"cv\", number = 5))\n",
    "max(my_model$results$Accuracy)\n",
    "#> [1] 0.966666666666667"
   ]
  },
  {
   "cell_type": "markdown",
   "metadata": {},
   "source": [
    "## 9.6 他の分類手法\n",
    "\n",
    "### 9.6.1 K最近傍法"
   ]
  },
  {
   "cell_type": "code",
   "execution_count": null,
   "metadata": {},
   "outputs": [],
   "source": [
    "library(caret)\n",
    "library(tidyverse)\n",
    "my_data <- iris\n",
    "\n",
    "my_model <- train(form = Species ~ ., data = my_data, method = \"knn\",\n",
    "                  trControl = trainControl(method = \"LOOCV\"))\n",
    "my_model$results %>% filter(Accuracy == max(Accuracy))\n",
    "#>   k  Accuracy Kappa\n",
    "#> 1 9 0.9733333  0.96"
   ]
  },
  {
   "cell_type": "markdown",
   "metadata": {},
   "source": [
    "### 9.6.2 ニューラルネットワーク"
   ]
  },
  {
   "cell_type": "code",
   "execution_count": null,
   "metadata": {},
   "outputs": [],
   "source": [
    "library(caret)\n",
    "library(tidyverse)\n",
    "my_data <- iris\n",
    "\n",
    "my_model <- train(form = Species ~ ., data = my_data, method = \"nnet\",\n",
    "                  preProcess = c(\"center\", \"scale\"), # 標準化\n",
    "                  trControl = trainControl(method = \"LOOCV\"),\n",
    "                  trace = FALSE) # 途中経過を表示しない\n",
    "my_model$results %>% filter(Accuracy == max(Accuracy))\n",
    "#>   size decay  Accuracy Kappa\n",
    "#> 1    3   0.1 0.9733333  0.96\n",
    "#> 2    5   0.1 0.9733333  0.96"
   ]
  }
 ],
 "nbformat": 4,
 "nbformat_minor": 5,
 "metadata": {
  "kernelspec": {
   "name": "ir",
   "display_name": "R"
  }
 }
}
