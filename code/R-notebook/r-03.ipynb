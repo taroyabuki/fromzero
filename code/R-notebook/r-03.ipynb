{
  "cells": [
    {
      "id": "88789ab5",
      "cell_type": "markdown",
      "source": "[\u8fbb\u771f\u543e\u30fb\u77e2\u5439\u592a\u6717\u300e\u30bc\u30ed\u304b\u3089\u306f\u3058\u3081\u308b\u30c7\u30fc\u30bf\u30b5\u30a4\u30a8\u30f3\u30b9\u5165\u9580\u300f\uff08\u8b1b\u8ac7\u793e,\u00a02021\uff09](https://github.com/taroyabuki/fromzero)",
      "metadata": {}
    },
    {
      "cell_type": "code",
      "execution_count": null,
      "metadata": {},
      "outputs": [],
      "source": [
        "# Google Colaboratory\u306e\u74b0\u5883\u8a2d\u5b9a\n",
        "if (Sys.getenv(\"COLAB_JUPYTER_IP\") != \"\") {\n",
        "  options(Ncpus = parallel::detectCores())\n",
        "  installed_packages <- rownames(installed.packages())\n",
        "  packages_to_install <- c(\"furrr\", \"keras3\", \"proxy\")\n",
        "  install.packages(setdiff(packages_to_install, installed_packages))\n",
        "  install.packages(c(\"ggplot2\"))\n",
        "}"
      ],
      "id": "a20e257a-711e-43a4-9382-93a60c301907"
    },
    {
      "id": "c664186a",
      "cell_type": "markdown",
      "source": "## 3.1 \u5165\u9580",
      "metadata": {}
    },
    {
      "cell_type": "code",
      "execution_count": null,
      "metadata": {},
      "outputs": [],
      "source": [
        "0x10"
      ],
      "id": "bfb6e4e8-25e8-41f1-8cff-1d1621c95888"
    },
    {
      "cell_type": "code",
      "execution_count": null,
      "metadata": {},
      "outputs": [],
      "source": [
        "1.23e5"
      ],
      "id": "27965cca-5951-4ed0-95a9-4da627d40ce4"
    },
    {
      "cell_type": "code",
      "execution_count": null,
      "metadata": {},
      "outputs": [],
      "source": [
        "2 * 3"
      ],
      "id": "2509cd01-b97c-4118-9291-7aea3a623adc"
    },
    {
      "cell_type": "code",
      "execution_count": null,
      "metadata": {},
      "outputs": [],
      "source": [
        "10 / 3"
      ],
      "id": "55c2c539-8c99-491c-85fb-d3f6115189ab"
    },
    {
      "cell_type": "code",
      "execution_count": null,
      "metadata": {},
      "outputs": [],
      "source": [
        "10 %/% 3 # \u5546\n",
        "\n",
        "10 %% 3  # \u4f59\u308a"
      ],
      "id": "b9cc45ff-b749-4ef9-8683-267122bc460c"
    },
    {
      "cell_type": "code",
      "execution_count": null,
      "metadata": {},
      "outputs": [],
      "source": [
        "x <- 2\n",
        "y <- 3\n",
        "x * y\n",
        "\n",
        "c(x, y) %<-% c(20, 30) # \u307e\u3068\u3081\u3066\u540d\u4ed8\u3051\n",
        "x * y"
      ],
      "id": "e9287256-28a7-42e1-97c5-8a9691490a05"
    },
    {
      "cell_type": "code",
      "execution_count": null,
      "metadata": {},
      "outputs": [],
      "source": [
        "x <- 1 + 1\n",
        "# \u3053\u306e\u6bb5\u968e\u3067\u306f\u7d50\u679c\u306f\u8868\u793a\u3055\u308c\u306a\u3044\n",
        "\n",
        "x # \u5909\u6570\u540d\u3092\u8a55\u4fa1\u3059\u308b\uff0e"
      ],
      "id": "26fcbda3-a03d-4615-9698-45d353d0cceb"
    },
    {
      "cell_type": "code",
      "execution_count": null,
      "metadata": {},
      "outputs": [],
      "source": [
        "my_s <- \"abcde\""
      ],
      "id": "accbb690-0713-4f21-b0a3-36921d798742"
    },
    {
      "cell_type": "code",
      "execution_count": null,
      "metadata": {},
      "outputs": [],
      "source": [
        "nchar(my_s)"
      ],
      "id": "b5a2a925-f260-4059-bc11-fd4a8108cbc3"
    },
    {
      "cell_type": "code",
      "execution_count": null,
      "metadata": {},
      "outputs": [],
      "source": [
        "library(tidyverse)\n",
        "str_c(\"This is \", \"a\", \" pen.\")"
      ],
      "id": "6647d566-7ed5-4653-b643-d95ea6c9dc12"
    },
    {
      "cell_type": "code",
      "execution_count": null,
      "metadata": {},
      "outputs": [],
      "source": [
        "substr(x = my_s, start = 2, stop = 4)"
      ],
      "id": "cbd95707-aa8b-4276-827c-57b5c2f3be97"
    },
    {
      "cell_type": "code",
      "execution_count": null,
      "metadata": {},
      "outputs": [],
      "source": [
        "tmp <- \"%s is %s.\"\n",
        "sprintf(tmp, \"This\", \"a pen\")"
      ],
      "id": "10e7b703-d2f8-4bb6-b5ab-f7f42c932a11"
    },
    {
      "cell_type": "code",
      "execution_count": null,
      "metadata": {},
      "outputs": [],
      "source": [
        "1 <= 2\n",
        "\n",
        "1 < 0"
      ],
      "id": "60f20a3c-77db-4491-982a-cd07391f31fd"
    },
    {
      "cell_type": "code",
      "execution_count": null,
      "metadata": {},
      "outputs": [],
      "source": [
        "0.1 + 0.1 + 0.1 == 0.3\n",
        "\n",
        "all.equal(0.1 + 0.1 + 0.1, 0.3)"
      ],
      "id": "32da97f2-9ace-42fe-9126-d31a97722a88"
    },
    {
      "cell_type": "code",
      "execution_count": null,
      "metadata": {},
      "outputs": [],
      "source": [
        "TRUE & FALSE # \u8ad6\u7406\u7a4d\uff08\u304b\u3064\uff09\n",
        "\n",
        "TRUE | FALSE # \u8ad6\u7406\u548c\uff08\u307e\u305f\u306f\uff09\n",
        "\n",
        "!TRUE        # \u5426\u5b9a\uff08\u3067\u306a\u3044\uff09"
      ],
      "id": "0032782b-43c7-45fc-8a58-71e14be50c0a"
    },
    {
      "cell_type": "code",
      "execution_count": null,
      "metadata": {},
      "outputs": [],
      "source": [
        "ifelse(3 < 5, 0, 10)"
      ],
      "id": "1411fc30-25be-4520-b390-19a6385f4cdc"
    },
    {
      "cell_type": "code",
      "execution_count": null,
      "metadata": {},
      "outputs": [],
      "source": [
        "getwd()"
      ],
      "id": "bffcfeb6-9137-4891-a838-ac050c3db81a"
    },
    {
      "cell_type": "code",
      "execution_count": null,
      "metadata": {},
      "outputs": [],
      "source": [
        "setwd(\"..\")\n",
        "getwd()"
      ],
      "id": "cc3581b3-a03f-476a-a6da-fe2eb8036f87"
    },
    {
      "id": "ad85d209",
      "cell_type": "markdown",
      "source": "## 3.2 \u95a2\u6570",
      "metadata": {}
    },
    {
      "cell_type": "code",
      "execution_count": null,
      "metadata": {},
      "outputs": [],
      "source": [
        "sqrt(4)"
      ],
      "id": "0e4b1a47-c435-4ae6-9457-0afb3972f11b"
    },
    {
      "cell_type": "code",
      "execution_count": null,
      "metadata": {},
      "outputs": [],
      "source": [
        "log(100, 10)"
      ],
      "id": "f7bccb96-9c90-4499-9cca-a928b754d749"
    },
    {
      "cell_type": "code",
      "execution_count": null,
      "metadata": {},
      "outputs": [],
      "source": [
        "log(100)         # \u81ea\u7136\u5bfe\u6570\n",
        "# \u3042\u308b\u3044\u306f\n",
        "log(100, exp(1)) # \u7701\u7565\u3057\u306a\u3044\u5834\u5408\n"
      ],
      "id": "027e1886-ebfc-42be-b59a-3c3fd0ee8407"
    },
    {
      "cell_type": "code",
      "execution_count": null,
      "metadata": {},
      "outputs": [],
      "source": [
        "log10(100) # \u5e38\u7528\u5bfe\u6570\n",
        "\n",
        "log2(1024) # \u5e95\u304c2\u306e\u5bfe\u6570"
      ],
      "id": "fc5cbe49-94a9-4e72-830d-31c3236af874"
    },
    {
      "cell_type": "code",
      "execution_count": null,
      "metadata": {},
      "outputs": [],
      "source": [
        "library(tidyverse)\n",
        "4 %>% sqrt"
      ],
      "id": "8811bd34-aeb9-430d-a974-f762f18f0483"
    },
    {
      "cell_type": "code",
      "execution_count": null,
      "metadata": {},
      "outputs": [],
      "source": [
        "exp(log(5))       # \u901a\u5e38\u306e\u66f8\u304d\u65b9\n",
        "# \u3042\u308b\u3044\u306f\n",
        "5 %>% log %>% exp # \u30d1\u30a4\u30d7\u3092\u4f7f\u3046\u66f8\u304d\u65b9\n"
      ],
      "id": "ab0562b8-728e-4db8-81ba-3656df4145b8"
    },
    {
      "cell_type": "code",
      "execution_count": null,
      "metadata": {},
      "outputs": [],
      "source": [
        "f <- function(a, b) {\n",
        "  a - b\n",
        "}"
      ],
      "id": "ca8c8eae-5cfd-4404-8eca-1af1caff19eb"
    },
    {
      "cell_type": "code",
      "execution_count": null,
      "metadata": {},
      "outputs": [],
      "source": [
        "f(3, 5)"
      ],
      "id": "25353aeb-c241-46ca-8beb-f315d662a536"
    },
    {
      "cell_type": "code",
      "execution_count": null,
      "metadata": {},
      "outputs": [],
      "source": [
        "f <- function(a, b = 5) {\n",
        "  a - b\n",
        "}\n",
        "\n",
        "f(3) # f(3, 5)\u3068\u540c\u3058\u3053\u3068"
      ],
      "id": "f772f87e-a118-4d68-843b-f3e5cf597b6a"
    },
    {
      "cell_type": "code",
      "execution_count": null,
      "metadata": {},
      "outputs": [],
      "source": [
        "(function(a, b) { a - b })(3, 5)"
      ],
      "id": "a2bacbb4-7696-45cf-a5d4-43298a6adefc"
    },
    {
      "id": "77dc6284",
      "cell_type": "markdown",
      "source": "## 3.3 \u30b3\u30ec\u30af\u30b7\u30e7\u30f3",
      "metadata": {}
    },
    {
      "cell_type": "code",
      "execution_count": null,
      "metadata": {},
      "outputs": [],
      "source": [
        "x <- c(\"foo\", \"bar\", \"baz\")"
      ],
      "id": "c05fd803-07d8-4fe2-bd6c-582f6fa5142e"
    },
    {
      "cell_type": "code",
      "execution_count": null,
      "metadata": {},
      "outputs": [],
      "source": [
        "length(x)"
      ],
      "id": "ddf228f7-87f5-41ca-8e35-ea806e7a6005"
    },
    {
      "cell_type": "code",
      "execution_count": null,
      "metadata": {},
      "outputs": [],
      "source": [
        "x[2]"
      ],
      "id": "7c2ad6dc-367e-441f-8d6d-9300f3789e0e"
    },
    {
      "cell_type": "code",
      "execution_count": null,
      "metadata": {},
      "outputs": [],
      "source": [
        "x[2] <- \"BAR\"\n",
        "x # \u7d50\u679c\u306e\u78ba\u8a8d\n",
        "\n",
        "x[2] <- \"bar\" # \u5143\u306b\u623b\u3059\uff0e"
      ],
      "id": "d1c81a87-b306-42d8-8ee0-c2fb97d9c5fc"
    },
    {
      "cell_type": "code",
      "execution_count": null,
      "metadata": {},
      "outputs": [],
      "source": [
        "x[-2]"
      ],
      "id": "eb4c56d2-000d-4fd7-a71d-a013bd8d42d3"
    },
    {
      "cell_type": "code",
      "execution_count": null,
      "metadata": {},
      "outputs": [],
      "source": [
        "c(x, \"qux\")"
      ],
      "id": "88f6edc1-0b32-4e92-af7f-5f6a09cc85f0"
    },
    {
      "cell_type": "code",
      "execution_count": null,
      "metadata": {},
      "outputs": [],
      "source": [
        "x <- c(x, \"qux\")\n",
        "x # \u7d50\u679c\u306e\u78ba\u8a8d"
      ],
      "id": "b9b0582a-6633-4522-95ee-5f0203f67ef5"
    },
    {
      "cell_type": "code",
      "execution_count": null,
      "metadata": {},
      "outputs": [],
      "source": [
        "1:5"
      ],
      "id": "8289be04-930a-4247-ab5e-1e6e66a6317c"
    },
    {
      "cell_type": "code",
      "execution_count": null,
      "metadata": {},
      "outputs": [],
      "source": [
        "seq(from = 0, to = 10, by = 2)"
      ],
      "id": "6fac9e47-cec6-4703-a907-c2de1848255d"
    },
    {
      "cell_type": "code",
      "execution_count": null,
      "metadata": {},
      "outputs": [],
      "source": [
        "seq(from = 0, to = 1, by = 0.5)"
      ],
      "id": "125991ea-aa10-4d11-b730-c1dff67e0d2c"
    },
    {
      "cell_type": "code",
      "execution_count": null,
      "metadata": {},
      "outputs": [],
      "source": [
        "seq(from = 0, to = 100, length.out = 5)"
      ],
      "id": "ceda3b66-e476-4c47-bd99-f22aec88e740"
    },
    {
      "cell_type": "code",
      "execution_count": null,
      "metadata": {},
      "outputs": [],
      "source": [
        "rep(x = 10, times = 5)"
      ],
      "id": "6920dfb8-f4fa-47f3-a74d-202374fd76a0"
    },
    {
      "cell_type": "code",
      "execution_count": null,
      "metadata": {},
      "outputs": [],
      "source": [
        "tmp <- c(\"\u30b0\u30fc\", \"\u30d1\u30fc\", \"\u30b0\u30fc\", \"\u30d1\u30fc\")\n",
        "x <- factor(tmp, levels = c(\"\u30b0\u30fc\", \"\u30c1\u30e7\u30ad\", \"\u30d1\u30fc\"))\n",
        "x"
      ],
      "id": "7efacf48-8fa3-4744-94fd-952b333d2b1a"
    },
    {
      "cell_type": "code",
      "execution_count": null,
      "metadata": {},
      "outputs": [],
      "source": [
        "x <- c(2, 3, 5, 7)\n",
        "\n",
        "x + 10 # \u52a0\u7b97\n",
        "\n",
        "x * 10 # \u4e57\u7b97"
      ],
      "id": "a9f4e10b-6394-4bb4-9661-054ee41b8eed"
    },
    {
      "cell_type": "code",
      "execution_count": null,
      "metadata": {},
      "outputs": [],
      "source": [
        "x <- c(2, 3)\n",
        "sin(x)"
      ],
      "id": "34dec7a6-6aee-4fe7-9bec-d9d2408d8c6b"
    },
    {
      "cell_type": "code",
      "execution_count": null,
      "metadata": {},
      "outputs": [],
      "source": [
        "x <- c(2,  3,   5,    7)\n",
        "y <- c(1, 10, 100, 1000)\n",
        "x + y\n",
        "\n",
        "x * y"
      ],
      "id": "f2cc536c-da67-4abf-9c35-3a880ba55c49"
    },
    {
      "cell_type": "code",
      "execution_count": null,
      "metadata": {},
      "outputs": [],
      "source": [
        "sum(x * y)"
      ],
      "id": "eb40d868-6a96-4e54-b5d1-2667dfa7345e"
    },
    {
      "cell_type": "code",
      "execution_count": null,
      "metadata": {},
      "outputs": [],
      "source": [
        "x <- c(TRUE, FALSE)\n",
        "y <- c(TRUE, TRUE)\n",
        "x & y"
      ],
      "id": "e964379d-36bb-449c-9c0d-f62671e862c9"
    },
    {
      "cell_type": "code",
      "execution_count": null,
      "metadata": {},
      "outputs": [],
      "source": [
        "u <- c(1, 2, 3)\n",
        "v <- c(1, 2, 3)\n",
        "w <- c(1, 2, 4)\n",
        "\n",
        "identical(u, v) # \u5168\u4f53\u306e\u6bd4\u8f03\n",
        "\n",
        "identical(u, w) # \u5168\u4f53\u306e\u6bd4\u8f03\n",
        "\n",
        "u == v          # \u8981\u7d20\u3054\u3068\u306e\u6bd4\u8f03\n",
        "\n",
        "u == w          # \u8981\u7d20\u3054\u3068\u306e\u6bd4\u8f03"
      ],
      "id": "14c44149-9bbf-41c6-964d-06b0b892aff6"
    },
    {
      "cell_type": "code",
      "execution_count": null,
      "metadata": {},
      "outputs": [],
      "source": [
        "sum(u == w)  # \u540c\u3058\u8981\u7d20\u306e\u6570\n",
        "\n",
        "mean(u == w) # \u540c\u3058\u8981\u7d20\u306e\u5272\u5408"
      ],
      "id": "3185a6be-cb23-4be6-9c95-3014e09b2261"
    },
    {
      "cell_type": "code",
      "execution_count": null,
      "metadata": {},
      "outputs": [],
      "source": [
        "x <- list(1, \"two\")"
      ],
      "id": "022452d0-9c3c-4a48-8075-3a9177fe036e"
    },
    {
      "cell_type": "code",
      "execution_count": null,
      "metadata": {},
      "outputs": [],
      "source": [
        "x[[2]]"
      ],
      "id": "c9541d75-9387-42d8-9eac-a20bfc1819bc"
    },
    {
      "cell_type": "code",
      "execution_count": null,
      "metadata": {},
      "outputs": [],
      "source": [
        "x <- list(\"apple\"  = \"\u308a\u3093\u3054\",\n",
        "          \"orange\" = \"\u307f\u304b\u3093\")"
      ],
      "id": "d354efd6-b710-458d-a012-48c8dbc2c537"
    },
    {
      "cell_type": "code",
      "execution_count": null,
      "metadata": {},
      "outputs": [],
      "source": [
        "x[[\"grape\"]] <- \"\u3076\u3069\u3046\""
      ],
      "id": "76ec4a91-2f27-4a7b-ba23-a2d6b5b63b80"
    },
    {
      "cell_type": "code",
      "execution_count": null,
      "metadata": {},
      "outputs": [],
      "source": [
        "x$apple\n",
        "# \u3042\u308b\u3044\u306f\n",
        "x$\"apple\"\n",
        "# \u3042\u308b\u3044\u306f\n",
        "x[[\"apple\"]]\n",
        "# \u3042\u308b\u3044\u306f\n",
        "tmp <- \"apple\"\n",
        "x[[tmp]]\n"
      ],
      "id": "33d6417a-d422-4d50-97ac-203c7f4fb5b2"
    },
    {
      "cell_type": "code",
      "execution_count": null,
      "metadata": {},
      "outputs": [],
      "source": [
        "x <- c(\"foo\", \"bar\", \"baz\")\n",
        "y <- x\n",
        "y[2] <- \"BAR\" # y\u3092\u66f4\u65b0\u3059\u308b\uff0e\n",
        "y\n",
        "\n",
        "x             # x\u306f\u5909\u308f\u3089\u306a\u3044\uff0e"
      ],
      "id": "deb3145d-d335-46cc-9f20-db05ac73a66d"
    },
    {
      "id": "aa666167",
      "cell_type": "markdown",
      "source": "## 3.4 \u30c7\u30fc\u30bf\u30d5\u30ec\u30fc\u30e0",
      "metadata": {}
    },
    {
      "cell_type": "code",
      "execution_count": null,
      "metadata": {},
      "outputs": [],
      "source": [
        "library(tidyverse)"
      ],
      "id": "67a32f0f-a861-457d-818e-ae685a5bfee1"
    },
    {
      "cell_type": "code",
      "execution_count": null,
      "metadata": {},
      "outputs": [],
      "source": [
        "my_df <- data.frame(\n",
        "  name    = c(\"A\", \"B\", \"C\", \"D\"),\n",
        "  english = c( 60,  90,  70,  90),\n",
        "  math    = c( 70,  80,  90, 100),\n",
        "  gender  = c(\"f\", \"m\", \"m\", \"f\"))"
      ],
      "id": "bb4cd0f7-8dbe-4f7c-9a53-75e7235927aa"
    },
    {
      "cell_type": "code",
      "execution_count": null,
      "metadata": {},
      "outputs": [],
      "source": [
        "my_df <- tribble(\n",
        "  ~name, ~english, ~math, ~gender,\n",
        "  \"A\",         60,    70,     \"f\",\n",
        "  \"B\",         90,    80,     \"m\",\n",
        "  \"C\",         70,    90,     \"m\",\n",
        "  \"D\",         90,   100,     \"f\")"
      ],
      "id": "9e4c68a8-2ae6-4193-b47e-9a54ce447813"
    },
    {
      "cell_type": "code",
      "execution_count": null,
      "metadata": {},
      "outputs": [],
      "source": [
        "head(my_df)\n",
        "# \u7d50\u679c\u306f\u5272\u611b"
      ],
      "id": "5cef0433-4adc-4ce3-b438-fa398b9b318c"
    },
    {
      "cell_type": "code",
      "execution_count": null,
      "metadata": {},
      "outputs": [],
      "source": [
        "dim(my_df)  # \u884c\u6570\u3068\u5217\u6570\n",
        "\n",
        "nrow(my_df) # \u884c\u6570\n",
        "\n",
        "ncol(my_df) # \u5217\u6570"
      ],
      "id": "254265a8-30dd-4f86-a796-344d79e6ce0a"
    },
    {
      "cell_type": "code",
      "execution_count": null,
      "metadata": {},
      "outputs": [],
      "source": [
        "my_df2 <- expand.grid(\n",
        "  X = c(1, 2, 3),\n",
        "  Y = c(10, 100))\n",
        "my_df2"
      ],
      "id": "f84f08d8-59a8-4348-b477-e07c0ff28851"
    },
    {
      "cell_type": "code",
      "execution_count": null,
      "metadata": {},
      "outputs": [],
      "source": [
        "colnames(my_df2)"
      ],
      "id": "f55791e7-37bd-479d-a66d-de0a0181f4cb"
    },
    {
      "cell_type": "code",
      "execution_count": null,
      "metadata": {},
      "outputs": [],
      "source": [
        "colnames(my_df2) <- c(\"P\", \"Q\")\n",
        "my_df2\n",
        "# \u4ee5\u4e0b\u7701\u7565"
      ],
      "id": "5603c39a-0c90-425d-8d3c-4e44849b0cc5"
    },
    {
      "cell_type": "code",
      "execution_count": null,
      "metadata": {},
      "outputs": [],
      "source": [
        "row.names(my_df)"
      ],
      "id": "f9e6218a-4ab3-4015-a123-b143c594b320"
    },
    {
      "cell_type": "code",
      "execution_count": null,
      "metadata": {},
      "outputs": [],
      "source": [
        "row.names(my_df2) <-\n",
        "  c(\"a\", \"b\", \"c\", \"d\", \"e\", \"f\")\n",
        "my_df2\n",
        "# \u4ee5\u4e0b\u7701\u7565"
      ],
      "id": "020f4c0d-bcfb-4d32-ad48-055997f9e3bd"
    },
    {
      "cell_type": "code",
      "execution_count": null,
      "metadata": {},
      "outputs": [],
      "source": [
        "my_df3 <- data.frame(\n",
        "  english =   c( 60,  90,  70,  90),\n",
        "  math    =   c( 70,  80,  90, 100),\n",
        "  gender  =   c(\"f\", \"m\", \"m\", \"f\"),\n",
        "  row.names = c(\"A\", \"B\", \"C\", \"D\"))\n",
        "my_df3"
      ],
      "id": "74f5adf7-0705-46a6-9bc3-d6d0240828b4"
    },
    {
      "cell_type": "code",
      "execution_count": null,
      "metadata": {},
      "outputs": [],
      "source": [
        "tmp <- data.frame(\n",
        "  name    = \"E\",\n",
        "  english =  80,\n",
        "  math    =  80,\n",
        "  gender  = \"m\")\n",
        "my_df2 <- rbind(my_df, tmp)"
      ],
      "id": "e3a75f75-499e-4bed-be71-2ace14a59714"
    },
    {
      "cell_type": "code",
      "execution_count": null,
      "metadata": {},
      "outputs": [],
      "source": [
        "my_df2 <- my_df %>%\n",
        "  mutate(id = c(1, 2, 3, 4))"
      ],
      "id": "7a1ef81d-4745-4e80-808c-099656946625"
    },
    {
      "cell_type": "code",
      "execution_count": null,
      "metadata": {},
      "outputs": [],
      "source": [
        "my_df3 <- my_df               # \u30b3\u30d4\u30fc\n",
        "my_df3[\"id\"] <- c(1, 2, 3, 4) # \u66f4\u65b0\n",
        "my_df3 # \u7d50\u679c\u306e\u78ba\u8a8d\uff08\u5272\u611b\uff09"
      ],
      "id": "25510f73-6cfe-4847-a43a-f0e2309248c0"
    },
    {
      "cell_type": "code",
      "execution_count": null,
      "metadata": {},
      "outputs": [],
      "source": [
        "my_df[1, 2]"
      ],
      "id": "f7c7a50b-734a-4288-ac2b-8db82082ae2b"
    },
    {
      "cell_type": "code",
      "execution_count": null,
      "metadata": {},
      "outputs": [],
      "source": [
        "x <- my_df[, 2]\n",
        "# \u3042\u308b\u3044\u306f\n",
        "x <- my_df$english\n",
        "# \u3042\u308b\u3044\u306f\n",
        "x <- my_df$\"english\"\n",
        "# \u3042\u308b\u3044\u306f\n",
        "x <- my_df[[\"english\"]]\n",
        "# \u3042\u308b\u3044\u306f\n",
        "tmp <- \"english\"\n",
        "x <- my_df[[tmp]]\n",
        "\n",
        "x # \u7d50\u679c\u306e\u78ba\u8a8d\uff08\u5272\u611b\uff09"
      ],
      "id": "3d4bb7e2-7aee-4a95-a6c6-d71b8737e376"
    },
    {
      "cell_type": "code",
      "execution_count": null,
      "metadata": {},
      "outputs": [],
      "source": [
        "x <- my_df %>% select(name, math)"
      ],
      "id": "04638f3b-b753-4838-bfb9-c6f5b67c7e2f"
    },
    {
      "cell_type": "code",
      "execution_count": null,
      "metadata": {},
      "outputs": [],
      "source": [
        "x <- my_df[, c(1, 3)]"
      ],
      "id": "49f2b951-e262-4766-9c5f-3b988036b9e7"
    },
    {
      "cell_type": "code",
      "execution_count": null,
      "metadata": {},
      "outputs": [],
      "source": [
        "x <- my_df %>%\n",
        "  select(-c(english, gender))\n",
        "# \u3042\u308b\u3044\u306f\n",
        "x <- my_df[, -c(2, 4)]"
      ],
      "id": "a6cce0ae-453e-468c-abae-483bede0de25"
    },
    {
      "cell_type": "code",
      "execution_count": null,
      "metadata": {},
      "outputs": [],
      "source": [
        "x <- my_df[c(1, 3), ]"
      ],
      "id": "a0208bb2-7b17-481f-bf04-92937b675fb8"
    },
    {
      "cell_type": "code",
      "execution_count": null,
      "metadata": {},
      "outputs": [],
      "source": [
        "x <- my_df[-c(2, 4), ]"
      ],
      "id": "8e072324-99a2-4d6f-b9cd-db7b58fd2b6c"
    },
    {
      "cell_type": "code",
      "execution_count": null,
      "metadata": {},
      "outputs": [],
      "source": [
        "x <- my_df[my_df$gender == \"m\", ]\n",
        "# \u3042\u308b\u3044\u306f\n",
        "x <- my_df %>% filter(gender == \"m\")"
      ],
      "id": "672272e4-8c53-46b5-9b43-d5d3ebcdf01f"
    },
    {
      "cell_type": "code",
      "execution_count": null,
      "metadata": {},
      "outputs": [],
      "source": [
        "x <- my_df[my_df$english > 80 & my_df$gender == \"m\", ]\n",
        "# \u3042\u308b\u3044\u306f\n",
        "x <- my_df %>% filter(english > 80 & gender == \"m\")"
      ],
      "id": "5116abfd-8aad-4fc6-a5de-ae422cd20259"
    },
    {
      "cell_type": "code",
      "execution_count": null,
      "metadata": {},
      "outputs": [],
      "source": [
        "x <- my_df[my_df$english == max(my_df$english), ]\n",
        "# \u3042\u308b\u3044\u306f\n",
        "x <- my_df %>% filter(english == max(my_df$english))"
      ],
      "id": "47c1d5e3-f723-40b2-b617-cec90c8fbe54"
    },
    {
      "cell_type": "code",
      "execution_count": null,
      "metadata": {},
      "outputs": [],
      "source": [
        "my_df2 <- my_df # \u30b3\u30d4\u30fc\n",
        "my_df2[my_df$gender == \"m\", ]$gender <- \"M\""
      ],
      "id": "1237566b-cee1-42ab-9bcd-7aaa72557b11"
    },
    {
      "cell_type": "code",
      "execution_count": null,
      "metadata": {},
      "outputs": [],
      "source": [
        "my_df2"
      ],
      "id": "a528c0a8-3176-4534-81e0-a983a1fe6ddd"
    },
    {
      "cell_type": "code",
      "execution_count": null,
      "metadata": {},
      "outputs": [],
      "source": [
        "x <- my_df %>% arrange(english)"
      ],
      "id": "bd81254f-314e-4040-9816-3f8787a2d5f9"
    },
    {
      "cell_type": "code",
      "execution_count": null,
      "metadata": {},
      "outputs": [],
      "source": [
        "x <- my_df %>% arrange(-english)"
      ],
      "id": "01c6ca8f-78f2-4273-ace2-aa135f62de77"
    },
    {
      "cell_type": "code",
      "execution_count": null,
      "metadata": {},
      "outputs": [],
      "source": [
        "x <- c(2, 3, 5, 7, 11, 13, 17, 19, 23,\n",
        "       29, 31, 37)\n",
        "A <- matrix(\n",
        "  data = x,     # 1\u6b21\u5143\u30c7\u30fc\u30bf\n",
        "  nrow = 3,     # \u884c\u6570\n",
        "  byrow = TRUE) # \u884c\u3054\u3068\u306e\u751f\u6210\n",
        "A"
      ],
      "id": "65296c53-ce1a-40f7-8f80-2cb50d2b7844"
    },
    {
      "cell_type": "code",
      "execution_count": null,
      "metadata": {},
      "outputs": [],
      "source": [
        "A <- my_df[, c(2, 3)] %>% as.matrix\n",
        "A"
      ],
      "id": "0c080988-9773-4fa6-a5fb-ee9f27385535"
    },
    {
      "cell_type": "code",
      "execution_count": null,
      "metadata": {},
      "outputs": [],
      "source": [
        "as.data.frame(A)"
      ],
      "id": "c238ecc2-2b87-482b-87a7-b981845522ec"
    },
    {
      "cell_type": "code",
      "execution_count": null,
      "metadata": {},
      "outputs": [],
      "source": [
        "t(A)"
      ],
      "id": "a01ec8a3-cb0a-48e0-b93f-8b260ac20849"
    },
    {
      "cell_type": "code",
      "execution_count": null,
      "metadata": {},
      "outputs": [],
      "source": [
        "t(A) %*% A"
      ],
      "id": "5f767005-f9dc-4ff4-8511-96c7905e65c2"
    },
    {
      "cell_type": "code",
      "execution_count": null,
      "metadata": {},
      "outputs": [],
      "source": [
        "my_wider <- data.frame(\n",
        "  day = c(25, 26, 27),\n",
        "  min = c(20, 21, 15),\n",
        "  max = c(24, 27, 21))"
      ],
      "id": "fa35c408-9239-4acb-95b3-15e973699f60"
    },
    {
      "cell_type": "code",
      "execution_count": null,
      "metadata": {},
      "outputs": [],
      "source": [
        "my_longer <- my_wider %>%\n",
        "  pivot_longer(-day)\n",
        "my_longer"
      ],
      "id": "0f1ff3a1-bc6a-4d17-817e-7fd33dc3a8af"
    },
    {
      "cell_type": "code",
      "execution_count": null,
      "metadata": {},
      "outputs": [],
      "source": [
        "my_longer %>% pivot_wider()"
      ],
      "id": "78aaad92-00a5-4488-b605-7d62b3e1f2d5"
    },
    {
      "cell_type": "code",
      "execution_count": null,
      "metadata": {},
      "outputs": [],
      "source": [
        "my_longer %>%\n",
        "  ggplot(aes(x = day, y = value,\n",
        "             color = name)) +\n",
        "  geom_point() +\n",
        "  geom_line() +\n",
        "  ylab(\"temperature\") + # y\u8ef8\u30e9\u30d9\u30eb\n",
        "  scale_x_continuous(\n",
        "    breaks = my_longer$day) # x\u8ef8\u76ee\u76db\u308a"
      ],
      "id": "45e3d1d6-4bb4-4aed-b8a4-85658d2ba11b"
    },
    {
      "id": "361c1216",
      "cell_type": "markdown",
      "source": "## 3.5 1\u6b21\u5143\u30c7\u30fc\u30bf\u306e\uff08\u975e\uff09\u985e\u4f3c\u5ea6",
      "metadata": {}
    },
    {
      "cell_type": "code",
      "execution_count": null,
      "metadata": {},
      "outputs": [],
      "source": [
        "A <- c(3,   4,  5)\n",
        "B <- c(3,   4, 29)\n",
        "C <- c(9, -18,  8)\n",
        "AB <- B - A\n",
        "AC <- C - A\n",
        "\n",
        "sum(AB^2)^0.5\n",
        "\n",
        "sum(AC^2)^0.5"
      ],
      "id": "9933137a-f01c-420b-a3ba-178b04ac7810"
    },
    {
      "cell_type": "code",
      "execution_count": null,
      "metadata": {},
      "outputs": [],
      "source": [
        "sum(abs(AB))\n",
        "\n",
        "sum(abs(AC))"
      ],
      "id": "6f1e6ddf-9d45-4afa-937e-5e31934c42c7"
    },
    {
      "cell_type": "code",
      "execution_count": null,
      "metadata": {},
      "outputs": [],
      "source": [
        "sum(A * B) /\n",
        "  sum(A * A)^0.5 / sum(B * B)^0.5\n",
        "\n",
        "sum(A * C) /\n",
        "  sum(A * A)^0.5 / sum(C * C)^0.5"
      ],
      "id": "e5bb521c-4ead-4428-b8a9-2b5fc804fd42"
    },
    {
      "cell_type": "code",
      "execution_count": null,
      "metadata": {},
      "outputs": [],
      "source": [
        "cor(A, B)\n",
        "\n",
        "cor(A, C)"
      ],
      "id": "bc63939c-48d5-4057-acbc-f877f6d31631"
    },
    {
      "cell_type": "code",
      "execution_count": null,
      "metadata": {},
      "outputs": [],
      "source": [
        "library(tidyverse)\n",
        "\n",
        "\n",
        "\n",
        "my_df <- data.frame(\n",
        "  x = c(3,  3,   9),\n",
        "  y = c(4,  4, -18),\n",
        "  z = c(5, 29,   8),\n",
        "  row.names = c(\"A\", \"B\", \"C\"))\n",
        "\n",
        "# \u30e6\u30fc\u30af\u30ea\u30c3\u30c9\u8ddd\u96e2\n",
        "my_df %>% proxy::dist(\"Euclidean\")\n",
        "\n",
        "\n",
        "# \u30de\u30f3\u30cf\u30c3\u30bf\u30f3\u8ddd\u96e2\n",
        "my_df %>% proxy::dist(\"Manhattan\")\n",
        "\n",
        "\n",
        "# \u30b3\u30b5\u30a4\u30f3\u985e\u4f3c\u5ea6\n",
        "my_df %>% proxy::simil(\"cosine\")\n",
        "\n",
        "\n",
        "# \u76f8\u95a2\u4fc2\u6570\n",
        "my_df %>% proxy::simil(\"correlation\")"
      ],
      "id": "01ba4850-11c4-4d0e-8d09-338c06fd3e57"
    },
    {
      "id": "dbba5149",
      "cell_type": "markdown",
      "source": "## 3.6 R\u306e\u30d1\u30c3\u30b1\u30fc\u30b8\uff0cPython\u306e\u30e2\u30b8\u30e5\u30fc\u30eb",
      "metadata": {}
    },
    {
      "cell_type": "code",
      "execution_count": null,
      "metadata": {},
      "outputs": [],
      "source": [
        "library(tidyverse)"
      ],
      "id": "683bd1ae-e533-4374-b9b7-2ba591bb5370"
    },
    {
      "id": "c3c73d2b",
      "cell_type": "markdown",
      "source": "## 3.7 \u53cd\u5fa9\u51e6\u7406",
      "metadata": {}
    },
    {
      "cell_type": "code",
      "execution_count": null,
      "metadata": {},
      "outputs": [],
      "source": [
        "library(tidyverse)"
      ],
      "id": "f32e58f9-35ce-4b93-9aab-5a92deae61bc"
    },
    {
      "cell_type": "code",
      "execution_count": null,
      "metadata": {},
      "outputs": [],
      "source": [
        "f1 <- function(x) {\n",
        "  tmp <- runif(x)\n",
        "  mean(tmp)\n",
        "}\n",
        "\n",
        "f1(10)           # \u52d5\u4f5c\u78ba\u8a8d"
      ],
      "id": "e3cf1f12-9287-406a-9cc8-023adf53dd9e"
    },
    {
      "cell_type": "code",
      "execution_count": null,
      "metadata": {},
      "outputs": [],
      "source": [
        "replicate(n = 3, expr = f1(10))"
      ],
      "id": "7b7c5c20-ef76-4a2c-8bdf-c429074896fe"
    },
    {
      "cell_type": "code",
      "execution_count": null,
      "metadata": {},
      "outputs": [],
      "source": [
        "rep(x = f1(10), times = 3)"
      ],
      "id": "a75dcad0-8897-4646-baaf-26d350642617"
    },
    {
      "cell_type": "code",
      "execution_count": null,
      "metadata": {},
      "outputs": [],
      "source": [
        "v <- c(5, 10, 100)\n",
        "v %>% map_dbl(f1)"
      ],
      "id": "44e0318b-3cd5-4c63-b6eb-bd0d5bf5ffee"
    },
    {
      "cell_type": "code",
      "execution_count": null,
      "metadata": {},
      "outputs": [],
      "source": [
        "rep(x = 10, times = 3) %>% map_dbl(f1)\n",
        "# \u7d50\u679c\u306f\u5272\u611b"
      ],
      "id": "98166020-df14-4f09-9373-6396fc383f4d"
    },
    {
      "cell_type": "code",
      "execution_count": null,
      "metadata": {},
      "outputs": [],
      "source": [
        "f2 <- function(n) {\n",
        "  tmp <- runif(n)\n",
        "  list(x = n,\n",
        "       p = mean(tmp),\n",
        "       q = sd(tmp))\n",
        "}\n",
        "\n",
        "f2(10) # \u52d5\u4f5c\u78ba\u8a8d"
      ],
      "id": "13fc591e-e3d4-4029-967d-73d7c3092454"
    },
    {
      "cell_type": "code",
      "execution_count": null,
      "metadata": {},
      "outputs": [],
      "source": [
        "v <- c(5, 10, 100)\n",
        "v %>% map_dfr(f2)"
      ],
      "id": "1e6cb911-e393-4183-a2ee-31bf562d925e"
    },
    {
      "cell_type": "code",
      "execution_count": null,
      "metadata": {},
      "outputs": [],
      "source": [
        "f3 <- function(x, y) {\n",
        "  tmp <- runif(x, min = 1,\n",
        "                  max = y + 1) %>%\n",
        "    as.integer\n",
        "  list(x = x,\n",
        "       y = y,\n",
        "       p = mean(tmp),\n",
        "       q = sd(tmp))\n",
        "}\n",
        "\n",
        "f3(x = 10, y = 6) # \u52d5\u4f5c\u78ba\u8a8d"
      ],
      "id": "6a171da6-5b6f-4ef2-a612-60eb38d22a34"
    },
    {
      "cell_type": "code",
      "execution_count": null,
      "metadata": {},
      "outputs": [],
      "source": [
        "my_df <- data.frame(\n",
        "  x = c(5, 10, 100,  5, 10, 100),\n",
        "  y = c(6,  6,   6, 12, 12,  12))\n",
        "\n",
        "my_df %>% pmap_dfr(f3)"
      ],
      "id": "3d565e6c-ce40-4ac1-a306-1b9d81964a7e"
    },
    {
      "cell_type": "code",
      "execution_count": null,
      "metadata": {},
      "outputs": [],
      "source": [
        "library(furrr)\n",
        "plan(multisession) # \u6e96\u5099\n",
        "\n",
        "v <- c(5, 10, 100)\n",
        "v %>% future_map_dbl(f1, .options =\n",
        "  furrr_options(seed = TRUE))\n",
        "# \u7d50\u679c\u306f\u5272\u611b"
      ],
      "id": "b8129079-4215-4f08-bdc4-ee77de1df49e"
    },
    {
      "id": "1f360490",
      "cell_type": "markdown",
      "source": "## 3.8 \u305d\u306e\u4ed6",
      "metadata": {}
    },
    {
      "cell_type": "code",
      "execution_count": null,
      "metadata": {},
      "outputs": [],
      "source": [
        "x <- 123\n",
        "typeof(x)"
      ],
      "id": "d3a67da5-7d65-4f69-90cf-086378d3a847"
    },
    {
      "cell_type": "code",
      "execution_count": null,
      "metadata": {},
      "outputs": [],
      "source": [
        "?log\n",
        "# \u3042\u308b\u3044\u306f\n",
        "help(log)"
      ],
      "id": "2b2bc818-a0b4-4f06-94d4-06158c4fcbd9"
    },
    {
      "cell_type": "code",
      "execution_count": null,
      "metadata": {},
      "outputs": [],
      "source": [
        "v <- c(1, NA, 3)\n",
        "v"
      ],
      "id": "76668e81-dc95-4e1a-a715-ffd43cdf05e9"
    },
    {
      "cell_type": "code",
      "execution_count": null,
      "metadata": {},
      "outputs": [],
      "source": [
        "is.na(v[2])\n",
        "\n",
        "v[2] == NA # \u8aa4\u308a"
      ],
      "id": "ee71ac2a-8a90-49dd-a7b2-260a158b0444"
    }
  ],
  "nbformat": 4,
  "nbformat_minor": 5,
  "metadata": {
    "kernelspec": {
      "name": "ir",
      "display_name": "R"
    }
  }
}