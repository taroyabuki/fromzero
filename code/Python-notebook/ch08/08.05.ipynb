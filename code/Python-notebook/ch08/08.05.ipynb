{
 "cells": [
  {
   "cell_type": "markdown",
   "metadata": {},
   "source": [
    "## 8.5 変数選択"
   ]
  },
  {
   "cell_type": "code",
   "execution_count": null,
   "metadata": {},
   "outputs": [],
   "source": [
    "import pandas as pd\n",
    "from sklearn.feature_selection import SequentialFeatureSelector\n",
    "from sklearn.linear_model import LinearRegression\n",
    "from sklearn.model_selection import GridSearchCV, LeaveOneOut\n",
    "from sklearn.pipeline import Pipeline\n",
    "\n",
    "my_url = ('https://raw.githubusercontent.com/taroyabuki'\n",
    "          '/fromzero/master/data/wine.csv')\n",
    "my_data = pd.read_csv(my_url)\n",
    "\n",
    "n = len(my_data)\n",
    "my_data2 = my_data.assign(v1=[i % 2 for i in range(n)],\n",
    "                          v2=[i % 3 for i in range(n)])\n",
    "X, y = my_data2.drop(columns=['LPRICE2']), my_data2['LPRICE2']"
   ]
  },
  {
   "cell_type": "code",
   "execution_count": null,
   "metadata": {},
   "outputs": [],
   "source": [
    "my_sfs = SequentialFeatureSelector(\n",
    "    estimator=LinearRegression(),\n",
    "    direction='forward', # 変数増加法\n",
    "    cv=LeaveOneOut(),\n",
    "    scoring='neg_mean_squared_error')\n",
    "\n",
    "my_pipeline = Pipeline([         # 変数選択の後で再訓練を行うようにする．\n",
    "    ('sfs', my_sfs),             # 変数選択\n",
    "    ('lr', LinearRegression())]) # 回帰分析\n",
    "\n",
    "my_params = {'sfs__n_features_to_select': range(1, 6)} # 選択する変数の上限\n",
    "my_search = GridSearchCV(estimator=my_pipeline,\n",
    "                         param_grid=my_params,\n",
    "                         cv=LeaveOneOut(),\n",
    "                         scoring='neg_mean_squared_error',\n",
    "                         n_jobs=-1).fit(X, y)\n",
    "my_model = my_search.best_estimator_ # 最良のパラメータで再訓練したモデル\n",
    "my_search.best_estimator_.named_steps.sfs.get_support()\n",
    "#> array([ True,  True,  True,  True, False, False])"
   ]
  }
 ],
 "nbformat": 4,
 "nbformat_minor": 5,
 "metadata": {
  "kernelspec": {
   "name": "python3",
   "display_name": "Python 3"
  }
 }
}
