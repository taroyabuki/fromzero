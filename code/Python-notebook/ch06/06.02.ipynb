{
 "cells": [
  {
   "cell_type": "markdown",
   "metadata": {},
   "source": [
    "## 6.2 機械学習のためのデータ\n",
    "\n",
    "### 6.2.1 機械学習を学ぶのに使うデータセット\n",
    "\n",
    "#### 6.2.1.1 教師データあり\n",
    "\n",
    "#### 6.2.1.2 時系列データ（第\\\\ref{時系列予測\n",
    "\n",
    "#### 6.2.1.3 教師データなし（第\\\\ref{教師なし学習\n",
    "\n",
    "### 6.2.2 補足：アヤメのデータ\n",
    "\n",
    "#### 6.2.2.1 R\n",
    "\n",
    "#### 6.2.2.2 Python"
   ]
  },
  {
   "cell_type": "code",
   "execution_count": null,
   "metadata": {},
   "outputs": [],
   "source": [
    "import statsmodels.api as sm\n",
    "iris = sm.datasets.get_rdataset('iris', 'datasets').data\n",
    "iris.head()\n",
    "#>    Sepal.Length  Sepal.Width  Petal.Length  Petal.Width Species\n",
    "#> 0           5.1          3.5           1.4          0.2  setosa\n",
    "# 以下省略"
   ]
  },
  {
   "cell_type": "code",
   "execution_count": null,
   "metadata": {},
   "outputs": [],
   "source": [
    "import seaborn as sns\n",
    "iris = sns.load_dataset('iris')\n",
    "iris.head()\n",
    "#>    sepal_length  sepal_width  petal_length  petal_width species\n",
    "#> 0           5.1          3.5           1.4          0.2  setosa\n",
    "# 以下省略"
   ]
  },
  {
   "cell_type": "code",
   "execution_count": null,
   "metadata": {},
   "outputs": [],
   "source": [
    "import pandas as pd\n",
    "from sklearn.datasets import load_iris\n",
    "tmp = load_iris()\n",
    "iris = pd.DataFrame(tmp.data, columns=tmp.feature_names)\n",
    "iris['target'] = tmp.target_names[tmp.target]\n",
    "iris.head()\n",
    "#>    sepal length (cm)  sepal width (cm)  ...  petal width (cm)  target\n",
    "#> 0                5.1               3.5  ...               0.2  setosa\n",
    "# 以下省略"
   ]
  }
 ],
 "nbformat": 4,
 "nbformat_minor": 5,
 "metadata": {
  "kernelspec": {
   "name": "python3",
   "display_name": "Python 3"
  }
 }
}
