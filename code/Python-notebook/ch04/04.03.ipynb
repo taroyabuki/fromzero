{
 "cells": [
  {
   "cell_type": "markdown",
   "metadata": {},
   "source": [
    "## 4.3 乱数"
   ]
  },
  {
   "cell_type": "code",
   "execution_count": null,
   "metadata": {},
   "outputs": [],
   "source": [
    "import matplotlib.pyplot as plt\n",
    "import numpy as np\n",
    "rng = np.random.default_rng()"
   ]
  },
  {
   "cell_type": "markdown",
   "metadata": {},
   "source": [
    "### 4.3.1 一様乱数（離散）"
   ]
  },
  {
   "cell_type": "code",
   "execution_count": null,
   "metadata": {},
   "outputs": [],
   "source": [
    "x = np.random.choice(\n",
    "    a=range(1, 7), # 1から6\n",
    "    size=10000,    # 乱数の数\n",
    "    replace=True)  # 重複あり\n",
    "# あるいは\n",
    "x = np.random.randint(\n",
    "# あるいは\n",
    "#x = rng.integers(\n",
    "    low=1,      # 最小\n",
    "    high=7,     # 最大+1\n",
    "    size=10000) # 乱数の数\n",
    "\n",
    "plt.hist(x, bins=6) # ヒストグラム"
   ]
  },
  {
   "cell_type": "markdown",
   "metadata": {},
   "source": [
    "### 4.3.2 一様乱数（連続）"
   ]
  },
  {
   "cell_type": "code",
   "execution_count": null,
   "metadata": {},
   "outputs": [],
   "source": [
    "x = np.random.random(size=1000)\n",
    "# あるいは\n",
    "x = rng.random(size=10000)\n",
    "# あるいは\n",
    "x = np.random.uniform(\n",
    "    low=0,     # 最小\n",
    "    high=1,    # 最大\n",
    "    size=1000) # 乱数の数\n",
    "plt.hist(x)"
   ]
  },
  {
   "cell_type": "code",
   "execution_count": null,
   "metadata": {},
   "outputs": [],
   "source": [
    "tmp = np.random.uniform(\n",
    "    low=1,     # 最小\n",
    "    high=7,    # 最大 + 1\n",
    "    size=1000) # 乱数の数\n",
    "x = [int(k) for k in tmp]\n",
    "plt.hist(x, bins=6) # 結果は割愛"
   ]
  },
  {
   "cell_type": "markdown",
   "metadata": {},
   "source": [
    "### 4.3.3 二項乱数"
   ]
  },
  {
   "cell_type": "code",
   "execution_count": null,
   "metadata": {},
   "outputs": [],
   "source": [
    "n = 100\n",
    "p = 0.5\n",
    "r = 10000\n",
    "x = np.random.binomial(\n",
    "# あるいは\n",
    "#x = rng.binomial(\n",
    "    n=n,    # 試行回数\n",
    "    p=p,    # 確率\n",
    "    size=r) # 乱数の数\n",
    "plt.hist(x, bins=max(x) - min(x))"
   ]
  },
  {
   "cell_type": "markdown",
   "metadata": {},
   "source": [
    "### 4.3.4 正規乱数"
   ]
  },
  {
   "cell_type": "code",
   "execution_count": null,
   "metadata": {},
   "outputs": [],
   "source": [
    "r = 10000\n",
    "x = np.random.normal(\n",
    "# あるいは\n",
    "#x = rng.normal(\n",
    "    loc=50,  # 平均\n",
    "    scale=5, # 標準偏差\n",
    "    size=r)  # 乱数の数\n",
    "plt.hist(x, bins=40)"
   ]
  },
  {
   "cell_type": "markdown",
   "metadata": {},
   "source": [
    "#### 4.3.4.1 補足：不偏性の具体例"
   ]
  },
  {
   "cell_type": "code",
   "execution_count": null,
   "metadata": {},
   "outputs": [],
   "source": [
    "import numpy as np\n",
    "import pandas as pd\n",
    "\n",
    "def f(k):\n",
    "    n = 10000\n",
    "    tmp = [g(np.random.normal(size=k, scale=3)) for _ in range(n)]\n",
    "    return pd.Series([k,\n",
    "                      np.mean(tmp),                  # 平均\n",
    "                      np.std(tmp, ddof=1) / n**0.5], # 標準誤差\n",
    "                     index=['k', 'mean', 'se'])"
   ]
  },
  {
   "cell_type": "code",
   "execution_count": null,
   "metadata": {},
   "outputs": [],
   "source": [
    "def g(x):\n",
    "    return np.var(x, ddof=1)\n",
    "pd.Series([10, 20, 30]).apply(f)\n",
    "#>       k      mean        se\n",
    "#> 0  10.0  9.025140  0.042690\n",
    "#> 1  20.0  9.022280  0.029525\n",
    "#> 2  30.0  8.983166  0.023584"
   ]
  },
  {
   "cell_type": "code",
   "execution_count": null,
   "metadata": {},
   "outputs": [],
   "source": [
    "def g(x):\n",
    "    return np.std(x, ddof=1)\n",
    "pd.Series([10, 20, 30]).apply(f)\n",
    "#>       k      mean        se\n",
    "#> 0  10.0  2.923114  0.006983\n",
    "#> 1  20.0  2.961450  0.004811\n",
    "#> 2  30.0  2.968328  0.003977"
   ]
  },
  {
   "cell_type": "code",
   "execution_count": null,
   "metadata": {},
   "outputs": [],
   "source": [
    "from math import gamma\n",
    "\n",
    "def g(x):\n",
    "    n = len(x)\n",
    "    return (np.std(x, ddof=1) *\n",
    "            (np.sqrt((n - 1) / 2) *\n",
    "             gamma((n - 1) / 2) /\n",
    "             gamma(n / 2)))\n",
    "pd.Series([10, 20, 30]).apply(f)\n",
    "#>       k      mean        se\n",
    "#> 0  10.0  3.005788  0.007121\n",
    "#> 1  20.0  3.001857  0.004894\n",
    "#> 2  30.0  2.995965  0.003925"
   ]
  }
 ],
 "nbformat": 4,
 "nbformat_minor": 5,
 "metadata": {
  "kernelspec": {
   "name": "python3",
   "display_name": "Python 3"
  }
 }
}
