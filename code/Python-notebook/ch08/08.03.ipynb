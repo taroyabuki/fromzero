{
 "cells": [
  {
   "cell_type": "markdown",
   "metadata": {},
   "source": [
    "## 8.3 標準化"
   ]
  },
  {
   "cell_type": "code",
   "execution_count": null,
   "metadata": {},
   "outputs": [],
   "source": [
    "import pandas as pd\n",
    "from sklearn.linear_model import LinearRegression\n",
    "from sklearn.pipeline import Pipeline\n",
    "from sklearn.preprocessing import StandardScaler\n",
    "my_url = ('https://raw.githubusercontent.com/taroyabuki'\n",
    "          '/fromzero/master/data/wine.csv')\n",
    "my_data = pd.read_csv(my_url)\n",
    "X, y = my_data.drop(columns=['LPRICE2']), my_data['LPRICE2']\n",
    "\n",
    "# StandardScalerで標準化した結果をデータフレームに戻してから描画する．\n",
    "pd.DataFrame(StandardScaler().fit_transform(X), columns=X.columns\n",
    "            ).boxplot(showmeans=True)"
   ]
  },
  {
   "cell_type": "code",
   "execution_count": null,
   "metadata": {},
   "outputs": [],
   "source": [
    "my_pipeline = Pipeline([\n",
    "    ('sc', StandardScaler()),\n",
    "    ('lr', LinearRegression())])\n",
    "my_pipeline.fit(X, y)"
   ]
  },
  {
   "cell_type": "code",
   "execution_count": null,
   "metadata": {},
   "outputs": [],
   "source": [
    "# 線形回帰の部分だけを取り出す．\n",
    "my_lr = my_pipeline.named_steps.lr\n",
    "my_lr.intercept_\n",
    "#> -1.4517651851851847\n",
    "\n",
    "pd.Series(my_lr.coef_,\n",
    "          index=X.columns)\n",
    "#> WRAIN      0.147741\n",
    "#> DEGREES    0.398724\n",
    "#> HRAIN     -0.276802\n",
    "#> TIME_SV    0.192979\n",
    "#> dtype: float64"
   ]
  },
  {
   "cell_type": "code",
   "execution_count": null,
   "metadata": {},
   "outputs": [],
   "source": [
    "my_test = [[500, 17, 120, 2]]\n",
    "my_pipeline.predict(my_test)\n",
    "#> array([-1.49884253])"
   ]
  }
 ],
 "nbformat": 4,
 "nbformat_minor": 5,
 "metadata": {
  "kernelspec": {
   "name": "python3",
   "display_name": "Python 3"
  }
 }
}
