{
 "cells": [
  {
   "cell_type": "markdown",
   "metadata": {},
   "source": [
    "## 7.2 データの確認"
   ]
  },
  {
   "cell_type": "code",
   "execution_count": null,
   "metadata": {},
   "outputs": [],
   "source": [
    "import statsmodels.api as sm\n",
    "my_data = sm.datasets.get_rdataset('cars', 'datasets').data"
   ]
  },
  {
   "cell_type": "code",
   "execution_count": null,
   "metadata": {},
   "outputs": [],
   "source": [
    "my_data.shape\n",
    "#> (50, 2)"
   ]
  },
  {
   "cell_type": "code",
   "execution_count": null,
   "metadata": {},
   "outputs": [],
   "source": [
    "my_data.head()\n",
    "#>    speed  dist\n",
    "#> 0      4     2\n",
    "#> 1      4    10\n",
    "#> 2      7     4\n",
    "#> 3      7    22\n",
    "#> 4      8    16"
   ]
  },
  {
   "cell_type": "code",
   "execution_count": null,
   "metadata": {},
   "outputs": [],
   "source": [
    "my_data.describe()\n",
    "#>            speed        dist\n",
    "#> count  50.000000   50.000000\n",
    "#> mean   15.400000   42.980000\n",
    "#> std     5.287644   25.769377\n",
    "#> min     4.000000    2.000000\n",
    "#> 25%    12.000000   26.000000\n",
    "#> 50%    15.000000   36.000000\n",
    "#> 75%    19.000000   56.000000\n",
    "#> max    25.000000  120.000000"
   ]
  },
  {
   "cell_type": "code",
   "execution_count": null,
   "metadata": {},
   "outputs": [],
   "source": [
    "my_data.plot(x='speed', style='o')"
   ]
  }
 ],
 "nbformat": 4,
 "nbformat_minor": 5,
 "metadata": {
  "kernelspec": {
   "name": "python3",
   "display_name": "Python 3"
  }
 }
}
