{
 "cells": [
  {
   "cell_type": "markdown",
   "metadata": {},
   "source": [
    "# 04"
   ]
  },
  {
   "cell_type": "code",
   "execution_count": null,
   "metadata": {},
   "outputs": [],
   "source": [
    "# Google Colaboratoryの環境設定\n",
    "options(Ncpus = 2)\n",
    "install.packages(c(\"exactci\", \"ggmosaic\", \"pastecs\", \"psych\", \"vcd\"))"
   ]
  },
  {
   "cell_type": "markdown",
   "metadata": {},
   "source": [
    "## 4.1 記述統計\n",
    "\n",
    "### 4.1.1 平均・分散・標準偏差"
   ]
  },
  {
   "cell_type": "code",
   "execution_count": null,
   "metadata": {},
   "outputs": [],
   "source": [
    "x <- c(165, 170, 175, 180, 185)\n",
    "mean(x) # 平均\n",
    "#> [1] 175"
   ]
  },
  {
   "cell_type": "code",
   "execution_count": null,
   "metadata": {},
   "outputs": [],
   "source": [
    "n <- length(x) # サンプルサイズ\n",
    "sum(x) / n\n",
    "#> [1] 175"
   ]
  },
  {
   "cell_type": "code",
   "execution_count": null,
   "metadata": {},
   "outputs": [],
   "source": [
    "y <- c(173, 174, 175, 176, 177)\n",
    "mean(y)\n",
    "#> [1] 175"
   ]
  },
  {
   "cell_type": "code",
   "execution_count": null,
   "metadata": {},
   "outputs": [],
   "source": [
    "var(x) # xの分散\n",
    "#> [1] 62.5\n",
    "\n",
    "var(y) # yの分散\n",
    "#> [1] 2.5"
   ]
  },
  {
   "cell_type": "code",
   "execution_count": null,
   "metadata": {},
   "outputs": [],
   "source": [
    "sum((x - mean(x))^2) / (n - 1)\n",
    "#> [1] 62.5"
   ]
  },
  {
   "cell_type": "code",
   "execution_count": null,
   "metadata": {},
   "outputs": [],
   "source": [
    "sd(x) # xの標準偏差\n",
    "#> [1] 7.905694\n",
    "\n",
    "sd(y) # yの標準偏差\n",
    "#> [1] 1.581139"
   ]
  },
  {
   "cell_type": "code",
   "execution_count": null,
   "metadata": {},
   "outputs": [],
   "source": [
    "var(x)**0.5 # xの標準偏差\n",
    "#> [1] 7.905694"
   ]
  },
  {
   "cell_type": "code",
   "execution_count": null,
   "metadata": {},
   "outputs": [],
   "source": [
    "psych::describe(x)\n",
    "#>    vars n mean   sd ...\n",
    "#> X1    1 5  175 7.91 ...\n",
    "\n",
    "# あるいは\n",
    "\n",
    "pastecs::stat.desc(x)\n",
    "#>      nbr.val ...   std.dev ...\n",
    "#>    5.0000000 ... 7.9056942 ..."
   ]
  },
  {
   "cell_type": "code",
   "execution_count": null,
   "metadata": {},
   "outputs": [],
   "source": [
    "quantile(x)\n",
    "#>   0%  25%  50%  75% 100%\n",
    "#>  165  170  175  180  185"
   ]
  },
  {
   "cell_type": "markdown",
   "metadata": {},
   "source": [
    "#### 4.1.1.1 不偏分散とその非負の平方根"
   ]
  },
  {
   "cell_type": "code",
   "execution_count": null,
   "metadata": {},
   "outputs": [],
   "source": [
    "x <- c(165, 170, 175, 180, 185)\n",
    "\n",
    "var(x)                # 不偏分散\n",
    "#> [1] 62.5\n",
    "\n",
    "mean((x - mean(x))^2) # 標本分散\n",
    "# あるいは\n",
    "n <- length(x)\n",
    "var(x) * (n - 1) / n  # 標本分散\n",
    "#> [1] 50"
   ]
  },
  {
   "cell_type": "code",
   "execution_count": null,
   "metadata": {},
   "outputs": [],
   "source": [
    "sd(x)                     # √不偏分散\n",
    "#> [1] 7.905694\n",
    "\n",
    "mean((x - mean(x))^2)^0.5 # √標本分散\n",
    "# あるいは\n",
    "sd(x) * sqrt((n - 1) / n) # √標本分散\n",
    "#> [1] 7.071068"
   ]
  },
  {
   "cell_type": "code",
   "execution_count": null,
   "metadata": {},
   "outputs": [],
   "source": [
    "sd(x) / length(x)**0.5\n",
    "#> [1] 3.535534"
   ]
  },
  {
   "cell_type": "markdown",
   "metadata": {},
   "source": [
    "### 4.1.2 データフレームの統計処理"
   ]
  },
  {
   "cell_type": "code",
   "execution_count": null,
   "metadata": {},
   "outputs": [],
   "source": [
    "library(tidyverse)\n",
    "\n",
    "my_df <- data.frame(\n",
    "  name    = c(\"A\", \"B\", \"C\", \"D\"),\n",
    "  english = c( 60,  90,  70,  90),\n",
    "  math    = c( 70,  80,  90, 100),\n",
    "  gender  = c(\"f\", \"m\", \"m\", \"f\"))"
   ]
  },
  {
   "cell_type": "markdown",
   "metadata": {},
   "source": [
    "#### 4.1.2.1 列ごとの集計"
   ]
  },
  {
   "cell_type": "code",
   "execution_count": null,
   "metadata": {},
   "outputs": [],
   "source": [
    "var(my_df$english)\n",
    "#> [1] 225"
   ]
  },
  {
   "cell_type": "code",
   "execution_count": null,
   "metadata": {},
   "outputs": [],
   "source": [
    "# 結果はベクタ\n",
    "my_df[, c(2, 3)] %>% sapply(var)\n",
    "#> english     math\n",
    "#> 225.0000 166.6667\n",
    "\n",
    "# 結果はリスト\n",
    "my_df[, c(2, 3)] %>% lapply(var)\n",
    "#> $english\n",
    "#> [1] 225\n",
    "#>\n",
    "#> $math\n",
    "#> [1] 166.6667\n",
    "\n",
    "# 結果はデータフレーム\n",
    "my_df[, c(2, 3)] %>% # 2, 3列目\n",
    "  summarize(across(  # の\n",
    "    everything(),    # 全ての\n",
    "    var))            # 不偏分散\n",
    "# あるいは\n",
    "my_df %>%              # データフレーム\n",
    "  summarize(across(    # の\n",
    "    where(is.numeric), # 数値の列の\n",
    "    var))              # 不偏分散\n",
    "# あるいは\n",
    "my_df %>%              # データフレーム\n",
    "  summarize(across(    # の\n",
    "    where(is.numeric), # 数値の列の\n",
    "    function(x) { var(x) })) # 不偏分散\n",
    "\n",
    "#>   english     math\n",
    "#> 1     225 166.6667"
   ]
  },
  {
   "cell_type": "code",
   "execution_count": null,
   "metadata": {},
   "outputs": [],
   "source": [
    "psych::describe(my_df)\n",
    "#>         vars n mean    sd ...\n",
    "#> name*      1 4  2.5  1.29 ...\n",
    "#> english    2 4 77.5 15.00 ...\n",
    "#> math       3 4 85.0 12.91 ...\n",
    "#> gender*    4 4  1.5  0.58 ...\n",
    "\n",
    "# あるいは\n",
    "\n",
    "pastecs::stat.desc(my_df)\n",
    "#>          name     english ...\n",
    "#> nbr.val    NA   4.0000000 ...\n",
    "#> nbr.null   NA   0.0000000 ...\n",
    "#> nbr.na     NA   0.0000000 ...\n",
    "#> min        NA  60.0000000 ...\n",
    "#> max        NA  90.0000000 ...\n",
    "# 以下省略"
   ]
  },
  {
   "cell_type": "markdown",
   "metadata": {},
   "source": [
    "#### 4.1.2.2 分割表とグループごとの集計"
   ]
  },
  {
   "cell_type": "code",
   "execution_count": null,
   "metadata": {},
   "outputs": [],
   "source": [
    "table(my_df$gender)\n",
    "\n",
    "#> f m\n",
    "#> 2 2"
   ]
  },
  {
   "cell_type": "code",
   "execution_count": null,
   "metadata": {},
   "outputs": [],
   "source": [
    "my_df2 <- data.frame(\n",
    "  gender = my_df$gender,\n",
    "  excel = my_df$math >= 80)\n",
    "table(my_df2)\n",
    "\n",
    "#>       excel\n",
    "#> gender FALSE TRUE\n",
    "#>      f     1    1\n",
    "#>      m     0    2"
   ]
  },
  {
   "cell_type": "code",
   "execution_count": null,
   "metadata": {},
   "outputs": [],
   "source": [
    "my_df %>% group_by(gender) %>%\n",
    "  summarize(across(\n",
    "    where(is.numeric), mean),\n",
    "    .groups = \"drop\") # グループ化解除\n",
    "\n",
    "#> # A tibble: 2 x 3\n",
    "#>   gender english  math\n",
    "#>   <chr>    <dbl> <dbl>\n",
    "#> 1 f           75    85\n",
    "#> 2 m           80    85"
   ]
  },
  {
   "cell_type": "markdown",
   "metadata": {},
   "source": [
    "## 4.2 データの可視化"
   ]
  },
  {
   "cell_type": "code",
   "execution_count": null,
   "metadata": {},
   "outputs": [],
   "source": [
    "head(iris)\n",
    "#>   Sepal.Length Sepal.Width Petal.Length Petal.Width Species\n",
    "#> 1          5.1         3.5          1.4         0.2  setosa\n",
    "#> 2          4.9         3.0          1.4         0.2  setosa\n",
    "#> 3          4.7         3.2          1.3         0.2  setosa\n",
    "#> 4          4.6         3.1          1.5         0.2  setosa\n",
    "#> 5          5.0         3.6          1.4         0.2  setosa\n",
    "#> 6          5.4         3.9          1.7         0.4  setosa"
   ]
  },
  {
   "cell_type": "markdown",
   "metadata": {},
   "source": [
    "### 4.2.1 ヒストグラム"
   ]
  },
  {
   "cell_type": "code",
   "execution_count": null,
   "metadata": {},
   "outputs": [],
   "source": [
    "hist(iris$Sepal.Length)"
   ]
  },
  {
   "cell_type": "code",
   "execution_count": null,
   "metadata": {},
   "outputs": [],
   "source": [
    "x <- c(10, 20, 30)\n",
    "hist(x, breaks = 2) # 階級数は2"
   ]
  },
  {
   "cell_type": "code",
   "execution_count": null,
   "metadata": {},
   "outputs": [],
   "source": [
    "x <- iris$Sepal.Length\n",
    "tmp <- seq(min(x), max(x),\n",
    "           length.out = 10)\n",
    "hist(x, breaks = tmp, right = FALSE)"
   ]
  },
  {
   "cell_type": "markdown",
   "metadata": {},
   "source": [
    "### 4.2.2 散布図"
   ]
  },
  {
   "cell_type": "code",
   "execution_count": null,
   "metadata": {},
   "outputs": [],
   "source": [
    "plot(iris$Sepal.Length,\n",
    "     iris$Sepal.Width)"
   ]
  },
  {
   "cell_type": "markdown",
   "metadata": {},
   "source": [
    "### 4.2.3 箱ひげ図"
   ]
  },
  {
   "cell_type": "code",
   "execution_count": null,
   "metadata": {},
   "outputs": [],
   "source": [
    "boxplot(iris[, -5])"
   ]
  },
  {
   "cell_type": "markdown",
   "metadata": {},
   "source": [
    "### 4.2.4 棒グラフとエラーバー"
   ]
  },
  {
   "cell_type": "code",
   "execution_count": null,
   "metadata": {},
   "outputs": [],
   "source": [
    "library(tidyverse)\n",
    "my_df <- psych::describe(iris[, -5])\n",
    "my_df %>% select(mean, sd, se)\n",
    "#>              mean   sd   se\n",
    "#> Sepal.Length 5.84 0.83 0.07\n",
    "#> Sepal.Width  3.06 0.44 0.04\n",
    "#> Petal.Length 3.76 1.77 0.14\n",
    "#> Petal.Width  1.20 0.76 0.06"
   ]
  },
  {
   "cell_type": "code",
   "execution_count": null,
   "metadata": {},
   "outputs": [],
   "source": [
    "tmp <- rownames(my_df)\n",
    "my_df %>% ggplot(aes(x = factor(tmp, levels = tmp), y = mean)) +\n",
    "  geom_col() +\n",
    "  geom_errorbar(aes(ymin = mean - se, ymax = mean + se)) +\n",
    "  xlab(NULL)"
   ]
  },
  {
   "cell_type": "code",
   "execution_count": null,
   "metadata": {},
   "outputs": [],
   "source": [
    "my_group <- iris %>% group_by(Species)       # 品種ごとに，\n",
    "\n",
    "my_df <- my_group %>%                        # 各変数の，平均と\n",
    "  summarize(across(everything(), mean)) %>%\n",
    "  pivot_longer(-Species)\n",
    "\n",
    "tmp <- my_group %>%                          # 標準誤差を求める．\n",
    "  summarize(across(everything(), ~ sd(.) / length(.)**0.5)) %>%\n",
    "  pivot_longer(-Species)\n",
    "\n",
    "my_df$se <- tmp$value\n",
    "head(my_df)\n",
    "#> # A tibble: 6 x 4\n",
    "#>   Species    name         value     se\n",
    "#>   <fct>      <chr>        <dbl>  <dbl>\n",
    "#> 1 setosa     Sepal.Length 5.01  0.0498\n",
    "#> 2 setosa     Sepal.Width  3.43  0.0536\n",
    "#> 3 setosa     Petal.Length 1.46  0.0246\n",
    "#> 4 setosa     Petal.Width  0.246 0.0149\n",
    "#> 5 versicolor Sepal.Length 5.94  0.0730\n",
    "#> 6 versicolor Sepal.Width  2.77  0.0444"
   ]
  },
  {
   "cell_type": "code",
   "execution_count": null,
   "metadata": {},
   "outputs": [],
   "source": [
    "my_df %>%\n",
    "  ggplot(aes(x = Species, y = value, fill = name)) +\n",
    "  geom_col(position = \"dodge\") +\n",
    "  geom_errorbar(aes(ymin = value - se, ymax = value + se), position = \"dodge\")"
   ]
  },
  {
   "cell_type": "code",
   "execution_count": null,
   "metadata": {},
   "outputs": [],
   "source": [
    "# 各変数の平均\n",
    "iris %>% pivot_longer(-Species) %>%\n",
    "  ggplot(aes(x = name, y = value)) +\n",
    "  geom_bar(stat = \"summary\", fun = mean) +\n",
    "  stat_summary(geom = \"errorbar\", fun.data = mean_se) +\n",
    "  xlab(NULL)\n",
    "\n",
    "# 各変数の平均（品種ごと）\n",
    "iris %>% pivot_longer(-Species) %>%\n",
    "  ggplot(aes(x = Species, y = value, fill = name)) +\n",
    "  geom_bar(stat = \"summary\", fun = mean, position = \"dodge\") +\n",
    "  stat_summary(geom = \"errorbar\", fun.data = mean_se, position = \"dodge\")"
   ]
  },
  {
   "cell_type": "markdown",
   "metadata": {},
   "source": [
    "### 4.2.5 モザイクプロット"
   ]
  },
  {
   "cell_type": "code",
   "execution_count": null,
   "metadata": {},
   "outputs": [],
   "source": [
    "my_df <- data.frame(\n",
    "  Species = iris$Species,\n",
    "  w_Sepal = iris$Sepal.Width > 3)\n",
    "table(my_df) # 分割表\n",
    "#>             w_Sepal\n",
    "#> Species      FALSE TRUE\n",
    "#>   setosa         8   42\n",
    "#>   versicolor    42    8\n",
    "#>   virginica     33   17\n",
    "\n",
    "mosaicplot(\n",
    "  formula = ~ Species + w_Sepal,\n",
    "  data = my_df)"
   ]
  },
  {
   "cell_type": "code",
   "execution_count": null,
   "metadata": {},
   "outputs": [],
   "source": [
    "library(vcd)\n",
    "vcd::mosaic(formula = ~w_Sepal + Species, data = my_df,\n",
    "            labeling = labeling_values)"
   ]
  },
  {
   "cell_type": "markdown",
   "metadata": {},
   "source": [
    "### 4.2.6 関数のグラフ"
   ]
  },
  {
   "cell_type": "code",
   "execution_count": null,
   "metadata": {},
   "outputs": [],
   "source": [
    "curve(x^3 - x, -2, 2)"
   ]
  },
  {
   "cell_type": "markdown",
   "metadata": {},
   "source": [
    "### 4.2.7 ggplot2 (R)"
   ]
  },
  {
   "cell_type": "code",
   "execution_count": null,
   "metadata": {},
   "outputs": [],
   "source": [
    "x <- iris$Sepal.Length\n",
    "tmp <- seq(min(x), max(x),\n",
    "           length.out = 10)\n",
    "iris %>%\n",
    "  ggplot(aes(x = Sepal.Length)) +\n",
    "  geom_histogram(breaks = tmp,\n",
    "                 closed = \"left\")"
   ]
  },
  {
   "cell_type": "code",
   "execution_count": null,
   "metadata": {},
   "outputs": [],
   "source": [
    "iris %>%\n",
    "  ggplot(aes(x = Sepal.Length,\n",
    "             y = Sepal.Width)) +\n",
    "  geom_point()"
   ]
  },
  {
   "cell_type": "code",
   "execution_count": null,
   "metadata": {},
   "outputs": [],
   "source": [
    "iris %>%\n",
    "  pivot_longer(-Species) %>%\n",
    "  ggplot(aes(\n",
    "    x = factor(name,\n",
    "               levels = names(iris)),\n",
    "    y = value)) +\n",
    "  geom_boxplot() +\n",
    "  xlab(NULL)"
   ]
  },
  {
   "cell_type": "code",
   "execution_count": null,
   "metadata": {},
   "outputs": [],
   "source": [
    "library(ggmosaic)\n",
    "my_df <- data.frame(\n",
    "  Species = iris$Species,\n",
    "  w_Sepal = iris$Sepal.Width > 3)\n",
    "my_df %>%\n",
    "  ggplot() +\n",
    "  geom_mosaic(\n",
    "    aes(x = product(w_Sepal, Species)))"
   ]
  },
  {
   "cell_type": "code",
   "execution_count": null,
   "metadata": {},
   "outputs": [],
   "source": [
    "f <- function(x) { x^3 - x }\n",
    "data.frame(x = c(-2, 2)) %>%\n",
    "  ggplot(aes(x = x)) +\n",
    "  stat_function(fun = f)"
   ]
  },
  {
   "cell_type": "markdown",
   "metadata": {},
   "source": [
    "## 4.3 乱数\n",
    "\n",
    "### 4.3.1 一様乱数（離散）"
   ]
  },
  {
   "cell_type": "code",
   "execution_count": null,
   "metadata": {},
   "outputs": [],
   "source": [
    "x <- sample(x = 1:6,        # 範囲\n",
    "            size = 10000,   # 乱数の数\n",
    "            replace = TRUE) # 重複あり\n",
    "hist(x, breaks = 0:6) # ヒストグラム"
   ]
  },
  {
   "cell_type": "markdown",
   "metadata": {},
   "source": [
    "### 4.3.2 一様乱数（連続）"
   ]
  },
  {
   "cell_type": "code",
   "execution_count": null,
   "metadata": {},
   "outputs": [],
   "source": [
    "x <- runif(min = 0,  # 最小\n",
    "           max = 1,  # 最大\n",
    "           n = 1000) # 乱数の数\n",
    "hist(x)"
   ]
  },
  {
   "cell_type": "code",
   "execution_count": null,
   "metadata": {},
   "outputs": [],
   "source": [
    "x <- as.integer(      # 整数に変換\n",
    "  runif(min = 1,      # 最小\n",
    "        max = 7,      # 最大 + 1\n",
    "        n = 1000))    # 乱数の数\n",
    "hist(x, breaks = 0:6) # 結果は割愛"
   ]
  },
  {
   "cell_type": "markdown",
   "metadata": {},
   "source": [
    "### 4.3.3 二項乱数"
   ]
  },
  {
   "cell_type": "code",
   "execution_count": null,
   "metadata": {},
   "outputs": [],
   "source": [
    "n <- 100\n",
    "p <- 0.5\n",
    "r <- 10000\n",
    "x <- rbinom(size = n, # 試行回数\n",
    "            prob = p, # 確率\n",
    "            n = r)    # 乱数の数\n",
    "hist(x, breaks = max(x) - min(x))"
   ]
  },
  {
   "cell_type": "markdown",
   "metadata": {},
   "source": [
    "### 4.3.4 正規乱数"
   ]
  },
  {
   "cell_type": "code",
   "execution_count": null,
   "metadata": {},
   "outputs": [],
   "source": [
    "r <- 10000\n",
    "x <- rnorm(mean = 50, # 平均\n",
    "           sd = 5,    # 標準偏差\n",
    "           n = r)     # 乱数の数\n",
    "hist(x, breaks = 40)"
   ]
  },
  {
   "cell_type": "markdown",
   "metadata": {},
   "source": [
    "#### 4.3.4.1 補足：不偏性の具体例"
   ]
  },
  {
   "cell_type": "code",
   "execution_count": null,
   "metadata": {},
   "outputs": [],
   "source": [
    "library(tidyverse)\n",
    "\n",
    "f <- function(k) {\n",
    "  n <- 10000\n",
    "  tmp <- replicate(n = n, expr = g(rnorm(n =  k, sd = 3)))\n",
    "  list(k = k,\n",
    "       mean = mean(tmp),       # 平均\n",
    "       se = sd(tmp) / sqrt(n)) # 標準誤差\n",
    "}"
   ]
  },
  {
   "cell_type": "code",
   "execution_count": null,
   "metadata": {},
   "outputs": [],
   "source": [
    "g <- var\n",
    "c(10, 20, 30) %>% map_dfr(f)\n",
    "#> # A tibble: 3 x 3\n",
    "#>       k  mean     se\n",
    "#>   <dbl> <dbl>  <dbl>\n",
    "#> 1    10  8.98 0.0427\n",
    "#> 2    20  8.97 0.0288\n",
    "#> 3    30  9.03 0.0233"
   ]
  },
  {
   "cell_type": "code",
   "execution_count": null,
   "metadata": {},
   "outputs": [],
   "source": [
    "g <- sd\n",
    "c(5, 10, 15, 20) %>% map_dfr(f)\n",
    "#> # A tibble: 3 x 3\n",
    "#>       k  mean      se\n",
    "#>   <dbl> <dbl>   <dbl>\n",
    "#> 1    10  2.92 0.00701\n",
    "#> 2    20  2.95 0.00481\n",
    "#> 3    30  2.97 0.00394"
   ]
  },
  {
   "cell_type": "code",
   "execution_count": null,
   "metadata": {},
   "outputs": [],
   "source": [
    "g <- function(x) {\n",
    "  n <- length(x)\n",
    "  sd(x) *\n",
    "    sqrt((n - 1) / 2) *\n",
    "    gamma((n - 1) / 2) /\n",
    "    gamma(n / 2)\n",
    "}\n",
    "c(10, 20, 30) %>% map_dfr(f)\n",
    "#> # A tibble: 3 x 3\n",
    "#>       k  mean      se\n",
    "#>   <dbl> <dbl>   <dbl>\n",
    "#> 1    10  3.00 0.00717\n",
    "#> 2    20  2.99 0.00488\n",
    "#> 3    30  3.00 0.00396"
   ]
  },
  {
   "cell_type": "markdown",
   "metadata": {},
   "source": [
    "## 4.4 統計的推測\n",
    "\n",
    "### 4.4.1 検定"
   ]
  },
  {
   "cell_type": "code",
   "execution_count": null,
   "metadata": {},
   "outputs": [],
   "source": [
    "library(exactci)\n",
    "library(tidyverse)\n",
    "\n",
    "a <- 0.05                              # 有意水準\n",
    "binom.exact(x = 2,                     # 当たった回数\n",
    "            n = 15,                    # くじを引いた回数\n",
    "            p = 4 / 10,                # 当たる確率（仮説）\n",
    "            plot = TRUE,               # p値の描画（結果は次項に掲載）\n",
    "            conf.level = 1 - a,        # 信頼係数（デフォルト）\n",
    "            tsmethod = \"minlike\",      # p値の定義\n",
    "            alternative = \"two.sided\") # 両側検定（デフォルト）\n",
    "                                       # 左片側検定なら'less'\n",
    "                                       # 右片側検定なら'greater'\n",
    "\n",
    "#>  Exact two-sided binomial test (central method)\n",
    "#>\n",
    "#> data:  2 and 15\n",
    "#> number of successes = 2, number of trials = 15,\n",
    "#> p-value = 0.03646\n",
    "#> alternative hypothesis: true probability of success is not equal to 0.4\n",
    "#> 95 percent confidence interval:\n",
    "#>  0.0242 0.3967\n",
    "#> sample estimates:\n",
    "#> probability of success\n",
    "#>              0.1333333"
   ]
  },
  {
   "cell_type": "markdown",
   "metadata": {},
   "source": [
    "#### 4.4.1.1 補足：p値とは何か"
   ]
  },
  {
   "cell_type": "code",
   "execution_count": null,
   "metadata": {},
   "outputs": [],
   "source": [
    "t <- 4 / 10               # 当たる確率\n",
    "n <- 15                   # くじを引いた回数\n",
    "x <- 0:n                  # 当たった回数\n",
    "my_pr  <- dbinom(x, n, t) # x回当たる確率\n",
    "my_pr2 <- dbinom(2, n, t) # 2回当たる確率\n",
    "\n",
    "my_data <- data.frame(x = x,\n",
    "                      probability = my_pr,\n",
    "                      color = my_pr <= my_pr2) # 当たる確率が，2回当たる確率以下\n",
    "\n",
    "my_data %>% ggplot(aes(x = x, y = probability, color = color)) +\n",
    "  geom_point(size = 3) +\n",
    "  geom_linerange(aes(ymin = 0, ymax = probability), ) + # 垂直線\n",
    "  geom_hline(yintercept = my_pr2) +                     # 水平線\n",
    "  theme(legend.position = \"none\")                       # 凡例を表示しない．"
   ]
  },
  {
   "cell_type": "markdown",
   "metadata": {},
   "source": [
    "### 4.4.2 推定"
   ]
  },
  {
   "cell_type": "code",
   "execution_count": null,
   "metadata": {},
   "outputs": [],
   "source": [
    "# 前項の結果（再掲）\n",
    "#> 95 percent confidence interval:\n",
    "#>  0.0242 0.3967"
   ]
  },
  {
   "cell_type": "code",
   "execution_count": null,
   "metadata": {},
   "outputs": [],
   "source": [
    "# 前項冒頭のコード"
   ]
  },
  {
   "cell_type": "markdown",
   "metadata": {},
   "source": [
    "### 4.4.3 平均の差の検定と推定（t検定）"
   ]
  },
  {
   "cell_type": "code",
   "execution_count": null,
   "metadata": {},
   "outputs": [],
   "source": [
    "X <- c(32.1, 26.2, 27.5, 31.8, 32.1, 31.2, 30.1, 32.4, 32.3, 29.9,\n",
    "       29.6, 26.6, 31.2, 30.9, 29.3)\n",
    "Y <- c(35.4, 34.6, 31.1, 32.4, 33.3, 34.7, 35.3, 34.3, 32.1, 28.3,\n",
    "       33.3, 30.5, 32.6, 33.3, 32.2)\n",
    "\n",
    "t.test(x = X, y = Y,\n",
    "       conf.level = 0.95,         # 信頼係数（デフォルト）\n",
    "       paired = TRUE,             # 対標本である．\n",
    "       alternative = \"two.sided\") # 両側検定（デフォルト）\n",
    "                                  # 左片側検定なら'less'\n",
    "                                  # 右片側検定なら'greater'\n",
    "\n",
    "#>  Paired t-test\n",
    "#>\n",
    "#> data:  X and Y\n",
    "#> t = -4.3694, df = 14, p-value = 0.0006416\n",
    "#> alternative hypothesis: true difference in means is not equal to 0\n",
    "#> 95 percent confidence interval:\n",
    "#>  -3.995525 -1.364475\n",
    "#> sample estimates:\n",
    "#> mean of the differences\n",
    "#>                   -2.68"
   ]
  },
  {
   "cell_type": "code",
   "execution_count": null,
   "metadata": {},
   "outputs": [],
   "source": [
    "t.test(x = X, y = Y,\n",
    "       paired = FALSE,   # 対標本ではない（デフォルト）．\n",
    "       var.equal = TRUE, # 等分散を仮定する．仮定しないならFALSE（デフォルト）．\n",
    "       alternative = \"two.sided\",\n",
    "       conf.level = 0.95)\n",
    "\n",
    "#>  Two Sample t-test\n",
    "#>\n",
    "#> data:  X and Y\n",
    "#> t = -3.6821, df = 28, p-value = 0.0009785\n",
    "#> alternative hypothesis: true difference in means is not equal to 0\n",
    "#> 95 percent confidence interval:\n",
    "#>  -4.170906 -1.189094\n",
    "#> sample estimates:\n",
    "#> mean of x mean of y\n",
    "#>  30.21333  32.89333"
   ]
  },
  {
   "cell_type": "markdown",
   "metadata": {},
   "source": [
    "### 4.4.4 独立性の検定（カイ2乗検定）"
   ]
  },
  {
   "cell_type": "code",
   "execution_count": null,
   "metadata": {},
   "outputs": [],
   "source": [
    "my_url <- str_c(\"https://raw.githubusercontent.com/taroyabuki\",\n",
    "                \"/fromzero/master/data/smoker.csv\")\n",
    "my_data <- read_csv(my_url)"
   ]
  },
  {
   "cell_type": "code",
   "execution_count": null,
   "metadata": {},
   "outputs": [],
   "source": [
    "head(my_data)\n",
    "#>   alive smoker\n",
    "#> 1   Yes     No\n",
    "#> 2   Yes     No\n",
    "#> 3   Yes     No\n",
    "#> 4   Yes     No\n",
    "#> 5   Yes     No\n",
    "#> 6   Yes     No"
   ]
  },
  {
   "cell_type": "code",
   "execution_count": null,
   "metadata": {},
   "outputs": [],
   "source": [
    "my_table <- table(my_data)\n",
    "my_table\n",
    "#>      smoker\n",
    "#> alive  No Yes\n",
    "#>   No  117  54\n",
    "#>   Yes 950 348"
   ]
  },
  {
   "cell_type": "code",
   "execution_count": null,
   "metadata": {},
   "outputs": [],
   "source": [
    "chisq.test(my_table, correct = FALSE)\n",
    "\n",
    "#>  Pearson's Chi-squared test\n",
    "#>\n",
    "#> data:  my_data\n",
    "#> X-squared = 1.7285, df = 1, p-value = 0.1886"
   ]
  },
  {
   "cell_type": "markdown",
   "metadata": {},
   "source": [
    "### 4.4.5 ブートストラップ\n",
    "\n",
    "#### 4.4.5.1 15回引いて2回当たったくじ"
   ]
  },
  {
   "cell_type": "code",
   "execution_count": null,
   "metadata": {},
   "outputs": [],
   "source": [
    "X <- rep(0:1, c(13, 2)) # 手順1\n",
    "X\n",
    "#> [1] 0 0 0 0 0 0 0 0 0 0 0 0 0 1 1\n",
    "\n",
    "tmp <- sample(X, size = length(X), replace = TRUE) # 手順2\n",
    "tmp\n",
    "#> [1] 0 0 1 0 0 0 0 0 0 1 0 1 0 0 0\n",
    "\n",
    "sum(tmp) # 手順3\n",
    "#> [1] 2\n",
    "\n",
    "n <- 10^5\n",
    "result <- replicate(n, sum(sample(X, size = length(X), replace = TRUE))) # 手順4"
   ]
  },
  {
   "cell_type": "code",
   "execution_count": null,
   "metadata": {},
   "outputs": [],
   "source": [
    "hist(x = result, breaks = 0:15,\n",
    "     right = FALSE)"
   ]
  },
  {
   "cell_type": "code",
   "execution_count": null,
   "metadata": {},
   "outputs": [],
   "source": [
    "quantile(result, c(0.025, 0.975))\n",
    "#>  2.5% 97.5%\n",
    "#>     0     5"
   ]
  }
 ],
 "nbformat": 4,
 "nbformat_minor": 5,
 "metadata": {
  "kernelspec": {
   "name": "ir",
   "display_name": "R"
  }
 }
}
