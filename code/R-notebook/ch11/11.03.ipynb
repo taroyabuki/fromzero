{
 "cells": [
  {
   "cell_type": "markdown",
   "metadata": {},
   "source": [
    "## 11.3 MNIST：手書き数字の分類\n",
    "\n",
    "### 11.3.1 データの形式"
   ]
  },
  {
   "cell_type": "code",
   "execution_count": null,
   "metadata": {},
   "outputs": [],
   "source": [
    "library(keras)\n",
    "library(tidyverse)\n",
    "keras::`%<-%`(c(c(x_train, y_train), c(x_test, y_test)), dataset_mnist())"
   ]
  },
  {
   "cell_type": "code",
   "execution_count": null,
   "metadata": {},
   "outputs": [],
   "source": [
    "dim(x_train)\n",
    "#> [1] 60000    28    28"
   ]
  },
  {
   "cell_type": "code",
   "execution_count": null,
   "metadata": {},
   "outputs": [],
   "source": [
    "x_train[5, , ]"
   ]
  },
  {
   "cell_type": "code",
   "execution_count": null,
   "metadata": {},
   "outputs": [],
   "source": [
    "plot(as.raster(x = x_train[5, , ],\n",
    "               max = max(x_train)))"
   ]
  },
  {
   "cell_type": "code",
   "execution_count": null,
   "metadata": {},
   "outputs": [],
   "source": [
    "head(y_train)\n",
    "#> [1] 5 0 4 1 9 2"
   ]
  },
  {
   "cell_type": "code",
   "execution_count": null,
   "metadata": {},
   "outputs": [],
   "source": [
    "c(min(x_train), max(x_train))\n",
    "#> [1]   0 255"
   ]
  },
  {
   "cell_type": "code",
   "execution_count": null,
   "metadata": {},
   "outputs": [],
   "source": [
    "x_train <- x_train / 255\n",
    "x_test  <- x_test  / 255"
   ]
  },
  {
   "cell_type": "code",
   "execution_count": null,
   "metadata": {},
   "outputs": [],
   "source": [
    "my_index <- sample(1:60000, 6000)\n",
    "x_train <- x_train[my_index, , ]\n",
    "y_train <- y_train[my_index]"
   ]
  },
  {
   "cell_type": "markdown",
   "metadata": {},
   "source": [
    "### 11.3.2 多層パーセプトロン"
   ]
  },
  {
   "cell_type": "code",
   "execution_count": null,
   "metadata": {},
   "outputs": [],
   "source": [
    "my_model <- keras_model_sequential() %>%\n",
    "  layer_flatten(input_shape = c(28, 28)) %>%\n",
    "  layer_dense(units = 256, activation = \"relu\") %>%\n",
    "  layer_dense(units = 10, activation = \"softmax\")\n",
    "summary(my_model)\n",
    "# 割愛（Pythonの結果を参照）\n",
    "\n",
    "my_model %>% compile(loss = \"sparse_categorical_crossentropy\",\n",
    "                     optimizer = \"rmsprop\",\n",
    "                     metrics = c(\"accuracy\"))\n",
    "\n",
    "my_cb <- callback_early_stopping(patience = 5,\n",
    "                                 restore_best_weights = TRUE)"
   ]
  },
  {
   "cell_type": "code",
   "execution_count": null,
   "metadata": {},
   "outputs": [],
   "source": [
    "my_history <- my_model %>%\n",
    "  fit(x = x_train,\n",
    "      y = y_train,\n",
    "      validation_split = 0.2,\n",
    "      batch_size = 128,\n",
    "      epochs = 20,\n",
    "      callbacks = list(my_cb),\n",
    "      verbose = 0)\n",
    "\n",
    "plot(my_history)"
   ]
  },
  {
   "cell_type": "code",
   "execution_count": null,
   "metadata": {},
   "outputs": [],
   "source": [
    "tmp <- my_model %>% predict(x_test)\n",
    "y_ <- apply(tmp, 1, which.max) - 1\n",
    "table(y_, y_test)"
   ]
  },
  {
   "cell_type": "code",
   "execution_count": null,
   "metadata": {},
   "outputs": [],
   "source": [
    "#>    y_test\n",
    "#> y_     0    1    2    3    4    5    6    7    8    9\n",
    "#>   0  962    0    8    2    0    6   11    0    8   11\n",
    "#>   1    0 1110    1    0    3    1    3    8    2    4\n",
    "#>   2    0    5  959   13    4    4    2   16    6    1\n",
    "#>   3    1    1   22  958    1   27    0    7   33   13\n",
    "#>   4    2    0    6    1  905    8    6    6    3   14\n",
    "#>   5    5    2    0   12    1  809    9    1   15    4\n",
    "#>   6    6    3    8    0    8   11  922    0    5    1\n",
    "#>   7    1    1    7    7    1    2    0  963    4    8\n",
    "#>   8    2   13   19   13    4   16    5    0  890    5\n",
    "#>   9    1    0    2    4   55    8    0   27    8  948"
   ]
  },
  {
   "cell_type": "code",
   "execution_count": null,
   "metadata": {},
   "outputs": [],
   "source": [
    "mean(y_ == y_test)\n",
    "#> [1] 0.9426000"
   ]
  },
  {
   "cell_type": "code",
   "execution_count": null,
   "metadata": {},
   "outputs": [],
   "source": [
    "my_model %>%\n",
    "  evaluate(x = x_test, y = y_test)\n",
    "#>      loss  accuracy\n",
    "#> 0.2071411 0.9426000"
   ]
  },
  {
   "cell_type": "markdown",
   "metadata": {},
   "source": [
    "### 11.3.3 畳み込みニューラルネットワーク（CNN）"
   ]
  },
  {
   "cell_type": "code",
   "execution_count": null,
   "metadata": {},
   "outputs": [],
   "source": [
    "x_train2d <- x_train %>% array_reshape(c(-1, 28, 28, 1))\n",
    "x_test2d  <- x_test  %>% array_reshape(c(-1, 28, 28, 1))"
   ]
  },
  {
   "cell_type": "markdown",
   "metadata": {},
   "source": [
    "#### 11.3.3.1 単純なCNN"
   ]
  },
  {
   "cell_type": "code",
   "execution_count": null,
   "metadata": {},
   "outputs": [],
   "source": [
    "my_model <- keras_model_sequential() %>%\n",
    "  layer_conv_2d(filters = 32, kernel_size = 3,  # 畳み込み層\n",
    "                activation = \"relu\",\n",
    "                input_shape = c(28, 28, 1)) %>%\n",
    "  layer_max_pooling_2d(pool_size = 2) %>%       # プーリング層\n",
    "  layer_flatten() %>%\n",
    "  layer_dense(units = 128, activation = \"relu\") %>%\n",
    "  layer_dense(units = 10, activation = \"softmax\")\n",
    "\n",
    "summary(my_model)\n",
    "# 割愛（Python の結果を参照）\n",
    "\n",
    "my_model %>% compile(loss = \"sparse_categorical_crossentropy\",\n",
    "                     optimizer = \"rmsprop\",\n",
    "                     metrics = c(\"accuracy\"))\n",
    "\n",
    "my_cb <- callback_early_stopping(patience = 5,\n",
    "                                 restore_best_weights = TRUE)"
   ]
  },
  {
   "cell_type": "code",
   "execution_count": null,
   "metadata": {},
   "outputs": [],
   "source": [
    "my_history <- my_model %>%\n",
    "  fit(x = x_train2d,\n",
    "      y = y_train,\n",
    "      validation_split = 0.2,\n",
    "      batch_size = 128,\n",
    "      epochs = 20,\n",
    "      callbacks = list(my_cb),\n",
    "      verbose = 0)\n",
    "\n",
    "plot(my_history)"
   ]
  },
  {
   "cell_type": "code",
   "execution_count": null,
   "metadata": {},
   "outputs": [],
   "source": [
    "my_model %>%\n",
    "  evaluate(x = x_test2d, y = y_test)\n",
    "#>      loss  accuracy\n",
    "#> 0.1392894 0.9607000"
   ]
  },
  {
   "cell_type": "markdown",
   "metadata": {},
   "source": [
    "#### 11.3.3.2 LeNet"
   ]
  },
  {
   "cell_type": "code",
   "execution_count": null,
   "metadata": {},
   "outputs": [],
   "source": [
    "my_model <- keras_model_sequential() %>%\n",
    "  layer_conv_2d(filters = 20, kernel_size = 5, activation = \"relu\",\n",
    "                input_shape = c(28, 28, 1)) %>%\n",
    "  layer_max_pooling_2d(pool_size = 2, strides = 2) %>%\n",
    "  layer_conv_2d(filters = 50, kernel_size = 5, activation = \"relu\") %>%\n",
    "  layer_max_pooling_2d(pool_size = 2, strides = 2) %>%\n",
    "  layer_dropout(rate = 0.25) %>%\n",
    "  layer_flatten() %>%\n",
    "  layer_dense(units = 500, activation = \"relu\") %>%\n",
    "  layer_dropout(rate = 0.5) %>%\n",
    "  layer_dense(units = 10, activation = \"softmax\")\n",
    "\n",
    "my_model %>% compile(\n",
    "  loss = \"sparse_categorical_crossentropy\",\n",
    "  optimizer = \"rmsprop\",\n",
    "  metrics = c(\"accuracy\"))\n",
    "\n",
    "my_cb <- callback_early_stopping(patience = 5,\n",
    "                                 restore_best_weights = TRUE)"
   ]
  },
  {
   "cell_type": "code",
   "execution_count": null,
   "metadata": {},
   "outputs": [],
   "source": [
    "my_history <- my_model %>%\n",
    "  fit(x = x_train2d,\n",
    "      y = y_train,\n",
    "      validation_split = 0.2,\n",
    "      batch_size = 128,\n",
    "      epochs = 20,\n",
    "      callbacks = list(my_cb),\n",
    "      verbose = 0)\n",
    "\n",
    "plot(my_history)"
   ]
  },
  {
   "cell_type": "code",
   "execution_count": null,
   "metadata": {},
   "outputs": [],
   "source": [
    "my_model %>%\n",
    "  evaluate(x = x_test2d, y = y_test)\n",
    "#>      loss  accuracy\n",
    "#> 0.07309694 0.98060000"
   ]
  },
  {
   "cell_type": "markdown",
   "metadata": {},
   "source": [
    "#### 11.3.3.3 補足：LeNetが自信満々で間違う例"
   ]
  },
  {
   "cell_type": "code",
   "execution_count": null,
   "metadata": {},
   "outputs": [],
   "source": [
    "y_prob <- my_model %>% predict(x_test2d) # カテゴリに属する確率\n",
    "\n",
    "my_result <- data.frame(\n",
    "  y_prob = apply(y_prob, 1, max),           # 確率の最大値\n",
    "  y_     = apply(y_prob, 1, which.max) - 1, # 予測カテゴリ\n",
    "  y      = y_test,                          # 正解\n",
    "  id     = seq_len(length(y_test))) %>%     # 番号\n",
    "  filter(y_ != y) %>%                       # 予測がはずれたものを残す\n",
    "  arrange(desc(y_prob))                     # 確率の大きい順に並び替える"
   ]
  },
  {
   "cell_type": "code",
   "execution_count": null,
   "metadata": {},
   "outputs": [],
   "source": [
    "head(my_result)\n",
    "#>      y_prob y_ y   id\n",
    "#> 1 0.9998116  9 4 2131\n",
    "#> 2 0.9988768  6 5 9730\n",
    "#> 3 0.9986107  3 5 2598\n",
    "#> 4 0.9971705  3 5 2036\n",
    "#> 5 0.9888211  1 6 2655\n",
    "#> 6 0.9857675  0 6 2119"
   ]
  },
  {
   "cell_type": "code",
   "execution_count": null,
   "metadata": {},
   "outputs": [],
   "source": [
    "tmp <- my_result[1:5, ]$id\n",
    "my_labels <- sprintf(\"%s (%s)\",\n",
    "  my_result[1:5, ]$y, tmp)\n",
    "my_fig <- expand.grid(\n",
    "  label = my_labels,\n",
    "  y = 28:1,\n",
    "  x = 1:28)\n",
    "my_fig$z <- as.vector(\n",
    "  x_test[tmp, , ])\n",
    "\n",
    "my_fig %>% ggplot(\n",
    "  aes(x = x, y = y, fill = z)) +\n",
    "  geom_raster() +\n",
    "  coord_fixed() +\n",
    "  theme_void() +\n",
    "  theme(legend.position = \"none\") +\n",
    "  facet_grid(. ~ label)"
   ]
  }
 ],
 "nbformat": 4,
 "nbformat_minor": 5,
 "metadata": {
  "kernelspec": {
   "name": "ir",
   "display_name": "R"
  }
 }
}
