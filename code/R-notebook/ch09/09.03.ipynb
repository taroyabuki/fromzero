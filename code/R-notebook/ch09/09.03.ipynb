{
 "cells": [
  {
   "cell_type": "markdown",
   "metadata": {},
   "source": [
    "## 9.3 正解率\n",
    "\n",
    "### 9.3.1 混同行列"
   ]
  },
  {
   "cell_type": "code",
   "execution_count": null,
   "metadata": {},
   "outputs": [],
   "source": [
    "library(caret)\n",
    "library(tidyverse)\n",
    "my_data <- iris\n",
    "my_model <- train(form = Species ~ ., data = my_data, method = \"rpart2\")\n",
    "\n",
    "y  <- my_data$Species\n",
    "y_ <- my_model %>% predict(my_data)\n",
    "confusionMatrix(data = y_, reference = y)\n",
    "#> Confusion Matrix and Statistics\n",
    "#>\n",
    "#>             Reference\n",
    "#> Prediction   setosa versicolor virginica\n",
    "#>   setosa         50          0         0\n",
    "#>   versicolor      0         49         1\n",
    "#>   virginica       0          5        45\n",
    "# 以下は割愛"
   ]
  },
  {
   "cell_type": "markdown",
   "metadata": {},
   "source": [
    "### 9.3.2 正解率（訓練）"
   ]
  },
  {
   "cell_type": "code",
   "execution_count": null,
   "metadata": {},
   "outputs": [],
   "source": [
    "y  <- my_data$Species\n",
    "y_ <- my_model %>% predict(my_data)\n",
    "mean(y_ == y)\n",
    "#> [1] 0.96"
   ]
  },
  {
   "cell_type": "markdown",
   "metadata": {},
   "source": [
    "### 9.3.3 正解率（検証）"
   ]
  },
  {
   "cell_type": "code",
   "execution_count": null,
   "metadata": {},
   "outputs": [],
   "source": [
    "my_model <- train(form = Species ~ ., data = my_data, method = \"rpart2\",\n",
    "                  trControl = trainControl(method = \"LOOCV\"))\n",
    "my_model$results\n",
    "#>   maxdepth  Accuracy Kappa\n",
    "#> 1        1 0.3333333  0.00\n",
    "#> 2        2 0.9533333  0.93"
   ]
  },
  {
   "cell_type": "markdown",
   "metadata": {},
   "source": [
    "### 9.3.4 パラメータチューニング"
   ]
  },
  {
   "cell_type": "code",
   "execution_count": null,
   "metadata": {},
   "outputs": [],
   "source": [
    "my_model <- train(form = Species ~ ., data = my_data, method = \"rpart2\",\n",
    "                  tuneGrid = data.frame(maxdepth = 1:10),\n",
    "                  trControl = trainControl(method = \"LOOCV\"))\n",
    "my_model$results %>% filter(Accuracy == max(Accuracy))\n",
    "#>   maxdepth  Accuracy Kappa\n",
    "#> 1        2 0.9533333  0.93"
   ]
  },
  {
   "cell_type": "markdown",
   "metadata": {},
   "source": [
    "### 9.3.5 補足：木の複雑さの制限"
   ]
  },
  {
   "cell_type": "code",
   "execution_count": null,
   "metadata": {},
   "outputs": [],
   "source": [
    "# パラメータを与えると正解率（LOOCV）を返す関数\n",
    "my_loocv <- function(maxdepth, minbucket, minsplit) {\n",
    "  my_model <- train(form = Species ~ ., data = my_data, method = \"rpart2\",\n",
    "                    trControl = trainControl(method = \"LOOCV\"),\n",
    "                    tuneGrid = data.frame(maxdepth = maxdepth),\n",
    "                    control = rpart::rpart.control(cp = 0.01,\n",
    "                                                   minbucket = minbucket,\n",
    "                                                   minsplit = minsplit))\n",
    "  list(maxdepth = maxdepth,\n",
    "       minbucket = minbucket,\n",
    "       minsplit = minsplit,\n",
    "       Accuracy = my_model$results$Accuracy)\n",
    "}"
   ]
  },
  {
   "cell_type": "code",
   "execution_count": null,
   "metadata": {},
   "outputs": [],
   "source": [
    "my_params <- expand.grid(\n",
    "  maxdepth = 2:5,\n",
    "  minbucket = 1:7,\n",
    "  minsplit = c(2, 20))\n",
    "\n",
    "library(furrr)\n",
    "plan(multisession) # 並列処理の準備\n",
    "my_results <- my_params %>% future_pmap_dfr(my_loocv, # 実行\n",
    "  .options = furrr_options(seed = TRUE))\n",
    "\n",
    "my_results %>% filter(Accuracy == max(Accuracy)) # 正解率（検証）の最大値\n",
    "#>   maxdepth minbucket minsplit Accuracy\n",
    "#>      <int>     <int>    <dbl>    <dbl>\n",
    "#> 1        3         5        2    0.973\n",
    "#> 2        4         5        2    0.973\n",
    "#> 3        5         5        2    0.973\n",
    "#> 4        3         5       20    0.973\n",
    "#> 5        4         5       20    0.973\n",
    "#> 6        5         5       20    0.973"
   ]
  },
  {
   "cell_type": "code",
   "execution_count": null,
   "metadata": {},
   "outputs": [],
   "source": [
    "my_model <- train(form = Species ~ ., data = my_data, method = \"rpart2\",\n",
    "                  trControl = trainControl(method = \"none\"),\n",
    "                  tuneGrid = data.frame(maxdepth = 3),\n",
    "                  control = rpart::rpart.control(cp = 0.01,\n",
    "                                                 minbucket = 5,\n",
    "                                                 minsplit = 2))"
   ]
  },
  {
   "cell_type": "code",
   "execution_count": null,
   "metadata": {},
   "outputs": [],
   "source": [
    "rpart.plot::rpart.plot(\n",
    "  my_model$finalModel, extra = 1)"
   ]
  }
 ],
 "nbformat": 4,
 "nbformat_minor": 5,
 "metadata": {
  "kernelspec": {
   "name": "ir",
   "display_name": "R"
  }
 }
}
