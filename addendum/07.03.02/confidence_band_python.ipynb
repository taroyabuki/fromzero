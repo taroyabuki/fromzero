{
 "cells": [
  {
   "cell_type": "markdown",
   "id": "c5033804",
   "metadata": {},
   "source": [
    "# 予測値の期待値の信頼区間（Python側からの補足）\n",
    "\n",
    "[前提となる話](README.md)"
   ]
  },
  {
   "cell_type": "markdown",
   "id": "99f36c6c",
   "metadata": {},
   "source": [
    "0. 準備\n",
    "1. **推奨**：線形回帰モデル\n",
    "1. 参考：線形回帰モデル（ブートストラップ）\n",
    "1. **推奨**：線形正規回帰モデル（理論的な結果）\n",
    "1. 参考：線形正規回帰モデル（数式に基づく導出）\n",
    "1. 参考：線形正規回帰モデル（ブートストラップ）"
   ]
  },
  {
   "cell_type": "markdown",
   "id": "c76cc3cc",
   "metadata": {},
   "source": [
    "## 準備\n",
    "\n",
    "Rの`ggplot2::stat_smooth`とPythonの`seaborn.regplot`の違いが際立つように，誤差がxによるようなデータを作ります．ここでは，xが大きくなると誤差が大きくなるようにします．"
   ]
  },
  {
   "cell_type": "code",
   "execution_count": 1,
   "id": "74d47e3d",
   "metadata": {},
   "outputs": [],
   "source": [
    "import numpy as np\n",
    "import pandas as pd\n",
    "import seaborn as sns\n",
    "import statsmodels.api as sm\n",
    "from scipy.stats import t\n",
    "\n",
    "n = 30\n",
    "x = np.arange(1, n + 1)\n",
    "y = 3 * x + 1 + np.random.normal(0, 2 * x)\n",
    "data = pd.DataFrame({'x': x, 'y': y})\n",
    "#data.to_csv('1+3x+N(0,2x).csv', index=False) # 再利用のため"
   ]
  },
  {
   "cell_type": "code",
   "execution_count": 2,
   "id": "85550ce3",
   "metadata": {},
   "outputs": [],
   "source": [
    "url = 'https://raw.githubusercontent.com/taroyabuki/fromzero/main/addendum/07.03.02/1%2B3x%2BN(0%2C2x).csv'\n",
    "data = pd.read_csv(url)\n",
    "x = data.x\n",
    "y = data.y\n",
    "n = len(x)"
   ]
  },
  {
   "cell_type": "markdown",
   "id": "86bef8df",
   "metadata": {},
   "source": [
    "## 1. 線形回帰モデル\n",
    "\n",
    "`seaborn.regplot`で，予測値の期待値の信頼区間を描きます．この結果は，誤差について仮定しない，ブートストラップによるものです．"
   ]
  },
  {
   "cell_type": "code",
   "execution_count": 3,
   "id": "c5f54bc6",
   "metadata": {},
   "outputs": [
    {
     "data": {
      "image/png": "[encoded data removed]",
      "text/plain": [
       "<Figure size 432x288 with 1 Axes>"
      ]
     },
     "metadata": {
      "needs_background": "light"
     },
     "output_type": "display_data"
    }
   ],
   "source": [
    "alpha = 0.99\n",
    "n_boot = 10000\n",
    "\n",
    "ax = sns.regplot(x=x, y=y, ci=100 * alpha, n_boot=n_boot)"
   ]
  },
  {
   "cell_type": "markdown",
   "id": "25acc2d8",
   "metadata": {},
   "source": [
    "次の結果と比べるために，信頼区間の数値データを取得しておきます．"
   ]
  },
  {
   "cell_type": "code",
   "execution_count": 4,
   "id": "8ed51d75",
   "metadata": {},
   "outputs": [
    {
     "data": {
      "text/html": [
       "<div>\n",
       "<style scoped>\n",
       "    .dataframe tbody tr th:only-of-type {\n",
       "        vertical-align: middle;\n",
       "    }\n",
       "\n",
       "    .dataframe tbody tr th {\n",
       "        vertical-align: top;\n",
       "    }\n",
       "\n",
       "    .dataframe thead th {\n",
       "        text-align: right;\n",
       "    }\n",
       "</style>\n",
       "<table border=\"1\" class=\"dataframe\">\n",
       "  <thead>\n",
       "    <tr style=\"text-align: right;\">\n",
       "      <th></th>\n",
       "      <th>x</th>\n",
       "      <th>lower</th>\n",
       "      <th>upper</th>\n",
       "    </tr>\n",
       "  </thead>\n",
       "  <tbody>\n",
       "    <tr>\n",
       "      <th>0</th>\n",
       "      <td>1.000000</td>\n",
       "      <td>-27.055200</td>\n",
       "      <td>16.772646</td>\n",
       "    </tr>\n",
       "    <tr>\n",
       "      <th>1</th>\n",
       "      <td>1.292929</td>\n",
       "      <td>-25.525829</td>\n",
       "      <td>17.266996</td>\n",
       "    </tr>\n",
       "    <tr>\n",
       "      <th>2</th>\n",
       "      <td>1.585859</td>\n",
       "      <td>-23.899662</td>\n",
       "      <td>17.871424</td>\n",
       "    </tr>\n",
       "    <tr>\n",
       "      <th>3</th>\n",
       "      <td>1.878788</td>\n",
       "      <td>-22.215401</td>\n",
       "      <td>18.510453</td>\n",
       "    </tr>\n",
       "    <tr>\n",
       "      <th>4</th>\n",
       "      <td>2.171717</td>\n",
       "      <td>-20.341663</td>\n",
       "      <td>19.148694</td>\n",
       "    </tr>\n",
       "    <tr>\n",
       "      <th>...</th>\n",
       "      <td>...</td>\n",
       "      <td>...</td>\n",
       "      <td>...</td>\n",
       "    </tr>\n",
       "    <tr>\n",
       "      <th>95</th>\n",
       "      <td>28.828283</td>\n",
       "      <td>59.453474</td>\n",
       "      <td>149.458030</td>\n",
       "    </tr>\n",
       "    <tr>\n",
       "      <th>96</th>\n",
       "      <td>29.121212</td>\n",
       "      <td>59.954841</td>\n",
       "      <td>151.234361</td>\n",
       "    </tr>\n",
       "    <tr>\n",
       "      <th>97</th>\n",
       "      <td>29.414141</td>\n",
       "      <td>60.433249</td>\n",
       "      <td>153.027854</td>\n",
       "    </tr>\n",
       "    <tr>\n",
       "      <th>98</th>\n",
       "      <td>29.707071</td>\n",
       "      <td>60.936683</td>\n",
       "      <td>154.813798</td>\n",
       "    </tr>\n",
       "    <tr>\n",
       "      <th>99</th>\n",
       "      <td>30.000000</td>\n",
       "      <td>61.505610</td>\n",
       "      <td>156.598881</td>\n",
       "    </tr>\n",
       "  </tbody>\n",
       "</table>\n",
       "<p>100 rows × 3 columns</p>\n",
       "</div>"
      ],
      "text/plain": [
       "            x      lower       upper\n",
       "0    1.000000 -27.055200   16.772646\n",
       "1    1.292929 -25.525829   17.266996\n",
       "2    1.585859 -23.899662   17.871424\n",
       "3    1.878788 -22.215401   18.510453\n",
       "4    2.171717 -20.341663   19.148694\n",
       "..        ...        ...         ...\n",
       "95  28.828283  59.453474  149.458030\n",
       "96  29.121212  59.954841  151.234361\n",
       "97  29.414141  60.433249  153.027854\n",
       "98  29.707071  60.936683  154.813798\n",
       "99  30.000000  61.505610  156.598881\n",
       "\n",
       "[100 rows x 3 columns]"
      ]
     },
     "execution_count": 4,
     "metadata": {},
     "output_type": "execute_result"
    }
   ],
   "source": [
    "tmp = ax.get_children()[1].get_paths()[0].vertices\n",
    "df = pd.DataFrame(tmp, columns=['x', 'y'])\n",
    "ci1 = df.groupby('x', as_index=False).agg({'y':[min, max]})\n",
    "ci1.columns = ['x', 'lower', 'upper']\n",
    "ci1"
   ]
  },
  {
   "cell_type": "markdown",
   "id": "589df321",
   "metadata": {},
   "source": [
    "## 2. 線形回帰モデル（ブートストラップ）\n",
    "\n",
    "1の結果を再現するために，文献[1]のアルゴリズム6.2を使います．\n",
    "\n",
    "1. $(x_i, y_i)$ を復元抽出してブートストラップ標本を作り，それにフィットする直線から，予測値を求める．\n",
    "1. 大量に求めた予測値の，$100(1\\pm\\alpha)/2$ パーセント点を，信頼区間とする．\n",
    "\n",
    "結果は1と合っています．"
   ]
  },
  {
   "cell_type": "code",
   "execution_count": 5,
   "id": "914c0a6c",
   "metadata": {},
   "outputs": [
    {
     "data": {
      "text/html": [
       "<div>\n",
       "<style scoped>\n",
       "    .dataframe tbody tr th:only-of-type {\n",
       "        vertical-align: middle;\n",
       "    }\n",
       "\n",
       "    .dataframe tbody tr th {\n",
       "        vertical-align: top;\n",
       "    }\n",
       "\n",
       "    .dataframe thead th {\n",
       "        text-align: right;\n",
       "    }\n",
       "</style>\n",
       "<table border=\"1\" class=\"dataframe\">\n",
       "  <thead>\n",
       "    <tr style=\"text-align: right;\">\n",
       "      <th></th>\n",
       "      <th>x</th>\n",
       "      <th>delta_lower</th>\n",
       "      <th>delta_upper</th>\n",
       "    </tr>\n",
       "  </thead>\n",
       "  <tbody>\n",
       "    <tr>\n",
       "      <th>0</th>\n",
       "      <td>1.000000</td>\n",
       "      <td>-0.592542</td>\n",
       "      <td>-0.497515</td>\n",
       "    </tr>\n",
       "    <tr>\n",
       "      <th>1</th>\n",
       "      <td>1.292929</td>\n",
       "      <td>-0.503605</td>\n",
       "      <td>-0.398566</td>\n",
       "    </tr>\n",
       "    <tr>\n",
       "      <th>2</th>\n",
       "      <td>1.585859</td>\n",
       "      <td>-0.456810</td>\n",
       "      <td>-0.389074</td>\n",
       "    </tr>\n",
       "    <tr>\n",
       "      <th>3</th>\n",
       "      <td>1.878788</td>\n",
       "      <td>-0.369557</td>\n",
       "      <td>-0.406389</td>\n",
       "    </tr>\n",
       "    <tr>\n",
       "      <th>4</th>\n",
       "      <td>2.171717</td>\n",
       "      <td>-0.585119</td>\n",
       "      <td>-0.490552</td>\n",
       "    </tr>\n",
       "    <tr>\n",
       "      <th>...</th>\n",
       "      <td>...</td>\n",
       "      <td>...</td>\n",
       "      <td>...</td>\n",
       "    </tr>\n",
       "    <tr>\n",
       "      <th>95</th>\n",
       "      <td>28.828283</td>\n",
       "      <td>0.347030</td>\n",
       "      <td>1.441774</td>\n",
       "    </tr>\n",
       "    <tr>\n",
       "      <th>96</th>\n",
       "      <td>29.121212</td>\n",
       "      <td>0.426412</td>\n",
       "      <td>1.375249</td>\n",
       "    </tr>\n",
       "    <tr>\n",
       "      <th>97</th>\n",
       "      <td>29.414141</td>\n",
       "      <td>0.523993</td>\n",
       "      <td>1.354743</td>\n",
       "    </tr>\n",
       "    <tr>\n",
       "      <th>98</th>\n",
       "      <td>29.707071</td>\n",
       "      <td>0.572193</td>\n",
       "      <td>1.333952</td>\n",
       "    </tr>\n",
       "    <tr>\n",
       "      <th>99</th>\n",
       "      <td>30.000000</td>\n",
       "      <td>0.555161</td>\n",
       "      <td>1.448146</td>\n",
       "    </tr>\n",
       "  </tbody>\n",
       "</table>\n",
       "<p>100 rows × 3 columns</p>\n",
       "</div>"
      ],
      "text/plain": [
       "            x  delta_lower  delta_upper\n",
       "0    1.000000    -0.592542    -0.497515\n",
       "1    1.292929    -0.503605    -0.398566\n",
       "2    1.585859    -0.456810    -0.389074\n",
       "3    1.878788    -0.369557    -0.406389\n",
       "4    2.171717    -0.585119    -0.490552\n",
       "..        ...          ...          ...\n",
       "95  28.828283     0.347030     1.441774\n",
       "96  29.121212     0.426412     1.375249\n",
       "97  29.414141     0.523993     1.354743\n",
       "98  29.707071     0.572193     1.333952\n",
       "99  30.000000     0.555161     1.448146\n",
       "\n",
       "[100 rows x 3 columns]"
      ]
     },
     "execution_count": 5,
     "metadata": {},
     "output_type": "execute_result"
    },
    {
     "data": {
      "text/plain": [
       "<AxesSubplot:xlabel='x', ylabel='y'>"
      ]
     },
     "execution_count": 5,
     "metadata": {},
     "output_type": "execute_result"
    },
    {
     "data": {
      "image/png": "[encoded data removed]",
      "text/plain": [
       "<Figure size 432x288 with 1 Axes>"
      ]
     },
     "metadata": {
      "needs_background": "light"
     },
     "output_type": "display_data"
    }
   ],
   "source": [
    "X = sm.add_constant(x).values # 行列（データ）\n",
    "\n",
    "x0 = ci1.x\n",
    "X0 = sm.add_constant(x0).values # 行列\n",
    "\n",
    "def f():\n",
    "    idx = np.random.choice(a=range(n), size=n, replace=True)\n",
    "    XB = X[idx,]\n",
    "    yB = y[idx]\n",
    "    return X0 @ np.linalg.pinv(XB) @ yB\n",
    "\n",
    "def boot_ci(f):\n",
    "    tmp = np.array([f() for _ in range(n_boot)])\n",
    "    return pd.DataFrame(\n",
    "        [np.quantile(tmp[:, i], [(1 - alpha) / 2, (1 + alpha) / 2])\n",
    "         for i in range(len(x0))], columns=['lower', 'upper']\n",
    "    ).assign(x = x0)\n",
    "\n",
    "ci2 = boot_ci(f)\n",
    "pd.DataFrame({'x': x0,\n",
    "              'delta_lower': ci2.lower - ci1.lower,\n",
    "              'delta_upper': ci2.upper - ci1.upper})\n",
    "\n",
    "ax = sns.regplot(x=x, y=y, ci=100 * alpha, n_boot=n_boot)\n",
    "ci2.plot(x='x', ax=ax)"
   ]
  },
  {
   "cell_type": "markdown",
   "id": "c2c800f6",
   "metadata": {},
   "source": [
    "## 3. 線形正規回帰モデル（理論的な結果）\n",
    "\n",
    "線形正規回帰モデルを仮定した信頼区間を得ます．この結果は，ここで使っているデータには合いません．"
   ]
  },
  {
   "cell_type": "code",
   "execution_count": 6,
   "id": "5118225a",
   "metadata": {},
   "outputs": [
    {
     "data": {
      "text/html": [
       "<div>\n",
       "<style scoped>\n",
       "    .dataframe tbody tr th:only-of-type {\n",
       "        vertical-align: middle;\n",
       "    }\n",
       "\n",
       "    .dataframe tbody tr th {\n",
       "        vertical-align: top;\n",
       "    }\n",
       "\n",
       "    .dataframe thead th {\n",
       "        text-align: right;\n",
       "    }\n",
       "</style>\n",
       "<table border=\"1\" class=\"dataframe\">\n",
       "  <thead>\n",
       "    <tr style=\"text-align: right;\">\n",
       "      <th></th>\n",
       "      <th>mean_ci_lower</th>\n",
       "      <th>mean_ci_upper</th>\n",
       "      <th>x</th>\n",
       "    </tr>\n",
       "  </thead>\n",
       "  <tbody>\n",
       "    <tr>\n",
       "      <th>0</th>\n",
       "      <td>-41.937845</td>\n",
       "      <td>35.823414</td>\n",
       "      <td>1.000000</td>\n",
       "    </tr>\n",
       "    <tr>\n",
       "      <th>1</th>\n",
       "      <td>-40.281281</td>\n",
       "      <td>36.324866</td>\n",
       "      <td>1.292929</td>\n",
       "    </tr>\n",
       "    <tr>\n",
       "      <th>2</th>\n",
       "      <td>-38.627933</td>\n",
       "      <td>36.829534</td>\n",
       "      <td>1.585859</td>\n",
       "    </tr>\n",
       "    <tr>\n",
       "      <th>3</th>\n",
       "      <td>-36.977949</td>\n",
       "      <td>37.337566</td>\n",
       "      <td>1.878788</td>\n",
       "    </tr>\n",
       "    <tr>\n",
       "      <th>4</th>\n",
       "      <td>-35.331487</td>\n",
       "      <td>37.849120</td>\n",
       "      <td>2.171717</td>\n",
       "    </tr>\n",
       "    <tr>\n",
       "      <th>...</th>\n",
       "      <td>...</td>\n",
       "      <td>...</td>\n",
       "      <td>...</td>\n",
       "    </tr>\n",
       "    <tr>\n",
       "      <th>95</th>\n",
       "      <td>62.858244</td>\n",
       "      <td>136.038851</td>\n",
       "      <td>28.828283</td>\n",
       "    </tr>\n",
       "    <tr>\n",
       "      <th>96</th>\n",
       "      <td>63.369798</td>\n",
       "      <td>137.685313</td>\n",
       "      <td>29.121212</td>\n",
       "    </tr>\n",
       "    <tr>\n",
       "      <th>97</th>\n",
       "      <td>63.877831</td>\n",
       "      <td>139.335297</td>\n",
       "      <td>29.414141</td>\n",
       "    </tr>\n",
       "    <tr>\n",
       "      <th>98</th>\n",
       "      <td>64.382498</td>\n",
       "      <td>140.988646</td>\n",
       "      <td>29.707071</td>\n",
       "    </tr>\n",
       "    <tr>\n",
       "      <th>99</th>\n",
       "      <td>64.883951</td>\n",
       "      <td>142.645210</td>\n",
       "      <td>30.000000</td>\n",
       "    </tr>\n",
       "  </tbody>\n",
       "</table>\n",
       "<p>100 rows × 3 columns</p>\n",
       "</div>"
      ],
      "text/plain": [
       "    mean_ci_lower  mean_ci_upper          x\n",
       "0      -41.937845      35.823414   1.000000\n",
       "1      -40.281281      36.324866   1.292929\n",
       "2      -38.627933      36.829534   1.585859\n",
       "3      -36.977949      37.337566   1.878788\n",
       "4      -35.331487      37.849120   2.171717\n",
       "..            ...            ...        ...\n",
       "95      62.858244     136.038851  28.828283\n",
       "96      63.369798     137.685313  29.121212\n",
       "97      63.877831     139.335297  29.414141\n",
       "98      64.382498     140.988646  29.707071\n",
       "99      64.883951     142.645210  30.000000\n",
       "\n",
       "[100 rows x 3 columns]"
      ]
     },
     "execution_count": 6,
     "metadata": {},
     "output_type": "execute_result"
    },
    {
     "data": {
      "text/plain": [
       "<AxesSubplot:xlabel='x', ylabel='y'>"
      ]
     },
     "execution_count": 6,
     "metadata": {},
     "output_type": "execute_result"
    },
    {
     "data": {
      "image/png": "[encoded data removed]",
      "text/plain": [
       "<Figure size 432x288 with 1 Axes>"
      ]
     },
     "metadata": {
      "needs_background": "light"
     },
     "output_type": "display_data"
    }
   ],
   "source": [
    "model = sm.OLS(y, X).fit()\n",
    "tmp = model.get_prediction(X0).summary_frame(alpha=1 - alpha)\n",
    "ci3 = tmp[['mean_ci_lower', 'mean_ci_upper']].assign(x=x0)\n",
    "ci3\n",
    "\n",
    "ax = sns.regplot(x=x, y=y, ci=100 * alpha, n_boot=n_boot)\n",
    "ci3.plot(x='x', ax=ax)"
   ]
  },
  {
   "cell_type": "markdown",
   "id": "fac081b2",
   "metadata": {},
   "source": [
    "## 4. 線形正規回帰モデル（数式に基づく導出）\n",
    "\n",
    "数式（文献[2]の式5.69）に基づいて，3の結果を再現します．"
   ]
  },
  {
   "cell_type": "code",
   "execution_count": 7,
   "id": "381227b9",
   "metadata": {},
   "outputs": [
    {
     "data": {
      "text/html": [
       "<div>\n",
       "<style scoped>\n",
       "    .dataframe tbody tr th:only-of-type {\n",
       "        vertical-align: middle;\n",
       "    }\n",
       "\n",
       "    .dataframe tbody tr th {\n",
       "        vertical-align: top;\n",
       "    }\n",
       "\n",
       "    .dataframe thead th {\n",
       "        text-align: right;\n",
       "    }\n",
       "</style>\n",
       "<table border=\"1\" class=\"dataframe\">\n",
       "  <thead>\n",
       "    <tr style=\"text-align: right;\">\n",
       "      <th></th>\n",
       "      <th>x</th>\n",
       "      <th>delta_lower</th>\n",
       "      <th>delta_upper</th>\n",
       "    </tr>\n",
       "  </thead>\n",
       "  <tbody>\n",
       "    <tr>\n",
       "      <th>0</th>\n",
       "      <td>1.000000</td>\n",
       "      <td>-4.263256e-14</td>\n",
       "      <td>4.263256e-14</td>\n",
       "    </tr>\n",
       "    <tr>\n",
       "      <th>1</th>\n",
       "      <td>1.292929</td>\n",
       "      <td>-3.552714e-14</td>\n",
       "      <td>3.552714e-14</td>\n",
       "    </tr>\n",
       "    <tr>\n",
       "      <th>2</th>\n",
       "      <td>1.585859</td>\n",
       "      <td>-2.842171e-14</td>\n",
       "      <td>2.842171e-14</td>\n",
       "    </tr>\n",
       "    <tr>\n",
       "      <th>3</th>\n",
       "      <td>1.878788</td>\n",
       "      <td>-4.263256e-14</td>\n",
       "      <td>4.263256e-14</td>\n",
       "    </tr>\n",
       "    <tr>\n",
       "      <th>4</th>\n",
       "      <td>2.171717</td>\n",
       "      <td>-3.552714e-14</td>\n",
       "      <td>3.552714e-14</td>\n",
       "    </tr>\n",
       "    <tr>\n",
       "      <th>...</th>\n",
       "      <td>...</td>\n",
       "      <td>...</td>\n",
       "      <td>...</td>\n",
       "    </tr>\n",
       "    <tr>\n",
       "      <th>95</th>\n",
       "      <td>28.828283</td>\n",
       "      <td>2.131628e-14</td>\n",
       "      <td>-2.842171e-14</td>\n",
       "    </tr>\n",
       "    <tr>\n",
       "      <th>96</th>\n",
       "      <td>29.121212</td>\n",
       "      <td>1.421085e-14</td>\n",
       "      <td>-2.842171e-14</td>\n",
       "    </tr>\n",
       "    <tr>\n",
       "      <th>97</th>\n",
       "      <td>29.414141</td>\n",
       "      <td>1.421085e-14</td>\n",
       "      <td>0.000000e+00</td>\n",
       "    </tr>\n",
       "    <tr>\n",
       "      <th>98</th>\n",
       "      <td>29.707071</td>\n",
       "      <td>1.421085e-14</td>\n",
       "      <td>0.000000e+00</td>\n",
       "    </tr>\n",
       "    <tr>\n",
       "      <th>99</th>\n",
       "      <td>30.000000</td>\n",
       "      <td>2.842171e-14</td>\n",
       "      <td>-2.842171e-14</td>\n",
       "    </tr>\n",
       "  </tbody>\n",
       "</table>\n",
       "<p>100 rows × 3 columns</p>\n",
       "</div>"
      ],
      "text/plain": [
       "            x   delta_lower   delta_upper\n",
       "0    1.000000 -4.263256e-14  4.263256e-14\n",
       "1    1.292929 -3.552714e-14  3.552714e-14\n",
       "2    1.585859 -2.842171e-14  2.842171e-14\n",
       "3    1.878788 -4.263256e-14  4.263256e-14\n",
       "4    2.171717 -3.552714e-14  3.552714e-14\n",
       "..        ...           ...           ...\n",
       "95  28.828283  2.131628e-14 -2.842171e-14\n",
       "96  29.121212  1.421085e-14 -2.842171e-14\n",
       "97  29.414141  1.421085e-14  0.000000e+00\n",
       "98  29.707071  1.421085e-14  0.000000e+00\n",
       "99  30.000000  2.842171e-14 -2.842171e-14\n",
       "\n",
       "[100 rows x 3 columns]"
      ]
     },
     "execution_count": 7,
     "metadata": {},
     "output_type": "execute_result"
    },
    {
     "data": {
      "text/plain": [
       "<AxesSubplot:xlabel='x', ylabel='y'>"
      ]
     },
     "execution_count": 7,
     "metadata": {},
     "output_type": "execute_result"
    },
    {
     "data": {
      "text/plain": [
       "<AxesSubplot:xlabel='x', ylabel='y'>"
      ]
     },
     "execution_count": 7,
     "metadata": {},
     "output_type": "execute_result"
    },
    {
     "data": {
      "image/png": "[encoded data removed]",
      "text/plain": [
       "<Figure size 432x288 with 1 Axes>"
      ]
     },
     "metadata": {
      "needs_background": "light"
     },
     "output_type": "display_data"
    }
   ],
   "source": [
    "b = np.linalg.pinv(X) @ y\n",
    "yh = X @ b\n",
    "e = y - yh\n",
    "p = 2\n",
    "s = (e.T @ e / (n - p))**0.5\n",
    "\n",
    "f1 = X0 @ b\n",
    "f2 = (s * t.ppf((1 - alpha) / 2, n - p) *\n",
    "      (X0 @ np.linalg.inv(X.T @ X) @ X0.T).diagonal()**0.5)\n",
    "\n",
    "ci4 = pd.DataFrame({'x': x0, 'lower': f1 + f2, 'upper': f1 - f2})\n",
    "pd.DataFrame({'x': x0,\n",
    "              'delta_lower': ci4.lower - ci3.mean_ci_lower,\n",
    "              'delta_upper': ci4.upper - ci3.mean_ci_upper})\n",
    "\n",
    "ax = sns.regplot(x=x, y=y, ci=False)\n",
    "ci3.plot(x='x', ax=ax)\n",
    "ci4.plot(x='x', ax=ax)"
   ]
  },
  {
   "cell_type": "markdown",
   "id": "ec414d3b",
   "metadata": {},
   "source": [
    "## 5. 線形正規回帰モデル（ブートストラップ）\n",
    "\n",
    "文献[1]のアルゴリズム6.1を使って，3や4の結果をブートストラップで再現します．\n",
    "\n",
    "1. 回帰係数 $\\hat{\\beta}_0, \\hat{\\beta}_1$ を求める．\n",
    "1. 中心化した修正済みの残差から $\\epsilon^*_1,\\dots,\\epsilon^*_n$ を復元抽出する．\n",
    "1. ブートストラップ標本 $Y^*_i=\\hat{\\beta}_0+\\hat{\\beta}_0x_i+\\epsilon^*_i$（$i=1,\\dots,n$）を作り，$(x_i, Y^*_i)$ にフィットする直線から，予測値を求める．\n",
    "1. 大量に求めた予測値の，$100(1\\pm\\alpha)/2$ パーセント点を，信頼区間とする．\n",
    "\n",
    "結果は，理論的に求めたものと，だいたい合っています．"
   ]
  },
  {
   "cell_type": "code",
   "execution_count": 8,
   "id": "451155b8",
   "metadata": {},
   "outputs": [
    {
     "data": {
      "text/html": [
       "<div>\n",
       "<style scoped>\n",
       "    .dataframe tbody tr th:only-of-type {\n",
       "        vertical-align: middle;\n",
       "    }\n",
       "\n",
       "    .dataframe tbody tr th {\n",
       "        vertical-align: top;\n",
       "    }\n",
       "\n",
       "    .dataframe thead th {\n",
       "        text-align: right;\n",
       "    }\n",
       "</style>\n",
       "<table border=\"1\" class=\"dataframe\">\n",
       "  <thead>\n",
       "    <tr style=\"text-align: right;\">\n",
       "      <th></th>\n",
       "      <th>x</th>\n",
       "      <th>delta_lower</th>\n",
       "      <th>delta_upper</th>\n",
       "    </tr>\n",
       "  </thead>\n",
       "  <tbody>\n",
       "    <tr>\n",
       "      <th>0</th>\n",
       "      <td>1.000000</td>\n",
       "      <td>3.572842</td>\n",
       "      <td>1.432186</td>\n",
       "    </tr>\n",
       "    <tr>\n",
       "      <th>1</th>\n",
       "      <td>1.292929</td>\n",
       "      <td>3.396317</td>\n",
       "      <td>1.391962</td>\n",
       "    </tr>\n",
       "    <tr>\n",
       "      <th>2</th>\n",
       "      <td>1.585859</td>\n",
       "      <td>3.433998</td>\n",
       "      <td>1.313414</td>\n",
       "    </tr>\n",
       "    <tr>\n",
       "      <th>3</th>\n",
       "      <td>1.878788</td>\n",
       "      <td>3.459896</td>\n",
       "      <td>1.285344</td>\n",
       "    </tr>\n",
       "    <tr>\n",
       "      <th>4</th>\n",
       "      <td>2.171717</td>\n",
       "      <td>3.389145</td>\n",
       "      <td>1.188512</td>\n",
       "    </tr>\n",
       "    <tr>\n",
       "      <th>...</th>\n",
       "      <td>...</td>\n",
       "      <td>...</td>\n",
       "      <td>...</td>\n",
       "    </tr>\n",
       "    <tr>\n",
       "      <th>95</th>\n",
       "      <td>28.828283</td>\n",
       "      <td>3.480428</td>\n",
       "      <td>0.859678</td>\n",
       "    </tr>\n",
       "    <tr>\n",
       "      <th>96</th>\n",
       "      <td>29.121212</td>\n",
       "      <td>3.514351</td>\n",
       "      <td>1.057811</td>\n",
       "    </tr>\n",
       "    <tr>\n",
       "      <th>97</th>\n",
       "      <td>29.414141</td>\n",
       "      <td>3.496894</td>\n",
       "      <td>1.016727</td>\n",
       "    </tr>\n",
       "    <tr>\n",
       "      <th>98</th>\n",
       "      <td>29.707071</td>\n",
       "      <td>3.441373</td>\n",
       "      <td>0.959278</td>\n",
       "    </tr>\n",
       "    <tr>\n",
       "      <th>99</th>\n",
       "      <td>30.000000</td>\n",
       "      <td>3.507332</td>\n",
       "      <td>0.989668</td>\n",
       "    </tr>\n",
       "  </tbody>\n",
       "</table>\n",
       "<p>100 rows × 3 columns</p>\n",
       "</div>"
      ],
      "text/plain": [
       "            x  delta_lower  delta_upper\n",
       "0    1.000000     3.572842     1.432186\n",
       "1    1.292929     3.396317     1.391962\n",
       "2    1.585859     3.433998     1.313414\n",
       "3    1.878788     3.459896     1.285344\n",
       "4    2.171717     3.389145     1.188512\n",
       "..        ...          ...          ...\n",
       "95  28.828283     3.480428     0.859678\n",
       "96  29.121212     3.514351     1.057811\n",
       "97  29.414141     3.496894     1.016727\n",
       "98  29.707071     3.441373     0.959278\n",
       "99  30.000000     3.507332     0.989668\n",
       "\n",
       "[100 rows x 3 columns]"
      ]
     },
     "execution_count": 8,
     "metadata": {},
     "output_type": "execute_result"
    },
    {
     "data": {
      "text/plain": [
       "<AxesSubplot:xlabel='x', ylabel='y'>"
      ]
     },
     "execution_count": 8,
     "metadata": {},
     "output_type": "execute_result"
    },
    {
     "data": {
      "text/plain": [
       "<AxesSubplot:xlabel='x', ylabel='y'>"
      ]
     },
     "execution_count": 8,
     "metadata": {},
     "output_type": "execute_result"
    },
    {
     "data": {
      "image/png": "[encoded data removed]",
      "text/plain": [
       "<Figure size 432x288 with 1 Axes>"
      ]
     },
     "metadata": {
      "needs_background": "light"
     },
     "output_type": "display_data"
    }
   ],
   "source": [
    "Sxx = sum((x - x.mean())**2)\n",
    "r = (y - yh) / (1 - 1 / n - (x - x.mean())**2 / Sxx)\n",
    "r = r - r.mean()\n",
    "\n",
    "def f():\n",
    "    e_s = np.random.choice(a=r, size=n, replace=True)\n",
    "    y_s = yh + e_s\n",
    "    return X0 @ np.linalg.pinv(X) @ y_s\n",
    "\n",
    "ci5 = boot_ci(f)\n",
    "pd.DataFrame({'x': x0,\n",
    "              'delta_lower': ci5.lower - ci3.mean_ci_lower,\n",
    "              'delta_upper': ci5.upper - ci3.mean_ci_upper})\n",
    "\n",
    "ax = sns.regplot(x=x, y=y, ci=False)\n",
    "ci3.plot(x='x', ax=ax)\n",
    "ci5.plot(x='x', ax=ax)"
   ]
  },
  {
   "cell_type": "markdown",
   "id": "d7f2c1fb",
   "metadata": {},
   "source": [
    "## 参考文献\n",
    "\n",
    "1. 汪金芳, 桜井裕仁. ブートストラップ入門. 共立出版, 2011.\n",
    "1. 佐和隆光. 回帰分析. 朝倉書店, 新装版, 2020."
   ]
  }
 ],
 "metadata": {
  "kernelspec": {
   "display_name": "Python 3",
   "language": "python",
   "name": "python3"
  },
  "language_info": {
   "codemirror_mode": {
    "name": "ipython",
    "version": 3
   },
   "file_extension": ".py",
   "mimetype": "text/x-python",
   "name": "python",
   "nbconvert_exporter": "python",
   "pygments_lexer": "ipython3",
   "version": "3.8.8"
  }
 },
 "nbformat": 4,
 "nbformat_minor": 5
}
