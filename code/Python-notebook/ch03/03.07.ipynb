{
 "cells": [
  {
   "cell_type": "markdown",
   "metadata": {},
   "source": [
    "## 3.7 反復処理"
   ]
  },
  {
   "cell_type": "code",
   "execution_count": null,
   "metadata": {},
   "outputs": [],
   "source": [
    "import numpy as np\n",
    "import pandas as pd"
   ]
  },
  {
   "cell_type": "markdown",
   "metadata": {},
   "source": [
    "### 3.7.1 指定した回数→1次元データ"
   ]
  },
  {
   "cell_type": "code",
   "execution_count": null,
   "metadata": {},
   "outputs": [],
   "source": [
    "def f1(x):\n",
    "    tmp = np.random.random(x)\n",
    "    return np.mean(tmp)\n",
    "\n",
    "f1(10)                # 動作確認\n",
    "#> 0.5427033207230424 # 結果の例"
   ]
  },
  {
   "cell_type": "code",
   "execution_count": null,
   "metadata": {},
   "outputs": [],
   "source": [
    "[f1(10) for i in range(3)]\n",
    "#> [0.4864425069985622,\n",
    "#>  0.4290935578857099,\n",
    "#>  0.535206509631883]"
   ]
  },
  {
   "cell_type": "code",
   "execution_count": null,
   "metadata": {},
   "outputs": [],
   "source": [
    "[f1(10)] * 3\n",
    "#> [0.43725641184595576,\n",
    "#>  0.43725641184595576,\n",
    "#>  0.43725641184595576]"
   ]
  },
  {
   "cell_type": "markdown",
   "metadata": {},
   "source": [
    "### 3.7.2 1次元データ→1次元データ"
   ]
  },
  {
   "cell_type": "code",
   "execution_count": null,
   "metadata": {},
   "outputs": [],
   "source": [
    "v = [5, 10, 100]\n",
    "[f1(x) for x in v] # 方法1\n",
    "#> [0.454, 0.419, 0.552]\n",
    "\n",
    "# あるいは\n",
    "\n",
    "v = pd.Series([5, 10, 100])\n",
    "v.apply(f1)        # 方法2\n",
    "#> 0    0.394206\n",
    "#> 1    0.503949\n",
    "#> 2    0.532698\n",
    "#> dtype: float64"
   ]
  },
  {
   "cell_type": "code",
   "execution_count": null,
   "metadata": {},
   "outputs": [],
   "source": [
    "pd.Series([10] * 3).apply(f1)\n",
    "# 結果は割愛"
   ]
  },
  {
   "cell_type": "markdown",
   "metadata": {},
   "source": [
    "### 3.7.3 1次元データ→データフレーム"
   ]
  },
  {
   "cell_type": "code",
   "execution_count": null,
   "metadata": {},
   "outputs": [],
   "source": [
    "def f2(n):\n",
    "    tmp = np.random.random(n)\n",
    "    return pd.Series([\n",
    "        n,\n",
    "        tmp.mean(),\n",
    "        tmp.std(ddof=1)],\n",
    "        index=['x', 'p', 'q'])\n",
    "\n",
    "f2(10) # 動作確認\n",
    "#> x    10.000000\n",
    "#> p     0.405898 （平均の例）\n",
    "#> q     0.317374 （標準偏差の例）\n",
    "#> dtype: float64"
   ]
  },
  {
   "cell_type": "code",
   "execution_count": null,
   "metadata": {},
   "outputs": [],
   "source": [
    "v = pd.Series([5, 10, 100])\n",
    "v.apply(f2)\n",
    "#>        x         p         q\n",
    "#> 0    5.0  0.507798  0.207970\n",
    "#> 1   10.0  0.687198  0.264427\n",
    "#> 2  100.0  0.487872  0.280743"
   ]
  },
  {
   "cell_type": "markdown",
   "metadata": {},
   "source": [
    "### 3.7.4 データフレーム→データフレーム"
   ]
  },
  {
   "cell_type": "code",
   "execution_count": null,
   "metadata": {},
   "outputs": [],
   "source": [
    "def f3(x, y):\n",
    "    tmp = np.random.random(x) * y\n",
    "    return pd.Series([\n",
    "        x,\n",
    "        y,\n",
    "        tmp.mean(),\n",
    "        tmp.std(ddof=1)],\n",
    "        index=['x', 'y', 'p', 'q'])\n",
    "\n",
    "f3(10, 6) # 動作確認\n",
    "#> x    10.000000\n",
    "#> y     6.000000\n",
    "#> p     2.136413 （平均の例）\n",
    "#> q     1.798755 （標準偏差の例）\n",
    "#> dtype: float64"
   ]
  },
  {
   "cell_type": "code",
   "execution_count": null,
   "metadata": {},
   "outputs": [],
   "source": [
    "my_df = pd.DataFrame({\n",
    "    'x': [5, 10, 100,  5, 10, 100],\n",
    "    'y': [6,  6,   6, 12, 12,  12]})\n",
    "\n",
    "my_df.apply(\n",
    "  lambda row: f3(row['x'], row['y']),\n",
    "  axis=1)\n",
    "# あるいは\n",
    "my_df.apply(lambda row:\n",
    "            f3(*row), axis=1)\n",
    "\n",
    "#>        x     y    p    q\n",
    "#> 0   5.00  6.00 3.37 1.96\n",
    "#> 1  10.00  6.00 1.92 0.95\n",
    "#> 2 100.00  6.00 2.90 1.73\n",
    "#> 3   5.00 12.00 6.82 3.00\n",
    "#> 4  10.00 12.00 7.05 2.42\n",
    "#> 5 100.00 12.00 5.90 3.54"
   ]
  },
  {
   "cell_type": "markdown",
   "metadata": {},
   "source": [
    "### 3.7.5 補足：反復処理の並列化"
   ]
  },
  {
   "cell_type": "code",
   "execution_count": null,
   "metadata": {},
   "outputs": [],
   "source": [
    "from pandarallel import pandarallel\n",
    "pandarallel.initialize() # 準備\n",
    "\n",
    "v = pd.Series([5, 10, 100])\n",
    "v.parallel_apply(f1)\n",
    "# 結果は割愛"
   ]
  }
 ],
 "nbformat": 4,
 "nbformat_minor": 5,
 "metadata": {
  "kernelspec": {
   "name": "python3",
   "display_name": "Python 3"
  }
 }
}
