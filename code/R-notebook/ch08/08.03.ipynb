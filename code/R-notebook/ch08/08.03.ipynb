{
 "cells": [
  {
   "cell_type": "markdown",
   "metadata": {},
   "source": [
    "## 8.3 標準化"
   ]
  },
  {
   "cell_type": "code",
   "execution_count": null,
   "metadata": {},
   "outputs": [],
   "source": [
    "library(caret)\n",
    "library(tidyverse)\n",
    "my_url <- str_c(\"https://raw.githubusercontent.com/taroyabuki\",\n",
    "                \"/fromzero/master/data/wine.csv\")\n",
    "my_data <- read_csv(my_url)\n",
    "\n",
    "my_data %>%\n",
    "  mutate_if(is.numeric, scale) %>% # 数値の列の標準化\n",
    "  pivot_longer(-LPRICE2) %>%\n",
    "  ggplot(aes(x = name, y = value)) +\n",
    "  geom_boxplot() +\n",
    "  stat_summary(fun = mean, geom = \"point\", size = 3) +\n",
    "  xlab(NULL)"
   ]
  },
  {
   "cell_type": "code",
   "execution_count": null,
   "metadata": {},
   "outputs": [],
   "source": [
    "my_model <- train(\n",
    "  form = LPRICE2 ~ .,\n",
    "  data = my_data,\n",
    "  method = \"lm\",\n",
    "  preProcess = c(\"center\", \"scale\"))"
   ]
  },
  {
   "cell_type": "code",
   "execution_count": null,
   "metadata": {},
   "outputs": [],
   "source": [
    "coef(my_model$finalModel) %>%\n",
    "  as.data.frame\n",
    "#>                      .\n",
    "#> (Intercept) -1.4517652\n",
    "#> WRAIN        0.1505557\n",
    "#> DEGREES      0.4063194\n",
    "#> HRAIN       -0.2820746\n",
    "#> TIME_SV      0.1966549"
   ]
  },
  {
   "cell_type": "code",
   "execution_count": null,
   "metadata": {},
   "outputs": [],
   "source": [
    "my_test <- data.frame(\n",
    "  WRAIN = 500, DEGREES = 17,\n",
    "  HRAIN = 120, TIME_SV = 2)\n",
    "my_model %>% predict(my_test)\n",
    "#>         1\n",
    "#> -1.498843"
   ]
  }
 ],
 "nbformat": 4,
 "nbformat_minor": 5,
 "metadata": {
  "kernelspec": {
   "name": "ir",
   "display_name": "R"
  }
 }
}
