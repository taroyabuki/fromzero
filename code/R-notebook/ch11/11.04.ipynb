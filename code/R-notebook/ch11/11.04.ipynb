{
 "cells": [
  {
   "cell_type": "markdown",
   "metadata": {},
   "source": [
    "## 11.4 AutoML\n",
    "\n",
    "### 11.4.1 H2Oの起動と停止"
   ]
  },
  {
   "cell_type": "code",
   "execution_count": null,
   "metadata": {},
   "outputs": [],
   "source": [
    "library(h2o)\n",
    "library(keras)\n",
    "library(tidyverse)\n",
    "\n",
    "h2o.init()\n",
    "h2o.no_progress()\n",
    "# h2o.shutdown(prompt = FALSE) # 停止"
   ]
  },
  {
   "cell_type": "markdown",
   "metadata": {},
   "source": [
    "### 11.4.2 H2Oのデータフレーム"
   ]
  },
  {
   "cell_type": "code",
   "execution_count": null,
   "metadata": {},
   "outputs": [],
   "source": [
    "my_url <- str_c(\"https://raw.githubusercontent.com/taroyabuki\",\n",
    "                \"/fromzero/master/data/wine.csv\")\n",
    "my_data <- read_csv(my_url)\n",
    "my_frame <- as.h2o(my_data) # 通常のデータフレームをH2OFrameに変換する．\n",
    "# あるいは\n",
    "my_frame <- h2o.importFile(my_url, header = TRUE) # データを読み込む．"
   ]
  },
  {
   "cell_type": "code",
   "execution_count": null,
   "metadata": {},
   "outputs": [],
   "source": [
    "my_frame\n",
    "#>    LPRICE2 WRAIN DEGREES HRAIN ...\n",
    "#> 1 -0.99868   600 17.1167   160 ...\n",
    "#> 2 -0.45440   690 16.7333    80 ...\n",
    "#> 3 -0.80796   502 17.1500   130 ...\n",
    "#> 4 -1.50926   420 16.1333   110 ...\n",
    "#> 5 -1.71655   582 16.4167   187 ...\n",
    "#> 6 -0.41800   485 17.4833   187 ...\n",
    "#>\n",
    "#> [27 rows x 5 columns]\n",
    "\n",
    "# 通常のデータフレームに戻す．\n",
    "my_frame %>% as.data.frame %>% head\n",
    "# 結果は割愛（見た目は同じ）"
   ]
  },
  {
   "cell_type": "markdown",
   "metadata": {},
   "source": [
    "### 11.4.3 AutoMLによる回帰"
   ]
  },
  {
   "cell_type": "code",
   "execution_count": null,
   "metadata": {},
   "outputs": [],
   "source": [
    "my_model <- h2o.automl(\n",
    "    y = \"LPRICE2\",\n",
    "    training_frame = my_frame,\n",
    "    max_runtime_secs = 60)"
   ]
  },
  {
   "cell_type": "code",
   "execution_count": null,
   "metadata": {},
   "outputs": [],
   "source": [
    "min(my_model@leaderboard$rmse)\n",
    "#> [1] 0.2922861"
   ]
  },
  {
   "cell_type": "code",
   "execution_count": null,
   "metadata": {},
   "outputs": [],
   "source": [
    "tmp <- my_model %>%\n",
    "  predict(my_frame) %>%\n",
    "  as.data.frame\n",
    "y_ <- tmp$predict\n",
    "y  <- my_data$LPRICE2\n",
    "\n",
    "plot(y, y_)"
   ]
  },
  {
   "cell_type": "markdown",
   "metadata": {},
   "source": [
    "### 11.4.4 AutoMLによる分類"
   ]
  },
  {
   "cell_type": "code",
   "execution_count": null,
   "metadata": {},
   "outputs": [],
   "source": [
    "keras::`%<-%`(c(c(x_train, y_train), c(x_test, y_test)), dataset_mnist())\n",
    "my_index <- sample(1:60000, 6000)\n",
    "x_train <- x_train[my_index, , ]\n",
    "y_train <- y_train[my_index]"
   ]
  },
  {
   "cell_type": "code",
   "execution_count": null,
   "metadata": {},
   "outputs": [],
   "source": [
    "tmp <- x_train %>%\n",
    "  array_reshape(c(-1, 28 * 28)) %>%\n",
    "  as.data.frame\n",
    "tmp$y <- as.factor(y_train)\n",
    "my_train <- as.h2o(tmp)\n",
    "\n",
    "tmp <- x_test %>%\n",
    "  array_reshape(c(-1, 28 * 28)) %>%\n",
    "  as.data.frame\n",
    "my_test <- as.h2o(tmp)"
   ]
  },
  {
   "cell_type": "code",
   "execution_count": null,
   "metadata": {},
   "outputs": [],
   "source": [
    "my_model <- h2o.automl(\n",
    "    y = \"y\",\n",
    "    training_frame = my_train,\n",
    "    max_runtime_secs = 120)"
   ]
  },
  {
   "cell_type": "code",
   "execution_count": null,
   "metadata": {},
   "outputs": [],
   "source": [
    "min(my_model@leaderboard$\n",
    "    mean_per_class_error)\n",
    "#> [1] 0.0806190885648608"
   ]
  },
  {
   "cell_type": "code",
   "execution_count": null,
   "metadata": {},
   "outputs": [],
   "source": [
    "tmp <- my_model %>%\n",
    "  predict(my_test) %>% as.data.frame\n",
    "y_ <- tmp$predict\n",
    "\n",
    "mean(y_ == y_test)\n",
    "#> [1] 0.9306"
   ]
  }
 ],
 "nbformat": 4,
 "nbformat_minor": 5,
 "metadata": {
  "kernelspec": {
   "name": "ir",
   "display_name": "R"
  }
 }
}
