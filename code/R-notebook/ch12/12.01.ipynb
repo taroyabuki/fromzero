{
 "cells": [
  {
   "cell_type": "markdown",
   "metadata": {},
   "source": [
    "## 12.1 日時と日時の列\n",
    "\n",
    "### 12.1.1 日時"
   ]
  },
  {
   "cell_type": "code",
   "execution_count": null,
   "metadata": {},
   "outputs": [],
   "source": [
    "as.POSIXct(\"2021-01-01\")\n",
    "#> [1] \"2021-01-01 JST\""
   ]
  },
  {
   "cell_type": "markdown",
   "metadata": {},
   "source": [
    "### 12.1.2 等間隔の日時"
   ]
  },
  {
   "cell_type": "code",
   "execution_count": null,
   "metadata": {},
   "outputs": [],
   "source": [
    "library(tsibble)\n",
    "\n",
    "seq(from = 2021, to = 2023, by = 1)\n",
    "#> [1] 2021 2022 2023\n",
    "\n",
    "seq(from = yearmonth(\"202101\"), to = yearmonth(\"202103\"), by = 2)\n",
    "#> <yearmonth[2]>\n",
    "#> [1] \"2021 1\" \"2021 3\"\n",
    "\n",
    "seq(from = as.POSIXct(\"2021-01-01\"), to = as.POSIXct(\"2021-01-03\"), by = \"1 day\")\n",
    "#> [1] \"2021-01-01 JST\" \"2021-01-02 JST\" \"2021-01-03 JST\"\n",
    "\n",
    "seq(from = as.POSIXct(\"2021-01-01 00:00:00\"),\n",
    "    to   = as.POSIXct(\"2021-01-01 03:00:00\"), by = \"2 hour\")\n",
    "#> [1] \"2021-01-01 00:00:00 JST\" \"2021-01-01 02:00:00 JST\""
   ]
  }
 ],
 "nbformat": 4,
 "nbformat_minor": 5,
 "metadata": {
  "kernelspec": {
   "name": "ir",
   "display_name": "R"
  }
 }
}
