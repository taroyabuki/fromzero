{
 "cells": [
  {
   "cell_type": "markdown",
   "metadata": {},
   "source": [
    "# 08"
   ]
  },
  {
   "cell_type": "code",
   "execution_count": null,
   "metadata": {},
   "outputs": [],
   "source": [
    "# Google Colaboratoryの環境設定\n",
    "options(Ncpus = 2)\n",
    "install.packages(c(\"caret\", \"ggfortify\", \"glmnet\", \"glmnetUtils\", \"leaps\", \"neuralnet\", \"psych\"))"
   ]
  },
  {
   "cell_type": "markdown",
   "metadata": {},
   "source": [
    "## 8.1 ブドウの生育条件とワインの価格"
   ]
  },
  {
   "cell_type": "code",
   "execution_count": null,
   "metadata": {},
   "outputs": [],
   "source": [
    "library(tidyverse)\n",
    "my_url <- \"http://www.liquidasset.com/winedata.html\"\n",
    "tmp <- read.table(file = my_url,   # 読み込む対象\n",
    "                  header = TRUE,   # 1行目は変数名\n",
    "                  na.string = \".\", # 欠損値を表す文字列\n",
    "                  skip = 62,       # 読み飛ばす行数\n",
    "                  nrows = 38)      # 読み込む行数\n",
    "psych::describe(tmp)\n",
    "#>         vars  n    mean     sd  median trimmed    mad     min     max ...\n",
    "#> OBS        1 38   19.50  11.11   19.50   19.50  14.08    1.00   38.00 ...\n",
    "#> VINT       2 38 1970.50  11.11 1970.50 1970.50  14.08 1952.00 1989.00 ...\n",
    "#> LPRICE2    3 27   -1.45   0.63   -1.51   -1.49   0.72   -2.29    0.00 ...\n",
    "#> WRAIN      4 38  605.00 135.28  586.50  603.06 174.95  376.00  845.00 ...\n",
    "#> DEGREES    5 37   16.52   0.66   16.53   16.55   0.67   14.98   17.65 ...\n",
    "#> HRAIN      6 38  137.00  66.74  120.50  132.19  59.30   38.00  292.00 ...\n",
    "#> TIME_SV    7 38   12.50  11.11   12.50   12.50  14.08   -6.00   31.00 ..."
   ]
  },
  {
   "cell_type": "code",
   "execution_count": null,
   "metadata": {},
   "outputs": [],
   "source": [
    "my_data <- na.omit(tmp[, -c(1, 2)])\n",
    "head(my_data)\n",
    "#>    LPRICE2 WRAIN DEGREES ...\n",
    "#> 1 -0.99868   600 17.1167 ...\n",
    "#> 2 -0.45440   690 16.7333 ...\n",
    "#> 4 -0.80796   502 17.1500 ...\n",
    "#> 6 -1.50926   420 16.1333 ...\n",
    "#> 7 -1.71655   582 16.4167 ...\n",
    "#> 8 -0.41800   485 17.4833 ..."
   ]
  },
  {
   "cell_type": "code",
   "execution_count": null,
   "metadata": {},
   "outputs": [],
   "source": [
    "dim(my_data)\n",
    "#> [1] 27  5"
   ]
  },
  {
   "cell_type": "code",
   "execution_count": null,
   "metadata": {},
   "outputs": [],
   "source": [
    "my_data %>% write_csv(\"wine.csv\")"
   ]
  },
  {
   "cell_type": "code",
   "execution_count": null,
   "metadata": {},
   "outputs": [],
   "source": [
    "#my_data <- read_csv(\"wine.csv\") # 作ったファイルを使う場合\n",
    "my_url <- str_c(\"https://raw.githubusercontent.com/taroyabuki\",\n",
    "                \"/fromzero/master/data/wine.csv\")\n",
    "my_data <- read_csv(my_url)"
   ]
  },
  {
   "cell_type": "markdown",
   "metadata": {},
   "source": [
    "## 8.2 重回帰分析"
   ]
  },
  {
   "cell_type": "code",
   "execution_count": null,
   "metadata": {},
   "outputs": [],
   "source": [
    "library(caret)\n",
    "library(tidyverse)\n",
    "my_url <- str_c(\"https://raw.githubusercontent.com/taroyabuki\",\n",
    "                \"/fromzero/master/data/wine.csv\")\n",
    "my_data <- read_csv(my_url)\n",
    "\n",
    "my_model <- train(form = LPRICE2 ~ WRAIN + DEGREES + HRAIN + TIME_SV,\n",
    "                  data = my_data,\n",
    "                  method = \"lm\",\n",
    "                  trControl = trainControl(method = \"LOOCV\"))"
   ]
  },
  {
   "cell_type": "code",
   "execution_count": null,
   "metadata": {},
   "outputs": [],
   "source": [
    "coef(my_model$finalModel) %>%\n",
    "  as.data.frame\n",
    "#>                         .\n",
    "#> (Intercept) -12.145333577\n",
    "#> WRAIN         0.001166782\n",
    "#> DEGREES       0.616392441\n",
    "#> HRAIN        -0.003860554\n",
    "#> TIME_SV       0.023847413"
   ]
  },
  {
   "cell_type": "code",
   "execution_count": null,
   "metadata": {},
   "outputs": [],
   "source": [
    "my_test <- data.frame(\n",
    "  WRAIN = 500, DEGREES = 17,\n",
    "  HRAIN = 120, TIME_SV = 2)\n",
    "my_model %>% predict(my_test)\n",
    "#>         1\n",
    "#> -1.498843"
   ]
  },
  {
   "cell_type": "code",
   "execution_count": null,
   "metadata": {},
   "outputs": [],
   "source": [
    "y  <- my_data$LPRICE2\n",
    "y_ <- my_model %>% predict(my_data)\n",
    "\n",
    "RMSE(y_, y)\n",
    "#> [1] 0.2586167 # RMSE（訓練）\n",
    "\n",
    "R2(pred = y_, obs = y,\n",
    "   form = \"traditional\")\n",
    "#> [1] 0.8275278 # 決定係数1（訓練）\n",
    "\n",
    "R2(pred = y_, obs = y,\n",
    "   form = \"corr\")\n",
    "#> [1] 0.8275278 # 決定係数6（訓練）"
   ]
  },
  {
   "cell_type": "code",
   "execution_count": null,
   "metadata": {},
   "outputs": [],
   "source": [
    "my_model$results\n",
    "#>   intercept      RMSE  Rsquared       MAE\n",
    "#> 1      TRUE 0.3230043 0.7361273 0.2767282"
   ]
  },
  {
   "cell_type": "markdown",
   "metadata": {},
   "source": [
    "### 8.2.1 補足：行列計算による再現"
   ]
  },
  {
   "cell_type": "code",
   "execution_count": null,
   "metadata": {},
   "outputs": [],
   "source": [
    "M <- my_data[, -1] %>%\n",
    "  mutate(b0 = 1) %>% as.matrix\n",
    "b <- MASS::ginv(M) %*% y\n",
    "matrix(b,\n",
    "       dimnames = list(colnames(M)))\n",
    "#>                  [,1]\n",
    "#> WRAIN     0.001166782\n",
    "#> DEGREES   0.616392441\n",
    "#> HRAIN    -0.003860554\n",
    "#> TIME_SV   0.023847413\n",
    "#> b0      -12.145333577"
   ]
  },
  {
   "cell_type": "markdown",
   "metadata": {},
   "source": [
    "## 8.3 標準化"
   ]
  },
  {
   "cell_type": "code",
   "execution_count": null,
   "metadata": {},
   "outputs": [],
   "source": [
    "library(caret)\n",
    "library(tidyverse)\n",
    "my_url <- str_c(\"https://raw.githubusercontent.com/taroyabuki\",\n",
    "                \"/fromzero/master/data/wine.csv\")\n",
    "my_data <- read_csv(my_url)\n",
    "\n",
    "my_data %>%\n",
    "  mutate_if(is.numeric, scale) %>% # 数値の列の標準化\n",
    "  pivot_longer(-LPRICE2) %>%\n",
    "  ggplot(aes(x = name, y = value)) +\n",
    "  geom_boxplot() +\n",
    "  stat_summary(fun = mean, geom = \"point\", size = 3) +\n",
    "  xlab(NULL)"
   ]
  },
  {
   "cell_type": "code",
   "execution_count": null,
   "metadata": {},
   "outputs": [],
   "source": [
    "my_model <- train(\n",
    "  form = LPRICE2 ~ .,\n",
    "  data = my_data,\n",
    "  method = \"lm\",\n",
    "  preProcess = c(\"center\", \"scale\"))"
   ]
  },
  {
   "cell_type": "code",
   "execution_count": null,
   "metadata": {},
   "outputs": [],
   "source": [
    "coef(my_model$finalModel) %>%\n",
    "  as.data.frame\n",
    "#>                      .\n",
    "#> (Intercept) -1.4517652\n",
    "#> WRAIN        0.1505557\n",
    "#> DEGREES      0.4063194\n",
    "#> HRAIN       -0.2820746\n",
    "#> TIME_SV      0.1966549"
   ]
  },
  {
   "cell_type": "code",
   "execution_count": null,
   "metadata": {},
   "outputs": [],
   "source": [
    "my_test <- data.frame(\n",
    "  WRAIN = 500, DEGREES = 17,\n",
    "  HRAIN = 120, TIME_SV = 2)\n",
    "my_model %>% predict(my_test)\n",
    "#>         1\n",
    "#> -1.498843"
   ]
  },
  {
   "cell_type": "markdown",
   "metadata": {},
   "source": [
    "## 8.4 入力変数の数とモデルの良さ"
   ]
  },
  {
   "cell_type": "code",
   "execution_count": null,
   "metadata": {},
   "outputs": [],
   "source": [
    "library(caret)\n",
    "library(tidyverse)\n",
    "my_url <- str_c(\"https://raw.githubusercontent.com/taroyabuki\",\n",
    "                \"/fromzero/master/data/wine.csv\")\n",
    "my_data <- read_csv(my_url)\n",
    "\n",
    "n <- nrow(my_data)\n",
    "my_data2 <- my_data %>% mutate(v1 = 0:(n - 1) %% 2,\n",
    "                               v2 = 0:(n - 1) %% 3)\n",
    "head(my_data2)\n",
    "#> # A tibble: 6 x 7\n",
    "#>   LPRICE2 WRAIN DEGREES HRAIN TIME_SV    v1    v2\n",
    "#>     <dbl> <dbl>   <dbl> <dbl>   <dbl> <dbl> <dbl>\n",
    "#> 1  -0.999   600    17.1   160      31     0     0\n",
    "#> 2  -0.454   690    16.7    80      30     1     1\n",
    "#> 3  -0.808   502    17.2   130      28     0     2\n",
    "#> 4  -1.51    420    16.1   110      26     1     0\n",
    "#> 5  -1.72    582    16.4   187      25     0     1\n",
    "#> 6  -0.418   485    17.5   187      24     1     2"
   ]
  },
  {
   "cell_type": "code",
   "execution_count": null,
   "metadata": {},
   "outputs": [],
   "source": [
    "my_model2 <- train(form = LPRICE2 ~ ., data = my_data2, method = \"lm\",\n",
    "                   trControl = trainControl(method = \"LOOCV\"))\n",
    "y  <- my_data2$LPRICE2\n",
    "y_ <- my_model2 %>% predict(my_data2)\n",
    "\n",
    "RMSE(y_, y)\n",
    "#> [1] 0.256212 # RMSE（訓練）\n",
    "\n",
    "my_model2$results$RMSE\n",
    "#> [1] 0.3569918 # RMSE（検証）"
   ]
  },
  {
   "cell_type": "markdown",
   "metadata": {},
   "source": [
    "## 8.5 変数選択"
   ]
  },
  {
   "cell_type": "code",
   "execution_count": null,
   "metadata": {},
   "outputs": [],
   "source": [
    "library(caret)\n",
    "library(tidyverse)\n",
    "my_url <- str_c(\"https://raw.githubusercontent.com/taroyabuki\",\n",
    "                \"/fromzero/master/data/wine.csv\")\n",
    "my_data <- read_csv(my_url)\n",
    "n <- nrow(my_data)\n",
    "my_data2 <- my_data %>% mutate(v1 = 0:(n - 1) %% 2,\n",
    "                               v2 = 0:(n - 1) %% 3)"
   ]
  },
  {
   "cell_type": "code",
   "execution_count": null,
   "metadata": {},
   "outputs": [],
   "source": [
    "my_model <- train(form = LPRICE2 ~ .,\n",
    "                  data = my_data2,\n",
    "                  method = \"leapForward\", # 変数増加法\n",
    "                  trControl = trainControl(method = \"LOOCV\"),\n",
    "                  tuneGrid = data.frame(nvmax = 1:6)) # 選択する変数の上限\n",
    "summary(my_model$finalModel)$outmat\n",
    "#>          WRAIN DEGREES HRAIN TIME_SV v1  v2\n",
    "#> 1  ( 1 ) \" \"   \"*\"     \" \"   \" \"     \" \" \" \"\n",
    "#> 2  ( 1 ) \" \"   \"*\"     \"*\"   \" \"     \" \" \" \"\n",
    "#> 3  ( 1 ) \" \"   \"*\"     \"*\"   \"*\"     \" \" \" \"\n",
    "#> 4  ( 1 ) \"*\"   \"*\"     \"*\"   \"*\"     \" \" \" \""
   ]
  },
  {
   "cell_type": "markdown",
   "metadata": {},
   "source": [
    "## 8.6 補足：正則化"
   ]
  },
  {
   "cell_type": "code",
   "execution_count": null,
   "metadata": {},
   "outputs": [],
   "source": [
    "library(caret)\n",
    "library(tidyverse)\n",
    "my_url <- str_c(\"https://raw.githubusercontent.com/taroyabuki\",\n",
    "                \"/fromzero/master/data/wine.csv\")\n",
    "my_data <- read_csv(my_url)"
   ]
  },
  {
   "cell_type": "markdown",
   "metadata": {},
   "source": [
    "### 8.6.1 正則化の実践"
   ]
  },
  {
   "cell_type": "code",
   "execution_count": null,
   "metadata": {},
   "outputs": [],
   "source": [
    "A <- 2\n",
    "B <- 0.1\n",
    "\n",
    "my_model <- train(\n",
    "  form = LPRICE2 ~ .,\n",
    "  data = my_data,\n",
    "  method = \"glmnet\",\n",
    "  standardize = TRUE,\n",
    "  tuneGrid = data.frame(\n",
    "    lambda = A,\n",
    "    alpha = B))"
   ]
  },
  {
   "cell_type": "code",
   "execution_count": null,
   "metadata": {},
   "outputs": [],
   "source": [
    "coef(my_model$finalModel, A)\n",
    "#>                         1\n",
    "#> (Intercept) -2.8015519302\n",
    "#> WRAIN        .\n",
    "#> DEGREES      0.0832910512\n",
    "#> HRAIN       -0.0004147386\n",
    "#> TIME_SV      0.0023104647"
   ]
  },
  {
   "cell_type": "code",
   "execution_count": null,
   "metadata": {},
   "outputs": [],
   "source": [
    "my_test <- data.frame(\n",
    "  WRAIN = 500, DEGREES = 17,\n",
    "  HRAIN = 120, TIME_SV = 2)\n",
    "my_model %>% predict(my_test)\n",
    "#> [1] -1.430752"
   ]
  },
  {
   "cell_type": "markdown",
   "metadata": {},
   "source": [
    "### 8.6.2 ペナルティの強さと係数の関係"
   ]
  },
  {
   "cell_type": "code",
   "execution_count": null,
   "metadata": {},
   "outputs": [],
   "source": [
    "library(ggfortify)\n",
    "library(glmnetUtils)\n",
    "\n",
    "my_data2 <- my_data %>% scale %>%\n",
    "  as.data.frame\n",
    "\n",
    "B <- 0.1\n",
    "\n",
    "glmnet(\n",
    "  form = LPRICE2 ~ .,\n",
    "  data = my_data2,\n",
    "  alpha = B) %>%\n",
    "  autoplot(xvar = \"lambda\") +\n",
    "  xlab(\"log A ( = log lambda)\") +\n",
    "  theme(legend.position = c(0.15, 0.25))"
   ]
  },
  {
   "cell_type": "markdown",
   "metadata": {},
   "source": [
    "### 8.6.3 パラメータの決定"
   ]
  },
  {
   "cell_type": "code",
   "execution_count": null,
   "metadata": {},
   "outputs": [],
   "source": [
    "As <- seq(0, 0.1, length.out = 21)\n",
    "Bs <- seq(0, 0.1, length.out =  6)\n",
    "\n",
    "my_model <- train(\n",
    "  form = LPRICE2 ~ ., data = my_data, method = \"glmnet\", standardize = TRUE,\n",
    "  trControl = trainControl(method = \"LOOCV\"),\n",
    "  tuneGrid = expand.grid(lambda = As, alpha  = Bs))\n",
    "\n",
    "my_model$bestTune\n",
    "#>   alpha lambda\n",
    "#> 8     0  0.035"
   ]
  },
  {
   "cell_type": "code",
   "execution_count": null,
   "metadata": {},
   "outputs": [],
   "source": [
    "tmp <- \"B ( = alpha)\"\n",
    "ggplot(my_model) +\n",
    "  theme(legend.position = c(0, 1), legend.justification = c(0, 1)) +\n",
    "  xlab(\"A ( = lambda)\") +\n",
    "  guides(shape = guide_legend(tmp), color = guide_legend(tmp))"
   ]
  },
  {
   "cell_type": "code",
   "execution_count": null,
   "metadata": {},
   "outputs": [],
   "source": [
    "my_model$results %>%\n",
    "  filter(RMSE == min(RMSE))\n",
    "#>   alpha lambda      RMSE ...\n",
    "#> 1     0 0.0595 0.3117092 ..."
   ]
  },
  {
   "cell_type": "markdown",
   "metadata": {},
   "source": [
    "### 8.6.4 補足：RとPythonで結果を同じにする方法\n",
    "\n",
    "## 8.7 ニューラルネットワーク\n",
    "\n",
    "### 8.7.1 ニューラルネットワークとは何か"
   ]
  },
  {
   "cell_type": "code",
   "execution_count": null,
   "metadata": {},
   "outputs": [],
   "source": [
    "curve(1 / (1 + exp(-x)), -6, 6)"
   ]
  },
  {
   "cell_type": "markdown",
   "metadata": {},
   "source": [
    "### 8.7.2 ニューラルネットワークの訓練"
   ]
  },
  {
   "cell_type": "code",
   "execution_count": null,
   "metadata": {},
   "outputs": [],
   "source": [
    "library(caret)\n",
    "library(tidyverse)\n",
    "my_url <- str_c(\"https://raw.githubusercontent.com/taroyabuki\",\n",
    "                \"/fromzero/master/data/wine.csv\")\n",
    "my_data <- read_csv(my_url)"
   ]
  },
  {
   "cell_type": "code",
   "execution_count": null,
   "metadata": {},
   "outputs": [],
   "source": [
    "my_model <- train(form = LPRICE2 ~ .,\n",
    "                  data = my_data,\n",
    "                  method = \"neuralnet\",              # ニューラルネットワーク\n",
    "                  preProcess = c(\"center\", \"scale\"), # 標準化\n",
    "                  trControl = trainControl(method = \"LOOCV\"))\n",
    "plot(my_model$finalModel) # 訓練済ネットワークの描画"
   ]
  },
  {
   "cell_type": "code",
   "execution_count": null,
   "metadata": {},
   "outputs": [],
   "source": [
    "my_model$results\n",
    "#>   layer1 layer2 layer3      RMSE ...\n",
    "#> 1      1      0      0 0.3504016 ...\n",
    "#> 2      3      0      0 0.4380399 ...\n",
    "#> 3      5      0      0 0.4325535 ..."
   ]
  },
  {
   "cell_type": "markdown",
   "metadata": {},
   "source": [
    "### 8.7.3 ニューラルネットワークのチューニング"
   ]
  },
  {
   "cell_type": "code",
   "execution_count": null,
   "metadata": {},
   "outputs": [],
   "source": [
    "my_model <- train(\n",
    "  form = LPRICE2 ~ .,\n",
    "  data = my_data,\n",
    "  method = \"neuralnet\",\n",
    "  preProcess = c(\"center\", \"scale\"),\n",
    "  trControl = trainControl(method = \"LOOCV\"),\n",
    "  tuneGrid = expand.grid(layer1 = 1:5,\n",
    "                         layer2 = 0:2,\n",
    "                         layer3 = 0))"
   ]
  },
  {
   "cell_type": "code",
   "execution_count": null,
   "metadata": {},
   "outputs": [],
   "source": [
    "my_model$results %>%\n",
    "  filter(RMSE == min(RMSE))\n",
    "#>   layer1 layer2 layer3      RMSE ...\n",
    "#> 1      2      0      0 0.3165704 ..."
   ]
  }
 ],
 "nbformat": 4,
 "nbformat_minor": 5,
 "metadata": {
  "kernelspec": {
   "name": "ir",
   "display_name": "R"
  }
 }
}
